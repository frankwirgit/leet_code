{
 "cells": [
  {
   "cell_type": "code",
   "execution_count": 30,
   "metadata": {},
   "outputs": [
    {
     "name": "stdout",
     "output_type": "stream",
     "text": [
      "{3, 4}\n",
      "{'c': 0, 'a': 1, 't': 2} {'c': 0, 't': 2}\n",
      "True\n",
      "True\n"
     ]
    }
   ],
   "source": [
    "nums= ['cat', 'bat', 'rat', 'drat', 'dart', 'drab']\n",
    "tlen = set(len(n) for n in nums)\n",
    "dic1 = {k:i for i, k in enumerate(nums[0])}\n",
    "dic2 = {k:i for i, k in enumerate(\"c.t\") if k !='.'}\n",
    "print(dic1, dic2)\n",
    "print( not (dic2.keys() - dic1.keys()))\n",
    "print(all(dic1[k] == dic2[k] for k in dic2.keys()))\n",
    "\n",
    "lookup = collections.defaultdict(list)\n"
   ]
  },
  {
   "cell_type": "code",
   "execution_count": 44,
   "metadata": {},
   "outputs": [
    {
     "name": "stdout",
     "output_type": "stream",
     "text": [
      "[(3, [{'c': 0, 'a': 1, 't': 2}, {'b': 0, 'a': 1, 't': 2}, {'r': 0, 'a': 1, 't': 2}]), (4, [{'d': 0, 'r': 1, 'a': 2, 't': 3}, {'d': 0, 'a': 1, 'r': 2, 't': 3}, {'d': 0, 'r': 1, 'a': 2, 'b': 3}])]\n",
      "False\n",
      "True\n",
      "{'c': 0, 't': 2}\n",
      "{'c': 0, 'a': 1, 't': 2}\n",
      "True\n",
      "True\n",
      "{'b': 0, 'a': 1, 't': 2}\n",
      "False\n",
      "True\n",
      "{'r': 0, 'a': 1, 't': 2}\n",
      "False\n",
      "True\n"
     ]
    }
   ],
   "source": [
    "nums= ['cat', 'bat', 'rat', 'drat', 'dart', 'drab']\n",
    "import collections\n",
    "def setup(nums):\n",
    "    nums = sorted(nums, key=lambda x: len(x))\n",
    "    lookup = collections.defaultdict(list)\n",
    "    for n in nums:\n",
    "        dic = {k:i for i, k in enumerate(n)}\n",
    "        lookup[len(n)].append(dic)\n",
    "    return lookup\n",
    "\n",
    "lookup = setup(nums)\n",
    "print([(k, v) for k, v in lookup.items()])\n",
    "\n",
    "n = \"c.t\"\n",
    "print (len(n.replace('.','')) == 0 )\n",
    "\n",
    "print (len(n) in set(lookup.keys()) )\n",
    "\n",
    "dic2 = {k:i for i, k in enumerate(n) if k !='.'}\n",
    "print(dic2)\n",
    "for i in lookup[len(n)]:\n",
    "    print(i)\n",
    "    print( not (dic2.keys() - i.keys()))\n",
    "    print(all(i[k] == dic2[k] for k in dic2.keys() if k in i))\n",
    "            \n",
    "import collections\n",
    "class f1:\n",
    "    dep __init__(self):\n",
    "        self.lookup = collections.defaultdict(list)\n",
    "    \n",
    "    def setup(self,nums):\n",
    "        for n in nums:\n",
    "            dic = {k:i for i, k in enumerate(n)}\n",
    "            self.lookup[len(n)].append(dic)\n",
    "    \n",
    "    def ismatch(self, n):\n",
    "        if len(n) not in self.lookup.keys():\n",
    "            return False\n",
    "        elif len(n.replace('.','')) == 0:\n",
    "            return True\n",
    "        \n",
    "        dic2 = {k:i for i, k in enumerate(n) if k !='.'}\n",
    "        for i in self.lookup[len(n)]:\n",
    "            if not (dic2.keys() - i.keys()) and all(i[k] == dic2[k] for k in dic2.keys() if k in i):\n",
    "                return True\n",
    "        else:\n",
    "            return False\n",
    "        "
   ]
  },
  {
   "cell_type": "code",
   "execution_count": null,
   "metadata": {},
   "outputs": [],
   "source": [
    "import collections\n",
    "class f1:\n",
    "    def __init__(self):\n",
    "        self.lookup = collections.defaultdict(list)\n",
    "        \n",
    "    def SetUp(self, nums):\n",
    "        for n in nums:\n",
    "            dic = dict()\n",
    "            dic = {v: i for i, v enumerate(n)}\n",
    "            self.lookup[len(n)].append(dic)\n",
    "    \n",
    "    def MatchUp(self, word):\n",
    "        if not word:\n",
    "            return False\n",
    "        if len(word) not in self.lookup.keys():\n",
    "            return False\n",
    "        if not word.replace(\".\", \"\"):\n",
    "            return True\n",
    "        dw = {v, i for i, v enumerate(word) if v != \".\"}\n",
    "        for j in self.lookup[len(word)]:\n",
    "            if dw.keys() - j.keys() == 0 and all(dw[k] == j[k] for k in dw.keys() if k in j):\n",
    "                return True\n",
    "            \n",
    "        return False\n",
    "        "
   ]
  },
  {
   "cell_type": "code",
   "execution_count": null,
   "metadata": {},
   "outputs": [],
   "source": []
  },
  {
   "cell_type": "code",
   "execution_count": null,
   "metadata": {},
   "outputs": [],
   "source": [
    "s = [None, 1,None,2,3,None,None,5,None]\n"
   ]
  },
  {
   "cell_type": "code",
   "execution_count": null,
   "metadata": {},
   "outputs": [],
   "source": []
  },
  {
   "cell_type": "code",
   "execution_count": 49,
   "metadata": {},
   "outputs": [
    {
     "name": "stdout",
     "output_type": "stream",
     "text": [
      "True\n",
      "[1, 4, 5, 7]\n",
      "[]\n",
      "[1, 1, 2, 3, 3, 3, 5, 5]\n"
     ]
    }
   ],
   "source": [
    "s = [1,None,2,3,None,None,5,None]\n",
    "t = [i for i in range(len(s)) if s[i] is None]\n",
    "\n",
    "s1 = [None]\n",
    "print(not s1[0])\n",
    "\n",
    "\n",
    "\n",
    "print(t)\n",
    "if not s[0] or not t[0]:\n",
    "    print([])\n",
    "for i in t:\n",
    "    s[i] = s[i-1]\n",
    "print(s)\n",
    "\n",
    "def f2(nums):\n",
    "    if nums is None or nums[0] is None:\n",
    "        return []\n",
    "    t = [i for i in range(len(nums)) if s[i] is None]\n",
    "    for i in t:\n",
    "        s[i] = s[i-1]\n",
    "    return s\n",
    "                          "
   ]
  },
  {
   "cell_type": "code",
   "execution_count": 71,
   "metadata": {},
   "outputs": [
    {
     "name": "stdout",
     "output_type": "stream",
     "text": [
      "Next\n"
     ]
    }
   ],
   "source": [
    "str1 = \"Firstly this is the first string\"\n",
    "str2 = \"Next is the second string\"\n",
    "\n",
    "#print(int(len(''.join(str1.split()))/len(str1.split())))\n",
    "\n",
    "s1, s2 = set(str1.split()), set(str2.split())\n",
    "#print(s1, s2)\n",
    "#print( list(s1 - s2) + list(s2 - s1) )\n",
    "\n",
    "\n",
    "s1 = \"Firstly this is the first string\"\n",
    "s2 = \"Next is the second string\"\n",
    "\n",
    "s1 = \"\"\n",
    "s2 = \"Next\"\n",
    "\n",
    "def f3(s1, s2):\n",
    "    if not s1 or not s2:\n",
    "        return s1 or s2\n",
    "    s1, s2 = set(s1.split()), set(s2.split())\n",
    "    return list(s1 - s2) + list(s2 - s1)\n",
    "\n",
    "print(f3(s1, s2))\n",
    "#print(\"common words\", s1 & s2)"
   ]
  },
  {
   "cell_type": "code",
   "execution_count": 77,
   "metadata": {},
   "outputs": [
    {
     "name": "stdout",
     "output_type": "stream",
     "text": [
      "True\n"
     ]
    }
   ],
   "source": [
    "s1 = [\"\"]\n",
    "print(s1[0]==\"\")"
   ]
  },
  {
   "cell_type": "code",
   "execution_count": null,
   "metadata": {},
   "outputs": [],
   "source": []
  },
  {
   "cell_type": "code",
   "execution_count": null,
   "metadata": {},
   "outputs": [],
   "source": []
  },
  {
   "cell_type": "code",
   "execution_count": 22,
   "metadata": {},
   "outputs": [
    {
     "name": "stdout",
     "output_type": "stream",
     "text": [
      "True\n"
     ]
    }
   ],
   "source": [
    "nums = [1, 2, 5, 5, 8]\n",
    "nums = nums[::-1]\n",
    "print(all( a<=b for a, b in zip(nums, nums[1:])) or all(a>=b for a, b in zip(nums, nums[::1])))"
   ]
  },
  {
   "cell_type": "code",
   "execution_count": 60,
   "metadata": {},
   "outputs": [
    {
     "name": "stdout",
     "output_type": "stream",
     "text": [
      "['m', 'i', 's', 's', 'i', 's', 's', 'i', 'p', 'i']\n",
      "[2, 3, 5, 6]\n",
      "[2, 3, 5, 6]\n"
     ]
    }
   ],
   "source": [
    "strs = \"mississipi\"\n",
    "print(list(strs))\n",
    "print([i for i, v in enumerate(list(strs)) if v == \"s\"])\n",
    "print([i for i in range(len(strs)) if strs[i] == 's'])"
   ]
  },
  {
   "cell_type": "code",
   "execution_count": null,
   "metadata": {},
   "outputs": [],
   "source": [
    "def shortestToChar(self, S, C):\n",
    "        n = len(S)\n",
    "        res = [n] * n\n",
    "        pos = -n\n",
    "        for i in range(n) + range(n)[::-1]:\n",
    "            if S[i] == C: pos = i\n",
    "            res[i] = min(res[i], abs(i - pos))\n",
    "        return res"
   ]
  },
  {
   "cell_type": "code",
   "execution_count": null,
   "metadata": {},
   "outputs": [],
   "source": []
  },
  {
   "cell_type": "code",
   "execution_count": null,
   "metadata": {},
   "outputs": [],
   "source": []
  },
  {
   "cell_type": "code",
   "execution_count": 54,
   "metadata": {},
   "outputs": [
    {
     "name": "stdout",
     "output_type": "stream",
     "text": [
      "['A', 'B']\n",
      "['A', 'C']\n",
      "['B', 'D']\n",
      "['B', 'C']\n",
      "['R', 'M']\n",
      "['S']\n",
      "['P']\n",
      "['A']\n",
      "defaultdict(<class 'list'>, {'A': ['B', 'C'], 'B': ['A', 'D', 'C'], 'C': ['A', 'B'], 'D': ['B'], 'R': ['M'], 'M': ['R']})\n",
      "p {'A', 'D', 'S', 'C', 'P', 'R', 'B', 'M'}\n",
      "{'A': 2, 'D': 1, 'S': 0, 'C': 2, 'P': 0, 'R': 1, 'B': 3, 'M': 1}\n"
     ]
    }
   ],
   "source": [
    "rel = [['A','B'],['A','C'],['B','D'],['B','C'],['R','M'], ['S'], ['P'], ['A']]\n",
    "import collections\n",
    "dic = collections.defaultdict(list)\n",
    "\n",
    "\n",
    "for n in rel:\n",
    "    print(n)\n",
    "    if len(n) > 1:\n",
    "        dic[n[0]].append(n[1])\n",
    "        dic[n[1]].append(n[0])\n",
    "    \n",
    "print(dic)\n",
    "\n",
    "p = set([v for r in rel for v in r])\n",
    "print(\"p\", p)\n",
    "\n",
    "res = dict()\n",
    "for t in set(p):\n",
    "    if t in dic:\n",
    "        res[t] = len(set(dic[t]))\n",
    "    else:\n",
    "        res[t] = 0\n",
    "print(res)\n",
    "\n",
    "#print([(k, len(set(v))) for k, v in dic.items()])\n",
    "\n",
    "import collections\n",
    "def f4(nums):\n",
    "    if not nums:\n",
    "        return []\n",
    "    dic = collections.defaultdict(list)\n",
    "    res = []\n",
    "    for n in nums:\n",
    "        if len(n) > 1:\n",
    "            dic[n[0]].append(n[1])\n",
    "            dic[n[1]].append(n[0])\n",
    "    p = set([v for n in nums for v in n])\n",
    "    \n",
    "    for i in p:\n",
    "        if i in dic:\n",
    "            res[i] = len(set(dic[i]))\n",
    "        else:\n",
    "            res[i] = 0\n",
    "    return i\n",
    "\n"
   ]
  },
  {
   "cell_type": "code",
   "execution_count": 58,
   "metadata": {},
   "outputs": [
    {
     "name": "stdout",
     "output_type": "stream",
     "text": [
      "R M {'A': 'B', 'B': 'D', 'C': 'D', 'D': 'D', 'R': 'M', 'M': 'M'}\n",
      "[{'B', 'C', 'A'}]\n",
      "[{'B', 'C', 'A', 'D'}]\n",
      "[{'B', 'C', 'A', 'D'}]\n",
      "[{'B', 'C', 'A', 'D'}, {'R', 'M'}]\n"
     ]
    }
   ],
   "source": [
    "p = {} # p is the parent dict\n",
    "def find(x):\n",
    "    while p[x] != x:\n",
    "        p[x] = p[p[x]]\n",
    "        x = p[x]\n",
    "    return p[x]\n",
    "def union(x, y):\n",
    "    p[x] = p.setdefault(x, x)\n",
    "    p[y] = p.setdefault(y, y)\n",
    "    #print(p, find(x), find(y))\n",
    "    p[find(x)] = find(y)\n",
    "    \n",
    "rel = [['A','B'],['A','C'],['B','D'],['B','C'],['R','M'], ['S'], ['P'], ['A']]\n",
    "\n",
    "for r in rel[:5]:\n",
    "    union(r[0], r[1])\n",
    "print(r[0], r[1], p)\n",
    "\n",
    "\n",
    "def findp(res,a,b):\n",
    "    for i in range(len(res)):\n",
    "        if a in res[i] or b in res[i]:\n",
    "            res[i].add(a)\n",
    "            res[i].add(b)\n",
    "            break\n",
    "    else:\n",
    "        res.append({a,b})\n",
    "    print(res)\n",
    "\n",
    "\n",
    "            \n",
    "res = [{rel[0][0], rel[0][1]}]\n",
    "for k in range(1, 5):\n",
    "    findp(res, rel[k][0], rel[k][1])"
   ]
  },
  {
   "cell_type": "code",
   "execution_count": null,
   "metadata": {},
   "outputs": [],
   "source": [
    "def f5(ipaddr):\n",
    "    if not ipaddr or len(ipaddr.split(\".\")) != 4:\n",
    "        return False\n",
    "    for ip in ipaddr.split(\".\"):\n",
    "        if  str(int(ip)) != ip or ip[0] == \"-\":\n",
    "            return False\n",
    "        elif int(ip) > 255:\n",
    "            return False\n",
    "    return True"
   ]
  },
  {
   "cell_type": "code",
   "execution_count": null,
   "metadata": {},
   "outputs": [],
   "source": [
    "nums = [1, 2, 5, 5, 8]\n",
    "\n",
    "def f6(nums):\n",
    "    return all(a<=b for a, b in enumerate(nums[:-1], nums[1:])) or all(a>=b for a, b in enumerate(nums[:-1], nums[1:]))\n",
    "\n"
   ]
  },
  {
   "cell_type": "code",
   "execution_count": null,
   "metadata": {},
   "outputs": [],
   "source": []
  },
  {
   "cell_type": "code",
   "execution_count": null,
   "metadata": {},
   "outputs": [],
   "source": []
  },
  {
   "cell_type": "code",
   "execution_count": null,
   "metadata": {},
   "outputs": [],
   "source": [
    "#SQL top 5\n",
    "\n",
    "#top 5 people with random order\n",
    "select * from employees order by salary desc limit 5\n",
    "#top 5 salaries - at least 5 people or more people\n",
    "select *, dense_rank() over (order by salary desc) as rnk from employees where rnk = 5\n",
    "#top 5 salaries - wrong! to use rank()\n",
    "select *, rank() over (order by salary desc) as rnk from employees where rnk = 5\n"
   ]
  },
  {
   "cell_type": "code",
   "execution_count": null,
   "metadata": {},
   "outputs": [],
   "source": [
    "select *, dense_rank over (order by salary desc) as rnk from employees where rnk = 5"
   ]
  },
  {
   "cell_type": "code",
   "execution_count": null,
   "metadata": {},
   "outputs": [],
   "source": [
    "with cte (promotion_id,first_day,last_day)\n",
    "as (\n",
    "select promotion_id, first_day= min(transaction_date)\n",
    "last_day = max(transaction_date)\n",
    "from sales\n",
    "where promotion_id is not null\n",
    "group by promotion_id\n",
    ")\n",
    "Select count(\n",
    "case when transaction_date = cte.first_day or transaction_date = cte.last_day then 1 else 0 end )/count(*) *100\n",
    "from sales s inner join cte on cte.promotion_id = s.promotion_id\n"
   ]
  },
  {
   "cell_type": "code",
   "execution_count": null,
   "metadata": {},
   "outputs": [],
   "source": [
    "#solution one\n",
    "with A as\n",
    "(select promotion_id, min(stransaction_date) as first_day, max(trasaction_date) as last_day, count(*) as total_sales\n",
    "from sales where promotion_id is not NULL group by promotion_id),\n",
    "C as\n",
    "(select B.*, A.total_sales from sales B inner join A on A.total_sales != 0 and B.promotion_id = A.promotion_id and B.stransaction_date in (A.first_day, A.last_day))\n",
    "\n",
    "select count(*)/C.total_sales * 100, D.promotion_id from sales D group by promotion_id inner join C on D.promotion_id = C.promotion_id\n",
    "\n",
    "#solution two \n",
    "with A as\n",
    "(select promotion_id, min(stransaction_date) as first_day, max(trasaction_date) as last_day\n",
    " from sales where promotion_id is not NULL group by promotion_id),\n",
    "\n",
    "select count(case when B.transaction_date in (first_day, last_day) then 1 else 0 end)/count(*) * 100\n",
    "from sales B inner join B on B.promotion_id = A.promotion_id"
   ]
  },
  {
   "cell_type": "code",
   "execution_count": null,
   "metadata": {},
   "outputs": [],
   "source": [
    "#exchange seat\n",
    "with A as\n",
    "(select max(id) as maxid from seat)\n",
    "select case\n",
    "when id = maxid and id%2=1 then id\n",
    "when id != maxid and id%2=1 then id+1 \n",
    "else id - 1 end as id, student from seat order by id"
   ]
  },
  {
   "cell_type": "code",
   "execution_count": null,
   "metadata": {},
   "outputs": [],
   "source": [
    "update salary set sex = when \"f\" then \"m\" when \"m\" then \"f\" end;"
   ]
  },
  {
   "cell_type": "code",
   "execution_count": null,
   "metadata": {},
   "outputs": [],
   "source": []
  },
  {
   "cell_type": "code",
   "execution_count": null,
   "metadata": {},
   "outputs": [],
   "source": []
  },
  {
   "cell_type": "code",
   "execution_count": null,
   "metadata": {},
   "outputs": [],
   "source": []
  },
  {
   "cell_type": "code",
   "execution_count": null,
   "metadata": {},
   "outputs": [],
   "source": [
    "07/25"
   ]
  },
  {
   "cell_type": "code",
   "execution_count": null,
   "metadata": {},
   "outputs": [],
   "source": [
    "#minimum window substring\n",
    "def f1(s, t):\n",
    "    need = collections.Counter(t)\n",
    "    i, j, minL, miss, res = 0, 0, len(s), len(t), 0, ''\n",
    "    while j < len(s):\n",
    "        if s[j] in need:\n",
    "            need[s[j]] -= 1\n",
    "            if need[s[j]] >= 0:\n",
    "                miss -= 1\n",
    "            while i < len(s) and miss == 0:\n",
    "                if s[i] in need:\n",
    "                    need[s[i]] += 1\n",
    "                    if need[s[i]] > 0:\n",
    "                        miss += 1\n",
    "                        #if miss > 0:\n",
    "                        if minL >= j-i+1:\n",
    "                            mimL, res = j-i+1, s[i:j+1]\n",
    "                        \n",
    "                i += 1\n",
    "        j += 1\n",
    "    return res            \n",
    "        "
   ]
  },
  {
   "cell_type": "code",
   "execution_count": null,
   "metadata": {},
   "outputs": [],
   "source": [
    "#minimum size subarray sum\n",
    "def f2(nums, t)\n",
    "    l, r, total, res = 0, 0, 0, len(nums)+1 #res = len(nums)+1\n",
    "    while r < len(nums):\n",
    "        total += nums[r]\n",
    "        while total >= t:\n",
    "            res = min(res, r-l+1)\n",
    "            total -= nums[l]\n",
    "            l += 1\n",
    "        r += 1\n",
    "    return res if res <= len(nums) else 0"
   ]
  },
  {
   "cell_type": "code",
   "execution_count": null,
   "metadata": {},
   "outputs": [],
   "source": [
    "#binary tree vertical order traversal\n",
    "def f3(root):\n",
    "    if not root:\n",
    "        return []\n",
    "    minL, maxL, table = 0, 0, {}\n",
    "    res, q = [], [(root, 0)]\n",
    "    while q:\n",
    "        node, col = q.popleft()\n",
    "        if col not in table:\n",
    "            table[col] = []\n",
    "        table[col].append(node.val)\n",
    "        \n",
    "        if node.left:\n",
    "            q.append(node.left, col-1)\n",
    "            minL = min(minL, col-1)\n",
    "        if node.right:\n",
    "            q.append(node.right, col+1)\n",
    "            maxL = max(maxL, col+1)\n",
    "            \n",
    "    for i in range(minL, maxL+1):\n",
    "        res.append(table[i])\n",
    "    return res"
   ]
  },
  {
   "cell_type": "code",
   "execution_count": null,
   "metadata": {},
   "outputs": [],
   "source": [
    "#vertical order trversal of a binary tree\n",
    "def f4(root):\n",
    "    if not root: return []\n",
    "    ans, res = collections.defaultdict(list), []\n",
    "    q = collections.deque([root, 0])\n",
    "    level = 0\n",
    "    while q:\n",
    "        new_q = []\n",
    "        for node, col in q: #node, level = q.popleft()\n",
    "            ans[col].append((level, node.val))\n",
    "            if node.left: new_q.append(node.left, col-1)\n",
    "            if node.right: new_q.append(node.right, col+1)\n",
    "        q = new_q[]\n",
    "        level += 1\n",
    "    res = [sorted(ans[k], key=lambda x: x[0]) for k in sorted(ans.keys())]\n",
    "    return [[v for _, v in r] for r in res]"
   ]
  },
  {
   "cell_type": "code",
   "execution_count": null,
   "metadata": {},
   "outputs": [],
   "source": [
    "#maximumsize subarray sum equal to k\n",
    "def f5(nums, k):\n",
    "    dic, res, total = dict(), 0, 0\n",
    "    for i in range(len(nums)):\n",
    "        total += nums[i]\n",
    "        if total == k:\n",
    "            res = i+1\n",
    "        elif total - k in dic:\n",
    "            res = max(res, i - dic[total-k])\n",
    "        if total not in dic:\n",
    "            dic[total] = i\n",
    "    return res"
   ]
  },
  {
   "cell_type": "code",
   "execution_count": null,
   "metadata": {},
   "outputs": [],
   "source": []
  },
  {
   "cell_type": "code",
   "execution_count": null,
   "metadata": {},
   "outputs": [],
   "source": []
  },
  {
   "cell_type": "code",
   "execution_count": null,
   "metadata": {},
   "outputs": [],
   "source": [
    "07/23"
   ]
  },
  {
   "cell_type": "code",
   "execution_count": null,
   "metadata": {},
   "outputs": [],
   "source": [
    "#binary tree verticlal order traversal\n",
    "def f10(root):\n",
    "    if not root:\n",
    "        return []\n",
    "    minL, maxL = 0, 0\n",
    "    table = {[root, 0]} #table = {}\n",
    "    res, q = [], collections.deque([root, 0])\n",
    "    while q:\n",
    "        node, col = q.popleft()\n",
    "        if col not in table:\n",
    "            table[col] =[]\n",
    "        if node.left:\n",
    "            q.append((root.left, col - 1))\n",
    "            minL = min(minL, col-1)\n",
    "        if node.right:\n",
    "            q.append((root.right, col + 1))\n",
    "            maxL = min(maxL, col+1)\n",
    "        \n",
    "    for i in range(minL, maxL):\n",
    "        res.append(table[i])\n",
    "    return res"
   ]
  },
  {
   "cell_type": "code",
   "execution_count": null,
   "metadata": {},
   "outputs": [],
   "source": [
    "#find the celebrity\n",
    "def f11(n):\n",
    "    d = list(range(1, n))\n",
    "    \n",
    "    while len(d) > 1:\n",
    "        e = iter(d)\n",
    "        a, b = next(e), next(e)\n",
    "        if knows(a, b):\n",
    "            d.remove(a)\n",
    "        elif not knows(a, b):\n",
    "            d.remove(b)\n",
    "        \n",
    "    c = next(iter(d))\n",
    "    \n",
    "    return c if sum(knows(v, c) for v in range(1, n)) == n - 1 and sum(knows(c, v) for v in range(1, n)) == 0 or \"\"\n"
   ]
  },
  {
   "cell_type": "code",
   "execution_count": null,
   "metadata": {},
   "outputs": [],
   "source": [
    "#multiply string\n",
    "def f12(a, b):\n",
    "    i, j = len(a)-1, len(b)-1\n",
    "    res = []\n",
    "    for i in range(len(a), -1, -1):\n",
    "        carry = 0\n",
    "        for j in range(len(b), -1, -1):\n",
    "            tmp = int(a[i])*int(b[j])+carry\n",
    "            carry, m = divmod(tmp + res[i+j+1], 10)\n",
    "            res[i+j+1] = m\n",
    "        res[i] += carry\n",
    "    res = ''.join(map(str, res))\n",
    "    return res.lstrip('0') if res.lstrip('0') else '0'"
   ]
  },
  {
   "cell_type": "code",
   "execution_count": null,
   "metadata": {},
   "outputs": [],
   "source": [
    "#reverse nodes in k-group\n",
    "def f13(head, k):\n",
    "    node = head\n",
    "    for _ in range(k-1):\n",
    "        node = node.next\n",
    "        if not node:  #import\n",
    "            return head\n",
    "        \n",
    "    tail = f13(node.next, k)\n",
    "    while tail not in node:\n",
    "        tmp = head.next\n",
    "        head.next = tail\n",
    "        tail = head\n",
    "        head = tmp\n",
    "    return tail"
   ]
  },
  {
   "cell_type": "code",
   "execution_count": null,
   "metadata": {},
   "outputs": [],
   "source": [
    "#wildcard matching\n",
    "def f14(s, p):\n",
    "    if not s and not p:\n",
    "        return False\n",
    "    if len(p) > len(s):\n",
    "        return False\n",
    "    i, j, k, l = 0, 0, len(s), 0 #note k = len(s)\n",
    "    while i < len(s):\n",
    "        if j < len(p) and p[j] == '*':\n",
    "            k, l = i, j\n",
    "            j += 1\n",
    "        elif j < len(p) and p[j] in (s[i], '?'):\n",
    "            i += 1\n",
    "            j += 1\n",
    "        elif k < len(s):\n",
    "            i, j = k+1, l+1\n",
    "            k += 1\n",
    "        else:\n",
    "            return False\n",
    "        \n",
    "    while j < len(p) and p[j] ==\"*\":\n",
    "        j += 1\n",
    "    return j == len(p)"
   ]
  },
  {
   "cell_type": "code",
   "execution_count": null,
   "metadata": {},
   "outputs": [],
   "source": []
  },
  {
   "cell_type": "code",
   "execution_count": null,
   "metadata": {},
   "outputs": [],
   "source": [
    "#sum of left leaves\n",
    "def f10(root):\n",
    "    def dfs(node, left, res):\n",
    "        if not node:\n",
    "            return 0\n",
    "        if not node.left and not node.right and left:\n",
    "            res += node.val\n",
    "        if node.left:\n",
    "            dfs(node.left, True, res)\n",
    "        if node.right:\n",
    "            dfs(node.right, False, res)\n",
    "    res = 0\n",
    "    dfs(root, False, res)\n",
    "    return res"
   ]
  },
  {
   "cell_type": "code",
   "execution_count": null,
   "metadata": {},
   "outputs": [],
   "source": [
    "#best time to buy and sell stock\n",
    "def f11(nums):\n",
    "    maxN, minN = 0, nums[0]\n",
    "    for i in range(1, len(nums)):\n",
    "        minN = min(minN, nums[i])\n",
    "        maxN = max(maxN, nums[i] - minN)\n",
    "    return maxN"
   ]
  },
  {
   "cell_type": "code",
   "execution_count": null,
   "metadata": {},
   "outputs": [],
   "source": [
    "#group analgrams\n",
    "def f12(words):\n",
    "    dic = collections.defaultdict(list)\n",
    "    for w in words:\n",
    "        dic[tuple(sorted(w))].append(w)\n",
    "    return [sorted(d) for d in dic.values()]\n"
   ]
  },
  {
   "cell_type": "code",
   "execution_count": null,
   "metadata": {},
   "outputs": [],
   "source": [
    "#first bad version\n",
    "def f13(nums):\n",
    "    l, r = 0, len(nums)\n",
    "    while l < r:\n",
    "        mid = (l + r)//2\n",
    "        if IsBadVersion(mid):\n",
    "            r = mid\n",
    "        else:\n",
    "            l = mid + 1\n",
    "    return l"
   ]
  },
  {
   "cell_type": "code",
   "execution_count": null,
   "metadata": {},
   "outputs": [],
   "source": [
    "#reverse linked list\n",
    "def f14(head):\n",
    "    tail = None\n",
    "    while head:\n",
    "        tmp = head.next\n",
    "        head.next = tail\n",
    "        tail = head\n",
    "        head = tmp\n",
    "    return tail"
   ]
  },
  {
   "cell_type": "code",
   "execution_count": null,
   "metadata": {},
   "outputs": [],
   "source": [
    "#palindrome linked list\n",
    "def f15(head):\n",
    "    res = []\n",
    "    while head:\n",
    "        res.append(head.val)\n",
    "        head = head.next\n",
    "    return res = res[::-1]\n"
   ]
  },
  {
   "cell_type": "code",
   "execution_count": null,
   "metadata": {},
   "outputs": [],
   "source": []
  },
  {
   "cell_type": "code",
   "execution_count": null,
   "metadata": {},
   "outputs": [],
   "source": []
  },
  {
   "cell_type": "code",
   "execution_count": null,
   "metadata": {},
   "outputs": [],
   "source": []
  },
  {
   "cell_type": "code",
   "execution_count": null,
   "metadata": {},
   "outputs": [],
   "source": []
  },
  {
   "cell_type": "code",
   "execution_count": null,
   "metadata": {},
   "outputs": [],
   "source": []
  },
  {
   "cell_type": "code",
   "execution_count": null,
   "metadata": {},
   "outputs": [],
   "source": [
    "07/19"
   ]
  },
  {
   "cell_type": "code",
   "execution_count": null,
   "metadata": {},
   "outputs": [],
   "source": [
    "#binary serialize and deserialize binary tree\n",
    "class f10:\n",
    "    def __init__(root):\n",
    "        self.root = root\n",
    "        self.nodes = []\n",
    "        \n",
    "        \n",
    "    def serialize(root):\n",
    "        def helper(node):\n",
    "            if not node:\n",
    "                return \n",
    "            if node:\n",
    "                self.nodes.append(node.val)  #str(node.val)\n",
    "                helper(node.left)\n",
    "                helper(node.right)\n",
    "            else:\n",
    "                self.nodes.append(\"#\") \n",
    "        helper(root)\n",
    "        return ''.join(self.nodes)\n",
    "            \n",
    "    def deserialize(data):\n",
    "        def helper(nlist):\n",
    "            tmp = TreeNode(0)\n",
    "            n = nlist.popleft()\n",
    "            if n == \"#\":\n",
    "                return None\n",
    "            else:\n",
    "                node = TreeNode(int(n))\n",
    "                node.left = helper(nlist)\n",
    "                node.right = helper(nlist)\n",
    "            return node\n",
    "\n",
    "        \n",
    "        nodelist = data.split()\n",
    "        return helper(nodelist)\n",
    "        \n",
    "            "
   ]
  },
  {
   "cell_type": "code",
   "execution_count": null,
   "metadata": {},
   "outputs": [],
   "source": [
    "#product of array except self\n",
    "def f12(nums):\n",
    "    res = [1]*len(nums)\n",
    "    lp = rp = 1\n",
    "    for i in range(len(nums)):\n",
    "        res[i] *= lp\n",
    "        lp *= nums[i]\n",
    "        res[~i] *= rp\n",
    "        rp *= nums[~i]\n",
    "    return res"
   ]
  },
  {
   "cell_type": "code",
   "execution_count": null,
   "metadata": {},
   "outputs": [],
   "source": [
    "#minimum window substring\n",
    "def f13(nums, k):\n",
    "    if not nums:\n",
    "        return []\n",
    "    res, total, j = len(nums), 0, 0\n",
    "    for i in range(len(nums)):\n",
    "        total += nums[i]\n",
    "        while total > k:\n",
    "            total -= nums[j]\n",
    "            j += 1\n",
    "        if total == k:\n",
    "            res = min(res, i - j + 1)\n",
    "    return res\n",
    "        "
   ]
  },
  {
   "cell_type": "code",
   "execution_count": null,
   "metadata": {},
   "outputs": [],
   "source": [
    "#binary search / sqrt(x)\n",
    "def f14(x):\n",
    "    l, r = 0, x\n",
    "    while l <= r:\n",
    "        mid = (l+r) // 2\n",
    "        if mid * mid <= x <= (mid+1)*(mid+1):\n",
    "            return mid\n",
    "        elif mid * mid < x:\n",
    "            l = mid + 1\n",
    "        else:\n",
    "            r = mid\n",
    "    "
   ]
  },
  {
   "cell_type": "code",
   "execution_count": null,
   "metadata": {},
   "outputs": [],
   "source": [
    "#reverse linked list\n",
    "def f15(head):\n",
    "    tail = None\n",
    "    while head:\n",
    "        tmp = head.next\n",
    "        head.next = tail\n",
    "        tail = head\n",
    "        head = tmp\n",
    "    return tail"
   ]
  },
  {
   "cell_type": "code",
   "execution_count": null,
   "metadata": {},
   "outputs": [],
   "source": [
    "#subsets\n",
    "def f14(nums):\n",
    "    res = []\n",
    "    def dfs(nums, start, path, res):\n",
    "        res.append(path)\n",
    "        for i in range(start, len(nums)):\n",
    "            dfs(nums, i+1, path + [nums[i]], res)\n",
    "            \n",
    "    dfs(sorted(nums), 0, [], res)\n",
    "    return res"
   ]
  },
  {
   "cell_type": "code",
   "execution_count": null,
   "metadata": {},
   "outputs": [],
   "source": [
    "#paint house\n",
    "def f17(costs, colors=3):\n",
    "    dp = [0] * (len(colors))\n",
    "    for cost in costs:\n",
    "        dp = [min(dp[:i]+dp[i+1:])+cost[i] for i in range(len(colors))]\n",
    "    return min(dp)"
   ]
  },
  {
   "cell_type": "code",
   "execution_count": null,
   "metadata": {},
   "outputs": [],
   "source": []
  },
  {
   "cell_type": "code",
   "execution_count": null,
   "metadata": {},
   "outputs": [],
   "source": []
  },
  {
   "cell_type": "code",
   "execution_count": null,
   "metadata": {},
   "outputs": [],
   "source": []
  },
  {
   "cell_type": "code",
   "execution_count": null,
   "metadata": {},
   "outputs": [],
   "source": []
  },
  {
   "cell_type": "code",
   "execution_count": null,
   "metadata": {},
   "outputs": [],
   "source": [
    "#07/18"
   ]
  },
  {
   "cell_type": "code",
   "execution_count": null,
   "metadata": {},
   "outputs": [],
   "source": [
    "#lowest common ancestor of a binary tree\n",
    "def f11(root, p, q):\n",
    "    if not root:\n",
    "        return None\n",
    "    par, stack = {root: None}, [root]\n",
    "    while root:  #while p not in par or q not in par:\n",
    "        node = stack.pop()\n",
    "        if node.left:\n",
    "            stack.append(node.left)\n",
    "            par[node.left] = node\n",
    "        if node.right:\n",
    "            stack.append(node.right)\n",
    "            par[root.right] = node\n",
    "    \n",
    "    ancestor = {}\n",
    "    while p:\n",
    "        ancestor.add(p)\n",
    "        p = par[p]\n",
    "    #while q:\n",
    "        #if ancestor[q] == p:\n",
    "            #return q\n",
    "        #q = par[q]\n",
    "    while q not in ancestors:\n",
    "        q = par[q]\n",
    "    return q\n",
    "    \n",
    "\n",
    "        \n",
    "        "
   ]
  },
  {
   "cell_type": "code",
   "execution_count": null,
   "metadata": {},
   "outputs": [],
   "source": [
    "#binary tree vertical order traversal\n",
    "def f12(root):\n",
    "    if not root:\n",
    "        return []\n",
    "    ans, res = collections.defaultdict(list), []\n",
    "    q, res = [(root, 0)], []\n",
    "    level = 0 #miss\n",
    "    while q:\n",
    "        new_q  =[]\n",
    "        for node, col in q:\n",
    "            ans[col].append((level, node.val))\n",
    "            if node.left:\n",
    "                new_q.append((node.left, col-1))\n",
    "            if node.right:\n",
    "                new_q.append((node.right, col+1))\n",
    "        q = new_q\n",
    "        level += 1\n",
    " \n",
    "        res= [(sorted(ans[k], key = lambda x: x[0]) for k in ans.keys())]\n",
    "        \n",
    "    return [[v for _, v in r] for r in res]"
   ]
  },
  {
   "cell_type": "code",
   "execution_count": null,
   "metadata": {},
   "outputs": [],
   "source": [
    "#array/merge sorted array\n",
    "def f13(N1, N2):\n",
    "    if not N1 or not N2:\n",
    "        return N1 or N2\n",
    "    m, n, k = len(N1)-1, len(N2)-1, len(N1)+len(N2)-1\n",
    "    \n",
    "    while m >= 0 and n>= 0:\n",
    "        if N1[m] >= N2[n]:\n",
    "            N1[k] = N1[m]\n",
    "            m -= 1\n",
    "        elif N1(m) < N2[n]:\n",
    "            N1[k] = N2[m]\n",
    "            n -= 1\n",
    "        k -= 1\n",
    "    if n>0:\n",
    "        N1[:k+1] = N2[:n+1]\n",
    "    \n",
    "    return N1"
   ]
  },
  {
   "cell_type": "code",
   "execution_count": null,
   "metadata": {},
   "outputs": [],
   "source": [
    "#array sort colors\n",
    "def f14(nums):\n",
    "    if not nums:\n",
    "        return None\n",
    "    c0 = c1 = c2 = 0\n",
    "    for n in nums:\n",
    "        if n == 0:\n",
    "            c0 += 1\n",
    "        elif n == 1:\n",
    "            c1 += 1\n",
    "        elif n == 2:\n",
    "            c2 += 1\n",
    "    nums[:c0] = [0]*c0\n",
    "    nums[:c1] = [1]*c1\n",
    "    nums[:c2] = [2]*c2\n",
    "    \n",
    "    return nums"
   ]
  },
  {
   "cell_type": "code",
   "execution_count": null,
   "metadata": {},
   "outputs": [],
   "source": [
    "#add binary\n",
    "def f15(a, b):\n",
    "    m, n = len(a), len(b)\n",
    "    carry = 0\n",
    "    while m >= 0 or n>=0:\n",
    "        if m>=0: #miss\n",
    "            carry += int(a[-m])\n",
    "            m -= 1\n",
    "        if n>=0: #miss\n",
    "            carry += int(b[-n])\n",
    "            n -= 1\n",
    "        \n",
    "        carry, tmp = divmod(carry, 2)\n",
    "        res.append(tmp)\n",
    "        \n",
    "        \n",
    "        \n",
    "    if carry !=0:\n",
    "        res.append(carry)\n",
    "        \n",
    "    res = ''.join(map(str), res)\n",
    "    return res[::-1]\n",
    "    "
   ]
  },
  {
   "cell_type": "code",
   "execution_count": null,
   "metadata": {},
   "outputs": [],
   "source": [
    "#binary search sqrt(x)\n",
    "def f16(x):\n",
    "    left, right = 0, x \n",
    "    \n",
    "    while left <= right: #<=\n",
    "        mid = (left + right)//2\n",
    "        \n",
    "        if mid * mid <= x < (mid+1)*(mid+1):\n",
    "            return mid\n",
    "        \n",
    "\n",
    "        elif x > mid * mid:\n",
    "            left = mid + 1\n",
    "         \n",
    "        else:\n",
    "            right = mid -1  #right = mid\n",
    "        \n",
    "        \n",
    "    return\n",
    "    "
   ]
  },
  {
   "cell_type": "code",
   "execution_count": null,
   "metadata": {},
   "outputs": [],
   "source": []
  },
  {
   "cell_type": "code",
   "execution_count": null,
   "metadata": {},
   "outputs": [],
   "source": []
  },
  {
   "cell_type": "code",
   "execution_count": null,
   "metadata": {},
   "outputs": [],
   "source": []
  },
  {
   "cell_type": "code",
   "execution_count": null,
   "metadata": {},
   "outputs": [],
   "source": []
  },
  {
   "cell_type": "code",
   "execution_count": null,
   "metadata": {},
   "outputs": [],
   "source": []
  },
  {
   "cell_type": "code",
   "execution_count": null,
   "metadata": {},
   "outputs": [],
   "source": []
  },
  {
   "cell_type": "code",
   "execution_count": null,
   "metadata": {},
   "outputs": [],
   "source": []
  },
  {
   "cell_type": "code",
   "execution_count": null,
   "metadata": {},
   "outputs": [],
   "source": []
  },
  {
   "cell_type": "code",
   "execution_count": null,
   "metadata": {},
   "outputs": [],
   "source": [
    "#validate binary search tree\n",
    "def f600(root, minv=float('inf'), maxv=-float('inf')):\n",
    "    if not root:\n",
    "        return True\n",
    "    if root.val <= minv or root.val >= maxv:\n",
    "        return False\n",
    "    return f600(root.left, min(minv, root.val), maxv) if root.left and \n",
    "    f600(root.right, minv, max(maxv, root.val))    \n",
    "    \n",
    "def f600_2(root):\n",
    "    if not root:\n",
    "        return True\n",
    "    pre, cur = None, root\n",
    "    stack = []\n",
    "    while stack or cur:\n",
    "        while cur:\n",
    "            stack.append(cur) #missed\n",
    "            cur = cur.left\n",
    "        \n",
    "        node = stack.pop()\n",
    "        if pre and node.val <= prev:\n",
    "            return False\n",
    "         pre, cur = cur, node.right\n",
    "    return True"
   ]
  },
  {
   "cell_type": "code",
   "execution_count": null,
   "metadata": {},
   "outputs": [],
   "source": [
    "#random pick index\n",
    "import random\n",
    "def f700(nums, target):\n",
    "    if not nums:\n",
    "        return None\n",
    "    return random.choice([i for i, v in enumerate(nums) if v==target])\n",
    "\n",
    "def f700_2(nums, target):\n",
    "    cnt = 0\n",
    "    for i, n in enumerate(nums):\n",
    "        if n == target:\n",
    "            cnt += 1\n",
    "            x = random.randint(1, cnt)\n",
    "            if x == cnt:\n",
    "                return i"
   ]
  },
  {
   "cell_type": "code",
   "execution_count": 1,
   "metadata": {},
   "outputs": [],
   "source": [
    "#kth largest element in an array\n",
    "#QickSelect\n",
    "def f800(nums, k):\n",
    "    pivot = random.choice(range(len(nums)))\n",
    "    left = mid = right = []\n",
    "    for n in nums:\n",
    "        if n > pivot:\n",
    "            left.append(n)\n",
    "        elif n < pivot:\n",
    "            right.append(n)\n",
    "        else:\n",
    "            mid.append(n)\n",
    "            \n",
    "    if k <= len(left):\n",
    "        return f800(left, k)\n",
    "    elif k <= len(left)+left(mid):\n",
    "        return pivot\n",
    "    else:\n",
    "        return f800(right, k - len(left) - len(mid))\n",
    "    \n",
    "#HeapSort\n",
    "import heapq\n",
    "def f800_2(nums, k):\n",
    "    heap = []\n",
    "    for n in nums:\n",
    "        if len(heap) < k:\n",
    "            heapq.heappush(heap, n)\n",
    "        else:\n",
    "            heapq.heappushpop(heap, n)\n",
    "    return h[0]"
   ]
  },
  {
   "cell_type": "code",
   "execution_count": null,
   "metadata": {},
   "outputs": [],
   "source": [
    "#integer to enlish words"
   ]
  },
  {
   "cell_type": "code",
   "execution_count": null,
   "metadata": {},
   "outputs": [],
   "source": []
  },
  {
   "cell_type": "code",
   "execution_count": null,
   "metadata": {},
   "outputs": [],
   "source": [
    "#expression add operators\n",
    "def f900(nums, target):\n",
    "    res = []\n",
    "    def dfs(nums, tmp, cur, last, res, target):\n",
    "        if not nums:\n",
    "            if cur == target: #miss\n",
    "                res.append(tmp)\n",
    "            return\n",
    "        for i in range(1, len(nums)+1):  #miss\n",
    "            \n",
    "            if i == 1 or (i > 1 and nums[0] != '0'): \n",
    "            dfs(nums[i:], tmp +'+' + nums[:i], cur + int(nums[i:], int(nums[i:], res, target)\n",
    "            dfs(nums[i:], tmp +'-' + nums[:i], cur - int(nums[i:], int(nums[i:], res, target)\n",
    "            dfs(nums[i:], tmp +'*' + nums[:i], cur - last + last*int(nums[i:], last*int(nums[i:] res, target)\n",
    "        #return res\n",
    "            \n",
    "    for i in range(1, len(nums)+1):  #1 to len(nums)+1\n",
    "        if i ==1 1 or (i > 1 and nums[0] != '0'): \n",
    "            dfs(nums[i:], nums[i:], int(nums[i:]), int(nums[i:]), res, target)\n",
    "    \n",
    "    return res\n",
    "    "
   ]
  },
  {
   "cell_type": "code",
   "execution_count": null,
   "metadata": {},
   "outputs": [],
   "source": [
    "#search in rotated sorted array\n",
    "\n",
    "def f990(nums, target):\n",
    "    if not nums:\n",
    "        return -1\n",
    "    left, right = 0, len(nums)\n",
    "    \n",
    "    while left < right:\n",
    "        mid = (left + right) // 2\n",
    "        if nums[mid] == target:\n",
    "            return mid\n",
    "        if nums[left] <= nums[mid]:\n",
    "            if nums[left] <= target <= nums[mid]:\n",
    "                right = mid - 1\n",
    "            else:\n",
    "                left = mid + 1\n",
    "                \n",
    "        else:\n",
    "            if nums[mid] <= target <= nums[right]:\n",
    "                left = mid + 1\n",
    "            else:\n",
    "                right = mid - 1\n",
    "    return -1"
   ]
  },
  {
   "cell_type": "code",
   "execution_count": null,
   "metadata": {},
   "outputs": [],
   "source": [
    "#simply path\n",
    "def f199(path):\n",
    "    res = []\n",
    "    paths = path.split(\"/\")\n",
    "    for p in paths:\n",
    "        if p == \"..\":\n",
    "            if res:\n",
    "                res.pop()\n",
    "        elif p == \".\":\n",
    "            continue\n",
    "        else:\n",
    "            res.append(p)\n",
    "    return \"/\" + \"/\".join(res)\n",
    "    \n",
    "    "
   ]
  },
  {
   "cell_type": "code",
   "execution_count": null,
   "metadata": {},
   "outputs": [],
   "source": [
    "#remove invalid parentheses\n",
    "def f330(s):\n",
    "    def invalid(strs):\n",
    "        dic = {\"(\": 1, \")\": -1}\n",
    "        extra_l, extra_r = 0, 0\n",
    "        for s in strs:\n",
    "            if s in dic:\n",
    "                extra_left += dic[s]\n",
    "        \n",
    "            if extra_l < 0: #not while\n",
    "                extra_r += 1\n",
    "            \n",
    "            extra_l = max(0, extra_l)\n",
    "        return extra_l + extra_r\n",
    "    \n",
    "    res, visited = [], set([strs])\n",
    "    def dfs(strs, invn, res):\n",
    "        if invn == 0:\n",
    "            return res.append(strs)\n",
    "        \n",
    "        for i in range(len(strs)):\n",
    "            if s[i] in (\"(\", \")\"):\n",
    "                ns = s[:i] + s[i:]\n",
    "                fi ns not in visited and invalid(ns) < invn:\n",
    "                    visited.add(ns)\n",
    "                    dfs(ns, invalid(ns), res)\n",
    "    dfs(strs, invalid(strs), res)\n",
    "    return res"
   ]
  },
  {
   "cell_type": "code",
   "execution_count": null,
   "metadata": {},
   "outputs": [],
   "source": []
  },
  {
   "cell_type": "code",
   "execution_count": null,
   "metadata": {},
   "outputs": [],
   "source": []
  },
  {
   "cell_type": "code",
   "execution_count": null,
   "metadata": {},
   "outputs": [],
   "source": []
  },
  {
   "cell_type": "code",
   "execution_count": null,
   "metadata": {},
   "outputs": [],
   "source": [
    "#binary tree level order tracelsal\n",
    "def f100(root):\n",
    "    if not root:\n",
    "        return None\n",
    "    res, q = [], collections.deque()\n",
    "    q = [(0, root)]\n",
    "    while q:\n",
    "        if len(q) < level+1:  # len(res) > level+1\n",
    "            res.append([])\n",
    "        level, node = q.popleft()\n",
    "        res[level].append(node.val)\n",
    "        if node.left:\n",
    "            q.append((level+1, node.left))\n",
    "        if node.right:\n",
    "            q.append((level+1, node.right))\n",
    "        \n",
    "    return res\n",
    "\n"
   ]
  },
  {
   "cell_type": "code",
   "execution_count": null,
   "metadata": {},
   "outputs": [],
   "source": [
    "#two pointers / 3sum\n",
    "def f150(nums, target):\n",
    "    if not nums:\n",
    "        return None\n",
    "    res, dic = [], dict()\n",
    "    for n in nums:\n",
    "        if target - n in dic:\n",
    "            if dic[target - n] == n:\n",
    "                res.append = ([target - n, n]) \n",
    "        else:\n",
    "            dic[n] = target - n\n",
    "    return res\n",
    "            \n",
    "    \n",
    "def f200(nums):\n",
    "    if not nums or len(nums) < 3:  #or nums == [0]*len(nums):\n",
    "        return None\n",
    "    nums.sort()\n",
    "    if nums[-1] < 0:\n",
    "        return res\n",
    "    \n",
    "    for i in range(len(nums)):   #use while nums[0] <= 0\n",
    "        tmp = f150(nums[i+1:], -nums[i])\n",
    "        if tmp:\n",
    "            for t in tmp:\n",
    "                t.append(nums[i])\n",
    "                res.append(t)\n",
    "    return res  #list(set([tuple(i) for in in res]))\n"
   ]
  },
  {
   "cell_type": "code",
   "execution_count": null,
   "metadata": {},
   "outputs": [],
   "source": [
    "#increasing triplet subsequence\n",
    "def f300(nums):\n",
    "    if not nums or len(nums) < 3:\n",
    "        return -1\n",
    "    first = second = float('inf')\n",
    "    for n in nums:\n",
    "        if n <= first:\n",
    "            first = n\n",
    "        elif n <= second:\n",
    "            second = n\n",
    "        else:\n",
    "            return True\n",
    "    return -1"
   ]
  },
  {
   "cell_type": "code",
   "execution_count": null,
   "metadata": {},
   "outputs": [],
   "source": [
    "#regular expression matching\n",
    "def f400(s, p):\n",
    "    if not p: \n",
    "        return not s\n",
    "    \n",
    "    first_match = bool(s) or p[0] in (s[0], '.')\n",
    "    #for i in range(1, len(s)+1):\n",
    "    if len(p) >= 2 and p[1] == '*\":\n",
    "        return first_match and f400(s[1:], p) or f400(s, p[2:])\n",
    "    elif p[1] in (s[1], '.'):\n",
    "        return first_match and f400(s[1:], p[1:])\n"
   ]
  },
  {
   "cell_type": "code",
   "execution_count": null,
   "metadata": {},
   "outputs": [],
   "source": []
  },
  {
   "cell_type": "code",
   "execution_count": null,
   "metadata": {},
   "outputs": [],
   "source": []
  },
  {
   "cell_type": "code",
   "execution_count": null,
   "metadata": {},
   "outputs": [],
   "source": []
  },
  {
   "cell_type": "code",
   "execution_count": null,
   "metadata": {},
   "outputs": [],
   "source": []
  },
  {
   "cell_type": "code",
   "execution_count": null,
   "metadata": {},
   "outputs": [],
   "source": [
    "#pow(x, n)\n",
    "def f500(x, n):\n",
    "    res  = 1\n",
    "    if not n:\n",
    "        return 1\n",
    "    if n < 0:\n",
    "        x = 1/x\n",
    "        res = f500(x, -n)\n",
    "    \n",
    "    if n%2:\n",
    "        res = x*f500(x, n-1)\n",
    "    else:\n",
    "        x = x*x\n",
    "        n = n/2\n",
    "    return res"
   ]
  },
  {
   "cell_type": "code",
   "execution_count": null,
   "metadata": {},
   "outputs": [],
   "source": [
    "#walls and gates:\n",
    "def f1(rooms):\n",
    "    m, n = len(rooms), len(rooms[0])\n",
    "    if not m or not n: \n",
    "        return\n",
    "    empty, q = set(), collections.deque()\n",
    "    for i in range(m):\n",
    "        for j in range(n):\n",
    "            if rooms[i][j] == 2**31-1:\n",
    "                empty.add((i, j))\n",
    "            elif rooms[i][j] == 0:\n",
    "                q.append((i, j))\n",
    "                \n",
    "    while empty:\n",
    "        if not q:\n",
    "            break\n",
    "        x, y = q.popleft()\n",
    "        for x1, y1 in ((x_1, y), (x-1, y), (x, y+1), (x, y-1)):\n",
    "            if 0<=x<=m and 0<=y<=n and (x1, y1) in empty:\n",
    "                rooms[x1][y1] = rooms[x][y] + 1\n",
    "                empty.remove((x1, y1))\n",
    "                q.append((x1, y1))\n",
    "    return rooms"
   ]
  },
  {
   "cell_type": "code",
   "execution_count": null,
   "metadata": {},
   "outputs": [],
   "source": [
    "#the skyline\n",
    "import heapq\n",
    "def f2(build):\n",
    "    build.append([float('inf'), float('inf'), 0])\n",
    "    hp, res, curmax = [], [], 0\n",
    "    for L, R, H in build:\n",
    "        while hp and hp[0][0] < L:\n",
    "            r, h = heap.heappop(hp)\n",
    "            hmax = 0\n",
    "            if hp:\n",
    "                for i in range(len(hp)):\n",
    "                    hmax = max(hmax, hp[i][1])\n",
    "            if hmax < curmax:\n",
    "                curmax = hmax\n",
    "                res.append((r, curmax))\n",
    "        if H > curmax:\n",
    "            if res and L == res[-1][0]:\n",
    "                res.pop()\n",
    "            curmax = H\n",
    "            res.append((L, H))\n",
    "        \n",
    "        heapq.heappush(hp, (R, H) )\n",
    "    return res"
   ]
  },
  {
   "cell_type": "code",
   "execution_count": null,
   "metadata": {},
   "outputs": [],
   "source": [
    "#merge K sorted list\n",
    "def f3(LK):\n",
    "    res = []\n",
    "    for L in LK:\n",
    "        while L:\n",
    "            res.append(L.val)\n",
    "            L = L.next\n",
    "    head = tmp = ListNode(0)\n",
    "    for i in sorted(res):\n",
    "        tmp.next = ListNode(i)\n",
    "        tmp = tmp.next\n",
    "    return head.next\n",
    "\n",
    "def f3_2(LK):\n",
    "    if not LK: return \n",
    "    if len(LK) == 1: return LK[0]\n",
    "    def merge(l, r):\n",
    "        head = tmp = ListNode(0)\n",
    "        while l and r:\n",
    "            if l.val < r.val:\n",
    "                tmp.next = l\n",
    "                l = l.next\n",
    "            else:\n",
    "                tmp.next = r\n",
    "                r = r.next\n",
    "            tmp = tmp.next\n",
    "        tmp.next = l or r\n",
    "        return head.next\n",
    "    \n",
    "    mid = len(LK)//2\n",
    "    left, right = f3_2(LK[:mid]), f3_2(LK[mid:])\n",
    "    return merge(left, right)\n"
   ]
  },
  {
   "cell_type": "code",
   "execution_count": null,
   "metadata": {},
   "outputs": [],
   "source": [
    "#maximal square\n",
    "def f4(M):\n",
    "    if not M or not M[0]:\n",
    "        return 0\n",
    "    m, n, res = len(M), len(M[0]), 0\n",
    "    dp = [0]*(n+1) for i in range(m+1)\n",
    "    for i in range(1, m+1):\n",
    "        for j in range(1, n+1):\n",
    "            if M[i][j] == '1':\n",
    "                dp[i][j] = min(dp[i-1][j], dp[i, j-1], dp[i-1][j-1]) +1\n",
    "                res = max(res, dp[i][j])\n",
    "    return res * res"
   ]
  },
  {
   "cell_type": "code",
   "execution_count": null,
   "metadata": {},
   "outputs": [],
   "source": [
    "#maximal rect\n",
    "def f4(M):\n",
    "    if not M or not M[0]:\n",
    "        return 0\n",
    "    m, n, res, q = len(M), len(M[0]), 0, []\n",
    "    h = [0]*(n+1)\n",
    "    for row in M:\n",
    "        for j in range(n):\n",
    "            h[j] += 1 if row[j]=='1' else 0\n",
    "        q = [-1]\n",
    "        for i in (0, range(n+1)):\n",
    "            while h[i] < h[q[-1]]:\n",
    "                height = h[q.pop()]\n",
    "                width = i - q[-1]  - 1\n",
    "                res = max(res, height * width)\n",
    "            q.append(i)\n",
    "    return res\n",
    "            "
   ]
  },
  {
   "cell_type": "code",
   "execution_count": null,
   "metadata": {},
   "outputs": [],
   "source": [
    "#word break\n",
    "def f5(s, wordDict):\n",
    "    dp = [False]*(len(s)+1)\n",
    "    dp[0] = True\n",
    "    for i in range(1, len(s)+1):\n",
    "        for j in range(i):\n",
    "            if dp[j] and s[j:i] in wordDict:\n",
    "                dp[i] = True\n",
    "                break\n",
    "    return dp[-1]"
   ]
  },
  {
   "cell_type": "code",
   "execution_count": null,
   "metadata": {},
   "outputs": [],
   "source": [
    "#word break II\n",
    "def f5(s, wdic):\n",
    "    dp = [False]*(len(s)+1)\n",
    "    dp[0] = True\n",
    "    for i in range(1, len(s)+1):\n",
    "        for j in range(i):\n",
    "            if dp[j] and s[j:i] in wdic:\n",
    "                dp[i] = True\n",
    "                break\n",
    "    return dp[-1]\n",
    "\n",
    "def f5II(s, wordDict):\n",
    "    res = []\n",
    "    def dfs(s, wdic, path, res):\n",
    "        if f5(s, wdic):\n",
    "            if not s:\n",
    "                res.append(path[:-1])\n",
    "                return\n",
    "            for i in range(1, len(s)+1):\n",
    "                if s[:i] in wdic:\n",
    "                    dfs(s[i:], wdic, path+s[:i]+\" \", res)\n",
    "    \n",
    "    dfs(s, wordDict, '', res)\n",
    "    return res"
   ]
  },
  {
   "cell_type": "code",
   "execution_count": null,
   "metadata": {},
   "outputs": [],
   "source": [
    "#decode way\n",
    "def f6(s):\n",
    "    if not s or s[0] == \"0\":\n",
    "        return False\n",
    "    res = [1, 1]\n",
    "    for i in range(1, len(s)):\n",
    "        if s[i] == \"0\":\n",
    "            if int(s[i-1]) == 0 or 2 < int(s[i-1]) <= 9:\n",
    "                return 0\n",
    "            res.append(res[-2])\n",
    "        elif 10 <= int(s[i-1:i+1]) <= 26:\n",
    "            res.append(res[-1] + res[-2])\n",
    "        else:\n",
    "            res.append(res[-1])\n",
    "    return res[-1]\n",
    "                      \n",
    "        "
   ]
  },
  {
   "cell_type": "code",
   "execution_count": null,
   "metadata": {},
   "outputs": [],
   "source": []
  },
  {
   "cell_type": "code",
   "execution_count": null,
   "metadata": {},
   "outputs": [],
   "source": []
  }
 ],
 "metadata": {
  "kernelspec": {
   "display_name": "Python 3",
   "language": "python",
   "name": "python3"
  },
  "language_info": {
   "codemirror_mode": {
    "name": "ipython",
    "version": 3
   },
   "file_extension": ".py",
   "mimetype": "text/x-python",
   "name": "python",
   "nbconvert_exporter": "python",
   "pygments_lexer": "ipython3",
   "version": "3.7.6"
  }
 },
 "nbformat": 4,
 "nbformat_minor": 4
}
