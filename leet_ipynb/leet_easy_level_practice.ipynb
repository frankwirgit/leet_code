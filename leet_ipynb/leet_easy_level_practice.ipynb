{
 "cells": [
  {
   "cell_type": "code",
   "execution_count": null,
   "metadata": {},
   "outputs": [],
   "source": []
  },
  {
   "cell_type": "code",
   "execution_count": null,
   "metadata": {},
   "outputs": [],
   "source": [
    "1. Two Sum"
   ]
  },
  {
   "cell_type": "code",
   "execution_count": null,
   "metadata": {},
   "outputs": [],
   "source": [
    "def f1(nums, target):\n",
    "    dic, res = dict(), []\n",
    "    for n in nums:\n",
    "        if target - n in dic:\n",
    "            res.append(dic[target - n], n)\n",
    "        else:\n",
    "            dic[n] = i\n",
    "    return res\n"
   ]
  },
  {
   "cell_type": "code",
   "execution_count": null,
   "metadata": {},
   "outputs": [],
   "source": []
  },
  {
   "cell_type": "code",
   "execution_count": null,
   "metadata": {},
   "outputs": [],
   "source": [
    "7. Reverse Integer"
   ]
  },
  {
   "cell_type": "code",
   "execution_count": null,
   "metadata": {},
   "outputs": [],
   "source": [
    "def f7(N):\n",
    "    n, res = abs(N), 0\n",
    "    while n:\n",
    "        n, m =  divmod(n, 10)\n",
    "        res = res*10 + m\n",
    "        if res > 2**31-1 or re < -2**31:\n",
    "            return (\"Overflow\")\n",
    "    return -1 * res if N < 0 else res\n"
   ]
  },
  {
   "cell_type": "code",
   "execution_count": null,
   "metadata": {},
   "outputs": [],
   "source": []
  },
  {
   "cell_type": "code",
   "execution_count": null,
   "metadata": {},
   "outputs": [],
   "source": [
    "9. Palindrome Number"
   ]
  },
  {
   "cell_type": "code",
   "execution_count": null,
   "metadata": {},
   "outputs": [],
   "source": [
    "def f9(n):\n",
    "    if n < 0: return False\n",
    "    s = list(str(n))\n",
    "    return s == s[::-1]"
   ]
  },
  {
   "cell_type": "code",
   "execution_count": null,
   "metadata": {},
   "outputs": [],
   "source": []
  },
  {
   "cell_type": "code",
   "execution_count": null,
   "metadata": {},
   "outputs": [],
   "source": [
    "13. Roman to Integer\n",
    "def f13(s):\n",
    "    dic = dict(I=1, V=5, X=10, L=50, C=100, D=500, M=1000)\n",
    "    n, start = 0, \"M\"\n",
    "    for c in s:\n",
    "        if dic[c] > dic[start]:\n",
    "            n += dic[c] - 2*dic[start]\n",
    "        else:\n",
    "            n += dic[c]\n",
    "        start = c\n",
    "    return n"
   ]
  },
  {
   "cell_type": "code",
   "execution_count": null,
   "metadata": {},
   "outputs": [],
   "source": []
  },
  {
   "cell_type": "code",
   "execution_count": null,
   "metadata": {},
   "outputs": [],
   "source": []
  },
  {
   "cell_type": "code",
   "execution_count": null,
   "metadata": {},
   "outputs": [],
   "source": []
  },
  {
   "cell_type": "code",
   "execution_count": null,
   "metadata": {},
   "outputs": [],
   "source": [
    "14. Longest Common Prefix\n",
    "multiple words in strs"
   ]
  },
  {
   "cell_type": "code",
   "execution_count": null,
   "metadata": {},
   "outputs": [],
   "source": [
    "def f14(strs):\n",
    "    minL = min(map(len, strs)) if strs else 0\n",
    "    for i in range(minL):\n",
    "        for j in range(1, len(strs)):\n",
    "            if strs[j][i] != strs[0][i]:\n",
    "                return strs[0][:i]\n",
    "    return strs[0][:minL] if minL else \"\""
   ]
  },
  {
   "cell_type": "code",
   "execution_count": null,
   "metadata": {},
   "outputs": [],
   "source": []
  },
  {
   "cell_type": "code",
   "execution_count": null,
   "metadata": {},
   "outputs": [],
   "source": [
    "21. Merge Two Sorted Lists"
   ]
  },
  {
   "cell_type": "code",
   "execution_count": null,
   "metadata": {},
   "outputs": [],
   "source": [
    "def f21(L1, L2):\n",
    "    if not L1 or not L2:\n",
    "        return L1 or L2\n",
    "    if L1.val < L2.val:\n",
    "        L1.next = f21(L1.next, L2)\n",
    "        return L1\n",
    "    else:\n",
    "        L2.next = f21(L1, L2.next)\n",
    "        return L2\n",
    "\n",
    "def f21_2(L1, L2):\n",
    "    head = tmp = ListNode(0)\n",
    "    while L1 and L2:\n",
    "        if L1.val < L2.val:\n",
    "            tmp.next = L1\n",
    "            L1 = L1.next\n",
    "        else:\n",
    "            tmp.next = L2\n",
    "            L2 = L2.next\n",
    "        tmp = tmp.next\n",
    "    tmp.next = L1 or L2\n",
    "    return head.next\n",
    "    "
   ]
  },
  {
   "cell_type": "code",
   "execution_count": null,
   "metadata": {},
   "outputs": [],
   "source": []
  },
  {
   "cell_type": "code",
   "execution_count": null,
   "metadata": {},
   "outputs": [],
   "source": [
    "26. Remove Duplicates from Sorted Array"
   ]
  },
  {
   "cell_type": "code",
   "execution_count": null,
   "metadata": {},
   "outputs": [],
   "source": [
    "def f26(nums):\n",
    "    if not nums: return 0\n",
    "    j = 0\n",
    "    for i in range(1, len(nums)):\n",
    "        if nums[i] != nums[j]:\n",
    "            j += 1\n",
    "            nums[j] == nums[i]\n",
    "    return nums[:j+1]"
   ]
  },
  {
   "cell_type": "code",
   "execution_count": null,
   "metadata": {},
   "outputs": [],
   "source": []
  },
  {
   "cell_type": "code",
   "execution_count": null,
   "metadata": {},
   "outputs": [],
   "source": [
    "27. Remove Element\n",
    "Given an array nums and a value val, remove all instances of that value in-place and return the new length.\n"
   ]
  },
  {
   "cell_type": "code",
   "execution_count": null,
   "metadata": {},
   "outputs": [],
   "source": [
    "def f27(nums, val):\n",
    "    if not nums:\n",
    "        return []\n",
    "    j = 0\n",
    "    for i in range(len(nums)):\n",
    "        if nums[i] != val:\n",
    "            nums[j] = nums[i]\n",
    "            j += 1\n",
    "    return nums[:j]\n"
   ]
  },
  {
   "cell_type": "code",
   "execution_count": null,
   "metadata": {},
   "outputs": [],
   "source": []
  },
  {
   "cell_type": "code",
   "execution_count": null,
   "metadata": {},
   "outputs": [],
   "source": [
    "28. Implement strStr()\n",
    "Return the index of the first occurrence of needle in haystack, or -1 if needle is not part of haystack.\n"
   ]
  },
  {
   "cell_type": "code",
   "execution_count": null,
   "metadata": {},
   "outputs": [],
   "source": [
    "def f28(strs, substr):\n",
    "    if len(strs) < len(substr): return -1\n",
    "    for i in range(len(strs)-len(substr)+1):\n",
    "        if strs[i:i+len(substr)] == substr:\n",
    "            return i\n",
    "    return -1"
   ]
  },
  {
   "cell_type": "code",
   "execution_count": null,
   "metadata": {},
   "outputs": [],
   "source": []
  },
  {
   "cell_type": "code",
   "execution_count": null,
   "metadata": {},
   "outputs": [],
   "source": [
    "35. Search Insert Position\n",
    "\n",
    "Given a sorted array and a target value, return the index if the target is found. \n",
    "If not, return the index where it would be if it were inserted in order."
   ]
  },
  {
   "cell_type": "code",
   "execution_count": null,
   "metadata": {},
   "outputs": [],
   "source": [
    "def f35(nums, target):\n",
    "    l, h = 0, len(nums)-1\n",
    "    while l <= h:\n",
    "        mid = (l + h)//2\n",
    "        if nums[mid] == target:\n",
    "            return mid\n",
    "        elif nums[mid] < target:\n",
    "            l = mid + 1\n",
    "        else:\n",
    "            h = mid - 1\n",
    "    return l"
   ]
  },
  {
   "cell_type": "code",
   "execution_count": null,
   "metadata": {},
   "outputs": [],
   "source": []
  },
  {
   "cell_type": "code",
   "execution_count": null,
   "metadata": {},
   "outputs": [],
   "source": [
    "38. Count and Say"
   ]
  },
  {
   "cell_type": "code",
   "execution_count": null,
   "metadata": {},
   "outputs": [],
   "source": [
    "def f38(n):\n",
    "    res = \"1\"\n",
    "    for i in range(n-1):\n",
    "        ch, tmp, cnt = res[0], '', 0\n",
    "        for s in res:\n",
    "            if s == ch:\n",
    "                cnt += 1\n",
    "            else:\n",
    "                tmp += str(cnt) + ch\n",
    "                ch = s\n",
    "                cnt = 1\n",
    "        res = tmp + str(cnt) + ch\n",
    "    return res"
   ]
  },
  {
   "cell_type": "code",
   "execution_count": null,
   "metadata": {},
   "outputs": [],
   "source": []
  },
  {
   "cell_type": "code",
   "execution_count": null,
   "metadata": {},
   "outputs": [],
   "source": [
    "53. Maximum Subarray\n",
    "Given an integer array nums, find the contiguous subarray (containing at least one number) which has the largest sum and return its sum.\n",
    "Input: [-2,1,-3,4,-1,2,1,-5,4],\n",
    "Output: 6\n",
    "Explanation: [4,-1,2,1] has the largest sum = 6."
   ]
  },
  {
   "cell_type": "code",
   "execution_count": null,
   "metadata": {},
   "outputs": [],
   "source": [
    "def f53(nums):\n",
    "    if not nums: return 0\n",
    "    curs = maxs = nums[0]\n",
    "    for n in nums[1:]:\n",
    "        curs = max(n, curs+n)\n",
    "        maxs = max(maxs, curs)\n",
    "    return maxs"
   ]
  },
  {
   "cell_type": "code",
   "execution_count": null,
   "metadata": {},
   "outputs": [],
   "source": [
    "#get the start and end index\n",
    "def f53_2(nums):\n",
    "    if not nums: return 0\n",
    "    start = end = cstart = cend = 0\n",
    "    curs = maxs = nums[0]\n",
    "    for i in range(1, len(nums)):\n",
    "        if nums[i] > curs + nums[i]:\n",
    "            cstart = i\n",
    "        cend = i\n",
    "        curs = max(nums[i], curs+nums[i])\n",
    "        if curs > maxs:\n",
    "            start, end = cstart, cend\n",
    "        maxs = max(maxs, curs)\n",
    "    return maxs, start, end"
   ]
  },
  {
   "cell_type": "code",
   "execution_count": null,
   "metadata": {},
   "outputs": [],
   "source": []
  },
  {
   "cell_type": "code",
   "execution_count": null,
   "metadata": {},
   "outputs": [],
   "source": []
  },
  {
   "cell_type": "code",
   "execution_count": null,
   "metadata": {},
   "outputs": [],
   "source": [
    "58. Length of Last Word\n",
    "Given a string s consists of upper/lower-case alphabets and empty space characters ' ', \n",
    "return the length of last word in the string."
   ]
  },
  {
   "cell_type": "code",
   "execution_count": null,
   "metadata": {},
   "outputs": [],
   "source": [
    "def f58(s):\n",
    "    n = len(s.split())\n",
    "    return len(s.split()[-1]) if n else 0"
   ]
  },
  {
   "cell_type": "code",
   "execution_count": null,
   "metadata": {},
   "outputs": [],
   "source": []
  },
  {
   "cell_type": "code",
   "execution_count": null,
   "metadata": {},
   "outputs": [],
   "source": [
    "66. Plus One\n",
    "Given a non-empty array of digits representing a non-negative integer, plus one to the integer.\n"
   ]
  },
  {
   "cell_type": "code",
   "execution_count": null,
   "metadata": {},
   "outputs": [],
   "source": [
    "def f66(nums):\n",
    "    carry = 1\n",
    "    for i in range(len(nums)-1, -1, -1):\n",
    "        carry, nums[i] = divmod(nums[i]+carry, 10)\n",
    "        if carry == 0:\n",
    "            return nums\n",
    "    return [1] + nums"
   ]
  },
  {
   "cell_type": "code",
   "execution_count": null,
   "metadata": {},
   "outputs": [],
   "source": []
  },
  {
   "cell_type": "code",
   "execution_count": null,
   "metadata": {},
   "outputs": [],
   "source": [
    "67. Add Binary\n",
    "Given two binary strings, return their sum (also a binary string)."
   ]
  },
  {
   "cell_type": "code",
   "execution_count": null,
   "metadata": {},
   "outputs": [],
   "source": [
    "def f67(a, b):\n",
    "    i, j, carry, res = len(a)-1, len(b)-1, 0, \"\"\n",
    "    while i >= 0 and j >= 0 or carry:\n",
    "        if i >= 0:\n",
    "            carry += int(a[i])\n",
    "            i -= 1\n",
    "        if j >= 0:\n",
    "            carry += int(b[j])\n",
    "            j -= 1\n",
    "        carry, d = divmod(carry, 2)\n",
    "        res = str(d) + res\n",
    "    return res"
   ]
  },
  {
   "cell_type": "code",
   "execution_count": null,
   "metadata": {},
   "outputs": [],
   "source": []
  },
  {
   "cell_type": "code",
   "execution_count": null,
   "metadata": {},
   "outputs": [],
   "source": [
    "69. Sqrt(x)"
   ]
  },
  {
   "cell_type": "code",
   "execution_count": null,
   "metadata": {},
   "outputs": [],
   "source": [
    "def f69(x):\n",
    "    l, r = 0, x\n",
    "    while l <= r:\n",
    "        mid = (l + r)//2\n",
    "        if mid * mid <= x < (mid+1)*(mid+1):\n",
    "            return mid\n",
    "        elif mid * mid < x:\n",
    "            l = mid + 1\n",
    "        else:\n",
    "            r = mid"
   ]
  },
  {
   "cell_type": "code",
   "execution_count": null,
   "metadata": {},
   "outputs": [],
   "source": []
  },
  {
   "cell_type": "code",
   "execution_count": null,
   "metadata": {},
   "outputs": [],
   "source": [
    "70. Climbing Stairs\n",
    "Each time you can either climb 1 or 2 steps. In how many distinct ways can you climb to the top?\n"
   ]
  },
  {
   "cell_type": "code",
   "execution_count": null,
   "metadata": {},
   "outputs": [],
   "source": [
    "def f70(n):\n",
    "    res = [0] * n\n",
    "    res[0], res[1] = 1, 2\n",
    "    for i in range(2, n):\n",
    "        res[i] = res[i-1] + res[i-2]\n",
    "    return res[-1]"
   ]
  },
  {
   "cell_type": "code",
   "execution_count": null,
   "metadata": {},
   "outputs": [],
   "source": []
  },
  {
   "cell_type": "code",
   "execution_count": null,
   "metadata": {},
   "outputs": [],
   "source": [
    "83. Remove Duplicates from Sorted List"
   ]
  },
  {
   "cell_type": "code",
   "execution_count": null,
   "metadata": {},
   "outputs": [],
   "source": [
    "def f83(head):\n",
    "    cur = head\n",
    "    while cur and cur.next:\n",
    "        if cur.val == cur.next.val\n",
    "            cur.next = cur.next.next\n",
    "        else:\n",
    "            cur = cur.next\n",
    "    return head"
   ]
  },
  {
   "cell_type": "code",
   "execution_count": null,
   "metadata": {},
   "outputs": [],
   "source": []
  },
  {
   "cell_type": "code",
   "execution_count": null,
   "metadata": {},
   "outputs": [],
   "source": [
    "88. Merge Sorted Array"
   ]
  },
  {
   "cell_type": "code",
   "execution_count": null,
   "metadata": {},
   "outputs": [],
   "source": [
    "def f88(nums1, nums2):\n",
    "    m, n = len(nums1), len(nums2)\n",
    "    i, j, k = m-1, n-1, m+n-1\n",
    "    while i>=0 and j>=0:\n",
    "        if nums1[i] > mums2[j]:\n",
    "            nums1[k] = nums1[i]\n",
    "            i -= 1\n",
    "        else:\n",
    "            nums1[k] = nums2[j]\n",
    "            j -= 1\n",
    "        k -= 1\n",
    "    if j >= 0:\n",
    "        nums1[:k+1] = nums2[:j+1]\n",
    "    return nums1"
   ]
  },
  {
   "cell_type": "code",
   "execution_count": null,
   "metadata": {},
   "outputs": [],
   "source": []
  },
  {
   "cell_type": "code",
   "execution_count": null,
   "metadata": {},
   "outputs": [],
   "source": [
    "93. Restore IP Addresses\n",
    "Medium\n",
    "\n",
    "Given a string containing only digits, restore it by returning all possible valid IP address combinations.\n",
    "\n",
    "A valid IP address consists of exactly four integers (each integer is between 0 and 255) separated by single points.\n",
    "\n",
    "Example:\n",
    "\n",
    "Input: \"25525511135\"\n",
    "Output: [\"255.255.11.135\", \"255.255.111.35\"]\n",
    "\n"
   ]
  },
  {
   "cell_type": "code",
   "execution_count": null,
   "metadata": {},
   "outputs": [],
   "source": [
    "def restoreIpAddresses(self, s):\n",
    "        if len(s)>12: return []\n",
    "        def check(s): return 0 <= int(s) <= 255 and str(int(s)) == s\n",
    "        return [s[:i] + \".\" + s[i:j] + \".\" + s[j:k] + \".\" + s[k:] \n",
    "                for i,j,k in itertools.combinations(range(1, len(s)),3)\n",
    "                if check(s[:i]) and check(s[i:j]) and check(s[j:k]) and check(s[k:])]"
   ]
  },
  {
   "cell_type": "code",
   "execution_count": null,
   "metadata": {},
   "outputs": [],
   "source": [
    "class Solution(object):\n",
    "    def restoreIpAddresses(self, s):\n",
    "        \"\"\"\n",
    "        :type s: str\n",
    "        :rtype: List[str]\n",
    "        \"\"\"\n",
    "        ans = []\n",
    "        self.helper(ans, s, 4, [])   #k = 4, 4 parts\n",
    "        return ['.'.join(x) for x in ans]\n",
    "        \n",
    "    def helper(self, ans, s, k, temp):\n",
    "        if len(s) > k*3:\n",
    "            return\n",
    "        if k == 0:\n",
    "            ans.append(temp[:])\n",
    "        else:\n",
    "            for i in range(min(3,len(s)-k+1)):  #len(s) - (k-1)\n",
    "                if i==2 and int(s[:3]) > 255 or i > 0 and s[0] == '0':\n",
    "                    continue\n",
    "                self.helper(ans, s[i+1:], k-1, temp+[s[:i+1]])"
   ]
  },
  {
   "cell_type": "code",
   "execution_count": null,
   "metadata": {},
   "outputs": [],
   "source": []
  },
  {
   "cell_type": "code",
   "execution_count": null,
   "metadata": {},
   "outputs": [],
   "source": [
    "100. "
   ]
  },
  {
   "cell_type": "code",
   "execution_count": null,
   "metadata": {},
   "outputs": [],
   "source": []
  },
  {
   "cell_type": "code",
   "execution_count": null,
   "metadata": {},
   "outputs": [],
   "source": [
    "101. Symmetric Tree"
   ]
  },
  {
   "cell_type": "code",
   "execution_count": null,
   "metadata": {},
   "outputs": [],
   "source": [
    "def f101(root):\n",
    "    if not root: return True\n",
    "    def helper(L, R):\n",
    "        if L and R and L.val == R.val:\n",
    "            return helper(L.left, R.right) and helper(L.right, R.left)\n",
    "        return L == R\n",
    "    return helper(root.left, root.right)\n",
    "\n",
    "def f101_2(root):\n",
    "    q = [root]\n",
    "    while q:\n",
    "        ndval = [node.val if node else None for node in q]\n",
    "        if ndval != ndval[::-1]:\n",
    "            return False\n",
    "        q = [child for node in q if node for child in (node.left, node.right)]\n"
   ]
  },
  {
   "cell_type": "code",
   "execution_count": null,
   "metadata": {},
   "outputs": [],
   "source": []
  },
  {
   "cell_type": "code",
   "execution_count": null,
   "metadata": {},
   "outputs": [],
   "source": [
    "107. Binary Tree Level Order Traversal II\n",
    "\n",
    "Given a binary tree, return the bottom-up level order traversal of its nodes' values.\n",
    "Given binary tree [3,9,20,null,null,15,7],\n",
    "    3\n",
    "   / \\\n",
    "  9  20\n",
    "    /  \\\n",
    "   15   7\n",
    "return its bottom-up level order traversal as:\n",
    "[\n",
    "  [15,7],\n",
    "  [9,20],\n",
    "  [3]\n",
    "]\n"
   ]
  },
  {
   "cell_type": "code",
   "execution_count": null,
   "metadata": {},
   "outputs": [],
   "source": [
    "def f107(root):\n",
    "    def dfs(root, level, res):\n",
    "        if not root: return \n",
    "        if len(res) < level + 1:\n",
    "            res.insert(0, [])\n",
    "            res[-(level+1)].append(root.val)\n",
    "            dfs(root.left, level+1, res)\n",
    "            dfs(root.right, level+1, res)\n",
    "    res = []\n",
    "    dfs(root, 0, res)\n",
    "    return res\n",
    "\n",
    "def f107_2(root):\n",
    "    if not root: return []\n",
    "    res, stack = [], [(root, 0)]\n",
    "    while stack:\n",
    "        node, level = stack.pop()\n",
    "        if node:\n",
    "            if len(res) < level + 1:\n",
    "                res.insert(0, [])\n",
    "            res[-(level+1)].append(node.val)\n",
    "            stack.append((node.right, level+1))\n",
    "            stack.append((node.left, level+1))\n",
    "    return res"
   ]
  },
  {
   "cell_type": "code",
   "execution_count": null,
   "metadata": {},
   "outputs": [],
   "source": []
  },
  {
   "cell_type": "code",
   "execution_count": null,
   "metadata": {},
   "outputs": [],
   "source": [
    "108. Convert Sorted Array to Binary Search Tree"
   ]
  },
  {
   "cell_type": "code",
   "execution_count": null,
   "metadata": {},
   "outputs": [],
   "source": [
    "def f108(nums):\n",
    "    l, r = 0, len(nums)-1\n",
    "    if l <= r:\n",
    "        mid = (l + r)//2\n",
    "        root = TreeNode(nums[mid])\n",
    "        root.left = f108(nums[:mid])\n",
    "        root.right = f108(nums[mid+1:])\n",
    "        return root"
   ]
  },
  {
   "cell_type": "code",
   "execution_count": null,
   "metadata": {},
   "outputs": [],
   "source": []
  },
  {
   "cell_type": "code",
   "execution_count": null,
   "metadata": {},
   "outputs": [],
   "source": []
  },
  {
   "cell_type": "code",
   "execution_count": null,
   "metadata": {},
   "outputs": [],
   "source": [
    "110. Balanced Binary Tree\n",
    "a binary tree in which the depth of the two subtrees of every node never differ by more than 1."
   ]
  },
  {
   "cell_type": "code",
   "execution_count": null,
   "metadata": {},
   "outputs": [],
   "source": [
    "def f110(root):\n",
    "    if not root: return True\n",
    "    def helper(node):\n",
    "        if not node: return 0\n",
    "        return 1 + max(helper(root.left), helper(root.right))\n",
    "    \n",
    "    return abs(helper(root.left) - helper(root.right))<2 and \\\n",
    "    f110(root.left) and f110(root.right)"
   ]
  },
  {
   "cell_type": "code",
   "execution_count": null,
   "metadata": {},
   "outputs": [],
   "source": []
  },
  {
   "cell_type": "code",
   "execution_count": null,
   "metadata": {},
   "outputs": [],
   "source": [
    "111. Minimum Depth of Binary Tree\n",
    "Given binary tree [3,9,20,null,null,15,7],\n",
    "\n",
    "    3\n",
    "   / \\\n",
    "  9  20\n",
    "    /  \\\n",
    "   15   7\n",
    "return its minimum depth = 2."
   ]
  },
  {
   "cell_type": "code",
   "execution_count": null,
   "metadata": {},
   "outputs": [],
   "source": [
    "def f111(root):\n",
    "    if not root: return 0\n",
    "    if not root.left or not root.right:\n",
    "        return max(f111(root.left), f111(root.right))\n",
    "    else:\n",
    "        return min(f111(root.left), f111(root.right))\n",
    "    \n",
    "def f111_2(root):\n",
    "    if not root: return 0\n",
    "    q = collections.deque([root, 1])\n",
    "    while q:\n",
    "        node, level = q.popleft()\n",
    "        if node:\n",
    "            if not node.left and not node.right:\n",
    "                return level\n",
    "            else:\n",
    "                q.append([node.left, level+1])\n",
    "                q.append([node.right, level+1])\n"
   ]
  },
  {
   "cell_type": "code",
   "execution_count": null,
   "metadata": {},
   "outputs": [],
   "source": []
  },
  {
   "cell_type": "code",
   "execution_count": null,
   "metadata": {},
   "outputs": [],
   "source": [
    "112. Path Sum\n",
    "\n",
    "Given a binary tree and a sum, \n",
    "determine if the tree has a root-to-leaf path such that \n",
    "adding up all the values along the path equals the given sum.\n"
   ]
  },
  {
   "cell_type": "code",
   "execution_count": null,
   "metadata": {},
   "outputs": [],
   "source": [
    "def f112(root, target):\n",
    "    if not root: return False\n",
    "    stk = [(root, target)]\n",
    "    while stk:\n",
    "        node, t = stk.pop()\n",
    "        if not node.left and not node.right and node.val == t:\n",
    "            return True\n",
    "        if node.left:\n",
    "            stk.append((node.left, t - node.val))\n",
    "        if node.right:\n",
    "            stk.append((node.right, t - node.val))"
   ]
  },
  {
   "cell_type": "code",
   "execution_count": null,
   "metadata": {},
   "outputs": [],
   "source": []
  },
  {
   "cell_type": "code",
   "execution_count": null,
   "metadata": {},
   "outputs": [],
   "source": [
    "118. Pascal's Triangle"
   ]
  },
  {
   "cell_type": "code",
   "execution_count": null,
   "metadata": {},
   "outputs": [],
   "source": [
    "def f118(k):\n",
    "    res = [[1 for _ in range(i+1)] for i in range(n)]\n",
    "    for i in range(2, k):\n",
    "        for j in range(1, i):\n",
    "            res[i][j] = res[i-1][j-1] + res[i-1][j]\n",
    "    return res"
   ]
  },
  {
   "cell_type": "code",
   "execution_count": null,
   "metadata": {},
   "outputs": [],
   "source": []
  },
  {
   "cell_type": "code",
   "execution_count": null,
   "metadata": {},
   "outputs": [],
   "source": [
    "119. Pascal's Triangle II"
   ]
  },
  {
   "cell_type": "code",
   "execution_count": null,
   "metadata": {},
   "outputs": [],
   "source": [
    "def f119(k):\n",
    "    res = [[1]*i for i in range(1, k+2)]\n",
    "    for i in range(2, k+1):\n",
    "        for j in rnage(1, i):\n",
    "            res[i][j] = res[i-1][j-1] + res[i-1][j]\n",
    "    return res[-1]\n"
   ]
  },
  {
   "cell_type": "code",
   "execution_count": 19,
   "metadata": {},
   "outputs": [
    {
     "name": "stdout",
     "output_type": "stream",
     "text": [
      "[[1], [1, 1], [1, 1, 1], [1, 1, 1, 1]]\n",
      "[[1], [1, 1], [1, 1, 1], [1, 1, 1, 1]]\n"
     ]
    }
   ],
   "source": [
    "n = 3\n",
    "res = [[1 for _ in range(i+1)] for i in range(n+1)]\n",
    "print(res)\n",
    "res = [[1]*i for i in range(1, n+2)]\n",
    "print(res)"
   ]
  },
  {
   "cell_type": "code",
   "execution_count": null,
   "metadata": {},
   "outputs": [],
   "source": []
  },
  {
   "cell_type": "code",
   "execution_count": null,
   "metadata": {},
   "outputs": [],
   "source": [
    "121. Best Time to Buy and Sell Stock"
   ]
  },
  {
   "cell_type": "code",
   "execution_count": null,
   "metadata": {},
   "outputs": [],
   "source": [
    "def f121(nums):\n",
    "    if not nums: return 0\n",
    "    minc, maxc = nums[0], 0\n",
    "    for n in nums:\n",
    "        minc = min(minc, n)\n",
    "        maxc = max(maxc, n - minc)\n",
    "    return maxc"
   ]
  },
  {
   "cell_type": "code",
   "execution_count": null,
   "metadata": {},
   "outputs": [],
   "source": []
  },
  {
   "cell_type": "code",
   "execution_count": null,
   "metadata": {},
   "outputs": [],
   "source": [
    "122. Best Time to Buy and Sell Stock II"
   ]
  },
  {
   "cell_type": "code",
   "execution_count": null,
   "metadata": {},
   "outputs": [],
   "source": [
    "def f122(nums):\n",
    "    return sum([max(nums[i]-nums[i-1], 0) for i in range(1, len(nums))])"
   ]
  },
  {
   "cell_type": "code",
   "execution_count": null,
   "metadata": {},
   "outputs": [],
   "source": []
  },
  {
   "cell_type": "code",
   "execution_count": null,
   "metadata": {},
   "outputs": [],
   "source": [
    "125. Valid Palindrome"
   ]
  },
  {
   "cell_type": "code",
   "execution_count": null,
   "metadata": {},
   "outputs": [],
   "source": [
    "import re\n",
    "def f125(s):\n",
    "    s1 = \"\".join(re.findall(\"[a-zA-Z0-9]*\", s)).lower()\n",
    "    return s1 = s[::-1]\n"
   ]
  },
  {
   "cell_type": "code",
   "execution_count": null,
   "metadata": {},
   "outputs": [],
   "source": []
  },
  {
   "cell_type": "code",
   "execution_count": null,
   "metadata": {},
   "outputs": [],
   "source": [
    "141. Linked List Cycle"
   ]
  },
  {
   "cell_type": "code",
   "execution_count": null,
   "metadata": {},
   "outputs": [],
   "source": [
    "def f141(head):\n",
    "    fast = slow = head\n",
    "    while fast and fast.next:\n",
    "        fast = fast.next.next\n",
    "        slow = slow.next\n",
    "        if fast == slow:\n",
    "            return True\n",
    "    return False"
   ]
  },
  {
   "cell_type": "code",
   "execution_count": null,
   "metadata": {},
   "outputs": [],
   "source": []
  },
  {
   "cell_type": "code",
   "execution_count": null,
   "metadata": {},
   "outputs": [],
   "source": [
    "155. Min Stack\n",
    "#Design"
   ]
  },
  {
   "cell_type": "code",
   "execution_count": null,
   "metadata": {},
   "outputs": [],
   "source": []
  },
  {
   "cell_type": "code",
   "execution_count": null,
   "metadata": {},
   "outputs": [],
   "source": []
  },
  {
   "cell_type": "code",
   "execution_count": null,
   "metadata": {},
   "outputs": [],
   "source": [
    "157. Read N Characters Given Read4"
   ]
  },
  {
   "cell_type": "code",
   "execution_count": null,
   "metadata": {},
   "outputs": [],
   "source": [
    "def red(buf, n):\n",
    "    size, buf = 0, [\"\"]*4\n",
    "    while size < n:\n",
    "        size4 = read4(buf4)\n",
    "        if not size4:\n",
    "            break\n",
    "        size4 = min(size4, n - size)\n",
    "        buf[size:] = buf4[:size4]\n",
    "        size += size4\n",
    "    return size"
   ]
  },
  {
   "cell_type": "code",
   "execution_count": null,
   "metadata": {},
   "outputs": [],
   "source": []
  },
  {
   "cell_type": "code",
   "execution_count": null,
   "metadata": {},
   "outputs": [],
   "source": [
    "158. Read N Characters Given Read4 II - Call multiple times   "
   ]
  },
  {
   "cell_type": "code",
   "execution_count": null,
   "metadata": {},
   "outputs": [],
   "source": [
    "class f158:\n",
    "    def __init__(self):\n",
    "        self.buf4ptr = 0\n",
    "        self.buf4cnt = 0\n",
    "        slef.buf4 = [\"\"]*4\n",
    "        \n",
    "    def read(self, buf, n):\n",
    "        ptr = 0\n",
    "        while ptr < n:\n",
    "            if self.buf4ptr  == 0:\n",
    "                self.buf4cnt = read(self.buf4)\n",
    "            if self.buf4cnt == 0:\n",
    "                break\n",
    "            while ptr < n and self.buf4ptr < self.buf4cnt:\n",
    "                buf[ptr] = self.buf4[self.buf4ptr]\n",
    "                ptr += 1\n",
    "                self.buf4ptr += 1\n",
    "            if self.buf4ptr >= self.buf4cnt:\n",
    "                self.buf4ptr = 0\n",
    "        return ptr"
   ]
  },
  {
   "cell_type": "code",
   "execution_count": null,
   "metadata": {},
   "outputs": [],
   "source": []
  },
  {
   "cell_type": "code",
   "execution_count": null,
   "metadata": {},
   "outputs": [],
   "source": [
    "160. Intersection of Two Linked Lists"
   ]
  },
  {
   "cell_type": "code",
   "execution_count": null,
   "metadata": {},
   "outputs": [],
   "source": [
    "def f160(L1, L2):\n",
    "    if not L1 or not L2: return None\n",
    "    p1, p2 = L1, L2\n",
    "    while p1 is not p2:\n",
    "        p1 = L2 if not p1 else p1.next\n",
    "        p2 = L1 if not p2 else p2.next\n",
    "    return p1"
   ]
  },
  {
   "cell_type": "code",
   "execution_count": null,
   "metadata": {},
   "outputs": [],
   "source": []
  },
  {
   "cell_type": "code",
   "execution_count": null,
   "metadata": {},
   "outputs": [],
   "source": [
    "167. Two Sum II - Input array is sorted"
   ]
  },
  {
   "cell_type": "code",
   "execution_count": null,
   "metadata": {},
   "outputs": [],
   "source": [
    "def f167(nums, target):\n",
    "    for i in range(len(nums)):\n",
    "        l, r, tmp = i+1, len(nums)-1, target - nums[i]\n",
    "        while l <= r:\n",
    "            mid = (l + r)//2\n",
    "            if nums[mid] == tmp:\n",
    "                return [i+1, mid+1]\n",
    "            elif nums[mid] < tmp:\n",
    "                l = mid + 1\n",
    "            else:\n",
    "                r = mid - 1\n",
    "                "
   ]
  },
  {
   "cell_type": "code",
   "execution_count": null,
   "metadata": {},
   "outputs": [],
   "source": []
  },
  {
   "cell_type": "code",
   "execution_count": null,
   "metadata": {},
   "outputs": [],
   "source": [
    "168. Excel Sheet Column Title "
   ]
  },
  {
   "cell_type": "code",
   "execution_count": null,
   "metadata": {},
   "outputs": [],
   "source": [
    "def f168(n):\n",
    "    dic = [chr(x) for x in range(ord('A'), ord('Z')+1)]\n",
    "    res = \"\"\n",
    "    while n:\n",
    "        n, m = divmod(n-1, 26)\n",
    "        res = dic[m] + res\n",
    "    return res"
   ]
  },
  {
   "cell_type": "code",
   "execution_count": 31,
   "metadata": {},
   "outputs": [
    {
     "name": "stdout",
     "output_type": "stream",
     "text": [
      "['A', 'B', 'C', 'D', 'E', 'F', 'G', 'H', 'I', 'J', 'K', 'L', 'M', 'N', 'O', 'P', 'Q', 'R', 'S', 'T', 'U', 'V', 'W', 'X', 'Y', 'Z']\n"
     ]
    }
   ],
   "source": [
    "print([chr(x) for x in range(ord('A'), ord('Z')+1)])"
   ]
  },
  {
   "cell_type": "code",
   "execution_count": null,
   "metadata": {},
   "outputs": [],
   "source": []
  },
  {
   "cell_type": "code",
   "execution_count": null,
   "metadata": {},
   "outputs": [],
   "source": [
    "169. Majority Element\n",
    "Given an array of size n, find the majority element. \n",
    "The majority element is the element that appears more than ⌊ n/2 ⌋ times."
   ]
  },
  {
   "cell_type": "code",
   "execution_count": null,
   "metadata": {},
   "outputs": [],
   "source": [
    "def f169(nums):\n",
    "    return sorted(nums)[int(len(nums)/2)]\n",
    "def f169_2(nums):\n",
    "    return collections.Counter(nums).most_common(1)[0][0]\n",
    "def f169_3(nums):\n",
    "    cnt, res = 0, ''\n",
    "    for n in nums:\n",
    "        if cnt == 0:\n",
    "            res = n\n",
    "            cnt += 1 if n == res else -1\n",
    "    return res"
   ]
  },
  {
   "cell_type": "code",
   "execution_count": 41,
   "metadata": {},
   "outputs": [
    {
     "name": "stdout",
     "output_type": "stream",
     "text": [
      "a\n"
     ]
    }
   ],
   "source": [
    "import collections\n",
    "nums = ['a','a','a','b','b','c','c','d']\n",
    "print(list(collections.Counter(nums).most_common())[0][0])"
   ]
  },
  {
   "cell_type": "code",
   "execution_count": null,
   "metadata": {},
   "outputs": [],
   "source": []
  },
  {
   "cell_type": "code",
   "execution_count": null,
   "metadata": {},
   "outputs": [],
   "source": [
    "170. Two Sum III - Data structure design\n",
    "#Design"
   ]
  },
  {
   "cell_type": "code",
   "execution_count": null,
   "metadata": {},
   "outputs": [],
   "source": [
    "class f170:\n",
    "    def __init__(self):\n",
    "        self.dic={}\n",
    "    \n",
    "    def add(self,n):\n",
    "        self.dic[n]=self.dic.get(n,0)+1\n",
    "    \n",
    "    def find(self,target):\n",
    "        for m in dic:\n",
    "            if target-m in dic and (target-m != m or dic[m]>1):\n",
    "                return True\n",
    "        return False"
   ]
  },
  {
   "cell_type": "code",
   "execution_count": null,
   "metadata": {},
   "outputs": [],
   "source": []
  },
  {
   "cell_type": "code",
   "execution_count": null,
   "metadata": {},
   "outputs": [],
   "source": [
    "171. Excel Sheet Column Number\n",
    "Given a column title as appear in an Excel sheet, return its corresponding column number."
   ]
  },
  {
   "cell_type": "code",
   "execution_count": null,
   "metadata": {},
   "outputs": [],
   "source": [
    "def f171(s):\n",
    "    res = 0\n",
    "    for c in s:\n",
    "        res = res*26 + ord(c) - ord('A') + 1\n",
    "    return res"
   ]
  },
  {
   "cell_type": "code",
   "execution_count": null,
   "metadata": {},
   "outputs": [],
   "source": []
  },
  {
   "cell_type": "code",
   "execution_count": null,
   "metadata": {},
   "outputs": [],
   "source": [
    "172. Factorial Trailing Zeroes\n",
    "Given an integer n, return the number of trailing zeroes in n!."
   ]
  },
  {
   "cell_type": "code",
   "execution_count": null,
   "metadata": {},
   "outputs": [],
   "source": [
    "def f172(n):\n",
    "    k, cnt = 5, 0\n",
    "    while k <= n:\n",
    "        cnt += n//k\n",
    "        k = k*5\n",
    "    return cnt"
   ]
  },
  {
   "cell_type": "code",
   "execution_count": null,
   "metadata": {},
   "outputs": [],
   "source": []
  },
  {
   "cell_type": "code",
   "execution_count": null,
   "metadata": {},
   "outputs": [],
   "source": [
    "175. Combine Two Tables\n",
    "#SQL\n",
    "select irstName, LastName, City, State from Person left join Address on Person.PersonId=Address.PersonId;"
   ]
  },
  {
   "cell_type": "code",
   "execution_count": null,
   "metadata": {},
   "outputs": [],
   "source": []
  },
  {
   "cell_type": "code",
   "execution_count": null,
   "metadata": {},
   "outputs": [],
   "source": []
  },
  {
   "cell_type": "code",
   "execution_count": null,
   "metadata": {},
   "outputs": [],
   "source": [
    "176. Second Highest Salary   \n",
    "#SQL\n",
    "select max(a.Salary) as second_max from Employee a,\n",
    "(select max(Salary) as first_max from Employee)\n",
    "where a.Salary<first_max\n",
    "\n",
    "select Id, max(Salary) as Salary from Employee where Salary<(select max(Salary) from Employee);\n",
    "\n",
    "#Nth salary\n",
    "Select salary from employee A where n-1 = \n",
    "(Select count(1) from employee B where B.salary>A.salary)\n",
    "#OR\n",
    "select salary from employee order by salary desc limit n-1,1;\n",
    "#OR\n",
    "select salary from\n",
    "(\n",
    "SELECT *\n",
    "   DENSE_RANK() OVER (ORDER BY Salary Desc) AS Rnk\n",
    "FROM Employees\n",
    ")\n",
    "where Rnk=n;\n"
   ]
  },
  {
   "cell_type": "code",
   "execution_count": null,
   "metadata": {},
   "outputs": [],
   "source": []
  },
  {
   "cell_type": "code",
   "execution_count": null,
   "metadata": {},
   "outputs": [],
   "source": [
    "181. Employees Earning More Than Their Managers\n",
    "#SQL\n",
    "select a.Id from Employee a inner join Employee b on a.ManagerId=b.Id and a.Salary>b.Salary\n",
    "#OR\n",
    "SELECT * FROM Employee AS a, Employee AS b WHERE a.ManagerId = b.Id AND a.Salary > b.Salary"
   ]
  },
  {
   "cell_type": "code",
   "execution_count": null,
   "metadata": {},
   "outputs": [],
   "source": []
  },
  {
   "cell_type": "code",
   "execution_count": null,
   "metadata": {},
   "outputs": [],
   "source": []
  },
  {
   "cell_type": "code",
   "execution_count": null,
   "metadata": {},
   "outputs": [],
   "source": [
    "183. Customers Who Never Order\n",
    "#SQL\n",
    "select * from Customers where Id not in (select distinct CustomerId from Orders);"
   ]
  },
  {
   "cell_type": "code",
   "execution_count": null,
   "metadata": {},
   "outputs": [],
   "source": []
  },
  {
   "cell_type": "code",
   "execution_count": null,
   "metadata": {},
   "outputs": [],
   "source": [
    "1083. Sales Analysis II\n",
    "#SQL\n",
    "select buyer_id from Sales where product_id not in (select product_id in Product where product_name='iPhone')\n",
    "and product_id in (select product_id in (select product_id in Product where product_name='S8'));"
   ]
  },
  {
   "cell_type": "code",
   "execution_count": null,
   "metadata": {},
   "outputs": [],
   "source": []
  },
  {
   "cell_type": "code",
   "execution_count": null,
   "metadata": {},
   "outputs": [],
   "source": []
  },
  {
   "cell_type": "code",
   "execution_count": null,
   "metadata": {},
   "outputs": [],
   "source": [
    "189. Rotate Array\n",
    "#right rotate k steps"
   ]
  },
  {
   "cell_type": "code",
   "execution_count": null,
   "metadata": {},
   "outputs": [],
   "source": [
    "def f189(nums, k):\n",
    "    if not nums or not k:\n",
    "        return None\n",
    "    k %= len(nums)\n",
    "    if k:\n",
    "        nums[:-k], nums[-k:] = nums[k:], nums[:k]\n",
    "    return nums"
   ]
  },
  {
   "cell_type": "code",
   "execution_count": null,
   "metadata": {},
   "outputs": [],
   "source": []
  },
  {
   "cell_type": "code",
   "execution_count": null,
   "metadata": {},
   "outputs": [],
   "source": [
    "190. Reverse Bits\n",
    "Reverse bits of a given 32 bits unsigned integer."
   ]
  },
  {
   "cell_type": "code",
   "execution_count": null,
   "metadata": {},
   "outputs": [],
   "source": [
    "def f190(n):\n",
    "    res = 0\n",
    "    for _ in range(32):\n",
    "        res = res*2 + n%2\n",
    "        n //= 2\n",
    "    return res"
   ]
  },
  {
   "cell_type": "code",
   "execution_count": null,
   "metadata": {},
   "outputs": [],
   "source": []
  },
  {
   "cell_type": "code",
   "execution_count": null,
   "metadata": {},
   "outputs": [],
   "source": [
    "191. Number of 1 Bits\n",
    "Write a function that takes an unsigned integer and return the number of '1' bits it has (also known as the Hamming weight).\n"
   ]
  },
  {
   "cell_type": "code",
   "execution_count": null,
   "metadata": {},
   "outputs": [],
   "source": [
    "def f191(n):\n",
    "    res = 0\n",
    "    for i in range(32):\n",
    "        res += n%2\n",
    "        n //= 2\n",
    "    return res"
   ]
  },
  {
   "cell_type": "code",
   "execution_count": null,
   "metadata": {},
   "outputs": [],
   "source": []
  },
  {
   "cell_type": "code",
   "execution_count": null,
   "metadata": {},
   "outputs": [],
   "source": []
  },
  {
   "cell_type": "code",
   "execution_count": null,
   "metadata": {},
   "outputs": [],
   "source": [
    "193. Valid Phone Numbers\n",
    "#Shell\n",
    "egrep -o \"^( ([0-9]{3}\\-) | (\\([0-9]{3}\\)) ){1} [0-9]{3}\\-[0-9]{4}$\" file.txt"
   ]
  },
  {
   "cell_type": "code",
   "execution_count": null,
   "metadata": {},
   "outputs": [],
   "source": []
  },
  {
   "cell_type": "code",
   "execution_count": null,
   "metadata": {},
   "outputs": [],
   "source": [
    "195. Tenth Line\n",
    "#Shell\n",
    "Given a text file file.txt, print just the 10th line of the file.\n",
    "\n",
    "#bash script\n",
    "awk 'NR==10' file.txt\n",
    "sed -n '10p'< file.txt\n",
    "tail -n +10 file.txt | head -n 1"
   ]
  },
  {
   "cell_type": "code",
   "execution_count": null,
   "metadata": {},
   "outputs": [],
   "source": []
  },
  {
   "cell_type": "code",
   "execution_count": null,
   "metadata": {},
   "outputs": [],
   "source": [
    "196. Delete Duplicate Emails\n",
    "#SQL\n",
    "select Id, Email from\n",
    "(select *,\n",
    "row_number( ) over (partition by Email order by Id desc) as row_rank\n",
    "from Person) base0\n",
    "where row_rank = 1"
   ]
  },
  {
   "cell_type": "code",
   "execution_count": null,
   "metadata": {},
   "outputs": [],
   "source": []
  },
  {
   "cell_type": "code",
   "execution_count": null,
   "metadata": {},
   "outputs": [],
   "source": [
    "197. Rising Temperature\n",
    "#SQL\n",
    "select distinct a.Id from Weather a inner join Weather b on a.Temperature>b.Temperature \n",
    "and DATEDIFF(a.RecordDate,b.RecordDate)=1;"
   ]
  },
  {
   "cell_type": "code",
   "execution_count": null,
   "metadata": {},
   "outputs": [],
   "source": []
  },
  {
   "cell_type": "code",
   "execution_count": null,
   "metadata": {},
   "outputs": [],
   "source": [
    "198. House Robber"
   ]
  },
  {
   "cell_type": "code",
   "execution_count": null,
   "metadata": {},
   "outputs": [],
   "source": [
    "def f198(nums):\n",
    "    prev, now = 0, 0\n",
    "    for i in nums:\n",
    "        prev, now = now, max(prev + i, now)\n",
    "    return now"
   ]
  },
  {
   "cell_type": "code",
   "execution_count": null,
   "metadata": {},
   "outputs": [],
   "source": []
  },
  {
   "cell_type": "code",
   "execution_count": null,
   "metadata": {},
   "outputs": [],
   "source": [
    "200."
   ]
  },
  {
   "cell_type": "code",
   "execution_count": null,
   "metadata": {},
   "outputs": [],
   "source": []
  },
  {
   "cell_type": "code",
   "execution_count": null,
   "metadata": {},
   "outputs": [],
   "source": [
    "202. Happy Number\n",
    "A happy number is a number defined by the following process: \n",
    "Starting with any positive integer, replace the number by the sum of the squares of its digits, \n",
    "and repeat the process until the number equals 1 (where it will stay), \n",
    "or it loops endlessly in a cycle which does not include 1. \n",
    "Those numbers for which this process ends in 1 are happy numbers."
   ]
  },
  {
   "cell_type": "code",
   "execution_count": null,
   "metadata": {},
   "outputs": [],
   "source": [
    "def f202(n):\n",
    "    dic = dict()\n",
    "    while n != 1 and n not in dic:\n",
    "        dic[n] = dic.get(n, 0) + 1\n",
    "        n = sum(int(c)**2 for c in str(n))\n",
    "    return n == 1"
   ]
  },
  {
   "cell_type": "code",
   "execution_count": null,
   "metadata": {},
   "outputs": [],
   "source": []
  },
  {
   "cell_type": "code",
   "execution_count": null,
   "metadata": {},
   "outputs": [],
   "source": [
    "203. Remove Linked List Elements"
   ]
  },
  {
   "cell_type": "code",
   "execution_count": null,
   "metadata": {},
   "outputs": [],
   "source": [
    "def f203(head, val):\n",
    "    prev = ListNode(0)\n",
    "    prev.next = cur = head\n",
    "    while cur:\n",
    "        if cur.val == val:\n",
    "            if prev:\n",
    "                prev.next = cur.next\n",
    "            else:\n",
    "                head = cur.next\n",
    "        prev, cur = cur, cur.next\n",
    "    return head"
   ]
  },
  {
   "cell_type": "code",
   "execution_count": null,
   "metadata": {},
   "outputs": [],
   "source": []
  },
  {
   "cell_type": "code",
   "execution_count": null,
   "metadata": {},
   "outputs": [],
   "source": [
    "204. Count Primes\n",
    "Count the number of prime numbers less than a non-negative number, n.\n"
   ]
  },
  {
   "cell_type": "code",
   "execution_count": 2,
   "metadata": {},
   "outputs": [],
   "source": [
    "def f204(N):\n",
    "    res = []\n",
    "    for n in range(2, N+1):\n",
    "        for i in range(2, int(n**0.5)+1):\n",
    "            if n%i == 0:\n",
    "                break\n",
    "        else:\n",
    "            res.append(n)\n",
    "    return len(res)"
   ]
  },
  {
   "cell_type": "code",
   "execution_count": null,
   "metadata": {},
   "outputs": [],
   "source": []
  },
  {
   "cell_type": "code",
   "execution_count": null,
   "metadata": {},
   "outputs": [],
   "source": [
    "205. Isomorphic Strings\n",
    "Two strings are isomorphic if the characters in s can be replaced to get t."
   ]
  },
  {
   "cell_type": "code",
   "execution_count": null,
   "metadata": {},
   "outputs": [],
   "source": [
    "def f205(s, t):\n",
    "    return [s.find(i) for i in s] == [t.find[j] for j in t]"
   ]
  },
  {
   "cell_type": "code",
   "execution_count": null,
   "metadata": {},
   "outputs": [],
   "source": []
  },
  {
   "cell_type": "code",
   "execution_count": null,
   "metadata": {},
   "outputs": [],
   "source": [
    "217. Contains Duplicate\n",
    "Given an array of integers, find if the array contains any duplicates.\n",
    "\n",
    "Your function should return true if any value appears at least twice in the array, and it should return false if every element is distinct.\n",
    "\n",
    "Example 1:\n",
    "\n",
    "Input: [1,2,3,1]\n",
    "Output: true\n",
    "Example 2:\n",
    "\n",
    "Input: [1,2,3,4]\n",
    "Output: false\n",
    "Example 3:\n",
    "\n",
    "Input: [1,1,1,3,3,4,3,2,4,2]\n",
    "Output: true"
   ]
  },
  {
   "cell_type": "code",
   "execution_count": null,
   "metadata": {},
   "outputs": [],
   "source": [
    "def f217(nums):\n",
    "    return len(set(nums)) < len(nums)"
   ]
  },
  {
   "cell_type": "code",
   "execution_count": null,
   "metadata": {},
   "outputs": [],
   "source": []
  },
  {
   "cell_type": "code",
   "execution_count": null,
   "metadata": {},
   "outputs": [],
   "source": [
    "219. Contains Duplicate II\n",
    "Given an array of integers and an integer k, \n",
    "find out whether there are two distinct indices i and j in the array such that nums[i] = nums[j] \n",
    "and the absolute difference between i and j is at most k."
   ]
  },
  {
   "cell_type": "code",
   "execution_count": null,
   "metadata": {},
   "outputs": [],
   "source": [
    "def f219(nums, k):\n",
    "    dic = dict()\n",
    "    for i in range(len(nums)):\n",
    "        if nums[i] in dic:\n",
    "            if i - dic[nums[i]] <= k:\n",
    "                return True\n",
    "        dic[nums[i]] = i\n",
    "    return False"
   ]
  },
  {
   "cell_type": "code",
   "execution_count": null,
   "metadata": {},
   "outputs": [],
   "source": []
  },
  {
   "cell_type": "code",
   "execution_count": null,
   "metadata": {},
   "outputs": [],
   "source": [
    "225. Implement Stack using Queues\n",
    "#Design"
   ]
  },
  {
   "cell_type": "code",
   "execution_count": null,
   "metadata": {},
   "outputs": [],
   "source": []
  },
  {
   "cell_type": "code",
   "execution_count": null,
   "metadata": {},
   "outputs": [],
   "source": [
    "231. Power of Two"
   ]
  },
  {
   "cell_type": "code",
   "execution_count": null,
   "metadata": {},
   "outputs": [],
   "source": [
    "def f231(n): \n",
    "    return n > 0 and not n & (n-1) == 0\n",
    "\n",
    "def f231_2(n):\n",
    "    if n<=0: return False\n",
    "    while n%2 == 0:\n",
    "        n //= 2\n",
    "    return n == 1"
   ]
  },
  {
   "cell_type": "code",
   "execution_count": null,
   "metadata": {},
   "outputs": [],
   "source": []
  },
  {
   "cell_type": "code",
   "execution_count": null,
   "metadata": {},
   "outputs": [],
   "source": [
    "232. Implement Queue using Stacks\n",
    "#Design\n",
    "push(x) -- Push element x to the back of queue.\n",
    "pop() -- Removes the element from in front of queue.\n",
    "peek() -- Get the front element.\n",
    "empty() -- Return whether the queue is empty."
   ]
  },
  {
   "cell_type": "code",
   "execution_count": null,
   "metadata": {},
   "outputs": [],
   "source": []
  },
  {
   "cell_type": "code",
   "execution_count": null,
   "metadata": {},
   "outputs": [],
   "source": []
  },
  {
   "cell_type": "code",
   "execution_count": null,
   "metadata": {},
   "outputs": [],
   "source": [
    "234. Palindrome Linked List"
   ]
  },
  {
   "cell_type": "code",
   "execution_count": null,
   "metadata": {},
   "outputs": [],
   "source": [
    "def f234(head):\n",
    "    res = []\n",
    "    while head:\n",
    "        res += head.val\n",
    "        head = head.next\n",
    "    return res == res[::-1]\n",
    "\n",
    "def f234_2(head):\n",
    "    fast = slow = head\n",
    "    #find mid\n",
    "    while fast and fast.next:\n",
    "        fast = fast.next.next\n",
    "        slow = slow.next\n",
    "    #reverse the 2nd half\n",
    "    prev = None\n",
    "    while show:\n",
    "        tmp = slow.next\n",
    "        slow.next = prev\n",
    "        prev = slow\n",
    "        slow = tmp\n",
    "    #cmpare the 1st with 2nd\n",
    "    while tmp:\n",
    "        if tmp.val != head.val:\n",
    "            return False\n",
    "        tmp = tmp.mext\n",
    "        head = head.next\n",
    "    return True"
   ]
  },
  {
   "cell_type": "code",
   "execution_count": null,
   "metadata": {},
   "outputs": [],
   "source": []
  },
  {
   "cell_type": "code",
   "execution_count": null,
   "metadata": {},
   "outputs": [],
   "source": [
    "235. Lowest Common Ancestor of a Binary Search Tree"
   ]
  },
  {
   "cell_type": "code",
   "execution_count": null,
   "metadata": {},
   "outputs": [],
   "source": [
    "def f235(root, p, q):\n",
    "    while root:\n",
    "        if root.val > p.val and root.val > q.val:\n",
    "            root = root.left\n",
    "        elif root.val < p.val and root.val < q.val:\n",
    "            root = root.right\n",
    "        else:\n",
    "            return root\n",
    "            "
   ]
  },
  {
   "cell_type": "code",
   "execution_count": null,
   "metadata": {},
   "outputs": [],
   "source": []
  },
  {
   "cell_type": "code",
   "execution_count": null,
   "metadata": {},
   "outputs": [],
   "source": [
    "#237. Delete Node in a Linked List"
   ]
  },
  {
   "cell_type": "code",
   "execution_count": null,
   "metadata": {},
   "outputs": [],
   "source": [
    "def f237(head):\n",
    "    if head == None:\n",
    "        return None\n",
    "    if head.next:\n",
    "        head.val = head.next.val\n",
    "        head.next = head.next.next"
   ]
  },
  {
   "cell_type": "code",
   "execution_count": null,
   "metadata": {},
   "outputs": [],
   "source": []
  },
  {
   "cell_type": "code",
   "execution_count": null,
   "metadata": {},
   "outputs": [],
   "source": [
    "242. Valid Anagram"
   ]
  },
  {
   "cell_type": "code",
   "execution_count": null,
   "metadata": {},
   "outputs": [],
   "source": [
    "def f242(s, t):\n",
    "    if len(s) != len(t): return False\n",
    "    return collections.Counter(s) == collections.Counter(t)"
   ]
  },
  {
   "cell_type": "code",
   "execution_count": null,
   "metadata": {},
   "outputs": [],
   "source": []
  },
  {
   "cell_type": "code",
   "execution_count": null,
   "metadata": {},
   "outputs": [],
   "source": [
    "246. Strobogrammatic Number\n",
    "A strobogrammatic number is a number that looks the same when rotated 180 degrees (looked at upside down).\n",
    "Write a function to determine if a number is strobogrammatic. The number is represented as a string.\n",
    "Example 1:\n",
    "Input:  \"69\"\n",
    "Output: true\n",
    "Example 2:\n",
    "Input:  \"88\"\n",
    "Output: true\n",
    "Example 3:\n",
    "Input:  \"962\"\n",
    "Output: false"
   ]
  },
  {
   "cell_type": "code",
   "execution_count": null,
   "metadata": {},
   "outputs": [],
   "source": [
    "def f246(nums):\n",
    "    dic = {'0':'0','1':'1','6':'9','8':'8','9':'6'}\n",
    "    l, r = 0, len(nums)-1\n",
    "    while l <= r:\n",
    "        if nums[l] not in dic or dic[nums[l]] != nums[r]:\n",
    "            return False\n",
    "        l += 1\n",
    "        r -= 1\n",
    "    return True"
   ]
  },
  {
   "cell_type": "code",
   "execution_count": null,
   "metadata": {},
   "outputs": [],
   "source": []
  },
  {
   "cell_type": "code",
   "execution_count": null,
   "metadata": {},
   "outputs": [],
   "source": [
    "252. Meeting Rooms"
   ]
  },
  {
   "cell_type": "code",
   "execution_count": null,
   "metadata": {},
   "outputs": [],
   "source": [
    "def f252(intervals):\n",
    "    it = sorted(intervals, key=lambda x: x[0])\n",
    "    return len([it[i][0] < it[i-1][1] for i in range(1, len(it))]) + 1"
   ]
  },
  {
   "cell_type": "code",
   "execution_count": null,
   "metadata": {},
   "outputs": [],
   "source": []
  },
  {
   "cell_type": "code",
   "execution_count": null,
   "metadata": {},
   "outputs": [],
   "source": [
    "253. Meeting Rooms II\n",
    "\n",
    "Given an array of meeting time intervals consisting of start and end times [[s1,e1],[s2,e2],...] (si < ei), find the minimum number of conference rooms required.\n",
    "\n",
    "For example,\n",
    "\n",
    "Given [[0, 30],[5, 10],[15, 20]],\n",
    "\n",
    "return 2."
   ]
  },
  {
   "cell_type": "code",
   "execution_count": null,
   "metadata": {},
   "outputs": [],
   "source": [
    "def f253(intervals):\n",
    "    it = sorted(intervals, key=lambda x: x[0])\n",
    "    heap= []\n",
    "    for start, end in it:\n",
    "        if heap and start >= heap[0]:\n",
    "            heapq.heapreplace(heap, end)\n",
    "        else:\n",
    "            heapq.heappush(heap, end)\n",
    "    return len(heap)\n",
    "\n",
    "def minMeetingRooms(self, intervals):\n",
    "    intervals.sort(key = lambda x: x[0])\n",
    "    res = 0\n",
    "    heap, l_heap = [], 0\n",
    "    for interval in intervals:\n",
    "        while heap and heap[0] <= interval[0]:\n",
    "            heapq.heappop(heap)\n",
    "            l_heap -= 1\n",
    "        heapq.heappush(heap, interval[1])\n",
    "        l_heap += 1\n",
    "        res = max(res, l_heap)\n",
    "    return res\n",
    "\n",
    "def f253_2(intervals):\n",
    "    it = sorted(intervals, key=lambda x: x[0])\n",
    "    res = []\n",
    "    for start, end in it:\n",
    "        idx = -1\n",
    "        for i in range(len(res)):\n",
    "            if res[i] <= start:\n",
    "                res[i], idx = end, i\n",
    "                break\n",
    "        if idx == -1: res.append(end)\n",
    "    return len(res)"
   ]
  },
  {
   "cell_type": "code",
   "execution_count": null,
   "metadata": {},
   "outputs": [],
   "source": []
  },
  {
   "cell_type": "code",
   "execution_count": null,
   "metadata": {},
   "outputs": [],
   "source": [
    "256. Paint House"
   ]
  },
  {
   "cell_type": "code",
   "execution_count": null,
   "metadata": {},
   "outputs": [],
   "source": [
    "def f256(costs):\n",
    "    total_colors = 3\n",
    "    dp = [0]*total_colors\n",
    "    for c in costs:\n",
    "        dp = [min(dp[:j]+dp[j+1:]) + c[j] for j in range(total_colors)]\n",
    "    return min(dp)\n",
    "    "
   ]
  },
  {
   "cell_type": "code",
   "execution_count": null,
   "metadata": {},
   "outputs": [],
   "source": []
  },
  {
   "cell_type": "code",
   "execution_count": null,
   "metadata": {},
   "outputs": [],
   "source": [
    "257. Binary Tree Paths\n",
    "\n",
    "Given a binary tree, return all root-to-leaf paths.\n",
    "Input:\n",
    "\n",
    "   1\n",
    " /   \\\n",
    "2     3\n",
    " \\\n",
    "  5\n",
    "\n",
    "Output: [\"1->2->5\", \"1->3\"]\n"
   ]
  },
  {
   "cell_type": "code",
   "execution_count": null,
   "metadata": {},
   "outputs": [],
   "source": [
    "def f257(root):\n",
    "    if not root: return []\n",
    "    \n",
    "    def dfs(node, path, res):\n",
    "        if not node.left and not node.righ:\n",
    "            res.append(path+str(root.val))\n",
    "        if root.left:\n",
    "            dfs(root.left, path+str(root.val)+\"->\", res)\n",
    "        if root.right:\n",
    "            dfs(root.right, path+str(root.val)+\"->\", res)\n",
    "    res = []\n",
    "    dfs(root, \"\", res)\n",
    "    return res"
   ]
  },
  {
   "cell_type": "code",
   "execution_count": null,
   "metadata": {},
   "outputs": [],
   "source": []
  },
  {
   "cell_type": "code",
   "execution_count": null,
   "metadata": {},
   "outputs": [],
   "source": [
    "258. Add Digits\n",
    "Given a non-negative integer num, repeatedly add all its digits until the result has only one digit.\n",
    "\n",
    "Example:\n",
    "\n",
    "Input: 38\n",
    "Output: 2 \n",
    "Explanation: The process is like: 3 + 8 = 11, 1 + 1 = 2. \n",
    "             Since 2 has only one digit, return it.\n",
    "Follow up:\n",
    "Could you do it without any loop/recursion in O(1) runtime?"
   ]
  },
  {
   "cell_type": "code",
   "execution_count": null,
   "metadata": {},
   "outputs": [],
   "source": [
    "Let n = 18102. Then numbers n and sum(n) (where by sum(n) we denote sum of digits of number n) have the same remainder if we divide them by 9. Why so? To prove, that two numbers have the same remainder is equivalent to prove, that difference of these two numbers is divisible by 9. Indeed:\n",
    "18102 - sum(18102) =10000 + 8*1000 + 1*100 + 0*10 + 2 - (1 + 8 + 1 + 0 + 2) = 9999 + 8*999 + 1*99 + 0*9 + 0 is divisible by 9, because each term is divisible by 9. So, now, we can state theorem:\n",
    "\n",
    "Theorem For any natural number n: numbers n and sum(n) have the same remainder if we divide them by 9.\n",
    "Proof: let n = a_n ... a_2 a_1 a_0, then n - sum(n) = a_n* 99...9 + ... + a_2 * 99 + a_1*9 + 0, which is divisible by 9.\n",
    "    "
   ]
  },
  {
   "cell_type": "code",
   "execution_count": null,
   "metadata": {},
   "outputs": [],
   "source": [
    "def f258(n):\n",
    "    if 0 <= n <= 9:\n",
    "        return n\n",
    "    while n:\n",
    "        n, tmp = divmod(n, 10)\n",
    "    return f258(tmp)\n",
    "\n",
    "def f258_2(n):\n",
    "    return 0 if n == 0 else (n-1) % 9 + 1"
   ]
  },
  {
   "cell_type": "code",
   "execution_count": null,
   "metadata": {},
   "outputs": [],
   "source": []
  },
  {
   "cell_type": "code",
   "execution_count": null,
   "metadata": {},
   "outputs": [],
   "source": [
    "263. Ugly Number\n",
    "Ugly numbers are positive numbers whose prime factors only include 2, 3, 5."
   ]
  },
  {
   "cell_type": "code",
   "execution_count": null,
   "metadata": {},
   "outputs": [],
   "source": [
    "def f263(n):\n",
    "    if n == 0: return False\n",
    "    while n%2 == 0:\n",
    "        n //= 2\n",
    "    while n%3 == 0:\n",
    "        n //= 3\n",
    "    while n%5 == 0:\n",
    "        n //= 5\n",
    "    return n == 1\n"
   ]
  },
  {
   "cell_type": "code",
   "execution_count": null,
   "metadata": {},
   "outputs": [],
   "source": []
  },
  {
   "cell_type": "code",
   "execution_count": null,
   "metadata": {},
   "outputs": [],
   "source": [
    "268. Missing Number\n",
    "Given an array containing n distinct numbers taken from 0, 1, 2, ..., n, \n",
    "find the one that is missing from the array."
   ]
  },
  {
   "cell_type": "code",
   "execution_count": null,
   "metadata": {},
   "outputs": [],
   "source": [
    "def f268(nums):\n",
    "    n = len(nums)\n",
    "    return n * (n+1) / 2 - sum(nums)"
   ]
  },
  {
   "cell_type": "code",
   "execution_count": null,
   "metadata": {},
   "outputs": [],
   "source": []
  },
  {
   "cell_type": "code",
   "execution_count": null,
   "metadata": {},
   "outputs": [],
   "source": [
    "270. Closest Binary Search Tree Value\n",
    "Given a non-empty binary search tree and a target value, find the value in the BST that is closest to the target.\n"
   ]
  },
  {
   "cell_type": "code",
   "execution_count": null,
   "metadata": {},
   "outputs": [],
   "source": [
    "def f270(root, target):\n",
    "    res = root.val\n",
    "    while root:\n",
    "        if abs(root.val - target) < abs(res - target):\n",
    "            res = root.val\n",
    "        root = root.left if target < root.val else root.right\n",
    "    return res"
   ]
  },
  {
   "cell_type": "code",
   "execution_count": null,
   "metadata": {},
   "outputs": [],
   "source": []
  },
  {
   "cell_type": "code",
   "execution_count": null,
   "metadata": {},
   "outputs": [],
   "source": [
    "276. Paint Fence\n",
    "You have to paint all the posts such that no more than two adjacent fence posts have the same color.\n",
    "Return the total number of ways you can paint the fence.\n"
   ]
  },
  {
   "cell_type": "code",
   "execution_count": null,
   "metadata": {},
   "outputs": [],
   "source": [
    "def f276(n, k): # n - # of fence k - # of color\n",
    "    if n <= 0 or k <= 0: return 0\n",
    "    dp = [0]*n\n",
    "    dp[0] = k\n",
    "    if n > 1:\n",
    "        dp[1] = k*k\n",
    "    for i in range(2, n):\n",
    "        dp[i] = dp[i-1]*(k-1) + dp[i-2]*(k-1)\n",
    "    return dp[-1]"
   ]
  },
  {
   "cell_type": "code",
   "execution_count": null,
   "metadata": {},
   "outputs": [],
   "source": []
  },
  {
   "cell_type": "code",
   "execution_count": null,
   "metadata": {},
   "outputs": [],
   "source": [
    "278. First Bad Version"
   ]
  },
  {
   "cell_type": "code",
   "execution_count": null,
   "metadata": {},
   "outputs": [],
   "source": [
    "def f278(n):\n",
    "    l, r = 1, n+1\n",
    "    while l < r:\n",
    "        mid = (l + r)//2\n",
    "        if isBadVersion(mid):\n",
    "            r = mid\n",
    "        else:\n",
    "            l = mid + 1\n",
    "    return l"
   ]
  },
  {
   "cell_type": "code",
   "execution_count": null,
   "metadata": {},
   "outputs": [],
   "source": []
  },
  {
   "cell_type": "code",
   "execution_count": null,
   "metadata": {},
   "outputs": [],
   "source": [
    "283. Move Zeroes\n",
    "\n",
    "Given an array nums, write a function to move all 0's to the end of it while maintaining the relative order of the non-zero elements.\n"
   ]
  },
  {
   "cell_type": "code",
   "execution_count": null,
   "metadata": {},
   "outputs": [],
   "source": [
    "def f283(nums):\n",
    "    j = 0\n",
    "    for i in range(len(nums)):\n",
    "        if nums[i] != 0:\n",
    "            nums[i], nums[j] = nums[j], nums[i]\n",
    "            j += 1\n",
    "    return nums"
   ]
  },
  {
   "cell_type": "code",
   "execution_count": null,
   "metadata": {},
   "outputs": [],
   "source": []
  },
  {
   "cell_type": "code",
   "execution_count": null,
   "metadata": {},
   "outputs": [],
   "source": [
    "290. Word Pattern\n",
    "\n",
    "Given a pattern and a string str, find if str follows the same pattern.\n",
    "Input: pattern = \"abba\", str = \"dog cat cat dog\"\n",
    "Output: true"
   ]
  },
  {
   "cell_type": "code",
   "execution_count": null,
   "metadata": {},
   "outputs": [],
   "source": [
    "def f290(pattern, strs):\n",
    "    s = strs.split()\n",
    "    if len(pattern) != len(s) and len(set(pattern)) != len(set(s)): return False\n",
    "    return map(pattern.find, pattern) == map(s.index, s)"
   ]
  },
  {
   "cell_type": "code",
   "execution_count": null,
   "metadata": {},
   "outputs": [],
   "source": []
  },
  {
   "cell_type": "code",
   "execution_count": null,
   "metadata": {},
   "outputs": [],
   "source": [
    "300."
   ]
  },
  {
   "cell_type": "code",
   "execution_count": null,
   "metadata": {},
   "outputs": [],
   "source": []
  },
  {
   "cell_type": "code",
   "execution_count": null,
   "metadata": {},
   "outputs": [],
   "source": []
  },
  {
   "cell_type": "code",
   "execution_count": null,
   "metadata": {},
   "outputs": [],
   "source": [
    "303. Range Sum Query - Immutable\n",
    "#Design\n",
    "Given an integer array nums, find the sum of the elements between indices i and j (i ≤ j), inclusive.\n"
   ]
  },
  {
   "cell_type": "code",
   "execution_count": null,
   "metadata": {},
   "outputs": [],
   "source": [
    "class f303:\n",
    "    def __init__(self, nums):\n",
    "        self.res = [0]\n",
    "        for n in nums:\n",
    "            self.res += self.res[-1] + n\n",
    "        \n",
    "    def sumRange(self, i, j):\n",
    "        return self.res[j+1] - self.res[i]\n"
   ]
  },
  {
   "cell_type": "code",
   "execution_count": null,
   "metadata": {},
   "outputs": [],
   "source": []
  },
  {
   "cell_type": "code",
   "execution_count": null,
   "metadata": {},
   "outputs": [],
   "source": [
    "326. Power of Three"
   ]
  },
  {
   "cell_type": "code",
   "execution_count": null,
   "metadata": {},
   "outputs": [],
   "source": [
    "def f326(n):\n",
    "    if n <= 0: return False\n",
    "    while n%3 == 0:\n",
    "        n //= 3\n",
    "    return n == 1"
   ]
  },
  {
   "cell_type": "code",
   "execution_count": null,
   "metadata": {},
   "outputs": [],
   "source": []
  },
  {
   "cell_type": "code",
   "execution_count": null,
   "metadata": {},
   "outputs": [],
   "source": [
    "342. Power of Four"
   ]
  },
  {
   "cell_type": "code",
   "execution_count": null,
   "metadata": {},
   "outputs": [],
   "source": [
    "def f342(n):\n",
    "    if n <=0: return False\n",
    "    while n%4 == 0:\n",
    "        n //= 4\n",
    "    return n == 1\n",
    "\n",
    "def f342_2(n):\n",
    "    if n == 1: return True\n",
    "    val = 1\n",
    "    mask = 0x55555555\n",
    "    return n & (n-1) == 0 and n & mask != 0 #power of 2 and no zeros"
   ]
  },
  {
   "cell_type": "code",
   "execution_count": null,
   "metadata": {},
   "outputs": [],
   "source": []
  },
  {
   "cell_type": "code",
   "execution_count": null,
   "metadata": {},
   "outputs": [],
   "source": [
    "345. Reverse Vowels of a String"
   ]
  },
  {
   "cell_type": "code",
   "execution_count": null,
   "metadata": {},
   "outputs": [],
   "source": [
    "def f345(s):\n",
    "    vol = 'aeiouAEIOU'\n",
    "    idx = [(i,c) for i, c in enumerate(s) if c in vol]\n",
    "    vx = [c for i, c in enumerate(s) if c in vol]\n",
    "    s = list(s)\n",
    "    for j in idx:\n",
    "        s[j] = vx.pop()\n",
    "    return ''.join(s)"
   ]
  },
  {
   "cell_type": "code",
   "execution_count": null,
   "metadata": {},
   "outputs": [],
   "source": []
  },
  {
   "cell_type": "code",
   "execution_count": null,
   "metadata": {},
   "outputs": [],
   "source": [
    "350. Intersection of Two Arrays II\n",
    "Given two arrays, write a function to compute their intersection.\n",
    "\n",
    "Input: nums1 = [1,2,2,1], nums2 = [2,2]\n",
    "Output: [2,2]\n",
    "\n",
    "Input: nums1 = [4,9,5], nums2 = [9,4,9,8,4]\n",
    "Output: [4,9]\n"
   ]
  },
  {
   "cell_type": "code",
   "execution_count": null,
   "metadata": {},
   "outputs": [],
   "source": [
    "def f350(nums1, nums2):\n",
    "    c1, c2 = collections.Counter(nums1), collections.Counter(nums2)\n",
    "    return list((c1 & c2).elements())\n",
    "\n",
    "def f350_2(nums1, nums2):\n",
    "    dic = dict()\n",
    "    for n in nums1:\n",
    "        dic[n] = dic.get(n, 0) + 1\n",
    "    res = []\n",
    "    for n in nums2:\n",
    "        if n in dic and dic[n] > 0:\n",
    "            res.append[n]\n",
    "            dic[n] -= 1\n",
    "    return res"
   ]
  },
  {
   "cell_type": "code",
   "execution_count": null,
   "metadata": {},
   "outputs": [],
   "source": []
  },
  {
   "cell_type": "code",
   "execution_count": null,
   "metadata": {},
   "outputs": [],
   "source": [
    "367. Valid Perfect Square\n",
    "Given a positive integer num, write a function which returns True if num is a perfect square else False.\n"
   ]
  },
  {
   "cell_type": "code",
   "execution_count": null,
   "metadata": {},
   "outputs": [],
   "source": [
    "def f367(nums):\n",
    "    l, h = 1, num\n",
    "    while l <= h:\n",
    "        mid = (l + h)//2\n",
    "        if mid * mid == num:\n",
    "            return True\n",
    "        elif mid * mid > num:\n",
    "            h = mid - 1\n",
    "        else:\n",
    "            l = mid + 1\n",
    "    return False"
   ]
  },
  {
   "cell_type": "code",
   "execution_count": null,
   "metadata": {},
   "outputs": [],
   "source": []
  },
  {
   "cell_type": "code",
   "execution_count": null,
   "metadata": {},
   "outputs": [],
   "source": [
    "371. Sum of Two Integers\n",
    "not allowed to use the operator + and -."
   ]
  },
  {
   "cell_type": "code",
   "execution_count": null,
   "metadata": {},
   "outputs": [],
   "source": [
    "def f371(a, b):\n",
    "    mask, max_int = 0xFFFFFFFF, 0x7FFFFFFF\n",
    "    while b:\n",
    "        carry = (a & b) & mask\n",
    "        y = carry << 1\n",
    "        a = (a ^ b) & mask\n",
    "    return a if a <= max_int else ~(a ^ mask)"
   ]
  },
  {
   "cell_type": "code",
   "execution_count": null,
   "metadata": {},
   "outputs": [],
   "source": []
  },
  {
   "cell_type": "code",
   "execution_count": null,
   "metadata": {},
   "outputs": [],
   "source": [
    "374. Guess Number Higher or Lower"
   ]
  },
  {
   "cell_type": "code",
   "execution_count": null,
   "metadata": {},
   "outputs": [],
   "source": [
    "def f374(n):\n",
    "    l, r, g = 1, n, 1\n",
    "    while g and l <= r:\n",
    "        m = (l + r)//2\n",
    "        g = guess(m)\n",
    "        if g == 1:\n",
    "            l = m + 1\n",
    "        else:\n",
    "            r = m\n",
    "    return m"
   ]
  },
  {
   "cell_type": "code",
   "execution_count": null,
   "metadata": {},
   "outputs": [],
   "source": []
  },
  {
   "cell_type": "code",
   "execution_count": null,
   "metadata": {},
   "outputs": [],
   "source": [
    "383. Ransom Note\n",
    "canConstruct(\"a\", \"b\") -> false\n",
    "canConstruct(\"aa\", \"ab\") -> false\n",
    "canConstruct(\"aa\", \"aab\") -> true"
   ]
  },
  {
   "cell_type": "code",
   "execution_count": null,
   "metadata": {},
   "outputs": [],
   "source": [
    "def f383(ransom, magazine):\n",
    "    return not collections.Counter(ransom) - collections.Counter(magazine)"
   ]
  },
  {
   "cell_type": "code",
   "execution_count": null,
   "metadata": {},
   "outputs": [],
   "source": []
  },
  {
   "cell_type": "code",
   "execution_count": null,
   "metadata": {},
   "outputs": [],
   "source": [
    "387. First Unique Character in a String\n",
    "\n",
    "Given a string, find the first non-repeating character in it and return it's index. \n",
    "If it doesn't exist, return -1."
   ]
  },
  {
   "cell_type": "code",
   "execution_count": null,
   "metadata": {},
   "outputs": [],
   "source": [
    "def f387(s):\n",
    "    dic, res = dict(), -1\n",
    "    for i, c in enumerate(s[::-1]):\n",
    "        if c not in dic:\n",
    "            res = len(s) - i - 1\n",
    "        dic[c] = i\n",
    "    return res"
   ]
  },
  {
   "cell_type": "code",
   "execution_count": null,
   "metadata": {},
   "outputs": [],
   "source": []
  },
  {
   "cell_type": "code",
   "execution_count": null,
   "metadata": {},
   "outputs": [],
   "source": [
    "389. Find the Difference\n",
    "\n",
    "Given two strings s and t which consist of only lowercase letters.\n",
    "String t is generated by random shuffling string s and then add one more letter at a random position.\n",
    "Find the letter that was added in t.\n",
    "Example:\n",
    "Input:\n",
    "s = \"abcd\"\n",
    "t = \"abcde\"\n",
    "Output:\n",
    "e"
   ]
  },
  {
   "cell_type": "code",
   "execution_count": null,
   "metadata": {},
   "outputs": [],
   "source": [
    "def f389(s, t):\n",
    "    return chr(sum(map(ord, t)) - sum(map(ord, s)))\n",
    "\n",
    "def f389_2(s, t):\n",
    "    return list(iter(collections.Counter(t)-collections.Counter(s)))[0]"
   ]
  },
  {
   "cell_type": "code",
   "execution_count": null,
   "metadata": {},
   "outputs": [],
   "source": []
  },
  {
   "cell_type": "code",
   "execution_count": null,
   "metadata": {},
   "outputs": [],
   "source": [
    "400. Nth Digit\n",
    "\n",
    "Find the nth digit of the infinite integer sequence 1, 2, 3, 4, 5, 6, 7, 8, 9, 10, 11, ...\n",
    "Example 2:\n",
    "\n",
    "Input:\n",
    "11\n",
    "Output:\n",
    "0\n",
    "Explanation:\n",
    "The 11th digit of the sequence 1, 2, 3, 4, 5, 6, 7, 8, 9, 10, 11, ... is a 0, which is part of the number 10.\n"
   ]
  },
  {
   "cell_type": "code",
   "execution_count": 9,
   "metadata": {},
   "outputs": [
    {
     "name": "stdout",
     "output_type": "stream",
     "text": [
      "0\n"
     ]
    }
   ],
   "source": [
    "n = 11\n",
    "print(int(''.join(map(str,range(1,n)))[n-1]))"
   ]
  },
  {
   "cell_type": "code",
   "execution_count": null,
   "metadata": {},
   "outputs": [],
   "source": [
    "def f400(n):\n",
    "    i, size = 1, 1\n",
    "    while n > size:\n",
    "        n, i = n - size, i + 1\n",
    "        size = len(str(i))\n",
    "    return int(str(i)[n-1])"
   ]
  },
  {
   "cell_type": "code",
   "execution_count": null,
   "metadata": {},
   "outputs": [],
   "source": []
  },
  {
   "cell_type": "code",
   "execution_count": null,
   "metadata": {},
   "outputs": [],
   "source": [
    "401. Binary Watch\n",
    "Given a non-negative integer n which represents the number of LEDs that are currently on, \n",
    "return all possible times the watch could represent.\n",
    "\n",
    "Input: n = 1\n",
    "Return: [\"1:00\", \"2:00\", \"4:00\", \"8:00\", \"0:01\", \"0:02\", \"0:04\", \"0:08\", \"0:16\", \"0:32\"]\n"
   ]
  },
  {
   "cell_type": "code",
   "execution_count": null,
   "metadata": {},
   "outputs": [],
   "source": [
    "def f401(n):\n",
    "    res = []\n",
    "    for h in range(12):\n",
    "        for m in range(60):\n",
    "            if (bin(h) + bin(m)).count('1') == n:\n",
    "                res.append(\"%d:%02d\" %(h, m))\n",
    "    return res"
   ]
  },
  {
   "cell_type": "code",
   "execution_count": null,
   "metadata": {},
   "outputs": [],
   "source": []
  },
  {
   "cell_type": "code",
   "execution_count": null,
   "metadata": {},
   "outputs": [],
   "source": [
    "404. Sum of Left Leaves\n",
    "\n",
    "Find the sum of all left leaves in a given binary tree."
   ]
  },
  {
   "cell_type": "code",
   "execution_count": null,
   "metadata": {},
   "outputs": [],
   "source": [
    "def f404(root):\n",
    "    def dfs(root, left, res):\n",
    "        if not root: return 0\n",
    "        if left and not root.left and not root.right:\n",
    "            res += root.val\n",
    "        dfs(root.left, True, res)\n",
    "        dfs(root.right, False, res)\n",
    "    res  = 0\n",
    "    dfs(root, False, res)\n",
    "    return res"
   ]
  },
  {
   "cell_type": "code",
   "execution_count": null,
   "metadata": {},
   "outputs": [],
   "source": []
  },
  {
   "cell_type": "code",
   "execution_count": null,
   "metadata": {},
   "outputs": [],
   "source": [
    "405. Convert a Number to Hexadecimal\n",
    "Input:\n",
    "26\n",
    "Output:\n",
    "\"1a\"\n",
    "Input:\n",
    "-1\n",
    "Output:\n",
    "\"ffffffff\""
   ]
  },
  {
   "cell_type": "code",
   "execution_count": null,
   "metadata": {},
   "outputs": [],
   "source": [
    "def f405(n):\n",
    "    if n < 0:\n",
    "        return f405(n + 2**32)\n",
    "    if 0 <= n < 10: \n",
    "        return str(n)\n",
    "    elif 10 <= n < 16:\n",
    "        return chr(n - 10 + ord('a'))\n",
    "    else:\n",
    "        return f405(n//16) + f405(n%16)\n",
    "    "
   ]
  },
  {
   "cell_type": "code",
   "execution_count": null,
   "metadata": {},
   "outputs": [],
   "source": []
  },
  {
   "cell_type": "code",
   "execution_count": null,
   "metadata": {},
   "outputs": [],
   "source": [
    "408. Valid Word Abbreviation\n",
    "Example 1:\n",
    "Given s = \"internationalization\", abbr = \"i12iz4n\":\n",
    "Return true."
   ]
  },
  {
   "cell_type": "code",
   "execution_count": null,
   "metadata": {},
   "outputs": [],
   "source": [
    "def f408(word, abbr):\n",
    "    n, cnt, total = len(word), 0, 0\n",
    "    for w in abbr:\n",
    "        if w.isdigit():\n",
    "            if w == '0' and cnt == 0:\n",
    "                return False\n",
    "            cnt = cnt * 10 + int(w)\n",
    "        else:\n",
    "            total += cnt\n",
    "            cnt = 0\n",
    "            if total >= n or word[total] != w:\n",
    "                return False\n",
    "            total += 1\n",
    "    return total + cnt == n\n"
   ]
  },
  {
   "cell_type": "code",
   "execution_count": null,
   "metadata": {},
   "outputs": [],
   "source": []
  },
  {
   "cell_type": "code",
   "execution_count": null,
   "metadata": {},
   "outputs": [],
   "source": [
    "409. Longest Palindrome\n",
    "\n",
    "Given a string which consists of lowercase or uppercase letters, \n",
    "find the length of the longest palindromes that can be built with those letters.\n",
    "Input:\n",
    "\"abccccdd\"\n",
    "Output:\n",
    "7\n",
    "Explanation:\n",
    "One longest palindrome that can be built is \"dccaccd\", whose length is 7."
   ]
  },
  {
   "cell_type": "code",
   "execution_count": null,
   "metadata": {},
   "outputs": [],
   "source": [
    "def f409(s):\n",
    "    cnt = collections.Counter(s)\n",
    "    return sum(i - (i%2) for i in cnt.values()) + \\\n",
    "        1 * (any(i%2 == 1 for i in cnt.values()))\n",
    "\n"
   ]
  },
  {
   "cell_type": "code",
   "execution_count": null,
   "metadata": {},
   "outputs": [],
   "source": []
  },
  {
   "cell_type": "code",
   "execution_count": null,
   "metadata": {},
   "outputs": [],
   "source": [
    "414. Third Maximum Number\n",
    "\n",
    "Given a non-empty array of integers, return the third maximum number in this array. \n",
    "If it does not exist, return the maximum number. The time complexity must be in O(n)."
   ]
  },
  {
   "cell_type": "code",
   "execution_count": null,
   "metadata": {},
   "outputs": [],
   "source": [
    "def f414(nums):\n",
    "    m1 = m2 = m3 = -flot('inf')\n",
    "    for n in nums:\n",
    "        if n == m1 or n == m2 or n == m3:\n",
    "            continue\n",
    "        if n > m1:\n",
    "            m1, m2, m3 = n, m1, m2\n",
    "        elif n > m2:\n",
    "            m2, m3 = n, m2\n",
    "        elif n > m3:\n",
    "            m3 = n\n",
    "    return m1 if m3 == -float('inf') else m3"
   ]
  },
  {
   "cell_type": "code",
   "execution_count": null,
   "metadata": {},
   "outputs": [],
   "source": []
  },
  {
   "cell_type": "code",
   "execution_count": null,
   "metadata": {},
   "outputs": [],
   "source": [
    "415. Add Strings\n",
    "\n",
    "Given two non-negative integers num1 and num2 represented as string, return the sum of num1 and num2.\n"
   ]
  },
  {
   "cell_type": "code",
   "execution_count": null,
   "metadata": {},
   "outputs": [],
   "source": [
    "def f415(num1, num2):\n",
    "    i, j, carry, res = len(num1)-1, len(num2)-1, 0, \"\"\n",
    "    while i >= 0 and j >= 0 or carry:\n",
    "        if i >= 0:\n",
    "            carry += int(num1[i])\n",
    "            i -= 1\n",
    "        if j >= 0:\n",
    "            carry += int(num2[j])\n",
    "            j -= 1\n",
    "        carry, m = divmod(carry, 10)\n",
    "        res = str(m) + res\n",
    "        \n",
    "        return res"
   ]
  },
  {
   "cell_type": "code",
   "execution_count": null,
   "metadata": {},
   "outputs": [],
   "source": []
  },
  {
   "cell_type": "code",
   "execution_count": null,
   "metadata": {},
   "outputs": [],
   "source": [
    "422. Valid Word Square\n",
    "Given a sequence of words, check whether it forms a valid word square.\n",
    "\n",
    "A sequence of words forms a valid word square if the kth row and column read the exact same string, \n",
    "where 0 ≤k < max(numRows, numColumns).\n",
    "Input:\n",
    "[\n",
    "  \"abcd\",\n",
    "  \"bnrt\",\n",
    "  \"crmy\",\n",
    "  \"dtye\"\n",
    "]\n",
    "\n",
    "Output:\n",
    "true"
   ]
  },
  {
   "cell_type": "code",
   "execution_count": null,
   "metadata": {},
   "outputs": [],
   "source": [
    "def f422(words):\n",
    "    t = itertools.zip_logest(*words)\n",
    "    return [list(filter(None, n)) for n in t] == [list(n) for n in words]"
   ]
  },
  {
   "cell_type": "code",
   "execution_count": null,
   "metadata": {},
   "outputs": [],
   "source": []
  },
  {
   "cell_type": "code",
   "execution_count": null,
   "metadata": {},
   "outputs": [],
   "source": [
    "434. Number of Segments in a String"
   ]
  },
  {
   "cell_type": "code",
   "execution_count": null,
   "metadata": {},
   "outputs": [],
   "source": [
    "def f434(s):\n",
    "    return len(s.split())\n",
    "#not use split()\n",
    "def f434_2(s):\n",
    "    cnt = 0\n",
    "    for i in range(len(s)):\n",
    "        if s[i] !=' ' and (i==0 or s[i-1] == ' '):\n",
    "            cnt += 1\n",
    "    return cnt"
   ]
  },
  {
   "cell_type": "code",
   "execution_count": null,
   "metadata": {},
   "outputs": [],
   "source": []
  },
  {
   "cell_type": "code",
   "execution_count": null,
   "metadata": {},
   "outputs": [],
   "source": [
    "437. Path Sum III\n",
    "root = [10,5,-3,3,2,null,11,3,-2,null,1], sum = 8\n",
    "\n",
    "      10\n",
    "     /  \\\n",
    "    5   -3\n",
    "   / \\    \\\n",
    "  3   2   11\n",
    " / \\   \\\n",
    "3  -2   1\n",
    "\n",
    "Return 3. The paths that sum to 8 are:\n",
    "\n",
    "1.  5 -> 3\n",
    "2.  5 -> 2 -> 1\n",
    "3. -3 -> 11"
   ]
  },
  {
   "cell_type": "code",
   "execution_count": null,
   "metadata": {},
   "outputs": [],
   "source": [
    "def f437(root, target):\n",
    "    def helper(node, cursum, target):\n",
    "        if not node: return 0\n",
    "        cnt = 0\n",
    "        cursum += node.val\n",
    "        cnt += dic[cursum - target]\n",
    "        \n",
    "        dic[cursum] += 1\n",
    "        cnt += helper(node.left, cursum, target)\n",
    "        cnt += helper(node.right, cursum, target)\n",
    "        dic[cursum] -= 1\n",
    "        return cnt\n",
    "        \n",
    "    dic = collections.Counter([0])\n",
    "    return helper(root, 0, target)"
   ]
  },
  {
   "cell_type": "code",
   "execution_count": null,
   "metadata": {},
   "outputs": [],
   "source": []
  },
  {
   "cell_type": "code",
   "execution_count": null,
   "metadata": {},
   "outputs": [],
   "source": [
    "441. Arranging Coins\n",
    "n = 8\n",
    "\n",
    "The coins can form the following rows:\n",
    "¤\n",
    "¤ ¤\n",
    "¤ ¤ ¤\n",
    "¤ ¤\n",
    "\n",
    "Because the 4th row is incomplete, we return 3."
   ]
  },
  {
   "cell_type": "code",
   "execution_count": null,
   "metadata": {},
   "outputs": [],
   "source": [
    "def f441(n):\n",
    "    l, h, cnt = 1, n, 0\n",
    "    while l < h:\n",
    "        mid = (l + h)//2\n",
    "        if mid * (mid + 1) <= 2*n:\n",
    "            res = mid\n",
    "            l = mid + 1\n",
    "        else:\n",
    "            h = mid - 1\n",
    "    return res\n",
    "\n",
    "def f441_2(n):\n",
    "    rows, cnt = 1, 0\n",
    "    while n - row >= 0:\n",
    "        n, row, cnt = n - row, row+1, cnt + 1\n",
    "    return cnt"
   ]
  },
  {
   "cell_type": "code",
   "execution_count": null,
   "metadata": {},
   "outputs": [],
   "source": []
  },
  {
   "cell_type": "code",
   "execution_count": null,
   "metadata": {},
   "outputs": [],
   "source": [
    "443. String Compression\n",
    "Input:\n",
    "[\"a\",\"a\",\"b\",\"b\",\"c\",\"c\",\"c\"]\n",
    "\n",
    "Output:\n",
    "Return 6, and the first 6 characters of the input array should be: [\"a\",\"2\",\"b\",\"2\",\"c\",\"3\"]\n",
    "Input:\n",
    "[\"a\",\"b\",\"b\",\"b\",\"b\",\"b\",\"b\",\"b\",\"b\",\"b\",\"b\",\"b\",\"b\"]\n",
    "\n",
    "Output:\n",
    "Return 4, and the first 4 characters of the input array should be: [\"a\",\"b\",\"1\",\"2\"]."
   ]
  },
  {
   "cell_type": "code",
   "execution_count": null,
   "metadata": {},
   "outputs": [],
   "source": [
    "def f443(strs):\n",
    "    n, c, i = len(strs), strs[0], 1\n",
    "    cnt, res = 1, \"\"\n",
    "    while i <= n:\n",
    "        res += c\n",
    "        while i < n and strs[i] == c:\n",
    "            cnt += 1\n",
    "            i += 1\n",
    "        if cnt > 1:\n",
    "            res == str(cnt)\n",
    "        if i < n:\n",
    "            c = strs[i]\n",
    "            cnt = 1\n",
    "        i += 1\n",
    "    return len(res)"
   ]
  },
  {
   "cell_type": "code",
   "execution_count": null,
   "metadata": {},
   "outputs": [],
   "source": []
  },
  {
   "cell_type": "code",
   "execution_count": null,
   "metadata": {},
   "outputs": [],
   "source": [
    "447. Number of Boomerangs\n",
    "\n",
    "Given n points in the plane that are all pairwise distinct, \n",
    "a \"boomerang\" is a tuple of points (i, j, k) such that the distance \n",
    "between i and j equals the distance between i and k (the order of the tuple matters).\n",
    "\n",
    "Find the number of boomerangs. \n",
    "Input:\n",
    "[[0,0],[1,0],[2,0]]\n",
    "\n",
    "Output:\n",
    "2\n",
    "\n",
    "Explanation:\n",
    "The two boomerangs are [[1,0],[0,0],[2,0]] and [[1,0],[2,0],[0,0]]"
   ]
  },
  {
   "cell_type": "code",
   "execution_count": null,
   "metadata": {},
   "outputs": [],
   "source": [
    "def f447(points):\n",
    "    helper(a, b):\n",
    "        return (a[0] - b[0]) **2 + (a[1] - b[1]) **2\n",
    "    \n",
    "    dic, res = collections.Counter(), 0\n",
    "    for i in range(len(points)):\n",
    "        dic.clear()\n",
    "        for j in range(len(points)):\n",
    "            if i == j:\n",
    "                continue\n",
    "            dist = helper(points[i], points[j])\n",
    "            dic[dist] += 1\n",
    "        for val in dic.values():\n",
    "            res += val * (val - 1)\n",
    "    \n",
    "    return res\n",
    "    "
   ]
  },
  {
   "cell_type": "code",
   "execution_count": null,
   "metadata": {},
   "outputs": [],
   "source": []
  },
  {
   "cell_type": "code",
   "execution_count": null,
   "metadata": {},
   "outputs": [],
   "source": [
    "448. Find All Numbers Disappeared in an Array\n",
    "\n",
    "Given an array of integers where 1 ≤ a[i] ≤ n (n = size of array), \n",
    "some elements appear twice and others appear once.\n",
    "\n",
    "Find all the elements of [1, n] inclusive that do not appear in this array.\n"
   ]
  },
  {
   "cell_type": "code",
   "execution_count": null,
   "metadata": {},
   "outputs": [],
   "source": [
    "def f448(nums):\n",
    "    t = set(range(1, len(nums)+1))\n",
    "    return list(t - set(nums) & t)\n",
    "\n",
    "def f448_2(nums):\n",
    "    return [i for i in range(1, len(nums)+1) if i not in set(nums)]\n",
    "\n",
    "def f448_3(nums):\n",
    "    for i in range(len(nums)):\n",
    "        x = abs(nums[i])\n",
    "        nums[x-1] = -1*abs(nums[x-1])\n",
    "    return [i+1 for i in rnage(len(nums)) if nums[i] > 0]"
   ]
  },
  {
   "cell_type": "code",
   "execution_count": null,
   "metadata": {},
   "outputs": [],
   "source": []
  },
  {
   "cell_type": "code",
   "execution_count": null,
   "metadata": {},
   "outputs": [],
   "source": [
    "453. Minimum Moves to Equal Array Elements"
   ]
  },
  {
   "cell_type": "code",
   "execution_count": null,
   "metadata": {},
   "outputs": [],
   "source": [
    "def f453(nums):\n",
    "    return sum(nums) - len(nums)*min(nums)\n",
    "\n",
    "def f453_2(nums):\n",
    "    cnt, nums = 0, sorted(nums)\n",
    "    for i in range(len(nums)-1, -1, -1):\n",
    "        if nums[i] == nums[0]:\n",
    "            break\n",
    "        cnt += nums[i] - nums[0]\n",
    "    return cnt"
   ]
  },
  {
   "cell_type": "code",
   "execution_count": null,
   "metadata": {},
   "outputs": [],
   "source": []
  },
  {
   "cell_type": "code",
   "execution_count": null,
   "metadata": {},
   "outputs": [],
   "source": [
    "455. Assign Cookies\n",
    "Each child i has a greed factor gi, which is the minimum size of a cookie that the child will be content with; \n",
    "and each cookie j has a size sj. If sj >= gi, we can assign the cookie j to the child i, \n",
    "and the child i will be content. \n",
    "Your goal is to maximize the number of your content children and output the maximum number.\n",
    "Input: [1,2], [1,2,3]\n",
    "\n",
    "Output: 2\n",
    "\n",
    "Explanation: You have 2 children and 3 cookies. The greed factors of 2 children are 1, 2. \n",
    "You have 3 cookies and their sizes are big enough to gratify all of the children, \n",
    "You need to output 2."
   ]
  },
  {
   "cell_type": "code",
   "execution_count": null,
   "metadata": {},
   "outputs": [],
   "source": [
    "def f455(greed, cookie):\n",
    "    g, s = sorted(g), sorted(cookie)\n",
    "    i, j = 0, 0\n",
    "    while l < len(g) and j < len(s):\n",
    "        if s[j] >= g[i]:\n",
    "            i += 1\n",
    "        j += 1\n",
    "    return i"
   ]
  },
  {
   "cell_type": "code",
   "execution_count": null,
   "metadata": {},
   "outputs": [],
   "source": []
  },
  {
   "cell_type": "code",
   "execution_count": null,
   "metadata": {},
   "outputs": [],
   "source": [
    "459. Repeated Substring Pattern\n",
    "\n",
    "Given a non-empty string check if it can be constructed by taking a substring of it \n",
    "and appending multiple copies of the substring together. "
   ]
  },
  {
   "cell_type": "code",
   "execution_count": null,
   "metadata": {},
   "outputs": [],
   "source": [
    "def f459(strs):\n",
    "    if not strs: return False\n",
    "    s = (strs + strs)[1:-1]\n",
    "    return s.find(strs) != -1\n",
    "\n",
    "def f459_2(strs):\n",
    "    n = len(strs)\n",
    "    for i in range(1, n//2):\n",
    "        if n%i == 0:\n",
    "            if strs[:r]*(n//i) == strs:\n",
    "                return True\n",
    "    return False"
   ]
  },
  {
   "cell_type": "code",
   "execution_count": null,
   "metadata": {},
   "outputs": [],
   "source": []
  },
  {
   "cell_type": "code",
   "execution_count": null,
   "metadata": {},
   "outputs": [],
   "source": [
    "468. Validate IP Address\n",
    "Medium\n",
    "\n",
    "Write a function to check whether an input string is a valid IPv4 address or IPv6 address or neither.\n",
    "\n",
    "IPv4 addresses are canonically represented in dot-decimal notation, which consists of four decimal numbers, each ranging from 0 to 255, separated by dots (\".\"), e.g.,172.16.254.1;\n",
    "\n",
    "Besides, leading zeros in the IPv4 is invalid. For example, the address 172.16.254.01 is invalid.\n",
    "\n",
    "IPv6 addresses are represented as eight groups of four hexadecimal digits, each group representing 16 bits. The groups are separated by colons (\":\"). For example, the address 2001:0db8:85a3:0000:0000:8a2e:0370:7334 is a valid one. Also, we could omit some leading zeros among four hexadecimal digits and some low-case characters in the address to upper-case ones, so 2001:db8:85a3:0:0:8A2E:0370:7334 is also a valid IPv6 address(Omit leading zeros and using upper cases).\n",
    "\n",
    "However, we don't replace a consecutive group of zero value with a single empty group using two consecutive colons (::) to pursue simplicity. For example, 2001:0db8:85a3::8A2E:0370:7334 is an invalid IPv6 address.\n",
    "\n",
    "Besides, extra leading zeros in the IPv6 is also invalid. For example, the address 02001:0db8:85a3:0000:0000:8a2e:0370:7334 is invalid.\n",
    "\n",
    " \n",
    "\n",
    "Example 1:\n",
    "\n",
    "Input: IP = \"172.16.254.1\"\n",
    "Output: \"IPv4\"\n",
    "Explanation: This is a valid IPv4 address, return \"IPv4\".\n",
    "\n",
    "Example 2:\n",
    "\n",
    "Input: IP = \"2001:0db8:85a3:0:0:8A2E:0370:7334\"\n",
    "Output: \"IPv6\"\n",
    "Explanation: This is a valid IPv6 address, return \"IPv6\".\n",
    "\n",
    "Example 3:\n",
    "\n",
    "Input: IP = \"256.256.256.256\"\n",
    "Output: \"Neither\"\n",
    "Explanation: This is neither a IPv4 address nor a IPv6 address.\n",
    "\n",
    " \n",
    "\n",
    "Constraints:\n",
    "\n",
    "    IP consists only of English letters, digits and the characters \".\" and \":\".\n",
    "\n"
   ]
  },
  {
   "cell_type": "code",
   "execution_count": null,
   "metadata": {},
   "outputs": [],
   "source": [
    "def validIPAddress(self, IP):\n",
    "        \n",
    "        def isIPv4(s):\n",
    "            try: return str(int(s)) == s and 0 <= int(s) <= 255\n",
    "            except: return False\n",
    "            \n",
    "        def isIPv6(s):\n",
    "            if len(s) > 4: return False\n",
    "            try: return int(s, 16) >= 0 and s[0] != '-'\n",
    "            except: return False\n",
    "\n",
    "        if IP.count(\".\") == 3 and all(isIPv4(i) for i in IP.split(\".\")): \n",
    "            return \"IPv4\"\n",
    "        if IP.count(\":\") == 7 and all(isIPv6(i) for i in IP.split(\":\")): \n",
    "            return \"IPv6\"\n",
    "        return \"Neither\"\n"
   ]
  },
  {
   "cell_type": "code",
   "execution_count": null,
   "metadata": {},
   "outputs": [],
   "source": [
    "class Solution(object):\n",
    "    def validIPAddress(self, IP):\n",
    "        def is_hex(s):\n",
    "            hex_digits = set(\"0123456789abcdefABCDEF\")\n",
    "            for char in s:\n",
    "                if not (char in hex_digits):\n",
    "                    return False\n",
    "            return True\n",
    "        ary = IP.split('.')\n",
    "        if len(ary) == 4:\n",
    "            for i in xrange(len(ary)):\n",
    "                if not ary[i].isdigit() or not 0 <= int(ary[i]) < 256 or (ary[i][0] == '0' and len(ary[i]) > 1):\n",
    "                    return \"Neither\"\n",
    "            return \"IPv4\"\n",
    "        ary = IP.split(':')\n",
    "        if len(ary) == 8:\n",
    "            for i in xrange(len(ary)):\n",
    "                tmp = ary[i]\n",
    "                if len(tmp) == 0 or not len(tmp) <= 4 or not is_hex(tmp):    \n",
    "                    return \"Neither\"\n",
    "            return \"IPv6\"\n",
    "        return \"Neither\""
   ]
  },
  {
   "cell_type": "code",
   "execution_count": null,
   "metadata": {},
   "outputs": [],
   "source": []
  },
  {
   "cell_type": "code",
   "execution_count": null,
   "metadata": {},
   "outputs": [],
   "source": [
    "475. Heaters\n",
    "your input will be the positions of houses and heaters seperately, and your expected output will be the minimum radius standard of heaters.\n",
    "\n",
    "Example 1:\n",
    "\n",
    "Input: [1,2,3],[2]\n",
    "Output: 1\n",
    "Explanation: The only heater was placed in the position 2, and if we use the radius 1 standard, then all the houses can be warmed.\n",
    " \n",
    "\n",
    "Example 2:\n",
    "\n",
    "Input: [1,2,3,4],[1,4]\n",
    "Output: 1\n",
    "Explanation: The two heater was placed in the position 1 and 4. We need to use radius 1 standard, then all the houses can be warmed.\n"
   ]
  },
  {
   "cell_type": "code",
   "execution_count": null,
   "metadata": {},
   "outputs": [],
   "source": [
    "def f475(houses, heaters):\n",
    "    heaters = sorted(heaters) + [float('inf')]\n",
    "    i = res = 0\n",
    "    for h in sorted(houses):\n",
    "        while h >= sum(heaters[i:i+2])/2. :\n",
    "            i += 1\n",
    "        res = max(res, abs(heaters[i]- h))\n",
    "            "
   ]
  },
  {
   "cell_type": "code",
   "execution_count": null,
   "metadata": {},
   "outputs": [],
   "source": []
  },
  {
   "cell_type": "code",
   "execution_count": null,
   "metadata": {},
   "outputs": [],
   "source": []
  },
  {
   "cell_type": "code",
   "execution_count": null,
   "metadata": {},
   "outputs": [],
   "source": [
    "482. License Key Formatting\n",
    "Input: S = \"5F3Z-2e-9-w\", K = 4\n",
    "Output: \"5F3Z-2E9W\"\n",
    "\n",
    "Input: S = \"2-5g-3-J\", K = 2\n",
    "Output: \"2-5G-3J\"\n"
   ]
  },
  {
   "cell_type": "code",
   "execution_count": null,
   "metadata": {},
   "outputs": [],
   "source": [
    "def f482(S, K):\n",
    "    S = S.upper().replace('-', '')\n",
    "    n = len(S)\n",
    "    s1 = K if n%K == 0 else n%K\n",
    "    res = S[:s1]\n",
    "    while s1 < n:\n",
    "        res += '-' + S[s1:s1+K]\n",
    "        s1 += K\n",
    "    return res"
   ]
  },
  {
   "cell_type": "code",
   "execution_count": null,
   "metadata": {},
   "outputs": [],
   "source": []
  },
  {
   "cell_type": "code",
   "execution_count": null,
   "metadata": {},
   "outputs": [],
   "source": [
    "485. Max Consecutive Ones\n",
    "\n",
    "Given a binary array, find the maximum number of consecutive 1s in this array.\n",
    "\n",
    "Example 1:\n",
    "Input: [1,1,0,1,1,1]\n",
    "Output: 3\n",
    "Explanation: The first two digits or the last three digits are consecutive 1s.\n",
    "    The maximum number of consecutive 1s is 3.\n",
    "Note:\n",
    "\n",
    "The input array will only contain 0 and 1.\n",
    "The length of input array is a positive integer and will not exceed 10,000"
   ]
  },
  {
   "cell_type": "code",
   "execution_count": null,
   "metadata": {},
   "outputs": [],
   "source": [
    "def f485(nums):\n",
    "    cnt, res = 0, 0\n",
    "    for n in nums:\n",
    "        if n == 1:\n",
    "            cnt += 1\n",
    "            res = max(res, cnt)\n",
    "        else:\n",
    "            cnt = 0\n",
    "    return res\n",
    "\n",
    "import intertools\n",
    "def f485_2(nums):\n",
    "    res = 0\n",
    "    for key, group in itertools.groupby(nums):\n",
    "        if key == 1:\n",
    "            res = max(res, len(list(group)))\n",
    "    return res\""
   ]
  },
  {
   "cell_type": "code",
   "execution_count": null,
   "metadata": {},
   "outputs": [],
   "source": []
  },
  {
   "cell_type": "code",
   "execution_count": null,
   "metadata": {},
   "outputs": [],
   "source": [
    "492. Construct the Rectangle\n",
    "whose length L and width W satisfy the following requirements:\n",
    "\n",
    "1. The area of the rectangular web page you designed must equal to the given target area.\n",
    "2. The width W should not be larger than the length L, which means L >= W.\n",
    "3. The difference between length L and width W should be as small as possible.\n",
    "\n",
    "Input: 4\n",
    "Output: [2, 2]\n",
    "Explanation: The target area is 4, and all the possible ways to construct it are [1,4], [2,2], [4,1]. \n",
    "But according to requirement 2, [1,4] is illegal; according to requirement 3,  [4,1] is not optimal compared to [2,2]. So the length L is 2, and the width W is 2.\n"
   ]
  },
  {
   "cell_type": "code",
   "execution_count": null,
   "metadata": {},
   "outputs": [],
   "source": [
    "def f492(area):\n",
    "    width = int((area)**0.5)\n",
    "    while width:\n",
    "        if area % width == 0:\n",
    "            return [area//width, width]\n",
    "        width -= 1\n",
    "        "
   ]
  },
  {
   "cell_type": "code",
   "execution_count": null,
   "metadata": {},
   "outputs": [],
   "source": []
  },
  {
   "cell_type": "code",
   "execution_count": null,
   "metadata": {},
   "outputs": [],
   "source": [
    "500."
   ]
  },
  {
   "cell_type": "code",
   "execution_count": null,
   "metadata": {},
   "outputs": [],
   "source": []
  },
  {
   "cell_type": "code",
   "execution_count": null,
   "metadata": {},
   "outputs": [],
   "source": []
  },
  {
   "cell_type": "code",
   "execution_count": null,
   "metadata": {},
   "outputs": [],
   "source": [
    "501. Find Mode in Binary Search Tree\n",
    "\n",
    "Given a binary search tree (BST) with duplicates, \n",
    "find all the mode(s) (the most frequently occurred element) in the given BST."
   ]
  },
  {
   "cell_type": "code",
   "execution_count": null,
   "metadata": {},
   "outputs": [],
   "source": [
    "def f501(root):\n",
    "    if not root:\n",
    "        return []\n",
    "    cnt = colletions.Counter()\n",
    "    def dfs(node):\n",
    "        if node:\n",
    "            cnt[node.val] += 1\n",
    "            dfs(node.left)\n",
    "            dfs(node.right)\n",
    "    dfs(root)\n",
    "    maxcnt = max(cnt.itervalues())\n",
    "    return [k for k,v in cnt.iteritems() if v == maxcnt]"
   ]
  },
  {
   "cell_type": "code",
   "execution_count": null,
   "metadata": {},
   "outputs": [],
   "source": []
  },
  {
   "cell_type": "code",
   "execution_count": null,
   "metadata": {},
   "outputs": [],
   "source": [
    "504. Base 7\n",
    "Given an integer, return its base 7 string representation.\n",
    "Input: 100\n",
    "Output: \"202\"\n",
    "Example 2:\n",
    "Input: -7\n",
    "Output: \"-10\""
   ]
  },
  {
   "cell_type": "code",
   "execution_count": null,
   "metadata": {},
   "outputs": [],
   "source": [
    "def f504(n):\n",
    "    n, res = abs(n), ''\n",
    "    if n == 0: return '0'\n",
    "    while n:\n",
    "        res = str(n%7) + res\n",
    "        n //= 7\n",
    "    return '-' + res if n < 0 else res"
   ]
  },
  {
   "cell_type": "code",
   "execution_count": null,
   "metadata": {},
   "outputs": [],
   "source": []
  },
  {
   "cell_type": "code",
   "execution_count": null,
   "metadata": {},
   "outputs": [],
   "source": [
    "506. Relative Ranks\n",
    "Input: [5, 4, 3, 2, 1]\n",
    "Output: [\"Gold Medal\", \"Silver Medal\", \"Bronze Medal\", \"4\", \"5\"]\n",
    "Explanation: The first three athletes got the top three highest scores, so they got \"Gold Medal\", \"Silver Medal\" and \"Bronze Medal\". \n"
   ]
  },
  {
   "cell_type": "code",
   "execution_count": null,
   "metadata": {},
   "outputs": [],
   "source": [
    "def f506(nums):\n",
    "    nums = sorted(nums)[::-1]\n",
    "    rank = [\"Gold Medal\", \"Silver Medal\", \"Bronze Medal\"] + list(map(str, range(4, len(nums)+1)))\n",
    "    return [rank[i] for i in nums]"
   ]
  },
  {
   "cell_type": "code",
   "execution_count": null,
   "metadata": {},
   "outputs": [],
   "source": []
  },
  {
   "cell_type": "code",
   "execution_count": null,
   "metadata": {},
   "outputs": [],
   "source": [
    "507. Perfect Number\n",
    "We define the Perfect Number is a positive integer that is equal to the sum of all its positive divisors except itself.\n",
    "Input: 28\n",
    "Output: True\n",
    "Explanation: 28 = 1 + 2 + 4 + 7 + 14"
   ]
  },
  {
   "cell_type": "code",
   "execution_count": null,
   "metadata": {},
   "outputs": [],
   "source": [
    "def f507(n):\n",
    "    if n <=0: return False\n",
    "    res, m = 0, int(n**0.5)\n",
    "    res = sum(i + n//i for i in range(1, m+1) if n%i == 0)\n",
    "    if n == m ** 2:\n",
    "        res -= m  #subtract the mid number added to sum twice\n",
    "    return res - n == n"
   ]
  },
  {
   "cell_type": "code",
   "execution_count": null,
   "metadata": {},
   "outputs": [],
   "source": []
  },
  {
   "cell_type": "code",
   "execution_count": null,
   "metadata": {},
   "outputs": [],
   "source": [
    "512. Game Play Analysis II\n",
    "#SQL\n",
    "select a.player_id, device_id from Activity a inner join\n",
    "(select player_id, min(event_date) as earliest_event_date from Activity group by player_id) b\n",
    "on a.player_id=b.player_id and a.event_date=b.earliest_event_date;\n"
   ]
  },
  {
   "cell_type": "code",
   "execution_count": null,
   "metadata": {},
   "outputs": [],
   "source": []
  },
  {
   "cell_type": "code",
   "execution_count": null,
   "metadata": {},
   "outputs": [],
   "source": []
  },
  {
   "cell_type": "code",
   "execution_count": null,
   "metadata": {},
   "outputs": [],
   "source": [
    "520. Detect Capital\n",
    "\n",
    "Given a word, you need to judge whether the usage of capitals in it is right or not.\n",
    "\n",
    "We define the usage of capitals in a word to be right when one of the following cases holds:\n",
    "\n",
    "All letters in this word are capitals, like \"USA\".\n",
    "All letters in this word are not capitals, like \"leetcode\".\n",
    "Only the first letter in this word is capital, like \"Google\".\n",
    "Otherwise, we define that this word doesn't use capitals in a right way.\n",
    " "
   ]
  },
  {
   "cell_type": "code",
   "execution_count": null,
   "metadata": {},
   "outputs": [],
   "source": [
    "def f520(word):\n",
    "    return word.isupper() or word.islower() or word.istitle()"
   ]
  },
  {
   "cell_type": "code",
   "execution_count": null,
   "metadata": {},
   "outputs": [],
   "source": []
  },
  {
   "cell_type": "code",
   "execution_count": null,
   "metadata": {},
   "outputs": [],
   "source": [
    "528. Random Pick with Weight\n",
    "Medium\n",
    "\n",
    "Given an array w of positive integers, where w[i] describes the weight of index i(0-indexed), write a function pickIndex which randomly picks an index in proportion to its weight.\n",
    "\n",
    "For example, given an input list of values w = [2, 8], when we pick up a number out of it, the chance is that 8 times out of 10 we should pick the number 1 as the answer since it's the second element of the array (w[1] = 8).\n",
    "\n",
    " \n",
    "\n",
    "Example 1:\n",
    "\n",
    "Input\n",
    "[\"Solution\",\"pickIndex\"]\n",
    "[[[1]],[]]\n",
    "Output\n",
    "[null,0]\n",
    "\n",
    "Explanation\n",
    "Solution solution = new Solution([1]);\n",
    "solution.pickIndex(); // return 0. Since there is only one single element on the array the only option is to return the first element.\n",
    "\n",
    "Example 2:\n",
    "\n",
    "Input\n",
    "[\"Solution\",\"pickIndex\",\"pickIndex\",\"pickIndex\",\"pickIndex\",\"pickIndex\"]\n",
    "[[[1,3]],[],[],[],[],[]]\n",
    "Output\n",
    "[null,1,1,1,1,0]\n",
    "\n",
    "Explanation\n",
    "Solution solution = new Solution([1, 3]);\n",
    "solution.pickIndex(); // return 1. It's returning the second element (index = 1) that has probability of 3/4.\n",
    "solution.pickIndex(); // return 1\n",
    "solution.pickIndex(); // return 1\n",
    "solution.pickIndex(); // return 1\n",
    "solution.pickIndex(); // return 0. It's returning the first element (index = 0) that has probability of 1/4.\n",
    "\n",
    "Since this is a randomization problem, multiple answers are allowed so the following outputs can be considered correct :\n",
    "[null,1,1,1,1,0]\n",
    "[null,1,1,1,1,1]\n",
    "[null,1,1,1,0,0]\n",
    "[null,1,1,1,0,1]\n",
    "[null,1,0,1,0,0]\n",
    "......\n",
    "and so on.\n",
    "\n",
    " \n",
    "\n",
    "Constraints:\n",
    "\n",
    "    1 <= w.length <= 10000\n",
    "    1 <= w[i] <= 10^5\n",
    "    pickIndex will be called at most 10000 times.\n",
    "\n"
   ]
  },
  {
   "cell_type": "code",
   "execution_count": null,
   "metadata": {},
   "outputs": [],
   "source": [
    "class Solution:\n",
    "    def __init__(self, w: List[int]):\n",
    "        for i in range(1, len(w)): w[i] += w[i-1]\n",
    "        self.w = w\n",
    "\n",
    "    def pickIndex(self) -> int:\n",
    "        x = random.randint(1, self.w[-1])   \n",
    "        return bisect.bisect_left(self.w, x)"
   ]
  },
  {
   "cell_type": "code",
   "execution_count": null,
   "metadata": {},
   "outputs": [],
   "source": [
    "class Solution:\n",
    "\n",
    "    def __init__(self, w):\n",
    "        \"\"\"\n",
    "        :type w: List[int]\n",
    "        \"\"\"\n",
    "        self.w = w\n",
    "        self.n = len(w)\n",
    "        for i in range(1,self.n):\n",
    "            w[i] += w[i-1]\n",
    "        self.s = self.w[-1]\n",
    "\n",
    "    def pickIndex(self):\n",
    "        \"\"\"\n",
    "        :rtype: int\n",
    "        \"\"\"\n",
    "        seed = random.randint(1,self.s)\n",
    "        l,r = 0, self.n-1\n",
    "        while l<r:\n",
    "            mid = (l+r)//2\n",
    "            if seed <= self.w[mid]:\n",
    "                r = mid\n",
    "            else:\n",
    "                l = mid+1\n",
    "        return l"
   ]
  },
  {
   "cell_type": "code",
   "execution_count": null,
   "metadata": {},
   "outputs": [],
   "source": []
  },
  {
   "cell_type": "code",
   "execution_count": null,
   "metadata": {},
   "outputs": [],
   "source": [
    "530. Minimum Absolute Difference in BST\n",
    "\n",
    "Given a binary search tree with non-negative values, \n",
    "find the minimum absolute difference between values of any two nodes."
   ]
  },
  {
   "cell_type": "code",
   "execution_count": null,
   "metadata": {},
   "outputs": [],
   "source": [
    "def f530(root):\n",
    "    res = []\n",
    "    def dfs(node):\n",
    "        if not node: return\n",
    "        if node.left: dfs(node.left)\n",
    "        res.append(node.val)\n",
    "        if node.right: dfs(node.right)\n",
    "    dfs(root)\n",
    "    return min(abs(a-b) for a, b in zip(res, res[1:]))\n",
    "\n",
    "#Refer to 783."
   ]
  },
  {
   "cell_type": "code",
   "execution_count": null,
   "metadata": {},
   "outputs": [],
   "source": []
  },
  {
   "cell_type": "code",
   "execution_count": null,
   "metadata": {},
   "outputs": [],
   "source": [
    "532. K-diff Pairs in an Array\n",
    "Given an array of integers and an integer k, you need to find the number of unique k-diff pairs in the array. \n",
    "Example 1:\n",
    "Input: [3, 1, 4, 1, 5], k = 2\n",
    "Output: 2\n",
    "Explanation: There are two 2-diff pairs in the array, (1, 3) and (3, 5)."
   ]
  },
  {
   "cell_type": "code",
   "execution_count": null,
   "metadata": {},
   "outputs": [],
   "source": [
    "def f532(nums, k):\n",
    "    cnt, c = 0, collections.Counter(nums)\n",
    "    for i in c:\n",
    "        if k > 0 and i + k in c or k == 0 and c[i] > 1:\n",
    "            cnt += 1\n",
    "    return cnt"
   ]
  },
  {
   "cell_type": "code",
   "execution_count": null,
   "metadata": {},
   "outputs": [],
   "source": []
  },
  {
   "cell_type": "code",
   "execution_count": null,
   "metadata": {},
   "outputs": [],
   "source": [
    "538. Convert BST to Greater Tree\n",
    "\n",
    "Given a Binary Search Tree (BST), convert it to a Greater Tree such that \n",
    "every key of the original BST is changed to the original key plus sum of all keys \n",
    "greater than the original key in BST.\n",
    "\n",
    "Example:\n",
    "\n",
    "Input: The root of a Binary Search Tree like this:\n",
    "              5\n",
    "            /   \\\n",
    "           2     13\n",
    "\n",
    "Output: The root of a Greater Tree like this:\n",
    "             18\n",
    "            /   \\\n",
    "          20     13"
   ]
  },
  {
   "cell_type": "code",
   "execution_count": null,
   "metadata": {},
   "outputs": [],
   "source": [
    "def f538(root):\n",
    "    def dfs(node, res):\n",
    "        if node:\n",
    "            dfs(node.right, res)\n",
    "            node.val = node.val + res\n",
    "            res = node.val\n",
    "            dfs(node.left, res)\n",
    "        return node\n",
    "    res = 0\n",
    "    return dfs(root, res)"
   ]
  },
  {
   "cell_type": "code",
   "execution_count": null,
   "metadata": {},
   "outputs": [],
   "source": []
  },
  {
   "cell_type": "code",
   "execution_count": null,
   "metadata": {},
   "outputs": [],
   "source": [
    "541. Reverse String II\n",
    "you need to reverse the first k characters for every 2k characters counting from the start of the string. \n",
    "If there are less than k characters left, reverse all of them. If there are less than 2k but greater than or equal to k characters, then reverse the first k characters and left the other as original.\n",
    "Example:\n",
    "Input: s = \"abcdefg\", k = 2\n",
    "Output: \"bacdfeg\"\n",
    "    "
   ]
  },
  {
   "cell_type": "code",
   "execution_count": null,
   "metadata": {},
   "outputs": [],
   "source": [
    "def f541(s, k):\n",
    "    res = ''\n",
    "    for i in range(0, len(s), 2*k):\n",
    "        res += ''.join(s[i:i+k][::-1] + s[i+k:i+2*k])\n",
    "    return res"
   ]
  },
  {
   "cell_type": "code",
   "execution_count": null,
   "metadata": {},
   "outputs": [],
   "source": []
  },
  {
   "cell_type": "code",
   "execution_count": null,
   "metadata": {},
   "outputs": [],
   "source": [
    "543. Diameter of Binary Tree\n",
    "Given a binary tree, you need to compute the length of the diameter of the tree. \n",
    "The diameter of a binary tree is the length of the longest path between any two nodes in a tree. This path may or may not pass through the root.\n",
    "Example:\n",
    "Given a binary tree \n",
    "          1\n",
    "         / \\\n",
    "        2   3\n",
    "       / \\     \n",
    "      4   5    \n",
    "Return 3, which is the length of the path [4,2,1,3] or [5,2,1,3]."
   ]
  },
  {
   "cell_type": "code",
   "execution_count": null,
   "metadata": {},
   "outputs": [],
   "source": [
    "def f543(root):\n",
    "    def dfs(node, res):\n",
    "        if not node: return 0\n",
    "        l, r = dfs(node.left, res), dfs(node.right, res)\n",
    "        res = max(res, l + r)\n",
    "        return 1 + max(l, r)\n",
    "    res = 0\n",
    "    dfs(root, res)\n",
    "    return res"
   ]
  },
  {
   "cell_type": "code",
   "execution_count": null,
   "metadata": {},
   "outputs": [],
   "source": []
  },
  {
   "cell_type": "code",
   "execution_count": null,
   "metadata": {},
   "outputs": [],
   "source": [
    "551. Student Attendance Record I\n",
    "'A' : Absent.\n",
    "'L' : Late.\n",
    "'P' : Present.\n",
    "A student could be rewarded if his attendance record doesn't contain more than one 'A' (absent) or \n",
    "more than two continuous 'L' (late).\n"
   ]
  },
  {
   "cell_type": "code",
   "execution_count": null,
   "metadata": {},
   "outputs": [],
   "source": [
    "def f551(s):\n",
    "    return not (s.count('A') > 1 or \"LLL\" in s)"
   ]
  },
  {
   "cell_type": "code",
   "execution_count": null,
   "metadata": {},
   "outputs": [],
   "source": []
  },
  {
   "cell_type": "code",
   "execution_count": null,
   "metadata": {},
   "outputs": [],
   "source": [
    "558. Quad Tree Intersection\n",
    "Your task is to implement a function that will take two quadtrees \n",
    "and return a quadtree that represents the logical OR (or union) of the two trees.\n",
    "\n",
    "A:                 B:                 C (A or B):\n",
    "+-------+-------+  +-------+---+---+  +-------+-------+\n",
    "|       |       |  |       | F | F |  |       |       |\n",
    "|   T   |   T   |  |   T   +---+---+  |   T   |   T   |\n",
    "|       |       |  |       | T | T |  |       |       |\n",
    "+-------+-------+  +-------+---+---+  +-------+-------+\n",
    "|       |       |  |       |       |  |       |       |\n",
    "|   F   |   F   |  |   T   |   F   |  |   T   |   F   |\n",
    "|       |       |  |       |       |  |       |       |\n",
    "+-------+-------+  +-------+-------+  +-------+-------+\n",
    "Note:\n",
    "\n",
    "Both A and B represent grids of size N * N."
   ]
  },
  {
   "cell_type": "code",
   "execution_count": null,
   "metadata": {},
   "outputs": [],
   "source": [
    "#Information required but not in problem description: the val attribute for a non-leaf node is False.\n",
    "\n",
    "#Combine two leaves according the logical OR of their values.\n",
    "#If one node is a leaf then return it if it is True, else return the other node.\n",
    "#If neither are leaves, intersect each of the 4 subtree children and return a leaf \n",
    "#if they are all leaves with the same value, or else return a non-leaf with value of False."
   ]
  },
  {
   "cell_type": "code",
   "execution_count": null,
   "metadata": {},
   "outputs": [],
   "source": [
    "def f558(T1, T2):\n",
    "    if T1.isLeaf:\n",
    "        return T1 if T1.val else T2\n",
    "    if T2.isLeaf:\n",
    "        return T2 if T2.val else T1\n",
    "    \n",
    "    topL = f558(T1.topL, T2.topL)\n",
    "    topR = f558(T1.topR, T2.topR)\n",
    "    bottomL = f558(T1.bottomL, T2.bottomL)\n",
    "    bottomR = f558(T1.bottomR, T2.bottomR)\n",
    "    \n",
    "    children = [topL, topR, bottomL, bottomR]\n",
    "    values = [child.val for child in children]\n",
    "    leaves = [child.isLeaf for child in children]\n",
    "    \n",
    "    if all(leaves) and (sum(values) == 0 or sum(values) == 4):\n",
    "        return Node(topL.val, True, None, None, None, None)\n",
    "    \n",
    "    #non-leaf must have False value\n",
    "    return Node(False, False, topL, topR, bottomL, bottomR)"
   ]
  },
  {
   "cell_type": "code",
   "execution_count": null,
   "metadata": {},
   "outputs": [],
   "source": []
  },
  {
   "cell_type": "code",
   "execution_count": null,
   "metadata": {},
   "outputs": [],
   "source": [
    "563. Binary Tree Tilt\n",
    "Given a binary tree, return the tilt of the whole tree.\n",
    "The tilt of a tree node is defined as the absolute difference \n",
    "between the sum of all left subtree node values and \n",
    "the sum of all right subtree node values. Null node has tilt 0.\n",
    "\n",
    "The tilt of the whole tree is defined as the sum of all nodes' tilt.\n",
    "\n",
    "Example:\n",
    "Input: \n",
    "         1\n",
    "       /   \\\n",
    "      2     3\n",
    "Output: 1\n",
    "Explanation: \n",
    "Tilt of node 2 : 0\n",
    "Tilt of node 3 : 0\n",
    "Tilt of node 1 : |2-3| = 1\n",
    "Tilt of binary tree : 0 + 0 + 1 = 1"
   ]
  },
  {
   "cell_type": "code",
   "execution_count": null,
   "metadata": {},
   "outputs": [],
   "source": [
    "def f563(root):\n",
    "    def dfs(root, res):\n",
    "        if not root: return 0\n",
    "        left, right = dfs(root.left), dfs(root.right)\n",
    "        res += abs(left - right)\n",
    "        return root.val + left + right\n",
    "    \n",
    "    res = 0\n",
    "    dfs(root, 0)\n",
    "    return res"
   ]
  },
  {
   "cell_type": "code",
   "execution_count": null,
   "metadata": {},
   "outputs": [],
   "source": []
  },
  {
   "cell_type": "code",
   "execution_count": null,
   "metadata": {},
   "outputs": [],
   "source": [
    "572. Subtree of Another Tree\n",
    "A subtree of s is a tree consists of a node in s and all of this node's descendants. \n",
    "The tree s could also be considered as a subtree of itself.\n",
    "Given tree s:\n",
    "\n",
    "     3\n",
    "    / \\\n",
    "   4   5\n",
    "  / \\\n",
    " 1   2\n",
    "Given tree t:\n",
    "   4 \n",
    "  / \\\n",
    " 1   2\n",
    "Return true, because t has the same structure and node values with a subtree of s."
   ]
  },
  {
   "cell_type": "code",
   "execution_count": null,
   "metadata": {},
   "outputs": [],
   "source": [
    "def f572(s, t):\n",
    "    def helper(s, t):\n",
    "        if not s and not t:\n",
    "            return s is t\n",
    "        return s.val == t.val and helper(s.left, t.left) and helper(s.right, t.right)\n",
    "    \n",
    "    if helper(s, t):\n",
    "        return True\n",
    "    if not s:\n",
    "        return False\n",
    "    return f572(s.left, t) or f572(s.right, t)\n",
    "        "
   ]
  },
  {
   "cell_type": "code",
   "execution_count": null,
   "metadata": {},
   "outputs": [],
   "source": []
  },
  {
   "cell_type": "code",
   "execution_count": null,
   "metadata": {},
   "outputs": [],
   "source": [
    "581. Shortest Unsorted Continuous Subarray\n",
    "\n",
    "Given an integer array, you need to find one continuous subarray that \n",
    "if you only sort this subarray in ascending order, then the whole array will be sorted in ascending order, too.\n",
    "\n",
    "You need to find the shortest such subarray and output its length."
   ]
  },
  {
   "cell_type": "code",
   "execution_count": null,
   "metadata": {},
   "outputs": [],
   "source": [
    "def f581(nums):\n",
    "    l, r = 0, len(nums)\n",
    "    nums2 = sorted(nums)\n",
    "    while l < r:\n",
    "        while nums2[l] == nums[l]:\n",
    "            l += 1\n",
    "        while nums2[r] == nums[r]:\n",
    "            r -= 1\n",
    "    return r - l + 1 if l != r else 0"
   ]
  },
  {
   "cell_type": "code",
   "execution_count": null,
   "metadata": {},
   "outputs": [],
   "source": []
  },
  {
   "cell_type": "code",
   "execution_count": null,
   "metadata": {},
   "outputs": [],
   "source": [
    "594. Longest Harmonious Subsequence\n",
    "\n",
    "We define a harmounious array as an array where the difference between its maximum value and its minimum value \n",
    "is exactly 1.\n",
    "Input: [1,3,2,2,5,2,3,7]\n",
    "Output: 5\n",
    "Explanation: The longest harmonious subsequence is [3,2,2,2,3]."
   ]
  },
  {
   "cell_type": "code",
   "execution_count": null,
   "metadata": {},
   "outputs": [],
   "source": [
    "def f594(nums):\n",
    "    cnt = collections.Counter(nums)\n",
    "    return max([cnt[x]+cnt[x+1] for x in cnt if cnt[x+1]] or [0])"
   ]
  },
  {
   "cell_type": "code",
   "execution_count": null,
   "metadata": {},
   "outputs": [],
   "source": []
  },
  {
   "cell_type": "code",
   "execution_count": null,
   "metadata": {},
   "outputs": [],
   "source": [
    "597. Friend Requests I: Overall Acceptance Rate\n",
    "#SQL\n",
    "#Write a query to find the overall acceptance rate of requests rounded to 2 decimals, which is the number of acceptance divide the number of requests.\n",
    "select\n",
    "round(ifnull(select count(*) from (select distinct requester_id, accepter_id from request_accepted)/\n",
    "           select count(*) from (select distinct sender_id, send_to_id from friend_request), 0), 2) as accept_rate;\n"
   ]
  },
  {
   "cell_type": "code",
   "execution_count": null,
   "metadata": {},
   "outputs": [],
   "source": []
  },
  {
   "cell_type": "code",
   "execution_count": null,
   "metadata": {},
   "outputs": [],
   "source": [
    "598. Range Addition II\n",
    "means M[i][j] should be added by one for all 0 <= i < a and 0 <= j < b.\n",
    "You need to count and return the number of maximum integers in the matrix after \n",
    "Input: \n",
    "m = 3, n = 3\n",
    "operations = [[2,2],[3,3]]\n",
    "Output: 4\n",
    "Explanation: \n",
    "Initially, M = \n",
    "[[0, 0, 0],\n",
    " [0, 0, 0],\n",
    " [0, 0, 0]]\n",
    "\n",
    "After performing [2,2], M = \n",
    "[[1, 1, 0],\n",
    " [1, 1, 0],\n",
    " [0, 0, 0]]\n",
    "\n",
    "After performing [3,3], M = \n",
    "[[2, 2, 1],\n",
    " [2, 2, 1],\n",
    " [1, 1, 1]]\n",
    "\n",
    "So the maximum integer in M is 2, and there are four of it in M. So return 4."
   ]
  },
  {
   "cell_type": "code",
   "execution_count": null,
   "metadata": {},
   "outputs": [],
   "source": [
    "def f598(m, n, ops):\n",
    "    if not ops: return m * n\n",
    "    x, y = zip(*ops)\n",
    "    return min(x) * min(y)\n",
    "\n",
    "def f598_2(m, n, ops):\n",
    "    grid = [[0]*n for _ in range(m)]\n",
    "    for op in ops:\n",
    "        for i in range(op[0]):\n",
    "            for j in range(op[1]):\n",
    "                grid[i][j] += 1\n",
    "    h = [grid[i][j] for i in range(m) for j in range(n)]\n",
    "    return collections.Counter(h)[max(h)]\n"
   ]
  },
  {
   "cell_type": "code",
   "execution_count": null,
   "metadata": {},
   "outputs": [],
   "source": []
  },
  {
   "cell_type": "code",
   "execution_count": null,
   "metadata": {},
   "outputs": [],
   "source": [
    "599. Minimum Index Sum of Two Lists"
   ]
  },
  {
   "cell_type": "code",
   "execution_count": null,
   "metadata": {},
   "outputs": [],
   "source": [
    "Input:\n",
    "[\"Shogun\", \"Tapioca Express\", \"Burger King\", \"KFC\"]\n",
    "[\"KFC\", \"Shogun\", \"Burger King\"]\n",
    "Output: [\"Shogun\"]\n",
    "Explanation: The restaurant they both like and have the least index sum is \"Shogun\" with index sum 1 (0+1)."
   ]
  },
  {
   "cell_type": "code",
   "execution_count": null,
   "metadata": {},
   "outputs": [],
   "source": [
    "def f599(L1, L2):\n",
    "    d = set(L1) & set(L2)\n",
    "    c = collections.Counter({k: i for i, k in enumerate(L1) if k in d}) + \\\n",
    "        collections.Counter({k: i for i, k in enumerate(L2) if k in d})\n",
    "    return [k for k, v in c.items() if v == min(c.values())]"
   ]
  },
  {
   "cell_type": "code",
   "execution_count": null,
   "metadata": {},
   "outputs": [],
   "source": []
  },
  {
   "cell_type": "code",
   "execution_count": null,
   "metadata": {},
   "outputs": [],
   "source": [
    "600."
   ]
  },
  {
   "cell_type": "code",
   "execution_count": null,
   "metadata": {},
   "outputs": [],
   "source": []
  },
  {
   "cell_type": "code",
   "execution_count": null,
   "metadata": {},
   "outputs": [],
   "source": [
    "604 - Design Compressed String Iterator\n",
    "#Design"
   ]
  },
  {
   "cell_type": "code",
   "execution_count": null,
   "metadata": {},
   "outputs": [],
   "source": []
  },
  {
   "cell_type": "code",
   "execution_count": null,
   "metadata": {},
   "outputs": [],
   "source": []
  },
  {
   "cell_type": "code",
   "execution_count": null,
   "metadata": {},
   "outputs": [],
   "source": [
    "605. Can Place Flowers\n",
    "flowers cannot be planted in adjacent plots \n",
    "Given a flowerbed (represented as an array containing 0 and 1, where 0 means empty and 1 means not empty), \n",
    "and a number n, return if n new flowers can be planted in it without violating the no-adjacent-flowers rule.\n",
    "\n",
    "Example 1:\n",
    "Input: flowerbed = [1,0,0,0,1], n = 1\n",
    "Output: True\n",
    "    "
   ]
  },
  {
   "cell_type": "code",
   "execution_count": null,
   "metadata": {},
   "outputs": [],
   "source": [
    "def f605(fb, n): #fb - flowerbed\n",
    "    cnt, fb = 0, [0] + fb + [0]\n",
    "    for i in range(1, len(fb)-1):\n",
    "        if fb[i-1] == fb[i] == fb[i+1] == 0:\n",
    "            fb[i] = 1\n",
    "            cnt += 1\n",
    "    return cnt >= n"
   ]
  },
  {
   "cell_type": "code",
   "execution_count": null,
   "metadata": {},
   "outputs": [],
   "source": []
  },
  {
   "cell_type": "code",
   "execution_count": null,
   "metadata": {},
   "outputs": [],
   "source": [
    "606. Construct String from Binary Tree\n",
    "Input: Binary tree: [1,2,3,4]\n",
    "       1\n",
    "     /   \\\n",
    "    2     3\n",
    "   /    \n",
    "  4     \n",
    "\n",
    "Output: \"1(2(4))(3)\""
   ]
  },
  {
   "cell_type": "code",
   "execution_count": null,
   "metadata": {},
   "outputs": [],
   "source": [
    "def f606(root):\n",
    "    if not root:\n",
    "        return ''\n",
    "    res = str(root.val)\n",
    "    if root.left:\n",
    "        res += '(' + f606(root.left) + ')'\n",
    "        if root.right:\n",
    "            res += '(' + f606(root.right) + ')'\n",
    "    elif root.right:\n",
    "        res += \"()\" + '(' + f606(root.right) + ')'\n",
    "    return res"
   ]
  },
  {
   "cell_type": "code",
   "execution_count": null,
   "metadata": {},
   "outputs": [],
   "source": []
  },
  {
   "cell_type": "code",
   "execution_count": null,
   "metadata": {},
   "outputs": [],
   "source": [
    "619. Biggest Single Number\n",
    "#SQL\n",
    "select max(num) from (select num, count(1) as total_numb from number group by num) a where total_numb=1;"
   ]
  },
  {
   "cell_type": "code",
   "execution_count": null,
   "metadata": {},
   "outputs": [],
   "source": []
  },
  {
   "cell_type": "code",
   "execution_count": null,
   "metadata": {},
   "outputs": [],
   "source": []
  },
  {
   "cell_type": "code",
   "execution_count": null,
   "metadata": {},
   "outputs": [],
   "source": [
    "624. Maximum Distance in Arrays\n",
    "Given m arrays, and each array is sorted in ascending order. \n",
    "Input: \n",
    "[[1,2,3],\n",
    " [4,5],\n",
    " [1,2,3]]\n",
    "\n",
    "Output: 4\n",
    "\n",
    "Explanation: \n",
    "One way to reach the maximum distance 4 is to pick 1 in the first or third array and pick 5 in the second array."
   ]
  },
  {
   "cell_type": "code",
   "execution_count": null,
   "metadata": {},
   "outputs": [],
   "source": [
    "def f624(arrays):\n",
    "    n, res = len(arrays), 0\n",
    "    minFirst, maxLast = arrays[0][0], arrays[0][len(arrays[0])-1]\n",
    "\n",
    "    for i in range(1, n):\n",
    "        ai = arrays[i]\n",
    "        res = max(abs(ai[len(ai)-1] - minFirst), abs(maxLast - ai[0]), res)\n",
    "        minFirst = min(ai[0], minFirst)\n",
    "        maxLast = max(ai[len(ai)-1], maxLast)\n",
    "    return res"
   ]
  },
  {
   "cell_type": "code",
   "execution_count": null,
   "metadata": {},
   "outputs": [],
   "source": []
  },
  {
   "cell_type": "code",
   "execution_count": null,
   "metadata": {},
   "outputs": [],
   "source": [
    "628. Maximum Product of Three Numbers\n",
    "Given an integer array, find three numbers whose product is maximum and output the maximum product.\n",
    "\n",
    "Input: [1,2,3,4]\n",
    "Output: 24"
   ]
  },
  {
   "cell_type": "code",
   "execution_count": null,
   "metadata": {},
   "outputs": [],
   "source": [
    "def f628(nums):\n",
    "    nums.sort()\n",
    "    return nums[-1]*max(nums[0]*nums[1], nums[-2]*nums[-3])"
   ]
  },
  {
   "cell_type": "code",
   "execution_count": null,
   "metadata": {},
   "outputs": [],
   "source": []
  },
  {
   "cell_type": "code",
   "execution_count": null,
   "metadata": {},
   "outputs": [],
   "source": []
  },
  {
   "cell_type": "code",
   "execution_count": null,
   "metadata": {},
   "outputs": [],
   "source": [
    "633. Sum of Square Numbers\n",
    "\n",
    "Given a non-negative integer c, your task is to decide whether there're two integers a and b such that a2 + b2 = c.\n",
    "\n",
    "Example 1:\n",
    "\n",
    "Input: 5\n",
    "Output: True\n",
    "Explanation: 1 * 1 + 2 * 2 = 5\n",
    " "
   ]
  },
  {
   "cell_type": "code",
   "execution_count": null,
   "metadata": {},
   "outputs": [],
   "source": [
    "def f633(c):\n",
    "    l, r = 0, int(c**0.5)+1\n",
    "    while l <= r:\n",
    "        if l*l + r*r == c:\n",
    "            return True\n",
    "        elif l*l + h*h < c:\n",
    "            l += 1\n",
    "        else:\n",
    "            r -= 1\n",
    "    return False"
   ]
  },
  {
   "cell_type": "code",
   "execution_count": null,
   "metadata": {},
   "outputs": [],
   "source": []
  },
  {
   "cell_type": "code",
   "execution_count": null,
   "metadata": {},
   "outputs": [],
   "source": [
    "643. Maximum Average Subarray I\n",
    "find the contiguous subarray of given length k that has the maximum average value. \n",
    "Input: [1,12,-5,-6,50,3], k = 4\n",
    "Output: 12.75\n",
    "Explanation: Maximum average is (12-5-6+50)/4 = 51/4 = 12.75"
   ]
  },
  {
   "cell_type": "code",
   "execution_count": null,
   "metadata": {},
   "outputs": [],
   "source": [
    "def f643(nums, k):\n",
    "    if len(nums) < k:\n",
    "        return 0.0\n",
    "    maxTotal = sumCurr = sum(nums[:k])\n",
    "    for i in range(k, len(nums)):\n",
    "        sumCurr += nums[i] - nums[i-k]\n",
    "        maxTotal =  max(maxTotal, sumCurr)\n",
    "    return float(maxTotal)/k\n",
    "\n",
    "        "
   ]
  },
  {
   "cell_type": "code",
   "execution_count": null,
   "metadata": {},
   "outputs": [],
   "source": [
    "645. Set Mismatch\n",
    "one of the numbers in the set got duplicated to another number in the set, \n",
    "Your task is to firstly find the number occurs twice and then find the number that is missing. \n"
   ]
  },
  {
   "cell_type": "code",
   "execution_count": null,
   "metadata": {},
   "outputs": [],
   "source": [
    "def f645(nums):\n",
    "    dup = sum(nums) - sum(set(nums))\n",
    "    n = len(nums)\n",
    "    miss = n*(n+1)//2 - sum(set(nums))\n",
    "    return (dup, miss)\n",
    "\n",
    "def f645(nums):\n",
    "    return [v for k, v in collections.Counter(nums) if v==2]"
   ]
  },
  {
   "cell_type": "code",
   "execution_count": null,
   "metadata": {},
   "outputs": [],
   "source": []
  },
  {
   "cell_type": "code",
   "execution_count": null,
   "metadata": {},
   "outputs": [],
   "source": [
    "653. Two Sum IV - Input is a BST\n",
    "\n",
    "Given a Binary Search Tree and a target number, \n",
    "return true if there exist two elements in the BST such that their sum is equal to the given target.\n"
   ]
  },
  {
   "cell_type": "code",
   "execution_count": null,
   "metadata": {},
   "outputs": [],
   "source": [
    "def f653(root, target):\n",
    "    if not root:\n",
    "        return False\n",
    "    q, res = collections.deque([root]), []\n",
    "    while q:\n",
    "        node = q.popleft()\n",
    "        if target - node.val in res:\n",
    "            return True\n",
    "        res.append(node.val)\n",
    "        if node.left: q.append(node.left)\n",
    "        if node.right: q.append(node.right)\n",
    "    return False"
   ]
  },
  {
   "cell_type": "code",
   "execution_count": null,
   "metadata": {},
   "outputs": [],
   "source": []
  },
  {
   "cell_type": "code",
   "execution_count": null,
   "metadata": {},
   "outputs": [],
   "source": [
    "661. Image Smoother\n",
    "Input:\n",
    "[[1,1,1],\n",
    " [1,0,1],\n",
    " [1,1,1]]\n",
    "Output:\n",
    "[[0, 0, 0],\n",
    " [0, 0, 0],\n",
    " [0, 0, 0]]\n",
    "Explanation:\n",
    "For the point (0,0), (0,2), (2,0), (2,2): floor(3/4) = floor(0.75) = 0\n",
    "For the point (0,1), (1,0), (1,2), (2,1): floor(5/6) = floor(0.83333333) = 0\n",
    "For the point (1,1): floor(8/9) = floor(0.88888889) = 0"
   ]
  },
  {
   "cell_type": "code",
   "execution_count": null,
   "metadata": {},
   "outputs": [],
   "source": [
    "def f661(M):\n",
    "    m, n = len(M), len(M[0])\n",
    "    grid = [[0]*n for _ in range(m)]\n",
    "    for i in range(m):\n",
    "        for j in range(n):\n",
    "            adj = [M[i+dx][j+dy] for dx, dy in ((0,0),(-1,0),(1,0),(0,-1),(0,1),(-1,-1),(-1,1),(1,1),(1,-1)) \\\n",
    "                if 0 <= i+dx <= m and 0 <= j+dy <= n]\n",
    "            grid[i+dx][j+dy] == sum(adj)//len(adj):\n",
    "    return grid"
   ]
  },
  {
   "cell_type": "code",
   "execution_count": null,
   "metadata": {},
   "outputs": [],
   "source": []
  },
  {
   "cell_type": "code",
   "execution_count": null,
   "metadata": {},
   "outputs": [],
   "source": []
  },
  {
   "cell_type": "code",
   "execution_count": null,
   "metadata": {},
   "outputs": [],
   "source": [
    "665. Non-decreasing Array\n",
    "\n",
    "Given an array with n integers, your task is to check if it could become non-decreasing by modifying \n",
    "at most 1 element."
   ]
  },
  {
   "cell_type": "code",
   "execution_count": null,
   "metadata": {},
   "outputs": [],
   "source": [
    "def f665(nums):\n",
    "    cnt = 0\n",
    "    for i in range(len(nums)-1):\n",
    "        if nums[i] > nus[i+1]:\n",
    "            cnt += 1\n",
    "            if cnt > 1 or ((i = 1 > 0 and nums[i-1] > nums[i+1]) and (i+2 < len(nums) and nums[i+2] < nums[i])):\n",
    "                return False\n",
    "    return True"
   ]
  },
  {
   "cell_type": "code",
   "execution_count": null,
   "metadata": {},
   "outputs": [],
   "source": []
  },
  {
   "cell_type": "code",
   "execution_count": null,
   "metadata": {},
   "outputs": [],
   "source": [
    "671. Second Minimum Node In a Binary Tree\n",
    "Input: \n",
    "    2\n",
    "   / \\\n",
    "  2   5\n",
    "     / \\\n",
    "    5   7\n",
    "\n",
    "Output: 5\n",
    "Explanation: The smallest value is 2, the second smallest value is 5."
   ]
  },
  {
   "cell_type": "code",
   "execution_count": null,
   "metadata": {},
   "outputs": [],
   "source": [
    "def f671(root):\n",
    "    def dfs(node, res):\n",
    "        if node:\n",
    "            if minv < node.val < res:\n",
    "                res = node.val\n",
    "            elif node.val == minv:\n",
    "                dfs(node.left)\n",
    "                dfs(node.right)\n",
    "        \n",
    "    res = float('inf')\n",
    "    minv = root.val\n",
    "    dfs(root, res)\n",
    "    return res if res < float('inf') else -1"
   ]
  },
  {
   "cell_type": "code",
   "execution_count": null,
   "metadata": {},
   "outputs": [],
   "source": []
  },
  {
   "cell_type": "code",
   "execution_count": null,
   "metadata": {},
   "outputs": [],
   "source": [
    "674. Longest Continuous Increasing Subsequence\n",
    "Input: [1,3,5,4,7]\n",
    "Output: 3\n",
    "Explanation: The longest continuous increasing subsequence is [1,3,5], its length is 3. "
   ]
  },
  {
   "cell_type": "code",
   "execution_count": null,
   "metadata": {},
   "outputs": [],
   "source": [
    "def f674(nums):\n",
    "    if not nums: return 0\n",
    "    maxL, cnt = 1, 1\n",
    "    for i in range(1, len(nums)):\n",
    "        if nums[i] > nums[i-1]:\n",
    "            cnt += 1\n",
    "        else:\n",
    "            maxL = max(maxL, cnt)\n",
    "            cnt = 1\n",
    "    return maxL"
   ]
  },
  {
   "cell_type": "code",
   "execution_count": null,
   "metadata": {},
   "outputs": [],
   "source": []
  },
  {
   "cell_type": "code",
   "execution_count": null,
   "metadata": {},
   "outputs": [],
   "source": [
    "680. Valid Palindrome II\n",
    "\n",
    "Given a non-empty string s, you may delete at most one character. Judge whether you can make it a palindrome."
   ]
  },
  {
   "cell_type": "code",
   "execution_count": null,
   "metadata": {},
   "outputs": [],
   "source": [
    "def f680(s):\n",
    "    l, r = 0, len(s)-1\n",
    "    while l < r:\n",
    "        if s[l] != s[r]:\n",
    "            s1, s2 = s[l:r], s[l+1:r+1]\n",
    "            return s1 = s1[::-1] or s2 = s2[::-1]\n",
    "        l, r = l+1, r-1\n",
    "    return True"
   ]
  },
  {
   "cell_type": "code",
   "execution_count": null,
   "metadata": {},
   "outputs": [],
   "source": []
  },
  {
   "cell_type": "code",
   "execution_count": null,
   "metadata": {},
   "outputs": [],
   "source": [
    "686. Repeated String Match\n",
    "\n",
    "Given two strings A and B, find the minimum number of times A has to be repeated such that B is a substring of it. If no such solution, return -1.\n",
    "\n",
    "For example, with A = \"abcd\" and B = \"cdabcdab\"."
   ]
  },
  {
   "cell_type": "code",
   "execution_count": null,
   "metadata": {},
   "outputs": [],
   "source": [
    "def f686(A, B):\n",
    "    n  = -(-len(B) // len(A)) #ceil\n",
    "    for i in range(2):\n",
    "        if B in (A*(n+i)):\n",
    "            return n+i\n",
    "    return -1"
   ]
  },
  {
   "cell_type": "code",
   "execution_count": null,
   "metadata": {},
   "outputs": [],
   "source": []
  },
  {
   "cell_type": "code",
   "execution_count": null,
   "metadata": {},
   "outputs": [],
   "source": [
    "687. Longest Univalue Path\n",
    "\n",
    "Given a binary tree, find the length of the longest path where each node in the path has the same value. \n",
    "This path may or may not pass through the root."
   ]
  },
  {
   "cell_type": "code",
   "execution_count": null,
   "metadata": {},
   "outputs": [],
   "source": [
    "def f687(root):\n",
    "    def dfs(root, res):\n",
    "        l, r = 0, 0\n",
    "        if root.left:\n",
    "            l = dfs(root.left, res)\n",
    "            l = l+1 if root.left.val == root.val else 0\n",
    "        if root.right:\n",
    "            r = dfs(root.right, res)\n",
    "            r = r+1 if root.right.val == root.val else 0\n",
    "        res = max(res, l+r)\n",
    "        return max(l, r)\n",
    "    \n",
    "    if not root: return 0\n",
    "    res = 0\n",
    "    dfs(root, res)\n",
    "    return res"
   ]
  },
  {
   "cell_type": "code",
   "execution_count": null,
   "metadata": {},
   "outputs": [],
   "source": []
  },
  {
   "cell_type": "code",
   "execution_count": null,
   "metadata": {},
   "outputs": [],
   "source": [
    "690. Employee Importance\n",
    "\n",
    "You are given a data structure of employee information, \n",
    "which includes the employee's unique id, his importance value and his direct subordinates' id.\n",
    "\n",
    "For example, employee 1 is the leader of employee 2, and employee 2 is the leader of employee 3. \n",
    "They have importance value 15, 10 and 5, respectively. Then employee 1 has a data structure like [1, 15, [2]], \n",
    "and employee 2 has [2, 10, [3]], and employee 3 has [3, 5, []]. \n",
    "Note that although employee 3 is also a subordinate of employee 1, the relationship is not direct.\n",
    "\n",
    "Now given the employee information of a company, and an employee id, \n",
    "you need to return the total importance value of this employee and all his subordinates.\n",
    "\n",
    "Example 1:\n",
    "\n",
    "Input: [[1, 5, [2, 3]], [2, 3, []], [3, 3, []]], 1\n",
    "Output: 11\n",
    "Explanation:\n",
    "Employee 1 has importance value 5, and he has two direct subordinates: employee 2 and employee 3. They both have importance value 3. So the total importance value of employee 1 is 5 + 3 + 3 = 11.\n"
   ]
  },
  {
   "cell_type": "code",
   "execution_count": null,
   "metadata": {},
   "outputs": [],
   "source": [
    "def f690(employees, id):\n",
    "    em = [e for e in employees if e[0]==id][0]\n",
    "    res, subor = em[1], em[2]\n",
    "    return res + sum(e[1] for e in employees for sid in subor if sid == e[0])"
   ]
  },
  {
   "cell_type": "code",
   "execution_count": null,
   "metadata": {},
   "outputs": [],
   "source": []
  },
  {
   "cell_type": "code",
   "execution_count": null,
   "metadata": {},
   "outputs": [],
   "source": [
    "696. Count Binary Substrings\n",
    "\n",
    "Give a string s, count the number of non-empty (contiguous) substrings \n",
    "that have the same number of 0's and 1's, \n",
    "and all the 0's and all the 1's in these substrings are grouped consecutively.\n",
    "\n",
    "Substrings that occur multiple times are counted the number of times they occur.\n",
    "\n",
    "Example 1:\n",
    "Input: \"00110011\"\n",
    "Output: 6\n",
    "Explanation: There are 6 substrings that have equal number of consecutive 1's and 0's: \"0011\", \"01\", \"1100\", \"10\", \"0011\", and \"01\".\n",
    "\n",
    "Notice that some of these substrings repeat and are counted the number of times they occur.\n",
    "\n",
    "Also, \"00110011\" is not a valid substring because all the 0's (and 1's) are not grouped together.\n",
    "Example 2:\n",
    "Input: \"10101\"\n",
    "Output: 4\n",
    "Explanation: There are 4 substrings: \"10\", \"01\", \"10\", \"01\" that have equal number of consecutive 1's and 0's.\n",
    "Note:\n",
    "\n",
    "s.length will be between 1 and 50,000.\n",
    "s will only consist of \"0\" or \"1\" characters."
   ]
  },
  {
   "cell_type": "code",
   "execution_count": null,
   "metadata": {},
   "outputs": [],
   "source": [
    "def f696(s):\n",
    "    s = map(len, s.replace('01', '0 1').replace('10', '1 0').split())\n",
    "    return sum(min(a, b) for a, b in zip(s, s[1:]))\n",
    "\n",
    "def f696_2(s):\n",
    "    pre, cur, res = 0, 1, 0\n",
    "    for i in range(1, len(s)):\n",
    "        if s[i] == s[i-1]:\n",
    "            cur += 1\n",
    "        else:\n",
    "            res += min(pre, cur)\n",
    "            pre, cur = cur, 1\n",
    "\n",
    "    return res + min(pre, cur)"
   ]
  },
  {
   "cell_type": "code",
   "execution_count": null,
   "metadata": {},
   "outputs": [],
   "source": []
  },
  {
   "cell_type": "code",
   "execution_count": null,
   "metadata": {},
   "outputs": [],
   "source": [
    "697. Degree of an Array\n",
    "Given a non-empty array of non-negative integers nums, \n",
    "Your task is to find the smallest possible length of a (contiguous) subarray of nums, \n",
    "that has the same degree as nums."
   ]
  },
  {
   "cell_type": "code",
   "execution_count": 29,
   "metadata": {},
   "outputs": [
    {
     "name": "stdout",
     "output_type": "stream",
     "text": [
      "6\n"
     ]
    }
   ],
   "source": [
    "import collections\n",
    "def f697(nums):\n",
    "    cnt = collections.Counter(nums)\n",
    "    degree  = max(cnt.values())\n",
    "    nums1 = [k for k, v in cnt.items() if v == degree]\n",
    "    #print(nums1, nums.index(2), nums[::-1].index(2))\n",
    "    return min([len(nums) - nums[::-1].index(k) - nums.index(k) for k in nums1])\n",
    "nums = [1,2,2,3,1,4,2]\n",
    "print(f697(nums))"
   ]
  },
  {
   "cell_type": "code",
   "execution_count": null,
   "metadata": {},
   "outputs": [],
   "source": []
  },
  {
   "cell_type": "code",
   "execution_count": null,
   "metadata": {},
   "outputs": [],
   "source": [
    "700.\n"
   ]
  },
  {
   "cell_type": "code",
   "execution_count": null,
   "metadata": {},
   "outputs": [],
   "source": []
  },
  {
   "cell_type": "code",
   "execution_count": null,
   "metadata": {},
   "outputs": [],
   "source": [
    "703. Kth Largest Element in a Stream\n",
    "#Design\n",
    "int k = 3;\n",
    "int[] arr = [4,5,8,2];\n",
    "KthLargest kthLargest = new KthLargest(3, arr);\n",
    "kthLargest.add(3);   // returns 4\n",
    "kthLargest.add(5);   // returns 5\n",
    "kthLargest.add(10);  // returns 5\n",
    "kthLargest.add(9);   // returns 8\n",
    "kthLargest.add(4);   // returns 8"
   ]
  },
  {
   "cell_type": "code",
   "execution_count": null,
   "metadata": {},
   "outputs": [],
   "source": [
    "class f703:\n",
    "    def __init__(self, k, A):\n",
    "        A.sort(reverse=True)\n",
    "        self.topk = A[:k]\n",
    "        self.k = k\n",
    "    \n",
    "    def add(self, val):\n",
    "        if len(self.topk) == self.k and val <= self.topk[-1]:\n",
    "            return self.topk[-1]\n",
    "        \n",
    "        l, r = 0, len(self.topk)\n",
    "        while l < r:\n",
    "            mid = (l + r)//2\n",
    "            if val > self.topk[mid]:\n",
    "                r = mid\n",
    "            else:\n",
    "                l = mid + 1\n",
    "        self.topk.insert(l, val)\n",
    "        if len(self.topk) > self.k:\n",
    "            self.topk.pop()\n",
    "        return self.topk[-1]\n",
    "    "
   ]
  },
  {
   "cell_type": "code",
   "execution_count": null,
   "metadata": {},
   "outputs": [],
   "source": []
  },
  {
   "cell_type": "code",
   "execution_count": null,
   "metadata": {},
   "outputs": [],
   "source": [
    "704. Binary Search\n",
    "Given a sorted (in ascending order) integer array nums of n elements and a target value, write a function to search target in nums. If target exists, then return its index, otherwise return -1.\n"
   ]
  },
  {
   "cell_type": "code",
   "execution_count": null,
   "metadata": {},
   "outputs": [],
   "source": [
    "def f704(nums, target):\n",
    "    l, r = 0, len(nums)-1\n",
    "    while l <= r:\n",
    "        mid = (l + r)//2\n",
    "        if nums[mid] == target:\n",
    "            return mid\n",
    "        elif nums[mid] < target:\n",
    "            l = mid + 1\n",
    "        else:\n",
    "            r = mid - 1\n",
    "    return -1"
   ]
  },
  {
   "cell_type": "code",
   "execution_count": null,
   "metadata": {},
   "outputs": [],
   "source": []
  },
  {
   "cell_type": "code",
   "execution_count": null,
   "metadata": {},
   "outputs": [],
   "source": [
    "705. Design HashSet\n",
    "#Design\n",
    "Design a HashSet without using any built-in hash table libraries.\n",
    "\n",
    "To be specific, your design should include these functions:\n",
    "\n",
    "add(value): Insert a value into the HashSet. \n",
    "contains(value) : Return whether the value exists in the HashSet or not.\n",
    "remove(value): Remove a value in the HashSet. If the value does not exist in the HashSet, do nothing.\n",
    "\n",
    "Example:\n",
    "\n",
    "MyHashSet hashSet = new MyHashSet();\n",
    "hashSet.add(1);         \n",
    "hashSet.add(2);         \n",
    "hashSet.contains(1);    // returns true\n",
    "hashSet.contains(3);    // returns false (not found)\n",
    "hashSet.add(2);          \n",
    "hashSet.contains(2);    // returns true\n",
    "hashSet.remove(2);          \n",
    "hashSet.contains(2);    // returns false (already removed)"
   ]
  },
  {
   "cell_type": "code",
   "execution_count": null,
   "metadata": {},
   "outputs": [],
   "source": [
    "class ListNode():\n",
    "    def __init__(self, key, next):\n",
    "        self.key, self.next = key, next\n",
    "class f705:\n",
    "    def __init__(self):\n",
    "        self.size, self.lookup=10000, [None]*10000\n",
    "    \n",
    "    def add(self, key):\n",
    "        idx = key%self.size\n",
    "        cur = self.lookup[idx]\n",
    "        if not cur:\n",
    "            self.lookup[idx] = ListNode(key, None)\n",
    "            return\n",
    "        while cur:\n",
    "            if cur.key == key: return\n",
    "            if not cur.next:\n",
    "                cur.next = ListNoe(key, None)\n",
    "                return\n",
    "            if cur.next:\n",
    "                cur = cur.next\n",
    "        return\n",
    "    \n",
    "    def remove(self, key):\n",
    "        idx = key%self.size\n",
    "        cur = prev = self.lookup[idx]\n",
    "        if not cur: return\n",
    "        if cur.key == key:\n",
    "            self.lookup[idx] = cur.next\n",
    "        while cur:\n",
    "            if cur.key == key:\n",
    "                pre.next == cur.next\n",
    "                return\n",
    "            else:\n",
    "                cur, prev = cur.next, prev.next\n",
    "        return\n",
    "    \n",
    "    def contain(self, key):\n",
    "        idx = key%self.sie\n",
    "        cur = self.lookup[idx]\n",
    "        while cur:\n",
    "            if cur.key == key:\n",
    "                return True\n",
    "            cur = cur.next\n",
    "        return False\n",
    "        "
   ]
  },
  {
   "cell_type": "code",
   "execution_count": null,
   "metadata": {},
   "outputs": [],
   "source": []
  },
  {
   "cell_type": "code",
   "execution_count": null,
   "metadata": {},
   "outputs": [],
   "source": [
    "707. Design Linked List\n",
    "#Design"
   ]
  },
  {
   "cell_type": "code",
   "execution_count": null,
   "metadata": {},
   "outputs": [],
   "source": []
  },
  {
   "cell_type": "code",
   "execution_count": null,
   "metadata": {},
   "outputs": [],
   "source": [
    "716. Max Stack\n",
    "#Design\n",
    "Design a max stack that supports push, pop, top, peekMax and popMax."
   ]
  },
  {
   "cell_type": "code",
   "execution_count": null,
   "metadata": {},
   "outputs": [],
   "source": []
  },
  {
   "cell_type": "code",
   "execution_count": null,
   "metadata": {},
   "outputs": [],
   "source": [
    "717. 1-bit and 2-bit Characters\n",
    "\n",
    "We have two special characters. The first character can be represented by one bit 0. \n",
    "The second character can be represented by two bits (10 or 11).\n",
    "\n",
    "Now given a string represented by several bits. \n",
    "Return whether the last character must be a one-bit character or not.\n",
    "The given string will always end with a zero.\n",
    "Input: \n",
    "bits = [1, 0, 0]\n",
    "Output: True\n",
    "Input: \n",
    "bits = [1, 1, 1, 0]\n",
    "Output: False"
   ]
  },
  {
   "cell_type": "code",
   "execution_count": null,
   "metadata": {},
   "outputs": [],
   "source": [
    "def f717(bits):\n",
    "    for i, bit in enumerate(bits):\n",
    "        if bits:\n",
    "            bits.pop(i+1)\n",
    "    return not bit\n"
   ]
  },
  {
   "cell_type": "code",
   "execution_count": null,
   "metadata": {},
   "outputs": [],
   "source": []
  },
  {
   "cell_type": "code",
   "execution_count": null,
   "metadata": {},
   "outputs": [],
   "source": [
    "720. Longest Word in Dictionary\n",
    "Input: \n",
    "words = [\"w\",\"wo\",\"wor\",\"worl\", \"world\"]\n",
    "Output: \"world\"\n",
    "\n",
    "Input: \n",
    "words = [\"a\", \"banana\", \"app\", \"appl\", \"ap\", \"apply\", \"apple\"]\n",
    "Output: \"apple\""
   ]
  },
  {
   "cell_type": "code",
   "execution_count": null,
   "metadata": {},
   "outputs": [],
   "source": [
    "def f720(words):\n",
    "    res, maxL, lookup = None, 0, set(words)\n",
    "    for w in words:\n",
    "        if len(w) > maxL or (len(w)==maxL and w<res):\n",
    "            if all(w[:i] in lookup for i in range(1,len(w))):\n",
    "                res = w\n",
    "                maxL = len(w)\n",
    "    return res\n",
    "\n",
    "def f720_2(words):\n",
    "    words, lookup = sorted(words, key=len), set('')\n",
    "    maxw = ''\n",
    "    for w in words:\n",
    "        if w[:-1] in lookup:\n",
    "            lookup.add(w)\n",
    "            maxw = maxw if len(maxw) >= len(w) or maxw < w else w \n",
    "    return maxw\n",
    "    "
   ]
  },
  {
   "cell_type": "code",
   "execution_count": null,
   "metadata": {},
   "outputs": [],
   "source": []
  },
  {
   "cell_type": "code",
   "execution_count": null,
   "metadata": {},
   "outputs": [],
   "source": [
    "729. My Calendar I\n",
    "Medium\n",
    "\n",
    "Implement a MyCalendar class to store your events. A new event can be added if adding the event will not cause a double booking.\n",
    "\n",
    "Your class will have the method, book(int start, int end). Formally, this represents a booking on the half open interval [start, end), the range of real numbers x such that start <= x < end.\n",
    "\n",
    "A double booking happens when two events have some non-empty intersection (ie., there is some time that is common to both events.)\n",
    "\n",
    "For each call to the method MyCalendar.book, return true if the event can be added to the calendar successfully without causing a double booking. Otherwise, return false and do not add the event to the calendar.\n",
    "Your class will be called like this: MyCalendar cal = new MyCalendar(); MyCalendar.book(start, end)\n",
    "\n",
    "Example 1:\n",
    "\n",
    "MyCalendar();\n",
    "MyCalendar.book(10, 20); // returns true\n",
    "MyCalendar.book(15, 25); // returns false\n",
    "MyCalendar.book(20, 30); // returns true\n",
    "Explanation: \n",
    "The first event can be booked.  The second can't because time 15 is already booked by another event.\n",
    "The third event can be booked, as the first event takes every time less than 20, but not including 20.\n",
    "\n",
    " \n",
    "\n",
    "Note:\n",
    "\n",
    "    The number of calls to MyCalendar.book per test case will be at most 1000.\n",
    "    In calls to MyCalendar.book(start, end), start and end are integers in the range [0, 10^9].\n"
   ]
  },
  {
   "cell_type": "code",
   "execution_count": null,
   "metadata": {},
   "outputs": [],
   "source": [
    "class f719:\n",
    "    def __init__(self):\n",
    "        self.starts = []\n",
    "        self.ends = []\n",
    "    def book(self, start, end):\n",
    "        l, r = 0, len(self.starts)\n",
    "        while l < r:\n",
    "            mid = (l+r)//2\n",
    "            if start < self.starts[mid]:\n",
    "                r = mid\n",
    "            else:\n",
    "                l = mid + 1\n",
    "        if l - 1 >= 0:\n",
    "            if start < self.ends[l - 1]:\n",
    "                return False\n",
    "        if l < len(self.starts):\n",
    "            if end > self.starts[l]:\n",
    "                return False\n",
    "        self.starts.insert(l, start)\n",
    "        self.ends.insert(l, end)\n",
    "        return True"
   ]
  },
  {
   "cell_type": "code",
   "execution_count": null,
   "metadata": {},
   "outputs": [],
   "source": []
  },
  {
   "cell_type": "code",
   "execution_count": null,
   "metadata": {},
   "outputs": [],
   "source": [
    "731. My Calendar II\n",
    "Medium\n",
    "\n",
    "Implement a MyCalendarTwo class to store your events. A new event can be added if adding the event will not cause a triple booking.\n",
    "\n",
    "Your class will have one method, book(int start, int end). Formally, this represents a booking on the half open interval [start, end), the range of real numbers x such that start <= x < end.\n",
    "\n",
    "A triple booking happens when three events have some non-empty intersection (ie., there is some time that is common to all 3 events.)\n",
    "\n",
    "For each call to the method MyCalendar.book, return true if the event can be added to the calendar successfully without causing a triple booking. Otherwise, return false and do not add the event to the calendar.\n",
    "Your class will be called like this: MyCalendar cal = new MyCalendar(); MyCalendar.book(start, end)\n",
    "\n",
    "Example 1:\n",
    "\n",
    "MyCalendar();\n",
    "MyCalendar.book(10, 20); // returns true\n",
    "MyCalendar.book(50, 60); // returns true\n",
    "MyCalendar.book(10, 40); // returns true\n",
    "MyCalendar.book(5, 15); // returns false\n",
    "MyCalendar.book(5, 10); // returns true\n",
    "MyCalendar.book(25, 55); // returns true\n",
    "Explanation: \n",
    "The first two events can be booked.  The third event can be double booked.\n",
    "The fourth event (5, 15) can't be booked, because it would result in a triple booking.\n",
    "The fifth event (5, 10) can be booked, as it does not use time 10 which is already double booked.\n",
    "The sixth event (25, 55) can be booked, as the time in [25, 40) will be double booked with the third event;\n",
    "the time [40, 50) will be single booked, and the time [50, 55) will be double booked with the second event.\n",
    "\n",
    " \n",
    "\n",
    "Note:\n",
    "\n",
    "    The number of calls to MyCalendar.book per test case will be at most 1000.\n",
    "    In calls to MyCalendar.book(start, end), start and end are integers in the range [0, 10^9].\n"
   ]
  },
  {
   "cell_type": "code",
   "execution_count": null,
   "metadata": {},
   "outputs": [],
   "source": [
    "class f731:\n",
    "    def __init__(self):\n",
    "        self.overlaps = []\n",
    "        self.calendar = []\n",
    "        \n",
    "    def book(self, start, end):\n",
    "        for i, j in self.overlaps:\n",
    "            if start < j and end > i:\n",
    "                return False\n",
    "            for i, j in self.calendar:\n",
    "                if start < j and end > i:\n",
    "                    self.overlaps.append((max(start, i), min(end, j)))\n",
    "            self.calendar.append((start, end))\n",
    "        return True"
   ]
  },
  {
   "cell_type": "code",
   "execution_count": null,
   "metadata": {},
   "outputs": [],
   "source": []
  },
  {
   "cell_type": "code",
   "execution_count": null,
   "metadata": {},
   "outputs": [],
   "source": [
    "732. My Calendar III\n",
    "Hard\n",
    "\n",
    "Implement a MyCalendarThree class to store your events. A new event can always be added.\n",
    "\n",
    "Your class will have one method, book(int start, int end). Formally, this represents a booking on the half open interval [start, end), the range of real numbers x such that start <= x < end.\n",
    "\n",
    "A K-booking happens when K events have some non-empty intersection (ie., there is some time that is common to all K events.)\n",
    "\n",
    "For each call to the method MyCalendar.book, return an integer K representing the largest integer such that there exists a K-booking in the calendar.\n",
    "Your class will be called like this: MyCalendarThree cal = new MyCalendarThree(); MyCalendarThree.book(start, end)\n",
    "\n",
    "Example 1:\n",
    "\n",
    "MyCalendarThree();\n",
    "MyCalendarThree.book(10, 20); // returns 1\n",
    "MyCalendarThree.book(50, 60); // returns 1\n",
    "MyCalendarThree.book(10, 40); // returns 2\n",
    "MyCalendarThree.book(5, 15); // returns 3\n",
    "MyCalendarThree.book(5, 10); // returns 3\n",
    "MyCalendarThree.book(25, 55); // returns 3\n",
    "Explanation: \n",
    "The first two events can be booked and are disjoint, so the maximum K-booking is a 1-booking.\n",
    "The third event [10, 40) intersects the first event, and the maximum K-booking is a 2-booking.\n",
    "The remaining events cause the maximum K-booking to be only a 3-booking.\n",
    "Note that the last event locally causes a 2-booking, but the answer is still 3 because\n",
    "eg. [10, 20), [10, 40), and [5, 15) are still triple booked.\n",
    "\n",
    " \n",
    "\n",
    "Note:\n",
    "\n",
    "    The number of calls to MyCalendarThree.book per test case will be at most 400.\n",
    "    In calls to MyCalendarThree.book(start, end), start and end are integers in the range [0, 10^9].\n"
   ]
  },
  {
   "cell_type": "code",
   "execution_count": null,
   "metadata": {},
   "outputs": [],
   "source": [
    "class f732:\n",
    "    def __init__(self):\n",
    "        self.starts, self.ends = [], []\n",
    "        self.maxv = 0  #number of least bookings\n",
    "        \n",
    "    def book(self, start, end):\n",
    "        from bisect import bisect_left as bl, bisect_right as br, insort_left as il\n",
    "        from heapq import heappop, heappush\n",
    "        i, j = bl(self.ends, start), br(self.starts, end)\n",
    "        il(self.starts, start, i, j)\n",
    "        il(self.ends, end, i, j)\n",
    "        heap = []\n",
    "        for k in range(i, j+1):\n",
    "            while heap and heap[0] <= self.starts[k]:\n",
    "                heappop(heap)\n",
    "            heappush(heap, self.ends[k])\n",
    "            self.maxv = max(self.maxv, len(heap))\n",
    "        return self.maxv"
   ]
  },
  {
   "cell_type": "code",
   "execution_count": null,
   "metadata": {},
   "outputs": [],
   "source": []
  },
  {
   "cell_type": "code",
   "execution_count": null,
   "metadata": {},
   "outputs": [],
   "source": [
    "733. Flood Fill"
   ]
  },
  {
   "cell_type": "code",
   "execution_count": null,
   "metadata": {},
   "outputs": [],
   "source": [
    "#BFS\n",
    "def f733(img, sr, sc, colorNew):\n",
    "    colorOld, m, n = img[sr][sc], len(img), len(img[0])\n",
    "    if colorOld != colorNew: q.collections.deque([sr, sc])\n",
    "    while q:\n",
    "        i, j = q.popleft()\n",
    "        img[i][j] = colorNew\n",
    "        for x, y in ((i-1,j),(i+1,j),(i,j-1),(i,j+1)):\n",
    "            if 0 <= x < m and 0 <= y < n and img[x][y] == colorOld:\n",
    "                q.append((x,y))\n",
    "    return img\n",
    "\n",
    "#DFS\n",
    "def f733_2(img, sr, sc, colorNew):\n",
    "    def dfs(i, j):\n",
    "        img[i][j] = colorNew\n",
    "        for x, y in ((i-1,j),(i+1,j),(i,j-1),(i,j+1)):\n",
    "            if 0 <= x < m and 0 <= y < n and img[x][y] == colorOld:\n",
    "                dfs(x, y)\n",
    "    \n",
    "    colorOld, m, n = img[sr][sc], len(img), len(img[0])\n",
    "    if colorOld != colorNew: dfs(sr, sc)\n",
    "    return img"
   ]
  },
  {
   "cell_type": "code",
   "execution_count": null,
   "metadata": {},
   "outputs": [],
   "source": []
  },
  {
   "cell_type": "code",
   "execution_count": null,
   "metadata": {},
   "outputs": [],
   "source": [
    "734. Sentence Similarity\n",
    "For example, \"great acting skills\" and \"fine drama talent\" are similar, \n",
    "if the similar word pairs are pairs = [[\"great\", \"fine\"], [\"acting\",\"drama\"], [\"skills\",\"talent\"]]."
   ]
  },
  {
   "cell_type": "code",
   "execution_count": null,
   "metadata": {},
   "outputs": [],
   "source": [
    "def f734(words1, words2, pairs):\n",
    "    if len(words1) != len(words2): return False\n",
    "    dic = collections.defaultdict(set)\n",
    "    for w1, w2 in pairs:\n",
    "        dic[w1].add(w2)\n",
    "        dic[w2].add(w1)\n",
    "    for w1, w2 in zip(words1, words2):\n",
    "        if w1 != w2 and w2 not in dic[w1]:\n",
    "            return False\n",
    "    return True"
   ]
  },
  {
   "cell_type": "code",
   "execution_count": null,
   "metadata": {},
   "outputs": [],
   "source": []
  },
  {
   "cell_type": "code",
   "execution_count": null,
   "metadata": {},
   "outputs": [],
   "source": [
    "724. Find Pivot Index\n",
    "\n",
    "Given an array of integers nums, write a method that returns the \"pivot\" index of this array.\n",
    "We define the pivot index as the index where the sum of the numbers to the left of the index is equal \n",
    "to the sum of the numbers to the right of the index."
   ]
  },
  {
   "cell_type": "code",
   "execution_count": null,
   "metadata": {},
   "outputs": [],
   "source": [
    "def f724(nums):\n",
    "    l, r = 0, sum(nums)\n",
    "    for i, n enumerat(nums):\n",
    "        r -= n\n",
    "        if l == right:\n",
    "            return i\n",
    "        l += n\n",
    "    return -1"
   ]
  },
  {
   "cell_type": "code",
   "execution_count": null,
   "metadata": {},
   "outputs": [],
   "source": []
  },
  {
   "cell_type": "code",
   "execution_count": null,
   "metadata": {},
   "outputs": [],
   "source": [
    "744. Find Smallest Letter Greater Than Target\n",
    "\n",
    "Letters also wrap around. For example, \n",
    "if the target is target = 'z' and letters = ['a', 'b'], the answer is 'a'.\n",
    "\n",
    "letters = [\"c\", \"f\", \"j\"]\n",
    "target = \"a\"\n",
    "Output: \"c\""
   ]
  },
  {
   "cell_type": "code",
   "execution_count": null,
   "metadata": {},
   "outputs": [],
   "source": [
    "#import bisect\n",
    "def f744(letters, target):\n",
    "    return next((c for c in letters if c>target), letters[0]) #wrap around\n",
    "    #return letters[bisect.bisect(letters, target) % len(letters)]"
   ]
  },
  {
   "cell_type": "code",
   "execution_count": null,
   "metadata": {},
   "outputs": [],
   "source": []
  },
  {
   "cell_type": "code",
   "execution_count": null,
   "metadata": {},
   "outputs": [],
   "source": [
    "746. Min Cost Climbing Stairs\n",
    "Once you pay the cost, you can either climb one or two steps. "
   ]
  },
  {
   "cell_type": "code",
   "execution_count": null,
   "metadata": {},
   "outputs": [],
   "source": [
    "def f746(cost):\n",
    "    for i in range(2, len(cost)):\n",
    "        cost[i] += min(cost[i-1], cost[i-2])\n",
    "    return min(cost[-1], cost[-2])"
   ]
  },
  {
   "cell_type": "code",
   "execution_count": null,
   "metadata": {},
   "outputs": [],
   "source": []
  },
  {
   "cell_type": "code",
   "execution_count": null,
   "metadata": {},
   "outputs": [],
   "source": [
    "747. Largest Number At Least Twice of Others\n",
    "Input: nums = [3, 6, 1, 0]\n",
    "Output: 1\n",
    "Explanation: 6 is the largest integer, and for every other number in the array x,\n",
    "6 is more than twice as big as x.  The index of value 6 is 1, so we return 1.\n",
    " "
   ]
  },
  {
   "cell_type": "code",
   "execution_count": null,
   "metadata": {},
   "outputs": [],
   "source": [
    "def f747(nums):\n",
    "    maxn = max(nums)\n",
    "    idx = nums.index(maxn)\n",
    "    nums2 = nums[:-1] if idx == len(nums) -1 or nums[:idx]+nums[idx+1:]\n",
    "    maxn2 = max(nums2)\n",
    "    return idx if maxn >= 2*maxn2 else -1"
   ]
  },
  {
   "cell_type": "code",
   "execution_count": null,
   "metadata": {},
   "outputs": [],
   "source": []
  },
  {
   "cell_type": "code",
   "execution_count": null,
   "metadata": {},
   "outputs": [],
   "source": [
    "748. Shortest Completing Word\n",
    "\n",
    "Find the minimum length word from a given dictionary words, which has all the letters from the string licensePlate. Such a word is said to complete the given string licensePlate\n",
    "Example 1:\n",
    "Input: licensePlate = \"1s3 PSt\", words = [\"step\", \"steps\", \"stripe\", \"stepple\"]\n",
    "Output: \"steps\"\n",
    "Explanation: The smallest length word that contains the letters \"S\", \"P\", \"S\", and \"T\".\n",
    "Note that the answer is not \"step\", because the letter \"s\" must occur in the word twice.\n",
    "Also note that we ignored case for the purposes of comparing whether a letter exists in the word.\n",
    "Example 2:\n",
    "Input: licensePlate = \"1s3 456\", words = [\"looks\", \"pest\", \"stew\", \"show\"]\n",
    "Output: \"pest\"\n",
    "Explanation: There are 3 smallest length words that contains the letters \"s\".\n",
    "We return the one that occurred first."
   ]
  },
  {
   "cell_type": "code",
   "execution_count": null,
   "metadata": {},
   "outputs": [],
   "source": [
    "def f748(lp, words):\n",
    "    cnt = collections.Counter(''.join(c for c in lp.lower() if c.isalpha()))\n",
    "    return min([len(w) for w in words if not cnt - collections.Counter(w)])"
   ]
  },
  {
   "cell_type": "code",
   "execution_count": null,
   "metadata": {},
   "outputs": [],
   "source": []
  },
  {
   "cell_type": "code",
   "execution_count": null,
   "metadata": {},
   "outputs": [],
   "source": []
  },
  {
   "cell_type": "code",
   "execution_count": null,
   "metadata": {},
   "outputs": [],
   "source": [
    "754. Reach a Number\n",
    "\n",
    "You are standing at position 0 on an infinite number line. There is a goal at position target.\n",
    "\n",
    "On each move, you can either go left or right. During the n-th move (starting from 1), you take n steps.\n",
    "\n",
    "Return the minimum number of steps required to reach the destination.\n",
    "Input: target = 2\n",
    "Output: 3\n",
    "Explanation:\n",
    "On the first move we step from 0 to 1.\n",
    "On the second move we step  from 1 to -1.\n",
    "On the third move we step from -1 to 2."
   ]
  },
  {
   "cell_type": "code",
   "execution_count": null,
   "metadata": {},
   "outputs": [],
   "source": [
    "import math\n",
    "def f754(target):\n",
    "    t, n = abs(target), math.floor(math.sqrt(2*t))\n",
    "    while True:\n",
    "        extra = (n+1)*n/2 - t\n",
    "        if extra >= 0:\n",
    "            if extra%2 == 0:\n",
    "                return int(n)\n",
    "        n += 1"
   ]
  },
  {
   "cell_type": "code",
   "execution_count": null,
   "metadata": {},
   "outputs": [],
   "source": []
  },
  {
   "cell_type": "code",
   "execution_count": null,
   "metadata": {},
   "outputs": [],
   "source": [
    "758. Bold Words in String\n",
    "For example, given that words = [\"ab\", \"bc\"] and S = \"aabcd\", \n",
    "we should return \"a<b>abc</b>d\". Note that returning \"a<b>a<b>b</b>c</b>d\" would use more tags, \n",
    "so it is incorrect."
   ]
  },
  {
   "cell_type": "code",
   "execution_count": null,
   "metadata": {},
   "outputs": [],
   "source": [
    "def f758(words, S):\n",
    "    bold = [0]*len(S)\n",
    "    for i in range(len(S)):\n",
    "        for w in words:\n",
    "            idx = S[i:].find(w)\n",
    "            if idx != -1:\n",
    "                bold[idx: idx+len(w)] = 1\n",
    "    s, res = list(S)+[''], []\n",
    "    for i in range(1, len(s)+1):\n",
    "        if bold[i] and bold[i-1] == 0:\n",
    "            res.append('<b>')\n",
    "        res.append(s[i-1])\n",
    "        if bold[i] and bold[i+1] == 0:\n",
    "            res.append('</b>')\n",
    "    return ''.join(res)\n",
    "            "
   ]
  },
  {
   "cell_type": "code",
   "execution_count": null,
   "metadata": {},
   "outputs": [],
   "source": []
  },
  {
   "cell_type": "code",
   "execution_count": null,
   "metadata": {},
   "outputs": [],
   "source": [
    "783. Minimum Distance Between BST Nodes\n",
    "\n",
    "Given a Binary Search Tree (BST) with the root node root, \n",
    "return the minimum difference between the values of any two different nodes in the tree.\n"
   ]
  },
  {
   "cell_type": "code",
   "execution_count": null,
   "metadata": {},
   "outputs": [],
   "source": [
    "def f783(root):\n",
    "    def f783(root, prev, minD):\n",
    "        if root.left: dfs(root.left, prev, minD)\n",
    "        minD = min(root.val - prev, minD)\n",
    "        prev = root.val\n",
    "        if root.right: dfs(root.right, prev, minD)\n",
    "        return minD\n",
    "    \n",
    "    return dfs(root, -float('inf'), float('inf'))\n"
   ]
  },
  {
   "cell_type": "code",
   "execution_count": null,
   "metadata": {},
   "outputs": [],
   "source": []
  },
  {
   "cell_type": "code",
   "execution_count": null,
   "metadata": {},
   "outputs": [],
   "source": [
    "#788. Rotated Digits"
   ]
  },
  {
   "cell_type": "code",
   "execution_count": null,
   "metadata": {},
   "outputs": [],
   "source": [
    "def f788(N):\n",
    "    return len([n for n in range(1, N+1) \\\n",
    "                if not set(str(n)) & \"3\",\"4\",\"7\"} and \\\n",
    "                set(str(n)) & {\"2\",\"5\",\"6\",\"9\"}])\n"
   ]
  },
  {
   "cell_type": "code",
   "execution_count": null,
   "metadata": {},
   "outputs": [],
   "source": []
  },
  {
   "cell_type": "code",
   "execution_count": null,
   "metadata": {},
   "outputs": [],
   "source": [
    "796. Rotate String\n",
    "We are given two strings, A and B.\n",
    "Example 1:\n",
    "Input: A = 'abcde', B = 'cdeab'\n",
    "Output: true\n",
    "\n",
    "Example 2:\n",
    "Input: A = 'abcde', B = 'abced'\n",
    "Output: false"
   ]
  },
  {
   "cell_type": "code",
   "execution_count": null,
   "metadata": {},
   "outputs": [],
   "source": [
    "def f796(A, B):\n",
    "    return len(A) == len(B) and B in A+A"
   ]
  },
  {
   "cell_type": "code",
   "execution_count": null,
   "metadata": {},
   "outputs": [],
   "source": []
  },
  {
   "cell_type": "code",
   "execution_count": null,
   "metadata": {},
   "outputs": [],
   "source": [
    "800."
   ]
  },
  {
   "cell_type": "code",
   "execution_count": null,
   "metadata": {},
   "outputs": [],
   "source": []
  },
  {
   "cell_type": "code",
   "execution_count": null,
   "metadata": {},
   "outputs": [],
   "source": [
    "809. Most Common Word\n",
    "remove all punctuations\n",
    "change to lowercase\n",
    "words count for each word not in banned set\n",
    "return the most common word"
   ]
  },
  {
   "cell_type": "code",
   "execution_count": null,
   "metadata": {},
   "outputs": [],
   "source": [
    "def f819(p, banned):\n",
    "    ban = set(banned)\n",
    "    words = re.findall(r'\\w+', p.lower())\n",
    "    #words = re.sub(r'[^a-zA-Z]', ' ', p).lower().split()\n",
    "    return collections.Counter(w for w in words in w not in ban).most_common(1)[0][0]"
   ]
  },
  {
   "cell_type": "code",
   "execution_count": null,
   "metadata": {},
   "outputs": [],
   "source": []
  },
  {
   "cell_type": "code",
   "execution_count": null,
   "metadata": {},
   "outputs": [],
   "source": []
  },
  {
   "cell_type": "code",
   "execution_count": null,
   "metadata": {},
   "outputs": [],
   "source": [
    "812. Largest Triangle Area"
   ]
  },
  {
   "cell_type": "code",
   "execution_count": null,
   "metadata": {},
   "outputs": [],
   "source": [
    "def f812(p):\n",
    "    return max(0.5*abs(xa*yb + xb*yc + xc*ya - xb*ya - xc*yb + xa*yc) \\\n",
    "              for (xa, ya), (xb, yb), (xc, yc) in itertools.combinations(p, 3))\n"
   ]
  },
  {
   "cell_type": "code",
   "execution_count": null,
   "metadata": {},
   "outputs": [],
   "source": []
  },
  {
   "cell_type": "code",
   "execution_count": null,
   "metadata": {},
   "outputs": [],
   "source": [
    "830. Positions of Large Groups\n",
    "Input: \"abbxxxxzzy\"\n",
    "Output: [[3,6]]\n",
    "Explanation: \"xxxx\" is the single large group with starting  3 and ending positions 6.\n"
   ]
  },
  {
   "cell_type": "code",
   "execution_count": null,
   "metadata": {},
   "outputs": [],
   "source": [
    "def f830(s):\n",
    "    i, j, n, res = 0, 0, len(s), []\n",
    "    while i < n:\n",
    "        while j < n and s[j] == s[i]:\n",
    "            j += 1\n",
    "        if j - i >= 3:\n",
    "            res.append((i, j-1))\n",
    "        i = j\n",
    "    return res\n"
   ]
  },
  {
   "cell_type": "code",
   "execution_count": null,
   "metadata": {},
   "outputs": [],
   "source": []
  },
  {
   "cell_type": "code",
   "execution_count": null,
   "metadata": {},
   "outputs": [],
   "source": [
    "836. Rectangle Overlap\n",
    "rectangle is represented as a list [x1, y1, x2, y2], \n",
    "where (x1, y1) are the coordinates of its bottom-left corner, \n",
    "and (x2, y2) are the coordinates of its top-right corner.\n",
    "\n",
    "\n",
    "Input: rec1 = [0,0,2,2], rec2 = [1,1,3,3]\n",
    "Output: true\n",
    "\n",
    "\n",
    "Input: rec1 = [0,0,1,1], rec2 = [1,0,2,1]\n",
    "Output: false\n"
   ]
  },
  {
   "cell_type": "code",
   "execution_count": null,
   "metadata": {},
   "outputs": [],
   "source": [
    "def f836(rec1, rec2):\n",
    "    #compare left p1 < right p2 & left p2 < right p1\n",
    "    p1, p2 = rec1, rec2\n",
    "    return p1[0] < p2[2] and p2[0] < p1[2] and \\  # x1 < x2\n",
    "        p1[1] < p2[3] and p2[1] < p1[3]  # y1 < y2\n",
    "    "
   ]
  },
  {
   "cell_type": "code",
   "execution_count": null,
   "metadata": {},
   "outputs": [],
   "source": []
  },
  {
   "cell_type": "code",
   "execution_count": null,
   "metadata": {},
   "outputs": [],
   "source": [
    "840. Magic Squares In Grid\n",
    "\n",
    "A 3 x 3 magic square is a 3 x 3 grid filled with distinct numbers from 1 to 9 \n",
    "such that each row, column, and both diagonals all have the same sum.\n",
    "Input: [[4,3,8,4],\n",
    "        [9,5,1,9],\n",
    "        [2,7,6,2]]\n",
    "Output: 1\n",
    "Explanation: \n",
    "The following subgrid is a 3 x 3 magic square:\n",
    "438\n",
    "951\n",
    "276"
   ]
  },
  {
   "cell_type": "code",
   "execution_count": 16,
   "metadata": {},
   "outputs": [
    {
     "name": "stdout",
     "output_type": "stream",
     "text": [
      "3 4\n",
      "[[4, 3, 8, 4], [9, 5, 1, 9], [2, 7, 6, 2]]\n",
      "[(4, 9, 2), (3, 5, 7), (8, 1, 6), (4, 9, 2)]\n"
     ]
    }
   ],
   "source": [
    "M =[[4,3,8,4],\n",
    "        [9,5,1,9],\n",
    "        [2,7,6,2]]\n",
    "print(len(M), len(M[0]))\n",
    "print([row for row in M])\n",
    "print([col for col in zip(*M)])"
   ]
  },
  {
   "cell_type": "code",
   "execution_count": null,
   "metadata": {},
   "outputs": [],
   "source": [
    "def f840(grid):\n",
    "    def is_magic(M):\n",
    "        t = sum(M[0])\n",
    "        return set(x for row in M for x in row) == set(range(1,10)) and \\\n",
    "        all(sum(row) == t for row in M) and all(sum(col)==t for col in zip(*M)) and \\\n",
    "        sum(M[i][i] for i in range(len(M))) == t and sum(M[i][2-i] for i in range(len(M))) == t\n",
    "    cnt = 0\n",
    "    for i in range(len(grid)-2):\n",
    "        for j in range(len(grid[0])-2):\n",
    "            mg = [[grid[k][m] for m in range(j, j+3)] for k in range(i, i+3)]\n",
    "            if is_magic(mg):\n",
    "                cnt += 1\n",
    "    return cnt"
   ]
  },
  {
   "cell_type": "code",
   "execution_count": null,
   "metadata": {},
   "outputs": [],
   "source": []
  },
  {
   "cell_type": "code",
   "execution_count": null,
   "metadata": {},
   "outputs": [],
   "source": [
    "844. Backspace String Compare\n",
    "Input: S = \"ab#c\", T = \"ad#c\"\n",
    "Output: true\n",
    "Explanation: Both S and T become \"ac\".\n",
    "Example 2:\n",
    "\n",
    "Input: S = \"ab##\", T = \"c#d#\"\n",
    "Output: true\n",
    "Explanation: Both S and T become \"\"."
   ]
  },
  {
   "cell_type": "code",
   "execution_count": null,
   "metadata": {},
   "outputs": [],
   "source": [
    "def f844(s, t):\n",
    "    helper = lambda res, c: res[:-1] if c == \"#\" else res + c\n",
    "    return reduce(helper, s, \"\") == reduce(helper, t, \"\")\n",
    "\n",
    "def f844_2(s, t):\n",
    "    def helper(strs):\n",
    "        res = [\"\"]\n",
    "        for c in strs:\n",
    "            if c == \"#\" and res:\n",
    "                res.pop()\n",
    "            else:\n",
    "                res.append(c)\n",
    "        return res\n",
    "    return helper(s) == helper(t)\n",
    "                "
   ]
  },
  {
   "cell_type": "code",
   "execution_count": null,
   "metadata": {},
   "outputs": [],
   "source": []
  },
  {
   "cell_type": "code",
   "execution_count": null,
   "metadata": {},
   "outputs": [],
   "source": [
    "848. Shifting Letters\n",
    "For example, shift('a') = 'b', shift('t') = 'u', and shift('z') = 'a'.\n",
    "\n",
    "Now for each shifts[i] = x, we want to shift the first i+1 letters of S, x times.\n",
    "Input: S = \"abc\", shifts = [3,5,9]\n",
    "Output: \"rpl\"\n",
    "Explanation: \n",
    "We start with \"abc\".\n",
    "After shifting the first 1 letters of S by 3, we have \"dbc\".\n",
    "After shifting the first 2 letters of S by 5, we have \"igc\".\n",
    "After shifting the first 3 letters of S by 9, we have \"rpl\", the answer."
   ]
  },
  {
   "cell_type": "code",
   "execution_count": null,
   "metadata": {},
   "outputs": [],
   "source": [
    "def f848(S, shifts):\n",
    "    for i in range(len(shifts)-1)[::-1]:\n",
    "        shifts[i] += shifts[i+1]\n",
    "    res = []\n",
    "    for i in range(len(S)):\n",
    "        d = (ord(S[i]) - ord(\"a\") + shifts[i])%26 + ord(\"a\")\n",
    "        res.append(chr(d))\n",
    "    return ''.join(res)"
   ]
  },
  {
   "cell_type": "code",
   "execution_count": null,
   "metadata": {},
   "outputs": [],
   "source": []
  },
  {
   "cell_type": "code",
   "execution_count": null,
   "metadata": {},
   "outputs": [],
   "source": []
  },
  {
   "cell_type": "code",
   "execution_count": null,
   "metadata": {},
   "outputs": [],
   "source": []
  },
  {
   "cell_type": "code",
   "execution_count": null,
   "metadata": {},
   "outputs": [],
   "source": []
  },
  {
   "cell_type": "code",
   "execution_count": null,
   "metadata": {},
   "outputs": [],
   "source": [
    "849. Maximize Distance to Closest Person\n",
    "Input: [1,0,0,0,1,0,1]\n",
    "Output: 2\n",
    "\n",
    "Input: [1,0,0,0]\n",
    "Output: 3"
   ]
  },
  {
   "cell_type": "code",
   "execution_count": null,
   "metadata": {},
   "outputs": [],
   "source": [
    "def f849(seats):\n",
    "    res, last, n = 0, -1, len(seats)\n",
    "    for i in range(n):\n",
    "        if sets[i]:\n",
    "            res = max(res, i if last < 0 else (i - last)/2)\n",
    "            last = i\n",
    "    return max(res, n - last - 1)\n",
    "\n",
    "def f849_2(seats):\n",
    "    zeros, res = 0, 0\n",
    "    for s in seats:\n",
    "        if s == 0:\n",
    "            zeros += 1\n",
    "            res = max(res, zeros)\n",
    "        else:\n",
    "            zeros = 0\n",
    "    res = (res + 1) // 2\n",
    "    return max(res, seats.index(1), seats[::-1].index(1))  #index(1) => the first index where there is a person sitting\n"
   ]
  },
  {
   "cell_type": "code",
   "execution_count": null,
   "metadata": {},
   "outputs": [],
   "source": []
  },
  {
   "cell_type": "code",
   "execution_count": null,
   "metadata": {},
   "outputs": [],
   "source": [
    "851. Loud and Rich\n",
    "We'll say that richer[i] = [x, y] if person x definitely has more money than person y.  Note that richer may only be a subset of valid observations.\n",
    "Also, we'll say quiet[x] = q if person x has quietness q.\n",
    "Now, return answer, where answer[x] = y if y is the least quiet person (that is, the person y with the smallest value of quiet[y]), \n",
    "among all people who definitely have equal to or more money than person x.\n",
    "\n",
    "\n",
    "Input: richer = [[1,0],[2,1],[3,1],[3,7],[4,3],[5,3],[6,3]], quiet = [3,2,5,4,6,1,7,0]\n",
    "Output: [5,5,2,5,4,5,6,7]\n",
    "Explanation: \n",
    "answer[0] = 5.\n",
    "Person 5 has more money than 3, which has more money than 1, which has more money than 0.\n",
    "The only person who is quieter (has lower quiet[x]) is person 7, but\n",
    "it isn't clear if they have more money than person 0."
   ]
  },
  {
   "cell_type": "code",
   "execution_count": null,
   "metadata": {},
   "outputs": [],
   "source": [
    "def f851(richer, quiet):\n",
    "    dic = collections.defaultdict(list)\n",
    "    for i, j in richer: \n",
    "        m[j].append(i)\n",
    "    res = [-1]*len(quiet)\n",
    "    def dfs(i):\n",
    "        if res[i] >= 0: return res[i]  #or if i in res: \n",
    "        res[i] = i\n",
    "        for j in dic[i]:\n",
    "            if quiet[res[i]] > quiet[dfs[j]]: res[i] = res[j]\n",
    "        return res[i]\n",
    "    \n",
    "    for i in range(len(quiet)):\n",
    "        dfs(i)\n",
    "    return res\n",
    "        "
   ]
  },
  {
   "cell_type": "code",
   "execution_count": null,
   "metadata": {},
   "outputs": [],
   "source": []
  },
  {
   "cell_type": "code",
   "execution_count": null,
   "metadata": {},
   "outputs": [],
   "source": []
  },
  {
   "cell_type": "code",
   "execution_count": null,
   "metadata": {},
   "outputs": [],
   "source": [
    "859. Buddy Strings\n",
    "\n",
    "Given two strings A and B of lowercase letters, return true if and only if we can swap two letters in A \n",
    "so that the result equals B."
   ]
  },
  {
   "cell_type": "code",
   "execution_count": null,
   "metadata": {},
   "outputs": [],
   "source": [
    "def f859(A, B):\n",
    "    if len(A) != len(B) or set(A) != set(B):\n",
    "        return False\n",
    "    if A == B:\n",
    "        return len(A) - len(set(A)) >= 1\n",
    "    idx, cnt = [], 0\n",
    "    for i in range(len(A)):\n",
    "        if A[i] != B[i]:\n",
    "            cnt += 1\n",
    "            idx.append(i)\n",
    "            if cnt > 2:\n",
    "                return False\n",
    "    return A[idx[0]] == B[idx[1]] and A[idx[1]] == B[idx[0]]\n"
   ]
  },
  {
   "cell_type": "code",
   "execution_count": null,
   "metadata": {},
   "outputs": [],
   "source": []
  },
  {
   "cell_type": "code",
   "execution_count": null,
   "metadata": {},
   "outputs": [],
   "source": [
    "860. Lemonade Change\n"
   ]
  },
  {
   "cell_type": "code",
   "execution_count": null,
   "metadata": {},
   "outputs": [],
   "source": [
    "def f860(bills):\n",
    "    five = ten = 0\n",
    "    for i in bills:\n",
    "        if i == 5: five += 1\n",
    "        elif i == 10: five, ten = five - 1, ten + 1\n",
    "        elif i == 20 and five and ten: five, ten = five - 1, ten - 1\n",
    "        elif i == 20 and five >= 3: give -= 3\n",
    "        else:\n",
    "            return False\n",
    "    return True"
   ]
  },
  {
   "cell_type": "code",
   "execution_count": null,
   "metadata": {},
   "outputs": [],
   "source": []
  },
  {
   "cell_type": "code",
   "execution_count": null,
   "metadata": {},
   "outputs": [],
   "source": [
    "874. Walking Robot Simulation\n",
    "\n",
    "A robot on an infinite grid starts at point (0, 0) and faces north.  The robot can receive one of three possible types of commands:\n",
    "\n",
    "-2: turn left 90 degrees\n",
    "-1: turn right 90 degrees\n",
    "1 <= x <= 9: move forward x units\n",
    "    \n",
    "Return the square of the maximum Euclidean distance that the robot will be from the origin.\n",
    "    \n",
    "Example 1:\n",
    "\n",
    "Input: commands = [4,-1,3], obstacles = []\n",
    "Output: 25\n",
    "Explanation: robot will go to (3, 4)\n",
    "Example 2:\n",
    "\n",
    "Input: commands = [4,-1,4,-2,4], obstacles = [[2,4]]\n",
    "Output: 65\n",
    "Explanation: robot will be stuck at (1, 4) before turning left and going to (1, 8)\n",
    " "
   ]
  },
  {
   "cell_type": "code",
   "execution_count": null,
   "metadata": {},
   "outputs": [],
   "source": [
    "def f874(commands, obstacles):\n",
    "    dx, dy = 0, 1\n",
    "    res = 0\n",
    "    for c in commands:\n",
    "        if c == -2: dx, dy = -dy, dx\n",
    "        elif c == -1: dx, dy = dy, -dx\n",
    "        else:\n",
    "            for i in range(c):\n",
    "                if (x+dx, y+dy) in obstacles:\n",
    "                    break\n",
    "                else:\n",
    "                    x, y = x+dx, y+dy\n",
    "            res = max(res, x*x + y*y)\n",
    "    return res"
   ]
  },
  {
   "cell_type": "code",
   "execution_count": null,
   "metadata": {},
   "outputs": [],
   "source": []
  },
  {
   "cell_type": "code",
   "execution_count": null,
   "metadata": {},
   "outputs": [],
   "source": [
    "900."
   ]
  },
  {
   "cell_type": "code",
   "execution_count": null,
   "metadata": {},
   "outputs": [],
   "source": []
  },
  {
   "cell_type": "code",
   "execution_count": null,
   "metadata": {},
   "outputs": [],
   "source": [
    "914. X of a Kind in a Deck of Cards\n",
    "Input: [1,2,3,4,4,3,2,1]\n",
    "Output: true\n",
    "Explanation: Possible partition [1,1],[2,2],[3,3],[4,4]\n",
    "Input: [1,1,2,2,2,2]\n",
    "Output: true\n",
    "Explanation: Possible partition [1,1],[2,2],[2,2]"
   ]
  },
  {
   "cell_type": "code",
   "execution_count": null,
   "metadata": {},
   "outputs": [],
   "source": [
    "def f914(deck):\n",
    "    def gcd(a, b):\n",
    "        while b:\n",
    "            a, b = b, a%b\n",
    "        return a\n",
    "    cnt = collections.Counter(deck).values()\n",
    "    return reduce(gcd, cnt) >= 2\n",
    "\n",
    "def f914_2(deck):\n",
    "    if not deck: return False\n",
    "    cnt = collections.Counter(deck)\n",
    "    div = min(dic.values())\n",
    "    if div < 2: return False\n",
    "    for i in range(2, div+1):\n",
    "        if all(v%i==0 for v in dic.values()):\n",
    "            return True\n",
    "    return False"
   ]
  },
  {
   "cell_type": "code",
   "execution_count": null,
   "metadata": {},
   "outputs": [],
   "source": []
  },
  {
   "cell_type": "code",
   "execution_count": null,
   "metadata": {},
   "outputs": [],
   "source": [
    "925. Long Pressed Name\n",
    "Your friend is typing his name into a keyboard.  \n",
    "Sometimes, when typing a character c, the key might get long pressed\n",
    "\n",
    "Input: name = \"alex\", typed = \"aaleex\"\n",
    "Output: true\n",
    "Explanation: 'a' and 'e' in 'alex' were long pressed.\n",
    "\n",
    "Input: name = \"saeed\", typed = \"ssaaedd\"\n",
    "Output: false\n",
    "Explanation: 'e' must have been pressed twice, but it wasn't in the typed output.\n",
    "    \n",
    "Input: name = \"leelee\", typed = \"lleeelee\"\n",
    "Output: true"
   ]
  },
  {
   "cell_type": "code",
   "execution_count": null,
   "metadata": {},
   "outputs": [],
   "source": [
    "def f925(name, typed):\n",
    "    prev, i = None, 0\n",
    "    for c in typed:\n",
    "        if i < len(name) and c == name[i]:\n",
    "            prev, i = name[i], i + 1\n",
    "        elif c != prev:\n",
    "            return False\n",
    "    return i == len(name)"
   ]
  },
  {
   "cell_type": "code",
   "execution_count": null,
   "metadata": {},
   "outputs": [],
   "source": []
  },
  {
   "cell_type": "code",
   "execution_count": null,
   "metadata": {},
   "outputs": [],
   "source": [
    "941. Valid Mountain Array\n",
    "Input: [3,5,5]\n",
    "Output: false\n",
    "\n",
    "Input: [0,3,2,1]\n",
    "Output: true"
   ]
  },
  {
   "cell_type": "code",
   "execution_count": null,
   "metadata": {},
   "outputs": [],
   "source": [
    "def f941(A):\n",
    "    i, j, n = 0, len(A)-1, len(A)\n",
    "    while i+1 < n and A[i] < A[i+1]:\n",
    "        i += 1\n",
    "    while j > 0 and A[j-1] > A[j]:\n",
    "        j -= 1\n",
    "    return 0 < i == j < n-1"
   ]
  },
  {
   "cell_type": "code",
   "execution_count": null,
   "metadata": {},
   "outputs": [],
   "source": []
  },
  {
   "cell_type": "code",
   "execution_count": null,
   "metadata": {},
   "outputs": [],
   "source": [
    "949. Largest Time for Given Digits\n",
    "Example 1:\n",
    "\n",
    "Input: [1,2,3,4]\n",
    "Output: \"23:41\"\n",
    "Example 2:\n",
    "\n",
    "Input: [5,5,5,5]\n",
    "Output: \"\""
   ]
  },
  {
   "cell_type": "code",
   "execution_count": null,
   "metadata": {},
   "outputs": [],
   "source": [
    "def f949(A):\n",
    "    return max([\"%d%d:%d%d\" %t for t in itertools.permutations(A) if t[:2] < (2,4) and t[2]<6] or [\"\"])\n",
    "\n",
    "def f949_2(A):\n",
    "    maxh = maxm = 0\n",
    "    for t in itertoolspermutatios(A):\n",
    "        hh, mm = int(t[:2]), int(t[2:4])\n",
    "        if 0<= hh <=23 and 0<= mm <=59:\n",
    "            if hh > maxh or hh == maxh and mm > maxm:\n",
    "                maxh, maxm = hh, mm\n",
    "    return '%02d:%02d' %(maxh, maxm)"
   ]
  },
  {
   "cell_type": "code",
   "execution_count": null,
   "metadata": {},
   "outputs": [],
   "source": []
  },
  {
   "cell_type": "code",
   "execution_count": null,
   "metadata": {},
   "outputs": [],
   "source": [
    "970. Powerful Integers\n",
    "\n",
    "Given two positive integers x and y, an integer is powerful \n",
    "if it is equal to x^i + y^j for some integers i >= 0 and j >= 0.\n",
    "Input: x = 2, y = 3, bound = 10\n",
    "Output: [2,3,4,5,7,9,10]\n",
    "Explanation: \n",
    "2 = 2^0 + 3^0\n",
    "3 = 2^1 + 3^0\n",
    "4 = 2^0 + 3^1\n",
    "5 = 2^1 + 3^1\n",
    "7 = 2^2 + 3^1\n",
    "9 = 2^3 + 3^0\n",
    "10 = 2^0 + 3^2"
   ]
  },
  {
   "cell_type": "code",
   "execution_count": null,
   "metadata": {},
   "outputs": [],
   "source": [
    "def f970(x, y, bound):\n",
    "    res = set()\n",
    "    for i in range(20):\n",
    "        for j in range(20):\n",
    "            val = x**i + y**j\n",
    "            if val > bound:\n",
    "                break\n",
    "            res.add(val)\n",
    "    return list(res)"
   ]
  },
  {
   "cell_type": "code",
   "execution_count": null,
   "metadata": {},
   "outputs": [],
   "source": []
  },
  {
   "cell_type": "code",
   "execution_count": null,
   "metadata": {},
   "outputs": [],
   "source": [
    "989. Add to Array-Form of Integer\n",
    "Input: A = [1,2,0,0], K = 34\n",
    "Output: [1,2,3,4]\n",
    "Explanation: 1200 + 34 = 1234"
   ]
  },
  {
   "cell_type": "code",
   "execution_count": null,
   "metadata": {},
   "outputs": [],
   "source": [
    "def f989(A, K):\n",
    "    s = ''\n",
    "    for a in A:\n",
    "        s += str(a)\n",
    "    res = int(s) + K\n",
    "    return list(map(lambda i: int(i), list(str(res))))\n",
    "        \n",
    "def f989_2(A, K):\n",
    "    b = str(int(''.join(str(a) for a in A)) + K)\n",
    "    return list(b)\n",
    "\n",
    "def f989_3(A, K):\n",
    "    for i in range(len(A))[::-1]:\n",
    "        K, A[i] = divmod(a[i]+K, 10) # K is carry, A is the rem\n",
    "    return [int(i) for i in str(K)] + A if K else A"
   ]
  },
  {
   "cell_type": "code",
   "execution_count": null,
   "metadata": {},
   "outputs": [],
   "source": []
  },
  {
   "cell_type": "code",
   "execution_count": null,
   "metadata": {},
   "outputs": [],
   "source": [
    "993. Cousins in Binary Tree\n",
    "\n",
    "In a binary tree, the root node is at depth 0, and children of each depth k node are at depth k+1.\n",
    "\n",
    "Two nodes of a binary tree are cousins if they have the same depth, but have different parents.\n",
    "Return true if and only if the nodes corresponding to the values x and y are cousins.\n"
   ]
  },
  {
   "cell_type": "code",
   "execution_count": null,
   "metadata": {},
   "outputs": [],
   "source": [
    "def f993(root, x, y):\n",
    "    def dfs(node, parent, depth, val):\n",
    "        if node:\n",
    "            if node.val == val:\n",
    "                return depth, parent\n",
    "            return dfs(node.left, node, depth+1, val) or dfs(node.right, node, depth+1, val)\n",
    "    \n",
    "    dx, px, dy, py = dfs(root, None, 0, x) + defs(root, None, 0, y)\n",
    "    return dx == dy and px != py\n",
    "\n",
    "def f993_2(root, x, y):\n",
    "    nodes = collections.defaultdict(list)\n",
    "    q = collections.deque[(root, 0 ,0)]\n",
    "    while q:\n",
    "        node, level, parent = q.popleft()\n",
    "        nodes[node.val] = [level, parent]\n",
    "        \n",
    "        if node.left:\n",
    "            q.append((node.left, level+1, node.val))\n",
    "        if node.right:\n",
    "            q.append((node.right, level+1, node.val))\n",
    "            \n",
    "    if nodes[x][0] == nodes[y][0] and nodes[x][1] != nodes[y][1]:\n",
    "        return True\n",
    "    return False\n",
    "    "
   ]
  },
  {
   "cell_type": "code",
   "execution_count": null,
   "metadata": {},
   "outputs": [],
   "source": []
  },
  {
   "cell_type": "code",
   "execution_count": null,
   "metadata": {},
   "outputs": [],
   "source": [
    "994. Rotting Oranges\n",
    "the value 0 representing an empty cell;\n",
    "the value 1 representing a fresh orange;\n",
    "the value 2 representing a rotten orange.\n",
    "Every minute, any fresh orange that is adjacent (4-directionally) to a rotten orange becomes rotten.\n",
    "Return the minimum number of minutes that must elapse until no cell has a fresh orange.  If this is impossible, return -1 instead.\n"
   ]
  },
  {
   "cell_type": "code",
   "execution_count": null,
   "metadata": {},
   "outputs": [],
   "source": [
    "def f994(grid):\n",
    "    m, n = len(grid), len(grid[0])\n",
    "    q, cnt = collections.deque(), 0\n",
    "    for i in range(m):\n",
    "        for j in range(n):\n",
    "            if grid[i][j] == 1: cnt += 1\n",
    "            elif grid[i][j] == 2: q.append((i, j))\n",
    "    res = 0\n",
    "    while q:\n",
    "        for _ in range(len(q)):\n",
    "            i, j = q.popleft()\n",
    "            for x, y in [(i+1,j), (i-1,j), (i,j+1), (i,j-1)]:\n",
    "                if 0 <= x <= m and 0 <= y <= n and grid[x][y] == 1:\n",
    "                    grid[x][y] == 2\n",
    "                    cnt -= 1\n",
    "                    q.append((x, y))\n",
    "        res += 1\n",
    "    return max(0, res-1) if cnt == 0 else -1"
   ]
  },
  {
   "cell_type": "code",
   "execution_count": null,
   "metadata": {},
   "outputs": [],
   "source": []
  },
  {
   "cell_type": "code",
   "execution_count": null,
   "metadata": {},
   "outputs": [],
   "source": [
    "997. Find the Town Judge\n",
    "Input: N = 3, trust = [[1,3],[2,3],[3,1]]\n",
    "Output: -1"
   ]
  },
  {
   "cell_type": "code",
   "execution_count": null,
   "metadata": {},
   "outputs": [],
   "source": [
    "def f997(N, trust):\n",
    "    cnt = [0]*(N+1)\n",
    "    for i, j in trust:\n",
    "        cnt[i] -= 1\n",
    "        cnt[j] += 1\n",
    "    return [i for i, v in enumerate(cnt) if v == N-1] or -1\n"
   ]
  },
  {
   "cell_type": "code",
   "execution_count": null,
   "metadata": {},
   "outputs": [],
   "source": []
  },
  {
   "cell_type": "code",
   "execution_count": null,
   "metadata": {},
   "outputs": [],
   "source": [
    "1000."
   ]
  },
  {
   "cell_type": "code",
   "execution_count": null,
   "metadata": {},
   "outputs": [],
   "source": []
  },
  {
   "cell_type": "code",
   "execution_count": null,
   "metadata": {},
   "outputs": [],
   "source": [
    "1005. Maximize Sum Of Array After K Negations\n",
    "Input: A = [4,2,3], K = 1\n",
    "Output: 5\n",
    "Explanation: Choose indices (1,) and A becomes [4,-2,3].\n",
    "Input: A = [3,-1,0,2], K = 3\n",
    "Output: 6\n",
    "Explanation: Choose indices (1, 2, 2) and A becomes [3,1,0,2]."
   ]
  },
  {
   "cell_type": "code",
   "execution_count": null,
   "metadata": {},
   "outputs": [],
   "source": [
    "def f1005(A, K):\n",
    "    A.sort()\n",
    "    i = 0\n",
    "    while i < len(A) and i < K and A[i] < 0:\n",
    "        A[i] = -A[i]\n",
    "        i += 1\n",
    "    return sum(A)- (K - i)%2 * min(A) * 2\n",
    "\n",
    "def f1005_2(A, K):\n",
    "    heapq.heapify(A)\n",
    "    for _ in range(K):\n",
    "        heapq.heappush(A, -headq.heappop(A))\n",
    "    return sum(A)"
   ]
  },
  {
   "cell_type": "code",
   "execution_count": null,
   "metadata": {},
   "outputs": [],
   "source": []
  },
  {
   "cell_type": "code",
   "execution_count": null,
   "metadata": {},
   "outputs": [],
   "source": [
    "1010. Pairs of Songs With Total Durations Divisible by 60\n",
    "Input: [30,20,150,100,40]\n",
    "Output: 3\n",
    "Explanation: Three pairs have a total duration divisible by 60:\n",
    "(time[0] = 30, time[2] = 150): total duration 180\n",
    "(time[1] = 20, time[3] = 100): total duration 120\n",
    "(time[1] = 20, time[4] = 40): total duration 60"
   ]
  },
  {
   "cell_type": "code",
   "execution_count": null,
   "metadata": {},
   "outputs": [],
   "source": [
    "def f1010(time):\n",
    "    dic = collections.Counter()\n",
    "    res = 0\n",
    "    for t in time:\n",
    "        res += dic[-t % 60]\n",
    "        dic[t % 60] += 1\n",
    "    return res\n",
    "\n",
    "def f1010_2(time):\n",
    "    tm = [t%60 for t in time]\n",
    "    dic = defaultdict(int)\n",
    "    res = 0\n",
    "    for t in tm:\n",
    "        if (60-t)%60 in dic:\n",
    "            res += dic[(60-t)%60]\n",
    "        dic[t] += 1\n",
    "    return res"
   ]
  },
  {
   "cell_type": "code",
   "execution_count": null,
   "metadata": {},
   "outputs": [],
   "source": []
  },
  {
   "cell_type": "code",
   "execution_count": null,
   "metadata": {},
   "outputs": [],
   "source": [
    "1015. Smallest Integer Divisible by K\n",
    "\n",
    "Given a positive integer K, you need find the smallest positive integer N \n",
    "such that N is divisible by K, \n",
    "and N only contains the digit 1.\n",
    "Return the length of N.  If there is no such N, return -1.\n",
    "\n",
    "Note:\n",
    "1 <= K <= 10^5"
   ]
  },
  {
   "cell_type": "code",
   "execution_count": null,
   "metadata": {},
   "outputs": [],
   "source": [
    "def f1015(K):\n",
    "    length, val = 0, 0\n",
    "    for _ in range(10**5):\n",
    "        val = (10*val + 1)%K\n",
    "        length += 1\n",
    "        if val == 0:\n",
    "            return length\n",
    "        "
   ]
  },
  {
   "cell_type": "code",
   "execution_count": null,
   "metadata": {},
   "outputs": [],
   "source": []
  },
  {
   "cell_type": "code",
   "execution_count": null,
   "metadata": {},
   "outputs": [],
   "source": [
    "1018. Binary Prefix Divisible By 5\n",
    "Input: [0,1,1]\n",
    "Output: [true,false,false]\n",
    "Explanation: \n",
    "The input numbers in binary are 0, 01, 011; which are 0, 1, and 3 in base-10.  Only the first number is divisible by 5, so answer[0] is true.\n"
   ]
  },
  {
   "cell_type": "code",
   "execution_count": null,
   "metadata": {},
   "outputs": [],
   "source": [
    "def f1018(A):\n",
    "    res = []\n",
    "    for i in range(len(A)):\n",
    "        if i > 0:\n",
    "            A[i] += 2 * A[i-1]\n",
    "            res.append(A[i]%5 == 0)\n",
    "    return res\n",
    "\n",
    "def f1018_2(A):\n",
    "    tmp = 0\n",
    "    for i in range(len(A)):\n",
    "        tmp = (tmp << 1) + A[i]\n",
    "        A[i] = tmp % 5 == 0\n",
    "    return A\n",
    "            "
   ]
  },
  {
   "cell_type": "code",
   "execution_count": null,
   "metadata": {},
   "outputs": [],
   "source": []
  },
  {
   "cell_type": "code",
   "execution_count": null,
   "metadata": {},
   "outputs": [],
   "source": [
    "1029. Two City Scheduling\n",
    "\n",
    "There are 2N people a company is planning to interview. The cost of flying the i-th person to city A is costs[i][0], and the cost of flying the i-th person to city B is costs[i][1].\n",
    "\n",
    "Return the minimum cost to fly every person to a city such that exactly N people arrive in each city.\n",
    "\n",
    " \n",
    "\n",
    "Example 1:\n",
    "\n",
    "Input: [[10,20],[30,200],[400,50],[30,20]]\n",
    "Output: 110\n",
    "Explanation: \n",
    "The first person goes to city A for a cost of 10.\n",
    "The second person goes to city A for a cost of 30.\n",
    "The third person goes to city B for a cost of 50.\n",
    "The fourth person goes to city B for a cost of 20.\n",
    "\n",
    "The total minimum cost is 10 + 30 + 50 + 20 = 110 to have half the people interviewing in each city.\n",
    " \n",
    "\n",
    "Note:\n",
    "\n",
    "1 <= costs.length <= 100\n",
    "It is guaranteed that costs.length is even.\n",
    "1 <= costs[i][0], costs[i][1] <= 1000"
   ]
  },
  {
   "cell_type": "code",
   "execution_count": null,
   "metadata": {},
   "outputs": [],
   "source": [
    "def f1029(costs):\n",
    "    n = len(costs)//2\n",
    "    costs.sort(key=lambda x: x[0]-x[1])\n",
    "    return sum(i[0] for i in costs[:n]) + sum(j[1] for j in costs[n:])"
   ]
  },
  {
   "cell_type": "code",
   "execution_count": null,
   "metadata": {},
   "outputs": [],
   "source": []
  },
  {
   "cell_type": "code",
   "execution_count": null,
   "metadata": {},
   "outputs": [],
   "source": []
  },
  {
   "cell_type": "code",
   "execution_count": null,
   "metadata": {},
   "outputs": [],
   "source": [
    "1033. Moving Stones Until Consecutive\n",
    "Three stones are on a number line at positions a, b, and c.\n",
    "Input: a = 3, b = 5, c = 1\n",
    "Output: [1,2]\n",
    "Explanation: Move the stone from 1 to 4; or move the stone from 1 to 2 to 4."
   ]
  },
  {
   "cell_type": "code",
   "execution_count": null,
   "metadata": {},
   "outputs": [],
   "source": [
    "def f1033(a, b, c):\n",
    "    a, b, c = sorted([a,b,c])\n",
    "    if a ==  b-1 and b == c-1:\n",
    "        minv = 0\n",
    "    elif b - a <=2  or c - b <=2:\n",
    "        minv = 1\n",
    "    else:\n",
    "        minv = 2\n",
    "    maxv = c - b - 1 + (b - a - 1) = c - a - 2\n",
    "    return (minv, maxv)"
   ]
  },
  {
   "cell_type": "code",
   "execution_count": null,
   "metadata": {},
   "outputs": [],
   "source": []
  },
  {
   "cell_type": "code",
   "execution_count": null,
   "metadata": {},
   "outputs": [],
   "source": [
    "1037. Valid Boomerang\n",
    "A boomerang is a set of 3 points that are all distinct and not in a straight line."
   ]
  },
  {
   "cell_type": "code",
   "execution_count": null,
   "metadata": {},
   "outputs": [],
   "source": [
    "# (A, B, C) == (p[0], p[1], p[2])\n",
    "def f1037(p):\n",
    "    return (p[2][1]-p[1][1])*(p[1][0]-p[0][0]) != (p[1][1]-p[0][1])*(p[2][0]-p[1][0])"
   ]
  },
  {
   "cell_type": "code",
   "execution_count": null,
   "metadata": {},
   "outputs": [],
   "source": []
  },
  {
   "cell_type": "code",
   "execution_count": null,
   "metadata": {},
   "outputs": [],
   "source": [
    "1041. Robot Bounded In Circle\n",
    "\"G\": go straight 1 unit;\n",
    "\"L\": turn 90 degrees to the left;\n",
    "\"R\": turn 90 degress to the right.\n",
    "The robot performs the instructions given in order, and repeats them forever.\n",
    "Input: \"GGLLGG\"\n",
    "Output: true\n",
    "Input: \"GL\"\n",
    "\n",
    "Output: true\n",
    "Explanation: \n",
    "The robot moves from (0, 0) -> (0, 1) -> (-1, 1) -> (-1, 0) -> (0, 0) -> ..."
   ]
  },
  {
   "cell_type": "code",
   "execution_count": null,
   "metadata": {},
   "outputs": [],
   "source": [
    "def f1041(instruct):\n",
    "    x, y, dx, dy = 0, 0, 0, 1\n",
    "    for i in instruct:\n",
    "        if i == 'R': dx, dy = dy, -dx\n",
    "        if i == 'L': dx, dy = -dy, dx\n",
    "        if i == 'G': x, y = x+dx, y+dy\n",
    "    return (x, y) == (0, 0) or (dx, dy) != (0, 1)\n",
    "\n",
    "#Refer to 874"
   ]
  },
  {
   "cell_type": "code",
   "execution_count": null,
   "metadata": {},
   "outputs": [],
   "source": []
  },
  {
   "cell_type": "code",
   "execution_count": null,
   "metadata": {},
   "outputs": [],
   "source": [
    "1042. Flower Planting With No Adjacent\n",
    "Example 1:\n",
    "\n",
    "Input: N = 3, paths = [[1,2],[2,3],[3,1]]\n",
    "Output: [1,2,3]\n",
    "Example 2:\n",
    "\n",
    "Input: N = 4, paths = [[1,2],[3,4]]\n",
    "Output: [1,2,1,2]\n",
    "Example 3:\n",
    "\n",
    "Input: N = 4, paths = [[1,2],[2,3],[3,4],[4,1],[1,3],[2,4]]\n",
    "Output: [1,2,3,4]\n",
    " "
   ]
  },
  {
   "cell_type": "code",
   "execution_count": null,
   "metadata": {},
   "outputs": [],
   "source": [
    "def f1042(N, paths):\n",
    "    res, dic = [0]*(N+1), collections.defaultdict(list)\n",
    "    for x, y in sorted(paths):\n",
    "        if x in dic: dic[x].append(y)\n",
    "        if y in dic: dic[y].append(x)\n",
    "    \n",
    "    for i in range(1, N+1):\n",
    "        res[i] = ({1,2,3,4} - {res[j] for j in dic[i]}).pop() #or res[i][0] instead of res[i].pop()\n",
    "    \n",
    "    return res[1:]  #remove the 0 index\n",
    "    "
   ]
  },
  {
   "cell_type": "code",
   "execution_count": null,
   "metadata": {},
   "outputs": [],
   "source": []
  },
  {
   "cell_type": "code",
   "execution_count": null,
   "metadata": {},
   "outputs": [],
   "source": [
    "1056.Confusing Number\n",
    "Given a number N, return true if and only if it is a confusing number, which satisfies the following condition:\n",
    "\n",
    "We can rotate digits by 180 degrees to form new digits. When 0, 1, 6, 8, 9 are rotated 180 degrees, they become 0, 1, 9, 8, 6 respectively. When 2, 3, 4, 5 and 7 are rotated 180 degrees, they become invalid. \n",
    "A confusing number is a number that when rotated 180 degrees becomes a different number with each digit valid.\n",
    "Input: 89\n",
    "Output: true\n",
    "Explanation: \n",
    "We get 68 after rotating 89, 86 is a valid number and 86!=89.\n",
    "\n",
    "Input: 11\n",
    "Output: false\n",
    "Explanation: \n",
    "We get 11 after rotating 11, 11 is a valid number but the value remains the same, thus 11 is not a confusing number.\n"
   ]
  },
  {
   "cell_type": "code",
   "execution_count": null,
   "metadata": {},
   "outputs": [],
   "source": [
    "def f1056(n):\n",
    "    n_org = n\n",
    "    dic = {0:0, 1:1, 6:9, 8:8, 9:6}\n",
    "    invalid = [2,3,4,5,7]\n",
    "    tmp, res = 0, []\n",
    "    while n:\n",
    "        n, tmp = divmod(n, 10)\n",
    "        if tmp in invalid:\n",
    "            return False\n",
    "        res.append(dic[tmp])\n",
    "    res = res[::-1]\n",
    "    r = 0\n",
    "    for i, v in enumerate(res):\n",
    "        r += 10**i*v\n",
    "    return r != n_org\n",
    "\n",
    "def f1056_2(n):\n",
    "    n_org = n\n",
    "    dic = {0:0, 1:1, 6:9, 8:8, 9:6}\n",
    "    invalid = [2,3,4,5,7]\n",
    "    tmp, res = 0, 0\n",
    "    while n:\n",
    "        n, tmp = divmod(n, 10)\n",
    "        if tmp in invalid:\n",
    "            return False\n",
    "        res = res*10 + dic[tmp]\n",
    "    return res != n_org"
   ]
  },
  {
   "cell_type": "code",
   "execution_count": null,
   "metadata": {},
   "outputs": [],
   "source": []
  },
  {
   "cell_type": "code",
   "execution_count": null,
   "metadata": {},
   "outputs": [],
   "source": [
    "1071. Greatest Common Divisor of Strings\n",
    "\n",
    "For strings S and T, we say \"T divides S\" if and only if S = T + ... + T  (T concatenated with itself 1 or more times)\n",
    "\n",
    "Return the largest string X such that X divides str1 and X divides str2.\n",
    "\n",
    " \n",
    "\n",
    "Example 1:\n",
    "\n",
    "Input: str1 = \"ABCABC\", str2 = \"ABC\"\n",
    "Output: \"ABC\"\n",
    "Example 2:\n",
    "\n",
    "Input: str1 = \"ABABAB\", str2 = \"ABAB\"\n",
    "Output: \"AB\"\n",
    "Example 3:\n",
    "\n",
    "Input: str1 = \"LEET\", str2 = \"CODE\"\n",
    "Output: \"\"\n",
    " \n",
    "\n",
    "Note:\n",
    "\n",
    "1 <= str1.length <= 1000\n",
    "1 <= str2.length <= 1000\n",
    "str1[i] and str2[i] are English uppercase letters."
   ]
  },
  {
   "cell_type": "code",
   "execution_count": null,
   "metadata": {},
   "outputs": [],
   "source": [
    "def f1071(str1, str2):\n",
    "    res = ''.join([a for a, b in zip(str1, str2) if a==b])\n",
    "    for i in range(1, len(res)+1)[::-1]:\n",
    "        if not ''.join(str1.split(res[:i])) and not ''.join(str2.split(res[:i])):\n",
    "            return res[:i]\n",
    "    return ''\n",
    "\n",
    "def f1071_2(str1, str2):\n",
    "    L1, L2 = len(str1), len(str2)\n",
    "    if L1 > L2:\n",
    "        str1, str2 = str2, str1\n",
    "    for i in range(L1, 0, -1):\n",
    "        if L1%i == 0 and L2%i == 0:\n",
    "            if str1[:i]*(L1//i) == str1 and str2[:i]*(L2//i) == str2:\n",
    "                return str1[:i]\n",
    "    return \"\""
   ]
  },
  {
   "cell_type": "code",
   "execution_count": null,
   "metadata": {},
   "outputs": [],
   "source": []
  },
  {
   "cell_type": "code",
   "execution_count": null,
   "metadata": {},
   "outputs": [],
   "source": [
    "1076.Project Employees II\n",
    "#SQL\n",
    "with a as (select project_id, count(employee_id) as e_numb from Project group by project_id)\n",
    "select distinct project_id from a where e_numb in (select max(e_numb) from a)"
   ]
  },
  {
   "cell_type": "code",
   "execution_count": null,
   "metadata": {},
   "outputs": [],
   "source": []
  },
  {
   "cell_type": "code",
   "execution_count": null,
   "metadata": {},
   "outputs": [],
   "source": [
    "1084.Sales Analysis III\n",
    "#SQL\n",
    "select product_id from Sales where product_id not in \n",
    "(select product_id from Sales where sale_date<'2019-01-01' or sale_date>'2019-03-31');\n"
   ]
  },
  {
   "cell_type": "code",
   "execution_count": null,
   "metadata": {},
   "outputs": [],
   "source": []
  },
  {
   "cell_type": "code",
   "execution_count": null,
   "metadata": {},
   "outputs": [],
   "source": []
  },
  {
   "cell_type": "code",
   "execution_count": null,
   "metadata": {},
   "outputs": [],
   "source": []
  },
  {
   "cell_type": "code",
   "execution_count": null,
   "metadata": {},
   "outputs": [],
   "source": [
    "1128. Number of Equivalent Domino Pairs\n",
    "\n",
    "Given a list of dominoes, dominoes[i] = [a, b] is equivalent to dominoes[j] = [c, d] \n",
    "Input: dominoes = [[1,2],[2,1],[3,4],[5,6]]\n",
    "Output: 1"
   ]
  },
  {
   "cell_type": "code",
   "execution_count": null,
   "metadata": {},
   "outputs": [],
   "source": [
    "def f1128(A):\n",
    "    return sum(v*(v-1)//2 for v in collections.Counter(tuple(sorted(x)) for x in A).values() if v > 1)"
   ]
  },
  {
   "cell_type": "code",
   "execution_count": null,
   "metadata": {},
   "outputs": [],
   "source": []
  },
  {
   "cell_type": "code",
   "execution_count": null,
   "metadata": {},
   "outputs": [],
   "source": [
    "178. Rank Scores\n",
    "\n",
    "Write a SQL query to rank scores. If there is a tie between two scores, both should have the same ranking. Note that after a tie, the next ranking number should be the next consecutive integer value. In other words, there should be no “holes” between ranks.\n",
    "\n",
    "+----+-------+\n",
    "| Id | Score |\n",
    "+----+-------+\n",
    "| 1  | 3.50  |\n",
    "| 2  | 3.65  |\n",
    "| 3  | 4.00  |\n",
    "| 4  | 3.85  |\n",
    "| 5  | 4.00  |\n",
    "| 6  | 3.65  |\n",
    "+----+-------+\n",
    "\n",
    "For example, given the above Scores table, your query should generate the following report (order by highest score):\n",
    "\n",
    "+-------+------+\n",
    "| Score | Rank |\n",
    "+-------+------+\n",
    "| 4.00  | 1    |\n",
    "| 4.00  | 1    |\n",
    "| 3.85  | 2    |\n",
    "| 3.65  | 3    |\n",
    "| 3.65  | 3    |\n",
    "| 3.50  | 4    |\n",
    "+-------+------+\n",
    "\n",
    "Solution\n",
    "\n",
    "SELECT s.Score, COUNT(t.Score) as Rank FROM\n",
    "(SELECT DISTINCT Score from Scores) AS t, Scores as s\n",
    "WHERE s.Score <= t.Score\n",
    "GROUP BY s.Id, s.Score\n",
    "ORDER BY s.Score DESC;\n"
   ]
  },
  {
   "cell_type": "code",
   "execution_count": null,
   "metadata": {},
   "outputs": [],
   "source": [
    "1132.\n",
    "Write an SQL query to find the average for daily percentage of posts that got removed after being reported as spam, rounded to 2 decimal places.Actions table:\n",
    "+---------+---------+-------------+--------+--------+\n",
    "| user_id | post_id | action_date | action | extra  |\n",
    "+---------+---------+-------------+--------+--------+\n",
    "| 1       | 1       | 2019-07-01  | view   | null   |\n",
    "| 1       | 1       | 2019-07-01  | like   | null   |\n",
    "| 1       | 1       | 2019-07-01  | share  | null   |\n",
    "| 2       | 2       | 2019-07-04  | view   | null   |\n",
    "| 2       | 2       | 2019-07-04  | report | spam   |\n",
    "| 3       | 4       | 2019-07-04  | view   | null   |\n",
    "| 3       | 4       | 2019-07-04  | report | spam   |\n",
    "| 4       | 3       | 2019-07-02  | view   | null   |\n",
    "| 4       | 3       | 2019-07-02  | report | spam   |\n",
    "| 5       | 2       | 2019-07-03  | view   | null   |\n",
    "| 5       | 2       | 2019-07-03  | report | racism |\n",
    "| 5       | 5       | 2019-07-03  | view   | null   |\n",
    "| 5       | 5       | 2019-07-03  | report | racism |\n",
    "+---------+---------+-------------+--------+--------+\n",
    "\n",
    "Removals table:\n",
    "+---------+-------------+\n",
    "| post_id | remove_date |\n",
    "+---------+-------------+\n",
    "| 2       | 2019-07-20  |\n",
    "| 3       | 2019-07-18  |\n",
    "+---------+-------------+\n",
    "\n",
    "Result table:\n",
    "+-----------------------+\n",
    "| average_daily_percent |\n",
    "+-----------------------+\n",
    "| 75.00                 |\n",
    "+-----------------------+"
   ]
  },
  {
   "cell_type": "code",
   "execution_count": null,
   "metadata": {},
   "outputs": [],
   "source": [
    "SELECT round(SUM(delCount / spamCount * 100)  / COUNT(DISTINCT action_date), 2) AS average_daily_percent\n",
    "FROM (\n",
    "-- count行数\n",
    "    SELECT action_date, COUNT(distinct a.post_id) AS spamCount, count(distinct b.post_id) AS delCount\n",
    "    FROM Actions a\n",
    "        LEFT JOIN Removals b ON a.post_id = b.post_id\n",
    "    where a.extra = 'spam'\n",
    "    GROUP BY a.action_date\n",
    "    ) a"
   ]
  },
  {
   "cell_type": "code",
   "execution_count": null,
   "metadata": {},
   "outputs": [],
   "source": [
    "1142 Write an SQL query to find the average number of sessions per user for a period of 30 days ending 2019-07-27 inclusively, rounded to 2 decimal places. The sessions we want to count for a user are those with at least one activity in that time period.Activity table:\n",
    "+---------+------------+---------------+---------------+\n",
    "| user_id | session_id | activity_date | activity_type |\n",
    "+---------+------------+---------------+---------------+\n",
    "| 1       | 1          | 2019-07-20    | open_session  |\n",
    "| 1       | 1          | 2019-07-20    | scroll_down   |\n",
    "| 1       | 1          | 2019-07-20    | end_session   |\n",
    "| 2       | 4          | 2019-07-20    | open_session  |\n",
    "| 2       | 4          | 2019-07-21    | send_message  |\n",
    "| 2       | 4          | 2019-07-21    | end_session   |\n",
    "| 3       | 2          | 2019-07-21    | open_session  |\n",
    "| 3       | 2          | 2019-07-21    | send_message  |\n",
    "| 3       | 2          | 2019-07-21    | end_session   |\n",
    "| 3       | 5          | 2019-07-21    | open_session  |\n",
    "| 3       | 5          | 2019-07-21    | scroll_down   |\n",
    "| 3       | 5          | 2019-07-21    | end_session   |\n",
    "| 4       | 3          | 2019-06-25    | open_session  |\n",
    "| 4       | 3          | 2019-06-25    | end_session   |\n",
    "+---------+------------+---------------+---------------+\n",
    "\n",
    "Result table:\n",
    "+---------------------------+ \n",
    "| average_sessions_per_user |\n",
    "+---------------------------+ \n",
    "| 1.33                      |\n",
    "+---------------------------+"
   ]
  },
  {
   "cell_type": "code",
   "execution_count": null,
   "metadata": {},
   "outputs": [],
   "source": [
    "select nullif(round(count(distinct session_id)/count(distinct user_id),2),0) \n",
    "as average_sessions_per_user\n",
    "from Activity\n",
    "where activity_date between '2019-06-28' and '2019-07-27'"
   ]
  },
  {
   "cell_type": "code",
   "execution_count": null,
   "metadata": {},
   "outputs": [],
   "source": []
  },
  {
   "cell_type": "code",
   "execution_count": null,
   "metadata": {},
   "outputs": [],
   "source": [
    "WITH cte\n",
    "AS\n",
    "(\n",
    "    SELECT *,COUNT(1) OVER(PARTITION BY cnt) pt  FROM\n",
    "    (\n",
    "        SELECT tt.*\n",
    "           ,(SELECT COUNT(id) FROM t WHERE data <= 10 AND ID < tt.ID) AS cnt\n",
    "        FROM  t tt\n",
    "        WHERE data > 10\n",
    "    ) t1\n",
    ")\n",
    "\n",
    "SELECT id, [when], data FROM cte WHERE pt >= 3"
   ]
  },
  {
   "cell_type": "code",
   "execution_count": null,
   "metadata": {},
   "outputs": [],
   "source": [
    "WITH partitioned AS (\n",
    "  SELECT *, id - ROW_NUMBER() OVER (ORDER BY id) AS grp\n",
    "  FROM t\n",
    "  WHERE data > 10\n",
    "),\n",
    "counted AS (\n",
    "  SELECT *, COUNT(*) OVER (PARTITION BY grp) AS cnt\n",
    "  FROM partitioned\n",
    ")\n",
    "\n",
    "SELECT id, [when], data\n",
    "FROM counted\n",
    "WHERE cnt >= 3"
   ]
  },
  {
   "cell_type": "code",
   "execution_count": null,
   "metadata": {},
   "outputs": [],
   "source": []
  },
  {
   "cell_type": "code",
   "execution_count": null,
   "metadata": {},
   "outputs": [],
   "source": [
    "SELECT actor_id, director_id\n",
    "FROM ActorDirector\n",
    "GROUP BY actor_id, director_id\n",
    "HAVING COUNT(*) >= 3"
   ]
  },
  {
   "cell_type": "code",
   "execution_count": null,
   "metadata": {},
   "outputs": [],
   "source": []
  }
 ],
 "metadata": {
  "kernelspec": {
   "display_name": "Python 3",
   "language": "python",
   "name": "python3"
  },
  "language_info": {
   "codemirror_mode": {
    "name": "ipython",
    "version": 3
   },
   "file_extension": ".py",
   "mimetype": "text/x-python",
   "name": "python",
   "nbconvert_exporter": "python",
   "pygments_lexer": "ipython3",
   "version": "3.7.6"
  }
 },
 "nbformat": 4,
 "nbformat_minor": 4
}
