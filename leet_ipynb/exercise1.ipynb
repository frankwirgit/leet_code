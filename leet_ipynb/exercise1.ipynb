{
 "cells": [
  {
   "cell_type": "code",
   "execution_count": null,
   "metadata": {},
   "outputs": [],
   "source": [
    "#Leetcode exercise I\n",
    "#problem 1-30\n",
    "\n",
    "#Longest Palindromic Substring\n",
    "#Add Two Numbers\n",
    "#Palindrome Number\n",
    "#Reverse Integer\n",
    "#ZigZag Conversion\n",
    "#Regular Expression Matching\n",
    "#Container With Most Water\n",
    "#Integer to Roman\n",
    "#Roman to Integer\n",
    "#String to integer\n",
    "#Longest Substring Without Repeating Characters\n",
    "#Median of Two Sorted Arrays\n",
    "#2Sum\n",
    "#3Sum\n",
    "#3Sum closest\n",
    "#4Sum\n",
    "#Letter Combinations of a Phone Number\n",
    "#Longest common prefix string\n",
    "#Remove Nth Node From End of List\n",
    "#Valid Parentheses\n",
    "#Merge Two Sorted Lists\n",
    "#Generate Parentheses\n",
    "#Merge k Sorted Lists\n",
    "#Swap Nodes in Pairs\n",
    "#Reverse node in k groups\n",
    "#Remove Duplicates from Sorted Array\n",
    "#Remove Element\n",
    "#Implement strStr()\n",
    "#Divide Two Integers\n",
    "#Substring with Concatenation of All Words\n",
    "\n",
    "\n",
    "#=========\n",
    "#write linked-list helper functions\n",
    "#write single linked list helper functions\n"
   ]
  },
  {
   "cell_type": "code",
   "execution_count": 221,
   "metadata": {},
   "outputs": [
    {
     "name": "stdout",
     "output_type": "stream",
     "text": [
      "current linked digit value= 7\n",
      "current linked digit value= 0\n",
      "current linked digit value= 8\n"
     ]
    }
   ],
   "source": [
    "#2. Add Two Numbers in linked list\n",
    "def AddTwoNumbers(n1,n2):\n",
    "    head = tmp = ListNode(0)\n",
    "    carry = 0\n",
    "    while n1 or n2 or carry:\n",
    "        tmp1 = n1.val if n1 else 0\n",
    "        tmp2 = n2.val if n2 else 0\n",
    "        sumtmp = tmp1 + tmp2 + carry\n",
    "        tmp.next = ListNode(int(sumtmp % 10))\n",
    "        tmp = tmp.next\n",
    "        carry = sumtmp // 10\n",
    "        if n1:\n",
    "            n1 = n1.next\n",
    "        if n2:\n",
    "            n2 = n2.next\n",
    "    return head.next\n",
    "\n",
    "node1 = ListNode(2) \n",
    "node2 = ListNode(4) \n",
    "node3 = ListNode(3) \n",
    "node1.next=node2\n",
    "node2.next=node3\n",
    "\n",
    "node11 = ListNode(5) \n",
    "node12 = ListNode(6) \n",
    "node13 = ListNode(4) \n",
    "node11.next=node12\n",
    "node12.next=node13\n",
    "\n",
    "n = AddTwoNumbers(node1,node11)\n",
    "while n is not None:\n",
    "    print(\"current linked digit value=\", n.val)\n",
    "    n = n.next\n",
    "        "
   ]
  },
  {
   "cell_type": "code",
   "execution_count": 223,
   "metadata": {},
   "outputs": [
    {
     "name": "stdout",
     "output_type": "stream",
     "text": [
      "current digit value= 7\n",
      "current digit value= 0\n",
      "current digit value= 8\n"
     ]
    }
   ],
   "source": [
    "def AddTwoNum(a,b):\n",
    "    head = tmp = ListNode(0)\n",
    "    carry=0\n",
    "    while a or b or carry:\n",
    "        tmp1 = a.val if a else 0\n",
    "        tmp2 = b.val if b else 0\n",
    "        sumtmp = tmp1+tmp2+carry\n",
    "        tmp.next = ListNode(int(sumtmp%10))\n",
    "        carry = int(sumtmp//10)\n",
    "        tmp = tmp.next\n",
    "        if a: a=a.next\n",
    "        if b: b=b.next\n",
    "    return head.next\n",
    "\n",
    "n = AddTwoNum(node1,node11)\n",
    "while n is not None:\n",
    "    print(\"current digit value=\", n.val)\n",
    "    n = n.next"
   ]
  },
  {
   "cell_type": "code",
   "execution_count": 246,
   "metadata": {},
   "outputs": [
    {
     "data": {
      "text/plain": [
       "'abc'"
      ]
     },
     "execution_count": 246,
     "metadata": {},
     "output_type": "execute_result"
    }
   ],
   "source": [
    "#3. Longest Substring Without Repeating Characters\n",
    "def MaxLenNRepStr(s):\n",
    "    map1, maxmp = {}, {}\n",
    "    i = 0\n",
    "    for c in s:\n",
    "        if(c not in map1):\n",
    "            map1[c]=i\n",
    "        else:\n",
    "            if len(map1)>len(maxmp):\n",
    "                maxmp=map1.copy()\n",
    "            map1.clear()\n",
    "            map1[c]=i\n",
    "        i += 1\n",
    "    \n",
    "    return (''.join(maxmp.keys()))\n",
    "\n",
    "strs = \"abcabcbb\"\n",
    "MaxLenNRepStr(strs)"
   ]
  },
  {
   "cell_type": "code",
   "execution_count": 247,
   "metadata": {},
   "outputs": [
    {
     "data": {
      "text/plain": [
       "'abc'"
      ]
     },
     "execution_count": 247,
     "metadata": {},
     "output_type": "execute_result"
    }
   ],
   "source": [
    "def LongestSubsNoDup(s):\n",
    "    m, t = {}, {}\n",
    "    i = 0\n",
    "    for c in s:\n",
    "        if(c not in m):\n",
    "            m[c]=i\n",
    "        else:\n",
    "            if len(m)>len(t):\n",
    "                t = m.copy()\n",
    "            m.clear()\n",
    "            m[c]=i\n",
    "        i += 1\n",
    "    return (\"\".join(t.keys()))\n",
    "s = \"abcabcbb\"\n",
    "LongestSubsNoDup(s)"
   ]
  },
  {
   "cell_type": "code",
   "execution_count": 43,
   "metadata": {},
   "outputs": [
    {
     "data": {
      "text/plain": [
       "3.5"
      ]
     },
     "execution_count": 43,
     "metadata": {},
     "output_type": "execute_result"
    }
   ],
   "source": [
    "#4. Median of Two Sorted Arrays\n",
    "def MedianSortedArray(n1,n2):\n",
    "    a, b = sorted((n1,n2),key=len)\n",
    "    m, n = len(a),len(b)\n",
    "    limit = int((m+n+1)/2)\n",
    "    l, h = 0, m\n",
    "    while(l<=h):\n",
    "        i = int((l+h)/2)\n",
    "        if(i<m and b[limit-i-1]>a[i]):\n",
    "            l = i+ 1\n",
    "        elif(i>0 and a[i-1]>b[limit-i]):\n",
    "            h = i -1\n",
    "        else:\n",
    "            \n",
    "            if i==0: maxl= b[limit-i-1]\n",
    "            elif (limit-i)==0: maxl = a[i-1]\n",
    "            else: maxl = max(b[limit-i-1],a[i-1])\n",
    "            \n",
    "            if((m+n)%2==1):\n",
    "                return maxl\n",
    "            \n",
    "            if i==m: maxr = b[limit-i]\n",
    "            elif (limit-i)==n: maxr = a[i]\n",
    "            else: maxr = max(b[limit-i],a[i])\n",
    "            return (maxl+maxr)/2\n",
    "\n",
    "nums1 = [1, 2]\n",
    "nums2 = [3, 4, 5, 6]\n",
    "MedianSortedArray(nums1,nums2)\n",
    "    "
   ]
  },
  {
   "cell_type": "code",
   "execution_count": 250,
   "metadata": {},
   "outputs": [
    {
     "data": {
      "text/plain": [
       "3.5"
      ]
     },
     "execution_count": 250,
     "metadata": {},
     "output_type": "execute_result"
    }
   ],
   "source": [
    "def MedSortArray(ar1,ar2):\n",
    "    a1, a2 = sorted((ar1,ar2),key=len)\n",
    "    l1, l2 = len(a1), len(a2)\n",
    "    mid = int((l1+l2+1)/2)\n",
    "    l, r = 0, l1\n",
    "    while l<=r:\n",
    "        i = int((l+r)/2)\n",
    "        if(i<r and a1[i]<a2[mid-i-1]):\n",
    "            l = i+1\n",
    "        elif(i>0 and a1[i-1]>a2[mid-i]):\n",
    "            r = i-1\n",
    "        else:\n",
    "            if i==0: maxl = a2[mid-i-1]\n",
    "            elif (mid-i)==0: maxl = a1[i-1]\n",
    "            else: maxl = max(a2[mid-i-1],a1[i-1])\n",
    "                \n",
    "            if((l1+l2)%2==1): return maxl\n",
    "            \n",
    "            if i==l1: maxr = a2[mid-i]\n",
    "            elif (mid-i)==l2: maxr = a1[i]\n",
    "            else: maxr = max(a2[mid-i],a1[i])\n",
    "            \n",
    "            return ((maxl+maxr)/2)\n",
    "        \n",
    "ar1 = [1, 2]\n",
    "ar2 = [3, 4, 5, 6]\n",
    "MedSortArray(ar1,ar2)\n",
    "            \n",
    "    "
   ]
  },
  {
   "cell_type": "code",
   "execution_count": 214,
   "metadata": {},
   "outputs": [
    {
     "name": "stdout",
     "output_type": "stream",
     "text": [
      "babab\n"
     ]
    }
   ],
   "source": [
    "#5. Longest Palindromic Substring\n",
    "def searchMid(s, lt, rt):\n",
    "    l, r = lt, rt\n",
    "    while (l>=0) and (r<len(s)) and (s[l]==s[r]):\n",
    "        l -= 1\n",
    "        r += 1\n",
    "    return(r-l)\n",
    "\n",
    "s=\"bababd\"\n",
    "def PalindromStr(s):\n",
    "    start, end = 0, 0\n",
    "    for i in range(len(s)):\n",
    "        len1 = searchMid(s,i,i)\n",
    "        len2 = searchMid(s,i,i+1)\n",
    "        len_max = max(len1,len2)\n",
    "        if(len_max>(end-start)):\n",
    "            end = i + int((len_max)/2)\n",
    "            start = i - int((len_max-1)/2)\n",
    "    print(s[start:end])\n",
    "PalindromStr(s)"
   ]
  },
  {
   "cell_type": "code",
   "execution_count": 219,
   "metadata": {},
   "outputs": [
    {
     "data": {
      "text/plain": [
       "'babab'"
      ]
     },
     "execution_count": 219,
     "metadata": {},
     "output_type": "execute_result"
    }
   ],
   "source": [
    "def LongestPalindromSub(s):\n",
    "    b, e = 0, 0\n",
    "    for i in range(len(s)):\n",
    "        len1 = searchMid(s,i,i)\n",
    "        len2 = searchMid(s,i,i+1)\n",
    "        maxlen = max(len1,len2)\n",
    "        if(maxlen>(e-b)):\n",
    "            b = i - int((maxlen-1)/2)\n",
    "            e = i + int(maxlen/2)\n",
    "    return (s[b:e])\n",
    "\n",
    "def searchMid2(s,l,r):\n",
    "    while (l>=0) and (r<len(s)) and s[l]==s[r]:\n",
    "        l -= 1\n",
    "        r += 1\n",
    "    return (r-l)\n",
    "\n",
    "s=\"bababd\"\n",
    "LongestPalindromSub(s)"
   ]
  },
  {
   "cell_type": "code",
   "execution_count": 4,
   "metadata": {},
   "outputs": [
    {
     "data": {
      "text/plain": [
       "'PINALSIGYAHRPI'"
      ]
     },
     "execution_count": 4,
     "metadata": {},
     "output_type": "execute_result"
    }
   ],
   "source": [
    "#6. ZigZag Conversion\n",
    "def ZigZag(s,numR):\n",
    "    if(numR<=1):\n",
    "        print(\"invalid zigzag\")\n",
    "        return\n",
    "    direction = 1\n",
    "    dt = [\"\"]*numR\n",
    "    row = 0\n",
    "    for c in s:\n",
    "        dt[row] = dt[row]+c\n",
    "        if (row==0):\n",
    "            direction =1\n",
    "        elif (row==(numR-1)):\n",
    "            direction = -1\n",
    "        row = row + direction\n",
    "    return (\"\".join(dt))\n",
    "        \n",
    "strs=\"PAYPALISHIRING\"\n",
    "ZigZag(strs,4)\n"
   ]
  },
  {
   "cell_type": "code",
   "execution_count": 227,
   "metadata": {},
   "outputs": [
    {
     "data": {
      "text/plain": [
       "'PINALSIGYAHRPI'"
      ]
     },
     "execution_count": 227,
     "metadata": {},
     "output_type": "execute_result"
    }
   ],
   "source": [
    "def ZigZagC(s,nrow):\n",
    "    if(nrow<-1): return (\"invalid\")\n",
    "    z = 1\n",
    "    dt = [\"\"]*nrow\n",
    "    r = 0\n",
    "    for c in s:\n",
    "        dt[r] += c\n",
    "        if(r==0): z=1\n",
    "        elif (r==(nrow-1)): z = -1\n",
    "        r = r + z\n",
    "    return (\"\".join(dt))\n",
    "\n",
    "n=4\n",
    "s = \"PAYPALISHIRING\"\n",
    "ZigZagC(s,n)\n",
    "        "
   ]
  },
  {
   "cell_type": "code",
   "execution_count": 3,
   "metadata": {},
   "outputs": [
    {
     "data": {
      "text/plain": [
       "-54321"
      ]
     },
     "execution_count": 3,
     "metadata": {},
     "output_type": "execute_result"
    }
   ],
   "source": [
    "#7. Reverse Integer\n",
    "def ReverseInt(numb):\n",
    "    x = abs(numb)\n",
    "    r = 0\n",
    "    while x>0:\n",
    "        y = int(x % 10)\n",
    "        r = r*10+y\n",
    "        x = int(x/10)\n",
    "        if(r>2**31-1) or (r<-2**31):\n",
    "            print(\"overflow\")\n",
    "            break\n",
    "    return (r*(-1 if numb<0 else 1))\n",
    "ReverseInt(-123450)"
   ]
  },
  {
   "cell_type": "code",
   "execution_count": 226,
   "metadata": {},
   "outputs": [
    {
     "data": {
      "text/plain": [
       "-54321"
      ]
     },
     "execution_count": 226,
     "metadata": {},
     "output_type": "execute_result"
    }
   ],
   "source": [
    "def ReverseN(n):\n",
    "    a=abs(n)\n",
    "    r = 0\n",
    "    while a>0:\n",
    "        b = int(a%10)\n",
    "        r = r*10+b\n",
    "        a = int(a/10)\n",
    "        if r>2**31-1 or r<-2**31:\n",
    "            return (\"overflow\")\n",
    "    return (r*(-1 if n<0 else 1))\n",
    "ReverseN(-123450)\n",
    "        "
   ]
  },
  {
   "cell_type": "code",
   "execution_count": 22,
   "metadata": {},
   "outputs": [
    {
     "data": {
      "text/plain": [
       "-2147483648"
      ]
     },
     "execution_count": 22,
     "metadata": {},
     "output_type": "execute_result"
    }
   ],
   "source": [
    "#8. String to integer\n",
    "import re\n",
    "def atoi(s):\n",
    "    s = s.strip()\n",
    "    s = re.findall('(^[\\+\\-0]*\\d+)\\D*',s)\n",
    "    try:\n",
    "        numb = int(''.join(s))\n",
    "        if numb > 2**31-1:\n",
    "            return 2**31-1\n",
    "        elif numb < -2**31:\n",
    "            return -2**31\n",
    "        else:\n",
    "            return numb\n",
    "    except:\n",
    "        return 0\n",
    "    \n",
    "atoi(\"   -42\")\n",
    "atoi(\"4193 with words\")\n",
    "atoi(\"words with 4193\")\n",
    "atoi(\"-91283472332\")"
   ]
  },
  {
   "cell_type": "code",
   "execution_count": null,
   "metadata": {},
   "outputs": [],
   "source": []
  },
  {
   "cell_type": "code",
   "execution_count": null,
   "metadata": {},
   "outputs": [],
   "source": [
    "re.findall('(^[\\+\\-0]*\\d+)\\D*',s)"
   ]
  },
  {
   "cell_type": "code",
   "execution_count": 2,
   "metadata": {},
   "outputs": [
    {
     "data": {
      "text/plain": [
       "True"
      ]
     },
     "execution_count": 2,
     "metadata": {},
     "output_type": "execute_result"
    }
   ],
   "source": [
    "#9. Palindrome Number\n",
    "def PalindromNumb(numb):\n",
    "    if (numb<0):\n",
    "        return (False)\n",
    "    s = str(numb)\n",
    "    if(len(s)%2==0):\n",
    "        r=int(len(s)/2)\n",
    "    else:\n",
    "        r=int(len(s)/2)+1\n",
    "    if(s[0:int(len(s)/2)][::-1]==s[r:]):\n",
    "        return (True)\n",
    "    else:\n",
    "        return (False)\n",
    "    \n",
    "n = 10246064201\n",
    "PalindromNumb(n)"
   ]
  },
  {
   "cell_type": "code",
   "execution_count": 225,
   "metadata": {},
   "outputs": [
    {
     "data": {
      "text/plain": [
       "True"
      ]
     },
     "execution_count": 225,
     "metadata": {},
     "output_type": "execute_result"
    }
   ],
   "source": [
    "def PalindromeNum(n):\n",
    "    if(n<0): return (False)\n",
    "    s = str(n)\n",
    "    if(len(s)%2==0): r=int(len(s)/2)\n",
    "    else: r=int(len(s)/2)+1\n",
    "    if s[:int(len(s)/2)][::-1]==s[r:]:\n",
    "        return (True)\n",
    "    else:\n",
    "        return (False)\n",
    "n = 10246064201\n",
    "PalindromeNum(n)"
   ]
  },
  {
   "cell_type": "code",
   "execution_count": 5,
   "metadata": {},
   "outputs": [
    {
     "data": {
      "text/plain": [
       "True"
      ]
     },
     "execution_count": 5,
     "metadata": {},
     "output_type": "execute_result"
    }
   ],
   "source": [
    "#10. Regular Expression Matching\n",
    "def RegularMatch(s,p):\n",
    "    if(not p):\n",
    "        return (not s)\n",
    "    firstm = bool(s) and p[0] in {s[0], \".\"}\n",
    "    if len(p)>=2 and p[1] in {\"*\"}:  #>=2? or >2\n",
    "        return firstm or RegularMatch(s[1:],p) or RegularMatch(s,p[2:])\n",
    "    else:\n",
    "        return firstm or RegularMatch(s[1:],p[1:])\n",
    "\n",
    "s  = \"mississippi\"\n",
    "pp = \"missis*ippi\"\n",
    "RegularMatch(s,pp)"
   ]
  },
  {
   "cell_type": "code",
   "execution_count": 229,
   "metadata": {},
   "outputs": [
    {
     "data": {
      "text/plain": [
       "True"
      ]
     },
     "execution_count": 229,
     "metadata": {},
     "output_type": "execute_result"
    }
   ],
   "source": [
    "def REM(s,p):\n",
    "    if(not p): return (not s)\n",
    "    firstm = bool(s) and p[0] in {s[0],\".\"}\n",
    "    if len(p)>2 and p[1] in {\"*\"}:   #>2 \n",
    "        return (firstm or REM(s[1:],p) or REM(s,p[2:]))\n",
    "    else:\n",
    "        return (firstm or REM(s[1:],p[1:]))\n",
    "\n",
    "s  = \"mississippi\"\n",
    "pp = \"missis*ippi\"\n",
    "REM(s,pp)"
   ]
  },
  {
   "cell_type": "code",
   "execution_count": 6,
   "metadata": {},
   "outputs": [
    {
     "data": {
      "text/plain": [
       "49"
      ]
     },
     "execution_count": 6,
     "metadata": {},
     "output_type": "execute_result"
    }
   ],
   "source": [
    "#11. Container With Most Water\n",
    "def MostWater(h):\n",
    "    w, l, r = 0, 0, len(h)-1\n",
    "    while l<r:\n",
    "        w = max(w,min(h[l],h[r])*(r-l))\n",
    "        if(h[l]<h[r]):\n",
    "            l += 1\n",
    "        else:\n",
    "            r -= 1\n",
    "    return w\n",
    "\n",
    "h = [1,8,6,2,5,4,8,3,7]\n",
    "MostWater(h)"
   ]
  },
  {
   "cell_type": "code",
   "execution_count": 231,
   "metadata": {},
   "outputs": [
    {
     "data": {
      "text/plain": [
       "49"
      ]
     },
     "execution_count": 231,
     "metadata": {},
     "output_type": "execute_result"
    }
   ],
   "source": [
    "def MostW(h):\n",
    "    w, l, r = 0, 0, len(h)-1\n",
    "    while l<r:\n",
    "        w = max(w, min(h[l],h[r])*(r-l))\n",
    "        if(h[l]<h[r]):\n",
    "            l += 1\n",
    "        else:\n",
    "            r -= 1\n",
    "    return w\n",
    "h = [1,8,6,2,5,4,8,3,7]\n",
    "MostW(h)"
   ]
  },
  {
   "cell_type": "code",
   "execution_count": 233,
   "metadata": {},
   "outputs": [
    {
     "data": {
      "text/plain": [
       "'MCMXCIV'"
      ]
     },
     "execution_count": 233,
     "metadata": {},
     "output_type": "execute_result"
    }
   ],
   "source": [
    "#12. Integer to Roman\n",
    "def IntToR(n):\n",
    "    if n<=0 or n>3999:\n",
    "        print(\"number out of range\")\n",
    "        return\n",
    "    k = len(mp)-1\n",
    "    s = \"\"\n",
    "    while n>0:\n",
    "        if(n>=mp[k]):\n",
    "            n = n - mp[k]\n",
    "            s = s + rl[k]\n",
    "        else:\n",
    "            k -= 1\n",
    "    return s\n",
    "rl = [\"I\",\"IV\",\"V\",\"IX\",\"X\",\"XL\",\"L\",\"XC\",\"C\",\"CD\",\"D\",\"CM\",\"M\"]\n",
    "mp =  [1,4,5,9,10,40,50,90,100,400,500,900,1000]\n",
    "n = 1994\n",
    "IntToR(n)"
   ]
  },
  {
   "cell_type": "code",
   "execution_count": 236,
   "metadata": {},
   "outputs": [
    {
     "data": {
      "text/plain": [
       "'MCMXCIV'"
      ]
     },
     "execution_count": 236,
     "metadata": {},
     "output_type": "execute_result"
    }
   ],
   "source": [
    "def IntToRome(n):\n",
    "    if n<=0 or n>3999: return (\"invalid range\")\n",
    "    rl = [\"I\",\"IV\",\"V\",\"IX\",\"X\",\"XL\",\"L\",\"XC\",\"C\",\"CD\",\"D\",\"CM\",\"M\"]\n",
    "    nv =  [1,4,5,9,10,40,50,90,100,400,500,900,1000]\n",
    "    k = len(nv)-1\n",
    "    s = \"\"\n",
    "    while n>0:\n",
    "        if n>=nv[k]:\n",
    "            n = n-nv[k]\n",
    "            s = s+rl[k]\n",
    "        else:\n",
    "            k = k-1\n",
    "    return s\n",
    "n = 1994\n",
    "IntToRome(n)"
   ]
  },
  {
   "cell_type": "code",
   "execution_count": 242,
   "metadata": {},
   "outputs": [
    {
     "data": {
      "text/plain": [
       "1994"
      ]
     },
     "execution_count": 242,
     "metadata": {},
     "output_type": "execute_result"
    }
   ],
   "source": [
    "#13. Roman to Integer\n",
    "ri = dict(I=1, V=5, X=10, L=50, C=100, D=500, M=1000)\n",
    "def RToInt(s):\n",
    "    prev = \"M\"\n",
    "    numb = 0\n",
    "    for c in s:\n",
    "        if (ri[c]>ri[prev]):\n",
    "            numb = numb + (ri[c]-2*ri[prev])\n",
    "        else:\n",
    "            numb = numb + ri[c]\n",
    "        prev = c\n",
    "    return numb\n",
    "\n",
    "strs = \"MCMXCIV\"\n",
    "RToInt(strs)\n",
    "            "
   ]
  },
  {
   "cell_type": "code",
   "execution_count": 244,
   "metadata": {},
   "outputs": [
    {
     "data": {
      "text/plain": [
       "1994"
      ]
     },
     "execution_count": 244,
     "metadata": {},
     "output_type": "execute_result"
    }
   ],
   "source": [
    "def RomeToInt(s):\n",
    "    rimap = dict(I=1, V=5, X=10, L=50, C=100, D=500, M=1000)\n",
    "    n = 0\n",
    "    leftc = \"M\"\n",
    "    for c in s:\n",
    "        if rimap[c]>rimap[leftc]:\n",
    "            n += rimap[c]-2*rimap[leftc]\n",
    "        else:\n",
    "            n += rimap[c]\n",
    "        leftc = c\n",
    "    return n\n",
    "\n",
    "s = \"MCMXCIV\"\n",
    "RomeToInt(s)\n",
    "            "
   ]
  },
  {
   "cell_type": "code",
   "execution_count": 299,
   "metadata": {},
   "outputs": [
    {
     "data": {
      "text/plain": [
       "'fl'"
      ]
     },
     "execution_count": 299,
     "metadata": {},
     "output_type": "execute_result"
    }
   ],
   "source": [
    "#14. Longest common prefix string\n",
    "def LongestPrefix(s):\n",
    "    s = sorted(s,key=len)\n",
    "    smin = s[0]\n",
    "    pref = \"\"\n",
    "    for i in range(len(smin)):\n",
    "        for j in range(1,len(s)):\n",
    "            if(smin[i]!=s[j][i]):\n",
    "                i=len(smin)\n",
    "                break\n",
    "            elif (j==len(s)-1):\n",
    "                pref += smin[i]\n",
    "    return (pref)\n",
    "s = [\"flower\",\"flow\",\"flight\"]\n",
    "LongestPrefix(s)"
   ]
  },
  {
   "cell_type": "code",
   "execution_count": 303,
   "metadata": {},
   "outputs": [
    {
     "data": {
      "text/plain": [
       "'fl'"
      ]
     },
     "execution_count": 303,
     "metadata": {},
     "output_type": "execute_result"
    }
   ],
   "source": [
    "def LongestPf(s):\n",
    "    s = sorted(s,key=len)\n",
    "    smin=s[0]\n",
    "    res=\"\"\n",
    "    for i in range(len(smin)):\n",
    "        for j in range(1,len(s)):\n",
    "            if(smin[i]!=s[j][i]):\n",
    "                i=len(smin)\n",
    "                break\n",
    "            elif j==(len(s)-1):\n",
    "                res += smin[i]\n",
    "    return (res)\n",
    "s = [\"flower\",\"flow\",\"flight\"]\n",
    "LongestPf(s)"
   ]
  },
  {
   "cell_type": "code",
   "execution_count": 249,
   "metadata": {},
   "outputs": [
    {
     "data": {
      "text/plain": [
       "(1, 7, 0, 2)"
      ]
     },
     "execution_count": 249,
     "metadata": {},
     "output_type": "execute_result"
    }
   ],
   "source": [
    "#1. 2Sum - return index\n",
    "def TwoSum(n, target):\n",
    "    mp={}\n",
    "    for i in range(len(n)):\n",
    "        m = target - n[i]\n",
    "        if m in mp:\n",
    "            return (i, n[i], mp.get(m), target-n[i])\n",
    "        else:\n",
    "            mp[n[i]]=i\n",
    "    print(mp)\n",
    "\n",
    "n = [2, 7, 11, 15]\n",
    "target = 9\n",
    "TwoSum(n,target)\n",
    "\n",
    "        "
   ]
  },
  {
   "cell_type": "code",
   "execution_count": 252,
   "metadata": {},
   "outputs": [
    {
     "data": {
      "text/plain": [
       "'no match'"
      ]
     },
     "execution_count": 252,
     "metadata": {},
     "output_type": "execute_result"
    }
   ],
   "source": [
    "def Twosum(n, t):\n",
    "    mp = {}\n",
    "    for i in range(len(n)):\n",
    "        m = t-n[i]\n",
    "        if m in mp:\n",
    "            return (i, n[i])\n",
    "        else:\n",
    "            mp[n[i]]=i\n",
    "    return(\"no match\")\n",
    "\n",
    "n = [2, 7, 11, 15]\n",
    "t = 9\n",
    "Twosum(n,t)\n",
    "t = 8\n",
    "Twosum(n,t)"
   ]
  },
  {
   "cell_type": "code",
   "execution_count": 263,
   "metadata": {},
   "outputs": [
    {
     "data": {
      "text/plain": [
       "[[7, 2]]"
      ]
     },
     "execution_count": 263,
     "metadata": {},
     "output_type": "execute_result"
    }
   ],
   "source": [
    "#2Sum - return value pair\n",
    "def TwoSum(n,target):\n",
    "    mp={}\n",
    "    res=[]\n",
    "    for n1 in n:\n",
    "        n2 = target-n1\n",
    "        if n1 in mp:\n",
    "            res.append([n1,mp[n1]])\n",
    "        else:\n",
    "            mp[n2]=n1\n",
    "    return res\n",
    "\n",
    "\n",
    "    \n",
    "n = [2, 7, 11, 15]\n",
    "target = 9\n",
    "#n = [-4, -1, -1, 0, 1, 2]\n",
    "#target = 4\n",
    "TwoSum(n,target)"
   ]
  },
  {
   "cell_type": "code",
   "execution_count": 264,
   "metadata": {},
   "outputs": [
    {
     "data": {
      "text/plain": [
       "[(2, -1, -1), (1, 0, -1)]"
      ]
     },
     "execution_count": 264,
     "metadata": {},
     "output_type": "execute_result"
    }
   ],
   "source": [
    "#15. 3Sum = 0\n",
    "def ThreeSum(n):\n",
    "    res=[]\n",
    "    if(len(n)<3):\n",
    "        return res\n",
    "    if(n==[0]*len(n)):\n",
    "        return ([0,0,0])\n",
    "    n.sort()\n",
    "    if(n[-1]<=0):\n",
    "        return res\n",
    "    while n[0]<=0:\n",
    "        #print(n, -n[0])\n",
    "        twosum = TwoSum(n[1:],-n[0])\n",
    "        #print('temp',twosum)\n",
    "        for t in twosum:\n",
    "            t.append(n[0])\n",
    "            res.append(t)\n",
    "        n = n[1:]\n",
    "    return (list(set([tuple(i) for i in res])))\n",
    "s = [-9, -1, 0, 1, 2, -1, -4]\n",
    "ThreeSum(s)"
   ]
  },
  {
   "cell_type": "code",
   "execution_count": 282,
   "metadata": {},
   "outputs": [
    {
     "data": {
      "text/plain": [
       "[(-1, 2, -1), (0, 1, -1)]"
      ]
     },
     "execution_count": 282,
     "metadata": {},
     "output_type": "execute_result"
    }
   ],
   "source": [
    "def TwoS(n,t):\n",
    "    mp, res = {}, []\n",
    "    for x in n:\n",
    "        y = t-x\n",
    "        if y in mp:\n",
    "            res.append([y,x])\n",
    "            #return res\n",
    "        else:\n",
    "            mp[x]=y\n",
    "    #print(mp)\n",
    "    return res\n",
    "\n",
    "def ThreeS(n):\n",
    "    res = []\n",
    "    if(len(n)<3): return res\n",
    "    if(n==[0]*len(n)): return ([0,0,0])\n",
    "    n.sort()\n",
    "    if(n[-1]<=0): return res\n",
    "    \n",
    "    while n[0]<=0:\n",
    "        n2 = TwoS(n[1:],-n[0])\n",
    "        for k in n2:\n",
    "            k.append(n[0])\n",
    "            res.append(k)\n",
    "            #res.append(k.append(n[0]))\n",
    "        n = n[1:]\n",
    "    return (list(set([tuple(i) for i in res])))\n",
    "\n",
    "\n",
    "n = [2, 7, 11, 15]\n",
    "t = 9\n",
    "TwoS(n,t)\n",
    "\n",
    "n = [-9, -1, 0, 1, 2, -1, -4]\n",
    "ThreeS(n)"
   ]
  },
  {
   "cell_type": "code",
   "execution_count": 280,
   "metadata": {},
   "outputs": [
    {
     "name": "stdout",
     "output_type": "stream",
     "text": [
      "['2', '7', '11', '15']\n",
      "[1, 2, 3, 4, 5, 6, 7, 8, 9]\n"
     ]
    },
    {
     "data": {
      "text/plain": [
       "[2, 7, 11, 15]"
      ]
     },
     "execution_count": 280,
     "metadata": {},
     "output_type": "execute_result"
    }
   ],
   "source": [
    "n = ['2', '7', ['11', '15']]\n",
    "from itertools import chain\n",
    "print(list(chain(*n)))\n",
    "n = [2,7,[11,15]]\n",
    "import itertools\n",
    "n1 = [[1,2,3],[4,5,6], [7], [8,9]]\n",
    "print(list(itertools.chain.from_iterable(n1)))\n",
    "\n",
    "output=[]\n",
    "def reemovNestings(l): \n",
    "    for i in l: \n",
    "        if type(i) == list: \n",
    "            reemovNestings(i) \n",
    "        else: \n",
    "            output.append(i) \n",
    "    return output\n",
    "reemovNestings(n)\n"
   ]
  },
  {
   "cell_type": "code",
   "execution_count": 98,
   "metadata": {},
   "outputs": [
    {
     "data": {
      "text/plain": [
       "2"
      ]
     },
     "execution_count": 98,
     "metadata": {},
     "output_type": "execute_result"
    }
   ],
   "source": [
    "#16. 3Sum closest\n",
    "def ThreeSumClosest(n, target):\n",
    "    n.sort()\n",
    "    res = sum(n[:3])\n",
    "    for i in range(len(n)):\n",
    "        l, r = i+1, len(n)-1\n",
    "        while l < r:\n",
    "            s = sum((nums[i], nums[l], nums[r]))\n",
    "            if abs(s-target) < abs(res-target):\n",
    "                res = s\n",
    "            if s < target:\n",
    "                l += 1\n",
    "            elif s > target:\n",
    "                r -= 1\n",
    "            else: # break early \n",
    "                return res\n",
    "    return res\n",
    "nums = [-1, 2, 1, -4, 7, 8]\n",
    "target = 1\n",
    "ThreeSumClosest(nums,target)"
   ]
  },
  {
   "cell_type": "code",
   "execution_count": 284,
   "metadata": {},
   "outputs": [
    {
     "data": {
      "text/plain": [
       "2"
      ]
     },
     "execution_count": 284,
     "metadata": {},
     "output_type": "execute_result"
    }
   ],
   "source": [
    "def ThreeSC(n,t):\n",
    "    res=sum(n[:3])\n",
    "    n.sort()\n",
    "    for i in range(len(n)):\n",
    "        l, r = i+1, len(n)-1\n",
    "        while l<r:\n",
    "            s=sum((n[i],n[l],n[r]))\n",
    "            if abs(s-t) < abs(res-t):\n",
    "                res = s\n",
    "            if s<t:\n",
    "                l += 1\n",
    "            elif s > t:\n",
    "                r -= 1\n",
    "            else:\n",
    "                return res\n",
    "        return res\n",
    "n = [-1, 2, 1, -4, 7, 8]\n",
    "t = 1\n",
    "ThreeSC(n,t)"
   ]
  },
  {
   "cell_type": "code",
   "execution_count": 289,
   "metadata": {},
   "outputs": [
    {
     "data": {
      "text/plain": [
       "['ad', 'ae', 'af', 'bd', 'be', 'bf', 'cd', 'ce', 'cf']"
      ]
     },
     "execution_count": 289,
     "metadata": {},
     "output_type": "execute_result"
    }
   ],
   "source": [
    "#17. Letter Combinations of a Phone Number\n",
    "def CombPhoneNumb(sd):\n",
    "    phone = {'2': ['a', 'b', 'c'],\n",
    "             '3': ['d', 'e', 'f'],\n",
    "             '4': ['g', 'h', 'i'],\n",
    "             '5': ['j', 'k', 'l'],\n",
    "             '6': ['m', 'n', 'o'],\n",
    "             '7': ['p', 'q', 'r', 's'],\n",
    "             '8': ['t', 'u', 'v'],\n",
    "             '9': ['w', 'x', 'y', 'z']}\n",
    "    \n",
    "    def CombLetter(subcomb,d):\n",
    "        if(len(d)==0):\n",
    "            combstr.append(subcomb)\n",
    "        else:\n",
    "            for c in phone[d[0]]:\n",
    "                CombLetter(subcomb+c, d[1:])\n",
    "        \n",
    "    combstr = []\n",
    "    if sd:\n",
    "        sd = sd.replace(\"1\",\"\").replace(\"0\",\"\")\n",
    "        CombLetter(\"\",sd)\n",
    "    return combstr\n",
    "\n",
    "dt=\"0213\"\n",
    "CombPhoneNumb(dt)"
   ]
  },
  {
   "cell_type": "code",
   "execution_count": 291,
   "metadata": {},
   "outputs": [
    {
     "data": {
      "text/plain": [
       "['ad', 'ae', 'af', 'bd', 'be', 'bf', 'cd', 'ce', 'cf']"
      ]
     },
     "execution_count": 291,
     "metadata": {},
     "output_type": "execute_result"
    }
   ],
   "source": [
    "phone = {'2': ['a', 'b', 'c'],\n",
    "             '3': ['d', 'e', 'f'],\n",
    "             '4': ['g', 'h', 'i'],\n",
    "             '5': ['j', 'k', 'l'],\n",
    "             '6': ['m', 'n', 'o'],\n",
    "             '7': ['p', 'q', 'r', 's'],\n",
    "             '8': ['t', 'u', 'v'],\n",
    "             '9': ['w', 'x', 'y', 'z']}\n",
    "def NumL(s):\n",
    "    def NumLhelp(sl,s):\n",
    "        if(len(s)==0): \n",
    "            res.append(sl)\n",
    "        else:\n",
    "            for c in phone[s[0]]:\n",
    "                NumLhelp(sl+c,s[1:])\n",
    "    res = []\n",
    "    if s:\n",
    "        s = s.replace(\"1\",\"\").replace(\"0\",\"\")\n",
    "        NumLhelp(\"\",s)\n",
    "    return res\n",
    "\n",
    "s=\"0213\"\n",
    "NumL(s)"
   ]
  },
  {
   "cell_type": "code",
   "execution_count": 298,
   "metadata": {},
   "outputs": [
    {
     "data": {
      "text/plain": [
       "['ad', 'bd', 'cd', 'ae', 'be', 'ce', 'af', 'bf', 'cf']"
      ]
     },
     "execution_count": 298,
     "metadata": {},
     "output_type": "execute_result"
    }
   ],
   "source": [
    "phone2 = {\"1\":\"\", \"2\":\"abc\", \"3\":\"def\", \"4\":\"ghi\", \"5\":\"jkl\", \"6\":\"mno\", \"7\":\"pqrs\",\"8\":\"tuv\",\"9\":\"wxyz\",\"0\":\" \"}\n",
    "    \n",
    "def NumL2(s):\n",
    "    if s:\n",
    "        s = s.replace(\"1\",\"\").replace(\"0\",\"\")\n",
    "    res = [\"\"]\n",
    "    for d in s:\n",
    "        lst = phone2[d]\n",
    "        nres = []\n",
    "        for c in lst:\n",
    "            for r in res:\n",
    "                nres.append(r+c)\n",
    "        res = nres\n",
    "    return res\n",
    "s=\"0213\"\n",
    "NumL2(s)"
   ]
  },
  {
   "cell_type": "code",
   "execution_count": 287,
   "metadata": {},
   "outputs": [
    {
     "data": {
      "text/plain": [
       "[[-1, 0, 0, 1], [-2, 0, 0, 2], [-2, -1, 1, 2]]"
      ]
     },
     "execution_count": 287,
     "metadata": {},
     "output_type": "execute_result"
    }
   ],
   "source": [
    "#18. 4Sum\n",
    "import itertools\n",
    "import collections\n",
    "def FourSum(n,target):\n",
    "    twosum = collections.defaultdict(list)\n",
    "    res = set()\n",
    "    for(n1,i1),(n2,i2) in itertools.combinations(enumerate(n),2):\n",
    "        twosum[i1+i2].append({n1,n2})\n",
    "    for t in list(twosum.keys()):\n",
    "        if not twosum[target-t]: \n",
    "            continue\n",
    "        for p1 in twosum[t]:\n",
    "            for p2 in twosum[target-t]:\n",
    "                if p1.isdisjoint(p2):\n",
    "                    res.add(tuple(sorted(n[i] for i in p1 | p2)))\n",
    "        del twosum[t]\n",
    "        #print(res)\n",
    "    return [list(r) for r in res]\n",
    "\n",
    "n = [1, 0, -1, 0, -2, 2]\n",
    "target = 0\n",
    "FourSum(n,target)"
   ]
  },
  {
   "cell_type": "code",
   "execution_count": 288,
   "metadata": {},
   "outputs": [
    {
     "data": {
      "text/plain": [
       "[[-1, 0, 0, 1], [-2, 0, 0, 2], [-2, -1, 1, 2]]"
      ]
     },
     "execution_count": 288,
     "metadata": {},
     "output_type": "execute_result"
    }
   ],
   "source": [
    "import collections\n",
    "import itertools\n",
    "def FourS(n,t):\n",
    "    n2 = collections.defaultdict(list)\n",
    "    res = set()\n",
    "    for (ai,av),(bi,bv) in itertools.combinations(enumerate(n),2):\n",
    "        n2[av+bv].append({ai,bi})\n",
    "    for k in list(n2.keys()):\n",
    "        if not n2[t-k]:\n",
    "            continue\n",
    "        for aj in n2[k]:\n",
    "            for bj in n2[t-k]:\n",
    "                if aj.isdisjoint(bj): #no commen element\n",
    "                    res.add(tuple(sorted(n[i] for i in aj | bj)))\n",
    "        del n2[k]\n",
    "    return [list(r) for r in res]\n",
    "\n",
    "n = [1, 0, -1, 0, -2, 2]\n",
    "t = 0\n",
    "FourS(n,t)"
   ]
  },
  {
   "cell_type": "code",
   "execution_count": 160,
   "metadata": {},
   "outputs": [],
   "source": [
    "#write linked-list helper functions\n",
    "class ListNode:\n",
    "    def __init__(self,x):\n",
    "        self.val = x\n",
    "        self.next = None\n",
    "        \n",
    "    def has_value(self,value):\n",
    "        if self.val == value:\n",
    "            return True\n",
    "        else:\n",
    "            return False\n"
   ]
  },
  {
   "cell_type": "code",
   "execution_count": 306,
   "metadata": {},
   "outputs": [],
   "source": [
    "#write single linked list helper functions\n",
    "class SingleLinkedList:\n",
    "    def __init__(self):\n",
    "        self.head = None\n",
    "        self.tail = None\n",
    "        return\n",
    "    def append_list_item(self,item):\n",
    "        if not isinstance(item,ListNode):\n",
    "            item = ListNode(item)\n",
    "        if self.head is None:\n",
    "            self.head = item\n",
    "        else:\n",
    "            self.tail.next = item\n",
    "        self.tail = item\n",
    "        return\n",
    "    def list_length(self):\n",
    "        count=0\n",
    "        tmp = self.head\n",
    "        while tmp is not None:\n",
    "            count += 1\n",
    "            tmp = tmp.next\n",
    "        return count\n",
    "    def output_list(self):\n",
    "        tmp = self.head\n",
    "        while tmp is not None:\n",
    "            print(tmp.val)\n",
    "            tmp = tmp.next\n",
    "        return\n",
    "    def unordered_search(self,value):\n",
    "        tmp = self.head\n",
    "        count = 0\n",
    "        outs = []\n",
    "        while tmp is not None:\n",
    "            count += 1\n",
    "            if tmp.has_value(value):\n",
    "                outs.append(count)\n",
    "            tmp = tmp.next\n",
    "        return outs\n",
    "    def remove_list_item(self,nid):\n",
    "        tmp = self.head\n",
    "        prev = None\n",
    "        count = 0\n",
    "        while tmp is not None:\n",
    "            count += 1\n",
    "            if count == nid:\n",
    "                if prev is not None:\n",
    "                    prev.next = tmp.next\n",
    "                else:\n",
    "                    self.head = tmp.next #remove the head\n",
    "                #tmp = None\n",
    "                return\n",
    "            prev = tmp\n",
    "            tmp = tmp.next\n",
    "        \n",
    "        return\n",
    "    #add insert to position\n",
    "    def insert_list_item(self,item,nid):\n",
    "        if not isinstance(item,ListNode):\n",
    "            item = ListNode(item)\n",
    "        tmp = self.head\n",
    "        if tmp is None:\n",
    "            self.head = item\n",
    "            self.tail = item\n",
    "            return\n",
    "        count = 0\n",
    "        while tmp is not None:\n",
    "            if count == nid-1:\n",
    "                old_next = tmp.next\n",
    "                tmp.next = item\n",
    "                item.next = old_next\n",
    "                return\n",
    "            tmp = tmp.next\n",
    "            count += 1\n"
   ]
  },
  {
   "cell_type": "code",
   "execution_count": 309,
   "metadata": {},
   "outputs": [
    {
     "name": "stdout",
     "output_type": "stream",
     "text": [
      "1\n",
      "2\n",
      "3\n",
      "4\n",
      "5\n",
      "===\n",
      "1\n",
      "2\n",
      "3\n",
      "5\n"
     ]
    }
   ],
   "source": [
    "#19. Remove Nth Node From End of List\n",
    "def RemoveNfromEnd(n, sl):\n",
    "    slow = fast = hd = sl.head\n",
    "    while (fast.next):\n",
    "        if (n):\n",
    "            n -= 1\n",
    "        else:\n",
    "            slow = slow.next\n",
    "        fast = fast.next\n",
    "    slow.next = slow.next.next\n",
    "    return hd\n",
    "\n",
    "node1 = ListNode(1) \n",
    "node2 = ListNode(2) \n",
    "node3 = ListNode(3) \n",
    "node4 = ListNode(4) \n",
    "node5 = ListNode(5) \n",
    "t = SingleLinkedList()\n",
    "for i in [node1, node2, node3, node4, node5]:  \n",
    "    t.append_list_item(i)\n",
    "t.output_list()\n",
    "print(\"===\")\n",
    "\n",
    "n=2\n",
    "RemoveNfromEnd(n, t)\n",
    "t.output_list()"
   ]
  },
  {
   "cell_type": "code",
   "execution_count": 310,
   "metadata": {},
   "outputs": [
    {
     "name": "stdout",
     "output_type": "stream",
     "text": [
      "1\n",
      "2\n",
      "3\n",
      "4\n",
      "5\n",
      "1\n",
      "2\n",
      "3\n",
      "5\n"
     ]
    }
   ],
   "source": [
    "def RemoveEnd(n,ls):\n",
    "    slow = fast = hd = ls.head\n",
    "    while fast.next:\n",
    "        fast = fast.next\n",
    "        if n: \n",
    "            n -= 1\n",
    "        else:\n",
    "            slow = slow.next\n",
    "    slow.next = slow.next.next\n",
    "    return hd\n",
    "\n",
    "node1 = ListNode(1) \n",
    "node2 = ListNode(2) \n",
    "node3 = ListNode(3) \n",
    "node4 = ListNode(4) \n",
    "node5 = ListNode(5) \n",
    "ls = SingleLinkedList()\n",
    "for i in [node1, node2, node3, node4, node5]:  \n",
    "    ls.append_list_item(i)\n",
    "ls.output_list()\n",
    "n = 2\n",
    "RemoveEnd(n, ls)\n",
    "ls.output_list()"
   ]
  },
  {
   "cell_type": "code",
   "execution_count": 182,
   "metadata": {},
   "outputs": [
    {
     "name": "stdout",
     "output_type": "stream",
     "text": [
      "False\n",
      "True\n"
     ]
    }
   ],
   "source": [
    "#20. Valid Parentheses\n",
    "def isValid(s):\n",
    "    stack = []\n",
    "    m = {\"(\":\")\",\"[\":\"]\",\"{\":\"}\"}\n",
    "    l = [\")\",\"]\",\"}\"]\n",
    "    for c in s:\n",
    "        if c in m:\n",
    "             stack.append(c)\n",
    "        elif c in l:\n",
    "                if stack:\n",
    "                    tmp = stack.pop()\n",
    "                    if c!=m[tmp]:\n",
    "                        return False\n",
    "                else:\n",
    "                    return False\n",
    "        else:\n",
    "             continue\n",
    "    return not stack\n",
    "\n",
    "s1=\"([)]\"\n",
    "print(isValid(s1))\n",
    "s2=\"{[]}\"\n",
    "print(isValid(s2))"
   ]
  },
  {
   "cell_type": "code",
   "execution_count": 364,
   "metadata": {},
   "outputs": [
    {
     "name": "stdout",
     "output_type": "stream",
     "text": [
      "False\n",
      "True\n"
     ]
    }
   ],
   "source": [
    "def ValidP(s):\n",
    "    mp = {\"(\":\")\",\"[\":\"]\",\"{\":\"}\"}\n",
    "    r = [\")\",\"]\",\"}\"]\n",
    "    stack=[]\n",
    "    for c in s:\n",
    "        if c in mp:\n",
    "            stack.append(c)\n",
    "        elif c in r:\n",
    "            if stack:\n",
    "                if c!=mp[stack.pop()]:\n",
    "                    return False\n",
    "            else:\n",
    "                return False\n",
    "        else:\n",
    "            continue\n",
    "    return not stack\n",
    "\n",
    "s1=\"([)]\"\n",
    "print(ValidP(s1))\n",
    "s2=\"{[]}\"\n",
    "print(ValidP(s2))"
   ]
  },
  {
   "cell_type": "code",
   "execution_count": 314,
   "metadata": {},
   "outputs": [
    {
     "name": "stdout",
     "output_type": "stream",
     "text": [
      "False\n",
      "True\n"
     ]
    }
   ],
   "source": [
    "def ValidP(s):\n",
    "    stack=[]\n",
    "    mp = {\"(\":\")\",\"[\":\"]\",\"{\":\"}\"}\n",
    "    r = [\")\",\"]\",\"}\"]\n",
    "    for c in s:\n",
    "        if c in mp:\n",
    "            stack.append(c)\n",
    "        elif c in r:\n",
    "            if stack:\n",
    "                if c!=mp[stack.pop()]:\n",
    "                    return False\n",
    "            else:\n",
    "                return False\n",
    "        else:\n",
    "            continue\n",
    "    return not stack\n",
    "\n",
    "s1=\"([)]\"\n",
    "print(ValidP(s1))\n",
    "s2=\"{[]}\"\n",
    "print(ValidP(s2))"
   ]
  },
  {
   "cell_type": "code",
   "execution_count": 188,
   "metadata": {},
   "outputs": [
    {
     "name": "stdout",
     "output_type": "stream",
     "text": [
      "current linked digit value= 1\n",
      "current linked digit value= 2\n",
      "current linked digit value= 3\n",
      "current linked digit value= 4\n",
      "current linked digit value= 4\n",
      "current linked digit value= 5\n",
      "current linked digit value= 6\n",
      "current linked digit value= 8\n"
     ]
    }
   ],
   "source": [
    "#21. Merge Two Sorted Lists\n",
    "#recursive\n",
    "def MergeTwoSL(n1,n2):\n",
    "    if not n1 or not n2:\n",
    "        return n1 or n2 \n",
    "    if n1.val < n2.val:\n",
    "        n1.next = MergeTwoSL(n1.next,n2)\n",
    "        return n1\n",
    "    else:\n",
    "        n2.next = MergeTwoSL(n1,n2.next)\n",
    "        return n2\n",
    "\n",
    "def MergeTwoSL2(n1,n2):\n",
    "    head = tmp = ListNode(0)\n",
    "    while n1 and n2:\n",
    "        if n1.val<n2.val:\n",
    "            tmp.next = n1\n",
    "            n1 = n1.next\n",
    "        else:\n",
    "            tmp.next = n2\n",
    "            n2 = n2.next\n",
    "        tmp = tmp.next\n",
    "    tmp.next = n1 or n2\n",
    "    return head.next\n",
    "\n",
    "    \n",
    "node1 = ListNode(1) \n",
    "node2 = ListNode(3) \n",
    "node3 = ListNode(4) \n",
    "node4 = ListNode(5) \n",
    "node1.next=node2\n",
    "node2.next=node3\n",
    "node3.next=node4\n",
    "\n",
    "\n",
    "node11 = ListNode(2) \n",
    "node12 = ListNode(4) \n",
    "node13 = ListNode(6) \n",
    "node14 = ListNode(8) \n",
    "node11.next=node12\n",
    "node12.next=node13\n",
    "node13.next=node14\n",
    "\n",
    "#t = MergeTwoSL(node1,node11)\n",
    "t = MergeTwoSL2(node1,node11)\n",
    "while t is not None:\n",
    "    print(\"current linked digit value=\", t.val)\n",
    "    t = t.next"
   ]
  },
  {
   "cell_type": "code",
   "execution_count": null,
   "metadata": {},
   "outputs": [],
   "source": [
    "def MergeSL(n1,n2):\n",
    "    if not n1 or not n2:\n",
    "        return n1 or n2\n",
    "    if n1.val < n2.val:\n",
    "        n1.next=MergeSL(n1.next,n2)\n",
    "        return n1\n",
    "    if n2.val < n1.val:\n",
    "        n2.next=MergeSL(n1,n2.next)\n",
    "        return n2\n",
    "\n",
    "def MergeSL2(n2,n2):\n",
    "    head = tmp = ListNode(0)\n",
    "    while n1 or n2:\n",
    "        if n1.val < n2.val:\n",
    "            tmp.next = n1\n",
    "            n1 = n1.next\n",
    "        else:\n",
    "            tmp.next = n2\n",
    "            n2 = n2.next\n",
    "        tmp = tmp.next\n",
    "    tmp.next = n1 or n2\n",
    "    return head.next\n"
   ]
  },
  {
   "cell_type": "code",
   "execution_count": 210,
   "metadata": {},
   "outputs": [
    {
     "data": {
      "text/plain": [
       "['((()))', '(()())', '(())()', '()(())', '()()()']"
      ]
     },
     "execution_count": 210,
     "metadata": {},
     "output_type": "execute_result"
    }
   ],
   "source": [
    "#22. Generate Parentheses\n",
    "def GeneParen(n):\n",
    "    def geneP(p,l,r,res=[]):\n",
    "        if l:\n",
    "            geneP(p + \"(\",l-1,r)\n",
    "        if l<r:\n",
    "            geneP(p + \")\",l,r-1)\n",
    "        if not r: \n",
    "            res += p,\n",
    "        return res\n",
    "    return geneP(\"\",n,n)\n",
    "\n",
    "\n",
    "n=3\n",
    "GeneParen(n)\n",
    "#generateParenthesis(n)"
   ]
  },
  {
   "cell_type": "code",
   "execution_count": 367,
   "metadata": {},
   "outputs": [
    {
     "data": {
      "text/plain": [
       "['((()))', 'O', '(()())', 'O', '(())()', 'O', '()(())', 'O', '()()()', 'O']"
      ]
     },
     "execution_count": 367,
     "metadata": {},
     "output_type": "execute_result"
    }
   ],
   "source": [
    "def GeneP(n):\n",
    "    def helper(p,l,r,res=[]):\n",
    "        if l:\n",
    "            helper(p+\"(\",l-1, r)\n",
    "        if l<r:\n",
    "            helper(p+\")\",l,r-1)\n",
    "        if not r:\n",
    "            res += p,\"O\"\n",
    "        return res\n",
    "    \n",
    "    return helper(\"\",n,n)\n",
    "n=3\n",
    "GeneP(n)"
   ]
  },
  {
   "cell_type": "code",
   "execution_count": 329,
   "metadata": {},
   "outputs": [
    {
     "data": {
      "text/plain": [
       "['((()))', '(()())', '(())()', '()(())', '()()()']"
      ]
     },
     "execution_count": 329,
     "metadata": {},
     "output_type": "execute_result"
    }
   ],
   "source": [
    "def GenP(n):\n",
    "    \n",
    "    def GenPhelp(p,l,r, res):\n",
    "        if l:\n",
    "            GenPhelp(p+\"(\", l-1,r, res)\n",
    "        if l<r:\n",
    "            GenPhelp(p+\")\", l, r-1, res)\n",
    "        if not r:\n",
    "            res += p,\n",
    "        return res\n",
    "    res=[]\n",
    "    GenPhelp(\"\", n, n, res)\n",
    "    return res\n",
    "\n",
    "n=3\n",
    "GenP(n)"
   ]
  },
  {
   "cell_type": "code",
   "execution_count": 331,
   "metadata": {},
   "outputs": [
    {
     "name": "stdout",
     "output_type": "stream",
     "text": [
      "[[''], [], [], []]\n"
     ]
    }
   ],
   "source": [
    "class Solution(object):\n",
    "    def generateParenthesis(self, n):\n",
    "        \"\"\"\n",
    "        :type n: int\n",
    "        :rtype: List[str]\n",
    "        \"\"\"\n",
    "        dp = [[] for i in range(n + 1)]\n",
    "        dp[0].append('')\n",
    "        for i in range(n + 1):\n",
    "            for j in range(i):\n",
    "                dp[i] += ['(' + x + ')' + y for x in dp[j] for y in dp[i - j - 1]]\n",
    "        return dp[n]\n",
    "    \n",
    "dp = [[] for i in range(4)]\n",
    "dp[0].append('')\n",
    "print (dp)"
   ]
  },
  {
   "cell_type": "code",
   "execution_count": 212,
   "metadata": {},
   "outputs": [],
   "source": [
    "#23. Merge k Sorted Lists\n",
    "def MergeKSL(ns):\n",
    "    nodes=[]\n",
    "    for k in ns:\n",
    "        while k:\n",
    "            nodes.append(k.val)\n",
    "            k = k.next\n",
    "    head = tmp = ListNode(0)\n",
    "    for t in sorted(nodes):\n",
    "        tmp.next = ListNode(t)\n",
    "        tmp = tmp.next\n",
    "    return head.next\n",
    "\n",
    "def MergeKSL2(ns):\n",
    "    \n",
    "    pq = PriorityQueue()\n",
    "    for k in ns:\n",
    "        if k:\n",
    "            pq.put((k.val, k))\n",
    "    head = tmp = ListNode(0)\n",
    "    while not pq.empty():\n",
    "        val, nd = pq.get()\n",
    "        tmp.next = ListNode(val)\n",
    "        tmp = tmp.next\n",
    "        nd = nd.next\n",
    "        if nd:\n",
    "            pq.put(nd.val, nd)\n",
    "    return head.next\n",
    "        \n"
   ]
  },
  {
   "cell_type": "code",
   "execution_count": null,
   "metadata": {},
   "outputs": [],
   "source": [
    "def MergeKSL(ls):\n",
    "    nodes=[]\n",
    "    for k in ls:\n",
    "        while k: #flatten the nodes\n",
    "            nodes.append(k.val)\n",
    "            k = k.next\n",
    "    head = tmp = ListNode(0)\n",
    "    for i in sorted(notes):\n",
    "        tmp.next = ListNode(i)\n",
    "        tmp = tmp.next\n",
    "    return head.next\n",
    "\n",
    "import queue\n",
    "def MergeKSL2(ls):\n",
    "    pq = queue.PriorityQueue()\n",
    "    for k in ls:\n",
    "        if k:\n",
    "            pq.put((k.val, k))\n",
    "    head = tmp = ListNode(0)\n",
    "    while not pq.empty():\n",
    "        val, nd = pq.get()\n",
    "        tmp.next = ListNode(val)\n",
    "        tmp = tmp.next\n",
    "        nd = nd.next\n",
    "        if nd:\n",
    "            pq.put(nd.val,nd)\n",
    "    return head.next\n",
    "        \n",
    "            \n",
    "    "
   ]
  },
  {
   "cell_type": "code",
   "execution_count": null,
   "metadata": {},
   "outputs": [],
   "source": [
    "#24. Swap Nodes in Pairs\n",
    "    def swapPairs3(self, head):\n",
    "        dummy = pre = ListNode(0)\n",
    "        pre.next = head\n",
    "        while pre.next and pre.next.next:\n",
    "            a = pre.next\n",
    "            b = a.next\n",
    "            pre.next, a.next, b.next = b, b.next, a\n",
    "            pre = a\n",
    "        return dummy.next"
   ]
  },
  {
   "cell_type": "code",
   "execution_count": null,
   "metadata": {},
   "outputs": [],
   "source": [
    "def SwapN(head):\n",
    "    pre = d = ListNode(0)\n",
    "    pre.next = head\n",
    "    while pre.next and prev.next.next:\n",
    "        a = pre.next\n",
    "        b = a.next\n",
    "        pre.next, a.next, b.next = b, b.next, a\n",
    "        pre = a\n",
    "    return d.next"
   ]
  },
  {
   "cell_type": "code",
   "execution_count": null,
   "metadata": {},
   "outputs": [],
   "source": [
    "#25. Reverse node in k groups\n",
    "def reverseKGroup(head, k):\n",
    "    if head:\n",
    "        node = head\n",
    "        for _ in range(k - 1):\n",
    "            node = node.next\n",
    "            if not node:\n",
    "                return head  #if length is shorter than k, return head \n",
    "        prev = self.reverseKGroup(node.next, k)  #call for the next group\n",
    "        while prev is not node: #reverse the head to the node\n",
    "            prev, head.next, head = head, prev, head.next\n",
    "        return prev"
   ]
  },
  {
   "cell_type": "code",
   "execution_count": null,
   "metadata": {},
   "outputs": [],
   "source": [
    "def ReverseKG(head,k):\n",
    "    if head:\n",
    "        nd = head\n",
    "        for i in range(k-1):\n",
    "            nd = nd.next\n",
    "            if not nd:\n",
    "                return head\n",
    "        prev = ReverseKG(nd.next,k)\n",
    "        while prev is not nd:\n",
    "            prev, head.next, head = head, prev, head.next\n",
    "        return prev"
   ]
  },
  {
   "cell_type": "code",
   "execution_count": null,
   "metadata": {},
   "outputs": [],
   "source": [
    "#26. Remove Duplicates from Sorted Array\n",
    "def Dedup(n):\n",
    "    if not n:\n",
    "        print(\"empty array\")\n",
    "        return\n",
    "    t = n[0]\n",
    "    k = 1\n",
    "    for i in range(1,len(n)):\n",
    "        if(n[i]!=t):\n",
    "            n[k]=n[i]\n",
    "            t=n[i]\n",
    "            k += 1\n",
    "    return n[:k]\n",
    "n = [0,0,1,1,1,2,2,3,3,4]\n",
    "Dedup(n)"
   ]
  },
  {
   "cell_type": "code",
   "execution_count": 343,
   "metadata": {},
   "outputs": [
    {
     "name": "stdout",
     "output_type": "stream",
     "text": [
      "[0, 1, 2, 3, 4]\n",
      "[0, 1, 2, 3, 4]\n"
     ]
    }
   ],
   "source": [
    "def DedupSA(n):\n",
    "    if not n:\n",
    "        return (\"empty array\")\n",
    "    tmp, k = n[0], 1\n",
    "    for i in range(1,len(n)):\n",
    "        if n[i]!=tmp:\n",
    "            n[k]=n[i]\n",
    "            tmp=n[i]\n",
    "            k += 1\n",
    "    return n[:k]\n",
    "n = [0,0,1,1,1,2,2,3,3,4,4,4]\n",
    "print(DedupSA(n))\n",
    "\n",
    "def DedupSA2(n):\n",
    "    if not n:\n",
    "        return (\"empty array\")\n",
    "    k = 0\n",
    "    for i in range(1,len(n)):\n",
    "        if n[i]!=n[k]:\n",
    "            k += 1\n",
    "            n[k]=n[i]\n",
    "    return n[:k+1]\n",
    "n = [0,0,1,1,1,2,2,3,3,4,4,4]\n",
    "print(DedupSA2(n))\n"
   ]
  },
  {
   "cell_type": "code",
   "execution_count": null,
   "metadata": {},
   "outputs": [],
   "source": [
    "#27. Remove Element\n",
    "def RemoveVal(n,val):\n",
    "    if not n:\n",
    "        return\n",
    "    k = 0\n",
    "    for i in range(len(n)):\n",
    "        if(n[i]!=val):\n",
    "            n[k]=n[i]\n",
    "            k += 1\n",
    "            \n",
    "    return n[:k]\n",
    "n = [0,1,2,2,3,0,4,2]\n",
    "val = 2\n",
    "RemoveVal(n,val)"
   ]
  },
  {
   "cell_type": "code",
   "execution_count": 345,
   "metadata": {},
   "outputs": [
    {
     "data": {
      "text/plain": [
       "[0, 1, 3, 0, 4]"
      ]
     },
     "execution_count": 345,
     "metadata": {},
     "output_type": "execute_result"
    }
   ],
   "source": [
    "def RemoveE(n,val):\n",
    "    if not n:\n",
    "        return (\"empty list\")\n",
    "    k = 0\n",
    "    for i in range(len(n)):\n",
    "        if n[i]!=val:\n",
    "            n[k]=n[i]\n",
    "            k+=1\n",
    "    return n[:k]\n",
    "n = [0,1,2,2,3,0,4,2]\n",
    "val = 2\n",
    "RemoveE(n,val)"
   ]
  },
  {
   "cell_type": "code",
   "execution_count": null,
   "metadata": {},
   "outputs": [],
   "source": [
    "#28. Implement strStr()\n",
    "# brute force O(mn)\n",
    "def strStr1(self, haystack, needle):\n",
    "    l1, l2 = len(haystack), len(needle)\n",
    "    for i in xrange(l1 - l2 + 1):\n",
    "        if needle == haystack[i:i+l2]:\n",
    "            return i\n",
    "    return -1\n",
    "    \n",
    "# brute force O(mn)\n",
    "def strStr(self, haystack, needle):\n",
    "    l1, l2 = len(haystack), len(needle)\n",
    "    for i in xrange(l1 - l2 + 1):\n",
    "        j = 0\n",
    "        while j < l2 and needle[j] == haystack[i+j]:\n",
    "            j += 1\n",
    "        if j == l2:\n",
    "            return i\n",
    "    return -1\n",
    "\n",
    "s= \"hello\"\n",
    "st = \"ll\"\n",
    "strStr(s,st)\n",
    "s = \"aaaaa\"\n",
    "st = \"bba\"\n",
    "strStr(s,st)"
   ]
  },
  {
   "cell_type": "code",
   "execution_count": 353,
   "metadata": {},
   "outputs": [
    {
     "data": {
      "text/plain": [
       "-1"
      ]
     },
     "execution_count": 353,
     "metadata": {},
     "output_type": "execute_result"
    }
   ],
   "source": [
    "def strStr(s,st):\n",
    "    for j in range(len(s)-len(st)+1):\n",
    "        i = 0\n",
    "        while (i < len(st)) and (s[j+i]==st[i]):\n",
    "            i += 1\n",
    "            if (i == len(st)):\n",
    "                return j\n",
    "    return -1\n",
    "s= \"hello\"\n",
    "st = \"ll\"\n",
    "s = \"aaaaa\"\n",
    "st = \"bba\"\n",
    "strStr(s,st)"
   ]
  },
  {
   "cell_type": "code",
   "execution_count": null,
   "metadata": {},
   "outputs": [],
   "source": [
    "def strStr(haystack, needle):\n",
    "    \"\"\"\n",
    "    :type haystack: str\n",
    "    :type needle: str\n",
    "    :rtype: int\n",
    "    \"\"\"\n",
    "    for i in range(len(haystack) - len(needle)+1):\n",
    "        if haystack[i:i+len(needle)] == needle:\n",
    "            return i\n",
    "    return -1"
   ]
  },
  {
   "cell_type": "code",
   "execution_count": 356,
   "metadata": {},
   "outputs": [
    {
     "data": {
      "text/plain": [
       "-2"
      ]
     },
     "execution_count": 356,
     "metadata": {},
     "output_type": "execute_result"
    }
   ],
   "source": [
    "#29. Divide Two Integers\n",
    "#solution 1: (slow)\n",
    "def DivInt(a,b):\n",
    "    if(a>2**31-1 or a<-2**31 or b>2**31-1 or b<-2**31 or b==0):\n",
    "        print(\"out of range\")\n",
    "        return \n",
    "    count=0\n",
    "    a1 = abs(a)\n",
    "    b1 = abs(b)\n",
    "    while(a1>b1):\n",
    "        a1 -= b1\n",
    "        count += 1\n",
    "    if (a<0 and b>0) or (a>0 and b<0):\n",
    "        count = 0 - count\n",
    "    return count\n",
    "a, b = 10, 3\n",
    "DivInt(a, b)\n",
    "a, b = 7, -3\n",
    "DivInt(a, b)"
   ]
  },
  {
   "cell_type": "code",
   "execution_count": 357,
   "metadata": {},
   "outputs": [
    {
     "data": {
      "text/plain": [
       "-2"
      ]
     },
     "execution_count": 357,
     "metadata": {},
     "output_type": "execute_result"
    }
   ],
   "source": [
    "def DivInt2(a,b):\n",
    "    MAX_INT, MIN_INT=2**31-1,-2**31\n",
    "    if(a>MAX_INT or a<MIN_INT or b>MAX_INT or b<MIN_INT or b==0):\n",
    "        return \"overflow\"\n",
    "    count, a1, b1 = 0, abs(a), abs(b)\n",
    "    \n",
    "    while a1>b1:\n",
    "        a1 = a1-b1\n",
    "        count += 1\n",
    "    \n",
    "    if (a<0 and b>0) or (a>0 and b<0):\n",
    "        count = 0 - count\n",
    "    return count\n",
    "\n",
    "a, b = 7, -3\n",
    "DivInt2(a, b)"
   ]
  },
  {
   "cell_type": "code",
   "execution_count": 358,
   "metadata": {},
   "outputs": [
    {
     "data": {
      "text/plain": [
       "-2"
      ]
     },
     "execution_count": 358,
     "metadata": {},
     "output_type": "execute_result"
    }
   ],
   "source": [
    "def DivInt3(a,b):\n",
    "    MAX_INT, MIN_INT=2**31-1,-2**31\n",
    "    if(a>MAX_INT or a<MIN_INT or b>MAX_INT or b<MIN_INT or b==0):\n",
    "        return \"overflow\"\n",
    "    count, a1, b1 = 0, abs(a), abs(b)\n",
    "    \n",
    "    while a1>b1:\n",
    "        x, i = b1, 1\n",
    "        while a1> x+x:\n",
    "            x += x\n",
    "            i += i\n",
    "        a1 = a1-x\n",
    "        count += i\n",
    "    \n",
    "    if (a<0 and b>0) or (a>0 and b<0):\n",
    "        count = 0 - count\n",
    "    return count\n",
    "\n",
    "a, b = 7, -3\n",
    "DivInt3(a, b)"
   ]
  },
  {
   "cell_type": "code",
   "execution_count": 360,
   "metadata": {},
   "outputs": [
    {
     "name": "stdout",
     "output_type": "stream",
     "text": [
      "[('foo', 'bar'), ('bar', 'foo')]\n"
     ]
    },
    {
     "data": {
      "text/plain": [
       "[9, 0]"
      ]
     },
     "execution_count": 360,
     "metadata": {},
     "output_type": "execute_result"
    }
   ],
   "source": [
    "#30. Substring with Concatenation of All Words\n",
    "#solution 1: internal functions\n",
    "import itertools\n",
    "def SubstrAllWords(s, words):\n",
    "    a = list(itertools.permutations(words))\n",
    "    print(a)\n",
    "    res = []\n",
    "    for i in a:\n",
    "        fdx = s.find(''.join(i))\n",
    "        if(fdx!=-1):\n",
    "            res.append(fdx)\n",
    "    return (res)\n",
    "\n",
    "s = \"barfoothefoobarman\"\n",
    "words = [\"foo\",\"bar\"]\n",
    "#s = \"wordgoodgoodgoodbestword\"\n",
    "#words = [\"word\",\"good\",\"best\",\"word\"]\n",
    "SubstrAllWords(s, words)\n",
    "\n"
   ]
  },
  {
   "cell_type": "code",
   "execution_count": null,
   "metadata": {},
   "outputs": [],
   "source": [
    "def findSubstring(s, words):\n",
    "    if not words: return []\n",
    "    k = len(words[0])\n",
    "    res = []\n",
    "    for left in range(k):\n",
    "        d = collections.Counter(words)\n",
    "        for right in range(left + k, len(s) + 1, k):\n",
    "            word = s[right - k: right]\n",
    "            d[word] -= 1\n",
    "            while d[word] < 0:\n",
    "                d[s[left:left + k]] += 1\n",
    "                left += k\n",
    "            if left + k * len(words) == right:\n",
    "                res.append(left)\n",
    "    return res\n",
    "\n",
    "s = \"barfoothefoobarman\"\n",
    "words = [\"foo\",\"bar\"]\n",
    "findSubstring(s,words)"
   ]
  },
  {
   "cell_type": "code",
   "execution_count": 363,
   "metadata": {},
   "outputs": [
    {
     "data": {
      "text/plain": [
       "[0, 9]"
      ]
     },
     "execution_count": 363,
     "metadata": {},
     "output_type": "execute_result"
    }
   ],
   "source": [
    "def FindSubstr(s,wds):\n",
    "    if not wds: return []\n",
    "    k, res = len(wds[0]), []\n",
    "    for l in range(k):\n",
    "        d = collections.Counter(wds)\n",
    "        for r in range(l+k,len(s)+1,k):\n",
    "            word = s[r-k:r]\n",
    "            d[word] -= 1\n",
    "            while d[word]<0:\n",
    "                d[s[l:l+k]] += 1\n",
    "                l += k\n",
    "            if l + k*len(wds)== r:\n",
    "                res.append(l)\n",
    "    return res\n",
    "s = \"barfoothefoobarman\"\n",
    "wds = [\"foo\",\"bar\"]\n",
    "FindSubstr(s,wds)"
   ]
  },
  {
   "cell_type": "code",
   "execution_count": null,
   "metadata": {},
   "outputs": [],
   "source": [
    "k, res = len(wds[0]),[]\n",
    "for l in range(k):\n",
    "    d = collections.Counter(wds)\n",
    "    for r in range(l+k,len(s+1),k):\n",
    "        word = s[r-k:r]\n",
    "        d[word] -= 1\n",
    "        while d[word]<0:\n",
    "            d[s[l:l+k]] += 1\n",
    "            l += k\n",
    "        if l+k*len(wds)==r:\n",
    "            res.append(l)\n",
    "    return res"
   ]
  }
 ],
 "metadata": {
  "kernelspec": {
   "display_name": "Python 3",
   "language": "python",
   "name": "python3"
  },
  "language_info": {
   "codemirror_mode": {
    "name": "ipython",
    "version": 3
   },
   "file_extension": ".py",
   "mimetype": "text/x-python",
   "name": "python",
   "nbconvert_exporter": "python",
   "pygments_lexer": "ipython3",
   "version": "3.7.6"
  }
 },
 "nbformat": 4,
 "nbformat_minor": 2
}
