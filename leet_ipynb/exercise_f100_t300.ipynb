{
 "cells": [
  {
   "cell_type": "code",
   "execution_count": null,
   "metadata": {},
   "outputs": [],
   "source": [
    "#101. Symmetric Tree\n",
    "class solution:\n",
    "    def dfs(self, l, r):\n",
    "        if l and r:\n",
    "            return l.val==r.val and self.dfs(l.left, r.right) and self.dfs(l.right, r.left)\n",
    "        return l==r\n",
    "        \n",
    "    def isSymTree(self, root):\n",
    "        if not root: return True\n",
    "        return self.dfs(root.left, root.right)\n"
   ]
  },
  {
   "cell_type": "code",
   "execution_count": null,
   "metadata": {},
   "outputs": [],
   "source": [
    "#102. Binary Tree Level Order Traversal\n",
    "class solution:\n",
    "    def levelOrder(self,root):\n",
    "        from collection import deque\n",
    "        res,queue=[],deque([(root,0)])\n",
    "        while queue:\n",
    "            cur,level=queue.popleft()\n",
    "            if cur:\n",
    "                if len(res)<level+1:\n",
    "                    res.append([])\n",
    "                res[level].append(cur.val)\n",
    "                queue.append((cur.left,level+1))\n",
    "                queue.append((cur.right,level+1))\n",
    "        return res\n"
   ]
  },
  {
   "cell_type": "code",
   "execution_count": null,
   "metadata": {},
   "outputs": [],
   "source": [
    "#103. Binary Tree Zigzag Level Order Traversal\n",
    "class solution:\n",
    "    def zigzagLevelOrder(self,root):\n",
    "        from collection import deque\n",
    "        res,queue=[],deque([(root,0)])\n",
    "        while queue:\n",
    "            cur,level=queue.popleft()\n",
    "            if cur:\n",
    "                if len(res)<level+1:\n",
    "                    res.append([])\n",
    "                if level%2==0:\n",
    "                    res[level].append(cur.val)\n",
    "                else:\n",
    "                    res[level].insert(0, cur.val)\n",
    "                queue.append((cur.left,level+1))\n",
    "                queue.append((cur.right,level+1))\n",
    "        return res"
   ]
  },
  {
   "cell_type": "code",
   "execution_count": null,
   "metadata": {},
   "outputs": [],
   "source": [
    "#104. Maximum Depth of Binary Tree\n",
    "class solution:\n",
    "    def maxDepth(self,root):\n",
    "        if not root: return 0\n",
    "        else:\n",
    "            return max(self.maxDepth(root.left),self.maxDepth(root.right))+1\n",
    "    "
   ]
  },
  {
   "cell_type": "code",
   "execution_count": null,
   "metadata": {},
   "outputs": [],
   "source": [
    "#105. Construct Binary Tree from Preorder and Inorder Traversal\n",
    "class solution:\n",
    "    def buildTreePreInOrder(self,preorder,inorder):\n",
    "        root = TreeNode(preorder.pop(0))\n",
    "        ind = inorder.index(root.val)\n",
    "        root.left = self.buildTreePreInOrder(preorder,inorder[:ind])\n",
    "        root.right = self.buildTreePreInOrder(preorder,inorder[ind+1:])\n",
    "        return root\n",
    "    "
   ]
  },
  {
   "cell_type": "code",
   "execution_count": null,
   "metadata": {},
   "outputs": [],
   "source": [
    "#106. Construct Binary Tree from Inorder and Postorder Traversal\n",
    "class solution:\n",
    "    def buildTreeInPostOrder(self,inorder,postorder):\n",
    "        root = TreeNode(postorder.pop())\n",
    "        ind = inorder.index(root.val)\n",
    "        root.right=self.buildTreeInPostOrder(inorder[ind+1:],postorder)\n",
    "        root.left=self.buildTreeInPostOrder(inorder[:ind],postorder)\n",
    "        return root\n",
    "    "
   ]
  },
  {
   "cell_type": "code",
   "execution_count": null,
   "metadata": {},
   "outputs": [],
   "source": [
    "#107. Binary Tree Level Order Traversal II\n",
    "class solution:\n",
    "    def bottomUpOrder(self,root):\n",
    "        res,stack=[],[(root,0)]\n",
    "        while stack:\n",
    "            cur,level=stack.pop()\n",
    "            if cur:\n",
    "                if len(res)<level+1:\n",
    "                    res.insrt(0,[])\n",
    "                res[-(level+1)].append(cur.val)\n",
    "                stack.append((cur.right,level+1))\n",
    "                stack.append((cur.left,level+1))\n",
    "        return res"
   ]
  },
  {
   "cell_type": "code",
   "execution_count": null,
   "metadata": {},
   "outputs": [],
   "source": [
    "#108. Convert Sorted Array to Binary Search Tree\n",
    "class solution:\n",
    "    def sortedArrangeToBST(self,nums):\n",
    "        l,r=0,len(nums)-1\n",
    "        if l<=r:\n",
    "            mid=(l+r)//2\n",
    "            root=TreeNode(nums[mid])\n",
    "            root.left=self.sortedArrangeToBST(nums[:mid])\n",
    "            root.right=self.sortedArrangeToBST(nums[mid+1:])\n",
    "            return root\n",
    "        "
   ]
  },
  {
   "cell_type": "code",
   "execution_count": null,
   "metadata": {},
   "outputs": [],
   "source": [
    "#109. Convert Sorted Linked List to Binary Search Tree\n",
    "class solution:\n",
    "    def sortedLLToBST(self,head):\n",
    "        if not head: return\n",
    "        if not head.next: return TreeNode(head.val)\n",
    "        slow,fast=head,head.next.next\n",
    "        while fast and fast.next:\n",
    "            fast=fast.next.next\n",
    "            slow=slow.next\n",
    "        tmp = slow.next\n",
    "        slow.next=None\n",
    "        root=TreeNode(tmp.val)\n",
    "        root.left=self.sortedLLToBST(head)\n",
    "        root.right=self.sortedLLToBST(tmp.next)\n",
    "        return root"
   ]
  },
  {
   "cell_type": "code",
   "execution_count": null,
   "metadata": {},
   "outputs": [],
   "source": [
    "#110. Balanced Binary Tree\n",
    "class solution:\n",
    "    def isBalanced(self,root):\n",
    "        def getDepth(node):\n",
    "            if not node: return 0\n",
    "            dep, stack=1,[(node,1)]\n",
    "            while stack:\n",
    "                cur,dep=stack.pop(0)\n",
    "                if cur.left:\n",
    "                    stack.append((cur.left,dep+1))\n",
    "                if cur.right:\n",
    "                    stack.append((cur.right,dep+1))\n",
    "            return dep\n",
    "        \n",
    "        if not root: return True\n",
    "        l = getDepth(root.left)\n",
    "        r = getDepth(root.right)\n",
    "        return abs(l-r)<2 and self.isBalanced(root.left) and self.isBalanced(root.right)\n",
    "    "
   ]
  },
  {
   "cell_type": "code",
   "execution_count": null,
   "metadata": {},
   "outputs": [],
   "source": [
    "#111. Minimum Depth of Binary Tree\n",
    "class solution:\n",
    "    def minDepthOfBT(self,root):\n",
    "        from collection import deque\n",
    "        if not root: return 0\n",
    "        queue=deque([(root,1)])\n",
    "        while queue:\n",
    "            cur,level=queue.popleft()\n",
    "            if cur:\n",
    "                if not cur.left and not cur.right:\n",
    "                    return level\n",
    "                else:\n",
    "                    queue.append((cur.left,level+1))\n",
    "                    queue.append((cur.right,level+1))\n",
    "        return res"
   ]
  },
  {
   "cell_type": "code",
   "execution_count": null,
   "metadata": {},
   "outputs": [],
   "source": [
    "#112. Path Sum\n",
    "#verify\n",
    "class solution:\n",
    "    def hasPathSum(self,root,sum):\n",
    "        if not root: return False\n",
    "        stack =[(root,sum)]\n",
    "        while stack:\n",
    "            cur,cursum=stack.pop()\n",
    "            if not cur.left and not cur.right and cur.val==cursum:\n",
    "                return True\n",
    "            if cur.left:\n",
    "                stack.append((cur.left,cursum-cur.val))\n",
    "            if cur.right:\n",
    "                stack.append((cur.right,cursum-cur.val))\n",
    "        return False\n"
   ]
  },
  {
   "cell_type": "code",
   "execution_count": null,
   "metadata": {},
   "outputs": [],
   "source": [
    "#113. Path Sum II\n",
    "#look for path\n",
    "class solution:\n",
    "    def pathSum(self,root,sum):\n",
    "        if not root: return []\n",
    "        res=[]\n",
    "        self.dfs(root,sum,[],res)\n",
    "        return res\n",
    "    def dfs(self,root,path,res):\n",
    "        if not root.left and not root.right and sum==root.val:\n",
    "            path.append(root.val)\n",
    "            res.append(path)\n",
    "        if root.left:\n",
    "            self.dfs(root.left,sum-root.val,path+[root.val], res)\n",
    "        if root.right:\n",
    "            self.dfs(root.right,sum-root.val,path+[root.val], res)\n"
   ]
  },
  {
   "cell_type": "code",
   "execution_count": null,
   "metadata": {},
   "outputs": [],
   "source": [
    "#114. Flatten Binary Tree to Linked List\n",
    "#move left child as the parents of the right child\n",
    "class solution:\n",
    "    def flattenBTtoLL(self,root):\n",
    "        def dfs(root):\n",
    "            if not root: return \n",
    "            left = dfs(root.left)\n",
    "            right = dfs(root.right)\n",
    "            if not left and not right: \n",
    "                return root\n",
    "            elif not right:\n",
    "                root.right=root.left\n",
    "                root.left=None\n",
    "                return left\n",
    "            elif not left:\n",
    "                return right\n",
    "            else:\n",
    "                tmp = root.right\n",
    "                root.right=root.left\n",
    "                root.left=None\n",
    "                left.right=tmp\n",
    "                return right\n",
    "        dfs(root)\n",
    "        "
   ]
  },
  {
   "cell_type": "code",
   "execution_count": null,
   "metadata": {},
   "outputs": [],
   "source": [
    "#115. Distinct Subsequences\n",
    "#Given a string S and a string T, count the number of distinct subsequences of S which equals T.\n",
    "#DP\n",
    "class solution:\n",
    "    def numDistinct(self,s,t):\n",
    "        m,n=len(s)+1,len(t)+1\n",
    "        dp=[[1]*n for _ in range(m)]\n",
    "        for j in range(1,n):\n",
    "            dp[0][j]=0\n",
    "        for i in range(1,m):\n",
    "            for j in range(1,n):\n",
    "                dp[i][j]=dp[i-1][j]+dp[i-1][j-1]*(s[i-1]==t[j-1])\n",
    "        return dp[-1][-1]\n",
    "        "
   ]
  },
  {
   "cell_type": "code",
   "execution_count": 2,
   "metadata": {},
   "outputs": [
    {
     "name": "stdout",
     "output_type": "stream",
     "text": [
      "[[1, 1, 1, 1, 1], [1, 1, 1, 1, 1], [1, 1, 1, 1, 1]]\n",
      "[[1, 0, 0, 0, 0], [1, 1, 1, 1, 1], [1, 1, 1, 1, 1]]\n"
     ]
    }
   ],
   "source": [
    "n,m=5,3\n",
    "dp=[[1]*n for _ in range(m)]\n",
    "print(dp)\n",
    "for j in range(1,n):\n",
    "    dp[0][j]=0\n",
    "print(dp)"
   ]
  },
  {
   "cell_type": "code",
   "execution_count": null,
   "metadata": {},
   "outputs": [],
   "source": [
    "#intuition\n",
    "class solution:\n",
    "    def numDistinct(self,s,t, memo={}, res=0):\n",
    "        if not t: return 1\n",
    "        if not s and t: return 0\n",
    "        if (s,t) in memo: return memo[s,t]\n",
    "        for i in range(len(s)):\n",
    "            if t[0]==s[i]:\n",
    "                res += self.numDistinct(s[i+1:], t[1:], memo)\n",
    "        memo[s,t] = res\n",
    "        return memo[s,t]"
   ]
  },
  {
   "cell_type": "code",
   "execution_count": null,
   "metadata": {},
   "outputs": [],
   "source": [
    "#116. Populating Next Right Pointers in Each Node\n",
    "#Populate each next pointer to point to its next right node.\n",
    "class solution:\n",
    "    def connect(self,root):\n",
    "        if not root: return \n",
    "        stack=[root]\n",
    "        while stack:\n",
    "            cur=stack.pop()\n",
    "            if cur.left and cur.right:\n",
    "                cur.left.next=cur.right\n",
    "                if cur.next:\n",
    "                    cur.right.next=cur.next.left\n",
    "                stack.append(cur.right)\n",
    "                stack.append(cur.left)"
   ]
  },
  {
   "cell_type": "code",
   "execution_count": null,
   "metadata": {},
   "outputs": [],
   "source": [
    "#117. Populating Next Right Pointers in Each Node II\n",
    "class solution:\n",
    "    def connect(self,root):\n",
    "        from collections import deque\n",
    "        if not root: return \n",
    "        queue=collections.deque([root])\n",
    "        nextL = collections.deque([])\n",
    "        while queue:\n",
    "            cur=queue.popleft()\n",
    "            if cur.left:\n",
    "                nextL.append(cur.left)\n",
    "            if cur.right:\n",
    "                nextL.append(cur.right)\n",
    "            if queue:\n",
    "                cur.next=queue[0]\n",
    "            if not queue:\n",
    "                queue,nextL=nextL,queue\n",
    "            "
   ]
  },
  {
   "cell_type": "code",
   "execution_count": null,
   "metadata": {},
   "outputs": [],
   "source": [
    "#alternative\n",
    "class solution:\n",
    "    def connect(self, root):\n",
    "        while root:\n",
    "            cur = tmp = TreeLinkNode(0)\n",
    "            while root:\n",
    "                if root.left:\n",
    "                    cur.next = root.left\n",
    "                    cur = root.left\n",
    "                if root.right:\n",
    "                    cur.next = root.right\n",
    "                    cur = root.right\n",
    "                root = root.next\n",
    "            root = tmp.next"
   ]
  },
  {
   "cell_type": "code",
   "execution_count": null,
   "metadata": {},
   "outputs": [],
   "source": []
  },
  {
   "cell_type": "code",
   "execution_count": null,
   "metadata": {},
   "outputs": [],
   "source": []
  },
  {
   "cell_type": "code",
   "execution_count": null,
   "metadata": {},
   "outputs": [],
   "source": []
  },
  {
   "cell_type": "code",
   "execution_count": null,
   "metadata": {},
   "outputs": [],
   "source": []
  },
  {
   "cell_type": "code",
   "execution_count": null,
   "metadata": {},
   "outputs": [],
   "source": []
  },
  {
   "cell_type": "code",
   "execution_count": null,
   "metadata": {},
   "outputs": [],
   "source": []
  },
  {
   "cell_type": "code",
   "execution_count": null,
   "metadata": {},
   "outputs": [],
   "source": []
  },
  {
   "cell_type": "code",
   "execution_count": null,
   "metadata": {},
   "outputs": [],
   "source": []
  }
 ],
 "metadata": {
  "kernelspec": {
   "display_name": "Python 3",
   "language": "python",
   "name": "python3"
  },
  "language_info": {
   "codemirror_mode": {
    "name": "ipython",
    "version": 3
   },
   "file_extension": ".py",
   "mimetype": "text/x-python",
   "name": "python",
   "nbconvert_exporter": "python",
   "pygments_lexer": "ipython3",
   "version": "3.7.6"
  }
 },
 "nbformat": 4,
 "nbformat_minor": 2
}
