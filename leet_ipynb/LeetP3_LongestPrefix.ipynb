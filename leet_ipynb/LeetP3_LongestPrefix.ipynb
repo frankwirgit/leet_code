{
 "cells": [
  {
   "cell_type": "code",
   "execution_count": null,
   "metadata": {},
   "outputs": [],
   "source": [
    "#Leetcode problem Part III \n",
    "#(2,14,17,19,20,21,22,23)\n",
    "#Add Two Numbers (linked list)\n",
    "#Longest common prefix string among an array of strings.\n",
    "#Letter Combinations of a Phone Number\n",
    "#Remove Nth Node From End of List\n",
    "#Valid Parentheses\n",
    "#Merge Two Sorted Lists\n",
    "#Generate Parentheses \n",
    "#Merge k sorted linked lists and return it as one sorted list.\n",
    "\n",
    "\n",
    "#=====\n",
    "#Class for ListNode\n",
    "#Class for singly-linked list.\n",
    "#Class for double linked list\n",
    "#Python learning - zip()\n"
   ]
  },
  {
   "cell_type": "code",
   "execution_count": 23,
   "metadata": {},
   "outputs": [
    {
     "data": {
      "text/plain": [
       "['((()))', '(()())', '(())()', '()(())', '()()()']"
      ]
     },
     "execution_count": 23,
     "metadata": {},
     "output_type": "execute_result"
    }
   ],
   "source": [
    "22.\n",
    "#Given n pairs of parentheses, write a function to generate all combinations of well-formed parentheses.\n",
    "class Solution:\n",
    "    def generateParenthesis(self, n):\n",
    "        count=0\n",
    "        def generate(p, left, right, parens=[]):\n",
    "            if left:\n",
    "                #print(\"generate(p+,\"+str(left-1)+\",\"+str(right)+\")\")\n",
    "                generate(p + '(', left-1, right)\n",
    "                #print(\"left\", p)\n",
    "            if right > left: \n",
    "                generate(p + ')', left, right-1)\n",
    "                #print(\"right\",p)\n",
    "            if not right: parens += p,\n",
    "            return parens\n",
    "        return generate('', n, n)\n",
    "\n",
    "n=3\n",
    "a = Solution()\n",
    "a.generateParenthesis(n)"
   ]
  },
  {
   "cell_type": "code",
   "execution_count": 174,
   "metadata": {},
   "outputs": [
    {
     "data": {
      "text/plain": [
       "['((()))', '(()())', '(())()', '()(())', '()()()']"
      ]
     },
     "execution_count": 174,
     "metadata": {},
     "output_type": "execute_result"
    }
   ],
   "source": [
    "class Solution:\n",
    "    def generateParenthesis(self, n):\n",
    "        def generate(p, left, right):\n",
    "            if right >= left >= 0:\n",
    "                if not right:\n",
    "                    yield p\n",
    "                for q in generate(p + '(', left-1, right): yield q\n",
    "                for q in generate(p + ')', left, right-1): yield q\n",
    "        return list(generate('', n, n))\n",
    "n=3\n",
    "b = Solution()\n",
    "b.generateParenthesis(n)"
   ]
  },
  {
   "cell_type": "code",
   "execution_count": 175,
   "metadata": {},
   "outputs": [
    {
     "data": {
      "text/plain": [
       "['((()))', '(()())', '(())()', '()(())', '()()()']"
      ]
     },
     "execution_count": 175,
     "metadata": {},
     "output_type": "execute_result"
    }
   ],
   "source": [
    "class Solution:\n",
    "    def generateParenthesis(self, n, open=0):\n",
    "        if n > 0 <= open:\n",
    "            return ['(' + p for p in self.generateParenthesis(n-1, open+1)] + \\\n",
    "                   [')' + p for p in self.generateParenthesis(n, open-1)]\n",
    "        return [')' * open] * (not n) #n==0, open= number of \"(\" opened\n",
    "n=3\n",
    "c = Solution()\n",
    "c.generateParenthesis(n)\n"
   ]
  },
  {
   "cell_type": "code",
   "execution_count": 5,
   "metadata": {},
   "outputs": [
    {
     "data": {
      "text/plain": [
       "['((()))', '(()())', '(())()', '()(())', '()()()']"
      ]
     },
     "execution_count": 5,
     "metadata": {},
     "output_type": "execute_result"
    }
   ],
   "source": [
    "class Solution:\n",
    "    def generateParenthesis(self, n: int):\n",
    "        bfs = [(0, 0, '')]\n",
    "        for _ in range(n * 2):\n",
    "            new = []\n",
    "            for l, r, s in bfs:\n",
    "                if l + 1 <= n:\n",
    "                    new.append((l + 1, r, s + '('))\n",
    "                if l - r:\n",
    "                    new.append((l, r + 1, s + ')'))\n",
    "            bfs = new\n",
    "            #print(new)\n",
    "        return [s for l, r, s in bfs]\n",
    "n=3\n",
    "d = Solution()\n",
    "d.generateParenthesis(n)\n"
   ]
  },
  {
   "cell_type": "code",
   "execution_count": 22,
   "metadata": {},
   "outputs": [
    {
     "name": "stdout",
     "output_type": "stream",
     "text": [
      "[1, 2, 3, 4, 4, 5, 6, 8]\n"
     ]
    }
   ],
   "source": [
    "#Merge Two Sorted Lists\n",
    "# Function to merge two sorted arrays \n",
    "from heapq import merge \n",
    "  \n",
    "def mergeArray(arr1,arr2): \n",
    "    return list(merge(arr1, arr2)) \n",
    "  \n",
    "# Driver function \n",
    "if __name__ == \"__main__\": \n",
    "    arr1 = [1,3,4,5]   \n",
    "    arr2 = [2,4,6,8] \n",
    "    print (mergeArray(arr1, arr2))"
   ]
  },
  {
   "cell_type": "code",
   "execution_count": 13,
   "metadata": {},
   "outputs": [
    {
     "name": "stdout",
     "output_type": "stream",
     "text": [
      "OK\n",
      "deque([1, 2, 4, 1, 3, 4])\n"
     ]
    }
   ],
   "source": [
    "#Merge Two Sorted Lists\n",
    "from collections import deque\n",
    "tmp=None\n",
    "if(not tmp):\n",
    "    print(\"OK\")\n",
    "else:\n",
    "    print(\"none\")\n",
    "d1 = deque([1,2,4])\n",
    "d2 = deque([1,3,4])\n",
    "d1 += d2\n",
    "print(d1)"
   ]
  },
  {
   "cell_type": "code",
   "execution_count": 158,
   "metadata": {},
   "outputs": [
    {
     "name": "stdout",
     "output_type": "stream",
     "text": [
      "deque([])\n",
      "deque([1, 1, 2, 3, 4, 6, 7, 9])\n"
     ]
    }
   ],
   "source": [
    "#Merge Two Sorted Lists\n",
    "from collections import deque\n",
    "d1 = deque([1,3,4,6,7])\n",
    "d2 = deque([1,2,9])\n",
    "d3 = deque([])\n",
    "\n",
    "print(d3)\n",
    "tmp1 = None\n",
    "tmp2 = None\n",
    "while d1 or d2:\n",
    "    #pop only when the previous poped ones are consumed\n",
    "    if (not tmp1) and d1:\n",
    "        tmp1 = d1.popleft()\n",
    "    if (not tmp2) and d2:\n",
    "        tmp2 = d2.popleft()\n",
    "    \n",
    "    #consume the poped ones\n",
    "    if tmp1 and tmp2:\n",
    "        if(tmp1<=tmp2):\n",
    "            d3.append(tmp1)\n",
    "            tmp1 = None\n",
    "        else:\n",
    "            d3.append(tmp2)\n",
    "            tmp2 = None\n",
    "            \n",
    "    #check if one deque is empty, then add the other poped one and the rest of the non-empty deque\n",
    "    if (not tmp1) and (not d1) and d2:\n",
    "        if (tmp2):\n",
    "            d3.append(tmp2)\n",
    "            tmp2 = None\n",
    "        d3 += d2\n",
    "        break\n",
    "    elif (not tmp2) and (not d2) and d1:\n",
    "        if (tmp1):\n",
    "            d3.append(tmp1)\n",
    "            tmp1 = None\n",
    "        d3 += d1\n",
    "        break\n",
    "    elif (not d1) and (not d2):\n",
    "        if(tmp1):\n",
    "            d3.append(tmp1)\n",
    "            tmp1 = None\n",
    "        elif(tmp2):\n",
    "            d3.append(tmp2)\n",
    "            tmp2 = None\n",
    "\n",
    "print(d3)\n",
    "    "
   ]
  },
  {
   "cell_type": "code",
   "execution_count": null,
   "metadata": {},
   "outputs": [],
   "source": [
    "#recursive 1:\n",
    "#If both lists are non-empty, I first make sure a starts smaller, use its head as result, and merge the remainders behind it. Otherwise, i.e., if one or both are empty, I just return what's there.\n",
    "class Solution:\n",
    "    def mergeTwoLists(self, a, b):\n",
    "        if a and b:\n",
    "            if a.val > b.val:\n",
    "                a, b = b, a\n",
    "            a.next = self.mergeTwoLists(a.next, b)\n",
    "        return a or b\n",
    "#recursive 2:\n",
    "#First make sure that a is the \"better\" one (meaning b is None or has larger/equal value). Then merge the remainders behind a.\n",
    "\n",
    "def mergeTwoLists(self, a, b):\n",
    "    if not a or b and a.val > b.val:\n",
    "        a, b = b, a\n",
    "    if a:\n",
    "        a.next = self.mergeTwoLists(a.next, b)\n",
    "    return a"
   ]
  },
  {
   "cell_type": "code",
   "execution_count": null,
   "metadata": {},
   "outputs": [],
   "source": [
    "class Solution:\n",
    "    def mergeTwoLists(self, l1, l2):\n",
    "        dummy = head = ListNode(0)\n",
    "        while l1 or l2:\n",
    "            num1, num2 = l1.val if l1 else float(\"inf\"), l2.val if l2 else float(\"inf\")\n",
    "            if num1 < num2: head.next, l1 = ListNode(num1), l1.next\n",
    "            else: head.next, l2 = ListNode(num2), l2.next\n",
    "            head = head.next\n",
    "        return dummy.next"
   ]
  },
  {
   "cell_type": "code",
   "execution_count": null,
   "metadata": {},
   "outputs": [],
   "source": [
    "#Definition for singly-linked list.\n",
    "class ListNode:\n",
    "    def __init__(self, x):\n",
    "        self.val = x\n",
    "        self.next = None\n",
    "\n",
    "class Solution:\n",
    "    # @param two ListNodes\n",
    "    # @return a ListNode\n",
    "    def mergeTwoLists(self, l1, l2):\n",
    "        result = ListNode(-1)\n",
    "        cur = result\n",
    "        while(l1 and l2):\n",
    "            if l1.val <= l2.val:\n",
    "                cur.next = l1\n",
    "                l1 = l1.next\n",
    "            else:\n",
    "                cur.next = l2\n",
    "                l2 = l2.next\n",
    "            cur = cur.next\n",
    "        l3 = l1 and l1 or l2 #l3=l1 if not l2, else l3=l2\n",
    "        cur.next = l3\n",
    "        return result.next;"
   ]
  },
  {
   "cell_type": "code",
   "execution_count": null,
   "metadata": {},
   "outputs": [],
   "source": [
    "# iteratively\n",
    "def mergeTwoLists1(self, l1, l2):\n",
    "    dummy = cur = ListNode(0)\n",
    "    while l1 and l2:\n",
    "        if l1.val < l2.val:\n",
    "            cur.next = l1\n",
    "            l1 = l1.next\n",
    "        else:\n",
    "            cur.next = l2\n",
    "            l2 = l2.next\n",
    "        cur = cur.next\n",
    "    cur.next = l1 or l2\n",
    "    return dummy.next\n",
    "    \n",
    "# recursively    \n",
    "def mergeTwoLists2(self, l1, l2):\n",
    "    if not l1 or not l2:\n",
    "        return l1 or l2\n",
    "    if l1.val < l2.val:\n",
    "        l1.next = self.mergeTwoLists(l1.next, l2)\n",
    "        return l1\n",
    "    else:\n",
    "        l2.next = self.mergeTwoLists(l1, l2.next)\n",
    "        return l2\n",
    "        \n",
    "# in-place, iteratively        \n",
    "def mergeTwoLists(self, l1, l2):\n",
    "    if None in (l1, l2):\n",
    "        return l1 or l2\n",
    "    dummy = cur = ListNode(0)\n",
    "    dummy.next = l1\n",
    "    while l1 and l2:\n",
    "        if l1.val < l2.val:\n",
    "            l1 = l1.next\n",
    "        else:\n",
    "            nxt = cur.next\n",
    "            cur.next = l2\n",
    "            tmp = l2.next\n",
    "            l2.next = nxt\n",
    "            l2 = tmp\n",
    "        cur = cur.next\n",
    "    cur.next = l1 or l2\n",
    "    return dummy.next"
   ]
  },
  {
   "cell_type": "code",
   "execution_count": null,
   "metadata": {},
   "outputs": [],
   "source": [
    "#Merge k sorted linked lists and return it as one sorted list.\n",
    "#solution 1: brute force - collect all node of K lists, then sort the collection and make it as linked list\n",
    "class Solution(object):\n",
    "    def mergeKLists(self, lists):\n",
    "        \"\"\"\n",
    "        :type lists: List[ListNode]\n",
    "        :rtype: ListNode\n",
    "        \"\"\"\n",
    "        self.nodes = []\n",
    "        head = point = ListNode(0)\n",
    "        for k in lists:\n",
    "            while k:\n",
    "                self.nodes.append(k.val)\n",
    "                k = k.next\n",
    "        for x in sorted(self.nodes):\n",
    "            point.next = ListNode(x)\n",
    "            point = point.next\n",
    "        return head.next"
   ]
  },
  {
   "cell_type": "code",
   "execution_count": 24,
   "metadata": {},
   "outputs": [],
   "source": [
    "#solution 2: compare K nodes, use the priority queue\n",
    "#from Queue import PriorityQueue\n",
    "class Solution(object):\n",
    "    def mergeKLists(self, lists):\n",
    "        \"\"\"\n",
    "        :type lists: List[ListNode]\n",
    "        :rtype: ListNode\n",
    "        \"\"\"\n",
    "        head = point = ListNode(0)\n",
    "        q = PriorityQueue()\n",
    "        for k in lists:\n",
    "            if k:\n",
    "                q.put((k.val, k))\n",
    "        while not q.empty():\n",
    "            val, node = q.get() #pop up the smallest one\n",
    "            point.next = ListNode(val)\n",
    "            point = point.next\n",
    "            node = node.next\n",
    "            if node:\n",
    "                q.put((node.val, node))\n",
    "        return head.next"
   ]
  },
  {
   "cell_type": "code",
   "execution_count": 25,
   "metadata": {},
   "outputs": [],
   "source": [
    "#solution 3: use heapq data structure = priority queue a[k]<=a[2*k+1], a[2*k+2]\n",
    "def mergeKLists(self, lists):\n",
    "    def vals(node):\n",
    "        while node:\n",
    "            yield node.val\n",
    "            node = node.next\n",
    "    dummy = last = ListNode(None)\n",
    "    for val in heapq.merge(*map(vals, lists)):\n",
    "        last.next = last = ListNode(val)\n",
    "    return dummy.next"
   ]
  },
  {
   "cell_type": "code",
   "execution_count": null,
   "metadata": {},
   "outputs": [],
   "source": [
    "#Divide Conquer\n",
    "#Just use merge sort's idea to divide k lists and merge each two lists recursively. Time complexity is O(nlogk) assuming n is the total number of nodes.\n",
    "\n",
    "def mergeKLists(self, lists):\n",
    "    def merge(l1, l2):\n",
    "        p = head = ListNode(0) # dummy node\n",
    "        while l1 or l2:\n",
    "            if l1 and l2:\n",
    "                if l1.val <= l2.val:\n",
    "                    p.next = l1\n",
    "                    l1 = l1.next\n",
    "                else:\n",
    "                    p.next = l2\n",
    "                    l2 = l2.next\n",
    "                p = p.next\n",
    "                    \n",
    "            elif l1 is None:\n",
    "                p.next = l2\n",
    "                break\n",
    "            elif l2 is None:\n",
    "                p.next = l1\n",
    "                break        \n",
    "        return head.next\n",
    "            \n",
    "    def divide(lists, start, end):\n",
    "        if start == end:\n",
    "            return lists[start]\n",
    "        mid = start + (end - start) / 2\n",
    "        l1 = divide(lists, start, mid)\n",
    "        l2 = divide(lists, mid + 1, end)\n",
    "        return merge(l1, l2)\n",
    "        \n",
    "    return divide(lists, 0, len(lists) - 1) if lists else []\n",
    "\n",
    "#K heap\n",
    "#Use a heap of size k to pop the smallest element from each list and push the next element into the heap util every element is in and out from the heap.\n",
    "\n",
    "def mergeKLists(self, lists):\n",
    "    \"\"\"\n",
    "    :type lists: List[ListNode]\n",
    "    :rtype: ListNode\n",
    "    \"\"\"\n",
    "    import heapq\n",
    "    p = dummy = ListNode(-1)\n",
    "    h = []\n",
    "    for i in range(len(lists)):\n",
    "        if lists[i] > 0:\n",
    "            heapq.heappush(h, (lists[i].val, lists[i]))\n",
    "    \n",
    "    while h:\n",
    "        curr = heapq.heappop(h)\n",
    "        currlist = curr[1]\n",
    "        p.next = currlist\n",
    "        p = p.next\n",
    "        if currlist.next:\n",
    "            heapq.heappush(h, (currlist.next.val, currlist.next))\n",
    "    \n",
    "    return dummy.next"
   ]
  },
  {
   "cell_type": "code",
   "execution_count": 18,
   "metadata": {},
   "outputs": [
    {
     "name": "stdout",
     "output_type": "stream",
     "text": [
      "<itertools.permutations object at 0x104f34d00>\n",
      "[(1, 2, 3), (1, 2, 4), (1, 3, 4), (2, 3, 4)]\n"
     ]
    }
   ],
   "source": [
    "import itertools\n",
    "horses = [1, 2, 3, 4]\n",
    "races = itertools.permutations(horses)\n",
    "print(races)\n",
    "#print(list(itertools.permutations(horses)))\n",
    "print(list(itertools.combinations(horses,3)))"
   ]
  },
  {
   "cell_type": "code",
   "execution_count": null,
   "metadata": {},
   "outputs": [],
   "source": [
    "#Valid Parentheses\n",
    "class Solution(object):\n",
    "    def isValid(self, s):\n",
    "        \"\"\"\n",
    "        :type s: str\n",
    "        :rtype: bool\n",
    "        \"\"\"\n",
    "        # The stack to keep track of opening brackets.\n",
    "        stack = []\n",
    "        # Hash map for keeping track of mappings. This keeps the code very clean.\n",
    "        # Also makes adding more types of parenthesis easier\n",
    "        mapping = {\")\": \"(\", \"}\": \"{\", \"]\": \"[\"}\n",
    "        # For every bracket in the expression.\n",
    "        for char in s:\n",
    "            # If the character is an closing bracket\n",
    "            if char in mapping:\n",
    "                # Pop the topmost element from the stack, if it is non empty\n",
    "                # Otherwise assign a dummy value of '#' to the top_element variable\n",
    "                top_element = stack.pop() if stack else '#'\n",
    "                # The mapping for the opening bracket in our hash and the top\n",
    "                # element of the stack don't match, return False\n",
    "                if mapping[char] != top_element:\n",
    "                    return False\n",
    "            else:\n",
    "                # We have an opening bracket, simply push it onto the stack.\n",
    "                stack.append(char)\n",
    "        # In the end, if the stack is empty, then we have a valid expression.\n",
    "        # The stack won't be empty for cases like ((()\n",
    "        return not stack"
   ]
  },
  {
   "cell_type": "code",
   "execution_count": 6,
   "metadata": {},
   "outputs": [
    {
     "name": "stdout",
     "output_type": "stream",
     "text": [
      "(\n",
      "{\n",
      "[\n",
      ")\n",
      "}\n",
      "]\n",
      "yes\n"
     ]
    }
   ],
   "source": [
    "map1 = {\"(\": \")\", \"{\": \"}\", \"[\": \"]\"}\n",
    "for char in map1:\n",
    "    print(char)\n",
    "lst = [\")\",\"}\",\"]\"]\n",
    "for j in lst:\n",
    "    print(j)\n",
    "if(\"]\" in lst):\n",
    "    print(\"yes\")"
   ]
  },
  {
   "cell_type": "code",
   "execution_count": 5,
   "metadata": {},
   "outputs": [
    {
     "name": "stdout",
     "output_type": "stream",
     "text": [
      "False\n",
      "True\n"
     ]
    }
   ],
   "source": [
    "def IsValid(s):\n",
    "    stack = []\n",
    "    map1 = {\"(\": \")\", \"{\": \"}\", \"[\": \"]\"}\n",
    "    lst = [\")\",\"}\",\"]\"]\n",
    "    for char in s:\n",
    "        if char in map1:\n",
    "            stack.append(char)\n",
    "        elif char in lst:\n",
    "            if stack:\n",
    "                if char != map1[stack.pop()]:\n",
    "                    return False\n",
    "            else:\n",
    "                return False\n",
    "        else:\n",
    "            continue\n",
    "    return not stack\n",
    "\n",
    "s1=\"([)]\"\n",
    "print(IsValid(s1))\n",
    "s2=\"{[]}\"\n",
    "print(IsValid(s2))"
   ]
  },
  {
   "cell_type": "code",
   "execution_count": 3,
   "metadata": {},
   "outputs": [
    {
     "name": "stdout",
     "output_type": "stream",
     "text": [
      "False\n",
      "True\n"
     ]
    }
   ],
   "source": [
    "def isValid(s):\n",
    "    while \"()\" in s or \"{}\" in s or '[]' in s:\n",
    "        s = s.replace(\"()\", \"\").replace('{}', \"\").replace('[]', \"\")\n",
    "    return s == ''\n",
    "\n",
    "s1=\"([)]\"\n",
    "print(isValid(s1))\n",
    "s2=\"{[]}\"\n",
    "print(isValid(s2))"
   ]
  },
  {
   "cell_type": "code",
   "execution_count": 135,
   "metadata": {},
   "outputs": [
    {
     "name": "stdout",
     "output_type": "stream",
     "text": [
      "2\n",
      "False\n"
     ]
    }
   ],
   "source": [
    "class ListNode:\n",
    "    def __init__(self, x):\n",
    "        self.val = x\n",
    "        self.next = None\n",
    "\n",
    "    def has_value(self, value):\n",
    "        \"method to compare the value with the node data\"\n",
    "        if self.val == value:\n",
    "            return True\n",
    "        else:\n",
    "            return False\n",
    "\n",
    "node1 = ListNode(2) \n",
    "node2 = ListNode(4) \n",
    "node3 = ListNode(3) \n",
    "print(node1.val)\n",
    "print(node1.has_value(5))\n",
    "node1.next=node2\n",
    "node2.next=node3\n"
   ]
  },
  {
   "cell_type": "code",
   "execution_count": 136,
   "metadata": {},
   "outputs": [],
   "source": [
    "class SingleLinkedList:  \n",
    "    def __init__(self):\n",
    "        \"constructor to initiate this object\"\n",
    "        self.head = None\n",
    "        self.tail = None\n",
    "        return\n",
    "    \n",
    "    def add_list_item(self, item):\n",
    "        \"add an item at the end of the list\"\n",
    "        if not isinstance(item, ListNode):\n",
    "            item = ListNode(item)\n",
    "        if self.head is None:\n",
    "            self.head = item\n",
    "        else:\n",
    "            self.tail.next = item\n",
    "        self.tail = item\n",
    "        return\n",
    "    def list_length(self):\n",
    "        \"returns the number of list items\"\n",
    "        count = 0\n",
    "        current_node = self.head\n",
    "        while current_node is not None:\n",
    "            # increase counter by one\n",
    "            count = count + 1\n",
    "            # jump to the linked node\n",
    "            current_node = current_node.next\n",
    "        return count\n",
    "    def output_list(self):\n",
    "        \"outputs the list (the value of the node, actually)\"\n",
    "        current_node = self.head\n",
    "        while current_node is not None:\n",
    "            print(current_node.val)\n",
    "            # jump to the linked node\n",
    "            current_node = current_node.next\n",
    "\n",
    "        return\n",
    "    def unordered_search (self, value):\n",
    "        \"search the linked list for the node that has this value\"\n",
    "\n",
    "        # define current_node\n",
    "        current_node = self.head\n",
    "\n",
    "        # define position\n",
    "        node_id = 1\n",
    "\n",
    "        # define list of results\n",
    "        results = []\n",
    "\n",
    "        while current_node is not None:\n",
    "            if current_node.has_value(value):\n",
    "                results.append(node_id)\n",
    "\n",
    "            # jump to the linked node\n",
    "            current_node = current_node.next\n",
    "            node_id = node_id + 1\n",
    "\n",
    "        return results\n",
    "    def remove_list_item_by_id(self, item_id):\n",
    "        \"remove the list item with the item id\"\n",
    "\n",
    "        current_id = 1\n",
    "        current_node = self.head\n",
    "        previous_node = None\n",
    "\n",
    "        while current_node is not None:\n",
    "            if current_id == item_id:\n",
    "                if previous_node is not None:\n",
    "                    previous_node.next = current_node.next\n",
    "                else: # if this is the first node (head)\n",
    "                    self.head = current_node.next\n",
    "                # we don't have to look any further\n",
    "                return\n",
    "\n",
    "            # needed for the next iteration\n",
    "            previous_node = current_node\n",
    "            current_node = current_node.next\n",
    "            current_id = current_id + 1\n",
    "\n",
    "        return"
   ]
  },
  {
   "cell_type": "code",
   "execution_count": 137,
   "metadata": {},
   "outputs": [
    {
     "name": "stdout",
     "output_type": "stream",
     "text": [
      "track length: 0\n",
      "track length: 1\n",
      "15\n",
      "track length: 2\n",
      "15\n",
      "8.2\n",
      "track length: 3\n",
      "15\n",
      "8.2\n",
      "SFO\n",
      "track length: 4\n",
      "15\n",
      "8.2\n",
      "SFO\n",
      "15\n",
      "[1, 4]\n",
      "track length: 3\n"
     ]
    }
   ],
   "source": [
    "node1 = ListNode(15)  \n",
    "node2 = ListNode(8.2)  \n",
    "item3 = \"SFO\"  \n",
    "node4 = ListNode(15)\n",
    "\n",
    "track = SingleLinkedList()  \n",
    "print(\"track length: %i\" % track.list_length())\n",
    "\n",
    "for current_item in [node1, node2, item3, node4]:  \n",
    "    track.add_list_item(current_item)\n",
    "    print(\"track length: %i\" % track.list_length())\n",
    "    track.output_list()\n",
    "    \n",
    "print(track.unordered_search(15))\n",
    "track.remove_list_item_by_id(4)\n",
    "print(\"track length: %i\" % track.list_length())\n"
   ]
  },
  {
   "cell_type": "code",
   "execution_count": 138,
   "metadata": {},
   "outputs": [],
   "source": [
    "#Class for double linked list\n",
    "class ListNode:  \n",
    "    def __init__(self, data):\n",
    "        \"constructor class to initiate this object\"\n",
    "\n",
    "        # store data\n",
    "        self.val = data\n",
    "\n",
    "        # store reference (next item)\n",
    "        self.next = None\n",
    "\n",
    "        # store reference (previous item)\n",
    "        self.previous = None\n",
    "        return\n",
    "\n",
    "    def has_value(self, value):\n",
    "        \"method to compare the value with the node data\"\n",
    "        if self.val == value:\n",
    "            return True\n",
    "        else:\n",
    "            return False\n",
    "class DoubleLinkedList:  \n",
    "    def __init__(self):\n",
    "        \"constructor to initiate this object\"\n",
    "\n",
    "        self.head = None\n",
    "        self.tail = None\n",
    "        return\n",
    "\n",
    "    def list_length(self):\n",
    "        \"returns the number of list items\"\n",
    "\n",
    "        count = 0\n",
    "        current_node = self.head\n",
    "\n",
    "        while current_node is not None:\n",
    "            # increase counter by one\n",
    "            count = count + 1\n",
    "\n",
    "            # jump to the linked node\n",
    "            current_node = current_node.next\n",
    "\n",
    "        return count\n",
    "\n",
    "    def output_list(self):\n",
    "        \"outputs the list (the value of the node, actually)\"\n",
    "        current_node = self.head\n",
    "\n",
    "        while current_node is not None:\n",
    "            print(current_node.val)\n",
    "\n",
    "            # jump to the linked node\n",
    "            current_node = current_node.next\n",
    "\n",
    "        return\n",
    "\n",
    "    def unordered_search (self, value):\n",
    "        \"search the linked list for the node that has this value\"\n",
    "\n",
    "        # define current_node\n",
    "        current_node = self.head\n",
    "\n",
    "        # define position\n",
    "        node_id = 1\n",
    "\n",
    "        # define list of results\n",
    "        results = []\n",
    "\n",
    "        while current_node is not None:\n",
    "            if current_node.has_value(value):\n",
    "                results.append(node_id)\n",
    "\n",
    "            # jump to the linked node\n",
    "            current_node = current_node.next\n",
    "            node_id = node_id + 1\n",
    "\n",
    "        return results\n",
    "    def add_list_item(self, item):\n",
    "        \"add an item at the end of the list\"\n",
    "\n",
    "        if isinstance(item, ListNode):\n",
    "            if self.head is None:\n",
    "                self.head = item\n",
    "                item.previous = None\n",
    "                item.next = None\n",
    "                self.tail = item\n",
    "            else:\n",
    "                self.tail.next = item\n",
    "                item.previous = self.tail\n",
    "                self.tail = item\n",
    "\n",
    "        return\n",
    "    def remove_list_item_by_id(self, item_id):\n",
    "        \"remove the list item with the item id\"\n",
    "\n",
    "        current_id = 1\n",
    "        current_node = self.head\n",
    "\n",
    "        while current_node is not None:\n",
    "            previous_node = current_node.previous\n",
    "            next_node = current_node.next\n",
    "\n",
    "            if current_id == item_id:\n",
    "                if previous_node is not None:\n",
    "                    previous_node.next = next_node\n",
    "                    if next_node is not None:\n",
    "                        next_node.previous = previous_node\n",
    "                # if this is the first node (head)\n",
    "                else:\n",
    "                    self.head = next_node\n",
    "                    if next_node is not None:\n",
    "                        next_node.previous = None\n",
    "                # we don't have to look any further\n",
    "                return\n",
    "\n",
    "            # needed for the next iteration\n",
    "            current_node = next_node\n",
    "            current_id = current_id + 1\n",
    "\n",
    "        return\n"
   ]
  },
  {
   "cell_type": "code",
   "execution_count": 139,
   "metadata": {},
   "outputs": [
    {
     "name": "stdout",
     "output_type": "stream",
     "text": [
      "track length: 0\n",
      "track length: 1\n",
      "15\n",
      "track length: 2\n",
      "15\n",
      "8.2\n",
      "track length: 3\n",
      "15\n",
      "8.2\n",
      "LAX\n",
      "track length: 4\n",
      "15\n",
      "8.2\n",
      "LAX\n",
      "15\n",
      "[1, 4]\n",
      "15\n",
      "8.2\n",
      "LAX\n"
     ]
    }
   ],
   "source": [
    "# create three single nodes\n",
    "node1 = ListNode(15)  \n",
    "node2 = ListNode(8.2)  \n",
    "node3 = ListNode(\"LAX\")  \n",
    "node4 = ListNode(15)\n",
    "\n",
    "track = DoubleLinkedList()  \n",
    "print(\"track length: %i\" % track.list_length())\n",
    "\n",
    "for current_node in [node1, node2, node3, node4]:  \n",
    "    track.add_list_item(current_node)\n",
    "    print(\"track length: %i\" % track.list_length())\n",
    "    track.output_list()\n",
    "\n",
    "results = track.unordered_search(15)  \n",
    "print(results)\n",
    "\n",
    "track.remove_list_item_by_id(4)  \n",
    "track.output_list()  \n"
   ]
  },
  {
   "cell_type": "code",
   "execution_count": 140,
   "metadata": {},
   "outputs": [
    {
     "name": "stdout",
     "output_type": "stream",
     "text": [
      "three items (initial list):\n",
      "15\n",
      "8.2\n",
      "LAX\n"
     ]
    }
   ],
   "source": [
    "from collections import deque\n",
    "\n",
    "class ListNode:  \n",
    "    def __init__(self, data):\n",
    "        \"constructor class to initiate this object\"\n",
    "\n",
    "        # store data\n",
    "        self.val = data\n",
    "\n",
    "        return\n",
    "track = deque([node1, node2, node3])  \n",
    "print(\"three items (initial list):\")  \n",
    "for item in track:  \n",
    "    print(item.val)\n"
   ]
  },
  {
   "cell_type": "code",
   "execution_count": 141,
   "metadata": {},
   "outputs": [
    {
     "name": "stdout",
     "output_type": "stream",
     "text": [
      "deque([0, 1, 2, 3, 3, 4, 6])\n",
      "2\n",
      "deque([0, 1, 7, 2, 3, 3, 4, 6])\n",
      "deque([0, 1, 2, 3, 3, 4, 6])\n",
      "2\n",
      "deque([1, 2, 3, 3, 4])\n"
     ]
    }
   ],
   "source": [
    "'''\n",
    "    append(): add an item to the right side of the list (end)\n",
    "    append_left(): add an item to the left side of the list (head)\n",
    "    clear(): remove all items from the list\n",
    "    count(): count the number of items with a certain value\n",
    "    index(): find the first occurrence of a value in the list\n",
    "    insert(): insert an item in the list\n",
    "    pop(): remove an item from the right side of a list (end)\n",
    "    popleft(): remove an item from the left side of a list (head)\n",
    "    remove(): remove an item from the list\n",
    "    reverse(): reverse the list\n",
    "'''\n",
    "dlist = deque([1,2,3,3,4])\n",
    "dlist.append(6)\n",
    "dlist.appendleft(0)\n",
    "print(dlist)\n",
    "print(dlist.index(2))\n",
    "dlist.insert(2,7)\n",
    "print(dlist)\n",
    "dlist.remove(7)\n",
    "print(dlist)\n",
    "print(dlist.count(3))\n",
    "dlist.pop()\n",
    "dlist.popleft()\n",
    "print(dlist)"
   ]
  },
  {
   "cell_type": "code",
   "execution_count": 142,
   "metadata": {},
   "outputs": [],
   "source": [
    "#Add Two Numbers (linked list)\n",
    "\n",
    "# Definition for singly-linked list.\n",
    "class ListNode:\n",
    "    def __init__(self, x):\n",
    "        self.val = x\n",
    "        self.next = None\n",
    "    def output_list(self):\n",
    "        \"outputs the list (the value of the node, actually)\"\n",
    "        current_node = self\n",
    "        while current_node is not None:\n",
    "            print(\"current linked digit value=\", current_node.val)\n",
    "            # jump to the linked node\n",
    "            current_node = current_node.next\n",
    "        return\n",
    "\n",
    "\n",
    "class Solution:\n",
    "    # @return a ListNode\n",
    "    def addTwoNumbers(self, l1, l2):\n",
    "        head = temp = ListNode(0)\n",
    "        carry = 0\n",
    "\n",
    "        while l1 or l2 or carry:\n",
    "            temp1 = l1.val if l1 else 0\n",
    "            temp2 = l2.val if l2 else 0\n",
    "            tempSum = temp1 + temp2 + carry\n",
    "            print(tempSum, temp1, temp2, carry)\n",
    "            temp.next = ListNode(tempSum % 10)\n",
    "            temp = temp.next\n",
    "            carry = tempSum // 10 #floor()\n",
    "            print(temp.val, carry)\n",
    "            if l1:\n",
    "                l1 = l1.next\n",
    "            if l2:\n",
    "                l2 = l2.next\n",
    "\n",
    "        return head.next\n"
   ]
  },
  {
   "cell_type": "code",
   "execution_count": 143,
   "metadata": {},
   "outputs": [
    {
     "name": "stdout",
     "output_type": "stream",
     "text": [
      "7 2 5 0\n",
      "7 0\n",
      "10 4 6 0\n",
      "0 1\n",
      "8 3 4 1\n",
      "8 0\n",
      "current linked digit value= 7\n",
      "current linked digit value= 0\n",
      "current linked digit value= 8\n"
     ]
    }
   ],
   "source": [
    "node1 = ListNode(2) \n",
    "node2 = ListNode(4) \n",
    "node3 = ListNode(3) \n",
    "node1.next=node2\n",
    "node2.next=node3\n",
    "\n",
    "node11 = ListNode(5) \n",
    "node12 = ListNode(6) \n",
    "node13 = ListNode(4) \n",
    "node11.next=node12\n",
    "node12.next=node13\n",
    "\n",
    "s = Solution()\n",
    "s.addTwoNumbers(node1,node11).output_list()"
   ]
  },
  {
   "cell_type": "code",
   "execution_count": 144,
   "metadata": {},
   "outputs": [
    {
     "name": "stdout",
     "output_type": "stream",
     "text": [
      "deque([1, 2, 3, 4, 5])\n",
      "deque([1, 2, 3, 5])\n",
      "deque([1, 2, 3, 5])\n",
      "4\n"
     ]
    }
   ],
   "source": [
    "#Remove Nth Node From End of List\n",
    "#solution 1: use rotate\n",
    "d = deque([1,2,3,4,5])\n",
    "n=2\n",
    "print(d)\n",
    "#for i in range(n):\n",
    "    #d.appendleft(d.pop())\n",
    "d.rotate(n)\n",
    "d.popleft()\n",
    "#for j in range(n-1):\n",
    "    #d.append(d.popleft())\n",
    "d.rotate(1-n)\n",
    "print(d)\n",
    "\n",
    "#note check the n first to decide to rotate left or right\n",
    "#if n < 10, rotate right\n",
    "#if n is a big number vs the length of deque, then rotate left (leng(d)-n)\n",
    "    \n",
    "#solution 2: use reverse and remove\n",
    "d1 = deque([1,2,3,4,5])\n",
    "d2 = deque([1,2,3,4,5])\n",
    "d1.reverse()\n",
    "for i in range(n):\n",
    "    v1 = d1.popleft()\n",
    "#print(v1)\n",
    "d2.remove(v1)\n",
    "print(d2)\n",
    "\n",
    "d3 = deque([1,2,3,4,5])\n",
    "print (d3[-2])"
   ]
  },
  {
   "cell_type": "code",
   "execution_count": 145,
   "metadata": {},
   "outputs": [
    {
     "name": "stdout",
     "output_type": "stream",
     "text": [
      "1\n",
      "2\n",
      "3\n",
      "4\n",
      "5\n"
     ]
    },
    {
     "data": {
      "text/plain": [
       "1"
      ]
     },
     "execution_count": 145,
     "metadata": {},
     "output_type": "execute_result"
    }
   ],
   "source": [
    "node1 = ListNode(1) \n",
    "node2 = ListNode(2) \n",
    "node3 = ListNode(3) \n",
    "node4 = ListNode(4) \n",
    "node5 = ListNode(5) \n",
    "t = SingleLinkedList()  \n",
    "for i in [node1, node2, node3, node4, node5]:  \n",
    "    t.add_list_item(i)\n",
    "t.output_list()\n",
    "t.head.val"
   ]
  },
  {
   "cell_type": "code",
   "execution_count": 146,
   "metadata": {},
   "outputs": [
    {
     "name": "stdout",
     "output_type": "stream",
     "text": [
      "1\n",
      "2\n",
      "3\n",
      "4\n",
      "5\n",
      "1\n",
      "2\n",
      "3\n",
      "5\n"
     ]
    }
   ],
   "source": [
    "#solution 3: use two pointers to go next from different starting points\n",
    "def removeNthFromEnd(self, head, n):\n",
    "    slow = fast = self\n",
    "    self.next = head\n",
    "    while fast.next:\n",
    "        if n:\n",
    "            n -= 1\n",
    "        else:\n",
    "            slow = slow.next\n",
    "        fast = fast.next\n",
    "    slow.next = slow.next.next\n",
    "    return self.next\n",
    "\n",
    "n=2\n",
    "t.output_list()\n",
    "removeNthFromEnd(t, t.head,n)\n",
    "t.output_list()"
   ]
  },
  {
   "cell_type": "code",
   "execution_count": 20,
   "metadata": {},
   "outputs": [
    {
     "name": "stdout",
     "output_type": "stream",
     "text": [
      "fl\n"
     ]
    }
   ],
   "source": [
    "#Write a function to find the longest common prefix string amongst an array of strings.\n",
    "s = [\"flower\",\"flow\",\"flight\"]\n",
    "#s = [\"dog\",\"racecar\",\"car\"]\n",
    "\n",
    "outs = \"\"\n",
    "smin = min(s, key=len)\n",
    "#print(smin)\n",
    "cont = 1\n",
    "#for c in smin:\n",
    "for j in range(len(smin)):\n",
    "    if (cont==0):\n",
    "        break\n",
    "    for i in range(len(s)):\n",
    "        if(s[i][j]!=smin[j]):\n",
    "            #print(i, j, smin[j])\n",
    "            cont=0\n",
    "            break\n",
    "        elif (i==(len(s)-1)):\n",
    "            outs=outs+smin[j]\n",
    "            #print(outs)\n",
    "print(outs)\n",
    "\n",
    "            "
   ]
  },
  {
   "cell_type": "code",
   "execution_count": 148,
   "metadata": {},
   "outputs": [
    {
     "name": "stdout",
     "output_type": "stream",
     "text": [
      "['flight', 'flow', 'flower']\n",
      "fl\n"
     ]
    }
   ],
   "source": [
    "#solution 2 - sort()\n",
    "s = [\"flower\",\"flow\",\"flight\"]\n",
    "s.sort()\n",
    "print(s)\n",
    "p=\"\"\n",
    "for x, y in zip(s[0], s[-1]):\n",
    "    if x == y: p+=x\n",
    "    else: break\n",
    "    #print (x,y)\n",
    "print(p)"
   ]
  },
  {
   "cell_type": "code",
   "execution_count": 149,
   "metadata": {},
   "outputs": [
    {
     "name": "stdout",
     "output_type": "stream",
     "text": [
      "('f', 'f', 'f')\n",
      "{'f'}\n",
      "('l', 'l', 'l')\n",
      "{'l'}\n",
      "('o', 'o', 'i')\n",
      "{'i', 'o'}\n",
      "fl\n"
     ]
    }
   ],
   "source": [
    "#solution 3 - set()\n",
    "s = [\"flower\",\"flow\",\"flight\"]\n",
    "prefix=[]\n",
    "for x in zip(*s): #unzip\n",
    "    print(x)\n",
    "    print (set(x))\n",
    "    if len(set(x)) == 1:\n",
    "        prefix.append(x[0])\n",
    "    else:\n",
    "        break\n",
    "print (\"\".join(prefix))"
   ]
  },
  {
   "cell_type": "code",
   "execution_count": 150,
   "metadata": {},
   "outputs": [],
   "source": [
    "#solution 4: binary search - matching string could be very long, divide the matching string into 2 parts to interate through\n",
    "#solution 5: divide and conque - to divide the string list\n",
    "#solution 6: deepest root in tree"
   ]
  },
  {
   "cell_type": "code",
   "execution_count": 151,
   "metadata": {},
   "outputs": [
    {
     "name": "stdout",
     "output_type": "stream",
     "text": [
      "[]\n",
      "<zip object at 0x102c1a708>\n",
      "{(3, 'three'), (2, 'two'), (1, 'one')}\n"
     ]
    }
   ],
   "source": [
    "#Python learning - zip()\n",
    "numberList = [1, 2, 3]\n",
    "strList = ['one', 'two', 'three']\n",
    "\n",
    "# No iterables are passed\n",
    "result = zip()\n",
    "\n",
    "# Converting itertor to list\n",
    "resultList = list(result)\n",
    "print(resultList)\n",
    "\n",
    "# Two iterables are passed\n",
    "result = zip(numberList, strList)\n",
    "print(result)\n",
    "\n",
    "# Converting itertor to set\n",
    "resultSet = set(result)\n",
    "print(resultSet)"
   ]
  },
  {
   "cell_type": "code",
   "execution_count": 152,
   "metadata": {},
   "outputs": [
    {
     "name": "stdout",
     "output_type": "stream",
     "text": [
      "{(2, 'TWO'), (3, 'THREE'), (1, 'ONE')}\n",
      "{(1, 'one', 'ONE'), (2, 'two', 'TWO')}\n"
     ]
    }
   ],
   "source": [
    "numbersList = [1, 2, 3]\n",
    "strList = ['one', 'two']\n",
    "numbersTuple = ('ONE', 'TWO', 'THREE', 'FOUR')\n",
    "\n",
    "result = zip(numbersList, numbersTuple)\n",
    "\n",
    "# Converting to set\n",
    "resultSet = set(result)\n",
    "print(resultSet)\n",
    "\n",
    "result = zip(numbersList, strList, numbersTuple)\n",
    "\n",
    "# Converting to set\n",
    "resultSet = set(result)\n",
    "print(resultSet)"
   ]
  },
  {
   "cell_type": "code",
   "execution_count": 153,
   "metadata": {},
   "outputs": [
    {
     "name": "stdout",
     "output_type": "stream",
     "text": [
      "[('x', 3), ('y', 4), ('z', 5)]\n",
      "c = ('x', 'y', 'z')\n",
      "v = (3, 4, 5)\n"
     ]
    }
   ],
   "source": [
    "coordinate = ['x', 'y', 'z']\n",
    "value = [3, 4, 5, 0, 9]\n",
    "\n",
    "result = zip(coordinate, value)\n",
    "resultList = list(result)\n",
    "print(resultList)\n",
    "\n",
    "c, v =  zip(*resultList)\n",
    "print('c =', c)\n",
    "print('v =', v)"
   ]
  },
  {
   "cell_type": "code",
   "execution_count": 19,
   "metadata": {},
   "outputs": [
    {
     "data": {
      "text/plain": [
       "['ad', 'ae', 'af', 'bd', 'be', 'bf', 'cd', 'ce', 'cf']"
      ]
     },
     "execution_count": 19,
     "metadata": {},
     "output_type": "execute_result"
    }
   ],
   "source": [
    "#Letter Combinations of a Phone Number\n",
    "class Solution:\n",
    "    def letterCombinations(self, digits):\n",
    "        \"\"\"\n",
    "        :type digits: str\n",
    "        :rtype: List[str]\n",
    "        \"\"\"\n",
    "        phone = {\n",
    "                 '2': ['a', 'b', 'c'],\n",
    "                 '3': ['d', 'e', 'f'],\n",
    "                 '4': ['g', 'h', 'i'],\n",
    "                 '5': ['j', 'k', 'l'],\n",
    "                 '6': ['m', 'n', 'o'],\n",
    "                 '7': ['p', 'q', 'r', 's'],\n",
    "                 '8': ['t', 'u', 'v'],\n",
    "                 '9': ['w', 'x', 'y', 'z']}\n",
    "        \n",
    "                \n",
    "        def recursv(combo, next_digits):\n",
    "            # if there is no more digits to check\n",
    "            if len(next_digits) == 0:\n",
    "                # the combination is done\n",
    "                output.append(combo)\n",
    "            # if there are still digits to check\n",
    "            else:\n",
    "                # iterate over all letters which map \n",
    "                # the next available digit\n",
    "                for letter in phone[next_digits[0]]:\n",
    "                    # append the current letter to the combination\n",
    "                    # and proceed to the next digits\n",
    "                    recursv(combo + letter, next_digits[1:])\n",
    "                    \n",
    "        output = []\n",
    "        if digits:\n",
    "            digits = digits.replace(\"1\",\"\").replace(\"0\",\"\")\n",
    "            #print(digits)\n",
    "            recursv(\"\", digits)\n",
    "        return output\n",
    "    \n",
    "a = Solution()\n",
    "#dt=\"23\"\n",
    "#a.letterCombinations(dt)\n",
    "dt=\"0213\"\n",
    "a.letterCombinations(dt)\n",
    "#Output: [\"ad\", \"ae\", \"af\", \"bd\", \"be\", \"bf\", \"cd\", \"ce\", \"cf\"]."
   ]
  },
  {
   "cell_type": "code",
   "execution_count": null,
   "metadata": {},
   "outputs": [],
   "source": [
    "#Remove Nth Node From End of List\n"
   ]
  }
 ],
 "metadata": {
  "kernelspec": {
   "display_name": "Python 3",
   "language": "python",
   "name": "python3"
  },
  "language_info": {
   "codemirror_mode": {
    "name": "ipython",
    "version": 3
   },
   "file_extension": ".py",
   "mimetype": "text/x-python",
   "name": "python",
   "nbconvert_exporter": "python",
   "pygments_lexer": "ipython3",
   "version": "3.7.6"
  }
 },
 "nbformat": 4,
 "nbformat_minor": 2
}
