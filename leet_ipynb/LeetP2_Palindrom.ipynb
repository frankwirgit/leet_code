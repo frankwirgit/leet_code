{
 "cells": [
  {
   "cell_type": "code",
   "execution_count": null,
   "metadata": {},
   "outputs": [],
   "source": [
    "#Leetcode problems Part II\n",
    "#(5,6,7,8,9,10,11,12,13)\n",
    "#Longest Palindromic Substring\n",
    "#ZigZag Conversion  \n",
    "#Reverse Integer\n",
    "#String to Integer (atoi)\n",
    "#Palindrome Number\n",
    "#Regular Expression Matching\n",
    "#Container With Most Water\n",
    "#Integer to Roman\n",
    "#Roman to Integer"
   ]
  },
  {
   "cell_type": "code",
   "execution_count": null,
   "metadata": {},
   "outputs": [],
   "source": [
    "#Longest Palindromic Substring\n",
    "#java\n",
    "public String longestPalindrome(String s) {\n",
    "    if (s == null || s.length() < 1) return \"\";\n",
    "    int start = 0, end = 0;\n",
    "    for (int i = 0; i < s.length(); i++) {\n",
    "        int len1 = expandAroundCenter(s, i, i);\n",
    "        int len2 = expandAroundCenter(s, i, i + 1);\n",
    "        int len = Math.max(len1, len2);\n",
    "        if (len > end - start) {\n",
    "            start = i - (len - 1) / 2;\n",
    "            end = i + len / 2;\n",
    "        }\n",
    "    }\n",
    "    return s.substring(start, end + 1);\n",
    "}\n",
    "\n",
    "private int expandAroundCenter(String s, int left, int right) {\n",
    "    int L = left, R = right;\n",
    "    while (L >= 0 && R < s.length() && s.charAt(L) == s.charAt(R)) {\n",
    "        L--;\n",
    "        R++;\n",
    "    }"
   ]
  },
  {
   "cell_type": "code",
   "execution_count": 7,
   "metadata": {},
   "outputs": [
    {
     "name": "stdout",
     "output_type": "stream",
     "text": [
      "maxl= 2\n",
      "maxl= 4\n",
      "maxl= 6\n",
      "maxl= 4\n",
      "maxl= 2\n",
      "maxl= 2\n",
      "babab\n"
     ]
    }
   ],
   "source": [
    "#solution 1: convert the java to python\n",
    "#dynamic programming, search and expand from center\n",
    "#time complexity O(n^2), space complexity O(1)\n",
    "\n",
    "def expandAroundCenter(S, LN, RN):\n",
    "    lind, rind = LN, RN\n",
    "    while((lind >=0) and (rind<len(S)) and (S[lind]==S[rind])):\n",
    "        #print(lind, rind, S[lind:rind+1])\n",
    "        lind=lind-1\n",
    "        rind=rind+1\n",
    "    return (rind-lind)\n",
    "    \n",
    "strs=\"bababd\"\n",
    "start,end = 0, 0\n",
    "for i in range(len(strs)):\n",
    "    #print(str[i])\n",
    "    len1 = expandAroundCenter(strs,i,i);\n",
    "    len2 = expandAroundCenter(strs,i,i+1);\n",
    "    current_max = max(len1,len2)\n",
    "    print(\"maxl=\",current_max)\n",
    "    if(current_max> (end-start)):\n",
    "        start = i - int((current_max-1)/2)\n",
    "        end = i + int(current_max/2)\n",
    "print(strs[start:end])"
   ]
  },
  {
   "cell_type": "code",
   "execution_count": null,
   "metadata": {},
   "outputs": [],
   "source": [
    "class Solution {\n",
    "    public String convert(String s, int numRows) {\n",
    "\n",
    "        if (numRows == 1) return s;\n",
    "\n",
    "        StringBuilder ret = new StringBuilder();\n",
    "        int n = s.length();\n",
    "        int cycleLen = 2 * numRows - 2;\n",
    "\n",
    "        for (int i = 0; i < numRows; i++) {\n",
    "            for (int j = 0; j + i < n; j += cycleLen) {\n",
    "                ret.append(s.charAt(j + i));\n",
    "                if (i != 0 && i != numRows - 1 && j + cycleLen - i < n)\n",
    "                    ret.append(s.charAt(j + cycleLen - i));\n",
    "            }\n",
    "        }\n",
    "        return ret.toString();\n",
    "    }\n",
    "}"
   ]
  },
  {
   "cell_type": "code",
   "execution_count": 2,
   "metadata": {},
   "outputs": [
    {
     "name": "stdout",
     "output_type": "stream",
     "text": [
      "no zigzag\n",
      "numRows= 2 output= PYAIHRNAPLSIIG\n",
      "numRows= 3 output= PAHNAPLSIIGYIR\n",
      "numRows= 4 output= PINALSIGYAHRPI\n",
      "numRows= 5 output= PHASIYIRPLIGAN\n"
     ]
    }
   ],
   "source": [
    "#ZigZag Conversion    \n",
    "#time complexity O(n), space complexity O(n)\n",
    "\n",
    "strs=\"PAYPALISHIRING\"\n",
    "numRows=[1,2,3,4,5]\n",
    "\n",
    "for i in range(len(numRows)):\n",
    "    row = 0\n",
    "    d = 1 # direction\n",
    "    if(numRows[i]==1):\n",
    "        print(\"no zigzag\")\n",
    "        continue\n",
    "    data=[ \"\" ]*numRows[i]\n",
    "    for c in strs:\n",
    "        data[row]= data[row] + c\n",
    "        if row==0:\n",
    "            d = 1\n",
    "        elif row==numRows[i]-1:\n",
    "            d = -1\n",
    "        row = row + d\n",
    "        #print(data)\n",
    "    print(\"numRows=\",numRows[i],\"output=\",''.join(data))\n",
    "    "
   ]
  },
  {
   "cell_type": "code",
   "execution_count": null,
   "metadata": {},
   "outputs": [],
   "source": [
    "#Reverse Integer\n",
    "#java\n",
    "class Solution {\n",
    "    public int reverse(int x) {\n",
    "        int rev = 0;\n",
    "        while (x != 0) {\n",
    "            int pop = x % 10;\n",
    "            x /= 10;\n",
    "            if (rev > Integer.MAX_VALUE/10 || (rev == Integer.MAX_VALUE / 10 && pop > 7)) return 0;\n",
    "            if (rev < Integer.MIN_VALUE/10 || (rev == Integer.MIN_VALUE / 10 && pop < -8)) return 0;\n",
    "            rev = rev * 10 + pop;\n",
    "        }\n",
    "        return rev;\n",
    "    }\n",
    "}"
   ]
  },
  {
   "cell_type": "code",
   "execution_count": 10,
   "metadata": {},
   "outputs": [
    {
     "name": "stdout",
     "output_type": "stream",
     "text": [
      "-54321\n"
     ]
    }
   ],
   "source": [
    "#Reverse Integer\n",
    "#time complexity O(n), space complexity O(1)\n",
    "#solution 1: internal function\n",
    "\n",
    "x = -123450\n",
    "y = int(str(abs(x))[::-1])*(-1 if x < 0 else 1)\n",
    "print (y if (y < 2**31-1 and y > -2**31) else 0)"
   ]
  },
  {
   "cell_type": "code",
   "execution_count": 11,
   "metadata": {},
   "outputs": [
    {
     "name": "stdout",
     "output_type": "stream",
     "text": [
      "-123450 -54321\n"
     ]
    }
   ],
   "source": [
    "#solution 2: pop & push\n",
    "x1 = abs(x)\n",
    "reverse = 0\n",
    "while x1 > 0:\n",
    "    digit = int(x1 % 10)\n",
    "    #print(digit)\n",
    "    reverse = reverse * 10 + digit\n",
    "    #print(reverse)\n",
    "    x1 = int(x1 / 10)\n",
    "    if reverse > 2**31-1 or reverse < -2**31:\n",
    "        print (\"overflow\")\n",
    "        break\n",
    "print(x, reverse*(-1 if x <0 else 1))\n",
    "    \n"
   ]
  },
  {
   "cell_type": "code",
   "execution_count": 6,
   "metadata": {},
   "outputs": [
    {
     "name": "stdout",
     "output_type": "stream",
     "text": [
      "str ['-42']\n",
      "-42\n",
      "str ['4193']\n",
      "4193\n",
      "str []\n",
      "0\n",
      "str ['-91283472332']\n",
      "-2147483648\n"
     ]
    }
   ],
   "source": [
    "#String to integer (atoi)\n",
    "# @return an integer\n",
    "import re\n",
    "def atoi(str):\n",
    "    str = str.strip() #remove the leading & trailing spaces\n",
    "    str = re.findall('(^[\\+\\-0]*\\d+)\\D*', str)\n",
    "    print(\"str\",str)\n",
    "    try:\n",
    "        result = int(''.join(str))\n",
    "        MAX_INT = 2**31-1\n",
    "        MIN_INT = -2**31\n",
    "        if result > MAX_INT:\n",
    "            return MAX_INT\n",
    "        elif result < MIN_INT:\n",
    "            return MIN_INT\n",
    "        else:\n",
    "            return result\n",
    "    except:\n",
    "        return 0\n",
    "    \n",
    "print(atoi(\"   -42\"))\n",
    "print(atoi(\"4193 with words\"))\n",
    "print(atoi(\"words with 4193\"))\n",
    "print(atoi(\"-91283472332\"))"
   ]
  },
  {
   "cell_type": "code",
   "execution_count": 27,
   "metadata": {},
   "outputs": [
    {
     "name": "stdout",
     "output_type": "stream",
     "text": [
      "left= 10246 right= 64201\n",
      "true\n"
     ]
    }
   ],
   "source": [
    "#Palindrome Number\n",
    "#time complexity O(n), space complexity O(1)\n",
    "numb=10246064201\n",
    "if(numb<0):\n",
    "    print(\"false\")\n",
    "else:\n",
    "    snumb = str(numb)\n",
    "    tl = len(snumb)\n",
    "    if(tl%2==0):\n",
    "        rl = int(tl/2)\n",
    "    else:\n",
    "        rl = int(tl/2+1)\n",
    "    print(\"left=\", snumb[0:int(tl/2)], \"right=\", snumb[rl:])\n",
    "    if(snumb[0:int(tl/2)][::-1]==snumb[rl:]):\n",
    "        print(\"true\")\n",
    "    else:\n",
    "        print(\"false\")\n",
    "\n",
    "            "
   ]
  },
  {
   "cell_type": "code",
   "execution_count": 36,
   "metadata": {},
   "outputs": [
    {
     "name": "stdout",
     "output_type": "stream",
     "text": [
      "m m True\n",
      "i i True\n",
      "s s True\n",
      ". s True\n",
      ". i True\n",
      "s s True\n",
      "s s True\n",
      "i i True\n",
      "p p True\n",
      "x p False\n",
      "final= False\n"
     ]
    }
   ],
   "source": [
    "#10. Regular Expression Matching\n",
    "#Given an input string (s) and a pattern (p), implement regular expression matching with support for '.' and '*'.\n",
    "#'.' Matches any single character.\n",
    "#'*' Matches zero or more of the preceding element.\n",
    "#solution 1: recursive\n",
    "\n",
    "def match(text, pattern):\n",
    "    if not pattern: return not text\n",
    "    first_match = bool(text) and pattern[0] in {text[0], '.'}\n",
    "    print (pattern[0], text[0], first_match)\n",
    "    return first_match and match(text[1:], pattern[1:])\n",
    "\n",
    "s = \"mississippi\"\n",
    "p = \"mis..ssipxi\"\n",
    "print (\"final=\", match(s,p))"
   ]
  },
  {
   "cell_type": "code",
   "execution_count": null,
   "metadata": {},
   "outputs": [],
   "source": [
    "def isMatch(self, s, p):\n",
    "    if not p: return not s\n",
    "    if not s: return len(p) > 1 and p[1] == '*' and self.isMatch(s, p[2:])\n",
    "    Matched = (p[0] == '.' or p[0] == s[0])\n",
    "    if len(p) > 1 and p[1] == '*':\n",
    "        return (Matched and self.isMatch(s[1:], p)) or self.isMatch(s, p[2:])\n",
    "    return Matched and self.isMatch(s[1:], p[1:])"
   ]
  },
  {
   "cell_type": "code",
   "execution_count": 45,
   "metadata": {},
   "outputs": [
    {
     "name": "stdout",
     "output_type": "stream",
     "text": [
      "m m True\n",
      "i i True\n",
      "s s True\n",
      "s s True\n",
      "i i True\n",
      "s s True\n",
      "s*ippi ssippi\n",
      "i s False\n",
      "s s True\n",
      "s*ippi sippi\n",
      "i s False\n",
      "s i False\n",
      "s*ippi ippi\n",
      "i i True\n",
      "p p True\n",
      "p p True\n",
      "i i True\n",
      "final= True\n"
     ]
    }
   ],
   "source": [
    "#solution 1: recursive\n",
    "#time complexity O(n), space complexity O(n)\n",
    "def isMatch(text, pattern):\n",
    "    if not pattern: return not text\n",
    "    first_match = bool(text) and pattern[0] in {text[0], '.'}\n",
    "    print (pattern[0], text[0], first_match) \n",
    "    #if there is a '*' in pattern\n",
    "    if len(pattern) >= 2 and pattern[1] == '*':\n",
    "        print(pattern, text)\n",
    "        return (isMatch(text, pattern[2:]) or\n",
    "                first_match and isMatch(text[1:], pattern))\n",
    "    else:\n",
    "        return first_match and isMatch(text[1:], pattern[1:])\n",
    "\n",
    "s  = \"mississippi\"\n",
    "pp = \"missis*ippi\"\n",
    "print (\"final=\", isMatch(s,pp))"
   ]
  },
  {
   "cell_type": "code",
   "execution_count": 49,
   "metadata": {},
   "outputs": [
    {
     "name": "stdout",
     "output_type": "stream",
     "text": [
      "{(5, 7): False}\n",
      "{(5, 7): False, (6, 7): False}\n",
      "{(5, 7): False, (6, 7): False, (11, 11): True}\n",
      "{(5, 7): False, (6, 7): False, (11, 11): True, (10, 10): True}\n",
      "{(5, 7): False, (6, 7): False, (11, 11): True, (10, 10): True, (9, 9): True}\n",
      "{(5, 7): False, (6, 7): False, (11, 11): True, (10, 10): True, (9, 9): True, (8, 8): True}\n",
      "{(5, 7): False, (6, 7): False, (11, 11): True, (10, 10): True, (9, 9): True, (8, 8): True, (7, 7): True}\n",
      "{(5, 7): False, (6, 7): False, (11, 11): True, (10, 10): True, (9, 9): True, (8, 8): True, (7, 7): True, (7, 5): True}\n",
      "{(5, 7): False, (6, 7): False, (11, 11): True, (10, 10): True, (9, 9): True, (8, 8): True, (7, 7): True, (7, 5): True, (6, 5): True}\n",
      "{(5, 7): False, (6, 7): False, (11, 11): True, (10, 10): True, (9, 9): True, (8, 8): True, (7, 7): True, (7, 5): True, (6, 5): True, (5, 5): True}\n",
      "{(5, 7): False, (6, 7): False, (11, 11): True, (10, 10): True, (9, 9): True, (8, 8): True, (7, 7): True, (7, 5): True, (6, 5): True, (5, 5): True, (4, 4): True}\n",
      "{(5, 7): False, (6, 7): False, (11, 11): True, (10, 10): True, (9, 9): True, (8, 8): True, (7, 7): True, (7, 5): True, (6, 5): True, (5, 5): True, (4, 4): True, (3, 3): True}\n",
      "{(5, 7): False, (6, 7): False, (11, 11): True, (10, 10): True, (9, 9): True, (8, 8): True, (7, 7): True, (7, 5): True, (6, 5): True, (5, 5): True, (4, 4): True, (3, 3): True, (2, 2): True}\n",
      "{(5, 7): False, (6, 7): False, (11, 11): True, (10, 10): True, (9, 9): True, (8, 8): True, (7, 7): True, (7, 5): True, (6, 5): True, (5, 5): True, (4, 4): True, (3, 3): True, (2, 2): True, (1, 1): True}\n",
      "{(5, 7): False, (6, 7): False, (11, 11): True, (10, 10): True, (9, 9): True, (8, 8): True, (7, 7): True, (7, 5): True, (6, 5): True, (5, 5): True, (4, 4): True, (3, 3): True, (2, 2): True, (1, 1): True, (0, 0): True}\n",
      "final= True\n"
     ]
    }
   ],
   "source": [
    "#solution 2: dynamic programming\n",
    "#time complexity O(n), space complexity O(n)\n",
    "def ckMatch(text, pattern):\n",
    "    memo = {}\n",
    "    def dp(i, j):\n",
    "        if (i, j) not in memo:\n",
    "            if j == len(pattern):  #reaches to the end of the pattern\n",
    "                ans = i == len(text) #check if reaches to the end of text\n",
    "            else:\n",
    "                first_match = i < len(text) and pattern[j] in {text[i], '.'}\n",
    "                if j+1 < len(pattern) and pattern[j+1] == '*':\n",
    "                    ans = dp(i, j+2) or first_match and dp(i+1, j) #i and j are forwarded in two ways\n",
    "                else:\n",
    "                    ans = first_match and dp(i+1, j+1) #move i and j forward\n",
    "\n",
    "            memo[i, j] = ans\n",
    "            print(memo)\n",
    "        return memo[i, j]\n",
    "    return dp(0, 0)\n",
    "\n",
    "print (\"final=\", ckMatch(s,pp))"
   ]
  },
  {
   "cell_type": "code",
   "execution_count": 53,
   "metadata": {},
   "outputs": [
    {
     "name": "stdout",
     "output_type": "stream",
     "text": [
      "max water= 49\n"
     ]
    }
   ],
   "source": [
    "#Container With Most Water\n",
    "#solution 1: brute force\n",
    "#time complexity O(n^2), space complexity O(1)\n",
    "h = [1,8,6,2,5,4,8,3,7]\n",
    "w = 0\n",
    "for i in range(len(h)):\n",
    "    for j in range(i+1,len(h)):\n",
    "        w = max(w,min(h[i],h[j])*(j-i))\n",
    "print(\"max water=\",w)\n"
   ]
  },
  {
   "cell_type": "code",
   "execution_count": 56,
   "metadata": {},
   "outputs": [
    {
     "name": "stdout",
     "output_type": "stream",
     "text": [
      "49\n"
     ]
    }
   ],
   "source": [
    "#solution 2: \n",
    "#move from two ends of the x axis towards the center by selecting the next higher y value to recompute the area\n",
    "#time complexity O(n), space complexity O(1)\n",
    "h = [1,8,6,2,5,4,8,3,7]\n",
    "w, l, r = 0, 0, len(h)-1\n",
    "while(l<r):\n",
    "    w = max(w,min(h[l],h[r])*(r-l))\n",
    "    if(h[l]<h[r]):\n",
    "        l=l+1\n",
    "    else:\n",
    "        r=r-1\n",
    "print (w)\n"
   ]
  },
  {
   "cell_type": "code",
   "execution_count": 58,
   "metadata": {},
   "outputs": [
    {
     "name": "stdout",
     "output_type": "stream",
     "text": [
      "input= 1994\n",
      "output= MCMXCIV\n",
      "input= 58\n",
      "output= LVIII\n",
      "input= 9\n",
      "output= IX\n",
      "input= 4\n",
      "output= IV\n",
      "input= 3\n",
      "output= III\n"
     ]
    }
   ],
   "source": [
    "#Integer to Roman\n",
    "#I can be placed before V (5) and X (10) to make 4 and 9. \n",
    "#X can be placed before L (50) and C (100) to make 40 and 90. \n",
    "#C can be placed before D (500) and M (1000) to make 400 and 900.\n",
    "\n",
    "Rnumb = [\"I\",\"IV\",\"V\",\"IX\",\"X\",\"XL\",\"L\",\"XC\",\"C\",\"CD\",\"D\",\"CM\",\"M\"]\n",
    "numb =  [1,4,5,9,10,40,50,90,100,400,500,900,1000]\n",
    "\n",
    "ipt = [1994,58,9,4,3]\n",
    "\n",
    "for i in range(len(ipt)):\n",
    "    \n",
    "    if (ipt[i] < 1) or (ipt[i] > 3999):\n",
    "        print(\"input=\", ipt[i], \" is out of range\")\n",
    "    \n",
    "    opt, k = \"\", len(numb)-1\n",
    "    print(\"input=\",ipt[i])\n",
    "    while (ipt[i] > 0):\n",
    "        if (ipt[i] >= numb[k]):\n",
    "            opt += Rnumb[k]\n",
    "            ipt[i] -= numb[k]\n",
    "        else: \n",
    "            k -= 1\n",
    "\n",
    "print (\"output=\",opt)"
   ]
  },
  {
   "cell_type": "code",
   "execution_count": 60,
   "metadata": {},
   "outputs": [
    {
     "name": "stdout",
     "output_type": "stream",
     "text": [
      "1994\n"
     ]
    }
   ],
   "source": [
    "#Roman to Integer \n",
    "#solution 1: replace the IV, IX, XL, XC and CD & CM\n",
    "def romanToInt(s: str)-> int:\n",
    "        translations = {\n",
    "            \"I\": 1,\n",
    "            \"V\": 5,\n",
    "            \"X\": 10,\n",
    "            \"L\": 50,\n",
    "            \"C\": 100,\n",
    "            \"D\": 500,\n",
    "            \"M\": 1000\n",
    "        }\n",
    "        number = 0\n",
    "        s = s.replace(\"IV\", \"IIII\").replace(\"IX\", \"VIIII\")\n",
    "        s = s.replace(\"XL\", \"XXXX\").replace(\"XC\", \"LXXXX\")\n",
    "        s = s.replace(\"CD\", \"CCCC\").replace(\"CM\", \"DCCCC\")\n",
    "        for char in s:\n",
    "            number += translations[char]\n",
    "        return number\n",
    "s = \"MCMXCIV\"\n",
    "print (romanToInt(s))"
   ]
  },
  {
   "cell_type": "code",
   "execution_count": 62,
   "metadata": {},
   "outputs": [
    {
     "name": "stdout",
     "output_type": "stream",
     "text": [
      "1994\n"
     ]
    }
   ],
   "source": [
    "#solution 2: \n",
    "def romanToInt2(s: str) -> int:\n",
    "        symbols = dict(I=1, V=5, X=10, L=50, C=100, D=500, M=1000)\n",
    "        c_prev = 'M' # greatest value\n",
    "        out = []\n",
    "        for i in range(len(s)):\n",
    "            c = s[i]\n",
    "            if symbols[c] > symbols[c_prev]:\n",
    "                out.append(symbols[c] - 2 * symbols[c_prev]) # I + V = V - I - I\n",
    "            else:\n",
    "                out.append(symbols[c])\n",
    "            c_prev = c\n",
    "        return sum(out)\n",
    "print (romanToInt2(s))"
   ]
  },
  {
   "cell_type": "code",
   "execution_count": null,
   "metadata": {},
   "outputs": [],
   "source": []
  }
 ],
 "metadata": {
  "kernelspec": {
   "display_name": "Python 3",
   "language": "python",
   "name": "python3"
  },
  "language_info": {
   "codemirror_mode": {
    "name": "ipython",
    "version": 3
   },
   "file_extension": ".py",
   "mimetype": "text/x-python",
   "name": "python",
   "nbconvert_exporter": "python",
   "pygments_lexer": "ipython3",
   "version": "3.7.6"
  }
 },
 "nbformat": 4,
 "nbformat_minor": 2
}
