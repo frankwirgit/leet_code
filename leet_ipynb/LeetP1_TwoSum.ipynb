{
 "cells": [
  {
   "cell_type": "code",
   "execution_count": null,
   "metadata": {},
   "outputs": [],
   "source": [
    "#Leetcode problems Part I\n",
    "#Part I (1,3,4,15,16,18)\n",
    "#Two Sums\n",
    "#Longest Substring Without Repeating Characters\n",
    "#Median of Two Sorted Arrays\n",
    "#3Sums\n",
    "#3Sum Closest\n",
    "#4Sum\n",
    "\n"
   ]
  },
  {
   "cell_type": "code",
   "execution_count": 3,
   "metadata": {},
   "outputs": [
    {
     "name": "stdout",
     "output_type": "stream",
     "text": [
      "dict_items([('m', 1), ('i', 4), ('s', 4), ('p', 2)])\n",
      "dict_items([('yellow', [1, 3]), ('blue', [2, 4]), ('red', [1])])\n"
     ]
    }
   ],
   "source": [
    "#4Sum\n",
    "from collections import defaultdict\n",
    "s = 'mississippi'\n",
    "d = defaultdict(int)\n",
    "for k in s:\n",
    "    d[k] += 1\n",
    "print (d.items())\n",
    "\n",
    "s = [('yellow', 1), ('blue', 2), ('yellow', 3), ('blue', 4), ('red', 1)]\n",
    "d = defaultdict(list)\n",
    "for k, v in s:\n",
    "    d[k].append(v)\n",
    "print (d.items())"
   ]
  },
  {
   "cell_type": "code",
   "execution_count": 22,
   "metadata": {},
   "outputs": [
    {
     "name": "stdout",
     "output_type": "stream",
     "text": [
      "n1 0 4 n2 1 5\n",
      "n1 0 4 n2 2 6\n",
      "n1 1 5 n2 2 6\n"
     ]
    }
   ],
   "source": [
    "num = [4,5,6]\n",
    "import itertools\n",
    "for (n1, i1), (n2, i2) in itertools.combinations(enumerate(num), 2): \n",
    "    print (\"n1\", n1, i1, \"n2\", n2, i2)\n"
   ]
  },
  {
   "cell_type": "code",
   "execution_count": 25,
   "metadata": {},
   "outputs": [
    {
     "data": {
      "text/plain": [
       "[[-1, 0, 0, 1], [-2, 0, 0, 2], [-2, -1, 1, 2]]"
      ]
     },
     "execution_count": 25,
     "metadata": {},
     "output_type": "execute_result"
    }
   ],
   "source": [
    "#4Sums\n",
    "#TwoSum+twoSum == fourSum, a simple python solution, use combination with pos=2\n",
    "import collections\n",
    "import itertools\n",
    "class Solution:\n",
    "# @return a list of lists of length 4, [[val1,val2,val3,val4]]\n",
    "    def fourSum(self, num, target):\n",
    "        two_sum = collections.defaultdict(list)\n",
    "        res = set()\n",
    "        for (n1, i1), (n2, i2) in itertools.combinations(enumerate(num), 2): #n1 & n2 = index, i1 & i2 = value\n",
    "            two_sum[i1+i2].append({n1, n2}) \n",
    "        for t in list(two_sum.keys()):\n",
    "            if not two_sum[target-t]:\n",
    "                continue\n",
    "            for pair1 in two_sum[t]:\n",
    "                for pair2 in two_sum[target-t]:\n",
    "                    if pair1.isdisjoint(pair2):\n",
    "                        res.add(tuple(sorted(num[i] for i in pair1 | pair2)))\n",
    "            del two_sum[t]\n",
    "        return [list(r) for r in res]\n",
    "    \n",
    "nums = [1, 0, -1, 0, -2, 2]\n",
    "target = 0\n",
    "a = Solution()\n",
    "a.fourSum(nums,target)"
   ]
  },
  {
   "cell_type": "code",
   "execution_count": null,
   "metadata": {},
   "outputs": [],
   "source": [
    "#4Sums\n",
    "#4 for loops - using hash\n",
    "class Solution:\n",
    "    # @return a list of lists of length 4, [[val1,val2,val3,val4]]\n",
    "    def fourSum(self, nums, target):\n",
    "        nums = sorted(nums) #optimize it by sorting the input list first\n",
    "        result = set() #use set to dedup\n",
    "        for b in xrange(1, len(nums) - 2):\n",
    "            # stores sub_sums for the new num index just moved on\n",
    "            sub_sums = {} #use hash\n",
    "            for a in xrange(b): #xrange is faster and take less memory than range()\n",
    "                sub_sums[nums[a] + nums[b]] = [nums[a], nums[b]]\n",
    "            for c in xrange(b + 1, len(nums) - 1):\n",
    "                for d in xrange(c + 1, len(nums)):\n",
    "                    remainder = target - nums[c] - nums[d]\n",
    "                    if remainder in sub_sums:\n",
    "                        result.add(tuple(\n",
    "                           sub_sums[remainder]  + [nums[c], nums[d]]))\n",
    "    \n",
    "        return map(list, result)"
   ]
  },
  {
   "cell_type": "code",
   "execution_count": 9,
   "metadata": {},
   "outputs": [
    {
     "name": "stdout",
     "output_type": "stream",
     "text": [
      "{2: 0, 7: 1, 11: 2, 15: 3}\n",
      "0 1\n"
     ]
    }
   ],
   "source": [
    "#Two Sums\n",
    "#solution 1: use hash\n",
    "#time complexity O(n), space complexity O(n)\n",
    "nums = [2, 7, 11, 15]\n",
    "target = 9\n",
    "#dic1 = dict(zip(nums, range(len(nums))))\n",
    "#print (dic1)\n",
    "#dct = { i : nums[i] for i in range(0, len(nums) )}\n",
    "#print(dct)\n",
    "dct = { i : num for num, i in enumerate(nums)}\n",
    "print (dct)\n",
    "for i in range(len(nums)):\n",
    "    if((target > nums[i]) & (dct.get(target - nums[i])>0)):\n",
    "        print(i, dct.get(target-nums[i]))\n",
    "        break"
   ]
  },
  {
   "cell_type": "code",
   "execution_count": 11,
   "metadata": {},
   "outputs": [
    {
     "name": "stdout",
     "output_type": "stream",
     "text": [
      "2\n",
      "7\n",
      "11\n",
      "15\n"
     ]
    }
   ],
   "source": [
    "nums = [2, 7, 11, 15]\n",
    "for n in nums:\n",
    "    print (n)"
   ]
  },
  {
   "cell_type": "code",
   "execution_count": 13,
   "metadata": {},
   "outputs": [
    {
     "name": "stdout",
     "output_type": "stream",
     "text": [
      "7\n",
      "{2: 0}\n",
      "2\n",
      "1 0\n"
     ]
    }
   ],
   "source": [
    "#solution 2: use hash with internal func\n",
    "map = {}\n",
    "for x in range(len(nums)):\n",
    "    comp = target-nums[x]\n",
    "    print(comp)\n",
    "    if comp in map:\n",
    "        print (x, map.get(comp))\n",
    "        break\n",
    "    map[nums[x]] = x\n",
    "    print (map)\n"
   ]
  },
  {
   "cell_type": "code",
   "execution_count": 16,
   "metadata": {},
   "outputs": [],
   "source": [
    "#2Sum - return value pair\n",
    "def TwoSum(n, target):\n",
    "    mp={}\n",
    "    res = []\n",
    "    for i in range(len(n)):\n",
    "        m = target - n[i]\n",
    "        if n[i] in mp:\n",
    "            res.append([n[i], mp[n[i]]])   #mp[n[i]]==m\n",
    "            return res\n",
    "        else:\n",
    "            mp[m]=n[i]\n",
    "\n",
    "n = [2, 7, 11, 15]\n",
    "target = 9\n",
    "n = [-4, -1, -1, 0, 1, 2]\n",
    "target = 4\n",
    "TwoSum(n,target)\n"
   ]
  },
  {
   "cell_type": "code",
   "execution_count": 90,
   "metadata": {},
   "outputs": [
    {
     "name": "stdout",
     "output_type": "stream",
     "text": [
      "[0, 1, 2, -1, -4]\n"
     ]
    }
   ],
   "source": [
    "#3Sums\n",
    "#Given an array nums of n integers, are there elements a, b, c in nums such that a + b + c = 0? Find all unique triplets in the array which gives the sum of zero.\n",
    "s = [-1, 0, 1, 2, -1, -4]\n",
    "#interate s, find TwoSums in s[1:] with target = -s[0]\n"
   ]
  },
  {
   "cell_type": "code",
   "execution_count": 1,
   "metadata": {},
   "outputs": [
    {
     "name": "stdout",
     "output_type": "stream",
     "text": [
      "6\n"
     ]
    }
   ],
   "source": [
    "s = [-1, 0, 1, 2, -1, -4]\n",
    "print(len(s))"
   ]
  },
  {
   "cell_type": "code",
   "execution_count": 18,
   "metadata": {},
   "outputs": [
    {
     "name": "stdout",
     "output_type": "stream",
     "text": [
      "[-4, -1, -1, 0, 1, 2, 9]\n",
      "[-1, -1, 0, 1, 2, 9] 4\n",
      "temp []\n",
      "[-1, 0, 1, 2, 9] 1\n",
      "temp [[1, 0], [2, -1]]\n",
      "[0, 1, 2, 9] 1\n",
      "temp [[1, 0]]\n",
      "[1, 2, 9] 0\n",
      "temp []\n"
     ]
    },
    {
     "data": {
      "text/plain": [
       "[]"
      ]
     },
     "execution_count": 18,
     "metadata": {},
     "output_type": "execute_result"
    }
   ],
   "source": [
    "#3Sums solution 1\n",
    "class Solution:\n",
    "    def threeSum(self, nums):\n",
    "        res = []\n",
    "        if len(nums) < 3:\n",
    "            return res\n",
    "        if nums == [0]*len(nums):\n",
    "            return [[0,0,0]]\n",
    "        nums.sort()\n",
    "        print(nums)\n",
    "        if nums[-1] <= 0:\n",
    "            return []\n",
    "        while nums[0] <= 0:\n",
    "            target = nums[0]\n",
    "            nums.remove(nums[0])\n",
    "            print(nums, -target)\n",
    "            temp = self.twoSum(nums, -target)\n",
    "            print('temp',temp)\n",
    "            for sub_res in temp:\n",
    "                sub_res.append(target)\n",
    "                res.append(sub_res)\n",
    "                #print(res)\n",
    "        res_uniq = list(set([tuple(l) for l in res]))   #Avoid duplicates\n",
    "        return res_uniq\n",
    "\n",
    "    def twoSum(self, nums, target):\n",
    "        dic = {}\n",
    "        res = []\n",
    "\n",
    "        for num in nums:\n",
    "            residual = target - num\n",
    "            if num not in dic:\n",
    "                dic[residual] = num\n",
    "                #print (\"dic\",dic)\n",
    "            else:\n",
    "                res.append([num, dic[num]])\n",
    "                #print (\"res\",res)\n",
    "        return res\n",
    "\n",
    "s = [9, -1, 0, 1, 2, -1, -4]\n",
    "a = Solution()\n",
    "a.threeSum(s)\n",
    "\n",
    "n = [-4, -1, -1, 0, 1, 2]\n",
    "target = 4\n",
    "b = Solution()\n",
    "b.twoSum(n, target)"
   ]
  },
  {
   "cell_type": "code",
   "execution_count": null,
   "metadata": {},
   "outputs": [],
   "source": [
    "'''\n",
    "The main idea is to iterate every number in nums.\n",
    "We use the number as a target to find two other numbers which make total zero.\n",
    "For those two other numbers, we move pointers, l and r, to try them.\n",
    "\n",
    "l start from left to right\n",
    "r start from right to left\n",
    "\n",
    "First, we sort the array, so we can easily move i around and know how to adjust l and r.\n",
    "If the number is the same as the number before, we have used it as target already, continue. [1]\n",
    "We always start the left pointer from i+1 because the combination of 0~i has already been tried. [2]\n",
    "\n",
    "Now we calculate the total:\n",
    "If the total is less than zero, we need it to be larger, so we move the left pointer. [3]\n",
    "If the total is greater than zero, we need it to be smaller, so we move the right pointer. [4]\n",
    "If the total is zero, bingo! [5]\n",
    "We need to move the left and right pointers to the next different numbers, so we do not get repeating result. [6]\n",
    "\n",
    "We do not need to consider i after nums[i]>0, since sum of 3 positive will be always greater than zero. [7]\n",
    "We do not need to try the last two, since there are no rooms for l and r pointers.\n",
    "You can think of it as The last two have been tried by all others. [8]\n",
    "\n",
    "For time complexity\n",
    "Sorting takes O(NlogN)\n",
    "Now, we need to think as if the 'nums' is really really big\n",
    "We iterate through the 'nums' once, and each time we iterate the whole array again by a while loop\n",
    "So it is O(NlogN+N^2)~=O(N^2)\n",
    "\n",
    "For space complexity\n",
    "We didn't use extra space except the 'res'\n",
    "Since we may store the whole 'nums' in it\n",
    "So it is O(N)\n",
    "N is the length of 'nums'\n",
    "'''"
   ]
  },
  {
   "cell_type": "code",
   "execution_count": null,
   "metadata": {},
   "outputs": [],
   "source": [
    "#3Sum solution 2\n",
    "def threeSum(self, nums):\n",
    "    res = []\n",
    "    nums.sort()\n",
    "    length = len(nums)\n",
    "    for i in xrange(length-2): #[8]\n",
    "        if nums[i]>0: break #[7]\n",
    "        if i>0 and nums[i]==nums[i-1]: continue #[1]\n",
    "\n",
    "        l, r = i+1, length-1 #[2]\n",
    "        while l<r:\n",
    "            total = nums[i]+nums[l]+nums[r]\n",
    "\n",
    "            if total<0: #[3]\n",
    "                l+=1\n",
    "            elif total>0: #[4]\n",
    "                r-=1\n",
    "            else: #[5]\n",
    "                res.append([nums[i], nums[l], nums[r]])\n",
    "                while l<r and nums[l]==nums[l+1]: #[6]\n",
    "                    l+=1\n",
    "                while l<r and nums[r]==nums[r-1]: #[6]\n",
    "                    r-=1\n",
    "                l+=1\n",
    "                r-=1\n",
    "    return res"
   ]
  },
  {
   "cell_type": "code",
   "execution_count": 55,
   "metadata": {},
   "outputs": [
    {
     "name": "stdout",
     "output_type": "stream",
     "text": [
      "[-4, -1, 1, 2, 7, 8]\n",
      "i= 0\n",
      "t= 5\n",
      "i= 1\n",
      "t= 2\n",
      "i= 2\n",
      "t= 0\n",
      "i= 3\n",
      "t= -1\n",
      "{'sum': 2, '1st': -4, '2nd': -1, '3rd': 7}\n"
     ]
    }
   ],
   "source": [
    "#3Sum Closest\n",
    "def threeSumClosest(nums, target):\n",
    "    nums=sorted(nums) #sort first \n",
    "    print(nums)\n",
    "    tmp=9999\n",
    "    i=0\n",
    "    sum=0\n",
    "    n=len(nums)\n",
    "    sumset = {} \n",
    "    \n",
    "    for i in range(n-2): \n",
    "        print(\"i=\",i)\n",
    "        if(i>1)and(nums[i-1]==nums[i]):continue\n",
    "        left=i+1\n",
    "        right=n-1\n",
    "        t=target-nums[i]\n",
    "        print(\"t=\",t)\n",
    "        if(t<0):  #nums is sorted, nums[i] > target, means the the current sum is the one closest to the target\n",
    "            return sumset\n",
    "        #print(\"nums=\", nums[i], \"t=\", t)\n",
    "        while(left<right):\n",
    "            re=nums[left]+nums[right]-t\n",
    "            #print(\"re\",re)\n",
    "            if abs(re)<tmp:\n",
    "                sum=nums[left]+nums[right]+nums[i]\n",
    "                sumset = {\"sum\":sum, \"1st\":nums[i], \"2nd\":nums[left], \"3rd\":nums[right]}\n",
    "                tmp=abs(re)\n",
    "            if(re<0):\n",
    "                left+=1\n",
    "            elif(re==0):\n",
    "                return sumset\n",
    "            else:\n",
    "                right-=1\n",
    "    return sumset\n",
    "\n",
    "nums = [-1, 2, 1, -4, 7, 8]\n",
    "target = 1\n",
    "print (threeSumClosest(nums,target))"
   ]
  },
  {
   "cell_type": "code",
   "execution_count": 43,
   "metadata": {},
   "outputs": [
    {
     "name": "stdout",
     "output_type": "stream",
     "text": [
      "{'a': 0, 'b': 1, 'c': 2}\n"
     ]
    }
   ],
   "source": [
    "#Longest Substring Without Repeating Characters\n",
    "#solution 1: use hash\n",
    "#time complexity O(n), space complexity O(n)\n",
    "map1 = {}\n",
    "map2 = {}\n",
    "strs = \"abcabcbb\"\n",
    "for i in range(len(strs)):\n",
    "    #print (strs[i])\n",
    "    if (strs[i] not in map1):\n",
    "        map1[strs[i]]=i\n",
    "    else:\n",
    "        if(len(map1)>len(map2)):\n",
    "            map2 = map1.copy()\n",
    "        map1.clear()\n",
    "        map1[strs[i]]=i\n",
    "print(map2)\n"
   ]
  },
  {
   "cell_type": "code",
   "execution_count": 67,
   "metadata": {},
   "outputs": [
    {
     "name": "stdout",
     "output_type": "stream",
     "text": [
      "[1, 2, 3, 4, 5, 6]\n",
      "3.5\n"
     ]
    }
   ],
   "source": [
    "#Median of Two Sorted Arrays\n",
    "#solution 1: use internal functions\n",
    "#time complexity O(log(n)), space complexity O(n)\n",
    "\n",
    "#import statistics\n",
    "import math\n",
    "nums1 = [1, 2]\n",
    "nums2 = [3, 4, 5, 6]\n",
    "nums1.extend(nums2)\n",
    "sorted(nums1)\n",
    "print (nums1)\n",
    "#print (statistics.median(nums1))\n",
    "#print (math.floor(len(nums1)/2),math.ceil(len(nums1)/2))\n",
    "if (len(nums1)%2==1):\n",
    "    print(nums1[math.floor(len(nums1)/2)])\n",
    "else:\n",
    "    print ((nums1[int(len(nums1)/2)]+nums1[int(len(nums1)/2)-1])/2)"
   ]
  },
  {
   "cell_type": "code",
   "execution_count": null,
   "metadata": {},
   "outputs": [],
   "source": [
    "#solution 2: copied, binary search\n",
    "#time complexity O(log(n)), space complexity O(1)\n",
    "\n",
    "def median(A, B):\n",
    "    m, n = len(A), len(B)\n",
    "    if m > n:\n",
    "        A, B, m, n = B, A, n, m\n",
    "    if n == 0:\n",
    "        raise ValueError\n",
    "\n",
    "    imin, imax, half_len = 0, m, (m + n + 1) / 2\n",
    "    while imin <= imax:\n",
    "        i = (imin + imax) / 2\n",
    "        j = half_len - i\n",
    "        if i < m and B[j-1] > A[i]:\n",
    "            # i is too small, must increase it\n",
    "            imin = i + 1\n",
    "        elif i > 0 and A[i-1] > B[j]:\n",
    "            # i is too big, must decrease it\n",
    "            imax = i - 1\n",
    "        else:\n",
    "            # i is perfect\n",
    "\n",
    "            if i == 0: max_of_left = B[j-1]\n",
    "            elif j == 0: max_of_left = A[i-1]\n",
    "            else: max_of_left = max(A[i-1], B[j-1])\n",
    "\n",
    "            if (m + n) % 2 == 1:\n",
    "                return max_of_left\n",
    "\n",
    "            if i == m: min_of_right = B[j]\n",
    "            elif j == n: min_of_right = A[i]\n",
    "            else: min_of_right = min(A[i], B[j])\n",
    "\n",
    "            return (max_of_left + min_of_right) / 2.0"
   ]
  }
 ],
 "metadata": {
  "kernelspec": {
   "display_name": "Python 3",
   "language": "python",
   "name": "python3"
  },
  "language_info": {
   "codemirror_mode": {
    "name": "ipython",
    "version": 3
   },
   "file_extension": ".py",
   "mimetype": "text/x-python",
   "name": "python",
   "nbconvert_exporter": "python",
   "pygments_lexer": "ipython3",
   "version": "3.6.5"
  }
 },
 "nbformat": 4,
 "nbformat_minor": 2
}
