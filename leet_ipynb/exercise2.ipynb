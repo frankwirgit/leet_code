{
 "cells": [
  {
   "cell_type": "code",
   "execution_count": null,
   "metadata": {},
   "outputs": [],
   "source": []
  },
  {
   "cell_type": "code",
   "execution_count": null,
   "metadata": {},
   "outputs": [],
   "source": [
    "#31.Next Permutation\n",
    "#1st pass: find nums[i] > nums[i-1]. (so nums[i:] is in decreasing order)\n",
    "#2nd pass: from nums[i:], find a minimum number that is bigger than nums[i-1], swap with nums[i-1]\n",
    "#reverse num[i:] to make it increasing.\n",
    "#Note that if num[:] is decreasing, reverse num[:]\n",
    "\n",
    "def nextPermutation(nums):\n",
    "    for i in range(len(nums)-1, -1, -1):\n",
    "        if i > 0 and nums[i] > nums[i-1]:  # 1nd condition is met\n",
    "            #for j in reversed(range(i,len(nums))):\n",
    "            for j in range(len(nums)-1, i-1, -1):\n",
    "                if nums[j] > nums[i-1]:    # 2nd condition is met\n",
    "                    nums[i-1], nums[j] = nums[j], nums[i-1]\n",
    "                    break\n",
    "            break\n",
    "    nums[i:] = nums[i:][::-1]\n",
    "    return nums\n",
    "n = [3,2,1]\n",
    "print(nextPermutation(n))"
   ]
  },
  {
   "cell_type": "code",
   "execution_count": 2,
   "metadata": {},
   "outputs": [
    {
     "data": {
      "text/plain": [
       "[1, 2, 3]"
      ]
     },
     "execution_count": 2,
     "metadata": {},
     "output_type": "execute_result"
    }
   ],
   "source": [
    "def NextPermu(n):\n",
    "    for i in range(len(n)-1,-1,-1):\n",
    "        if i>0 and n[i]>n[i-1]: \n",
    "            for j in range(len(n)-1,i-1,-1):\n",
    "                if n[j]>n[i-1]:\n",
    "                    n[i-1],n[j]=n[j],n[i-1]\n",
    "                    break\n",
    "            break\n",
    "    n[i:]=n[i:][::-1]\n",
    "    return n\n",
    "\n",
    "n = [3,2,1]\n",
    "NextPermu(n)\n",
    "        "
   ]
  },
  {
   "cell_type": "code",
   "execution_count": null,
   "metadata": {},
   "outputs": [],
   "source": [
    "#32.Longest valid parentheses\n",
    "def longestValidParentheses(self, s):\n",
    "        stack = []\n",
    "        for i in range(len(s)):\n",
    "            if s[i] == '(':\n",
    "                stack.append(i)\n",
    "            elif stack and s[stack[-1]] == '(':\n",
    "                stack.pop()\n",
    "            else:\n",
    "                stack.append(i)\n",
    "        stack = [-1] + stack + [len(s)]\n",
    "        ans = 0\n",
    "        for i in range(len(stack)-1):\n",
    "            ans = max(ans, stack[i+1]-stack[i]-1)\n",
    "        return ans\n",
    "\n",
    "s1 = \"(()\"\n",
    "a=Solution()\n",
    "print(a.longestValidParentheses(s1))\n"
   ]
  },
  {
   "cell_type": "code",
   "execution_count": 10,
   "metadata": {},
   "outputs": [
    {
     "name": "stdout",
     "output_type": "stream",
     "text": [
      "2\n"
     ]
    },
    {
     "data": {
      "text/plain": [
       "4"
      ]
     },
     "execution_count": 10,
     "metadata": {},
     "output_type": "execute_result"
    }
   ],
   "source": [
    "def LongestVP(s):\n",
    "    stack=[]\n",
    "    for i in range(len(s)):\n",
    "        if s[i] == \"(\":\n",
    "            stack.append(i)\n",
    "        elif stack and s[stack[-1]]=='(':\n",
    "            stack.pop()\n",
    "        else:\n",
    "            stack.append(i)\n",
    "    stack = stack+[len(s)]\n",
    "    res = stack[0]\n",
    "    for i in range(1, len(stack)):\n",
    "        res = max(res, stack[i]-stack[i-1]-1)\n",
    "    return res\n",
    "\n",
    "s1 = \"(()\"\n",
    "print(LongestVP(s1))\n",
    "s2 = \")()())\"\n",
    "LongestVP(s2)"
   ]
  },
  {
   "cell_type": "code",
   "execution_count": null,
   "metadata": {},
   "outputs": [],
   "source": [
    "#33.Search in Rotated Sorted Array\n",
    "def search(self, nums, target):\n",
    "    left, right = 0, len(nums) - 1\n",
    "    while left <= right:\n",
    "        mid = (left + right) >> 1\n",
    "        if nums[mid] == target:\n",
    "            return mid\n",
    "        if target >= nums[0]:\n",
    "            if nums[mid] < target and nums[mid] >= nums[0]:\n",
    "                left = mid + 1\n",
    "            else:\n",
    "                right = mid - 1\n",
    "        else:\n",
    "            if nums[mid] < target or nums[mid] >= nums[0]:\n",
    "                left = mid + 1\n",
    "            else:\n",
    "                right = mid - 1\n",
    "    return -1"
   ]
  },
  {
   "cell_type": "code",
   "execution_count": 14,
   "metadata": {},
   "outputs": [
    {
     "name": "stdout",
     "output_type": "stream",
     "text": [
      "4\n"
     ]
    },
    {
     "data": {
      "text/plain": [
       "-1"
      ]
     },
     "execution_count": 14,
     "metadata": {},
     "output_type": "execute_result"
    }
   ],
   "source": [
    "def SearchRSA(n,t):\n",
    "    l, r = 0, len(n)-1\n",
    "    while l <= r:\n",
    "        mid = (l+r)//2\n",
    "        if n[mid]==t:\n",
    "            return mid\n",
    "        if t >= n[0]:\n",
    "            if n[mid]<t and n[mid]>=n[0]:\n",
    "                l = mid + 1\n",
    "            else:\n",
    "                r = mid -1\n",
    "        else:\n",
    "            if n[mid]<t or n[mid]>=n[0]:\n",
    "                l = mid + 1\n",
    "            else:\n",
    "                r = mid -1\n",
    "    return -1\n",
    "n = [4,5,6,7,0,1,2]\n",
    "t1 = 0\n",
    "print(SearchRSA(n,t1))\n",
    "t2 = 3\n",
    "SearchRSA(n,t2)\n"
   ]
  },
  {
   "cell_type": "code",
   "execution_count": null,
   "metadata": {},
   "outputs": [],
   "source": [
    "#34.Find First and Last Position of Element in Sorted Array \n",
    "class Solution(object):\n",
    "    def searchRange(self, nums, target):\n",
    "        n = len(nums)\n",
    "        left, right = -1, -1\n",
    "        l, r = 0, n-1\n",
    "        while l < r:\n",
    "            m = (l+r)/2\n",
    "            if nums[m] < target: l = m+1\n",
    "            else: r = m\n",
    "        if nums[l] != target: return -1, -1\n",
    "        left = l\n",
    "        l, r = left, n-1\n",
    "        while l < r:\n",
    "            m = (l+r)/2+1\n",
    "            if nums[m] == target: l = m\n",
    "            else: r = m-1\n",
    "        right = l\n",
    "        return left, right"
   ]
  },
  {
   "cell_type": "code",
   "execution_count": 20,
   "metadata": {},
   "outputs": [
    {
     "data": {
      "text/plain": [
       "[-1, -1]"
      ]
     },
     "execution_count": 20,
     "metadata": {},
     "output_type": "execute_result"
    }
   ],
   "source": [
    "def SearchRangeSA(n,t):\n",
    "    start, end = 0, len(n)-1\n",
    "    while start < end:\n",
    "        mid = (start+end)//2\n",
    "        if n[mid]<t:\n",
    "            start = mid + 1\n",
    "        else:\n",
    "            end = mid\n",
    "        if n[start] !=t:\n",
    "            return [-1,-1]\n",
    "        l, r = start, len(n)-1\n",
    "        while l < r:\n",
    "            m = (l+r)//2+1\n",
    "            if n[m]==t:\n",
    "                l = m\n",
    "            else:\n",
    "                r = m -1\n",
    "        return [start, l]\n",
    "n = [5,7,7,8,8,10]\n",
    "t = 8\n",
    "SearchRangeSA(n,t)\n",
    "t = 6\n",
    "SearchRangeSA(n,t)\n",
    "    "
   ]
  },
  {
   "cell_type": "code",
   "execution_count": null,
   "metadata": {},
   "outputs": [],
   "source": [
    "#35.Search Insert Position\n",
    "for (int i = 0; i < nums.length; i++) {\n",
    "    if (nums[i] >= target) return i;\n",
    "}\n",
    "    return nums.length;\n",
    "\n",
    "[1,3,5,6], 2\n",
    "def searchInsert(self, nums, target):\n",
    "        \"\"\"\n",
    "        :type nums: List[int]\n",
    "        :type target: int\n",
    "        :rtype: int\n",
    "        \"\"\"\n",
    "        low, high = 0, len(nums)-1\n",
    "        while low <= high:\n",
    "            mid = low + (high-low)//2\n",
    "            if nums[mid] < target:\n",
    "                low = mid+1\n",
    "            else:\n",
    "                high = mid-1\n",
    "        return low"
   ]
  },
  {
   "cell_type": "code",
   "execution_count": 24,
   "metadata": {},
   "outputs": [
    {
     "data": {
      "text/plain": [
       "0"
      ]
     },
     "execution_count": 24,
     "metadata": {},
     "output_type": "execute_result"
    }
   ],
   "source": [
    "def InsertP(n,t):\n",
    "    for i in range(len(n)):\n",
    "        if n[i]>=t:\n",
    "            return i\n",
    "    return len(n)\n",
    "n = [1,3,5,6]\n",
    "InsertP(n,2)\n",
    "InsertP(n,5)\n",
    "InsertP(n,7)\n",
    "InsertP(n,0)"
   ]
  },
  {
   "cell_type": "code",
   "execution_count": null,
   "metadata": {},
   "outputs": [],
   "source": [
    "#36.Valid Sudoku\n",
    "def isValidSudoku(self, board):\n",
    "    return (self.is_row_valid(board) and\n",
    "            self.is_col_valid(board) and\n",
    "            self.is_square_valid(board))\n",
    "\n",
    "def is_row_valid(self, board):\n",
    "    for row in board:\n",
    "        if not self.is_unit_valid(row):\n",
    "            return False\n",
    "    return True\n",
    "\n",
    "def is_col_valid(self, board):\n",
    "    for col in zip(*board):\n",
    "        if not self.is_unit_valid(col):\n",
    "            return False\n",
    "    return True\n",
    "    \n",
    "def is_square_valid(self, board):\n",
    "    for i in (0, 3, 6):\n",
    "        for j in (0, 3, 6):\n",
    "            square = [board[x][y] for x in range(i, i + 3) for y in range(j, j + 3)]\n",
    "            if not self.is_unit_valid(square):\n",
    "                return False\n",
    "    return True\n",
    "    \n",
    "def is_unit_valid(self, unit):\n",
    "    unit = [i for i in unit if i != '.' and i>=1 and i<=9]\n",
    "    return len(set(unit)) == len(unit)"
   ]
  },
  {
   "cell_type": "code",
   "execution_count": 25,
   "metadata": {},
   "outputs": [
    {
     "name": "stdout",
     "output_type": "stream",
     "text": [
      "[1, 3, 4, 5, 7, 8, 9]\n"
     ]
    }
   ],
   "source": [
    "n=[1,3,4,5,7,8,9,'.',0]\n",
    "unit = [i for i in n if i != '.' and i>=1 and i<=9]\n",
    "print (unit)"
   ]
  },
  {
   "cell_type": "code",
   "execution_count": null,
   "metadata": {},
   "outputs": [],
   "source": [
    "#37.Sudoku Solver\n",
    "class Solution:\n",
    "    # @param board, a 9x9 2D array\n",
    "    # Solve the Sudoku by modifying the input board in-place.\n",
    "    # Do not return any value.\n",
    "    def solveSudoku(self, board):\n",
    "        self.board = board\n",
    "        self.solve()\n",
    "    \n",
    "    def findUnassigned(self):\n",
    "        for row in range(9):\n",
    "            for col in range(9):\n",
    "                if self.board[row][col] == \".\":\n",
    "                    return row, col\n",
    "        return -1, -1\n",
    "    \n",
    "    def solve(self):\n",
    "        row, col = self.findUnassigned()\n",
    "        #no unassigned position is found, puzzle solved\n",
    "        if row == -1 and col == -1:\n",
    "            return True\n",
    "        for num in [\"1\",\"2\",\"3\",\"4\",\"5\",\"6\",\"7\",\"8\",\"9\"]:\n",
    "            if self.isSafe(row, col, num):\n",
    "                self.board[row][col] = num\n",
    "                if self.solve():\n",
    "                    return True\n",
    "                self.board[row][col] = \".\"\n",
    "        return False\n",
    "            \n",
    "    def isSafe(self, row, col, ch):\n",
    "        boxrow = row - row%3\n",
    "        boxcol = col - col%3\n",
    "        if self.checkrow(row,ch) and self.checkcol(col,ch) and self.checksquare(boxrow, boxcol, ch):\n",
    "            return True\n",
    "        return False\n",
    "    \n",
    "    def checkrow(self, row, ch):\n",
    "        for col in range(9):\n",
    "            if self.board[row][col] == ch:\n",
    "                return False\n",
    "        return True\n",
    "    \n",
    "    def checkcol(self, col, ch):\n",
    "        for row in range(9):\n",
    "            if self.board[row][col] == ch:\n",
    "                return False\n",
    "        return True\n",
    "       \n",
    "    def checksquare(self, row, col, ch):\n",
    "        for r in range(row, row+3):\n",
    "            for c in range(col, col+3):\n",
    "                if self.board[r][c] == ch:\n",
    "                    return False\n",
    "        return True"
   ]
  },
  {
   "cell_type": "code",
   "execution_count": null,
   "metadata": {},
   "outputs": [],
   "source": [
    "#38.Count and Say\n",
    "def countAndSay(self, n):\n",
    "    s = '1'\n",
    "    for _ in range(n-1):\n",
    "        let, temp, count = s[0], '', 0\n",
    "        for l in s:\n",
    "            if let == l:\n",
    "                count += 1\n",
    "            else:\n",
    "                temp += str(count)+let\n",
    "                let = l\n",
    "                count = 1\n",
    "        temp += str(count)+let\n",
    "        s = temp\n",
    "    return s"
   ]
  },
  {
   "cell_type": "code",
   "execution_count": 27,
   "metadata": {},
   "outputs": [
    {
     "data": {
      "text/plain": [
       "'1211'"
      ]
     },
     "execution_count": 27,
     "metadata": {},
     "output_type": "execute_result"
    }
   ],
   "source": [
    "def CountSay(n):\n",
    "    s = '1'\n",
    "    for i in range(n-1):\n",
    "        c, tmp, count = s[0],'',0\n",
    "        for d in s:\n",
    "            if c == d:\n",
    "                count += 1\n",
    "            else:\n",
    "                tmp = tmp + str(count)+c\n",
    "                c = d\n",
    "                count = 1\n",
    "        s = tmp + str(count) + c\n",
    "    return s\n",
    "n = 5\n",
    "CountSay(n)\n",
    "n= 4\n",
    "CountSay(n)"
   ]
  },
  {
   "cell_type": "code",
   "execution_count": null,
   "metadata": {},
   "outputs": [],
   "source": [
    "#39.Combination Sum\n",
    "def combinationSum(self, candidates, target):\n",
    "    return self.combinationSum_helper(sorted(candidates), 0, target)\n",
    "\n",
    "def combinationSum_helper(self, candidates, i, target):\n",
    "    if target==0: return [[]]\n",
    "    ans = []\n",
    "    for j in xrange(i,len(candidates)):\n",
    "        x = candidates[j]\n",
    "        if x > target: break\n",
    "        tmp = self.combinationSum_helper(candidates, j , target-x)\n",
    "        for l in tmp:\n",
    "            l.insert(0,x)\n",
    "        ans += tmp\n",
    "    return ans"
   ]
  },
  {
   "cell_type": "code",
   "execution_count": 33,
   "metadata": {},
   "outputs": [
    {
     "data": {
      "text/plain": [
       "[[2, 2, 3], [7]]"
      ]
     },
     "execution_count": 33,
     "metadata": {},
     "output_type": "execute_result"
    }
   ],
   "source": [
    "def CombSum(n,t):\n",
    "    return helper(sorted(n),0,t)\n",
    "def helper(n,i,t):\n",
    "    if t==0: return [[]]\n",
    "    res = []\n",
    "    for j in range(i,len(n)):\n",
    "        x = n[j]\n",
    "        if x > t:\n",
    "            break\n",
    "        tmp = helper(n,j,t-x)\n",
    "        for k in tmp:\n",
    "            k.insert(0,x)\n",
    "        res += tmp\n",
    "    return res\n",
    "\n",
    "n = [2,3,5]\n",
    "t = 8\n",
    "CombSum(n,t)\n",
    "n = [2,3,6,7]\n",
    "t = 7\n",
    "CombSum(n,t)"
   ]
  },
  {
   "cell_type": "code",
   "execution_count": null,
   "metadata": {},
   "outputs": [],
   "source": [
    "def combinationSum(self, candidates, target):\n",
    "    res = []\n",
    "    candidates.sort()\n",
    "    self.dfs(candidates, target, 0, [], res)\n",
    "    return res\n",
    "    \n",
    "def dfs(self, nums, target, index, path, res):\n",
    "    if target < 0:\n",
    "        return  # backtracking\n",
    "    if target == 0:\n",
    "        res.append(path)\n",
    "        return \n",
    "    for i in xrange(index, len(nums)):\n",
    "        self.dfs(nums, target-nums[i], i, path+[nums[i]], res)"
   ]
  },
  {
   "cell_type": "code",
   "execution_count": 36,
   "metadata": {},
   "outputs": [
    {
     "data": {
      "text/plain": [
       "[[2, 2, 2, 2], [2, 3, 3], [3, 5]]"
      ]
     },
     "execution_count": 36,
     "metadata": {},
     "output_type": "execute_result"
    }
   ],
   "source": [
    "def CombSum1(n,t):\n",
    "    res = []\n",
    "    n.sort()\n",
    "    dfs(n,t,0,[],res)\n",
    "    return res\n",
    "\n",
    "def dfs(n,t,j,path,res):\n",
    "    if t<0: return\n",
    "    if t==0:\n",
    "        res.append(path)\n",
    "        return\n",
    "    for i in range(j,len(n)):\n",
    "        dfs(n,t-n[i],i,path+[n[i]],res)\n",
    "n = [2,3,5]\n",
    "t = 8\n",
    "CombSum1(n,t)\n"
   ]
  },
  {
   "cell_type": "code",
   "execution_count": null,
   "metadata": {},
   "outputs": [],
   "source": [
    "#40.Combination Sum II\n",
    "def combinationSum2(self, candidates, target):\n",
    "    res = []\n",
    "    candidates.sort()\n",
    "    self.dfs(candidates, target, 0, [], res)\n",
    "    return res\n",
    "    \n",
    "def dfs(self, candidates, target, index, path, res):\n",
    "    if target < 0:\n",
    "        return  # backtracking\n",
    "    if target == 0:\n",
    "        res.append(path)\n",
    "        return  # backtracking \n",
    "    for i in xrange(index, len(candidates)):\n",
    "        if i > index and candidates[i] == candidates[i-1]:\n",
    "            continue\n",
    "        self.dfs(candidates, target-candidates[i], i+1, path+[candidates[i]], res)"
   ]
  },
  {
   "cell_type": "code",
   "execution_count": 38,
   "metadata": {},
   "outputs": [
    {
     "data": {
      "text/plain": [
       "[[1, 2, 2], [5]]"
      ]
     },
     "execution_count": 38,
     "metadata": {},
     "output_type": "execute_result"
    }
   ],
   "source": [
    "def CombSum2(n,t):\n",
    "    res=[]\n",
    "    n.sort()\n",
    "    dfs(n,t,0,[],res)\n",
    "    return res\n",
    "def dfs(n,t,j,path,res):\n",
    "    if t<0: return\n",
    "    if t==0:\n",
    "        res.append(path)\n",
    "        return\n",
    "    for i in range(j,len(n)):\n",
    "        if i>j and n[i]==n[i-1]:\n",
    "            continue\n",
    "        dfs(n,t-n[i],i+1,path+[n[i]],res)\n",
    "n = [10,1,2,7,6,1,5]\n",
    "t=8\n",
    "CombSum2(n,t)\n",
    "n=[2,5,2,1,2]\n",
    "t=5\n",
    "CombSum2(n,t)"
   ]
  },
  {
   "cell_type": "code",
   "execution_count": null,
   "metadata": {},
   "outputs": [],
   "source": [
    "#41.First Missing Positive\n",
    "def firstMissingPositive(self, nums):\n",
    "        \"\"\"\n",
    "        :type nums: List[int]\n",
    "        :rtype: int\n",
    "        \"\"\"\n",
    "        temp, N = [None]*len(nums), len(nums)\n",
    "        for x in nums:\n",
    "            if 1<=x<=N:\n",
    "                temp[x-1] = x\n",
    "        for i in range(N):\n",
    "            if temp[i] == None:\n",
    "                return i+1\n",
    "        return N+1"
   ]
  },
  {
   "cell_type": "code",
   "execution_count": 53,
   "metadata": {},
   "outputs": [
    {
     "name": "stdout",
     "output_type": "stream",
     "text": [
      "[None, None, None, None, None]\n",
      "1\n",
      "[1, None, 3, 4]\n",
      "2\n",
      "[1, 2, None]\n",
      "3\n"
     ]
    }
   ],
   "source": [
    "def FirstMP(n):\n",
    "    tmp = [None]*len(n)\n",
    "    for x in n:\n",
    "        if 1<=x<=len(n):\n",
    "            tmp[x-1]=x\n",
    "    print(tmp)\n",
    "    for i in range(len(n)):\n",
    "        if tmp[i]==None:\n",
    "            return i+1\n",
    "    return len(n)+1\n",
    "n = [7,8,9,11,12]\n",
    "print(FirstMP(n))\n",
    "n = [3,4,-1,1]\n",
    "print(FirstMP(n))\n",
    "n = [1,2,0]\n",
    "print(FirstMP(n))"
   ]
  },
  {
   "cell_type": "code",
   "execution_count": null,
   "metadata": {},
   "outputs": [],
   "source": [
    "#42.Trapping Rain Water\n",
    "def trap(self, arr):\n",
    "    height, left, right, water = [], 0, 0, 0\n",
    "    for i in arr:\n",
    "        left = max(left, i)\n",
    "        height.append(left)\n",
    "    height.reverse()\n",
    "    for n, i in enumerate(reversed(arr)):\n",
    "        right = max(right, i)\n",
    "        water += min(height[n], right) - i\n",
    "    return water\n",
    "def trap(self, height):\n",
    "        \"\"\"\n",
    "        :type height: List[int]\n",
    "        :rtype: int\n",
    "        \"\"\"\n",
    "        i,j = 0,len(height)-1\n",
    "        left_max = right_max = 0\n",
    "        ans = 0\n",
    "        while i<j:\n",
    "            left_max = max(left_max,height[i])\n",
    "            right_max = max(right_max,height[j])\n",
    "            if left_max <= right_max:\n",
    "                ans += (left_max-height[i])\n",
    "                i += 1\n",
    "            else:\n",
    "                ans += (right_max-height[j])\n",
    "                j -= 1\n",
    "        return ans"
   ]
  },
  {
   "cell_type": "code",
   "execution_count": 56,
   "metadata": {},
   "outputs": [
    {
     "data": {
      "text/plain": [
       "6"
      ]
     },
     "execution_count": 56,
     "metadata": {},
     "output_type": "execute_result"
    }
   ],
   "source": [
    "def TrapW(h):\n",
    "    l, r, lm, rm, w = 0, len(h)-1, 0, 0, 0\n",
    "    while l<r:\n",
    "        lm = max(lm,h[l])\n",
    "        rm = max(rm,h[r])\n",
    "        if lm<=rm:\n",
    "            w += lm-h[l]\n",
    "            l += 1\n",
    "        else:\n",
    "            w += rm-h[r]\n",
    "            r -= 1\n",
    "    return w\n",
    "h = [0,1,0,2,1,0,1,3,2,1,2,1]\n",
    "TrapW(h)"
   ]
  },
  {
   "cell_type": "code",
   "execution_count": null,
   "metadata": {},
   "outputs": [],
   "source": [
    "#43.Multiply Strings\n",
    "def multiply(self, num1, num2):\n",
    "    res = [0] * (len(num1) + len(num2))\n",
    "    for i in xrange(len(num1)-1, -1, -1):\n",
    "        carry = 0\n",
    "        for j in xrange(len(num2)-1, -1, -1):\n",
    "            tmp = int(num1[i])*int(num2[j])+carry \n",
    "            # take care of the order of the next two lines\n",
    "            carry = (res[i+j+1] + tmp) // 10  \n",
    "            res[i+j+1] = (res[i+j+1] + tmp) % 10\n",
    "            # or simply: carry, res[i+j+1] = divmod((res[i+j+1] + tmp), 10)\n",
    "        res[i] += carry\n",
    "    res = \"\".join(map(str, res))\n",
    "    return '0' if not res.lstrip(\"0\") else res.lstrip(\"0\")"
   ]
  },
  {
   "cell_type": "code",
   "execution_count": 60,
   "metadata": {},
   "outputs": [
    {
     "name": "stdout",
     "output_type": "stream",
     "text": [
      "2 1\n",
      "[0, 0, 1, 3, 6, 8]\n",
      "1 1\n",
      "[0, 1, 0, 4, 8, 8]\n",
      "0 0\n",
      "[0, 5, 6, 0, 8, 8]\n"
     ]
    },
    {
     "data": {
      "text/plain": [
       "'56088'"
      ]
     },
     "execution_count": 60,
     "metadata": {},
     "output_type": "execute_result"
    }
   ],
   "source": [
    "def MultiplyS(n1,n2):\n",
    "    res = [0]*(len(n1)+len(n2))\n",
    "    for i in range(len(n1)-1, -1,-1):\n",
    "        carry = 0\n",
    "        for j in range(len(n2)-1, -1,-1):\n",
    "            tmp = int(n1[i])*int(n2[j])+carry\n",
    "            carry = (res[i+j+1]+tmp)//10\n",
    "            res[i+j+1]=(res[i+j+1]+tmp)%10\n",
    "        res[i] += carry\n",
    "        print(i,res[i])\n",
    "        print (res)\n",
    "    res = \"\".join(map(str,res))\n",
    "    return '0' if not res.lstrip('0') else res.lstrip('0')\n",
    "n1 = \"123\"\n",
    "n2 = \"456\"\n",
    "MultiplyS(n1,n2)"
   ]
  },
  {
   "cell_type": "code",
   "execution_count": null,
   "metadata": {},
   "outputs": [],
   "source": [
    "#44. Wildcard Matching\n",
    "def isMatch(self, s, p):\n",
    "    i, j = 0, 0 # pointer for matching, i for string and j for pattern\n",
    "    k, l = len(s), 0 # pointer for back tracking *\n",
    "    while i < len(s):\n",
    "        if j < len(p) and p[j] == '*': \n",
    "            k, l = i, j # record the location of latest *\n",
    "            j += 1 #  * can match empty string\n",
    "        elif j < len(p) and (p[j] == '?' or p[j] == s[i]):\n",
    "            i += 1 \n",
    "            j += 1\n",
    "        elif k < len(s): # if match fails, backtracking to latest *\n",
    "            i, j = k+1, l+1\n",
    "            k += 1 \n",
    "        else: # if no stars to fall back to \n",
    "            return False \n",
    "\n",
    "    # To address if pattern p is trailed by multiple stars\n",
    "    while j < len(p) and p[j] == '*':\n",
    "        j += 1\n",
    "    return j == len(p)\n"
   ]
  },
  {
   "cell_type": "code",
   "execution_count": 66,
   "metadata": {},
   "outputs": [
    {
     "data": {
      "text/plain": [
       "False"
      ]
     },
     "execution_count": 66,
     "metadata": {},
     "output_type": "execute_result"
    }
   ],
   "source": [
    "def WildcardMatch(s,p):\n",
    "    i, j = 0, 0\n",
    "    k, l = len(s), 0\n",
    "    while i<len(s):\n",
    "        if j<len(p) and p[j]=='*':\n",
    "            k,l = i, j\n",
    "            j += 1\n",
    "        elif j < len(p) and (p[j]=='?' or p[j]==s[i]):\n",
    "            i += 1\n",
    "            j += 1\n",
    "        elif k < len(s):\n",
    "            i, j = k+1, l+1\n",
    "            k += 1\n",
    "        else:\n",
    "            return False\n",
    "    while j<len(p) and p[j]=='*':\n",
    "        j += 1\n",
    "    return j==len(p)\n",
    "s=\"aa\"\n",
    "p=\"a\"\n",
    "WildcardMatch(s,p)\n",
    "s=\"aa\"\n",
    "p=\"*\"\n",
    "WildcardMatch(s,p)\n",
    "s=\"cb\"\n",
    "p=\"?a\"\n",
    "WildcardMatch(s,p)\n",
    "s=\"adceb\"\n",
    "p=\"*a*b\"\n",
    "WildcardMatch(s,p)\n",
    "s=\"acdcb\"\n",
    "p=\"a*c?b\"\n",
    "WildcardMatch(s,p)"
   ]
  },
  {
   "cell_type": "code",
   "execution_count": null,
   "metadata": {},
   "outputs": [],
   "source": [
    "#45.Jump Game II (minimum jump to reach the last index)\n",
    "def jump(self, A):\n",
    "    last_max_reach, current_max_reach = 0 , 0\n",
    "    njump , i = 0 , 0\n",
    "    while current_max_reach < len(A)-1:\n",
    "        while i <= last_max_reach:\n",
    "            current_max_reach = max(i+A[i],current_max_reach)\n",
    "            i+=1\n",
    "        if last_max_reach == current_max_reach:\n",
    "            return -1\n",
    "        last_max_reach = current_max_reach\n",
    "        njump+=1\n",
    "    return njump"
   ]
  },
  {
   "cell_type": "code",
   "execution_count": 67,
   "metadata": {},
   "outputs": [
    {
     "data": {
      "text/plain": [
       "2"
      ]
     },
     "execution_count": 67,
     "metadata": {},
     "output_type": "execute_result"
    }
   ],
   "source": [
    "def Minjump(n):\n",
    "    pm, cm, njump, i = 0, 0, 0, 0\n",
    "    while cm < len(n)-1:\n",
    "        while i <= pm:\n",
    "            cm = max(i+n[i],cm)\n",
    "            i += 1\n",
    "        if pm == cm:\n",
    "            return -1\n",
    "        pm = cm\n",
    "        njump += 1\n",
    "    return njump\n",
    "n = [2,3,1,1,4]\n",
    "Minjump(n)\n",
    "        \n",
    "    "
   ]
  },
  {
   "cell_type": "code",
   "execution_count": null,
   "metadata": {},
   "outputs": [],
   "source": [
    "#46. Permutations\n",
    "def permute(self, nums):\n",
    "    ans = [nums]\n",
    "    for i in range(1, len(nums)):\n",
    "        m = len(ans)\n",
    "        for k in range(m):\n",
    "            for j in range(i):\n",
    "                ans.append(ans[k][:])\n",
    "                ans[-1][j], ans[-1][i] = ans[-1][i], ans[-1][j]\n",
    "    return ans"
   ]
  },
  {
   "cell_type": "code",
   "execution_count": 73,
   "metadata": {},
   "outputs": [
    {
     "data": {
      "text/plain": [
       "[[1, 2, 3], [2, 1, 3], [3, 2, 1], [1, 3, 2], [3, 1, 2], [2, 3, 1]]"
      ]
     },
     "execution_count": 73,
     "metadata": {},
     "output_type": "execute_result"
    }
   ],
   "source": [
    "def Permu(n):\n",
    "    res = [n]\n",
    "    for i in range(1,len(n)):\n",
    "        m = len(res)\n",
    "        for k in range(m):\n",
    "            for j in range(i):\n",
    "                res.append(res[k][:])\n",
    "                #print(res)\n",
    "                res[-1][j],res[-1][i]=res[-1][i],res[-1][j]\n",
    "            #print (res)\n",
    "    return res\n",
    "n = [1,2,3]\n",
    "Permu(n)"
   ]
  },
  {
   "cell_type": "code",
   "execution_count": 72,
   "metadata": {},
   "outputs": [
    {
     "data": {
      "text/plain": [
       "[[1, 2, 3], [1, 3, 2], [2, 1, 3], [2, 3, 1], [3, 1, 2], [3, 2, 1]]"
      ]
     },
     "execution_count": 72,
     "metadata": {},
     "output_type": "execute_result"
    }
   ],
   "source": [
    "def Permu2(nums):\n",
    "    return [[n] + p\n",
    "            for i, n in enumerate(nums)\n",
    "            for p in Permu2(nums[:i] + nums[i+1:])] or [[]]\n",
    "n = [1,2,3]\n",
    "Permu2(n)"
   ]
  },
  {
   "cell_type": "code",
   "execution_count": null,
   "metadata": {},
   "outputs": [],
   "source": [
    "def permuteUnique(self, nums):\n",
    "    ans = [nums]\n",
    "    for i in xrange(1, len(nums)):\n",
    "        m = len(ans)\n",
    "        for k in xrange(m):\n",
    "            for j in xrange(i - 1, -1, -1):\n",
    "                if ans[k][j] == ans[k][i]:\n",
    "                    break\n",
    "                ans.append(ans[k][:])\n",
    "                val = ans[-1][j]\n",
    "                ans[-1][j] = ans[-1][i]\n",
    "                ans[-1][i] = val\n",
    "    return ans"
   ]
  },
  {
   "cell_type": "code",
   "execution_count": 74,
   "metadata": {},
   "outputs": [
    {
     "data": {
      "text/plain": [
       "[[1, 1, 2], [1, 2, 1], [2, 1, 1]]"
      ]
     },
     "execution_count": 74,
     "metadata": {},
     "output_type": "execute_result"
    }
   ],
   "source": [
    "def PermuDedup(n):\n",
    "    res = [n]\n",
    "    for i in range(1,len(n)):\n",
    "        m = len(res)\n",
    "        for k in range(m):\n",
    "            for j in range(i-1,-1,-1):\n",
    "                if res[k][j]==res[k][i]:\n",
    "                    break\n",
    "                res.append(res[k][:])\n",
    "                res[-1][j],res[-1][i]=res[-1][i],res[-1][j]\n",
    "    return res\n",
    "n = [1,1,2]\n",
    "PermuDedup(n)"
   ]
  },
  {
   "cell_type": "code",
   "execution_count": 98,
   "metadata": {},
   "outputs": [
    {
     "name": "stdout",
     "output_type": "stream",
     "text": [
      "[(7, 4, 1), (8, 5, 2), (9, 6, 3)]\n",
      "[(3, 6, 9), (2, 5, 8), (1, 4, 7)]\n"
     ]
    }
   ],
   "source": [
    "#48.Rotate Image - 90 degrees clockwise in place\n",
    "def RotateImg(n):\n",
    "    n[:] = zip(*n[::-1])\n",
    "    return n\n",
    "def CRotateImg(m):\n",
    "    m[:] = zip(*m[:])\n",
    "    return m[::-1]\n",
    "n = [\n",
    "  [1,2,3],\n",
    "  [4,5,6],\n",
    "  [7,8,9]\n",
    "]\n",
    "m = n.copy()\n",
    "print (RotateImg(n))\n",
    "print (CRotateImg(m))\n"
   ]
  },
  {
   "cell_type": "code",
   "execution_count": 101,
   "metadata": {},
   "outputs": [],
   "source": [
    "#49. Group Anagrams\n",
    "import collections\n",
    "def groupAnagrams(strs):\n",
    "    ans = collections.defaultdict(list)\n",
    "    for s in strs:\n",
    "        print(s)\n",
    "        ans[tuple(sorted(s))].append(s)\n",
    "        print(ans)\n",
    "    return ans.values()\n",
    "strs = [\"eat\", \"tea\", \"tan\", \"ate\", \"nat\", \"bat\"]\n",
    "groupAnagrams(strs)"
   ]
  },
  {
   "cell_type": "code",
   "execution_count": 100,
   "metadata": {},
   "outputs": [
    {
     "data": {
      "text/plain": [
       "dict_values([['eat', 'tea', 'ate'], ['tan', 'nat'], ['bat']])"
      ]
     },
     "execution_count": 100,
     "metadata": {},
     "output_type": "execute_result"
    }
   ],
   "source": [
    "def GroupAnag(s):\n",
    "    res = collections.defaultdict(list)\n",
    "    for c in s:\n",
    "        res[tuple(sorted(c))].append(c)\n",
    "    return res.values()\n",
    "s = [\"eat\", \"tea\", \"tan\", \"ate\", \"nat\", \"bat\"]\n",
    "GroupAnag(s)"
   ]
  },
  {
   "cell_type": "code",
   "execution_count": null,
   "metadata": {},
   "outputs": [],
   "source": [
    "#50.Pow(x, n)\n",
    "#solution 1: Recursive\n",
    "def myPow(x, n):\n",
    "    if not n:\n",
    "        return 1\n",
    "    if n < 0:\n",
    "        return 1 / myPow(x, -n)\n",
    "    if n % 2:\n",
    "        return x * myPow(x, n-1)\n",
    "    return self.myPow(x*x, n/2)\n",
    "\n",
    "#solution 2: \n",
    "def myPow(x, n):\n",
    "    if n < 0:\n",
    "        x = 1 / x\n",
    "        n = -n\n",
    "    pow = 1\n",
    "    while n:\n",
    "        if n & 1:\n",
    "            pow *= x\n",
    "        x *= x\n",
    "        n >>= 1\n",
    "    return pow"
   ]
  },
  {
   "cell_type": "code",
   "execution_count": 106,
   "metadata": {},
   "outputs": [
    {
     "data": {
      "text/plain": [
       "0.25"
      ]
     },
     "execution_count": 106,
     "metadata": {},
     "output_type": "execute_result"
    }
   ],
   "source": [
    "def PowSub(x,n):\n",
    "    if n==0: return 1\n",
    "    if n<0: return 1/ PowSub(x,-n)\n",
    "    if n%2: return x*PowSub(x,n-1)\n",
    "    return PowSub(x*x,n/2)\n",
    "\n",
    "def PowSub2(x,n):\n",
    "    if n<0:\n",
    "        x, n = 1/x, -n\n",
    "    pw = 1\n",
    "    while n:\n",
    "        if n & 1: pw *= x\n",
    "        x *=x\n",
    "        n >>= 1\n",
    "    return pw\n",
    "x, n = 2.00000, 10\n",
    "PowSub(x,n)\n",
    "x, n = 2.10000, 3\n",
    "PowSub2(x,n)\n",
    "x, n = 2.00000, -2\n",
    "PowSub(x,n)\n",
    "PowSub2(x,n)"
   ]
  },
  {
   "cell_type": "code",
   "execution_count": 109,
   "metadata": {},
   "outputs": [
    {
     "data": {
      "text/plain": [
       "[['.Q..', '...Q', 'Q...', '..Q.'], ['..Q.', 'Q...', '...Q', '.Q..']]"
      ]
     },
     "execution_count": 109,
     "metadata": {},
     "output_type": "execute_result"
    }
   ],
   "source": [
    "#51.N-Queens\n",
    "#return all distinct solutions to the n-queens puzzle.\n",
    "\n",
    "def solveNQueens(n):\n",
    "    res = []\n",
    "    dfs([-1]*n, 0, [], res)\n",
    "    return res\n",
    " \n",
    "# nums is a one-dimension array, like [1, 3, 0, 2] means first queen is placed in column 1, second queen is placed in column 3, etc.\n",
    "def dfs(nums, index, path, res):\n",
    "    if index == len(nums):\n",
    "        res.append(path)\n",
    "        return  # backtracking\n",
    "    for i in range(len(nums)):\n",
    "        nums[index] = i\n",
    "        if valid(nums, index):  # pruning\n",
    "            tmp = \".\"*len(nums)\n",
    "            dfs(nums, index+1, path+[tmp[:i]+\"Q\"+tmp[i+1:]], res)\n",
    "\n",
    "# check whether nth queen can be placed in that column\n",
    "def valid(nums, n):\n",
    "    for i in range(n):\n",
    "        if abs(nums[i]-nums[n]) == n -i or nums[i] == nums[n]:\n",
    "            return False\n",
    "    return True\n",
    "n=4\n",
    "solveNQueens(4)"
   ]
  },
  {
   "cell_type": "code",
   "execution_count": 149,
   "metadata": {},
   "outputs": [
    {
     "name": "stdout",
     "output_type": "stream",
     "text": [
      "[['.Q..', '...Q', 'Q...', '..Q.']]\n",
      "[['.Q..', '...Q', 'Q...', '..Q.'], ['..Q.', 'Q...', '...Q', '.Q..']]\n"
     ]
    },
    {
     "data": {
      "text/plain": [
       "([['.Q..', '...Q', 'Q...', '..Q.'], ['..Q.', 'Q...', '...Q', '.Q..']], 0)"
      ]
     },
     "execution_count": 149,
     "metadata": {},
     "output_type": "execute_result"
    }
   ],
   "source": [
    "def NQueen(n):\n",
    "    res = []\n",
    "    tk = 0\n",
    "    dfs([-1]*n,0,[],res,tk)\n",
    "    return res, tk\n",
    "def dfs(N,ind,path,res,tk):\n",
    "    if ind == len(N):\n",
    "        res.append(path)\n",
    "        tk += 1\n",
    "        print (res)\n",
    "        return\n",
    "    for i in range(len(N)):\n",
    "        N[ind]=i\n",
    "        if valid(N,ind):\n",
    "            tmp = '.'*len(N)\n",
    "            dfs(N,ind+1,path+[tmp[:i]+'Q'+tmp[i+1:]], res, tk)\n",
    "            \n",
    "def valid(N,ind):\n",
    "    for i in range(ind):\n",
    "        if abs(N[i]-N[ind]) == ind-i or N[i]==N[ind]:\n",
    "            return False\n",
    "    return True\n",
    "n=4\n",
    "NQueen(n)"
   ]
  },
  {
   "cell_type": "code",
   "execution_count": 162,
   "metadata": {},
   "outputs": [
    {
     "name": "stdout",
     "output_type": "stream",
     "text": [
      "1\n",
      "2\n"
     ]
    },
    {
     "data": {
      "text/plain": [
       "2"
      ]
     },
     "execution_count": 162,
     "metadata": {},
     "output_type": "execute_result"
    }
   ],
   "source": [
    "#52.N-Queens II\n",
    "#return the number of distinct solutions to the n-queens puzzle.\n",
    "class Solution(object):\n",
    "    def totalNQueens(self, n):\n",
    "        self.res = 0\n",
    "        self.dfs([-1]*n, 0)\n",
    "        return self.res\n",
    "\n",
    "    def dfs(self, nums, index):\n",
    "        if index == len(nums):\n",
    "            self.res += 1\n",
    "            print (self.res)\n",
    "            return \n",
    "        for i in range(len(nums)):\n",
    "            nums[index] = i\n",
    "            if self.valid(nums, index):\n",
    "                self.dfs(nums, index+1)\n",
    "\n",
    "    def valid(self, nums, n):\n",
    "        for i in range(n):\n",
    "            if nums[i] == nums[n] or abs(nums[n]-nums[i]) == n-i:\n",
    "                return False\n",
    "        return True\n",
    "a = Solution()\n",
    "a.totalNQueens(4)"
   ]
  },
  {
   "cell_type": "code",
   "execution_count": 167,
   "metadata": {},
   "outputs": [
    {
     "data": {
      "text/plain": [
       "2"
      ]
     },
     "execution_count": 167,
     "metadata": {},
     "output_type": "execute_result"
    }
   ],
   "source": [
    "def NQueenN(n):\n",
    "    res = [0]   \n",
    "    dfs([-1]*n, 0, res)\n",
    "    return res[0]\n",
    "\n",
    "def dfs(N, ind, res):\n",
    "    if ind == len(N):\n",
    "        res[0] += 1\n",
    "        #print(res)\n",
    "        return\n",
    "    for i in range(len(N)):\n",
    "        N[ind]=i\n",
    "        if valid(N,ind):\n",
    "            dfs(N,ind+1, res)\n",
    "\n",
    "def valid(N,ind):\n",
    "    for i in range(ind):\n",
    "        if abs(N[i]-N[ind])==ind-i or N[i]==N[ind]:\n",
    "            return False\n",
    "    return True\n",
    "\n",
    "NQueenN(4) "
   ]
  },
  {
   "cell_type": "code",
   "execution_count": null,
   "metadata": {},
   "outputs": [],
   "source": [
    "#53.Maximum Subarray\n",
    "class Solution:\n",
    "    # @param A, a list of integers\n",
    "    # @return an integer\n",
    "    # 6:57\n",
    "    def maxSubArray(self, A):\n",
    "        if not A:\n",
    "            return 0\n",
    "\n",
    "        curSum = maxSum = A[0]\n",
    "        for num in A[1:]:\n",
    "            curSum = max(num, curSum + num)\n",
    "            maxSum = max(maxSum, curSum)\n",
    "\n",
    "        return maxSum\n"
   ]
  },
  {
   "cell_type": "code",
   "execution_count": 172,
   "metadata": {},
   "outputs": [
    {
     "name": "stdout",
     "output_type": "stream",
     "text": [
      "6\n"
     ]
    },
    {
     "data": {
      "text/plain": [
       "[4, -1, 2, 1]"
      ]
     },
     "execution_count": 172,
     "metadata": {},
     "output_type": "execute_result"
    }
   ],
   "source": [
    "def MaxSubAR(n):\n",
    "    if not n: return 0\n",
    "    csum=maxsum=n[0]\n",
    "    for x in n[1:]:\n",
    "        csum = max(x,csum+x)\n",
    "        maxsum = max(maxsum,csum)\n",
    "    return maxsum\n",
    "n = [-2,1,-3,4,-1,2,1,-5,4]\n",
    "print(MaxSubAR(n))\n",
    "\n",
    "def MaxSubAR2(n):\n",
    "    if not n: return []\n",
    "    csum, maxsum,l,pl,pr = n[0],n[0],0,0,1\n",
    "    for i in range(1,len(n)):\n",
    "        r = i+1\n",
    "        csum += n[i]\n",
    "        if n[i]>csum:\n",
    "            csum = n[i]\n",
    "            l = i\n",
    "        if csum > maxsum:\n",
    "            pl, pr = l, r\n",
    "            maxsum = csum\n",
    "    return n[pl:pr]\n",
    "n = [-2,1,-3,4,-1,2,1,-5,4]\n",
    "MaxSubAR2(n)"
   ]
  },
  {
   "cell_type": "code",
   "execution_count": null,
   "metadata": {},
   "outputs": [],
   "source": [
    "#54.Spiral Matrix\n",
    "#Given a matrix of m x n elements (m rows, n columns), return all elements of the matrix in spiral order.\n",
    "'''\n",
    "Input:\n",
    "[\n",
    " [ 1, 2, 3 ],\n",
    " [ 4, 5, 6 ],\n",
    " [ 7, 8, 9 ]\n",
    "]\n",
    "Output: [1,2,3,6,9,8,7,4,5]\n",
    "'''\n",
    "def spiralOrder(self, matrix):\n",
    "    return matrix and [*matrix.pop(0)] + self.spiralOrder([*zip(*matrix)][::-1])"
   ]
  },
  {
   "cell_type": "code",
   "execution_count": 191,
   "metadata": {},
   "outputs": [
    {
     "name": "stdout",
     "output_type": "stream",
     "text": [
      "[1, 2, 3, 6, 9, 8, 7, 4, 5]\n"
     ]
    },
    {
     "data": {
      "text/plain": [
       "[1, 2, 3, 4, 8, 12, 11, 10, 9, 5, 6, 7]"
      ]
     },
     "execution_count": 191,
     "metadata": {},
     "output_type": "execute_result"
    }
   ],
   "source": [
    "\n",
    "#def SpiralM(self, n):\n",
    "    #return n and [*n.pop[0]] + self.SpiralM([*zip(*n)][::-1])\n",
    "def SpiralM(matrix):\n",
    "    return matrix and list(matrix.pop(0)) + SpiralM([*zip(*matrix)][::-1])\n",
    "\n",
    "m1 = [\n",
    "  [1,2,3],\n",
    "  [4,5,6],\n",
    "  [7,8,9]\n",
    "]\n",
    "m2 = [\n",
    "  [1, 2, 3, 4],\n",
    "  [5, 6, 7, 8],\n",
    "  [9,10,11,12]\n",
    "]\n",
    "\n",
    "print (SpiralM(m1))\n",
    "SpiralM(m2)"
   ]
  },
  {
   "cell_type": "code",
   "execution_count": null,
   "metadata": {},
   "outputs": [],
   "source": [
    "#55.Jump Game\n",
    "#Linear - Ladders and Stairs Solution\n",
    "class Solution(object):\n",
    "    def canJump(self, nums):\n",
    "        max_reach = nums[0]\n",
    "        end_index = len(nums)-1\n",
    "        if max_reach >= end_index:\n",
    "            return True\n",
    "        for i in range(1, len(nums)):\n",
    "            if i > max_reach:\n",
    "                return False\n",
    "            max_reach = max(max_reach, i+nums[i])\n",
    "            if max_reach >= end_index:\n",
    "                return True            \n",
    "        return False"
   ]
  },
  {
   "cell_type": "code",
   "execution_count": 193,
   "metadata": {},
   "outputs": [
    {
     "data": {
      "text/plain": [
       "False"
      ]
     },
     "execution_count": 193,
     "metadata": {},
     "output_type": "execute_result"
    }
   ],
   "source": [
    "def JumpG(n):\n",
    "    maxsum = n[0]\n",
    "    if maxsum >= len(n)-1:\n",
    "        return True\n",
    "    for i in range(1,len(n)):\n",
    "        if i > maxsum:\n",
    "            return False\n",
    "        maxsum = max(maxsum,i+n[i])\n",
    "        if maxsum >= len(n)-1:\n",
    "            return True\n",
    "    return False\n",
    "n = [2,3,1,1,4]\n",
    "JumpG(n)\n",
    "n = [3,2,1,0,4]\n",
    "JumpG(n)"
   ]
  },
  {
   "cell_type": "code",
   "execution_count": null,
   "metadata": {},
   "outputs": [],
   "source": [
    "#56.Merge Intervals\n",
    "\n",
    "def merge(self, intervals):\n",
    "    out = []\n",
    "    for i in sorted(intervals, key=lambda i: i.start):\n",
    "        if out and i.start <= out[-1].end:\n",
    "            out[-1].end = max(out[-1].end, i.end)\n",
    "        else:\n",
    "            out += i,\n",
    "    return out"
   ]
  },
  {
   "cell_type": "code",
   "execution_count": 195,
   "metadata": {},
   "outputs": [
    {
     "name": "stdout",
     "output_type": "stream",
     "text": [
      "[[1, 6], [8, 10], [15, 18]]\n"
     ]
    },
    {
     "data": {
      "text/plain": [
       "[[1, 5]]"
      ]
     },
     "execution_count": 195,
     "metadata": {},
     "output_type": "execute_result"
    }
   ],
   "source": [
    "def MergeInv(n):\n",
    "    res = []\n",
    "    for i in sorted(n, key=lambda i: i[0]):\n",
    "        if res and i[0]<=res[-1][1]:\n",
    "            res[-1][1]=max(res[-1][1], i[1])\n",
    "        else:\n",
    "            res += i,\n",
    "    return res\n",
    "n = [[1,3],[2,6],[8,10],[15,18]]\n",
    "print(MergeInv(n))\n",
    "n = [[1,4],[4,5]]\n",
    "MergeInv(n)"
   ]
  },
  {
   "cell_type": "code",
   "execution_count": null,
   "metadata": {},
   "outputs": [],
   "source": [
    "#57. Insert Interval\n",
    "def insert1(self, intervals, newInterval):\n",
    "    intervals.append(newInterval)\n",
    "    res = []\n",
    "    for i in sorted(intervals, key=lambda x:x.start):\n",
    "        if res and res[-1].end >= i.start:\n",
    "            res[-1].end = max(res[-1].end, i.end)\n",
    "        else:\n",
    "            res.append(i)\n",
    "    return res"
   ]
  },
  {
   "cell_type": "code",
   "execution_count": 198,
   "metadata": {},
   "outputs": [
    {
     "data": {
      "text/plain": [
       "[[1, 2], [3, 10], [12, 16]]"
      ]
     },
     "execution_count": 198,
     "metadata": {},
     "output_type": "execute_result"
    }
   ],
   "source": [
    "def InsertInv(n,nt):\n",
    "    n.append(nt)\n",
    "    res=[]\n",
    "    for i in sorted(n,key=lambda i: i[0]):\n",
    "        if res and i[0]<=res[-1][1]:\n",
    "            res[-1][1]=max(res[-1][1], i[1])\n",
    "        else:\n",
    "            res.append(i)\n",
    "    return res\n",
    "n = [[1,3],[6,9]]\n",
    "nt=[2,5]\n",
    "InsertInv(n,nt)\n",
    "n=[[1,2],[3,5],[6,7],[8,10],[12,16]]\n",
    "nt=[4,8]\n",
    "InsertInv(n,nt)"
   ]
  },
  {
   "cell_type": "code",
   "execution_count": null,
   "metadata": {},
   "outputs": [],
   "source": [
    "#58.Length of Last Word\n",
    "class Solution:\n",
    "    def lengthOfLastWord(self, s: str) -> int:\n",
    "        return 0 if len(s.split()) == 0 else len(s.split()[-1])"
   ]
  },
  {
   "cell_type": "code",
   "execution_count": 199,
   "metadata": {},
   "outputs": [
    {
     "data": {
      "text/plain": [
       "5"
      ]
     },
     "execution_count": 199,
     "metadata": {},
     "output_type": "execute_result"
    }
   ],
   "source": [
    "def LenLastW(s):\n",
    "    if len(s.split())==0: return 0\n",
    "    else:\n",
    "        return len(s.split()[-1])\n",
    "s = \"Hello World\"\n",
    "LenLastW(s)"
   ]
  },
  {
   "cell_type": "code",
   "execution_count": 4,
   "metadata": {},
   "outputs": [],
   "source": [
    "#59. Spiral Matrix II\n",
    "def generateMatrix(n):\n",
    "    A, lo = [], n*n+1\n",
    "    while lo > 1:\n",
    "        lo, hi = lo - len(A), lo\n",
    "        A = [range(lo,hi)] + zip(*A[::-1])\n",
    "    return A\n"
   ]
  },
  {
   "cell_type": "code",
   "execution_count": 14,
   "metadata": {},
   "outputs": [
    {
     "name": "stdout",
     "output_type": "stream",
     "text": [
      "10 10\n",
      "9 10\n",
      "8 9\n",
      "6 8\n",
      "4 6\n",
      "1 4\n"
     ]
    },
    {
     "data": {
      "text/plain": [
       "[[1, 2, 3], [8, 9, 4], [7, 6, 5]]"
      ]
     },
     "execution_count": 14,
     "metadata": {},
     "output_type": "execute_result"
    }
   ],
   "source": [
    "def SprialMX(n):\n",
    "    matrix,low=[],n*n+1\n",
    "    while low > 1:\n",
    "        low, high = low-len(matrix),low\n",
    "        print(low, high)\n",
    "        #matrix = [tuple(range(low,high))]+[*zip(*matrix[::-1])]\n",
    "        matrix = [list(range(low,high))]+[list(a) for a in zip(*matrix[::-1])]\n",
    "    return matrix\n",
    "n=3\n",
    "SprialMX(n)"
   ]
  },
  {
   "cell_type": "code",
   "execution_count": null,
   "metadata": {},
   "outputs": [],
   "source": [
    "#60.Permutation Sequence\n",
    "import math\n",
    "class Solution:\n",
    "    # @param {integer} n\n",
    "    # @param {integer} k\n",
    "    # @return {string}\n",
    "    def getPermutation(self, n, k):\n",
    "        numbers = range(1, n+1)\n",
    "        permutation = ''\n",
    "        k -= 1\n",
    "        while n > 0:\n",
    "            n -= 1\n",
    "            # get the index of current digit\n",
    "            index, k = divmod(k, math.factorial(n))\n",
    "            permutation += str(numbers[index])\n",
    "            # remove handled number\n",
    "            numbers.remove(numbers[index])\n",
    "\n",
    "        return permutation"
   ]
  },
  {
   "cell_type": "code",
   "execution_count": 19,
   "metadata": {},
   "outputs": [
    {
     "name": "stdout",
     "output_type": "stream",
     "text": [
      "1 2\n",
      "[1, 2, 3, 4]\n",
      "[]\n",
      "===\n",
      "1 0\n",
      "[1, 3, 4]\n",
      "['2']\n",
      "===\n",
      "0 0\n",
      "[1, 4]\n",
      "['2', '3']\n",
      "===\n",
      "0 0\n",
      "[4]\n",
      "['2', '3', '1']\n",
      "===\n"
     ]
    },
    {
     "data": {
      "text/plain": [
       "['2', '3', '1', '4']"
      ]
     },
     "execution_count": 19,
     "metadata": {},
     "output_type": "execute_result"
    }
   ],
   "source": [
    "import math\n",
    "def PermutK(n,k):\n",
    "    num=list(range(1,n+1))\n",
    "    res = []\n",
    "    k -= 1\n",
    "    while n>0:\n",
    "        n -= 1\n",
    "        ind, k = divmod(k,math.factorial(n))\n",
    "        print (ind,k)\n",
    "        print (num)\n",
    "        print (res)\n",
    "        print ('===')\n",
    "        res += str(num[ind])\n",
    "        num.remove(num[ind])\n",
    "    return res\n",
    "#PermutK(3,3)\n",
    "PermutK(4,9)"
   ]
  },
  {
   "cell_type": "code",
   "execution_count": null,
   "metadata": {},
   "outputs": [],
   "source": [
    "#61. Rotate List\n",
    "def rotateRight(self, head, k):\n",
    "    if not head or not head.next or k == 0:\n",
    "        return head\n",
    "    cur, l = head, 0\n",
    "    while cur:\n",
    "        l += 1\n",
    "        cur = cur.next\n",
    "    k %= l\n",
    "    if k == 0:\n",
    "        return head\n",
    "    fast = slow = head\n",
    "    for _ in xrange(k):\n",
    "        fast = fast.next\n",
    "    while fast and fast.next:\n",
    "        fast = fast.next\n",
    "        slow = slow.next\n",
    "    ret = slow.next\n",
    "    fast.next = head\n",
    "    slow.next = None\n",
    "    return ret"
   ]
  },
  {
   "cell_type": "code",
   "execution_count": null,
   "metadata": {},
   "outputs": [],
   "source": [
    "def RotateR(h,k):\n",
    "    if not h or not h.next or k==0:\n",
    "        return h\n",
    "    cur, ln = head, 0\n",
    "    while cur:\n",
    "        ln += 1n\n",
    "        cur = cur.next\n",
    "    k = k%ln\n",
    "    if k == 0:\n",
    "        return h\n",
    "    fast = slow = head\n",
    "    for i in range(k):\n",
    "        fast = fast.next\n",
    "    while fast and fast.next:\n",
    "        fast = fast.next\n",
    "        slow = slow.next\n",
    "    ret = slow.next\n",
    "    fast.next = head\n",
    "    slow.next = None\n",
    "    return ret\n"
   ]
  },
  {
   "cell_type": "code",
   "execution_count": null,
   "metadata": {},
   "outputs": [],
   "source": [
    "#62.Unique Paths\n",
    "class Solution:\n",
    "    # @return an integer\n",
    "    def uniquePaths2(self, m, n):\n",
    "        aux = [[1 for x in range(n)] for x in range(m)]\n",
    "        print (aux)\n",
    "        print (len(aux),len(aux[0]))\n",
    "        for i in range(1, m):\n",
    "            for j in range(1, n):\n",
    "                aux[i][j] = aux[i][j-1]+aux[i-1][j]\n",
    "        return aux[-1][-1]"
   ]
  },
  {
   "cell_type": "code",
   "execution_count": 27,
   "metadata": {},
   "outputs": [
    {
     "name": "stdout",
     "output_type": "stream",
     "text": [
      "3\n"
     ]
    },
    {
     "data": {
      "text/plain": [
       "28"
      ]
     },
     "execution_count": 27,
     "metadata": {},
     "output_type": "execute_result"
    }
   ],
   "source": [
    "def UniquePath(m,n):\n",
    "    res = [[1 for x in range(n)] for x in range(m)]\n",
    "    #print (res)\n",
    "    for i in range(1,m):\n",
    "        for j in range(1,n):\n",
    "            res[i][j]=res[i][j-1]+res[i-1][j]\n",
    "    return res[-1][-1]\n",
    "print(UniquePath(3,2))\n",
    "UniquePath(7,3)"
   ]
  },
  {
   "cell_type": "code",
   "execution_count": null,
   "metadata": {},
   "outputs": [],
   "source": [
    "#63.Unique Paths II\n",
    "class Solution:\n",
    "    def uniquePathsWithObstacles(self, obstacleGrid):\n",
    "        \"\"\"\n",
    "        :type obstacleGrid: List[List[int]]\n",
    "        :rtype: int\n",
    "        \"\"\"\n",
    "        if not obstacleGrid or not obstacleGrid[0]:\n",
    "            return 0\n",
    "        m = len(obstacleGrid)\n",
    "        n = len(obstacleGrid[0])\n",
    "        dp = [[0]*n for _ in range(m)]\n",
    "        if obstacleGrid[0][0] == 0:\n",
    "            dp[0][0] = 1\n",
    "        else:\n",
    "            return 0\n",
    "        for i in range(m):\n",
    "            for j in range(n):\n",
    "                if obstacleGrid[i][j] == 1:\n",
    "                    continue\n",
    "                if i > 0:\n",
    "                    dp[i][j] += dp[i-1][j]\n",
    "                if j > 0:\n",
    "                    dp[i][j] += dp[i][j-1]\n",
    "        return dp[-1][-1]"
   ]
  },
  {
   "cell_type": "code",
   "execution_count": 29,
   "metadata": {},
   "outputs": [
    {
     "data": {
      "text/plain": [
       "2"
      ]
     },
     "execution_count": 29,
     "metadata": {},
     "output_type": "execute_result"
    }
   ],
   "source": [
    "def UniquePathOb(ob):\n",
    "    if not ob or not ob[0]: return 0\n",
    "    m, n = len(ob), len(ob[0])\n",
    "    res = [[0]*n for i in range(m)]\n",
    "    if ob[0][0] == 0:\n",
    "            res[0][0]=1\n",
    "    else:\n",
    "        return 0\n",
    "    for i in range(m):\n",
    "        for j in range(n):\n",
    "            if ob[i][j]==1:\n",
    "                continue\n",
    "            res[i][j] += res[i-1][j]+res[i][j-1]\n",
    "    return res[-1][-1]\n",
    "ob = [\n",
    "  [0,0,0],\n",
    "  [0,1,0],\n",
    "  [0,0,0]\n",
    "]\n",
    "UniquePathOb(ob)"
   ]
  },
  {
   "cell_type": "code",
   "execution_count": 32,
   "metadata": {},
   "outputs": [
    {
     "data": {
      "text/plain": [
       "7"
      ]
     },
     "execution_count": 32,
     "metadata": {},
     "output_type": "execute_result"
    }
   ],
   "source": [
    "#64.Minimum Path Sum\n",
    "class Solution:\n",
    "    # @param grid, a list of lists of integers\n",
    "    # @return an integer\n",
    "    def minPathSum(self, grid):\n",
    "        if not grid:\n",
    "            return 0\n",
    "        \n",
    "        m, n = len(grid[0]), len(grid)\n",
    "        dp = [[float('inf')] * (m + 1) for i in range(n + 1)]\n",
    "        dp[0][1], dp[1][0] = 0, 0\n",
    "        \n",
    "        for i in range(1, n + 1):\n",
    "            for j in range(1, m + 1):\n",
    "                dp[i][j] = grid[i-1][j-1] + min(dp[i-1][j], dp[i][j-1])\n",
    "        \n",
    "        return dp[n][m]\n",
    "n = [\n",
    "  [1,3,1],\n",
    "  [1,5,1],\n",
    "  [4,2,1]\n",
    "]\n",
    "a = Solution()\n",
    "a.minPathSum(n)   "
   ]
  },
  {
   "cell_type": "code",
   "execution_count": 44,
   "metadata": {},
   "outputs": [
    {
     "data": {
      "text/plain": [
       "7"
      ]
     },
     "execution_count": 44,
     "metadata": {},
     "output_type": "execute_result"
    }
   ],
   "source": [
    "def MiniPS(num):\n",
    "    if not num: return 0\n",
    "    m, n = len(num), len(num[0])\n",
    "    res = [[float('inf')]*(n+1) for i in range(m+1)]\n",
    "    res[0][1], res[1][0]=0,0\n",
    "    for i in range(1,m+1):\n",
    "        for j in range(1,n+1):\n",
    "            res[i][j] = num[i-1][j-1] + min(res[i-1][j], res[i][j-1])\n",
    "    return res[-1][-1]\n",
    "num = [\n",
    "  [1,3,1],\n",
    "  [1,5,1],\n",
    "  [4,2,1]\n",
    "]\n",
    "MiniPS(num)   "
   ]
  },
  {
   "cell_type": "code",
   "execution_count": null,
   "metadata": {},
   "outputs": [],
   "source": [
    "#65.Valid Number\n",
    "class Solution(object):\n",
    "    def isNumber(self, s):\n",
    "        \"\"\"\n",
    "        :type s: str\n",
    "        :rtype: bool\n",
    "        \"\"\"\n",
    "        if not s:\n",
    "            return False\n",
    "        s = s.strip()\n",
    "        i, n = 0, len(s)\n",
    "        num, dot, exp, e_idx = False, False, False, -1\n",
    "        while i < n:\n",
    "            if s[i].isdigit():\n",
    "                num = True\n",
    "            elif s[i] == '.':\n",
    "                if dot or exp:\n",
    "                    return False\n",
    "                dot = True\n",
    "            elif s[i] == 'e':\n",
    "                if exp or not num:\n",
    "                    return False\n",
    "                exp = True\n",
    "                num = False\n",
    "                e_idx = i\n",
    "            elif s[i] in ['+', '-']:\n",
    "                if i != 0 and i != e_idx+1:\n",
    "                    return False\n",
    "            else:\n",
    "                return False\n",
    "            i += 1\n",
    "        return num"
   ]
  },
  {
   "cell_type": "code",
   "execution_count": 58,
   "metadata": {},
   "outputs": [
    {
     "data": {
      "text/plain": [
       "True"
      ]
     },
     "execution_count": 58,
     "metadata": {},
     "output_type": "execute_result"
    }
   ],
   "source": [
    "def ValidNumb(s):\n",
    "    if not s: return False\n",
    "    s = s.strip()\n",
    "    i, n = 0, len(s)\n",
    "    num,dot,exp,eidx=False,False,False,-1\n",
    "    while i<n:\n",
    "        if s[i].isdigit():\n",
    "            num = True\n",
    "        elif s[i]=='.':\n",
    "            if dot or exp:\n",
    "                return False\n",
    "            dot = True\n",
    "        elif s[i]=='e':\n",
    "            if exp or not num:\n",
    "                return False\n",
    "            exp=True\n",
    "            num=False\n",
    "            eidx = i\n",
    "        elif s[i] in ['+','-']:\n",
    "            if i!=0 and i!=eidx+1:\n",
    "                return False\n",
    "        else:\n",
    "            return False\n",
    "        i += 1\n",
    "    return num\n",
    "\n",
    "s=\" 0.1 \"\n",
    "s=\"1 a\"\n",
    "s=\" -90e3   \"\n",
    "#s=\"2e10\"\n",
    "#s=\"e3\"\n",
    "#s=\" 6e-1\"\n",
    "s=\" 99e2.5 \"\n",
    "s=\"53.5e93\"\n",
    "#s=\"95a54e53\"\n",
    "ValidNumb(s)      "
   ]
  },
  {
   "cell_type": "code",
   "execution_count": null,
   "metadata": {},
   "outputs": [],
   "source": [
    "#66.Plus One\n",
    "def plusOne(n):\n",
    "    a = int(''.join(str(i) for i in n))+1\n",
    "    return (list(map(int,str(a))))\n",
    "def plusOne(self, digits):\n",
    "    \"\"\"\n",
    "    :type digits: List[int]\n",
    "    :rtype: List[int]\n",
    "    \"\"\"\n",
    "    carry = 1\n",
    "    for i in range(len(digits)-1, -1, -1):\n",
    "        carry, digits[i] = divmod(digits[i]+carry, 10)\n",
    "        if carry == 0:\n",
    "            return digits\n",
    "    return [1]+digits"
   ]
  },
  {
   "cell_type": "code",
   "execution_count": 66,
   "metadata": {},
   "outputs": [
    {
     "data": {
      "text/plain": [
       "[4, 3, 2, 2]"
      ]
     },
     "execution_count": 66,
     "metadata": {},
     "output_type": "execute_result"
    }
   ],
   "source": [
    "def PlusOne(n):\n",
    "    carry=1\n",
    "    for i in range(len(n)-1,-1,-1):\n",
    "        carry, n[i]=divmod(n[i]+carry,10)\n",
    "        if carry==0:\n",
    "            return n\n",
    "    return [1]+n\n",
    "n=[1,2,3]\n",
    "PlusOne(n)\n",
    "n=[4,3,2,1]\n",
    "PlusOne(n)"
   ]
  },
  {
   "cell_type": "code",
   "execution_count": null,
   "metadata": {},
   "outputs": [],
   "source": [
    "#67.Add Binary\n",
    "def addBinary(self, a, b):\n",
    "    i, j, carry, res = len(a)-1, len(b)-1, 0, \"\"\n",
    "    while i >= 0 or j >= 0 or carry:\n",
    "        if i >= 0:\n",
    "            carry += int(a[i])\n",
    "            i -= 1\n",
    "        if j >= 0:\n",
    "            carry += int(b[j])\n",
    "            j -= 1\n",
    "        res = str(carry%2) + res\n",
    "        carry //= 2\n",
    "    return res"
   ]
  },
  {
   "cell_type": "code",
   "execution_count": 68,
   "metadata": {},
   "outputs": [
    {
     "data": {
      "text/plain": [
       "'10101'"
      ]
     },
     "execution_count": 68,
     "metadata": {},
     "output_type": "execute_result"
    }
   ],
   "source": [
    "def AddBinary(a,b):\n",
    "    i, j, carry, res = len(a)-1, len(b)-1, 0, \"\"\n",
    "    while i>=0 or j>=0 or carry:\n",
    "        if i>=0:\n",
    "            carry += int(a[i])\n",
    "            i -= 1\n",
    "        if j>=0:\n",
    "            carry += int(b[j])\n",
    "            j -= 1\n",
    "        res = str(carry%2)+res\n",
    "        carry //=2\n",
    "    return res\n",
    "a,b=\"11\",\"1\"\n",
    "AddBinary(a,b)\n",
    "a,b=\"1010\",\"1011\"\n",
    "AddBinary(a,b)"
   ]
  },
  {
   "cell_type": "code",
   "execution_count": null,
   "metadata": {},
   "outputs": [],
   "source": [
    "#68.Text Justification\n",
    "def fullJustify(self, words, maxWidth):\n",
    "    res, cur, num_of_letters = [], [], 0\n",
    "    for w in words:\n",
    "        if num_of_letters + len(w) + len(cur) > maxWidth:\n",
    "            if len(cur) == 1:\n",
    "                res.append( cur[0] + ' '*(maxWidth - num_of_letters) )\n",
    "            else:\n",
    "                num_spaces = maxWidth - num_of_letters\n",
    "                space_between_words, num_extra_spaces = divmod( num_spaces, len(cur)-1)\n",
    "                for i in range(num_extra_spaces):\n",
    "                    cur[i] += ' '\n",
    "                res.append( (' '*space_between_words).join(cur) )\n",
    "            cur, num_of_letters = [], 0\n",
    "        cur += [w]\n",
    "        num_of_letters += len(w)\n",
    "    res.append( ' '.join(cur) + ' '*(maxWidth - num_of_letters - len(cur) + 1) )\n",
    "    return res"
   ]
  },
  {
   "cell_type": "code",
   "execution_count": 16,
   "metadata": {},
   "outputs": [
    {
     "data": {
      "text/plain": [
       "['Science  is  what we',\n",
       " 'understand      well',\n",
       " 'enough to explain to',\n",
       " 'a  computer.  Art is',\n",
       " 'everything  else  we',\n",
       " 'do                  ']"
      ]
     },
     "execution_count": 16,
     "metadata": {},
     "output_type": "execute_result"
    }
   ],
   "source": [
    "def TextJust(wlist,maxw):\n",
    "    res, cur, allw = [],[],0  #cur - current number of words\n",
    "    for w in wlist:\n",
    "        if allw + len(w) + len(cur) > maxw:\n",
    "            if len(cur)==1:\n",
    "                res.append(cur[0]+''*(maxw-allw))\n",
    "            else:\n",
    "                allspace = maxw - allw\n",
    "                interval_space, extra_space = divmod(allspace,len(cur)-1)\n",
    "                for i in range(extra_space):\n",
    "                    cur[i]+=' '\n",
    "                res.append((' '*interval_space).join(cur))\n",
    "            cur,allw = [], 0\n",
    "        cur += [w]\n",
    "        allw += len(w)\n",
    "    res.append( ' '.join(cur)+' '*(maxw-allw-len(cur)+1))\n",
    "    return res\n",
    "wlist = [\"This\", \"is\", \"an\", \"example\", \"of\", \"text\", \"justification.\"]\n",
    "maxw = 16\n",
    "TextJust(wlist,maxw)\n",
    "wlist = [\"What\",\"must\",\"be\",\"acknowledgment\",\"shall\",\"be\"]\n",
    "maxw = 16\n",
    "TextJust(wlist,maxw)\n",
    "wlist = [\"Science\",\"is\",\"what\",\"we\",\"understand\",\"well\",\"enough\",\"to\",\"explain\",\\\n",
    "         \"to\",\"a\",\"computer.\",\"Art\",\"is\",\"everything\",\"else\",\"we\",\"do\"]\n",
    "maxw = 20\n",
    "TextJust(wlist,maxw)"
   ]
  },
  {
   "cell_type": "code",
   "execution_count": null,
   "metadata": {},
   "outputs": [],
   "source": [
    "#69. Sqrt(x)\n",
    "# Binary search  \n",
    "def mySqrt(self, x):\n",
    "    l, r = 0, x\n",
    "    while l <= r:\n",
    "        mid = l + (r-l)//2\n",
    "        if mid * mid <= x < (mid+1)*(mid+1):\n",
    "            return mid\n",
    "        elif x < mid * mid:\n",
    "            r = mid\n",
    "        else:\n",
    "            l = mid + 1"
   ]
  },
  {
   "cell_type": "code",
   "execution_count": 70,
   "metadata": {},
   "outputs": [
    {
     "name": "stdout",
     "output_type": "stream",
     "text": [
      "2\n",
      "2\n",
      "3\n"
     ]
    }
   ],
   "source": [
    "def SqrtEq(x):\n",
    "    l,r=0,x\n",
    "    while l<=r:\n",
    "        mid = (l+r)//2\n",
    "        if mid*mid <= x < (mid+1)*(mid+1):\n",
    "            return mid\n",
    "        elif x < mid*mid:\n",
    "            r = mid\n",
    "        else:\n",
    "            l = mid + 1\n",
    "print(SqrtEq(4))\n",
    "print(SqrtEq(8))\n",
    "print(SqrtEq(9))"
   ]
  },
  {
   "cell_type": "code",
   "execution_count": null,
   "metadata": {},
   "outputs": [],
   "source": [
    "#70. Climbing Stairs\n",
    "#It's essentially Fibonacci number:\n",
    "def climbStairs(self, n):\n",
    "    a, b = 1, 1\n",
    "    for i in range(n):\n",
    "        a, b = b, a + b\n",
    "    return a\n",
    "# Bottom up, O(n) space\n",
    "def climbStairs2(self, n):\n",
    "    if n == 1:\n",
    "        return 1\n",
    "    res = [0 for i in xrange(n)]\n",
    "    res[0], res[1] = 1, 2\n",
    "    for i in xrange(2, n):\n",
    "        res[i] = res[i-1] + res[i-2]\n",
    "    return res[-1]\n"
   ]
  },
  {
   "cell_type": "code",
   "execution_count": 72,
   "metadata": {},
   "outputs": [
    {
     "name": "stdout",
     "output_type": "stream",
     "text": [
      "2\n"
     ]
    },
    {
     "data": {
      "text/plain": [
       "3"
      ]
     },
     "execution_count": 72,
     "metadata": {},
     "output_type": "execute_result"
    }
   ],
   "source": [
    "def ClimbS(n):\n",
    "    a, b = 1, 1\n",
    "    for i in range(n):\n",
    "        a, b = b, a+b\n",
    "    return a\n",
    "\n",
    "def ClimbS2(n):\n",
    "    if n==1: return 1\n",
    "    res = [0 for i in range(n)]\n",
    "    res[0], res[1] = 1, 2\n",
    "    for i in range(2,n):\n",
    "        res[i]=res[i-1]+res[i-2]\n",
    "    return res[-1]\n",
    "\n",
    "print(ClimbS(2))\n",
    "ClimbS2(3)"
   ]
  },
  {
   "cell_type": "code",
   "execution_count": 76,
   "metadata": {},
   "outputs": [
    {
     "data": {
      "text/plain": [
       "'/home'"
      ]
     },
     "execution_count": 76,
     "metadata": {},
     "output_type": "execute_result"
    }
   ],
   "source": [
    "#72. Edit Distance\n",
    "class Solution(object):\n",
    "    def simplifyPath(self, path):\n",
    "        \"\"\"\n",
    "        :type path: str\n",
    "        :rtype: str\n",
    "        \"\"\"\n",
    "        res = []\n",
    "        path_list = path.split('/')\n",
    "        for p in path_list:\n",
    "            if p:\n",
    "                if p == '..':\n",
    "                    if res:\n",
    "                        res.pop()\n",
    "                elif p == '.':\n",
    "                    continue\n",
    "                else:\n",
    "                    res.append(p)\n",
    "        simp_path = '/' + '/'.join(res)\n",
    "        return simp_path\n",
    "a = Solution()\n",
    "s = \"/home/\"\n",
    "a.simplifyPath(s)"
   ]
  },
  {
   "cell_type": "code",
   "execution_count": 86,
   "metadata": {},
   "outputs": [
    {
     "name": "stdout",
     "output_type": "stream",
     "text": [
      "res= []\n"
     ]
    },
    {
     "data": {
      "text/plain": [
       "'/'"
      ]
     },
     "execution_count": 86,
     "metadata": {},
     "output_type": "execute_result"
    }
   ],
   "source": [
    "def SimpPath(s):\n",
    "    res = []\n",
    "    path = s.split('/')\n",
    "    #print(path)\n",
    "    for p in path:\n",
    "        if p: \n",
    "            if p=='..':\n",
    "                #print(\"res=\",res)\n",
    "                if res:\n",
    "                    res.pop()\n",
    "            elif p=='.':\n",
    "                continue\n",
    "            else:\n",
    "                res.append(p)\n",
    "    simpath=\"/\"+\"/\".join(res)\n",
    "    return simpath\n",
    "s = \"/home/\"\n",
    "#SimpPath(s)\n",
    "s = \"/../\"\n",
    "SimpPath(s)\n",
    "    "
   ]
  },
  {
   "cell_type": "code",
   "execution_count": 80,
   "metadata": {},
   "outputs": [
    {
     "name": "stdout",
     "output_type": "stream",
     "text": [
      "h/k/l\n"
     ]
    }
   ],
   "source": [
    "res=['h','k','l']\n",
    "print('/'.join(res))"
   ]
  },
  {
   "cell_type": "code",
   "execution_count": null,
   "metadata": {},
   "outputs": [],
   "source": [
    "#72. Edit Distance\n",
    "class Solution(object):\n",
    "    def minDistance(self, word1, word2):\n",
    "        m, n = map(len, (word1, word2))\n",
    "        dp = [range(n + 1)] + [[i] + [0] * n for i in xrange(1, m + 1)]\n",
    "\n",
    "        for i in xrange(1, m + 1):\n",
    "            for j in xrange(1, n + 1):\n",
    "                dp[i][j] = min(\n",
    "                    dp[i][j - 1] + 1,\n",
    "                    dp[i - 1][j] + 1,\n",
    "                    dp[i - 1][j - 1] + (word1[i - 1] != word2[j - 1])\n",
    "                )\n",
    "\n",
    "        return dp[m][n]"
   ]
  },
  {
   "cell_type": "code",
   "execution_count": 89,
   "metadata": {},
   "outputs": [
    {
     "name": "stdout",
     "output_type": "stream",
     "text": [
      "[[0, 1, 2, 3, 4, 5, 6, 7, 8, 9], [1, 0, 0, 0, 0, 0, 0, 0, 0, 0], [2, 0, 0, 0, 0, 0, 0, 0, 0, 0], [3, 0, 0, 0, 0, 0, 0, 0, 0, 0], [4, 0, 0, 0, 0, 0, 0, 0, 0, 0], [5, 0, 0, 0, 0, 0, 0, 0, 0, 0], [6, 0, 0, 0, 0, 0, 0, 0, 0, 0], [7, 0, 0, 0, 0, 0, 0, 0, 0, 0], [8, 0, 0, 0, 0, 0, 0, 0, 0, 0], [9, 0, 0, 0, 0, 0, 0, 0, 0, 0]]\n"
     ]
    },
    {
     "data": {
      "text/plain": [
       "5"
      ]
     },
     "execution_count": 89,
     "metadata": {},
     "output_type": "execute_result"
    }
   ],
   "source": [
    "def EditDis(w1,w2):\n",
    "    m,n=len(w1),len(w2)\n",
    "    res = [list(range(n+1))] + [[i]+[0]*n for i in range(1,m+1)]\n",
    "    print(res)\n",
    "    for i in range(1,m+1):\n",
    "        for j in range(1,n+1):\n",
    "            res[i][j]=min(res[i][j-1]+1, res[i-1][j]+1, \n",
    "                         res[i-1][j-1]+(w1[i-1]!=w2[j-1]))\n",
    "    return res[m][n]\n",
    "w1,w2 = \"horse\", \"ros\"\n",
    "#EditDis(w1,w2)\n",
    "w1,w2 = \"intention\", \"execution\"\n",
    "EditDis(w1,w2)"
   ]
  },
  {
   "cell_type": "code",
   "execution_count": null,
   "metadata": {},
   "outputs": [],
   "source": [
    "#73. Set Matrix Zeroes\n",
    "class Solution:\n",
    "    def setZeroes(self, matrix):\n",
    "        \"\"\"\n",
    "        :type matrix: List[List[int]]\n",
    "        :rtype: void Do not return anything, modify matrix in-place instead.\n",
    "        \"\"\"\n",
    "        zeros = []\n",
    "        rows = len(matrix)\n",
    "        cols = len(matrix[0])\n",
    "        \n",
    "        for i in range(rows):\n",
    "            for j in range(cols):\n",
    "                if matrix[i][j] == 0:\n",
    "                    zeros.append((i, j))\n",
    "        \n",
    "        for row, col in zeros:\n",
    "            matrix[row] = [0] * cols            \n",
    "            for i in range(rows):\n",
    "                matrix[i][col] = 0"
   ]
  },
  {
   "cell_type": "code",
   "execution_count": 91,
   "metadata": {},
   "outputs": [
    {
     "name": "stdout",
     "output_type": "stream",
     "text": [
      "[[1, 0, 1], [0, 0, 0], [1, 0, 1]]\n"
     ]
    },
    {
     "data": {
      "text/plain": [
       "[[0, 0, 0, 0], [0, 4, 5, 0], [0, 3, 1, 0]]"
      ]
     },
     "execution_count": 91,
     "metadata": {},
     "output_type": "execute_result"
    }
   ],
   "source": [
    "def SetMZero(m):\n",
    "    zeros, rn, cn =[], len(m), len(m[0])\n",
    "    for i in range(rn):\n",
    "        for j in range(cn):\n",
    "            if m[i][j]==0:\n",
    "                zeros.append((i,j))\n",
    "    for row, col in zeros:\n",
    "        m[row] = [0]*cn\n",
    "        for i in range(rn):\n",
    "            m[i][col]=0\n",
    "    return m\n",
    "m=[\n",
    "  [1,1,1],\n",
    "  [1,0,1],\n",
    "  [1,1,1]\n",
    "]\n",
    "print(SetMZero(m))\n",
    "m=[\n",
    "  [0,1,2,0],\n",
    "  [3,4,5,2],\n",
    "  [1,3,1,5]\n",
    "]\n",
    "SetMZero(m)"
   ]
  },
  {
   "cell_type": "code",
   "execution_count": 3,
   "metadata": {},
   "outputs": [
    {
     "data": {
      "text/plain": [
       "False"
      ]
     },
     "execution_count": 3,
     "metadata": {},
     "output_type": "execute_result"
    }
   ],
   "source": [
    "#74. Search a 2D Matrix\n",
    "#Integers in each row are sorted from left to right.\n",
    "#The first integer of each row is greater than the last integer of the previous row.\n",
    "class Solution:\n",
    "    # @param matrix, a list of lists of integers\n",
    "    # @param target, an integer\n",
    "    # @return a boolean\n",
    "    # 8:21\n",
    "    def searchMatrix(self, matrix, target):\n",
    "        if not matrix or target is None:\n",
    "            return False\n",
    "\n",
    "        rows, cols = len(matrix), len(matrix[0])\n",
    "        low, high = 0, rows * cols - 1\n",
    "        \n",
    "        while low <= high:\n",
    "            mid = (low + high) // 2\n",
    "            num = matrix[int(mid / cols)][mid % cols]\n",
    "\n",
    "            if num == target:\n",
    "                return True\n",
    "            elif num < target:\n",
    "                low = mid + 1\n",
    "            else:\n",
    "                high = mid - 1\n",
    "        \n",
    "        return False\n",
    "a = Solution()\n",
    "matrix = [\n",
    "  [1,   3,  5,  7],\n",
    "  [10, 11, 16, 20],\n",
    "  [23, 30, 34, 50]\n",
    "]\n",
    "target = 13\n",
    "a.searchMatrix(matrix, target)"
   ]
  },
  {
   "cell_type": "code",
   "execution_count": 3,
   "metadata": {},
   "outputs": [
    {
     "name": "stdout",
     "output_type": "stream",
     "text": [
      "True\n"
     ]
    },
    {
     "data": {
      "text/plain": [
       "False"
      ]
     },
     "execution_count": 3,
     "metadata": {},
     "output_type": "execute_result"
    }
   ],
   "source": [
    "def SearchSortedM(m,t):\n",
    "    if not m or not t: return False\n",
    "    rn,cn=len(m),len(m[0])\n",
    "    l,r=0,rn*cn-1\n",
    "    while l<=r:\n",
    "        mid = (l+r)//2\n",
    "        k = m[int(mid/cn)][mid%cn]\n",
    "        if k == t:\n",
    "            return True\n",
    "        elif k < t:\n",
    "            l = mid+1\n",
    "        else:\n",
    "            r = mid-1\n",
    "    return False\n",
    "m = [\n",
    "  [1,   3,  5,  7],\n",
    "  [10, 11, 16, 20],\n",
    "  [23, 30, 34, 50]\n",
    "]\n",
    "t = 3\n",
    "print(SearchSortedM(m,t))\n",
    "m = [\n",
    "  [1,   3,  5,  7],\n",
    "  [10, 11, 16, 20],\n",
    "  [23, 30, 34, 50]\n",
    "]\n",
    "t = 35\n",
    "SearchSortedM(m,t)"
   ]
  },
  {
   "cell_type": "code",
   "execution_count": null,
   "metadata": {},
   "outputs": [],
   "source": [
    "#75.Sort Colors\n",
    "# one pass \n",
    "def sortColors(self, nums):\n",
    "    # zero and r record the position of \"0\" and \"2\" respectively\n",
    "    l, r, zero = 0, len(nums)-1, 0\n",
    "    while l <= r:\n",
    "        if nums[l] == 0:\n",
    "            nums[l], nums[zero] = nums[zero], nums[l]\n",
    "            l += 1; zero += 1\n",
    "        elif nums[l] == 2:\n",
    "            nums[l], nums[r] = nums[r], nums[l]\n",
    "            r -= 1\n",
    "        else:\n",
    "            l += 1"
   ]
  },
  {
   "cell_type": "code",
   "execution_count": 4,
   "metadata": {},
   "outputs": [
    {
     "data": {
      "text/plain": [
       "[0, 0, 1, 1, 2, 2]"
      ]
     },
     "execution_count": 4,
     "metadata": {},
     "output_type": "execute_result"
    }
   ],
   "source": [
    "def SortColor(n):\n",
    "    l,r,zero=0,len(n)-1,0\n",
    "    while l<=r:\n",
    "        if n[l]==0:\n",
    "            n[l],n[zero]=n[zero],n[l]\n",
    "            l += 1\n",
    "            zero += 1\n",
    "        elif n[l]==2:\n",
    "            n[l],n[r]=n[r],n[l]\n",
    "            r -= 1\n",
    "        else:\n",
    "            l += 1\n",
    "    return n\n",
    "n = [2,0,2,1,1,0]\n",
    "SortColor(n)\n",
    "        \n",
    "            \n",
    "        "
   ]
  },
  {
   "cell_type": "code",
   "execution_count": null,
   "metadata": {},
   "outputs": [],
   "source": [
    "#76.Minimum Window Substring\n",
    "#Given a string S and a string T, find the minimum window in S which will contain all the characters in T in complexity O(n).\n",
    "def minWindow(s, t):\n",
    "    need = collections.Counter(t)            #hash table to store char frequency\n",
    "    missing = len(t)                         #total number of chars we care\n",
    "    start, end = 0, 0\n",
    "    i = 0\n",
    "    for j, char in enumerate(s, 1):          #index j from 1\n",
    "        if need[char] > 0:\n",
    "            missing -= 1\n",
    "        need[char] -= 1\n",
    "        if missing == 0:                     #match all chars\n",
    "            while i < j and need[s[i]] < 0:  #remove chars to find the real start\n",
    "                need[s[i]] += 1\n",
    "                i += 1\n",
    "            need[s[i]] += 1                  #make sure the first appearing char satisfies need[char]>0\n",
    "            missing += 1                     #we missed this first char, so add missing by 1\n",
    "            if end == 0 or j-i < end-start:  #update window\n",
    "                start, end = i, j\n",
    "            i += 1                           #update i to start+1 for next window\n",
    "    return s[start:end]"
   ]
  },
  {
   "cell_type": "code",
   "execution_count": 18,
   "metadata": {},
   "outputs": [
    {
     "data": {
      "text/plain": [
       "'BANC'"
      ]
     },
     "execution_count": 18,
     "metadata": {},
     "output_type": "execute_result"
    }
   ],
   "source": [
    "import collections\n",
    "def MinWindow(s,t):\n",
    "    have = collections.Counter(t)\n",
    "    start,end,miss=0,0,len(t)\n",
    "    i=0\n",
    "    for j, c in enumerate(s,1):\n",
    "        if have[c]>0:\n",
    "            miss -= 1\n",
    "        have[c] -=1\n",
    "        \n",
    "        if miss ==0:\n",
    "            while i<j and have[s[i]]<0:\n",
    "                have[s[i]]+=1\n",
    "                i += 1\n",
    "                \n",
    "            have[s[i]] += 1\n",
    "            miss += 1\n",
    "            if end ==0 or j-i < end-start:\n",
    "                start,end = i, j\n",
    "            i += 1\n",
    "    return s[start:end]\n",
    "s = \"ADOBECODEBANC\"\n",
    "t = \"ABC\"\n",
    "MinWindow(s,t)"
   ]
  },
  {
   "cell_type": "code",
   "execution_count": null,
   "metadata": {},
   "outputs": [],
   "source": [
    "#77.Combinations\n",
    "def combine(self, n, k):\n",
    "    res = []\n",
    "    self.dfs(range(1,n+1), k, 0, [], res)\n",
    "    return res\n",
    "    \n",
    "def dfs(self, nums, k, index, path, res):\n",
    "    #if k < 0:  #backtracking\n",
    "        #return \n",
    "    if k == 0:\n",
    "        res.append(path)\n",
    "        return # backtracking \n",
    "    for i in range(index, len(nums)):\n",
    "        self.dfs(nums, k-1, i+1, path+[nums[i]], res)"
   ]
  },
  {
   "cell_type": "code",
   "execution_count": 5,
   "metadata": {},
   "outputs": [
    {
     "data": {
      "text/plain": [
       "[[1, 2], [1, 3], [1, 4], [2, 3], [2, 4], [3, 4]]"
      ]
     },
     "execution_count": 5,
     "metadata": {},
     "output_type": "execute_result"
    }
   ],
   "source": [
    "def Combine(n,k):\n",
    "    res = []\n",
    "    dfs(range(1,n+1),k,0,[],res)\n",
    "    return res\n",
    "def dfs(m,k,ind,path,res):\n",
    "    if k==0:\n",
    "        res.append(path)\n",
    "        return \n",
    "    for i in range(ind,len(m)):\n",
    "        dfs(m,k-1,i+1,path+[m[i]],res)\n",
    "    \n",
    "n, k = 4,2\n",
    "Combine(n,k)"
   ]
  },
  {
   "cell_type": "code",
   "execution_count": null,
   "metadata": {},
   "outputs": [],
   "source": [
    "#78.Subsets\n",
    "#Given a set of distinct integers, nums, return all possible subsets (the power set).\n",
    "def subsets(self, nums):\n",
    "    res = []\n",
    "    self.dfs(sorted(nums), 0, [], res)\n",
    "    return res\n",
    "\n",
    "def dfs(self, nums, start, path, res):\n",
    "    res.append(path)\n",
    "    for i in range(start, len(nums)):\n",
    "        self.dfs(nums, i+1, path+[nums[i]], res)"
   ]
  },
  {
   "cell_type": "code",
   "execution_count": 6,
   "metadata": {},
   "outputs": [
    {
     "data": {
      "text/plain": [
       "[[], [1], [1, 2], [1, 2, 3], [1, 3], [2], [2, 3], [3]]"
      ]
     },
     "execution_count": 6,
     "metadata": {},
     "output_type": "execute_result"
    }
   ],
   "source": [
    "def Subsets(n):\n",
    "    res = []\n",
    "    dfs(sorted(n),0,[],res)\n",
    "    return res\n",
    "def dfs(n, ind, path, res):\n",
    "    res.append(path)\n",
    "    for i in range(ind,len(n)):\n",
    "        dfs(n,i+1,path+[n[i]],res)\n",
    "n=[1,2,3]\n",
    "Subsets(n)"
   ]
  },
  {
   "cell_type": "code",
   "execution_count": 9,
   "metadata": {},
   "outputs": [
    {
     "data": {
      "text/plain": [
       "[[1, 2, 3], [1, 3, 2], [2, 1, 3], [2, 3, 1], [3, 1, 2], [3, 2, 1]]"
      ]
     },
     "execution_count": 9,
     "metadata": {},
     "output_type": "execute_result"
    }
   ],
   "source": [
    "#46. review Permutations\n",
    "# DFS\n",
    "def permute(nums):\n",
    "    res = []\n",
    "    dfs(nums, [], res)\n",
    "    return res\n",
    "    \n",
    "def dfs(nums, path, res):\n",
    "    if not nums:\n",
    "        res.append(path)\n",
    "        # return # backtracking\n",
    "    for i in range(len(nums)):\n",
    "        dfs(nums[:i]+nums[i+1:], path+[nums[i]], res)\n",
    "\n",
    "n=[1,2,3]\n",
    "permute(n)"
   ]
  },
  {
   "cell_type": "code",
   "execution_count": 23,
   "metadata": {},
   "outputs": [
    {
     "name": "stdout",
     "output_type": "stream",
     "text": [
      "True\n"
     ]
    }
   ],
   "source": [
    "#79. Word Search\n",
    "#Given a 2D board and a word, find if the word exists in the grid.\n",
    "#The word can be constructed from letters of sequentially adjacent cell, where \"adjacent\" cells are those horizontally or vertically neighboring. The same letter cell may not be used more than once.\n",
    "class Solution():\n",
    "    def exist(self, board, word):\n",
    "        if not board:\n",
    "            return False\n",
    "        for i in range(len(board)):\n",
    "            for j in range(len(board[0])):\n",
    "                if self.dfs(board, i, j, word):\n",
    "                    return True\n",
    "        return False\n",
    "\n",
    "    # check whether can find word, start at (i,j) position    \n",
    "    def dfs(self, board, i, j, word):\n",
    "        if len(word) == 0: # all the characters are checked\n",
    "            return True\n",
    "        if i<0 or i>=len(board) or j<0 or j>=len(board[0]) or word[0]!=board[i][j]:\n",
    "            return False\n",
    "        tmp = board[i][j]  # first character is found, check the remaining part\n",
    "        board[i][j] = \"#\"  # avoid visit agian \n",
    "        # check whether can find \"word\" along one direction\n",
    "        res = self.dfs(board, i+1, j, word[1:]) or self.dfs(board, i-1, j, word[1:]) \\\n",
    "        or self.dfs(board, i, j+1, word[1:]) or self.dfs(board, i, j-1, word[1:])\n",
    "        board[i][j] = tmp\n",
    "        return res\n",
    "\n",
    "\n",
    "n = [\n",
    "  ['A','B','C','E'],\n",
    "  ['S','F','C','S'],\n",
    "  ['A','D','E','E']\n",
    "]\n",
    "t = \"ABCCED\"\n",
    "a = Solution()\n",
    "print(a.exist(n,t))"
   ]
  },
  {
   "cell_type": "code",
   "execution_count": 28,
   "metadata": {},
   "outputs": [
    {
     "name": "stdout",
     "output_type": "stream",
     "text": [
      "True\n",
      "True\n",
      "False\n"
     ]
    }
   ],
   "source": [
    "def Search2D(n,t):\n",
    "    if not n:\n",
    "        return False\n",
    "    for i in range(len(n)):\n",
    "        for j in range(len(n[0])):\n",
    "            if dfs(n,i,j,t):\n",
    "                return True\n",
    "    return False\n",
    "\n",
    "def dfs(n,i,j,t):\n",
    "    if len(t)==0:\n",
    "        return True\n",
    "    if i<0 or i>=len(n) or j<0 or j>=len(n[0]) or t[0]!=n[i][j]:\n",
    "        return False\n",
    "    tmp = n[i][j] #n[i][j] has been checked, so mark it visited\n",
    "    n[i][j]=\"1\"\n",
    "    res = dfs(n,i+1,j,t[1:]) or dfs(n,i-1,j,t[1:]) or dfs(n,i,j+1,t[1:]) or dfs(n,i,j-1,t[1:])\n",
    "    n[i][j]=tmp\n",
    "    return res\n",
    "\n",
    "n = [\n",
    "  ['A','B','C','E'],\n",
    "  ['S','F','C','S'],\n",
    "  ['A','D','E','E']\n",
    "]\n",
    "t = \"ABCCED\"\n",
    "print(Search2D(n,t))\n",
    "t = \"SEE\"\n",
    "print(Search2D(n,t))\n",
    "t = \"ABCB\"\n",
    "print(Search2D(n,t))"
   ]
  },
  {
   "cell_type": "code",
   "execution_count": null,
   "metadata": {},
   "outputs": [],
   "source": [
    "#80. Remove Duplicates from Sorted Array II \n",
    "#return length, in place\n",
    "def removeDuplicates(self, nums):\n",
    "    i = 0\n",
    "    for n in nums:\n",
    "        if i < 2 or n > nums[i-2]:\n",
    "            nums[i] = n\n",
    "            i += 1\n",
    "    return i"
   ]
  },
  {
   "cell_type": "code",
   "execution_count": 29,
   "metadata": {},
   "outputs": [
    {
     "name": "stdout",
     "output_type": "stream",
     "text": [
      "5\n",
      "7\n"
     ]
    }
   ],
   "source": [
    "def DedupSA2(n):\n",
    "    i = 0\n",
    "    for e in n:\n",
    "        if i<2 or e>n[i-2]:\n",
    "            n[i]=e\n",
    "            i += 1\n",
    "    return i\n",
    "n = [1,1,1,2,2,3]\n",
    "print(DedupSA2(n))\n",
    "n = [0,0,1,1,1,1,2,3,3]\n",
    "print(DedupSA2(n))"
   ]
  },
  {
   "cell_type": "code",
   "execution_count": null,
   "metadata": {},
   "outputs": [],
   "source": [
    "def SearchRSA(n,t):\n",
    "    l, r = 0, len(n)-1\n",
    "    while l <= r:\n",
    "        mid = (l+r)//2\n",
    "        if n[mid]==t:\n",
    "            return mid\n",
    "        if t >= n[0]:\n",
    "            if n[mid]<t and n[mid]>=n[0]:\n",
    "                l = mid + 1\n",
    "            else:\n",
    "                r = mid -1\n",
    "        else:\n",
    "            if n[mid]<t or n[mid]>=n[0]:\n",
    "                l = mid + 1\n",
    "            else:\n",
    "                r = mid -1\n",
    "    return -1"
   ]
  },
  {
   "cell_type": "code",
   "execution_count": null,
   "metadata": {},
   "outputs": [],
   "source": [
    "#81.Search in Rotated Sorted Array II\n",
    "def search(self, nums, target):\n",
    "    l, r = 0, len(nums)-1\n",
    "    while l <= r:\n",
    "        mid = l + (r-l)//2\n",
    "        if nums[mid] == target:\n",
    "            return True\n",
    "        while l < mid and nums[l] == nums[mid]: # tricky part\n",
    "            l += 1\n",
    "        # the first half is ordered\n",
    "        if nums[l] <= nums[mid]:\n",
    "            # target is in the first half\n",
    "            if nums[l] <= target < nums[mid]:\n",
    "                r = mid - 1\n",
    "            else:\n",
    "                l = mid + 1\n",
    "        # the second half is ordered\n",
    "        else:\n",
    "            # target is in the second half\n",
    "            if nums[mid] < target <= nums[r]:\n",
    "                l = mid + 1\n",
    "            else:\n",
    "                r = mid - 1\n",
    "    return False"
   ]
  },
  {
   "cell_type": "code",
   "execution_count": 31,
   "metadata": {},
   "outputs": [
    {
     "name": "stdout",
     "output_type": "stream",
     "text": [
      "True\n",
      "False\n"
     ]
    }
   ],
   "source": [
    "def SearchRSA2(n,t):\n",
    "    l,r=0,len(n)-1\n",
    "    while l<=r:\n",
    "        mid = (l+r)//2\n",
    "        if n[mid]==t:\n",
    "            return True\n",
    "        while l < mid and n[l]==n[mid]:\n",
    "            l += 1\n",
    "        if n[l]<= n[mid]:\n",
    "            if n[l]<=t<n[mid]:\n",
    "                r = mid -1\n",
    "            else:\n",
    "                l = mid +1\n",
    "        else:\n",
    "            if n[mid]<t<=n[r]:\n",
    "                l = mid +1\n",
    "            else:\n",
    "                r = mid -1\n",
    "    return False\n",
    "n = [2,5,6,0,0,1,2]\n",
    "t=0\n",
    "print(SearchRSA2(n,t))\n",
    "t=3\n",
    "print(SearchRSA2(n,t))"
   ]
  },
  {
   "cell_type": "code",
   "execution_count": null,
   "metadata": {},
   "outputs": [],
   "source": [
    "#82.Remove Duplicates from Sorted List II\n",
    "class Solution(object):\n",
    "    def deleteDuplicates(self, head):\n",
    "        \"\"\"\n",
    "        :type head: ListNode\n",
    "        :rtype: ListNode\n",
    "        \"\"\"\n",
    "        # Time: O(n)\n",
    "        # Space: O(1)\n",
    "        dummy = ListNode(None)\n",
    "        dummy.next = head\n",
    "        curr = dummy\n",
    "        while curr:\n",
    "            has_dup = False\n",
    "            # Remove duplicates and leave the last of the duplicates.\n",
    "            while curr.next and curr.next.next and curr.next.val == curr.next.next.val:\n",
    "                curr.next = curr.next.next\n",
    "                has_dup = True\n",
    "            if has_dup:\n",
    "                # Remove the last duplicate\n",
    "                curr.next = curr.next.next\n",
    "            else:\n",
    "                curr = curr.next\n",
    "        return dummy.next"
   ]
  },
  {
   "cell_type": "code",
   "execution_count": null,
   "metadata": {},
   "outputs": [],
   "source": [
    "def DedupSL2(head):\n",
    "    dummy = cur = listNode(0)\n",
    "    dummy.next = head\n",
    "    while cur:\n",
    "        has_dup=False\n",
    "        while cur and cur.next.next and cur.next.val==cur.next.next.val:\n",
    "            cur.next = cur.next.next\n",
    "            has_dup = True\n",
    "        if has_dup:\n",
    "            cur.next = cur.next.next\n",
    "        else:\n",
    "            cur = cur.next\n",
    "    return dummy.next"
   ]
  },
  {
   "cell_type": "code",
   "execution_count": null,
   "metadata": {},
   "outputs": [],
   "source": [
    "#83. Remove Duplicates from Sorted List\n",
    "#Given a sorted linked list, delete all duplicates such that each element appear only once.\n",
    "def deleteDuplicates1(self, head):\n",
    "    node = head\n",
    "    while node and node.next:\n",
    "        if node.val == node.next.val:\n",
    "            node.next = node.next.next\n",
    "        else:\n",
    "            node = node.next\n",
    "    return head"
   ]
  },
  {
   "cell_type": "code",
   "execution_count": null,
   "metadata": {},
   "outputs": [],
   "source": [
    "def DedupSL(head):\n",
    "    node = head\n",
    "    while node and node.next:\n",
    "        if node.val = node.next.val:\n",
    "            node.next = node.next.next\n",
    "        else:\n",
    "            node = node.next\n",
    "    return head"
   ]
  },
  {
   "cell_type": "code",
   "execution_count": null,
   "metadata": {},
   "outputs": [],
   "source": [
    "#84.Largest Rectangle in Histogram\n",
    "'''\n",
    "The stack maintain the indexes of bars with ascending height. \n",
    "Before adding a new bar pop the bar which is taller than the new one. \n",
    "The bar popped out represents the height of a rectangle with the new bar as the right boundary\n",
    "and the current stack top as the left boundary. \n",
    "Calculate its area and update ans of maximum area. Boundary is handled using dummy bars.\n",
    "'''\n",
    "def largestRectangleArea(self, height):\n",
    "    height.append(0)\n",
    "    stack = [-1] # push a dummy variable, make sure stack is not empty\n",
    "    ans = 0\n",
    "    for i in range(len(height)):\n",
    "        while height[i] < height[stack[-1]]:\n",
    "            h = height[stack.pop()]\n",
    "            w = i - stack[-1] - 1\n",
    "            ans = max(ans, h * w)\n",
    "        stack.append(i)\n",
    "    height.pop()\n",
    "    return ans\n",
    "# For min_height, the right index is idx and the left index is st[-1].\n",
    "# Distance between them will be (right_index - left_index - 1). right & left index are not included in result.\n"
   ]
  },
  {
   "cell_type": "code",
   "execution_count": 34,
   "metadata": {},
   "outputs": [
    {
     "name": "stdout",
     "output_type": "stream",
     "text": [
      "[-1, 6]\n",
      "[2, 1, 5, 6, 2, 3, 0]\n",
      "[2, 1, 5, 6, 2, 3]\n"
     ]
    },
    {
     "data": {
      "text/plain": [
       "10"
      ]
     },
     "execution_count": 34,
     "metadata": {},
     "output_type": "execute_result"
    }
   ],
   "source": [
    "def LargestRec(h):\n",
    "    h.append(0)\n",
    "    stack = [-1]\n",
    "    res = 0\n",
    "    for i in range(len(h)):\n",
    "        while h[i]<h[stack[-1]]:\n",
    "            hi = h[stack.pop()]\n",
    "            wi = i - stack[-1] -1\n",
    "            res = max(res, hi*wi)\n",
    "        stack.append(i)\n",
    "    print(stack)\n",
    "    h.pop()\n",
    "    return res\n",
    "h=[2,1,5,6,2,3]\n",
    "LargestRec(h)"
   ]
  },
  {
   "cell_type": "code",
   "execution_count": null,
   "metadata": {},
   "outputs": [],
   "source": [
    "#85.Maximal Rectangle\n",
    "#Given a 2D binary matrix filled with 0's and 1's, find the largest rectangle containing only 1's and return its area.\n",
    "'''\n",
    "The solution is based on largest rectangle in histogram solution. \n",
    "Every row in the matrix is viewed as the ground with some buildings on it. \n",
    "The building height is the count of consecutive 1s from that row to above rows. \n",
    "The rest is then the same as this solution for largest rectangle in histogram\n",
    "'''\n",
    "def maximalRectangle(self, matrix):\n",
    "    if not matrix or not matrix[0]:\n",
    "        return 0\n",
    "    n = len(matrix[0])\n",
    "    height = [0] * (n + 1)\n",
    "    ans = 0\n",
    "    for row in matrix:\n",
    "        for i in range(n):\n",
    "            height[i] = height[i] + 1 if row[i] == '1' else 0\n",
    "        stack = [-1]\n",
    "        for i in range(n + 1):\n",
    "            while height[i] < height[stack[-1]]:\n",
    "                h = height[stack.pop()]\n",
    "                w = i - 1 - stack[-1]\n",
    "                ans = max(ans, h * w)\n",
    "            stack.append(i)\n",
    "    return ans"
   ]
  },
  {
   "cell_type": "code",
   "execution_count": 36,
   "metadata": {},
   "outputs": [
    {
     "data": {
      "text/plain": [
       "6"
      ]
     },
     "execution_count": 36,
     "metadata": {},
     "output_type": "execute_result"
    }
   ],
   "source": [
    "def MaxRec(m):\n",
    "    if not m or not m[0]:\n",
    "        return 0\n",
    "    height = [0]*(len(m[0])+1)\n",
    "    res = 0\n",
    "    for row in m:\n",
    "        for i in range(len(m[0])):\n",
    "                  height[i]=height[i]+1 if row[i]=='1' else 0\n",
    "        stack=[-1]\n",
    "        for i in range(len(m[0])+1):\n",
    "            while height[i]<height[stack[-1]]:\n",
    "                  h = height[stack.pop()]\n",
    "                  w = i -stack[-1]-1\n",
    "                  res = max(res,h*w)\n",
    "            stack.append(i)\n",
    "    return res\n",
    "m=[\n",
    "  [\"1\",\"0\",\"1\",\"0\",\"0\"],\n",
    "  [\"1\",\"0\",\"1\",\"1\",\"1\"],\n",
    "  [\"1\",\"1\",\"1\",\"1\",\"1\"],\n",
    "  [\"1\",\"0\",\"0\",\"1\",\"0\"]\n",
    "]\n",
    "MaxRec(m)\n",
    "        "
   ]
  },
  {
   "cell_type": "code",
   "execution_count": null,
   "metadata": {},
   "outputs": [],
   "source": [
    "#86.Partition List\n",
    "#Given a linked list and a value x, \n",
    "#partition it such that all nodes less than x come before nodes greater than or equal to x.\n",
    "def partition(self, head, x):\n",
    "    h1 = l1 = ListNode(0)\n",
    "    h2 = l2 = ListNode(0)\n",
    "    while head:\n",
    "        if head.val < x:\n",
    "            l1.next = head\n",
    "            l1 = l1.next\n",
    "        else:\n",
    "            l2.next = head\n",
    "            l2 = l2.next\n",
    "        head = head.next\n",
    "    l2.next = None\n",
    "    l1.next = h2.next\n",
    "    return h1.next"
   ]
  },
  {
   "cell_type": "code",
   "execution_count": null,
   "metadata": {},
   "outputs": [],
   "source": [
    "def PartitionLS(head,x):\n",
    "    h1 = l1 = ListNode(0)\n",
    "    h2 = l2 = ListNode(0)\n",
    "    while head:\n",
    "        if head.val < x:\n",
    "            l1, l1.next = l1.next, head\n",
    "        else:\n",
    "            l2, l2.next = l2.next, head\n",
    "        head = head.next\n",
    "    l2.next = None\n",
    "    l1.next = h2.next\n",
    "    return h1.next\n",
    "#Input: head = 1->4->3->2->5->2, x = 3\n",
    "#Output: 1->2->2->4->3->5"
   ]
  },
  {
   "cell_type": "code",
   "execution_count": 40,
   "metadata": {},
   "outputs": [
    {
     "data": {
      "text/plain": [
       "True"
      ]
     },
     "execution_count": 40,
     "metadata": {},
     "output_type": "execute_result"
    }
   ],
   "source": [
    "#87.Scramble String\n",
    "class Solution:\n",
    "    # @return a boolean\n",
    "    def isScramble(self, s1, s2):\n",
    "        n, m = len(s1), len(s2)\n",
    "        if n != m or sorted(s1) != sorted(s2):\n",
    "            return False\n",
    "        if n < 4 or s1 == s2:\n",
    "            return True\n",
    "        f = self.isScramble\n",
    "        for i in range(1, n):\n",
    "            if f(s1[:i], s2[:i]) and f(s1[i:], s2[i:]) or \\\n",
    "               f(s1[:i], s2[-i:]) and f(s1[i:], s2[:-i]):\n",
    "                return True\n",
    "        return False\n",
    "\n",
    "s1, s2 = \"great\", \"rgeat\"\n",
    "a=Solution()\n",
    "a.isScramble(s1,s2)"
   ]
  },
  {
   "cell_type": "code",
   "execution_count": 43,
   "metadata": {},
   "outputs": [
    {
     "name": "stdout",
     "output_type": "stream",
     "text": [
      "True\n"
     ]
    },
    {
     "data": {
      "text/plain": [
       "False"
      ]
     },
     "execution_count": 43,
     "metadata": {},
     "output_type": "execute_result"
    }
   ],
   "source": [
    "def ScrambleStr(s1,s2):\n",
    "    n, m = len(s1), len(s2)\n",
    "    if n !=m or sorted(s1) != sorted(s2):\n",
    "        return False\n",
    "    if n < 4 or s1==s2:\n",
    "        return True\n",
    "    f = ScrambleStr\n",
    "    for i in range(1,n):\n",
    "        if f(s1[:i], s2[:i]) and f(s1[i:], s2[i:]) or f(s1[:i], s2[-i:]) and f(s1[i:], s2[:-i]):\n",
    "            return True\n",
    "    return False\n",
    "s1, s2 = \"great\", \"rgeat\"\n",
    "print(ScrambleStr(s1,s2))\n",
    "s1, s2 = \"abcde\", \"caebd\"\n",
    "ScrambleStr(s1,s2)"
   ]
  },
  {
   "cell_type": "code",
   "execution_count": null,
   "metadata": {},
   "outputs": [],
   "source": [
    "#88. Merge Sorted Array\n",
    "#Given two sorted integer arrays nums1 and nums2, merge nums2 into nums1 as one sorted array.\n",
    "def merge(self, nums1, m, nums2, n):\n",
    "    i, j, k = m-1, n-1, m+n-1\n",
    "    while i>=0 and j>=0:\n",
    "        if nums1[i] > nums2[j]:\n",
    "            nums1[k] = nums1[i]\n",
    "            i -= 1\n",
    "        else:\n",
    "            nums1[k] = nums2[j]\n",
    "            j -= 1\n",
    "        k -= 1\n",
    "    \n",
    "    if j>=0:\n",
    "        nums1[:k+1] = nums2[:j+1]"
   ]
  },
  {
   "cell_type": "code",
   "execution_count": 44,
   "metadata": {},
   "outputs": [
    {
     "data": {
      "text/plain": [
       "[1, 2, 2, 3, 5, 6]"
      ]
     },
     "execution_count": 44,
     "metadata": {},
     "output_type": "execute_result"
    }
   ],
   "source": [
    "def MergeSA(nums1,m, nums2, n):\n",
    "    i, j, k = m-1, n-1, m+n-1\n",
    "    while i>=0 and j>=0:\n",
    "        if nums1[i]>nums2[j]:\n",
    "            nums1[k]=nums1[i]\n",
    "            i -= 1\n",
    "        else:\n",
    "            nums1[k]=nums2[j]\n",
    "            j -= 1\n",
    "        k -= 1\n",
    "    if j>=0:\n",
    "        nums1[:k+1]=nums2[:j+1]\n",
    "    return nums1\n",
    "\n",
    "nums1 = [1,2,3,0,0,0]\n",
    "m = 3\n",
    "nums2 = [2,5,6]\n",
    "n = 3\n",
    "MergeSA(nums1,m, nums2, n)"
   ]
  },
  {
   "cell_type": "code",
   "execution_count": null,
   "metadata": {},
   "outputs": [],
   "source": [
    "#89. Gray Code\n",
    "#The gray code is a binary numeral system where two successive values differ in only one bit.\n",
    "#Given a non-negative integer n representing the total number of bits in the code, print the sequence of gray code. A gray code sequence must begin with 0.\n",
    "def grayCode(self, n):\n",
    "    ans = [0]\n",
    "    for i in range(n):\n",
    "        for j in range(len(ans) - 1, -1, -1):\n",
    "            ans.append(1 << i | ans[j])\n",
    "    return ans\n",
    "#when n increases by 1, the sequence of gray code doubles \n",
    "#-- the new half is a mirror of the old half, except the new half has the left most bit set to 1.\n"
   ]
  },
  {
   "cell_type": "code",
   "execution_count": 45,
   "metadata": {},
   "outputs": [
    {
     "name": "stdout",
     "output_type": "stream",
     "text": [
      "[0, 1, 3, 2]\n"
     ]
    }
   ],
   "source": [
    "def GrayCode(n):\n",
    "    res = [0]\n",
    "    for i in range(n):\n",
    "        for j in range(len(res)-1,-1,-1):\n",
    "            res.append(1<<i | res[j])\n",
    "    return res\n",
    "print(GrayCode(2))"
   ]
  },
  {
   "cell_type": "code",
   "execution_count": 52,
   "metadata": {},
   "outputs": [
    {
     "name": "stdout",
     "output_type": "stream",
     "text": [
      "1 1\n",
      "2 3\n",
      "4 6\n",
      "8 11\n",
      "16 20\n",
      "32 37\n"
     ]
    }
   ],
   "source": [
    "for i in range(6):\n",
    "    print(1<<i, 1<<i | i)\n",
    "    #10, 11, 100, 110"
   ]
  },
  {
   "cell_type": "code",
   "execution_count": null,
   "metadata": {},
   "outputs": [],
   "source": [
    "def Subsets(n):\n",
    "    res = []\n",
    "    dfs(sorted(n),0,[],res)\n",
    "    return res\n",
    "def dfs(n, ind, path, res):\n",
    "    res.append(path)\n",
    "    for i in range(ind,len(n)):\n",
    "        dfs(n,i+1,path+[n[i]],res)\n",
    "n=[1,2,3]\n",
    "Subsets(n)"
   ]
  },
  {
   "cell_type": "code",
   "execution_count": null,
   "metadata": {},
   "outputs": [],
   "source": [
    "#90.Subsets II\n",
    "#Given a collection of integers that might contain duplicates, nums, return all possible subsets (the power set).\n",
    "# DFS  \n",
    "def subsetsWithDup(self, nums):\n",
    "    res = []\n",
    "    nums.sort()\n",
    "    self.dfs(nums, 0, [], res)\n",
    "    return res\n",
    "    \n",
    "def dfs(self, nums, index, path, res):\n",
    "    res.append(path)\n",
    "    for i in range(index, len(nums)):\n",
    "        if i > index and nums[i] == nums[i-1]:\n",
    "            continue\n",
    "        self.dfs(nums, i+1, path+[nums[i]], res)"
   ]
  },
  {
   "cell_type": "code",
   "execution_count": 53,
   "metadata": {},
   "outputs": [
    {
     "data": {
      "text/plain": [
       "[[], [1], [1, 2], [1, 2, 2], [2], [2, 2]]"
      ]
     },
     "execution_count": 53,
     "metadata": {},
     "output_type": "execute_result"
    }
   ],
   "source": [
    "def Subset2(n):\n",
    "    res = []\n",
    "    dfs(sorted(n), 0, [], res)\n",
    "    return res\n",
    "def dfs(n, ind, path, res):\n",
    "    res.append(path)\n",
    "    for i in range(ind, len(n)):\n",
    "        if i>ind and n[i]==n[i-1]:\n",
    "            continue\n",
    "        dfs(n,i+1,path+[n[i]], res)\n",
    "n=[1,2,2]\n",
    "Subset2(n)"
   ]
  },
  {
   "cell_type": "code",
   "execution_count": null,
   "metadata": {},
   "outputs": [],
   "source": [
    "#91. Decode Ways\n",
    "'''\n",
    "A-Z: 1-26\n",
    "A digit from index 1 have three condition\n",
    "'?10' or '?20' this can only divide into '10' or '20' , f(n) = f(n-2)\n",
    "'?26' this can divide into '6' or '26', f(n) = f(n-2)+f(n-1)\n",
    "'?09', '?27' this can only divide into '9' or '7' , f(n) = f(n-1)\n",
    "'''\n",
    "class Solution:\n",
    "# @param s, a string\n",
    "# @return an integer\n",
    "def numDecodings(self, s):\n",
    "    if not s or s.startswith('0'):\n",
    "        return 0\n",
    "    stack = [1, 1]\n",
    "    for i in range(1, len(s)):\n",
    "        if s[i] == '0':\n",
    "            if s[i-1] == '0' or s[i-1] > '2':  # only '10', '20' is valid\n",
    "                return 0\n",
    "            stack.append(stack[-2])\n",
    "        elif 9 < int(s[i-1:i+1]) < 27:         # '01 - 09' is not allowed\n",
    "            stack.append(stack[-2]+stack[-1])\n",
    "        else:                                  # other case '01, 09, 27'\n",
    "            stack.append(stack[-1])\n",
    "    return stack[-1]\n"
   ]
  },
  {
   "cell_type": "code",
   "execution_count": 55,
   "metadata": {},
   "outputs": [
    {
     "name": "stdout",
     "output_type": "stream",
     "text": [
      "2\n",
      "3\n"
     ]
    }
   ],
   "source": [
    "def DocodeWay(s):\n",
    "    if not s or s[0]=='0':\n",
    "        return 0\n",
    "    stack = [1,1]\n",
    "    for i in range(1,len(s)):\n",
    "        if s[i]=='0':\n",
    "            if s[i-1]=='0' or s[i-1]>'2': #10,20 only\n",
    "                return 0\n",
    "            stack.append(stack[-2])\n",
    "        elif 9<int(s[i-1:i+1])<27: \n",
    "            stack.append(stack[-2]+stack[-1])\n",
    "        else:\n",
    "            stack.append(stack[-1])\n",
    "    return stack[-1]\n",
    "s = \"12\"\n",
    "print(DocodeWay(s))\n",
    "s = \"226\"\n",
    "print(DocodeWay(s))"
   ]
  },
  {
   "cell_type": "code",
   "execution_count": null,
   "metadata": {},
   "outputs": [],
   "source": [
    "#206.Reverse Linked List\n",
    "#iterative\n",
    "def reverseList(self, head):\n",
    "    prev = None\n",
    "    curr = head\n",
    "\n",
    "    while curr:\n",
    "        next = curr.next\n",
    "        curr.next = prev\n",
    "        prev = curr\n",
    "        curr = next\n",
    "    \n",
    "    return prev\n",
    "#Recursion\n",
    "\n",
    "class Solution:\n",
    "# @param {ListNode} head\n",
    "# @return {ListNode}\n",
    "def reverseList(self, head):\n",
    "    return self._reverse(head)\n",
    "\n",
    "def _reverse(self, node, prev=None):\n",
    "    if not node:\n",
    "        return prev\n",
    "    n = node.next\n",
    "    node.next = prev\n",
    "    return self._reverse(n, node)\n"
   ]
  },
  {
   "cell_type": "code",
   "execution_count": null,
   "metadata": {},
   "outputs": [],
   "source": [
    "def ReverseLS(head):\n",
    "    prev, cur = None, head\n",
    "    while cur:\n",
    "        nextd = cur.next\n",
    "        cur.next = prev\n",
    "        prev = cur\n",
    "        cur = nextd\n",
    "    return prev\n",
    "\n",
    "def ReverseLS2(head):\n",
    "    return helper(head)\n",
    "\n",
    "def helper(node, prev=None):\n",
    "    if not node:\n",
    "        return prev\n",
    "    n = node.next\n",
    "    node.next = prev\n",
    "    return helper(n,node)"
   ]
  },
  {
   "cell_type": "code",
   "execution_count": null,
   "metadata": {},
   "outputs": [],
   "source": [
    "#92. Reverse Linked List II\n",
    "#Reverse a linked list from position m to n. Do it in one-pass.\n",
    "#Note: 1 ≤ m ≤ n ≤ length of list.\n",
    "def reverseBetween(self, head, m, n):\n",
    "    dummy = pre = ListNode(0)\n",
    "    dummy.next = head\n",
    "    for _ in range(m-1):\n",
    "        pre = pre.next\n",
    "    cur= pre.next\n",
    "    # reverse the defined part \n",
    "    node = None\n",
    "    for _ in range(n-m+1):\n",
    "        nxt = cur.next\n",
    "        cur.next = node\n",
    "        node = cur\n",
    "        cur= nxt\n",
    "    # connect three parts\n",
    "    pre.next.next = cur\n",
    "    pre.next = node\n",
    "    return dummy.next"
   ]
  },
  {
   "cell_type": "code",
   "execution_count": null,
   "metadata": {},
   "outputs": [],
   "source": [
    "def ReversePartLS(head,m,n):\n",
    "    dummy=pre=ListNode(0)\n",
    "    dummy.next=head\n",
    "    for i in range(m-1):\n",
    "        pre=pre.next\n",
    "    cur=pre.next\n",
    "    \n",
    "    node = None\n",
    "    for j in range(n-m+1):\n",
    "        nextd=cur.next\n",
    "        cur.next=node\n",
    "        node=cur\n",
    "        cur=nextd\n",
    "    \n",
    "    pre.next.next=cur\n",
    "    pre.next=node\n",
    "    return dummy.next"
   ]
  },
  {
   "cell_type": "code",
   "execution_count": 59,
   "metadata": {},
   "outputs": [
    {
     "data": {
      "text/plain": [
       "['255.255.11.135', '255.255.111.35']"
      ]
     },
     "execution_count": 59,
     "metadata": {},
     "output_type": "execute_result"
    }
   ],
   "source": [
    "#93.Restore IP Addresses\n",
    "#backtracking\n",
    "#Given a string containing only digits, restore it by returning all possible valid IP address combinations.\n",
    "class Solution():\n",
    "    def restoreIpAddresses(self, s):\n",
    "        res = []\n",
    "        self.dfs(s, 0, \"\", res)\n",
    "        return res\n",
    "\n",
    "    def dfs(self, s, index, path, res):\n",
    "        if index == 4:\n",
    "            if not s:\n",
    "                res.append(path[:-1])\n",
    "            return # backtracking\n",
    "        for i in range(1, 4):\n",
    "            # the digits we choose should no more than the length of s\n",
    "            if i <= len(s):\n",
    "                #choose one digit\n",
    "                if i == 1: \n",
    "                    self.dfs(s[i:], index+1, path+s[:i]+\".\", res)\n",
    "                #choose two digits, the first one should not be \"0\"\n",
    "                elif i == 2 and s[0] != \"0\": \n",
    "                    self.dfs(s[i:], index+1, path+s[:i]+\".\", res)\n",
    "                #choose three digits, the first one should not be \"0\", and should less than 256\n",
    "                elif i == 3 and s[0] != \"0\" and int(s[:3]) <= 255:\n",
    "                    self.dfs(s[i:], index+1, path+s[:i]+\".\", res)\n",
    "s=\"25525511135\"\n",
    "a =Solution()\n",
    "a.restoreIpAddresses(s)                                             "
   ]
  },
  {
   "cell_type": "code",
   "execution_count": 61,
   "metadata": {},
   "outputs": [
    {
     "data": {
      "text/plain": [
       "['255.255.11.135', '255.255.111.35']"
      ]
     },
     "execution_count": 61,
     "metadata": {},
     "output_type": "execute_result"
    }
   ],
   "source": [
    "def RestoreIP(s):\n",
    "    res = []\n",
    "    dfs(s,0,\"\",res)\n",
    "    return res\n",
    "def dfs(s,ind,path,res):\n",
    "    if ind==4:\n",
    "        if not s:\n",
    "            res.append(path[:-1])\n",
    "        return\n",
    "    for i in range(1,4):\n",
    "        if i <=len(s):\n",
    "            if (i ==1) or (i==2 and s[0]!='0') or (i==3 and s[0]!='0' and int(s[:3])<=255):\n",
    "                dfs(s[i:], ind+1, path+s[:i]+\".\", res)\n",
    "                #for two digits, the 1st one should not be 0\n",
    "                #for three digits, the 1st one should not be 0 and the number should be less than 256\n",
    "s=\"25525511135\"\n",
    "RestoreIP(s)                                             "
   ]
  },
  {
   "cell_type": "code",
   "execution_count": null,
   "metadata": {},
   "outputs": [],
   "source": [
    "#94. Binary Tree Inorder Traversal\n",
    "#inorder: left, root, right\n",
    "# recursively\n",
    "def inorderTraversal1(self, root):\n",
    "    res = []\n",
    "    self.helper(root, res)\n",
    "    return res\n",
    "    \n",
    "def helper(self, root, res):\n",
    "    if root:\n",
    "        self.helper(root.left, res)\n",
    "        res.append(root.val)\n",
    "        self.helper(root.right, res)\n",
    "\n",
    "# iteratively       \n",
    "def inorderTraversal(self, root):\n",
    "    res, stack = [], []\n",
    "    while True:\n",
    "        while root:\n",
    "            stack.append(root)\n",
    "            root = root.left\n",
    "        if not stack:\n",
    "            return res\n",
    "        node = stack.pop()\n",
    "        res.append(node.val)\n",
    "        root = node.right"
   ]
  },
  {
   "cell_type": "code",
   "execution_count": null,
   "metadata": {},
   "outputs": [],
   "source": [
    "def InorderTvs(root):\n",
    "    res=[]\n",
    "    helper(root,res)\n",
    "    return res\n",
    "def helper(root, res):\n",
    "    if root:\n",
    "        helper(root.left,res)\n",
    "        res.append(root)\n",
    "        helper(root.right,res)\n",
    "        \n",
    "def InorderTvs1(root):\n",
    "    res,stack=[],[]\n",
    "    while True:\n",
    "        while root:\n",
    "            stack.append(root)\n",
    "            root = root.left\n",
    "        if not stack:\n",
    "            return res\n",
    "        node = stack.pop()\n",
    "        res.append(node.val)\n",
    "        root = node.right"
   ]
  },
  {
   "cell_type": "code",
   "execution_count": null,
   "metadata": {},
   "outputs": [],
   "source": [
    "#144. Binary Tree Preorder Traversal\n",
    "#preorder: root, left, right\n",
    "# recursively\n",
    "def preorderTraversal1(self, root):\n",
    "    res = []\n",
    "    self.dfs(root, res)\n",
    "    return res\n",
    "    \n",
    "def dfs(self, root, res):\n",
    "    if root:\n",
    "        res.append(root.val)\n",
    "        self.dfs(root.left, res)\n",
    "        self.dfs(root.right, res)\n",
    "\n",
    "# iteratively\n",
    "def preorderTraversal(self, root):\n",
    "    stack, res = [root], []\n",
    "    while stack:\n",
    "        node = stack.pop()\n",
    "        if node:\n",
    "            res.append(node.val)\n",
    "            stack.append(node.right)\n",
    "            stack.append(node.left)\n",
    "    return res"
   ]
  },
  {
   "cell_type": "code",
   "execution_count": null,
   "metadata": {},
   "outputs": [],
   "source": [
    "def PreorderTvs(root):\n",
    "    res=[]\n",
    "    dfs(root,res)\n",
    "    return res\n",
    "def dfs(root,res):\n",
    "    if root:\n",
    "        res.append(root.val)\n",
    "        dfs(root.left, res)\n",
    "        dfs(root.right, res)\n",
    "\n",
    "def PreorderTvs1(root):\n",
    "    stack,res=[root],[]\n",
    "    while stack:\n",
    "        node=stack.pop()\n",
    "        if node:\n",
    "            res.append(node.val)\n",
    "            stack.append(node.right)\n",
    "            stack.append(node.left)\n",
    "    return res\n"
   ]
  },
  {
   "cell_type": "code",
   "execution_count": null,
   "metadata": {},
   "outputs": [],
   "source": [
    "#145. Binary Tree Postorder Traversal\n",
    "#postorder: left, right, root\n",
    "# recursively \n",
    "def postorderTraversal1(self, root):\n",
    "    res = []\n",
    "    self.dfs(root, res)\n",
    "    return res\n",
    "    \n",
    "def dfs(self, root, res):\n",
    "    if root:\n",
    "        self.dfs(root.left, res)\n",
    "        self.dfs(root.right, res)\n",
    "        res.append(root.val)\n",
    "\n",
    "# iteratively        \n",
    "def postorderTraversal(self, root):\n",
    "    res, stack = [], [root]\n",
    "    while stack:\n",
    "        node = stack.pop()\n",
    "        if node:\n",
    "            res.append(node.val)\n",
    "            stack.append(node.left)\n",
    "            stack.append(node.right)\n",
    "    return res[::-1]"
   ]
  },
  {
   "cell_type": "code",
   "execution_count": null,
   "metadata": {},
   "outputs": [],
   "source": [
    "def PostorderTvs(root):\n",
    "    res=[]\n",
    "    dfs(root,res)\n",
    "    return res\n",
    "\n",
    "def dfs(root,res):\n",
    "    if root:\n",
    "        self.dfs(root.left,res)\n",
    "        self.dfs(root.right,res)\n",
    "        res.append(root.val)\n",
    "\n",
    "def PostorderTvs1(root):\n",
    "    res,stack=[],[root]\n",
    "    while stack:\n",
    "        node = stack.pop()\n",
    "        if node:\n",
    "            res.append(node.val)\n",
    "            stack.append(node.left)\n",
    "            stack.append(node.right)\n",
    "    return res[::-1]\n"
   ]
  },
  {
   "cell_type": "code",
   "execution_count": null,
   "metadata": {},
   "outputs": [],
   "source": [
    "#96. Unique Binary Search Trees\n",
    "#Given n, how many structurally unique BST's (binary search trees) that store values 1 ... n?\n",
    "\n",
    "# DP\n",
    "def numTrees1(self, n):\n",
    "    res = [0] * (n+1)\n",
    "    res[0] = 1\n",
    "    for i in range(1, n+1):\n",
    "        for j in range(i):\n",
    "            res[i] += res[j] * res[i-1-j]\n",
    "    return res[n]\n",
    " \n",
    "# Catalan Number  (2n)!/((n+1)!*n!)  \n",
    "def numTrees(self, n):\n",
    "    return math.factorial(2*n)/(math.factorial(n)*math.factorial(n+1))"
   ]
  },
  {
   "cell_type": "code",
   "execution_count": 62,
   "metadata": {},
   "outputs": [
    {
     "data": {
      "text/plain": [
       "5"
      ]
     },
     "execution_count": 62,
     "metadata": {},
     "output_type": "execute_result"
    }
   ],
   "source": [
    "def UniqueBST(n):\n",
    "    res = [0]*(n+1)\n",
    "    res[0]=1\n",
    "    for i in range(1,n+1):\n",
    "        for j in range(i):\n",
    "            res[i] += res[j]*res[i-1-j]\n",
    "    return res[n]\n",
    "n=3\n",
    "UniqueBST(n)"
   ]
  },
  {
   "cell_type": "code",
   "execution_count": null,
   "metadata": {},
   "outputs": [],
   "source": [
    "#95. Unique Binary Search Trees II\n",
    "#Given an integer n, generate all structurally unique BST's (binary search trees) that store values 1 ... n.\n",
    "class Solution:\n",
    "# @return a list of tree node\n",
    "def generateTrees(self, n):\n",
    "    return self.dfs(1,n)\n",
    "    \n",
    "def dfs(self,start,end):\n",
    "    res = []\n",
    "    if start > end:\n",
    "        res.append(None)\n",
    "        return res\n",
    "\n",
    "    for i in range(start,end+1):\n",
    "        leftl = self.dfs(start,i-1)\n",
    "        rightl = self.dfs(i+1,end)\n",
    "        for l in range(0,len(leftl)):\n",
    "            for r in range(0,len(rightl)):\n",
    "                node = TreeNode(i)\n",
    "                node.left = leftl[l]\n",
    "                node.right = rightl[r]\n",
    "                res.append(node)\n",
    "    return res"
   ]
  },
  {
   "cell_type": "code",
   "execution_count": 75,
   "metadata": {},
   "outputs": [
    {
     "data": {
      "text/plain": [
       "[<__main__.TreeNode at 0x10a6f4ac8>,\n",
       " <__main__.TreeNode at 0x10a6f4dd8>,\n",
       " <__main__.TreeNode at 0x10a6f4240>,\n",
       " <__main__.TreeNode at 0x10a707208>,\n",
       " <__main__.TreeNode at 0x10a707550>]"
      ]
     },
     "execution_count": 75,
     "metadata": {},
     "output_type": "execute_result"
    }
   ],
   "source": [
    "class TreeNode:\n",
    "    def __init__(self, val, left=None, right=None):\n",
    "        self.val = val\n",
    "        self.left = left\n",
    "        self.right = right\n",
    "        \n",
    "def UniqueBST2(n):\n",
    "    return dfs(1,n)\n",
    "def dfs(start,end):\n",
    "    res=[]\n",
    "    if start>end:\n",
    "        res.append(None)\n",
    "        return res\n",
    "    for i in range(start,end+1):\n",
    "        leftT = dfs(start,i-1)\n",
    "        rightT = dfs(i+1,end)\n",
    "        for l in range(len(leftT)):\n",
    "            for r in range(len(rightT)):\n",
    "                node = TreeNode(i)\n",
    "                node.left=leftT[l]\n",
    "                node.right=rightT[r]\n",
    "                res.append(node)\n",
    "    return res\n",
    "n=3\n",
    "UniqueBST2(n)"
   ]
  },
  {
   "cell_type": "code",
   "execution_count": null,
   "metadata": {},
   "outputs": [],
   "source": [
    "# Definition for a  binary tree node\n",
    "# class TreeNode:\n",
    "#     def __init__(self, x):\n",
    "#         self.val = x\n",
    "#         self.left = None\n",
    "#         self.right = None\n",
    "\n",
    "class Solution:\n",
    "    # @return a list of tree node\n",
    "    # 2:30\n",
    "    def generateTrees(self, n):\n",
    "        nodes = map(TreeNode, range(1, n+1))\n",
    "        return map(copy.deepcopy, self.buildTree(nodes))\n",
    "\n",
    "    def buildTree(self, nodes):\n",
    "        n = len(nodes)\n",
    "        if n == 0:\n",
    "            yield None\n",
    "            return\n",
    "\n",
    "        for i in range(n):\n",
    "            root = nodes[i]\n",
    "            for left in self.buildTree(nodes[:i]):\n",
    "                for right in self.buildTree(nodes[i+1:]):\n",
    "                    root.left, root.right = left, right\n",
    "                    yield root"
   ]
  },
  {
   "cell_type": "code",
   "execution_count": 83,
   "metadata": {},
   "outputs": [
    {
     "data": {
      "text/plain": [
       "[]"
      ]
     },
     "execution_count": 83,
     "metadata": {},
     "output_type": "execute_result"
    }
   ],
   "source": [
    "#not working\n",
    "import copy\n",
    "def GenerateBST(n):\n",
    "    nodes = map(TreeNode,range(1,n+1))\n",
    "    return map(copy.deepcopy,buildTree(nodes))\n",
    "def buildTree(nodes):\n",
    "    n=len(nodes)\n",
    "    print(n)\n",
    "    if n==0: \n",
    "        yield None\n",
    "        return\n",
    "    for i in range(n):\n",
    "        root = nodes[i]\n",
    "        for l in buildTree(nodes[:i]):\n",
    "            for r in buildTree(nodes[i+1:]):\n",
    "                root.left, root.right = left, right\n",
    "                yield root\n",
    "#GenerateBST(3)"
   ]
  },
  {
   "cell_type": "code",
   "execution_count": 84,
   "metadata": {},
   "outputs": [
    {
     "data": {
      "text/plain": [
       "[]"
      ]
     },
     "execution_count": 84,
     "metadata": {},
     "output_type": "execute_result"
    }
   ],
   "source": [
    "#not working\n",
    "def gen_trees(A):\n",
    "    if A == []:\n",
    "        yield None\n",
    "        return\n",
    "\n",
    "    for i in range(len(A)):\n",
    "        for left in gen_trees(A[:i]):\n",
    "            for right in gen_trees(A[i+1:]):\n",
    "                root = TreeNode(A[i])\n",
    "                root.left, root.right = left, right\n",
    "                yield root\n",
    "\n",
    "class Solution:\n",
    "    # @param {integer} n\n",
    "    # @return {TreeNode[]}\n",
    "    def generateTrees(self, n):\n",
    "        return list(gen_trees(range(1,n+1)))\n",
    "    \n",
    "a = Solution()\n",
    "a.generateTrees(3)\n"
   ]
  },
  {
   "cell_type": "code",
   "execution_count": 81,
   "metadata": {},
   "outputs": [
    {
     "name": "stdout",
     "output_type": "stream",
     "text": [
      "[1, 2, [3, 5], 4]\n",
      "[1, 2, [3, 5], 4]\n"
     ]
    }
   ],
   "source": [
    "import copy \n",
    "  \n",
    "# initializing list 1  \n",
    "li1 = [1, 2, [3,5], 4] \n",
    "  \n",
    "# using copy for shallow copy   \n",
    "li2 = copy.copy(li1)\n",
    "print(li2)\n",
    "  \n",
    "# using deepcopy for deepcopy   \n",
    "li3 = copy.deepcopy(li1)\n",
    "print(li3)"
   ]
  },
  {
   "cell_type": "code",
   "execution_count": null,
   "metadata": {},
   "outputs": [],
   "source": [
    "#97. Interleaving String\n",
    "#Keep two points on s1 and s2 and traverse s3, the current char in s3 is either from s1 or s2 or both. \n",
    "#Use a set to record all possibility and dp on.\n",
    "#The key here is to use a set to record the pointers, because duplicates are possible, using a list cause TLE.\n",
    "\n",
    "def isInterleave(self, s1, s2, s3):\n",
    "    l1, l2 = len(s1), len(s2)\n",
    "    if l1 + l2 != len(s3):\n",
    "        return False\n",
    "    \n",
    "    last = set([(0, 0)])\n",
    "    for char in s3:\n",
    "        current = set()\n",
    "        for i, j in last:\n",
    "            if i < l1 and s1[i] == char:\n",
    "                current.add((i + 1, j))\n",
    "            if j < l2 and s2[j] == char:\n",
    "                current.add((i, j + 1))\n",
    "        if not current:\n",
    "            return False\n",
    "        last = current\n",
    "    return True"
   ]
  },
  {
   "cell_type": "code",
   "execution_count": 88,
   "metadata": {},
   "outputs": [
    {
     "name": "stdout",
     "output_type": "stream",
     "text": [
      "{(1, 0)}\n",
      "{(2, 0)}\n",
      "{(2, 1)}\n",
      "{(3, 1), (2, 2)}\n",
      "{(3, 2), (2, 3)}\n",
      "{(4, 2), (2, 4)}\n",
      "{(3, 4), (4, 3)}\n",
      "{(4, 4), (5, 3)}\n",
      "{(4, 5)}\n",
      "{(5, 5)}\n",
      "True\n",
      "{(1, 0)}\n",
      "{(2, 0)}\n",
      "{(2, 1)}\n",
      "{(3, 1), (2, 2)}\n",
      "{(3, 2), (2, 3)}\n",
      "{(3, 3)}\n"
     ]
    },
    {
     "data": {
      "text/plain": [
       "False"
      ]
     },
     "execution_count": 88,
     "metadata": {},
     "output_type": "execute_result"
    }
   ],
   "source": [
    "def InterleavingStr(s1,s2,s3):\n",
    "    l1,l2=len(s1),len(s2)\n",
    "    if l1+l2 != len(s3):\n",
    "        return False\n",
    "    last = set([(0,0)])\n",
    "    for c in s3:\n",
    "        curr = set()\n",
    "        for i, j in last:\n",
    "            if i < l1 and s1[i]==c:\n",
    "                curr.add((i+1,j))\n",
    "            if j < l2 and s2[j]==c:\n",
    "                curr.add((i,j+1))\n",
    "        if not curr:\n",
    "            return False\n",
    "        last = curr\n",
    "        print (last)\n",
    "    return True\n",
    "s1,s2,s3= \"aabcc\",\"dbbca\",\"aadbbcbcac\"\n",
    "print(InterleavingStr(s1,s2,s3))\n",
    "s1,s2,s3 = \"aabcc\",\"dbbca\",\"aadbbbaccc\"\n",
    "InterleavingStr(s1,s2,s3)"
   ]
  },
  {
   "cell_type": "code",
   "execution_count": null,
   "metadata": {},
   "outputs": [],
   "source": [
    "#98. Validate Binary Search Tree\n",
    "#Given a binary tree, determine if it is a valid binary search tree (BST).\n",
    "\n",
    "class Solution:\n",
    "# @param root, a tree node\n",
    "# @return a boolean\n",
    "def isValidBST(self, root):\n",
    "    pre, cur, stack = None, root, []\n",
    "    while stack or cur:\n",
    "        while cur:\n",
    "            stack.append(cur)\n",
    "            cur = cur.left\n",
    "        s = stack.pop()\n",
    "        if pre and s.val <= pre.val:\n",
    "            return False\n",
    "        pre, cur = s, s.right\n",
    "    return True"
   ]
  },
  {
   "cell_type": "code",
   "execution_count": null,
   "metadata": {},
   "outputs": [],
   "source": [
    "def ValidBST(root):\n",
    "    pre,cur,stack=None,root,[]\n",
    "    while stack or cur:\n",
    "        while cur:\n",
    "            stack.append(cur)\n",
    "            cur = cur.left\n",
    "        s = stack.pop()\n",
    "        if pre and s.val <= pre.val:\n",
    "            return False\n",
    "        pre,cur=s,s.right\n",
    "    return True"
   ]
  },
  {
   "cell_type": "code",
   "execution_count": null,
   "metadata": {},
   "outputs": [],
   "source": [
    "#99. Recover Binary Search Tree\n",
    "# average O(lgn) space (worst case O(n) space), iteratively, one-pass\n",
    "def recoverTree(self, root):\n",
    "    res, stack, first, second = None, [], None, None\n",
    "    while True:\n",
    "        while root:\n",
    "            stack.append(root)\n",
    "            root = root.left\n",
    "        if not stack:\n",
    "            break \n",
    "        node = stack.pop()\n",
    "        # first time occurs reversed order\n",
    "        if res and res.val > node.val:\n",
    "            if not first:\n",
    "                 first = res\n",
    "            # first or second time occurs reversed order\n",
    "            second = node\n",
    "        res = node\n",
    "        root = node.right\n",
    "    first.val, second.val = second.val, first.val\n",
    "    \n",
    "# average O(n+lgn) space, worst case O(2n) space, recursively, two-pass\n",
    "def recoverTree3(self, root):\n",
    "    res = []\n",
    "    self.helper(root, res)\n",
    "    first, second = None, None\n",
    "    for i in xrange(1, len(res)):\n",
    "        if not first and res[i-1].val > res[i].val:\n",
    "            first, second = res[i-1], res[i]\n",
    "        if first and res[i-1].val > res[i].val:\n",
    "            second = res[i]\n",
    "    first.val, second.val = second.val, first.val\n",
    "    \n",
    "def helper(self, root, res):\n",
    "    if root:\n",
    "        self.helper(root.left, res)\n",
    "        res.append(root)\n",
    "        self.helper(root.right, res)"
   ]
  },
  {
   "cell_type": "code",
   "execution_count": null,
   "metadata": {},
   "outputs": [],
   "source": [
    "def RecoverBST(root):\n",
    "    res,stack,first,second = None,[],None,None\n",
    "    while True:\n",
    "        while root:\n",
    "            stack.append(root)\n",
    "            root = root.left\n",
    "        if not stack: break\n",
    "        node = stack.pop()\n",
    "        if res and res.val > node.val #found the first reversed node\n",
    "            if not first:\n",
    "                first = res\n",
    "            second = node #first or 2nd time reversed node\n",
    "        res = node\n",
    "        root = node.right\n",
    "    first.val, second.val = second.val, first.val\n",
    "    \n",
    "def RecoveryBST2(root):\n",
    "    res = []\n",
    "    helper(root, res)\n",
    "    for i in range(1,len(res)):\n",
    "        if not first and res[i-1].val > res[i].val:\n",
    "            first, second = res[i-1], res[i]\n",
    "        if first and res[i-1].val > res[i].val:\n",
    "            second = res[i]\n",
    "    first.val, second.val = second.val, first.val\n",
    "\n",
    "def helper(root,res):\n",
    "    if root:\n",
    "        helper(root.left,res)\n",
    "        res.append(root)\n",
    "        helper(root.right,res)"
   ]
  },
  {
   "cell_type": "code",
   "execution_count": null,
   "metadata": {},
   "outputs": [],
   "source": [
    "#100. Same Tree\n",
    "#Given two binary trees, write a function to check if they are the same or not.\n",
    "def isSameTree(self, p, q):\n",
    "    if p and q:\n",
    "        return p.val == q.val and self.isSameTree(p.left, q.left) and self.isSameTree(p.right, q.right)\n",
    "    return p is q\n",
    "def isSameTree(self, p, q):\n",
    "    \"\"\"\n",
    "    :type p: TreeNode\n",
    "    :type q: TreeNode\n",
    "    :rtype: bool\n",
    "    \"\"\"\n",
    "    queue = collections.deque([p,q])\n",
    "    while queue:\n",
    "        u1 = queue.popleft()\n",
    "        u2 = queue.popleft()\n",
    "        if u1 == None and u2 != None:\n",
    "            return False\n",
    "        if u1 != None and u2 == None:\n",
    "            return False\n",
    "        if u1 != None and u2 != None:\n",
    "            if u1.val != u2.val:\n",
    "                return False\n",
    "            else:\n",
    "                queue.append(u1.left)\n",
    "                queue.append(u2.left)\n",
    "                queue.append(u1.right)\n",
    "                queue.append(u2.right)\n",
    "    return True\n"
   ]
  },
  {
   "cell_type": "code",
   "execution_count": null,
   "metadata": {},
   "outputs": [],
   "source": [
    "def SameBT(t1,t2):\n",
    "    if t1 and t2:\n",
    "        return t1.val==t2.val and SameBT(t1.left,t2.left) and SameBT(t1.right,t2.right)\n",
    "    return t1 is t2\n",
    "def SameBT2(t1,t2):\n",
    "    queue = collections.deque([t1,t2])\n",
    "    while queue:\n",
    "        nd1 = queue.popleft()\n",
    "        nd2 = queue.popleft()\n",
    "        if (nd1==None and nd2!=None) or (nd1!=None and nd2==None):\n",
    "            return False\n",
    "        elif (nd1!=None a\n",
    "              nd nd2!=None):\n",
    "            if nd1.val != nd2.val:\n",
    "                return False\n",
    "            else:\n",
    "                queue.append(nd1.left)\n",
    "                queue.append(nd2.left)\n",
    "                queue.append(nd1.right)\n",
    "                queue.append(nd2.right)\n",
    "    return True\n"
   ]
  },
  {
   "cell_type": "code",
   "execution_count": null,
   "metadata": {},
   "outputs": [],
   "source": [
    "#101. Symmetric Tree - mirror tree\n",
    "\n",
    "def isSymmetric(self, root):\n",
    "    if not root:\n",
    "        return True\n",
    "    return self.dfs(root.left, root.right)\n",
    "    \n",
    "def dfs(self, l, r):\n",
    "    if l and r:\n",
    "        return l.val == r.val and self.dfs(l.left, r.right) and self.dfs(l.right, r.left)\n",
    "    return l == r"
   ]
  },
  {
   "cell_type": "code",
   "execution_count": null,
   "metadata": {},
   "outputs": [],
   "source": [
    "def SymmBT(root):\n",
    "    if not root: return True\n",
    "    return dfs(root.left,root.right)\n",
    "def dfs(l,r):\n",
    "    if l and r:\n",
    "        return l.val==r.val and dfs(l.left,r.right) and dfs(l.right,r.left)\n",
    "    return l == r"
   ]
  },
  {
   "cell_type": "code",
   "execution_count": null,
   "metadata": {},
   "outputs": [],
   "source": [
    "#102. Binary Tree Level Order Traversal\n",
    "#Given a binary tree, return the level order traversal of its nodes' values. (ie, from left to right, level by level).\n",
    "#When doing DFS recursively, add a variable to record the level information.\n",
    "\n",
    "def levelOrder(self, root):\n",
    "    res = []\n",
    "    self.dfs(root, 0, res)\n",
    "    return res\n",
    "    \n",
    "def dfs(self, root, level, res):\n",
    "    if not root:\n",
    "        return \n",
    "    if len(res) < level+1:\n",
    "        res.append([])\n",
    "    res[level].append(root.val)\n",
    "    self.dfs(root.left, level+1, res)\n",
    "    self.dfs(root.right, level+1, res)\n",
    "    \n",
    "class Solution:\n",
    "    # @param root, a tree node\n",
    "    # @return a list of lists of integers\n",
    "    def levelOrder(self, root):\n",
    "        result = []\n",
    "        if not root:\n",
    "            return result\n",
    "        curlevel = [root]\n",
    "        while curlevel != []:\n",
    "            vals = []\n",
    "            newlevel = []\n",
    "            for node in curlevel:\n",
    "                vals.append(node.val)\n",
    "                if node.left:\n",
    "                    newlevel.append(node.left)\n",
    "                if node.right:\n",
    "                    newlevel.append(node.right)\n",
    "            result.append(vals)\n",
    "            curlevel = newlevel\n",
    "        return result\n"
   ]
  },
  {
   "cell_type": "code",
   "execution_count": null,
   "metadata": {},
   "outputs": [],
   "source": [
    "def LevelOrder(root):\n",
    "    res = []\n",
    "    dfs(root,0,res)\n",
    "    return res\n",
    "def dfs(root,level,res):\n",
    "    if not root: \n",
    "        return\n",
    "    if len(res)< level+1:\n",
    "        res.append([])\n",
    "    res[level].append(root.val)\n",
    "    dfs(root.left,level+1,res)\n",
    "    dfs(root.right,level+1,res)\n",
    "\n",
    "    \n",
    "def LevelOrder2(root):\n",
    "    stack=[(root,0)]\n",
    "    res=[]\n",
    "    while stack:\n",
    "        nd,level=stack.pop()\n",
    "        if node:\n",
    "            if len(res)<level+1:\n",
    "                res.append([])\n",
    "            res[level].append(nd.val)\n",
    "            stack.append((nd.right, level+1))\n",
    "            stack.append((nd.left,level+1))\n",
    "    return res\n",
    "\n",
    "def LevelOrder3(root):\n",
    "    res = []\n",
    "    if not root:\n",
    "        return res\n",
    "    curlevel = [root]\n",
    "    while curlevel !=[]:\n",
    "        vals,newlevel=[],[]\n",
    "        for nd in curlevel:\n",
    "            vals.append(nd.val)\n",
    "            if nd.left:\n",
    "                newlevel.append(nd.left)\n",
    "            if nd.right:\n",
    "                newlevel.append(nd.right)\n",
    "        res.append(vals)\n",
    "        curlevel = newlevel\n",
    "    return res\n"
   ]
  },
  {
   "cell_type": "code",
   "execution_count": null,
   "metadata": {},
   "outputs": [],
   "source": [
    "#107. Binary Tree Level Order Traversal II\n",
    "#Given a binary tree, return the bottom-up level order traversal of its nodes' values. (ie, from left to right, level by level from leaf to root).\n",
    "\n",
    "# dfs recursively\n",
    "def levelOrderBottom1(self, root):\n",
    "    res = []\n",
    "    self.dfs(root, 0, res)\n",
    "    return res\n",
    "\n",
    "def dfs(self, root, level, res):\n",
    "    if root:\n",
    "        if len(res) < level + 1:\n",
    "            res.insert(0, [])\n",
    "        res[-(level+1)].append(root.val)\n",
    "        self.dfs(root.left, level+1, res)\n",
    "        self.dfs(root.right, level+1, res)\n",
    "        \n",
    "# dfs + stack\n",
    "def levelOrderBottom2(self, root):\n",
    "    stack = [(root, 0)]\n",
    "    res = []\n",
    "    while stack:\n",
    "        node, level = stack.pop()\n",
    "        if node:\n",
    "            if len(res) < level+1:\n",
    "                res.insert(0, [])\n",
    "            res[-(level+1)].append(node.val)\n",
    "            stack.append((node.right, level+1))\n",
    "            stack.append((node.left, level+1))\n",
    "    return res"
   ]
  },
  {
   "cell_type": "code",
   "execution_count": null,
   "metadata": {},
   "outputs": [],
   "source": []
  },
  {
   "cell_type": "code",
   "execution_count": null,
   "metadata": {},
   "outputs": [],
   "source": [
    "def LevelOrderB(root):\n",
    "    res = []\n",
    "    dfs(root,0,res)\n",
    "    return res\n",
    "def dfs(root,level,res):\n",
    "    if root:\n",
    "        if len(res)<level+1:\n",
    "            res.insert(0,[])\n",
    "        res[-(level+1)].append(root.val)\n",
    "        dfs(root.left,level+1,res)\n",
    "        dfs(root.right,level+1,res)\n",
    "        \n",
    "def LEvelOrderB2(root):\n",
    "    stack=[(root,0)]\n",
    "    res=[]\n",
    "    while stack:\n",
    "        nd,level=stack.pop()\n",
    "        if nd:\n",
    "            if len(res)<level+1:\n",
    "                res.insert(0,[])\n",
    "            res[-(level+1)].append(nd.val)\n",
    "            stack.append((nd.left,level+1))\n",
    "            stack.append((nd.right,level+1))\n",
    "    return res"
   ]
  },
  {
   "cell_type": "code",
   "execution_count": null,
   "metadata": {},
   "outputs": [],
   "source": [
    "#103. Binary Tree Zigzag Level Order Traversal\n",
    "#We can solve this problem by using BFS with queue. Level information is needed in order to reverse the odd row.\n",
    "\n",
    "def zigzagLevelOrder(self, root):\n",
    "    res, queue = [], [(root, 0)]\n",
    "    while queue:\n",
    "        curr, level = queue.pop(0)\n",
    "        if curr:\n",
    "            if len(res) < level+1:\n",
    "                res.append([])\n",
    "            if level % 2 == 0:\n",
    "                res[level].append(curr.val)\n",
    "            else:\n",
    "                res[level].insert(0, curr.val)\n",
    "            queue.append((curr.left, level+1))\n",
    "            queue.append((curr.right, level+1))\n",
    "    return res"
   ]
  },
  {
   "cell_type": "code",
   "execution_count": null,
   "metadata": {},
   "outputs": [],
   "source": [
    "def ZigzagBT(root):\n",
    "    res,queue=[],[(root,0)]\n",
    "    whiel queue:\n",
    "        nd,level=queue.pop(0)\n",
    "        if nd:\n",
    "            if len(res)<level+1:\n",
    "                res.append([])\n",
    "            if level%2 == 0:\n",
    "                res[level].append(nd.val)\n",
    "            else:\n",
    "                res[level].insert(0,nd.val)\n",
    "            queue.append((nd.left,level+1))\n",
    "            queue.append((nd.right,level+1))\n",
    "    return res"
   ]
  },
  {
   "cell_type": "code",
   "execution_count": null,
   "metadata": {},
   "outputs": [],
   "source": [
    "#104. Maximum Depth of Binary Tree\n",
    "#Depth First Search: Post Order\n",
    "#Empty tree i.e. root is None: Depth = 0\n",
    "#maxDepth(root) = max(maxDepth(root.left), maxDepth(root.right)) + 1\n",
    "#Time and Space Complexity: O(N)\n",
    "\n",
    "class Solution_DFS_Post_Order(object):\n",
    "    def maxDepth(self, root):\n",
    "        \"\"\"\n",
    "        :type root: TreeNode\n",
    "        :rtype: int\n",
    "        \"\"\"\n",
    "        if root is None:\n",
    "            return 0\n",
    "        else:\n",
    "            return max(self.maxDepth(root.left), self.maxDepth(root.right)) + 1\n",
    "\n",
    "#Depth First Search: PreOrder\n",
    "#Perform pre-order traversal and pass a variable to track the level\n",
    "#Time and Space Complexity: O(N)\n",
    "\n",
    "from collections import deque\n",
    "class Solution_BFS_Iterative(object):\n",
    "    def maxDepth(self, root):\n",
    "        \"\"\"\n",
    "        :type root: TreeNode\n",
    "        :rtype: int\n",
    "        \"\"\"\n",
    "        q, depth = deque(), 0\n",
    "        if root:\n",
    "            q.append(root)\n",
    "        while len(q):\n",
    "            depth += 1\n",
    "            for _ in range(len(q)):\n",
    "                x = q.popleft()\n",
    "                if x.left:\n",
    "                    q.append(x.left)\n",
    "                if x.right:\n",
    "                    q.append(x.right)\n",
    "        return depth"
   ]
  },
  {
   "cell_type": "code",
   "execution_count": null,
   "metadata": {},
   "outputs": [],
   "source": [
    "def MaxDepthBT(root):\n",
    "    if root is None:\n",
    "        return 0\n",
    "    else:\n",
    "        return max(maxDepthBT(root.left),maxDepthBT(root.right))+1\n",
    "\n",
    "from collections import deque\n",
    "def MaxDepthBT2(root):\n",
    "    q,depth=deque(),0\n",
    "    if root:\n",
    "        q.append(root)\n",
    "    while len(q):\n",
    "        depth += 1\n",
    "        for i in range(len(q)):\n",
    "            nd = q.popleft()\n",
    "            if nd.left:\n",
    "                q.append(nd.left)\n",
    "            if nd.right:\n",
    "                q.append(nd.right)\n",
    "    return depth\n"
   ]
  },
  {
   "cell_type": "code",
   "execution_count": null,
   "metadata": {},
   "outputs": [],
   "source": [
    "#105. Construct Binary Tree from Preorder and Inorder Traversal\n",
    "def buildTree(self, preorder, inorder):\n",
    "    if inorder:\n",
    "        root = TreeNode(preorder.pop(0))\n",
    "        inorderIndex = inorder.index(root.val)\n",
    "        root.left = self.buildTree(preorder, inorder[:inorderIndex])\n",
    "        root.right = self.buildTree(preorder, inorder[inorderIndex+1:])\n",
    "        return root"
   ]
  },
  {
   "cell_type": "code",
   "execution_count": null,
   "metadata": {},
   "outputs": [],
   "source": [
    "def BuildBT(preorder,inorder):\n",
    "    if inorder:\n",
    "        root = TreeNode(preorder.pop(0))\n",
    "        inorderInd = inorder.index(root.val)\n",
    "        root.left = BuildBT(preorder,inorder[:inorderInd])\n",
    "        root.right = BuildBT(preorder,inorder[inorderInd+1:])\n",
    "        return root\n"
   ]
  },
  {
   "cell_type": "code",
   "execution_count": null,
   "metadata": {},
   "outputs": [],
   "source": [
    "#106. Construct Binary Tree from Inorder and Postorder Traversal\n",
    "def buildTree(self, inorder, postorder):\n",
    "    if inorder:\n",
    "        ind = inorder.index(postorder.pop())\n",
    "        root = TreeNode(inorder[ind])\n",
    "        root.right = self.buildTree(inorder[ind+1:], postorder)\n",
    "        root.left = self.buildTree(inorder[:ind], postorder)\n",
    "        return root"
   ]
  },
  {
   "cell_type": "code",
   "execution_count": null,
   "metadata": {},
   "outputs": [],
   "source": [
    "def BuildBT(inorder,postorder):\n",
    "    if inorder:\n",
    "        root = TreeNode(postorder.pop())\n",
    "        inorderInd = inorder.index(root.val)\n",
    "        root.left = BuildBT(inorder[:inorderInd], postorder)\n",
    "        root.right = BuildBT(inorder[inorderInd+1:], postorder)"
   ]
  },
  {
   "cell_type": "code",
   "execution_count": null,
   "metadata": {},
   "outputs": [],
   "source": [
    "#108. Convert Sorted Array to Binary Search Tree\n",
    "def sortedArrayToBST1(self, nums):\n",
    "    l, r = 0, len(nums)-1\n",
    "    if l <= r:\n",
    "        mid = l + (r-l)//2\n",
    "        root = TreeNode(nums[mid])\n",
    "        root.left = self.sortedArrayToBST(nums[:mid])\n",
    "        root.right = self.sortedArrayToBST(nums[mid+1:])\n",
    "        return root"
   ]
  },
  {
   "cell_type": "code",
   "execution_count": null,
   "metadata": {},
   "outputs": [],
   "source": [
    "def SAtoBST(nums):\n",
    "    l, r = 0, len(nums)-1\n",
    "    if l<=r:\n",
    "        mid = (l+r)//2\n",
    "        root = TreeNode(nums[mid])\n",
    "        root.left = SAtoBST(nums[:mid])\n",
    "        root.right = SAtoBST(nums[mid+1:])\n",
    "        return root"
   ]
  },
  {
   "cell_type": "code",
   "execution_count": null,
   "metadata": {},
   "outputs": [],
   "source": [
    "#109. Convert Sorted List to Binary Search Tree\n",
    "# recursively\n",
    "def sortedListToBST(self, head):\n",
    "    if not head:\n",
    "        return \n",
    "    if not head.next:\n",
    "        return TreeNode(head.val)\n",
    "    # here we get the middle point,\n",
    "    # even case, like '1234', slow points to '2',\n",
    "    # '3' is root, '12' belongs to left, '4' is right\n",
    "    # odd case, like '12345', slow points to '2', '12'\n",
    "    # belongs to left, '3' is root, '45' belongs to right\n",
    "    slow, fast = head, head.next.next\n",
    "    while fast and fast.next:\n",
    "        fast = fast.next.next\n",
    "        slow = slow.next\n",
    "    # tmp points to root\n",
    "    tmp = slow.next\n",
    "    # cut down the left child\n",
    "    slow.next = None\n",
    "    root = TreeNode(tmp.val)\n",
    "    root.left = self.sortedListToBST(head)\n",
    "    root.right = self.sortedListToBST(tmp.next)\n",
    "    return root"
   ]
  },
  {
   "cell_type": "code",
   "execution_count": null,
   "metadata": {},
   "outputs": [],
   "source": [
    "def SLtoBST(head):\n",
    "    if not head:\n",
    "        return\n",
    "    if not head.next:\n",
    "        return TreeNode(head.val)\n",
    "    slow,fast = head, head.next.next\n",
    "    while fast and fast.next:\n",
    "        fast = fast.next.next\n",
    "        slow = slow.next\n",
    "    tmp = slow.next\n",
    "    slow.next = None\n",
    "    root = TreeNode(tmp.val)\n",
    "    root.left = SLtoBST(head)\n",
    "    root.right = SLtoBST(tmp.next)\n",
    "    return root\n"
   ]
  },
  {
   "cell_type": "code",
   "execution_count": null,
   "metadata": {},
   "outputs": [],
   "source": [
    "#110. Balanced Binary Tree\n",
    "class Solution:\n",
    "    # @param {TreeNode} root\n",
    "    # @return {boolean}\n",
    "    def isBalanced(self, root):\n",
    "        if not root:\n",
    "            return True\n",
    "\n",
    "        return abs(self.getHeight(root.left) - self.getHeight(root.right)) < 2 and self.isBalanced(root.left) and self.isBalanced(root.right)\n",
    "\n",
    "    def getHeight(self, root):\n",
    "        if not root:\n",
    "            return 0\n",
    "\n",
    "        return 1 + max(self.getHeight(root.left), self.getHeight(root.right))\n",
    "    \n",
    "def isBalanced(self, root):\n",
    "    \n",
    "    def getNodeDepth(node):\n",
    "        if(node==None):return 0;\n",
    "\n",
    "        stack=[(node,1)];\n",
    "        dep=1;\n",
    "\n",
    "        while(len(stack)):\n",
    "            first,dep=stack.pop(0);\n",
    "            if(first.left!=None):\n",
    "                stack.append((first.left,dep+1));\n",
    "            if(first.right!=None):\n",
    "                stack.append((first.right,dep+1));\n",
    "        return dep;\n",
    "    \n",
    "    if(root==None):return True;\n",
    "    l=getNodeDepth(root.left);\n",
    "    r=getNodeDepth(root.right);\n",
    "    \n",
    "    return (abs(l-r)<2) and self.isBalanced(root.left) and self.isBalanced(root.right);"
   ]
  },
  {
   "cell_type": "code",
   "execution_count": null,
   "metadata": {},
   "outputs": [],
   "source": [
    "def BalancedBT(root):\n",
    "    if not root:\n",
    "        return True\n",
    "    return abs(getDepth(root.left)-getDepth(root.right))<2 and \\\n",
    "           BalancedBT(root.left) and BalancedBT(root.right)\n",
    "\n",
    "def getDepath(root):\n",
    "    if not root:\n",
    "        return 0\n",
    "    return 1+max(getDepth(root.left),getDepath(root.right))\n"
   ]
  },
  {
   "cell_type": "code",
   "execution_count": null,
   "metadata": {},
   "outputs": [],
   "source": [
    "#111. Minimum Depth of Binary Tree\n",
    "# DFS\n",
    "def minDepth1(self, root):\n",
    "    if not root:\n",
    "        return 0\n",
    "    if None in [root.left, root.right]:\n",
    "        return max(self.minDepth(root.left), self.minDepth(root.right)) + 1\n",
    "    else:\n",
    "        return min(self.minDepth(root.left), self.minDepth(root.right)) + 1\n",
    "\n",
    "# BFS   \n",
    "def minDepth(self, root):\n",
    "    if not root:\n",
    "        return 0\n",
    "    queue = collections.deque([(root, 1)])\n",
    "    while queue:\n",
    "        node, level = queue.popleft()\n",
    "        if node:\n",
    "            if not node.left and not node.right:\n",
    "                return level\n",
    "            else:\n",
    "                queue.append((node.left, level+1))\n",
    "                queue.append((node.right, level+1))"
   ]
  },
  {
   "cell_type": "code",
   "execution_count": null,
   "metadata": {},
   "outputs": [],
   "source": [
    "def MinDepthBT(root):\n",
    "    if not root:\n",
    "        return 0\n",
    "    if None in [root.left,root.right]:\n",
    "        return max(MinDepthBT(root.left),MinDepthBT(root.right))+1\n",
    "    else:\n",
    "        return min(MinDepthBT(root.left),MinDepthBT(root.right))+1\n"
   ]
  },
  {
   "cell_type": "code",
   "execution_count": null,
   "metadata": {},
   "outputs": [],
   "source": [
    "#112. Path Sum\n",
    "#Given a binary tree and a sum, determine if the tree has a root-to-leaf path such that adding up all the values along the path equals the given sum.\n",
    "#Current node and the sum until current node as a tuple is pushed onto the stack to keep track of the sum.\n",
    "\n",
    "def hasPathSum(self, root, sum):\n",
    "    if root is None:\n",
    "        return False\n",
    "    stack = [(root, sum)]\n",
    "    while stack:\n",
    "        node, _sum = stack.pop()\n",
    "        if node.left is node.right is None and node.val == _sum:\n",
    "            return True\n",
    "        if node.left:\n",
    "            stack.append((node.left, _sum - node.val))\n",
    "        if node.right:\n",
    "            stack.append((node.right, _sum - node.val))\n",
    "    return False\n",
    "\n",
    "def hasPathSum1(self, root, sum):\n",
    "    res = []\n",
    "    self.dfs(root, sum, res)\n",
    "    return any(res)\n",
    "    \n",
    "def dfs(self, root, target, res):\n",
    "    if root:\n",
    "        if not root.left and not root.right:\n",
    "            if root.val == target:\n",
    "                res.append(True)\n",
    "        if root.left:\n",
    "            self.dfs(root.left, target-root.val, res)\n",
    "        if root.right:\n",
    "            self.dfs(root.right, target-root.val, res)"
   ]
  },
  {
   "cell_type": "code",
   "execution_count": null,
   "metadata": {},
   "outputs": [],
   "source": [
    "def PathSum(root,target):\n",
    "    if root is None:\n",
    "        return False\n",
    "    stack = [(root,target)]\n",
    "    while stack:\n",
    "        nd, cursum = stack.pop()\n",
    "        if nd.left is nd.right is None and nd.val==cursum:\n",
    "            return True\n",
    "        if nd.left:\n",
    "            stack.append((nd.left,cursum-nd.val))\n",
    "        if nd.right\n",
    "            stack.append((nd.right,cursum-nd.val))\n",
    "    return False\n",
    "\n",
    "def PathSum2(root,target):\n",
    "    res = []\n",
    "    dfs(root,target,res)\n",
    "    return res\n",
    "def dfs(nd,target,res):\n",
    "    if nd:\n",
    "        if not nd.left and not nd.right and root.val==target:\n",
    "            res.append(True)\n",
    "        if nd.left:\n",
    "            dfs(nd.left,target-nd.val,res)\n",
    "        if nd.right:\n",
    "            dfs(nd.right,target-nd.val,res)\n"
   ]
  },
  {
   "cell_type": "code",
   "execution_count": null,
   "metadata": {},
   "outputs": [],
   "source": [
    "#113. Path Sum II\n",
    "#Given a binary tree and a sum, find all root-to-leaf paths where each path's sum equals the given sum.\n",
    "\n",
    "def pathSum(self, root, sum):\n",
    "    if not root:\n",
    "        return []\n",
    "    res = []\n",
    "    self.dfs(root, sum, [], res)\n",
    "    return res\n",
    "    \n",
    "def dfs(self, root, sum, ls, res):\n",
    "    if not root.left and not root.right and sum == root.val:\n",
    "        ls.append(root.val)\n",
    "        res.append(ls)\n",
    "    if root.left:\n",
    "        self.dfs(root.left, sum-root.val, ls+[root.val], res)\n",
    "    if root.right:\n",
    "        self.dfs(root.right, sum-root.val, ls+[root.val], res)"
   ]
  },
  {
   "cell_type": "code",
   "execution_count": null,
   "metadata": {},
   "outputs": [],
   "source": [
    "def PathSumAll(root,target):\n",
    "    if not root:\n",
    "        return []\n",
    "    res = []\n",
    "    dfs(nd,target,[],res)\n",
    "    return res\n",
    "def dfs(nd,target,path,res):\n",
    "    if not nd.left and not nd.right and target == nd.val:\n",
    "        path.append(nd.val)\n",
    "        res.append(path)\n",
    "    if nd.left:\n",
    "        dfs(nd.left,target-nd.val,path+[nd.val],res)\n",
    "    if nd.right:\n",
    "        dfs(nd.right,target-nd.val,path+[nd.val],res)\n"
   ]
  },
  {
   "cell_type": "code",
   "execution_count": null,
   "metadata": {},
   "outputs": [],
   "source": [
    "#114. Flatten Binary Tree to Linked List\n",
    "# recusive      \n",
    "def flatten1(self, root):\n",
    "    self.helper(root)\n",
    "    \n",
    "def helper(self, root):\n",
    "    if not root:\n",
    "        return\n",
    "    l = self.helper(root.left)\n",
    "    r = self.helper(root.right)\n",
    "    if l:\n",
    "        root.right = l\n",
    "        while l and l.right:\n",
    "            l = l.right\n",
    "        l.right = r\n",
    "        root.left = None # take care here\n",
    "    return root"
   ]
  },
  {
   "cell_type": "code",
   "execution_count": null,
   "metadata": {},
   "outputs": [],
   "source": [
    "def FlattenBTLS(root):\n",
    "    helper(root)\n",
    "def helper(root):\n",
    "    if not root:\n",
    "        return\n",
    "    l = helper(root.left)\n",
    "    r = helper(root.right)\n",
    "    if l:\n",
    "        root.right = l\n",
    "        while l and l.right:\n",
    "            l = l.right\n",
    "        l.right = r\n",
    "        root.left = None\n",
    "    return root"
   ]
  },
  {
   "cell_type": "code",
   "execution_count": null,
   "metadata": {},
   "outputs": [],
   "source": [
    "#115. Distinct Subsequences\n",
    "#Given a string S and a string T, count the number of distinct subsequences of S which equals T.\n",
    "#A subsequence of a string is a new string which is formed from the original string by deleting some (can be none) of the characters without disturbing the relative positions of the remaining characters. (ie, \"ACE\" is a subsequence of \"ABCDE\" while \"AEC\" is not).\n",
    "# O(m*n) space \n",
    "def numDistinct1(self, s, t):\n",
    "    l1, l2 = len(s)+1, len(t)+1\n",
    "    dp = [[1] * l2 for _ in range(l1)]\n",
    "    for j in range(1, l2):\n",
    "        dp[0][j] = 0\n",
    "    for i in range(1, l1):\n",
    "        for j in range(1, l2):\n",
    "            dp[i][j] = dp[i-1][j] + dp[i-1][j-1]*(s[i-1] == t[j-1])\n",
    "    return dp[-1][-1]\n",
    "\n",
    "# O(n) space  \n",
    "def numDistinct(self, s, t):\n",
    "    l1, l2 = len(s)+1, len(t)+1\n",
    "    cur = [0] * l2\n",
    "    cur[0] = 1\n",
    "    for i in xrange(1, l1):\n",
    "        pre = cur[:]\n",
    "        for j in xrange(1, l2):\n",
    "            cur[j] = pre[j] + pre[j-1]*(s[i-1] == t[j-1])\n",
    "    return cur[-1]\n"
   ]
  },
  {
   "cell_type": "code",
   "execution_count": 92,
   "metadata": {},
   "outputs": [
    {
     "data": {
      "text/plain": [
       "5"
      ]
     },
     "execution_count": 92,
     "metadata": {},
     "output_type": "execute_result"
    }
   ],
   "source": [
    "def DistinctSub(s,t):\n",
    "    l1, l2 = len(s)+1, len(t)+1\n",
    "    dp = [[1]*l2 for i in range(l1)]\n",
    "    #print(dp)\n",
    "    for j in range(1,l2):\n",
    "        dp[0][j]=0\n",
    "    #print(dp)\n",
    "    for i in range(1, l1):\n",
    "        for j in range(1, l2):\n",
    "            dp[i][j]=dp[i-1][j]+dp[i-1][j-1]*(s[i-1]==t[j-1])\n",
    "    return dp[-1][-1]\n",
    "\n",
    "s,t = \"rabbbit\", \"rabbit\"\n",
    "DistinctSub(s,t)\n",
    "\n",
    "def DistinctSub2(s,t):\n",
    "    l1, l2 = len(s)+1, len(t)+1\n",
    "    res = [0]*l2\n",
    "    res[0]=1\n",
    "    for i in range(1,l1):\n",
    "        pre = res[:]\n",
    "        for j in range(1,l2):\n",
    "            res[j]=pre[j]+pre[j-1]*(s[i-1]==t[j-1])\n",
    "    return res[-1]\n",
    "\n",
    "s,t = \"babgbag\",\"bag\"\n",
    "DistinctSub2(s,t)"
   ]
  },
  {
   "cell_type": "code",
   "execution_count": null,
   "metadata": {},
   "outputs": [],
   "source": [
    "#116. Populating Next Right Pointers in Each Node\n",
    "#perfect BT\n",
    "def connect1(self, root):\n",
    "    if root and root.left and root.right:\n",
    "        root.left.next = root.right\n",
    "        if root.next:\n",
    "            root.right.next = root.next.left\n",
    "        self.connect(root.left)\n",
    "        self.connect(root.right)\n",
    "\n",
    "# DFS \n",
    "def connect(self, root):\n",
    "    if not root:\n",
    "        return \n",
    "    stack = [root]\n",
    "    while stack:\n",
    "        curr = stack.pop()\n",
    "        if curr.left and curr.right:\n",
    "            curr.left.next = curr.right\n",
    "            if curr.next:\n",
    "                curr.right.next = curr.next.left\n",
    "            stack.append(curr.right)\n",
    "            stack.append(curr.left)\n",
    "            \n",
    "# BFS       \n",
    "def connect2(self, root):\n",
    "    if not root:\n",
    "        return \n",
    "    queue = [root]\n",
    "    while queue:\n",
    "        curr = queue.pop(0)\n",
    "        if curr.left and curr.right:\n",
    "            curr.left.next = curr.right\n",
    "            if curr.next:\n",
    "                curr.right.next = curr.next.left\n",
    "            queue.append(curr.left)\n",
    "            queue.append(curr.right)\n",
    "            "
   ]
  },
  {
   "cell_type": "code",
   "execution_count": null,
   "metadata": {},
   "outputs": [],
   "source": []
  },
  {
   "cell_type": "code",
   "execution_count": null,
   "metadata": {},
   "outputs": [],
   "source": [
    "#117. Populating Next Right Pointers in Each Node II\n",
    "#general BT\n",
    "def connect(self, root):\n",
    "    if not root:\n",
    "        return \n",
    "    # connect nodes level by level,\n",
    "    # similar to level order traversal\n",
    "    queue = collections.deque([root])\n",
    "    nextLevel = collections.deque([])\n",
    "    while queue:\n",
    "        node = queue.popleft()\n",
    "        if node.left:\n",
    "            nextLevel.append(node.left)\n",
    "        if node.right:\n",
    "            nextLevel.append(node.right)\n",
    "        if queue:\n",
    "            node.next = queue[0]\n",
    "        if not queue:\n",
    "            queue, nextLevel = nextLevel, queue\n"
   ]
  },
  {
   "cell_type": "code",
   "execution_count": null,
   "metadata": {},
   "outputs": [],
   "source": []
  },
  {
   "cell_type": "code",
   "execution_count": null,
   "metadata": {},
   "outputs": [],
   "source": [
    "#118. Pascal's Triangle\n",
    "#Given a non-negative integer numRows, generate the first numRows of Pascal's triangle.\n",
    "#In Pascal's triangle, each number is the sum of the two numbers directly above it.\n",
    "def generate(self, numRows):\n",
    "    res = [[1 for _ in xrange(i+1)] for i in xrange(numRows)]\n",
    "    for i in xrange(2, numRows):\n",
    "        for j in xrange(1, i):\n",
    "            res[i][j] = res[i-1][j-1] + res[i-1][j]\n",
    "    return res"
   ]
  },
  {
   "cell_type": "code",
   "execution_count": 1,
   "metadata": {},
   "outputs": [
    {
     "name": "stdout",
     "output_type": "stream",
     "text": [
      "[[1], [1, 1], [1, 1, 1], [1, 1, 1, 1], [1, 1, 1, 1, 1]]\n"
     ]
    }
   ],
   "source": [
    "res = [[1 for _ in range(i+1)] for i in range(5)]\n",
    "print(res)"
   ]
  },
  {
   "cell_type": "code",
   "execution_count": null,
   "metadata": {},
   "outputs": [],
   "source": [
    "#119. Pascal's Triangle II\n",
    "# O(k) space\n",
    "def getRow(self, rowIndex):\n",
    "    res = [0] * (rowIndex+1)\n",
    "    res[0] = 1\n",
    "    for i in xrange(1, rowIndex+1):\n",
    "        pre = res[:]\n",
    "        for j in xrange(1, i+1):\n",
    "            res[j] = pre[j-1] + pre[j]\n",
    "    return res"
   ]
  },
  {
   "cell_type": "code",
   "execution_count": null,
   "metadata": {},
   "outputs": [],
   "source": []
  },
  {
   "cell_type": "code",
   "execution_count": null,
   "metadata": {},
   "outputs": [],
   "source": [
    "#120. Triangle\n",
    "#Given a triangle, find the minimum path sum\n",
    "# bottom-up, O(n) space\n",
    "def minimumTotal(self, triangle):\n",
    "    if not triangle:\n",
    "        return \n",
    "    res = triangle[-1]\n",
    "    for i in xrange(len(triangle)-2, -1, -1):\n",
    "        for j in xrange(len(triangle[i])):\n",
    "            res[j] = min(res[j], res[j+1]) + triangle[i][j]\n",
    "    return res[0]"
   ]
  },
  {
   "cell_type": "code",
   "execution_count": null,
   "metadata": {},
   "outputs": [],
   "source": []
  },
  {
   "cell_type": "code",
   "execution_count": null,
   "metadata": {},
   "outputs": [],
   "source": [
    "#121. Best Time to Buy and Sell Stock\n",
    "def maxProfit1(self, prices):\n",
    "    if not prices:\n",
    "        return 0\n",
    "    loc = glo = 0\n",
    "    for i in xrange(1, len(prices)):\n",
    "        loc = max(loc+prices[i]-prices[i-1], 0)\n",
    "        glo = max(glo, loc)\n",
    "    return glo\n",
    "    \n",
    "def maxProfit2(self, prices):\n",
    "    if not prices:\n",
    "        return 0\n",
    "    minPri, maxPro = prices[0], 0\n",
    "    for i in xrange(1, len(prices)):\n",
    "        minPri = min(minPri, prices[i])\n",
    "        maxPro = max(maxPro, prices[i]-minPri)\n",
    "    return maxPro"
   ]
  },
  {
   "cell_type": "code",
   "execution_count": null,
   "metadata": {},
   "outputs": [],
   "source": [
    "#122. Best Time to Buy and Sell Stock II\n",
    "def maxProfit(self, prices):\n",
    "    return sum(max(b-a,0)for a,b in zip(prices,prices[1:]))\n",
    "\n",
    "class Solution(object):\n",
    "    def maxProfit(self, prices):\n",
    "        return sum([\n",
    "            max(prices[i] - prices[i - 1], 0) for i in xrange(1, len(prices))])\n",
    "    \n",
    "    class Solution:\n",
    "    # @param prices, a list of integer\n",
    "    # @return an integer\n",
    "    def maxProfit(self, prices):\n",
    "        return sum([y - x for x, y in zip(prices[:-1], prices[1:]) if x < y])\n",
    "    "
   ]
  },
  {
   "cell_type": "code",
   "execution_count": 2,
   "metadata": {},
   "outputs": [
    {
     "name": "stdout",
     "output_type": "stream",
     "text": [
      "7 1\n",
      "1 5\n",
      "5 3\n",
      "3 6\n",
      "6 4\n"
     ]
    }
   ],
   "source": [
    "nums=[7,1,5,3,6,4]\n",
    "for x, y in zip(nums[:-1],nums[1:]):\n",
    "    print (x,y)"
   ]
  },
  {
   "cell_type": "code",
   "execution_count": null,
   "metadata": {},
   "outputs": [],
   "source": [
    "#123. Best Time to Buy and Sell Stock III\n",
    "'''\n",
    "Say you have an array for which the ith element is the price of a given stock on day i.\n",
    "\n",
    "Design an algorithm to find the maximum profit. You may complete at most two transactions.\n",
    "\n",
    "Note: You may not engage in multiple transactions at the same time (i.e., you must sell the stock before you buy again).\n",
    "'''\n",
    "class Solution(object):\n",
    "    def maxProfit(self, p):\n",
    "        if not p: return 0\n",
    "        sell, buyd, n, minp, maxp = [0], [0], len(p), p[0], p[-1]\n",
    "        for i in range(1, n):\n",
    "            minp, maxp = min(minp, p[i]), max(maxp, p[n-i-1])\n",
    "            sell.append(max(sell[i-1], p[i] - minp))\n",
    "            buyd.append(max(buyd[i-1], maxp - p[n-i-1]))\n",
    "        return max(sell[i] + buyd[n-i-1] for i in range(n))"
   ]
  },
  {
   "cell_type": "code",
   "execution_count": null,
   "metadata": {},
   "outputs": [],
   "source": []
  },
  {
   "cell_type": "code",
   "execution_count": null,
   "metadata": {},
   "outputs": [],
   "source": [
    "#124. Binary Tree Maximum Path Sum\n",
    "def maxPathSum(self, root):\n",
    "    if not root:\n",
    "        return 0\n",
    "    self.res = root.val\n",
    "    self.oneSum(root)\n",
    "    return self.res\n",
    "    \n",
    "def oneSum(self, node):\n",
    "    if not node:\n",
    "        return 0\n",
    "    l = max(0, self.oneSum(node.left))\n",
    "    r = max(0, self.oneSum(node.right))\n",
    "    self.res = max(self.res, node.val+l+r)\n",
    "    return node.val + max(l, r)"
   ]
  },
  {
   "cell_type": "code",
   "execution_count": null,
   "metadata": {},
   "outputs": [],
   "source": []
  },
  {
   "cell_type": "code",
   "execution_count": null,
   "metadata": {},
   "outputs": [],
   "source": [
    "#125. Valid Palindrome\n",
    "def isPalindrome(self, s):\n",
    "    l, r = 0, len(s)-1\n",
    "    while l < r:\n",
    "        while l < r and not s[l].isalnum():\n",
    "            l += 1\n",
    "        while l <r and not s[r].isalnum():\n",
    "            r -= 1\n",
    "        if s[l].lower() != s[r].lower():\n",
    "            return False\n",
    "        l +=1; r -= 1\n",
    "    return True\n",
    "\n",
    "class Solution(object):\n",
    "    def isPalindrome(self, s):\n",
    "        check = \"\".join(re.findall(\"[a-zA-Z0-9]*\", s)).lower()\n",
    "        return check == check[::-1]"
   ]
  },
  {
   "cell_type": "code",
   "execution_count": null,
   "metadata": {},
   "outputs": [],
   "source": []
  },
  {
   "cell_type": "code",
   "execution_count": null,
   "metadata": {},
   "outputs": [],
   "source": [
    "#126. Word Ladder II\n",
    "#The trick is use set to save the words at each level because different words could ladder to the same word. It was 2580ms using list.\n",
    "\n",
    "alphabet = set('abcdefghijklmnopqrstuvwxyz')\n",
    "def findLadders(self, start, end, dict):\n",
    "    dict.add(end)\n",
    "    level_tracker = collections.defaultdict(set)\n",
    "    self.parents_tracker = {}\n",
    "    last = {start}\n",
    "    while last and end not in level_tracker:\n",
    "        current = set([])\n",
    "        level_tracker.clear()\n",
    "        for word in last:\n",
    "            for next_word in self.ladder(word, dict):\n",
    "                if next_word not in self.parents_tracker:\n",
    "                    current.add(next_word)\n",
    "                    level_tracker[next_word].add(word)\n",
    "        self.parents_tracker.update(level_tracker)\n",
    "        last = current\n",
    "    return [] if not last else self.generate_paths(start, end)\n",
    "    \n",
    "def ladder(self, word, dict):\n",
    "    for i in xrange(len(word)):\n",
    "        for letter in self.alphabet - {word[i]}:\n",
    "            new_word = word[:i] + letter + word[i + 1:]\n",
    "            if new_word in dict:\n",
    "                yield new_word\n",
    "\n",
    "def generate_paths(self, start, end):\n",
    "    ret = [[end]]\n",
    "    while ret[-1][0] != start:\n",
    "        new_ret = []\n",
    "        for path in ret:\n",
    "            for parent in self.parents_tracker[path[0]]:\n",
    "                new_ret.append([parent] + path)\n",
    "        ret = new_ret\n",
    "    return ret"
   ]
  },
  {
   "cell_type": "code",
   "execution_count": null,
   "metadata": {},
   "outputs": [],
   "source": []
  },
  {
   "cell_type": "code",
   "execution_count": null,
   "metadata": {},
   "outputs": [],
   "source": [
    "#127. Word Ladder\n",
    "def ladderLength(self, beginWord, endWord, wordList):\n",
    "    # wordList.add(endWord)\n",
    "    wordList = set(wordList) \n",
    "    queue = collections.deque([(beginWord, 1)])\n",
    "    ls = string.ascii_lowercase\n",
    "    visited = set()\n",
    "    while queue:\n",
    "        word, dist = queue.popleft()\n",
    "        if word == endWord:\n",
    "            return dist\n",
    "        for i in xrange(len(word)):\n",
    "            for j in ls:\n",
    "                if j != word[i]:\n",
    "                    newWord = word[:i]+j+word[i+1:]\n",
    "                    if newWord not in visited and newWord in wordList:\n",
    "                        queue.append((newWord, dist+1))\n",
    "                        visited.add(newWord)  # wordList.remove(newWord)\n",
    "    return 0"
   ]
  },
  {
   "cell_type": "code",
   "execution_count": 94,
   "metadata": {},
   "outputs": [
    {
     "name": "stdout",
     "output_type": "stream",
     "text": [
      "abcdefghijklmnopqrstuvwxyz\n"
     ]
    }
   ],
   "source": [
    "import string\n",
    "ls = string.ascii_lowercase\n",
    "print (ls)"
   ]
  },
  {
   "cell_type": "code",
   "execution_count": null,
   "metadata": {},
   "outputs": [],
   "source": [
    "class Solution(object):\n",
    "    def ladderLength(self, beginWord, endWord, wordList):\n",
    "        forward, backward, n, r = {beginWord}, {endWord}, len(beginWord), 2\n",
    "        while forward and backward:\n",
    "            if len(forward) > len(backward):\n",
    "                forward, backward = backward, forward\n",
    "\n",
    "            next = set()\n",
    "            for word in forward:\n",
    "                for i, char in enumerate(word):\n",
    "                    first, second = word[:i], word[i + 1:]\n",
    "                    for item in string.ascii_lowercase:\n",
    "                        candidate = first + item + second\n",
    "                        if candidate in backward:\n",
    "                            return r\n",
    "\n",
    "                        if candidate in wordList:\n",
    "                            wordList.discard(candidate)\n",
    "                            next.add(candidate)\n",
    "            forward = next\n",
    "            r += 1\n",
    "        return 0"
   ]
  },
  {
   "cell_type": "code",
   "execution_count": null,
   "metadata": {},
   "outputs": [],
   "source": []
  },
  {
   "cell_type": "code",
   "execution_count": null,
   "metadata": {},
   "outputs": [],
   "source": [
    "#128. Longest Consecutive Sequence\n",
    "def longestConsecutive(self, nums):\n",
    "    nums = set(nums)\n",
    "    best = 0\n",
    "    for x in nums:\n",
    "        if x - 1 not in nums:\n",
    "            y = x + 1\n",
    "            while y in nums:\n",
    "                y += 1\n",
    "            best = max(best, y - x)\n",
    "    return best"
   ]
  },
  {
   "cell_type": "code",
   "execution_count": null,
   "metadata": {},
   "outputs": [],
   "source": []
  },
  {
   "cell_type": "code",
   "execution_count": null,
   "metadata": {},
   "outputs": [],
   "source": [
    "#129. Sum Root to Leaf Numbers\n",
    "# dfs + stack\n",
    "def sumNumbers1(self, root):\n",
    "    if not root:\n",
    "        return 0\n",
    "    stack, res = [(root, root.val)], 0\n",
    "    while stack:\n",
    "        node, value = stack.pop()\n",
    "        if node:\n",
    "            if not node.left and not node.right:\n",
    "                res += value\n",
    "            if node.right:\n",
    "                stack.append((node.right, value*10+node.right.val))\n",
    "            if node.left:\n",
    "                stack.append((node.left, value*10+node.left.val))\n",
    "    return res\n",
    "\n",
    "# recursively \n",
    "def sumNumbers(self, root):\n",
    "    self.res = 0\n",
    "    self.dfs(root, 0)\n",
    "    return self.res\n",
    "    \n",
    "def dfs(self, root, value):\n",
    "    if root:\n",
    "        #if not root.left and not root.right:\n",
    "        #    self.res += value*10 + root.val\n",
    "        self.dfs(root.left, value*10+root.val)\n",
    "        #if not root.left and not root.right:\n",
    "        #    self.res += value*10 + root.val\n",
    "        self.dfs(root.right, value*10+root.val)\n",
    "        if not root.left and not root.right:\n",
    "            self.res += value*10 + root.val"
   ]
  },
  {
   "cell_type": "code",
   "execution_count": null,
   "metadata": {},
   "outputs": [],
   "source": []
  },
  {
   "cell_type": "code",
   "execution_count": null,
   "metadata": {},
   "outputs": [],
   "source": [
    "#130. Surrounded Regions\n",
    "# BFS\n",
    "def solve(self, board):\n",
    "    queue = collections.deque([])\n",
    "    for r in xrange(len(board)):\n",
    "        for c in xrange(len(board[0])):\n",
    "            if (r in [0, len(board)-1] or c in [0, len(board[0])-1]) and board[r][c] == \"O\":\n",
    "                queue.append((r, c))\n",
    "    while queue:\n",
    "        r, c = queue.popleft()\n",
    "        if 0<=r<len(board) and 0<=c<len(board[0]) and board[r][c] == \"O\":\n",
    "            board[r][c] = \"D\"\n",
    "            queue.append((r-1, c)); queue.append((r+1, c))\n",
    "            queue.append((r, c-1)); queue.append((r, c+1))\n",
    "        \n",
    "    for r in xrange(len(board)):\n",
    "        for c in xrange(len(board[0])):\n",
    "            if board[r][c] == \"O\":\n",
    "                board[r][c] = \"X\"\n",
    "            elif board[r][c] == \"D\":\n",
    "                board[r][c] = \"O\""
   ]
  },
  {
   "cell_type": "code",
   "execution_count": null,
   "metadata": {},
   "outputs": [],
   "source": []
  },
  {
   "cell_type": "code",
   "execution_count": null,
   "metadata": {},
   "outputs": [],
   "source": []
  },
  {
   "cell_type": "code",
   "execution_count": null,
   "metadata": {},
   "outputs": [],
   "source": []
  },
  {
   "cell_type": "code",
   "execution_count": null,
   "metadata": {},
   "outputs": [],
   "source": []
  },
  {
   "cell_type": "code",
   "execution_count": null,
   "metadata": {},
   "outputs": [],
   "source": []
  },
  {
   "cell_type": "code",
   "execution_count": null,
   "metadata": {},
   "outputs": [],
   "source": []
  },
  {
   "cell_type": "code",
   "execution_count": null,
   "metadata": {},
   "outputs": [],
   "source": []
  },
  {
   "cell_type": "code",
   "execution_count": null,
   "metadata": {},
   "outputs": [],
   "source": []
  },
  {
   "cell_type": "code",
   "execution_count": null,
   "metadata": {},
   "outputs": [],
   "source": []
  },
  {
   "cell_type": "code",
   "execution_count": null,
   "metadata": {},
   "outputs": [],
   "source": []
  },
  {
   "cell_type": "code",
   "execution_count": null,
   "metadata": {},
   "outputs": [],
   "source": []
  },
  {
   "cell_type": "code",
   "execution_count": null,
   "metadata": {},
   "outputs": [],
   "source": []
  },
  {
   "cell_type": "code",
   "execution_count": null,
   "metadata": {},
   "outputs": [],
   "source": []
  },
  {
   "cell_type": "code",
   "execution_count": null,
   "metadata": {},
   "outputs": [],
   "source": []
  },
  {
   "cell_type": "code",
   "execution_count": null,
   "metadata": {},
   "outputs": [],
   "source": []
  },
  {
   "cell_type": "code",
   "execution_count": null,
   "metadata": {},
   "outputs": [],
   "source": []
  },
  {
   "cell_type": "code",
   "execution_count": null,
   "metadata": {},
   "outputs": [],
   "source": []
  },
  {
   "cell_type": "code",
   "execution_count": null,
   "metadata": {},
   "outputs": [],
   "source": []
  },
  {
   "cell_type": "code",
   "execution_count": null,
   "metadata": {},
   "outputs": [],
   "source": []
  },
  {
   "cell_type": "code",
   "execution_count": null,
   "metadata": {},
   "outputs": [],
   "source": []
  },
  {
   "cell_type": "code",
   "execution_count": null,
   "metadata": {},
   "outputs": [],
   "source": []
  },
  {
   "cell_type": "code",
   "execution_count": null,
   "metadata": {},
   "outputs": [],
   "source": []
  },
  {
   "cell_type": "code",
   "execution_count": null,
   "metadata": {},
   "outputs": [],
   "source": []
  },
  {
   "cell_type": "code",
   "execution_count": null,
   "metadata": {},
   "outputs": [],
   "source": []
  }
 ],
 "metadata": {
  "kernelspec": {
   "display_name": "Python 3",
   "language": "python",
   "name": "python3"
  },
  "language_info": {
   "codemirror_mode": {
    "name": "ipython",
    "version": 3
   },
   "file_extension": ".py",
   "mimetype": "text/x-python",
   "name": "python",
   "nbconvert_exporter": "python",
   "pygments_lexer": "ipython3",
   "version": "3.6.5"
  }
 },
 "nbformat": 4,
 "nbformat_minor": 2
}
