{
 "cells": [
  {
   "cell_type": "code",
   "execution_count": null,
   "metadata": {},
   "outputs": [],
   "source": [
    "#Leetcode Problems Part IV\n",
    "#(24,25,26,27,28,29,30)\n",
    "#Swap Nodes in Pairs\n",
    "#Reverse node in k groups\n",
    "#Remove Duplicates from Sorted Array\n",
    "#Remove Element\n",
    "#Implement strStr()\n",
    "#Divide Two Integers\n",
    "#Substring with Concatenation of All Words\n",
    "\n",
    "#=====\n",
    "#Class for tree and tree traversal (pre, in, postorder)\n",
    "#Python data structure and algorithm"
   ]
  },
  {
   "cell_type": "code",
   "execution_count": 2,
   "metadata": {},
   "outputs": [],
   "source": [
    "class ListNode:\n",
    "    def __init__(self,x):\n",
    "        self.val = x\n",
    "        self.next = None\n",
    "        \n",
    "    def has_value(self,value):\n",
    "        if self.val == value:\n",
    "            return True\n",
    "        else:\n",
    "            return False\n"
   ]
  },
  {
   "cell_type": "code",
   "execution_count": 3,
   "metadata": {},
   "outputs": [],
   "source": [
    "#write single linked list helper functions\n",
    "class SingleLinkedList:\n",
    "    def __init__(self):\n",
    "        self.head = None\n",
    "        self.tail = None\n",
    "        return\n",
    "    def append_list_item(self,item):\n",
    "        if not isinstance(item,ListNode):\n",
    "            item = ListNode(item)\n",
    "        if self.head is None:\n",
    "            self.head = item\n",
    "        else:\n",
    "            self.tail.next = item\n",
    "        self.tail = item\n",
    "        return\n",
    "    def list_length(self):\n",
    "        count=0\n",
    "        tmp = self.head\n",
    "        while tmp is not None:\n",
    "            count += 1\n",
    "            tmp = tmp.next\n",
    "        return count\n",
    "    def output_list(self):\n",
    "        tmp = self.head\n",
    "        while tmp is not None:\n",
    "            print(tmp.val)\n",
    "            tmp = tmp.next\n",
    "        return\n",
    "    def unordered_search(self,value):\n",
    "        tmp = self.head\n",
    "        count = 0\n",
    "        outs = []\n",
    "        while tmp is not None:\n",
    "            count += 1\n",
    "            if tmp.has_value(value):\n",
    "                outs.append(count)\n",
    "            tmp = tmp.next\n",
    "        return outs\n",
    "    def remove_list_item(self,nid):\n",
    "        tmp = self.head\n",
    "        prev = None\n",
    "        count = 0\n",
    "        while tmp is not None:\n",
    "            count += 1\n",
    "            if count == nid:\n",
    "                if prev is not None:\n",
    "                    prev.next = tmp.next\n",
    "                else:\n",
    "                    self.head = tmp.next #remove the head\n",
    "                return\n",
    "            prev = tmp\n",
    "            tmp = tmp.next\n",
    "        \n",
    "        return\n",
    "    #add insert to position\n",
    "    def insert_list_item(self,item,nid):\n",
    "        if not isinstance(item,ListNode):\n",
    "            item = ListNode(item)\n",
    "        tmp = self.head\n",
    "        if tmp is None:\n",
    "            self.head = item\n",
    "            self.tail = item\n",
    "            return\n",
    "        count = 0\n",
    "        while tmp is not None:\n",
    "            if count == nid-1:\n",
    "                old_next = tmp.next\n",
    "                tmp.next = item\n",
    "                item.next = old_next\n",
    "                return\n",
    "            tmp = tmp.next\n",
    "            count += 1\n"
   ]
  },
  {
   "cell_type": "code",
   "execution_count": 25,
   "metadata": {},
   "outputs": [
    {
     "name": "stdout",
     "output_type": "stream",
     "text": [
      "1\n",
      "2\n",
      "3\n",
      "4\n",
      "5\n",
      "6\n",
      "===\n",
      "2\n",
      "1\n",
      "4\n",
      "3\n",
      "6\n",
      "5\n",
      "a 2\n",
      "b 1\n",
      "a 4\n",
      "b 3\n",
      "a 6\n",
      "b 5\n",
      "1\n",
      "2\n",
      "3\n",
      "4\n",
      "5\n",
      "6\n"
     ]
    }
   ],
   "source": [
    "#24.Swap Nodes in Pairs\n",
    "\n",
    "# Iteratively\n",
    "# p -> head -> head.next  -> tmp.next to head.next -> head -> tmp.next -> tmp\n",
    "class Solution:\n",
    "    def swapPairs10(self, head):\n",
    "        dummy = p = ListNode(0)\n",
    "        dummy.next = head\n",
    "        while head and head.next:\n",
    "            tmp = head.next\n",
    "            head.next = tmp.next\n",
    "            tmp.next = head\n",
    "            p.next = tmp\n",
    "            head = head.next\n",
    "            p = tmp.next\n",
    "        return dummy.next\n",
    "    \n",
    "    # Recursively \n",
    "    def swapPairs(self, head):\n",
    "        if head and head.next:\n",
    "            tmp = head.next\n",
    "            head.next = self.swapPairs(tmp.next)\n",
    "            tmp.next = head\n",
    "            #head = tmp\n",
    "            return tmp\n",
    "        return head\n",
    "\n",
    "#go from pre -> a -> b -> b.next to pre -> b -> a -> b.next\n",
    "    def swapPairs2(self, head):\n",
    "        pre, pre.next = self, head\n",
    "        while pre.next and pre.next.next:\n",
    "            a = pre.next\n",
    "            b = a.next\n",
    "            pre.next, b.next, a.next = b, a, b.next\n",
    "            pre = a\n",
    "            print(\"a\", a.val)\n",
    "            print(\"b\", b.val)\n",
    "        return self.next\n",
    "\n",
    "    def swapPairs3(self, head):\n",
    "        dummy = pre = ListNode(0)\n",
    "        pre.next = head\n",
    "        while pre.next and pre.next.next:\n",
    "            a = pre.next\n",
    "            b = a.next\n",
    "            pre.next, a.next, b.next = b, b.next, a\n",
    "            pre = a\n",
    "        return dummy.next\n",
    "\n",
    "node1 = ListNode(1) \n",
    "node2 = ListNode(2) \n",
    "node3 = ListNode(3) \n",
    "node4 = ListNode(4) \n",
    "node5 = ListNode(5) \n",
    "node6 = ListNode(6) \n",
    "t = SingleLinkedList()\n",
    "for i in [node1, node2, node3, node4, node5, node6]:  \n",
    "    t.append_list_item(i)\n",
    "t.output_list()\n",
    "print(\"===\")\n",
    "\n",
    "n=2\n",
    "a = Solution()\n",
    "t.head = a.swapPairs(t.head)\n",
    "t.output_list()\n",
    "\n",
    "n=2\n",
    "a = Solution()\n",
    "t.head = a.swapPairs2(t.head)\n",
    "t.output_list()"
   ]
  },
  {
   "cell_type": "code",
   "execution_count": null,
   "metadata": {},
   "outputs": [],
   "source": [
    "#25.Reverse node in k groups\n",
    "#solution 1\n",
    "def reverseKGroup(head, k):\n",
    "    if head:\n",
    "        node = head\n",
    "        for _ in range(k - 1):\n",
    "            node = node.next\n",
    "            if not node:\n",
    "                return head  #if length is shorter than k, return head \n",
    "        prev = self.reverseKGroup(node.next, k)  #call for the next group\n",
    "        while prev is not node: #reverse the head to the node\n",
    "            prev, head.next, head = head, prev, head.next\n",
    "        return prev\n",
    "        "
   ]
  },
  {
   "cell_type": "code",
   "execution_count": null,
   "metadata": {},
   "outputs": [],
   "source": [
    "#solution 2\n",
    "# Recursively\n",
    "def reverseKGroup(self, head, k):\n",
    "    l, node = 0, head\n",
    "    while node:\n",
    "        l += 1\n",
    "        node = node.next\n",
    "    if k <= 1 or l < k:\n",
    "        return head\n",
    "    node, cur = None, head\n",
    "    for _ in range(k):  \n",
    "        nxt = cur.next\n",
    "        cur.next = node\n",
    "        node = cur\n",
    "        cur = nxt\n",
    "    head.next = self.reverseKGroup(cur, k)\n",
    "    return node\n",
    "\n",
    "# Iteratively    \n",
    "def reverseKGroup(self, head, k):\n",
    "    if not head or not head.next or k <= 1:\n",
    "        return head\n",
    "    cur, l = head, 0\n",
    "    while cur:\n",
    "        l += 1\n",
    "        cur = cur.next\n",
    "    if k > l:\n",
    "        return head\n",
    "    dummy = pre = ListNode(0)\n",
    "    dummy.next = head\n",
    "    # totally l//k groups\n",
    "    for i in xrange(l//k):\n",
    "        # reverse each group\n",
    "        node = None\n",
    "        for j in xrange(k-1):\n",
    "            nxt = head.next\n",
    "            head.next = node\n",
    "            node = head\n",
    "            head = nxt\n",
    "        # update nodes and connect nodes\n",
    "        tmp = head.next\n",
    "        head.next = node\n",
    "        pre.next.next = tmp\n",
    "        tmp1 = pre.next\n",
    "        pre.next = head\n",
    "        head = tmp\n",
    "        pre = tmp1\n",
    "    return dummy.next\n"
   ]
  },
  {
   "cell_type": "code",
   "execution_count": null,
   "metadata": {},
   "outputs": [],
   "source": [
    "#The key idea is to keep track of the next_head while reversing the group, \n",
    "#tail of the current group is always the start node of the group, once the group reversing is done, \n",
    "#next_head is available, simply connect it to tail.\n",
    "\n",
    "def reverseKGroup(self, head, k):\n",
    "    if head is None or k < 2:\n",
    "        return head\n",
    "    \n",
    "    next_head = head\n",
    "    for i in range(k - 1):\n",
    "        next_head = next_head.next\n",
    "        if next_head is None:\n",
    "            return head\n",
    "    ret = next_head\n",
    "    \n",
    "    current = head\n",
    "    while next_head:\n",
    "        tail = current\n",
    "        prev = None\n",
    "        for i in range(k):\n",
    "            if next_head:\n",
    "                next_head = next_head.next\n",
    "            _next = current.next\n",
    "            current.next = prev\n",
    "            prev = current\n",
    "            current = _next\n",
    "        tail.next = next_head or current\n",
    "            \n",
    "    return ret\n",
    "\n",
    "def reverseKGroup(self, head, k):\n",
    "    if head is None or k < 2:\n",
    "        return head\n",
    "    \n",
    "    ret = head\n",
    "    for i in range(k - 1):\n",
    "        ret = ret.next\n",
    "        if ret is None:\n",
    "            return head\n",
    "            \n",
    "    prev, current = None, head\n",
    "    for i in range(k):\n",
    "        _next = current.next\n",
    "        current.next = prev\n",
    "        prev = current\n",
    "        current = _next\n",
    "        \n",
    "    head.next = self.reverseKGroup(current, k)\n",
    "    \n",
    "    return ret    \n"
   ]
  },
  {
   "cell_type": "code",
   "execution_count": 34,
   "metadata": {},
   "outputs": [
    {
     "name": "stdout",
     "output_type": "stream",
     "text": [
      "[10, 0, 1, 1, 1, 2, 2, 3, 3, 4]\n"
     ]
    }
   ],
   "source": [
    "n = [0,0,1,1,1,2,2,3,3,4]\n",
    "n[0]=10\n",
    "print(n)"
   ]
  },
  {
   "cell_type": "code",
   "execution_count": 39,
   "metadata": {},
   "outputs": [
    {
     "data": {
      "text/plain": [
       "[0, 1, 2, 3, 4]"
      ]
     },
     "execution_count": 39,
     "metadata": {},
     "output_type": "execute_result"
    }
   ],
   "source": [
    "#26.Remove Duplicates from Sorted Array\n",
    "def Dedup(n):\n",
    "    if not n:\n",
    "        print(\"empty array\")\n",
    "        return\n",
    "    t = n[0]\n",
    "    k = 1\n",
    "    for i in range(1,len(n)):\n",
    "        if(n[i]!=t):\n",
    "            n[k]=n[i]\n",
    "            t=n[i]\n",
    "            k += 1\n",
    "    return n[:k]\n",
    "\n",
    "n = [0,0,1,1,1,2,2,3,3,4]\n",
    "Dedup(n)"
   ]
  },
  {
   "cell_type": "code",
   "execution_count": 44,
   "metadata": {},
   "outputs": [
    {
     "data": {
      "text/plain": [
       "[0, 1, 3, 0, 4]"
      ]
     },
     "execution_count": 44,
     "metadata": {},
     "output_type": "execute_result"
    }
   ],
   "source": [
    "#27.Remove Element\n",
    "def RemoveVal(n,val):\n",
    "    if not n:\n",
    "        return\n",
    "    k = 0\n",
    "    for i in range(len(n)):\n",
    "        if(n[i]!=val):\n",
    "            n[k]=n[i]\n",
    "            k += 1\n",
    "            \n",
    "    return n[:k]\n",
    "n = [0,1,2,2,3,0,4,2]\n",
    "val = 2\n",
    "RemoveVal(n,val)\n",
    "        "
   ]
  },
  {
   "cell_type": "code",
   "execution_count": 53,
   "metadata": {},
   "outputs": [
    {
     "data": {
      "text/plain": [
       "-1"
      ]
     },
     "execution_count": 53,
     "metadata": {},
     "output_type": "execute_result"
    }
   ],
   "source": [
    "#28.Implement strStr()\n",
    "def strStr(s,st):\n",
    "    if(len(s)<len(st)) or ((len(s)==len(st)) and s!=st):\n",
    "        return -1\n",
    "    \n",
    "    for j in range(len(s)):\n",
    "        for i in range(len(st)):\n",
    "            if(s[j]==st[i]):\n",
    "                k=j\n",
    "                i += 1\n",
    "                if(i==len(st)):\n",
    "                    return k\n",
    "            else:\n",
    "                j = j-i\n",
    "                break\n",
    "    return -1\n",
    "s= \"hello\"\n",
    "st = \"ll\"\n",
    "strStr(s,st)\n",
    "s = \"aaaaa\"\n",
    "st = \"bba\"\n",
    "strStr(s,st)"
   ]
  },
  {
   "cell_type": "code",
   "execution_count": 57,
   "metadata": {},
   "outputs": [
    {
     "data": {
      "text/plain": [
       "-2"
      ]
     },
     "execution_count": 57,
     "metadata": {},
     "output_type": "execute_result"
    }
   ],
   "source": [
    "#29.Divide Two Integers\n",
    "#solution 1: (slow)\n",
    "def DivInt(a,b):\n",
    "    if(a>2**31-1 or a<-2**31 or b>2**31-1 or b<-2**31 or b==0):\n",
    "        print(\"out of range\")\n",
    "        return \n",
    "    count=0\n",
    "    a1 = abs(a)\n",
    "    b1 = abs(b)\n",
    "    while(a1>b1):\n",
    "        a1 -= b1\n",
    "        count += 1\n",
    "    if (a<0 and b>0) or (a>0 and b<0):\n",
    "        count = 0 - count\n",
    "    return count\n",
    "a, b = 10, 3\n",
    "DivInt(a, b)\n",
    "a, b = 7, -3\n",
    "DivInt(a, b)"
   ]
  },
  {
   "cell_type": "code",
   "execution_count": null,
   "metadata": {},
   "outputs": [],
   "source": [
    "#solution 2 (fast)\n",
    "MAX_INT = 0x7FFFFFFF\n",
    "\n",
    "def divide(self, dividend, divisor):\n",
    "    if divisor == 0:\n",
    "        return self.MAX_INT\n",
    "    if dividend == 0:\n",
    "        return 0\n",
    "    negative = (dividend > 0) ^ (divisor > 0)\n",
    "    dividend, divisor = abs(dividend), abs(divisor)\n",
    "    ans = 0\n",
    "    while dividend >= divisor:\n",
    "        x = divisor\n",
    "        i = 1\n",
    "        while dividend >= x + x:\n",
    "            x += x\n",
    "            i += i\n",
    "        dividend -= x\n",
    "        ans += i\n",
    "    ans = self.MAX_INT if not negative and ans > self.MAX_INT else ans\n",
    "    return -ans if negative else ans"
   ]
  },
  {
   "cell_type": "code",
   "execution_count": null,
   "metadata": {},
   "outputs": [],
   "source": [
    "#Solution 3 (bitwise operation)\n",
    "def divide(a, b):\n",
    "    isPositive, a, b, result = (a >= 0) ^ (b < 0), abs(a), abs(b), 0\n",
    "    while a >= b:\n",
    "        n, nb = 1, b\n",
    "        while a >= nb:\n",
    "            a, result = a - nb, result + n\n",
    "            n, nb = n << 1, nb << 1\n",
    "    return min(result, 2147483647) if isPositive else max(-result, -2147483648)"
   ]
  },
  {
   "cell_type": "code",
   "execution_count": 1,
   "metadata": {},
   "outputs": [
    {
     "name": "stdout",
     "output_type": "stream",
     "text": [
      "[('foo', 'bar'), ('bar', 'foo')]\n"
     ]
    },
    {
     "data": {
      "text/plain": [
       "[9, 0]"
      ]
     },
     "execution_count": 1,
     "metadata": {},
     "output_type": "execute_result"
    }
   ],
   "source": [
    "#30.Substring with Concatenation of All Words\n",
    "#solution 1: internal functions\n",
    "import itertools\n",
    "def SubstrAllWords(s, words):\n",
    "    a = list(itertools.permutations(words))\n",
    "    print(a)\n",
    "    res = []\n",
    "    for i in a:\n",
    "        fdx = s.find(''.join(i))\n",
    "        if(fdx!=-1):\n",
    "            res.append(fdx)\n",
    "    return (res)\n",
    "\n",
    "s = \"barfoothefoobarman\"\n",
    "words = [\"foo\",\"bar\"]\n",
    "#s = \"wordgoodgoodgoodbestword\"\n",
    "#words = [\"word\",\"good\",\"best\",\"word\"]\n",
    "SubstrAllWords(s, words)"
   ]
  },
  {
   "cell_type": "code",
   "execution_count": 285,
   "metadata": {},
   "outputs": [
    {
     "name": "stdout",
     "output_type": "stream",
     "text": [
      "{'word': 2, 'good': 1, 'best': 1}\n"
     ]
    }
   ],
   "source": [
    "words = [\"word\",\"good\",\"best\",\"word\"]\n",
    "req = {}\n",
    "for w in words:\n",
    "    req[w] = req[w] + 1 if w in req else 1\n",
    "print(req)"
   ]
  },
  {
   "cell_type": "code",
   "execution_count": null,
   "metadata": {},
   "outputs": [],
   "source": [
    "#solution 2\n",
    "'''\n",
    "First of all consider s as several series of words with length k starting at [0, k-1]. For example \"barfoothe\" with k = 3, can be view as [\"bar\", \"foo\", \"the\"] for i=0 and [\"arf\", \"oot\"] for i = 1 and [\"rfo\", \"oth\"] for i = 2.\n",
    "Thus we need to check each of these series and find out the valid index by definition.\n",
    "\n",
    "For each series, we just need to check if there exist a range [l, r) where the occurrence or \"spectrum\" of the words in the range is the same as our given word list's \"spectrum\". We use dictionary to store the spectrum and maintain it as we loop through s.\n",
    "\n",
    "collections.Counter class may save a bit of code on updating the counts of the dictionary. However plain dict wins on the speed.\n",
    "'''\n",
    "def _findSubstring(self, l, r, n, k, t, s, req, ans):\n",
    "    curr = {}\n",
    "    while r + k <= n:\n",
    "        w = s[r:r + k]\n",
    "        r += k\n",
    "        if w not in req:\n",
    "            l = r\n",
    "            curr.clear()\n",
    "        else:\n",
    "            curr[w] = curr[w] + 1 if w in curr else 1\n",
    "            while curr[w] > req[w]:\n",
    "                curr[s[l:l + k]] -= 1\n",
    "                l += k\n",
    "            if r - l == t:\n",
    "                ans.append(l)\n",
    "\n",
    "def findSubstring(self, s, words):\n",
    "    if not s or not words or not words[0]:\n",
    "        return []\n",
    "    n = len(s)\n",
    "    k = len(words[0])\n",
    "    t = len(words) * k\n",
    "    req = {}\n",
    "    for w in words:\n",
    "        req[w] = req[w] + 1 if w in req else 1\n",
    "    ans = []\n",
    "    for i in range(min(k, n - t + 1)):\n",
    "        self._findSubstring(i, i, n, k, t, s, req, ans)\n",
    "    return ans\n",
    "\n",
    "s = \"barfoothefoobarman\"\n",
    "words = [\"foo\",\"bar\"]"
   ]
  },
  {
   "cell_type": "code",
   "execution_count": 293,
   "metadata": {},
   "outputs": [
    {
     "name": "stdout",
     "output_type": "stream",
     "text": [
      "Counter({'foo': 1, 'bar': 1})\n",
      "Counter({'foo': 1, 'bar': 0})\n"
     ]
    }
   ],
   "source": [
    "d = collections.Counter(words)\n",
    "print(d)\n",
    "d['bar'] -= 1\n",
    "print(d)"
   ]
  },
  {
   "cell_type": "code",
   "execution_count": 298,
   "metadata": {},
   "outputs": [
    {
     "data": {
      "text/plain": [
       "[0, 9]"
      ]
     },
     "execution_count": 298,
     "metadata": {},
     "output_type": "execute_result"
    }
   ],
   "source": [
    "def findSubstring(s, words):\n",
    "    if not words: return []\n",
    "    k = len(words[0])\n",
    "    res = []\n",
    "    for left in range(k):\n",
    "        d = collections.Counter(words)\n",
    "        for right in range(left + k, len(s) + 1, k):\n",
    "            word = s[right - k: right]\n",
    "            d[word] -= 1\n",
    "            while d[word] < 0:\n",
    "                d[s[left:left + k]] += 1\n",
    "                left += k\n",
    "            if left + k * len(words) == right:\n",
    "                res.append(left)\n",
    "    return res\n",
    "\n",
    "s = \"barfoothefoobarman\"\n",
    "words = [\"foo\",\"bar\"]\n",
    "findSubstring(s,words)"
   ]
  },
  {
   "cell_type": "code",
   "execution_count": 92,
   "metadata": {},
   "outputs": [
    {
     "name": "stdout",
     "output_type": "stream",
     "text": [
      "u 1 v 0\n",
      "u 1 v 2\n",
      "u 1 v 3\n",
      "defaultdict(<class 'set'>, {1: {0, 2, 3}, 0: {1}, 2: {1}, 3: {1}})\n",
      "{1}\n",
      "{2, 3}\n",
      "{0, 1, 2, 3}\n"
     ]
    }
   ],
   "source": [
    "#Tree\n",
    "import collections\n",
    "n = 4\n",
    "edges = [[1, 0], [1, 2], [1, 3]]\n",
    "d = collections.defaultdict(set)\n",
    "for u, v in edges:\n",
    "    print(\"u\",u,\"v\",v)\n",
    "    d[u].add(v)\n",
    "    d[v].add(u)\n",
    "print(d)\n",
    "print(d[0])\n",
    "d[1].remove(0)\n",
    "print(d[1])\n",
    "\n",
    "print (set(range(n)))"
   ]
  },
  {
   "cell_type": "code",
   "execution_count": 93,
   "metadata": {},
   "outputs": [
    {
     "data": {
      "text/plain": [
       "[3, 4]"
      ]
     },
     "execution_count": 93,
     "metadata": {},
     "output_type": "execute_result"
    }
   ],
   "source": [
    "#Minimum Height Trees\n",
    "#Because there're at most two nodes can be Minimum Height Trees. \n",
    "#And all leaves are impossible because such nodes. So we can iterative remove leaves and related edges till we reach 1 or 2.\n",
    "def MiniHT(n, edges):\n",
    "    d = collections.defaultdict(set)\n",
    "    for u, v in edges:\n",
    "        d[u].add(v)\n",
    "        d[v].add(u)\n",
    "    s = set(range(n))\n",
    "    while len(s) > 2:\n",
    "        leaves = set(i for i in s if len(d[i]) == 1)\n",
    "        #print(\"leaves\", leaves)\n",
    "        s -= leaves\n",
    "        #print(s)\n",
    "        for i in leaves:\n",
    "            for j in d[i]:\n",
    "                d[j].remove(i)\n",
    "    return list(s)\n",
    "n=4\n",
    "edges=[[1, 0], [1, 2], [1, 3]]\n",
    "#MiniHT(n,edges)\n",
    "n = 6\n",
    "edges = [[0, 3], [1, 3], [2, 3], [4, 3], [5, 4]]\n",
    "MiniHT(n,edges)"
   ]
  },
  {
   "cell_type": "code",
   "execution_count": 173,
   "metadata": {},
   "outputs": [],
   "source": [
    "class TreeNode(object):\n",
    "    def __init__(self,value):\n",
    "        self.val = value\n",
    "        self.left = None\n",
    "        self.right = None\n",
    "        \n",
    "    # Insert Node\n",
    "    def insert(self, value):\n",
    "        if self.val:\n",
    "            if value < self.val:\n",
    "                if self.left is None:\n",
    "                    self.left = TreeNode(value)\n",
    "                else:\n",
    "                    self.left.insert(value)\n",
    "            elif value > self.val:\n",
    "                if self.right is None:\n",
    "                    self.right = TreeNode(value)\n",
    "                else:\n",
    "                    self.right.insert(value)\n",
    "        else:\n",
    "            self.val = value\n",
    "            \n",
    "    # findval method to compare the value with nodes\n",
    "    def findval(self, value):\n",
    "        if value < self.val:\n",
    "            if self.left is None:\n",
    "                return str(value)+\" Not Found\"\n",
    "            return self.left.findval(value)\n",
    "        elif value > self.val:\n",
    "            if self.right is None:\n",
    "                return str(value)+\" Not Found\"\n",
    "            return self.right.findval(value)\n",
    "        else:\n",
    "            print(str(self.val) + ' is found')\n",
    "\n",
    "    # Print the Tree\n",
    "    def PrintTree(self):\n",
    "        if self.left:\n",
    "            self.left.PrintTree()\n",
    "        print(self.val),\n",
    "        if self.right:\n",
    "            self.right.PrintTree()\n",
    "            \n",
    "    # Inorder traversal\n",
    "    # Left -> Root -> Right\n",
    "    def inorderTraversal(self, root):\n",
    "        res = []\n",
    "        if root:\n",
    "            res = self.inorderTraversal(root.left)\n",
    "            res.append(root.val)\n",
    "            res = res + self.inorderTraversal(root.right)\n",
    "        return res\n",
    "    \n",
    "    # Preorder traversal\n",
    "    # Root -> Left ->Right\n",
    "    def preorderTraversal(self, root):\n",
    "        res = []\n",
    "        if root:\n",
    "            res.append(root.val)\n",
    "            res = res + self.preorderTraversal(root.left)\n",
    "            res = res + self.preorderTraversal(root.right)\n",
    "        return res\n",
    "    \n",
    "    # Postorder traversal\n",
    "    # Left ->Right -> Root\n",
    "    def postorderTraversal(self, root):\n",
    "        res = []\n",
    "        if root:\n",
    "            res = self.postorderTraversal(root.left)\n",
    "            res = res + self.postorderTraversal(root.right)\n",
    "            res.append(root.val)\n",
    "        return res"
   ]
  },
  {
   "cell_type": "code",
   "execution_count": 174,
   "metadata": {},
   "outputs": [
    {
     "name": "stdout",
     "output_type": "stream",
     "text": [
      "3\n",
      "6\n",
      "12\n",
      "14\n",
      "7 Not Found\n",
      "14 is found\n",
      "None\n"
     ]
    }
   ],
   "source": [
    "root = TreeNode(12)\n",
    "root.insert(6)\n",
    "root.insert(14)\n",
    "root.insert(3)\n",
    "root.PrintTree()\n",
    "print(root.findval(7))\n",
    "print(root.findval(14))"
   ]
  },
  {
   "cell_type": "code",
   "execution_count": 160,
   "metadata": {},
   "outputs": [
    {
     "name": "stdout",
     "output_type": "stream",
     "text": [
      "3\n",
      "2\n",
      "1\n",
      "6\n",
      "0\n",
      "5\n",
      "inorder:  [3, 2, 1, 6, 0, 5]\n",
      "preorder:  [6, 3, 2, 1, 5, 0]\n",
      "postorder:  [1, 2, 3, 0, 5, 6]\n"
     ]
    }
   ],
   "source": [
    "#Maximum Binary Tree \n",
    "#Solution 1:\n",
    "import sys\n",
    "class Solution:\n",
    "    def build(self, nums, start, end):\n",
    "        if start >= end:\n",
    "            return None\n",
    "\n",
    "        m, idx = - sys.maxsize, -1\n",
    "        for i in range(start, end):\n",
    "            if nums[i] > m:\n",
    "                m = nums[i]\n",
    "                idx = i\n",
    "\n",
    "        node = TreeNode(m)\n",
    "        node.left = self.build(nums, start, idx)\n",
    "        node.right = self.build(nums, idx + 1, end)\n",
    "        return node\n",
    "\n",
    "\n",
    "    def constructMaximumBinaryTree(self, nums):\n",
    "        \"\"\"\n",
    "        :type nums: List[int]\n",
    "        :rtype: TreeNode\n",
    "        \"\"\"\n",
    "        if len(nums) == 0:\n",
    "            return None\n",
    "\n",
    "        return self.build(nums, 0, len(nums))\n",
    "\n",
    "n = [3,2,1,6,0,5]\n",
    "a = Solution()\n",
    "nd = a.constructMaximumBinaryTree(n)\n",
    "#print(nd.val, nd.left.val, nd.right.val)\n",
    "nd.PrintTree()\n",
    "root = nd\n",
    "print (\"inorder: \", nd.inorderTraversal(root))\n",
    "print (\"preorder: \",nd.preorderTraversal(root))\n",
    "print (\"postorder: \", nd.postorderTraversal(root))"
   ]
  },
  {
   "cell_type": "code",
   "execution_count": 161,
   "metadata": {},
   "outputs": [
    {
     "name": "stdout",
     "output_type": "stream",
     "text": [
      "{'Thu', 'Fri', 'Sat', 'Sun', 'Wed', 'Tue', 'Mon'}\n",
      "{'F', 'Th', 'Su', 'M', 'Tu', 'W', 'Sa'}\n",
      "{'Jan', 'Mar', 'Feb'}\n",
      "{17, 21, 22}\n"
     ]
    }
   ],
   "source": [
    "#notice that the order changes due to the set is using the hash to store element in memory\n",
    "Days=set([\"Mon\",\"Tue\",\"Wed\",\"Thu\",\"Fri\",\"Sat\",\"Sun\"])\n",
    "Days1=set([\"M\",\"Tu\",\"W\",\"Th\",\"F\",\"Sa\",\"Su\"])\n",
    "Months={\"Jan\",\"Feb\",\"Mar\"}\n",
    "Dates={21,22,17}\n",
    "print(Days)\n",
    "print(Days1)\n",
    "print(Months)\n",
    "print(Dates)"
   ]
  },
  {
   "cell_type": "code",
   "execution_count": 162,
   "metadata": {},
   "outputs": [
    {
     "name": "stdout",
     "output_type": "stream",
     "text": [
      "3\n",
      "2\n",
      "1\n",
      "6\n",
      "0\n",
      "5\n"
     ]
    }
   ],
   "source": [
    "#Maximum Binary Tree \n",
    "class Solution(object):\n",
    "    def constructMaximumBinaryTree(self, nums):\n",
    "        if not nums: return None\n",
    "        mid = nums.index(max(nums))\n",
    "        node = TreeNode(nums[mid])\n",
    "        node.left = self.constructMaximumBinaryTree(nums[:mid])\n",
    "        node.right = self.constructMaximumBinaryTree(nums[mid+1:])\n",
    "        return node\n",
    "n = [3,2,1,6,0,5]\n",
    "a = Solution()\n",
    "nd = a.constructMaximumBinaryTree(n)\n",
    "nd.PrintTree()"
   ]
  },
  {
   "cell_type": "code",
   "execution_count": 163,
   "metadata": {},
   "outputs": [],
   "source": [
    "#Convert Sorted Array to Binary Search Tree\n",
    "class Solution(object):\n",
    "    def sortedArrayToBST(self, nums):\n",
    "        if not nums: return None\n",
    "        l, r = 0, len(nums) - 1\n",
    "        mid = (l + (r - l)) // 2\n",
    "        node = TreeNode(nums[mid])\n",
    "        node.left = self.sortedArrayToBST(nums[:mid])\n",
    "        node.right = self.sortedArrayToBST(nums[mid+1:])\n",
    "        return node"
   ]
  },
  {
   "cell_type": "code",
   "execution_count": 164,
   "metadata": {},
   "outputs": [
    {
     "name": "stdout",
     "output_type": "stream",
     "text": [
      "Thu\n",
      "Wed\n"
     ]
    }
   ],
   "source": [
    "#DATA STRUCTURE - stack\n",
    "class Stack:\n",
    "\n",
    "    def __init__(self):\n",
    "        self.stack = []\n",
    "\n",
    "    # Use list append method to add element\n",
    "    def add(self, dataval):\n",
    "        if dataval not in self.stack:\n",
    "            self.stack.append(dataval)\n",
    "            return True\n",
    "        else:\n",
    "            return False\n",
    "        \n",
    "    # Use list pop method to remove element\n",
    "    def remove(self):\n",
    "        if len(self.stack) <= 0:\n",
    "            return (\"No element in the Stack\")\n",
    "        else:\n",
    "            return self.stack.pop()\n",
    "        \n",
    "AStack = Stack()\n",
    "AStack.add(\"Mon\")\n",
    "AStack.add(\"Tue\")\n",
    "AStack.add(\"Wed\")\n",
    "AStack.add(\"Thu\")\n",
    "print(AStack.remove())\n",
    "print(AStack.remove())\n"
   ]
  },
  {
   "cell_type": "code",
   "execution_count": 165,
   "metadata": {},
   "outputs": [
    {
     "name": "stdout",
     "output_type": "stream",
     "text": [
      "Mon\n",
      "Tue\n",
      "1\n"
     ]
    }
   ],
   "source": [
    "class Queue:\n",
    "    def __init__(self):\n",
    "        self.queue = list()\n",
    "    \n",
    "    # Insert method to add element\n",
    "    def addtoq(self,dataval):\n",
    "        if dataval not in self.queue:\n",
    "            self.queue.insert(0,dataval)\n",
    "            return True\n",
    "        return False\n",
    "    \n",
    "    def size(self):\n",
    "        return len(self.queue)\n",
    "    \n",
    "    # Pop method to remove element\n",
    "    def removefromq(self):\n",
    "        if len(self.queue)>0:\n",
    "            return self.queue.pop()\n",
    "        return (\"No elements in Queue!\")\n",
    "\n",
    "TheQueue = Queue()\n",
    "TheQueue.addtoq(\"Mon\")\n",
    "TheQueue.addtoq(\"Tue\")\n",
    "TheQueue.addtoq(\"Wed\")\n",
    "print(TheQueue.removefromq())\n",
    "print(TheQueue.removefromq())\n",
    "print(TheQueue.size())"
   ]
  },
  {
   "cell_type": "code",
   "execution_count": 166,
   "metadata": {},
   "outputs": [
    {
     "name": "stdout",
     "output_type": "stream",
     "text": [
      "not included\n",
      "['a', 'b', 'c', 'd', 'm']\n",
      "['a', 'b', 'c', 'd', 'k']\n"
     ]
    }
   ],
   "source": [
    "n = ['a','b','c','d']\n",
    "try: \n",
    "    print(n.index('e'))\n",
    "except:\n",
    "    print(\"not included\")\n",
    "    \n",
    "try:\n",
    "    n[n.index('e')]='m'\n",
    "except:\n",
    "    n.append('m')\n",
    "\n",
    "print (n)\n",
    "for i, item in enumerate(n):\n",
    "    if item=='m':\n",
    "        n[i]='k'\n",
    "        break\n",
    "print(n)"
   ]
  },
  {
   "cell_type": "code",
   "execution_count": 175,
   "metadata": {},
   "outputs": [
    {
     "name": "stdout",
     "output_type": "stream",
     "text": [
      "[1, 3, 5, 78, 21, 45]\n",
      "[1, 3, 5, 78, 21, 45, 8]\n",
      "[3, 8, 5, 78, 21, 45]\n",
      "[5, 8, 6, 78, 21, 45]\n"
     ]
    }
   ],
   "source": [
    "import heapq\n",
    "\n",
    "H = [21,1,45,78,3,5]\n",
    "# Use heapify to rearrange the elements\n",
    "heapq.heapify(H)\n",
    "print(H)\n",
    "# Add element\n",
    "heapq.heappush(H,8)\n",
    "print(H)\n",
    "# Remove element from the heap\n",
    "heapq.heappop(H)\n",
    "print(H)\n",
    "# Replace an element\n",
    "heapq.heapreplace(H,6)\n",
    "print(H)\n"
   ]
  },
  {
   "cell_type": "code",
   "execution_count": 176,
   "metadata": {},
   "outputs": [
    {
     "name": "stdout",
     "output_type": "stream",
     "text": [
      "[{'day1': 'Mon', 'day2': 'Tue'}, {'day3': 'Wed', 'day1': 'Thu'}] \n",
      "\n",
      "Keys = ['day1', 'day2', 'day3']\n",
      "Values = ['Mon', 'Tue', 'Wed']\n",
      "\n",
      "elements:\n",
      "day1 = Mon\n",
      "day2 = Tue\n",
      "day3 = Wed\n",
      "\n",
      "day3 in res: True\n",
      "day4 in res: False\n"
     ]
    }
   ],
   "source": [
    "#Map\n",
    "import collections\n",
    "\n",
    "dict1 = {'day1': 'Mon', 'day2': 'Tue'}\n",
    "dict2 = {'day3': 'Wed', 'day1': 'Thu'}\n",
    "\n",
    "res = collections.ChainMap(dict1, dict2)\n",
    "\n",
    "# Creating a single dictionary\n",
    "print(res.maps,'\\n')\n",
    "\n",
    "print('Keys = {}'.format(list(res.keys())))\n",
    "print('Values = {}'.format(list(res.values())))\n",
    "print()\n",
    "\n",
    "# Print all the elements from the result\n",
    "print('elements:')\n",
    "for key, val in res.items():\n",
    "    print('{} = {}'.format(key, val))\n",
    "print()\n",
    "\n",
    "# Find a specific value in the result\n",
    "print('day3 in res: {}'.format(('day1' in res)))\n",
    "print('day4 in res: {}'.format(('day4' in res)))\n"
   ]
  },
  {
   "cell_type": "code",
   "execution_count": 196,
   "metadata": {},
   "outputs": [
    {
     "name": "stdout",
     "output_type": "stream",
     "text": [
      "{'flow': ['flow', 'wolf']}\n",
      "defaultdict(<class 'list'>, {'flow': ['flow', 'wolf']})\n"
     ]
    }
   ],
   "source": [
    "V = ['a', 'b', 'c', 'd', 'e']\n",
    "E = ['ab', 'ac', 'bd', 'cd', 'de']\n",
    "d = dict()\n",
    "d[\"flow\"] = [\"flow\"]\n",
    "d[\"flow\"].append(\"wolf\")\n",
    "\n",
    "print(d)\n",
    "\n",
    "from collections import defaultdict\n",
    "d = defaultdict(list)\n",
    "d[\"flow\"].append(\"flow\")\n",
    "d[\"flow\"].append(\"wolf\")\n",
    "\n",
    "print(d)"
   ]
  },
  {
   "cell_type": "code",
   "execution_count": 200,
   "metadata": {},
   "outputs": [
    {
     "name": "stdout",
     "output_type": "stream",
     "text": [
      "{'a': ['b', 'c'], 'b': ['a', 'd'], 'c': ['a', 'd'], 'd': ['b', 'c', 'e'], 'e': ['d']}\n",
      "defaultdict(<class 'list'>, {'a': ['b', 'c'], 'b': ['a', 'd'], 'c': ['a', 'd'], 'd': ['b', 'c', 'e'], 'e': ['d']})\n"
     ]
    }
   ],
   "source": [
    "#Graph\n",
    "V = ['a', 'b', 'c', 'd', 'e']\n",
    "E = ['ab', 'ac', 'bd', 'cd', 'de']\n",
    "\n",
    "\n",
    "# Create the dictionary with graph elements\n",
    "graph = { \"a\" : [\"b\",\"c\"],\n",
    "          \"b\" : [\"a\", \"d\"],\n",
    "          \"c\" : [\"a\", \"d\"],\n",
    "          \"d\" : [\"e\"],\n",
    "          \"e\" : [\"d\"]\n",
    "         }\n",
    "\n",
    "def CreateDic(Vi,Ei):\n",
    "    graph = dict()\n",
    "    for v in Vi:\n",
    "        for e in Ei:\n",
    "            #print(v,e)\n",
    "            if v in e:\n",
    "                if v in graph:\n",
    "                    graph[v].append(e.replace(v,''))\n",
    "                else:\n",
    "                    graph[v]=[e.replace(v,'')]\n",
    "    return (graph)\n",
    "g = CreateDic(V,E)\n",
    "\n",
    "def CreateDic2(Vi,Ei):\n",
    "    graph = defaultdict(list)\n",
    "    for v in Vi:\n",
    "        for e in Ei:\n",
    "            if v in e:\n",
    "                graph[v].append(e.replace(v,''))\n",
    "    return (graph)\n",
    "g = CreateDic2(V,E)"
   ]
  },
  {
   "cell_type": "code",
   "execution_count": 207,
   "metadata": {},
   "outputs": [
    {
     "name": "stdout",
     "output_type": "stream",
     "text": [
      "['a', 'b', 'c', 'd', 'e']\n",
      "[{'a', 'b'}, {'a', 'c'}, {'d', 'b'}, {'d', 'c'}, {'d', 'e'}]\n",
      "['a', 'b', 'c', 'd', 'e', 'f']\n",
      "{'a', 'e'}\n",
      "{'a', 'c'}\n",
      "[{'a', 'b'}, {'a', 'c'}, {'a', 'e'}, {'d', 'b'}, {'d', 'c'}, {'d', 'e'}]\n"
     ]
    }
   ],
   "source": [
    "class graph:\n",
    "    def __init__(self,gdict=None):\n",
    "        if gdict is None:\n",
    "            gdict = []\n",
    "        self.gdict = gdict\n",
    "\n",
    "    # Get the keys of the dictionary\n",
    "    def getVertices(self):\n",
    "        return list(self.gdict.keys())\n",
    "    \n",
    "    def edges(self):\n",
    "        return self.findedges()\n",
    "    \n",
    "    # Find the distinct list of edges\n",
    "    def findedges(self):\n",
    "        edgename = []\n",
    "        for vrtx in self.gdict:\n",
    "            for nxtvrtx in self.gdict[vrtx]:\n",
    "                if {nxtvrtx, vrtx} not in edgename:\n",
    "                    edgename.append({vrtx, nxtvrtx})\n",
    "        return edgename\n",
    "    \n",
    "    # Add the vertex as a key\n",
    "    def addVertex(self, vrtx):\n",
    "        if vrtx not in self.gdict:\n",
    "            self.gdict[vrtx] = []\n",
    "    \n",
    "    # Add the new edge\n",
    "    def AddEdge(self, edge):\n",
    "        edge = set(edge)\n",
    "        #print(edge)\n",
    "        (vrtx1, vrtx2) = tuple(edge)\n",
    "        if vrtx1 in self.gdict:\n",
    "            self.gdict[vrtx1].append(vrtx2)\n",
    "        else:\n",
    "            self.gdict[vrtx1] = [vrtx2]\n",
    "\n",
    "    \n",
    "# Create the dictionary with graph elements\n",
    "graph_elements = { \"a\" : [\"b\",\"c\"],\n",
    "                \"b\" : [\"a\", \"d\"],\n",
    "                \"c\" : [\"a\", \"d\"],\n",
    "                \"d\" : [\"b\",\"c\",\"e\"],\n",
    "                \"e\" : [\"d\"]\n",
    "                }\n",
    "\n",
    "g = graph(graph_elements)\n",
    "\n",
    "print(g.getVertices())\n",
    "print(g.edges())\n",
    "g.addVertex(\"f\")\n",
    "print(g.getVertices())\n",
    "g.AddEdge({'a','e'})\n",
    "g.AddEdge({'a','c'})\n",
    "print(g.edges())"
   ]
  },
  {
   "cell_type": "code",
   "execution_count": 208,
   "metadata": {},
   "outputs": [
    {
     "name": "stdout",
     "output_type": "stream",
     "text": [
      "5\n",
      "None\n"
     ]
    }
   ],
   "source": [
    "#binary search - divide and conquer\n",
    "def bsearch(list, val):\n",
    "    list_size = len(list) - 1\n",
    "    idx0 = 0\n",
    "    idxn = list_size\n",
    "    # Find the middle most value\n",
    "    while idx0 <= idxn:\n",
    "        midval = (idx0 + idxn)// 2\n",
    "        if list[midval] == val:\n",
    "            return midval\n",
    "        # Compare the value the middle most value\n",
    "        if val > list[midval]:\n",
    "            idx0 = midval + 1\n",
    "        else:\n",
    "            idxn = midval - 1\n",
    "    if idx0 > idxn:\n",
    "        return None\n",
    "# Initialize the sorted list\n",
    "list = [2,7,19,34,53,72]\n",
    "\n",
    "# Print the search result\n",
    "print(bsearch(list,72))\n",
    "print(bsearch(list,11))"
   ]
  },
  {
   "cell_type": "code",
   "execution_count": 210,
   "metadata": {},
   "outputs": [
    {
     "name": "stdout",
     "output_type": "stream",
     "text": [
      "5\n"
     ]
    }
   ],
   "source": [
    "def bisearch(n,val):\n",
    "    l, r=0, len(n)-1\n",
    "    while l<=r:\n",
    "        m = (l+r)//2\n",
    "        if n[m]==val:\n",
    "            return m\n",
    "        elif n[m]<val:\n",
    "            l = m+1\n",
    "        else:\n",
    "            r = m-1\n",
    "    return None\n",
    "n = [2,7,19,34,53,72]\n",
    "# Print the search result\n",
    "print(bisearch(n,72))"
   ]
  },
  {
   "cell_type": "code",
   "execution_count": 212,
   "metadata": {},
   "outputs": [
    {
     "name": "stdout",
     "output_type": "stream",
     "text": [
      "2\n",
      "None\n"
     ]
    }
   ],
   "source": [
    "#binary search - recursive\n",
    "def bsearch(list, idx0, idxn, val):\n",
    "    if (idxn < idx0):\n",
    "        return None\n",
    "    else:\n",
    "        midval = idx0 + ((idxn - idx0) // 2)\n",
    "        # Compare the search item with middle most value\n",
    "        if list[midval] > val:\n",
    "            return bsearch(list, idx0, midval-1,val)\n",
    "        elif list[midval] < val:\n",
    "            return bsearch(list, midval+1, idxn, val)\n",
    "        else:\n",
    "            return midval\n",
    "\n",
    "list = [8,11,24,56,88,131]\n",
    "print(bsearch(list, 0, 5, 24))\n",
    "print(bsearch(list, 0, 5, 51))"
   ]
  },
  {
   "cell_type": "code",
   "execution_count": 213,
   "metadata": {},
   "outputs": [
    {
     "name": "stdout",
     "output_type": "stream",
     "text": [
      "4\n"
     ]
    }
   ],
   "source": [
    "def bisearch2(n,l,r,val):\n",
    "    if(r<l): return None\n",
    "    else: \n",
    "        m = (l+r)//2\n",
    "        if n[m]<val:\n",
    "            return bisearch2(n,l+1,r,val)\n",
    "        elif n[m]>val:\n",
    "            return bisearch2(n,l,r+1,val)\n",
    "        else:\n",
    "            return m\n",
    "n = [2,7,19,34,53,72]\n",
    "# Print the search result\n",
    "print(bisearch2(n,0,5,53))"
   ]
  },
  {
   "cell_type": "code",
   "execution_count": 243,
   "metadata": {},
   "outputs": [
    {
     "name": "stdout",
     "output_type": "stream",
     "text": [
      "['aa', 'ab', 'ac', 'ba', 'bb', 'bc', 'ca', 'cb', 'cc']\n"
     ]
    },
    {
     "data": {
      "text/plain": [
       "['abc', 'acb', 'bac', 'bca', 'cab', 'cba']"
      ]
     },
     "execution_count": 243,
     "metadata": {},
     "output_type": "execute_result"
    }
   ],
   "source": [
    "#back tracking\n",
    "def permute(list, s):\n",
    "    if list == 1:\n",
    "        return s\n",
    "    else:\n",
    "        return [ y + x\n",
    "                 for y in permute(1, s)\n",
    "                 for x in permute(list - 1, s)\n",
    "                 ]\n",
    "\n",
    "#print(permute(1, [\"a\",\"b\",\"c\"]))\n",
    "print(permute(2, [\"a\",\"b\",\"c\"]))\n",
    "#print(permute(3, [\"a\",\"b\",\"c\"]))\n",
    "\n",
    "#combination\n",
    "def permu(s):\n",
    "    out = []\n",
    "    if len(s) == 1:\n",
    "        return s\n",
    "    else:\n",
    "        for i,let in enumerate(s):\n",
    "            for perm in permu(s[:i] + s[i+1:]):\n",
    "                out += [let + perm]\n",
    "    return out\n",
    "\n",
    "s = [\"a\",\"b\",\"c\"]\n",
    "permu(s)\n"
   ]
  },
  {
   "cell_type": "code",
   "execution_count": 246,
   "metadata": {},
   "outputs": [
    {
     "name": "stdout",
     "output_type": "stream",
     "text": [
      "[2, 6, 11, 19, 27, 31, 45, 121]\n"
     ]
    }
   ],
   "source": [
    "#sorting algorithm\n",
    "\n",
    "#1. bubble sort\n",
    "#It is a comparison-based algorithm in which each pair of adjacent elements is compared and the elements are swapped if they are not in order.\n",
    "def bubblesort(list):\n",
    "    # Swap the elements to arrange in order\n",
    "    for iter_num in range(len(list)-1,0,-1):\n",
    "        for idx in range(iter_num):\n",
    "            if list[idx]>list[idx+1]:\n",
    "                temp = list[idx]\n",
    "                list[idx] = list[idx+1]\n",
    "                list[idx+1] = temp\n",
    "\n",
    "list = [19,2,31,45,6,11,121,27]\n",
    "bubblesort(list)\n",
    "print(list)"
   ]
  },
  {
   "cell_type": "code",
   "execution_count": 247,
   "metadata": {},
   "outputs": [
    {
     "data": {
      "text/plain": [
       "[2, 6, 11, 19, 27, 31, 45, 121]"
      ]
     },
     "execution_count": 247,
     "metadata": {},
     "output_type": "execute_result"
    }
   ],
   "source": [
    "def bubbleS(n):\n",
    "    for i in range(len(n)-1,0,-1):\n",
    "        for j in range(i):\n",
    "            if n[j]>n[j+1]:\n",
    "                tmp = n[j]\n",
    "                n[j]=n[j+1]\n",
    "                n[j+1]=tmp\n",
    "    return n\n",
    "n = [19,2,31,45,6,11,121,27]\n",
    "bubbleS(n)\n"
   ]
  },
  {
   "cell_type": "code",
   "execution_count": 268,
   "metadata": {},
   "outputs": [
    {
     "data": {
      "text/plain": [
       "[11, 12, 22, 25, 34, 64, 90]"
      ]
     },
     "execution_count": 268,
     "metadata": {},
     "output_type": "execute_result"
    }
   ],
   "source": [
    "#Merge Sort\n",
    "#Merge sort first divides the array into equal halves and then combines them in a sorted manner.\n",
    "\n",
    "def merge_sort(unsorted_list):\n",
    "    if len(unsorted_list) <= 1:\n",
    "        return unsorted_list\n",
    "    # Find the middle point and devide it\n",
    "    middle = len(unsorted_list) // 2\n",
    "    left_list = unsorted_list[:middle]\n",
    "    right_list = unsorted_list[middle:]\n",
    "\n",
    "    left_list = merge_sort(left_list)\n",
    "    right_list = merge_sort(right_list)\n",
    "    return ((merge(left_list, right_list)))\n",
    "\n",
    "# Merge the sorted halves\n",
    "def merge(left_half,right_half):\n",
    "    res = []\n",
    "    while len(left_half) != 0 and len(right_half) != 0:\n",
    "        if left_half[0] < right_half[0]:\n",
    "            res.append(left_half[0])\n",
    "            left_half.remove(left_half[0])\n",
    "        else:\n",
    "            res.append(right_half[0])\n",
    "            right_half.remove(right_half[0])\n",
    "    if len(left_half) == 0:\n",
    "        res = res + right_half\n",
    "    else:\n",
    "        res = res + left_half\n",
    "    return res\n",
    "\n",
    "\n",
    "unsorted_list = [64, 34, 25, 12, 22, 11, 90]\n",
    "merge_sort(unsorted_list)"
   ]
  },
  {
   "cell_type": "code",
   "execution_count": 269,
   "metadata": {},
   "outputs": [
    {
     "data": {
      "text/plain": [
       "[11, 12, 22, 25, 34, 64, 100]"
      ]
     },
     "execution_count": 269,
     "metadata": {},
     "output_type": "execute_result"
    }
   ],
   "source": [
    "def mergeS(n):\n",
    "    if len(n)<=1:\n",
    "        return n\n",
    "    m = len(n)//2\n",
    "    ln = mergeS(n[:m])\n",
    "    rn = mergeS(n[m:])\n",
    "    return (mergeL(ln,rn))\n",
    "\n",
    "def mergeL(ln,rn):\n",
    "    res = []\n",
    "    while len(ln)!=0 and len(rn)!=0:\n",
    "        if(ln[0]<rn[0]):\n",
    "            res.append(ln[0])\n",
    "            ln.remove(ln[0])\n",
    "        else:\n",
    "            res.append(rn[0])\n",
    "            rn.remove(rn[0])\n",
    "    if(len(ln)==0):\n",
    "        res = res + rn\n",
    "    else:\n",
    "        res = res + ln\n",
    "    return res\n",
    "\n",
    "n = [64, 34, 25, 12, 22, 11, 100]\n",
    "mergeS(n)"
   ]
  },
  {
   "cell_type": "code",
   "execution_count": 274,
   "metadata": {},
   "outputs": [
    {
     "name": "stdout",
     "output_type": "stream",
     "text": [
      "[2, 11, 19, 27, 30, 31, 45, 121]\n"
     ]
    }
   ],
   "source": [
    "#Insertion Sort\n",
    "#Insertion sort involves finding the right place for a given element in a sorted list. So in beginning we compare the first two elements and sort them by comparing them. Then we pick the third element and find its proper position among the previous two sorted elements. This way we gradually go on adding more elements to the already sorted list by putting them in their proper position.\n",
    "\n",
    "def insertion_sort(InputList):\n",
    "    for i in range(1, len(InputList)):\n",
    "        j = i-1\n",
    "        nxt_element = InputList[i]\n",
    "        # Compare the current element with next one\n",
    "        while (InputList[j] > nxt_element) and (j >= 0):\n",
    "            InputList[j+1] = InputList[j]\n",
    "            j=j-1\n",
    "        InputList[j+1] = nxt_element\n",
    "\n",
    "list = [19,2,31,45,30,11,121,27]\n",
    "insertion_sort(list)\n",
    "print(list)"
   ]
  },
  {
   "cell_type": "code",
   "execution_count": 309,
   "metadata": {},
   "outputs": [
    {
     "data": {
      "text/plain": [
       "[1, 3, 4, 5, 6, 7, 12, 15]"
      ]
     },
     "execution_count": 309,
     "metadata": {},
     "output_type": "execute_result"
    }
   ],
   "source": [
    "#Quick Sort\n",
    "def quickS(array):\n",
    "    \"\"\"Sort the array by using quicksort.\"\"\"\n",
    "    less = []\n",
    "    equal = []\n",
    "    greater = []\n",
    "\n",
    "    if len(array) > 1:\n",
    "        pivot = array[0]\n",
    "        for x in array:\n",
    "            if x < pivot:\n",
    "                less.append(x)\n",
    "            elif x == pivot:\n",
    "                equal.append(x)\n",
    "            elif x > pivot:\n",
    "                greater.append(x)\n",
    "        return quickS(less)+equal+quickS(greater)  # Just use the + operator to join lists\n",
    "    # Note that you want equal ^^^^^ not pivot\n",
    "    else:  # You need to handle the part at the end of the recursion - when you only have one element in your array, just return the array.\n",
    "        return array\n",
    "\n",
    "n=[12,4,5,6,7,3,1,15]\n",
    "quickS(n)"
   ]
  },
  {
   "cell_type": "code",
   "execution_count": 273,
   "metadata": {},
   "outputs": [
    {
     "data": {
      "text/plain": [
       "[2, 11, 19, 27, 30, 31, 45, 151]"
      ]
     },
     "execution_count": 273,
     "metadata": {},
     "output_type": "execute_result"
    }
   ],
   "source": [
    "def insertS(n):\n",
    "    for i in range(1,len(n)):\n",
    "        j = i -1\n",
    "        nextn = n[i]\n",
    "        while(n[j]>nextn and j>=0):\n",
    "            n[j+1]=n[j]\n",
    "            j=j-1\n",
    "        n[j+1]=nextn\n",
    "    return (n)\n",
    "n = [19,2,31,45,30,11,151,27]\n",
    "insertS(n)"
   ]
  },
  {
   "cell_type": "code",
   "execution_count": 275,
   "metadata": {},
   "outputs": [
    {
     "name": "stdout",
     "output_type": "stream",
     "text": [
      "[2, 11, 19, 27, 30, 31, 45, 121]\n"
     ]
    }
   ],
   "source": [
    "#Shell Sort\n",
    "#Shell Sort involves sorting elements which are away from ech other. We sort a large sublist of a given list and go on reducing the size of the list until all elements are sorted. The below program finds the gap by equating it to half of the length of the list size and then starts sorting all elements in it. Then we keep resetting the gap until the entire list is sorted.\n",
    "\n",
    "def shellSort(input_list):\n",
    "    gap = len(input_list) // 2\n",
    "    while gap > 0:\n",
    "        for i in range(gap, len(input_list)):\n",
    "            temp = input_list[i]\n",
    "            j = i\n",
    "            # Sort the sub list for this gap\n",
    "            while j >= gap and input_list[j - gap] > temp:\n",
    "                input_list[j] = input_list[j - gap]\n",
    "                j = j-gap\n",
    "            input_list[j] = temp\n",
    "            # Reduce the gap for the next element\n",
    "        gap = gap//2\n",
    "\n",
    "\n",
    "list = [19,2,31,45,30,11,121,27]\n",
    "shellSort(list)\n",
    "print(list)"
   ]
  },
  {
   "cell_type": "code",
   "execution_count": 277,
   "metadata": {},
   "outputs": [
    {
     "data": {
      "text/plain": [
       "[2, 11, 19, 27, 30, 31, 45, 141]"
      ]
     },
     "execution_count": 277,
     "metadata": {},
     "output_type": "execute_result"
    }
   ],
   "source": [
    "def shellS(n):\n",
    "    g = len(n)//2\n",
    "    while g>0:\n",
    "        for i in range(g,len(n)):\n",
    "            tmp = n[i]\n",
    "            j = i\n",
    "            while (j>=g and n[j-g]>tmp):\n",
    "                n[j]=n[j-g]\n",
    "                j = j-g\n",
    "            n[j]=tmp\n",
    "        g= g//2\n",
    "    return (n)\n",
    "n = [19,2,31,45,30,11,141,27]\n",
    "shellS(n)"
   ]
  },
  {
   "cell_type": "code",
   "execution_count": 278,
   "metadata": {},
   "outputs": [
    {
     "name": "stdout",
     "output_type": "stream",
     "text": [
      "[2, 11, 19, 27, 30, 31, 45, 121]\n"
     ]
    }
   ],
   "source": [
    "#Selection Sort\n",
    "#In selection sort we start by finding the minimum value in a given list and move it to a sorted list. Then we repeat the process for each of the remaining elements in the unsorted list. The next element entering the sorted list is compared with the existing elements and placed at its correct position. So at the end all the elements from the unsorted list are sorted.\n",
    "\n",
    "def selection_sort(input_list):\n",
    "    for idx in range(len(input_list)):\n",
    "        min_idx = idx\n",
    "        for j in range( idx +1, len(input_list)):\n",
    "            if input_list[min_idx] > input_list[j]:\n",
    "                min_idx = j\n",
    "        # Swap the minimum value with the compared value\n",
    "        input_list[idx], input_list[min_idx] = input_list[min_idx], input_list[idx]\n",
    "\n",
    "\n",
    "l = [19,2,31,45,30,11,121,27]\n",
    "selection_sort(l)\n",
    "print(l)"
   ]
  },
  {
   "cell_type": "code",
   "execution_count": 279,
   "metadata": {},
   "outputs": [
    {
     "data": {
      "text/plain": [
       "[2, 11, 19, 27, 30, 31, 45, 161]"
      ]
     },
     "execution_count": 279,
     "metadata": {},
     "output_type": "execute_result"
    }
   ],
   "source": [
    "def selectionS(n):\n",
    "    for i in range(len(n)):\n",
    "        mini = i\n",
    "        for j in range(i+1,len(n)):\n",
    "            if(n[mini]>n[j]):\n",
    "                mini = j\n",
    "        n[i], n[mini]=n[mini],n[i]\n",
    "    return (n)\n",
    "\n",
    "n = [19,2,31,45,30,11,161,27]\n",
    "selectionS(n)"
   ]
  },
  {
   "cell_type": "code",
   "execution_count": 280,
   "metadata": {},
   "outputs": [
    {
     "name": "stdout",
     "output_type": "stream",
     "text": [
      "[-2, 1, 2, 3, 5, 7, 56]\n"
     ]
    }
   ],
   "source": [
    "#Heap sort\n",
    "def swap(i, j):                    \n",
    "    sqc[i], sqc[j] = sqc[j], sqc[i] \n",
    "\n",
    "def heapify(end,i):   \n",
    "    l=2 * i + 1  \n",
    "    r=2 * (i + 1)   \n",
    "    max=i   \n",
    "    if l < end and sqc[i] < sqc[l]:   \n",
    "        max = l   \n",
    "    if r < end and sqc[max] < sqc[r]:   \n",
    "        max = r   \n",
    "    if max != i:   \n",
    "        swap(i, max)   \n",
    "        heapify(end, max)   \n",
    "\n",
    "def heap_sort():     \n",
    "    end = len(sqc)   \n",
    "    start = end // 2 - 1 # use // instead of /\n",
    "    for i in range(start, -1, -1):   \n",
    "        heapify(end, i)   \n",
    "    for i in range(end-1, 0, -1):   \n",
    "        swap(i, 0)   \n",
    "        heapify(i, 0)   \n",
    "\n",
    "sqc = [2, 7, 1, -2, 56, 5, 3]\n",
    "heap_sort()\n",
    "print(sqc)"
   ]
  },
  {
   "cell_type": "code",
   "execution_count": 284,
   "metadata": {},
   "outputs": [
    {
     "data": {
      "text/plain": [
       "[-2, 1, 2, 3, 5, 7, 56]"
      ]
     },
     "execution_count": 284,
     "metadata": {},
     "output_type": "execute_result"
    }
   ],
   "source": [
    "def heapify(n,end,i):\n",
    "    rt = i\n",
    "    l = 2*i+1\n",
    "    r = 2*i+2\n",
    "    if l < end and n[i]<n[l]:\n",
    "        rt = l\n",
    "    if r < end and n[rt]<n[r]:\n",
    "        rt = r\n",
    "    if rt!=i:\n",
    "        n[i],n[rt]=n[rt],n[i]\n",
    "        heapify(n,end,rt)\n",
    "    return (n)\n",
    "\n",
    "        \n",
    "def heapS(n):\n",
    "    end = len(n)\n",
    "    start = len(n)//2-1\n",
    "    for i in range(start,-1,-1):\n",
    "        heapify(n,end,i)\n",
    "        \n",
    "    for i in range(end-1,0,-1):\n",
    "        n[i],n[0]=n[0],n[i]\n",
    "        heapify(n,i,0)\n",
    "    return (n)\n",
    "\n",
    "n = [2, 7, 1, -2, 56, 5, 3]\n",
    "heapS(n)"
   ]
  },
  {
   "cell_type": "code",
   "execution_count": 299,
   "metadata": {},
   "outputs": [
    {
     "name": "stdout",
     "output_type": "stream",
     "text": [
      "True\n",
      "False\n"
     ]
    }
   ],
   "source": [
    "#Searching Algorithms\n",
    "#Linear Search\n",
    "#In this type of search, a sequential search is made over all items one by one. \n",
    "#Every item is checked and if a match is found then that particular item is returned, otherwise the search continues till the end of the data structure.\n",
    "\n",
    "def linear_search(values, search_for):\n",
    "    search_at = 0\n",
    "    search_res = False\n",
    "\n",
    "    # Match the value with each data element\t\n",
    "    while search_at < len(values) and search_res is False:\n",
    "        if values[search_at] == search_for:\n",
    "            search_res = True\n",
    "        else:\n",
    "            search_at = search_at + 1\n",
    "\n",
    "    return search_res\n",
    "\n",
    "l = [64, 34, 25, 12, 22, 11, 90]\n",
    "print(linear_search(l, 12))\n",
    "print(linear_search(l, 91))"
   ]
  },
  {
   "cell_type": "code",
   "execution_count": 301,
   "metadata": {},
   "outputs": [
    {
     "name": "stdout",
     "output_type": "stream",
     "text": [
      "Found 2 at index 0\n"
     ]
    }
   ],
   "source": [
    "#Interpolation Search\n",
    "#This search algorithm works on the probing position of the required value. \n",
    "#For this algorithm to work properly, the data collection should be in a sorted form and equally distributed. \n",
    "#Initially, the probe position is the position of the middle most item of the collection.\n",
    "#If a match occurs, then the index of the item is returned. \n",
    "#If the middle item is greater than the item, then the probe position is again calculated in the sub-array to the right of the middle item. \n",
    "#Otherwise, the item is searched in the subarray to the left of the middle item. \n",
    "#This process continues on the sub-array as well until the size of subarray reduces to zero.\n",
    "\n",
    "#There is a specific formula to calculate the middle position which is indicated in the program below.\n",
    "\n",
    "\n",
    "def intpolsearch(values,x):\n",
    "    idx0 = 0\n",
    "    idxn = (len(values) - 1)\n",
    "\n",
    "    while idx0 <= idxn and x >= values[idx0] and x <= values[idxn]:\n",
    "        # Find the mid point\n",
    "        mid = idx0 + int(((float(idxn - idx0)/( values[idxn] - values[idx0])) * ( x - values[idx0])))\n",
    "        # Compare the value at mid point with search value \n",
    "        if values[mid] == x:\n",
    "            return \"Found \"+str(x)+\" at index \"+str(mid)\n",
    "        if values[mid] < x:\n",
    "            idx0 = mid + 1\n",
    "    return \"Searched element not in the list\"\n",
    "\n",
    "l = [2, 6, 11, 19, 27, 31, 45, 121]\n",
    "print(intpolsearch(l, 2))"
   ]
  },
  {
   "cell_type": "code",
   "execution_count": 305,
   "metadata": {},
   "outputs": [
    {
     "name": "stdout",
     "output_type": "stream",
     "text": [
      "a\n",
      "b\n",
      "d\n",
      "e\n",
      "c\n"
     ]
    }
   ],
   "source": [
    "#Graph Algorithm\n",
    "#Depth First Traversal: (stack)\n",
    "#Also called depth first search (DFS),this algorithm traverses a graph in a depth ward motion and uses a stack to remember to get the next vertex to start a search, when a dead end occurs in any iteration. We implement DFS for a graph in python using the set data types as they provide the required functionalities to keep track of visited and unvisited nodes.\n",
    "\n",
    "class graph:\n",
    "    def __init__(self,gdict=None):\n",
    "        if gdict is None:\n",
    "            gdict = {}\n",
    "        self.gdict = gdict\n",
    "# Check for the visited and unvisited nodes\n",
    "def dfs(graph, start, visited = None):\n",
    "    if visited is None:\n",
    "        visited = set()\n",
    "    visited.add(start)\n",
    "    print(start)\n",
    "    for next in graph[start] - visited:\n",
    "        dfs(graph, next, visited)\n",
    "    #return visited\n",
    "\n",
    "gdict = { \"a\" : set([\"b\",\"c\"]),\n",
    "                \"b\" : set([\"a\", \"d\"]),\n",
    "                \"c\" : set([\"a\", \"d\"]),\n",
    "                \"d\" : set([\"e\"]),\n",
    "                \"e\" : set([\"a\"])\n",
    "                }\n",
    "\n",
    "dfs(gdict, 'a')"
   ]
  },
  {
   "cell_type": "code",
   "execution_count": 304,
   "metadata": {},
   "outputs": [
    {
     "name": "stdout",
     "output_type": "stream",
     "text": [
      "a\n",
      "b\n",
      "c\n",
      "d\n",
      "e\n"
     ]
    }
   ],
   "source": [
    "#Breadth First Traversal: (queue)\n",
    "#Also called breadth first search (BFS),this algorithm traverses a graph breadth ward motion and uses a queue to remember to get the next vertex to start a search, when a dead end occurs in any iteration. Please visit this link in our website to understand the details of BFS steps for a graph.\n",
    "#We implement BFS for a graph in python using queue data structure discussed earlier. When we keep visiting the adjacent unvisited nodes and keep adding it to the queue. Then we start dequeue only the node which is left with no unvisited nodes. We stop the program when there is no next adjacent node to be visited.\n",
    "\n",
    "import collections\n",
    "class graph:\n",
    "    def __init__(self,gdict=None):\n",
    "        if gdict is None:\n",
    "            gdict = {}\n",
    "        self.gdict = gdict\n",
    "\n",
    "def bfs(graph, startnode):\n",
    "    # Track the visited and unvisited nodes using queue\n",
    "    seen, queue = set([startnode]), collections.deque([startnode])\n",
    "    while queue:\n",
    "        vertex = queue.popleft()\n",
    "        print(vertex)\n",
    "        for node in graph[vertex]:\n",
    "            if node not in seen:\n",
    "                seen.add(node)\n",
    "                queue.append(node)\n",
    "\n",
    "\n",
    "# The graph dictionary\n",
    "gdict = { \"a\" : set([\"b\",\"c\"]),\n",
    "                \"b\" : set([\"a\", \"d\"]),\n",
    "                \"c\" : set([\"a\", \"d\"]),\n",
    "                \"d\" : set([\"e\"]),\n",
    "                \"e\" : set([\"a\"])\n",
    "                }\n",
    "\n",
    "bfs(gdict, \"a\")"
   ]
  },
  {
   "cell_type": "code",
   "execution_count": null,
   "metadata": {},
   "outputs": [],
   "source": [
    "# Greedy Algorithms\n",
    "'''\n",
    "Greedy algorithms try to find a localized optimum solution, which may eventually lead to globally optimized solutions. However, generally greedy algorithms do not provide globally optimized solutions.\n",
    "\n",
    "So greedy algorithms look for a easy solution at that point in time without considering how it impacts the future steps. It is similar to how humans solve problems without going through the complete details of the inputs provided.\n",
    "\n",
    "Most networking algorithms use the greedy approach. Here is a list of few of them −\n",
    "\n",
    "    Travelling Salesman Problem\n",
    "    Prim's Minimal Spanning Tree Algorithm\n",
    "    Kruskal's Minimal Spanning Tree Algorithm\n",
    "    Dijkstra's Minimal Spanning Tree Algorithm\n",
    "'''\n",
    "#Divide and Conquer\n",
    "'''\n",
    "This class of algorithms involve dividing the given problem into smaller sub-problems and then solving each of the sub-problem independently. When the problem can not be further sub divided, we start merging the solution to each of the sub-problem to arrive at the solution for the bigger problem.\n",
    "\n",
    "The important examples of divide and conquer algorithms are −\n",
    "\n",
    "    Merge Sort\n",
    "    Quick Sort\n",
    "    Kruskal's Minimal Spanning Tree Algorithm\n",
    "    Binary Search\n",
    "'''\n",
    "#Dynamic Programming\n",
    "'''\n",
    "Dynamic programming involves dividing the bigger problem into smaller ones but unlike divide and conquer it does not involve solving each sub-problem independently. Rather the results of smaller sub-problems are remembered and used for similar or overlapping sub-problems. Mostly, these algorithms are used for optimization. Before solving the in-hand sub-problem, dynamic algorithm will try to examine the results of the previously solved sub-problems.\n",
    "\n",
    "dynamic algorithms are motivated for an overall optimization of the problem and not the local optimization.\n",
    "\n",
    "The important examples of Dynamic programming algorithms are −\n",
    "\n",
    "    Fibonacci number series\n",
    "    Knapsack problem\n",
    "    Tower of Hanoi\n",
    "'''"
   ]
  },
  {
   "cell_type": "code",
   "execution_count": 306,
   "metadata": {},
   "outputs": [
    {
     "name": "stdout",
     "output_type": "stream",
     "text": [
      "21\n"
     ]
    }
   ],
   "source": [
    "# Function for nth Fibonacci number \n",
    "#solution 1: recursive  \n",
    "def Fibonacci(n): \n",
    "    if n<0: \n",
    "        print(\"Incorrect input\") \n",
    "    # First Fibonacci number is 0 \n",
    "    elif n==1: \n",
    "        return 0\n",
    "    # Second Fibonacci number is 1 \n",
    "    elif n==2: \n",
    "        return 1\n",
    "    else: \n",
    "        return Fibonacci(n-1)+Fibonacci(n-2)\n",
    "\n",
    "print(Fibonacci(9)) "
   ]
  },
  {
   "cell_type": "code",
   "execution_count": 307,
   "metadata": {},
   "outputs": [
    {
     "name": "stdout",
     "output_type": "stream",
     "text": [
      "21\n"
     ]
    }
   ],
   "source": [
    "#solution 2: dynamic programming\n",
    "FibArray = [0,1] \n",
    "  \n",
    "def fibonacci(n): \n",
    "    if n<0: \n",
    "        print(\"Incorrect input\") \n",
    "    elif n<=len(FibArray): \n",
    "        return FibArray[n-1] \n",
    "    else: \n",
    "        temp_fib = fibonacci(n-1)+fibonacci(n-2) \n",
    "        FibArray.append(temp_fib) \n",
    "        return temp_fib \n",
    "    \n",
    "print(fibonacci(9)) "
   ]
  },
  {
   "cell_type": "code",
   "execution_count": 308,
   "metadata": {},
   "outputs": [
    {
     "name": "stdout",
     "output_type": "stream",
     "text": [
      "21\n"
     ]
    }
   ],
   "source": [
    "#solution 3: space optimized\n",
    "def fibonacci(n): \n",
    "    a = 0\n",
    "    b = 1\n",
    "    if n < 0: \n",
    "        print(\"Incorrect input\") \n",
    "    elif n == 0: \n",
    "        return a \n",
    "    elif n == 1: \n",
    "        return b \n",
    "    else: \n",
    "        for i in range(2,n): \n",
    "            c = a + b \n",
    "            a = b \n",
    "            b = c \n",
    "        return b \n",
    "\n",
    "print(fibonacci(9)) "
   ]
  },
  {
   "cell_type": "code",
   "execution_count": null,
   "metadata": {},
   "outputs": [],
   "source": [
    "#https://www.tutorialspoint.com/python/python_algorithm_justifications.htm\n",
    "#Amortized analytst\n",
    "'''\n",
    "There are three approaches to amortized analysis.\n",
    "Accounting Method\n",
    "Potential Method \n",
    "Aggregate analysis\n",
    "'''\n",
    "#Prove methods\n",
    "'''\n",
    "Direct Proof: \n",
    "Proof by induction: \n",
    "Proof by contraposition: \n",
    "Proof by exhaustion: \n",
    "'''"
   ]
  }
 ],
 "metadata": {
  "kernelspec": {
   "display_name": "Python 3",
   "language": "python",
   "name": "python3"
  },
  "language_info": {
   "codemirror_mode": {
    "name": "ipython",
    "version": 3
   },
   "file_extension": ".py",
   "mimetype": "text/x-python",
   "name": "python",
   "nbconvert_exporter": "python",
   "pygments_lexer": "ipython3",
   "version": "3.7.6"
  }
 },
 "nbformat": 4,
 "nbformat_minor": 2
}
