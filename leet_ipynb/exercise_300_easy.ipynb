{
 "cells": [
  {
   "cell_type": "code",
   "execution_count": null,
   "metadata": {},
   "outputs": [],
   "source": [
    "#Leet code exercise repeat I\n",
    "#level: easy\n",
    "#format: \n",
    "'''\n",
    "question title\n",
    "description\n",
    "function code\n",
    "solution\n",
    "'''"
   ]
  },
  {
   "cell_type": "code",
   "execution_count": null,
   "metadata": {},
   "outputs": [],
   "source": [
    "1. Two Sum\n",
    "Given an array of integers, return indices of the two numbers such that they add up to a specific target."
   ]
  },
  {
   "cell_type": "code",
   "execution_count": 153,
   "metadata": {},
   "outputs": [
    {
     "data": {
      "text/plain": [
       "(1, 7, 0, 2)"
      ]
     },
     "execution_count": 153,
     "metadata": {},
     "output_type": "execute_result"
    }
   ],
   "source": [
    "class Solution():\n",
    "    def TwoSum(self, nums,target):\n",
    "        mp={}\n",
    "        for i in range(len(nums)):\n",
    "            n = target - nums[i]\n",
    "            if n in mp:\n",
    "                return (i,nums[i],mp.get(n),n)\n",
    "            else:\n",
    "                mp[nums[i]]=i\n",
    "\n",
    "nums, target=[2, 7, 11, 15], 9\n",
    "a=Solution()\n",
    "a.TwoSum(nums, target)"
   ]
  },
  {
   "cell_type": "code",
   "execution_count": null,
   "metadata": {},
   "outputs": [],
   "source": [
    "7. Reverse Integer\n",
    "Given a 32-bit signed integer, reverse digits of an integer."
   ]
  },
  {
   "cell_type": "code",
   "execution_count": 2,
   "metadata": {},
   "outputs": [
    {
     "data": {
      "text/plain": [
       "-54321"
      ]
     },
     "execution_count": 2,
     "metadata": {},
     "output_type": "execute_result"
    }
   ],
   "source": [
    "class Solution():\n",
    "    def ReverseInteger(self, n):\n",
    "        a,res=abs(n),0\n",
    "        while a>0:\n",
    "            a, b = divmod(a, 10)\n",
    "            res = res*10 + b\n",
    "            if res>2**31-1 or res<-2**31:\n",
    "                return (\"overflow\")\n",
    "        return (res*(-1 if n<0 else 1))\n",
    "n=-123450\n",
    "a=Solution()\n",
    "a.ReverseInteger(n)"
   ]
  },
  {
   "cell_type": "code",
   "execution_count": null,
   "metadata": {},
   "outputs": [],
   "source": [
    "9. Palindrome Number\n",
    "Determine whether an integer is a palindrome. An integer is a palindrome when it reads the same backward as forward."
   ]
  },
  {
   "cell_type": "code",
   "execution_count": 3,
   "metadata": {},
   "outputs": [
    {
     "data": {
      "text/plain": [
       "True"
      ]
     },
     "execution_count": 3,
     "metadata": {},
     "output_type": "execute_result"
    }
   ],
   "source": [
    "class Solution():\n",
    "    def PalindromeNumber(self, n):\n",
    "        if(n<0): return False\n",
    "        s = str(n)\n",
    "        mid = int(len(s)/2) if len(s)%2==0 else int(len(s)/2)+1\n",
    "        return (s[0:int(len(s)/2)][::-1]==s[mid:])\n",
    "\n",
    "n = 10246064201\n",
    "a=Solution()\n",
    "a.PalindromeNumber(n)"
   ]
  },
  {
   "cell_type": "code",
   "execution_count": null,
   "metadata": {},
   "outputs": [],
   "source": [
    "13. Roman to Integer\n",
    "Roman numerals are represented by seven different symbols: I, V, X, L, C, D and M."
   ]
  },
  {
   "cell_type": "code",
   "execution_count": 4,
   "metadata": {},
   "outputs": [
    {
     "data": {
      "text/plain": [
       "1994"
      ]
     },
     "execution_count": 4,
     "metadata": {},
     "output_type": "execute_result"
    }
   ],
   "source": [
    "class Solution():\n",
    "    def RomantoInteger(self, s):\n",
    "        rtoint = dict(I=1, V=5, X=10, L=50, C=100, D=500, M=1000)\n",
    "        n,start=0,\"M\"\n",
    "        for c in s:\n",
    "            if rtoint[c]>rtoint[start]:\n",
    "                n += rtoint[c]-2*rtoint[start]\n",
    "            else:\n",
    "                n += rtoint[c]\n",
    "            start = c\n",
    "        return n\n",
    "strs = \"MCMXCIV\"\n",
    "a=Solution()\n",
    "a.RomantoInteger(strs)"
   ]
  },
  {
   "cell_type": "code",
   "execution_count": null,
   "metadata": {},
   "outputs": [],
   "source": [
    "14. Longest Common Prefix\n",
    "Write a function to find the longest common prefix string amongst an array of strings."
   ]
  },
  {
   "cell_type": "code",
   "execution_count": 5,
   "metadata": {},
   "outputs": [
    {
     "data": {
      "text/plain": [
       "'fl'"
      ]
     },
     "execution_count": 5,
     "metadata": {},
     "output_type": "execute_result"
    }
   ],
   "source": [
    "class Solution():\n",
    "    def LongestCommonPrefix(self,s):\n",
    "        s = sorted(s,key=len)\n",
    "        res,smin=\"\",s[0]\n",
    "        for i in range(len(smin)):\n",
    "            for j in range(1,len(s)):\n",
    "                if(smin[i]!=s[j][i]):\n",
    "                    i = len(smin)\n",
    "                    break\n",
    "                elif j==(len(s)-1):\n",
    "                    res += smin[i]\n",
    "        return res\n",
    "strs = [\"flower\",\"flow\",\"flight\"]\n",
    "a=Solution()\n",
    "a.LongestCommonPrefix(strs)"
   ]
  },
  {
   "cell_type": "code",
   "execution_count": null,
   "metadata": {},
   "outputs": [],
   "source": [
    "20. Valid Parentheses\n",
    "Given a string containing just the characters '(', ')', '{', '}', '[' and ']', determine if the input string is valid."
   ]
  },
  {
   "cell_type": "code",
   "execution_count": 6,
   "metadata": {},
   "outputs": [
    {
     "data": {
      "text/plain": [
       "False"
      ]
     },
     "execution_count": 6,
     "metadata": {},
     "output_type": "execute_result"
    }
   ],
   "source": [
    "class Solution():\n",
    "    def ValidParentheses(self,s):\n",
    "        mp = {\"(\":\")\",\"[\":\"]\",\"{\":\"}\"}\n",
    "        rp = [\")\",\"]\",\"}\"]\n",
    "        stack=[]\n",
    "        for c in s:\n",
    "            if c in mp:\n",
    "                stack.append(c)\n",
    "            elif c in rp:\n",
    "                if stack:\n",
    "                    if c!=mp[stack.pop()]: return False\n",
    "                else:\n",
    "                    return False\n",
    "            else:\n",
    "                continue\n",
    "        return not stack\n",
    "strs=\"([)]\"\n",
    "a=Solution()\n",
    "a.ValidParentheses(strs)               "
   ]
  },
  {
   "cell_type": "code",
   "execution_count": null,
   "metadata": {},
   "outputs": [],
   "source": [
    "21. Merge Two Sorted Lists\n",
    "Merge two sorted linked lists and return it as a new list. The new list should be made by splicing together the nodes of the first two lists."
   ]
  },
  {
   "cell_type": "code",
   "execution_count": null,
   "metadata": {},
   "outputs": [],
   "source": [
    "class Solution():\n",
    "    def MergeTwoSortedLists(self,n1,n2):\n",
    "        dummy = tmp = ListNode(0)\n",
    "        while n1 or n2:\n",
    "            if n1.val < n2.val:\n",
    "                tmp.next = n1\n",
    "                n1 = n1.next\n",
    "            else:\n",
    "                tmp.next = n2\n",
    "                n2 = n2.next\n",
    "            tmp = tmp.next\n",
    "        tmp.next = n1 or n2\n",
    "        return dummy.next\n",
    "    def MergeTwoSortedLists2(self,n1,n2):\n",
    "        if not n1 or not n2:\n",
    "            return n1 or n2\n",
    "        if n1.val < n2.val:\n",
    "            n1.next = MergeTwoSortedLists2(n1.next,n2)\n",
    "            return n1\n",
    "        if n2.val < n1.val:\n",
    "            n2.next = MergeTwoSortedLists2(n1 n2.next)\n",
    "            return n2"
   ]
  },
  {
   "cell_type": "code",
   "execution_count": null,
   "metadata": {},
   "outputs": [],
   "source": [
    "26. Remove Duplicates from Sorted Array\n",
    "Given a sorted array nums, remove the duplicates in-place such that each element appear only once and return the new length.\n",
    "Do not allocate extra space for another array, you must do this by modifying the input array in-place with O(1) extra memory."
   ]
  },
  {
   "cell_type": "code",
   "execution_count": 8,
   "metadata": {},
   "outputs": [
    {
     "data": {
      "text/plain": [
       "[0, 1, 2, 3, 4]"
      ]
     },
     "execution_count": 8,
     "metadata": {},
     "output_type": "execute_result"
    }
   ],
   "source": [
    "class Solution():\n",
    "    def RemoveDuplicatesSortedArray(self, nums):\n",
    "        if not nums:\n",
    "            return (\"empty array\")\n",
    "        j=0\n",
    "        for i in range(1,len(nums)):\n",
    "            if nums[i]!=nums[j]:\n",
    "                j += 1\n",
    "                nums[j]=nums[i]\n",
    "        return nums[:j+1]\n",
    "\n",
    "nums=[0,0,1,1,1,2,2,3,3,4,4,4]\n",
    "a=Solution()\n",
    "a.RemoveDuplicatesSortedArray(nums)      \n",
    "        "
   ]
  },
  {
   "cell_type": "code",
   "execution_count": null,
   "metadata": {},
   "outputs": [],
   "source": [
    "27. Remove Element\n",
    "Given an array nums and a value val, remove all instances of that value in-place and return the new length.\n",
    "Do not allocate extra space for another array, you must do this by modifying the input array in-place with O(1) extra memory.\n",
    "The order of elements can be changed. It doesn't matter what you leave beyond the new length."
   ]
  },
  {
   "cell_type": "code",
   "execution_count": 9,
   "metadata": {},
   "outputs": [
    {
     "data": {
      "text/plain": [
       "[0, 1, 3, 0, 4]"
      ]
     },
     "execution_count": 9,
     "metadata": {},
     "output_type": "execute_result"
    }
   ],
   "source": [
    "class Solution():\n",
    "    def RemoveElement(self,nums,val):\n",
    "        if not nums: \n",
    "            return (\"empty array\")\n",
    "        j=0\n",
    "        for i in range(len(nums)):\n",
    "            if nums[i]!=val:\n",
    "                nums[j]=nums[i]\n",
    "                j += 1\n",
    "        return nums[:j]\n",
    "    \n",
    "nums, val =[0,1,2,2,3,0,4,2], 2\n",
    "a=Solution()\n",
    "a.RemoveElement(nums,val)  \n",
    "        "
   ]
  },
  {
   "cell_type": "code",
   "execution_count": null,
   "metadata": {},
   "outputs": [],
   "source": [
    "28. Implement strStr()\n",
    "Implement strStr().\n",
    "Return the index of the first occurrence of needle in haystack, or -1 if needle is not part of haystack."
   ]
  },
  {
   "cell_type": "code",
   "execution_count": 12,
   "metadata": {},
   "outputs": [
    {
     "data": {
      "text/plain": [
       "2"
      ]
     },
     "execution_count": 12,
     "metadata": {},
     "output_type": "execute_result"
    }
   ],
   "source": [
    "class Solution():\n",
    "    def strStr(self,strs,substr):\n",
    "        if len(strs)<len(substr):\n",
    "            return -1\n",
    "        for i in range(len(strs)-len(substr)+1):\n",
    "            if strs[i:i+len(substr)]==substr:\n",
    "                return i\n",
    "        return -1\n",
    "strs,substr=\"hello\",\"ll\"\n",
    "a=Solution()\n",
    "a.strStr(strs,substr)"
   ]
  },
  {
   "cell_type": "code",
   "execution_count": null,
   "metadata": {},
   "outputs": [],
   "source": [
    "35. Search Insert Position\n",
    "Given a sorted array and a target value, return the index if the target is found. If not, return the index where it would be if it were inserted in order.\n"
   ]
  },
  {
   "cell_type": "code",
   "execution_count": 16,
   "metadata": {},
   "outputs": [
    {
     "data": {
      "text/plain": [
       "3"
      ]
     },
     "execution_count": 16,
     "metadata": {},
     "output_type": "execute_result"
    }
   ],
   "source": [
    "class Solution():\n",
    "    def SearchInsertPosition(self,nums,target):\n",
    "        for i in range(len(nums)):\n",
    "            if nums[i]>=target:\n",
    "                return i\n",
    "        return len(nums)\n",
    "    def SearchInsertPosition2(self,nums,target):\n",
    "        low,high=0,len(nums)-1\n",
    "        while low<=high:\n",
    "            mid=(low+high)//2\n",
    "            if nums[mid]<target:\n",
    "                low=mid+1\n",
    "            else:\n",
    "                high=mid-1\n",
    "        return low\n",
    "nums,target = [1,3,5,7],6\n",
    "a=Solution()\n",
    "a.SearchInsertPosition2(nums,target)"
   ]
  },
  {
   "cell_type": "code",
   "execution_count": null,
   "metadata": {},
   "outputs": [],
   "source": [
    "38. Count and Say\n",
    "The count-and-say sequence is the sequence of integers with the first five terms as following:\n",
    "1.     1\n",
    "2.     11\n",
    "3.     21\n",
    "4.     1211\n",
    "5.     111221\n",
    "1 is read off as \"one 1\" or 11.\n",
    "11 is read off as \"two 1s\" or 21.\n",
    "21 is read off as \"one 2, then one 1\" or 1211.\n",
    "\n",
    "Given an integer n where 1 ≤ n ≤ 30, generate the nth term of the count-and-say sequence."
   ]
  },
  {
   "cell_type": "code",
   "execution_count": 17,
   "metadata": {},
   "outputs": [
    {
     "data": {
      "text/plain": [
       "'111221'"
      ]
     },
     "execution_count": 17,
     "metadata": {},
     "output_type": "execute_result"
    }
   ],
   "source": [
    "class Solution():\n",
    "    def CountandSay(self,n):\n",
    "        res=\"1\"\n",
    "        for i in range(n-1):\n",
    "            ch,tmp,count=res[0],'',0\n",
    "            for s in res:\n",
    "                if s==ch:\n",
    "                    count += 1\n",
    "                else:\n",
    "                    tmp += str(count)+ch\n",
    "                    ch=s\n",
    "                    count = 1\n",
    "            res=tmp + str(count)+ch\n",
    "        return res\n",
    "n=5\n",
    "a=Solution()\n",
    "a.CountandSay(n)"
   ]
  },
  {
   "cell_type": "code",
   "execution_count": null,
   "metadata": {},
   "outputs": [],
   "source": [
    "53. Maximum Subarray\n",
    "Given an integer array nums, find the contiguous subarray (containing at least one number) which has the largest sum and return its sum.\n"
   ]
  },
  {
   "cell_type": "code",
   "execution_count": 1,
   "metadata": {},
   "outputs": [
    {
     "data": {
      "text/plain": [
       "6"
      ]
     },
     "execution_count": 1,
     "metadata": {},
     "output_type": "execute_result"
    }
   ],
   "source": [
    "class Solution():\n",
    "    def MaximumSubarray(self,nums):\n",
    "        if not nums: return 0\n",
    "        curS = maxS = nums[0]\n",
    "        for n in nums[1:]:\n",
    "            curS = max(n,curS+n)\n",
    "            maxS = max(maxS,curS)\n",
    "        return maxS\n",
    "nums = [-2,1,-3,4,-1,2,1,-5,4]\n",
    "a=Solution()\n",
    "a.MaximumSubarray(nums)"
   ]
  },
  {
   "cell_type": "code",
   "execution_count": null,
   "metadata": {},
   "outputs": [],
   "source": [
    "58. Length of Last Word\n",
    "Given a string s consists of upper/lower-case alphabets and empty space characters ' ', return the length of last word in the string.\n",
    "\n"
   ]
  },
  {
   "cell_type": "code",
   "execution_count": 3,
   "metadata": {},
   "outputs": [
    {
     "data": {
      "text/plain": [
       "5"
      ]
     },
     "execution_count": 3,
     "metadata": {},
     "output_type": "execute_result"
    }
   ],
   "source": [
    "class Solution():\n",
    "    def LengthLastWord(self,s):\n",
    "        if len(s.split())==0: \n",
    "            return 0\n",
    "        else:\n",
    "            return len(s.split()[-1])\n",
    "s = \"Hello World\"\n",
    "a=Solution()\n",
    "a.LengthLastWord(s)"
   ]
  },
  {
   "cell_type": "code",
   "execution_count": null,
   "metadata": {},
   "outputs": [],
   "source": [
    "66. Plus One\n",
    "\n",
    "Given a non-empty array of digits representing a non-negative integer, plus one to the integer.\n",
    "The digits are stored such that the most significant digit is at the head of the list, and each element in the array contain a single digit.\n",
    "You may assume the integer does not contain any leading zero, except the number 0 itself.\n",
    "\n"
   ]
  },
  {
   "cell_type": "code",
   "execution_count": 5,
   "metadata": {},
   "outputs": [
    {
     "data": {
      "text/plain": [
       "[4, 3, 2, 2]"
      ]
     },
     "execution_count": 5,
     "metadata": {},
     "output_type": "execute_result"
    }
   ],
   "source": [
    "class Solution():\n",
    "    def PlusOne(self,nums):\n",
    "        carry=1\n",
    "        for i in range(len(nums)-1,-1,-1):\n",
    "            carry,nums[i]=divmod(nums[i]+carry,10)\n",
    "            if carry==0:\n",
    "                return nums\n",
    "        return [1]+nums\n",
    "nums = [4,3,2,1]\n",
    "a=Solution()\n",
    "a.PlusOne(nums)"
   ]
  },
  {
   "cell_type": "code",
   "execution_count": null,
   "metadata": {},
   "outputs": [],
   "source": [
    "67. Add Binary\n",
    "Given two binary strings, return their sum (also a binary string)."
   ]
  },
  {
   "cell_type": "code",
   "execution_count": 9,
   "metadata": {},
   "outputs": [
    {
     "data": {
      "text/plain": [
       "'10101'"
      ]
     },
     "execution_count": 9,
     "metadata": {},
     "output_type": "execute_result"
    }
   ],
   "source": [
    "class Solution():\n",
    "    def AddBinary(self,a,b):\n",
    "        i,j,carry,res=len(a)-1,len(b)-1,0,\"\"\n",
    "        while i>=0 or j>=0 or carry:\n",
    "            if i>=0: \n",
    "                carry += int(a[i])\n",
    "                i -= 1\n",
    "            if j>=0:\n",
    "                carry += int(b[j])\n",
    "                j -= 1\n",
    "            carry,d=divmod(carry,2)\n",
    "            res = str(d)+res\n",
    "        return res\n",
    "b1,b2=\"1010\",\"1011\"\n",
    "a=Solution()\n",
    "a.AddBinary(b1,b2)"
   ]
  },
  {
   "cell_type": "code",
   "execution_count": null,
   "metadata": {},
   "outputs": [],
   "source": [
    "69. Sqrt(x)\n",
    "Implement int sqrt(int x).\n",
    "\n",
    "Compute and return the square root of x, where x is guaranteed to be a non-negative integer.\n",
    "\n",
    "Since the return type is an integer, the decimal digits are truncated and only the integer part of the result is returned."
   ]
  },
  {
   "cell_type": "code",
   "execution_count": 14,
   "metadata": {},
   "outputs": [
    {
     "data": {
      "text/plain": [
       "2"
      ]
     },
     "execution_count": 14,
     "metadata": {},
     "output_type": "execute_result"
    }
   ],
   "source": [
    "class Solution():\n",
    "    def sqrt(self, x):\n",
    "        l,r=0,x\n",
    "        while l<=r:\n",
    "            mid = (l+r)//2\n",
    "            if mid*mid<=x<(mid+1)*(mid+1):\n",
    "                return mid\n",
    "            elif mid*mid < x:\n",
    "                l=mid+1\n",
    "            else:\n",
    "                r=mid\n",
    "x=8\n",
    "a=Solution()\n",
    "a.sqrt(x)"
   ]
  },
  {
   "cell_type": "code",
   "execution_count": null,
   "metadata": {},
   "outputs": [],
   "source": [
    "70. Climbing Stairs\n",
    "Each time you can either climb 1 or 2 steps. In how many distinct ways can you climb to the top?"
   ]
  },
  {
   "cell_type": "code",
   "execution_count": 18,
   "metadata": {},
   "outputs": [
    {
     "data": {
      "text/plain": [
       "89"
      ]
     },
     "execution_count": 18,
     "metadata": {},
     "output_type": "execute_result"
    }
   ],
   "source": [
    "class Solution():\n",
    "    def ClimbingStairs1(self,n):\n",
    "        a,b=1,1\n",
    "        for i in range(n):\n",
    "            a,b=b,a+b\n",
    "        return a\n",
    "    def ClimbingStairs(self,n):\n",
    "        res = [0 for i in range(n)]\n",
    "        res[0],res[1]=1,2\n",
    "        for i in range(2,n):\n",
    "            res[i]=res[i-1]+res[i-2]\n",
    "        return res[-1]\n",
    "n=10\n",
    "a=Solution()\n",
    "a.ClimbingStairs(n)"
   ]
  },
  {
   "cell_type": "code",
   "execution_count": null,
   "metadata": {},
   "outputs": [],
   "source": [
    "83. Remove Duplicates from Sorted List\n",
    "\n",
    "Given a sorted linked list, delete all duplicates such that each element appear only once.\n",
    "#26,27"
   ]
  },
  {
   "cell_type": "code",
   "execution_count": null,
   "metadata": {},
   "outputs": [],
   "source": [
    "class Solution():\n",
    "    def RemoveDuplicatesSortedList(self,head):\n",
    "        node=head\n",
    "        while node and node.next:\n",
    "            if node.val == node.next.val:\n",
    "                node.next = node.next.next\n",
    "            else:\n",
    "                node = node.next\n",
    "        return head\n"
   ]
  },
  {
   "cell_type": "code",
   "execution_count": null,
   "metadata": {},
   "outputs": [],
   "source": [
    "88. Merge Sorted Array\n",
    "\n",
    "Given two sorted integer arrays nums1 and nums2, merge nums2 into nums1 as one sorted array.\n",
    "\n",
    "Note:\n",
    "\n",
    "The number of elements initialized in nums1 and nums2 are m and n respectively.\n",
    "You may assume that nums1 has enough space (size that is greater or equal to m + n) to hold additional elements from nums2.\n",
    "\n",
    "#21"
   ]
  },
  {
   "cell_type": "code",
   "execution_count": 20,
   "metadata": {},
   "outputs": [
    {
     "data": {
      "text/plain": [
       "[1, 2, 2, 3, 5, 6]"
      ]
     },
     "execution_count": 20,
     "metadata": {},
     "output_type": "execute_result"
    }
   ],
   "source": [
    "class Solution():\n",
    "    def MergeSortedArray(self,nums1,m,nums2,n):\n",
    "        i,j,k=m-1,n-1,m+n-1\n",
    "        while i>=0 and j>=0:\n",
    "            if nums1[i]>nums2[j]:\n",
    "                nums1[k]=nums1[i]\n",
    "                i -= 1\n",
    "            else:\n",
    "                nums1[k]=nums2[j]\n",
    "                j -= 1\n",
    "            k -= 1\n",
    "        if j>=0:\n",
    "            nums1[:k+1]=nums2[:j+1]\n",
    "        return nums1\n",
    "    \n",
    "nums1,m,nums2,n=[1,2,3,0,0,0],3,[2,5,6],3\n",
    "a=Solution()\n",
    "a.MergeSortedArray(nums1,m,nums2,n)"
   ]
  },
  {
   "cell_type": "code",
   "execution_count": null,
   "metadata": {},
   "outputs": [],
   "source": [
    "100. Same Tree\n",
    "Share\n",
    "Given two binary trees, write a function to check if they are the same or not.\n",
    "\n",
    "Two binary trees are considered the same if they are structurally identical and the nodes have the same value."
   ]
  },
  {
   "cell_type": "code",
   "execution_count": null,
   "metadata": {},
   "outputs": [],
   "source": [
    "from collections\n",
    "class Solution():\n",
    "    def SameTree1(self, t1,t2):\n",
    "        if t1 and t2:\n",
    "            return t1.val==t2.val and SameTree(t1.left,t2.left) and SameTree(t1.right,t2.right)\n",
    "    \n",
    "    def SameTree(self, t1,t2):\n",
    "        q = collections.deque([t1,t2])\n",
    "        while q:\n",
    "            nd1,nd2 = q.popleft(),q.popleft()\n",
    "            if (not nd1 and nd2) or (nd1 and not nd2):\n",
    "                return False\n",
    "            elif (nd1 and nd2):\n",
    "                if nd1.val!=nd2.val:\n",
    "                    return False\n",
    "                else:\n",
    "                    q.append(nd1.left)\n",
    "                    q.append(nd2.left)\n",
    "                    q.append(nd1.right)\n",
    "                    q.append(nd2.right)\n",
    "        return True\n"
   ]
  },
  {
   "cell_type": "code",
   "execution_count": null,
   "metadata": {},
   "outputs": [],
   "source": [
    "101. Symmetric Tree\n",
    "Given a binary tree, check whether it is a mirror of itself (ie, symmetric around its center)."
   ]
  },
  {
   "cell_type": "code",
   "execution_count": null,
   "metadata": {},
   "outputs": [],
   "source": [
    "class Solution():\n",
    "    def SymmetricTree(self,root):\n",
    "        if not root: return True\n",
    "        return self.dfs(root.left,root.right)\n",
    "    def dfs(self,l,r):\n",
    "        if l and r:\n",
    "            return l.val==r.val and self.dfs(l.left,r.right) and self.dfs(l.right, r.left)\n",
    "        return l==r"
   ]
  },
  {
   "cell_type": "code",
   "execution_count": null,
   "metadata": {},
   "outputs": [],
   "source": [
    "104. Maximum Depth of Binary Tree\n",
    "\n",
    "Given a binary tree, find its maximum depth.\n",
    "\n",
    "The maximum depth is the number of nodes along the longest path from the root node down to the farthest leaf node."
   ]
  },
  {
   "cell_type": "code",
   "execution_count": null,
   "metadata": {},
   "outputs": [],
   "source": [
    "class Solution():\n",
    "    def MaximumDepthBinaryTree1(self,root):\n",
    "        if not root: return 0\n",
    "        else:\n",
    "            return max(self.MaximumDepthBinaryTree(root.left),self.MaximumDepthBinaryTree(root.right))+1\n",
    "    def MaximumDepthBinaryTree(self,root):\n",
    "        q,depth=collections.deque(),0\n",
    "        if root:\n",
    "            q.append(root)\n",
    "        while len(q):\n",
    "            depth += 1\n",
    "            for i in range(len(q)):\n",
    "                node=q.popleft()\n",
    "                if node.left:\n",
    "                    q.append(node.left)\n",
    "                if node.right:\n",
    "                    q.append(node.right)\n",
    "        return depth\n",
    "    \n",
    "    def MaximumDepthBinaryTree2(self,root):\n",
    "        if not root: return 0\n",
    "        q=collections.deque([root,1])\n",
    "        while q:\n",
    "            node, depth = q.popleft()\n",
    "            if node:\n",
    "                if node.left:\n",
    "                    q.append((node.left, depth+1))\n",
    "                if node.right:\n",
    "                    q.append((node.right, depth+1))\n",
    "        return depth\n",
    "    "
   ]
  },
  {
   "cell_type": "code",
   "execution_count": null,
   "metadata": {},
   "outputs": [],
   "source": [
    "107. Binary Tree Level Order Traversal II\n",
    "\n",
    "Given a binary tree, return the bottom-up level order traversal of its nodes' values. (ie, from left to right, level by level from leaf to root)."
   ]
  },
  {
   "cell_type": "code",
   "execution_count": null,
   "metadata": {},
   "outputs": [],
   "source": [
    "class Solution():\n",
    "    def BinaryTreeLevelOrderBottomUp1(self,root):\n",
    "        res=[]\n",
    "        self.dfs(root,0,res)\n",
    "        return res\n",
    "    def dfs(self,root,level,res):\n",
    "        if root:\n",
    "            if len(res)<level+1:\n",
    "                res.insert(0,[])\n",
    "            res[-(level+1)].append(root.val)\n",
    "            self.dfs(root.left,level+1,res)\n",
    "            self.dfs(root.right,level+1,res)\n",
    "    \n",
    "    def BinaryTreeLevelOrderBottomUp(self,root):\n",
    "        res,stack=[],[(root,0)]\n",
    "        while stack:\n",
    "            node,level=stack.pop()\n",
    "            if node:\n",
    "                if len(res)<level+1:\n",
    "                    res.insert(0,[])\n",
    "                res[-(level+1)].append(node.val)\n",
    "                stack.append((node.right,level+1))\n",
    "                stack.append((node.left,level+1))\n",
    "        return res\n",
    "    "
   ]
  },
  {
   "cell_type": "code",
   "execution_count": null,
   "metadata": {},
   "outputs": [],
   "source": [
    "108. Convert Sorted Array to Binary Search Tree\n",
    "\n",
    "Given an array where elements are sorted in ascending order, convert it to a height balanced BST.\n",
    "\n",
    "For this problem, a height-balanced binary tree is defined as a binary tree in which the depth of the two subtrees of every node never differ by more than 1."
   ]
  },
  {
   "cell_type": "code",
   "execution_count": null,
   "metadata": {},
   "outputs": [],
   "source": [
    "class Solution():\n",
    "    def SortedArraytoBinarySearchTree(self,nums):\n",
    "        l,r=0,len(nums)-1\n",
    "        if l<=r:\n",
    "            mid = (l+r)//2\n",
    "            root = TreeNode(nums[mid])\n",
    "            root.left=self.SortedArraytoBinarySearchTree(nums[:mid])\n",
    "            root.right=self.SortedArraytoBinarySearchTree(nums[mid+1:])\n",
    "            return root\n",
    "        "
   ]
  },
  {
   "cell_type": "code",
   "execution_count": null,
   "metadata": {},
   "outputs": [],
   "source": [
    "110. Balanced Binary Tree\n",
    "\n",
    "Given a binary tree, determine if it is height-balanced.\n",
    "\n",
    "For this problem, a height-balanced binary tree is defined as:\n",
    "\n",
    "a binary tree in which the depth of the two subtrees of every node never differ by more than 1.\n",
    "\n",
    "#"
   ]
  },
  {
   "cell_type": "code",
   "execution_count": null,
   "metadata": {},
   "outputs": [],
   "source": [
    "class Solution():\n",
    "    def BalancedBinaryTree(self,root):\n",
    "        if not root: return True\n",
    "        return abs(self.getHeight(root.left)-self.getHeight(root.right))<2 and self.BalancedBinaryTree(root.left) and self.BalancedBinaryTree(root.right)\n",
    "        \n",
    "    def getHeight(self.root):\n",
    "        if not root: return 0\n",
    "        return 1+max(self.getHeight(root.left), self.getHeight(root.right))\n"
   ]
  },
  {
   "cell_type": "code",
   "execution_count": null,
   "metadata": {},
   "outputs": [],
   "source": [
    "111. Minimum Depth of Binary Tree\n",
    "\n",
    "Given a binary tree, find its minimum depth.\n",
    "\n",
    "The minimum depth is the number of nodes along the shortest path from the root node down to the nearest leaf node.\n",
    "\n",
    "Note: A leaf is a node with no children.\n",
    "    \n",
    "#104"
   ]
  },
  {
   "cell_type": "code",
   "execution_count": null,
   "metadata": {},
   "outputs": [],
   "source": [
    "class Solution():\n",
    "    def MinimumDepthBinaryTree(self,root):\n",
    "        if not root: return 0\n",
    "        if None in [root.left,root.right]:\n",
    "            return max(self.MinimumDepthBinaryTree(root.left), self.MinimumDepthBinaryTree(root.right))\n",
    "        else:\n",
    "            return min(self.MinimumDepthBinaryTree(root.left), self.MinimumDepthBinaryTree(root.right))\n",
    "    \n",
    "    def MinimumDepthBinaryTree1(self,root):\n",
    "        if not root: return 0\n",
    "        q = collections.deque([root,1])\n",
    "        while q:\n",
    "            node,level = q.popleft()\n",
    "            if node:\n",
    "                if not node.left and not node.right:\n",
    "                    return level\n",
    "                else:\n",
    "                    q.append((node.left,level+1))\n",
    "                    q.append((node.right,level+1)            \n",
    "    "
   ]
  },
  {
   "cell_type": "code",
   "execution_count": null,
   "metadata": {},
   "outputs": [],
   "source": [
    "112. Path Sum\n",
    "\n",
    "Given a binary tree and a sum, determine if the tree has a root-to-leaf path such that adding up all the values along the path equals the given sum.\n",
    "\n",
    "Note: A leaf is a node with no children."
   ]
  },
  {
   "cell_type": "code",
   "execution_count": null,
   "metadata": {},
   "outputs": [],
   "source": [
    "class Solution():\n",
    "    def PathSum(self,root,target):\n",
    "        if not root: return False\n",
    "        stack=[(root,target)]\n",
    "        while stack:\n",
    "            node,ss=stack.pop()\n",
    "            if not node.left and not node.right and node.val==ss:\n",
    "                return True\n",
    "            if node.left:\n",
    "                stack.append((node.left,ss-node.val))\n",
    "            if node.right:\n",
    "                stack.append((node.right,ss-node.val))\n",
    "\n",
    "        "
   ]
  },
  {
   "cell_type": "code",
   "execution_count": null,
   "metadata": {},
   "outputs": [],
   "source": [
    "118. Pascal's Triangle\n",
    "\n",
    "Given a non-negative integer numRows, generate the first numRows of Pascal's triangle."
   ]
  },
  {
   "cell_type": "code",
   "execution_count": 25,
   "metadata": {},
   "outputs": [
    {
     "data": {
      "text/plain": [
       "[[1], [1, 1], [1, 2, 1], [1, 3, 3, 1], [1, 4, 6, 4, 1]]"
      ]
     },
     "execution_count": 25,
     "metadata": {},
     "output_type": "execute_result"
    }
   ],
   "source": [
    "class Solution():\n",
    "    def PascalTriangle(self,n):\n",
    "        res = [[1 for _ in range(i+1)] for i in range(n)]\n",
    "        for i in range(2,n):\n",
    "            for j in range(1,i):\n",
    "                res[i][j]=res[i-1][j-1]+res[i-1][j]\n",
    "        return res\n",
    "n=5\n",
    "a=Solution()\n",
    "a.PascalTriangle(n)"
   ]
  },
  {
   "cell_type": "code",
   "execution_count": null,
   "metadata": {},
   "outputs": [],
   "source": [
    "119. Pascal's Triangle II\n",
    "\n",
    "Given a non-negative index k where k ≤ 33, return the kth index row of the Pascal's triangle.\n",
    "\n",
    "Note that the row index starts from 0."
   ]
  },
  {
   "cell_type": "code",
   "execution_count": 30,
   "metadata": {},
   "outputs": [
    {
     "data": {
      "text/plain": [
       "[1, 3, 3, 1]"
      ]
     },
     "execution_count": 30,
     "metadata": {},
     "output_type": "execute_result"
    }
   ],
   "source": [
    "class Solution():\n",
    "    def PascalTriangleII(self,n):\n",
    "        res = [[1 for _ in range(i+1)] for i in range(n+1)]\n",
    "        for i in range(2,n+1):\n",
    "            for j in range(1,i):\n",
    "                res[i][j]=res[i-1][j-1]+res[i-1][j]\n",
    "        return res[-1]\n",
    "n=3\n",
    "a=Solution()\n",
    "a.PascalTriangleII(n)"
   ]
  },
  {
   "cell_type": "code",
   "execution_count": null,
   "metadata": {},
   "outputs": [],
   "source": [
    "121. Best Time to Buy and Sell Stock\n",
    "\n",
    "Say you have an array for which the ith element is the price of a given stock on day i.\n",
    "\n",
    "If you were only permitted to complete at most one transaction (i.e., buy one and sell one share of the stock), design an algorithm to find the maximum profit.\n",
    "\n",
    "Note that you cannot sell a stock before you buy one."
   ]
  },
  {
   "cell_type": "code",
   "execution_count": 32,
   "metadata": {},
   "outputs": [
    {
     "data": {
      "text/plain": [
       "0"
      ]
     },
     "execution_count": 32,
     "metadata": {},
     "output_type": "execute_result"
    }
   ],
   "source": [
    "class Solution():\n",
    "    def BestTimeStock(self,nums):\n",
    "        if not nums: return 0\n",
    "        mins,maxs = nums[0],0  #mins - min cost, maxs - max profit\n",
    "        for i in range(1,len(nums)):\n",
    "            mins = min(mins,nums[i])\n",
    "            maxs = max(maxs,nums[i]-mins)\n",
    "        return maxs\n",
    "nums=[7,1,5,3,6,4]\n",
    "a=Solution()\n",
    "a.BestTimeStock(nums)\n",
    "nums=[7,6,4,3,1]\n",
    "a.BestTimeStock(nums)"
   ]
  },
  {
   "cell_type": "code",
   "execution_count": null,
   "metadata": {},
   "outputs": [],
   "source": [
    "122. Best Time to Buy and Sell Stock II\n",
    "\n",
    "Say you have an array for which the ith element is the price of a given stock on day i.\n",
    "\n",
    "Design an algorithm to find the maximum profit. You may complete as many transactions as you like (i.e., buy one and sell one share of the stock multiple times).\n",
    "\n",
    "Note: You may not engage in multiple transactions at the same time (i.e., you must sell the stock before you buy again)."
   ]
  },
  {
   "cell_type": "code",
   "execution_count": 34,
   "metadata": {},
   "outputs": [
    {
     "data": {
      "text/plain": [
       "4"
      ]
     },
     "execution_count": 34,
     "metadata": {},
     "output_type": "execute_result"
    }
   ],
   "source": [
    "class Solution():\n",
    "    def BestTimeStockII(self,nums):\n",
    "        return sum([max(nums[i]-nums[i-1],0) for i in range(1,len(nums))])\n",
    "nums=[7,1,5,3,6,4]\n",
    "a=Solution()\n",
    "a.BestTimeStockII(nums)\n",
    "nums=[1,2,3,4,5]\n",
    "a=Solution()\n",
    "a.BestTimeStockII(nums)\n"
   ]
  },
  {
   "cell_type": "code",
   "execution_count": null,
   "metadata": {},
   "outputs": [],
   "source": [
    "125. Valid Palindrome\n",
    "\n",
    "Given a string, determine if it is a palindrome, considering only alphanumeric characters and ignoring cases.\n",
    "\n",
    "Note: For the purpose of this problem, we define empty string as valid palindrome.\n",
    "    \n",
    "#9"
   ]
  },
  {
   "cell_type": "code",
   "execution_count": 35,
   "metadata": {},
   "outputs": [
    {
     "data": {
      "text/plain": [
       "True"
      ]
     },
     "execution_count": 35,
     "metadata": {},
     "output_type": "execute_result"
    }
   ],
   "source": [
    "import re\n",
    "class Solution():\n",
    "    def ValidPalindrome(self,s):\n",
    "        ss = \"\".join(re.findall(\"[a-zA-Z0-9]*\",s)).lower()\n",
    "        return ss==ss[::-1]\n",
    "\n",
    "strs=\"A man, a plan, a canal: Panama\"\n",
    "a = Solution()\n",
    "a.ValidPalindrome(strs)"
   ]
  },
  {
   "cell_type": "code",
   "execution_count": null,
   "metadata": {},
   "outputs": [],
   "source": [
    "136. Single Number\n",
    "\n",
    "Given a non-empty array of integers, every element appears twice except for one. Find that single one.\n"
   ]
  },
  {
   "cell_type": "code",
   "execution_count": 36,
   "metadata": {},
   "outputs": [
    {
     "data": {
      "text/plain": [
       "4"
      ]
     },
     "execution_count": 36,
     "metadata": {},
     "output_type": "execute_result"
    }
   ],
   "source": [
    "class Solution():\n",
    "    def SingleNumber(self,nums):\n",
    "        res=0\n",
    "        for n in nums:\n",
    "            res ^= n\n",
    "        return res\n",
    "nums=[4,1,2,1,2]\n",
    "a = Solution()\n",
    "a.SingleNumber(nums)"
   ]
  },
  {
   "cell_type": "code",
   "execution_count": null,
   "metadata": {},
   "outputs": [],
   "source": [
    "141. Linked List Cycle\n",
    "\n",
    "Given a linked list, determine if it has a cycle in it.\n",
    "\n",
    "To represent a cycle in the given linked list, we use an integer pos which represents the position (0-indexed) in the linked list where tail connects to. If pos is -1, then there is no cycle in the linked list.\n"
   ]
  },
  {
   "cell_type": "code",
   "execution_count": null,
   "metadata": {},
   "outputs": [],
   "source": [
    "class Solution():\n",
    "    def LinkedListCycle(self,head):\n",
    "        fast=slow=head\n",
    "        while fast and fast.next:\n",
    "            fast = fast.next.next\n",
    "            slow = slow.next\n",
    "            if fast == slow:\n",
    "                return True\n",
    "        return False\n"
   ]
  },
  {
   "cell_type": "code",
   "execution_count": null,
   "metadata": {},
   "outputs": [],
   "source": [
    "155. Min Stack\n",
    "\n",
    "Design a stack that supports push, pop, top, and retrieving the minimum element in constant time.\n",
    "\n",
    "push(x) -- Push element x onto stack.\n",
    "pop() -- Removes the element on top of the stack.\n",
    "top() -- Get the top element.\n",
    "getMin() -- Retrieve the minimum element in the stack.\n",
    " "
   ]
  },
  {
   "cell_type": "code",
   "execution_count": null,
   "metadata": {},
   "outputs": [],
   "source": [
    "class MinStack:\n",
    "    def __int__(self):\n",
    "        self.stk = []\n",
    "        \n",
    "    def getMin(self):\n",
    "        return self.stk[-1][1]    \n",
    "    def top(self):\n",
    "        return self.stk[-1][0]\n",
    "    \n",
    "    def pop(self):\n",
    "        self.stk.pop()\n",
    "        return\n",
    "        \n",
    "    def push(self,x):\n",
    "        if len(self.stk)==0:\n",
    "            self.stk.append(x,x)\n",
    "        else:\n",
    "            minx = min(x,self.stk[-1][1])\n",
    "            self.stk.append(x,minx)\n",
    "        \n",
    "        "
   ]
  },
  {
   "cell_type": "code",
   "execution_count": null,
   "metadata": {},
   "outputs": [],
   "source": [
    "157. Read N Characters Given Read4\n",
    "\n",
    "The API: int read4(char *buf) reads 4 characters at a time from a file.\n",
    "\n",
    "The return value is the actual number of characters read. For example, it returns 3 if there is only 3 characters left in the file.\n",
    "\n",
    "By using the read4 API, implement the function int read(char *buf, int n) that reads n characters from the file.\n",
    "\n",
    "Note: The read function will only be called once for each test case.\n",
    "\n"
   ]
  },
  {
   "cell_type": "code",
   "execution_count": 38,
   "metadata": {},
   "outputs": [],
   "source": [
    "class Solution():\n",
    "    def read(self,buf,n):\n",
    "        size,buf4=0,['']*4\n",
    "        while size<n:\n",
    "            size4 = read4(buf4)\n",
    "            if not size4: \n",
    "                break\n",
    "            size4 = min(size4, n-size)\n",
    "            buf[size:]=buf4[:size4]\n",
    "            size += size4\n",
    "        return size\n",
    "            \n",
    "buf, n = \"abcde\", 5\n",
    "a=Solution()\n",
    "a.read(buf,n)"
   ]
  },
  {
   "cell_type": "code",
   "execution_count": null,
   "metadata": {},
   "outputs": [],
   "source": [
    "160. Intersection of Two Linked Lists\n",
    "\n",
    "Write a program to find the node at which the intersection of two singly linked lists begins."
   ]
  },
  {
   "cell_type": "code",
   "execution_count": null,
   "metadata": {},
   "outputs": [],
   "source": [
    "class Solution():\n",
    "    def IntersectionTwoLinkedLists(self,h1,h2):\n",
    "        if h1 is None or h2 is None: return None\n",
    "        p1,p2=h1,h2 \n",
    "        while p1 is not p2:\n",
    "            p1 = h2 if p1 is None else p1.next\n",
    "            p2 = h1 if p2 is None else p2.next\n",
    "        return p1"
   ]
  },
  {
   "cell_type": "code",
   "execution_count": null,
   "metadata": {},
   "outputs": [],
   "source": [
    "167. Two Sum II - Input array is sorted\n",
    "\n",
    "Given an array of integers that is already sorted in ascending order, find two numbers such that they add up to a specific target number.\n",
    "\n",
    "The function twoSum should return indices of the two numbers such that they add up to the target, where index1 must be less than index2.\n",
    "\n",
    "Note:\n",
    "\n",
    "Your returned answers (both index1 and index2) are not zero-based.\n",
    "You may assume that each input would have exactly one solution and you may not use the same element twice.\n",
    "\n",
    "#1\n"
   ]
  },
  {
   "cell_type": "code",
   "execution_count": 42,
   "metadata": {},
   "outputs": [
    {
     "data": {
      "text/plain": [
       "[1, 2]"
      ]
     },
     "execution_count": 42,
     "metadata": {},
     "output_type": "execute_result"
    }
   ],
   "source": [
    "class Solution():\n",
    "    def TwoSumII(self,nums,target):\n",
    "        for i in range(len(nums)):\n",
    "            l,r,tmp=i+1,len(nums)-1,target-nums[i]\n",
    "            while l<=r:\n",
    "                mid = (l+r)//2\n",
    "                if nums[mid]==tmp:\n",
    "                    return [i+1,mid+1]\n",
    "                elif nums[mid]<tmp:\n",
    "                    l = mid+1\n",
    "                else:\n",
    "                    r = mid-1\n",
    "\n",
    "nums,target=[2,7,11,15],9\n",
    "a=Solution()\n",
    "a.TwoSumII(nums,target)\n",
    "        "
   ]
  },
  {
   "cell_type": "code",
   "execution_count": null,
   "metadata": {},
   "outputs": [],
   "source": [
    "168. Excel Sheet Column Title\n",
    "Given a positive integer, return its corresponding column title as appear in an Excel sheet."
   ]
  },
  {
   "cell_type": "code",
   "execution_count": 43,
   "metadata": {},
   "outputs": [
    {
     "data": {
      "text/plain": [
       "'ZY'"
      ]
     },
     "execution_count": 43,
     "metadata": {},
     "output_type": "execute_result"
    }
   ],
   "source": [
    "class Solution():\n",
    "    def ExcelColumnTitle(self,n):\n",
    "        dic = [chr(x) for x in range(ord('A'),ord('Z')+1)]\n",
    "        res=''\n",
    "        while n>0:\n",
    "            n,rem=divmod(n-1,26)\n",
    "            res = dic[rem]+res\n",
    "        return res\n",
    "n=701\n",
    "a=Solution()\n",
    "a.ExcelColumnTitle(n)"
   ]
  },
  {
   "cell_type": "code",
   "execution_count": null,
   "metadata": {},
   "outputs": [],
   "source": [
    "169. Majority Element\n",
    "\n",
    "Given an array of size n, find the majority element. The majority element is the element that appears more than ⌊ n/2 ⌋ times.\n",
    "\n",
    "You may assume that the array is non-empty and the majority element always exist in the array.\n",
    "\n"
   ]
  },
  {
   "cell_type": "code",
   "execution_count": 44,
   "metadata": {},
   "outputs": [
    {
     "data": {
      "text/plain": [
       "2"
      ]
     },
     "execution_count": 44,
     "metadata": {},
     "output_type": "execute_result"
    }
   ],
   "source": [
    "class Solution():\n",
    "    def MajorityElement(self,nums):\n",
    "        dic={}\n",
    "        for n in nums:\n",
    "            dic[n]=dic.get(n,0)+1\n",
    "            if dic[n]>len(nums)//2:\n",
    "                return n\n",
    "nums=[2,2,1,1,1,2,2]\n",
    "a=Solution()\n",
    "a.MajorityElement(nums)"
   ]
  },
  {
   "cell_type": "code",
   "execution_count": null,
   "metadata": {},
   "outputs": [],
   "source": [
    "170. Two Sum III - Data structure design.\n",
    "Design and implement a TwoSum class. It should support the following\n",
    "operations: add and find.\n",
    "add - Add the number to an internal data structure.\n",
    "find - Find if there exists any pair of numbers which sum is equal to the\n",
    "value.\n",
    "For example,\n",
    "    add(1); add(3); add(5);\n",
    "    find(4) -> true\n",
    "    find(7) -> false\n",
    "\n",
    "#1, 167"
   ]
  },
  {
   "cell_type": "code",
   "execution_count": null,
   "metadata": {},
   "outputs": [],
   "source": [
    "class TwoSumIII():\n",
    "    def __init__(self):\n",
    "        self.dic={}\n",
    "    \n",
    "    def add(self,n):\n",
    "        self.dic[n]=self.dic.get(n,0)+1\n",
    "    \n",
    "    def find(self,target):\n",
    "        for m in self.dic:\n",
    "            if target-m in self.dic and (target-m != m or self.dic[m]>1):\n",
    "                return True\n",
    "        return False"
   ]
  },
  {
   "cell_type": "code",
   "execution_count": null,
   "metadata": {},
   "outputs": [],
   "source": [
    "171. Excel Sheet Column Number\n",
    "\n",
    "Given a column title as appear in an Excel sheet, return its corresponding column number.\n",
    "#168\n"
   ]
  },
  {
   "cell_type": "code",
   "execution_count": 45,
   "metadata": {},
   "outputs": [
    {
     "data": {
      "text/plain": [
       "701"
      ]
     },
     "execution_count": 45,
     "metadata": {},
     "output_type": "execute_result"
    }
   ],
   "source": [
    "class Solution():\n",
    "    def ExcelColumnNumber(self,s):\n",
    "        res = 0\n",
    "        for c in s:\n",
    "            res = res*26 + ord(c)-ord('A')+1\n",
    "        return res\n",
    "\n",
    "strs='ZY'\n",
    "a=Solution()\n",
    "a.ExcelColumnNumber(strs)"
   ]
  },
  {
   "cell_type": "code",
   "execution_count": null,
   "metadata": {},
   "outputs": [],
   "source": [
    "172. Factorial Trailing Zeroes\n",
    "\n",
    "Given an integer n, return the number of trailing zeroes in n!."
   ]
  },
  {
   "cell_type": "code",
   "execution_count": 48,
   "metadata": {},
   "outputs": [
    {
     "data": {
      "text/plain": [
       "1"
      ]
     },
     "execution_count": 48,
     "metadata": {},
     "output_type": "execute_result"
    }
   ],
   "source": [
    "class Solution():\n",
    "    def FactorialTrailingZeroes(self,n):\n",
    "        k,count=5,0\n",
    "        while k<=n:\n",
    "            count += n//k\n",
    "            k = k*5\n",
    "        return count\n",
    "n=5\n",
    "a=Solution()\n",
    "a.FactorialTrailingZeroes(n)"
   ]
  },
  {
   "cell_type": "code",
   "execution_count": null,
   "metadata": {},
   "outputs": [],
   "source": [
    "175. Combine Two Tables\n",
    "\n",
    "SQL Schema\n",
    "Table: Person\n",
    "\n",
    "+-------------+---------+\n",
    "| Column Name | Type    |\n",
    "+-------------+---------+\n",
    "| PersonId    | int     |\n",
    "| FirstName   | varchar |\n",
    "| LastName    | varchar |\n",
    "+-------------+---------+\n",
    "PersonId is the primary key column for this table.\n",
    "Table: Address\n",
    "\n",
    "+-------------+---------+\n",
    "| Column Name | Type    |\n",
    "+-------------+---------+\n",
    "| AddressId   | int     |\n",
    "| PersonId    | int     |\n",
    "| City        | varchar |\n",
    "| State       | varchar |\n",
    "+-------------+---------+\n",
    "AddressId is the primary key column for this table.\n",
    " \n",
    "\n",
    "Write a SQL query for a report that provides the following information for each person in the Person table, regardless if there is an address for each of those people:\n",
    "\n",
    "FirstName, LastName, City, State"
   ]
  },
  {
   "cell_type": "code",
   "execution_count": null,
   "metadata": {},
   "outputs": [],
   "source": [
    "select FirstName, LastName, City, State from Person P left join Address A on P.personId=A.PeronId;\n"
   ]
  },
  {
   "cell_type": "code",
   "execution_count": null,
   "metadata": {},
   "outputs": [],
   "source": [
    "176. Second Highest Salary\n",
    "\n",
    "SQL Schema\n",
    "Write a SQL query to get the second highest salary from the Employee table.\n",
    "\n",
    "+----+--------+\n",
    "| Id | Salary |\n",
    "+----+--------+\n",
    "| 1  | 100    |\n",
    "| 2  | 200    |\n",
    "| 3  | 300    |\n",
    "+----+--------+"
   ]
  },
  {
   "cell_type": "code",
   "execution_count": null,
   "metadata": {},
   "outputs": [],
   "source": [
    "select Id, max(Salary) as Salary from Employee where Salary<(select max(Salary) from Employee);\n"
   ]
  },
  {
   "cell_type": "code",
   "execution_count": null,
   "metadata": {},
   "outputs": [],
   "source": [
    "181. Employees Earning More Than Their Managers\n",
    "\n",
    "SQL Schema\n",
    "The Employee table holds all employees including their managers. Every employee has an Id, and there is also a column for the manager Id.\n",
    "\n",
    "+----+-------+--------+-----------+\n",
    "| Id | Name  | Salary | ManagerId |\n",
    "+----+-------+--------+-----------+\n",
    "| 1  | Joe   | 70000  | 3         |\n",
    "| 2  | Henry | 80000  | 4         |\n",
    "| 3  | Sam   | 60000  | NULL      |\n",
    "| 4  | Max   | 90000  | NULL      |\n",
    "+----+-------+--------+-----------+"
   ]
  },
  {
   "cell_type": "code",
   "execution_count": null,
   "metadata": {},
   "outputs": [],
   "source": [
    "select a.Name from Employee A join Employee B on A.ManagerId=B.Id and A.Salary>B.Salary;\n"
   ]
  },
  {
   "cell_type": "code",
   "execution_count": null,
   "metadata": {},
   "outputs": [],
   "source": [
    "182. Duplicate Emails\n",
    "\n",
    "SQL Schema\n",
    "Write a SQL query to find all duplicate emails in a table named Person.\n",
    "\n",
    "+----+---------+\n",
    "| Id | Email   |\n",
    "+----+---------+\n",
    "| 1  | a@b.com |\n",
    "| 2  | c@d.com |\n",
    "| 3  | a@b.com |\n",
    "+----+---------+"
   ]
  },
  {
   "cell_type": "code",
   "execution_count": null,
   "metadata": {},
   "outputs": [],
   "source": [
    "select Email from (select Email, count(Email) as num from Person group by Email) as A where num>1;\n"
   ]
  },
  {
   "cell_type": "code",
   "execution_count": null,
   "metadata": {},
   "outputs": [],
   "source": [
    "183. Customers Who Never Order\n",
    "\n",
    "SQL Schema\n",
    "Suppose that a website contains two tables, the Customers table and the Orders table. Write a SQL query to find all customers who never order anything.\n",
    "\n",
    "Table: Customers.\n",
    "\n",
    "+----+-------+\n",
    "| Id | Name  |\n",
    "+----+-------+\n",
    "| 1  | Joe   |\n",
    "| 2  | Henry |\n",
    "| 3  | Sam   |\n",
    "| 4  | Max   |\n",
    "+----+-------+\n",
    "Table: Orders.\n",
    "\n",
    "+----+------------+\n",
    "| Id | CustomerId |\n",
    "+----+------------+\n",
    "| 1  | 3          |\n",
    "| 2  | 1          |\n",
    "+----+------------+"
   ]
  },
  {
   "cell_type": "code",
   "execution_count": null,
   "metadata": {},
   "outputs": [],
   "source": [
    "select Name from Customers where Id not in (select distinct CustomerId from Orders)"
   ]
  },
  {
   "cell_type": "code",
   "execution_count": null,
   "metadata": {},
   "outputs": [],
   "source": [
    "189. Rotate Array\n",
    "\n",
    "Given an array, rotate the array to the right by k steps, where k is non-negative.\n",
    "\n"
   ]
  },
  {
   "cell_type": "code",
   "execution_count": 49,
   "metadata": {},
   "outputs": [
    {
     "data": {
      "text/plain": [
       "[5, 6, 7, 1, 2, 3, 4]"
      ]
     },
     "execution_count": 49,
     "metadata": {},
     "output_type": "execute_result"
    }
   ],
   "source": [
    "class Solution():\n",
    "    def RotateArray(self,nums,k):\n",
    "        if not nums or not k: return None\n",
    "        k %= len(nums)\n",
    "        if k:\n",
    "            nums[:k],nums[k:]=nums[-k:],nums[:-k]\n",
    "        return nums\n",
    "nums,k=[1,2,3,4,5,6,7],3\n",
    "a=Solution()\n",
    "a.RotateArray(nums,k)"
   ]
  },
  {
   "cell_type": "code",
   "execution_count": null,
   "metadata": {},
   "outputs": [],
   "source": [
    "190. Reverse Bits\n",
    "\n",
    "Reverse bits of a given 32 bits unsigned integer."
   ]
  },
  {
   "cell_type": "code",
   "execution_count": 52,
   "metadata": {},
   "outputs": [
    {
     "data": {
      "text/plain": [
       "3221225471"
      ]
     },
     "execution_count": 52,
     "metadata": {},
     "output_type": "execute_result"
    }
   ],
   "source": [
    "class Solution():\n",
    "    def ReverseBits(self,n):\n",
    "        res=0\n",
    "        for i in range(32):\n",
    "            res = res*2 + n%2\n",
    "            n //= 2\n",
    "        return res\n",
    "n=43261596\n",
    "a=Solution()\n",
    "a.ReverseBits(n)\n",
    "n=4294967293\n",
    "a.ReverseBits(n)"
   ]
  },
  {
   "cell_type": "code",
   "execution_count": null,
   "metadata": {},
   "outputs": [],
   "source": [
    "191. Number of 1 Bits\n",
    "\n",
    "Write a function that takes an unsigned integer and return the number of '1' bits it has (also known as the Hamming weight).\n",
    "\n"
   ]
  },
  {
   "cell_type": "code",
   "execution_count": 54,
   "metadata": {},
   "outputs": [
    {
     "data": {
      "text/plain": [
       "3"
      ]
     },
     "execution_count": 54,
     "metadata": {},
     "output_type": "execute_result"
    }
   ],
   "source": [
    "class Solution():\n",
    "    def NumberOneBits(self,n):\n",
    "        res=0\n",
    "        for i in range(32):\n",
    "            res += n%2\n",
    "            n //= 2\n",
    "        return res\n",
    "n=11\n",
    "a=Solution()\n",
    "a.NumberOneBits(n)"
   ]
  },
  {
   "cell_type": "code",
   "execution_count": null,
   "metadata": {},
   "outputs": [],
   "source": [
    "193. Valid Phone Numbers\n",
    "\n",
    "Given a text file file.txt that contains list of phone numbers (one per line), write a one liner bash script to print all valid phone numbers.\n",
    "\n",
    "You may assume that a valid phone number must appear in one of the following two formats: (xxx) xxx-xxxx or xxx-xxx-xxxx. (x means a digit)\n",
    "\n",
    "You may also assume each line in the text file must not contain leading or trailing white spaces."
   ]
  },
  {
   "cell_type": "code",
   "execution_count": null,
   "metadata": {},
   "outputs": [],
   "source": [
    "egrep -o \"^( ([0-9]{3}\\-) | (\\([0-9]{3}\\)) ){1} [0-9]{3}\\-[0-9]{4}$\" file.txt"
   ]
  },
  {
   "cell_type": "code",
   "execution_count": null,
   "metadata": {},
   "outputs": [],
   "source": [
    "195. Tenth Line\n",
    "\n",
    "Given a text file file.txt, print just the 10th line of the file."
   ]
  },
  {
   "cell_type": "code",
   "execution_count": null,
   "metadata": {},
   "outputs": [],
   "source": [
    "awk 'NR==10' file.txt\n",
    "sed -n '10p'< file.txt\n",
    "tail -n +10 file.txt | head -n 1"
   ]
  },
  {
   "cell_type": "code",
   "execution_count": null,
   "metadata": {},
   "outputs": [],
   "source": [
    "196. Delete Duplicate Emails\n",
    "\n",
    "Write a SQL query to delete all duplicate email entries in a table named Person, keeping only unique emails based on its smallest Id.\n",
    "\n",
    "+----+------------------+\n",
    "| Id | Email            |\n",
    "+----+------------------+\n",
    "| 1  | john@example.com |\n",
    "| 2  | bob@example.com  |\n",
    "| 3  | john@example.com |\n",
    "+----+------------------+\n",
    "Id is the primary key column for this table."
   ]
  },
  {
   "cell_type": "code",
   "execution_count": null,
   "metadata": {},
   "outputs": [],
   "source": [
    "delete p1 from Person p1, Person p2 where p1.Email=p2.Email and p1.Id>p2.Id;"
   ]
  },
  {
   "cell_type": "code",
   "execution_count": null,
   "metadata": {},
   "outputs": [],
   "source": [
    "197. Rising Temperature\n",
    "\n",
    "SQL Schema\n",
    "Given a Weather table, write a SQL query to find all dates' Ids with higher temperature compared to its previous (yesterday's) dates.\n",
    "\n",
    "+---------+------------------+------------------+\n",
    "| Id(INT) | RecordDate(DATE) | Temperature(INT) |\n",
    "+---------+------------------+------------------+\n",
    "|       1 |       2015-01-01 |               10 |\n",
    "|       2 |       2015-01-02 |               25 |\n",
    "|       3 |       2015-01-03 |               20 |\n",
    "|       4 |       2015-01-04 |               30 |\n",
    "+---------+------------------+------------------+"
   ]
  },
  {
   "cell_type": "code",
   "execution_count": null,
   "metadata": {},
   "outputs": [],
   "source": [
    "select a.Id from Weather a inner join Weather b on a.Temperature>b.Temperature and DATEDIFF(a.RecordDate,b.RecordDate)=1;\n"
   ]
  },
  {
   "cell_type": "code",
   "execution_count": null,
   "metadata": {},
   "outputs": [],
   "source": [
    "198. House Robber\n",
    "\n",
    "You are a professional robber planning to rob houses along a street. Each house has a certain amount of money stashed, the only constraint stopping you from robbing each of them is that adjacent houses have security system connected and it will automatically contact the police if two adjacent houses were broken into on the same night.\n",
    "\n",
    "Given a list of non-negative integers representing the amount of money of each house, determine the maximum amount of money you can rob tonight without alerting the police.\n",
    "\n"
   ]
  },
  {
   "cell_type": "code",
   "execution_count": 56,
   "metadata": {},
   "outputs": [
    {
     "data": {
      "text/plain": [
       "4"
      ]
     },
     "execution_count": 56,
     "metadata": {},
     "output_type": "execute_result"
    }
   ],
   "source": [
    "class Solution():\n",
    "    def HouseRobber(self,nums):\n",
    "        last,now=0,0\n",
    "        for i in nums:\n",
    "            last,now=now,max(last+i,now)\n",
    "        return now\n",
    "    \n",
    "nums=[2,7,9,3,1]\n",
    "a=Solution()\n",
    "a.HouseRobber(nums)\n",
    "nums=[1,2,3,1]\n",
    "a.HouseRobber(nums)"
   ]
  },
  {
   "cell_type": "code",
   "execution_count": null,
   "metadata": {},
   "outputs": [],
   "source": [
    "202. Happy Number\n",
    "\n",
    "Write an algorithm to determine if a number is \"happy\".\n",
    "\n",
    "A happy number is a number defined by the following process: Starting with any positive integer, replace the number by the sum of the squares of its digits, and repeat the process until the number equals 1 (where it will stay), or it loops endlessly in a cycle which does not include 1. Those numbers for which this process ends in 1 are happy numbers.\n",
    "\n",
    "Example: \n",
    "\n",
    "Input: 19\n",
    "Output: true\n",
    "Explanation: \n",
    "12 + 92 = 82\n",
    "82 + 22 = 68\n",
    "62 + 82 = 100\n",
    "12 + 02 + 02 = 1"
   ]
  },
  {
   "cell_type": "code",
   "execution_count": 1,
   "metadata": {},
   "outputs": [
    {
     "name": "stdout",
     "output_type": "stream",
     "text": [
      "{19: 1, 82: 1, 68: 1, 100: 1}\n"
     ]
    },
    {
     "data": {
      "text/plain": [
       "True"
      ]
     },
     "execution_count": 1,
     "metadata": {},
     "output_type": "execute_result"
    }
   ],
   "source": [
    "class Solution():\n",
    "    def HappyNumber(self,n):\n",
    "        dic = {}\n",
    "        while n!=1 and n not in dic:\n",
    "            dic[n]=dic.get(n,0)+1\n",
    "            n = sum(int(c)**2 for c in str(n))\n",
    "        print(dic)\n",
    "        return n==1\n",
    "n=19\n",
    "a=Solution()\n",
    "a.HappyNumber(n)\n",
    "            "
   ]
  },
  {
   "cell_type": "code",
   "execution_count": null,
   "metadata": {},
   "outputs": [],
   "source": [
    "203. Remove Linked List Elements\n",
    "\n",
    "Remove all elements from a linked list of integers that have value val."
   ]
  },
  {
   "cell_type": "code",
   "execution_count": null,
   "metadata": {},
   "outputs": [],
   "source": [
    "class Solution():\n",
    "    def RemoveLinkedList(self,head,val):\n",
    "        dummy = pre = ListNode(0)\n",
    "        dummy.next = head\n",
    "        while head:\n",
    "            if head.val == val:\n",
    "                pre.next = head.next\n",
    "            else:\n",
    "                pre = pre.next\n",
    "            head = head.next\n",
    "        return dummy.next\n"
   ]
  },
  {
   "cell_type": "code",
   "execution_count": null,
   "metadata": {},
   "outputs": [],
   "source": [
    "204. Count Primes\n",
    "\n",
    "Count the number of prime numbers less than a non-negative number, n."
   ]
  },
  {
   "cell_type": "code",
   "execution_count": 68,
   "metadata": {},
   "outputs": [
    {
     "name": "stdout",
     "output_type": "stream",
     "text": [
      "[2, 3, 5, 7]\n",
      "2\n",
      "3\n",
      "5\n",
      "7\n"
     ]
    },
    {
     "data": {
      "text/plain": [
       "4"
      ]
     },
     "execution_count": 68,
     "metadata": {},
     "output_type": "execute_result"
    }
   ],
   "source": [
    "class Solution():\n",
    "    def CountPrimes(self,n):\n",
    "        if n<=2: return 0\n",
    "        res = [1]*n\n",
    "        res[0]=res[1]=0\n",
    "        for i in range(2,int(n**1/2)+1):\n",
    "            if res[i]:\n",
    "                res[i*i:n:i]=[0]*len(res[i*i:n:i])\n",
    "        #print(res)\n",
    "        #for i, v in enumerate(res):\n",
    "            #if v: print(i)\n",
    "        print ([i for i in range(n) if res[i]])\n",
    "        return sum(res)\n",
    "    \n",
    "    def CountPrimes2(self, n):\n",
    "        if n <= 2:\n",
    "            return 0\n",
    "        res = [True] * n\n",
    "        res[0] = res[1] = False\n",
    "        for i in range(2, n):\n",
    "            if res[i] == True:\n",
    "                print(i)\n",
    "                for j in range(2, (n-1)//i+1):\n",
    "                    res[i*j] = False\n",
    "        return sum(res)\n",
    "\n",
    "n=10\n",
    "a=Solution()\n",
    "a.CountPrimes(n)\n",
    "n=10\n",
    "a=Solution()\n",
    "a.CountPrimes2(n)"
   ]
  },
  {
   "cell_type": "code",
   "execution_count": null,
   "metadata": {},
   "outputs": [],
   "source": [
    "205. Isomorphic Strings\n",
    "\n",
    "Given two strings s and t, determine if they are isomorphic.\n",
    "\n",
    "Two strings are isomorphic if the characters in s can be replaced to get t.\n",
    "\n",
    "All occurrences of a character must be replaced with another character while preserving the order of characters. No two characters may map to the same character but a character may map to itself."
   ]
  },
  {
   "cell_type": "code",
   "execution_count": null,
   "metadata": {},
   "outputs": [],
   "source": [
    "class Solution():\n",
    "    def IsomorphicStrings(self,s,t):\n",
    "        return map(s.find,s)==map(t.find.t)\n",
    "    \n",
    "    def IsomorphicStrings2(self,s,t):\n",
    "        return [s.find(i) for i in s] == [t.find(j) for j in t]\n",
    "    \n",
    "    def IsomorphicStrings3(self, s, t):\n",
    "        d1, d2 = {}, {}\n",
    "        for i, val in enumerate(s):\n",
    "            d1[val] = d1.get(val, []) + [i]\n",
    "        for i, val in enumerate(t):\n",
    "            d2[val] = d2.get(val, []) + [i]\n",
    "        return sorted(d1.values()) == sorted(d2.values())\n",
    "    \n",
    "    def IsomorphicStrings4(self, s, t):\n",
    "        d1, d2 = [[] for _ in range(26)], [[] for _ in range(26)]\n",
    "        for i, val in enumerate(s.lower()):\n",
    "            d1[ord(val)-ord('a')].append(i)\n",
    "        for i, val in enumerate(t.lower()):\n",
    "            d2[ord(val)-ord('a')].append(i)\n",
    "        return sorted(d1) == sorted(d2)"
   ]
  },
  {
   "cell_type": "code",
   "execution_count": 80,
   "metadata": {},
   "outputs": [
    {
     "name": "stdout",
     "output_type": "stream",
     "text": [
      "paper PAPER\n",
      "[[], [], [], [], [], [], [], [], [], [], [], [], [], [], [], [], [], [], [], [], [], [], [0, 2], [1], [3], [4]]\n",
      "[0, 1, 0, 3, 4]\n",
      "[[], [], [], [], [], [], [], [], [], [], [], [], [], [], [], [], [], [], [], [], [], [], [0, 2], [1], [3], [4]]\n"
     ]
    }
   ],
   "source": [
    "\n",
    "s='paper'\n",
    "print (s.lower(), s.upper())\n",
    "d1=[[] for _ in range(26)]\n",
    "for i, val in enumerate(s):\n",
    "        d1[ord(val)-ord('a')].append(i)\n",
    "print (sorted(d1))\n",
    "print ([s.find(i) for i in s])\n",
    "t='title'\n",
    "d2=[[] for _ in range(26)]\n",
    "for i, val in enumerate(t):\n",
    "        d2[ord(val)-ord('a')].append(i)\n",
    "print (sorted(d2))"
   ]
  },
  {
   "cell_type": "code",
   "execution_count": null,
   "metadata": {},
   "outputs": [],
   "source": [
    "206. Reverse Linked List\n",
    "\n",
    "Reverse a singly linked list."
   ]
  },
  {
   "cell_type": "code",
   "execution_count": null,
   "metadata": {},
   "outputs": [],
   "source": [
    "class Solution():\n",
    "    def ReverseLinkedList(self,head):\n",
    "        tail=None\n",
    "        while head:\n",
    "            tmp = head.next\n",
    "            head.next = tail\n",
    "            tail = head\n",
    "            head = tmp\n",
    "        return tail"
   ]
  },
  {
   "cell_type": "code",
   "execution_count": null,
   "metadata": {},
   "outputs": [],
   "source": []
  },
  {
   "cell_type": "code",
   "execution_count": null,
   "metadata": {},
   "outputs": [],
   "source": [
    "217. Contains Duplicate\n",
    "\n",
    "Given an array of integers, find if the array contains any duplicates.\n",
    "\n",
    "Your function should return true if any value appears at least twice in the array, and it should return false if every element is distinct.\n",
    "\n"
   ]
  },
  {
   "cell_type": "code",
   "execution_count": 81,
   "metadata": {},
   "outputs": [
    {
     "data": {
      "text/plain": [
       "True"
      ]
     },
     "execution_count": 81,
     "metadata": {},
     "output_type": "execute_result"
    }
   ],
   "source": [
    "class Solution():\n",
    "    def ContainsDuplicate(self,nums):\n",
    "        return len(nums)!=len(set(nums))\n",
    "nums=[1,1,1,3,3,4,3,2,4,2]\n",
    "a=Solution()\n",
    "a.ContainsDuplicate(nums)"
   ]
  },
  {
   "cell_type": "code",
   "execution_count": null,
   "metadata": {},
   "outputs": [],
   "source": [
    "219. Contains Duplicate II\n",
    "\n",
    "Given an array of integers and an integer k, find out whether there are two distinct indices i and j in the array such that nums[i] = nums[j] and the absolute difference between i and j is at most k."
   ]
  },
  {
   "cell_type": "code",
   "execution_count": 86,
   "metadata": {},
   "outputs": [
    {
     "data": {
      "text/plain": [
       "True"
      ]
     },
     "execution_count": 86,
     "metadata": {},
     "output_type": "execute_result"
    }
   ],
   "source": [
    "class Solution():\n",
    "    def ContainsDuplicateII(self,nums,k):\n",
    "        dic={}\n",
    "        for i in range(len(nums)):\n",
    "            if nums[i] in dic:\n",
    "                if i-dic[nums[i]]<=k: \n",
    "                    return True\n",
    "            dic[nums[i]]=i\n",
    "        return False\n",
    "nums, k = [1,2,3,1], 3\n",
    "a=Solution()\n",
    "a.ContainsDuplicateII(nums,k)"
   ]
  },
  {
   "cell_type": "code",
   "execution_count": null,
   "metadata": {},
   "outputs": [],
   "source": [
    "225. Implement Stack using Queues\n",
    "\n",
    "Implement the following operations of a stack using queues.\n",
    "\n",
    "push(x) -- Push element x onto stack.\n",
    "pop() -- Removes the element on top of the stack.\n",
    "top() -- Get the top element.\n",
    "empty() -- Return whether the stack is empty.\n"
   ]
  },
  {
   "cell_type": "code",
   "execution_count": null,
   "metadata": {},
   "outputs": [],
   "source": [
    "from Queue import Queue\n",
    "class stack():\n",
    "    def __init__(self):\n",
    "        self.q1,self.q2=Queue(),Queue()\n",
    "        return\n",
    "    \n",
    "    def push(self,x):\n",
    "        self.q1.put(x)\n",
    "        return\n",
    "    \n",
    "    def pop(self):\n",
    "        while self.q1.qsize()>1:\n",
    "            self.q2.put(self.q1.get())\n",
    "        if self.q1.qsize==1:\n",
    "            self.q1,self.q2=self.q2,self.q1\n",
    "            res = self.q2.get()\n",
    "            return res\n",
    "                    \n",
    "    def top(self):\n",
    "        while self.q1.qsize()>1:\n",
    "            self.q2.put(self.q1.get())\n",
    "        if self.q1.qsize==1:\n",
    "            res = self.q1.get()\n",
    "            self.q2.put(res)\n",
    "            self.q1,self.q2=self.q2,self.q1\n",
    "            return res\n",
    "    \n",
    "    def empty(self):\n",
    "        return not len(self.q1.qsize())"
   ]
  },
  {
   "cell_type": "code",
   "execution_count": null,
   "metadata": {},
   "outputs": [],
   "source": [
    "class Stack:\n",
    "\n",
    "    def __init__(self):\n",
    "        self.qu = collections.deque()\n",
    "\n",
    "    def push(self, x):\n",
    "        q = self.qu\n",
    "        q.append(x)\n",
    "        for _ in range(len(q) - 1):\n",
    "            q.append(q.popleft())\n",
    "        \n",
    "    def pop(self):\n",
    "        return self.qu.popleft()\n",
    "\n",
    "    def top(self):\n",
    "        return self.qu[0]\n",
    "    \n",
    "    def empty(self):\n",
    "        return not len(self.qu)"
   ]
  },
  {
   "cell_type": "code",
   "execution_count": null,
   "metadata": {},
   "outputs": [],
   "source": [
    "226. Invert Binary Tree\n",
    "Invert a binary tree.\n",
    "\n",
    "Example:\n",
    "\n",
    "Input:\n",
    "\n",
    "     4\n",
    "   /   \\\n",
    "  2     7\n",
    " / \\   / \\\n",
    "1   3 6   9\n",
    "Output:\n",
    "\n",
    "     4\n",
    "   /   \\\n",
    "  7     2\n",
    " / \\   / \\\n",
    "9   6 3   1"
   ]
  },
  {
   "cell_type": "code",
   "execution_count": null,
   "metadata": {},
   "outputs": [],
   "source": [
    "class Solution():\n",
    "    def InvertBinaryTree(self,rt):\n",
    "        if rt:\n",
    "            rt.left,rt.right=self.InvertBinaryTree(rt.right),self.InvertBinaryTree(rt.left)\n",
    "            "
   ]
  },
  {
   "cell_type": "code",
   "execution_count": null,
   "metadata": {},
   "outputs": [],
   "source": [
    "231. Power of Two\n",
    "\n",
    "Given an integer, write a function to determine if it is a power of two."
   ]
  },
  {
   "cell_type": "code",
   "execution_count": 89,
   "metadata": {},
   "outputs": [
    {
     "data": {
      "text/plain": [
       "False"
      ]
     },
     "execution_count": 89,
     "metadata": {},
     "output_type": "execute_result"
    }
   ],
   "source": [
    "class Solution():\n",
    "    def PowerofTwo(self,n):\n",
    "        return n > 0 and not (n & n-1)\n",
    "    \n",
    "    def PowerofTwo2(self,n):\n",
    "        if n<=0: return False\n",
    "        while n%2==0:\n",
    "            n//=2\n",
    "        return n==1\n",
    "n=218\n",
    "a=Solution()\n",
    "a.PowerofTwo2(n)"
   ]
  },
  {
   "cell_type": "code",
   "execution_count": null,
   "metadata": {},
   "outputs": [],
   "source": [
    "234. Palindrome Linked List\n",
    "\n",
    "Given a singly linked list, determine if it is a palindrome.\n",
    "\n",
    "Example 1:\n",
    "\n",
    "Input: 1->2\n",
    "Output: false\n",
    "Example 2:\n",
    "\n",
    "Input: 1->2->2->1\n",
    "Output: true"
   ]
  },
  {
   "cell_type": "code",
   "execution_count": null,
   "metadata": {},
   "outputs": [],
   "source": [
    "class Solution():\n",
    "    def PalindromeLinkedList(self,head):\n",
    "        vals=[]\n",
    "        while head:\n",
    "            vals += head.val\n",
    "            head = head.next\n",
    "        return vals == vals[::-1]\n"
   ]
  },
  {
   "cell_type": "code",
   "execution_count": null,
   "metadata": {},
   "outputs": [],
   "source": [
    "235. Lowest Common Ancestor of a Binary Search Tree\n",
    "\n",
    "Given a binary search tree (BST), find the lowest common ancestor (LCA) of two given nodes in the BST.\n",
    "\n",
    "According to the definition of LCA on Wikipedia: “The lowest common ancestor is defined between two nodes p and q as the lowest node in T that has both p and q as descendants (where we allow a node to be a descendant of itself).”"
   ]
  },
  {
   "cell_type": "code",
   "execution_count": null,
   "metadata": {},
   "outputs": [],
   "source": [
    "class Solution():\n",
    "    def LowestCommonAncestor(self,rt,p,q):\n",
    "        while rt:\n",
    "            if rt.val>p.val and rt.val>q.val:\n",
    "                rt = rt.left\n",
    "            elif rt.val<p.val and rt.val<q.val:\n",
    "                rt = rt.right\n",
    "            else:\n",
    "                return rt"
   ]
  },
  {
   "cell_type": "code",
   "execution_count": null,
   "metadata": {},
   "outputs": [],
   "source": [
    "237. Delete Node in a Linked List\n",
    "\n",
    "Write a function to delete a node (except the tail) in a singly linked list, given only access to that node.\n",
    "\n",
    "#203"
   ]
  },
  {
   "cell_type": "code",
   "execution_count": null,
   "metadata": {},
   "outputs": [],
   "source": [
    "# Definition for singly-linked list.\n",
    "# class ListNode(object):\n",
    "#     def __init__(self, x):\n",
    "#         self.val = x\n",
    "#         self.next = None\n",
    "class Solution():\n",
    "    def DeleteNodeLinkedList(self,node):\n",
    "        if node == None: return None\n",
    "        if node.next:\n",
    "            node.val = node.next.val\n",
    "            node.next = node.next.next"
   ]
  },
  {
   "cell_type": "code",
   "execution_count": null,
   "metadata": {},
   "outputs": [],
   "source": [
    "242. Valid Anagram\n",
    "\n",
    "Given two strings s and t , write a function to determine if t is an anagram of s."
   ]
  },
  {
   "cell_type": "code",
   "execution_count": 91,
   "metadata": {},
   "outputs": [
    {
     "data": {
      "text/plain": [
       "True"
      ]
     },
     "execution_count": 91,
     "metadata": {},
     "output_type": "execute_result"
    }
   ],
   "source": [
    "class Solution():\n",
    "    def ValidAnagram(self,s,t):\n",
    "        return sorted(s)==sorted(t)\n",
    "    \n",
    "    def ValidAnagram2(self,s,t):\n",
    "        if len(s)!=len(t): return False\n",
    "        return collections.Counter(s)==collections.Counter(t)\n",
    "    \n",
    "s,t=\"anagram\", \"nagaram\"\n",
    "a=Solution()\n",
    "a.ValidAnagram(s,t)"
   ]
  },
  {
   "cell_type": "code",
   "execution_count": null,
   "metadata": {},
   "outputs": [],
   "source": [
    "243. Shortest Word Distance\n",
    "Given a list of words and two words word1 and word2, return the shortest\n",
    "distance between these two words in the list.\n",
    "For example,\n",
    "Assume that words = [\"practice\", \"makes\", \"perfect\", \"coding\", \"makes\"].\n",
    "Given word1 = “coding”, word2 = “practice”, return 3.\n",
    "Given word1 = \"makes\", word2 = \"coding\", return 1.\n",
    "Note:\n",
    "You may assume that word1 does not equal to word2, and word1 and word2 are\n",
    "both in the list."
   ]
  },
  {
   "cell_type": "code",
   "execution_count": 101,
   "metadata": {},
   "outputs": [
    {
     "data": {
      "text/plain": [
       "3"
      ]
     },
     "execution_count": 101,
     "metadata": {},
     "output_type": "execute_result"
    }
   ],
   "source": [
    "import sys\n",
    "class Solution():\n",
    "    def ShortestWordDistance(self,words,w1,w2):\n",
    "        idx1,idx2,minD=-1,-1,sys.maxsize\n",
    "        for i in range(len(words)):\n",
    "            if words[i]==w1:\n",
    "                idx1 = i\n",
    "            elif words[i]==w2:\n",
    "                idx2 = i\n",
    "            if idx1 >=0 and idx2>=0:\n",
    "                minD = min(minD,abs(idx1-idx2))\n",
    "        return (minD if minD!=sys.maxsize else None)\n",
    "    \n",
    "words, w1,w2=[\"practice\", \"makes\", \"perfect\", \"coding\", \"makes\"],\"coding\",\"practice\"\n",
    "a=Solution()\n",
    "a.ShortestWordDistance(words,w1,w2)"
   ]
  },
  {
   "cell_type": "code",
   "execution_count": null,
   "metadata": {},
   "outputs": [],
   "source": [
    "246 Strobogrammatic Number\n",
    "A strobogrammatic number is a number that looks the same when rotated 180 degrees (looked at upside down).\n",
    "Write a function to determine if a number is strobogrammatic. The number is represented as a string.\n",
    "Example 1:\n",
    "Input:  \"69\"\n",
    "Output: true\n",
    "Example 2:\n",
    "Input:  \"88\"\n",
    "Output: true\n",
    "Example 3:\n",
    "Input:  \"962\"\n",
    "Output: false"
   ]
  },
  {
   "cell_type": "code",
   "execution_count": 105,
   "metadata": {},
   "outputs": [
    {
     "data": {
      "text/plain": [
       "True"
      ]
     },
     "execution_count": 105,
     "metadata": {},
     "output_type": "execute_result"
    }
   ],
   "source": [
    "class Solution():\n",
    "    def StrobogrammaticNumber(self,num):\n",
    "        dic,l,r={'0':'0','1':'1','6':'9','8':'8','9':'6'},0,len(num)-1\n",
    "        while l<=r:\n",
    "            if num[l] not in dic or dic[num[l]]!=num[r]:\n",
    "                return False\n",
    "            l += 1\n",
    "            r -= 1\n",
    "        return True\n",
    "num='10869801'\n",
    "a=Solution()\n",
    "a.StrobogrammaticNumber(num)"
   ]
  },
  {
   "cell_type": "code",
   "execution_count": null,
   "metadata": {},
   "outputs": [],
   "source": [
    "252 Meeting Rooms\n",
    "Given an array of meeting time intervals consisting of start and end times\n",
    "[[s1,e1],[s2,e2],...] (si < ei), determine if a person could attend all\n",
    "meetings.\n",
    "For example,\n",
    "Given [[0, 30],[5, 10],[15, 20]],\n",
    "return false."
   ]
  },
  {
   "cell_type": "code",
   "execution_count": 108,
   "metadata": {},
   "outputs": [
    {
     "data": {
      "text/plain": [
       "True"
      ]
     },
     "execution_count": 108,
     "metadata": {},
     "output_type": "execute_result"
    }
   ],
   "source": [
    "class Solution():\n",
    "    def MeetingRooms(self,intervals):\n",
    "        intervals.sort(key=lambda i: i[0])\n",
    "        return all([intervals[i][0]>=intervals[i-1][1] for i in range(1,len(intervals))])\n",
    "\n",
    "intervals=[[0,30],[5,10],[15,20]]\n",
    "a=Solution()\n",
    "a.MeetingRooms(intervals)\n",
    "intervals=[[7,10],[2,4]]\n",
    "a.MeetingRooms(intervals)\n"
   ]
  },
  {
   "cell_type": "code",
   "execution_count": null,
   "metadata": {},
   "outputs": [],
   "source": [
    "256 Paint House\n",
    "There are a row of n houses, each house can be painted with one of the three\n",
    "colors: red, blue or green. The cost of painting each house with a certain\n",
    "color is different. You have to paint all the houses such that no two adjacent\n",
    "houses have the same color.\n",
    "The cost of painting each house with a certain color is represented by a n x 3\n",
    "cost matrix. For example, costs[0][0] is the cost of painting house 0 with\n",
    "color red; costs[1][2] is the cost of painting house 1 with color green, and\n",
    "so on... Find the minimum cost to paint all houses.\n",
    "Note:\n",
    "All costs are positive integers."
   ]
  },
  {
   "cell_type": "code",
   "execution_count": 113,
   "metadata": {},
   "outputs": [
    {
     "name": "stdout",
     "output_type": "stream",
     "text": [
      "[1, 2, 4]\n",
      "[5, 1, 2]\n",
      "[3, 5, 5]\n"
     ]
    },
    {
     "data": {
      "text/plain": [
       "3"
      ]
     },
     "execution_count": 113,
     "metadata": {},
     "output_type": "execute_result"
    }
   ],
   "source": [
    "class Solution():\n",
    "    def PaintHouse(self,costs):\n",
    "        h=[0]*3\n",
    "        for rowc in costs:\n",
    "            h = [min(h[:j]+h[j+1:])+rowc[j] for j in range(3)]\n",
    "            print(h)\n",
    "        return min(h)\n",
    "costs = [\n",
    "    [1, 2, 4],\n",
    "    [3, 0, 1],\n",
    "    [2, 3, 4]\n",
    "]\n",
    "a = Solution()\n",
    "a.PaintHouse(costs)"
   ]
  },
  {
   "cell_type": "code",
   "execution_count": null,
   "metadata": {},
   "outputs": [],
   "source": [
    "257. Binary Tree Paths\n",
    "\n",
    "Given a binary tree, return all root-to-leaf paths.\n",
    "\n",
    "Note: A leaf is a node with no children.\n",
    "\n",
    "Example:\n",
    "\n",
    "Input:\n",
    "\n",
    "   1\n",
    " /   \\\n",
    "2     3\n",
    " \\\n",
    "  5\n",
    "\n",
    "Output: [\"1->2->5\", \"1->3\"]\n",
    "\n",
    "Explanation: All root-to-leaf paths are: 1->2->5, 1->3"
   ]
  },
  {
   "cell_type": "code",
   "execution_count": null,
   "metadata": {},
   "outputs": [],
   "source": [
    "class Solution():\n",
    "    def BinaryTreePaths(self,rt):\n",
    "        if not rt: return []\n",
    "        res = []\n",
    "        self.dfs(rt,\"\",res)\n",
    "        return res\n",
    "    \n",
    "    def dfs(self,rt,path,res):\n",
    "        if not rt.left and not rt.right:\n",
    "            res.append(path+str(rt.val))\n",
    "        if rt.left:\n",
    "            self.dfs(rt.left,path+str(rt.val)+\"->\",res)\n",
    "        if rt.right:\n",
    "            self.dfs(rt.right,path+str(rt.val)+\"->\",res)\n"
   ]
  },
  {
   "cell_type": "code",
   "execution_count": null,
   "metadata": {},
   "outputs": [],
   "source": [
    "258. Add Digits\n",
    "\n",
    "Given a non-negative integer num, repeatedly add all its digits until the result has only one digit.\n",
    "\n",
    "Example:\n",
    "\n",
    "Input: 38\n",
    "Output: 2 \n",
    "Explanation: The process is like: 3 + 8 = 11, 1 + 1 = 2. \n",
    "             Since 2 has only one digit, return it.\n",
    "Could you do it without any loop/recursion in O(1) runtime?"
   ]
  },
  {
   "cell_type": "code",
   "execution_count": 117,
   "metadata": {},
   "outputs": [
    {
     "data": {
      "text/plain": [
       "2"
      ]
     },
     "execution_count": 117,
     "metadata": {},
     "output_type": "execute_result"
    }
   ],
   "source": [
    "class Solution():\n",
    "    def AddDigits(self,n):\n",
    "        if 0<=n<=9: return n\n",
    "        tmp=0\n",
    "        while n:\n",
    "            tmp += n%10\n",
    "            n //=10\n",
    "        return self.AddDigits(tmp)\n",
    "\n",
    "#without recurision or interation\n",
    "#n = 456 4*(99+1)+5*(9+1)+6=(4+5+6)+9*m=15+9*m=(1+5)+9*m2....\n",
    "    def AddDigits2(self,n):\n",
    "        if 0<=n<=9: return n\n",
    "        res = n%9\n",
    "        return res if res !=0 else 9\n",
    "n=38\n",
    "a=Solution()\n",
    "a.AddDigits2(38)"
   ]
  },
  {
   "cell_type": "code",
   "execution_count": null,
   "metadata": {},
   "outputs": [],
   "source": [
    "263. Ugly Number\n",
    "\n",
    "Write a program to check whether a given number is an ugly number.\n",
    "\n",
    "Ugly numbers are positive numbers whose prime factors only include 2, 3, 5.\n",
    "\n"
   ]
  },
  {
   "cell_type": "code",
   "execution_count": 122,
   "metadata": {},
   "outputs": [
    {
     "data": {
      "text/plain": [
       "True"
      ]
     },
     "execution_count": 122,
     "metadata": {},
     "output_type": "execute_result"
    }
   ],
   "source": [
    "class Solution():\n",
    "    def UglyNumber(self,n):\n",
    "        if n==0: return False\n",
    "        while n%2==0:\n",
    "            n=n//2\n",
    "        while n%3==0:\n",
    "            n=n//3\n",
    "        while n%5==0:\n",
    "            n=n//5\n",
    "        return n==1\n",
    "n=14\n",
    "a=Solution()\n",
    "a.UglyNumber(n)\n",
    "n=75*12\n",
    "a.UglyNumber(n)"
   ]
  },
  {
   "cell_type": "code",
   "execution_count": null,
   "metadata": {},
   "outputs": [],
   "source": [
    "266 Palindrome Permutation\n",
    "Given a string, determine if a permutation of the string could form a\n",
    "palindrome.\n",
    "For example,\n",
    "\"code\" -> False, \"aab\" -> True, \"carerac\" -> True."
   ]
  },
  {
   "cell_type": "code",
   "execution_count": 18,
   "metadata": {},
   "outputs": [
    {
     "name": "stdout",
     "output_type": "stream",
     "text": [
      "dict_values([2, 2, 2, 2, 3])\n",
      "[3]\n"
     ]
    },
    {
     "data": {
      "text/plain": [
       "True"
      ]
     },
     "execution_count": 18,
     "metadata": {},
     "output_type": "execute_result"
    }
   ],
   "source": [
    "import collections\n",
    "class Solution():\n",
    "    def PalindromePermutation(self,s):\n",
    "        print(collections.Counter(s).values())\n",
    "        #return list(collections.Counter(s).values()).count(1)<=1\n",
    "        #return (not len(s)%2 and list(collections.Counter(s).values()).count(2) == len(s)/2) or (len(s)%2 and list(collections.Counter(s).values()).count(2) == (len(s)-1)/2)\n",
    "        ls = [ v for v in list(collections.Counter(s).values()) if v != 2 ]\n",
    "        print(ls)\n",
    "        return (len(ls)==1 and len(s)%2==1) or (not len(ls) and not len(s)%2)\n",
    "          \n",
    "strs=\"careeracooo\"\n",
    "a=Solution()\n",
    "a.PalindromePermutation(strs)"
   ]
  },
  {
   "cell_type": "code",
   "execution_count": null,
   "metadata": {},
   "outputs": [],
   "source": [
    "268. Missing Number\n",
    "\n",
    "Given an array containing n distinct numbers taken from 0, 1, 2, ..., n, find the one that is missing from the array."
   ]
  },
  {
   "cell_type": "code",
   "execution_count": 124,
   "metadata": {},
   "outputs": [
    {
     "data": {
      "text/plain": [
       "8"
      ]
     },
     "execution_count": 124,
     "metadata": {},
     "output_type": "execute_result"
    }
   ],
   "source": [
    "class Solution():\n",
    "    def MissingNumber(self,nums):\n",
    "        n = len(nums)\n",
    "        return n*(n+1)/2-sum(nums)\n",
    "    def MissingNumber2(self,nums):\n",
    "        res=0\n",
    "        for i in range(len(nums)+1):\n",
    "            res^=i\n",
    "        for n in nums:\n",
    "            res ^= n\n",
    "        return res\n",
    "nums=[9,6,4,2,3,5,7,0,1]\n",
    "a=Solution()\n",
    "a.MissingNumber2(nums)"
   ]
  },
  {
   "cell_type": "code",
   "execution_count": null,
   "metadata": {},
   "outputs": [],
   "source": [
    "270. Closest Binary Search Tree Value\n",
    "Given a non-empty binary search tree and a target value, find the value in\n",
    "the BST that is closest to the target.\n",
    "Note:\n",
    "- Given target value is a floating point.\n",
    "- You are guaranteed to have only one unique value in the BST that is closest\n",
    "  to the target."
   ]
  },
  {
   "cell_type": "code",
   "execution_count": null,
   "metadata": {},
   "outputs": [],
   "source": [
    "class Solution():\n",
    "    def ClosestBinarySearchTreeValue(self,rt,target):\n",
    "        res = rt.val\n",
    "        while rt:\n",
    "            if abs(rt.val-target) < abs(res-target):\n",
    "                res=rt.val\n",
    "            rt = rt.left if target < rt.val else rt.right\n",
    "        return res\n"
   ]
  },
  {
   "cell_type": "code",
   "execution_count": null,
   "metadata": {},
   "outputs": [],
   "source": [
    "276. Paint Fence\n",
    "There is a fence with n posts, each post can be painted with one of the k\n",
    "colors.\n",
    "You have to paint all the posts such that no more than two adjacent fence posts\n",
    "have the same color.\n",
    "Return the total number of ways you can paint the fence."
   ]
  },
  {
   "cell_type": "code",
   "execution_count": 126,
   "metadata": {},
   "outputs": [
    {
     "data": {
      "text/plain": [
       "24"
      ]
     },
     "execution_count": 126,
     "metadata": {},
     "output_type": "execute_result"
    }
   ],
   "source": [
    "class Solution():\n",
    "    def PaintFence(self,n,k):\n",
    "        if n<=0 or k<=0: return 0\n",
    "        dp = [0]*n\n",
    "        dp[0]=k\n",
    "        if n>1:\n",
    "            dp[1]=k*k\n",
    "        for i in range(2,n):\n",
    "            dp[i]=dp[i-1]*(k-1)+dp[i-2]*(k-1)\n",
    "        return dp[-1]\n",
    "\n",
    "n,k=3,3\n",
    "a=Solution()\n",
    "a.PaintFence(3,3)"
   ]
  },
  {
   "cell_type": "code",
   "execution_count": null,
   "metadata": {},
   "outputs": [],
   "source": [
    "278. First Bad Version\n",
    "\n",
    "You are a product manager and currently leading a team to develop a new product. Unfortunately, the latest version of your product fails the quality check. Since each version is developed based on the previous version, all the versions after a bad version are also bad.\n",
    "\n",
    "Suppose you have n versions [1, 2, ..., n] and you want to find out the first bad one, which causes all the following ones to be bad.\n",
    "\n",
    "You are given an API bool isBadVersion(version) which will return whether version is bad. Implement a function to find the first bad version. You should minimize the number of calls to the API.\n",
    "\n",
    "Example:\n",
    "\n",
    "Given n = 5, and version = 4 is the first bad version.\n",
    "\n",
    "call isBadVersion(3) -> false\n",
    "call isBadVersion(5) -> true\n",
    "call isBadVersion(4) -> true\n",
    "\n",
    "Then 4 is the first bad version. "
   ]
  },
  {
   "cell_type": "code",
   "execution_count": null,
   "metadata": {},
   "outputs": [],
   "source": [
    "class Solution():\n",
    "    def FirstBadVersion(self,n):\n",
    "        low,high=1,n\n",
    "        version=-1\n",
    "        while low<=high:\n",
    "            mid = (low+high)//2\n",
    "            if isBadVersion(mid):\n",
    "                version = mid\n",
    "                high = mid-1\n",
    "            else:\n",
    "                low = mid+1\n",
    "        return version\n"
   ]
  },
  {
   "cell_type": "code",
   "execution_count": null,
   "metadata": {},
   "outputs": [],
   "source": [
    "283. Move Zeroes\n",
    "\n",
    "Given an array nums, write a function to move all 0's to the end of it while maintaining the relative order of the non-zero elements.\n",
    "\n",
    "Example:\n",
    "\n",
    "Input: [0,1,0,3,12]\n",
    "Output: [1,3,12,0,0]\n",
    "Note:\n",
    "\n",
    "You must do this in-place without making a copy of the array.\n",
    "Minimize the total number of operations."
   ]
  },
  {
   "cell_type": "code",
   "execution_count": null,
   "metadata": {},
   "outputs": [],
   "source": [
    "class Solution():\n",
    "    def MoveZeroes(self,nums):  \n",
    "        zero = 0\n",
    "        for i in range(len(nums)-1):\n",
    "            if nums[i]!=0:\n",
    "                nums[i],nums[zero]=nums[zero],nums[i] #redudant\n",
    "                zero +=1\n",
    "    def MoveZeroes2(self, nums):\n",
    "        j = 0\n",
    "        for i in range(len(nums)-1):\n",
    "            if nums[i] != 0:\n",
    "                if i > j:\n",
    "                    nums[j] = nums[i]\n",
    "                j += 1"
   ]
  },
  {
   "cell_type": "code",
   "execution_count": null,
   "metadata": {},
   "outputs": [],
   "source": [
    "290. Word Pattern\n",
    "\n",
    "Given a pattern and a string str, find if str follows the same pattern.\n",
    "\n",
    "Here follow means a full match, such that there is a bijection between a letter in pattern and a non-empty word in str.\n"
   ]
  },
  {
   "cell_type": "code",
   "execution_count": 146,
   "metadata": {},
   "outputs": [
    {
     "data": {
      "text/plain": [
       "True"
      ]
     },
     "execution_count": 146,
     "metadata": {},
     "output_type": "execute_result"
    }
   ],
   "source": [
    "class Solution():\n",
    "    def WordPattern(self,p,words):\n",
    "        ws = words.split()\n",
    "        #print([p.find(i) for i in p])\n",
    "        #print([ws.index(i) for i in ws])\n",
    "        #return [p.find(i) for i in p]==[ws.index(i) for i in ws]\n",
    "        return list(map(p.find,p))==list(map(ws.index,ws))\n",
    "\n",
    "p,words = \"abba\", \"dog cat cat dog\"\n",
    "a=Solution()\n",
    "a.WordPattern(p,words)"
   ]
  },
  {
   "cell_type": "code",
   "execution_count": null,
   "metadata": {},
   "outputs": [],
   "source": [
    "292. Nim Game\n",
    "\n",
    "You are playing the following Nim Game with your friend: There is a heap of stones on the table, each time one of you take turns to remove 1 to 3 stones. The one who removes the last stone will be the winner. You will take the first turn to remove the stones.\n",
    "\n",
    "Both of you are very clever and have optimal strategies for the game. Write a function to determine whether you can win the game given the number of stones in the heap.\n",
    "\n",
    "Example:\n",
    "\n",
    "Input: 4\n",
    "Output: false \n",
    "Explanation: If there are 4 stones in the heap, then you will never win the game;\n",
    "             No matter 1, 2, or 3 stones you remove, the last stone will always be \n",
    "             removed by your friend.\n"
   ]
  },
  {
   "cell_type": "code",
   "execution_count": 150,
   "metadata": {},
   "outputs": [
    {
     "name": "stdout",
     "output_type": "stream",
     "text": [
      "False\n"
     ]
    },
    {
     "data": {
      "text/plain": [
       "False"
      ]
     },
     "execution_count": 150,
     "metadata": {},
     "output_type": "execute_result"
    }
   ],
   "source": [
    "class Solution():\n",
    "    def NimGame(self,n):\n",
    "        return n%4 != 0\n",
    "    \n",
    "    def NimGame2(self,n):\n",
    "        if n<=3: return True\n",
    "        res = [False]*n\n",
    "        res[0],res[1],res[2],i=True,True,True,3\n",
    "        while i<n:\n",
    "            if res[i-3] and res[i-2] and res[i-1]:\n",
    "                res[i] = False\n",
    "            else:\n",
    "                res[i] = True\n",
    "            i += 1\n",
    "        return res[-1]\n",
    "            \n",
    "        \n",
    "n=24\n",
    "a=Solution()\n",
    "print(a.NimGame(n))\n",
    "a.NimGame2(n)"
   ]
  },
  {
   "cell_type": "code",
   "execution_count": null,
   "metadata": {},
   "outputs": [],
   "source": [
    "293. Flip Game\n",
    "You are playing the following Flip Game with your friend: Given a string that\n",
    "contains only these two characters: + and -, you and your friend take turns to\n",
    "flip two consecutive \"++\" into \"--\". The game ends when a person can no longer\n",
    "make a move and therefore the other person will be the winner.\n",
    "Write a function to compute all possible states of the string after one valid\n",
    "move.\n",
    "For example, given s = \"++++\", after one move, it may become one of the\n",
    "following states:\n",
    "[\n",
    "  \"--++\",\n",
    "  \"+--+\",\n",
    "  \"++--\"\n",
    "]\n",
    "If there is no valid move, return an empty list [].\n"
   ]
  },
  {
   "cell_type": "code",
   "execution_count": 151,
   "metadata": {},
   "outputs": [
    {
     "data": {
      "text/plain": [
       "['--++', '+--+', '++--']"
      ]
     },
     "execution_count": 151,
     "metadata": {},
     "output_type": "execute_result"
    }
   ],
   "source": [
    "class Solution():\n",
    "    def FlipGame(self,s):\n",
    "        i, res = 0, []\n",
    "        while i<len(s)-1:\n",
    "            if s[i]==s[i+1]=='+':\n",
    "                res.append(s[:i]+\"--\"+s[i+2:])\n",
    "            i += 1\n",
    "        return res\n",
    "    \n",
    "strs=\"++++\"\n",
    "a=Solution()\n",
    "a.FlipGame(strs)"
   ]
  },
  {
   "cell_type": "code",
   "execution_count": null,
   "metadata": {},
   "outputs": [],
   "source": []
  }
 ],
 "metadata": {
  "kernelspec": {
   "display_name": "Python 3",
   "language": "python",
   "name": "python3"
  },
  "language_info": {
   "codemirror_mode": {
    "name": "ipython",
    "version": 3
   },
   "file_extension": ".py",
   "mimetype": "text/x-python",
   "name": "python",
   "nbconvert_exporter": "python",
   "pygments_lexer": "ipython3",
   "version": "3.7.6"
  }
 },
 "nbformat": 4,
 "nbformat_minor": 2
}
