{
 "cells": [
  {
   "cell_type": "code",
   "execution_count": null,
   "metadata": {},
   "outputs": [],
   "source": [
    "#binary tree"
   ]
  },
  {
   "cell_type": "code",
   "execution_count": null,
   "metadata": {},
   "outputs": [],
   "source": [
    "#235. lowest common ancestor of a binary search tree"
   ]
  },
  {
   "cell_type": "code",
   "execution_count": null,
   "metadata": {},
   "outputs": [],
   "source": [
    "def f235(root, p, q):\n",
    "    while root:\n",
    "        if root.val > p.val and root.val > q.val:\n",
    "            root = root.left\n",
    "        elif root.val < p.val and root.val < q.val:\n",
    "            root = root.right\n",
    "        else:\n",
    "            return root"
   ]
  },
  {
   "cell_type": "code",
   "execution_count": null,
   "metadata": {},
   "outputs": [],
   "source": [
    "#236. lowest common ancestor of a binary tree "
   ]
  },
  {
   "cell_type": "code",
   "execution_count": null,
   "metadata": {},
   "outputs": [],
   "source": [
    "def f236(root, p, q):  \n",
    "    #par = parent\n",
    "    stack, par = [root], {root: None}\n",
    "    while p not in par or q not in par:\n",
    "        node = stack.pop()\n",
    "        if node.left:\n",
    "            par[node.left] = node\n",
    "            stack.append(node.left)\n",
    "        if node.right:\n",
    "            par[node.right] = node\n",
    "            stack.append(node.right)\n",
    "    ancestors = set()\n",
    "    while p:\n",
    "        ancestors.add(p)\n",
    "        p = par[p]\n",
    "    while q not in ancestors:\n",
    "        q = par[q]\n",
    "    return q"
   ]
  },
  {
   "cell_type": "code",
   "execution_count": null,
   "metadata": {},
   "outputs": [],
   "source": [
    "#1123. Lowest Common Ancestor of Deepest Leaves"
   ]
  },
  {
   "cell_type": "code",
   "execution_count": null,
   "metadata": {},
   "outputs": [],
   "source": [
    "def f1123(root):\n",
    "    \n",
    "    def helper(node):\n",
    "        if not node: \n",
    "            return 0, None\n",
    "        #lca = lowest common ancestor\n",
    "        h1, lca1 = helper(node.left)\n",
    "        h2, lca2 = helper(node.right)\n",
    "        if h1 > h2: return h1+1, lca1\n",
    "        if h1 < h2: return h2+1, lca2\n",
    "        return h1+1, lca1\n",
    "    \n",
    "    return helper(root)[1]"
   ]
  },
  {
   "cell_type": "code",
   "execution_count": null,
   "metadata": {},
   "outputs": [],
   "source": []
  },
  {
   "cell_type": "code",
   "execution_count": null,
   "metadata": {},
   "outputs": [],
   "source": [
    "#404. sum of left leaves"
   ]
  },
  {
   "cell_type": "code",
   "execution_count": null,
   "metadata": {},
   "outputs": [],
   "source": [
    "def f404(self, root):\n",
    "    def dfs(root, left):\n",
    "        if not root: return\n",
    "        if left and not root.left and not root.right:\n",
    "            self.res += root.val\n",
    "        dfs(root.left, True)\n",
    "        dfs(root.right, False)\n",
    "        \n",
    "    self.res = 0\n",
    "    dfs(root, False)\n",
    "    return self.res"
   ]
  },
  {
   "cell_type": "code",
   "execution_count": null,
   "metadata": {},
   "outputs": [],
   "source": []
  },
  {
   "cell_type": "code",
   "execution_count": null,
   "metadata": {},
   "outputs": [],
   "source": [
    "#102. binary tree level order traversal"
   ]
  },
  {
   "cell_type": "code",
   "execution_count": null,
   "metadata": {},
   "outputs": [],
   "source": [
    "def f102(root):\n",
    "    res = []\n",
    "    \n",
    "    def dfs(node, level, res):\n",
    "        if not node:\n",
    "            return \n",
    "        if len(res) > level + 1:\n",
    "            res.append([])\n",
    "        res[level].append(node.val)\n",
    "        dfs(node.left, level+1, res)\n",
    "        dfs(node.right, level+1, res)\n",
    "        \n",
    "    dfs(root, 0, res)\n",
    "    return res"
   ]
  },
  {
   "cell_type": "code",
   "execution_count": null,
   "metadata": {},
   "outputs": [],
   "source": [
    "#107. binary tree level order traversal II\n",
    "#bottom up order"
   ]
  },
  {
   "cell_type": "code",
   "execution_count": null,
   "metadata": {},
   "outputs": [],
   "source": [
    "def f107(root):\n",
    "    res = []\n",
    "    \n",
    "    def dfs(node, level, res):\n",
    "        if not node:\n",
    "            return \n",
    "        if len(res) > level + 1:\n",
    "            res.insert(0, [])\n",
    "        res[-(level+1)].append(node.val)\n",
    "        dfs(node.left, level+1, res)\n",
    "        dfs(node.right, level+1, res)\n",
    "        \n",
    "    dfs(root, 0, res)\n",
    "    return res"
   ]
  },
  {
   "cell_type": "code",
   "execution_count": null,
   "metadata": {},
   "outputs": [],
   "source": [
    "#98. validate binary search tree"
   ]
  },
  {
   "cell_type": "code",
   "execution_count": null,
   "metadata": {},
   "outputs": [],
   "source": [
    "def f98(root, low=float('inf'), high=float('-inf')):\n",
    "    if not root:\n",
    "        return True\n",
    "    if root.val <= low or root.val >= high:\n",
    "        return False\n",
    "    return f98(root.left, min(root.val, low), high) and f98(root.right, low, max(root.val, high))\n",
    "\n",
    "def f98_2(root):\n",
    "    pre, cur, stack = None, root, []\n",
    "    while stack or cur:\n",
    "        while cur:\n",
    "            stack.append(cur)\n",
    "            cur = cur.left\n",
    "        node = stack.pop()\n",
    "        if pre and node.val <= pre.val:\n",
    "            return False\n",
    "        pre, cur = node, node.right\n",
    "    return True\n",
    "    "
   ]
  },
  {
   "cell_type": "code",
   "execution_count": null,
   "metadata": {},
   "outputs": [],
   "source": []
  },
  {
   "cell_type": "code",
   "execution_count": null,
   "metadata": {},
   "outputs": [],
   "source": [
    "#285.inorder successor in BST\n",
    "def f285(root, p):\n",
    "    if not root or not p:\n",
    "        return None\n",
    "    if root.val <= p.val:\n",
    "        return f285(root.right, p)\n",
    "    else:\n",
    "        left = f285(root.left, p)\n",
    "    if not left:\n",
    "        return root\n",
    "    else:\n",
    "        return left\n",
    "    \n",
    "def f285_2(root, p):\n",
    "    if not root or not p:\n",
    "        return None\n",
    "    succ = None\n",
    "    while root:\n",
    "        if p.val < root.val:\n",
    "            succ = root\n",
    "            root = root.left\n",
    "        else:\n",
    "            root = root.right\n",
    "    return succ\n",
    "\n",
    "#predecessor\n",
    "def f285_pred(root, p):\n",
    "    if not root or not p:\n",
    "        return None\n",
    "    if root.val >= p.val:\n",
    "        return f285_pred(root.left, p)\n",
    "    else:\n",
    "        right= f285_pred(root.right, p)\n",
    "    if not right:\n",
    "        return root\n",
    "    else:\n",
    "        return right\n",
    "    "
   ]
  },
  {
   "cell_type": "code",
   "execution_count": null,
   "metadata": {},
   "outputs": [],
   "source": []
  },
  {
   "cell_type": "code",
   "execution_count": null,
   "metadata": {},
   "outputs": [],
   "source": [
    "#257. binary tree paths"
   ]
  },
  {
   "cell_type": "code",
   "execution_count": null,
   "metadata": {},
   "outputs": [],
   "source": [
    "def f257(root):\n",
    "    if not root:\n",
    "        return []\n",
    "    res = []\n",
    "    \n",
    "    def dfs(node, path, res):\n",
    "        if not node.left and not node.right:\n",
    "            res.append(path + str(root.val))\n",
    "        if node.left:\n",
    "            dfs(node.left, path+str(node.val)+\"->\", res)\n",
    "        if node.right:\n",
    "            dfs(node.right, path+str(node.val)+\"->\", res)\n",
    "            \n",
    "    dfs(root, \"\", res)\n",
    "    return res"
   ]
  },
  {
   "cell_type": "code",
   "execution_count": null,
   "metadata": {},
   "outputs": [],
   "source": []
  },
  {
   "cell_type": "code",
   "execution_count": null,
   "metadata": {},
   "outputs": [],
   "source": [
    "#173. binary tree iterator"
   ]
  },
  {
   "cell_type": "code",
   "execution_count": null,
   "metadata": {},
   "outputs": [],
   "source": [
    "class f173:\n",
    "    def __init__(self, root):\n",
    "        self.nodes = []\n",
    "        while root:\n",
    "            self.nodes.append(root)\n",
    "            root = root.left\n",
    "            \n",
    "    def hasNext(self):\n",
    "        return len(self.nodes) > 0\n",
    "    \n",
    "    def next(self):\n",
    "        res = self.nodes.pop()\n",
    "        cur = res.right\n",
    "        while cur:\n",
    "            self.nodes.append(cur)\n",
    "            cur = cur.left\n",
    "        return res.val"
   ]
  },
  {
   "cell_type": "code",
   "execution_count": null,
   "metadata": {},
   "outputs": [],
   "source": []
  },
  {
   "cell_type": "code",
   "execution_count": null,
   "metadata": {},
   "outputs": [],
   "source": [
    "#314. binary tree vertical order traversal"
   ]
  },
  {
   "cell_type": "code",
   "execution_count": null,
   "metadata": {},
   "outputs": [],
   "source": [
    "def 314(root):\n",
    "    if not root:\n",
    "        return []\n",
    "    minCol, maxCol, table = 0, 0, {}\n",
    "    res, q = [], collections.deque([(root, 0)])\n",
    "    while q:\n",
    "        root, col = q.popleft()\n",
    "        if col not in table:\n",
    "            table[col] = []\n",
    "        table[col].append(root.val)\n",
    "        if root.left:\n",
    "            q.append((root.left, col-1))\n",
    "            minCol = min(minCol, col-1)\n",
    "        if root.right:\n",
    "            q.append((root.right, col+1))\n",
    "            maxCol = min(maxCol, col+1)\n",
    "        \n",
    "    for i in range(minCol, maxCol+1):\n",
    "        res.append(table[i])\n",
    "        \n",
    "    return res\n",
    "        "
   ]
  },
  {
   "cell_type": "code",
   "execution_count": null,
   "metadata": {},
   "outputs": [],
   "source": [
    "#987. Vertical Order Traversal of a Binary Tree"
   ]
  },
  {
   "cell_type": "code",
   "execution_count": null,
   "metadata": {},
   "outputs": [],
   "source": [
    "def f987(root):\n",
    "    if not root:\n",
    "        return []\n",
    "    ans = collections.defaultdict(list)\n",
    "    level, q = 0, [(root, 0)] #(node, col)\n",
    "    res = []\n",
    "    while q:\n",
    "        next_q = []\n",
    "        for node, col in q:\n",
    "            ans[col].append((level, node.val))\n",
    "            if node.left: next_q.append((node.left, col-1))\n",
    "            if node.right: next_q.append((node.right, col+1))\n",
    "        q = next_q\n",
    "        level += 1\n",
    "    res = [sorted(ans[k], lambda x: x[0]) for k in sorted(ans.keys())] #sort keys = column, sort each column in ans by level\n",
    "    return [[val for _, val in r] for r in res]  #_ is the level"
   ]
  },
  {
   "cell_type": "code",
   "execution_count": null,
   "metadata": {},
   "outputs": [],
   "source": []
  },
  {
   "cell_type": "code",
   "execution_count": null,
   "metadata": {},
   "outputs": [],
   "source": [
    "#297. serialize and deserialize binary tree"
   ]
  },
  {
   "cell_type": "code",
   "execution_count": null,
   "metadata": {},
   "outputs": [],
   "source": [
    "def f297:\n",
    "    def serialize(self, root):\n",
    "        def helper(node):\n",
    "            if node:\n",
    "                res.append(str(node.val))\n",
    "                helper(node.left)\n",
    "                helper(node.right)\n",
    "            else:\n",
    "                res.append('#')\n",
    "        res = []\n",
    "        helper(root)\n",
    "        return ''.join(res)\n",
    "    \n",
    "    def deserialize(self, data):\n",
    "        def helper():\n",
    "            val = next(res)\n",
    "            if val == '#':\n",
    "                return None\n",
    "            node = TreeNode(int(val))\n",
    "            node.left = helper()\n",
    "            node.right = helper()\n",
    "            return node\n",
    "        \n",
    "        res = iter(data.split())\n",
    "        return helper()"
   ]
  },
  {
   "cell_type": "code",
   "execution_count": null,
   "metadata": {},
   "outputs": [],
   "source": []
  },
  {
   "cell_type": "code",
   "execution_count": null,
   "metadata": {},
   "outputs": [],
   "source": [
    "#Map"
   ]
  },
  {
   "cell_type": "code",
   "execution_count": 26,
   "metadata": {},
   "outputs": [
    {
     "name": "stdout",
     "output_type": "stream",
     "text": [
      "[[7, 2]]\n"
     ]
    }
   ],
   "source": [
    "#1. Two Sum, 2 Sum\n",
    "def f1(nums, target):\n",
    "    res = []\n",
    "    dic = dict()\n",
    "    for n in nums:\n",
    "        if (target - n) in dic and dic[target - n] == n:\n",
    "            res.append([n, target - n])\n",
    "        else:\n",
    "            dic[n] = target - n\n",
    "    return res\n",
    "            \n",
    "nums, target=[2, 7, 11, 15], 9\n",
    "print(f1(nums, target))"
   ]
  },
  {
   "cell_type": "code",
   "execution_count": null,
   "metadata": {},
   "outputs": [],
   "source": [
    "#15. Three Sum, 3 Sum"
   ]
  },
  {
   "cell_type": "code",
   "execution_count": null,
   "metadata": {},
   "outputs": [],
   "source": [
    "def f15(nums):\n",
    "    res = []\n",
    "    if len(nums)<3 or nums == [0]*len(nums):\n",
    "        return res\n",
    "    nums.sort()\n",
    "    if nums[-1] < 0:\n",
    "        return res\n",
    "    while nums[0] <= 0:\n",
    "        sum2n = f1(nums[1:], -nums[0])\n",
    "        if sum2n:\n",
    "            for n in sum2n:\n",
    "                n.append(nums[0])\n",
    "                res.append(n)\n",
    "        nums = nums[1:]\n",
    "    return list(set([tuple(i) for in in res]))\n",
    "\n",
    "        "
   ]
  },
  {
   "cell_type": "code",
   "execution_count": null,
   "metadata": {},
   "outputs": [],
   "source": [
    "#Two pointers (2Sum and 3Sum)"
   ]
  },
  {
   "cell_type": "code",
   "execution_count": null,
   "metadata": {},
   "outputs": [],
   "source": []
  },
  {
   "cell_type": "code",
   "execution_count": null,
   "metadata": {},
   "outputs": [],
   "source": [
    "#Array"
   ]
  },
  {
   "cell_type": "code",
   "execution_count": null,
   "metadata": {},
   "outputs": [],
   "source": [
    "#283. Move zeros"
   ]
  },
  {
   "cell_type": "code",
   "execution_count": null,
   "metadata": {},
   "outputs": [],
   "source": [
    "def f283(nums):\n",
    "    j = 0\n",
    "    for i in range(len(nums)):\n",
    "        if nums[i] != 0:\n",
    "            nums[i], nums[j] = nums[j], nums[i]\n",
    "            j += 1\n",
    "    return nums"
   ]
  },
  {
   "cell_type": "code",
   "execution_count": null,
   "metadata": {},
   "outputs": [],
   "source": []
  },
  {
   "cell_type": "code",
   "execution_count": null,
   "metadata": {},
   "outputs": [],
   "source": [
    "#88. merge sorted array"
   ]
  },
  {
   "cell_type": "code",
   "execution_count": null,
   "metadata": {},
   "outputs": [],
   "source": [
    "def f88(N1, N2):\n",
    "    i, j, k = len(N1)-1, len(N2)-1, len(N1)+len(N2)-1\n",
    "    while i >= 0 and j >= 0:\n",
    "        if N1[i] > N2[j]:\n",
    "            N1[k] = N1[i]\n",
    "            i -= 1\n",
    "        else:\n",
    "            N1[k] = N2[j]\n",
    "            j -= 1\n",
    "        k -= 1\n",
    "    if j >= 0:\n",
    "        N1[:k+1] = N2[:j+1]\n",
    "    \n",
    "    return N1\n",
    "        "
   ]
  },
  {
   "cell_type": "code",
   "execution_count": null,
   "metadata": {},
   "outputs": [],
   "source": [
    "#121. best time to buy and sell stock"
   ]
  },
  {
   "cell_type": "code",
   "execution_count": null,
   "metadata": {},
   "outputs": [],
   "source": [
    "def f121(nums):\n",
    "    if not nums:\n",
    "        return 0\n",
    "    minc, maxc = nums[0], 0\n",
    "    for i in range(1, len(nums)):\n",
    "        minc = min(minc, nums[i])\n",
    "        maxc = max(maxc, nums[i]-minc)\n",
    "    return maxc"
   ]
  },
  {
   "cell_type": "code",
   "execution_count": null,
   "metadata": {},
   "outputs": [],
   "source": [
    "#75. sort colors\n",
    "def f75(nums):\n",
    "    c0 = c1 = c2 = 0\n",
    "    for n in nums:\n",
    "        if n == 0:\n",
    "            c0 += 1\n",
    "        elif n == 1:\n",
    "            c1 += 1\n",
    "        else:\n",
    "            c2 += 1\n",
    "    nums[:c0] = [0]*c0\n",
    "    nums[:c1] = [1]*c1\n",
    "    nums[:c2] = [2]*c2\n",
    "    return nums\n",
    "\n",
    "def f75_2(nums):\n",
    "    start, mid, end = 0, 0, len(nums)-1\n",
    "    while mid <= end:\n",
    "        if nums[mid] == 0:\n",
    "            nums[mid], nums[start] = nums[start], nums[mid]\n",
    "            start += 1\n",
    "            mid += 1\n",
    "        elif nums[mid] == 1:\n",
    "            mid += 1\n",
    "        elif nums[mid] == 2:\n",
    "            nums[mid], nums[end] = nums[end], nums[mid]\n",
    "            end -= 1\n",
    "    return nums"
   ]
  },
  {
   "cell_type": "code",
   "execution_count": null,
   "metadata": {},
   "outputs": [],
   "source": []
  },
  {
   "cell_type": "code",
   "execution_count": null,
   "metadata": {},
   "outputs": [],
   "source": [
    "#sort colors II - sort K colors\n",
    "def f75_k(nums, k):\n",
    "    clist = list(range(1,k+1))  #color type: 1 -> k\n",
    "    cnt = [0]*len(k)\n",
    "    for n in nums:\n",
    "        for i in range(k):\n",
    "            if n == clist[i]:\n",
    "                cnt[i] += 1\n",
    "    \n",
    "    for i in range(k)\n",
    "        nums[:cnt[i]] = clist[i]*cnt[i]\n",
    "    return nums"
   ]
  },
  {
   "cell_type": "code",
   "execution_count": null,
   "metadata": {},
   "outputs": [],
   "source": []
  },
  {
   "cell_type": "code",
   "execution_count": null,
   "metadata": {},
   "outputs": [],
   "source": [
    "#398. random pick index\n",
    "import random\n",
    "class f398:\n",
    "    def __init__(self, nums):\n",
    "        self.nums = nums\n",
    "    def pick(self, target):\n",
    "        return random.choice([i for i, v in enumerate(self.nums) if v == target])\n",
    "    \n",
    "    def pick_2(self, target):\n",
    "        cnt = 0\n",
    "        for i, v in enumerate(self.nums):\n",
    "            if v == target:\n",
    "                cnt += 1\n",
    "                chance = random.randint(1, cnt)\n",
    "                if chance == cnt:\n",
    "                    return i"
   ]
  },
  {
   "cell_type": "code",
   "execution_count": null,
   "metadata": {},
   "outputs": [],
   "source": []
  },
  {
   "cell_type": "code",
   "execution_count": null,
   "metadata": {},
   "outputs": [],
   "source": [
    "#274. H-index (not sorted)"
   ]
  },
  {
   "cell_type": "code",
   "execution_count": null,
   "metadata": {},
   "outputs": [],
   "source": [
    "def f274(nums):\n",
    "    return sum(i < v for i, v in enumerate(sorted(nums, reverse=True)) )"
   ]
  },
  {
   "cell_type": "code",
   "execution_count": null,
   "metadata": {},
   "outputs": [],
   "source": [
    "#275. H-index II (sorted in assending order)\n",
    "#note there could be multiple H-index"
   ]
  },
  {
   "cell_type": "code",
   "execution_count": null,
   "metadata": {},
   "outputs": [],
   "source": [
    "def f275(nums):\n",
    "    n = len(nums)\n",
    "    low, high = 0, n - 1\n",
    "    while low <= high:\n",
    "        mid = (low+high)//2\n",
    "        if nums[mid] < n - mid:\n",
    "            low = mid + 1\n",
    "        else:\n",
    "            if mid == 0 or nums[mid - 1] < n - mid + 1:\n",
    "                return n - mid\n",
    "            high = mid - 1\n",
    "    return 0"
   ]
  },
  {
   "cell_type": "code",
   "execution_count": null,
   "metadata": {},
   "outputs": [],
   "source": []
  },
  {
   "cell_type": "code",
   "execution_count": null,
   "metadata": {},
   "outputs": [],
   "source": [
    "#26. Remove duplicates from sorted array\n",
    "def f26(nums):\n",
    "    if not nums:\n",
    "        return\n",
    "    j, n = 0, nums[0]\n",
    "    for i in range(1, len(nums)):\n",
    "        if nums[i] != n:\n",
    "            nums[j] = nums[i]\n",
    "            n = nums[i]\n",
    "            j += 1\n",
    "    return nums[:j]"
   ]
  },
  {
   "cell_type": "code",
   "execution_count": null,
   "metadata": {},
   "outputs": [],
   "source": [
    "#80. removce duplicates from sorted array II\n",
    "#allow two dups at most\n",
    "\n",
    "def f80(nums):\n",
    "    i = 0\n",
    "    for n in nums:\n",
    "        if i < 2 or n > nums[i-2]:\n",
    "            nums[i] = n\n",
    "            i += 1\n",
    "    return i\n",
    "\n",
    "def f80_2(nums):\n",
    "    tail = 0\n",
    "    for num in nums:\n",
    "        if tail < 2 or num != nums[tail - 1] or num != nums[tail - 2]:\n",
    "            nums[tail] = num\n",
    "            tail += 1\n",
    "    return tail\n",
    "\n",
    "def f80_3(self, nums):\n",
    "    \"\"\"\n",
    "    :type nums: List[int]\n",
    "    :rtype: int\n",
    "    \"\"\"\n",
    "    if not nums:\n",
    "        return 0\n",
    "    i = 0\n",
    "    count = 1\n",
    "    flag = False \n",
    "    for j in range(1, len(nums)):\n",
    "        if nums[j] == nums[i]:\n",
    "            if not flag: \n",
    "                flag = True\n",
    "                i += 1\n",
    "                nums[i], nums[j] = nums[j], nums[i]\n",
    "                count += 1\n",
    "        else:\n",
    "            flag = False\n",
    "            i += 1\n",
    "            nums[i], nums[j] = nums[j], nums[i]\n",
    "            count += 1\n",
    "    return count\n",
    "\n",
    "def 80_4(nums):\n",
    "    if not nums:\n",
    "        return\n",
    "    i, j, k = -2, -1, 0\n",
    "    while k < len(nums):\n",
    "        if i < 0 or j < 0 or nums[i] != nums[j] or nums[k] != nums[j]:\n",
    "            i += 1\n",
    "            j += 1\n",
    "            nums[k], nums[j] = nums[j], nums[k]\n",
    "        k += 1\n",
    "    return j+1"
   ]
  },
  {
   "cell_type": "code",
   "execution_count": null,
   "metadata": {},
   "outputs": [],
   "source": []
  },
  {
   "cell_type": "code",
   "execution_count": null,
   "metadata": {},
   "outputs": [],
   "source": [
    "#334. increasing triplet subsequences\n",
    "#arr[i] < arr[j] < arr[k] given 0 ≤ i < j < k ≤ n-1 else return false.\n",
    "\n",
    "def f334(nums):\n",
    "    first = second = float('inf')\n",
    "    for n in nums:\n",
    "        if n <= first:\n",
    "            first = n\n",
    "        elif n <= second:\n",
    "            second = n\n",
    "        else:\n",
    "            return True\n",
    "    return False"
   ]
  },
  {
   "cell_type": "code",
   "execution_count": null,
   "metadata": {},
   "outputs": [],
   "source": []
  },
  {
   "cell_type": "code",
   "execution_count": null,
   "metadata": {},
   "outputs": [],
   "source": [
    "#215. kth largest element in an array"
   ]
  },
  {
   "cell_type": "code",
   "execution_count": null,
   "metadata": {},
   "outputs": [],
   "source": [
    "#QuickSelect\n",
    "import random\n",
    "def f215(nums, k):\n",
    "    pivot = nums[random.randint(0, len(nums))]\n",
    "    left = mid = right = []\n",
    "    for i in nums:\n",
    "        if i > pivot:\n",
    "            left += [i]\n",
    "        elif i < pivot:\n",
    "            right += [i]\n",
    "        else:\n",
    "            mid += [i]\n",
    "    if k <= len(left):\n",
    "        return f215(left, k)\n",
    "    elif k <= len(left) + len(mid):\n",
    "        return pivot\n",
    "    else:\n",
    "        return f215(right, k-len(left)-len(mid))\n",
    "    \n",
    "#HeapSort\n",
    "import heapq\n",
    "def f215_2(nums, k):\n",
    "    h = []\n",
    "    for n in nums:\n",
    "        if len(h) < k:\n",
    "            heapq.heappush(h, n)\n",
    "        else:\n",
    "            heapq.heappushpop(h, n)  #push and pop\n",
    "    return h[0]\n"
   ]
  },
  {
   "cell_type": "code",
   "execution_count": null,
   "metadata": {},
   "outputs": [],
   "source": []
  },
  {
   "cell_type": "code",
   "execution_count": null,
   "metadata": {},
   "outputs": [],
   "source": [
    "#277. find the celebrity\n",
    "def f277(n):\n",
    "    candid = set(range(n))\n",
    "    while candid:\n",
    "        it = iter(candid)\n",
    "        a, b = next(it), next(it)\n",
    "        if knows(a, b):\n",
    "            candid.remove(a)\n",
    "        else:\n",
    "            candid.remove(b)\n",
    "    c = next(iter(candid))\n",
    "    return c if sum([know(i, c) for i in range(n)]) == n - 1 and \\\n",
    "            sum([know(c, i) for i in range(n)] == 0) else None\n",
    "        \n",
    "        "
   ]
  },
  {
   "cell_type": "code",
   "execution_count": 30,
   "metadata": {},
   "outputs": [
    {
     "name": "stdout",
     "output_type": "stream",
     "text": [
      "[24, 12, 8, 6]\n"
     ]
    }
   ],
   "source": [
    "import functools\n",
    "nums = [1,2,3,4]\n",
    "tot = functools.reduce(lambda x, y: x*y, nums)\n",
    "print ([int(tot/i) for i in nums])"
   ]
  },
  {
   "cell_type": "code",
   "execution_count": 31,
   "metadata": {},
   "outputs": [
    {
     "name": "stdout",
     "output_type": "stream",
     "text": [
      "[24, 12, 8, 6]\n"
     ]
    }
   ],
   "source": [
    "#238. product of array except self\n",
    "def f238(nums):\n",
    "    res = [1]*len(nums)\n",
    "    lprod, rprod = 1, 1\n",
    "    for i in range(len(nums)):\n",
    "        res[i] *= lprod\n",
    "        lprod *= nums[i]\n",
    "        res[~i] *= rprod\n",
    "        rprod *= nums[~i]\n",
    "    return res\n",
    "nums = [1,2,3,4]\n",
    "print(f238(nums))"
   ]
  },
  {
   "cell_type": "code",
   "execution_count": null,
   "metadata": {},
   "outputs": [],
   "source": []
  },
  {
   "cell_type": "code",
   "execution_count": null,
   "metadata": {},
   "outputs": [],
   "source": [
    "#209. minimum size subarray sum\n",
    "def f209(nums, s):\n",
    "    total = left = right = 0\n",
    "    res = len(nums) + 1\n",
    "    while right < len(nums):\n",
    "        total += nums[right]\n",
    "        while total >= s:\n",
    "            res = min(res, right - left + 1)\n",
    "            total -= nums[left]\n",
    "            left += 1\n",
    "        right += 1\n",
    "    return res if res <= len(nums) else 0\n"
   ]
  },
  {
   "cell_type": "code",
   "execution_count": null,
   "metadata": {},
   "outputs": [],
   "source": []
  },
  {
   "cell_type": "code",
   "execution_count": null,
   "metadata": {},
   "outputs": [],
   "source": [
    "#325. maximum size subarray sum equal to k\n",
    "def 325(nums, k):\n",
    "    dic, res, total = dict(), 0, 0\n",
    "    for i in range(len(nums)):\n",
    "        total += nums[i]\n",
    "        if total == k:\n",
    "            res = i + 1\n",
    "        elif (total-k) in dic:\n",
    "            res =  max(res, i - dic[total-k])\n",
    "        if total not in dic:\n",
    "            dic[total] = i\n",
    "    return res"
   ]
  },
  {
   "cell_type": "code",
   "execution_count": null,
   "metadata": {},
   "outputs": [],
   "source": []
  },
  {
   "cell_type": "code",
   "execution_count": null,
   "metadata": {},
   "outputs": [],
   "source": [
    "#252. meeting rooms\n",
    "def f252(intervals):\n",
    "    intervals.sort(key=lambda: x: x[0])\n",
    "    return all([intervals[i][0]>=intervals[i-1][1] for i in range(1, len(intervals))])\n"
   ]
  },
  {
   "cell_type": "code",
   "execution_count": null,
   "metadata": {},
   "outputs": [],
   "source": [
    "#253. meeting rooms II\n",
    "#minimum rooms required\n",
    "import heapq\n",
    "def f253(intervals):\n",
    "    intervals.sort(key=lambda: x: x[0])\n",
    "    h = []\n",
    "    for t in intervals:\n",
    "        if heap and t[0] >= h[0]: #h[0] the latest ending time\n",
    "            heapq.heapreplace(h, t[1])\n",
    "        else:\n",
    "            heapq.heappush(h, t[1]) #add one more room\n",
    "    return len(h)\n",
    "\n",
    "def f253_2(intervals):\n",
    "    intervals.sort(key=lambda: x: x[0])\n",
    "    res = []\n",
    "    for start, end in intervals:\n",
    "        index = -1\n",
    "        for i in range(len(res)):\n",
    "            if res[i] <= start:\n",
    "                res[i] = end\n",
    "                index = i\n",
    "                break\n",
    "        if index == -1:\n",
    "            res.append(end)  #add new room\n",
    "                \n",
    "    return len(res)\n"
   ]
  },
  {
   "cell_type": "code",
   "execution_count": null,
   "metadata": {},
   "outputs": [],
   "source": []
  },
  {
   "cell_type": "code",
   "execution_count": null,
   "metadata": {},
   "outputs": [],
   "source": [
    "#341. flatten nested list iterator\n",
    "class f341(nestedList):\n",
    "    def __init__(self, nestedList):\n",
    "        ints = []\n",
    "        def collect(nestedList):\n",
    "            for x in nestedList[::-1]:\n",
    "                if x.isInteger():\n",
    "                    ints.append(x.getInteger())\n",
    "            else:\n",
    "                collect(x.getList())\n",
    "        collect(nestedList)\n",
    "        self.next = ints.pop()\n",
    "        self.hasNext = lambda: bool(ints)\n"
   ]
  },
  {
   "cell_type": "code",
   "execution_count": null,
   "metadata": {},
   "outputs": [],
   "source": []
  },
  {
   "cell_type": "code",
   "execution_count": null,
   "metadata": {},
   "outputs": [],
   "source": [
    "#311. sparse matrix multiplication\n",
    "def f311(A, B):\n",
    "    if not len(A) or not len(B):\n",
    "        return [[]]\n",
    "    a, b, c = len(A), len(B), len(B[0])\n",
    "    AB = [[0 for _ in range(c)] for _ in range(a)]\n",
    "    \n",
    "    for i in range(a):\n",
    "        for j in range(b):\n",
    "            if A[i][j] != 0\n",
    "                for k in range(c):\n",
    "                    if B[j][k] != 0\n",
    "                        AB[i][k] = A[i][j]*B[j][k]\n",
    "    return AB\n"
   ]
  },
  {
   "cell_type": "code",
   "execution_count": null,
   "metadata": {},
   "outputs": [],
   "source": [
    "#56. Merge Intervals"
   ]
  },
  {
   "cell_type": "code",
   "execution_count": null,
   "metadata": {},
   "outputs": [],
   "source": [
    "\n",
    "def f56(intervals):\n",
    "    res = []\n",
    "    intervals = sorted(intervals, key=lambda: x:x[0])\n",
    "    for t in intervals:\n",
    "        if res and t[0] <= res[-1][1]:\n",
    "            res[-1][1] = max(res[-1][1], t[1])\n",
    "        else:\n",
    "            res.append(t)\n",
    "    return res\n"
   ]
  },
  {
   "cell_type": "code",
   "execution_count": null,
   "metadata": {},
   "outputs": [],
   "source": [
    "#57. Insert intervals"
   ]
  },
  {
   "cell_type": "code",
   "execution_count": null,
   "metadata": {},
   "outputs": [],
   "source": [
    "def f57(intervals, new):\n",
    "    res = []\n",
    "    for i, t in enumerate(intervals):\n",
    "        if t[1] < new[0]:\n",
    "            res.append(t)\n",
    "        elif t[0] > new[1]\n",
    "            res.append(new)\n",
    "            return res + intervals[i:]\n",
    "        else:\n",
    "            new[0] = min(new[0], t[0])\n",
    "            new[1] = max(new[1], t[1])\n",
    "    res.append(new)\n",
    "    return res\n",
    "            \n",
    "        "
   ]
  },
  {
   "cell_type": "code",
   "execution_count": null,
   "metadata": {},
   "outputs": [],
   "source": [
    "#binary search\n",
    "def insert(self, intervals, newInterval):\n",
    "    [s,e] = newInterval.start, newInterval.end\n",
    "    s_floor = self.binary_search_floor(intervals, s)\n",
    "    e_floor = self.binary_search_floor(intervals, e)\n",
    "    if e_floor>=0: new_e = max(e, intervals[e_floor].end)\n",
    "    \n",
    "    if s_floor == -1:\n",
    "        if e_floor==-1:                                #case: adding [1,2] into [[3,4]]\n",
    "            return [[s,e]]+intervals\n",
    "        return [[s,new_e]]+intervals[e_floor+1:]       #case: adding [1,3] into [[2,4]]\n",
    "        \n",
    "    elif s>intervals[s_floor].end:                     #case: adding [3,4] into [[1,2]]\n",
    "        return intervals[:s_floor+1]+[[s,new_e]]+intervals[e_floor+1:]\n",
    "        \n",
    "    else:\n",
    "        new_s = intervals[s_floor].start               #case: adding [3,5] into [[1,4]]\n",
    "        return intervals[:s_floor]+[[new_s,new_e]]+intervals[e_floor+1:]\n",
    "    \n",
    "    \n",
    "def binary_search_floor(self, arr, t):\n",
    "    l,r = 0, len(arr)-1\n",
    "    ans = -1\n",
    "    while (l<=r):\n",
    "        mid = (l+r)/2\n",
    "        if arr[mid].start==t:\n",
    "            return mid\n",
    "        if arr[mid].start<t:\n",
    "            ans = mid\n",
    "            l = mid+1\n",
    "        else:\n",
    "            r = mid-1\n",
    "    return ans"
   ]
  },
  {
   "cell_type": "code",
   "execution_count": null,
   "metadata": {},
   "outputs": [],
   "source": [
    "#157. read N characters given read4"
   ]
  },
  {
   "cell_type": "code",
   "execution_count": null,
   "metadata": {},
   "outputs": [],
   "source": [
    "def f157(buf, n):\n",
    "    size = 0\n",
    "    while size < n:\n",
    "        buf4 = [\"\"]*4\n",
    "        cnt = read4(buf4)\n",
    "        if not cnt:\n",
    "            break\n",
    "        cnt = min(cnt, n - size)\n",
    "        buf[size:] = buf4[:cnt]\n",
    "        size += cnt\n",
    "    return size"
   ]
  },
  {
   "cell_type": "code",
   "execution_count": null,
   "metadata": {},
   "outputs": [],
   "source": [
    "#158. read N characters given read4 II"
   ]
  },
  {
   "cell_type": "code",
   "execution_count": null,
   "metadata": {},
   "outputs": [],
   "source": [
    "class f158:\n",
    "    def __init__(self):\n",
    "        self.buf4ptr = 0\n",
    "        self.cnt = 0\n",
    "        self.buf4 = [\"\"]*4\n",
    "        \n",
    "    def read(self, buf, n):\n",
    "        ptr = 0\n",
    "        while ptr < n:\n",
    "            if self.buf4ptr == 0:\n",
    "                self.cnt = read4(self.buf4)\n",
    "            if not self.cnt:\n",
    "                break\n",
    "            while ptr < n and self.buf4ptr < self.cnt:\n",
    "                buf[ptr] = self.buf4[self.buf4ptr]\n",
    "                ptr += 1\n",
    "                self.buf4ptr += 1\n",
    "            if self.buf4ptr >= self.cnt:\n",
    "                self.buf4ptr = 0\n",
    "        return ptr"
   ]
  },
  {
   "cell_type": "code",
   "execution_count": null,
   "metadata": {},
   "outputs": [],
   "source": []
  },
  {
   "cell_type": "code",
   "execution_count": null,
   "metadata": {},
   "outputs": [],
   "source": [
    "#String"
   ]
  },
  {
   "cell_type": "code",
   "execution_count": null,
   "metadata": {},
   "outputs": [],
   "source": [
    "#168. excel sheet column title\n",
    "def f168(n):\n",
    "    dic = [chr(x) for x in range(ord('A'), ord('Z'))]\n",
    "    res = \"\"\n",
    "    while n > 0:\n",
    "        n, m  = divmod(n-1, 26)\n",
    "        res = dic[m] + res\n",
    "    return res\n",
    "        "
   ]
  },
  {
   "cell_type": "code",
   "execution_count": null,
   "metadata": {},
   "outputs": [],
   "source": [
    "#171. excel sheet column number\n",
    "def f171(strs):\n",
    "    res = 0\n",
    "    for c in strs:\n",
    "        res = res*26 + ord(c)-ord('A') + 1\n",
    "    return res"
   ]
  },
  {
   "cell_type": "code",
   "execution_count": null,
   "metadata": {},
   "outputs": [],
   "source": []
  },
  {
   "cell_type": "code",
   "execution_count": null,
   "metadata": {},
   "outputs": [],
   "source": [
    "#67. add binary\n",
    "def f67(a, b):\n",
    "    i, m, n, res, carry = 1, len(a), len(b), [], 0\n",
    "    while i <= m or i <= n:\n",
    "        if i <= m:\n",
    "            carry += int(a[-i])\n",
    "        if i <= n:\n",
    "            carry += int(b[-i])\n",
    "        \n",
    "        carry, tmp = divmod(carry, 2)\n",
    "        res.append(str(tmp))\n",
    "        i += 1\n",
    "    if carry:\n",
    "        res.append(str(carry))\n",
    "    return ''.join(res[::-1])\n",
    "\n",
    "\n",
    "        \n",
    "        "
   ]
  },
  {
   "cell_type": "code",
   "execution_count": null,
   "metadata": {},
   "outputs": [],
   "source": []
  },
  {
   "cell_type": "code",
   "execution_count": null,
   "metadata": {},
   "outputs": [],
   "source": [
    "#13. roman to integer\n",
    "def f13(strs):\n",
    "    dic = dict(I=1, V=5, X=10, L=50, C=100, D=500, M=1000)\n",
    "    res, start = 0, \"M\"\n",
    "    for c in strs:\n",
    "        if dic[c] > dic[start]:\n",
    "            res +=  res - 2*dic[start]\n",
    "        else:\n",
    "            res += dic[c]\n",
    "        start = c\n",
    "    return n"
   ]
  },
  {
   "cell_type": "code",
   "execution_count": null,
   "metadata": {},
   "outputs": [],
   "source": [
    "#12. integer to roman\n",
    "def f12(n):\n",
    "    roman_list = [\"I\",\"IV\",\"V\",\"IX\",\"X\",\"XL\",\"L\",\"XC\",\"C\",\"CD\",\"D\",\"CM\",\"M\"]\n",
    "    int_list =  [1,4,5,9,10,40,50,90,100,400,500,900,1000]\n",
    "    if n <=0 or n > 3999:\n",
    "        return None\n",
    "    k, res = len(int_list)-1, \"\"\n",
    "    while n > 0:\n",
    "        if n >= int_list[k]:\n",
    "            n -= int_list[k]\n",
    "            res += roman_list[k]\n",
    "        else:\n",
    "            k -= 1\n",
    "    return res"
   ]
  },
  {
   "cell_type": "code",
   "execution_count": null,
   "metadata": {},
   "outputs": [],
   "source": []
  },
  {
   "cell_type": "code",
   "execution_count": null,
   "metadata": {},
   "outputs": [],
   "source": [
    "#28. implement strStr()\n",
    "def f28(strs, substr):\n",
    "    if len(strs) < len(substr):\n",
    "        return -1\n",
    "    for i in range(len(strs)-len(substr)+1):\n",
    "        if strs[i:i+len(substr)] == substr:\n",
    "            return i\n",
    "    return -1"
   ]
  },
  {
   "cell_type": "code",
   "execution_count": 103,
   "metadata": {},
   "outputs": [
    {
     "name": "stdout",
     "output_type": "stream",
     "text": [
      "9\n"
     ]
    }
   ],
   "source": [
    "# find the last index of substr\n",
    "def f28_lastindex(strs, substr):\n",
    "    if len(strs) < len(substr):\n",
    "        return -1\n",
    "    for i in range(len(strs), len(substr), -1):\n",
    "        if strs[i-len(substr):i] == substr:\n",
    "            return i-len(substr)\n",
    "    return -1\n",
    "strs, substr = \"hello,hello\", \"lo\"\n",
    "print(f28_lastindex(strs, substr))"
   ]
  },
  {
   "cell_type": "code",
   "execution_count": null,
   "metadata": {},
   "outputs": [],
   "source": []
  },
  {
   "cell_type": "code",
   "execution_count": null,
   "metadata": {},
   "outputs": [],
   "source": [
    "#38. count and say\n",
    "def f38(n):\n",
    "    res = \"1\"\n",
    "    for i in range(n-1):\n",
    "        ch, tmp, cnt = res[0], \"\", 0\n",
    "        for c in res:\n",
    "            if c == ch:\n",
    "                cnt += 1\n",
    "            else:\n",
    "                tmp += str(cnt) + ch\n",
    "                ch = c\n",
    "                cnt = 1\n",
    "        res = tmp + str(cnt) + ch\n",
    "    return res\n"
   ]
  },
  {
   "cell_type": "code",
   "execution_count": null,
   "metadata": {},
   "outputs": [],
   "source": []
  },
  {
   "cell_type": "code",
   "execution_count": null,
   "metadata": {},
   "outputs": [],
   "source": [
    "#49. group anagrams\n",
    "import collections\n",
    "def f49(words):\n",
    "    res = collections.defaultdict(list)\n",
    "    for word in words:\n",
    "        res[tuple(sorted(word))].append(word)\n",
    "    return [sorted(w) for w in res.values()]"
   ]
  },
  {
   "cell_type": "code",
   "execution_count": null,
   "metadata": {},
   "outputs": [],
   "source": []
  },
  {
   "cell_type": "code",
   "execution_count": null,
   "metadata": {},
   "outputs": [],
   "source": [
    "#43. multiply strings\n",
    "def f43(n1, n2):\n",
    "    res = [0]*(len(n1)+len(n2))\n",
    "    for i in range(len(n1)-1, -1, -1):\n",
    "        carry = 0\n",
    "        for j in range(len(n2)-1, -1, -1):\n",
    "            tmp = int(n1[i])*int(n2[j]) + carry\n",
    "            carry, rem = divmod(res[i+j+1] + tmp, 10)\n",
    "            res[i+j+1] = rem\n",
    "        res[i] += carry\n",
    "    res = \"\".join(map(str, res))\n",
    "    return '0' if not res.lstrip(\"0\") else res.lstrip(\"0\")"
   ]
  },
  {
   "cell_type": "code",
   "execution_count": null,
   "metadata": {},
   "outputs": [],
   "source": []
  },
  {
   "cell_type": "code",
   "execution_count": null,
   "metadata": {},
   "outputs": [],
   "source": []
  },
  {
   "cell_type": "code",
   "execution_count": null,
   "metadata": {},
   "outputs": [],
   "source": [
    "#161. one edit distance\n",
    "def f161(s, t):\n",
    "    if not s or not t or abs(len(s)-len(t))>1:\n",
    "        return False\n",
    "    for i in range(min(len(s), len(t))):\n",
    "        if s[i] != t[i]:\n",
    "            if len(s) == len(t):\n",
    "                return s[i+1:] == t[i+1:]\n",
    "            elif len(s) > len(t):\n",
    "                return s[i+1:] == t[i:]\n",
    "            else:\n",
    "                return s[i:] == t[i+1:]\n",
    "                \n",
    "    return abs(len(s) - len(t)) == 1\n"
   ]
  },
  {
   "cell_type": "code",
   "execution_count": null,
   "metadata": {},
   "outputs": [],
   "source": []
  },
  {
   "cell_type": "code",
   "execution_count": null,
   "metadata": {},
   "outputs": [],
   "source": [
    "#20. valid parentheses\n",
    "def f20(strs):\n",
    "    stack, dic, lst = [], {\"(\": \")\", \"{\": \"}\", \"[\": \"]\"}, [\")\",\"}\",\"]\"]\n",
    "    for s in strs:\n",
    "        if s in dic:\n",
    "            stack.append(s)\n",
    "        elif s in lst:\n",
    "            if stack:\n",
    "                if s != dic[stack.pop()]:\n",
    "                    return False\n",
    "            else:\n",
    "                return False\n",
    "        else:\n",
    "            continue\n",
    "    return not stack"
   ]
  },
  {
   "cell_type": "code",
   "execution_count": null,
   "metadata": {},
   "outputs": [],
   "source": []
  },
  {
   "cell_type": "code",
   "execution_count": null,
   "metadata": {},
   "outputs": [],
   "source": [
    "#44. wildcard matching\n",
    "def f44(s, p):\n",
    "    i, j, k, l = 0, 0, len(s), 0\n",
    "    while i < len(s):\n",
    "        if j < len(p) and p[j] == '*':\n",
    "            k, l = i, j\n",
    "            j += 1\n",
    "        elif j < len(p) and p[j] in (s[i], '?'):\n",
    "            i += 1\n",
    "            j += 1\n",
    "        elif k < len(s): #backtracking if match failed\n",
    "            i, j = k+1, l+1\n",
    "            k += 1\n",
    "        else:\n",
    "            return False\n",
    "    \n",
    "    #if p is trailed by multiple '*'\n",
    "    while j < len(p) and p[j] == '*':\n",
    "        j += 1\n",
    "    return j == len(p)\n",
    "            \n",
    "            "
   ]
  },
  {
   "cell_type": "code",
   "execution_count": null,
   "metadata": {},
   "outputs": [],
   "source": []
  },
  {
   "cell_type": "code",
   "execution_count": null,
   "metadata": {},
   "outputs": [],
   "source": [
    "#regular expression matching\n",
    "def f10(s, p):\n",
    "    if not p: \n",
    "        return not s\n",
    "    \n",
    "    first_match = bool(s) and p[0] in (s[0], '.')\n",
    "    if len(p) >= 2 and p[1] == '*':\n",
    "        return f10(s, p[2:]) or first_match and f10(s[1:], p)\n",
    "    else:\n",
    "        return first_match and f10(s[1:], p[1:])"
   ]
  },
  {
   "cell_type": "code",
   "execution_count": null,
   "metadata": {},
   "outputs": [],
   "source": []
  },
  {
   "cell_type": "code",
   "execution_count": null,
   "metadata": {},
   "outputs": [],
   "source": [
    "#71. simplify path\n",
    "def f71(path):\n",
    "    res = []\n",
    "    pathlist = path.split('/')\n",
    "    for p in pathlist:\n",
    "        if p:\n",
    "            if p == \"..\":\n",
    "                if res:\n",
    "                    res.pop()\n",
    "            elif p == \".\":\n",
    "                continue\n",
    "            else:\n",
    "                res.append(p)\n",
    "    return '/' + '/'.join(res)"
   ]
  },
  {
   "cell_type": "code",
   "execution_count": null,
   "metadata": {},
   "outputs": [],
   "source": []
  },
  {
   "cell_type": "code",
   "execution_count": null,
   "metadata": {},
   "outputs": [],
   "source": [
    "#31. remove invalid parentheses\n",
    "def f31(s):\n",
    "    def invalid(s):\n",
    "        dic = {\"(\": 1, \")\": -1}\n",
    "        extra_left, extra_right = 0, 0\n",
    "        for c in s:\n",
    "            extra_left += dic.get(c, 0)\n",
    "            extra_right += 1 if extra_left < 0 else 0\n",
    "            extra_left = max(0, extra_left)\n",
    "        return extra_left + extra_right\n",
    "    \n",
    "    def dfs(s, n, res):\n",
    "        if n == 0:\n",
    "            res.append(s)\n",
    "            return \n",
    "        for i in range(len(s)):\n",
    "            if s[i] in (\"(\", \")\"):\n",
    "                new_s = s[:i] + s[i+1:] #remove ( or )\n",
    "                if new_s not in visited and invalid(new_s) < n:\n",
    "                    visited.add(new_s)\n",
    "                    dfs(new_s, invalid(new_s), res)\n",
    "                    \n",
    "    res, visited = [], set([s])\n",
    "    dfs(s, invalid(s), res)\n",
    "    return res"
   ]
  },
  {
   "cell_type": "code",
   "execution_count": null,
   "metadata": {},
   "outputs": [],
   "source": []
  },
  {
   "cell_type": "code",
   "execution_count": 62,
   "metadata": {},
   "outputs": [
    {
     "name": "stdout",
     "output_type": "stream",
     "text": [
      "Two Million Two Thousand One\n"
     ]
    }
   ],
   "source": [
    "#273. integer to english words\n",
    "def f273(n):\n",
    "    less20 = [\"\",\"One\",\"Two\",\"Three\",\"Four\",\"Five\",\"Six\",\"Seven\",\"Eight\",\"Nine\",\"Ten\",\"Eleven\",\"Twelve\",\"Thirteen\",\"Fourteen\",\"Fifteen\",\"Sixteen\",\"Seventeen\",\"Eighteen\",\"Nineteen\"]\n",
    "    tens = [\"\",\"Ten\",\"Twenty\",\"Thirty\",\"Forty\",\"Fifty\",\"Sixty\",\"Seventy\",\"Eighty\",\"Ninety\"]\n",
    "    thous = [\"\",\"Thousand\",\"Million\",\"Billion\"]\n",
    "    \n",
    "    def helper(n):\n",
    "        if n == 0:\n",
    "            return \"\"\n",
    "        elif n < 20:\n",
    "            return less20[int(n)] + \" \"\n",
    "        elif n < 100:\n",
    "            return tens[int(n/10)] + \" \" + helper(n%10)\n",
    "        else:\n",
    "            return less20[int(n/100)] + \" Hundred \" + helper(n%100) \n",
    "    \n",
    "    if n == 0: return \"Zero\"\n",
    "    res = \"\"\n",
    "    for i in range(4):\n",
    "        if n % 1000 != 0 :\n",
    "            if helper(n%1000) != \" \":\n",
    "                res = helper(n%1000) + thous[i] + \" \" + res\n",
    "        n /= 1000\n",
    "    return res.strip()\n",
    "\n",
    "print(f273(2002001))\n",
    "            "
   ]
  },
  {
   "cell_type": "code",
   "execution_count": null,
   "metadata": {},
   "outputs": [],
   "source": []
  },
  {
   "cell_type": "code",
   "execution_count": null,
   "metadata": {},
   "outputs": [],
   "source": [
    "#76. minimum window substring\n",
    "def f76(s, t):\n",
    "    need, miss = collections.Counter(t), len(t)\n",
    "    start, end, i = 0, 0, 0\n",
    "    for j, c in enumerate(s, 1):\n",
    "        if c in need:\n",
    "            need[c] -= 1\n",
    "            if need[c] >=0:\n",
    "                miss -= 1\n",
    "        if miss == 0:\n",
    "            while i < j and need[s[i]] < 0:\n",
    "                need[s[i]] += 1\n",
    "                i += 1\n",
    "            need[s[i]] += 1\n",
    "            miss += 1\n",
    "            if end == 0 or j - i < end - start:\n",
    "                star, end = i, j\n",
    "            i += 1\n",
    "    return s[start: end]\n",
    "\n",
    "def f76_2(s, t):\n",
    "    need, miss = collections.Counter(t), len(t)\n",
    "    i, j = 0, 0\n",
    "    res, minlen = '', len(s)\n",
    "    while j < len(s):\n",
    "        if s[j] in need:\n",
    "            need[s[j]] -= 1\n",
    "            if need[s[j]] >= 0:\n",
    "                miss -= 1\n",
    "        while miss == 0:\n",
    "            if s[i] in need:\n",
    "                need[s[i]] += 1\n",
    "                if need[s[i]] > 0:\n",
    "                    miss += 1\n",
    "                    if j-i+1 <= minlen:\n",
    "                        minlen, res = j-i+1, s[i:j+1]\n",
    "            i += 1\n",
    "        j += 1\n",
    "    return res"
   ]
  },
  {
   "cell_type": "code",
   "execution_count": null,
   "metadata": {},
   "outputs": [],
   "source": []
  },
  {
   "cell_type": "code",
   "execution_count": null,
   "metadata": {},
   "outputs": [],
   "source": [
    "#282. expression add operators\n",
    "def f282(num, target):\n",
    "    res, self.target = [], target\n",
    "    def(num, temp, cur, last, res):\n",
    "        if not num:\n",
    "            if cur == self.target:\n",
    "                res.append(temp)\n",
    "            return\n",
    "        for i in range(1, len(num)+1):\n",
    "            val = num[:i]\n",
    "            if i == 1 or (i > 1 and num[0] != \"0\"): \n",
    "                dfs(num[i:], temp + \"+\" + val, cur+int(val), int(val), res)\n",
    "                dfs(num[i:], temp + \"-\" + val, cur-int(val), -int(val), res)\n",
    "                dfs(num[i:], temp + \"*\" + val, cur-last+last*int(val), last*int(val), res)\n",
    "            \n",
    "    \n",
    "    for i in range(1, len(num)+1):\n",
    "        if i ==1 or (i > 1 and num[0] != \"0\"): # prevent \"00*\" as a number\n",
    "            dfs(nums[i:], num[:i], int(nums[i:]), int(num[:i]), res)\n",
    "    return res"
   ]
  },
  {
   "cell_type": "code",
   "execution_count": null,
   "metadata": {},
   "outputs": [],
   "source": []
  },
  {
   "cell_type": "code",
   "execution_count": null,
   "metadata": {},
   "outputs": [],
   "source": [
    "#125. valid palidrome\n",
    "import re\n",
    "def f125(strs):\n",
    "    if s == \"\":\n",
    "        return True\n",
    "    s = \"\".join(re.findall(\"[a-zA-Z0-9]*\", strs)).lower()\n",
    "    return s = s[::-1]\n"
   ]
  },
  {
   "cell_type": "code",
   "execution_count": null,
   "metadata": {},
   "outputs": [],
   "source": []
  },
  {
   "cell_type": "code",
   "execution_count": null,
   "metadata": {},
   "outputs": [],
   "source": [
    "#Binary search"
   ]
  },
  {
   "cell_type": "code",
   "execution_count": null,
   "metadata": {},
   "outputs": [],
   "source": [
    "#278. first bad version\n",
    "def f278(n):\n",
    "    start, end = 1, n+1\n",
    "    while start < end:\n",
    "        mid = (start + end) // 2\n",
    "        if isBadVersion(mid):\n",
    "            end = mid\n",
    "        else:\n",
    "            strt = mid + 1\n",
    "    return start"
   ]
  },
  {
   "cell_type": "code",
   "execution_count": null,
   "metadata": {},
   "outputs": [],
   "source": []
  },
  {
   "cell_type": "code",
   "execution_count": null,
   "metadata": {},
   "outputs": [],
   "source": [
    "#69. sqrt(x)\n",
    "def f69(x):\n",
    "    left, rigth = 0, x\n",
    "    while left <= right:\n",
    "        mid = (left+right) // 2\n",
    "        if mid * mid <= x < (mid+1)*(mid+1):\n",
    "            return mid\n",
    "        elif mid * mid < x:\n",
    "            left = mid + 1\n",
    "        else:\n",
    "            right = mid\n"
   ]
  },
  {
   "cell_type": "code",
   "execution_count": null,
   "metadata": {},
   "outputs": [],
   "source": []
  },
  {
   "cell_type": "code",
   "execution_count": null,
   "metadata": {},
   "outputs": [],
   "source": [
    "#231. Power of two\n",
    "def f231(n):\n",
    "    return n > 0 and n & (n-1) == 0\n",
    "def f231_2(n):\n",
    "    return any(n == 2**i for i in range(32))\n",
    "def f231_3(n):\n",
    "    return any(n == 1 << i for i in range(32))\n"
   ]
  },
  {
   "cell_type": "code",
   "execution_count": 64,
   "metadata": {},
   "outputs": [],
   "source": [
    "#326. Power of three\n",
    "def f326(x):\n",
    "    if x == 0:\n",
    "        return False\n",
    "    while x % 3 == 0:\n",
    "        x = x / 3\n",
    "        return x == 1"
   ]
  },
  {
   "cell_type": "code",
   "execution_count": null,
   "metadata": {},
   "outputs": [],
   "source": [
    "#50. pow(x, n)\n",
    "def f50(x, n):\n",
    "    if not n:\n",
    "        return 1\n",
    "    if n < 0:\n",
    "        return 1 / f50(x, -n)\n",
    "    if n % 2:\n",
    "        return x * f50(x, n-1)\n",
    "    return f50(x*x, n/2)\n",
    "\n",
    "def f50_2(x, n):\n",
    "    if n < 0:\n",
    "        x, n = 1 / x, -n\n",
    "    res = 1\n",
    "    while n:\n",
    "        if n & 1: #if n is an odd number\n",
    "            res *= x\n",
    "        x *= x\n",
    "        n = n / 2\n",
    "    return res"
   ]
  },
  {
   "cell_type": "code",
   "execution_count": null,
   "metadata": {},
   "outputs": [],
   "source": []
  },
  {
   "cell_type": "code",
   "execution_count": null,
   "metadata": {},
   "outputs": [],
   "source": [
    "#33. search in rotated sorted array\n",
    "# No duplicates"
   ]
  },
  {
   "cell_type": "code",
   "execution_count": null,
   "metadata": {},
   "outputs": [],
   "source": [
    "def f33(nums, target):\n",
    "    if not nums:\n",
    "        return -1\n",
    "    left, right = 0, len(nums)-1\n",
    "    while left <= right:\n",
    "        mid = (left+right) // 2\n",
    "        if target == nums[mid]:\n",
    "            return mid\n",
    "        if nums[left] <= nums[mid]:\n",
    "            if nums[left] <= target <= nums[mid]:\n",
    "                right = mid - 1\n",
    "            else:\n",
    "                left = mid + 1\n",
    "        else:\n",
    "            if nums[mid] <= target <= nums[right]:\n",
    "                left = mid + 1\n",
    "            else:\n",
    "                right = mid - 1\n",
    "    return -1"
   ]
  },
  {
   "cell_type": "code",
   "execution_count": null,
   "metadata": {},
   "outputs": [],
   "source": [
    "#81. search in rotated sorted array II\n",
    "#may have duplicates\n",
    "def f81(nums, target):\n",
    "    l, r = 0, len(nums)-1\n",
    "    while l <= r:\n",
    "        mid = (l + r) // 2\n",
    "        if nums[mid] == target:\n",
    "            return True\n",
    "        while l < mid and nums[l] == nums[mid]:\n",
    "            l += 1\n",
    "        if nums[l] <= nums[mid]:\n",
    "            if nums[l] <= target <= nums[mid]:\n",
    "                r = mid - 1\n",
    "            else:\n",
    "                l = mid + 1\n",
    "        else:\n",
    "            if nums[mid] <= target <= nums[r]:\n",
    "                l = mid + 1\n",
    "            else:\n",
    "                r = mid - 1\n",
    "    return False"
   ]
  },
  {
   "cell_type": "code",
   "execution_count": null,
   "metadata": {},
   "outputs": [],
   "source": []
  },
  {
   "cell_type": "code",
   "execution_count": null,
   "metadata": {},
   "outputs": [],
   "source": [
    "#Linked List"
   ]
  },
  {
   "cell_type": "code",
   "execution_count": null,
   "metadata": {},
   "outputs": [],
   "source": [
    "#234. Palindrome linked list\n",
    "def f234(head):\n",
    "    res = []\n",
    "    while head:\n",
    "        res.append(head.val)\n",
    "        head = head.next\n",
    "    return res = res[::-1]\n"
   ]
  },
  {
   "cell_type": "code",
   "execution_count": null,
   "metadata": {},
   "outputs": [],
   "source": []
  },
  {
   "cell_type": "code",
   "execution_count": null,
   "metadata": {},
   "outputs": [],
   "source": [
    "#206. Reverse linked list\n",
    "def f206(head):\n",
    "    tail = None\n",
    "    while head:\n",
    "        tmp = head.next\n",
    "        head.next = tail\n",
    "        tail = head\n",
    "        head = tmp\n",
    "    return tail"
   ]
  },
  {
   "cell_type": "code",
   "execution_count": null,
   "metadata": {},
   "outputs": [],
   "source": []
  },
  {
   "cell_type": "code",
   "execution_count": null,
   "metadata": {},
   "outputs": [],
   "source": [
    "#25. reverse nodes in k-group\n",
    "def f25(head, k):\n",
    "    if head:\n",
    "        node = head\n",
    "        for _ in range(k-1):\n",
    "            node = node.next\n",
    "            if not node:\n",
    "                return head #len is shorter than k\n",
    "        tail = f25(node.next, k)\n",
    "        while tail is not node:\n",
    "            tmp = head.next\n",
    "            head.next = tail\n",
    "            tail = head\n",
    "            head = tmp\n",
    "        return tail"
   ]
  },
  {
   "cell_type": "code",
   "execution_count": null,
   "metadata": {},
   "outputs": [],
   "source": []
  },
  {
   "cell_type": "code",
   "execution_count": null,
   "metadata": {},
   "outputs": [],
   "source": [
    "#Data structure"
   ]
  },
  {
   "cell_type": "code",
   "execution_count": null,
   "metadata": {},
   "outputs": [],
   "source": [
    "#79. word search\n",
    "def f79(board, word):\n",
    "    m, n = len(board), len(board[0])\n",
    "    \n",
    "    def dfs(ch, k, word, board, x, y, m, n):\n",
    "        if k == len(word):\n",
    "            return True\n",
    "        else:\n",
    "            for x1, y1 in ((x+1,y), (x-1,y), (x, y+1), (x, y-1)):\n",
    "                if 0 <= x1 < m and 0 <= y1 < n and board[x1][y1] == word[k]:\n",
    "                    ch, board[x1][y1] = board[x1][y1], -1\n",
    "                    if bfs(ch, k+1, word, board, x1, y1, m, n):\n",
    "                        return True\n",
    "                    board[x1][y1] = ch\n",
    "            return False\n",
    "                \n",
    "    \n",
    "    for i in range(m):\n",
    "        for j in range(n):\n",
    "            ch, board[i][j] = board[i][j], -1\n",
    "            if dfs(ch, 1, word, board, i, j, m, n):\n",
    "                return True\n",
    "            board[i][j] = ch\n",
    "    return False\n"
   ]
  },
  {
   "cell_type": "code",
   "execution_count": null,
   "metadata": {},
   "outputs": [],
   "source": []
  },
  {
   "cell_type": "code",
   "execution_count": null,
   "metadata": {},
   "outputs": [],
   "source": [
    "#127. word ladder\n",
    "def f127(word1, word2, wlist):\n",
    "    d = collections.defaultdict(list)\n",
    "    visted = set()\n",
    "    for s in wlist:\n",
    "        for i in range(len(s)):\n",
    "            d[s[i:]+'_'+s[i+1:]].append(s)\n",
    "    q = collections.deque([word1])\n",
    "    level = 1\n",
    "    while q:\n",
    "        for i in range(len(q)):\n",
    "            s = q.popleft()\n",
    "            if s == word2:\n",
    "                return level\n",
    "            for j in range(len(s)):\n",
    "                for s1 in d[s[:j]+'_'+s[j+1:]]:\n",
    "                    if s1 not in visited:\n",
    "                        q.append(s1)\n",
    "                        visited.add(s1)\n",
    "        level += 1\n",
    "    return 0"
   ]
  },
  {
   "cell_type": "code",
   "execution_count": null,
   "metadata": {},
   "outputs": [],
   "source": []
  },
  {
   "cell_type": "code",
   "execution_count": null,
   "metadata": {},
   "outputs": [],
   "source": [
    "#126. word ladder II\n",
    "#output all path\n",
    "#BFS\n",
    "from string import ascii_lowercase\n",
    "def f126(word1, word2, wlist):\n",
    "    wlist = set(wlist)\n",
    "    res, level = [], {word1: [[word1]]}\n",
    "    while level:\n",
    "        newlevel = collections.defaultdict(list)\n",
    "        for w in level:\n",
    "            if w == word2:\n",
    "                res.extend(k for k in level[w])\n",
    "            else:\n",
    "                for i in range(len(w)):\n",
    "                    for c in ascii_lowercase:\n",
    "                        neww = w[:i] + c + w[i+1:]\n",
    "                        if neww in wlist:\n",
    "                            newlevel[neww] += [k + [neww] for k in level[k]]\n",
    "        wlist -= set(newlevel.keys())\n",
    "        level = newlevel\n",
    "    return res\n",
    "        \n",
    "    "
   ]
  },
  {
   "cell_type": "code",
   "execution_count": null,
   "metadata": {},
   "outputs": [],
   "source": []
  },
  {
   "cell_type": "code",
   "execution_count": null,
   "metadata": {},
   "outputs": [],
   "source": [
    "#84. largest rectangle in histogram\n",
    "def f84(height):\n",
    "    height.append(0)\n",
    "    stack, res = [-1], 0\n",
    "    for i in range(len(height)):\n",
    "        while height[i] < height[stack[-1]]:  #initate the height[-1] to compare\n",
    "            h = height[stack.pop()]\n",
    "            w = i - stack[-1] - 1\n",
    "            res = max(res, h*w)\n",
    "        stack.append(i)\n",
    "    height.pop()  #pop up added height=0 at the end\n",
    "    return res"
   ]
  },
  {
   "cell_type": "code",
   "execution_count": null,
   "metadata": {},
   "outputs": [],
   "source": []
  },
  {
   "cell_type": "code",
   "execution_count": null,
   "metadata": {},
   "outputs": [],
   "source": [
    "#85. maximal rectangle\n",
    "def f85(M): #M => matrix\n",
    "    if not M or not M[0]:\n",
    "        return 0\n",
    "    res, n, height = 0, len(M[0]), [0]*(len(M[0])+1)\n",
    "    for row in M:\n",
    "        for i in range(n):\n",
    "            height[i] = height[i] + 1 if row[i] == '1' else 0\n",
    "        stack = [-1]\n",
    "        for i in range(n+1):\n",
    "            while height[i] < height[stack[-1]]:\n",
    "                h = height[stack.pop()]\n",
    "                w = i - stack[-1] -1\n",
    "                res = max(res, h*w)\n",
    "            stack.append(i)\n",
    "    return res"
   ]
  },
  {
   "cell_type": "code",
   "execution_count": null,
   "metadata": {},
   "outputs": [],
   "source": []
  },
  {
   "cell_type": "code",
   "execution_count": null,
   "metadata": {},
   "outputs": [],
   "source": [
    "#211. add and search word - data structure design\n",
    "#Trie\n",
    "class TrieNode()\n",
    "    def __init__(self):\n",
    "        self.children = collections.defauldict(TrieNode)\n",
    "        self.isWord = False\n",
    "    \n",
    "class f211:\n",
    "    def __init__(self):\n",
    "        self.root = TrieNode()\n",
    "        \n",
    "    def addWord(self, word):\n",
    "        node = self.root\n",
    "        for w in word:\n",
    "            node = node.children[w]\n",
    "        node.isWord = True\n",
    "        \n",
    "    def serch(self, word):\n",
    "        node = self.root\n",
    "        self.res = False\n",
    "        self.dfs(node, word)\n",
    "        return self.res\n",
    "    \n",
    "    def dfs(self, node, word):\n",
    "        if not word:\n",
    "            if node.isWord:\n",
    "                self.res = True\n",
    "            return\n",
    "        if word[0] == \".\":\n",
    "            for n in node.children.values():\n",
    "                self.dfs(n, word[1:])\n",
    "        else:\n",
    "            node = node.children.get(word[0])\n",
    "            if not node:\n",
    "                return\n",
    "            self.dfs(node, word[1:])\n",
    "            "
   ]
  },
  {
   "cell_type": "code",
   "execution_count": null,
   "metadata": {},
   "outputs": [],
   "source": []
  },
  {
   "cell_type": "code",
   "execution_count": null,
   "metadata": {},
   "outputs": [],
   "source": [
    "#78. subsets\n",
    "# no dups\n",
    "def f78(nums):\n",
    "    res = []\n",
    "    def dfs(nums, start, path, res):\n",
    "        res.append(path)\n",
    "        for i in range(start, len(nums)):\n",
    "            dfs(nums, i+1, path + [nums[i]], res)\n",
    "            \n",
    "    dfs(sorted(nums), 0, [], res)\n",
    "    return res"
   ]
  },
  {
   "cell_type": "code",
   "execution_count": null,
   "metadata": {},
   "outputs": [],
   "source": []
  },
  {
   "cell_type": "code",
   "execution_count": null,
   "metadata": {},
   "outputs": [],
   "source": [
    "#90. subsets II\n",
    "# may have dups\n",
    "def f90(nums):\n",
    "    res = []\n",
    "    def dfs(nums, start, path, res):\n",
    "        res.append(path)\n",
    "        for i in range(start, len(nums)):\n",
    "            if i > start and nums[i] == nums[i-1]:\n",
    "                continue\n",
    "            dfs(nums, i+1, path + [nums[i]], res)\n",
    "            \n",
    "    nums.sort()\n",
    "    dfs(nums, 0, [], res)\n",
    "    return res"
   ]
  },
  {
   "cell_type": "code",
   "execution_count": null,
   "metadata": {},
   "outputs": [],
   "source": []
  },
  {
   "cell_type": "code",
   "execution_count": null,
   "metadata": {},
   "outputs": [],
   "source": [
    "#286. walls and gates\n",
    "def f286(rooms):\n",
    "    \n",
    "    m, n = len(rooms), len(rooms[0])\n",
    "    if not m or not n:\n",
    "        return\n",
    "    gate = collections.deque()\n",
    "    empty = set()\n",
    "    for i in range(m):\n",
    "        for j in range(n):\n",
    "            if rooms[i][j] == 2**31 -1\n",
    "                empty.add((i, j))\n",
    "            elif rooms[i][j] == 0:\n",
    "                gate.append((i, j))\n",
    "                \n",
    "    while empty:\n",
    "        if not gate:\n",
    "            break\n",
    "        x, y = gate.popleft()\n",
    "        for x1, y1 in ((x+1,y), (x-1,y), (x, y+1), (x, y-1)):\n",
    "            if 0 <= x1 < m and 0 <= y1 < n and (x1, y1) in empty:\n",
    "                rooms[x1][y1] = rooms[x][y] + 1\n",
    "                empty.remove((x1, y1))\n",
    "                gate.append((x1, y1))\n",
    "                \n",
    "    return rooms\n",
    "        \n",
    "    "
   ]
  },
  {
   "cell_type": "code",
   "execution_count": null,
   "metadata": {},
   "outputs": [],
   "source": []
  },
  {
   "cell_type": "code",
   "execution_count": 66,
   "metadata": {},
   "outputs": [
    {
     "name": "stdout",
     "output_type": "stream",
     "text": [
      "['ad', 'bd', 'cd', 'ae', 'be', 'ce', 'af', 'bf', 'cf']\n"
     ]
    }
   ],
   "source": [
    "#letter combinations of a phone number\n",
    "def f17(nums):\n",
    "    if not nums:\n",
    "        return None\n",
    "    d = {'2':'abc','3':'def','4':'ghi','5':'jkl','6':'mno','7':'pqrs','8':'tuv','9':'wxyz'}\n",
    "    res = ['']\n",
    "    for n in nums:\n",
    "        if n in d:\n",
    "            new = []\n",
    "            for s in d[n]:\n",
    "                for r in res:\n",
    "                    new.append(r + s)\n",
    "            res = new\n",
    "    return res\n",
    "nums = \"23\"\n",
    "print(f17(nums))\n",
    "                \n",
    "    "
   ]
  },
  {
   "cell_type": "code",
   "execution_count": null,
   "metadata": {},
   "outputs": [],
   "source": []
  },
  {
   "cell_type": "code",
   "execution_count": null,
   "metadata": {},
   "outputs": [],
   "source": [
    "#218. the skyline problem"
   ]
  },
  {
   "cell_type": "code",
   "execution_count": 86,
   "metadata": {},
   "outputs": [
    {
     "name": "stdout",
     "output_type": "stream",
     "text": [
      "[[2, 10], [3, 15], [7, 12], [12, 0], [15, 10], [20, 8], [24, 0]]\n"
     ]
    }
   ],
   "source": [
    "import heapq\n",
    "def f218(buildings):\n",
    "    buildings.append([float('inf'), float('inf'), 0])\n",
    "    heap, res, cur_max = [], [], 0  #heap stores the (R, H)\n",
    "    for L, R, H in buildings:\n",
    "        \n",
    "        while heap and heap[0][0] < L: #no overlap with the very R\n",
    "            r, h = heapq.heappop(heap)\n",
    "            heap_max = 0\n",
    "            if heap: \n",
    "                for i in range(len(heap)):\n",
    "                    heap_max = max(heap_max, heap[i][1]) \n",
    "            if heap_max < cur_max:\n",
    "                cur_max = heap_max\n",
    "                res.append([r, cur_max])\n",
    "        if H > cur_max:\n",
    "            if res and L == res[-1][0]: \n",
    "                res.pop()\n",
    "            res.append([L, H])\n",
    "            cur_max = H\n",
    "        heapq.heappush(heap, (R, H))\n",
    "            \n",
    "    return res\n",
    "            \n",
    "buildings =[[15, 20, 10], [19, 24, 8]]\n",
    "buildings = [ [2, 9, 10], [3, 7, 15], [5, 12, 12], [15, 20, 10], [19, 24, 8] ]\n",
    "print(f218(buildings))"
   ]
  },
  {
   "cell_type": "code",
   "execution_count": null,
   "metadata": {},
   "outputs": [],
   "source": [
    "1399. Count Largest Group\n",
    "Easy\n",
    "\n",
    "Given an integer n. Each number from 1 to n is grouped according to the sum of its digits. \n",
    "\n",
    "Return how many groups have the largest size.\n",
    "\n",
    " \n",
    "\n",
    "Example 1:\n",
    "\n",
    "Input: n = 13\n",
    "Output: 4\n",
    "Explanation: There are 9 groups in total, they are grouped according sum of its digits of numbers from 1 to 13:\n",
    "[1,10], [2,11], [3,12], [4,13], [5], [6], [7], [8], [9]. There are 4 groups with largest size.\n",
    "\n",
    "Example 2:\n",
    "\n",
    "Input: n = 2\n",
    "Output: 2\n",
    "Explanation: There are 2 groups [1], [2] of size 1.\n",
    "\n",
    "Example 3:\n",
    "\n",
    "Input: n = 15\n",
    "Output: 6\n",
    "\n",
    "Example 4:\n",
    "\n",
    "Input: n = 24\n",
    "Output: 5\n"
   ]
  },
  {
   "cell_type": "code",
   "execution_count": 100,
   "metadata": {},
   "outputs": [
    {
     "name": "stdout",
     "output_type": "stream",
     "text": [
      "4\n"
     ]
    }
   ],
   "source": [
    "#1399. Count Largest Group\n",
    "import collections\n",
    "def f1399(n):\n",
    "    d, maxlen, res = collections.defaultdict(list), 0, 0\n",
    "    for i in range(1, n+1):\n",
    "        sumi, j = 0, i\n",
    "        while j:\n",
    "            j, m = divmod(j, 10)\n",
    "            sumi += m\n",
    "        if sumi in d:\n",
    "            d[sumi].append(i)\n",
    "        else:\n",
    "            d[sumi] = [i]\n",
    "        maxlen = max(maxlen, len(d[sumi]))\n",
    "    \n",
    "    return len([v for v in d.values() if len(v) == maxlen])\n",
    "n = 13\n",
    "print(f1399(n))"
   ]
  },
  {
   "cell_type": "code",
   "execution_count": null,
   "metadata": {},
   "outputs": [],
   "source": [
    "#128. longest consecutive sequence\n",
    "def f128(nums0):\n",
    "    nums = set(nums0)\n",
    "    maxlen = 0\n",
    "    while nums:\n",
    "        m = n = nums.pop()\n",
    "        cnt = 1\n",
    "        while m - 1 in nums:\n",
    "            nums.remove(m - 1)\n",
    "            m -= 1\n",
    "            cnt += 1\n",
    "        while n + 1 in nums:\n",
    "            nums.remove(n + 1)\n",
    "            n += 1\n",
    "            cnt += 1\n",
    "        maxlen = max(maxlen, cnt)\n",
    "    return maxlen"
   ]
  },
  {
   "cell_type": "code",
   "execution_count": null,
   "metadata": {},
   "outputs": [],
   "source": []
  },
  {
   "cell_type": "code",
   "execution_count": null,
   "metadata": {},
   "outputs": [],
   "source": [
    "#146. LRU cache\n",
    "# use deque and map\n",
    "class f146:\n",
    "    def __init__(self, capacity):\n",
    "        self.deque = collections.deque([])\n",
    "        self.dic = {}\n",
    "        self.capacity = capacity\n",
    "        \n",
    "    def get(self, key):\n",
    "        if key not in self.dic:\n",
    "            return -1\n",
    "        self.deque.remove(key)\n",
    "        self.deque.append(key)\n",
    "        return self.dic[key]\n",
    "    \n",
    "    def put(self, key, value):\n",
    "        if key in self.dic:\n",
    "            self.deque.remove(key)\n",
    "        elif len(self.dic) == self.capacity:\n",
    "            v = self.deque.popleft()\n",
    "            self.dic.pop(v)\n",
    "        self.deque.append(key)\n",
    "        self.dic[key] = value"
   ]
  },
  {
   "cell_type": "code",
   "execution_count": null,
   "metadata": {},
   "outputs": [],
   "source": []
  },
  {
   "cell_type": "code",
   "execution_count": null,
   "metadata": {},
   "outputs": [],
   "source": [
    "#21. merge Two Sorted Lists    \n",
    "def f21(L1, L2):\n",
    "    if not L1 or not L2:\n",
    "        return L1 or L2\n",
    "    if L1.val < L2.val:\n",
    "        L1.next = f21(L1.next, L2)\n",
    "        return L1\n",
    "    else:\n",
    "        L2.next = f21(L1, L2.next)\n",
    "        return L2\n",
    "\n",
    "def f21_2(L1, L2):\n",
    "    head = tmp = ListNode(0)\n",
    "    while L1 and L2:\n",
    "        if L1.val < L2.val:\n",
    "            tmp.next = L1\n",
    "            L1 = L1.next\n",
    "        else:\n",
    "            tmp.next = L2\n",
    "            L2 = L2.next\n",
    "        tmp = tmp.next\n",
    "    tmp.next = L1 or L2\n",
    "    return head.next\n"
   ]
  },
  {
   "cell_type": "code",
   "execution_count": null,
   "metadata": {},
   "outputs": [],
   "source": []
  },
  {
   "cell_type": "code",
   "execution_count": null,
   "metadata": {},
   "outputs": [],
   "source": [
    "#23. merge k sorted lists\n",
    "def f23(L):\n",
    "    nodes = []\n",
    "    for k in L:\n",
    "        while k:\n",
    "            nodes.append(k.val)\n",
    "            k = k.next\n",
    "    head = tmp = ListNode(0)\n",
    "    for t in sorted(nodes):\n",
    "        tmp.next = ListNode(t)\n",
    "        tmp = tmp.next\n",
    "    return head.next\n",
    "\n",
    "#divide and conquer\n",
    "def f23_1(L):\n",
    "    if not L:\n",
    "        return\n",
    "    if len(L) == 1:\n",
    "        return L[0]\n",
    "    \n",
    "    def merge(l, r):\n",
    "        head = tmp = ListNode(0)\n",
    "        while l and r:\n",
    "            if l.val < r.val:\n",
    "                tmp.next = l\n",
    "                l = l.next\n",
    "            else:\n",
    "                tmp.next = r\n",
    "                r = r.next\n",
    "            tmp = tmp.next\n",
    "        tmp.next = l or r\n",
    "        return head.next\n",
    "    \n",
    "    mid = len(L) // 2\n",
    "    left = f23_1(L[:mid])\n",
    "    right = f23_1(L[mid:])\n",
    "    return merge(left, right)\n",
    "\n",
    "#use priority queue\n",
    "def f23_2(L):\n",
    "    pq = queue.PriorityQueue()\n",
    "    for k in L:\n",
    "        if k:\n",
    "            pq.put((k.val, k)) #auto sort the nodes\n",
    "    head = tmp = ListNode(0)\n",
    "    while not pq.empty(): #pq.size() > 0\n",
    "        val, nd = pq.get()\n",
    "        tmp.next = ListNode(nd)\n",
    "        tmp = tmp.next\n",
    "        if tmp.next:\n",
    "            pq.put((tmp.next.val, tmp.next))\n",
    "    return head.next\n",
    "        "
   ]
  },
  {
   "cell_type": "code",
   "execution_count": null,
   "metadata": {},
   "outputs": [],
   "source": [
    "#953. Verifying an Alien Dictionary\n",
    "def f(words, order):\n",
    "    dic = {c: i for i, c in enumerate(order)}\n",
    "    for w1, w2 in zip(words, words[1:]):\n",
    "        if len(w1) > len(w2) and w1[:len(w2)] == w2:\n",
    "            return False\n",
    "        for c1, c2 in zip(w1, w2):\n",
    "            if dic[c1] < dic[c2]:\n",
    "                break\n",
    "            elif dic[c1] > dic[c2]:\n",
    "                return False\n",
    "    return True"
   ]
  },
  {
   "cell_type": "code",
   "execution_count": null,
   "metadata": {},
   "outputs": [],
   "source": [
    "#269. alien dictionary"
   ]
  },
  {
   "cell_type": "code",
   "execution_count": null,
   "metadata": {},
   "outputs": [],
   "source": [
    "#BFS\n",
    "class Solution(object):\n",
    "    def alienOrder(self, words):\n",
    "        \"\"\"\n",
    "        :type words: List[str]\n",
    "        :rtype: str\n",
    "        \"\"\"\n",
    "        result, zero_in_degree_queue, in_degree, out_degree = [], collections.deque(), {}, {}\n",
    "        nodes = sets.Set()\n",
    "        for word in words:\n",
    "            for c in word:\n",
    "                nodes.add(c)\n",
    "         \n",
    "        for i in xrange(1, len(words)):\n",
    "            if len(words[i-1]) > len(words[i]) and \\\n",
    "                words[i-1][:len(words[i])] == words[i]:\n",
    "                    return \"\"\n",
    "            self.findEdges(words[i - 1], words[i], in_degree, out_degree)\n",
    "         \n",
    "        for node in nodes:\n",
    "            if node not in in_degree:\n",
    "                zero_in_degree_queue.append(node)\n",
    "         \n",
    "        while zero_in_degree_queue:\n",
    "            precedence = zero_in_degree_queue.popleft()\n",
    "            result.append(precedence)\n",
    "             \n",
    "            if precedence in out_degree:\n",
    "                for c in out_degree[precedence]:\n",
    "                    in_degree[c].discard(precedence)\n",
    "                    if not in_degree[c]:\n",
    "                        zero_in_degree_queue.append(c)\n",
    "             \n",
    "                del out_degree[precedence]\n",
    "         \n",
    "        if out_degree:\n",
    "            return \"\"\n",
    " \n",
    "        return \"\".join(result)\n",
    " \n",
    " \n",
    "    # Construct the graph.\n",
    "    def findEdges(self, word1, word2, in_degree, out_degree):\n",
    "        str_len = min(len(word1), len(word2))\n",
    "        for i in xrange(str_len):\n",
    "            if word1[i] != word2[i]:\n",
    "                if word2[i] not in in_degree:\n",
    "                    in_degree[word2[i]] = sets.Set()\n",
    "                if word1[i] not in out_degree:\n",
    "                    out_degree[word1[i]] = sets.Set()\n",
    "                in_degree[word2[i]].add(word1[i])\n",
    "                out_degree[word1[i]].add(word2[i])\n",
    "                break　　"
   ]
  },
  {
   "cell_type": "code",
   "execution_count": null,
   "metadata": {},
   "outputs": [],
   "source": [
    "#DFS\n",
    "class Solution2(object):\n",
    "    def alienOrder(self, words):\n",
    "        # Find ancestors of each node by DFS.\n",
    "        nodes, ancestors = sets.Set(), {}\n",
    "        for i in xrange(len(words)):\n",
    "            for c in words[i]:\n",
    "                nodes.add(c)\n",
    "        for node in nodes:\n",
    "            ancestors[node] = []\n",
    "        for i in xrange(1, len(words)):\n",
    "            if len(words[i-1]) > len(words[i]) and \\\n",
    "                words[i-1][:len(words[i])] == words[i]:\n",
    "                    return \"\"\n",
    "            self.findEdges(words[i - 1], words[i], ancestors)\n",
    " \n",
    "        # Output topological order by DFS.\n",
    "        result = []\n",
    "        visited = {}\n",
    "        for node in nodes:\n",
    "            if self.topSortDFS(node, node, ancestors, visited, result):\n",
    "                return \"\"\n",
    "         \n",
    "        return \"\".join(result)\n",
    " \n",
    " \n",
    "    # Construct the graph.\n",
    "    def findEdges(self, word1, word2, ancestors):\n",
    "        min_len = min(len(word1), len(word2))\n",
    "        for i in xrange(min_len):\n",
    "            if word1[i] != word2[i]:\n",
    "                ancestors[word2[i]].append(word1[i])\n",
    "                break\n",
    " \n",
    " \n",
    "    # Topological sort, return whether there is a cycle.\n",
    "    def topSortDFS(self, root, node, ancestors, visited, result):\n",
    "        if node not in visited:\n",
    "            visited[node] = root\n",
    "            for ancestor in ancestors[node]:\n",
    "                if self.topSortDFS(root, ancestor, ancestors, visited, result):\n",
    "                    return True\n",
    "            result.append(node)\n",
    "        elif visited[node] == root:\n",
    "            # Visited from the same root in the DFS path.\n",
    "            # So it is cyclic.\n",
    "            return True\n",
    "        return False\n"
   ]
  },
  {
   "cell_type": "code",
   "execution_count": null,
   "metadata": {},
   "outputs": [],
   "source": []
  },
  {
   "cell_type": "code",
   "execution_count": null,
   "metadata": {},
   "outputs": [],
   "source": [
    "#Dynamic programming"
   ]
  },
  {
   "cell_type": "code",
   "execution_count": null,
   "metadata": {},
   "outputs": [],
   "source": [
    "#221. maximal square"
   ]
  },
  {
   "cell_type": "code",
   "execution_count": null,
   "metadata": {},
   "outputs": [],
   "source": [
    "'''\n",
    "Given a 2D binary matrix filled with 0's and 1's, find the largest square containing only 1's and return its area.\n",
    "\n",
    "Example:\n",
    "\n",
    "Input: \n",
    "\n",
    "1 0 1 0 0\n",
    "1 0 1 1 1\n",
    "1 1 1 1 1\n",
    "1 0 0 1 0\n",
    "\n",
    "Output: 4\n",
    "'''"
   ]
  },
  {
   "cell_type": "code",
   "execution_count": null,
   "metadata": {},
   "outputs": [],
   "source": [
    "def f221(matrix):\n",
    "    m, n, res = len(matrix), len(matrix[0]), 0\n",
    "    dp = [[0] * (n+1) for _ in range(m+1)]\n",
    "    for i in range(1, m+1):\n",
    "        for j in range(1, n+1):\n",
    "            if matrix[i-1][j-1] == '1':\n",
    "                dp[i][j] = 1 + min(dp[i-1][j], dp[i][j-1], dp[i-1][j-1])\n",
    "                res = max(res, dp[i][j])\n",
    "    return res**2\n",
    "    "
   ]
  },
  {
   "cell_type": "code",
   "execution_count": null,
   "metadata": {},
   "outputs": [],
   "source": []
  },
  {
   "cell_type": "code",
   "execution_count": null,
   "metadata": {},
   "outputs": [],
   "source": [
    "#39. combination sum\n",
    "def f39(candidates, target):\n",
    "    res = []\n",
    "    candiates.sort()\n",
    "    \n",
    "    def dfs(nums, target, indx, path, res):\n",
    "        if target < 0:\n",
    "            return \n",
    "        if target == 0:\n",
    "            res.append(path)\n",
    "            return\n",
    "        for i in range(indx, len(nums)):\n",
    "            dfs(nums, target-nums[i], i, path+[nums[i]], res)\n",
    "    \n",
    "    dfs(candidates, target, 0, [], res)\n",
    "    return res"
   ]
  },
  {
   "cell_type": "code",
   "execution_count": null,
   "metadata": {},
   "outputs": [],
   "source": [
    "#40. combination sum II\n",
    "# no same number\n",
    "def f40(candidates, target):\n",
    "    res = []\n",
    "    candidates.sort()\n",
    "    \n",
    "    def dfs(nums, target, indx, path, res):\n",
    "        if target < 0:\n",
    "            return\n",
    "        if target == 0:\n",
    "            res.append(path)\n",
    "            return\n",
    "        for i in range(indx, len(nums)):\n",
    "            if i > indx and nums[i] == nums[i-1]:\n",
    "                continue\n",
    "            defs(nums, target-nums[i], i+1, path+[nums[i]], res)\n",
    "    \n",
    "    dfs(candidates, target, 0, [], res)\n",
    "    return res\n",
    "    "
   ]
  },
  {
   "cell_type": "code",
   "execution_count": null,
   "metadata": {},
   "outputs": [],
   "source": [
    "#216. comination sum III\n",
    "#only 1-9 in nums, and len(nums) = k, and no dup in result\n",
    "def f216(k, target):\n",
    "    res = []\n",
    "    \n",
    "    def dfs(nums, k, target, indx, path, res):\n",
    "        if k < 0 or target < 0:\n",
    "            return\n",
    "        if k == 0 and target == 0:\n",
    "            res.append(path)\n",
    "        for i in range(indx, len(nums)):\n",
    "            dfs(nums, k-1, target-nums[i], i+1, path+[nums[i]], res)\n",
    "    \n",
    "    dfs(range(1,10), k, target, 0, [], res)\n",
    "    return res\n",
    "                                                      \n",
    "                                                      "
   ]
  },
  {
   "cell_type": "code",
   "execution_count": null,
   "metadata": {},
   "outputs": [],
   "source": [
    "#377. combination sum IV\n",
    "#Note that different sequences are counted as different combinations.\n",
    "#dp program"
   ]
  },
  {
   "cell_type": "code",
   "execution_count": null,
   "metadata": {},
   "outputs": [],
   "source": []
  },
  {
   "cell_type": "code",
   "execution_count": null,
   "metadata": {},
   "outputs": [],
   "source": [
    "def f377(nums, target):\n",
    "    nums, dp = sorted(nums), [0]*(target+1)\n",
    "    dp[0] = 1\n",
    "    for i in range(1, target+1):\n",
    "        for n in nums:\n",
    "            if i >= n:\n",
    "                dp[i] += dp[i-n]\n",
    "            else:\n",
    "                break\n",
    "    return dp[-1]\n",
    "    "
   ]
  },
  {
   "cell_type": "code",
   "execution_count": null,
   "metadata": {},
   "outputs": [],
   "source": [
    "class Solution(object):\n",
    "    def combinationSum4(self, nums, target):\n",
    "        \"\"\"\n",
    "        :type nums: List[int]\n",
    "        :type target: int\n",
    "        :rtype: int\n",
    "        \"\"\"\n",
    "        dp = [0] *(target+1)\n",
    "        dp[0] = 1\n",
    "        for x in range(target+1):\n",
    "            for y in nums:\n",
    "                if x+y <=target:\n",
    "                    dp[x+y] += dp[x]\n",
    "        return dp[target]"
   ]
  },
  {
   "cell_type": "code",
   "execution_count": null,
   "metadata": {},
   "outputs": [],
   "source": []
  },
  {
   "cell_type": "code",
   "execution_count": null,
   "metadata": {},
   "outputs": [],
   "source": [
    "#139. word break\n",
    "def f139(s, wordDict):\n",
    "    dp = [False]*(len(s)+1)\n",
    "    dp[0] = True\n",
    "    for i in range(1, len(s)+1):\n",
    "        for j in range(i):\n",
    "            if dp[j] and s[j:i] in wordDict:\n",
    "                dp[i] = True\n",
    "                break\n",
    "    return dp[-1]"
   ]
  },
  {
   "cell_type": "code",
   "execution_count": null,
   "metadata": {},
   "outputs": [],
   "source": [
    "#140. word break II\n",
    "#output the possible divided words\n",
    "def f140(s, wordDict):\n",
    "    res = []\n",
    "    \n",
    "    def dfs(s, wdic, path, res):\n",
    "        if f139(s, wdic): #Before we do dfs, we check whether the remaining string this way we can decrease unnecessary computation greatly\n",
    "            if not s:\n",
    "                res.append(path[:-1])  #remove the last white space\n",
    "                return\n",
    "            for i in range(1, len(s)+1):\n",
    "                if s[:i] in wdic:\n",
    "                    dfs(s[i:], wdic, path+s[:i]+\" \", res)\n",
    "            \n",
    "    dfs(s, wordDict, '', res)\n",
    "    return res\n",
    "\n",
    "#Memorization\n",
    "def f140_2(s, wordDict):\n",
    "    res = []\n",
    "    def helper(k, s, wordDict, res):\n",
    "        if k == len(s):\n",
    "            return []\n",
    "        elif k in res:\n",
    "            return res[k]\n",
    "        else:\n",
    "            res[k] = []\n",
    "            \n",
    "            for i in range(k, len(s)):\n",
    "                w = s[k:i+1]\n",
    "                if w in wordDict:\n",
    "                    tmp = helper(i+1, s, wordDict, res)\n",
    "                    if tmp:\n",
    "                        for t in tmp:\n",
    "                            res[k].append(w+\" \"+t)\n",
    "                        elif (i == len(s)-1):\n",
    "                            res[k].append(w)\n",
    "            return res[k]\n",
    "        \n",
    "    return helper(0, s, set(wordDict), res)"
   ]
  },
  {
   "cell_type": "code",
   "execution_count": null,
   "metadata": {},
   "outputs": [],
   "source": []
  },
  {
   "cell_type": "code",
   "execution_count": null,
   "metadata": {},
   "outputs": [],
   "source": [
    "91. Decode Ways\n",
    "Medium\n",
    "\n",
    "A message containing letters from A-Z is being encoded to numbers using the following mapping:\n",
    "\n",
    "'A' -> 1\n",
    "'B' -> 2\n",
    "...\n",
    "'Z' -> 26\n",
    "\n",
    "Given a non-empty string containing only digits, determine the total number of ways to decode it.\n",
    "\n",
    "Example 1:\n",
    "\n",
    "Input: \"12\"\n",
    "Output: 2\n",
    "Explanation: It could be decoded as \"AB\" (1 2) or \"L\" (12).\n",
    "\n",
    "Example 2:\n",
    "\n",
    "Input: \"226\"\n",
    "Output: 3\n",
    "Explanation: It could be decoded as \"BZ\" (2 26), \"VF\" (22 6), or \"BBF\" (2 2 6).\n",
    "\n"
   ]
  },
  {
   "cell_type": "code",
   "execution_count": null,
   "metadata": {},
   "outputs": [],
   "source": [
    "#91. decode ways\n",
    "def f91(s):\n",
    "    if not s or s[0] == '0':\n",
    "        return 0\n",
    "    res = [1, 1]\n",
    "    for i in range(1, len(s)):\n",
    "        if s[i] == '0':\n",
    "            if s[i-1] == '0' or s[i-1] > '2': #only 10, 20 valid\n",
    "                return 0\n",
    "            res.append(res[-2]) #dp(n) = dp(n-2)\n",
    "        elif 9 < int(s[i-1:i+1]) < 27: #10-26 (1, 10...2, 26)\n",
    "            res.append(res[-2]+res[-1]) #dp(n) = dp(n-1) + dp(n-2)\n",
    "        else: #01-09, 27-99\n",
    "            res.append(res[-1])  #dp(n) = dp(n-1)\n",
    "    return res[-1]"
   ]
  },
  {
   "cell_type": "code",
   "execution_count": null,
   "metadata": {},
   "outputs": [],
   "source": []
  },
  {
   "cell_type": "code",
   "execution_count": null,
   "metadata": {},
   "outputs": [],
   "source": [
    "639. Decode Ways II\n",
    "Hard\n",
    "\n",
    "A message containing letters from A-Z is being encoded to numbers using the following mapping way:\n",
    "\n",
    "'A' -> 1\n",
    "'B' -> 2\n",
    "...\n",
    "'Z' -> 26\n",
    "\n",
    "Beyond that, now the encoded string can also contain the character '*', which can be treated as one of the numbers from 1 to 9.\n",
    "\n",
    "Given the encoded message containing digits and the character '*', return the total number of ways to decode it.\n",
    "\n",
    "Also, since the answer may be very large, you should return the output mod 109 + 7.\n",
    "\n",
    "Example 1:\n",
    "\n",
    "Input: \"*\"\n",
    "Output: 9\n",
    "Explanation: The encoded message can be decoded to the string: \"A\", \"B\", \"C\", \"D\", \"E\", \"F\", \"G\", \"H\", \"I\".\n",
    "\n",
    "Example 2:\n",
    "\n",
    "Input: \"1*\"\n",
    "Output: 9 + 9 = 18\n",
    "\n",
    "Note:\n",
    "\n",
    "    The length of the input string will fit in range [1, 105].\n",
    "    The input string will only contain the character '*' and digits '0' - '9'.\n"
   ]
  },
  {
   "cell_type": "code",
   "execution_count": null,
   "metadata": {},
   "outputs": [],
   "source": [
    "one = {'1': 1, '2': 1, '3': 1, '4': 1, '5': 1, '6': 1, '7': 1, '8': 1, '9': 1, '*': 9}\n",
    "two = {'10': 1, '11': 1, '12': 1, '13': 1, '14': 1, '15': 1, '16': 1, '17': 1, '18': 1, '19': 1, '20': 1, '21': 1,\n",
    "       '22': 1, '23': 1, '24': 1, '25': 1, '26': 1, '*0': 2, '*1': 2, '*2': 2, '*3': 2, '*4': 2, '*5': 2, '*6': 2,\n",
    "       '*7': 1, '*8': 1, '*9': 1, '1*': 9, '2*': 6, '**': 15}\n"
   ]
  },
  {
   "cell_type": "code",
   "execution_count": null,
   "metadata": {},
   "outputs": [],
   "source": [
    "#639. decode ways II\n",
    "def f639(s):\n",
    "    oned = {str(i): i for i in range(1, 10)}\n",
    "    oned.update{'*':9, '0':0}\n",
    "    twod = {str(i): 1 for i in range(10, 27)}\n",
    "    twod.update({'*' + str(i): 2 if i <= 6 else 1 for i in range(10)})\n",
    "    twod.update({'1*':9, '2*':6, '**': 15})\n",
    "    \n",
    "    dp = [1, oned.get(s[:1], 0)]\n",
    "    for i in range(1, len(s)):\n",
    "        dp = [dp[1], oned.get(s[i])*dp[1] + twod.get(s[i-1:i+1], 0)*dp[0] % 10**9+7]\n",
    "    return dp[-1]"
   ]
  },
  {
   "cell_type": "code",
   "execution_count": null,
   "metadata": {},
   "outputs": [],
   "source": []
  },
  {
   "cell_type": "code",
   "execution_count": null,
   "metadata": {},
   "outputs": [],
   "source": [
    "#256. paint house\n",
    "def f256(costs):\n",
    "    dp = [0]*3\n",
    "    for cost in costs:\n",
    "        dp = [min(dp[:j]+dp[j+1:]) + cost[j] for j in range(3)]\n",
    "    return min(dp)"
   ]
  },
  {
   "cell_type": "code",
   "execution_count": null,
   "metadata": {},
   "outputs": [],
   "source": [
    "#265. paint house II\n",
    "#no two adjacent houses have the same color\n",
    "def f265(costs):\n",
    "    if not costs: return 0\n",
    "    k = len(costs[0])\n",
    "    dp = [0]*k\n",
    "    for cost in costs:\n",
    "        dp = [min(dp[:j]+dp[j+1:] or [0]) + cost[j] for j in range(k)]\n",
    "    return min(dp or [0])\n",
    "\n",
    "def f265_2(costs):\n",
    "    if not costs: return 0\n",
    "    min1, min2 = -1, -1\n",
    "    for i, row in enumerate(costs):\n",
    "        prev1, prev2, min1, min2 = min1, min2, -1, -1\n",
    "        for j, cost in enumerate(row):\n",
    "            if j != prev1:\n",
    "                row[j] += 0 if prev1 < 0 else costs[i-1][prev1]\n",
    "            else:\n",
    "                row[j] += 0 if prev2 < 0 else costs[i-1][prev2]\n",
    "                \n",
    "            if min1 < 0 or row[j] < row[min1]:\n",
    "                min1, min2 = j, min1\n",
    "            elif min2 < 0 or row[j] < row[min2]:\n",
    "                min2 = j\n",
    "    return costs[-1][min1]\n"
   ]
  },
  {
   "cell_type": "code",
   "execution_count": null,
   "metadata": {},
   "outputs": [],
   "source": [
    "#1473.Paint House III"
   ]
  },
  {
   "cell_type": "code",
   "execution_count": null,
   "metadata": {},
   "outputs": [],
   "source": []
  },
  {
   "cell_type": "code",
   "execution_count": null,
   "metadata": {},
   "outputs": [],
   "source": [
    "#Graph"
   ]
  },
  {
   "cell_type": "code",
   "execution_count": null,
   "metadata": {},
   "outputs": [],
   "source": [
    "course schedule"
   ]
  },
  {
   "cell_type": "code",
   "execution_count": null,
   "metadata": {},
   "outputs": [],
   "source": []
  },
  {
   "cell_type": "code",
   "execution_count": null,
   "metadata": {},
   "outputs": [],
   "source": [
    "course schedule II"
   ]
  },
  {
   "cell_type": "code",
   "execution_count": null,
   "metadata": {},
   "outputs": [],
   "source": []
  },
  {
   "cell_type": "code",
   "execution_count": null,
   "metadata": {},
   "outputs": [],
   "source": [
    "graph valid tree"
   ]
  },
  {
   "cell_type": "code",
   "execution_count": null,
   "metadata": {},
   "outputs": [],
   "source": []
  },
  {
   "cell_type": "code",
   "execution_count": null,
   "metadata": {},
   "outputs": [],
   "source": [
    "clone graph"
   ]
  },
  {
   "cell_type": "code",
   "execution_count": null,
   "metadata": {},
   "outputs": [],
   "source": []
  },
  {
   "cell_type": "code",
   "execution_count": null,
   "metadata": {},
   "outputs": [],
   "source": [
    "Implement trie (prefix tree)"
   ]
  },
  {
   "cell_type": "code",
   "execution_count": null,
   "metadata": {},
   "outputs": [],
   "source": []
  },
  {
   "cell_type": "code",
   "execution_count": null,
   "metadata": {},
   "outputs": [],
   "source": [
    "number of islands"
   ]
  },
  {
   "cell_type": "code",
   "execution_count": null,
   "metadata": {},
   "outputs": [],
   "source": []
  },
  {
   "cell_type": "code",
   "execution_count": null,
   "metadata": {},
   "outputs": [],
   "source": [
    "number of islands II"
   ]
  },
  {
   "cell_type": "code",
   "execution_count": null,
   "metadata": {},
   "outputs": [],
   "source": []
  },
  {
   "cell_type": "code",
   "execution_count": null,
   "metadata": {},
   "outputs": [],
   "source": [
    "populating next right pointers in each node"
   ]
  },
  {
   "cell_type": "code",
   "execution_count": null,
   "metadata": {},
   "outputs": [],
   "source": []
  },
  {
   "cell_type": "code",
   "execution_count": null,
   "metadata": {},
   "outputs": [],
   "source": [
    "populating next right pointers in each node II"
   ]
  },
  {
   "cell_type": "code",
   "execution_count": null,
   "metadata": {},
   "outputs": [],
   "source": []
  },
  {
   "cell_type": "code",
   "execution_count": null,
   "metadata": {},
   "outputs": [],
   "source": []
  }
 ],
 "metadata": {
  "kernelspec": {
   "display_name": "Python 3",
   "language": "python",
   "name": "python3"
  },
  "language_info": {
   "codemirror_mode": {
    "name": "ipython",
    "version": 3
   },
   "file_extension": ".py",
   "mimetype": "text/x-python",
   "name": "python",
   "nbconvert_exporter": "python",
   "pygments_lexer": "ipython3",
   "version": "3.7.6"
  }
 },
 "nbformat": 4,
 "nbformat_minor": 4
}
