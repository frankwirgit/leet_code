{
 "cells": [
  {
   "cell_type": "code",
   "execution_count": null,
   "metadata": {},
   "outputs": [],
   "source": [
    "exercise for more questions in easy level"
   ]
  },
  {
   "cell_type": "code",
   "execution_count": null,
   "metadata": {},
   "outputs": [],
   "source": [
    "1119. Remove Vowels from a String"
   ]
  },
  {
   "cell_type": "code",
   "execution_count": 11,
   "metadata": {},
   "outputs": [
    {
     "data": {
      "text/plain": [
       "'Hy lk wrds'"
      ]
     },
     "execution_count": 11,
     "metadata": {},
     "output_type": "execute_result"
    }
   ],
   "source": [
    "class solution():\n",
    "    def RemoveVowels(self, s):\n",
    "        vows = ['a','e','i','o','u']\n",
    "        return ''.join([c for c in s if c.lower() not in vows])\n",
    "strs = \"Hey look words\"\n",
    "a=solution()\n",
    "a.RemoveVowels(strs)"
   ]
  },
  {
   "cell_type": "code",
   "execution_count": null,
   "metadata": {},
   "outputs": [],
   "source": []
  },
  {
   "cell_type": "code",
   "execution_count": null,
   "metadata": {},
   "outputs": [],
   "source": [
    "1108. Defanging an IP Address\n",
    "\n",
    "Given a valid (IPv4) IP address, return a defanged version of that IP address.\n",
    "\n",
    "A defanged IP address replaces every period \".\" with \"[.]\"."
   ]
  },
  {
   "cell_type": "code",
   "execution_count": null,
   "metadata": {},
   "outputs": [],
   "source": [
    " def defangIPaddr(self, s):\n",
    "    return s.replace('.', '[.]')"
   ]
  },
  {
   "cell_type": "code",
   "execution_count": null,
   "metadata": {},
   "outputs": [],
   "source": []
  },
  {
   "cell_type": "code",
   "execution_count": null,
   "metadata": {},
   "outputs": [],
   "source": [
    "771. Jewels and Stones\n",
    "\n",
    "You're given strings J representing the types of stones that are jewels, and S representing the stones you have.  Each character in S is a type of stone you have.  You want to know how many of the stones you have are also jewels.\n",
    "\n",
    "The letters in J are guaranteed distinct, and all characters in J and S are letters. Letters are case sensitive, so \"a\" is considered a different type of stone from \"A\".\n",
    "Example 1:\n",
    "\n",
    "Input: J = \"aA\", S = \"aAAbbbb\"\n",
    "Output: 3\n",
    "Example 2:\n",
    "\n",
    "Input: J = \"z\", S = \"ZZ\"\n",
    "Output: 0\n",
    "Note:\n",
    "\n",
    "S and J will consist of letters and have length at most 50.\n",
    "The characters in J are distinct."
   ]
  },
  {
   "cell_type": "code",
   "execution_count": null,
   "metadata": {},
   "outputs": [],
   "source": [
    "def numJewelsInStones(self, J, S):\n",
    "    return sum(s in J for s in S)\n",
    "\n",
    "\n",
    "def numJewelsInStones(self, J, S):\n",
    "    return sum(map(S.count, J))   \n",
    "\n",
    "def numJewelsInStones(self, J, S):\n",
    "    return sum(map(J.count, S))\n",
    "\n",
    "class Solution(object):\n",
    "    def numJewelsInStones(self, J, S):\n",
    "        \"\"\"\n",
    "        :type J: str\n",
    "        :type S: str\n",
    "        :rtype: int\n",
    "        \"\"\"\n",
    "        counter = collections.Counter(S)\n",
    "        count = 0\n",
    "        for ch in J:\n",
    "            count += counter[ch]\n",
    "        return count"
   ]
  },
  {
   "cell_type": "code",
   "execution_count": 32,
   "metadata": {},
   "outputs": [
    {
     "name": "stdout",
     "output_type": "stream",
     "text": [
      "Counter({'b': 4, 'A': 2, 'a': 1})\n",
      "3\n"
     ]
    }
   ],
   "source": [
    "import collections\n",
    "J, S = \"aA\", \"aAAbbbb\"\n",
    "print(collections.Counter(S))\n",
    "print (sum(map(S.count, J)) )"
   ]
  },
  {
   "cell_type": "code",
   "execution_count": null,
   "metadata": {},
   "outputs": [],
   "source": []
  },
  {
   "cell_type": "code",
   "execution_count": null,
   "metadata": {},
   "outputs": [],
   "source": [
    "1134. Amrstrong Number\n",
    "The k-digit number N is an Armstrong number if and only if the k-th power of each digit sums to N\n",
    "Input: 153 Output: true\n",
    "    153 = 1^3 + 5^3 + 3^3"
   ]
  },
  {
   "cell_type": "code",
   "execution_count": 865,
   "metadata": {},
   "outputs": [
    {
     "name": "stdout",
     "output_type": "stream",
     "text": [
      "False\n"
     ]
    }
   ],
   "source": [
    "#(map(lambda x: dic[x] if x in dic, n for n in str(N)))\n",
    "N=153\n",
    "#N=120\n",
    "t = [int(n) for n in str(N)]\n",
    "#d = map(lambda x: x**len(t), (n for n in t))\n",
    "d = map(lambda x: x**len(str(N)), (int(n) for n in str(N)))\n",
    "print(sum(d)==N)\n"
   ]
  },
  {
   "cell_type": "code",
   "execution_count": 3,
   "metadata": {},
   "outputs": [
    {
     "data": {
      "text/plain": [
       "1"
      ]
     },
     "execution_count": 3,
     "metadata": {},
     "output_type": "execute_result"
    }
   ],
   "source": [
    "class Solution():\n",
    "    def armstrong_numb(self,N):\n",
    "        if sum(map(lambda n: n**len(str(N)), (int(m) for m in str(N))))==N:\n",
    "            return 1\n",
    "        return 0\n",
    "N=153\n",
    "a = Solution()\n",
    "a.armstrong_numb(N)\n",
    "    "
   ]
  },
  {
   "cell_type": "code",
   "execution_count": 873,
   "metadata": {},
   "outputs": [
    {
     "name": "stdout",
     "output_type": "stream",
     "text": [
      "153\n"
     ]
    }
   ],
   "source": [
    "N,res=153,0\n",
    "n = len(str(N))\n",
    "while N:\n",
    "    N,carry=divmod(N,10)\n",
    "    res += carry**n\n",
    "print(res)"
   ]
  },
  {
   "cell_type": "code",
   "execution_count": null,
   "metadata": {},
   "outputs": [],
   "source": []
  },
  {
   "cell_type": "code",
   "execution_count": null,
   "metadata": {},
   "outputs": [],
   "source": [
    "1069 Product Sales Analysis II\n",
    "#SQL\n",
    "select product_id ,sum(quantity) as total_quantity\n",
    "from Sales\n",
    "group by product_id\n"
   ]
  },
  {
   "cell_type": "code",
   "execution_count": null,
   "metadata": {},
   "outputs": [],
   "source": []
  },
  {
   "cell_type": "code",
   "execution_count": null,
   "metadata": {},
   "outputs": [],
   "source": [
    "760 Find Anagram Mappings\n",
    "Given two lists A and B, and B is an anagram of A. B is an anagram of A means B is made by randomizing the order of the elements in A.\n",
    "\n",
    "We want to find an index mapping P, from A to B. A mapping P[i] = j means the ith element in A appears in B at index j.\n",
    "\n",
    "These lists A and B may contain duplicates. If there are multiple answers, output any of them.\n",
    "\n",
    "For example, given\n",
    "\n",
    "A = [12, 28, 46, 32, 50]\n",
    "B = [50, 12, 32, 46, 28]\n",
    "\n",
    "We should return\n",
    "\n",
    "[1, 4, 3, 2, 0]\n",
    "\n",
    "as P[0] = 1 because the 0th element of A appears at B[1], and P[1] = 4 because the 1st element of A appears at B[4], and so on.\n",
    "\n",
    "Note:\n",
    "\n",
    "A, B have equal lengths in range [1, 100].\n",
    "A[i], B[i] are integers in range [0, 10^5]."
   ]
  },
  {
   "cell_type": "code",
   "execution_count": null,
   "metadata": {},
   "outputs": [],
   "source": [
    "class solution():\n",
    "    def FindAnagramMappings(self,a,b):\n",
    "        res=[]\n",
    "        for i in range(len(a)):\n",
    "            res.append(b.index(a[i]))\n",
    "        return res\n",
    "    def FindAnagramMappings2(self,a,b):\n",
    "        lookup = {val: i for i,val in enumerate(b)}\n",
    "        return [lookup[val] for val in a]"
   ]
  },
  {
   "cell_type": "code",
   "execution_count": 4,
   "metadata": {},
   "outputs": [
    {
     "data": {
      "text/plain": [
       "[1, 4, 3, 2, 0]"
      ]
     },
     "execution_count": 4,
     "metadata": {},
     "output_type": "execute_result"
    }
   ],
   "source": [
    "class solution():\n",
    "    def testA(self,a,b):\n",
    "        return [b.index(c) for c in a]\n",
    "A = [12, 28, 46, 32, 50]\n",
    "B = [50, 12, 32, 46, 28]\n",
    "d = solution()\n",
    "d.testA(A,B)"
   ]
  },
  {
   "cell_type": "code",
   "execution_count": null,
   "metadata": {},
   "outputs": [],
   "source": []
  },
  {
   "cell_type": "code",
   "execution_count": null,
   "metadata": {},
   "outputs": [],
   "source": [
    "1064 Fixed Point \n",
    "Given an array A of distinct integers sorted in ascending order, \n",
    "return the smallest index i that satisfies A[i] == i.  Return -1 if no such i exists.\n",
    "\n",
    "\n",
    "Example 1:\n",
    "\n",
    "Input: [-10,-5,0,3,7]\n",
    "Output: 3\n",
    "Explanation: \n",
    "For the given array, A[0] = -10, A[1] = -5, A[2] = 0, A[3] = 3, thus the output is 3.\n",
    "Example 2:\n",
    "\n",
    "Input: [0,2,5,8,17]\n",
    "Output: 0\n",
    "Explanation: \n",
    "A[0] = 0, thus the output is 0.\n",
    "Example 3:\n",
    "\n",
    "Input: [-10,-5,3,4,7,9]\n",
    "Output: -1\n",
    "Explanation: \n",
    "There is no such i that A[i] = i, thus the output is -1.\n",
    " \n",
    "\n",
    "Note:\n",
    "\n",
    "1 <= A.length < 10^4\n",
    "-10^9 <= A[i] <= 10^9\n"
   ]
  },
  {
   "cell_type": "code",
   "execution_count": 879,
   "metadata": {},
   "outputs": [
    {
     "name": "stdout",
     "output_type": "stream",
     "text": [
      "-1\n"
     ]
    }
   ],
   "source": [
    "A=[-10,-5,0,3,7]\n",
    "A=[0,2,5,8,17]\n",
    "A=[-10,-5,3,4,7,9]\n",
    "t= [i for i, v in enumerate(A) if i==v] \n",
    "print(min(t) if t else -1)"
   ]
  },
  {
   "cell_type": "code",
   "execution_count": null,
   "metadata": {},
   "outputs": [],
   "source": [
    "class Solution:\n",
    "    def fixedPoint(self, A: List[int]) -> int:\n",
    "        left = 0\n",
    "        right = len(A) - 1\n",
    "        \n",
    "        while left < right:\n",
    "            \n",
    "            mid = (left + right) // 2\n",
    "            \n",
    "            if A[mid] >= mid:\n",
    "                right = mid\n",
    "            else:\n",
    "                left = mid + 1\n",
    "                \n",
    "        if A[left] == left:\n",
    "            return left\n",
    "        return -1\n"
   ]
  },
  {
   "cell_type": "code",
   "execution_count": null,
   "metadata": {},
   "outputs": [],
   "source": []
  },
  {
   "cell_type": "code",
   "execution_count": null,
   "metadata": {},
   "outputs": [],
   "source": [
    "938. Range Sum of BST\n",
    "\n",
    "Given the root node of a binary search tree, return the sum of values of all nodes with value between L and R (inclusive).\n",
    "\n",
    "The binary search tree is guaranteed to have unique values.\n",
    "\n",
    " \n",
    "\n",
    "Example 1:\n",
    "\n",
    "Input: root = [10,5,15,3,7,null,18], L = 7, R = 15\n",
    "Output: 32\n",
    "Example 2:\n",
    "\n",
    "Input: root = [10,5,15,3,7,13,18,1,null,6], L = 6, R = 10\n",
    "Output: 23\n",
    " \n",
    "\n",
    "Note:\n",
    "\n",
    "The number of nodes in the tree is at most 10000.\n",
    "The final answer is guaranteed to be less than 2^31."
   ]
  },
  {
   "cell_type": "code",
   "execution_count": null,
   "metadata": {},
   "outputs": [],
   "source": [
    "class Solution:\n",
    "    def rangeSumBST(self, root, L, R):\n",
    "        if not root: return 0\n",
    "        l = self.rangeSumBST(root.left, L, R)\n",
    "        r = self.rangeSumBST(root.right, L, R)\n",
    "        return l + r + (L <= root.val <= R) * root.val"
   ]
  },
  {
   "cell_type": "code",
   "execution_count": null,
   "metadata": {},
   "outputs": [],
   "source": [
    "# 248ms\n",
    "class Solution(object):\n",
    "    def rangeSumBST(self, root, L, R):\n",
    "        if not root: return 0\n",
    "        if root.val < L:\n",
    "            return self.rangeSumBST(root.right, L, R)\n",
    "\n",
    "        elif root.val > R:\n",
    "            return self.rangeSumBST(root.left, L, R)\n",
    "\n",
    "        else:\n",
    "            return root.val + self.rangeSumBST(root.left, L, root.val-1) + self.rangeSumBST(root.right, root.val+1, R)\n"
   ]
  },
  {
   "cell_type": "code",
   "execution_count": null,
   "metadata": {},
   "outputs": [],
   "source": [
    "class Solution:\n",
    "    def rangeSumBST(self, root, L, R):\n",
    "        \"\"\"\n",
    "        :type root: TreeNode\n",
    "        :type L: int\n",
    "        :type R: int\n",
    "        :rtype: int\n",
    "        \"\"\"\n",
    "        return self.inorder(root, 0, L, R)\n",
    "            \n",
    "    def inorder(self, root, value, L, R):\n",
    "        if root:\n",
    "            value = self.inorder(root.left, value, L, R)\n",
    "            if root.val >= L and root.val <= R:\n",
    "                value += root.val\n",
    "            value = self.inorder(root.right, value, L, R)\n",
    "        \n",
    "        return value"
   ]
  },
  {
   "cell_type": "code",
   "execution_count": null,
   "metadata": {},
   "outputs": [],
   "source": [
    "#DFS recursive:\n",
    "\n",
    "class Solution:\n",
    "    def rangeSumBST(self, root, L, R):\n",
    "        \"\"\"\n",
    "        :type root: TreeNode\n",
    "        :type L: int\n",
    "        :type R: int\n",
    "        :rtype: int\n",
    "        \"\"\"\n",
    "        def dfs(root):\n",
    "            if not root:\n",
    "                return\n",
    "            if L <= root.val <= R:\n",
    "                self.res += root.val\n",
    "            if L <= root.val:\n",
    "                dfs(root.left)\n",
    "            if R >= root.val:\n",
    "                dfs(root.right)\n",
    "        self.res = 0\n",
    "        dfs(root)\n",
    "        return self.res\n",
    "#DFS iterative:\n",
    "\n",
    "class Solution:\n",
    "    def rangeSumBST(self, root, L, R):\n",
    "        \"\"\"\n",
    "        :type root: TreeNode\n",
    "        :type L: int\n",
    "        :type R: int\n",
    "        :rtype: int\n",
    "        \"\"\"\n",
    "        stack = [root]\n",
    "        res = 0\n",
    "        while stack:\n",
    "            u = stack.pop()\n",
    "            if L <= u.val <= R:\n",
    "                res += u.val\n",
    "            if u.left and u.val >= L:\n",
    "                stack.append(u.left)\n",
    "            if u.right and u.val <= R:\n",
    "                stack.append(u.right)\n",
    "        return res"
   ]
  },
  {
   "cell_type": "code",
   "execution_count": null,
   "metadata": {},
   "outputs": [],
   "source": []
  },
  {
   "cell_type": "code",
   "execution_count": null,
   "metadata": {},
   "outputs": [],
   "source": [
    "709 To Lower Case\n",
    "Implement function ToLowerCase() that has a string parameter str, and returns the same string in lowercase.\n",
    "\n",
    "Example 1:\n",
    "\n",
    "Input: \"Hello\"\n",
    "Output: \"hello\"\n",
    "Example 2:\n",
    "\n",
    "Input: \"here\"\n",
    "Output: \"here\"\n",
    "Example 3:\n",
    "\n",
    "Input: \"LOVELY\"\n",
    "Output: \"lovely\""
   ]
  },
  {
   "cell_type": "code",
   "execution_count": null,
   "metadata": {},
   "outputs": [],
   "source": [
    "class solution():\n",
    "    def LowerCase(self,s):\n",
    "        return s.lower()\n",
    "    \n",
    "    class Solution:\n",
    "    def toLowerCase(self, s): \n",
    "        return \"\".join(chr(ord(c) + 32) if \"A\" <= c <= \"Z\" else c for c in s)"
   ]
  },
  {
   "cell_type": "code",
   "execution_count": null,
   "metadata": {},
   "outputs": [],
   "source": []
  },
  {
   "cell_type": "code",
   "execution_count": null,
   "metadata": {},
   "outputs": [],
   "source": [
    "511 Game Play Analysis I \n",
    "#SQL Write an SQL query that reports the first login date for each player.\n",
    "select player_id, min(first_login) as first_login from Result group by player_id;"
   ]
  },
  {
   "cell_type": "code",
   "execution_count": null,
   "metadata": {},
   "outputs": [],
   "source": []
  },
  {
   "cell_type": "code",
   "execution_count": null,
   "metadata": {},
   "outputs": [],
   "source": [
    "1021. Remove Outermost Parentheses\n",
    "\n",
    "A valid parentheses string is either empty (\"\"), \"(\" + A + \")\", or A + B, where A and B are valid parentheses strings, and + represents string concatenation.  For example, \"\", \"()\", \"(())()\", and \"(()(()))\" are all valid parentheses strings.\n",
    "\n",
    "A valid parentheses string S is primitive if it is nonempty, and there does not exist a way to split it into S = A+B, with A and B nonempty valid parentheses strings.\n",
    "\n",
    "Given a valid parentheses string S, consider its primitive decomposition: S = P_1 + P_2 + ... + P_k, where P_i are primitive valid parentheses strings.\n",
    "\n",
    "Return S after removing the outermost parentheses of every primitive string in the primitive decomposition of S.\n",
    "\n",
    " \n",
    "\n",
    "Example 1:\n",
    "\n",
    "Input: \"(()())(())\"\n",
    "Output: \"()()()\"\n",
    "Explanation: \n",
    "The input string is \"(()())(())\", with primitive decomposition \"(()())\" + \"(())\".\n",
    "After removing outer parentheses of each part, this is \"()()\" + \"()\" = \"()()()\".\n",
    "Example 2:\n",
    "\n",
    "Input: \"(()())(())(()(()))\"\n",
    "Output: \"()()()()(())\"\n",
    "Explanation: \n",
    "The input string is \"(()())(())(()(()))\", with primitive decomposition \"(()())\" + \"(())\" + \"(()(()))\".\n",
    "After removing outer parentheses of each part, this is \"()()\" + \"()\" + \"()(())\" = \"()()()()(())\".\n",
    "Example 3:\n",
    "\n",
    "Input: \"()()\"\n",
    "Output: \"\"\n",
    "Explanation: \n",
    "The input string is \"()()\", with primitive decomposition \"()\" + \"()\".\n",
    "After removing outer parentheses of each part, this is \"\" + \"\" = \"\".\n",
    " \n",
    "\n",
    "Note:\n",
    "\n",
    "S.length <= 10000\n",
    "S[i] is \"(\" or \")\"\n",
    "S is a valid parentheses string\n"
   ]
  },
  {
   "cell_type": "code",
   "execution_count": null,
   "metadata": {},
   "outputs": [],
   "source": [
    "Explanation:\n",
    "opened count the number of opened parenthesis.\n",
    "Add every char to the result,\n",
    "unless the first left parenthesis,\n",
    "and the last right parenthesis.\n",
    "\n"
   ]
  },
  {
   "cell_type": "code",
   "execution_count": 13,
   "metadata": {},
   "outputs": [
    {
     "data": {
      "text/plain": [
       "'(())'"
      ]
     },
     "execution_count": 13,
     "metadata": {},
     "output_type": "execute_result"
    }
   ],
   "source": [
    "class solution():\n",
    "    def RemoveOutermostParentheses(self,s):\n",
    "        res, opened = [], 0\n",
    "        for c in s:\n",
    "            if c == '(' and opened > 0: res.append(c)\n",
    "            if c == ')' and opened > 1: res.append(c)\n",
    "            opened += 1 if c == '(' else -1\n",
    "        return ''.join(res)\n",
    "s = \"((()))\"\n",
    "a = solution()\n",
    "a.RemoveOutermostParentheses(s)\n",
    "#s = \"()()\"\n",
    "#a.RemoveOutermostParentheses(s)"
   ]
  },
  {
   "cell_type": "code",
   "execution_count": null,
   "metadata": {},
   "outputs": [],
   "source": []
  },
  {
   "cell_type": "code",
   "execution_count": null,
   "metadata": {},
   "outputs": [],
   "source": [
    "804. Unique Morse Code Words\n",
    "\n",
    "International Morse Code defines a standard encoding where each letter is mapped to a series of dots and dashes, as follows: \"a\" maps to \".-\", \"b\" maps to \"-...\", \"c\" maps to \"-.-.\", and so on.\n",
    "\n",
    "For convenience, the full table for the 26 letters of the English alphabet is given below:\n",
    "\n",
    "[\".-\",\"-...\",\"-.-.\",\"-..\",\".\",\"..-.\",\"--.\",\"....\",\"..\",\".---\",\"-.-\",\".-..\",\"--\",\"-.\",\"---\",\".--.\",\"--.-\",\".-.\",\"...\",\"-\",\"..-\",\"...-\",\".--\",\"-..-\",\"-.--\",\"--..\"]\n",
    "Now, given a list of words, each word can be written as a concatenation of the Morse code of each letter. \n",
    "For example, \"cba\" can be written as \"-.-..--...\", (which is the concatenation \"-.-.\" + \"-...\" + \".-\"). \n",
    "We'll call such a concatenation, the transformation of a word.\n",
    "\n",
    "Return the number of different transformations among all words we have.\n",
    "\n",
    "Example:\n",
    "Input: words = [\"gin\", \"zen\", \"gig\", \"msg\"]\n",
    "Output: 2\n",
    "Explanation: \n",
    "The transformation of each word is:\n",
    "\"gin\" -> \"--...-.\"\n",
    "\"zen\" -> \"--...-.\"\n",
    "\"gig\" -> \"--...--.\"\n",
    "\"msg\" -> \"--...--.\"\n",
    "\n",
    "There are 2 different transformations, \"--...-.\" and \"--...--.\".\n",
    "Note:\n",
    "\n",
    "The length of words will be at most 100.\n",
    "Each words[i] will have length in range [1, 12].\n",
    "words[i] will only consist of lowercase letters.\n"
   ]
  },
  {
   "cell_type": "code",
   "execution_count": null,
   "metadata": {},
   "outputs": [],
   "source": [
    "class solution():\n",
    "    def UniqueMorseCodeWords(self, words):\n",
    "        Morse = [\".-\", \"-...\", \"-.-.\", \"-..\", \".\", \"..-.\", \"--.\", \"....\", \"..\", \".---\", \"-.-\", \".-..\", \"--\",\n",
    "             \"-.\", \"---\", \".--.\", \"--.-\", \".-.\", \"...\", \"-\", \"..-\", \"...-\", \".--\", \"-..-\", \"-.--\", \"--..\"]\n",
    "        return len({\"\".join(Morse[ord(i) - ord('a')] for i in w) for w in words})\n",
    "    #return len(set(\"\".join(Morse[ord(i) - ord(\"a\")] for i in w) for w in words))"
   ]
  },
  {
   "cell_type": "code",
   "execution_count": null,
   "metadata": {},
   "outputs": [],
   "source": []
  },
  {
   "cell_type": "code",
   "execution_count": null,
   "metadata": {},
   "outputs": [],
   "source": [
    "1086. High Five\n",
    "\n",
    "Given a list of scores of different students, return the average score of each student's top five scores in the order of each student's id.\n",
    "\n",
    "Each entry items[i] has items[i][0] the student's id, and items[i][1] the student's score. The average score is calculated using integer division.\n",
    "\n",
    "Example 1:\n",
    "\n",
    "Input: [[1,91],[1,92],[2,93],[2,97],[1,60],[2,77],[1,65],[1,87],[1,100],[2,100],[2,76]]\n",
    "Output: [[1,87],[2,88]]\n",
    "Explanation: \n",
    "The average of the student with id = 1 is 87.\n",
    "The average of the student with id = 2 is 88.6. But with integer division their average converts to 88."
   ]
  },
  {
   "cell_type": "code",
   "execution_count": null,
   "metadata": {},
   "outputs": [],
   "source": []
  },
  {
   "cell_type": "code",
   "execution_count": 87,
   "metadata": {},
   "outputs": [
    {
     "data": {
      "text/plain": [
       "[[1, 87], [2, 88]]"
      ]
     },
     "execution_count": 87,
     "metadata": {},
     "output_type": "execute_result"
    }
   ],
   "source": [
    "class solution():\n",
    "    def HighFive(self,nums):\n",
    "        sd = list(set(map(lambda x:x[0], nums)))\n",
    "        r1 = [[y[1] for y in nums if y[0]==x] for x in sd]\n",
    "        r11 = [sorted(n, reverse=True)[:5] for n in r1]\n",
    "        r2= [int(sum(n)/len(n)) for n in r11]\n",
    "        return [[sd[i],r2[i]] for i in range(len(sd))]\n",
    "    \n",
    "nums= [[1,91],[1,92],[2,93],[2,97],[1,60],[2,77],[1,65],[1,87],[1,100],[2,100],[2,76]]\n",
    "a=solution()\n",
    "a.HighFive(nums)"
   ]
  },
  {
   "cell_type": "code",
   "execution_count": 86,
   "metadata": {},
   "outputs": [
    {
     "name": "stdout",
     "output_type": "stream",
     "text": [
      "[[91, 92, 60, 65, 87, 100], [93, 97, 77, 100, 76]]\n",
      "[[100, 92, 91, 87, 65], [100, 97, 93, 77, 76]]\n",
      "[87, 88]\n",
      "[[1, 87], [2, 88]]\n",
      "{1: 87, 2: 88}\n",
      "[(2, 88), (1, 87)]\n",
      "[(1, 87), (2, 88)]\n",
      "91\n"
     ]
    }
   ],
   "source": [
    "nums= [[1,91],[1,92],[2,93],[2,97],[1,60],[2,77],[1,65],[1,87],[1,100],[2,100],[2,76]]\n",
    "sid = set(map(lambda x:x[0], nums))\n",
    "sd = list(sid)\n",
    "r1 = [[y[1] for y in nums if y[0]==x] for x in sid]\n",
    "print(r1)\n",
    "#r = {x:y for x in sid y in r1}\n",
    "r11 = [sorted(n, reverse=True)[:5] for n in r1]\n",
    "print(r11)\n",
    "r2= [int(sum(n)/len(n)) for n in r11]\n",
    "print(r2)\n",
    "\n",
    "\n",
    "k = [[sd[i],r2[i]] for i in range(len(sd))]\n",
    "print(k)\n",
    "\n",
    "r3 = dict(zip(sid, r2))\n",
    "print(r3)\n",
    "r4 = sorted(r3.items(), key=lambda x: x[1], reverse=True)\n",
    "print(r4)\n",
    "r5 = sorted(r4, key=lambda x: x[0])\n",
    "print(r5[0:5])\n",
    "\n",
    "#res = [y[1] for y in nums if y[0]==x] for x in sid]\n",
    "#print(sid)\n",
    "print(nums[0][1])"
   ]
  },
  {
   "cell_type": "code",
   "execution_count": 20,
   "metadata": {},
   "outputs": [
    {
     "name": "stdout",
     "output_type": "stream",
     "text": [
      "[[1, 87.0], [2, 88.6], [3, 31.0]]\n"
     ]
    }
   ],
   "source": [
    "nums= [[1,91],[1,92],[2,93],[2,97],[1,60],[2,77],[1,65],[1,87],[1,100],[2,100],[2,76],[3,12],[3,50]]\n",
    "sid = {s[0] for s in nums}\n",
    "#print(sid)\n",
    "res=[]\n",
    "for s in sid:\n",
    "    sc = sorted([y[1] for y in nums if y[0]==s], reverse=True)[:5]\n",
    "    #print(sc)\n",
    "    res.append([s,sum(sc)/len(sc)])\n",
    "print(res)\n"
   ]
  },
  {
   "cell_type": "code",
   "execution_count": null,
   "metadata": {},
   "outputs": [],
   "source": []
  },
  {
   "cell_type": "code",
   "execution_count": null,
   "metadata": {},
   "outputs": [],
   "source": [
    "595. Big Countries\n",
    "#SQL\n",
    "select distinct name from World where area > 3000000 or population>25000000;"
   ]
  },
  {
   "cell_type": "code",
   "execution_count": null,
   "metadata": {},
   "outputs": [],
   "source": []
  },
  {
   "cell_type": "code",
   "execution_count": null,
   "metadata": {},
   "outputs": [],
   "source": [
    "1085. Sum of Digits in the Minimum Number\n",
    "Given an array A of positive integers, let S be the sum of the digits of the minimal element of A.\n",
    "Return 0 if S is odd, otherwise return 1.\n",
    " \n",
    "Example 1:\n",
    "Input: [34,23,1,24,75,33,54,8]\n",
    "Output: 0\n",
    "Explanation: \n",
    "The minimal element is 1, and the sum of those digits is S = 1 which is odd, so the answer is 0.\n",
    "Example 2:\n",
    "Input: [99,77,33,66,55]\n",
    "Output: 1\n",
    "Explanation: \n",
    "The minimal element is 33, and the sum of those digits is S = 3 + 3 = 6 which is even, so the answer is 1.\n",
    " \n",
    "Note:\n",
    "1 <= A.length <= 100\n",
    "1 <= A[i].length <= 100"
   ]
  },
  {
   "cell_type": "code",
   "execution_count": null,
   "metadata": {},
   "outputs": [],
   "source": [
    "class solution(object):\n",
    "    def SumOfDigitsMinimumNumber(self, A):\n",
    "        if not A: return 0\n",
    "        mini = min(A)\n",
    "        res = 0\n",
    "        while mini > 0:\n",
    "            quo = mini%10\n",
    "            mini = mini//10\n",
    "            res += quo         \n",
    "        return 0 if res%2 else 1"
   ]
  },
  {
   "cell_type": "code",
   "execution_count": null,
   "metadata": {},
   "outputs": [],
   "source": [
    "class solution():\n",
    "    def SumOfDigitsMinimumNumber(self, A):\n",
    "        if not A: return 0\n",
    "        res,N=0,min(A)\n",
    "        while N:\n",
    "            N,carry=divmod(N,10)\n",
    "            res += carry\n",
    "        return 0 if res%2 else 1\n"
   ]
  },
  {
   "cell_type": "code",
   "execution_count": null,
   "metadata": {},
   "outputs": [],
   "source": []
  },
  {
   "cell_type": "code",
   "execution_count": null,
   "metadata": {},
   "outputs": [],
   "source": [
    "613. Shortest Distance in a Line\n",
    "#SQL\n",
    "select min(abs(p1.x-p2.x)) as shortest_dist from point p1, point p2 where p1.x<>p2.x;\n",
    "\n",
    "#? select sqrt(power(abs(p1.x-p2.x),2)+power(abs(p1.y-p2.y),2)) as shortest_dist from point p1, point p2 where p1.x<>p2.x;\n"
   ]
  },
  {
   "cell_type": "code",
   "execution_count": null,
   "metadata": {},
   "outputs": [],
   "source": []
  },
  {
   "cell_type": "code",
   "execution_count": null,
   "metadata": {},
   "outputs": [],
   "source": [
    "1050. Actors and Directors Who Cooperated At Least Three Times\n",
    "#SQL\n",
    "select actor_id, director_id from\n",
    "(select actor_id, director_id, count(*) as coop_times from ActorDirector group by actor_id, director_id)\n",
    "where coop_times>=3;\n",
    "#OR\n",
    "select actor_id, director_id\n",
    "from ActorDirector\n",
    "group by actor_id, director_id\n",
    "having count(1)>=3\n"
   ]
  },
  {
   "cell_type": "code",
   "execution_count": null,
   "metadata": {},
   "outputs": [],
   "source": []
  },
  {
   "cell_type": "code",
   "execution_count": null,
   "metadata": {},
   "outputs": [],
   "source": [
    "832. Flipping an Image\n",
    "Given a binary matrix A, we want to flip the image horizontally, then invert it, and return the resulting image.\n",
    "\n",
    "To flip an image horizontally means that each row of the image is reversed.  For example, flipping [1, 1, 0] horizontally results in [0, 1, 1].\n",
    "\n",
    "To invert an image means that each 0 is replaced by 1, and each 1 is replaced by 0. For example, inverting [0, 1, 1] results in [1, 0, 0].\n",
    "\n",
    "Example 1:\n",
    "\n",
    "Input: [[1,1,0],[1,0,1],[0,0,0]]\n",
    "Output: [[1,0,0],[0,1,0],[1,1,1]]\n",
    "Explanation: First reverse each row: [[0,1,1],[1,0,1],[0,0,0]].\n",
    "Then, invert the image: [[1,0,0],[0,1,0],[1,1,1]]\n",
    "    "
   ]
  },
  {
   "cell_type": "code",
   "execution_count": null,
   "metadata": {},
   "outputs": [],
   "source": [
    "def flipAndInvertImage(self, nums):\n",
    "        return [[1 ^ i for i in n[::-1]] for n in nums]"
   ]
  },
  {
   "cell_type": "code",
   "execution_count": null,
   "metadata": {},
   "outputs": [],
   "source": []
  },
  {
   "cell_type": "code",
   "execution_count": null,
   "metadata": {},
   "outputs": [],
   "source": [
    "905. Sort Array By Parity\n",
    "\n",
    "Given an array A of non-negative integers, return an array consisting of all the even elements of A, followed by all the odd elements of A.\n",
    "\n",
    "You may return any answer array that satisfies this condition.\n",
    "\n",
    " \n",
    "\n",
    "Example 1:\n",
    "\n",
    "Input: [3,1,2,4]\n",
    "Output: [2,4,3,1]\n",
    "The outputs [4,2,3,1], [2,4,1,3], and [4,2,1,3] would also be accepted.\n",
    " \n",
    "\n",
    "Note:\n",
    "\n",
    "1 <= A.length <= 5000\n",
    "0 <= A[i] <= 5000\n"
   ]
  },
  {
   "cell_type": "code",
   "execution_count": null,
   "metadata": {},
   "outputs": [],
   "source": [
    "class solution():\n",
    "    def sortArrayByParity(self, nums):\n",
    "        return [n for n in nums if not n % 2] + [n for n in nums if n % 2]\n",
    "    def sortArrayByParity(self, nums):\n",
    "        return sorted(nums, key = lambda x: x % 2)\n",
    "        #return sorted(A, key = lambda x: x & 1)\n",
    "        \n",
    "    def sortArrayByParity(self, A):\n",
    "        i = -1\n",
    "        for j in range(len(A)):\n",
    "            if A[j] % 2 == 0:\n",
    "                i += 1\n",
    "                if i<j:\n",
    "                    A[i], A[j] = A[j], A[i]\n",
    "        return A"
   ]
  },
  {
   "cell_type": "code",
   "execution_count": 9,
   "metadata": {},
   "outputs": [
    {
     "data": {
      "text/plain": [
       "[6, 6, 6, 2, 4, 3, 1]"
      ]
     },
     "execution_count": 9,
     "metadata": {},
     "output_type": "execute_result"
    }
   ],
   "source": [
    "def sortArrayByParity(A):\n",
    "    i = -1\n",
    "    for j in range(len(A)):\n",
    "        if A[j] % 2 == 0:\n",
    "            i += 1\n",
    "            if i<j:\n",
    "                A[i], A[j] = A[j], A[i]\n",
    "    return A\n",
    "A=[6,6,6,3,1,2,4]\n",
    "sortArrayByParity(A)"
   ]
  },
  {
   "cell_type": "code",
   "execution_count": null,
   "metadata": {},
   "outputs": [],
   "source": [
    "def sortArrayByParity(self, A):\n",
    "    left, right = 0, len(A) - 1\n",
    "    while left < right:\n",
    "        if not A[left] % 2:\n",
    "            left += 1\n",
    "        elif A[right] % 2:\n",
    "            right -= 1\n",
    "        else:\n",
    "            A[left], A[right] = A[right], A[left]\n",
    "\n",
    "    return A\n"
   ]
  },
  {
   "cell_type": "code",
   "execution_count": null,
   "metadata": {},
   "outputs": [],
   "source": []
  },
  {
   "cell_type": "code",
   "execution_count": null,
   "metadata": {},
   "outputs": [],
   "source": [
    "961. N-Repeated Element in Size 2N Array\n",
    "\n",
    "In a array A of size 2N, there are N+1 unique elements, and exactly one of these elements is repeated N times.\n",
    "\n",
    "Return the element repeated N times.\n",
    "\n"
   ]
  },
  {
   "cell_type": "code",
   "execution_count": null,
   "metadata": {},
   "outputs": [],
   "source": [
    "from collections import Counter\n",
    "\n",
    "class Solution:\n",
    "    def repeatedNTimes(self, A: List[int]) -> int:\n",
    "        rep_dic = dict(Counter(A))\n",
    "        for key in rep_dic:\n",
    "            if rep_dic[key] == len(A)/2: return key\n",
    "            \n",
    "def repeatedNTimes(self, A):\n",
    "    return int((sum(A)-sum(set(A))) // (len(A)//2-1))"
   ]
  },
  {
   "cell_type": "code",
   "execution_count": null,
   "metadata": {},
   "outputs": [],
   "source": []
  },
  {
   "cell_type": "code",
   "execution_count": null,
   "metadata": {},
   "outputs": [],
   "source": [
    "977. Squares of a Sorted Array\n",
    "\n",
    "Given an array of integers A sorted in non-decreasing order, return an array of the squares of each number, also in sorted non-decreasing order.\n",
    "\n",
    "Example 1:\n",
    "\n",
    "Input: [-4,-1,0,3,10]\n",
    "Output: [0,1,9,16,100]\n",
    "Example 2:\n",
    "\n",
    "Input: [-7,-3,2,3,11]\n",
    "Output: [4,9,9,49,121]\n",
    " \n",
    "\n",
    "Note:\n",
    "\n",
    "1 <= A.length <= 10000\n",
    "-10000 <= A[i] <= 10000\n",
    "A is sorted in non-decreasing order.\n"
   ]
  },
  {
   "cell_type": "code",
   "execution_count": 6,
   "metadata": {},
   "outputs": [
    {
     "data": {
      "text/plain": [
       "[4, 9, 9, 49, 121]"
      ]
     },
     "execution_count": 6,
     "metadata": {},
     "output_type": "execute_result"
    }
   ],
   "source": [
    "class solution():\n",
    "    def SquaresSortedArray(self,nums):\n",
    "        #return sorted([n*n for n in nums])\n",
    "        return list(map(lambda x: x*x, sorted(nums, key = lambda x: abs(x))) )\n",
    "\n",
    "nums = [-7,-3,2,3,11]\n",
    "a=solution()\n",
    "a.SquaresSortedArray(nums)\n",
    "#https://leetcode.com/problems/squares-of-a-sorted-array/discuss/310865/Python%3A-A-comparison-of-lots-of-approaches!-Sorting-two-pointers-deque-iterator-generator\n"
   ]
  },
  {
   "cell_type": "code",
   "execution_count": null,
   "metadata": {},
   "outputs": [],
   "source": []
  },
  {
   "cell_type": "code",
   "execution_count": null,
   "metadata": {},
   "outputs": [],
   "source": [
    "657. Robot Return to Origin\n",
    "There is a robot starting at position (0, 0), the origin, on a 2D plane. Given a sequence of its moves, judge if this robot ends up at (0, 0) after it completes its moves.\n",
    "\n",
    "The move sequence is represented by a string, and the character moves[i] represents its ith move. Valid moves are R (right), L (left), U (up), and D (down). If the robot returns to the origin after it finishes all of its moves, return true. Otherwise, return false.\n",
    "\n",
    "Note: The way that the robot is \"facing\" is irrelevant. \"R\" will always make the robot move to the right once, \"L\" will always make it move left, etc. Also, assume that the magnitude of the robot's movement is the same for each move.\n",
    "\n",
    "Example 1:\n",
    "\n",
    "Input: \"UD\"\n",
    "Output: true \n",
    "Explanation: The robot moves up once, and then down once. All moves have the same magnitude, so it ended up at the origin where it started. Therefore, we return true.\n",
    " \n",
    "\n",
    "Example 2:\n",
    "\n",
    "Input: \"LL\"\n",
    "Output: false\n",
    "Explanation: The robot moves left twice. It ends up two \"moves\" to the left of the origin. We return false because it is not at the origin at the end of its moves."
   ]
  },
  {
   "cell_type": "code",
   "execution_count": null,
   "metadata": {},
   "outputs": [],
   "source": [
    "'RUL'.find(m) returns: 0 for 'R', 1 for 'U', 2 for 'L', -1 for 'D'\n",
    "1j**'RUL'.find(m) returns: 1 for 'R', 1j for 'U', -1 for 'L', -1j for 'D'\n",
    "sum will cancel off 'L' and 'R', 'U and 'D' separately.\n",
    "\n",
    "def judgeCircle(self, moves):\n",
    "    return not sum(1j**'RUL'.find(m) for m in moves)"
   ]
  },
  {
   "cell_type": "code",
   "execution_count": null,
   "metadata": {},
   "outputs": [],
   "source": [
    "class Solution(object):\n",
    "    def judgeCircle(self, moves):\n",
    "        pos = [0,0]\n",
    "        for m in moves:\n",
    "            if m == 'U': pos[0] += 1\n",
    "            elif m == 'D': pos[0] -= 1\n",
    "            elif m == 'L': pos[1] -= 1\n",
    "            elif m == 'R': pos[1] += 1\n",
    "        return pos == [0,0]\n",
    "    \n",
    "    def judgeCircle(self, moves):\n",
    "        return moves.count('L') == moves.count('R') and moves.count('U') == moves.count('D')"
   ]
  },
  {
   "cell_type": "code",
   "execution_count": null,
   "metadata": {},
   "outputs": [],
   "source": []
  },
  {
   "cell_type": "code",
   "execution_count": null,
   "metadata": {},
   "outputs": [],
   "source": [
    "1133. Largest Unique Number\n",
    "Given an array of integers A, return the largest integer that only occurs once.\n",
    "\n",
    "If no integer occurs once, return -1.\n",
    "\n",
    " \n",
    "\n",
    "Example 1:\n",
    "\n",
    "Input: [5,7,3,9,4,9,8,3,1]\n",
    "Output: 8\n",
    "Explanation: \n",
    "The maximum integer in the array is 9 but it is repeated. The number 8 occurs only once, so it's the answer.\n",
    "Example 2:\n",
    "\n",
    "Input: [9,9,8,8]\n",
    "Output: -1\n",
    "Explanation: \n",
    "There is no number that occurs only once.\n",
    " \n",
    "\n",
    "Note:\n",
    "\n",
    "1 <= A.length <= 2000\n",
    "0 <= A[i] <= 1000"
   ]
  },
  {
   "cell_type": "code",
   "execution_count": 24,
   "metadata": {},
   "outputs": [
    {
     "data": {
      "text/plain": [
       "8"
      ]
     },
     "execution_count": 24,
     "metadata": {},
     "output_type": "execute_result"
    }
   ],
   "source": [
    "import collections\n",
    "class solution():\n",
    "    def LargestUniqueNumber(self,A):\n",
    "        d = [k for k, v in collections.Counter(A).items() if v==1]\n",
    "        return max(d) if len(d)>0 else -1\n",
    "A=[5,7,3,9,4,9,8,3,1]\n",
    "a = solution()\n",
    "a.LargestUniqueNumber(A)"
   ]
  },
  {
   "cell_type": "code",
   "execution_count": null,
   "metadata": {},
   "outputs": [],
   "source": []
  },
  {
   "cell_type": "code",
   "execution_count": null,
   "metadata": {},
   "outputs": [],
   "source": [
    "1082. Sales Analysis I\n",
    "#SQL\n",
    "select distinct seller_id, max(total_sale) from (select seller_id, sum(quantity*price) as total_sale from Sales group by seller_id);\n"
   ]
  },
  {
   "cell_type": "code",
   "execution_count": null,
   "metadata": {},
   "outputs": [],
   "source": []
  },
  {
   "cell_type": "code",
   "execution_count": null,
   "metadata": {},
   "outputs": [],
   "source": [
    "728. Self Dividing Numbers\n",
    "\n",
    "A self-dividing number is a number that is divisible by every digit it contains.\n",
    "\n",
    "For example, 128 is a self-dividing number because 128 % 1 == 0, 128 % 2 == 0, and 128 % 8 == 0.\n",
    "\n",
    "Also, a self-dividing number is not allowed to contain the digit zero.\n",
    "\n",
    "Given a lower and upper number bound, output a list of every possible self dividing number, including the bounds if possible.\n",
    "\n",
    "Example 1:\n",
    "Input: \n",
    "left = 1, right = 22\n",
    "Output: [1, 2, 3, 4, 5, 6, 7, 8, 9, 11, 12, 15, 22]\n",
    "Note:\n",
    "\n",
    "The boundaries of each input argument are 1 <= left <= right <= 10000.\n"
   ]
  },
  {
   "cell_type": "code",
   "execution_count": null,
   "metadata": {},
   "outputs": [],
   "source": [
    "class Solution(object):\n",
    "    def selfDividingNumbers(self, left, right):\n",
    "        is_self_dividing = lambda num: '0' not in str(num) and all([num % int(digit) == 0 for digit in str(num)])\n",
    "        return filter(is_self_dividing, range(left, right + 1))\n",
    "\n",
    "    \n",
    "[num % int(digit) == 0 for digit in str(num)] creates an entire list which is not necessary. \n",
    "By leaving out the [ and ], we can make use of generators which are lazy and allows for short-circuit evaluation, i.e. all will terminate as soon as one of the digits fail the check.\n",
    "\n",
    "The answer below improves the run time from 128 ms to 95 ms:\n",
    "\n",
    "class Solution(object):\n",
    "    def selfDividingNumbers(self, left, right):\n",
    "        is_self_dividing = lambda num: '0' not in str(num) and all(num % int(digit) == 0 for digit in str(num))\n",
    "        return filter(is_self_dividing, range(left, right + 1))"
   ]
  },
  {
   "cell_type": "code",
   "execution_count": null,
   "metadata": {},
   "outputs": [],
   "source": [
    "class solution():\n",
    "    def SelfDividingNumbers(self, left, right):\n",
    "            def is_valid(num):\n",
    "                n = num\n",
    "                while n:\n",
    "                    n, i = divmod(n, 10)\n",
    "                    if i == 0 or num % i != 0:\n",
    "                        return False\n",
    "                return True\n",
    "\n",
    "            return filter(is_valid, range(left, right + 1))"
   ]
  },
  {
   "cell_type": "code",
   "execution_count": null,
   "metadata": {},
   "outputs": [],
   "source": [
    "617. Merge Two Binary Trees\n",
    "\n",
    "Given two binary trees and imagine that when you put one of them to cover the other, some nodes of the two trees are overlapped while the others are not.\n",
    "\n",
    "You need to merge them into a new binary tree. The merge rule is that if two nodes overlap, then sum node values up as the new value of the merged node. Otherwise, the NOT null node will be used as the node of new tree.\n",
    "\n",
    "Example 1:\n",
    "\n",
    "Input: \n",
    "    Tree 1                     Tree 2                  \n",
    "          1                         2                             \n",
    "         / \\                       / \\                            \n",
    "        3   2                     1   3                        \n",
    "       /                           \\   \\                      \n",
    "      5                             4   7                  \n",
    "Output: \n",
    "    Merged tree:\n",
    "         3\n",
    "        / \\\n",
    "       4   5\n",
    "      / \\   \\ \n",
    "     5   4   7\n",
    "\n",
    "\n",
    "Note: The merging process must start from the root nodes of both trees."
   ]
  },
  {
   "cell_type": "code",
   "execution_count": null,
   "metadata": {},
   "outputs": [],
   "source": [
    "class solution():\n",
    "    def mergeTrees(self, r1, r2):\n",
    "        if not r1 and not r2: return None\n",
    "        ans = TreeNode((r1.val if r1 else 0) + (r2.val if r2 else 0))\n",
    "        ans.left = self.mergeTrees(r1 and r1.left, r2 and r2.left)\n",
    "        ans.right = self.mergeTrees(r1 and r1.right, r2 and r2.right)\n",
    "        return ans"
   ]
  },
  {
   "cell_type": "code",
   "execution_count": null,
   "metadata": {},
   "outputs": [],
   "source": [
    "class Solution(object):\n",
    "    def mergeTrees(self, t1, t2):\n",
    "        \"\"\"\n",
    "        :type t1: TreeNode\n",
    "        :type t2: TreeNode\n",
    "        :rtype: TreeNode\n",
    "        \"\"\"\n",
    "        if t1 and t2:\n",
    "            t1.val += t2.val\n",
    "            t1.left = self.mergeTrees(t1.left, t2.left)\n",
    "            t1.right = self.mergeTrees(t1.right, t2.right)\n",
    "            return t1\n",
    "        else:\n",
    "            return t1 or t2"
   ]
  },
  {
   "cell_type": "code",
   "execution_count": null,
   "metadata": {},
   "outputs": [],
   "source": [
    "Iterative solution to merge\n",
    "\n",
    "The key to write an iterative solution is to consider constructing the merged tree into t1 directly.\n",
    "Use a stack and push t1,t2 into the stack. Now iterate until stack is not empty.\n",
    "Pop the stack and add the value of t2 into t1. Now test if t1.left is None or t2.left is None. If either is None, attach the non None subtree to t1.left. If both are not None, push t1.left, t2.left on the stack. Repeat for t1.right and t2.right.\n",
    "Time complexity is O(min(n,m)) and Space Complexity is O(min(h1,h2)).\n",
    "class Solution:\n",
    "    def mergeTrees(self, t1, t2):\n",
    "        \"\"\"\n",
    "        :type t1: TreeNode\n",
    "        :type t2: TreeNode\n",
    "        :rtype: TreeNode\n",
    "        \"\"\"\n",
    "        if t1 is None or t2 is None:\n",
    "            return t1 or t2\n",
    "        else:\n",
    "            root = t1\n",
    "            st = [(t1,t2)]\n",
    "            while st:\n",
    "                t1, t2 = st.pop()\n",
    "                t1.val += t2.val\n",
    "                if t1.left is None or t2.left is None:\n",
    "                    t1.left = t1.left or t2.left\n",
    "                else:\n",
    "                    st.append((t1.left, t2.left))\n",
    "                if t1.right is None or t2.right is None:\n",
    "                    t1.right = t1.right or t2.right\n",
    "                else:\n",
    "                    st.append((t1.right, t2.right))\n",
    "            return root"
   ]
  },
  {
   "cell_type": "code",
   "execution_count": null,
   "metadata": {},
   "outputs": [],
   "source": [
    "461. Hamming Distance\n",
    "\n",
    "The Hamming distance between two integers is the number of positions at which the corresponding bits are different.\n",
    "\n",
    "Given two integers x and y, calculate the Hamming distance.\n",
    "\n",
    "Note:\n",
    "0 ≤ x, y < 231.\n",
    "\n",
    "Example:\n",
    "\n",
    "Input: x = 1, y = 4\n",
    "\n",
    "Output: 2\n",
    "\n",
    "Explanation:\n",
    "1   (0 0 0 1)\n",
    "4   (0 1 0 0)\n",
    "       ↑   ↑\n",
    "\n",
    "The above arrows point to positions where the corresponding bits are different."
   ]
  },
  {
   "cell_type": "code",
   "execution_count": null,
   "metadata": {},
   "outputs": [],
   "source": [
    "class Solution(object):\n",
    "    def hammingDistance(self, x, y):\n",
    "        x = x ^ y\n",
    "        y = 0\n",
    "        while x:\n",
    "            y += 1\n",
    "            x = x & (x - 1)\n",
    "        return y\n"
   ]
  },
  {
   "cell_type": "code",
   "execution_count": null,
   "metadata": {},
   "outputs": [],
   "source": [
    "    def hammingDistance2(self, x, y):\n",
    "        return bin(x ^ y).count('1') "
   ]
  },
  {
   "cell_type": "code",
   "execution_count": 880,
   "metadata": {},
   "outputs": [
    {
     "name": "stdout",
     "output_type": "stream",
     "text": [
      "0b101\n"
     ]
    }
   ],
   "source": [
    "print(bin(1^4))"
   ]
  },
  {
   "cell_type": "code",
   "execution_count": null,
   "metadata": {},
   "outputs": [],
   "source": [
    "#We can find the i-th bit (from the right) of a number by dividing by 2 i times, then taking the number mod 2.\n",
    "#Using this, lets compare each of the i-th bits, adding 1 to our answer when they are different.\n",
    "ans = 0\n",
    "while x or y:\n",
    "  ans += (x % 2) ^ (y % 2)\n",
    "  x /= 2\n",
    "  y /= 2\n",
    "return ans"
   ]
  },
  {
   "cell_type": "code",
   "execution_count": null,
   "metadata": {},
   "outputs": [],
   "source": []
  },
  {
   "cell_type": "code",
   "execution_count": null,
   "metadata": {},
   "outputs": [],
   "source": [
    "942. DI String Match\n",
    "\n",
    "Given a string S that only contains \"I\" (increase) or \"D\" (decrease), let N = S.length.\n",
    "\n",
    "Return any permutation A of [0, 1, ..., N] such that for all i = 0, ..., N-1:\n",
    "\n",
    "If S[i] == \"I\", then A[i] < A[i+1]\n",
    "If S[i] == \"D\", then A[i] > A[i+1]\n",
    " \n",
    "\n",
    "Example 1:\n",
    "\n",
    "Input: \"IDID\"\n",
    "Output: [0,4,1,3,2]\n",
    "Example 2:\n",
    "\n",
    "Input: \"III\"\n",
    "Output: [0,1,2,3]\n",
    "Example 3:\n",
    "\n",
    "Input: \"DDI\"\n",
    "Output: [3,2,0,1]\n",
    " \n",
    "\n",
    "Note:\n",
    "\n",
    "1 <= S.length <= 10000\n",
    "S only contains characters \"I\" or \"D\".\n"
   ]
  },
  {
   "cell_type": "code",
   "execution_count": 96,
   "metadata": {},
   "outputs": [
    {
     "name": "stdout",
     "output_type": "stream",
     "text": [
      "[0, 1, -1, 2, -2]\n",
      "[2, 3, 1, 4, 0]\n",
      "===\n",
      "[0]\n",
      "[0, 4]\n",
      "[0, 4, 1]\n",
      "[0, 4, 1, 3]\n",
      "[0, 4, 1, 3, 2]\n"
     ]
    }
   ],
   "source": [
    "class solution():\n",
    "    def DIStringMatch(self,s):\n",
    "        l,r,res=0,0,[0]\n",
    "        for c in s:\n",
    "            if c=='I':\n",
    "                r += 1\n",
    "                res.append(r)\n",
    "            else:\n",
    "                l -= 1\n",
    "                res.append(l)\n",
    "        print(res)\n",
    "        return [i-l for i in res]  #note: i - L (L is the maximum negative index) to ensure the index from 0 to N-1\n",
    "    \n",
    "    def DIStringMatch2(self, s):\n",
    "        res, inc, dec = [], 0, len(s)\n",
    "        for c in s:\n",
    "            if c == 'I':\n",
    "                res += inc\n",
    "                inc += 1\n",
    "            else:\n",
    "                res += dec\n",
    "                dec -= 1\n",
    "            print (res)\n",
    "        res += inc\n",
    "        return res\n",
    "\n",
    "\n",
    "strs=\"IDID\"\n",
    "a=solution()\n",
    "print(a.DIStringMatch(strs))\n",
    "print(\"===\")\n",
    "print(a.DIStringMatch2(strs))"
   ]
  },
  {
   "cell_type": "code",
   "execution_count": null,
   "metadata": {},
   "outputs": [],
   "source": []
  },
  {
   "cell_type": "code",
   "execution_count": null,
   "metadata": {},
   "outputs": [],
   "source": [
    "852. Peak Index in a Mountain Array\n",
    "\n",
    "Let's call an array A a mountain if the following properties hold:\n",
    "\n",
    "A.length >= 3\n",
    "There exists some 0 < i < A.length - 1 such that A[0] < A[1] < ... A[i-1] < A[i] > A[i+1] > ... > A[A.length - 1]\n",
    "Given an array that is definitely a mountain, return any i such that A[0] < A[1] < ... A[i-1] < A[i] > A[i+1] > ... > A[A.length - 1].\n",
    "\n",
    "Example 1:\n",
    "\n",
    "Input: [0,1,0]\n",
    "Output: 1\n",
    "Example 2:\n",
    "\n",
    "Input: [0,2,1,0]\n",
    "Output: 1\n",
    "Note:\n",
    "\n",
    "3 <= A.length <= 10000\n",
    "0 <= A[i] <= 10^6\n",
    "A is a mountain, as defined above.\n"
   ]
  },
  {
   "cell_type": "code",
   "execution_count": null,
   "metadata": {},
   "outputs": [],
   "source": [
    "class solution():\n",
    "    def peakIndexInMountainArray(self, A):\n",
    "        l, r = 0, len(A) - 1\n",
    "        while l < r:\n",
    "            m = (l + r) // 2\n",
    "            if A[m] < A[m + 1]:\n",
    "                l = m + 1\n",
    "            else:\n",
    "                r = m\n",
    "        return l"
   ]
  },
  {
   "cell_type": "code",
   "execution_count": null,
   "metadata": {},
   "outputs": [],
   "source": [
    "class Solution:\n",
    "    def peakIndexInMountainArray(self, A):\n",
    "        max_num = max(A)\n",
    "        return A.index(max_num)"
   ]
  },
  {
   "cell_type": "code",
   "execution_count": null,
   "metadata": {},
   "outputs": [],
   "source": []
  },
  {
   "cell_type": "code",
   "execution_count": null,
   "metadata": {},
   "outputs": [],
   "source": [
    "929. Unique Email Addresses\n",
    "\n",
    "Every email consists of a local name and a domain name, separated by the @ sign.\n",
    "\n",
    "For example, in alice@leetcode.com, alice is the local name, and leetcode.com is the domain name.\n",
    "\n",
    "Besides lowercase letters, these emails may contain '.'s or '+'s.\n",
    "\n",
    "If you add periods ('.') between some characters in the local name part of an email address, mail sent there will be forwarded to the same address without dots in the local name.  For example, \"alice.z@leetcode.com\" and \"alicez@leetcode.com\" forward to the same email address.  (Note that this rule does not apply for domain names.)\n",
    "\n",
    "If you add a plus ('+') in the local name, everything after the first plus sign will be ignored. This allows certain emails to be filtered, for example m.y+name@email.com will be forwarded to my@email.com.  (Again, this rule does not apply for domain names.)\n",
    "\n",
    "It is possible to use both of these rules at the same time.\n",
    "\n",
    "Given a list of emails, we send one email to each address in the list.  How many different addresses actually receive mails? \n",
    "\n",
    " \n",
    "\n",
    "Example 1:\n",
    "\n",
    "Input: [\"test.email+alex@leetcode.com\",\"test.e.mail+bob.cathy@leetcode.com\",\"testemail+david@lee.tcode.com\"]\n",
    "Output: 2\n",
    "Explanation: \"testemail@leetcode.com\" and \"testemail@lee.tcode.com\" actually receive mails\n",
    " \n",
    "\n",
    "Note:\n",
    "\n",
    "1 <= emails[i].length <= 100\n",
    "1 <= emails.length <= 100\n",
    "Each emails[i] contains exactly one '@' character.\n",
    "All local and domain names are non-empty.\n",
    "Local names do not start with a '+' character.\n"
   ]
  },
  {
   "cell_type": "code",
   "execution_count": null,
   "metadata": {},
   "outputs": [],
   "source": [
    "class Solution:\n",
    "    def numUniqueEmails(self, emails):\n",
    "        addresses = set()\n",
    "        for email in emails:\n",
    "            local, domain = email.split(\"@\")\n",
    "            local = local.split(\"+\")[0].replace(\".\", \"\")\n",
    "            addresses.add(local + \"@\" + domain)\n",
    "        return len(addresses)"
   ]
  },
  {
   "cell_type": "code",
   "execution_count": null,
   "metadata": {},
   "outputs": [],
   "source": []
  },
  {
   "cell_type": "code",
   "execution_count": null,
   "metadata": {},
   "outputs": [],
   "source": [
    "627. Swap Salary\n",
    "#SQL\n",
    "UPDATE salary\n",
    "SET\n",
    "    sex = CASE sex\n",
    "        WHEN 'm' THEN 'f'\n",
    "        ELSE 'm'\n",
    "    END;\n",
    "    \n",
    "#OR\n",
    "update salary set sex = IF (sex = \"m\", \"f\", \"m\");\n",
    "#update table set column_name=updated_value"
   ]
  },
  {
   "cell_type": "code",
   "execution_count": null,
   "metadata": {},
   "outputs": [],
   "source": []
  },
  {
   "cell_type": "code",
   "execution_count": null,
   "metadata": {},
   "outputs": [],
   "source": [
    "561. Array Partition I\n",
    "\n",
    "Given an array of 2n integers, your task is to group these integers into n pairs of integer, \n",
    "say (a1, b1), (a2, b2), ..., (an, bn) which makes sum of min(ai, bi) for all i from 1 to n as large as possible.\n",
    "\n",
    "Example 1:\n",
    "Input: [1,4,3,2]\n",
    "\n",
    "Output: 4\n",
    "Explanation: n is 2, and the maximum sum of pairs is 4 = min(1, 2) + min(3, 4).\n",
    "Note:\n",
    "n is a positive integer, which is in the range of [1, 10000].\n",
    "All the integers in the array will be in the range of [-10000, 10000].\n"
   ]
  },
  {
   "cell_type": "code",
   "execution_count": null,
   "metadata": {},
   "outputs": [],
   "source": [
    "class solution:\n",
    "    def arrayPairSum(self, A):\n",
    "        return sum(sorted(A)[::2])\n",
    "class Solution(object):\n",
    "    def arrayPairSum2(self, nums):\n",
    "        nums.sort()\n",
    "        return sum(nums[i*2] for i in range(len(nums)//2))"
   ]
  },
  {
   "cell_type": "code",
   "execution_count": 883,
   "metadata": {},
   "outputs": [
    {
     "name": "stdout",
     "output_type": "stream",
     "text": [
      "[1, 3]\n"
     ]
    }
   ],
   "source": [
    "A=[1,4,3,2]\n",
    "print([a for a in A[::2]])"
   ]
  },
  {
   "cell_type": "code",
   "execution_count": null,
   "metadata": {},
   "outputs": [],
   "source": []
  },
  {
   "cell_type": "code",
   "execution_count": null,
   "metadata": {},
   "outputs": [],
   "source": [
    "933. Number of Recent Calls\n",
    "\n",
    "Write a class RecentCounter to count recent requests.\n",
    "\n",
    "It has only one method: ping(int t), where t represents some time in milliseconds.\n",
    "\n",
    "Return the number of pings that have been made from 3000 milliseconds ago until now.\n",
    "\n",
    "Any ping with time in [t - 3000, t] will count, including the current ping.\n",
    "\n",
    "It is guaranteed that every call to ping uses a strictly larger value of t than before.\n",
    "\n",
    " \n",
    "\n",
    "Example 1:\n",
    "\n",
    "Input: inputs = [\"RecentCounter\",\"ping\",\"ping\",\"ping\",\"ping\"], inputs = [[],[1],[100],[3001],[3002]]\n",
    "Output: [null,1,2,3,3]\n",
    " \n",
    "\n",
    "Note:\n",
    "\n",
    "Each test case will have at most 10000 calls to ping.\n",
    "Each test case will call ping with strictly increasing values of t.\n",
    "Each call to ping will have 1 <= t <= 10^9."
   ]
  },
  {
   "cell_type": "code",
   "execution_count": null,
   "metadata": {},
   "outputs": [],
   "source": []
  },
  {
   "cell_type": "code",
   "execution_count": null,
   "metadata": {},
   "outputs": [],
   "source": [
    "import collections\n",
    "class RecentCounter():\n",
    "    def __init__(self):\n",
    "        self.p = collections.deque()\n",
    "        \n",
    "    def ping(self,t):\n",
    "        self.p.append(t)\n",
    "        while self.p[0]<t-3000:\n",
    "            self.p.popleft()\n",
    "        return len(self.p)"
   ]
  },
  {
   "cell_type": "code",
   "execution_count": null,
   "metadata": {},
   "outputs": [],
   "source": []
  },
  {
   "cell_type": "code",
   "execution_count": null,
   "metadata": {},
   "outputs": [],
   "source": [
    "944. Delete Columns to Make Sorted\n",
    "\n",
    "We are given an array A of N lowercase letter strings, all of the same length.\n",
    "\n",
    "Now, we may choose any set of deletion indices, and for each string, we delete all the characters in those indices.\n",
    "\n",
    "For example, if we have an array A = [\"abcdef\",\"uvwxyz\"] and deletion indices {0, 2, 3}, then the final array after deletions is [\"bef\", \"vyz\"], and the remaining columns of A are [\"b\",\"v\"], [\"e\",\"y\"], and [\"f\",\"z\"].  (Formally, the c-th column is [A[0][c], A[1][c], ..., A[A.length-1][c]].)\n",
    "\n",
    "Suppose we chose a set of deletion indices D such that after deletions, each remaining column in A is in non-decreasing sorted order.\n",
    "\n",
    "Return the minimum possible value of D.length.\n",
    "\n",
    "\n",
    "\n",
    "Example 1:\n",
    "\n",
    "Input: [\"cba\",\"daf\",\"ghi\"]\n",
    "Output: 1\n",
    "Explanation: \n",
    "After choosing D = {1}, each column [\"c\",\"d\",\"g\"] and [\"a\",\"f\",\"i\"] are in non-decreasing sorted order.\n",
    "If we chose D = {}, then a column [\"b\",\"a\",\"h\"] would not be in non-decreasing sorted order.\n",
    "Example 2:\n",
    "\n",
    "Input: [\"a\",\"b\"]\n",
    "Output: 0\n",
    "Explanation: D = {}\n",
    "Example 3:\n",
    "\n",
    "Input: [\"zyx\",\"wvu\",\"tsr\"]\n",
    "Output: 3\n",
    "Explanation: D = {0, 1, 2}\n",
    "    \n",
    "Note:\n",
    "\n",
    "1 <= A.length <= 100\n",
    "1 <= A[i].length <= 1000"
   ]
  },
  {
   "cell_type": "code",
   "execution_count": null,
   "metadata": {},
   "outputs": [],
   "source": [
    "O(NlogNM), with N <= 100\n",
    "\n",
    "    def minDeletionSize(self, A):\n",
    "        return sum(list(col) != sorted(col) for col in zip(*A))\n",
    "O(NM)\n",
    "\n",
    "    def minDeletionSize(self, A):\n",
    "        return sum(any(a > b for a, b in zip(col, col[1:])) for col in zip(*A))"
   ]
  },
  {
   "cell_type": "code",
   "execution_count": 7,
   "metadata": {},
   "outputs": [
    {
     "name": "stdout",
     "output_type": "stream",
     "text": [
      "['c', 'd', 'g']\n",
      "c d\n",
      "d g\n",
      "['a', 'b', 'h']\n",
      "b a\n",
      "a h\n",
      "['a', 'f', 'i']\n",
      "a f\n",
      "f i\n"
     ]
    }
   ],
   "source": [
    "s= [\"cba\",\"daf\",\"ghi\"]\n",
    "for col in zip(*s):\n",
    "    print (sorted(col))\n",
    "    for a, b in zip(col,col[1:]):\n",
    "        print (a,b)"
   ]
  },
  {
   "cell_type": "code",
   "execution_count": null,
   "metadata": {},
   "outputs": [],
   "source": [
    "class Solution:\n",
    "    def minDeletionSize(self, A):\n",
    "        return sum(any(a[j] > b[j] for a, b in zip(A, A[1:])) for j in range(len(A[0])))\n",
    "    "
   ]
  },
  {
   "cell_type": "code",
   "execution_count": 9,
   "metadata": {},
   "outputs": [
    {
     "name": "stdout",
     "output_type": "stream",
     "text": [
      "cba daf\n",
      "daf ghi\n",
      "ghi umn\n"
     ]
    }
   ],
   "source": [
    "A= [\"cba\",\"daf\",\"ghi\",\"umn\"]\n",
    "for a, b in zip(A, A[1:]):\n",
    "    print(a, b)"
   ]
  },
  {
   "cell_type": "code",
   "execution_count": null,
   "metadata": {},
   "outputs": [],
   "source": [
    "1051. Height Checker\n",
    "\n",
    "Students are asked to stand in non-decreasing order of heights for an annual photo.\n",
    "\n",
    "Return the minimum number of students not standing in the right positions.  (This is the number of students that must move in order for all students to be standing in non-decreasing order of height.)\n",
    "\n",
    " \n",
    "\n",
    "Example 1:\n",
    "\n",
    "Input: [1,1,4,2,1,3]\n",
    "Output: 3\n",
    "Explanation: \n",
    "Students with heights 4, 3 and the last 1 are not standing in the right positions."
   ]
  },
  {
   "cell_type": "code",
   "execution_count": null,
   "metadata": {},
   "outputs": [],
   "source": [
    "\n",
    "class Solution:\n",
    "    def heightChecker(self, heights: List[int]) -> int:\n",
    "        return sum(h1 != h2 for h1, h2 in zip(heights, sorted(heights)))\n"
   ]
  },
  {
   "cell_type": "code",
   "execution_count": null,
   "metadata": {},
   "outputs": [],
   "source": []
  },
  {
   "cell_type": "code",
   "execution_count": null,
   "metadata": {},
   "outputs": [],
   "source": [
    "339. Nested List Weight Sum\n",
    "Given a nested list of integers, return the sum of all integers in the list weighted by their depth.\n",
    "\n",
    "Each element is either an integer, or a list -- whose elements may also be integers or other lists.\n",
    "\n",
    "Example 1:\n",
    "Given the list [[1,1],2,[1,1]], return 10. (four 1's at depth 2, one 2 at depth 1)\n",
    "\n",
    "Example 2:\n",
    "Given the list [1,[4,[6]]], return 27. (one 1 at depth 1, one 4 at depth 2, and one 6 at depth 3; 1 + 42 + 63 = 27)\n",
    "                                            "
   ]
  },
  {
   "cell_type": "code",
   "execution_count": null,
   "metadata": {},
   "outputs": [],
   "source": [
    "# \"\"\"\n",
    "# This is the interface that allows for creating nested lists.\n",
    "# You should not implement it, or speculate about its implementation\n",
    "# \"\"\"\n",
    "#class NestedInteger(object):\n",
    "#    def __init__(self, value=None):\n",
    "#        \"\"\"\n",
    "#        If value is not specified, initializes an empty list.\n",
    "#        Otherwise initializes a single integer equal to value.\n",
    "#        \"\"\"\n",
    "#\n",
    "#    def isInteger(self):\n",
    "#        \"\"\"\n",
    "#        @return True if this NestedInteger holds a single integer, rather than a nested list.\n",
    "#        :rtype bool\n",
    "#        \"\"\"\n",
    "#\n",
    "#    def add(self, elem):\n",
    "#        \"\"\"\n",
    "#        Set this NestedInteger to hold a nested list and adds a nested integer elem to it.\n",
    "#        :rtype void\n",
    "#        \"\"\"\n",
    "#\n",
    "#    def setInteger(self, value):\n",
    "#        \"\"\"\n",
    "#        Set this NestedInteger to hold a single integer equal to value.\n",
    "#        :rtype void\n",
    "#        \"\"\"\n",
    "#\n",
    "#    def getInteger(self):\n",
    "#        \"\"\"\n",
    "#        @return the single integer that this NestedInteger holds, if it holds a single integer\n",
    "#        Return None if this NestedInteger holds a nested list\n",
    "#        :rtype int\n",
    "#        \"\"\"\n",
    "#\n",
    "#    def getList(self):\n",
    "#        \"\"\"\n",
    "#        @return the nested list that this NestedInteger holds, if it holds a nested list\n",
    "#        Return None if this NestedInteger holds a single integer\n",
    "#        :rtype List[NestedInteger]\n",
    "#        \"\"\"\n",
    "\n",
    "class Solution(object):\n",
    "    def depthSum(self, nestedList):\n",
    "        \"\"\"\n",
    "        :type nestedList: List[NestedInteger]\n",
    "        :rtype: int\n",
    "        \"\"\"\n",
    "        depth, ans = 1, 0\n",
    "        while nestedList:\n",
    "            ans += depth*sum([i.getInteger() for i in nestedList if i.isInteger()])\n",
    "            newList = []\n",
    "            for i in nestedList:\n",
    "                if not i.isInteger():\n",
    "                    newList += i.getList()\n",
    "            nestedList = newList            \n",
    "            depth += 1\n",
    "        return ans\n"
   ]
  },
  {
   "cell_type": "code",
   "execution_count": null,
   "metadata": {},
   "outputs": [],
   "source": []
  },
  {
   "cell_type": "code",
   "execution_count": null,
   "metadata": {},
   "outputs": [],
   "source": [
    "700. Search in a Binary Search Tree\n",
    "\n",
    "Given the root node of a binary search tree (BST) and a value. You need to find the node in the BST that the node's value equals the given value. Return the subtree rooted with that node. If such node doesn't exist, you should return NULL.\n",
    "\n",
    "For example, \n",
    "\n",
    "Given the tree:\n",
    "        4\n",
    "       / \\\n",
    "      2   7\n",
    "     / \\\n",
    "    1   3\n",
    "\n",
    "And the value to search: 2\n",
    "You should return this subtree:\n",
    "\n",
    "      2     \n",
    "     / \\   \n",
    "    1   3\n",
    "In the example above, if we want to search the value 5, since there is no node with value 5, we should return NULL.\n",
    "\n",
    "Note that an empty tree is represented by NULL, therefore you would see the expected output (serialized tree format) as [], not null.\n",
    "\n"
   ]
  },
  {
   "cell_type": "code",
   "execution_count": null,
   "metadata": {},
   "outputs": [],
   "source": [
    "class Solution(object):\n",
    "    def searchBST(self, root, val):\n",
    "        \"\"\"\n",
    "        :type root: TreeNode\n",
    "        :type val: int\n",
    "        :rtype: TreeNode\n",
    "        \"\"\"\n",
    "        trav = root\n",
    "        while trav:\n",
    "            if trav.val == val:\n",
    "                return trav\n",
    "            elif trav.val < val:\n",
    "                trav = trav.right\n",
    "            else:\n",
    "                trav = trav.left\n",
    "                \n",
    "    def searchBST2(self, root, val):\n",
    "        \"\"\"\n",
    "        :type root: TreeNode\n",
    "        :type val: int\n",
    "        :rtype: TreeNode\n",
    "        \"\"\"\n",
    "        if root is None:\n",
    "            return []\n",
    "        if root.val < val:\n",
    "            return self.searchBST(root.right, val)\n",
    "        if root.val > val:\n",
    "            return self.searchBST(root.left, val)\n",
    "        return root"
   ]
  },
  {
   "cell_type": "code",
   "execution_count": null,
   "metadata": {},
   "outputs": [],
   "source": []
  },
  {
   "cell_type": "code",
   "execution_count": null,
   "metadata": {},
   "outputs": [],
   "source": [
    "589 N-ary Tree Preorder Traversal\n",
    "\n",
    "Given an n-ary tree, return the preorder traversal of its nodes' values.\n"
   ]
  },
  {
   "cell_type": "code",
   "execution_count": null,
   "metadata": {},
   "outputs": [],
   "source": [
    "#Recursive:\n",
    "\n",
    "class Solution(object):\n",
    "    def preorder(self, root):\n",
    "        \"\"\"\n",
    "        :type root: Node\n",
    "        :rtype: List[int]\n",
    "        \"\"\"\n",
    "        if not root:\n",
    "            return []\n",
    "        res = []\n",
    "        res.append(root.val)\n",
    "        for s in root.children:\n",
    "            res += self.preorder(s)\n",
    "        return res\n",
    "#DFS Iterative:\n",
    "\n",
    "class Solution(object):\n",
    "    def preorder(self, root):\n",
    "        \"\"\"\n",
    "        :type root: Node\n",
    "        :rtype: List[int]\n",
    "        \"\"\"\n",
    "        if not root:\n",
    "            return []\n",
    "        res = []\n",
    "        stack = [root]\n",
    "        while stack:\n",
    "            u = stack.pop()\n",
    "            res.append(u.val)\n",
    "            if u.children:\n",
    "                for c in u.children[::-1]:\n",
    "                    stack.append(c)\n",
    "        return res"
   ]
  },
  {
   "cell_type": "code",
   "execution_count": null,
   "metadata": {},
   "outputs": [],
   "source": []
  },
  {
   "cell_type": "code",
   "execution_count": null,
   "metadata": {},
   "outputs": [],
   "source": [
    "590 N-ary Tree Postorder Traversal\n",
    "Given an n-ary tree, return the postorder traversal of its nodes' values."
   ]
  },
  {
   "cell_type": "code",
   "execution_count": null,
   "metadata": {},
   "outputs": [],
   "source": [
    "class Solution(object):\n",
    "    def postorder(self, root):\n",
    "        ret, stack = [], root and [root]\n",
    "        while stack:\n",
    "            node = stack.pop()\n",
    "            ret.append(node.val)\n",
    "            stack += [child for child in node.children if child]\n",
    "        return ret[::-1]"
   ]
  },
  {
   "cell_type": "code",
   "execution_count": null,
   "metadata": {},
   "outputs": [],
   "source": [
    "#Recursive:\n",
    "\n",
    "class Solution(object):\n",
    "    def postorder(self, root):\n",
    "        \"\"\"\n",
    "        :type root: Node\n",
    "        :rtype: List[int]\n",
    "        \"\"\"\n",
    "        def dfs(root):\n",
    "            if not root:\n",
    "                return\n",
    "            for c in root.children:\n",
    "                dfs(c)\n",
    "            res.append(root.val)\n",
    "        res = []\n",
    "        dfs(root)\n",
    "        return res\n",
    "#Iterative:\n",
    "\n",
    "class Solution(object):\n",
    "    def postorder(self, root):\n",
    "        \"\"\"\n",
    "        :type root: Node\n",
    "        :rtype: List[int]\n",
    "        \"\"\"\n",
    "        if not root:\n",
    "            return []\n",
    "        res = collections.deque()\n",
    "        stack = [root]\n",
    "        while stack:\n",
    "            u = stack.pop()\n",
    "            res.appendleft(u.val)\n",
    "            for c in u.children:\n",
    "                stack.append(c)\n",
    "        return list(res)"
   ]
  },
  {
   "cell_type": "code",
   "execution_count": null,
   "metadata": {},
   "outputs": [],
   "source": []
  },
  {
   "cell_type": "code",
   "execution_count": null,
   "metadata": {},
   "outputs": [],
   "source": [
    "584 Find Customer Referee\n",
    "#SQL\n",
    "SELECT name FROM customer WHERE referee_id <> 2 OR referee_id IS NULL;\n"
   ]
  },
  {
   "cell_type": "code",
   "execution_count": null,
   "metadata": {},
   "outputs": [],
   "source": []
  },
  {
   "cell_type": "code",
   "execution_count": null,
   "metadata": {},
   "outputs": [],
   "source": [
    "1122. Relative Sort Array\n",
    "Given two arrays arr1 and arr2, the elements of arr2 are distinct, and all elements in arr2 are also in arr1.\n",
    "\n",
    "Sort the elements of arr1 such that the relative ordering of items in arr1 are the same as in arr2.  Elements that don't appear in arr2 should be placed at the end of arr1 in ascending order.\n",
    "\n",
    " \n",
    "\n",
    "Example 1:\n",
    "\n",
    "Input: arr1 = [2,3,1,3,2,4,6,7,9,2,19], arr2 = [2,1,4,3,9,6]\n",
    "Output: [2,2,2,1,4,3,3,9,6,7,19]\n",
    "\n",
    "Constraints:\n",
    "\n",
    "arr1.length, arr2.length <= 1000\n",
    "0 <= arr1[i], arr2[i] <= 1000\n",
    "Each arr2[i] is distinct.\n",
    "Each arr2[i] is in arr1.\n"
   ]
  },
  {
   "cell_type": "code",
   "execution_count": null,
   "metadata": {},
   "outputs": [],
   "source": [
    "class Solution(object):\n",
    "    def relativeSortArray(self, arr1: List[int], arr2: List[int]) -> List[int]:\n",
    "        return sorted(arr1, key = lambda x: arr2.index(x) if x in arr2 else len(arr2) + x)"
   ]
  },
  {
   "cell_type": "code",
   "execution_count": null,
   "metadata": {},
   "outputs": [],
   "source": [
    "class Solution(object):\n",
    "    def relativeSortArray(self, arr1, arr2):\n",
    "        \"\"\"\n",
    "        :type arr1: List[int]\n",
    "        :type arr2: List[int]\n",
    "        :rtype: List[int]\n",
    "        \"\"\"\n",
    "        last = len(arr2)\n",
    "        d = {k: i for i, k in enumerate(arr2)}\n",
    "        return sorted(arr1, key=lambda elem: d.get(elem, last+elem))"
   ]
  },
  {
   "cell_type": "code",
   "execution_count": null,
   "metadata": {},
   "outputs": [],
   "source": []
  },
  {
   "cell_type": "code",
   "execution_count": null,
   "metadata": {},
   "outputs": [],
   "source": [
    "586. Customer Placing the Largest Number of Orders\n",
    "#SQL\n",
    "SELECT\n",
    "    customer_number\n",
    "FROM\n",
    "    orders\n",
    "GROUP BY customer_number\n",
    "ORDER BY COUNT(*) DESC\n",
    "LIMIT 1\n",
    ";"
   ]
  },
  {
   "cell_type": "code",
   "execution_count": null,
   "metadata": {},
   "outputs": [],
   "source": [
    "Follow up: What if more than one customer have the largest number of orders, can you find all the customer_number in this case?\n",
    "select customer_number\n",
    "from orders\n",
    "group by customer_number\n",
    "having count(*) = \n",
    "(select max(cnt) from \n",
    "(select count(*) cnt\n",
    "from orders\n",
    "group by customer_number))"
   ]
  },
  {
   "cell_type": "code",
   "execution_count": null,
   "metadata": {},
   "outputs": [],
   "source": []
  },
  {
   "cell_type": "code",
   "execution_count": null,
   "metadata": {},
   "outputs": [],
   "source": [
    "922. Sort Array By Parity II\n",
    "\n",
    "Given an array A of non-negative integers, half of the integers in A are odd, and half of the integers are even.\n",
    "\n",
    "Sort the array so that whenever A[i] is odd, i is odd; and whenever A[i] is even, i is even.\n",
    "\n",
    "You may return any answer array that satisfies this condition.\n",
    "\n",
    " \n",
    "\n",
    "Example 1:\n",
    "\n",
    "Input: [4,2,5,7]\n",
    "Output: [4,5,2,7]\n",
    "Explanation: [4,7,2,5], [2,5,4,7], [2,7,4,5] would also have been accepted.\n",
    " \n",
    "\n",
    "Note:\n",
    "\n",
    "2 <= A.length <= 20000\n",
    "A.length % 2 == 0\n",
    "0 <= A[i] <= 1000"
   ]
  },
  {
   "cell_type": "code",
   "execution_count": null,
   "metadata": {},
   "outputs": [],
   "source": [
    "class Solution:\n",
    "    def sortArrayByParityII(self, A):\n",
    "        even, odd = [a for a in A if not a % 2], [a for a in A if a % 2]\n",
    "        return [even.pop() if not i % 2 else odd.pop() for i in range(len(A))]\n",
    "    \n",
    "class Solution(object):\n",
    "    def sortArrayByParityII(self, A):\n",
    "        \"\"\"\n",
    "        :type A: List[int]\n",
    "        :rtype: List[int]\n",
    "        \"\"\"\n",
    "        res = [0]*len(A)\n",
    "        i = 0\n",
    "        j = 1\n",
    "        for a in A:\n",
    "            if a % 2 == 0:\n",
    "                res[i] = a\n",
    "                i += 2\n",
    "            else:\n",
    "                res[j] = a\n",
    "                j += 2\n",
    "        return res\n",
    "    \n",
    "    #in-place solution.\n",
    "    class Solution(object):\n",
    "    def sortArrayByParityII(self, A):\n",
    "        \"\"\"\n",
    "        :type A: List[int]\n",
    "        :rtype: List[int]\n",
    "        \"\"\"\n",
    "        j = 1\n",
    "        for i in range(0, len(A), 2):\n",
    "            if A[i] % 2 == 0:\n",
    "                continue\n",
    "            while A[j] % 2 == 1:\n",
    "                j += 2\n",
    "            A[i], A[j] = A[j], A[i]\n",
    "        return A"
   ]
  },
  {
   "cell_type": "code",
   "execution_count": null,
   "metadata": {},
   "outputs": [],
   "source": []
  },
  {
   "cell_type": "code",
   "execution_count": null,
   "metadata": {},
   "outputs": [],
   "source": [
    "965. Univalued Binary Tree\n",
    "\n",
    "A binary tree is univalued if every node in the tree has the same value.\n",
    "\n",
    "Return true if and only if the given tree is univalued.\n",
    "\n"
   ]
  },
  {
   "cell_type": "code",
   "execution_count": null,
   "metadata": {},
   "outputs": [],
   "source": [
    " def isUnivalTree(self, root):\n",
    "        def dfs(node):\n",
    "            return not node or node.val == root.val and dfs(node.left) and dfs(node.right)\n",
    "        return dfs(root)\n",
    "    \n",
    "        def isUnivalTree(self, root):\n",
    "            if not root: return True\n",
    "            if root.left and root.left.val != root.val: return False\n",
    "            if root.right and root.right.val != root.val: return False\n",
    "            return self.isUnivalTree(root.left) and self.isUnivalTree(root.right)\n",
    "        \n",
    "        \n",
    "        def isUnivalTree(self, root):\n",
    "            \"\"\"\n",
    "            :type root: TreeNode\n",
    "            :rtype: bool\n",
    "            \"\"\"\n",
    "            q = list()\n",
    "            q.append(root)\n",
    "            val = root.val\n",
    "            while q:\n",
    "                node = q.pop()\n",
    "                if node.val != val:\n",
    "                    return False\n",
    "                else:\n",
    "                    if node.left:\n",
    "                        q.append(node.left)\n",
    "                    if node.right:\n",
    "                        q.append(node.right)\n",
    "            return True\n",
    "    "
   ]
  },
  {
   "cell_type": "code",
   "execution_count": null,
   "metadata": {},
   "outputs": [],
   "source": []
  },
  {
   "cell_type": "code",
   "execution_count": null,
   "metadata": {},
   "outputs": [],
   "source": [
    "346. Moving Average from Data Stream\n",
    "Given a stream of integers and a window size, calculate the moving average of all integers in the sliding window.\n",
    "\n",
    "Example:\n",
    "\n",
    "MovingAverage m = new MovingAverage(3);\n",
    "m.next(1) = 1\n",
    "m.next(10) = (1 + 10) / 2\n",
    "m.next(3) = (1 + 10 + 3) / 3\n",
    "m.next(5) = (10 + 3 + 5) / 3\n"
   ]
  },
  {
   "cell_type": "code",
   "execution_count": null,
   "metadata": {},
   "outputs": [],
   "source": [
    "class MovingAverage(object):\n",
    "    def __init__(self, size):\n",
    "        self.size = size\n",
    "        self.queue = []\n",
    "\n",
    "    def next(self, val):\n",
    "        if not self.queue or len(self.queue) < self.size:\n",
    "            self.queue.append(val)\n",
    "        else:\n",
    "            self.queue.pop(0)\n",
    "            self.queue.append(val)\n",
    "        return float(sum(self.queue)) / len(self.queue)"
   ]
  },
  {
   "cell_type": "code",
   "execution_count": null,
   "metadata": {},
   "outputs": [],
   "source": [
    "class MovingAverage(object):\n",
    "    def __init__(self, size):\n",
    "        from collections import deque\n",
    "\n",
    "        self.size = size\n",
    "        self.windowQue = deque()\n",
    "\n",
    "    def next(self, val):\n",
    "        \n",
    "        self.windowQue.append( val )\n",
    "        \n",
    "        if len(self.windowLen) > self.size:\n",
    "            self.windowQue.popleft()\n",
    "\n",
    "        return sum(self.windowQue)*1. / len(self.windowQue)\n",
    "\n"
   ]
  },
  {
   "cell_type": "code",
   "execution_count": null,
   "metadata": {},
   "outputs": [],
   "source": []
  },
  {
   "cell_type": "code",
   "execution_count": null,
   "metadata": {},
   "outputs": [],
   "source": [
    "509. Fibonacci Number\n",
    "\n",
    "The Fibonacci numbers, commonly denoted F(n) form a sequence, called the Fibonacci sequence, such that each number is the sum of the two preceding ones, starting from 0 and 1. That is,\n",
    "\n",
    "F(0) = 0,   F(1) = 1\n",
    "F(N) = F(N - 1) + F(N - 2), for N > 1.\n",
    "Given N, calculate F(N).\n",
    "\n",
    " \n",
    "\n",
    "Example 1:\n",
    "\n",
    "Input: 2\n",
    "Output: 1\n",
    "Explanation: F(2) = F(1) + F(0) = 1 + 0 = 1.\n",
    "Example 2:\n",
    "\n",
    "Input: 3\n",
    "Output: 2\n",
    "Explanation: F(3) = F(2) + F(1) = 1 + 1 = 2.\n",
    "Example 3:\n",
    "\n",
    "Input: 4\n",
    "Output: 3\n",
    "Explanation: F(4) = F(3) + F(2) = 2 + 1 = 3.\n",
    " \n",
    "\n",
    "Note:\n",
    "\n",
    "0 ≤ N ≤ 30.\n",
    "\n"
   ]
  },
  {
   "cell_type": "code",
   "execution_count": null,
   "metadata": {},
   "outputs": [],
   "source": [
    "#Recursive 1-line\n",
    "class Solution:\n",
    "    def fib(self, N: int) -> int:\n",
    "        return self.fib(N - 1) + self.fib(N - 2) if N > 1 else N\n",
    "#Iterative\n",
    "class Solution:\n",
    "    def fib(self, N, l = -1, r = 1):\n",
    "        for _ in range(N + 1):\n",
    "            l, r = r, l + r\n",
    "        return r\n",
    "    \n",
    "    def fib_iter(n):\n",
    "        a, b = 0, 1\n",
    "        for _ in range(n):\n",
    "            a, b = b, a+b\n",
    "        return a\n",
    "    \n",
    "from functools import lru_cache\n",
    "class Solution:\n",
    "    @lru_cache(maxsize=512)\n",
    "    def fib(self, N: int) -> int:\n",
    "        if N < 2:\n",
    "            return N\n",
    "        return self.fib(N - 1) + self.fib(N - 2)\n",
    "    \n",
    "class Solution:\n",
    "def fib(self, N: int) -> int:\n",
    "    if N == 0:\n",
    "        return 0\n",
    "    elif N == 1:\n",
    "        return 1        # to be able to slice results[-2:], start should be at F(2)\n",
    "\n",
    "    results = [0, 1]        # at this point N = 2 or higher\n",
    "\n",
    "    for i in range(1, N):\n",
    "        results.append(sum(results[-2:]))       # add sum of last 2 numbers to results\n",
    "\n",
    "    return results[-1]      # return last result from the list"
   ]
  },
  {
   "cell_type": "code",
   "execution_count": null,
   "metadata": {},
   "outputs": [],
   "source": []
  },
  {
   "cell_type": "code",
   "execution_count": null,
   "metadata": {},
   "outputs": [],
   "source": [
    "1078. Occurrences After Bigram\n",
    "\n",
    "Given words first and second, consider occurrences in some text of the form \"first second third\", where second comes immediately after first, and third comes immediately after second.\n",
    "\n",
    "For each such occurrence, add \"third\" to the answer, and return the answer.\n",
    "\n",
    " \n",
    "\n",
    "Example 1:\n",
    "\n",
    "Input: text = \"alice is a good girl she is a good student\", first = \"a\", second = \"good\"\n",
    "Output: [\"girl\",\"student\"]\n",
    "Example 2:\n",
    "\n",
    "Input: text = \"we will we will rock you\", first = \"we\", second = \"will\"\n",
    "Output: [\"we\",\"rock\"]\n",
    "    \n",
    "Note:\n",
    "\n",
    "1 <= text.length <= 1000\n",
    "text consists of space separated words, where each word consists of lowercase English letters.\n",
    "1 <= first.length, second.length <= 10\n",
    "first and second consist of lowercase English letters."
   ]
  },
  {
   "cell_type": "code",
   "execution_count": null,
   "metadata": {},
   "outputs": [],
   "source": [
    "def findOcurrences(self, text: str, first: str, second: str) -> List[str]:\n",
    "        res =[]\n",
    "        if not text:\n",
    "            return res\n",
    "        text = text.split()\n",
    "        for i in range(2,len(text)):\n",
    "            if text[i-2] == first and text[i-1]== second:\n",
    "                res.append(text[i])\n",
    "        return res"
   ]
  },
  {
   "cell_type": "code",
   "execution_count": null,
   "metadata": {},
   "outputs": [],
   "source": [
    "def findOcurrences(self, t: str, f: str, s: str) -> List[str]:\n",
    "    l = t.split()\n",
    "    return [c for a, b, c in zip(l, l[1:], l[2:]) if a == f and b == s]\n"
   ]
  },
  {
   "cell_type": "code",
   "execution_count": null,
   "metadata": {},
   "outputs": [],
   "source": []
  },
  {
   "cell_type": "code",
   "execution_count": null,
   "metadata": {},
   "outputs": [],
   "source": [
    "811. Subdomain Visit Count\n",
    "\n",
    "A website domain like \"discuss.leetcode.com\" consists of various subdomains. At the top level, we have \"com\", at the next level, we have \"leetcode.com\", and at the lowest level, \"discuss.leetcode.com\". When we visit a domain like \"discuss.leetcode.com\", we will also visit the parent domains \"leetcode.com\" and \"com\" implicitly.\n",
    "\n",
    "Now, call a \"count-paired domain\" to be a count (representing the number of visits this domain received), followed by a space, followed by the address. An example of a count-paired domain might be \"9001 discuss.leetcode.com\".\n",
    "\n",
    "We are given a list cpdomains of count-paired domains. We would like a list of count-paired domains, (in the same format as the input, and in any order), that explicitly counts the number of visits to each subdomain.\n",
    "\n",
    "Example 1:\n",
    "Input: \n",
    "[\"9001 discuss.leetcode.com\"]\n",
    "Output: \n",
    "[\"9001 discuss.leetcode.com\", \"9001 leetcode.com\", \"9001 com\"]\n",
    "Explanation: \n",
    "We only have one website domain: \"discuss.leetcode.com\". As discussed above, the subdomain \"leetcode.com\" and \"com\" will also be visited. So they will all be visited 9001 times.\n",
    "\n",
    "Example 2:\n",
    "Input: \n",
    "[\"900 google.mail.com\", \"50 yahoo.com\", \"1 intel.mail.com\", \"5 wiki.org\"]\n",
    "Output: \n",
    "[\"901 mail.com\",\"50 yahoo.com\",\"900 google.mail.com\",\"5 wiki.org\",\"5 org\",\"1 intel.mail.com\",\"951 com\"]\n",
    "Explanation: \n",
    "We will visit \"google.mail.com\" 900 times, \"yahoo.com\" 50 times, \"intel.mail.com\" once and \"wiki.org\" 5 times. For the subdomains, we will visit \"mail.com\" 900 + 1 = 901 times, \"com\" 900 + 50 + 1 = 951 times, and \"org\" 5 times.\n",
    "\n",
    "Notes:\n",
    "\n",
    "The length of cpdomains will not exceed 100. \n",
    "The length of each domain name will not exceed 100.\n",
    "Each address will have either 1 or 2 \".\" characters.\n",
    "The input count in any count-paired domain will not exceed 10000.\n",
    "The answer output can be returned in any order."
   ]
  },
  {
   "cell_type": "code",
   "execution_count": null,
   "metadata": {},
   "outputs": [],
   "source": [
    "def subdomainVisits(self, cpdomains):\n",
    "        c = collections.Counter()\n",
    "        for cd in cpdomains:\n",
    "            n, d = cd.split()\n",
    "            c[d] += int(n)\n",
    "            for i in range(len(d)):\n",
    "                if d[i] == '.': c[d[i + 1:]] += int(n)\n",
    "        return [\"%d %s\" % (c[k], k) for k in c]"
   ]
  },
  {
   "cell_type": "code",
   "execution_count": null,
   "metadata": {},
   "outputs": [],
   "source": [
    "class Solution:\n",
    "    def subdomainVisits(self, cpdomains):\n",
    "        counter = collections.Counter()\n",
    "        for cpdomain in cpdomains:\n",
    "            count, *domains = cpdomain.replace(\" \",\".\").split(\".\")\n",
    "            for i in range(len(domains)):\n",
    "                counter[\".\".join(domains[i:])] += int(count)\n",
    "        return [\" \".join((str(v), k)) for k, v in counter.items()]"
   ]
  },
  {
   "cell_type": "code",
   "execution_count": 897,
   "metadata": {},
   "outputs": [
    {
     "name": "stdout",
     "output_type": "stream",
     "text": [
      "900 google mail com\n",
      "google.mail.com\n",
      "900\n",
      "mail.com\n",
      "900\n",
      "com\n",
      "900\n",
      "50 yahoo com\n",
      "yahoo.com\n",
      "50\n",
      "com\n",
      "950\n",
      "1 intel mail com\n",
      "intel.mail.com\n",
      "1\n",
      "mail.com\n",
      "901\n",
      "com\n",
      "951\n",
      "5 wiki org\n",
      "wiki.org\n",
      "5\n",
      "org\n",
      "5\n"
     ]
    }
   ],
   "source": [
    "counter = collections.Counter()\n",
    "cpdomains = [\"900 google.mail.com\", \"50 yahoo.com\", \"1 intel.mail.com\", \"5 wiki.org\"]\n",
    "for cpdomain in cpdomains:\n",
    "            count, *domains = cpdomain.replace(\" \",\".\").split(\".\")\n",
    "            print(count,*domains)\n",
    "            for i in range(len(domains)):\n",
    "                #print(i)\n",
    "                counter[\".\".join(domains[i:])] += int(count)\n",
    "                print( \".\".join(domains[i:]))\n",
    "                print(counter[\".\".join(domains[i:])])\n",
    "        \n",
    "#c = collections.Counter()\n",
    "#print(c[\"discuss.leetcode.com\"])\n",
    "#print(c[\"leetcode.com\"])"
   ]
  },
  {
   "cell_type": "code",
   "execution_count": null,
   "metadata": {},
   "outputs": [],
   "source": [
    "class Solution(object):\n",
    "    def subdomainVisits(self, cpdomains):\n",
    "        \"\"\"\n",
    "        :type cpdomains: List[str]\n",
    "        :rtype: List[str]\n",
    "        \"\"\"\n",
    "        res = []\n",
    "        dic = {}\n",
    "        for item in cpdomains:\n",
    "            count, domain = item.split()\n",
    "            dlst = domain.split(\".\")\n",
    "            summ = dlst[-1]\n",
    "            if summ in dic:\n",
    "                dic[summ] += int(count)\n",
    "            else:\n",
    "                dic[summ] = int(count)\n",
    "            for i in range(len(dlst)-2, -1, -1):\n",
    "                summ = dlst[i] + \".\" + summ\n",
    "                if summ in dic:\n",
    "                    dic[summ] += int(count)\n",
    "                else:\n",
    "                    dic[summ] = int(count)  \n",
    "        for key, val in dic.items():\n",
    "            res.append(str(val) + \" \" + key)\n",
    "        return res"
   ]
  },
  {
   "cell_type": "code",
   "execution_count": null,
   "metadata": {},
   "outputs": [],
   "source": []
  },
  {
   "cell_type": "code",
   "execution_count": null,
   "metadata": {},
   "outputs": [],
   "source": [
    "883. Projection Area of 3D Shapes\n",
    "On a N * N grid, we place some 1 * 1 * 1 cubes that are axis-aligned with the x, y, and z axes.\n",
    "\n",
    "Each value v = grid[i][j] represents a tower of v cubes placed on top of grid cell (i, j).\n",
    "\n",
    "Now we view the projection of these cubes onto the xy, yz, and zx planes.\n",
    "\n",
    "A projection is like a shadow, that maps our 3 dimensional figure to a 2 dimensional plane. \n",
    "\n",
    "Here, we are viewing the \"shadow\" when looking at the cubes from the top, the front, and the side.\n",
    "\n",
    "Return the total area of all three projections.\n",
    "\n",
    " \n",
    "\n",
    "Example 1:\n",
    "\n",
    "Input: [[2]]\n",
    "Output: 5\n",
    "Example 2:\n",
    "\n",
    "Input: [[1,2],[3,4]]\n",
    "Output: 17\n",
    "Explanation: \n",
    "Here are the three projections (\"shadows\") of the shape made with each axis-aligned plane.\n",
    "\n",
    "Example 3:\n",
    "\n",
    "Input: [[1,0],[0,2]]\n",
    "Output: 8\n",
    "Example 4:\n",
    "\n",
    "Input: [[1,1,1],[1,0,1],[1,1,1]]\n",
    "Output: 14\n",
    "Example 5:\n",
    "\n",
    "Input: [[2,2,2],[2,1,2],[2,2,2]]\n",
    "Output: 21\n",
    " \n",
    "\n",
    "Note:\n",
    "\n",
    "1 <= grid.length = grid[0].length <= 50\n",
    "0 <= grid[i][j] <= 50"
   ]
  },
  {
   "cell_type": "code",
   "execution_count": null,
   "metadata": {},
   "outputs": [],
   "source": [
    "\n",
    "front-back projection area on xz = sum(max value for every col)\n",
    "right-left projection area on yz = sum(max value for every row)\n",
    "top-down projection area on xy = sum(1 for every v > 0)"
   ]
  },
  {
   "cell_type": "code",
   "execution_count": null,
   "metadata": {},
   "outputs": [],
   "source": [
    "def projectionArea(self, grid):\n",
    "        hor = sum(map(max, grid))\n",
    "        ver = sum(map(max, zip(*grid)))\n",
    "        top = sum(v > 0 for row in grid for v in row)\n",
    "        return ver + hor + top"
   ]
  },
  {
   "cell_type": "code",
   "execution_count": null,
   "metadata": {},
   "outputs": [],
   "source": [
    "class Solution:\n",
    "    def projectionArea(self, grid):\n",
    "        top = sum(v != 0 for row in grid for v in row)\n",
    "        front = sum(max(row) for row in grid)\n",
    "        side = sum(max(row[j] for row in grid) for j in range(len(grid[0])))\n",
    "        return top + front + side"
   ]
  },
  {
   "cell_type": "code",
   "execution_count": null,
   "metadata": {},
   "outputs": [],
   "source": []
  },
  {
   "cell_type": "code",
   "execution_count": null,
   "metadata": {},
   "outputs": [],
   "source": [
    "559. Maximum Depth of N-ary Tree\n",
    "\n",
    "Given a n-ary tree, find its maximum depth.\n",
    "\n",
    "The maximum depth is the number of nodes along the longest path from the root node down to the farthest leaf node.\n"
   ]
  },
  {
   "cell_type": "code",
   "execution_count": null,
   "metadata": {},
   "outputs": [],
   "source": [
    "#Depth first search. Time complexity: O(n), space complexity: O(h), where n and h are the number of nodes and height of the tree, respectively.\n",
    "\n",
    "class Solution(object):\n",
    "    def maxDepth(self, root):\n",
    "        \"\"\"\n",
    "        :type root: Node\n",
    "        :rtype: int\n",
    "        \"\"\"\n",
    "        def dfs(root):\n",
    "            if not root:\n",
    "                return 0\n",
    "            res = 0\n",
    "            for child in root.children:\n",
    "                res = max(dfs(child), res)\n",
    "            return res+1\n",
    "        return dfs(root)\n",
    "    "
   ]
  },
  {
   "cell_type": "code",
   "execution_count": null,
   "metadata": {},
   "outputs": [],
   "source": [
    "\"\"\"\n",
    "# Definition for a Node.\n",
    "class Node:\n",
    "    def __init__(self, val, children):\n",
    "        self.val = val\n",
    "        self.children = children\n",
    "\"\"\"\n",
    "class Solution:\n",
    "    def maxDepth(self, root: 'Node') -> int:\n",
    "        return 1 + max([self.maxDepth(child) for child in root.children],default=0) if root else 0\n",
    "    "
   ]
  },
  {
   "cell_type": "code",
   "execution_count": null,
   "metadata": {},
   "outputs": [],
   "source": [
    "#BFS\n",
    "class Solution(object):\n",
    "    def maxDepth(self, root):\n",
    "        q, level = root and [root], 0\n",
    "        while q:\n",
    "            q, level = [child for node in q for child in node.children if child], level + 1\n",
    "        return level \n",
    "#DFS\n",
    "class Solution(object):\n",
    "    def maxDepth(self, root, level = 1):\n",
    "        return max(root and [self.maxDepth(child, level + 1) for child in root.children] + [level] or [0])\n"
   ]
  },
  {
   "cell_type": "code",
   "execution_count": null,
   "metadata": {},
   "outputs": [],
   "source": []
  },
  {
   "cell_type": "code",
   "execution_count": null,
   "metadata": {},
   "outputs": [],
   "source": [
    "999. Available Captures for Rook\n",
    "\n",
    "On an 8 x 8 chessboard, there is one white rook.  There also may be empty squares, white bishops, and black pawns.  These are given as characters 'R', '.', 'B', and 'p' respectively. Uppercase characters represent white pieces, and lowercase characters represent black pieces.\n",
    "\n",
    "The rook moves as in the rules of Chess: it chooses one of four cardinal directions (north, east, west, and south), then moves in that direction until it chooses to stop, reaches the edge of the board, or captures an opposite colored pawn by moving to the same square it occupies.  Also, rooks cannot move into the same square as other friendly bishops.\n",
    "\n",
    "Return the number of pawns the rook can capture in one move.\n",
    "\n",
    " \n",
    "\n",
    "Example 1:\n",
    "\n",
    "\n",
    "\n",
    "Input: [[\".\",\".\",\".\",\".\",\".\",\".\",\".\",\".\"],[\".\",\".\",\".\",\"p\",\".\",\".\",\".\",\".\"],[\".\",\".\",\".\",\"R\",\".\",\".\",\".\",\"p\"],[\".\",\".\",\".\",\".\",\".\",\".\",\".\",\".\"],[\".\",\".\",\".\",\".\",\".\",\".\",\".\",\".\"],[\".\",\".\",\".\",\"p\",\".\",\".\",\".\",\".\"],[\".\",\".\",\".\",\".\",\".\",\".\",\".\",\".\"],[\".\",\".\",\".\",\".\",\".\",\".\",\".\",\".\"]]\n",
    "Output: 3\n",
    "Explanation: \n",
    "In this example the rook is able to capture all the pawns.\n",
    "Example 2:\n",
    "\n",
    "\n",
    "\n",
    "Input: [[\".\",\".\",\".\",\".\",\".\",\".\",\".\",\".\"],[\".\",\"p\",\"p\",\"p\",\"p\",\"p\",\".\",\".\"],[\".\",\"p\",\"p\",\"B\",\"p\",\"p\",\".\",\".\"],[\".\",\"p\",\"B\",\"R\",\"B\",\"p\",\".\",\".\"],[\".\",\"p\",\"p\",\"B\",\"p\",\"p\",\".\",\".\"],[\".\",\"p\",\"p\",\"p\",\"p\",\"p\",\".\",\".\"],[\".\",\".\",\".\",\".\",\".\",\".\",\".\",\".\"],[\".\",\".\",\".\",\".\",\".\",\".\",\".\",\".\"]]\n",
    "Output: 0\n",
    "Explanation: \n",
    "Bishops are blocking the rook to capture any pawn.\n",
    "Example 3:\n",
    "\n",
    "\n",
    "\n",
    "Input: [[\".\",\".\",\".\",\".\",\".\",\".\",\".\",\".\"],[\".\",\".\",\".\",\"p\",\".\",\".\",\".\",\".\"],[\".\",\".\",\".\",\"p\",\".\",\".\",\".\",\".\"],[\"p\",\"p\",\".\",\"R\",\".\",\"p\",\"B\",\".\"],[\".\",\".\",\".\",\".\",\".\",\".\",\".\",\".\"],[\".\",\".\",\".\",\"B\",\".\",\".\",\".\",\".\"],[\".\",\".\",\".\",\"p\",\".\",\".\",\".\",\".\"],[\".\",\".\",\".\",\".\",\".\",\".\",\".\",\".\"]]\n",
    "Output: 3\n",
    "Explanation: \n",
    "The rook can capture the pawns at positions b5, d6 and f5.\n",
    " \n",
    "\n",
    "Note:\n",
    "\n",
    "board.length == board[i].length == 8\n",
    "board[i][j] is either 'R', '.', 'B', or 'p'\n",
    "There is exactly one cell with board[i][j] == 'R'\n"
   ]
  },
  {
   "cell_type": "code",
   "execution_count": null,
   "metadata": {},
   "outputs": [],
   "source": [
    "def numRookCaptures(self, board):\n",
    "        for i in range(8):\n",
    "            for j in range(8):\n",
    "                if board[i][j] == 'R':\n",
    "                    x0, y0 = i, j\n",
    "                    i, j = 8,8 #break the loop\n",
    "                \n",
    "        res = 0\n",
    "        for i, j in [[1, 0], [0, 1], [-1, 0], [0, -1]]:\n",
    "            x, y = x0 + i, y0 + j\n",
    "            while 0 <= x < 8 and 0 <= y < 8:\n",
    "                if board[x][y] == 'p': res += 1\n",
    "                if board[x][y] != '.': break\n",
    "                x, y = x + i, y + j\n",
    "        return res"
   ]
  },
  {
   "cell_type": "code",
   "execution_count": null,
   "metadata": {},
   "outputs": [],
   "source": [
    "class Solution:\n",
    "    def numRookCaptures(self, board: List[List[str]]) -> int:\n",
    "        m, n, res = len(board), len(board[0]), 0\n",
    "        (a, b) = [(a, b) for a in range(m) for b in range(n) if board[a][b] == 'R'][0]\n",
    "        for j in range(b - 1, -1, -1):\n",
    "            if board[a][j] == 'p': res += 1\n",
    "            if board[a][j] != '.': break\n",
    "        for j in range(b + 1, n):\n",
    "            if board[a][j] == 'p': res += 1\n",
    "            if board[a][j] != '.': break\n",
    "        for i in range(a + 1, m):\n",
    "            if board[i][b] == 'p': res += 1\n",
    "            if board[i][b] != '.': break\n",
    "        for i in range(a - 1, -1, -1):\n",
    "            if board[i][b] == 'p': res += 1\n",
    "            if board[i][b] != '.': break\n",
    "        return res"
   ]
  },
  {
   "cell_type": "code",
   "execution_count": null,
   "metadata": {},
   "outputs": [],
   "source": [
    "Just iterate over the board and stop when you see rook\n",
    "You will have 4 tasks to do at this point: checking each cardinal direction for facing pawn first\n",
    "4 simple loops and you are done\n",
    "\n",
    "class Solution:\n",
    "    def numRookCaptures(self, board: List[List[str]], res = 0) -> int:\n",
    "        for i in range(8):\n",
    "            for j in range(8):\n",
    "                if board[i][j] == 'R':\n",
    "                    for x in range(i - 1, -1, -1):\n",
    "                        if board[x][j] in 'Bp':\n",
    "                            res += board[x][j] == 'p'\n",
    "                            break\n",
    "                    for x in range(i + 1, 8):\n",
    "                        if board[x][j] in 'Bp':\n",
    "                            res += board[x][j] == 'p'\n",
    "                            break\n",
    "                    for y in range(j - 1, -1, -1):\n",
    "                        if board[i][y] in 'Bp':\n",
    "                            res += board[i][y] == 'p'\n",
    "                            break\n",
    "                    for y in range(j + 1, 8):\n",
    "                        if board[i][y] in 'Bp':\n",
    "                            res += board[i][y] == 'p'\n",
    "                            break\n",
    "                    return res"
   ]
  },
  {
   "cell_type": "code",
   "execution_count": null,
   "metadata": {},
   "outputs": [],
   "source": []
  },
  {
   "cell_type": "code",
   "execution_count": null,
   "metadata": {},
   "outputs": [],
   "source": [
    "359. Logger Rate Limiter\n",
    "\n",
    "Design a logger system that receive stream of messages along with its timestamps, each message should be printed if and only if it is not printed in the last 10 seconds.\n",
    "\n",
    "Given a message and a timestamp (in seconds granularity), return true if the message should be printed in the given timestamp, otherwise returns false.\n",
    "\n",
    "It is possible that several messages arrive roughly at the same time.\n",
    "\n",
    "Example:\n",
    "\n",
    "Logger logger = new Logger();\n",
    "\n",
    "// logging string \"foo\" at timestamp 1\n",
    "logger.shouldPrintMessage(1, \"foo\"); returns true;\n",
    "\n",
    "// logging string \"bar\" at timestamp 2\n",
    "logger.shouldPrintMessage(2,\"bar\"); returns true;\n",
    "\n",
    "// logging string \"foo\" at timestamp 3\n",
    "logger.shouldPrintMessage(3,\"foo\"); returns false;\n",
    "\n",
    "// logging string \"bar\" at timestamp 8\n",
    "logger.shouldPrintMessage(8,\"bar\"); returns false;\n",
    "\n",
    "// logging string \"foo\" at timestamp 10\n",
    "logger.shouldPrintMessage(10,\"foo\"); returns false;\n",
    "\n",
    "// logging string \"foo\" at timestamp 11\n",
    "logger.shouldPrintMessage(11,\"foo\"); returns true;"
   ]
  },
  {
   "cell_type": "code",
   "execution_count": null,
   "metadata": {},
   "outputs": [],
   "source": [
    "from collections import defaultdict\n",
    "\n",
    "class Logger(object):\n",
    "    timeStoreLen = 10\n",
    "\n",
    "    def __init__(self):\n",
    "        \"\"\"\n",
    "        Initialize your data structure here.\n",
    "        \"\"\"\n",
    "        self.timeToMessages = defaultdict(set) # maps a time to set of messages printed at that time\n",
    "\n",
    "    def shouldPrintMessage(self, timestamp, message):\n",
    "        \"\"\"\n",
    "        Returns true if the message should be printed in the given timestamp, otherwise returns false.\n",
    "        If this method returns false, the message will not be printed.\n",
    "        The timestamp is in seconds granularity.\n",
    "        :type timestamp: int\n",
    "        :type message: str\n",
    "        :rtype: bool\n",
    "        \"\"\"\n",
    "        oldTimes = list( self.timeToMessages.keys() )\n",
    "\n",
    "        # remove timestamps which are too old\n",
    "        for oldTime in oldTimes:\n",
    "            if timestamp - oldTime >= self.timeStoreLen:\n",
    "                del self.timeToMessages[ oldTime ]\n",
    "\n",
    "        # printed same message recently?\n",
    "        for oldTime in self.timeToMessages:\n",
    "            if message in self.timeToMessages[oldTime]:\n",
    "                return False\n",
    "\n",
    "        self.timeToMessages[ timestamp ].add( message )\n",
    "        return True\n",
    "\n",
    "\n",
    "\n",
    "# Your Logger object will be instantiated and called as such:\n",
    "# obj = Logger()\n",
    "# param_1 = obj.shouldPrintMessage(timestamp,message)\n"
   ]
  },
  {
   "cell_type": "code",
   "execution_count": null,
   "metadata": {},
   "outputs": [],
   "source": [
    "class Logger:\n",
    "\n",
    "    def __init__(self):\n",
    "        \"\"\"\n",
    "        Initialize your data structure here.\n",
    "        \"\"\"\n",
    "        self.data = dict()\n",
    "        \n",
    "\n",
    "    def shouldPrintMessage(self, timestamp: 'int', message: 'str') -> 'bool':\n",
    "        \"\"\"\n",
    "        Returns true if the message should be printed in the given timestamp, otherwise returns false.\n",
    "        If this method returns false, the message will not be printed.\n",
    "        The timestamp is in seconds granularity.\n",
    "        \"\"\"\n",
    "        if message not in self.data or timestamp - self.data[message] >= 10:\n",
    "            self.data[message] = timestamp\n",
    "            return True\n",
    "        else:\n",
    "            return False\n"
   ]
  },
  {
   "cell_type": "code",
   "execution_count": null,
   "metadata": {},
   "outputs": [],
   "source": []
  },
  {
   "cell_type": "code",
   "execution_count": null,
   "metadata": {},
   "outputs": [],
   "source": [
    "1002. Find Common Characters\n",
    "\n",
    "Given an array A of strings made only from lowercase letters, return a list of all characters that show up in all strings within the list (including duplicates).  For example, if a character occurs 3 times in all strings but not 4 times, you need to include that character three times in the final answer.\n",
    "\n",
    "You may return the answer in any order.\n",
    "\n",
    " \n",
    "\n",
    "Example 1:\n",
    "\n",
    "Input: [\"bella\",\"label\",\"roller\"]\n",
    "Output: [\"e\",\"l\",\"l\"]\n",
    "Example 2:\n",
    "\n",
    "Input: [\"cool\",\"lock\",\"cook\"]\n",
    "Output: [\"c\",\"o\"]\n",
    " \n",
    "\n",
    "Note:\n",
    "\n",
    "1 <= A.length <= 100\n",
    "1 <= A[i].length <= 100\n",
    "A[i][j] is a lowercase letter"
   ]
  },
  {
   "cell_type": "code",
   "execution_count": 900,
   "metadata": {},
   "outputs": [
    {
     "name": "stdout",
     "output_type": "stream",
     "text": [
      "Counter({'l': 2, 'b': 1, 'e': 1, 'a': 1}) dict_keys(['b', 'e', 'l', 'a']) dict_values([1, 1, 2, 1])\n",
      "Counter({'l': 2, 'b': 1, 'e': 1, 'a': 1}) dict_keys(['b', 'e', 'l', 'a']) dict_values([1, 1, 2, 1])\n",
      "Counter({'l': 2, 'e': 1}) dict_keys(['e', 'l']) dict_values([1, 2])\n"
     ]
    },
    {
     "data": {
      "text/plain": [
       "['e', 'l', 'l']"
      ]
     },
     "execution_count": 900,
     "metadata": {},
     "output_type": "execute_result"
    }
   ],
   "source": [
    "class solution():\n",
    "    def commonChars(self, A):\n",
    "        res = collections.Counter(A[0])\n",
    "        for a in A:\n",
    "            res &= collections.Counter(a)\n",
    "            #print (res, res.keys(), res.values())\n",
    "        return list(res.elements())\n",
    "A=[\"bella\",\"label\",\"roller\"]\n",
    "a=solution()\n",
    "a.commonChars(A)"
   ]
  },
  {
   "cell_type": "code",
   "execution_count": null,
   "metadata": {},
   "outputs": [],
   "source": [
    "class Solution(object):\n",
    "    def commonChars(self, A):\n",
    "        \"\"\"\n",
    "        :type A: List[str]\n",
    "        :rtype: List[str]\n",
    "        \"\"\"\n",
    "        d = {i:A[0].count(i) for i in A[0]}\n",
    "        for i in A[1:]:\n",
    "            for j in d.keys():\n",
    "                if i.count(j) < d[j]:\n",
    "                    d[j] = i.count(j)\n",
    "        n = ''\n",
    "        for i in d.keys():\n",
    "            n += i * d[i]\n",
    "        return [i for i in n]"
   ]
  },
  {
   "cell_type": "code",
   "execution_count": null,
   "metadata": {},
   "outputs": [],
   "source": []
  },
  {
   "cell_type": "code",
   "execution_count": null,
   "metadata": {},
   "outputs": [],
   "source": [
    "897. Increasing Order Search Tree\n",
    "\n",
    "Given a binary search tree, rearrange the tree in in-order so that the leftmost node in the tree is now the root of the tree, and every node has no left child and only 1 right child.\n",
    "\n",
    "Example 1:\n",
    "Input: [5,3,6,2,4,null,8,1,null,null,null,7,9]\n",
    "\n",
    "       5\n",
    "      / \\\n",
    "    3    6\n",
    "   / \\    \\\n",
    "  2   4    8\n",
    " /        / \\ \n",
    "1        7   9\n",
    "\n",
    "Output: [1,null,2,null,3,null,4,null,5,null,6,null,7,null,8,null,9]\n",
    "\n",
    " 1\n",
    "  \\\n",
    "   2\n",
    "    \\\n",
    "     3\n",
    "      \\\n",
    "       4\n",
    "        \\\n",
    "         5\n",
    "          \\\n",
    "           6\n",
    "            \\\n",
    "             7\n",
    "              \\\n",
    "               8\n",
    "                \\\n",
    "                 9  \n",
    "Note:\n",
    "\n",
    "The number of nodes in the given tree will be between 1 and 100.\n",
    "Each node will have a unique integer value from 0 to 1000.\n"
   ]
  },
  {
   "cell_type": "code",
   "execution_count": null,
   "metadata": {},
   "outputs": [],
   "source": [
    "#Straigh forward idea:\n",
    "#res = inorder(root.left) + root + inorder(root.right)\n",
    "\n",
    "Several tips here:\n",
    "\n",
    "I pass a tail part to the function, so it can link it to the last node.\n",
    "This operation takes O(1), instead of O(N).\n",
    "Otherwise the whole time complexity will be O(N^2).\n",
    "\n",
    "Also, remember to set root.left = null.\n",
    "Otherwise it will be TLE for Leetcode to traverse your tree.\n",
    "\n",
    "Should arrange the old tree, not create a new tree."
   ]
  },
  {
   "cell_type": "code",
   "execution_count": null,
   "metadata": {},
   "outputs": [],
   "source": [
    "class solution():\n",
    "    def increasingBST(self, root, tail = None):\n",
    "        if not root: return tail\n",
    "        res = self.increasingBST(root.left, root)\n",
    "        root.left = None\n",
    "        root.right = self.increasingBST(root.right, tail)\n",
    "        return res"
   ]
  },
  {
   "cell_type": "code",
   "execution_count": null,
   "metadata": {},
   "outputs": [],
   "source": []
  },
  {
   "cell_type": "code",
   "execution_count": null,
   "metadata": {},
   "outputs": [],
   "source": [
    "908. Smallest Range I\n",
    "\n",
    "Given an array A of integers, for each integer A[i] we may choose any x with -K <= x <= K, and add x to A[i].\n",
    "\n",
    "After this process, we have some array B.\n",
    "\n",
    "Return the smallest possible difference between the maximum value of B and the minimum value of B.\n",
    "\n",
    " \n",
    "\n",
    "Example 1:\n",
    "\n",
    "Input: A = [1], K = 0\n",
    "Output: 0\n",
    "Explanation: B = [1]\n",
    "Example 2:\n",
    "\n",
    "Input: A = [0,10], K = 2\n",
    "Output: 6\n",
    "Explanation: B = [2,8]\n",
    "Example 3:\n",
    "\n",
    "Input: A = [1,3,6], K = 3\n",
    "Output: 0\n",
    "Explanation: B = [3,3,3] or B = [4,4,4]\n",
    " \n",
    "\n",
    "Note:\n",
    "\n",
    "1 <= A.length <= 10000\n",
    "0 <= A[i] <= 10000\n",
    "0 <= K <= 10000"
   ]
  },
  {
   "cell_type": "code",
   "execution_count": null,
   "metadata": {},
   "outputs": [],
   "source": [
    "Intuition:\n",
    "If min(A) + K < max(A) - K, then return max(A) - min(A) - 2 * K\n",
    "If min(A) + K >= max(A) - K, then return 0"
   ]
  },
  {
   "cell_type": "code",
   "execution_count": null,
   "metadata": {},
   "outputs": [],
   "source": [
    "return max(0, max(A) - min(A) - 2 * K)"
   ]
  },
  {
   "cell_type": "code",
   "execution_count": null,
   "metadata": {},
   "outputs": [],
   "source": [
    "#In the sorted array, leftmost number + K and rightmost number - K should cross each other. Otherwise, they have a difference for smallest range.\n",
    "\n",
    "class Solution:\n",
    "    def smallestRangeI(self, A, K):\n",
    "        l, r = min(A) + K, max(A) - K \n",
    "        return 0 if l >= r else r - l"
   ]
  },
  {
   "cell_type": "code",
   "execution_count": null,
   "metadata": {},
   "outputs": [],
   "source": []
  },
  {
   "cell_type": "code",
   "execution_count": null,
   "metadata": {},
   "outputs": [],
   "source": [
    "876. Middle of the Linked List\n",
    "\n",
    "Given a non-empty, singly linked list with head node head, return a middle node of linked list.\n",
    "\n",
    "If there are two middle nodes, return the second middle node.\n",
    "\n",
    " \n",
    "\n",
    "Example 1:\n",
    "\n",
    "Input: [1,2,3,4,5]\n",
    "Output: Node 3 from this list (Serialization: [3,4,5])\n",
    "The returned node has value 3.  (The judge's serialization of this node is [3,4,5]).\n",
    "Note that we returned a ListNode object ans, such that:\n",
    "ans.val = 3, ans.next.val = 4, ans.next.next.val = 5, and ans.next.next.next = NULL.\n",
    "Example 2:\n",
    "\n",
    "Input: [1,2,3,4,5,6]\n",
    "Output: Node 4 from this list (Serialization: [4,5,6])\n",
    "Since the list has two middle nodes with values 3 and 4, we return the second one."
   ]
  },
  {
   "cell_type": "code",
   "execution_count": null,
   "metadata": {},
   "outputs": [],
   "source": [
    "     def middleNode(self, head):\n",
    "        slow = fast = head\n",
    "        while fast and fast.next:\n",
    "            slow = slow.next\n",
    "            fast = fast.next.next\n",
    "        return slow"
   ]
  },
  {
   "cell_type": "code",
   "execution_count": null,
   "metadata": {},
   "outputs": [],
   "source": []
  },
  {
   "cell_type": "code",
   "execution_count": null,
   "metadata": {},
   "outputs": [],
   "source": [
    "557. Reverse Words in a String III\n",
    "Given a string, you need to reverse the order of characters in each word within a sentence while still preserving whitespace and initial word order.\n",
    "\n",
    "Example 1:\n",
    "Input: \"Let's take LeetCode contest\"\n",
    "Output: \"s'teL ekat edoCteeL tsetnoc\""
   ]
  },
  {
   "cell_type": "code",
   "execution_count": null,
   "metadata": {},
   "outputs": [],
   "source": [
    "#first reverse the order of the words and then reverse the entire string.\n",
    "\n",
    "def reverseWords(self, s):\n",
    "    return ' '.join(s.split()[::-1])[::-1]\n",
    "\n",
    "\n",
    "return \" \".join(map(lambda x: x[::-1], s.split()))"
   ]
  },
  {
   "cell_type": "code",
   "execution_count": 904,
   "metadata": {},
   "outputs": [
    {
     "name": "stdout",
     "output_type": "stream",
     "text": [
      "contest LeetCode take Let's\n",
      "s'teL ekat edoCteeL tsetnoc\n"
     ]
    }
   ],
   "source": [
    "\n",
    "s= \"Let's take LeetCode contest\"\n",
    "t=' '.join(s.split()[::-1])\n",
    "print(t)\n",
    "print(t[::-1])"
   ]
  },
  {
   "cell_type": "code",
   "execution_count": 901,
   "metadata": {},
   "outputs": [
    {
     "name": "stdout",
     "output_type": "stream",
     "text": [
      "s'teL ekat edoCteeL tsetnoc\n"
     ]
    }
   ],
   "source": [
    "words= \"Let's take LeetCode contest\"\n",
    "res = ' '.join(w[::-1] for w in words.split())\n",
    "print (res)"
   ]
  },
  {
   "cell_type": "code",
   "execution_count": null,
   "metadata": {},
   "outputs": [],
   "source": []
  },
  {
   "cell_type": "code",
   "execution_count": null,
   "metadata": {},
   "outputs": [],
   "source": [
    "1030. Matrix Cells in Distance Order\n",
    "\n",
    "We are given a matrix with R rows and C columns has cells with integer coordinates (r, c), where 0 <= r < R and 0 <= c < C.\n",
    "\n",
    "Additionally, we are given a cell in that matrix with coordinates (r0, c0).\n",
    "\n",
    "Return the coordinates of all cells in the matrix, sorted by their distance from (r0, c0) from smallest distance to largest distance.  Here, the distance between two cells (r1, c1) and (r2, c2) is the Manhattan distance, |r1 - r2| + |c1 - c2|.  (You may return the answer in any order that satisfies this condition.)\n",
    "\n",
    " \n",
    "\n",
    "Example 1:\n",
    "\n",
    "Input: R = 1, C = 2, r0 = 0, c0 = 0\n",
    "Output: [[0,0],[0,1]]\n",
    "Explanation: The distances from (r0, c0) to other cells are: [0,1]\n",
    "Example 2:\n",
    "\n",
    "Input: R = 2, C = 2, r0 = 0, c0 = 1\n",
    "Output: [[0,1],[0,0],[1,1],[1,0]]\n",
    "Explanation: The distances from (r0, c0) to other cells are: [0,1,1,2]\n",
    "The answer [[0,1],[1,1],[0,0],[1,0]] would also be accepted as correct.\n",
    "Example 3:\n",
    "\n",
    "Input: R = 2, C = 3, r0 = 1, c0 = 2\n",
    "Output: [[1,2],[0,2],[1,1],[0,1],[1,0],[0,0]]\n",
    "Explanation: The distances from (r0, c0) to other cells are: [0,1,1,2,2,3]\n",
    "There are other answers that would also be accepted as correct, such as [[1,2],[1,1],[0,2],[1,0],[0,1],[0,0]].\n",
    " \n",
    "\n",
    "Note:\n",
    "\n",
    "1 <= R <= 100\n",
    "1 <= C <= 100\n",
    "0 <= r0 < R\n",
    "0 <= c0 < C"
   ]
  },
  {
   "cell_type": "code",
   "execution_count": null,
   "metadata": {},
   "outputs": [],
   "source": [
    "return sorted([(i, j) for i in range(R) for j in range(C)], key=lambda x: abs(x[0] - r0) + abs(x[1] - c0))\n"
   ]
  },
  {
   "cell_type": "code",
   "execution_count": null,
   "metadata": {},
   "outputs": [],
   "source": []
  },
  {
   "cell_type": "code",
   "execution_count": null,
   "metadata": {},
   "outputs": [],
   "source": [
    "1025. Divisor Game\n",
    "\n",
    "Alice and Bob take turns playing a game, with Alice starting first.\n",
    "\n",
    "Initially, there is a number N on the chalkboard.  On each player's turn, that player makes a move consisting of:\n",
    "\n",
    "Choosing any x with 0 < x < N and N % x == 0.\n",
    "Replacing the number N on the chalkboard with N - x.\n",
    "Also, if a player cannot make a move, they lose the game.\n",
    "\n",
    "Return True if and only if Alice wins the game, assuming both players play optimally.\n",
    "\n",
    "Example 1:\n",
    "\n",
    "Input: 2\n",
    "Output: true\n",
    "Explanation: Alice chooses 1, and Bob has no more moves.\n",
    "Example 2:\n",
    "\n",
    "Input: 3\n",
    "Output: false\n",
    "Explanation: Alice chooses 1, Bob chooses 1, and Alice has no more moves.\n",
    " \n",
    "\n",
    "Note:\n",
    "\n",
    "1 <= N <= 1000"
   ]
  },
  {
   "cell_type": "code",
   "execution_count": null,
   "metadata": {},
   "outputs": [],
   "source": [
    "Conclusion\n",
    "If N is even, can win.\n",
    "If N is odd, will lose.\n",
    "\n",
    "Recursive Prove （Top-down)\n",
    "If N is even.\n",
    "We can choose x = 1.\n",
    "The opponent will get N - 1, which is a odd.\n",
    "Reduce to the case odd and he will lose.\n",
    "\n",
    "If N is odd,\n",
    "2.1 If N = 1, lose directly.\n",
    "2.2 We have to choose an odd x.\n",
    "The opponent will get N - x, which is a even.\n",
    "Reduce to the case even and he will win.\n",
    "\n",
    "So the N will change odd and even alternatively until N = 1.\n",
    "\n",
    "Mathematical Induction Prove （Bottom-up)\n",
    "N = 1, lose directly\n",
    "N = 2, will win choosing x = 1.\n",
    "N = 3, must lose choosing x = 1.\n",
    "N = 4, will win choosing x = 1.\n",
    "....\n",
    "\n",
    "For N <= n, we have find that:\n",
    "If N is even, can win.\n",
    "If N is odd, will lose.\n",
    "\n",
    "For the case N = n + 1\n",
    "If N is even, we can win choosing x = 1,\n",
    "give the opponent an odd number N - 1 = n,\n",
    "force him to lose,\n",
    "because we have found that all odd N <= n will lose.\n",
    "\n",
    "If N is odd, there is no even x that N % x == 0.\n",
    "As a result, we give the opponent a even number N - x,\n",
    "and the opponent can win,\n",
    "because we have found that all even N <= n can win.\n",
    "\n",
    "Now we prove that, for all N <= n,\n",
    "If N is even, can win.\n",
    "If N is odd, will lose.\n",
    "\n",
    "Java/C++:\n",
    "\n",
    "        return N % 2 == 0;\n",
    "Python:\n",
    "\n",
    "        return N % 2 == 0"
   ]
  },
  {
   "cell_type": "code",
   "execution_count": null,
   "metadata": {},
   "outputs": [],
   "source": [
    "class Solution:\n",
    "    def divisorGame(self, N: int) -> bool:\n",
    "        dp = [False for i in range(N+1)]\n",
    "        for i in range(1, N+1):\n",
    "            for x in range(1, i//2 + 1):\n",
    "                if (i % x == 0) and (not dp[i-x]):\n",
    "                    dp[i] = True\n",
    "                    break\n",
    "    def divisorGame(N):\n",
    "        dp = [False] * (N+1)\n",
    "        for i in range(2, N+1):\n",
    "            dp[i] = not all(dp[i-j] for j in range(1,int(i**0.5+1)) if not i % j)\n",
    "        return dp[N]"
   ]
  },
  {
   "cell_type": "code",
   "execution_count": null,
   "metadata": {},
   "outputs": [],
   "source": [
    "class Solution(object):\n",
    "    \n",
    "    def solve(self, N, m):\n",
    "        if N in m:\n",
    "            return m[N]\n",
    "        if N == 1:\n",
    "            return False\n",
    "        m[N] = any(not self.solve(N - i, m) for i in range(1, N) if N % i == 0)\n",
    "        return m[N]\n",
    "    \n",
    "    def divisorGame(self, N):\n",
    "        return self.solve(N, {})"
   ]
  },
  {
   "cell_type": "code",
   "execution_count": null,
   "metadata": {},
   "outputs": [],
   "source": []
  },
  {
   "cell_type": "code",
   "execution_count": null,
   "metadata": {},
   "outputs": [],
   "source": [
    "867. Transpose Matrix\n",
    "\n",
    "Given a matrix A, return the transpose of A.\n",
    "\n",
    "The transpose of a matrix is the matrix flipped over it's main diagonal, switching the row and column indices of the matrix.\n",
    "\n",
    " \n",
    "\n",
    "Example 1:\n",
    "\n",
    "Input: [[1,2,3],[4,5,6],[7,8,9]]\n",
    "Output: [[1,4,7],[2,5,8],[3,6,9]]\n",
    "Example 2:\n",
    "\n",
    "Input: [[1,2,3],[4,5,6]]\n",
    "Output: [[1,4],[2,5],[3,6]]"
   ]
  },
  {
   "cell_type": "code",
   "execution_count": null,
   "metadata": {},
   "outputs": [],
   "source": [
    "    def tranpose(self, M):\n",
    "        return zip(*M)\n",
    "    \n",
    "    return [list(item) for item in zip(*A)]\n",
    "    \n",
    "    def transpose(self, A: 'List[List[int]]') -> 'List[List[int]]':\n",
    "        return list(map(lambda *arg: arg, *A))"
   ]
  },
  {
   "cell_type": "code",
   "execution_count": null,
   "metadata": {},
   "outputs": [],
   "source": [
    "    def transpose(self, A):\n",
    "        return [[row[col] for row in A] for col in range(len(A[0]))]\n",
    "    \n",
    "    def transpose(self, A: 'List[List[int]]') -> 'List[List[int]]':\n",
    "    return [[A[i][j] for i in range(len(A))]\n",
    "            for j in range(len(A[0]))]"
   ]
  },
  {
   "cell_type": "code",
   "execution_count": null,
   "metadata": {},
   "outputs": [],
   "source": [
    "#use numpy. This doesn't work in python3, cause can not import numpy.\n",
    "\n",
    "def transpose(self, A):\n",
    "    import numpy as np\n",
    "    return np.transpose(A).tolist()"
   ]
  },
  {
   "cell_type": "code",
   "execution_count": null,
   "metadata": {},
   "outputs": [],
   "source": []
  },
  {
   "cell_type": "code",
   "execution_count": null,
   "metadata": {},
   "outputs": [],
   "source": [
    "821. Shortest Distance to a Character\n",
    "\n",
    "Given a string S and a character C, return an array of integers representing the shortest distance from the character C in the string.\n",
    "\n",
    "Example 1:\n",
    "\n",
    "Input: S = \"loveleetcode\", C = 'e'\n",
    "Output: [3, 2, 1, 0, 1, 0, 0, 1, 2, 2, 1, 0]\n",
    "\n",
    "Note:\n",
    "\n",
    "S string length is in [1, 10000].\n",
    "C is a single character, and guaranteed to be in string S.\n",
    "All letters in S and C are lowercase."
   ]
  },
  {
   "cell_type": "code",
   "execution_count": null,
   "metadata": {},
   "outputs": [],
   "source": [
    "def shortestToChar(self, S, C):\n",
    "        n = len(S)\n",
    "        res = [n] * n\n",
    "        pos = -n\n",
    "        for i in range(n) + range(n)[::-1]:\n",
    "            if S[i] == C: pos = i\n",
    "            res[i] = min(res[i], abs(i - pos))\n",
    "        return res"
   ]
  },
  {
   "cell_type": "code",
   "execution_count": 44,
   "metadata": {},
   "outputs": [
    {
     "name": "stdout",
     "output_type": "stream",
     "text": [
      "[12, 12, 12, 12, 12, 12, 12, 12, 12, 12, 12, 12]\n",
      "[3, 2, 1, 0, 1, 0, 0, 1, 2, 2, 1, 0]\n"
     ]
    }
   ],
   "source": [
    "S = \"loveleetcode\"\n",
    "C = 'e'\n",
    "n = len(S)\n",
    "res = [n] * n\n",
    "print(res)\n",
    "pos = -n\n",
    "for i in list(range(n))+list(range(n)[::-1]):\n",
    "    #print(\"i=\",i)\n",
    "    if S[i] == C: pos = i\n",
    "    res[i] = min(res[i], abs(i - pos))\n",
    "print(res)"
   ]
  },
  {
   "cell_type": "code",
   "execution_count": null,
   "metadata": {},
   "outputs": [],
   "source": [
    "def shortestToChar(self, S, C):\n",
    "        n = len(S)\n",
    "        res = [0 if c == C else n for c in S]\n",
    "        for i in range(n - 1): res[i + 1] = min(res[i + 1], res[i] + 1)\n",
    "        for i in range(n - 1)[::-1]: res[i] = min(res[i], res[i + 1] + 1)\n",
    "        return res"
   ]
  },
  {
   "cell_type": "code",
   "execution_count": null,
   "metadata": {},
   "outputs": [],
   "source": [
    "#Using fwd, we track distance from closest matching character moving left-to-right.\n",
    "#Using rev, we track distance from closest matching character moving right-to-left.\n",
    "\n",
    "#We compute the answer in a single pass. The ~ operator allows us to index from the right of the string.\n",
    "\n",
    "class Solution:\n",
    "    def shortestToChar(self, S, C):\n",
    "        res = [math.inf] * len(S)\n",
    "        fwd, rev = math.inf, math.inf\n",
    "        for i in range(len(S)):\n",
    "            if S[i] == C:\n",
    "                fwd = 0\n",
    "            else:\n",
    "                fwd += 1\n",
    "            res[i] = min(res[i], fwd)\n",
    "            if S[~i] == C:\n",
    "                rev = 0\n",
    "            else:\n",
    "                rev += 1\n",
    "            res[~i] = min(res[~i], rev)\n",
    "        return res"
   ]
  },
  {
   "cell_type": "code",
   "execution_count": null,
   "metadata": {},
   "outputs": [],
   "source": [
    "class Solution:\n",
    "    def shortestToChar(self, S, C):\n",
    "        index = [i for i, s in enumerate(S) if s == C]\n",
    "        return [min(abs(idx-x) for x in index) for idx in range(len(S))]"
   ]
  },
  {
   "cell_type": "code",
   "execution_count": null,
   "metadata": {},
   "outputs": [],
   "source": []
  },
  {
   "cell_type": "code",
   "execution_count": null,
   "metadata": {},
   "outputs": [],
   "source": [
    "1047. Remove All Adjacent Duplicates In String\n",
    "\n",
    "Given a string S of lowercase letters, a duplicate removal consists of choosing two adjacent and equal letters, and removing them.\n",
    "\n",
    "We repeatedly make duplicate removals on S until we no longer can.\n",
    "\n",
    "Return the final string after all such duplicate removals have been made.  It is guaranteed the answer is unique.\n",
    "\n",
    " \n",
    "\n",
    "Example 1:\n",
    "\n",
    "Input: \"abbaca\"\n",
    "Output: \"ca\"\n",
    "Explanation: \n",
    "For example, in \"abbaca\" we could remove \"bb\" since the letters are adjacent and equal, and this is the only possible move.  The result of this move is that the string is \"aaca\", of which only \"aa\" is possible, so the final string is \"ca\".\n",
    " \n",
    "\n",
    "Note:\n",
    "\n",
    "1 <= S.length <= 20000\n",
    "S consists only of English lowercase letters."
   ]
  },
  {
   "cell_type": "code",
   "execution_count": null,
   "metadata": {},
   "outputs": [],
   "source": [
    "Keep a res as current result.\n",
    "Loop on characters in the string S one by one.\n",
    "If the next character is the same as the last in res, pop the last character from res.\n",
    "Otherwise append the the next character to the end of res."
   ]
  },
  {
   "cell_type": "code",
   "execution_count": null,
   "metadata": {},
   "outputs": [],
   "source": [
    "    def removeDuplicates(self, S):\n",
    "        res = []\n",
    "        for c in S:\n",
    "            if res and res[-1] == c:\n",
    "                res.pop()\n",
    "            else:\n",
    "                res.append(c)\n",
    "        return \"\".join(res)"
   ]
  },
  {
   "cell_type": "code",
   "execution_count": 108,
   "metadata": {},
   "outputs": [],
   "source": [
    "    def removeDuplicates(self, S):\n",
    "        return reduce(lambda s, c: s[:-1] if s[-1] == c else s + c, S, \"#\")[1:]"
   ]
  },
  {
   "cell_type": "code",
   "execution_count": null,
   "metadata": {},
   "outputs": [],
   "source": [
    "class Solution:\n",
    "    def removeDuplicates(self, S: str) -> str:\n",
    "        i = 0       \n",
    "        while i < len(S) - 1:       # while is necessary to check the length after every loop\n",
    "            if S[i] == S[i + 1]:        \n",
    "                S = S[:i] + S[i+2:]     # remove duplicates\n",
    "                if i > 0:\n",
    "                    i -= 2      # in every case except i=0\n",
    "                else:\n",
    "                    i -= 1      # for i=0 to remain on 0, only -1 is necessary\n",
    "\n",
    "            i += 1      # go at the next place of the list\n",
    "\n",
    "        return S"
   ]
  },
  {
   "cell_type": "code",
   "execution_count": null,
   "metadata": {},
   "outputs": [],
   "source": [
    "import re\n",
    "\n",
    "class Solution:\n",
    "    def removeDuplicates(self, S: str) -> str:\n",
    "        last = None\n",
    "        while last != S:\n",
    "            last, S = S, re.sub(r'(.)\\1', '', S)\n",
    "        return S"
   ]
  },
  {
   "cell_type": "code",
   "execution_count": null,
   "metadata": {},
   "outputs": [],
   "source": []
  },
  {
   "cell_type": "code",
   "execution_count": null,
   "metadata": {},
   "outputs": [],
   "source": [
    "872. Leaf-Similar Trees\n",
    "\n",
    "Consider all the leaves of a binary tree.  From left to right order, the values of those leaves form a leaf value sequence.\n",
    "\n",
    "Two binary trees are considered leaf-similar if their leaf value sequence is the same.\n",
    "\n",
    "Return true if and only if the two given trees with head nodes root1 and root2 are leaf-similar.\n"
   ]
  },
  {
   "cell_type": "code",
   "execution_count": null,
   "metadata": {},
   "outputs": [],
   "source": [
    "General methode is that traverse DFS whole tree to a list and compare two lists.\n",
    "\n",
    "Here I share an idea of comparing node by node using O(H) space,\n",
    "where H is the height of the tree.\n",
    "\n",
    "Use a stack<TreeNode> to keep dfs path.\n",
    "dfs(stack) will return next leaf.\n",
    "Check leaves one by one, until the end or difference.\n",
    "Only O(H) space for stack, no extra space for comparation.\n",
    "O(1) is also possible if we can modify the tree."
   ]
  },
  {
   "cell_type": "code",
   "execution_count": null,
   "metadata": {},
   "outputs": [],
   "source": [
    "def leafSimilar(self, root1, root2):\n",
    "        def dfs(node):\n",
    "            if not node: return\n",
    "            if not node.left and not node.right: yield node.val\n",
    "            for i in dfs(node.left): yield i\n",
    "            for i in dfs(node.right): yield i\n",
    "        return all(a == b for a, b in itertools.izip_longest(dfs(root1), dfs(root2)))"
   ]
  },
  {
   "cell_type": "code",
   "execution_count": null,
   "metadata": {},
   "outputs": [],
   "source": [
    "class Solution:\n",
    "    def leafSimilar(self, root1, root2):\n",
    "        def dfs(node, arr):\n",
    "            if node:\n",
    "                if not node.left and not node.right: arr += [node.val]\n",
    "                dfs(node.left, arr)\n",
    "                dfs(node.right, arr)\n",
    "                return arr\n",
    "        return dfs(root1, []) == dfs(root2, [])"
   ]
  },
  {
   "cell_type": "code",
   "execution_count": null,
   "metadata": {},
   "outputs": [],
   "source": [
    "class Solution:\n",
    "    def leafSimilar(self, root1, root2):\n",
    "        def getLeaves(leaves,root):\n",
    "            if root:\n",
    "                if root.left is None and root.right is None: leaves.append(root.val)    \n",
    "                getLeaves(leaves,root.left)\n",
    "                getLeaves(leaves,root.right)\n",
    "        \n",
    "        leaves_1, leaves_2 = [], []\n",
    "        getLeaves(leaves_1,root1)\n",
    "        getLeaves(leaves_2,root2)\n",
    "        \n",
    "        return leaves_1 == leaves_2"
   ]
  },
  {
   "cell_type": "code",
   "execution_count": null,
   "metadata": {},
   "outputs": [],
   "source": []
  },
  {
   "cell_type": "code",
   "execution_count": null,
   "metadata": {},
   "outputs": [],
   "source": [
    "344. Reverse String\n",
    "\n",
    "Write a function that reverses a string. The input string is given as an array of characters char[].\n",
    "\n",
    "Do not allocate extra space for another array, you must do this by modifying the input array in-place with O(1) extra memory.\n",
    "\n",
    "You may assume all the characters consist of printable ascii characters.\n",
    "\n",
    " \n",
    "\n",
    "Example 1:\n",
    "\n",
    "Input: [\"h\",\"e\",\"l\",\"l\",\"o\"]\n",
    "Output: [\"o\",\"l\",\"l\",\"e\",\"h\"]\n",
    "Example 2:\n",
    "\n",
    "Input: [\"H\",\"a\",\"n\",\"n\",\"a\",\"h\"]\n",
    "Output: [\"h\",\"a\",\"n\",\"n\",\"a\",\"H\"]"
   ]
  },
  {
   "cell_type": "code",
   "execution_count": null,
   "metadata": {},
   "outputs": [],
   "source": [
    "class Solution(object):\n",
    "    def reverseString(self, s):\n",
    "        \"\"\"\n",
    "        :type s: str\n",
    "        :rtype: str\n",
    "        \"\"\"\n",
    "        if len(s)<=1:\n",
    "            return s\n",
    "        n=len(s)\n",
    "        return self.reverseString(s[n//2:])+self.reverseString(s[:n//2])\n",
    "    \n",
    "\n",
    "    def reverseString(self, s):\n",
    "        n = len(s)\n",
    "        s = list(s)\n",
    "        \n",
    "         # return self.reverseStringRecurse(s, 0, len(s)-1)\n",
    "         # return self.reverseString2(s)\n",
    "         # return self.reverseString3(s)\n",
    "        \n",
    "        for i in range(n/2):\n",
    "            s[i], s[~i] = s[~i], s[i]\n",
    "        \n",
    "        return \"\".join(s)\n",
    "            \n",
    "    def reverseString2(self, s):\n",
    "        return s[::-1] \n",
    "    \n",
    "    def reverseString3(self, s):\n",
    "        return \"\".join(reversed(list(s))) \n",
    "        \n",
    "    def reverseStringRecurse(self, s, lo=0,hi=None):\n",
    "        if hi<=lo:\n",
    "            return \"\".join(s)\n",
    "        \n",
    "        s[lo],s[hi] = s[hi], s[lo]\n",
    "        return self.reverseStringRecurse(s, lo+1, hi-1)"
   ]
  },
  {
   "cell_type": "code",
   "execution_count": null,
   "metadata": {},
   "outputs": [],
   "source": []
  },
  {
   "cell_type": "code",
   "execution_count": null,
   "metadata": {},
   "outputs": [],
   "source": [
    "1137. N-th Tribonacci Number\n",
    "\n",
    "The Tribonacci sequence Tn is defined as follows: \n",
    "\n",
    "T0 = 0, T1 = 1, T2 = 1, and Tn+3 = Tn + Tn+1 + Tn+2 for n >= 0.\n",
    "\n",
    "Given n, return the value of Tn.\n",
    "\n",
    " \n",
    "\n",
    "Example 1:\n",
    "\n",
    "Input: n = 4\n",
    "Output: 4\n",
    "Explanation:\n",
    "T_3 = 0 + 1 + 1 = 2\n",
    "T_4 = 1 + 1 + 2 = 4\n",
    "Example 2:\n",
    "\n",
    "Input: n = 25\n",
    "Output: 1389537\n",
    " \n",
    "\n",
    "Constraints:\n",
    "\n",
    "0 <= n <= 37\n",
    "The answer is guaranteed to fit within a 32-bit integer, ie. answer <= 2^31 - 1."
   ]
  },
  {
   "cell_type": "code",
   "execution_count": 916,
   "metadata": {},
   "outputs": [
    {
     "data": {
      "text/plain": [
       "1389537"
      ]
     },
     "execution_count": 916,
     "metadata": {},
     "output_type": "execute_result"
    }
   ],
   "source": [
    "class solution():\n",
    "    def tribonacci(self, n):\n",
    "        a, b, c = 1,0,0\n",
    "        for _ in range(n): a, b, c = b, c, a + b + c\n",
    "        return c\n",
    "a=solution()\n",
    "a.tribonacci(25)"
   ]
  },
  {
   "cell_type": "code",
   "execution_count": 931,
   "metadata": {},
   "outputs": [
    {
     "data": {
      "text/plain": [
       "1389537"
      ]
     },
     "execution_count": 931,
     "metadata": {},
     "output_type": "execute_result"
    }
   ],
   "source": [
    "class solution():\n",
    "    def tribonacci(self, n):\n",
    "        if n<=1: return n\n",
    "        if n==2: return 1\n",
    "        a, b, c = 0,1,1\n",
    "        for _ in range(3, n+1): \n",
    "            d=a+b+c\n",
    "            a, b, c = b, c, d\n",
    "        return d\n",
    "a=solution()\n",
    "a.tribonacci(25)"
   ]
  },
  {
   "cell_type": "code",
   "execution_count": null,
   "metadata": {},
   "outputs": [],
   "source": [
    "class Solution:\n",
    "    def tribonacci(self, n: int) -> int:\n",
    "        m = [0,1,1]\n",
    "        for _ in range(3,n+1):\n",
    "            m.append(m[-1] + m[-2] + m[-3])\n",
    "        return m[n]"
   ]
  },
  {
   "cell_type": "code",
   "execution_count": null,
   "metadata": {},
   "outputs": [],
   "source": []
  },
  {
   "cell_type": "code",
   "execution_count": null,
   "metadata": {},
   "outputs": [],
   "source": [
    "806. Number of Lines To Write String\n",
    "\n",
    "We are to write the letters of a given string S, from left to right into lines. Each line has maximum width 100 units, and if writing a letter would cause the width of the line to exceed 100 units, it is written on the next line. We are given an array widths, an array where widths[0] is the width of 'a', widths[1] is the width of 'b', ..., and widths[25] is the width of 'z'.\n",
    "\n",
    "Now answer two questions: how many lines have at least one character from S, and what is the width used by the last such line? Return your answer as an integer list of length 2.\n",
    "\n",
    " \n",
    "\n",
    "Example :\n",
    "Input: \n",
    "widths = [10,10,10,10,10,10,10,10,10,10,10,10,10,10,10,10,10,10,10,10,10,10,10,10,10,10]\n",
    "S = \"abcdefghijklmnopqrstuvwxyz\"\n",
    "Output: [3, 60]\n",
    "Explanation: \n",
    "All letters have the same length of 10. To write all 26 letters,\n",
    "we need two full lines and one line with 60 units.\n",
    "Example :\n",
    "Input: \n",
    "widths = [4,10,10,10,10,10,10,10,10,10,10,10,10,10,10,10,10,10,10,10,10,10,10,10,10,10]\n",
    "S = \"bbbcccdddaaa\"\n",
    "Output: [2, 4]\n",
    "Explanation: \n",
    "All letters except 'a' have the same length of 10, and \n",
    "\"bbbcccdddaa\" will cover 9 * 10 + 2 * 4 = 98 units.\n",
    "For the last 'a', it is written on the second line because\n",
    "there is only 2 units left in the first line.\n",
    "So the answer is 2 lines, plus 4 units in the second line.\n",
    " \n",
    "\n",
    "Note:\n",
    "\n",
    "The length of S will be in the range [1, 1000].\n",
    "S will only contain lowercase letters.\n",
    "widths is an array of length 26.\n",
    "widths[i] will be in the range of [2, 10].\n"
   ]
  },
  {
   "cell_type": "code",
   "execution_count": null,
   "metadata": {},
   "outputs": [],
   "source": [
    "def numberOfcurs(self, widths, S):\n",
    "        res, cur = 1, 0\n",
    "        for i in S:\n",
    "            width = widths[ord(i) - ord('a')]\n",
    "            res += 1 if cur + width > 100 else 0\n",
    "            cur = width if cur + width > 100 else cur + width\n",
    "        return [res, cur]"
   ]
  },
  {
   "cell_type": "code",
   "execution_count": null,
   "metadata": {},
   "outputs": [],
   "source": []
  },
  {
   "cell_type": "code",
   "execution_count": null,
   "metadata": {},
   "outputs": [],
   "source": [
    "893. Groups of Special-Equivalent Strings\n",
    "\n",
    "You are given an array A of strings.\n",
    "\n",
    "Two strings S and T are special-equivalent if after any number of moves, S == T.\n",
    "\n",
    "A move consists of choosing two indices i and j with i % 2 == j % 2, and swapping S[i] with S[j].\n",
    "\n",
    "Now, a group of special-equivalent strings from A is a non-empty subset S of A such that any string not in S is not special-equivalent with any string in S.\n",
    "\n",
    "Return the number of groups of special-equivalent strings from A.\n",
    "\n",
    " \n",
    "\n",
    "Example 1:\n",
    "\n",
    "Input: [\"a\",\"b\",\"c\",\"a\",\"c\",\"c\"]\n",
    "Output: 3\n",
    "Explanation: 3 groups [\"a\",\"a\"], [\"b\"], [\"c\",\"c\",\"c\"]\n",
    "Example 2:\n",
    "\n",
    "Input: [\"aa\",\"bb\",\"ab\",\"ba\"]\n",
    "Output: 4\n",
    "Explanation: 4 groups [\"aa\"], [\"bb\"], [\"ab\"], [\"ba\"]\n",
    "Example 3:\n",
    "\n",
    "Input: [\"abc\",\"acb\",\"bac\",\"bca\",\"cab\",\"cba\"]\n",
    "Output: 3\n",
    "Explanation: 3 groups [\"abc\",\"cba\"], [\"acb\",\"bca\"], [\"bac\",\"cab\"]\n",
    "Example 4:\n",
    "\n",
    "Input: [\"abcd\",\"cdab\",\"adcb\",\"cbad\"]\n",
    "Output: 1\n",
    "Explanation: 1 group [\"abcd\",\"cdab\",\"adcb\",\"cbad\"]\n",
    " \n",
    "\n",
    "Note:\n",
    "\n",
    "1 <= A.length <= 1000\n",
    "1 <= A[i].length <= 20\n",
    "All A[i] have the same length.\n",
    "All A[i] consist of only lowercase letters.\n"
   ]
  },
  {
   "cell_type": "code",
   "execution_count": 940,
   "metadata": {},
   "outputs": [
    {
     "name": "stdout",
     "output_type": "stream",
     "text": [
      "bdf\n",
      "['acb', 'abc', 'bca', 'abc', 'bca', 'acb']\n"
     ]
    },
    {
     "data": {
      "text/plain": [
       "{'abc', 'acb', 'bca'}"
      ]
     },
     "execution_count": 940,
     "metadata": {},
     "output_type": "execute_result"
    }
   ],
   "source": [
    "class Solution:\n",
    "    def numSpecialEquivGroups(self, A):\n",
    "        print ([\"\".join(sorted(s[0::2])) + \"\".join(sorted(s[1::2])) for s in A])\n",
    "        #return len(set(\"\".join(sorted(s[0::2])) + \"\".join(sorted(s[1::2])) for s in A))\n",
    "        return set(\"\".join(sorted(s[0::2])) + \"\".join(sorted(s[1::2])) for s in A)\n",
    "    \n",
    "A= [\"a\",\"b\",\"c\",\"a\",\"c\",\"c\"]\n",
    "A = [\"aa\",\"bb\",\"ab\",\"ba\"]\n",
    "A = [\"abc\",\"acb\",\"bac\",\"bca\",\"cab\",\"cba\"]\n",
    "print(\"abcdef\"[1::2])\n",
    "a= Solution()\n",
    "a.numSpecialEquivGroups(A)"
   ]
  },
  {
   "cell_type": "code",
   "execution_count": null,
   "metadata": {},
   "outputs": [],
   "source": []
  },
  {
   "cell_type": "code",
   "execution_count": null,
   "metadata": {},
   "outputs": [],
   "source": [
    "985. Sum of Even Numbers After Queries\n",
    "\n",
    "We have an array A of integers, and an array queries of queries.\n",
    "\n",
    "For the i-th query val = queries[i][0], index = queries[i][1], we add val to A[index].  Then, the answer to the i-th query is the sum of the even values of A.\n",
    "\n",
    "(Here, the given index = queries[i][1] is a 0-based index, and each query permanently modifies the array A.)\n",
    "\n",
    "Return the answer to all queries.  Your answer array should have answer[i] as the answer to the i-th query.\n",
    "\n",
    " \n",
    "\n",
    "Example 1:\n",
    "\n",
    "Input: A = [1,2,3,4], queries = [[1,0],[-3,1],[-4,0],[2,3]]\n",
    "Output: [8,6,2,4]\n",
    "Explanation: \n",
    "At the beginning, the array is [1,2,3,4].\n",
    "After adding 1 to A[0], the array is [2,2,3,4], and the sum of even values is 2 + 2 + 4 = 8.\n",
    "After adding -3 to A[1], the array is [2,-1,3,4], and the sum of even values is 2 + 4 = 6.\n",
    "After adding -4 to A[0], the array is [-2,-1,3,4], and the sum of even values is -2 + 4 = 2.\n",
    "After adding 2 to A[3], the array is [-2,-1,3,6], and the sum of even values is -2 + 6 = 4.\n",
    " \n",
    "\n",
    "Note:\n",
    "\n",
    "1 <= A.length <= 10000\n",
    "-10000 <= A[i] <= 10000\n",
    "1 <= queries.length <= 10000\n"
   ]
  },
  {
   "cell_type": "code",
   "execution_count": null,
   "metadata": {},
   "outputs": [],
   "source": [
    "class Solution:\n",
    "    def sumEvenAfterQueries(self, A: List[int], queries: List[List[int]]) -> List[int]:\n",
    "        even_sums = []      # sums will be stored here\n",
    "        for query in queries:       # loop over queries\n",
    "            A[query[1]] += query[0]     # required change\n",
    "            even = [x for x in A if x % 2 == 0]     # creates a list of even numbers - list comprehension\n",
    "            even_sums.append(sum(even))     # add sum to the list of sums\n",
    "\n",
    "        return even_sums"
   ]
  },
  {
   "cell_type": "code",
   "execution_count": null,
   "metadata": {},
   "outputs": [],
   "source": []
  },
  {
   "cell_type": "code",
   "execution_count": null,
   "metadata": {},
   "outputs": [],
   "source": [
    "620. Not Boring Movies\n",
    "#SQL\n",
    "select movie,description,id,rating from cinema where mod(id,2)=1 and description != \"boring\" order by rating desc;"
   ]
  },
  {
   "cell_type": "code",
   "execution_count": null,
   "metadata": {},
   "outputs": [],
   "source": []
  },
  {
   "cell_type": "code",
   "execution_count": null,
   "metadata": {},
   "outputs": [],
   "source": [
    "476. Number Complement\n",
    "\n",
    "Given a positive integer, output its complement number. The complement strategy is to flip the bits of its binary representation.\n",
    "\n",
    "Note:\n",
    "The given integer is guaranteed to fit within the range of a 32-bit signed integer.\n",
    "You could assume no leading zero bit in the integer’s binary representation.\n",
    "Example 1:\n",
    "Input: 5\n",
    "Output: 2\n",
    "Explanation: The binary representation of 5 is 101 (no leading zero bits), and its complement is 010. So you need to output 2.\n",
    "Example 2:\n",
    "Input: 1\n",
    "Output: 0\n",
    "Explanation: The binary representation of 1 is 1 (no leading zero bits), and its complement is 0. So you need to output 0."
   ]
  },
  {
   "cell_type": "code",
   "execution_count": 19,
   "metadata": {},
   "outputs": [
    {
     "name": "stdout",
     "output_type": "stream",
     "text": [
      "0b1111\n"
     ]
    },
    {
     "data": {
      "text/plain": [
       "7"
      ]
     },
     "execution_count": 19,
     "metadata": {},
     "output_type": "execute_result"
    }
   ],
   "source": [
    "#Find the power of 2 number larger than num. Then i-1 will unset the last set bit and set all bits to its right to 1. Then just XOR with this number.\n",
    "\n",
    "class Solution(object):\n",
    "    def findComplement(self, num):\n",
    "        i = 1\n",
    "        while i <= num:\n",
    "            i = i << 1\n",
    "        print(bin(i-1))\n",
    "        return (i - 1) ^ num\n",
    "N=5\n",
    "N=1\n",
    "N=8\n",
    "a=Solution()\n",
    "a.findComplement(N)"
   ]
  },
  {
   "cell_type": "code",
   "execution_count": 20,
   "metadata": {},
   "outputs": [
    {
     "name": "stdout",
     "output_type": "stream",
     "text": [
      "3\n",
      "7\n",
      "15\n"
     ]
    },
    {
     "data": {
      "text/plain": [
       "7"
      ]
     },
     "execution_count": 20,
     "metadata": {},
     "output_type": "execute_result"
    }
   ],
   "source": [
    "class solution():\n",
    "    def bitwiseComplement(self, N: int) -> int:\n",
    "        mask = 1\n",
    "        while mask < N:\n",
    "            mask = (mask << 1) + 1\n",
    "            print(mask)\n",
    "        return N ^ mask\n",
    "N=5\n",
    "N=1\n",
    "N=8\n",
    "a=solution()\n",
    "a.bitwiseComplement(N)"
   ]
  },
  {
   "cell_type": "code",
   "execution_count": 24,
   "metadata": {},
   "outputs": [
    {
     "name": "stdout",
     "output_type": "stream",
     "text": [
      "6\n",
      "8\n"
     ]
    }
   ],
   "source": [
    "mask=3\n",
    "print(mask << 1) #shifting mask to right with 1 bit => 110 (6)\n",
    "print(1 << mask) #shifting 1 to right with mask=3 bit => 1000 (8)"
   ]
  },
  {
   "cell_type": "code",
   "execution_count": null,
   "metadata": {},
   "outputs": [],
   "source": [
    "#find the bit length first.\n",
    "\n",
    "class Solution(object):\n",
    "    def findComplement(self, num):\n",
    "        \"\"\"\n",
    "        :type num: int\n",
    "        :rtype: int\n",
    "        \"\"\"\n",
    "        mask = 1 << (len(bin(num)) - 2) #mask=1<<bin(num).bit_length()\n",
    "        return (mask - 1) ^ num\n",
    "    \n",
    "    x = bin(num)[2:]\n",
    "        return int(''.join([str(abs(1-int(i))) for i in x]),2)"
   ]
  },
  {
   "cell_type": "code",
   "execution_count": 13,
   "metadata": {},
   "outputs": [
    {
     "name": "stdout",
     "output_type": "stream",
     "text": [
      "4\n",
      "16\n",
      "0b1000 0b10000\n"
     ]
    }
   ],
   "source": [
    "print(len(bin(8))-2)\n",
    "print(1<< len(bin(8))-2)\n",
    "print(bin(8),bin(16))"
   ]
  },
  {
   "cell_type": "code",
   "execution_count": 17,
   "metadata": {},
   "outputs": [
    {
     "name": "stdout",
     "output_type": "stream",
     "text": [
      "7\n"
     ]
    }
   ],
   "source": [
    "x = bin(8)[2:]\n",
    "print(int(''.join([str(abs(1-int(i))) for i in x]),2))\n"
   ]
  },
  {
   "cell_type": "code",
   "execution_count": null,
   "metadata": {},
   "outputs": [],
   "source": [
    "500. Keyboard Row\n",
    "Given a List of words, return the words that can be typed using letters of alphabet on only one row's of American keyboard like the image below.\n",
    " \n",
    "Example:\n",
    "\n",
    "Input: [\"Hello\", \"Alaska\", \"Dad\", \"Peace\"]\n",
    "Output: [\"Alaska\", \"Dad\"]\n",
    " \n",
    "\n",
    "Note:\n",
    "\n",
    "You may use one character in the keyboard more than once.\n",
    "You may assume the input string will only contain letters of alphabet.\n"
   ]
  },
  {
   "cell_type": "code",
   "execution_count": null,
   "metadata": {},
   "outputs": [],
   "source": [
    "def findWords(self, words):\n",
    "    return filter(re.compile('(?i)([qwertyuiop]*|[asdfghjkl]*|[zxcvbnm]*)$').match, words)"
   ]
  },
  {
   "cell_type": "code",
   "execution_count": null,
   "metadata": {},
   "outputs": [],
   "source": [
    "class Solution(object):\n",
    "    def findWords(self, words):\n",
    "        \"\"\"\n",
    "        :type words: List[str]\n",
    "        :rtype: List[str]\n",
    "        \"\"\"\n",
    "        row1 = set(\"qwertyuiopQWERTYUIOP\")\n",
    "        row2 = set(\"asdfghjklASDFGHJKL\")\n",
    "        row3 = set(\"zxcvbnmZXCVBNM\")\n",
    "        \n",
    "        return [word for word in words if set(word.lower())<=row1 or\n",
    "                                          set(word.lower())<=row2 or\n",
    "                                          set(word.lower())<=row3]"
   ]
  },
  {
   "cell_type": "code",
   "execution_count": null,
   "metadata": {},
   "outputs": [],
   "source": [
    "rows = ['qwertyuiopQWERTYUIOP', 'asdfghjklASDFGHJKL', 'zxcvbnmZXCVBNM']\n",
    "return [word for word in words if any([all([ch in row for ch in word]) for row in rows])]"
   ]
  },
  {
   "cell_type": "code",
   "execution_count": null,
   "metadata": {},
   "outputs": [],
   "source": [
    "    def findWords(words):\n",
    "            return [word for row in [set('qwertyuiop'), set('asdfghjkl'), set('zxcvbnm')] for word in words if set(word.lower()) <= row]\n",
    "\n"
   ]
  },
  {
   "cell_type": "code",
   "execution_count": null,
   "metadata": {},
   "outputs": [],
   "source": []
  },
  {
   "cell_type": "code",
   "execution_count": null,
   "metadata": {},
   "outputs": [],
   "source": [
    "1046. Last Stone Weight\n",
    "\n",
    "We have a collection of rocks, each rock has a positive integer weight.\n",
    "\n",
    "Each turn, we choose the two heaviest rocks and smash them together.  Suppose the stones have weights x and y with x <= y.  The result of this smash is:\n",
    "\n",
    "If x == y, both stones are totally destroyed;\n",
    "If x != y, the stone of weight x is totally destroyed, and the stone of weight y has new weight y-x.\n",
    "At the end, there is at most 1 stone left.  Return the weight of this stone (or 0 if there are no stones left.)\n",
    "\n",
    " \n",
    "\n",
    "Example 1:\n",
    "\n",
    "Input: [2,7,4,1,8,1]\n",
    "Output: 1\n",
    "Explanation: \n",
    "We combine 7 and 8 to get 1 so the array converts to [2,4,1,1,1] then,\n",
    "we combine 2 and 4 to get 2 so the array converts to [2,1,1,1] then,\n",
    "we combine 2 and 1 to get 1 so the array converts to [1,1,1] then,\n",
    "we combine 1 and 1 to get 0 so the array converts to [1] then that's the value of last stone.\n",
    " \n",
    "\n",
    "Note:\n",
    "\n",
    "1 <= stones.length <= 30\n",
    "1 <= stones[i] <= 1000\n"
   ]
  },
  {
   "cell_type": "code",
   "execution_count": null,
   "metadata": {},
   "outputs": [],
   "source": [
    "import bisect\n",
    "    def lastStoneWeight(self, stones):\n",
    "        stones = sorted(stones)\n",
    "        for _ in xrange(len(stones) - 1):\n",
    "            x, y = stones.pop(), stones.pop()\n",
    "            bisect.insort(stones, abs(x - y))\n",
    "        return stones.pop()"
   ]
  },
  {
   "cell_type": "code",
   "execution_count": null,
   "metadata": {},
   "outputs": [],
   "source": [
    "class Solution:\n",
    "    def lastStoneWeight(self, stones: List[int]) -> int:\n",
    "        if len(stones) == 1: return stones[0]\n",
    "        stones.sort()\n",
    "        return self.lastStoneWeight([stones.pop() - stones.pop()] + stones)"
   ]
  },
  {
   "cell_type": "code",
   "execution_count": null,
   "metadata": {},
   "outputs": [],
   "source": []
  },
  {
   "cell_type": "code",
   "execution_count": null,
   "metadata": {},
   "outputs": [],
   "source": [
    "1113 Reported Posts\n",
    "#SQL\n",
    "#Write an SQL query that reports the number of posts reported yesterday for each report reason. Assume today is 2019-07-05.\n",
    "select extra as report_reason, count(distinct post_id) as numb_posts from \n",
    "Actions where action='report' and action_date='2019-07-04' and extra is not null group by extra;\n"
   ]
  },
  {
   "cell_type": "code",
   "execution_count": null,
   "metadata": {},
   "outputs": [],
   "source": []
  },
  {
   "cell_type": "code",
   "execution_count": null,
   "metadata": {},
   "outputs": [],
   "source": [
    "766. Toeplitz Matrix\n",
    "\n",
    "A matrix is Toeplitz if every diagonal from top-left to bottom-right has the same element.\n",
    "\n",
    "Now given an M x N matrix, return True if and only if the matrix is Toeplitz.\n",
    " \n",
    "\n",
    "Example 1:\n",
    "\n",
    "Input:\n",
    "matrix = [\n",
    "  [1,2,3,4],\n",
    "  [5,1,2,3],\n",
    "  [9,5,1,2]\n",
    "]\n",
    "Output: True\n",
    "Explanation:\n",
    "In the above grid, the diagonals are:\n",
    "\"[9]\", \"[5, 5]\", \"[1, 1, 1]\", \"[2, 2, 2]\", \"[3, 3]\", \"[4]\".\n",
    "In each diagonal all elements are the same, so the answer is True.\n",
    "Example 2:\n",
    "\n",
    "Input:\n",
    "matrix = [\n",
    "  [1,2],\n",
    "  [2,2]\n",
    "]\n",
    "Output: False\n",
    "Explanation:\n",
    "The diagonal \"[1, 2]\" has different elements.\n",
    "\n",
    "Note:\n",
    "\n",
    "matrix will be a 2D array of integers.\n",
    "matrix will have a number of rows and columns in range [1, 20].\n",
    "matrix[i][j] will be integers in range [0, 99]."
   ]
  },
  {
   "cell_type": "code",
   "execution_count": null,
   "metadata": {},
   "outputs": [],
   "source": [
    "def isToeplitzMatrix(self, m):\n",
    "        for i in range(len(m) - 1):\n",
    "            for j in range(len(m[0]) - 1):\n",
    "                if m[i][j] != m[i + 1][j + 1]:\n",
    "                    return False\n",
    "        return True"
   ]
  },
  {
   "cell_type": "code",
   "execution_count": null,
   "metadata": {},
   "outputs": [],
   "source": [
    "class Solution:\n",
    "    def isToeplitzMatrix(self, matrix):\n",
    "        return all(matrix[i][j] == matrix[i - 1][j - 1] for i in range(1, len(matrix)) for j in range(1, len(matrix[0])))\n",
    "    "
   ]
  },
  {
   "cell_type": "code",
   "execution_count": 942,
   "metadata": {},
   "outputs": [
    {
     "name": "stdout",
     "output_type": "stream",
     "text": [
      "[[1, 2, 3, 4], [5, 1, 2, 3], [9, 5, 1, 2]]\n",
      "[[5, 1, 2, 3], [9, 5, 1, 2]]\n",
      "[1, 2, 3, 4] [5, 1, 2, 3]\n",
      "[1, 2, 3] [1, 2, 3]\n",
      "===\n",
      "[5, 1, 2, 3] [9, 5, 1, 2]\n",
      "[5, 1, 2] [5, 1, 2]\n",
      "===\n"
     ]
    }
   ],
   "source": [
    "def isToeplitzMatrix(self, m):\n",
    "        return all(r1[:-1] == r2[1:] for r1,r2 in zip(m, m[1:]))\n",
    "m = [\n",
    "  [1,2,3,4],\n",
    "  [5,1,2,3],\n",
    "  [9,5,1,2]\n",
    "]\n",
    "print(m)\n",
    "print(m[1:])\n",
    "for r1,r2 in zip(m,m[1:]):\n",
    "    print (r1,r2)\n",
    "    print (r1[:-1], r2[1:])\n",
    "    print(\"===\")"
   ]
  },
  {
   "cell_type": "code",
   "execution_count": 142,
   "metadata": {},
   "outputs": [
    {
     "name": "stdout",
     "output_type": "stream",
     "text": [
      "[[1, 2, 3, 4], [5, 1, 2, 3]]\n",
      "[[5, 1, 2, 3], [9, 5, 1, 2]]\n",
      "[1, 2, 3, 4] [5, 1, 2, 3]\n",
      "[1, 2, 3] [1, 2, 3]\n",
      "===\n",
      "[5, 1, 2, 3] [9, 5, 1, 2]\n",
      "[5, 1, 2] [5, 1, 2]\n",
      "===\n"
     ]
    }
   ],
   "source": [
    "def isToeplitzMatrix(self, m):\n",
    "        return all(r1[:-1] == r2[1:] for r1,r2 in zip(m[:-1], m[1:]))\n",
    "m = [\n",
    "  [1,2,3,4],\n",
    "  [5,1,2,3],\n",
    "  [9,5,1,2]\n",
    "]\n",
    "print(m[:-1])\n",
    "print(m[1:])\n",
    "for r1,r2 in zip(m[:-1],m[1:]):\n",
    "    print (r1,r2)\n",
    "    print (r1[:-1], r2[1:])\n",
    "    print(\"===\")"
   ]
  },
  {
   "cell_type": "code",
   "execution_count": null,
   "metadata": {},
   "outputs": [],
   "source": []
  },
  {
   "cell_type": "code",
   "execution_count": null,
   "metadata": {},
   "outputs": [],
   "source": [
    "1099.Two Sum Less Than K\n",
    "Given an array A of integers and integer K, return the maximum S such that there exists i < j with A[i] + A[j] = S and S < K. If no i, j exist satisfying this equation, return -1.\n",
    "\n",
    "\n",
    "Example 1:\n",
    "\n",
    "Input: A = [34,23,1,24,75,33,54,8], K = 60\n",
    "Output: 58\n",
    "Explanation: \n",
    "We can use 34 and 24 to sum 58 which is less than 60.\n",
    "Example 2:\n",
    "\n",
    "Input: A = [10,20,30], K = 15\n",
    "Output: -1\n",
    "Explanation: \n",
    "In this case it's not possible to get a pair sum less that 15.\n",
    " \n",
    "\n",
    "Note:\n",
    "\n",
    "1 <= A.length <= 100\n",
    "1 <= A[i] <= 1000\n",
    "1 <= K <= 2000\n",
    "\n",
    "#REFER to questions 463. 892. 1099. 733. 661. 994."
   ]
  },
  {
   "cell_type": "code",
   "execution_count": 134,
   "metadata": {},
   "outputs": [
    {
     "data": {
      "text/plain": [
       "58"
      ]
     },
     "execution_count": 134,
     "metadata": {},
     "output_type": "execute_result"
    }
   ],
   "source": [
    "class solution():\n",
    "    def TwoSumLessThanK(self,A, K):\n",
    "        res = -1\n",
    "        for i in range(len(A)):\n",
    "            for j in range(len(A)):\n",
    "                if A[i]+A[j]<K:\n",
    "                    res = max(res, A[i]+A[j])\n",
    "        return res\n",
    "A=[34,23,1,24,75,33,54,8]\n",
    "K=60\n",
    "a=solution()\n",
    "a.TwoSumLessThanK(A,K)"
   ]
  },
  {
   "cell_type": "code",
   "execution_count": 943,
   "metadata": {},
   "outputs": [
    {
     "data": {
      "text/plain": [
       "58"
      ]
     },
     "execution_count": 943,
     "metadata": {},
     "output_type": "execute_result"
    }
   ],
   "source": [
    "class solution():\n",
    "    def TwoSumLessThanK2(self,A, K):\n",
    "        A.sort()\n",
    "        l, r, res=0,len(A)-1,0\n",
    "        while l<r:\n",
    "            if A[l]+A[r]<K:\n",
    "                res = max(res,A[l]+A[r])\n",
    "                l += 1\n",
    "            else:\n",
    "                r -= 1\n",
    "        return res if res>0 else -1\n",
    "A=[34,23,1,24,75,33,54,8]\n",
    "K=60\n",
    "a=solution()\n",
    "a.TwoSumLessThanK2(A,K)"
   ]
  },
  {
   "cell_type": "code",
   "execution_count": null,
   "metadata": {},
   "outputs": [],
   "source": []
  },
  {
   "cell_type": "code",
   "execution_count": null,
   "metadata": {},
   "outputs": [],
   "source": [
    "610. Triangle Judgement\n",
    "#SQL\n",
    "\n",
    "SELECT x,y,z,\n",
    "    CASE\n",
    "        WHEN x>0 and y>0 and z>0 and x + y > z AND x + z > y AND y + z > x THEN 'Yes'\n",
    "        ELSE 'No'\n",
    "    END AS 'is_triangle'\n",
    "FROM triangle;\n",
    "\n",
    "#OR\n",
    "SELECT x, y, z, IF(x+y>z AND x+z>y AND y+z>x, 'Yes', 'No') AS is_triangle FROM triangle;\n"
   ]
  },
  {
   "cell_type": "code",
   "execution_count": null,
   "metadata": {},
   "outputs": [],
   "source": []
  },
  {
   "cell_type": "code",
   "execution_count": null,
   "metadata": {},
   "outputs": [],
   "source": [
    "682. Baseball Game\n",
    "\n",
    "You're now a baseball game point recorder.\n",
    "\n",
    "Given a list of strings, each string can be one of the 4 following types:\n",
    "\n",
    "Integer (one round's score): Directly represents the number of points you get in this round.\n",
    "\"+\" (one round's score): Represents that the points you get in this round are the sum of the last two valid round's points.\n",
    "\"D\" (one round's score): Represents that the points you get in this round are the doubled data of the last valid round's points.\n",
    "\"C\" (an operation, which isn't a round's score): Represents the last valid round's points you get were invalid and should be removed.\n",
    "Each round's operation is permanent and could have an impact on the round before and the round after.\n",
    "\n",
    "You need to return the sum of the points you could get in all the rounds.\n",
    "\n",
    "Example 1:\n",
    "Input: [\"5\",\"2\",\"C\",\"D\",\"+\"]\n",
    "Output: 30\n",
    "Explanation: \n",
    "Round 1: You could get 5 points. The sum is: 5.\n",
    "Round 2: You could get 2 points. The sum is: 7.\n",
    "Operation 1: The round 2's data was invalid. The sum is: 5.  \n",
    "Round 3: You could get 10 points (the round 2's data has been removed). The sum is: 15.\n",
    "Round 4: You could get 5 + 10 = 15 points. The sum is: 30.\n",
    "Example 2:\n",
    "Input: [\"5\",\"-2\",\"4\",\"C\",\"D\",\"9\",\"+\",\"+\"]\n",
    "Output: 27\n",
    "Explanation: \n",
    "Round 1: You could get 5 points. The sum is: 5.\n",
    "Round 2: You could get -2 points. The sum is: 3.\n",
    "Round 3: You could get 4 points. The sum is: 7.\n",
    "Operation 1: The round 3's data is invalid. The sum is: 3.  \n",
    "Round 4: You could get -4 points (the round 3's data has been removed). The sum is: -1.\n",
    "Round 5: You could get 9 points. The sum is: 8.\n",
    "Round 6: You could get -4 + 9 = 5 points. The sum is 13.\n",
    "Round 7: You could get 9 + 5 = 14 points. The sum is 27.\n",
    "Note:\n",
    "The size of the input list will be between 1 and 1000.\n",
    "Every integer represented in the list will be between -30000 and 30000."
   ]
  },
  {
   "cell_type": "code",
   "execution_count": null,
   "metadata": {},
   "outputs": [],
   "source": [
    "class Solution(object):\n",
    "    def calPoints(self, ops):\n",
    "        # Time: O(n)\n",
    "        # Space: O(n)\n",
    "        history = []\n",
    "        for op in ops:\n",
    "            if op == 'C':\n",
    "                history.pop()\n",
    "            elif op == 'D':\n",
    "                history.append(history[-1] * 2)\n",
    "            elif op == '+':\n",
    "                history.append(history[-1] + history[-2])\n",
    "            else:\n",
    "                history.append(int(op))\n",
    "        return sum(history)\n"
   ]
  },
  {
   "cell_type": "code",
   "execution_count": null,
   "metadata": {},
   "outputs": [],
   "source": []
  },
  {
   "cell_type": "code",
   "execution_count": null,
   "metadata": {},
   "outputs": [],
   "source": [
    "463. Island Perimeter\n",
    "\n",
    "You are given a map in form of a two-dimensional integer grid where 1 represents land and 0 represents water.\n",
    "\n",
    "Grid cells are connected horizontally/vertically (not diagonally). The grid is completely surrounded by water, and there is exactly one island (i.e., one or more connected land cells).\n",
    "\n",
    "The island doesn't have \"lakes\" (water inside that isn't connected to the water around the island). One cell is a square with side length 1. The grid is rectangular, width and height don't exceed 100. Determine the perimeter of the island.\n",
    "\n",
    " \n",
    "\n",
    "Example:\n",
    "\n",
    "Input:\n",
    "[[0,1,0,0],\n",
    " [1,1,1,0],\n",
    " [0,1,0,0],\n",
    " [1,1,0,0]]\n",
    "\n",
    "Output: 16\n"
   ]
  },
  {
   "cell_type": "code",
   "execution_count": 27,
   "metadata": {},
   "outputs": [
    {
     "name": "stdout",
     "output_type": "stream",
     "text": [
      "[0, 1, 2, 3, 4, 5]\n"
     ]
    }
   ],
   "source": [
    "print(list(range(5+1)))"
   ]
  },
  {
   "cell_type": "code",
   "execution_count": null,
   "metadata": {},
   "outputs": [],
   "source": [
    "#There's an edge if you can find two adjacent cells of different color.\n",
    "\n",
    "def islandPerimeter(self, A):\n",
    "    R, C = len(A), len(A[0])\n",
    "    def get(r, c):\n",
    "        return A[r][c] if 0 <= r < R and 0 <= c < C else 0\n",
    "        \n",
    "    return sum( ( get(r,c) ^ get(r-1,c) ) + ( get(r,c) ^ get(r,c-1) )\n",
    "                for r in range(R+1) for c in range(C+1) )"
   ]
  },
  {
   "cell_type": "code",
   "execution_count": null,
   "metadata": {},
   "outputs": [],
   "source": [
    "class Solution(object):\n",
    "    def islandPerimeter(self, grid):\n",
    "        \"\"\"\n",
    "        :type grid: List[List[int]]\n",
    "        :rtype: int\n",
    "        \"\"\"\n",
    "        s = 0\n",
    "        if not grid:\n",
    "            return 0\n",
    "        height, width = len(grid), len(grid[0])\n",
    "        for i in xrange(height):\n",
    "            for j in xrange(width):\n",
    "                if grid[i][j] == 1:\n",
    "                    dir = [ [0, 1], [1, 0], [0, -1], [-1, 0] ]\n",
    "                    for x in xrange(4):\n",
    "                        ti, tj = i + dir[x][0], j + dir[x][1]\n",
    "                        if 0 <= ti < height and 0 <= tj < width and grid[ti][tj] == 0:\n",
    "                            s += 1\n",
    "                        elif ti == -1 or ti == height or tj == -1 or tj == width:\n",
    "                            s += 1\n",
    "        return s"
   ]
  },
  {
   "cell_type": "code",
   "execution_count": null,
   "metadata": {},
   "outputs": [],
   "source": []
  },
  {
   "cell_type": "code",
   "execution_count": null,
   "metadata": {},
   "outputs": [],
   "source": [
    "#Since there are no lakes, every pair of neighbour cells with different values is part of the perimeter \n",
    "#(more precisely, the edge between them is). \n",
    "#So just count the differing pairs, both horizontally and vertically (for the latter I simply transpose the grid).\n",
    "\n",
    "def islandPerimeter(self, grid):\n",
    "    return sum(sum(map(operator.ne, [0] + row, row + [0]))\n",
    "               for row in grid + map(list, zip(*grid)))\n"
   ]
  },
  {
   "cell_type": "code",
   "execution_count": null,
   "metadata": {},
   "outputs": [],
   "source": [
    "class Solution(object):\n",
    "    def islandPerimeter(self, grid):\n",
    "        grid_ext = ['0' + ''.join(str(x) for x in row) + '0' for row in grid]\n",
    "        grid_trans = list(map(list, zip(*grid)))\n",
    "        grid_ext += [ '0' + ''.join(str(x) for x in row) + '0' for row in grid_trans ]                \n",
    "        return sum(row.count('01') + row.count('10') for row in grid_ext)\n",
    "    "
   ]
  },
  {
   "cell_type": "code",
   "execution_count": null,
   "metadata": {},
   "outputs": [],
   "source": [
    "class Solution:\n",
    "    def islandPerimeter(self, grid):\n",
    "        area = 0\n",
    "        for row in grid + list(map(list, zip(*grid))):\n",
    "            for i1, i2 in zip([0] + row, row + [0]):\n",
    "                area += int(i1 != i2)\n",
    "        return area"
   ]
  },
  {
   "cell_type": "code",
   "execution_count": null,
   "metadata": {},
   "outputs": [],
   "source": [
    "class Solution(object):\n",
    "    def islandPerimeter(self, grid):\n",
    "        res, m, n = 0, len(grid), len(grid[0]) if grid else 0\n",
    "        return sum([(r - 1 < 0  or grid[r-1][c] == 0) +\\\n",
    "                    (c - 1 < 0  or grid[r][c-1] == 0) +\\\n",
    "                    (r + 1 >= m or grid[r+1][c] == 0) +\\\n",
    "                    (c + 1 >= n or grid[r][c+1] == 0)\n",
    "                    for r in range(m) \n",
    "                    for c in range(n) \n",
    "                    if grid[r][c] == 1]\n",
    "                    )"
   ]
  },
  {
   "cell_type": "code",
   "execution_count": null,
   "metadata": {},
   "outputs": [],
   "source": [
    "class Solution(object):\n",
    "    def islandPerimeter(self, grid):\n",
    "        \"\"\"\n",
    "        :type grid: List[List[int]]\n",
    "        :rtype: int\n",
    "        \"\"\"\n",
    "        m, n = len(grid), len(grid[0])\n",
    "        num = 0\n",
    "\n",
    "        for r in xrange(m):\n",
    "            for c in xrange(n):\n",
    "                if grid[r][c] == 1:\n",
    "                    if r == 0 or grid[r-1][c] == 0:\n",
    "                        num += 1\n",
    "                    if r == m-1 or grid[r+1][c] == 0:\n",
    "                        num += 1\n",
    "                    if c == 0 or grid[r][c-1] == 0:\n",
    "                        num += 1\n",
    "                    if c == n-1 or grid[r][c+1] == 0:\n",
    "                        num += 1\n",
    "        return num"
   ]
  },
  {
   "cell_type": "code",
   "execution_count": null,
   "metadata": {},
   "outputs": [],
   "source": [
    "Count all grids and neighbors: O(MN)\n",
    "\n",
    "For every grid which is 1, the contribution to the perimeter is 4 - x where x is the number of neighbors which are 1 as well.\n",
    "class Solution(object):\n",
    "    def islandPerimeter(self, grid):\n",
    "        \"\"\"\n",
    "        :type grid: List[List[int]]\n",
    "        :rtype: int\n",
    "        \"\"\"\n",
    "        M, N, perimeter = len(grid), len(grid[0]), 0\n",
    "        for i in range(M):\n",
    "            for j in range(N):\n",
    "                if grid[i][j] == 1:\n",
    "                    for x,y in ((i+1,j), (i-1,j), (i,j+1), (i, j-1)):\n",
    "                        if 0<=x<M and 0<=y<N:\n",
    "                            perimeter += int(grid[x][y] == 0)\n",
    "                        else:\n",
    "                            perimeter += 1\n",
    "        return perimeter\n",
    "    "
   ]
  },
  {
   "cell_type": "code",
   "execution_count": null,
   "metadata": {},
   "outputs": [],
   "source": []
  },
  {
   "cell_type": "code",
   "execution_count": null,
   "metadata": {},
   "outputs": [],
   "source": [
    "104. Maximum Depth of Binary Tree"
   ]
  },
  {
   "cell_type": "code",
   "execution_count": null,
   "metadata": {},
   "outputs": [],
   "source": [
    "class Solution():\n",
    "    def MaximumDepthBinaryTree1(self,root):\n",
    "        if not root: return 0\n",
    "        else:\n",
    "            return max(self.MaximumDepthBinaryTree(root.left),self.MaximumDepthBinaryTree(root.right))+1\n"
   ]
  },
  {
   "cell_type": "code",
   "execution_count": null,
   "metadata": {},
   "outputs": [],
   "source": [
    "# BFS + deque   \n",
    "def maxDepth(self, root):\n",
    "    if not root:\n",
    "        return 0\n",
    "    from collections import deque\n",
    "    queue = deque([(root, 1)])\n",
    "    while queue:\n",
    "        curr, val = queue.popleft()\n",
    "        if not curr.left and not curr.right and not queue:\n",
    "            return val\n",
    "        if curr.left:\n",
    "            queue.append((curr.left, val+1))\n",
    "        if curr.right:\n",
    "            queue.append((curr.right, val+1))"
   ]
  },
  {
   "cell_type": "code",
   "execution_count": null,
   "metadata": {},
   "outputs": [],
   "source": []
  },
  {
   "cell_type": "code",
   "execution_count": null,
   "metadata": {},
   "outputs": [],
   "source": [
    "1103. Distribute Candies to People\n",
    "\n",
    "We distribute some number of candies, to a row of n = num_people people in the following way:\n",
    "\n",
    "We then give 1 candy to the first person, 2 candies to the second person, and so on until we give n candies to the last person.\n",
    "\n",
    "Then, we go back to the start of the row, giving n + 1 candies to the first person, n + 2 candies to the second person, and so on until we give 2 * n candies to the last person.\n",
    "\n",
    "This process repeats (with us giving one more candy each time, and moving to the start of the row after we reach the end) until we run out of candies.  The last person will receive all of our remaining candies (not necessarily one more than the previous gift).\n",
    "\n",
    "Return an array (of length num_people and sum candies) that represents the final distribution of candies.\n",
    "\n",
    " \n",
    "\n",
    "Example 1:\n",
    "\n",
    "Input: candies = 7, num_people = 4\n",
    "Output: [1,2,3,1]\n",
    "Explanation:\n",
    "On the first turn, ans[0] += 1, and the array is [1,0,0,0].\n",
    "On the second turn, ans[1] += 2, and the array is [1,2,0,0].\n",
    "On the third turn, ans[2] += 3, and the array is [1,2,3,0].\n",
    "On the fourth turn, ans[3] += 1 (because there is only one candy left), and the final array is [1,2,3,1].\n",
    "Example 2:\n",
    "\n",
    "Input: candies = 10, num_people = 3\n",
    "Output: [5,2,3]\n",
    "Explanation: \n",
    "On the first turn, ans[0] += 1, and the array is [1,0,0].\n",
    "On the second turn, ans[1] += 2, and the array is [1,2,0].\n",
    "On the third turn, ans[2] += 3, and the array is [1,2,3].\n",
    "On the fourth turn, ans[0] += 4, and the final array is [5,2,3].\n",
    " \n",
    "\n",
    "Constraints:\n",
    "\n",
    "1 <= candies <= 10^9\n",
    "1 <= num_people <= 1000"
   ]
  },
  {
   "cell_type": "code",
   "execution_count": null,
   "metadata": {},
   "outputs": [],
   "source": [
    "    def distributeCandies(self, candies, n):\n",
    "        res = [0] * n\n",
    "        i = 0\n",
    "        while candies > 0:\n",
    "            res[i % n] += min(candies, i + 1)\n",
    "            candies -= i + 1\n",
    "            i += 1\n",
    "        return res"
   ]
  },
  {
   "cell_type": "code",
   "execution_count": null,
   "metadata": {},
   "outputs": [],
   "source": []
  },
  {
   "cell_type": "code",
   "execution_count": null,
   "metadata": {},
   "outputs": [],
   "source": [
    "884. Uncommon Words from Two Sentences\n",
    "\n",
    "We are given two sentences A and B.  (A sentence is a string of space separated words.  Each word consists only of lowercase letters.)\n",
    "\n",
    "A word is uncommon if it appears exactly once in one of the sentences, and does not appear in the other sentence.\n",
    "\n",
    "Return a list of all uncommon words. \n",
    "\n",
    "You may return the list in any order.\n",
    "\n",
    " \n",
    "\n",
    "Example 1:\n",
    "\n",
    "Input: A = \"this apple is sweet\", B = \"this apple is sour\"\n",
    "Output: [\"sweet\",\"sour\"]\n",
    "Example 2:\n",
    "\n",
    "Input: A = \"apple apple\", B = \"banana\"\n",
    "Output: [\"banana\"]\n",
    " \n",
    "\n",
    "Note:\n",
    "\n",
    "0 <= A.length <= 200\n",
    "0 <= B.length <= 200\n",
    "A and B both contain only spaces and lowercase letters."
   ]
  },
  {
   "cell_type": "code",
   "execution_count": null,
   "metadata": {},
   "outputs": [],
   "source": [
    "def uncommonFromSentences(self, A, B):\n",
    "        c = collections.Counter((A + \" \" + B).split())\n",
    "        return [w for w in c if c[w] == 1]"
   ]
  },
  {
   "cell_type": "code",
   "execution_count": null,
   "metadata": {},
   "outputs": [],
   "source": []
  },
  {
   "cell_type": "code",
   "execution_count": null,
   "metadata": {},
   "outputs": [],
   "source": [
    "136. Single Number\n",
    "\n",
    "Given a non-empty array of integers, every element appears twice except for one. Find that single one.\n",
    "\n",
    "Note:\n",
    "\n",
    "Your algorithm should have a linear runtime complexity. Could you implement it without using extra memory?\n",
    "\n",
    "Example 1:\n",
    "\n",
    "Input: [2,2,1]\n",
    "Output: 1\n",
    "Example 2:\n",
    "\n",
    "Input: [4,1,2,1,2]\n",
    "Output: 4"
   ]
  },
  {
   "cell_type": "code",
   "execution_count": null,
   "metadata": {},
   "outputs": [],
   "source": [
    "class Solution():\n",
    "    def SingleNumber(self,nums):\n",
    "        res=0\n",
    "        for n in nums:\n",
    "            res ^= n\n",
    "        return res"
   ]
  },
  {
   "cell_type": "code",
   "execution_count": null,
   "metadata": {},
   "outputs": [],
   "source": [
    "return (2*sum(set(nums))-sum(nums))"
   ]
  },
  {
   "cell_type": "code",
   "execution_count": null,
   "metadata": {},
   "outputs": [],
   "source": []
  },
  {
   "cell_type": "code",
   "execution_count": null,
   "metadata": {},
   "outputs": [],
   "source": [
    "669. Trim a Binary Search Tree\n",
    "\n",
    "Given a binary search tree and the lowest and highest boundaries as L and R, trim the tree so that all its elements lies in [L, R] (R >= L). You might need to change the root of the tree, so the result should return the new root of the trimmed binary search tree.\n",
    "\n",
    "Example 1:\n",
    "Input: \n",
    "    1\n",
    "   / \\\n",
    "  0   2\n",
    "\n",
    "  L = 1\n",
    "  R = 2\n",
    "\n",
    "Output: \n",
    "    1\n",
    "      \\\n",
    "       2\n",
    "Example 2:\n",
    "Input: \n",
    "    3\n",
    "   / \\\n",
    "  0   4\n",
    "   \\\n",
    "    2\n",
    "   /\n",
    "  1\n",
    "\n",
    "  L = 1\n",
    "  R = 3\n",
    "\n",
    "Output: \n",
    "      3\n",
    "     / \n",
    "   2   \n",
    "  /\n",
    " 1"
   ]
  },
  {
   "cell_type": "code",
   "execution_count": null,
   "metadata": {},
   "outputs": [],
   "source": [
    "#Let trim(node) be the answer for the subtree at that node.\n",
    "\n",
    "#When node.val > R, we know the trimmed binary tree must occur to the left of the node. Similarly, when node.val < L, the trimmed binary tree occurs to the right of the node. Otherwise, we will trim both sides of the tree.\n",
    "\n",
    "def trimBST(self, root, L, R):\n",
    "    def trim(node):\n",
    "        if node:\n",
    "            if node.val > R:\n",
    "                return trim(node.left)\n",
    "            elif node.val < L:\n",
    "                return trim(node.right)\n",
    "            else:\n",
    "                node.left = trim(node.left)\n",
    "                node.right = trim(node.right)\n",
    "                return node\n",
    "\n",
    "    return trim(root)"
   ]
  },
  {
   "cell_type": "code",
   "execution_count": null,
   "metadata": {},
   "outputs": [],
   "source": [
    "class Solution(object):\n",
    "    def trimBST(self, root, L, R):\n",
    "        \"\"\"\n",
    "        :type root: TreeNode\n",
    "        :type L: int\n",
    "        :type R: int\n",
    "        :rtype: TreeNode\n",
    "        \"\"\"\n",
    "        # Time: O(n)\n",
    "        # Space: O(lgn)\n",
    "        def trim(node):\n",
    "            if not node:\n",
    "                return None\n",
    "            node.left, node.right = trim(node.left), trim(node.right)\n",
    "            # Node's value is not within range, \n",
    "            # select one or none of its children as replacement.\n",
    "            if not (L <= node.val <= R):\n",
    "                node = node.left if node.left else node.right\n",
    "            return node\n",
    "        return trim(root)"
   ]
  },
  {
   "cell_type": "code",
   "execution_count": null,
   "metadata": {},
   "outputs": [],
   "source": [
    "class Solution(object):\n",
    "    def trimBST(self, root, L, R):\n",
    "        \"\"\"\n",
    "        :type root: TreeNode\n",
    "        :type L: int\n",
    "        :type R: int\n",
    "        :rtype: TreeNode\n",
    "        \"\"\"\n",
    "        if root:\n",
    "            if L <= root.val <= R:\n",
    "                root.left  = self.trimBST(root.left, L, R)\n",
    "                root.right = self.trimBST(root.right,L, R) \n",
    "                return root\n",
    "            if root.val < L:\n",
    "                return self.trimBST(root.right,L, R) \n",
    "            elif root.val > R:\n",
    "                return self.trimBST(root.left,L, R)\n",
    "        return None"
   ]
  },
  {
   "cell_type": "code",
   "execution_count": null,
   "metadata": {},
   "outputs": [],
   "source": []
  },
  {
   "cell_type": "code",
   "execution_count": null,
   "metadata": {},
   "outputs": [],
   "source": [
    "577 Employee Bonus \n",
    "#SQL\n",
    "select name, bonus from Employee a left join Bonus b where a.empID=b.empID and bonus<1000 or bonus is NULL;"
   ]
  },
  {
   "cell_type": "code",
   "execution_count": null,
   "metadata": {},
   "outputs": [],
   "source": []
  },
  {
   "cell_type": "code",
   "execution_count": null,
   "metadata": {},
   "outputs": [],
   "source": [
    "266 Palindrome Permutation\n",
    "Given a string, determine if a permutation of the string could form a\n",
    "palindrome.\n",
    "For example,\n",
    "\"code\" -> False, \"aab\" -> True, \"carerac\" -> True."
   ]
  },
  {
   "cell_type": "code",
   "execution_count": 146,
   "metadata": {},
   "outputs": [
    {
     "name": "stdout",
     "output_type": "stream",
     "text": [
      "Counter({'c': 2, 'a': 2, 'r': 2, 'e': 1})\n"
     ]
    },
    {
     "data": {
      "text/plain": [
       "True"
      ]
     },
     "execution_count": 146,
     "metadata": {},
     "output_type": "execute_result"
    }
   ],
   "source": [
    "import collections\n",
    "class Solution():\n",
    "    def PalindromePermutation(self,s):\n",
    "       # return list(collections.Counter(s).values()).count(1)<=1\n",
    "        c = collections.Counter(s)\n",
    "        print(c)\n",
    "        return len([w for w in c if c[w] == 1])<=1\n",
    "strs=\"carerac\"\n",
    "a=Solution()\n",
    "a.PalindromePermutation(strs)"
   ]
  },
  {
   "cell_type": "code",
   "execution_count": null,
   "metadata": {},
   "outputs": [],
   "source": [
    "429 N-ary Tree Level Order Traversal\n",
    "Given an n-ary tree, return the level order traversal of its nodes' values. (ie, from left to right, level by level).\n",
    "\n",
    "For example, given a 3-ary tree:\n",
    "\n",
    "\n",
    "\n",
    "We should return its level order traversal:\n",
    "\n",
    "[\n",
    "     [1],\n",
    "     [3,2,4],\n",
    "     [5,6]\n",
    "]\n",
    " \n",
    "\n",
    "Note:\n",
    "\n",
    "The depth of the tree is at most 1000.\n",
    "The total number of nodes is at most 5000."
   ]
  },
  {
   "cell_type": "code",
   "execution_count": null,
   "metadata": {},
   "outputs": [],
   "source": [
    "class solution():\n",
    "    def levelOrder(self, root):\n",
    "        q,res=[root],[]\n",
    "        while any(q):\n",
    "            res.append([node.val for node in q])\n",
    "            q = [child for node in q for child in node.chidren if child]\n",
    "        return res"
   ]
  },
  {
   "cell_type": "code",
   "execution_count": null,
   "metadata": {},
   "outputs": [],
   "source": [
    "def levelOrder(self, root):\n",
    "    \"\"\"\n",
    "    :type root: Node\n",
    "    :rtype: List[List[int]]\n",
    "    \"\"\"\n",
    "    if not root:\n",
    "        return []\n",
    "    queue = [root]\n",
    "    res = []\n",
    "    while queue:\n",
    "        temp = []\n",
    "        tempq = []\n",
    "        for node in queue:\n",
    "            temp.append(node.val)\n",
    "            if node.children:\n",
    "                for child in node.children:\n",
    "                    tempq.append(child)\n",
    "        res.append(temp)\n",
    "        queue = tempq\n",
    "    return res"
   ]
  },
  {
   "cell_type": "code",
   "execution_count": null,
   "metadata": {},
   "outputs": [],
   "source": []
  },
  {
   "cell_type": "code",
   "execution_count": null,
   "metadata": {},
   "outputs": [],
   "source": [
    "751 IP to CIDR\n",
    "Given a start IP address ip and a number of ips we need to cover n, return a representation of the range as a list (of smallest possible length) of CIDR blocks.\n",
    "\n",
    "A CIDR block is a string consisting of an IP, followed by a slash, and then the prefix length. For example: \"123.45.67.89/20\". That prefix length \"20\" represents the number of common prefix bits in the specified range.\n",
    "\n",
    "Example 1:\n",
    "Input: ip = \"255.0.0.7\", n = 10\n",
    "Output: [\"255.0.0.7/32\",\"255.0.0.8/29\",\"255.0.0.16/32\"]\n",
    "Explanation:\n",
    "The initial ip address, when converted to binary, looks like this (spaces added for clarity):\n",
    "255.0.0.7 -> 11111111 00000000 00000000 00000111\n",
    "The address \"255.0.0.7/32\" specifies all addresses with a common prefix of 32 bits to the given address,\n",
    "ie. just this one address.\n",
    "\n",
    "The address \"255.0.0.8/29\" specifies all addresses with a common prefix of 29 bits to the given address:\n",
    "255.0.0.8 -> 11111111 00000000 00000000 00001000\n",
    "Addresses with common prefix of 29 bits are:\n",
    "11111111 00000000 00000000 00001000\n",
    "11111111 00000000 00000000 00001001\n",
    "11111111 00000000 00000000 00001010\n",
    "11111111 00000000 00000000 00001011\n",
    "11111111 00000000 00000000 00001100\n",
    "11111111 00000000 00000000 00001101\n",
    "11111111 00000000 00000000 00001110\n",
    "11111111 00000000 00000000 00001111\n",
    "\n",
    "The address \"255.0.0.16/32\" specifies all addresses with a common prefix of 32 bits to the given address,\n",
    "ie. just 11111111 00000000 00000000 00010000.\n",
    "\n",
    "In total, the answer specifies the range of 10 ips starting with the address 255.0.0.7 .\n",
    "\n",
    "There were other representations, such as:\n",
    "[\"255.0.0.7/32\",\"255.0.0.8/30\", \"255.0.0.12/30\", \"255.0.0.16/32\"],\n",
    "but our answer was the shortest possible.\n",
    "\n",
    "Also note that a representation beginning with say, \"255.0.0.7/30\" would be incorrect,\n",
    "because it includes addresses like 255.0.0.4 = 11111111 00000000 00000000 00000100 \n",
    "that are outside the specified range.\n",
    "Note:\n",
    "ip will be a valid IPv4 address.\n",
    "Every implied address ip + x (for x < n) will be a valid IPv4 address.\n",
    "n will be an integer in the range [1, 1000].\n"
   ]
  },
  {
   "cell_type": "code",
   "execution_count": 946,
   "metadata": {},
   "outputs": [
    {
     "name": "stdout",
     "output_type": "stream",
     "text": [
      "n= 10 start= 4278190087 mask 32 n.bit_length 4\n",
      "['255.0.0.7/32']\n",
      "n= 9 start= 4278190088 mask 29 n.bit_length 4\n",
      "['255.0.0.7/32', '255.0.0.8/29']\n",
      "n= 1 start= 4278190096 mask 32 n.bit_length 1\n",
      "['255.0.0.7/32', '255.0.0.8/29', '255.0.0.16/32']\n"
     ]
    },
    {
     "data": {
      "text/plain": [
       "['255.0.0.7/32', '255.0.0.8/29', '255.0.0.16/32']"
      ]
     },
     "execution_count": 946,
     "metadata": {},
     "output_type": "execute_result"
    }
   ],
   "source": [
    "class solution():\n",
    "    def ipToInt(self,ip):\n",
    "        ans=0\n",
    "        for x in ip.split('.'):\n",
    "            ans = 256*ans+int(x)\n",
    "        return ans\n",
    "    \n",
    "    def intToIp(self,x):\n",
    "        return \".\".join(str((x>>i)%256) for i in (24,16,8,0))\n",
    "    \n",
    "    def ipToCIDR(self,ip,n):\n",
    "        start = self.ipToInt(ip)\n",
    "        ans=[]\n",
    "        while n:\n",
    "            mask = max(33-(start & -start).bit_length(), 33-n.bit_length())\n",
    "            ans.append(self.intToIp(start)+'/'+str(mask))\n",
    "            print(\"n=\",n,\"start=\",start,\"mask\",mask, \"n.bit_length\",n.bit_length())\n",
    "            print(ans)\n",
    "            start += 1<<(32-mask)\n",
    "            n -= 1<<(32-mask)\n",
    "        return ans\n",
    "ip=\"255.0.0.7\"\n",
    "n=10\n",
    "a=solution()\n",
    "a.ipToCIDR(ip,n)"
   ]
  },
  {
   "cell_type": "code",
   "execution_count": null,
   "metadata": {},
   "outputs": [],
   "source": []
  },
  {
   "cell_type": "code",
   "execution_count": null,
   "metadata": {},
   "outputs": [],
   "source": [
    "496. Next Greater Element I\n",
    "\n",
    "You are given two arrays (without duplicates) nums1 and nums2 where nums1’s elements are subset of nums2. Find all the next greater numbers for nums1's elements in the corresponding places of nums2.\n",
    "\n",
    "The Next Greater Number of a number x in nums1 is the first greater number to its right in nums2. If it does not exist, output -1 for this number.\n",
    "\n",
    "Example 1:\n",
    "Input: nums1 = [4,1,2], nums2 = [1,3,4,2].\n",
    "Output: [-1,3,-1]\n",
    "Explanation:\n",
    "    For number 4 in the first array, you cannot find the next greater number for it in the second array, so output -1.\n",
    "    For number 1 in the first array, the next greater number for it in the second array is 3.\n",
    "    For number 2 in the first array, there is no next greater number for it in the second array, so output -1.\n",
    "Example 2:\n",
    "Input: nums1 = [2,4], nums2 = [1,2,3,4].\n",
    "Output: [3,-1]\n",
    "Explanation:\n",
    "    For number 2 in the first array, the next greater number for it in the second array is 3.\n",
    "    For number 4 in the first array, there is no next greater number for it in the second array, so output -1.\n",
    "Note:\n",
    "All elements in nums1 and nums2 are unique.\n",
    "The length of both nums1 and nums2 would not exceed 1000.\n"
   ]
  },
  {
   "cell_type": "code",
   "execution_count": null,
   "metadata": {},
   "outputs": [],
   "source": [
    "class solution():\n",
    "    def nextGreaterElement(self,nums1, nums2):\n",
    "        def helper(n1):\n",
    "            for n2 in nums2[nums2.index(n1):]:\n",
    "                if n2 > n1: \n",
    "                    return n2\n",
    "                return -1\n",
    "        return map(helper,nums1)"
   ]
  },
  {
   "cell_type": "code",
   "execution_count": null,
   "metadata": {},
   "outputs": [],
   "source": [
    "#Using a decreasing stack to track next greater number on the right. \n",
    "#For any popped element, we check if it is in findNums. \n",
    "#If yes, write the current number into its position in answer.\n",
    "\n",
    "class solution():\n",
    "    def nextGreaterElement(self,nums1,nums2):\n",
    "        d={}\n",
    "        res=[-1]*len(nums1)\n",
    "        for i, n1 in enumerate(nums1):\n",
    "            d[n1]=i\n",
    "        stack=[]\n",
    "        for n2 in nums2:\n",
    "            while stack and stack[-1]<n2:\n",
    "                top = stack.pop()\n",
    "                if top in d:\n",
    "                    res[d[top]]=n2\n",
    "            stack.append(n2)\n",
    "        return res"
   ]
  },
  {
   "cell_type": "code",
   "execution_count": null,
   "metadata": {},
   "outputs": [],
   "source": []
  },
  {
   "cell_type": "code",
   "execution_count": null,
   "metadata": {},
   "outputs": [],
   "source": [
    "800 Similar RGB Color\n",
    "\n",
    "In the following, every capital letter represents some hexadecimal digit from 0 to f.\n",
    "\n",
    "The red-green-blue color \"#AABBCC\" can be written as \"#ABC\" in shorthand.  For example, \"#15c\" is shorthand for the color \"#1155cc\".\n",
    "\n",
    "Now, say the similarity between two colors \"#ABCDEF\" and \"#UVWXYZ\" is -(AB - UV)^2 - (CD - WX)^2 - (EF - YZ)^2.\n",
    "\n",
    "Given the color \"#ABCDEF\", return a 7 character color that is most similar to #ABCDEF, and has a shorthand (that is, it can be represented as some \"#XYZ\"\n",
    "\n",
    "Example 1:\n",
    "Input: color = \"#09f166\"\n",
    "Output: \"#11ee66\"\n",
    "Explanation:  \n",
    "The similarity is -(0x09 - 0x11)^2 -(0xf1 - 0xee)^2 - (0x66 - 0x66)^2 = -64 -9 -0 = -73.\n",
    "This is the highest among any shorthand color.\n",
    "Note:\n",
    "\n",
    "color is a string of length 7.\n",
    "color is a valid RGB color: for i > 0, color[i] is a hexadecimal digit from 0 to f\n",
    "Any answer which has the same (highest) similarity as the best answer will be accepted.\n",
    "All inputs and outputs should use lowercase letters, and the output is 7 characters."
   ]
  },
  {
   "cell_type": "code",
   "execution_count": null,
   "metadata": {},
   "outputs": [],
   "source": [
    "https://www.cnblogs.com/grandyang/p/9296602.html"
   ]
  },
  {
   "cell_type": "code",
   "execution_count": 147,
   "metadata": {},
   "outputs": [
    {
     "data": {
      "text/plain": [
       "'#11ee66'"
      ]
     },
     "execution_count": 147,
     "metadata": {},
     "output_type": "execute_result"
    }
   ],
   "source": [
    "class solution():\n",
    "    def SimilarRGBColor(self,color):\n",
    "        res='#'\n",
    "        for i in range(1,len(color),2):\n",
    "            q, r = divmod(int(color[i:i+2], 16), 17)\n",
    "            if r>8: q+=1\n",
    "            res += '{:02x}'.format(17*q)\n",
    "        return res\n",
    "    \n",
    "color = \"#09f166\"\n",
    "a=solution()\n",
    "a.SimilarRGBColor(color)\n",
    "        "
   ]
  },
  {
   "cell_type": "code",
   "execution_count": null,
   "metadata": {},
   "outputs": [],
   "source": [
    "class Solution(object):\n",
    "    def similarRGB(self, color):\n",
    "        \"\"\"\n",
    "        :type color: str\n",
    "        :rtype: str\n",
    "        \"\"\"\n",
    "        def getClosest(s):\n",
    "            m = ['00','11','22','33','44','55','66','77','88','99','aa','bb','cc','dd','ee','ff']\n",
    "            return min(m, key = lambda x: abs(int(x, 16)- int(s,16)))\n",
    "        \n",
    "        res = ''\n",
    "        color = color[1:]\n",
    "        for i in range(3):\n",
    "            s = color[2*i:2*i+2]\n",
    "            res += getClosest(s)\n",
    "        return '#' +res\n"
   ]
  },
  {
   "cell_type": "code",
   "execution_count": null,
   "metadata": {},
   "outputs": [],
   "source": []
  },
  {
   "cell_type": "code",
   "execution_count": null,
   "metadata": {},
   "outputs": [],
   "source": [
    "575. Distribute Candies\n",
    "\n",
    "Given an integer array with even length, where different numbers in this array represent different kinds of candies. Each number means one candy of the corresponding kind. You need to distribute these candies equally in number to brother and sister. Return the maximum number of kinds of candies the sister could gain.\n",
    "Example 1:\n",
    "Input: candies = [1,1,2,2,3,3]\n",
    "Output: 3\n",
    "Explanation:\n",
    "There are three different kinds of candies (1, 2 and 3), and two candies for each kind.\n",
    "Optimal distribution: The sister has candies [1,2,3] and the brother has candies [1,2,3], too. \n",
    "The sister has three different kinds of candies. \n",
    "Example 2:\n",
    "Input: candies = [1,1,2,3]\n",
    "Output: 2\n",
    "Explanation: For example, the sister has candies [2,3] and the brother has candies [1,1]. \n",
    "The sister has two different kinds of candies, the brother has only one kind of candies. \n",
    "Note:\n",
    "\n",
    "The length of the given array is in range [2, 10,000], and will be even.\n",
    "The number in given array is in range [-100,000, 100,000]."
   ]
  },
  {
   "cell_type": "code",
   "execution_count": null,
   "metadata": {},
   "outputs": [],
   "source": [
    "def distributeCandies(self, candies):\n",
    "    return min(len(candies) / 2, len(set(candies)))"
   ]
  },
  {
   "cell_type": "code",
   "execution_count": null,
   "metadata": {},
   "outputs": [],
   "source": []
  },
  {
   "cell_type": "code",
   "execution_count": null,
   "metadata": {},
   "outputs": [],
   "source": [
    "762. Prime Number of Set Bits in Binary Representation\n",
    "\n",
    "Given two integers L and R, find the count of numbers in the range [L, R] (inclusive) having a prime number of set bits in their binary representation.\n",
    "\n",
    "(Recall that the number of set bits an integer has is the number of 1s present when written in binary. For example, 21 written in binary is 10101 which has 3 set bits. Also, 1 is not a prime.)\n",
    "\n",
    "Example 1:\n",
    "\n",
    "Input: L = 6, R = 10\n",
    "Output: 4\n",
    "Explanation:\n",
    "6 -> 110 (2 set bits, 2 is prime)\n",
    "7 -> 111 (3 set bits, 3 is prime)\n",
    "9 -> 1001 (2 set bits , 2 is prime)\n",
    "10->1010 (2 set bits , 2 is prime)\n",
    "Example 2:\n",
    "\n",
    "Input: L = 10, R = 15\n",
    "Output: 5\n",
    "Explanation:\n",
    "10 -> 1010 (2 set bits, 2 is prime)\n",
    "11 -> 1011 (3 set bits, 3 is prime)\n",
    "12 -> 1100 (2 set bits, 2 is prime)\n",
    "13 -> 1101 (3 set bits, 3 is prime)\n",
    "14 -> 1110 (3 set bits, 3 is prime)\n",
    "15 -> 1111 (4 set bits, 4 is not prime)\n",
    "Note:\n",
    "\n",
    "L, R will be integers L <= R in the range [1, 10^6].\n",
    "R - L will be at most 10000."
   ]
  },
  {
   "cell_type": "code",
   "execution_count": null,
   "metadata": {},
   "outputs": [],
   "source": [
    "def countPrimeSetBits(self, L, R):\n",
    "    return sum(bin(i).count('1') in (2,3,5,7,11,13,17,19,23,29,31) for i in range(L,R+1))"
   ]
  },
  {
   "cell_type": "code",
   "execution_count": null,
   "metadata": {},
   "outputs": [],
   "source": [
    "#a full version:\n",
    "class Solution:\n",
    "    def countPrimeSetBits(self, L: int, R: int) -> int:\n",
    "        def is_prime(n):\n",
    "            if n > 1:       # negative and 0 or 1 aren't prime\n",
    "                for i in range(2, n):       # to check if there are any divisors\n",
    "                    if n % i == 0:      # if there's divisor\n",
    "                        return False        # i is not prime\n",
    "\n",
    "                return True       # if the whole loop ends without executing if, i is prime\n",
    "\n",
    "            else:\n",
    "                return False        # if it's < 1 it's not prime\n",
    "\n",
    "        count = 0\n",
    "        for j in range(L, R + 1):       # R is inclusive so it has to be + 1\n",
    "            n_ones = len([1 for bit in list(bin(j))[2:] if bit == '1'])     # list comprehension creates a list of ones and checks its length\n",
    "            if is_prime(n_ones):\n",
    "                count += 1      # add 1 if the number is prime\n",
    "\n",
    "        return count\n",
    "    "
   ]
  },
  {
   "cell_type": "code",
   "execution_count": 958,
   "metadata": {},
   "outputs": [
    {
     "data": {
      "text/plain": [
       "5"
      ]
     },
     "execution_count": 958,
     "metadata": {},
     "output_type": "execute_result"
    }
   ],
   "source": [
    "class solution():\n",
    "    def countPrimeSetBits(self, L, R):\n",
    "        \n",
    "        def is_prime(n):\n",
    "            return all(n%j for j in range(2, int(n**0.5)+1)) and n>1\n",
    "    \n",
    "        t = map(is_prime, [bin(i).count('1') for i in range(L,R+1)])\n",
    "        return sum(t)\n",
    "\n",
    "L,R=10,15\n",
    "a=solution()\n",
    "a.countPrimeSetBits(L,R)"
   ]
  },
  {
   "cell_type": "code",
   "execution_count": null,
   "metadata": {},
   "outputs": [],
   "source": []
  },
  {
   "cell_type": "code",
   "execution_count": null,
   "metadata": {},
   "outputs": [],
   "source": [
    "412. Fizz Buzz\n",
    "\n",
    "Write a program that outputs the string representation of numbers from 1 to n.\n",
    "\n",
    "But for multiples of three it should output “Fizz” instead of the number and for the multiples of five output “Buzz”. For numbers which are multiples of both three and five output “FizzBuzz”.\n",
    "\n",
    "Example:\n",
    "\n",
    "n = 15,\n",
    "\n",
    "Return:\n",
    "[\n",
    "    \"1\",\n",
    "    \"2\",\n",
    "    \"Fizz\",\n",
    "    \"4\",\n",
    "    \"Buzz\",\n",
    "    \"Fizz\",\n",
    "    \"7\",\n",
    "    \"8\",\n",
    "    \"Fizz\",\n",
    "    \"Buzz\",\n",
    "    \"11\",\n",
    "    \"Fizz\",\n",
    "    \"13\",\n",
    "    \"14\",\n",
    "    \"FizzBuzz\"\n",
    "]\n"
   ]
  },
  {
   "cell_type": "code",
   "execution_count": null,
   "metadata": {},
   "outputs": [],
   "source": [
    "def fizzBuzz(self, n):\n",
    "    return ['Fizz' * (not i % 3) + 'Buzz' * (not i % 5) or str(i) for i in range(1, n+1)]"
   ]
  },
  {
   "cell_type": "code",
   "execution_count": null,
   "metadata": {},
   "outputs": [],
   "source": []
  },
  {
   "cell_type": "code",
   "execution_count": null,
   "metadata": {},
   "outputs": [],
   "source": [
    "868. Binary Gap\n",
    "\n",
    "Given a positive integer N, find and return the longest distance between two consecutive 1's in the binary representation of N.\n",
    "\n",
    "If there aren't two consecutive 1's, return 0.\n",
    "\n",
    " \n",
    "\n",
    "Example 1:\n",
    "\n",
    "Input: 22\n",
    "Output: 2\n",
    "Explanation: \n",
    "22 in binary is 0b10110.\n",
    "In the binary representation of 22, there are three ones, and two consecutive pairs of 1's.\n",
    "The first consecutive pair of 1's have distance 2.\n",
    "The second consecutive pair of 1's have distance 1.\n",
    "The answer is the largest of these two distances, which is 2.\n",
    "Example 2:\n",
    "\n",
    "Input: 5\n",
    "Output: 2\n",
    "Explanation: \n",
    "5 in binary is 0b101.\n",
    "Example 3:\n",
    "\n",
    "Input: 6\n",
    "Output: 1\n",
    "Explanation: \n",
    "6 in binary is 0b110.\n",
    "Example 4:\n",
    "\n",
    "Input: 8\n",
    "Output: 0\n",
    "Explanation: \n",
    "8 in binary is 0b1000.\n",
    "There aren't any consecutive pairs of 1's in the binary representation of 8, so we return 0.\n",
    " \n",
    "\n",
    "Note:\n",
    "\n",
    "1 <= N <= 10^9"
   ]
  },
  {
   "cell_type": "code",
   "execution_count": 162,
   "metadata": {},
   "outputs": [
    {
     "name": "stdout",
     "output_type": "stream",
     "text": [
      "2\n"
     ]
    }
   ],
   "source": [
    "res=[len(s)+1 for s in str(bin(22))[2:].split('1')[:-1]]\n",
    "print(max(res))"
   ]
  },
  {
   "cell_type": "code",
   "execution_count": null,
   "metadata": {},
   "outputs": [],
   "source": [
    "def binaryGap(self, N):\n",
    "        index = [i for i, v in enumerate(bin(N)) if v == '1']\n",
    "        return max([b - a for a, b in zip(index, index[1:])] or [0])"
   ]
  },
  {
   "cell_type": "code",
   "execution_count": null,
   "metadata": {},
   "outputs": [],
   "source": [
    "class Solution:\n",
    "    def binaryGap(self, N):\n",
    "        pre = dist = 0\n",
    "        for i, c in enumerate(bin(N)[2:]):\n",
    "            if c == \"1\":\n",
    "                dist = max(dist, i - pre)\n",
    "                pre = i\n",
    "        return dist"
   ]
  },
  {
   "cell_type": "code",
   "execution_count": null,
   "metadata": {},
   "outputs": [],
   "source": []
  },
  {
   "cell_type": "code",
   "execution_count": null,
   "metadata": {},
   "outputs": [],
   "source": [
    "637. Average of Levels in Binary Tree\n",
    "\n",
    "Given a non-empty binary tree, return the average value of the nodes on each level in the form of an array.\n",
    "Example 1:\n",
    "Input:\n",
    "    3\n",
    "   / \\\n",
    "  9  20\n",
    "    /  \\\n",
    "   15   7\n",
    "Output: [3, 14.5, 11]\n",
    "Explanation:\n",
    "The average value of nodes on level 0 is 3,  on level 1 is 14.5, and on level 2 is 11. Hence return [3, 14.5, 11].\n",
    "Note:\n",
    "The range of node's value is in the range of 32-bit signed integer.\n"
   ]
  },
  {
   "cell_type": "code",
   "execution_count": null,
   "metadata": {},
   "outputs": [],
   "source": [
    "class solution():\n",
    "    def averageOfLevels(self,root):\n",
    "        res=[]\n",
    "        def dfs(node,depth=0):\n",
    "            if node:\n",
    "                if len(res)<=depth:\n",
    "                    res.append([0,0])\n",
    "                res[depth][0] += node.val\n",
    "                res[depth][1] += 1\n",
    "                dfs(node.left,depth+1)\n",
    "                dfs(node.right,depth+1)\n",
    "        dfs(root)\n",
    "        return [val_node*1./num_node for val_node, num_node in res]\n"
   ]
  },
  {
   "cell_type": "code",
   "execution_count": null,
   "metadata": {},
   "outputs": [],
   "source": [
    "class Solution(object):\n",
    "    def averageOfLevels(self, root):\n",
    "        \"\"\"\n",
    "        :type root: TreeNode\n",
    "        :rtype: List[float]\n",
    "        \"\"\"\n",
    "        stack = [(root, 1)] if root else []\n",
    "        total = collections.defaultdict(int)\n",
    "        count = collections.defaultdict(int)\n",
    "        while stack:\n",
    "            node, level = stack.pop()\n",
    "            total[level] += node.val\n",
    "            count[level] += 1\n",
    "            if node.left:\n",
    "                stack.append((node.left, level+1))\n",
    "            if node.right:\n",
    "                stack.append((node.right, level+1))\n",
    "        return [1.0 * total[level] / count[level] for level in sorted(total.keys())]"
   ]
  },
  {
   "cell_type": "code",
   "execution_count": null,
   "metadata": {},
   "outputs": [],
   "source": [
    "def averageOfLevels(self, root):\n",
    "        \"\"\"\n",
    "        :type root: TreeNode\n",
    "        :rtype: List[float]\n",
    "        \"\"\"\n",
    "        res=[]\n",
    "        if not root: return res\n",
    "        q=[root]\n",
    "        while q:\n",
    "            q1=[]\n",
    "            total=0\n",
    "            cnt=0\n",
    "            while q:\n",
    "                node =q.pop()\n",
    "                if node.left: q1.append(node.left)\n",
    "                if node.right: q1.append(node.right)\n",
    "                total+=node.val\n",
    "                cnt+=1\n",
    "            res.append(total*1.0/cnt)\n",
    "            q=list(q1)\n",
    "        return res"
   ]
  },
  {
   "cell_type": "code",
   "execution_count": null,
   "metadata": {},
   "outputs": [],
   "source": []
  },
  {
   "cell_type": "code",
   "execution_count": null,
   "metadata": {},
   "outputs": [],
   "source": [
    "566. Reshape the Matrix\n",
    "\n",
    "In MATLAB, there is a very useful function called 'reshape', which can reshape a matrix into a new one with different size but keep its original data.\n",
    "\n",
    "You're given a matrix represented by a two-dimensional array, and two positive integers r and c representing the row number and column number of the wanted reshaped matrix, respectively.\n",
    "\n",
    "The reshaped matrix need to be filled with all the elements of the original matrix in the same row-traversing order as they were.\n",
    "\n",
    "If the 'reshape' operation with given parameters is possible and legal, output the new reshaped matrix; Otherwise, output the original matrix.\n",
    "\n",
    "Example 1:\n",
    "Input: \n",
    "nums = \n",
    "[[1,2],\n",
    " [3,4]]\n",
    "r = 1, c = 4\n",
    "Output: \n",
    "[[1,2,3,4]]\n",
    "Explanation:\n",
    "The row-traversing of nums is [1,2,3,4]. The new reshaped matrix is a 1 * 4 matrix, fill it row by row by using the previous list.\n",
    "Example 2:\n",
    "Input: \n",
    "nums = \n",
    "[[1,2],\n",
    " [3,4]]\n",
    "r = 2, c = 4\n",
    "Output: \n",
    "[[1,2],\n",
    " [3,4]]\n",
    "Explanation:\n",
    "There is no way to reshape a 2 * 2 matrix to a 2 * 4 matrix. So output the original matrix.\n",
    "Note:\n",
    "The height and width of the given matrix is in range [1, 100].\n",
    "The given r and c are all positive.\n"
   ]
  },
  {
   "cell_type": "code",
   "execution_count": null,
   "metadata": {},
   "outputs": [],
   "source": [
    "def matrixReshape(self, A, nR, nC):\n",
    "    if len(A) * len(A[0]) != nR * nC:\n",
    "        return A\n",
    "        \n",
    "    vals = (val for row in A for val in row)\n",
    "    return [[vals.next() for c in range(nC)] for r in range(nR)]\n",
    "\n",
    "#Alternative solution without generators:\n",
    "\n",
    "def matrixReshape(self, A, nR, nC):\n",
    "    if len(A) * len(A[0]) != nR * nC:\n",
    "        return A\n",
    "        \n",
    "    vals = [val for row in A for val in row]\n",
    "    ans = [[None] * nC for _ in range(nR)]\n",
    "    i = 0\n",
    "    for r in range(nR):\n",
    "        for c in range(nC):\n",
    "            ans[r][c] = vals[i]\n",
    "            i += 1\n",
    "    return ans"
   ]
  },
  {
   "cell_type": "code",
   "execution_count": null,
   "metadata": {},
   "outputs": [],
   "source": [
    "def matrixReshape(self,nums,r,c):\n",
    "    if not nums:\n",
    "            return []\n",
    "        arr = []\n",
    "        if len(nums)*len(nums[0]) != r*c:\n",
    "            return nums\n",
    "\n",
    "        for num in nums:\n",
    "            arr += num\n",
    "\n",
    "        res = []\n",
    "        for y in range(r):\n",
    "            res += arr[y*c:y*c + c],\n",
    "        return res"
   ]
  },
  {
   "cell_type": "code",
   "execution_count": null,
   "metadata": {},
   "outputs": [],
   "source": [
    "def matrixReshape(self, nums, r, c):\n",
    "    if r * c != len(nums) * len(nums[0]):\n",
    "        return nums\n",
    "    it = itertools.chain(*nums)\n",
    "    return [list(itertools.islice(it, c)) for _ in range(r)]\n",
    "\n",
    "def matrixReshape(self, nums, r, c):\n",
    "    flat = sum(nums, [])\n",
    "    if len(flat) != r * c:\n",
    "        return nums\n",
    "    tuples = zip(*([iter(flat)] * c))\n",
    "    return map(list, tuples)\n",
    "\n",
    "import numpy as np\n",
    "\n",
    "class Solution(object):\n",
    "    def matrixReshape(self, nums, r, c):\n",
    "        try:\n",
    "            return np.reshape(nums, (r, c)).tolist()\n",
    "        except:\n",
    "            return nums"
   ]
  },
  {
   "cell_type": "code",
   "execution_count": null,
   "metadata": {},
   "outputs": [],
   "source": []
  },
  {
   "cell_type": "code",
   "execution_count": null,
   "metadata": {},
   "outputs": [],
   "source": [
    "293. Flip Game\n",
    "You are playing the following Flip Game with your friend: Given a string that contains only these two characters: + and -, you and your friend take turns to flip two consecutive \"++\" into \"--\". The game ends when a person can no longer make a move and therefore the other person will be the winner.\n",
    "\n",
    "Write a function to compute all possible states of the string after one valid move.\n"
   ]
  },
  {
   "cell_type": "code",
   "execution_count": null,
   "metadata": {},
   "outputs": [],
   "source": [
    "class solution():\n",
    "    def FlipGame(self,s):\n",
    "        res=[]\n",
    "        i=0\n",
    "        while i<len(s)-1:\n",
    "            if s[i]==s[i+1]=='+':\n",
    "                res.append(s[:i]+\"--\"+s[i+2:])\n",
    "            i += 1\n",
    "        return res\n"
   ]
  },
  {
   "cell_type": "code",
   "execution_count": null,
   "metadata": {},
   "outputs": [],
   "source": []
  },
  {
   "cell_type": "code",
   "execution_count": null,
   "metadata": {},
   "outputs": [],
   "source": [
    "1089. Duplicate Zeros\n",
    "\n",
    "Given a fixed length array arr of integers, duplicate each occurrence of zero, shifting the remaining elements to the right.\n",
    "\n",
    "Note that elements beyond the length of the original array are not written.\n",
    "\n",
    "Do the above modifications to the input array in place, do not return anything from your function.\n",
    "\n",
    " \n",
    "\n",
    "Example 1:\n",
    "\n",
    "Input: [1,0,2,3,0,4,5,0]\n",
    "Output: null\n",
    "Explanation: After calling your function, the input array is modified to: [1,0,0,2,3,0,0,4]\n",
    "Example 2:\n",
    "\n",
    "Input: [1,2,3]\n",
    "Output: null\n",
    "Explanation: After calling your function, the input array is modified to: [1,2,3]\n",
    " \n",
    "\n",
    "Note:\n",
    "\n",
    "1 <= arr.length <= 10000\n",
    "0 <= arr[i] <= 9\n"
   ]
  },
  {
   "cell_type": "code",
   "execution_count": null,
   "metadata": {},
   "outputs": [],
   "source": [
    "class Solution(object):\n",
    "    def duplicateZeros(self, arr):\n",
    "        i = 0       # it's better to start from the beginning as last elements will be removed\n",
    "        while i < len(arr):     # while is better as the list will be modified\n",
    "            if arr[i] == 0:     # when element is 0\n",
    "                arr.insert(i, 0)        # insert 0 along to it\n",
    "                arr.pop()     # remove last element\n",
    "                i += 1      # go to the next element - after adding index has to be increased by 2\n",
    "            i += 1      # check next element"
   ]
  },
  {
   "cell_type": "code",
   "execution_count": null,
   "metadata": {},
   "outputs": [],
   "source": []
  },
  {
   "cell_type": "code",
   "execution_count": null,
   "metadata": {},
   "outputs": [],
   "source": [
    "1009. Complement of Base 10 Integer\n",
    "\n",
    "Every non-negative integer N has a binary representation.  For example, 5 can be represented as \"101\" in binary, 11 as \"1011\" in binary, and so on.  Note that except for N = 0, there are no leading zeroes in any binary representation.\n",
    "\n",
    "The complement of a binary representation is the number in binary you get when changing every 1 to a 0 and 0 to a 1.  For example, the complement of \"101\" in binary is \"010\" in binary.\n",
    "\n",
    "For a given number N in base-10, return the complement of it's binary representation as a base-10 integer.\n",
    "\n",
    " \n",
    "\n",
    "Example 1:\n",
    "\n",
    "Input: 5\n",
    "Output: 2\n",
    "Explanation: 5 is \"101\" in binary, with complement \"010\" in binary, which is 2 in base-10.\n",
    "Example 2:\n",
    "\n",
    "Input: 7\n",
    "Output: 0\n",
    "Explanation: 7 is \"111\" in binary, with complement \"000\" in binary, which is 0 in base-10.\n",
    "Example 3:\n",
    "\n",
    "Input: 10\n",
    "Output: 5\n",
    "Explanation: 10 is \"1010\" in binary, with complement \"0101\" in binary, which is 5 in base-10.\n",
    " \n",
    "\n",
    "Note:\n",
    "\n",
    "0 <= N < 10^9\n",
    "\n",
    "#REFER to question 476, 190"
   ]
  },
  {
   "cell_type": "code",
   "execution_count": null,
   "metadata": {},
   "outputs": [],
   "source": [
    "Hints\n",
    "what is the relationship between input and output\n",
    "input + output = 111....11 in binary format\n",
    "Is there any corner case?\n",
    "0 is a corner case expecting 1, output > input\n",
    "Intuition\n",
    "Let's find the first number X that X = 1111....1 > N\n",
    "And also, it has to be noticed that,\n",
    "N = 0 is a corner case expecting1 as result.\n",
    "\n",
    "\n",
    "Solution 1:\n",
    "N + bitwiseComplement(N) = 11....11 = X\n",
    "Then bitwiseComplement(N) = X - N"
   ]
  },
  {
   "cell_type": "code",
   "execution_count": null,
   "metadata": {},
   "outputs": [],
   "source": [
    "def bitwiseComplement(self, N):\n",
    "        X = 1\n",
    "        while N > X: X = X * 2 + 1\n",
    "        return X - N"
   ]
  },
  {
   "cell_type": "code",
   "execution_count": null,
   "metadata": {},
   "outputs": [],
   "source": [
    "Solution 2:\n",
    "N ^ bitwiseComplement(N) = 11....11 = X\n",
    "bitwiseComplement(N) = N ^ X"
   ]
  },
  {
   "cell_type": "code",
   "execution_count": null,
   "metadata": {},
   "outputs": [],
   "source": [
    "def bitwiseComplement(self, N):\n",
    "        X = 1\n",
    "        while N > X: X = X * 2 + 1;\n",
    "        return N ^ X"
   ]
  },
  {
   "cell_type": "code",
   "execution_count": null,
   "metadata": {},
   "outputs": [],
   "source": [
    "def bitwiseComplement(self, N):\n",
    "        return (1 << len(bin(N)) >> 2) - N - 1"
   ]
  },
  {
   "cell_type": "code",
   "execution_count": 29,
   "metadata": {},
   "outputs": [
    {
     "name": "stdout",
     "output_type": "stream",
     "text": [
      "0b110\n",
      "32\n",
      "8\n",
      "8\n"
     ]
    }
   ],
   "source": [
    "N = 6\n",
    "print(bin(N))\n",
    "print(1<< len(bin(N)))\n",
    "print(1 << len(bin(N)) >> 2 )\n",
    "print(32 >> 2)"
   ]
  },
  {
   "cell_type": "code",
   "execution_count": null,
   "metadata": {},
   "outputs": [],
   "source": [
    "def bitwiseComplement(self, N):\n",
    "        return int(bin(N)[2:].translate(string.maketrans('01', '10')), 2)"
   ]
  },
  {
   "cell_type": "code",
   "execution_count": null,
   "metadata": {},
   "outputs": [],
   "source": [
    "class Solution:\n",
    "    def bitwiseComplement(self, N: int) -> int:\n",
    "        res = 0\n",
    "        for c in bin(N)[2:]: res = (res << 1) + 1 - int(c) \n",
    "        return res"
   ]
  },
  {
   "cell_type": "code",
   "execution_count": null,
   "metadata": {},
   "outputs": [],
   "source": [
    "    def bitwiseComplement(self, N: int) -> int:\n",
    "        return int(''.join(str(1-int(c)) for c in bin(N)[2:]), 2)\n",
    "\n",
    "    def bitwiseComplement(self, N: int) -> int:\n",
    "        mask = 1\n",
    "        while mask < N:\n",
    "            mask = (mask << 1) + 1\n",
    "        return N ^ mask"
   ]
  },
  {
   "cell_type": "code",
   "execution_count": null,
   "metadata": {},
   "outputs": [],
   "source": []
  },
  {
   "cell_type": "code",
   "execution_count": null,
   "metadata": {},
   "outputs": [],
   "source": [
    "603. Consecutive Available Seats\n",
    "#SQL"
   ]
  },
  {
   "cell_type": "code",
   "execution_count": null,
   "metadata": {},
   "outputs": [],
   "source": [
    "select distinct a.seat_id\n",
    "from cinema a join cinema b\n",
    "  on abs(a.seat_id - b.seat_id) = 1 and a.free = true and b.free = true\n",
    "order by a.seat_id;"
   ]
  },
  {
   "cell_type": "code",
   "execution_count": null,
   "metadata": {},
   "outputs": [],
   "source": []
  },
  {
   "cell_type": "code",
   "execution_count": null,
   "metadata": {},
   "outputs": [],
   "source": [
    "226. Invert Binary Tree"
   ]
  },
  {
   "cell_type": "code",
   "execution_count": null,
   "metadata": {},
   "outputs": [],
   "source": [
    "class Solution():\n",
    "    def InvertBinaryTree(self,root):\n",
    "        if root:\n",
    "            root.left,root.right=self.InvertBinaryTree(root.right),self.InvertBinaryTree(root.left)"
   ]
  },
  {
   "cell_type": "code",
   "execution_count": null,
   "metadata": {},
   "outputs": [],
   "source": []
  },
  {
   "cell_type": "code",
   "execution_count": null,
   "metadata": {},
   "outputs": [],
   "source": [
    "1075.Project Employees I\n",
    "#SQL\n",
    "select project_id, average(experience_years) as average_year \n",
    "from Project p inner join Employee as e on p.employee_id=e.employee_id group by p.project_id order by p.project_id;\n"
   ]
  },
  {
   "cell_type": "code",
   "execution_count": null,
   "metadata": {},
   "outputs": [],
   "source": []
  },
  {
   "cell_type": "code",
   "execution_count": null,
   "metadata": {},
   "outputs": [],
   "source": [
    "693. Binary Number with Alternating Bits\n",
    "\n",
    "Given a positive integer, check whether it has alternating bits: namely, if two adjacent bits will always have different values.\n",
    "\n",
    "Example 1:\n",
    "Input: 5\n",
    "Output: True\n",
    "Explanation:\n",
    "The binary representation of 5 is: 101\n",
    "Example 2:\n",
    "Input: 7\n",
    "Output: False\n",
    "Explanation:\n",
    "The binary representation of 7 is: 111.\n",
    "Example 3:\n",
    "Input: 11\n",
    "Output: False\n",
    "Explanation:\n",
    "The binary representation of 11 is: 1011.\n",
    "Example 4:\n",
    "Input: 10\n",
    "Output: True\n",
    "Explanation:\n",
    "The binary representation of 10 is: 1010."
   ]
  },
  {
   "cell_type": "code",
   "execution_count": null,
   "metadata": {},
   "outputs": [],
   "source": [
    "class Solution:\n",
    "    def hasAlternatingBits(self, n):\n",
    "        return not any(a == b for a, b in zip(bin(n)[2:], bin(n)[3:]))\n",
    "class Solution:\n",
    "    def hasAlternatingBits(self, n):\n",
    "        return all(dup not in bin(n) for dup in (\"11\", \"00\"))"
   ]
  },
  {
   "cell_type": "code",
   "execution_count": 34,
   "metadata": {},
   "outputs": [
    {
     "name": "stdout",
     "output_type": "stream",
     "text": [
      "[('1', '1'), ('1', '1')]\n"
     ]
    }
   ],
   "source": [
    "print(list(zip(bin(7)[2:], bin(7)[3:])))"
   ]
  },
  {
   "cell_type": "code",
   "execution_count": null,
   "metadata": {},
   "outputs": [],
   "source": [
    "824. Goat Latin\n",
    "\n",
    "A sentence S is given, composed of words separated by spaces. Each word consists of lowercase and uppercase letters only.\n",
    "\n",
    "We would like to convert the sentence to \"Goat Latin\" (a made-up language similar to Pig Latin.)\n",
    "\n",
    "The rules of Goat Latin are as follows:\n",
    "\n",
    "If a word begins with a vowel (a, e, i, o, or u), append \"ma\" to the end of the word.\n",
    "For example, the word 'apple' becomes 'applema'.\n",
    " \n",
    "If a word begins with a consonant (i.e. not a vowel), remove the first letter and append it to the end, then add \"ma\".\n",
    "For example, the word \"goat\" becomes \"oatgma\".\n",
    " \n",
    "Add one letter 'a' to the end of each word per its word index in the sentence, starting with 1.\n",
    "For example, the first word gets \"a\" added to the end, the second word gets \"aa\" added to the end and so on.\n",
    "Return the final sentence representing the conversion from S to Goat Latin. "
   ]
  },
  {
   "cell_type": "code",
   "execution_count": null,
   "metadata": {},
   "outputs": [],
   "source": [
    "def toGoatLatin(self, S):\n",
    "        vowel = set('aeiouAEIOU')\n",
    "        def latin(w, i):\n",
    "            if w[0] not in vowel:\n",
    "                w = w[1:] + w[0]\n",
    "            return w + 'ma' + 'a' * (i + 1)\n",
    "        return ' '.join(latin(w, i) for i, w in enumerate(S.split()))"
   ]
  },
  {
   "cell_type": "code",
   "execution_count": null,
   "metadata": {},
   "outputs": [],
   "source": []
  },
  {
   "cell_type": "code",
   "execution_count": null,
   "metadata": {},
   "outputs": [],
   "source": [
    "1114. Print in Order\n",
    "\n",
    "Suppose we have a class:\n",
    "\n",
    "public class Foo {\n",
    "  public void first() { print(\"first\"); }\n",
    "  public void second() { print(\"second\"); }\n",
    "  public void third() { print(\"third\"); }\n",
    "}\n",
    "The same instance of Foo will be passed to three different threads. Thread A will call first(), thread B will call second(), and thread C will call third(). Design a mechanism and modify the program to ensure that second() is executed after first(), and third() is executed after second().\n",
    "\n",
    " \n",
    "\n",
    "Example 1:\n",
    "\n",
    "Input: [1,2,3]\n",
    "Output: \"firstsecondthird\"\n",
    "Explanation: There are three threads being fired asynchronously. The input [1,2,3] means thread A calls first(), thread B calls second(), and thread C calls third(). \"firstsecondthird\" is the correct output.\n",
    "Example 2:\n",
    "\n",
    "Input: [1,3,2]\n",
    "Output: \"firstsecondthird\"\n",
    "Explanation: The input [1,3,2] means thread A calls first(), thread B calls third(), and thread C calls second(). \"firstsecondthird\" is the correct output.\n",
    " \n",
    "\n",
    "Note:\n",
    "\n",
    "We do not know how the threads will be scheduled in the operating system, even though the numbers in the input seems to imply the ordering. The input format you see is mainly to ensure our tests' comprehensiveness."
   ]
  },
  {
   "cell_type": "code",
   "execution_count": null,
   "metadata": {},
   "outputs": [],
   "source": [
    "from threading import Semaphore\n",
    "\n",
    "class Foo:\n",
    "    def __init__(self):\n",
    "        self.two = Semaphore(0)\n",
    "        self.three = Semaphore(0)\n",
    "\n",
    "    def first(self, printFirst):\n",
    "        printFirst()\n",
    "        self.two.release()\n",
    "\n",
    "    def second(self, printSecond):\n",
    "        with self.two:\n",
    "            printSecond()\n",
    "            self.three.release()\n",
    "\n",
    "    def third(self, printThird):\n",
    "        with self.three:\n",
    "            printThird()"
   ]
  },
  {
   "cell_type": "code",
   "execution_count": null,
   "metadata": {},
   "outputs": [],
   "source": [
    "# Logic 1: Naive -100 pass 5% faster\n",
    "# * Create state variables to maintain the order of execution\n",
    "# * As the execution can be on any order, we make a blocking call by using while loops for the state variables\n",
    "# * Only after the blocking call breaks the execution will happen thereby maintaining the order\n",
    "\n",
    "class Foo:\n",
    "    def __init__(self):\n",
    "        # those are labels checking whether the functions were executed\n",
    "        self.first_check = False        \n",
    "        self.second_check = False       \n",
    "\n",
    "    def first(self, printFirst: 'Callable[[], None]') -> None:\n",
    "        # just execute the first function\n",
    "        printFirst()\n",
    "        self.first_check = True\n",
    "\n",
    "    def second(self, printSecond: 'Callable[[], None]') -> None:\n",
    "        # this while loop runs continously to wait for first function to run\n",
    "        while not self.first_check:\n",
    "            continue\n",
    "\n",
    "        # when it leaves the loop, second function can be run\n",
    "        printSecond()\n",
    "        self.second_check = True\n",
    "\n",
    "    def third(self, printThird: 'Callable[[], None]') -> None:\n",
    "        # analogously third function\n",
    "        while not self.second_check:\n",
    "            continue\n",
    "\n",
    "        printThird()\n",
    "        \n",
    "\n",
    "# Logic 2:  Using Locks --> Events for trigerring ==> 70% faster\n",
    "# * Create events based on the order of execution and use them\n",
    "\n",
    "from threading import Event\n",
    "\n",
    "class Foo(object):\n",
    "    def __init__(self):\n",
    "        self.first_done = Event()\n",
    "        self.second_done = Event()\n",
    "\n",
    "\n",
    "    def first(self, printFirst):\n",
    "        \"\"\"\n",
    "        :type printFirst: method\n",
    "        :rtype: void\n",
    "        \"\"\"\n",
    "        \n",
    "        printFirst()\n",
    "        self.first_done.set()\n",
    "\n",
    "\n",
    "    def second(self, printSecond):\n",
    "        \"\"\"\n",
    "        :type printSecond: method\n",
    "        :rtype: void\n",
    "        \"\"\"\n",
    "        self.first_done.wait()\n",
    "        printSecond()\n",
    "        self.second_done.set()\n",
    "        self.first_done.clear()\n",
    "            \n",
    "            \n",
    "    def third(self, printThird):\n",
    "        \"\"\"\n",
    "        :type printThird: method\n",
    "        :rtype: void\n",
    "        \"\"\"\n",
    "        self.second_done.wait()\n",
    "        printThird()\n",
    "        self.second_done.clear()"
   ]
  },
  {
   "cell_type": "code",
   "execution_count": null,
   "metadata": {},
   "outputs": [],
   "source": []
  },
  {
   "cell_type": "code",
   "execution_count": null,
   "metadata": {},
   "outputs": [],
   "source": [
    "784. Letter Case Permutation\n",
    "\n",
    "Given a string S, we can transform every letter individually to be lowercase or uppercase to create another string.  Return a list of all possible strings we could create.\n",
    "\n",
    "Examples:\n",
    "Input: S = \"a1b2\"\n",
    "Output: [\"a1b2\", \"a1B2\", \"A1b2\", \"A1B2\"]\n",
    "\n",
    "Input: S = \"3z4\"\n",
    "Output: [\"3z4\", \"3Z4\"]\n",
    "\n",
    "Input: S = \"12345\"\n",
    "Output: [\"12345\"]\n",
    "Note:\n",
    "\n",
    "S will be a string with length between 1 and 12.\n",
    "S will consist only of letters or digits."
   ]
  },
  {
   "cell_type": "code",
   "execution_count": null,
   "metadata": {},
   "outputs": [],
   "source": [
    "def letterCasePermutation(self, S):\n",
    "        L = [[i.lower(), i.upper()] if i.isalpha() else i for i in S]\n",
    "        return [''.join(i) for i in itertools.product(*L)]"
   ]
  },
  {
   "cell_type": "code",
   "execution_count": 35,
   "metadata": {},
   "outputs": [
    {
     "name": "stdout",
     "output_type": "stream",
     "text": [
      "[['a', 'A'], '1', ['b', 'B'], '2']\n"
     ]
    }
   ],
   "source": [
    "S = \"a1b2\"\n",
    "print([[i.lower(), i.upper()] if i.isalpha() else i for i in S])"
   ]
  },
  {
   "cell_type": "code",
   "execution_count": null,
   "metadata": {},
   "outputs": [],
   "source": [
    "class Solution:\n",
    "    def letterCasePermutation(self, S, ret = {\"\"}):\n",
    "        for s in S:\n",
    "            ret = {r + t for r in ret for t in (s.lower(), s.upper())}\n",
    "        return list(ret)"
   ]
  },
  {
   "cell_type": "code",
   "execution_count": null,
   "metadata": {},
   "outputs": [],
   "source": [
    "#Track every character in S and double result items with swapped case for the character in new item.\n",
    "\n",
    "class Solution:\n",
    "def letterCasePermutation(self, S):\n",
    "    out, curr = [str(S)], 0\n",
    "    while curr<len(S):\n",
    "        if S[curr].isalpha(): \n",
    "            mx, i = len(out), 0\n",
    "            while i<mx: \n",
    "                out.append(str(out[i][:curr]+out[i][curr].swapcase()+out[i][curr+1:]))\n",
    "                i+=1\n",
    "        curr+=1\n",
    "    return out"
   ]
  },
  {
   "cell_type": "code",
   "execution_count": null,
   "metadata": {},
   "outputs": [],
   "source": []
  },
  {
   "cell_type": "code",
   "execution_count": null,
   "metadata": {},
   "outputs": [],
   "source": [
    "1065.Index Pairs of a String\n",
    "Given a text string and words (a list of strings), return all index pairs [i, j] so that the substring text[i]...text[j] is in the list of words.\n",
    "\n",
    "\n",
    "Example 1:\n",
    "\n",
    "Input: text = \"thestoryofleetcodeandme\", words = [\"story\",\"fleet\",\"leetcode\"]\n",
    "Output: [[3,7],[9,13],[10,17]]\n",
    "Example 2:\n",
    "\n",
    "Input: text = \"ababa\", words = [\"aba\",\"ab\"]\n",
    "Output: [[0,1],[0,2],[2,3],[2,4]]\n",
    "Explanation: \n",
    "Notice that matches can overlap, see \"aba\" is found in [0,2] and [2,4].\n",
    " \n",
    "\n",
    "Note:\n",
    "\n",
    "All strings contains only lowercase English letters.\n",
    "It's guaranteed that all strings in words are different.\n",
    "1 <= text.length <= 100\n",
    "1 <= words.length <= 20\n",
    "1 <= words[i].length <= 50\n",
    "Return the pairs [i,j] in sorted order (i.e. sort them by their first coordinate in case of ties sort them by their second coordinate)."
   ]
  },
  {
   "cell_type": "code",
   "execution_count": 164,
   "metadata": {},
   "outputs": [
    {
     "data": {
      "text/plain": [
       "[[3, 7], [9, 13], [10, 17]]"
      ]
     },
     "execution_count": 164,
     "metadata": {},
     "output_type": "execute_result"
    }
   ],
   "source": [
    "#wrong\n",
    "class solution():\n",
    "    def IndexPairsString(self,text,words):\n",
    "        res = []\n",
    "        for w in words:\n",
    "            t = text.find(w)\n",
    "            if (t!=-1):\n",
    "                res.append([t,t+len(w)-1])\n",
    "        return res\n",
    "text,words=\"thestoryofleetcodeandme\",[\"story\",\"fleet\",\"leetcode\"]\n",
    "a=solution()\n",
    "a.IndexPairsString(text,words)"
   ]
  },
  {
   "cell_type": "code",
   "execution_count": null,
   "metadata": {},
   "outputs": [],
   "source": [
    "class Solution(object):\n",
    "    def indexPairs(self, text, words):\n",
    "        \"\"\"\n",
    "        :type text: str\n",
    "        :type words: List[str]\n",
    "        :rtype: List[List[int]]\n",
    "        \"\"\"\n",
    "        if not words:\n",
    "            return []\n",
    "        result = []\n",
    "        for word in words:\n",
    "            starting = [index for index in range(len(text)-len(word)) if text.startswith(word, index)]\n",
    "            for start in starting:\n",
    "                result.append([start, start+len(word)-1])\n",
    "            # print starting\n",
    "        result.sort()\n",
    "        return result"
   ]
  },
  {
   "cell_type": "code",
   "execution_count": null,
   "metadata": {},
   "outputs": [],
   "source": []
  },
  {
   "cell_type": "code",
   "execution_count": null,
   "metadata": {},
   "outputs": [],
   "source": [
    "243. Shortest Word Distance\n",
    "Given a list of words and two words word1 and word2, return the shortest distance between these two words in the list.\n",
    "Example\n",
    "Assume that words=[\"practice\", \"makes\", \"perfect\", \"coding\", \"makes\"]\n",
    "Given word1 = \"coding\", word2 = \"practice\", return 3.\n",
    "Given word1 = \"makes\", word2 = \"coding\", return 1.\n",
    "\n",
    "Note\n",
    "You may assume that word1 does not equal to word2, and word1 and word2 are both in the list.\n"
   ]
  },
  {
   "cell_type": "code",
   "execution_count": null,
   "metadata": {},
   "outputs": [],
   "source": [
    "import sys\n",
    "class Solution():\n",
    "    def ShortestWordDistance(self,words,w1,w2):\n",
    "        idx1,idx2,minD=-1,-1,sys.maxsize\n",
    "        for i in range(len(words)):\n",
    "            if words[i]==w1:\n",
    "                idx1 = i\n",
    "            elif words[i]==w2:\n",
    "                idx2 = i\n",
    "            if idx1 >=0 and idx2>=0:\n",
    "                minD = min(minD,abs(idx1-idx2))\n",
    "        return (minD if minD!=sys.maxsize else None)"
   ]
  },
  {
   "cell_type": "code",
   "execution_count": null,
   "metadata": {},
   "outputs": [],
   "source": []
  },
  {
   "cell_type": "code",
   "execution_count": null,
   "metadata": {},
   "outputs": [],
   "source": [
    "607 Sales Person\n",
    "#SQL\n",
    "#Given three tables: salesperson, company, orders.\n",
    "#Output all the names in the table salesperson, who didn’t have sales to company ‘RED’.\n",
    "\n",
    "select name from salesperson where sales_id not in (select distinct sales_id from orders o inner join company c on o.com_id=c.com_id where name='RED');\n"
   ]
  },
  {
   "cell_type": "code",
   "execution_count": null,
   "metadata": {},
   "outputs": [],
   "source": []
  },
  {
   "cell_type": "code",
   "execution_count": null,
   "metadata": {},
   "outputs": [],
   "source": [
    "1118 Number of Days in a Month\n",
    "Given a year Y and a month M, return how many days there are in that month.\n",
    "\n",
    " \n",
    "\n",
    "Example 1:\n",
    "\n",
    "Input: Y = 1992, M = 7\n",
    "Output: 31\n",
    "Example 2:\n",
    "\n",
    "Input: Y = 2000, M = 2\n",
    "Output: 29\n",
    "Example 3:\n",
    "\n",
    "Input: Y = 1900, M = 2\n",
    "Output: 28\n",
    " \n",
    "\n",
    "Note:\n",
    "\n",
    "1583 <= Y <= 2100\n",
    "1 <= M <= 12"
   ]
  },
  {
   "cell_type": "code",
   "execution_count": null,
   "metadata": {},
   "outputs": [],
   "source": [
    "class solution():\n",
    "    def DaysInMonth(self,Y,M):\n",
    "        if M==2:\n",
    "            if Y%4==0: return 29\n",
    "            else: return 28\n",
    "        elif (M<8 and M%2) or (M>=8 and not M%2): return 31\n",
    "        else: return 30"
   ]
  },
  {
   "cell_type": "code",
   "execution_count": null,
   "metadata": {},
   "outputs": [],
   "source": []
  },
  {
   "cell_type": "code",
   "execution_count": null,
   "metadata": {},
   "outputs": [],
   "source": [
    "1022. Sum of Root To Leaf Binary Numbers\n",
    "\n",
    "Given a binary tree, each node has value 0 or 1.  Each root-to-leaf path represents a binary number starting with the most significant bit.  For example, if the path is 0 -> 1 -> 1 -> 0 -> 1, then this could represent 01101 in binary, which is 13.\n",
    "\n",
    "For all leaves in the tree, consider the numbers represented by the path from the root to that leaf.\n",
    "\n",
    "Return the sum of these numbers.\n"
   ]
  },
  {
   "cell_type": "code",
   "execution_count": null,
   "metadata": {},
   "outputs": [],
   "source": [
    "class solution():\n",
    "    def sumRootToLeaf(self, root, val=0):\n",
    "        if not root: return 0\n",
    "        val = val * 2 + root.val\n",
    "        if root.left == root.right: return val\n",
    "        return self.sumRootToLeaf(root.left, val) + self.sumRootToLeaf(root.right, val)"
   ]
  },
  {
   "cell_type": "code",
   "execution_count": null,
   "metadata": {},
   "outputs": [],
   "source": [
    "def sumRootToLeaf(self, root):\n",
    "        res = []\n",
    "        def dfs(root, res, tmp):\n",
    "            if not root:\n",
    "                return\n",
    "            if not root.left and not root.right: # leaf node\n",
    "                res.append(tmp*2+root.val)\n",
    "                return\n",
    "            dfs(root.left, res, tmp*2+root.val) # dfs and calculate\n",
    "            dfs(root.right, res, tmp*2+root.val) # dfs and calculate\n",
    "        dfs(root, res, 0)\n",
    "        return sum(res)"
   ]
  },
  {
   "cell_type": "code",
   "execution_count": null,
   "metadata": {},
   "outputs": [],
   "source": []
  },
  {
   "cell_type": "code",
   "execution_count": null,
   "metadata": {},
   "outputs": [],
   "source": [
    "976. Largest Perimeter Triangle\n",
    "\n",
    "Given an array A of positive lengths, return the largest perimeter of a triangle with non-zero area, formed from 3 of these lengths.\n",
    "\n",
    "If it is impossible to form any triangle of non-zero area, return 0.\n",
    "\n",
    " \n",
    "\n",
    "Example 1:\n",
    "\n",
    "Input: [2,1,2]\n",
    "Output: 5\n",
    "Example 2:\n",
    "\n",
    "Input: [1,2,1]\n",
    "Output: 0\n",
    "Example 3:\n",
    "\n",
    "Input: [3,2,3,4]\n",
    "Output: 10\n",
    "Example 4:\n",
    "\n",
    "Input: [3,6,2,3]\n",
    "Output: 8\n",
    " \n",
    "\n",
    "Note:\n",
    "\n",
    "3 <= A.length <= 10000\n",
    "1 <= A[i] <= 10^6\n"
   ]
  },
  {
   "cell_type": "code",
   "execution_count": null,
   "metadata": {},
   "outputs": [],
   "source": [
    "    def largestPerimeter(self, A):\n",
    "        A = sorted(A)[::-1]\n",
    "        for i in range(len(A) - 2):\n",
    "            if A[i] < A[i+1] + A[i + 2]:\n",
    "                return A[i] + A[i + 1] + A[i + 2]\n",
    "        return 0"
   ]
  },
  {
   "cell_type": "code",
   "execution_count": null,
   "metadata": {},
   "outputs": [],
   "source": [
    "return next((sum(A[i:i+3]) for A in [sorted(A)] for i in range(len(A)-3,-1,-1) if sum(A[i:i+2]) > A[i+2]),0)"
   ]
  },
  {
   "cell_type": "code",
   "execution_count": null,
   "metadata": {},
   "outputs": [],
   "source": []
  },
  {
   "cell_type": "code",
   "execution_count": null,
   "metadata": {},
   "outputs": [],
   "source": [
    "888. Fair Candy Swap\n",
    "\n",
    "Alice and Bob have candy bars of different sizes: A[i] is the size of the i-th bar of candy that Alice has, and B[j] is the size of the j-th bar of candy that Bob has.\n",
    "\n",
    "Since they are friends, they would like to exchange one candy bar each so that after the exchange, they both have the same total amount of candy.  (The total amount of candy a person has is the sum of the sizes of candy bars they have.)\n",
    "\n",
    "Return an integer array ans where ans[0] is the size of the candy bar that Alice must exchange, and ans[1] is the size of the candy bar that Bob must exchange.\n",
    "\n",
    "If there are multiple answers, you may return any one of them.  It is guaranteed an answer exists.\n",
    "\n",
    " \n",
    "\n",
    "Example 1:\n",
    "\n",
    "Input: A = [1,1], B = [2,2]\n",
    "Output: [1,2]\n",
    "Example 2:\n",
    "\n",
    "Input: A = [1,2], B = [2,3]\n",
    "Output: [1,2]\n",
    "Example 3:\n",
    "\n",
    "Input: A = [2], B = [1,3]\n",
    "Output: [2,3]\n",
    "Example 4:\n",
    "\n",
    "Input: A = [1,2,5], B = [2,4]\n",
    "Output: [5,4]\n",
    " \n",
    "\n",
    "Note:\n",
    "\n",
    "1 <= A.length <= 10000\n",
    "1 <= B.length <= 10000\n",
    "1 <= A[i] <= 100000\n",
    "1 <= B[i] <= 100000\n",
    "It is guaranteed that Alice and Bob have different total amounts of candy.\n",
    "It is guaranteed there exists an answer."
   ]
  },
  {
   "cell_type": "code",
   "execution_count": null,
   "metadata": {},
   "outputs": [],
   "source": []
  },
  {
   "cell_type": "code",
   "execution_count": null,
   "metadata": {},
   "outputs": [],
   "source": [
    "    def fairCandySwap(self, A, B):\n",
    "        #if sum(A)<sum(B): A,B=B,A\n",
    "        dif = (sum(A) - sum(B)) // 2  #dif can be a negative number\n",
    "        A = set(A)\n",
    "        for b in set(B):\n",
    "            if dif + b in A:\n",
    "                return [dif + b, b]"
   ]
  },
  {
   "cell_type": "code",
   "execution_count": null,
   "metadata": {},
   "outputs": [],
   "source": []
  },
  {
   "cell_type": "code",
   "execution_count": null,
   "metadata": {},
   "outputs": [],
   "source": [
    "521. Longest Uncommon Subsequence I\n",
    "\n",
    "Given a group of two strings, you need to find the longest uncommon subsequence of this group of two strings. \n",
    "The longest uncommon subsequence is defined as the longest subsequence of one of these strings and this subsequence should not be any subsequence of the other strings.\n",
    "\n",
    "A subsequence is a sequence that can be derived from one sequence by deleting some characters without changing the order of the remaining elements. Trivially, any string is a subsequence of itself and an empty string is a subsequence of any string.\n",
    "\n",
    "The input will be two strings, and the output needs to be the length of the longest uncommon subsequence. \n",
    "If the longest uncommon subsequence doesn't exist, return -1.\n",
    "\n",
    "Example 1:\n",
    "Input: \"aba\", \"cdc\"\n",
    "Output: 3\n",
    "Explanation: The longest uncommon subsequence is \"aba\" (or \"cdc\"), \n",
    "because \"aba\" is a subsequence of \"aba\", \n",
    "but not a subsequence of any other strings in the group of two strings. \n",
    "Note:\n",
    "\n",
    "Both strings' lengths will not exceed 100.\n",
    "Only letters from a ~ z will appear in input strings.\n"
   ]
  },
  {
   "cell_type": "code",
   "execution_count": null,
   "metadata": {},
   "outputs": [],
   "source": [
    "For strings A, B, when len(A) > len(B), the longest possible subsequence of either A or B is A, and no subsequence of B can be equal to A. Answer: len(A).\n",
    "\n",
    "When len(A) == len(B), the only subsequence of B equal to A is B; so as long as A != B, the answer remains len(A).\n",
    "\n",
    "When A == B, any subsequence of A can be found in B and vice versa, so the answer is -1.\n",
    "\n"
   ]
  },
  {
   "cell_type": "code",
   "execution_count": null,
   "metadata": {},
   "outputs": [],
   "source": [
    "def findLUSlength(self, a, b):\n",
    "    return -1 if a==b else max(len(a), len(b))\n"
   ]
  },
  {
   "cell_type": "code",
   "execution_count": null,
   "metadata": {},
   "outputs": [],
   "source": []
  },
  {
   "cell_type": "code",
   "execution_count": null,
   "metadata": {},
   "outputs": [],
   "source": [
    "706. Design HashMap\n",
    "\n",
    "Design a HashMap without using any built-in hash table libraries.\n",
    "\n",
    "To be specific, your design should include these functions:\n",
    "\n",
    "put(key, value) : Insert a (key, value) pair into the HashMap. If the value already exists in the HashMap, update the value.\n",
    "get(key): Returns the value to which the specified key is mapped, or -1 if this map contains no mapping for the key.\n",
    "remove(key) : Remove the mapping for the value key if this map contains the mapping for the key.\n",
    "\n",
    "Example:\n",
    "\n",
    "MyHashMap hashMap = new MyHashMap();\n",
    "hashMap.put(1, 1);          \n",
    "hashMap.put(2, 2);         \n",
    "hashMap.get(1);            // returns 1\n",
    "hashMap.get(3);            // returns -1 (not found)\n",
    "hashMap.put(2, 1);          // update the existing value\n",
    "hashMap.get(2);            // returns 1 \n",
    "hashMap.remove(2);          // remove the mapping for 2\n",
    "hashMap.get(2);            // returns -1 (not found) \n",
    "\n",
    "Note:\n",
    "\n",
    "All keys and values will be in the range of [0, 1000000].\n",
    "The number of operations will be in the range of [1, 10000].\n",
    "Please do not use the built-in HashMap library."
   ]
  },
  {
   "cell_type": "code",
   "execution_count": null,
   "metadata": {},
   "outputs": [],
   "source": [
    "# using just arrays, direct access table\n",
    "# using linked list for chaining\n",
    "\n",
    "class ListNode:\n",
    "    def __init__(self, key, val):\n",
    "        self.pair = (key, val)\n",
    "        self.next = None\n",
    "\n",
    "class MyHashMap:\n",
    "\n",
    "    def __init__(self):\n",
    "        \"\"\"\n",
    "        Initialize your data structure here.\n",
    "        \"\"\"\n",
    "        self.m = 1000;\n",
    "        self.h = [None]*self.m\n",
    "        \n",
    "\n",
    "    def put(self, key, value):\n",
    "        \"\"\"\n",
    "        value will always be non-negative.\n",
    "        :type key: int\n",
    "        :type value: int\n",
    "        :rtype: void\n",
    "        \"\"\"\n",
    "        index = key % self.m\n",
    "        if self.h[index] == None:\n",
    "            self.h[index] = ListNode(key, value)\n",
    "        else:\n",
    "            cur = self.h[index]\n",
    "            while True:\n",
    "                if cur.pair[0] == key:\n",
    "                    cur.pair = (key, value) #update\n",
    "                    return\n",
    "                if cur.next == None: break\n",
    "                cur = cur.next\n",
    "            cur.next = ListNode(key, value)\n",
    "        \n",
    "\n",
    "    def get(self, key):\n",
    "        \"\"\"\n",
    "        Returns the value to which the specified key is mapped, or -1 if this map contains no mapping for the key\n",
    "        :type key: int\n",
    "        :rtype: int\n",
    "        \"\"\"\n",
    "        index = key % self.m\n",
    "        cur = self.h[index]\n",
    "        while cur:\n",
    "            if cur.pair[0] == key:\n",
    "                return cur.pair[1]\n",
    "            else:\n",
    "                cur = cur.next\n",
    "        return -1\n",
    "            \n",
    "        \n",
    "\n",
    "    def remove(self, key):\n",
    "        \"\"\"\n",
    "        Removes the mapping of the specified value key if this map contains a mapping for the key\n",
    "        :type key: int\n",
    "        :rtype: void\n",
    "        \"\"\"\n",
    "        index = key % self.m\n",
    "        cur = prev = self.h[index]\n",
    "        if not cur: return\n",
    "        if cur.pair[0] == key:\n",
    "            self.h[index] = cur.next\n",
    "        else:\n",
    "            cur = cur.next\n",
    "            while cur:\n",
    "                if cur.pair[0] == key:\n",
    "                    prev.next = cur.next\n",
    "                    break\n",
    "                else:\n",
    "                    cur, prev = cur.next, prev.next"
   ]
  },
  {
   "cell_type": "code",
   "execution_count": null,
   "metadata": {},
   "outputs": [],
   "source": [
    "#Python straightforward solution using one/two lists\n",
    "\n",
    "\n",
    "class MyHashMap(object):\n",
    "\n",
    "    def __init__(self):\n",
    "        self.items = [0] * 1000000\n",
    "        \n",
    "    def put(self, key, value):\n",
    "        self.items[key] = value + key + 1\n",
    "        \n",
    "    def get(self, key):\n",
    "        if self.items[key]:\n",
    "            return self.items[key] - key - 1\n",
    "        else:\n",
    "            return -1\n",
    "        \n",
    "    def remove(self, key):\n",
    "        self.items[key] = 0\n",
    "\n",
    "#It has been pointed out the average search, insert and delete functions shall be O(1) for Hashtable. So the below implementation is not strictly hashtable by definition. Though the question itself does not explicitly state the time complexity requirement and it gets passed for all test cases\n",
    "\n",
    "class MyHashMap(object):\n",
    "\n",
    "    def __init__(self):\n",
    "        self.keys = []\n",
    "        self.values = []\n",
    "        \n",
    "    def put(self, key, value):\n",
    "        if key in self.keys:\n",
    "            self.values[self.keys.index(key)] = value\n",
    "        else:\n",
    "            self.keys.append(key)\n",
    "            self.values.append(value)\n",
    "        \n",
    "    def get(self, key):\n",
    "        if key in self.keys:\n",
    "            return self.values[self.keys.index(key)]\n",
    "        else:\n",
    "            return -1\n",
    "        \n",
    "    def remove(self, key):\n",
    "        if key in self.keys:\n",
    "            del self.values[self.keys.index(key)]\n",
    "            del self.keys[self.keys.index(key)] "
   ]
  },
  {
   "cell_type": "code",
   "execution_count": null,
   "metadata": {},
   "outputs": [],
   "source": [
    "class MyHashMap:\n",
    "\n",
    "def __init__(self):\n",
    "    \"\"\"\n",
    "    Initialize your data structure here.\n",
    "    \"\"\"\n",
    "    self.dic = []\n",
    "    \n",
    "\n",
    "def put(self, key, value):\n",
    "    \"\"\"\n",
    "    value will always be non-negative.\n",
    "    :type key: int\n",
    "    :type value: int\n",
    "    :rtype: void\n",
    "    \"\"\"\n",
    "    i = bisect.bisect_left(self.dic, (key,))\n",
    "    if i==len(self.dic) or key != self.dic[i][0]:\n",
    "        self.dic.insert(i,(key, value))\n",
    "    else: \n",
    "        self.dic[i] = (key, value)            \n",
    "        \n",
    "\n",
    "def get(self, key):\n",
    "    \"\"\"\n",
    "    Returns the value to which the specified key is mapped, or -1 if this map contains no mapping for the key\n",
    "    :type key: int\n",
    "    :rtype: int\n",
    "    \"\"\"\n",
    "    i = bisect.bisect_left(self.dic, (key,))\n",
    "    if i==len(self.dic) or key != self.dic[i][0]:\n",
    "        return -1\n",
    "    else:\n",
    "        return self.dic[i][1]\n",
    "\n",
    "def remove(self, key):\n",
    "    \"\"\"\n",
    "    Removes the mapping of the specified value key if this map contains a mapping for the key\n",
    "    :type key: int\n",
    "    :rtype: void\n",
    "    \"\"\"\n",
    "    i = bisect.bisect_left(self.dic, (key,))\n",
    "    if i==len(self.dic) or key != self.dic[i][0]:\n",
    "        pass\n",
    "    else:\n",
    "        self.dic.pop(i)"
   ]
  },
  {
   "cell_type": "code",
   "execution_count": null,
   "metadata": {},
   "outputs": [],
   "source": [
    "class Node:\n",
    "    def __init__(self, key, value):\n",
    "        self.key = key\n",
    "        self.value = value\n",
    "        self.next = None\n",
    "\n",
    "        \n",
    "class MyHashMap:\n",
    "\n",
    "    def __init__(self):\n",
    "        \"\"\"\n",
    "        Initialize your data structure here.\n",
    "        \"\"\"\n",
    "        self.map = [None] * 10000\n",
    "\n",
    "    def put(self, key: int, value: int) -> None:\n",
    "        \"\"\"\n",
    "        value will always be non-negative.\n",
    "        \"\"\"\n",
    "        hash_index = hash(key) % 10000\n",
    "        if self.map[hash_index] is None:\n",
    "            self.map[hash_index] = Node(key, value)\n",
    "        else:\n",
    "            previous = None\n",
    "            start = self.map[hash_index]\n",
    "            while start is not None:\n",
    "                if start.key == key:\n",
    "                    start.value = value\n",
    "                    return\n",
    "                previous = start\n",
    "                start = start.next\n",
    "                \n",
    "            previous.next = Node(key, value)\n",
    "        \n",
    "    def get(self, key: int) -> int:\n",
    "        \"\"\"\n",
    "        Returns the value to which the specified key is mapped, or -1 if this map contains no mapping for the key\n",
    "        \"\"\"\n",
    "        hash_index = hash(key) % 10000\n",
    "        start = self.map[hash_index]\n",
    "        while start is not None:\n",
    "            if start.key == key:\n",
    "                return start.value\n",
    "            start = start.next\n",
    "        return -1\n",
    "         \n",
    "\n",
    "    def remove(self, key: int) -> None:\n",
    "        \"\"\"\n",
    "        Removes the mapping of the specified value key if this map contains a mapping for the key\n",
    "        \"\"\"\n",
    "        hash_index = hash(key) % 10000\n",
    "        previous = None\n",
    "        start = self.map[hash_index]\n",
    "        while start is not None:\n",
    "            if start.key == key:\n",
    "                if previous is None:\n",
    "                    self.map[hash_index] = start.next\n",
    "                else:\n",
    "                    previous.next = start.next\n",
    "                return\n",
    "            previous = start\n",
    "            start = start.next"
   ]
  },
  {
   "cell_type": "code",
   "execution_count": null,
   "metadata": {},
   "outputs": [],
   "source": []
  },
  {
   "cell_type": "code",
   "execution_count": null,
   "metadata": {},
   "outputs": [],
   "source": [
    "937. Reorder Log Files\n",
    "\n",
    "You have an array of logs.  Each log is a space delimited string of words.\n",
    "\n",
    "For each log, the first word in each log is an alphanumeric identifier.  Then, either:\n",
    "\n",
    "Each word after the identifier will consist only of lowercase letters, or;\n",
    "Each word after the identifier will consist only of digits.\n",
    "We will call these two varieties of logs letter-logs and digit-logs.  It is guaranteed that each log has at least one word after its identifier.\n",
    "\n",
    "Reorder the logs so that all of the letter-logs come before any digit-log.  The letter-logs are ordered lexicographically ignoring identifier, with the identifier used in case of ties.  The digit-logs should be put in their original order.\n",
    "\n",
    "Return the final order of the logs.\n",
    "\n",
    " \n",
    "\n",
    "Example 1:\n",
    "\n",
    "Input: [\"a1 9 2 3 1\",\"g1 act car\",\"zo4 4 7\",\"ab1 off key dog\",\"a8 act zoo\"]\n",
    "Output: [\"g1 act car\",\"a8 act zoo\",\"ab1 off key dog\",\"a1 9 2 3 1\",\"zo4 4 7\"]\n",
    "\n",
    "Note:\n",
    "\n",
    "0 <= logs.length <= 100\n",
    "3 <= logs[i].length <= 100\n",
    "logs[i] is guaranteed to have an identifier, and a word after the identifier."
   ]
  },
  {
   "cell_type": "code",
   "execution_count": null,
   "metadata": {},
   "outputs": [],
   "source": [
    "class Solution:\n",
    "    def reorderLogFiles(self, logs):\n",
    "        l = filter(lambda l: l[l.find(\" \") + 1].isalpha(), logs)\n",
    "        d = filter(lambda l: l[l.find(\" \") + 1].isdigit(), logs)\n",
    "        return sorted(l, key = lambda x: (x[x.find(\" \"):], x[:x.find(\" \")])) + list(d)"
   ]
  },
  {
   "cell_type": "code",
   "execution_count": 961,
   "metadata": {},
   "outputs": [
    {
     "name": "stdout",
     "output_type": "stream",
     "text": [
      "['g1 act car', 'ab1 off key dog', 'a8 act zoo']\n"
     ]
    }
   ],
   "source": [
    "logs = [\"a1 9 2 3 1\",\"g1 act car\",\"zo4 4 7\",\"ab1 off key dog\",\"a8 act zoo\"]\n",
    "l = filter(lambda l: l[l.find(\" \") + 1].isalpha(), logs)\n",
    "print(list(l))"
   ]
  },
  {
   "cell_type": "code",
   "execution_count": null,
   "metadata": {},
   "outputs": [],
   "source": [
    "     def reorderLogFiles(self, logs):\n",
    "        letter_logs = []\n",
    "        digit_logs = []        \n",
    "         \n",
    "        for log in logs:\n",
    "            if log.split()[1].isdigit():\n",
    "                digit_logs.append(log)\n",
    "            else:\n",
    "                letter_logs.append(log)\n",
    "            \n",
    "        letter_logs.sort(key=lambda log: log.split()[0])     # when suffix is tie, sort by identifier\n",
    "        letter_logs.sort(key=lambda log: log.split()[1:])    # sorted by suffix\n",
    "        \n",
    "        return letter_logs + digit_logs    # put digit logs after letter logs"
   ]
  },
  {
   "cell_type": "code",
   "execution_count": null,
   "metadata": {},
   "outputs": [],
   "source": [
    "class Solution:\n",
    "    def reorderLogFiles(self, logs):\n",
    "        letterLogs = []\n",
    "        digitLogs = []\n",
    "        for log in logs:\n",
    "            logList = log.split()\n",
    "            if logList[1][0].isalpha():\n",
    "                letterLogs.append(log)\n",
    "            else:\n",
    "                digitLogs.append(log)\n",
    "        letterLogsSorted = sorted(letterLogs, key = lambda x: ' '.join(x.split()[1:]))\n",
    "        return letterLogsSorted + digitLogs"
   ]
  },
  {
   "cell_type": "code",
   "execution_count": null,
   "metadata": {},
   "outputs": [],
   "source": []
  },
  {
   "cell_type": "code",
   "execution_count": null,
   "metadata": {},
   "outputs": [],
   "source": []
  },
  {
   "cell_type": "code",
   "execution_count": null,
   "metadata": {},
   "outputs": [],
   "source": [
    "812. Largest Triangle Area\n",
    "\n",
    "You have a list of points in the plane. Return the area of the largest triangle that can be formed by any 3 of the points.\n",
    "\n",
    "Example:\n",
    "Input: points = [[0,0],[0,1],[1,0],[0,2],[2,0]]\n",
    "Output: 2\n",
    "Explanation: \n",
    "The five points are show in the figure below. The red triangle is the largest.\n",
    "\n",
    "\n",
    "Notes:\n",
    "\n",
    "3 <= points.length <= 50.\n",
    "No points will be duplicated.\n",
    " -50 <= points[i][j] <= 50.\n",
    "Answers within 10^-6 of the true value will be accepted as correct.\n"
   ]
  },
  {
   "cell_type": "code",
   "execution_count": null,
   "metadata": {},
   "outputs": [],
   "source": [
    "import itertools\n",
    "    def largestTriangleArea(self, p):\n",
    "        return max(0.5 * abs(i[0] * j[1] + j[0] * k[1] + k[0] * i[1]- j[0] * i[1] - k[0] * j[1] - i[0] * k[1])\n",
    "            for i, j, k in itertools.combinations(p, 3))"
   ]
  },
  {
   "cell_type": "code",
   "execution_count": null,
   "metadata": {},
   "outputs": [],
   "source": [
    "def largestTriangleArea(self, p):\n",
    "        return max(0.5 * abs(xa*yb + xb*yc + xc*ya - xb*ya - xc*yb - xa*yc)\n",
    "                   for (xa, ya), (xb, yb), (xc, yc) in itertools.combinations(p, 3))"
   ]
  },
  {
   "cell_type": "code",
   "execution_count": null,
   "metadata": {},
   "outputs": [],
   "source": [
    "#The speed can be significantly improved by identifying the boundary of all the points first and then calculating the areas.\n",
    "#The boundary search algorithm can be found in the following link: # https://en.wikibooks.org/wiki/Algorithm_Implementation/Geometry/Convex_hull/Monotone_chain\n",
    "\n",
    "from itertools import permutations\n",
    "class Solution(object):\n",
    "    def largestTriangleArea(self, points):\n",
    "        \"\"\"\n",
    "        :type points: List[List[int]]\n",
    "        :rtype: float\n",
    "        \"\"\"\n",
    "        def area(p1,p2,p3):\n",
    "            x1,y1=p1\n",
    "            x2,y2=p2\n",
    "            x3,y3=p3\n",
    "            return 0.5*(x1*y2+x2*y3+x3*y1-x3*y2-x2*y1-x1*y3)\n",
    "\n",
    "        def boundary(points):\n",
    "            points=sorted(points,key=lambda p: (p[0],p[1]))\n",
    "            def cross(o,a,b): return (o[0]-a[0])*(o[1]-b[1])-(o[1]-a[1])*(o[0]-b[0])\n",
    "            lower=[]\n",
    "            for p in points:\n",
    "                while len(lower)>=2 and cross(lower[-2],lower[-1],p)<0: lower.pop()\n",
    "                lower.append(tuple(p))\n",
    "            upper=[]\n",
    "            for p in reversed(points):\n",
    "                while len(upper)>=2 and cross(upper[-2],upper[-1],p)<0: upper.pop()\n",
    "                upper.append(tuple(p))\n",
    "            return list(set(lower[:-1]+upper[:-1]))\n",
    "\n",
    "        res=0\n",
    "        bound=boundary(points)\n",
    "        for p1,p2,p3 in permutations(bound,3):\n",
    "            tmp=area(p1,p2,p3)\n",
    "            if tmp>res: res=tmp\n",
    "        return res"
   ]
  },
  {
   "cell_type": "code",
   "execution_count": null,
   "metadata": {},
   "outputs": [],
   "source": []
  },
  {
   "cell_type": "code",
   "execution_count": null,
   "metadata": {},
   "outputs": [],
   "source": [
    "892. Surface Area of 3D Shapes\n",
    "\n",
    "On a N * N grid, we place some 1 * 1 * 1 cubes.\n",
    "\n",
    "Each value v = grid[i][j] represents a tower of v cubes placed on top of grid cell (i, j).\n",
    "\n",
    "Return the total surface area of the resulting shapes.\n",
    "\n",
    " \n",
    "\n",
    "Example 1:\n",
    "\n",
    "Input: [[2]]\n",
    "Output: 10\n",
    "Example 2:\n",
    "\n",
    "Input: [[1,2],[3,4]]\n",
    "Output: 34\n",
    "Example 3:\n",
    "\n",
    "Input: [[1,0],[0,2]]\n",
    "Output: 16\n",
    "Example 4:\n",
    "\n",
    "Input: [[1,1,1],[1,0,1],[1,1,1]]\n",
    "Output: 32\n",
    "Example 5:\n",
    "\n",
    "Input: [[2,2,2],[2,1,2],[2,2,2]]\n",
    "Output: 46"
   ]
  },
  {
   "cell_type": "code",
   "execution_count": null,
   "metadata": {},
   "outputs": [],
   "source": [
    "#REFER to question 463. 1099. 892. 733. 661. 994."
   ]
  },
  {
   "cell_type": "code",
   "execution_count": null,
   "metadata": {},
   "outputs": [],
   "source": [
    "def surfaceArea(self, grid):\n",
    "        n, res = len(grid), 0\n",
    "        for i in range(n):\n",
    "            for j in range(n):\n",
    "                if grid[i][j]: res += 2 + grid[i][j] * 4\n",
    "                if i: res -= min(grid[i][j], grid[i - 1][j]) * 2\n",
    "                if j: res -= min(grid[i][j], grid[i][j - 1]) * 2\n",
    "        return res"
   ]
  },
  {
   "cell_type": "code",
   "execution_count": null,
   "metadata": {},
   "outputs": [],
   "source": [
    "#Surface area of each cell is 4 * lateral area + upper and lower face unit areas.\n",
    "#For each cell, neighbour cells blocks some area, which is the minimum of 2 cells taken into account.\n",
    "\n",
    "class Solution:\n",
    "    def surfaceArea(self, grid):\n",
    "        n, sm = len(grid), 0\n",
    "        for i in range(n):\n",
    "            for j in range(n):\n",
    "                if grid[i][j]:\n",
    "                    sm += grid[i][j] * 4 + 2\n",
    "                    sm -= i and min(grid[i - 1][j], grid[i][j])\n",
    "                    sm -= j and min(grid[i][j - 1], grid[i][j])\n",
    "                    sm -= i < n - 1 and min(grid[i + 1][j], grid[i][j])\n",
    "                    sm -= j < n - 1 and min(grid[i][j + 1], grid[i][j])\n",
    "        return sm"
   ]
  },
  {
   "cell_type": "code",
   "execution_count": null,
   "metadata": {},
   "outputs": [],
   "source": [
    "class Solution(object):\n",
    "    def surfaceArea(self, grid):\n",
    "        N = len(grid)\n",
    "\n",
    "        ans = 0\n",
    "        for r in xrange(N):\n",
    "            for c in xrange(N):\n",
    "                if grid[r][c]:\n",
    "                    ans += 2\n",
    "                    for nr, nc in ((r-1, c), (r+1, c), (r, c-1), (r,c+1)):\n",
    "                        if 0 <= nr < N and 0 <= nc < N:\n",
    "                            nval = grid[nr][nc]\n",
    "                        else:\n",
    "                            nval = 0\n",
    "\n",
    "                        ans += max(grid[r][c] - nval, 0)\n",
    "\n",
    "        return ans"
   ]
  },
  {
   "cell_type": "code",
   "execution_count": null,
   "metadata": {},
   "outputs": [],
   "source": []
  },
  {
   "cell_type": "code",
   "execution_count": null,
   "metadata": {},
   "outputs": [],
   "source": [
    "917. Reverse Only Letters\n",
    "\n",
    "Given a string S, return the \"reversed\" string where all characters that are not a letter stay in the same place, and all letters reverse their positions.\n",
    "\n",
    " \n",
    "\n",
    "Example 1:\n",
    "\n",
    "Input: \"ab-cd\"\n",
    "Output: \"dc-ba\"\n",
    "Example 2:\n",
    "\n",
    "Input: \"a-bC-dEf-ghIj\"\n",
    "Output: \"j-Ih-gfE-dCba\"\n",
    "Example 3:\n",
    "\n",
    "Input: \"Test1ng-Leet=code-Q!\"\n",
    "Output: \"Qedo1ct-eeLg=ntse-T!\""
   ]
  },
  {
   "cell_type": "code",
   "execution_count": null,
   "metadata": {},
   "outputs": [],
   "source": [
    "#two pointers\n",
    "    def reverseOnlyLetters(self, S):\n",
    "        S, i, j = list(S), 0, len(S) - 1\n",
    "        while i < j:\n",
    "            if not S[i].isalpha():\n",
    "                i += 1\n",
    "            elif not S[j].isalpha():\n",
    "                j -= 1\n",
    "            else:\n",
    "                S[i], S[j] = S[j], S[i]\n",
    "                i, j = i + 1, j - 1\n",
    "        return \"\".join(S)"
   ]
  },
  {
   "cell_type": "code",
   "execution_count": null,
   "metadata": {},
   "outputs": [],
   "source": [
    "    def reverseOnlyLetters(self, S):\n",
    "        return re.sub(r'[A-Za-z]', \"{}\", S).format(*[c for c in S[::-1] if c.isalpha()])"
   ]
  },
  {
   "cell_type": "code",
   "execution_count": 963,
   "metadata": {},
   "outputs": [
    {
     "name": "stdout",
     "output_type": "stream",
     "text": [
      "{}-{}{}-{}{}{}-{}{}{}{}\n"
     ]
    }
   ],
   "source": [
    "import re\n",
    "S=\"a-bC-dEf-ghIj\"\n",
    "t = re.sub(r'[A-Za-z]', \"{}\", S)\n",
    "print(t)"
   ]
  },
  {
   "cell_type": "code",
   "execution_count": null,
   "metadata": {},
   "outputs": [],
   "source": [
    "class Solution:\n",
    "    def reverseOnlyLetters(self, S):\n",
    "        r = [s for s in S if s.isalpha()]\n",
    "        return \"\".join(S[i] if not S[i].isalpha() else r.pop() for i in range(len(S)))"
   ]
  },
  {
   "cell_type": "code",
   "execution_count": null,
   "metadata": {},
   "outputs": [],
   "source": [
    "def reverseOnlyLetters(self, S: str) -> str:\n",
    "    l = [c for c in S if c.isalpha()]\n",
    "    return ''.join(l.pop() if c.isalpha() else c for c in S)"
   ]
  },
  {
   "cell_type": "code",
   "execution_count": null,
   "metadata": {},
   "outputs": [],
   "source": []
  },
  {
   "cell_type": "code",
   "execution_count": null,
   "metadata": {},
   "outputs": [],
   "source": [
    "1141 User Activity for the Past 30 Days"
   ]
  },
  {
   "cell_type": "code",
   "execution_count": null,
   "metadata": {},
   "outputs": [],
   "source": [
    "select round(cast(count(activity_type) as float) /cast(count(distinct user_id) as float),2) as average_sessions_per_user\n",
    "from Activity \n",
    "where DATEDIFF(day,activity_date,'2019-07-27')<=30\n",
    "and activity_type in ('scroll_down','send_message')\n"
   ]
  },
  {
   "cell_type": "code",
   "execution_count": null,
   "metadata": {},
   "outputs": [],
   "source": []
  },
  {
   "cell_type": "code",
   "execution_count": null,
   "metadata": {},
   "outputs": [],
   "source": [
    "1013. Partition Array Into Three Parts With Equal Sum\n",
    "\n",
    "Given an array A of integers, return true if and only if we can partition the array into three non-empty parts with equal sums.\n",
    "\n",
    "Formally, we can partition the array if we can find indexes i+1 < j with (A[0] + A[1] + ... + A[i] == A[i+1] + A[i+2] + ... + A[j-1] == A[j] + A[j-1] + ... + A[A.length - 1])\n",
    "\n",
    " \n",
    "\n",
    "Example 1:\n",
    "\n",
    "Input: [0,2,1,-6,6,-7,9,1,2,0,1]\n",
    "Output: true\n",
    "Explanation: 0 + 2 + 1 = -6 + 6 - 7 + 9 + 1 = 2 + 0 + 1\n",
    "Example 2:\n",
    "\n",
    "Input: [0,2,1,-6,6,7,9,-1,2,0,1]\n",
    "Output: false\n",
    "Example 3:\n",
    "\n",
    "Input: [3,3,6,5,-2,2,5,1,-9,4]\n",
    "Output: true\n",
    "Explanation: 3 + 3 = 6 = 5 - 2 + 2 + 5 + 1 - 9 + 4\n",
    " \n",
    "\n",
    "Note:\n",
    "\n",
    "3 <= A.length <= 50000\n",
    "-10000 <= A[i] <= 10000"
   ]
  },
  {
   "cell_type": "code",
   "execution_count": null,
   "metadata": {},
   "outputs": [],
   "source": [
    "    def canThreePartsEqualSum(self, A):\n",
    "        if not sum(A)%3: return False\n",
    "        expected, total, count = sum(A)//3, 0, 0\n",
    "\n",
    "        for i in A:\n",
    "            total += i\n",
    "            if total == expected:\n",
    "                count += 1\n",
    "                total = 0\n",
    "\n",
    "        return count == 3"
   ]
  },
  {
   "cell_type": "code",
   "execution_count": null,
   "metadata": {},
   "outputs": [],
   "source": [
    "def canThreePartsEqualSum(self, A: List[int]) -> bool:\n",
    "    a = list(itertools.accumulate(A))\n",
    "    total = sum(A)\n",
    "    if total % 3 != 0:\n",
    "        return False\n",
    "    one = total // 3\n",
    "    two = one * 2\n",
    "    if one in a:\n",
    "        l_index = a.index(one)\n",
    "    else:\n",
    "        return False\n",
    "    if two in a[l_index:]:\n",
    "        return True\n",
    "    else:\n",
    "        return False"
   ]
  },
  {
   "cell_type": "code",
   "execution_count": null,
   "metadata": {},
   "outputs": [],
   "source": []
  },
  {
   "cell_type": "code",
   "execution_count": null,
   "metadata": {},
   "outputs": [],
   "source": [
    "953. Verifying an Alien Dictionary\n",
    "\n",
    "In an alien language, surprisingly they also use english lowercase letters, but possibly in a different order. The order of the alphabet is some permutation of lowercase letters.\n",
    "\n",
    "Given a sequence of words written in the alien language, and the order of the alphabet, return true if and only if the given words are sorted lexicographicaly in this alien language.\n",
    "\n",
    " \n",
    "\n",
    "Example 1:\n",
    "\n",
    "Input: words = [\"hello\",\"leetcode\"], order = \"hlabcdefgijkmnopqrstuvwxyz\"\n",
    "Output: true\n",
    "Explanation: As 'h' comes before 'l' in this language, then the sequence is sorted.\n",
    "Example 2:\n",
    "\n",
    "Input: words = [\"word\",\"world\",\"row\"], order = \"worldabcefghijkmnpqstuvxyz\"\n",
    "Output: false\n",
    "Explanation: As 'd' comes after 'l' in this language, then words[0] > words[1], hence the sequence is unsorted.\n",
    "Example 3:\n",
    "\n",
    "Input: words = [\"apple\",\"app\"], order = \"abcdefghijklmnopqrstuvwxyz\"\n",
    "Output: false\n",
    "Explanation: The first three characters \"app\" match, and the second string is shorter (in size.) According to lexicographical rules \"apple\" > \"app\", because 'l' > '∅', where '∅' is defined as the blank character which is less than any other character (More info).\n",
    " \n",
    "\n",
    "Note:\n",
    "\n",
    "1 <= words.length <= 100\n",
    "1 <= words[i].length <= 20\n",
    "order.length == 26\n",
    "All characters in words[i] and order are english lowercase letters."
   ]
  },
  {
   "cell_type": "code",
   "execution_count": null,
   "metadata": {},
   "outputs": [],
   "source": [
    "    def isAlienSorted(self, words, order):\n",
    "        m = {c: i for i, c in enumerate(order)}\n",
    "        words = [[m[c] for c in w] for w in words]\n",
    "        return all(w1 <= w2 for w1, w2 in zip(words, words[1:]))"
   ]
  },
  {
   "cell_type": "code",
   "execution_count": 970,
   "metadata": {},
   "outputs": [
    {
     "name": "stdout",
     "output_type": "stream",
     "text": [
      "[[0, 6, 1, 1, 14], [1, 6, 6, 19, 4, 14, 5, 6]]\n",
      "True\n"
     ]
    }
   ],
   "source": [
    "order = \"hlabcdefgijkmnopqrstuvwxyz\"\n",
    "m = {c: i for i, c in enumerate(order)}\n",
    "#print(m)\n",
    "words = [\"hello\",\"leetcode\"]\n",
    "words = [[m[c] for c in w] for w in words]\n",
    "print(words)\n",
    "for w1, w2 in zip(words, words[1:]):\n",
    "    print(w1<=w2)"
   ]
  },
  {
   "cell_type": "code",
   "execution_count": null,
   "metadata": {},
   "outputs": [],
   "source": [
    "#Wrong solution\n",
    "class solution():\n",
    "    def isAlienSorted(self,words, order):\n",
    "        for w in words:\n",
    "            ord=-1\n",
    "            for c in w:\n",
    "                if order.find(c)-ord<=0:\n",
    "                    return False\n",
    "                else:\n",
    "                    ord = order.find(c)\n",
    "        return True\n"
   ]
  },
  {
   "cell_type": "code",
   "execution_count": 969,
   "metadata": {},
   "outputs": [
    {
     "name": "stdout",
     "output_type": "stream",
     "text": [
      "0 -1\n",
      "6 0\n",
      "1 6\n",
      "False\n",
      "1 6\n",
      "False\n",
      "14 6\n"
     ]
    }
   ],
   "source": [
    "w=\"hello\"\n",
    "ord=-1\n",
    "for c in w:\n",
    "    print(order.find(c),ord)\n",
    "    if order.find(c)-ord<=0:\n",
    "        print( False )\n",
    "    else:\n",
    "        ord = order.find(c)"
   ]
  },
  {
   "cell_type": "code",
   "execution_count": null,
   "metadata": {},
   "outputs": [],
   "source": [
    "def isAlienSorted(self, words, order):\n",
    "        return words == sorted(words, key=lambda w: map(order.index, w))"
   ]
  },
  {
   "cell_type": "code",
   "execution_count": null,
   "metadata": {},
   "outputs": [],
   "source": []
  },
  {
   "cell_type": "code",
   "execution_count": null,
   "metadata": {},
   "outputs": [],
   "source": [
    "292. Nim Game\n",
    "\n",
    "You are playing the following Nim Game with your friend: \n",
    "    There is a heap of stones on the table, \n",
    "    each time one of you take turns to remove 1 to 3 stones. \n",
    "    The one who removes the last stone will be the winner. You will take the first turn to remove the stones.\n",
    "\n",
    "Both of you are very clever and have optimal strategies for the game. \n",
    "Write a function to determine whether you can win the game given the number of stones in the heap.\n",
    "\n",
    "Example:\n",
    "\n",
    "Input: 4\n",
    "Output: false \n",
    "Explanation: If there are 4 stones in the heap, then you will never win the game;\n",
    "             No matter 1, 2, or 3 stones you remove, the last stone will always be \n",
    "             removed by your friend."
   ]
  },
  {
   "cell_type": "code",
   "execution_count": null,
   "metadata": {},
   "outputs": [],
   "source": [
    "def NimGame2(self,n):\n",
    "        if n<=3: return True\n",
    "        res = [False]*n\n",
    "        res[0],res[1],res[2],i=True,True,True,3\n",
    "        while i<n:\n",
    "            if res[i-3] and res[i-2] and res[i-1]:\n",
    "                res[i] = False\n",
    "            else:\n",
    "                res[i] = True\n",
    "            i += 1\n",
    "        return res[-1]\n",
    "            "
   ]
  },
  {
   "cell_type": "code",
   "execution_count": 89,
   "metadata": {},
   "outputs": [
    {
     "name": "stdout",
     "output_type": "stream",
     "text": [
      "[True, True, True, False, False, False, False, False, False, False]\n"
     ]
    }
   ],
   "source": [
    "n = 10\n",
    "print([True]*3 + [False]*(n-3))"
   ]
  },
  {
   "cell_type": "code",
   "execution_count": null,
   "metadata": {},
   "outputs": [],
   "source": []
  },
  {
   "cell_type": "code",
   "execution_count": null,
   "metadata": {},
   "outputs": [],
   "source": [
    "206. Reverse Linked List"
   ]
  },
  {
   "cell_type": "code",
   "execution_count": null,
   "metadata": {},
   "outputs": [],
   "source": [
    "class Solution():\n",
    "    def ReverseLinkedList(self,head):\n",
    "        tail=None\n",
    "        while head:\n",
    "            tmp = head.next\n",
    "            head.next = tail\n",
    "            tail = head\n",
    "            head = tmp\n",
    "        return tail\n"
   ]
  },
  {
   "cell_type": "code",
   "execution_count": null,
   "metadata": {},
   "outputs": [],
   "source": [
    "class Solution(object):\n",
    "def reverse_recursively(self, head, new_head):\n",
    "    if not head:\n",
    "        return new_head\n",
    "    nxt = head.next\n",
    "    head.next = new_head\n",
    "    return self.reverse_recursively(nxt, head)\n",
    "\n",
    "def reverseList(self, head):\n",
    "    # recursively\n",
    "    return self.reverse_recursively(head, None)\n",
    "\n",
    "def reverseList(self, head):\n",
    "    \"\"\"\n",
    "    :type head: ListNode\n",
    "    :rtype: ListNode\n",
    "    \"\"\"\n",
    "    new_head = None\n",
    "    while head:\n",
    "        nxt = head.next\n",
    "        head.next = new_head\n",
    "        new_head = head\n",
    "        head = nxt\n",
    "    return new_head"
   ]
  },
  {
   "cell_type": "code",
   "execution_count": null,
   "metadata": {},
   "outputs": [],
   "source": [
    "class Solution:\n",
    "# @param {ListNode} head\n",
    "# @return {ListNode}\n",
    "def reverseList(self, head):\n",
    "    prev = None\n",
    "    while head:\n",
    "        curr = head\n",
    "        head = head.next\n",
    "        curr.next = prev\n",
    "        prev = curr\n",
    "    return prev\n",
    "Recursion\n",
    "\n",
    "class Solution:\n",
    "# @param {ListNode} head\n",
    "# @return {ListNode}\n",
    "def reverseList(self, head):\n",
    "    return self._reverse(head)\n",
    "\n",
    "def _reverse(self, node, prev=None):\n",
    "    if not node:\n",
    "        return prev\n",
    "    n = node.next\n",
    "    node.next = prev\n",
    "    return self._reverse(n, node)"
   ]
  },
  {
   "cell_type": "code",
   "execution_count": null,
   "metadata": {},
   "outputs": [],
   "source": [
    "#Method 1: uses self as a dummy node for swapping\n",
    "\n",
    "def reverseList(self, head):\n",
    "    pre, pre.next, tail = self, head, head\n",
    "    while tail and tail.next:\n",
    "        pre.next, pre.next.next, tail.next = \\\n",
    "                  tail.next, pre.next, tail.next.next\n",
    "    return self.next\n",
    "#Method 2: swapping using two variable, pre and cur\n",
    "\n",
    "def reverseList(self, head):\n",
    "    pre, cur = None, head\n",
    "    while cur:\n",
    "        cur.next, pre, cur = pre, cur, cur.next\n",
    "    return pre\n",
    "#Method 3: Recursive method by storing previous node in the function argument.\n",
    "\n",
    "def reverseList(self, head, pre = None):\n",
    "    if not head: return pre\n",
    "    cur, head.next = head.next, pre\n",
    "    return self.reverseList(cur, head)"
   ]
  },
  {
   "cell_type": "code",
   "execution_count": null,
   "metadata": {},
   "outputs": [],
   "source": []
  },
  {
   "cell_type": "code",
   "execution_count": null,
   "metadata": {},
   "outputs": [],
   "source": [
    "182. Duplicate Emails\n",
    "#SQL\n",
    "select distinct a.Email from Person a inner join Person b on a.Email=b.Email and a.Id <> b.Id;\n",
    "#OR\n",
    "select Email from (select Email, Count(Email) as total_email from Person group by Email) where total_email>1"
   ]
  },
  {
   "cell_type": "code",
   "execution_count": null,
   "metadata": {},
   "outputs": [],
   "source": []
  },
  {
   "cell_type": "code",
   "execution_count": null,
   "metadata": {},
   "outputs": [],
   "source": [
    "349. Intersection of Two Arrays\n",
    "\n",
    "Given two arrays, write a function to compute their intersection.\n",
    "\n",
    "Example 1:\n",
    "\n",
    "Input: nums1 = [1,2,2,1], nums2 = [2,2]\n",
    "Output: [2]\n",
    "Example 2:\n",
    "\n",
    "Input: nums1 = [4,9,5], nums2 = [9,4,9,8,4]\n",
    "Output: [9,4]\n",
    "Note:\n",
    "\n",
    "Each element in the result must be unique.\n",
    "The result can be in any order."
   ]
  },
  {
   "cell_type": "code",
   "execution_count": 166,
   "metadata": {},
   "outputs": [
    {
     "data": {
      "text/plain": [
       "[9, 4]"
      ]
     },
     "execution_count": 166,
     "metadata": {},
     "output_type": "execute_result"
    }
   ],
   "source": [
    "class solution():\n",
    "    def IntersectionTwoArrays(self,nums1,nums2):\n",
    "        nums1 = nums1 if len(nums1)<=len(nums2) else nums2\n",
    "        res = []\n",
    "        for n in nums1:\n",
    "            if n in nums2:\n",
    "                res.append(n)\n",
    "        return list(set(res))\n",
    "nums1,nums2=[4,9,5],[9,4,9,8,4]\n",
    "a=solution()\n",
    "a.IntersectionTwoArrays(nums1,nums2)"
   ]
  },
  {
   "cell_type": "code",
   "execution_count": null,
   "metadata": {},
   "outputs": [],
   "source": [
    "class Solution(object):\n",
    "    def intersection(self, nums1, nums2):\n",
    "        return list(set(nums1) & set(nums2))"
   ]
  },
  {
   "cell_type": "code",
   "execution_count": null,
   "metadata": {},
   "outputs": [],
   "source": [
    "class Solution(object):\n",
    "    def intersection(self, nums1, nums2):\n",
    "        res = []\n",
    "        nums1.sort()\n",
    "        nums2.sort()\n",
    "        i = j = 0\n",
    "        \n",
    "        while i < len(nums1) and j < len(nums2):\n",
    "            if nums1[i] > nums2[j]:\n",
    "                j += 1\n",
    "            elif nums1[i] < nums2[j]:\n",
    "                i += 1\n",
    "            else:\n",
    "                if nums1[i] not in res: #if len(res) == 0 or nums1[i] != res[-1]:\n",
    "                    res.append(nums1[i])\n",
    "                i += 1\n",
    "                j += 1\n",
    "        \n",
    "        return res"
   ]
  },
  {
   "cell_type": "code",
   "execution_count": 40,
   "metadata": {},
   "outputs": [
    {
     "name": "stdout",
     "output_type": "stream",
     "text": [
      "[(4, 1), (9, 1)]\n",
      "[4, 9]\n"
     ]
    }
   ],
   "source": [
    "import collections\n",
    "nums1,nums2=[4,9,5],[9,4,9,8,4]\n",
    "print([(k, v) for k, v in collections.Counter(nums1).items() if k in nums2])\n",
    "print([key for key, v in collections.Counter(nums1).items() if key in nums2])"
   ]
  },
  {
   "cell_type": "code",
   "execution_count": null,
   "metadata": {},
   "outputs": [],
   "source": []
  },
  {
   "cell_type": "code",
   "execution_count": null,
   "metadata": {},
   "outputs": [],
   "source": [
    "896. Monotonic Array\n",
    "\n",
    "An array is monotonic if it is either monotone increasing or monotone decreasing.\n",
    "\n",
    "An array A is monotone increasing if for all i <= j, A[i] <= A[j].  \n",
    "An array A is monotone decreasing if for all i <= j, A[i] >= A[j].\n",
    "\n",
    "Return true if and only if the given array A is monotonic.\n",
    "\n",
    " \n",
    "\n",
    "Example 1:\n",
    "\n",
    "Input: [1,2,2,3]\n",
    "Output: true\n",
    "Example 2:\n",
    "\n",
    "Input: [6,5,4,4]\n",
    "Output: true\n",
    "Example 3:\n",
    "\n",
    "Input: [1,3,2]\n",
    "Output: false\n",
    "Example 4:\n",
    "\n",
    "Input: [1,2,4,5]\n",
    "Output: true\n",
    "Example 5:\n",
    "\n",
    "Input: [1,1,1]\n",
    "Output: true\n",
    " \n",
    "\n",
    "Note:\n",
    "\n",
    "1 <= A.length <= 50000\n",
    "-100000 <= A[i] <= 100000"
   ]
  },
  {
   "cell_type": "code",
   "execution_count": 172,
   "metadata": {},
   "outputs": [],
   "source": [
    "class solution():\n",
    "    def MonotonicArray(self,nums):\n",
    "        return all(a>=b for a,b in zip(nums,nums[1:])) or all(a<=b for a,b in zip(nums,nums[1:]))\n"
   ]
  },
  {
   "cell_type": "code",
   "execution_count": 173,
   "metadata": {},
   "outputs": [],
   "source": [
    "class Solution:\n",
    "    def isMonotonic(self, A):\n",
    "        return all(A[i] <= A[i - 1] for i in range(1, len(A))) or all(A[i] >= A[i - 1] for i in range(1, len(A)))"
   ]
  },
  {
   "cell_type": "code",
   "execution_count": null,
   "metadata": {},
   "outputs": [],
   "source": [
    "def isMonotonic(self, A):\n",
    "        return not {cmp(i, j) for i, j in zip(A, A[1:])} >= {1, -1}"
   ]
  },
  {
   "cell_type": "code",
   "execution_count": 97,
   "metadata": {},
   "outputs": [
    {
     "name": "stdout",
     "output_type": "stream",
     "text": [
      "[True, True, False]\n",
      "{0, -1}\n"
     ]
    }
   ],
   "source": [
    "nums=[1,2,4,4]\n",
    "print([a<b for a,b in zip(nums,nums[1:])])\n",
    "res = {(a>=b)-(a<=b) for a,b in zip(nums,nums[1:])}\n",
    "print(res)"
   ]
  },
  {
   "cell_type": "code",
   "execution_count": null,
   "metadata": {},
   "outputs": [],
   "source": []
  },
  {
   "cell_type": "code",
   "execution_count": null,
   "metadata": {},
   "outputs": [],
   "source": [
    "1084.Sales Analysis III\n",
    "\n",
    "#SQL\n",
    "select product_id from Sales where product_id not in \n",
    "(select product_id from Sales where sale_date<'2019-01-01' or sale_date>'2019-03-31');\n"
   ]
  },
  {
   "cell_type": "code",
   "execution_count": null,
   "metadata": {},
   "outputs": [],
   "source": []
  },
  {
   "cell_type": "code",
   "execution_count": null,
   "metadata": {},
   "outputs": [],
   "source": [
    "485. Max Consecutive Ones\n",
    "\n",
    "Given a binary array, find the maximum number of consecutive 1s in this array.\n",
    "\n",
    "Example 1:\n",
    "Input: [1,1,0,1,1,1]\n",
    "Output: 3\n",
    "Explanation: The first two digits or the last three digits are consecutive 1s.\n",
    "    The maximum number of consecutive 1s is 3.\n",
    "Note:\n",
    "\n",
    "The input array will only contain 0 and 1.\n",
    "The length of input array is a positive integer and will not exceed 10,000"
   ]
  },
  {
   "cell_type": "code",
   "execution_count": 202,
   "metadata": {},
   "outputs": [
    {
     "name": "stdout",
     "output_type": "stream",
     "text": [
      "111\n",
      "3\n"
     ]
    }
   ],
   "source": [
    "nums=[1,1,0,1,1,1]\n",
    "a = ''.join(str(n) for n in nums)\n",
    "b = [len(i) for i in a.split('0')]\n",
    "#c = a.split('0')\n",
    "#print(max(c,key=len))\n",
    "print(max(b))"
   ]
  },
  {
   "cell_type": "code",
   "execution_count": null,
   "metadata": {},
   "outputs": [],
   "source": [
    "class Solution(object):\n",
    "    def findMaxConsecutiveOnes(self, nums):\n",
    "        cnt, res = 0, 0\n",
    "        for num in nums:\n",
    "            if num == 1:\n",
    "                cnt += 1\n",
    "                res = max(res, cnt)\n",
    "            else:\n",
    "                cnt = 0\n",
    "        return res"
   ]
  },
  {
   "cell_type": "code",
   "execution_count": null,
   "metadata": {},
   "outputs": [],
   "source": [
    "def findMaxConsecutiveOnes(self, nums: List[int]) -> int:\n",
    "        res = 0\n",
    "        for key, group in itertools.groupby(nums):\n",
    "            if key == 1:\n",
    "                res = max(res, len(list(group)))\n",
    "        return res"
   ]
  },
  {
   "cell_type": "code",
   "execution_count": 199,
   "metadata": {},
   "outputs": [
    {
     "name": "stdout",
     "output_type": "stream",
     "text": [
      "1 [1, 1]\n",
      "0 [0]\n",
      "1 [1, 1, 1]\n"
     ]
    }
   ],
   "source": [
    "import itertools\n",
    "nums=[1,1,0,1,1,1]\n",
    "for key, group in itertools.groupby(nums):\n",
    "    print(key,list(group))"
   ]
  },
  {
   "cell_type": "code",
   "execution_count": null,
   "metadata": {},
   "outputs": [],
   "source": [
    "class Solution:\n",
    "    def findMaxConsecutiveOnes(self, nums: List[int]) -> int:\n",
    "        return len(max((''.join([str(x) for x in nums])).split('0'), key=len))"
   ]
  },
  {
   "cell_type": "code",
   "execution_count": null,
   "metadata": {},
   "outputs": [],
   "source": []
  },
  {
   "cell_type": "code",
   "execution_count": null,
   "metadata": {},
   "outputs": [],
   "source": [
    "512. Game Play Analysis II\n",
    "#SQL\n",
    "select a.player_id, device_id from Activity a inner join\n",
    "(select player_id, min(event_date) as earliest_event_date from Activity group by player_id) b\n",
    "on a.player_id=b.player_id and a.event_date=b.earliest_event_date;\n"
   ]
  },
  {
   "cell_type": "code",
   "execution_count": null,
   "metadata": {},
   "outputs": [],
   "source": []
  },
  {
   "cell_type": "code",
   "execution_count": null,
   "metadata": {},
   "outputs": [],
   "source": [
    "788. Rotated Digits\n",
    "\n",
    "X is a good number if after rotating each digit individually by 180 degrees, we get a valid number that is different from X.  Each digit must be rotated - we cannot choose to leave it alone.\n",
    "\n",
    "A number is valid if each digit remains a digit after rotation. 0, 1, and 8 rotate to themselves; 2 and 5 rotate to each other; 6 and 9 rotate to each other, and the rest of the numbers do not rotate to any other number and become invalid.\n",
    "\n",
    "Now given a positive number N, how many numbers X from 1 to N are good?\n",
    "\n",
    "Example:\n",
    "Input: 10\n",
    "Output: 4\n",
    "Explanation: \n",
    "There are four good numbers in the range [1, 10] : 2, 5, 6, 9.\n",
    "Note that 1 and 10 are not good numbers, since they remain unchanged after rotating.\n",
    "Note:\n",
    "\n",
    "N  will be in range [1, 10000]."
   ]
  },
  {
   "cell_type": "code",
   "execution_count": 210,
   "metadata": {},
   "outputs": [
    {
     "name": "stdout",
     "output_type": "stream",
     "text": [
      "True\n",
      "{'1', '8', '5', '2', '9', '0', '6'}\n"
     ]
    }
   ],
   "source": [
    "set1 ={'2','5','6','9'}\n",
    "set2 = {'6'}\n",
    "print(bool(set1 & set2))\n",
    "changed = {'2', '5', '6', '9'}\n",
    "valid = changed | {'0', '1', '8'}\n",
    "print(valid)"
   ]
  },
  {
   "cell_type": "code",
   "execution_count": null,
   "metadata": {},
   "outputs": [],
   "source": [
    "class Solution:\n",
    "    def rotatedDigits(self, N):\n",
    "        return len([num for num in range(1, N+1) if not set(str(num)) & {\"3\",\"4\",\"7\"} and \\\n",
    "                    set(str(num)) & {\"2\",\"5\",\"6\",\"9\"}])\n"
   ]
  },
  {
   "cell_type": "code",
   "execution_count": null,
   "metadata": {},
   "outputs": [],
   "source": []
  },
  {
   "cell_type": "code",
   "execution_count": null,
   "metadata": {},
   "outputs": [],
   "source": [
    "283. Move Zeroes\n",
    "\n",
    "Given an array nums, write a function to move all 0's to the end of it while maintaining the relative order of the non-zero elements.\n",
    "\n",
    "Example:\n",
    "\n",
    "Input: [0,1,0,3,12]\n",
    "Output: [1,3,12,0,0]\n",
    "Note:\n",
    "\n",
    "You must do this in-place without making a copy of the array.\n",
    "Minimize the total number of operations.\n"
   ]
  },
  {
   "cell_type": "code",
   "execution_count": 55,
   "metadata": {},
   "outputs": [
    {
     "name": "stdout",
     "output_type": "stream",
     "text": [
      "[0, 1, 2, 3, 4]\n",
      "1 1\n",
      "2 3\n",
      "3 4\n"
     ]
    },
    {
     "data": {
      "text/plain": [
       "[1, 3, 12, 0, 0]"
      ]
     },
     "execution_count": 55,
     "metadata": {},
     "output_type": "execute_result"
    }
   ],
   "source": [
    "class solution():\n",
    "    def MoveZeros(self,nums):\n",
    "        k = 0\n",
    "        for i in range(len(nums)):\n",
    "            if nums[i]!=0:\n",
    "                nums[i],nums[k]=nums[k],nums[i]\n",
    "                k += 1\n",
    "                print(k, i)\n",
    "        return nums\n",
    "nums=[0,1,0,3,12]\n",
    "print(list(range(len(nums))))\n",
    "a=solution()\n",
    "a.MoveZeros(nums)\n"
   ]
  },
  {
   "cell_type": "code",
   "execution_count": 65,
   "metadata": {},
   "outputs": [
    {
     "name": "stdout",
     "output_type": "stream",
     "text": [
      "[1, 0, 0, 3, 12] 1 0\n",
      "[1, 3, 0, 0, 12] 3 1\n",
      "[1, 3, 12, 0, 0] 4 2\n",
      "[1, 3, 12, 0, 0] 4 3\n",
      "[1, 3, 12, 0, 0] 4 4\n"
     ]
    },
    {
     "data": {
      "text/plain": [
       "[1, 3, 12, 0, 0]"
      ]
     },
     "execution_count": 65,
     "metadata": {},
     "output_type": "execute_result"
    }
   ],
   "source": [
    "#slow\n",
    "class solution():\n",
    "    def MoveZeroes2(self, nums):\n",
    "        for j in range(len(nums)):\n",
    "            i = j\n",
    "            if nums[j] == 0:\n",
    "                while i < len(nums)-1 and nums[i] == 0:\n",
    "                    i += 1\n",
    "                if i > j:\n",
    "                    nums[i], nums[j] = nums[j], nums[i]\n",
    "            print(nums, i, j)\n",
    "        return nums\n",
    "\n",
    "nums=[0,1,0,3,12]\n",
    "a=solution()\n",
    "a.MoveZeroes2(nums)"
   ]
  },
  {
   "cell_type": "code",
   "execution_count": null,
   "metadata": {},
   "outputs": [],
   "source": [
    "748. Shortest Completing Word\n",
    "\n",
    "Find the minimum length word from a given dictionary words, which has all the letters from the string licensePlate. Such a word is said to complete the given string licensePlate\n",
    "\n",
    "Here, for letters we ignore case. For example, \"P\" on the licensePlate still matches \"p\" on the word.\n",
    "\n",
    "It is guaranteed an answer exists. If there are multiple answers, return the one that occurs first in the array.\n",
    "\n",
    "The license plate might have the same letter occurring multiple times. For example, given a licensePlate of \"PP\", the word \"pair\" does not complete the licensePlate, but the word \"supper\" does.\n",
    "\n",
    "Example 1:\n",
    "Input: licensePlate = \"1s3 PSt\", words = [\"step\", \"steps\", \"stripe\", \"stepple\"]\n",
    "Output: \"steps\"\n",
    "Explanation: The smallest length word that contains the letters \"S\", \"P\", \"S\", and \"T\".\n",
    "Note that the answer is not \"step\", because the letter \"s\" must occur in the word twice.\n",
    "Also note that we ignored case for the purposes of comparing whether a letter exists in the word.\n",
    "Example 2:\n",
    "Input: licensePlate = \"1s3 456\", words = [\"looks\", \"pest\", \"stew\", \"show\"]\n",
    "Output: \"pest\"\n",
    "Explanation: There are 3 smallest length words that contains the letters \"s\".\n",
    "We return the one that occurred first.\n",
    "Note:\n",
    "licensePlate will be a string with length in range [1, 7].\n",
    "licensePlate will contain digits, spaces, or letters (uppercase or lowercase).\n",
    "words will have a length in the range [10, 1000].\n",
    "Every words[i] will consist of lowercase letters, and have length in range [1, 15]."
   ]
  },
  {
   "cell_type": "code",
   "execution_count": null,
   "metadata": {},
   "outputs": [],
   "source": [
    "class Solution:\n",
    "    def shortestCompletingWord(self, lp, words):\n",
    "        cnt = collections.Counter(\"\".join(c for c in lp.lower() if c.isalpha()))\n",
    "        return min([w for w in words if not cnt - collections.Counter(w)], key = len)"
   ]
  },
  {
   "cell_type": "code",
   "execution_count": 217,
   "metadata": {},
   "outputs": [
    {
     "name": "stdout",
     "output_type": "stream",
     "text": [
      "Counter({'s': 2, 'p': 1, 't': 1})\n",
      "Counter({'s': 2, 't': 1, 'e': 1, 'p': 1})\n",
      "Counter()\n"
     ]
    }
   ],
   "source": [
    "lp = \"1s3 PSt\"\n",
    "cnt = collections.Counter(\"\".join(c for c in lp.lower() if c.isalpha()))\n",
    "print(cnt)\n",
    "w=\"steps\"\n",
    "b = collections.Counter(w)\n",
    "print(b)\n",
    "print(cnt-b)"
   ]
  },
  {
   "cell_type": "code",
   "execution_count": null,
   "metadata": {},
   "outputs": [],
   "source": [
    "    def a_in_b(c1, c2):\n",
    "            for k in c1.keys():\n",
    "                if c2[k] < c1[k]:\n",
    "                    return False\n",
    "            return True\n",
    "        from collections import Counter\n",
    "        lp = \"\".join([c for c in licensePlate if c.isalpha()]).lower()\n",
    "        c = Counter(lp)\n",
    "        min_len = 1001\n",
    "        r = ''\n",
    "        for index,word in enumerate(words):\n",
    "            w = Counter(word.lower())\n",
    "            if a_in_b(c,w):\n",
    "                if len(word) < min_len:\n",
    "                    min_len = len(word)\n",
    "                    r = word\n",
    "        return r"
   ]
  },
  {
   "cell_type": "code",
   "execution_count": null,
   "metadata": {},
   "outputs": [],
   "source": []
  },
  {
   "cell_type": "code",
   "execution_count": null,
   "metadata": {},
   "outputs": [],
   "source": [
    "705. Design HashSet\n",
    "\n",
    "Design a HashSet without using any built-in hash table libraries.\n",
    "\n",
    "To be specific, your design should include these functions:\n",
    "\n",
    "add(value): Insert a value into the HashSet. \n",
    "contains(value) : Return whether the value exists in the HashSet or not.\n",
    "remove(value): Remove a value in the HashSet. If the value does not exist in the HashSet, do nothing.\n",
    "\n",
    "Example:\n",
    "\n",
    "MyHashSet hashSet = new MyHashSet();\n",
    "hashSet.add(1);         \n",
    "hashSet.add(2);         \n",
    "hashSet.contains(1);    // returns true\n",
    "hashSet.contains(3);    // returns false (not found)\n",
    "hashSet.add(2);          \n",
    "hashSet.contains(2);    // returns true\n",
    "hashSet.remove(2);          \n",
    "hashSet.contains(2);    // returns false (already removed)"
   ]
  },
  {
   "cell_type": "code",
   "execution_count": null,
   "metadata": {},
   "outputs": [],
   "source": [
    "class ListNode():\n",
    "    def __init__(self,key,next):\n",
    "        self.key, self.next =key, next\n",
    "class MyHashSet():\n",
    "    def __init__(self):\n",
    "        self.size, self.buckets=10000,[None]*10000\n",
    "    \n",
    "    def add(self,key):\n",
    "        idx = key%self.size\n",
    "        cur = self.buckets[idx]\n",
    "        if not cur:\n",
    "            self.buckets[idx]=ListNode(key,None)\n",
    "            return\n",
    "        while cur:\n",
    "            if cur.key==key: return\n",
    "            if not cur.next: \n",
    "                cur.next=ListNode(key,None)\n",
    "                return\n",
    "            if cur.next:\n",
    "                cur=cur.next\n",
    "        return\n",
    "    \n",
    "\n",
    "    def remove(self,key):\n",
    "        idx = key%self.size\n",
    "        cur = prev = self.buckets[idx]\n",
    "        if not cur: return\n",
    "        if cur.key == key:\n",
    "            self.buckets[idx]=cur.next\n",
    "        else:\n",
    "            cur = cur.next\n",
    "        while cur:\n",
    "            if cur.key==key:\n",
    "                prev.next = cur.next\n",
    "                return\n",
    "            else:\n",
    "                cur, prev = cur.next, prev.next\n",
    "        return\n",
    "    \n",
    "    def contain(self,key):\n",
    "        idx = key%self.size\n",
    "        cur = self.buckets[idx]\n",
    "        while cur:\n",
    "            if cur.key==key:\n",
    "                return True\n",
    "            cur=cur.next\n",
    "        return False"
   ]
  },
  {
   "cell_type": "code",
   "execution_count": null,
   "metadata": {},
   "outputs": [],
   "source": []
  },
  {
   "cell_type": "code",
   "execution_count": null,
   "metadata": {},
   "outputs": [],
   "source": [
    "690. Employee Importance\n",
    "\n",
    "You are given a data structure of employee information, \n",
    "which includes the employee's unique id, his importance value and his direct subordinates' id.\n",
    "\n",
    "For example, employee 1 is the leader of employee 2, and employee 2 is the leader of employee 3. \n",
    "They have importance value 15, 10 and 5, respectively. Then employee 1 has a data structure like [1, 15, [2]], \n",
    "and employee 2 has [2, 10, [3]], and employee 3 has [3, 5, []]. \n",
    "Note that although employee 3 is also a subordinate of employee 1, the relationship is not direct.\n",
    "\n",
    "Now given the employee information of a company, and an employee id, \n",
    "you need to return the total importance value of this employee and all his subordinates.\n",
    "\n",
    "Example 1:\n",
    "\n",
    "Input: [[1, 5, [2, 3]], [2, 3, []], [3, 3, []]], 1\n",
    "Output: 11\n",
    "Explanation:\n",
    "Employee 1 has importance value 5, and he has two direct subordinates: employee 2 and employee 3. They both have importance value 3. So the total importance value of employee 1 is 5 + 3 + 3 = 11.\n"
   ]
  },
  {
   "cell_type": "code",
   "execution_count": 220,
   "metadata": {},
   "outputs": [],
   "source": [
    "#wrong\n",
    "class solution():\n",
    "    def EmployeeImportance(self,elist, id):\n",
    "        res = 0\n",
    "        for e in elist:\n",
    "            if e[0]==id:\n",
    "                res += e[1]\n",
    "                if len(e[2]>0):\n",
    "                    for i in e[2]:\n",
    "                    res += EmployeeImportance(elist,i)\n",
    "        return res"
   ]
  },
  {
   "cell_type": "code",
   "execution_count": 221,
   "metadata": {},
   "outputs": [
    {
     "name": "stdout",
     "output_type": "stream",
     "text": [
      "[1, 2, 3]\n"
     ]
    }
   ],
   "source": [
    "elist=[[1, 5, [2, 3]], [2, 3, []], [3, 3, []]]\n",
    "print([e[0] for e in elist])"
   ]
  },
  {
   "cell_type": "code",
   "execution_count": null,
   "metadata": {},
   "outputs": [],
   "source": [
    "def getImportance(self, employees, id):\n",
    "    employee = {e[0]: e for e in employees}\n",
    "    def total(id):\n",
    "        e = employee[id]\n",
    "        return e[1] + sum(map(total, e[2]))\n",
    "    return total(id)"
   ]
  },
  {
   "cell_type": "code",
   "execution_count": null,
   "metadata": {},
   "outputs": [],
   "source": [
    "class Solution:\n",
    "    def getImportance(self, employees, id):\n",
    "        dic = {employee.id: employee for employee in employees}\n",
    "        def val(employee): return employee.importance + sum(val(dic[sub]) for sub in employee.subordinates)\n",
    "        return val(dic[id])"
   ]
  },
  {
   "cell_type": "code",
   "execution_count": 149,
   "metadata": {},
   "outputs": [
    {
     "name": "stdout",
     "output_type": "stream",
     "text": [
      "[2, 3]\n",
      "[1, 5, [2, 3]]\n",
      "5 [2, 3]\n",
      "11\n"
     ]
    }
   ],
   "source": [
    "employees=[[1, 5, [2, 3]], [2, 3, []], [3, 3, []]]\n",
    "id = 1\n",
    "print([e[2] for e in employees if e[0] == id][0])\n",
    "em = [e for e in employees if e[0] == id][0]\n",
    "print(em)\n",
    "res, subor = em[1], em[2]\n",
    "print(res, subor)\n",
    "print(res + sum(e[1] for e in employees for sid in subor if sid == e[0]))"
   ]
  },
  {
   "cell_type": "code",
   "execution_count": 83,
   "metadata": {},
   "outputs": [],
   "source": [
    "#237. Delete Node in a Linked List"
   ]
  },
  {
   "cell_type": "code",
   "execution_count": null,
   "metadata": {},
   "outputs": [],
   "source": [
    "class Solution():\n",
    "    def DeleteNodeLinkedList(self,node):\n",
    "        if node == None: return None\n",
    "        if node.next:\n",
    "            node.val = node.next.val\n",
    "            node.next = node.next.next"
   ]
  },
  {
   "cell_type": "code",
   "execution_count": null,
   "metadata": {},
   "outputs": [],
   "source": []
  },
  {
   "cell_type": "code",
   "execution_count": null,
   "metadata": {},
   "outputs": [],
   "source": [
    "258. Add Digits\n",
    "Given a non-negative integer num, repeatedly add all its digits until the result has only one digit.\n",
    "\n",
    "Example:\n",
    "\n",
    "Input: 38\n",
    "Output: 2 \n",
    "Explanation: The process is like: 3 + 8 = 11, 1 + 1 = 2. \n",
    "             Since 2 has only one digit, return it.\n",
    "Follow up:\n",
    "Could you do it without any loop/recursion in O(1) runtime?"
   ]
  },
  {
   "cell_type": "code",
   "execution_count": null,
   "metadata": {},
   "outputs": [],
   "source": [
    "class solution():\n",
    "    def AddDigits(self,n):\n",
    "        if 0<=n<=9: return n\n",
    "        tmp=0\n",
    "        while n:\n",
    "            tmp += n%10\n",
    "            n = n//10\n",
    "        return self.AddDigits(tmp)\n",
    "        "
   ]
  },
  {
   "cell_type": "code",
   "execution_count": null,
   "metadata": {},
   "outputs": [],
   "source": []
  },
  {
   "cell_type": "code",
   "execution_count": null,
   "metadata": {},
   "outputs": [],
   "source": [
    "1029. Two City Scheduling\n",
    "\n",
    "There are 2N people a company is planning to interview. The cost of flying the i-th person to city A is costs[i][0], and the cost of flying the i-th person to city B is costs[i][1].\n",
    "\n",
    "Return the minimum cost to fly every person to a city such that exactly N people arrive in each city.\n",
    "\n",
    " \n",
    "\n",
    "Example 1:\n",
    "\n",
    "Input: [[10,20],[30,200],[400,50],[30,20]]\n",
    "Output: 110\n",
    "Explanation: \n",
    "The first person goes to city A for a cost of 10.\n",
    "The second person goes to city A for a cost of 30.\n",
    "The third person goes to city B for a cost of 50.\n",
    "The fourth person goes to city B for a cost of 20.\n",
    "\n",
    "The total minimum cost is 10 + 30 + 50 + 20 = 110 to have half the people interviewing in each city.\n",
    " \n",
    "\n",
    "Note:\n",
    "\n",
    "1 <= costs.length <= 100\n",
    "It is guaranteed that costs.length is even.\n",
    "1 <= costs[i][0], costs[i][1] <= 1000"
   ]
  },
  {
   "cell_type": "code",
   "execution_count": null,
   "metadata": {},
   "outputs": [],
   "source": [
    "class Solution:\n",
    "    def twoCitySchedCost(self, costs):\n",
    "        N = len(costs)//2\n",
    "        costs.sort(key = lambda x: x[0]-x[1])\n",
    "        return sum(i[0] for i in costs[:N]) + sum(j[1] for j in costs[N:])\n",
    "        #return sum(a if i < N else b for i, (a, b) in enumerate(costs))"
   ]
  },
  {
   "cell_type": "code",
   "execution_count": null,
   "metadata": {},
   "outputs": [],
   "source": [
    "class Solution:\n",
    "    def twoCitySchedCost(self, costs: List[List[int]]) -> int:\n",
    "        N = len(costs) // 2\n",
    "        dic = {(0, 0): 0}\n",
    "        \n",
    "        for cost in costs:\n",
    "            newdic = {}\n",
    "            for i, j in dic.keys():\n",
    "                if i + 1 <= N:\n",
    "                    newdic[i+1, j] = min(newdic.get((i+1, j), float('inf')), dic[i,j] + cost[0])\n",
    "                if j + 1 <= N:\n",
    "                    newdic[i, j+1] = min(newdic.get((i, j+1), float('inf')), dic[i,j] + cost[1])\n",
    "            dic = newdic\n",
    "        return dic[N, N]"
   ]
  },
  {
   "cell_type": "code",
   "execution_count": null,
   "metadata": {},
   "outputs": [],
   "source": []
  },
  {
   "cell_type": "code",
   "execution_count": null,
   "metadata": {},
   "outputs": [],
   "source": [
    "1071. Greatest Common Divisor of Strings\n",
    "\n",
    "For strings S and T, we say \"T divides S\" if and only if S = T + ... + T  (T concatenated with itself 1 or more times)\n",
    "\n",
    "Return the largest string X such that X divides str1 and X divides str2.\n",
    "\n",
    " \n",
    "\n",
    "Example 1:\n",
    "\n",
    "Input: str1 = \"ABCABC\", str2 = \"ABC\"\n",
    "Output: \"ABC\"\n",
    "Example 2:\n",
    "\n",
    "Input: str1 = \"ABABAB\", str2 = \"ABAB\"\n",
    "Output: \"AB\"\n",
    "Example 3:\n",
    "\n",
    "Input: str1 = \"LEET\", str2 = \"CODE\"\n",
    "Output: \"\"\n",
    " \n",
    "\n",
    "Note:\n",
    "\n",
    "1 <= str1.length <= 1000\n",
    "1 <= str2.length <= 1000\n",
    "str1[i] and str2[i] are English uppercase letters.\n"
   ]
  },
  {
   "cell_type": "code",
   "execution_count": 227,
   "metadata": {},
   "outputs": [
    {
     "name": "stdout",
     "output_type": "stream",
     "text": [
      "A A\n",
      "B B\n",
      "C C\n",
      "3\n"
     ]
    }
   ],
   "source": [
    "str1 = \"ABCABC\"\n",
    "str2 = \"ABC\"\n",
    "for a, b in zip(str1,str2):\n",
    "    print(a,b)\n",
    "import math\n",
    "print(math.gcd(len(str1),len(str2)))"
   ]
  },
  {
   "cell_type": "code",
   "execution_count": 233,
   "metadata": {},
   "outputs": [
    {
     "name": "stdout",
     "output_type": "stream",
     "text": [
      "AB\n",
      "ABC\n"
     ]
    }
   ],
   "source": [
    "class solution():\n",
    "    def gcdOfStrings(self, str1, str2):\n",
    "        l1,l2=len(str1),len(str2)\n",
    "        str = str1 if l1<l2 else str2\n",
    "        for l in range(min(l1,l2),0,-1):\n",
    "            if l1%l==0 and l2%l==0:\n",
    "                if str[:l]*(l1//l)==str1 and str2[:l]*(l2//l)==str2:\n",
    "                    return str[:l]\n",
    "        return \"\"\n",
    "str1 = \"ABABAB\"\n",
    "str2 = \"ABAB\"\n",
    "a=solution()\n",
    "print(a.gcdOfStrings(str1, str2))\n",
    "str1 = \"ABCABC\"\n",
    "str2 = \"ABC\"\n",
    "print(a.gcdOfStrings(str1, str2))"
   ]
  },
  {
   "cell_type": "code",
   "execution_count": 106,
   "metadata": {},
   "outputs": [
    {
     "name": "stdout",
     "output_type": "stream",
     "text": [
      "[('A', 'A'), ('B', 'B'), ('C', 'C')]\n",
      "['', '', '']\n"
     ]
    }
   ],
   "source": [
    "str1 = \"ABCABC\"\n",
    "str2 = \"ABC\"\n",
    "print(list(zip(str1, str2)))\n",
    "print(str1.split('ABC'))"
   ]
  },
  {
   "cell_type": "code",
   "execution_count": null,
   "metadata": {},
   "outputs": [],
   "source": [
    "    def gcdOfStrings(self, str1, str2):\n",
    "        arr = ''.join([a for a, b in zip(str1, str2) if a == b])\n",
    "        for i in range(1, len(arr) + 1)[::-1]:\n",
    "            if not ''.join(str1.split(arr[:i])) and not ''.join(str2.split(arr[:i])):\n",
    "                return arr[:i]\n",
    "        return ''"
   ]
  },
  {
   "cell_type": "code",
   "execution_count": null,
   "metadata": {},
   "outputs": [],
   "source": [
    "696. Count Binary Substrings\n",
    "\n",
    "Give a string s, count the number of non-empty (contiguous) substrings \n",
    "that have the same number of 0's and 1's, \n",
    "and all the 0's and all the 1's in these substrings are grouped consecutively.\n",
    "\n",
    "Substrings that occur multiple times are counted the number of times they occur.\n",
    "\n",
    "Example 1:\n",
    "Input: \"00110011\"\n",
    "Output: 6\n",
    "Explanation: There are 6 substrings that have equal number of consecutive 1's and 0's: \"0011\", \"01\", \"1100\", \"10\", \"0011\", and \"01\".\n",
    "\n",
    "Notice that some of these substrings repeat and are counted the number of times they occur.\n",
    "\n",
    "Also, \"00110011\" is not a valid substring because all the 0's (and 1's) are not grouped together.\n",
    "Example 2:\n",
    "Input: \"10101\"\n",
    "Output: 4\n",
    "Explanation: There are 4 substrings: \"10\", \"01\", \"10\", \"01\" that have equal number of consecutive 1's and 0's.\n",
    "Note:\n",
    "\n",
    "s.length will be between 1 and 50,000.\n",
    "s will only consist of \"0\" or \"1\" characters."
   ]
  },
  {
   "cell_type": "code",
   "execution_count": 107,
   "metadata": {},
   "outputs": [
    {
     "name": "stdout",
     "output_type": "stream",
     "text": [
      "[2, 2, 2, 2]\n"
     ]
    }
   ],
   "source": [
    "nums=\"00110011\"\n",
    "s = map(len, nums.replace('01', '0 1').replace('10', '1 0').split())\n",
    "print(list(s))\n"
   ]
  },
  {
   "cell_type": "code",
   "execution_count": null,
   "metadata": {},
   "outputs": [],
   "source": [
    "First, I count the number of 1 or 0 grouped consecutively.\n",
    "For example \"0110001111\" will be [1, 2, 3, 4].\n",
    "\n",
    "Second, for any possible substrings with 1 and 0 grouped consecutively, the number of valid substring will be the minimum number of 0 and 1.\n",
    "For example \"0001111\", will be min(3, 4) = 3, (\"01\", \"0011\", \"000111\")\n",
    "def countBinarySubstrings(self, s):\n",
    "        s = map(len, s.replace('01', '0 1').replace('10', '1 0').split())\n",
    "        return sum(min(a, b) for a, b in zip(s, s[1:]))\n"
   ]
  },
  {
   "cell_type": "code",
   "execution_count": 123,
   "metadata": {},
   "outputs": [
    {
     "name": "stdout",
     "output_type": "stream",
     "text": [
      "[1, 2, 3, 4]\n",
      "0 1\n",
      "1 2\n",
      "2 3\n"
     ]
    },
    {
     "data": {
      "text/plain": [
       "6"
      ]
     },
     "execution_count": 123,
     "metadata": {},
     "output_type": "execute_result"
    }
   ],
   "source": [
    "class solution():\n",
    "    def countBinarySubstrings2(self, s):\n",
    "        pre, cur, res = 0, 1, 0\n",
    "        for i in range(1, len(s)):\n",
    "            if s[i] == s[i - 1]:\n",
    "                cur += 1\n",
    "            else:\n",
    "                pre = cur\n",
    "                cur = 1\n",
    "            if pre >= cur:\n",
    "                res += 1\n",
    "        return res\n",
    "    \n",
    "    def countBinarySubstrings3(self, s):\n",
    "        pre, cur, res = 0, 1, 0\n",
    "        for i in range(1, len(s)):\n",
    "            if s[i] == s[i-1]:\n",
    "                cur += 1\n",
    "            else:\n",
    "                print(pre, cur)\n",
    "                res += min(pre, cur)\n",
    "                pre = cur\n",
    "                cur = 1\n",
    "                \n",
    "            #if pre >= cur: \n",
    "                #res += 1  #min(prev, cur)\n",
    "        return res + min(pre, cur)\n",
    "    \n",
    "    def countBinarySubstrings(self, s):\n",
    "        s = map(len, s.replace('01', '0 1').replace('10', '1 0').split())\n",
    "        #print(list(s))\n",
    "        s = list(s)\n",
    "        return sum(min(a, b) for a, b in zip(s, s[1:]))\n",
    "\n",
    "a = solution()\n",
    "s = \"0110001111\"\n",
    "ss = map(len, s.replace('01', '0 1').replace('10', '1 0').split())\n",
    "print(list(ss))\n",
    "a.countBinarySubstrings2(s)\n",
    "a.countBinarySubstrings3(s)"
   ]
  },
  {
   "cell_type": "code",
   "execution_count": null,
   "metadata": {},
   "outputs": [],
   "source": []
  },
  {
   "cell_type": "code",
   "execution_count": null,
   "metadata": {},
   "outputs": [],
   "source": [
    "1076.Project Employees II\n",
    "#SQL\n",
    "with a as (select project_id, count(employee_id) as e_numb from Project group by project_id)\n",
    "select distinct project_id from a where e_numb in (select max(e_numb) from a)"
   ]
  },
  {
   "cell_type": "code",
   "execution_count": null,
   "metadata": {},
   "outputs": [],
   "source": []
  },
  {
   "cell_type": "code",
   "execution_count": null,
   "metadata": {},
   "outputs": [],
   "source": [
    "448. Find All Numbers Disappeared in an Array\n",
    "\n",
    "Given an array of integers where 1 ≤ a[i] ≤ n (n = size of array), \n",
    "some elements appear twice and others appear once.\n",
    "\n",
    "Find all the elements of [1, n] inclusive that do not appear in this array.\n",
    "\n",
    "Could you do it without extra space and in O(n) runtime? You may assume the returned list does not count as extra space.\n",
    "\n",
    "Example:\n",
    "\n",
    "Input:\n",
    "[4,3,2,7,8,2,3,1]\n",
    "\n",
    "Output:\n",
    "[5,6]\n"
   ]
  },
  {
   "cell_type": "code",
   "execution_count": null,
   "metadata": {},
   "outputs": [],
   "source": [
    "class Solution(object):\n",
    "    def findDisappearedNumbers(self, nums):\n",
    "        t = set(range(1,len(nums)+1))\n",
    "        return list(t-set(nums)&t)"
   ]
  },
  {
   "cell_type": "code",
   "execution_count": null,
   "metadata": {},
   "outputs": [],
   "source": [
    "class Solution(object):\n",
    "    def findDisappearedNumbers(self, nums):\n",
    "        \"\"\"\n",
    "        :type nums: List[int]\n",
    "        :rtype: List[int]\n",
    "        \"\"\"\n",
    "        marked = set(nums)\n",
    "        return [i for i in range(1, len(nums)+1) if i not in marked]\n"
   ]
  },
  {
   "cell_type": "code",
   "execution_count": null,
   "metadata": {},
   "outputs": [],
   "source": [
    "#Approach 1: Iterate the array and mark the position implied by every element as negative. \n",
    "#Then in the second iteration, we simply need to report the positive numbers.\n",
    "\n",
    "class Solution(object):\n",
    "    def findDisappearedNumbers(self, nums):\n",
    "        \"\"\"\n",
    "        :type nums: List[int]\n",
    "        :rtype: List[int]\n",
    "        \"\"\"\n",
    "        for i in range(len(nums)):\n",
    "            x = abs(nums[i])\n",
    "            nums[x-1] = -1*abs(nums[x-1])\n",
    "        return [i+1 for i in range(len(nums)) if nums[i]>0]\n",
    "    "
   ]
  },
  {
   "cell_type": "code",
   "execution_count": 124,
   "metadata": {},
   "outputs": [
    {
     "name": "stdout",
     "output_type": "stream",
     "text": [
      "[-4, -3, -2, -7, 8, 2, -3, -1]\n"
     ]
    }
   ],
   "source": [
    "nums= [4,3,2,7,8,2,3,1]\n",
    "for i in range(len(nums)):\n",
    "    x = abs(nums[i])\n",
    "    nums[x-1] = -1*abs(nums[x-1])\n",
    "print(nums)"
   ]
  },
  {
   "cell_type": "code",
   "execution_count": null,
   "metadata": {},
   "outputs": [],
   "source": [
    "#Approach 2: Iterate the array and add N to the existing number at the position implied by every element. \n",
    "#This means that positions implied by the numbers present in the array will be strictly more than N (smallest number is 1 and 1+N > N). Therefore. in the second iteration, we simply need to report the numbers less than equal to N to return the missing numbers..\n",
    "\n",
    "class Solution(object):\n",
    "    def findDisappearedNumbers(self, nums):\n",
    "        \"\"\"\n",
    "        :type nums: List[int]\n",
    "        :rtype: List[int]\n",
    "        \"\"\"\n",
    "        N = len(nums)\n",
    "        for i in range(len(nums)):\n",
    "            x = nums[i] % N\n",
    "            nums[x-1] += N\n",
    "        return [i+1 for i in range(len(nums)) if nums[i]<=N]\n",
    "    "
   ]
  },
  {
   "cell_type": "code",
   "execution_count": null,
   "metadata": {},
   "outputs": [],
   "source": [
    "389. Find the Difference\n",
    "\n",
    "Given two strings s and t which consist of only lowercase letters.\n",
    "\n",
    "String t is generated by random shuffling string s and then add one more letter at a random position.\n",
    "\n",
    "Find the letter that was added in t.\n",
    "\n",
    "Example:\n",
    "\n",
    "Input:\n",
    "s = \"abcd\"\n",
    "t = \"abcde\"\n",
    "\n",
    "Output:\n",
    "e\n",
    "\n",
    "Explanation:\n",
    "'e' is the letter that was added."
   ]
  },
  {
   "cell_type": "code",
   "execution_count": null,
   "metadata": {},
   "outputs": [],
   "source": [
    "def findTheDifference(self, s, t):\n",
    "    return chr(sum(map(ord, t)) - sum(map(ord, s)))\n",
    "\n",
    "def findTheDifference(self, s, t):\n",
    "    return chr(reduce(int.__xor__, map(ord, s+t)))\n",
    "\n",
    "class Solution(object):\n",
    "    def findTheDifference(self, s, t):\n",
    "        return chr(reduce(operator.xor, map(ord, s + t)))"
   ]
  },
  {
   "cell_type": "code",
   "execution_count": null,
   "metadata": {},
   "outputs": [],
   "source": [
    "class Solution:\n",
    "    def findTheDifference(self, s, t):\n",
    "        \"\"\"\n",
    "        :type s: str\n",
    "        :type t: str\n",
    "        :rtype: str\n",
    "        \"\"\"\n",
    "        dic_s = collections.Counter(s)\n",
    "        dic_t = collections.Counter(t)\n",
    "        for key, val in dic_t.items():\n",
    "            if key not in dic_s or val > dic_s[key]:\n",
    "                return key"
   ]
  },
  {
   "cell_type": "code",
   "execution_count": null,
   "metadata": {},
   "outputs": [],
   "source": [
    "class Solution:\n",
    "    def findTheDifference(self, s, t):\n",
    "        return list(iter(collections.Counter(t) - collections.Counter(s)))[0]"
   ]
  },
  {
   "cell_type": "code",
   "execution_count": 271,
   "metadata": {},
   "outputs": [
    {
     "name": "stdout",
     "output_type": "stream",
     "text": [
      "Counter({'b': 2, 'a': 1, 'c': 1, 'd': 1, 'e': 1})\n",
      "dict_values([1, 2, 1, 1, 1])\n",
      "dict_keys(['a', 'b', 'c', 'd', 'e'])\n",
      "['a', 'b', 'c', 'd', 'e']\n",
      "['a', 'b', 'c', 'd']\n",
      "Counter({'e': 1})\n",
      "['e']\n",
      "['e']\n"
     ]
    }
   ],
   "source": [
    "t = \"abbcde\"\n",
    "s = \"abbcd\"\n",
    "b =collections.Counter(t)\n",
    "print(b)\n",
    "print(b.values())\n",
    "print(b.keys())\n",
    "print(list(iter(collections.Counter(t))))\n",
    "print(list(iter(collections.Counter(s))))\n",
    "p = collections.Counter(t)-collections.Counter(s)\n",
    "print(p)\n",
    "print(list(p))\n",
    "d = iter(collections.Counter(t)-collections.Counter(s))\n",
    "print(list(d))\n"
   ]
  },
  {
   "cell_type": "code",
   "execution_count": null,
   "metadata": {},
   "outputs": [],
   "source": [
    "result1 = 0\n",
    "result2 = 0\n",
    "for i in range(len(s)):\n",
    "result1 += ord(s[i])\n",
    "for i in range(len(t)):\n",
    "result2 += ord(t[i])\n",
    "return chr(result2-result1)\n",
    "'''\n",
    "Sum up the str ASCII value, convert the difference back to chr."
   ]
  },
  {
   "cell_type": "code",
   "execution_count": null,
   "metadata": {},
   "outputs": [],
   "source": []
  },
  {
   "cell_type": "code",
   "execution_count": null,
   "metadata": {},
   "outputs": [],
   "source": [
    "169. Majority Element\n",
    "Given an array of size n, find the majority element. \n",
    "The majority element is the element that appears more than ⌊ n/2 ⌋ times.\n",
    "\n",
    "You may assume that the array is non-empty and the majority element always exist in the array.\n",
    "\n",
    "Example 1:\n",
    "\n",
    "Input: [3,2,3]\n",
    "Output: 3\n",
    "Example 2:\n",
    "\n",
    "Input: [2,2,1,1,1,2,2]\n",
    "Output: 2\n",
    "    "
   ]
  },
  {
   "cell_type": "code",
   "execution_count": 104,
   "metadata": {},
   "outputs": [
    {
     "name": "stdout",
     "output_type": "stream",
     "text": [
      "1 a a\n",
      "2 a a\n",
      "3 a a\n",
      "2 b a\n",
      "1 b a\n",
      "0 c a\n",
      "1 c c\n",
      "0 d c\n"
     ]
    },
    {
     "data": {
      "text/plain": [
       "'c'"
      ]
     },
     "execution_count": 104,
     "metadata": {},
     "output_type": "execute_result"
    }
   ],
   "source": [
    "#Boyer Moore voting algorithm: Wrong?\n",
    "class Solution(object):\n",
    "    def majorityElement(self, nums):\n",
    "        \"\"\"\n",
    "        :type nums: List[int]\n",
    "        :rtype: int\n",
    "        \"\"\"\n",
    "        count = 0\n",
    "        for num in nums:\n",
    "            if count == 0:\n",
    "                candidate = num\n",
    "            count += (1 if num == candidate else -1)\n",
    "            print(count, num, candidate)\n",
    "            \n",
    "        return candidate\n",
    "    \n",
    "a = Solution()\n",
    "nums = ['b','a','a','b','a','c','c']\n",
    "nums = ['a','a','a','b','b','c','c','d']\n",
    "a.majorityElement(nums)"
   ]
  },
  {
   "cell_type": "code",
   "execution_count": null,
   "metadata": {},
   "outputs": [],
   "source": [
    "return sorted(num)[len(num) / 2]"
   ]
  },
  {
   "cell_type": "code",
   "execution_count": 125,
   "metadata": {},
   "outputs": [
    {
     "name": "stdout",
     "output_type": "stream",
     "text": [
      "[(2, 4)]\n"
     ]
    }
   ],
   "source": [
    "nums=[2,2,1,1,1,2,2]\n",
    "collections.Counter(nums).most_common(1)[0][0]\n",
    "print(collections.Counter(nums).most_common(1))"
   ]
  },
  {
   "cell_type": "code",
   "execution_count": null,
   "metadata": {},
   "outputs": [],
   "source": []
  },
  {
   "cell_type": "code",
   "execution_count": null,
   "metadata": {},
   "outputs": [],
   "source": [
    "1083. Sales Analysis II\n",
    "#SQL\n",
    "select buyer_id from Sales where product_id not in (select product_id in Product where product_name='iPhone')\n",
    "and product_id in (select product_id in (select product_id in Product where product_name='S8'));"
   ]
  },
  {
   "cell_type": "code",
   "execution_count": null,
   "metadata": {},
   "outputs": [],
   "source": []
  },
  {
   "cell_type": "code",
   "execution_count": null,
   "metadata": {},
   "outputs": [],
   "source": [
    "175. Combine Two Tables\n",
    "#SQL\n",
    "select irstName, LastName, City, State from Person left join Address on Person.PersonId=Address.PersonId;"
   ]
  },
  {
   "cell_type": "code",
   "execution_count": null,
   "metadata": {},
   "outputs": [],
   "source": []
  },
  {
   "cell_type": "code",
   "execution_count": null,
   "metadata": {},
   "outputs": [],
   "source": [
    "13. Roman to Integer"
   ]
  },
  {
   "cell_type": "code",
   "execution_count": null,
   "metadata": {},
   "outputs": [],
   "source": [
    "class Solution():\n",
    "    def RomantoInteger(self, s):\n",
    "        rtoint = dict(I=1, V=5, X=10, L=50, C=100, D=500, M=1000)\n",
    "        n,start=0,\"M\"\n",
    "        for c in s:\n",
    "            if rtoint[c]>rtoint[start]:\n",
    "                n += rtoint[c]-2*rtoint[start]\n",
    "            else:\n",
    "                n += rtoint[c]\n",
    "            start = c\n",
    "        return n"
   ]
  },
  {
   "cell_type": "code",
   "execution_count": null,
   "metadata": {},
   "outputs": [],
   "source": []
  },
  {
   "cell_type": "code",
   "execution_count": null,
   "metadata": {},
   "outputs": [],
   "source": [
    "242. Valid Anagram"
   ]
  },
  {
   "cell_type": "code",
   "execution_count": null,
   "metadata": {},
   "outputs": [],
   "source": [
    "    def ValidAnagram2(self,s,t):\n",
    "        if len(s)!=len(t): return False\n",
    "        return collections.Counter(s)==collections.Counter(t)"
   ]
  },
  {
   "cell_type": "code",
   "execution_count": null,
   "metadata": {},
   "outputs": [],
   "source": []
  },
  {
   "cell_type": "code",
   "execution_count": null,
   "metadata": {},
   "outputs": [],
   "source": [
    "653. Two Sum IV - Input is a BST\n",
    "\n",
    "Given a Binary Search Tree and a target number, \n",
    "return true if there exist two elements in the BST such that their sum is equal to the given target.\n",
    "\n",
    "Example 1:\n",
    "\n",
    "Input: \n",
    "    5\n",
    "   / \\\n",
    "  3   6\n",
    " / \\   \\\n",
    "2   4   7\n",
    "\n",
    "Target = 9\n",
    "\n",
    "Output: True\n",
    " \n",
    "\n",
    "Example 2:\n",
    "\n",
    "Input: \n",
    "    5\n",
    "   / \\\n",
    "  3   6\n",
    " / \\   \\\n",
    "2   4   7\n",
    "\n",
    "Target = 28\n",
    "\n",
    "Output: False"
   ]
  },
  {
   "cell_type": "code",
   "execution_count": null,
   "metadata": {},
   "outputs": [],
   "source": [
    "class solution():\n",
    "    def findTarget(self,root,target):\n",
    "        if not root: return False\n",
    "        queue,s=[root],[]\n",
    "        for node in queue:\n",
    "            if target-node.val in s: return True\n",
    "            s.append(node.val)\n",
    "            if node.left: queue.append(node.left)\n",
    "            if node.right: queue.append(node.right)\n",
    "        return False\n",
    "                "
   ]
  },
  {
   "cell_type": "code",
   "execution_count": null,
   "metadata": {},
   "outputs": [],
   "source": [
    "class Solution(object):\n",
    "    def findTarget(self, root, k):\n",
    "        \"\"\"\n",
    "        :type root: TreeNode\n",
    "        :type k: int\n",
    "        :rtype: bool\n",
    "        \"\"\"\n",
    "        def inorderTrav(root):\n",
    "            if not root:\n",
    "                return []\n",
    "            elif not root.left and not root.right:\n",
    "                return [root.val]\n",
    "            else:\n",
    "                return inorderTrav(root.left) + [root.val] + inorderTrav(root.right)\n",
    "        arr = inorderTrav(root)\n",
    "        l = 0\n",
    "        r = len(arr)-1\n",
    "        while l < r:\n",
    "            if arr[l]+arr[r] == k:\n",
    "                return True\n",
    "            elif arr[l]+arr[r] < k:\n",
    "                l += 1\n",
    "            else:\n",
    "                r -= 1\n",
    "        return False"
   ]
  },
  {
   "cell_type": "code",
   "execution_count": null,
   "metadata": {},
   "outputs": [],
   "source": []
  },
  {
   "cell_type": "code",
   "execution_count": null,
   "metadata": {},
   "outputs": [],
   "source": [
    "520. Detect Capital\n",
    "\n",
    "Given a word, you need to judge whether the usage of capitals in it is right or not.\n",
    "\n",
    "We define the usage of capitals in a word to be right when one of the following cases holds:\n",
    "\n",
    "All letters in this word are capitals, like \"USA\".\n",
    "All letters in this word are not capitals, like \"leetcode\".\n",
    "Only the first letter in this word is capital, like \"Google\".\n",
    "Otherwise, we define that this word doesn't use capitals in a right way.\n",
    " \n",
    "\n",
    "Example 1:\n",
    "\n",
    "Input: \"USA\"\n",
    "Output: True\n",
    " \n",
    "\n",
    "Example 2:\n",
    "\n",
    "Input: \"FlaG\"\n",
    "Output: False\n",
    " \n",
    "\n",
    "Note: The input will be a non-empty word consisting of uppercase and lowercase latin letters."
   ]
  },
  {
   "cell_type": "code",
   "execution_count": null,
   "metadata": {},
   "outputs": [],
   "source": [
    "def detectCapitalUse(self, word):\n",
    "    return word.isupper() or word.islower() or word.istitle()"
   ]
  },
  {
   "cell_type": "code",
   "execution_count": null,
   "metadata": {},
   "outputs": [],
   "source": [
    "return word[1:]==word[1:].lower() or word==word.upper()"
   ]
  },
  {
   "cell_type": "code",
   "execution_count": 277,
   "metadata": {},
   "outputs": [
    {
     "name": "stdout",
     "output_type": "stream",
     "text": [
      "97 65\n"
     ]
    }
   ],
   "source": [
    "print(ord('a'),ord('A'))"
   ]
  },
  {
   "cell_type": "code",
   "execution_count": 286,
   "metadata": {},
   "outputs": [
    {
     "name": "stdout",
     "output_type": "stream",
     "text": [
      "False\n"
     ]
    }
   ],
   "source": [
    "word =\"abcE\"\n",
    "print(all(ord('A')<=ord(w)<=ord('Z') for w in word) or all(ord('a')<=ord(w)<=ord('z') for w in word[1:]))"
   ]
  },
  {
   "cell_type": "code",
   "execution_count": null,
   "metadata": {},
   "outputs": [],
   "source": []
  },
  {
   "cell_type": "code",
   "execution_count": null,
   "metadata": {},
   "outputs": [],
   "source": [
    "217. Contains Duplicate\n",
    "Given an array of integers, find if the array contains any duplicates.\n",
    "\n",
    "Your function should return true if any value appears at least twice in the array, and it should return false if every element is distinct.\n",
    "\n",
    "Example 1:\n",
    "\n",
    "Input: [1,2,3,1]\n",
    "Output: true\n",
    "Example 2:\n",
    "\n",
    "Input: [1,2,3,4]\n",
    "Output: false\n",
    "Example 3:\n",
    "\n",
    "Input: [1,1,1,3,3,4,3,2,4,2]\n",
    "Output: true\n"
   ]
  },
  {
   "cell_type": "code",
   "execution_count": null,
   "metadata": {},
   "outputs": [],
   "source": [
    "return len(set(nums))!=len(nums)"
   ]
  },
  {
   "cell_type": "code",
   "execution_count": null,
   "metadata": {},
   "outputs": [],
   "source": []
  },
  {
   "cell_type": "code",
   "execution_count": null,
   "metadata": {},
   "outputs": [],
   "source": [
    "121. Best Time to Buy and Sell Stock"
   ]
  },
  {
   "cell_type": "code",
   "execution_count": null,
   "metadata": {},
   "outputs": [],
   "source": [
    "class Solution():\n",
    "    def BestTimeStock(self,nums):\n",
    "        if not nums: return 0\n",
    "        minm,maxm=nums[0],0\n",
    "        for i in range(1,len(nums)):\n",
    "            minm=min(minm,nums[i])\n",
    "            maxm=max(maxm,nums[i]-minm)\n",
    "        return maxm"
   ]
  },
  {
   "cell_type": "code",
   "execution_count": null,
   "metadata": {},
   "outputs": [],
   "source": []
  },
  {
   "cell_type": "code",
   "execution_count": null,
   "metadata": {},
   "outputs": [],
   "source": [
    "122. Best Time to Buy and Sell Stock II"
   ]
  },
  {
   "cell_type": "code",
   "execution_count": null,
   "metadata": {},
   "outputs": [],
   "source": [
    "class Solution():\n",
    "    def BestTimeStockII(self,nums):\n",
    "        return sum([max(nums[i]-nums[i-1],0) for i in range(1,len(nums))])"
   ]
  },
  {
   "cell_type": "code",
   "execution_count": null,
   "metadata": {},
   "outputs": [],
   "source": []
  },
  {
   "cell_type": "code",
   "execution_count": null,
   "metadata": {},
   "outputs": [],
   "source": [
    "252. Meeting Rooms\n"
   ]
  },
  {
   "cell_type": "code",
   "execution_count": null,
   "metadata": {},
   "outputs": [],
   "source": [
    "class Solution():\n",
    "    def MeetingRooms(self,intervals):\n",
    "        intervals.sort(key=lambda i: i[0])\n",
    "        return all([intervals[i][0]>=intervals[i-1][1] for i in range(1,len(intervals))])"
   ]
  },
  {
   "cell_type": "code",
   "execution_count": null,
   "metadata": {},
   "outputs": [],
   "source": [
    "253. Meeting Rooms II\n",
    "\n",
    "Given an array of meeting time intervals consisting of start and end times [[s1,e1],[s2,e2],...] (si < ei), find the minimum number of conference rooms required.\n",
    "\n",
    "For example,\n",
    "\n",
    "Given [[0, 30],[5, 10],[15, 20]],\n",
    "\n",
    "return 2."
   ]
  },
  {
   "cell_type": "code",
   "execution_count": null,
   "metadata": {},
   "outputs": [],
   "source": [
    "#wrong\n",
    "def MeetingRoomsII(self,intervals):\n",
    "    intervals.sort(key=lambda i: i[0])\n",
    "    return len([intervals[i][0]<intervals[i-1][1] for i in range(1,len(intervals))]) + 1"
   ]
  },
  {
   "cell_type": "code",
   "execution_count": null,
   "metadata": {},
   "outputs": [],
   "source": [
    "import heapq\n",
    "class Solution(object):\n",
    "    def minMeetingRooms(self, intervals):\n",
    "        \"\"\"\n",
    "        :type intervals: List[Interval]\n",
    "        :rtype: int\n",
    "        \"\"\"\n",
    "        # sort the intervals by start time\n",
    "        intervals.sort(key = lambda x: x.start)\n",
    "        heap = []\n",
    "        for interval in intervals:\n",
    "            if heap and interval.start >= heap[0]:\n",
    "                # room is already used in last meeting and continue to use the same room for this meeting\n",
    "                heapq.heapreplace(heap, interval.end)\n",
    "                \n",
    "            else:\n",
    "                heapq.heappush(heap, interval.end)\n",
    "                \n",
    "        return len(heap)"
   ]
  },
  {
   "cell_type": "code",
   "execution_count": null,
   "metadata": {},
   "outputs": [],
   "source": [
    "def f253_2(intervals):\n",
    "    intervals.sort(key=lambda: x: x[0])\n",
    "    res = []\n",
    "    for start, end in intervals:\n",
    "        index = -1\n",
    "        for i in range(len(res)):\n",
    "            if res[i] <= start:\n",
    "                res[i] = end\n",
    "                index = i\n",
    "                break\n",
    "        if index == -1:\n",
    "            res.append(end)\n",
    "                \n",
    "    return len(res)"
   ]
  },
  {
   "cell_type": "code",
   "execution_count": null,
   "metadata": {},
   "outputs": [],
   "source": [
    "class Solution(object):\n",
    "    def minMeetingRooms(self, intervals):\n",
    "        \"\"\"\n",
    "        greedy thought:\n",
    "                 The arrange array holds the opened conference rooms, array[i] represents the last time the i-th conference room was used\n",
    "                 For each start end from interval, the time that meets the condition in arrage is adjacent to the nearest conference room\n",
    "                 If you can't find it, open a new one\n",
    "        \"\"\"\n",
    "        intervals.sort(key=lambda x:x[0])\n",
    "        res = []\n",
    "        for start, end in intervals:\n",
    "            index = -1\n",
    "            distance = float('inf')\n",
    "            for i in range(len(res)):\n",
    "                if res[i] <= start:\n",
    "                    distance = min(distnace, start - res[i])\n",
    "                    index = i\n",
    "            if index != -1:\n",
    "                res[index] = end\n",
    "            else:\n",
    "                res.append(end)\n",
    "        return len(res)"
   ]
  },
  {
   "cell_type": "code",
   "execution_count": null,
   "metadata": {},
   "outputs": [],
   "source": []
  },
  {
   "cell_type": "code",
   "execution_count": null,
   "metadata": {},
   "outputs": [],
   "source": [
    "729. My Calendar I\n",
    "Medium\n",
    "\n",
    "Implement a MyCalendar class to store your events. A new event can be added if adding the event will not cause a double booking.\n",
    "\n",
    "Your class will have the method, book(int start, int end). Formally, this represents a booking on the half open interval [start, end), the range of real numbers x such that start <= x < end.\n",
    "\n",
    "A double booking happens when two events have some non-empty intersection (ie., there is some time that is common to both events.)\n",
    "\n",
    "For each call to the method MyCalendar.book, return true if the event can be added to the calendar successfully without causing a double booking. Otherwise, return false and do not add the event to the calendar.\n",
    "Your class will be called like this: MyCalendar cal = new MyCalendar(); MyCalendar.book(start, end)\n",
    "\n",
    "Example 1:\n",
    "\n",
    "MyCalendar();\n",
    "MyCalendar.book(10, 20); // returns true\n",
    "MyCalendar.book(15, 25); // returns false\n",
    "MyCalendar.book(20, 30); // returns true\n",
    "Explanation: \n",
    "The first event can be booked.  The second can't because time 15 is already booked by another event.\n",
    "The third event can be booked, as the first event takes every time less than 20, but not including 20.\n",
    "\n",
    " \n",
    "\n",
    "Note:\n",
    "\n",
    "    The number of calls to MyCalendar.book per test case will be at most 1000.\n",
    "    In calls to MyCalendar.book(start, end), start and end are integers in the range [0, 10^9].\n"
   ]
  },
  {
   "cell_type": "code",
   "execution_count": null,
   "metadata": {},
   "outputs": [],
   "source": [
    "#Solution 1: linear search + insert\n",
    "\n",
    "class MyCalendar:\n",
    "    def __init__(self):\n",
    "        self.intervals = []\n",
    "        \n",
    "    def book(self, start, end):\n",
    "        i, n = 0, len(self.intervals)\n",
    "        while i < n and self.intervals[i][1] <= start:\n",
    "            i += 1\n",
    "        if i == n:\n",
    "            self.intervals.append([start, end])\n",
    "            return True\n",
    "        else:\n",
    "            if self.intervals[i][0] >= end:\n",
    "                self.intervals.insert(i, [start, end])\n",
    "                return True\n",
    "            else:\n",
    "                return False\n",
    "\n",
    "#Solution 2: binary search + insert\n",
    "\n",
    "class MyCalendar:\n",
    "    def __init__(self):\n",
    "        self.starts = []\n",
    "        self.ends = []\n",
    "\n",
    "    def book(self, start, end):\n",
    "        l = 0\n",
    "        r = len(self.starts)\n",
    "        while l < r:\n",
    "            mid = l + (r - l) // 2\n",
    "            if (start < self.starts[mid]):\n",
    "                r = mid;\n",
    "            else:\n",
    "                l = mid + 1\n",
    "        if l - 1 >= 0:\n",
    "            if start < self.ends[l-1]:\n",
    "                return False\n",
    "        if l < len(self.starts):\n",
    "            if end > self.starts[l]:\n",
    "                return False\n",
    "        self.starts.insert(l, start)\n",
    "        self.ends.insert(l, end)\n",
    "        return True\n",
    "\n",
    "#Solution 3: binary search + insert\n",
    "\n",
    "import bisect\n",
    "\n",
    "class MyCalendar:\n",
    "    def __init__(self):\n",
    "        self.starts = []\n",
    "        self.ends = []\n",
    "        \n",
    "    def book(self, start, end):\n",
    "        i = bisect.bisect_left(self.starts, start)\n",
    "        if i - 1 >= 0:\n",
    "            if start < self.ends[i-1]:\n",
    "                return False\n",
    "        if i < len(self.starts):\n",
    "            if end > self.starts[i]:\n",
    "                return False\n",
    "        self.starts.insert(i, start)\n",
    "        self.ends.insert(i, end)\n",
    "        return True\n"
   ]
  },
  {
   "cell_type": "code",
   "execution_count": null,
   "metadata": {},
   "outputs": [],
   "source": [
    "#Python tree solution\n",
    "class Node(object):\n",
    "    def __init__(self, start, end):\n",
    "        self.start, self.end = start, end\n",
    "        self.left = self.right = None\n",
    "\n",
    "class Tree(object):\n",
    "    def __init__(self):\n",
    "        self.root = None\n",
    "\n",
    "    def insert(self, node, root=None):\n",
    "        if not root:\n",
    "            if not self.root:\n",
    "                self.root = node\n",
    "                return True\n",
    "            else:\n",
    "                root = self.root\n",
    "\n",
    "        if node.start >= root.end:\n",
    "            if not root.right:\n",
    "                root.right = node\n",
    "                return True\n",
    "            return self.insert(node, root.right)\n",
    "        elif node.end <= root.start:\n",
    "            if not root.left:\n",
    "                root.left = node\n",
    "                return True\n",
    "            return self.insert(node, root.left)\n",
    "        else:\n",
    "            return False\n",
    "\n",
    "class MyCalendar(object):\n",
    "    def __init__(self):\n",
    "        self.tree = Tree()\n",
    "\n",
    "    def book(self, start, end):\n",
    "        return self.tree.insert(Node(start, end)) "
   ]
  },
  {
   "cell_type": "code",
   "execution_count": null,
   "metadata": {},
   "outputs": [],
   "source": []
  },
  {
   "cell_type": "code",
   "execution_count": null,
   "metadata": {},
   "outputs": [],
   "source": [
    "731. My Calendar II\n",
    "Medium\n",
    "\n",
    "Implement a MyCalendarTwo class to store your events. A new event can be added if adding the event will not cause a triple booking.\n",
    "\n",
    "Your class will have one method, book(int start, int end). Formally, this represents a booking on the half open interval [start, end), the range of real numbers x such that start <= x < end.\n",
    "\n",
    "A triple booking happens when three events have some non-empty intersection (ie., there is some time that is common to all 3 events.)\n",
    "\n",
    "For each call to the method MyCalendar.book, return true if the event can be added to the calendar successfully without causing a triple booking. Otherwise, return false and do not add the event to the calendar.\n",
    "Your class will be called like this: MyCalendar cal = new MyCalendar(); MyCalendar.book(start, end)\n",
    "\n",
    "Example 1:\n",
    "\n",
    "MyCalendar();\n",
    "MyCalendar.book(10, 20); // returns true\n",
    "MyCalendar.book(50, 60); // returns true\n",
    "MyCalendar.book(10, 40); // returns true\n",
    "MyCalendar.book(5, 15); // returns false\n",
    "MyCalendar.book(5, 10); // returns true\n",
    "MyCalendar.book(25, 55); // returns true\n",
    "Explanation: \n",
    "The first two events can be booked.  The third event can be double booked.\n",
    "The fourth event (5, 15) can't be booked, because it would result in a triple booking.\n",
    "The fifth event (5, 10) can be booked, as it does not use time 10 which is already double booked.\n",
    "The sixth event (25, 55) can be booked, as the time in [25, 40) will be double booked with the third event;\n",
    "the time [40, 50) will be single booked, and the time [50, 55) will be double booked with the second event.\n",
    "\n",
    " \n",
    "\n",
    "Note:\n",
    "\n",
    "    The number of calls to MyCalendar.book per test case will be at most 1000.\n",
    "    In calls to MyCalendar.book(start, end), start and end are integers in the range [0, 10^9].\n"
   ]
  },
  {
   "cell_type": "code",
   "execution_count": null,
   "metadata": {},
   "outputs": [],
   "source": [
    "We store an array self.overlaps of intervals that are double booked, and self.calendar for intervals which have been single booked. We use the line start < j and end > i to check if the ranges [start, end) and [i, j) overlap.\n",
    "\n",
    "The clever idea is we do not need to \"clean up\" ranges in calendar: if we have [1, 3] and [2, 4], this will be calendar = [[1,3],[2,4]] and overlaps = [[2,3]]. We don't need to spend time transforming the calendar to calendar = [[1,4]].\n",
    "\n",
    "This solution is by @zestypanda .\n"
   ]
  },
  {
   "cell_type": "code",
   "execution_count": null,
   "metadata": {},
   "outputs": [],
   "source": [
    "class MyCalendarTwo:\n",
    "    def __init__(self):\n",
    "        self.overlaps = []\n",
    "        self.calendar = []\n",
    "\n",
    "    def book(self, start, end):\n",
    "        for i, j in self.overlaps:\n",
    "            if start < j and end > i:\n",
    "                return False\n",
    "        for i, j in self.calendar:\n",
    "            if start < j and end > i:\n",
    "                self.overlaps.append((max(start, i), min(end, j)))\n",
    "        self.calendar.append((start, end))\n",
    "        return True\n"
   ]
  },
  {
   "cell_type": "code",
   "execution_count": null,
   "metadata": {},
   "outputs": [],
   "source": []
  },
  {
   "cell_type": "code",
   "execution_count": null,
   "metadata": {},
   "outputs": [],
   "source": [
    "732. My Calendar III\n",
    "Hard\n",
    "\n",
    "Implement a MyCalendarThree class to store your events. A new event can always be added.\n",
    "\n",
    "Your class will have one method, book(int start, int end). Formally, this represents a booking on the half open interval [start, end), the range of real numbers x such that start <= x < end.\n",
    "\n",
    "A K-booking happens when K events have some non-empty intersection (ie., there is some time that is common to all K events.)\n",
    "\n",
    "For each call to the method MyCalendar.book, return an integer K representing the largest integer such that there exists a K-booking in the calendar.\n",
    "Your class will be called like this: MyCalendarThree cal = new MyCalendarThree(); MyCalendarThree.book(start, end)\n",
    "\n",
    "Example 1:\n",
    "\n",
    "MyCalendarThree();\n",
    "MyCalendarThree.book(10, 20); // returns 1\n",
    "MyCalendarThree.book(50, 60); // returns 1\n",
    "MyCalendarThree.book(10, 40); // returns 2\n",
    "MyCalendarThree.book(5, 15); // returns 3\n",
    "MyCalendarThree.book(5, 10); // returns 3\n",
    "MyCalendarThree.book(25, 55); // returns 3\n",
    "Explanation: \n",
    "The first two events can be booked and are disjoint, so the maximum K-booking is a 1-booking.\n",
    "The third event [10, 40) intersects the first event, and the maximum K-booking is a 2-booking.\n",
    "The remaining events cause the maximum K-booking to be only a 3-booking.\n",
    "Note that the last event locally causes a 2-booking, but the answer is still 3 because\n",
    "eg. [10, 20), [10, 40), and [5, 15) are still triple booked.\n",
    "\n",
    " \n",
    "\n",
    "Note:\n",
    "\n",
    "    The number of calls to MyCalendarThree.book per test case will be at most 400.\n",
    "    In calls to MyCalendarThree.book(start, end), start and end are integers in the range [0, 10^9].\n"
   ]
  },
  {
   "cell_type": "code",
   "execution_count": null,
   "metadata": {},
   "outputs": [],
   "source": [
    "#Python Simple Solution(beat 90%)\n",
    "\n",
    "class MyCalendarThree:\n",
    "\n",
    "def __init__(self):\n",
    "    self.sts, self.ends = [], []\n",
    "    self.mxv = 0\n",
    "    \n",
    "\n",
    "def book(self, start, end):\n",
    "    \"\"\"\n",
    "    :type start: int\n",
    "    :type end: int\n",
    "    :rtype: int\n",
    "    \"\"\"\n",
    "    from bisect import bisect_left as bl, bisect_right as br, insort_left as il\n",
    "    from heapq import heappop, heappush\n",
    "    i, j = bl(self.ends, start), br(self.sts, end)\n",
    "    il(self.sts, start, i, j)\n",
    "    il(self.ends, end, i, j)\n",
    "    heap = []\n",
    "    for pp in range(i, j + 1):\n",
    "        while heap and heap[0] <= self.sts[pp]:\n",
    "            heappop(heap)\n",
    "        heappush(heap, self.ends[pp])\n",
    "        self.mxv = max(self.mxv, len(heap))\n",
    "    return self.mxv\n",
    "\n",
    "\"\"\"\n",
    "This code explains itself. \n",
    "Draw some line segments and sorting starting points first and then use a heap to deal with ends. \n",
    "Sorted starting points and ending points in heap will get this easily solved."
   ]
  },
  {
   "cell_type": "code",
   "execution_count": null,
   "metadata": {},
   "outputs": [],
   "source": []
  },
  {
   "cell_type": "code",
   "execution_count": null,
   "metadata": {},
   "outputs": [],
   "source": []
  },
  {
   "cell_type": "code",
   "execution_count": null,
   "metadata": {},
   "outputs": [],
   "source": []
  },
  {
   "cell_type": "code",
   "execution_count": null,
   "metadata": {},
   "outputs": [],
   "source": []
  },
  {
   "cell_type": "code",
   "execution_count": null,
   "metadata": {},
   "outputs": [],
   "source": []
  },
  {
   "cell_type": "code",
   "execution_count": null,
   "metadata": {},
   "outputs": [],
   "source": []
  },
  {
   "cell_type": "code",
   "execution_count": null,
   "metadata": {},
   "outputs": [],
   "source": [
    "993. Cousins in Binary Tree\n",
    "\n",
    "In a binary tree, the root node is at depth 0, and children of each depth k node are at depth k+1.\n",
    "\n",
    "Two nodes of a binary tree are cousins if they have the same depth, but have different parents.\n",
    "\n",
    "We are given the root of a binary tree with unique values, and the values x and y of two different nodes in the tree.\n",
    "\n",
    "Return true if and only if the nodes corresponding to the values x and y are cousins.\n",
    "\n",
    " \n",
    "\n",
    "Example 1:\n",
    "\n",
    "\n",
    "Input: root = [1,2,3,4], x = 4, y = 3\n",
    "Output: false\n",
    "Example 2:\n",
    "\n",
    "\n",
    "Input: root = [1,2,3,null,4,null,5], x = 5, y = 4\n",
    "Output: true\n",
    "Example 3:\n",
    "\n",
    "\n",
    "\n",
    "Input: root = [1,2,3,null,4], x = 2, y = 3\n",
    "Output: false\n",
    " \n",
    "\n",
    "Note:\n",
    "\n",
    "The number of nodes in the tree will be between 2 and 100.\n",
    "Each node has a unique integer value from 1 to 100."
   ]
  },
  {
   "cell_type": "code",
   "execution_count": null,
   "metadata": {},
   "outputs": [],
   "source": [
    "class Solution:\n",
    "    def isCousins(self, root: TreeNode, x: int, y: int) -> bool:\n",
    "        def dfs(node, parent, depth, val):\n",
    "            if node:\n",
    "                if node.val == val:\n",
    "                    return depth, parent\n",
    "                return dfs(node.left, node, depth + 1, val) or dfs(node.right, node, depth + 1, val)\n",
    "        dx, px, dy, py = dfs(root, None, 0, x) + dfs(root, None, 0, y)\n",
    "        return dx == dy and px != py"
   ]
  },
  {
   "cell_type": "code",
   "execution_count": null,
   "metadata": {},
   "outputs": [],
   "source": [
    "class Solution(object):\n",
    "    def isCousins(self, root, x, y):\n",
    "        nodes = collections.defaultdict(list)\n",
    "        queue = [(root,0,0)]\n",
    "        while queue:\n",
    "            node,level,parent = queue.pop(0)\n",
    "            nodes[node.val] = [level,parent]\n",
    "\n",
    "            if node.left:\n",
    "                queue.append((node.left,level+1,node.val))\n",
    "            if node.right:\n",
    "                queue.append((node.right,level+1,node.val))\n",
    "\n",
    "        if nodes[x][0]==nodes[y][0] and nodes[x][1] != nodes[y][1]:\n",
    "            return True\n",
    "\n",
    "        return False"
   ]
  },
  {
   "cell_type": "code",
   "execution_count": null,
   "metadata": {},
   "outputs": [],
   "source": [
    "class Solution(object):\n",
    "    def isCousins(self, root, x, y):\n",
    "        firstParent = None\n",
    "        queue = [root]\n",
    "        while queue:\n",
    "            nextQueue = []\n",
    "            for node in queue:\n",
    "                for nextNode in (node.left, node.right):\n",
    "                    if nextNode:\n",
    "                        if nextNode.val in (x, y):\n",
    "                            if not firstParent:\n",
    "                                firstParent = node\n",
    "                            else:\n",
    "                                return firstParent != node\n",
    "                        nextQueue.append(nextNode)\n",
    "            if firstParent:\n",
    "                return False\n",
    "            queue = nextQueue"
   ]
  },
  {
   "cell_type": "code",
   "execution_count": null,
   "metadata": {},
   "outputs": [],
   "source": [
    "class solution():\n",
    "    def isCousins(self,root,x,y):\n",
    "        q=collections.deque((root,0))\n",
    "        if root.val in (x,y): return False #early termination\n",
    "        level,d=0,[]\n",
    "        while q:\n",
    "            for i in range(len(q)):\n",
    "                node,level=q.popleft()\n",
    "                if node.left: \n",
    "                    if node.left.val in (x,y):\n",
    "                        d.append((level+1,node))\n",
    "                    q.append((node.left,level+1))\n",
    "                if node.right:\n",
    "                    if node.right.val in (x,y):\n",
    "                        d.append((level+1,node))\n",
    "                    q.append((node.right,level+1))\n",
    "            level += 1\n",
    "        return len(d)==2 and d[0][0]==d[1][0] and d[0][1]!=d[1][1]"
   ]
  },
  {
   "cell_type": "code",
   "execution_count": null,
   "metadata": {},
   "outputs": [],
   "source": []
  },
  {
   "cell_type": "code",
   "execution_count": null,
   "metadata": {},
   "outputs": [],
   "source": [
    "606. Construct String from Binary Tree\n",
    "\n",
    "You need to construct a string consists of parenthesis and integers from a binary tree with the preorder traversing way.\n",
    "\n",
    "The null node needs to be represented by empty parenthesis pair \"()\". And you need to omit all the empty parenthesis pairs that don't affect the one-to-one mapping relationship between the string and the original binary tree.\n",
    "\n",
    "Example 1:\n",
    "Input: Binary tree: [1,2,3,4]\n",
    "       1\n",
    "     /   \\\n",
    "    2     3\n",
    "   /    \n",
    "  4     \n",
    "\n",
    "Output: \"1(2(4))(3)\"\n",
    "\n",
    "Explanation: Originallay it needs to be \"1(2(4)())(3()())\", \n",
    "but you need to omit all the unnecessary empty parenthesis pairs. \n",
    "And it will be \"1(2(4))(3)\".\n",
    "Example 2:\n",
    "Input: Binary tree: [1,2,3,null,4]\n",
    "       1\n",
    "     /   \\\n",
    "    2     3\n",
    "     \\  \n",
    "      4 \n",
    "\n",
    "Output: \"1(2()(4))(3)\"\n",
    "\n",
    "Explanation: Almost the same as the first example, \n",
    "except we can't omit the first parenthesis pair to break the one-to-one mapping relationship between the input and the output."
   ]
  },
  {
   "cell_type": "code",
   "execution_count": null,
   "metadata": {},
   "outputs": [],
   "source": [
    "We do this recursively.\n",
    "\n",
    "If the tree is empty, we return an empty string.\n",
    "We record each child as '(' + (string of child) + ')'\n",
    "If there is a right child but no left child, we still need to record '()' instead of empty string.\n",
    "\n",
    "def tree2str(self, t):\n",
    "    if not t: return ''\n",
    "    left = '({})'.format(self.tree2str(t.left)) if (t.left or t.right) else ''\n",
    "    right = '({})'.format(self.tree2str(t.right)) if t.right else ''\n",
    "    return '{}{}{}'.format(t.val, left, right)"
   ]
  },
  {
   "cell_type": "code",
   "execution_count": null,
   "metadata": {},
   "outputs": [],
   "source": [
    "def tree2str(self, t):\n",
    "    if t is None:\n",
    "        return ''\n",
    "    result = str(t.val)\n",
    "    if t.left:\n",
    "        result += '(' + self.tree2str(t.left) + ')'\n",
    "        if t.right:\n",
    "            result += '(' + self.tree2str(t.right) + ')'\n",
    "    elif t.right:\n",
    "            result += '()' + '(' + self.tree2str(t.right) + ')'\n",
    "    return result"
   ]
  },
  {
   "cell_type": "code",
   "execution_count": null,
   "metadata": {},
   "outputs": [],
   "source": [
    "class Solution(object):\n",
    "    def tree2str(self, t):\n",
    "        \"\"\"\n",
    "        :type t: TreeNode\n",
    "        :rtype: str\n",
    "        \"\"\"\n",
    "        if not t:\n",
    "            return \"\"\n",
    "        res = \"\"\n",
    "        left = self.tree2str(t.left)\n",
    "        right = self.tree2str(t.right)\n",
    "        if left or right:\n",
    "            res += \"(%s)\" % left\n",
    "        if right:\n",
    "            res += \"(%s)\" % right\n",
    "        return str(t.val) + res"
   ]
  },
  {
   "cell_type": "code",
   "execution_count": null,
   "metadata": {},
   "outputs": [],
   "source": [
    "def tree2str(self, t):\n",
    "        \"\"\"\n",
    "        :type t: TreeNode\n",
    "        :rtype: str\n",
    "        \"\"\"\n",
    "        def preorder(root):\n",
    "            if root is None:\n",
    "                return \"\"\n",
    "            s=str(root.val)\n",
    "            l=preorder(root.left)\n",
    "            r=preorder(root.right)\n",
    "            if r==\"\" and l==\"\":\n",
    "                return s \n",
    "            elif l==\"\":\n",
    "                s+=\"()\"+\"(\"+r+\")\"\n",
    "            elif r==\"\":                \n",
    "                s+=\"(\"+l+\")\"\n",
    "            else :   \n",
    "                s+=\"(\"+l+\")\"+\"(\"+r+\")\"\n",
    "            return s\n",
    "        return preorder(t)"
   ]
  },
  {
   "cell_type": "code",
   "execution_count": null,
   "metadata": {},
   "outputs": [],
   "source": []
  },
  {
   "cell_type": "code",
   "execution_count": null,
   "metadata": {},
   "outputs": [],
   "source": [
    "171. Excel Sheet Column Number"
   ]
  },
  {
   "cell_type": "code",
   "execution_count": null,
   "metadata": {},
   "outputs": [],
   "source": [
    "class Solution():\n",
    "    def ExcelColumnNumber(self,s):\n",
    "        res = 0\n",
    "        for c in s:\n",
    "            res = res*26 + ord(c)-ord('A')+1\n",
    "        return res\n"
   ]
  },
  {
   "cell_type": "code",
   "execution_count": null,
   "metadata": {},
   "outputs": [],
   "source": []
  },
  {
   "cell_type": "code",
   "execution_count": null,
   "metadata": {},
   "outputs": [],
   "source": [
    "168. Excel Sheet Column Title"
   ]
  },
  {
   "cell_type": "code",
   "execution_count": 1,
   "metadata": {},
   "outputs": [],
   "source": [
    "class Solution():\n",
    "    def ExcelColumnTitle(self,n):\n",
    "        dic = [chr(x) for x in range(ord('A'),ord('Z')+1)]\n",
    "        res=''\n",
    "        while n>0:\n",
    "            n,rem=divmod(n-1,26)\n",
    "            res = dic[rem]+res\n",
    "        return res"
   ]
  },
  {
   "cell_type": "code",
   "execution_count": 2,
   "metadata": {},
   "outputs": [
    {
     "name": "stdout",
     "output_type": "stream",
     "text": [
      "['A', 'B', 'C', 'D', 'E', 'F', 'G', 'H', 'I', 'J', 'K', 'L', 'M', 'N', 'O', 'P', 'Q', 'R', 'S', 'T', 'U', 'V', 'W', 'X', 'Y', 'Z']\n",
      "65 97\n"
     ]
    }
   ],
   "source": [
    "dic = [chr(x) for x in range(ord('A'),ord('Z')+1)]\n",
    "print(dic)\n",
    "print(ord('A'),ord('a'))"
   ]
  },
  {
   "cell_type": "code",
   "execution_count": null,
   "metadata": {},
   "outputs": [],
   "source": []
  },
  {
   "cell_type": "code",
   "execution_count": null,
   "metadata": {},
   "outputs": [],
   "source": [
    "538. Convert BST to Greater Tree\n",
    "\n",
    "Given a Binary Search Tree (BST), convert it to a Greater Tree such that \n",
    "every key of the original BST is changed to the original key plus sum of all keys \n",
    "greater than the original key in BST.\n",
    "\n",
    "Example:\n",
    "\n",
    "Input: The root of a Binary Search Tree like this:\n",
    "              5\n",
    "            /   \\\n",
    "           2     13\n",
    "\n",
    "Output: The root of a Greater Tree like this:\n",
    "             18\n",
    "            /   \\\n",
    "          20     13\n",
    "Accepted\n",
    "85,372\n",
    "Submissions\n",
    "165,105"
   ]
  },
  {
   "cell_type": "code",
   "execution_count": null,
   "metadata": {},
   "outputs": [],
   "source": [
    "class Solution(object):\n",
    "    def convertBST(self, root):\n",
    "        \"\"\"\n",
    "        :type root: TreeNode\n",
    "        :rtype: TreeNode\n",
    "        \"\"\"\n",
    "        self.cur_sum = 0\n",
    "        self.convertHelper(root)\n",
    "        return root\n",
    "\n",
    "    def convertHelper(self, root):\n",
    "        if not root:\n",
    "            return\n",
    "        self.convertHelper(root.right)\n",
    "        root.val += self.cur_sum\n",
    "        self.cur_sum = root.val\n",
    "        self.convertHelper(root.left)"
   ]
  },
  {
   "cell_type": "code",
   "execution_count": null,
   "metadata": {},
   "outputs": [],
   "source": [
    "class Solution:\n",
    "    def convertBST(self, root):\n",
    "        def dfs(node):\n",
    "            if node:\n",
    "                dfs(node.right)\n",
    "                node.val = residue[0] = node.val + residue[0]\n",
    "                dfs(node.left)\n",
    "            return node\n",
    "        residue = [0]\n",
    "        return dfs(root)"
   ]
  },
  {
   "cell_type": "code",
   "execution_count": null,
   "metadata": {},
   "outputs": [],
   "source": [
    "class Solution(object):\n",
    "    def convertBST(self, root):\n",
    "        if not root:\n",
    "            return root\n",
    "        prev = 0\n",
    "        stack = [(False, root)]\n",
    "        while stack:\n",
    "            visited, node = stack.pop()\n",
    "            if visited:\n",
    "                node.val += prev\n",
    "                prev = node.val\n",
    "            else:\n",
    "                if node.left:\n",
    "                    stack.append((False, node.left))\n",
    "                stack.append((True, node))\n",
    "                if node.right:\n",
    "                    stack.append((False, node.right))\n",
    "        return root"
   ]
  },
  {
   "cell_type": "code",
   "execution_count": null,
   "metadata": {},
   "outputs": [],
   "source": []
  },
  {
   "cell_type": "code",
   "execution_count": null,
   "metadata": {},
   "outputs": [],
   "source": [
    "108. Convert Sorted Array to Binary Search Tree\n"
   ]
  },
  {
   "cell_type": "code",
   "execution_count": null,
   "metadata": {},
   "outputs": [],
   "source": [
    "class Solution():\n",
    "    def SortedArraytoBinarySearchTree(self,nums):\n",
    "        l,r=0,len(nums)-1\n",
    "        if l<=r:\n",
    "            mid = (l+r)//2\n",
    "            root = TreeNode(nums[mid])\n",
    "            root.left=self.SortedArraytoBinarySearchTree(nums[:mid])\n",
    "            root.right=self.SortedArraytoBinarySearchTree(nums[mid+1:])\n",
    "            return root\n",
    "        "
   ]
  },
  {
   "cell_type": "code",
   "execution_count": null,
   "metadata": {},
   "outputs": [],
   "source": []
  },
  {
   "cell_type": "code",
   "execution_count": null,
   "metadata": {},
   "outputs": [],
   "source": [
    "1056.Confusing Number\n",
    "Given a number N, return true if and only if it is a confusing number, which satisfies the following condition:\n",
    "\n",
    "We can rotate digits by 180 degrees to form new digits. When 0, 1, 6, 8, 9 are rotated 180 degrees, they become 0, 1, 9, 8, 6 respectively. When 2, 3, 4, 5 and 7 are rotated 180 degrees, they become invalid. \n",
    "A confusing number is a number that when rotated 180 degrees becomes a different number with each digit valid.\n",
    "\n",
    "Input: 6\n",
    "Output: true\n",
    "Explanation: \n",
    "We get 9 after rotating 6, 9 is a valid number and 9!=6.\n",
    "\n",
    "Input: 89\n",
    "Output: true\n",
    "Explanation: \n",
    "We get 68 after rotating 89, 86 is a valid number and 86!=89.\n",
    "\n",
    "Input: 11\n",
    "Output: false\n",
    "Explanation: \n",
    "We get 11 after rotating 11, 11 is a valid number but the value remains the same, thus 11 is not a confusing number.\n",
    "\n",
    "Input: 25\n",
    "Output: false\n",
    "Explanation: \n",
    "We get an invalid number after rotating 25.\n",
    "\n",
    "Note:\n",
    "\n",
    "0 <= N <= 10^9\n",
    "After the rotation we can ignore leading zeros, for example if after rotation we have 0008 then this number is considered as just 8.\n"
   ]
  },
  {
   "cell_type": "code",
   "execution_count": null,
   "metadata": {},
   "outputs": [],
   "source": [
    "#788. Rotated Digits\n",
    "class Solution:\n",
    "    def rotatedDigits(self, N):\n",
    "        return len([num for num in range(1, N+1) if not set(str(num)) & {\"3\",\"4\",\"7\"} and \\\n",
    "                    set(str(num)) & {\"2\",\"5\",\"6\",\"9\"}])\n"
   ]
  },
  {
   "cell_type": "code",
   "execution_count": 330,
   "metadata": {},
   "outputs": [
    {
     "name": "stdout",
     "output_type": "stream",
     "text": [
      "1069 6901 True\n"
     ]
    }
   ],
   "source": [
    "N=1069\n",
    "#if not set(str(N)) & {\"2\",\"3\",\"4\",\"5\",\"7\"}: return False\n",
    "dic = {'0':'0','1':'1','6':'9','8':'8','9':'6'}\n",
    "\n",
    "\n",
    "#wrong: t = list(map(lambda x: dic[x] if x in dic, n for n in str(N)))\n",
    "#t = [n for n in str(N)]\n",
    "#print (t)\n",
    "#list(map(dic.get, t))\n",
    "t = ''.join(dic[k] for k in str(N) if k in dic)\n",
    "print(str(N), t[::-1], str(N)!=t[::-1])\n"
   ]
  },
  {
   "cell_type": "code",
   "execution_count": null,
   "metadata": {},
   "outputs": [],
   "source": [
    "class Solution(object):\n",
    "    def confusingNumber(self, n):\n",
    "        mapping = {0:0, 1:1, 6:9, 8:8, 9:6}\n",
    "        invalid = [2,3,4,5,7]\n",
    "\n",
    "        tmp, res = 0, []\n",
    "        while(n):\n",
    "            n, tmp = divmod(n, 10)\n",
    "            if tmp in invalid:\n",
    "                return False\n",
    "            res.append(mapping[tmp])\n",
    "        res = res[::-1]\n",
    "        r = 0\n",
    "        for i, x in enumerate(res):\n",
    "            r += 10 ** i * x\n",
    "        return r != n\n"
   ]
  },
  {
   "cell_type": "code",
   "execution_count": null,
   "metadata": {},
   "outputs": [],
   "source": []
  },
  {
   "cell_type": "code",
   "execution_count": null,
   "metadata": {},
   "outputs": [],
   "source": [
    "733. Flood Fill\n",
    "\n",
    "An image is represented by a 2-D array of integers, each integer representing the pixel value of the image (from 0 to 65535).\n",
    "\n",
    "Given a coordinate (sr, sc) representing the starting pixel (row and column) of the flood fill, and a pixel value newColor, \"flood fill\" the image.\n",
    "\n",
    "To perform a \"flood fill\", consider the starting pixel, plus any pixels connected 4-directionally to the starting pixel of the same color as the starting pixel, plus any pixels connected 4-directionally to those pixels (also with the same color as the starting pixel), and so on. Replace the color of all of the aforementioned pixels with the newColor.\n",
    "\n",
    "At the end, return the modified image.\n",
    "\n",
    "Example 1:\n",
    "Input: \n",
    "image = [[1,1,1],[1,1,0],[1,0,1]]\n",
    "sr = 1, sc = 1, newColor = 2\n",
    "Output: [[2,2,2],[2,2,0],[2,0,1]]\n",
    "Explanation: \n",
    "From the center of the image (with position (sr, sc) = (1, 1)), all pixels connected \n",
    "by a path of the same color as the starting pixel are colored with the new color.\n",
    "Note the bottom corner is not colored 2, because it is not 4-directionally connected\n",
    "to the starting pixel.\n",
    "Note:\n",
    "\n",
    "The length of image and image[0] will be in the range [1, 50].\n",
    "The given starting pixel will satisfy 0 <= sr < image.length and 0 <= sc < image[0].length.\n",
    "The value of each color in image[i][j] and newColor will be an integer in [0, 65535].\n"
   ]
  },
  {
   "cell_type": "code",
   "execution_count": null,
   "metadata": {},
   "outputs": [],
   "source": [
    "#BFS\n",
    "class solution():\n",
    "    def floodFill(self,img,sr,sc,colorNew):\n",
    "        colorOld,m,n=img[sr][sc],len(img),len(img[0])\n",
    "        if colorOld != colorNew:\n",
    "            q =collections.deque([sr,sc])\n",
    "            while q:\n",
    "                i,j=q.popleft()\n",
    "                img[i][j]=colorNew\n",
    "                for x,y in ((i-1,j),(i+1,j),(i,j-1),(i,j+1)):\n",
    "                    if 0<=x<m and 0<=y<n and img[x][y]==colorOld:\n",
    "                        q.append((x,y))\n",
    "        return img\n",
    "\n",
    "#DFS\n",
    "class Solution:\n",
    "    def floodFill(self, img, sr, sc, colorNew):\n",
    "        def dfs(i, j):\n",
    "            img[i][j] = colorNew\n",
    "            for x, y in ((i - 1, j), (i + 1, j), (i, j - 1), (i, j + 1)):\n",
    "                if 0 <= x < m and 0 <= y < n and img[x][y] == colorOld:\n",
    "                    dfs(x, y)\n",
    "        colorOld, m, n = img[sr][sc], len(img), len(img[0])\n",
    "        if colorOld != colorNew: \n",
    "            dfs(sr, sc)\n",
    "        return img"
   ]
  },
  {
   "cell_type": "code",
   "execution_count": null,
   "metadata": {},
   "outputs": [],
   "source": [
    "#REFER to questions 463. 892. 1099. 733. 661. 994."
   ]
  },
  {
   "cell_type": "code",
   "execution_count": null,
   "metadata": {},
   "outputs": [],
   "source": [
    "530. Minimum Absolute Difference in BST\n",
    "\n",
    "Given a binary search tree with non-negative values, \n",
    "find the minimum absolute difference between values of any two nodes.\n",
    "\n",
    "Example:\n",
    "\n",
    "Input:\n",
    "\n",
    "   1\n",
    "    \\\n",
    "     3\n",
    "    /\n",
    "   2\n",
    "\n",
    "Output:\n",
    "1\n",
    "\n",
    "Explanation:\n",
    "The minimum absolute difference is 1, which is the difference between 2 and 1 (or between 2 and 3).\n",
    " \n",
    "\n",
    "Note: There are at least two nodes in this BST.\n"
   ]
  },
  {
   "cell_type": "code",
   "execution_count": null,
   "metadata": {},
   "outputs": [],
   "source": [
    "#inorder traversal (the resulted list is sorted in asce order)\n",
    "def getMinimumDifference(self, root):\n",
    "        res = []\n",
    "        def dfs(node):\n",
    "            if node.left: dfs(node.left)\n",
    "            res.append(node.val)\n",
    "            if node.right: dfs(node.right)\n",
    "        dfs(root)\n",
    "        return min(abs(a - b) for a, b in zip(res, res[1:]))"
   ]
  },
  {
   "cell_type": "code",
   "execution_count": null,
   "metadata": {},
   "outputs": [],
   "source": []
  },
  {
   "cell_type": "code",
   "execution_count": null,
   "metadata": {},
   "outputs": [],
   "source": [
    "697. Degree of an Array\n",
    "\n",
    "Given a non-empty array of non-negative integers nums, \n",
    "the degree of this array is defined as the maximum frequency of any one of its elements.\n",
    "\n",
    "Your task is to find the smallest possible length of a (contiguous) subarray of nums, \n",
    "that has the same degree as nums.\n",
    "\n",
    "Example 1:\n",
    "Input: [1, 2, 2, 3, 1]\n",
    "Output: 2\n",
    "Explanation: \n",
    "The input array has a degree of 2 because both elements 1 and 2 appear twice.\n",
    "Of the subarrays that have the same degree:\n",
    "[1, 2, 2, 3, 1], [1, 2, 2, 3], [2, 2, 3, 1], [1, 2, 2], [2, 2, 3], [2, 2]\n",
    "The shortest length is 2. So return 2.\n",
    "Example 2:\n",
    "Input: [1,2,2,3,1,4,2]\n",
    "Output: 6\n",
    "Note:\n",
    "\n",
    "nums.length will be between 1 and 50,000.\n",
    "nums[i] will be an integer between 0 and 49,999."
   ]
  },
  {
   "cell_type": "code",
   "execution_count": 345,
   "metadata": {},
   "outputs": [
    {
     "name": "stdout",
     "output_type": "stream",
     "text": [
      "3\n",
      "dict_items([(1, [2, 4, 0]), (2, [3, 6, 1]), (3, [1, 3, 3]), (4, [1, 5, 5])])\n",
      "1 [2, 4, 0]\n",
      "2 [3, 6, 1]\n",
      "2 3 6\n"
     ]
    }
   ],
   "source": [
    "nums=[1,2,2,3,1,4,2]\n",
    "print (max(collections.Counter(nums).values()))\n",
    "dd = collections.defaultdict(list)\n",
    "for i,n in enumerate((nums)):\n",
    "    if n in dd:\n",
    "        dd[n]=[dd[n][0]+1, i, dd[n][2]]\n",
    "    else:\n",
    "        dd[n]=[1,i,i]\n",
    "print(dd.items())\n",
    "key,minm, maxc=nums[0],len(nums),1\n",
    "for k, v in dd.items():\n",
    "    if v[0]>maxc:\n",
    "        print(k,v)\n",
    "        key = k\n",
    "        maxc=v[0]\n",
    "        minm=v[1]-v[2]+1\n",
    "    elif v[0]==maxc:\n",
    "        if v[1]-v[2]+1 < minm:\n",
    "            key = k\n",
    "            minm = v[1]-v[2]+1\n",
    "print(key,maxc,minm)"
   ]
  },
  {
   "cell_type": "code",
   "execution_count": null,
   "metadata": {},
   "outputs": [],
   "source": [
    "def findShortestSubArray(self, nums):\n",
    "        first, last = {}, {}\n",
    "        for i, v in enumerate(nums):\n",
    "            first.setdefault(v, i)\n",
    "            last[v] = i\n",
    "        c = collections.Counter(nums)\n",
    "        degree = max(c.values())\n",
    "        return min(last[v] - first[v] + 1 for v in c if c[v] == degree)"
   ]
  },
  {
   "cell_type": "code",
   "execution_count": null,
   "metadata": {},
   "outputs": [],
   "source": [
    "#one path\n",
    " def findShortestSubArray(self, nums):\n",
    "        first, counter, res, degree = {}, {}, 0, 0\n",
    "        for i, v in enumerate(nums):\n",
    "            first.setdefault(v, i)\n",
    "            counter[v] = counter.get(v, 0) + 1\n",
    "            if counter[v] > degree:\n",
    "                degree = counter[v]\n",
    "                res = i - first[v] + 1\n",
    "            elif counter[v] == degree:\n",
    "                res = min(res, i - first[v] + 1)\n",
    "        return res"
   ]
  },
  {
   "cell_type": "code",
   "execution_count": null,
   "metadata": {},
   "outputs": [],
   "source": [
    "class Solution:\n",
    "    def findShortestSubArray(self, nums):\n",
    "        cnt, seen = collections.Counter(nums), collections.defaultdict(list)\n",
    "        degree = max(cnt.values())\n",
    "        for i, v in enumerate(nums): seen[v].append(i)\n",
    "        return min(seen[v][-1] - seen[v][0] + 1 for v in cnt if cnt[v] == degree)"
   ]
  },
  {
   "cell_type": "code",
   "execution_count": null,
   "metadata": {},
   "outputs": [],
   "source": []
  },
  {
   "cell_type": "code",
   "execution_count": null,
   "metadata": {},
   "outputs": [],
   "source": [
    "371. Sum of Two Integers\n",
    "\n",
    "Calculate the sum of two integers a and b, but you are not allowed to use the operator + and -.\n",
    "\n",
    "Example 1:\n",
    "\n",
    "Input: a = 1, b = 2\n",
    "Output: 3\n",
    "Example 2:\n",
    "\n",
    "Input: a = -2, b = 3\n",
    "Output: 1\n"
   ]
  },
  {
   "cell_type": "code",
   "execution_count": null,
   "metadata": {},
   "outputs": [],
   "source": [
    "class Solution(object):\n",
    "    def getSum(self, a, b):\n",
    "        \"\"\"\n",
    "        :type a: int\n",
    "        :type b: int\n",
    "        :rtype: int\n",
    "        \"\"\"\n",
    "        MAX_INT = 0x7FFFFFFF\n",
    "        MIN_INT = 0x80000000\n",
    "        MASK = 0x100000000\n",
    "        while b:\n",
    "            a, b = (a ^ b) % MASK, ((a & b) << 1) % MASK\n",
    "        return a if a <= MAX_INT else ~((a % MIN_INT) ^ MAX_INT)"
   ]
  },
  {
   "cell_type": "code",
   "execution_count": 128,
   "metadata": {},
   "outputs": [
    {
     "name": "stdout",
     "output_type": "stream",
     "text": [
      "0b100000000\n"
     ]
    }
   ],
   "source": [
    "print(bin(1<<8))"
   ]
  },
  {
   "cell_type": "code",
   "execution_count": null,
   "metadata": {},
   "outputs": [],
   "source": [
    "class Solution(object):\n",
    "    def getSum(self, a, b):\n",
    "        \"\"\"\n",
    "        :type a: int\n",
    "        :type b: int\n",
    "        :rtype: int\n",
    "        \"\"\"\n",
    "        # 32 bits integer max\n",
    "        MAX = 0x7FFFFFFF\n",
    "        # 32 bits interger min\n",
    "        MIN = 0x80000000\n",
    "        # mask to get last 32 bits\n",
    "        mask = 0xFFFFFFFF\n",
    "        while b:\n",
    "            # ^ get different bits and & gets double 1s, << moves carry\n",
    "            a, b = (a ^ b) & mask, ((a & b) << 1) & mask\n",
    "        # if a is negative, get a's 32 bits complement positive first\n",
    "        # then get 32-bit positive's Python complement negative\n",
    "        return a if a <= MAX else ~(a ^ mask)"
   ]
  },
  {
   "cell_type": "code",
   "execution_count": null,
   "metadata": {},
   "outputs": [],
   "source": [
    "#REFER to complement question 476. 1009."
   ]
  },
  {
   "cell_type": "code",
   "execution_count": null,
   "metadata": {},
   "outputs": [],
   "source": []
  },
  {
   "cell_type": "code",
   "execution_count": null,
   "metadata": {},
   "outputs": [],
   "source": [
    "167. Two Sum II - Input array is sorted"
   ]
  },
  {
   "cell_type": "code",
   "execution_count": null,
   "metadata": {},
   "outputs": [],
   "source": [
    "class Solution():\n",
    "    def TwoSumII(self,nums,target):\n",
    "        for i in range(len(nums)):\n",
    "            l,r,tmp=i+1,len(nums)-1,target-nums[i]\n",
    "            while l<=r:\n",
    "                mid = (l+r)//2\n",
    "                if nums[mid]==tmp:\n",
    "                    return [i+1,mid+1]\n",
    "                elif nums[mid]<tmp:\n",
    "                    l = mid+1\n",
    "                else:\n",
    "                    r = mid-1"
   ]
  },
  {
   "cell_type": "code",
   "execution_count": null,
   "metadata": {},
   "outputs": [],
   "source": []
  },
  {
   "cell_type": "code",
   "execution_count": null,
   "metadata": {},
   "outputs": [],
   "source": [
    "783. Minimum Distance Between BST Nodes\n",
    "\n",
    "Given a Binary Search Tree (BST) with the root node root, \n",
    "return the minimum difference between the values of any two different nodes in the tree.\n",
    "\n",
    "Example :\n",
    "\n",
    "Input: root = [4,2,6,1,3,null,null]\n",
    "Output: 1\n",
    "Explanation:\n",
    "Note that root is a TreeNode object, not an array.\n",
    "\n",
    "The given tree [4,2,6,1,3,null,null] is represented by the following diagram:\n",
    "\n",
    "          4\n",
    "        /   \\\n",
    "      2      6\n",
    "     / \\    \n",
    "    1   3  \n",
    "\n",
    "while the minimum difference in this tree is 1, it occurs between node 1 and node 2, also between node 3 and node 2.\n",
    "Note:\n",
    "\n",
    "The size of the BST will be between 2 and 100.\n",
    "The BST is always valid, each node's value is an integer, and each node's value is different.\n",
    "\n",
    "#530."
   ]
  },
  {
   "cell_type": "code",
   "execution_count": null,
   "metadata": {},
   "outputs": [],
   "source": [
    "#Same solution to problem 530.\n",
    "class Solution(object):\n",
    "    pre = -float('inf')\n",
    "    minD = float('inf')\n",
    "\n",
    "    def minDiffInBST(self, root):\n",
    "        if root.left:\n",
    "            self.minDiffInBST(root.left)\n",
    "        self.minD = min(self.minD, root.val - self.pre)\n",
    "        self.pre = root.val\n",
    "        if root.right:\n",
    "            self.minDiffInBST(root.right)\n",
    "        return self.minD"
   ]
  },
  {
   "cell_type": "code",
   "execution_count": null,
   "metadata": {},
   "outputs": [],
   "source": []
  },
  {
   "cell_type": "code",
   "execution_count": null,
   "metadata": {},
   "outputs": [],
   "source": [
    "860. Lemonade Change\n",
    "\n",
    "At a lemonade stand, each lemonade costs $5. \n",
    "\n",
    "Customers are standing in a queue to buy from you, and order one at a time (in the order specified by bills).\n",
    "\n",
    "Each customer will only buy one lemonade and pay with either a $5, $10, or $20 bill.  You must provide the correct change to each customer, so that the net transaction is that the customer pays $5.\n",
    "\n",
    "Note that you don't have any change in hand at first.\n",
    "\n",
    "Return true if and only if you can provide every customer with correct change.\n",
    "\n",
    " \n",
    "\n",
    "Example 1:\n",
    "\n",
    "Input: [5,5,5,10,20]\n",
    "Output: true\n",
    "Explanation: \n",
    "From the first 3 customers, we collect three $5 bills in order.\n",
    "From the fourth customer, we collect a $10 bill and give back a $5.\n",
    "From the fifth customer, we give a $10 bill and a $5 bill.\n",
    "Since all customers got correct change, we output true.\n",
    "Example 2:\n",
    "\n",
    "Input: [5,5,10]\n",
    "Output: true\n",
    "Example 3:\n",
    "\n",
    "Input: [10,10]\n",
    "Output: false\n",
    "Example 4:\n",
    "\n",
    "Input: [5,5,10,10,20]\n",
    "Output: false\n",
    "Explanation: \n",
    "From the first two customers in order, we collect two $5 bills.\n",
    "For the next two customers in order, we collect a $10 bill and give back a $5 bill.\n",
    "For the last customer, we can't give change of $15 back because we only have two $10 bills.\n",
    "Since not every customer received correct change, the answer is false.\n",
    " \n",
    "\n",
    "Note:\n",
    "\n",
    "0 <= bills.length <= 10000\n",
    "bills[i] will be either 5, 10, or 20."
   ]
  },
  {
   "cell_type": "code",
   "execution_count": null,
   "metadata": {},
   "outputs": [],
   "source": [
    "def lemonadeChange(self, bills):\n",
    "        five = ten = 0\n",
    "        for i in bills:\n",
    "            if i == 5: five += 1\n",
    "            elif i == 10: five, ten = five - 1, ten + 1\n",
    "            elif ten > 0: five, ten = five - 1, ten - 1 #making change for $20\n",
    "            else: five -= 3\n",
    "            if five < 0: return False\n",
    "        return True"
   ]
  },
  {
   "cell_type": "code",
   "execution_count": null,
   "metadata": {},
   "outputs": [],
   "source": [
    "class Solution:\n",
    "    def lemonadeChange(self, bills):\n",
    "        five = ten = 0\n",
    "        for num in bills:\n",
    "            if num == 5:\n",
    "                five += 1\n",
    "            elif num == 10 and five:\n",
    "                ten += 1\n",
    "                five -= 1\n",
    "            elif num == 20 and five and ten:\n",
    "                five -= 1\n",
    "                ten -= 1\n",
    "            elif num == 20 and five >= 3:\n",
    "                five -= 3\n",
    "            else:\n",
    "                return False\n",
    "        return True"
   ]
  },
  {
   "cell_type": "code",
   "execution_count": null,
   "metadata": {},
   "outputs": [],
   "source": []
  },
  {
   "cell_type": "code",
   "execution_count": null,
   "metadata": {},
   "outputs": [],
   "source": [
    "387. First Unique Character in a String\n",
    "\n",
    "Given a string, find the first non-repeating character in it and return it's index. \n",
    "If it doesn't exist, return -1.\n",
    "\n",
    "Examples:\n",
    "\n",
    "s = \"leetcode\"\n",
    "return 0.\n",
    "\n",
    "s = \"loveleetcode\",\n",
    "return 2.\n",
    "Note: You may assume the string contain only lowercase letters."
   ]
  },
  {
   "cell_type": "code",
   "execution_count": 374,
   "metadata": {},
   "outputs": [
    {
     "name": "stdout",
     "output_type": "stream",
     "text": [
      "{'e': 8, 'd': 1, 'o': 10, 'c': 3, 't': 4, 'l': 11, 'v': 9}\n"
     ]
    },
    {
     "data": {
      "text/plain": [
       "2"
      ]
     },
     "execution_count": 374,
     "metadata": {},
     "output_type": "execute_result"
    }
   ],
   "source": [
    "class solution():\n",
    "    def FirstUniqueCharacter(self,s):\n",
    "        dt, res ={}, -1\n",
    "        for i,c in enumerate(s[::-1]):\n",
    "            if c not in dt:\n",
    "                res = len(s)-i-1\n",
    "            dt[c]=i\n",
    "        print(dt)\n",
    "        return res\n",
    "    \n",
    "s=\"loveleetcode\"\n",
    "a=solution()\n",
    "a.FirstUniqueCharacter(s)\n"
   ]
  },
  {
   "cell_type": "code",
   "execution_count": null,
   "metadata": {},
   "outputs": [],
   "source": [
    "class Solution(object):\n",
    "    def firstUniqChar(self, s):\n",
    "        return min([s.find(c) for c in string.ascii_lowercase if s.count(c)==1] or [-1])\n",
    "\n",
    "class Solution(object):\n",
    "    def firstUniqChar(self, s):\n",
    "        return min([s.find(c) for c,v in collections.Counter(s).iteritems() if v==1] or [-1])"
   ]
  },
  {
   "cell_type": "code",
   "execution_count": null,
   "metadata": {},
   "outputs": [],
   "source": []
  },
  {
   "cell_type": "code",
   "execution_count": null,
   "metadata": {},
   "outputs": [],
   "source": [
    "383. Ransom Note\n",
    "\n",
    "Given an arbitrary ransom note string and another string containing letters from all the magazines, \n",
    "write a function that will return true if the ransom note can be constructed from the magazines ; \n",
    "otherwise, it will return false.\n",
    "\n",
    "Each letter in the magazine string can only be used once in your ransom note.\n",
    "\n",
    "Note:\n",
    "You may assume that both strings contain only lowercase letters.\n",
    "\n",
    "canConstruct(\"a\", \"b\") -> false\n",
    "canConstruct(\"aa\", \"ab\") -> false\n",
    "canConstruct(\"aa\", \"aab\") -> true"
   ]
  },
  {
   "cell_type": "code",
   "execution_count": null,
   "metadata": {},
   "outputs": [],
   "source": [
    "def canConstruct(self, ransomNote, magazine):\n",
    "    return not collections.Counter(ransomNote) - collections.Counter(magazine)"
   ]
  },
  {
   "cell_type": "code",
   "execution_count": null,
   "metadata": {},
   "outputs": [],
   "source": []
  },
  {
   "cell_type": "code",
   "execution_count": null,
   "metadata": {},
   "outputs": [],
   "source": [
    "447. Number of Boomerangs\n",
    "\n",
    "Given n points in the plane that are all pairwise distinct, \n",
    "a \"boomerang\" is a tuple of points (i, j, k) such that the distance \n",
    "between i and j equals the distance between i and k (the order of the tuple matters).\n",
    "\n",
    "Find the number of boomerangs. \n",
    "You may assume that n will be at most 500 and coordinates of points are all in the range [-10000, 10000] (inclusive).\n",
    "\n",
    "Example:\n",
    "\n",
    "Input:\n",
    "[[0,0],[1,0],[2,0]]\n",
    "\n",
    "Output:\n",
    "2\n",
    "\n",
    "Explanation:\n",
    "The two boomerangs are [[1,0],[0,0],[2,0]] and [[1,0],[2,0],[0,0]]"
   ]
  },
  {
   "cell_type": "code",
   "execution_count": null,
   "metadata": {},
   "outputs": [],
   "source": [
    "class Solution(object):\n",
    "    def distance(self, a, b):\n",
    "        x = a[0] - b[0]\n",
    "        y = a[1] - b[1]\n",
    "        return x*x + y*y\n",
    "\n",
    "    def numberOfBoomerangs(self, points):\n",
    "        \"\"\"\n",
    "        :type points: List[List[int]]\n",
    "        :rtype: int\n",
    "        \"\"\"\n",
    "        dist_map = collections.Counter()\n",
    "        res = 0\n",
    "        for i in range(0, len(points)):\n",
    "            dist_map.clear()\n",
    "            for j in range(0, len(points)):\n",
    "                if i == j:\n",
    "                    continue\n",
    "                dist = self.distance(points[i], points[j])\n",
    "                dist_map[dist] += 1\n",
    "            for val in dist_map.values():\n",
    "                res += val * (val-1)\n",
    "\n",
    "        return res"
   ]
  },
  {
   "cell_type": "code",
   "execution_count": 130,
   "metadata": {},
   "outputs": [
    {
     "name": "stdout",
     "output_type": "stream",
     "text": [
      "[0, 1, 2, 3, 4]\n",
      "[0, 1, 2, 3, 4]\n"
     ]
    }
   ],
   "source": [
    "print(list(range(5)))\n",
    "print(list(range(0, 5)))"
   ]
  },
  {
   "cell_type": "code",
   "execution_count": null,
   "metadata": {},
   "outputs": [],
   "source": [
    "HashMap Solution: O(N^2)\n",
    "\n",
    "For a point p, find its distance from all other points and store it in dictionary indexed by the distance. The entry in the dictionary would have key as a distance \"d\" and value as the number of points which are a distance d from p.\n",
    "Imagine there are 3 points (p2,p3,p4) at a distance 10 from point p1. How many boomerangs do these contribute? For p2, p3, we have (p1,p2,p3) and (p1,p3,p2). Similarly for p3,p4 and p1,p4 - so a total of 6 boomerangs. Let us generalize it.\n",
    "Imagine we have k points which are at a distance d1 from point p. How many ways can we choose two items from k items? Answer: (k * (k-1)/2 ). Now each choice yield 2 boomerangs (i.e. (p2, p3) and (p3,p2)). So we have k * (k-1).\n",
    "class Solution(object):\n",
    "    def numberOfBoomerangs(self, points):\n",
    "        \"\"\"\n",
    "        :type points: List[List[int]]\n",
    "        :rtype: int\n",
    "        \"\"\"\n",
    "        cnt = 0\n",
    "        for i in range(len(points)):\n",
    "            distance = {}\n",
    "            for j in range(len(points)):\n",
    "                if i != j:\n",
    "                    f, g = points[i][0]-points[j][0], points[i][1]-points[j][1]\n",
    "                    d = f*f + g*g\n",
    "                    distance.setdefault(d,0)\n",
    "                    distance[d] += 1\n",
    "            for d in distance:\n",
    "                cnt += distance[d]*(distance[d]-1)\n",
    "        return cnt"
   ]
  },
  {
   "cell_type": "code",
   "execution_count": null,
   "metadata": {},
   "outputs": [],
   "source": []
  },
  {
   "cell_type": "code",
   "execution_count": null,
   "metadata": {},
   "outputs": [],
   "source": [
    "1005. Maximize Sum Of Array After K Negations\n",
    "\n",
    "Given an array A of integers, we must modify the array in the following way: \n",
    "we choose an i and replace A[i] with -A[i], and we repeat this process K times in total.  \n",
    "(We may choose the same index i multiple times.)\n",
    "\n",
    "Return the largest possible sum of the array after modifying it in this way.\n",
    "\n",
    " \n",
    "\n",
    "Example 1:\n",
    "\n",
    "Input: A = [4,2,3], K = 1\n",
    "Output: 5\n",
    "Explanation: Choose indices (1,) and A becomes [4,-2,3].\n",
    "Example 2:\n",
    "\n",
    "Input: A = [3,-1,0,2], K = 3\n",
    "Output: 6\n",
    "Explanation: Choose indices (1, 2, 2) and A becomes [3,1,0,2].\n",
    "Example 3:\n",
    "\n",
    "Input: A = [2,-3,-1,5,-4], K = 2\n",
    "Output: 13\n",
    "Explanation: Choose indices (1, 4) and A becomes [2,3,-1,5,4].\n",
    " \n",
    "\n",
    "Note:\n",
    "\n",
    "1 <= A.length <= 10000\n",
    "1 <= K <= 10000\n",
    "-100 <= A[i] <= 100"
   ]
  },
  {
   "cell_type": "code",
   "execution_count": null,
   "metadata": {},
   "outputs": [],
   "source": [
    "def largestSumAfterKNegations(self, A, K):\n",
    "        A.sort()\n",
    "        i = 0\n",
    "        while i < len(A) and i < K and A[i] < 0:\n",
    "            A[i] = -A[i]\n",
    "            i += 1\n",
    "        return sum(A) - (K - i) % 2 * min(A) * 2"
   ]
  },
  {
   "cell_type": "code",
   "execution_count": null,
   "metadata": {},
   "outputs": [],
   "source": [
    "class Solution:\n",
    "    def largestSumAfterKNegations(self, A: List[int], K: int) -> int:\n",
    "        heapq.heapify(A)\n",
    "        for _ in range(K):\n",
    "            heapq.heappush(A, -heapq.heappop(A))\n",
    "        return sum(A)"
   ]
  },
  {
   "cell_type": "code",
   "execution_count": null,
   "metadata": {},
   "outputs": [],
   "source": []
  },
  {
   "cell_type": "code",
   "execution_count": null,
   "metadata": {},
   "outputs": [],
   "source": [
    "453. Minimum Moves to Equal Array Elements\n",
    "\n",
    "Given a non-empty integer array of size n, \n",
    "find the minimum number of moves required to make all array elements equal, \n",
    "where a move is incrementing n - 1 elements by 1.\n",
    "\n",
    "Example:\n",
    "\n",
    "Input:\n",
    "[1,2,3]\n",
    "\n",
    "Output:\n",
    "3\n",
    "\n",
    "Explanation:\n",
    "Only three moves are needed (remember each move increments two elements):\n",
    "\n",
    "[1,2,3]  =>  [2,3,3]  =>  [3,4,3]  =>  [4,4,4]"
   ]
  },
  {
   "cell_type": "code",
   "execution_count": null,
   "metadata": {},
   "outputs": [],
   "source": [
    "org = sum(A)\n",
    "k=0\n",
    "while org%n!=0:\n",
    "    k += 1\n",
    "    org = org + k*(n-1)"
   ]
  },
  {
   "cell_type": "code",
   "execution_count": null,
   "metadata": {},
   "outputs": [],
   "source": [
    "Solution using sorting the array\n",
    "\n",
    "Visualize the nums array as a bar graph where the value at each index is a bar of height nums[i]. Sort the array such that the bar at index 0 is minimum height and the bar at index N-1 is highest.\n",
    "Now in the first iteration, make a sequence of moves such that the height at index 0 becomes equal to height at index N-1. Clearly this takes nums[N-1]-nums[0] moves. After these moves, index N-2 will be the highest and index 0 will still be the minimum. Moreover, nums[0] will be same as nums[N-1].\n",
    "In the next iteration, lets do nums[N-2]-nums[0] moves on all elements except N-2. After this iteration, nums[0] and nums[N-2] will be same. In addition, nums[N-1] will also be the same as these two bars. Clearly, when we the repeat the process for nums[N-3] i.e. move all elements (except N-3) by nums[N-3]-nums[0], we make elements 0, N-3, N-2, and N-1 same."
   ]
  },
  {
   "cell_type": "code",
   "execution_count": null,
   "metadata": {},
   "outputs": [],
   "source": [
    "class Solution(object):\n",
    "    def minMoves(self, nums):\n",
    "        \"\"\"\n",
    "        :type nums: List[int]\n",
    "        :rtype: int\n",
    "        \"\"\"\n",
    "        nums.sort()\n",
    "        moves = 0\n",
    "        for i in range(len(nums)-1, -1, -1):\n",
    "            if nums[i] == nums[0]:\n",
    "                break\n",
    "            moves += nums[i] - nums[0]\n",
    "        return moves"
   ]
  },
  {
   "cell_type": "code",
   "execution_count": null,
   "metadata": {},
   "outputs": [],
   "source": [
    "Optimal Solution by Transforming the problem\n",
    "\n",
    "A move can be interpreted as: \"Add 1 to every element and subtract one from any one element\". sum(nums_new) = sum(nums) + (n-1): we increment only (n-1) elements by 1.\n",
    "Visualize the nums array as a bar graph where the value at each index is a bar of height nums[i]. We are looking for minimum moves such that all bars reach the final same height.\n",
    "Now adding 1 to all the bars in the initial state does not change the initial state - it simply shifts the initial state uniformly by 1.This gives us the insight that a single move is equivalent to subtracting 1 from any one element with respect to the goal of reaching a final state with equal heights.\n",
    "So our new problem is to find the minimum number of moves to reach a final state where all nums are equal and in each move we subtract 1 from any element.\n",
    "The final state must be a state where every element is equal to the minimum element. Say we make K moves to reach the final state. Then we have the equation, N * min(nums) = sum(nums) - K."
   ]
  },
  {
   "cell_type": "code",
   "execution_count": null,
   "metadata": {},
   "outputs": [],
   "source": [
    "class Solution(object):\n",
    "    def minMoves(self, nums):\n",
    "        \"\"\"\n",
    "        :type nums: List[int]\n",
    "        :rtype: int\n",
    "        \"\"\"\n",
    "        return sum(nums) - len(nums)*min(nums)"
   ]
  },
  {
   "cell_type": "code",
   "execution_count": null,
   "metadata": {},
   "outputs": [],
   "source": []
  },
  {
   "cell_type": "code",
   "execution_count": null,
   "metadata": {},
   "outputs": [],
   "source": [
    "404. Sum of Left Leaves\n",
    "\n",
    "Find the sum of all left leaves in a given binary tree.\n",
    "\n",
    "Example:\n",
    "\n",
    "    3\n",
    "   / \\\n",
    "  9  20\n",
    "    /  \\\n",
    "   15   7\n",
    "\n",
    "There are two left leaves in the binary tree, with values 9 and 15 respectively. Return 24."
   ]
  },
  {
   "cell_type": "code",
   "execution_count": null,
   "metadata": {},
   "outputs": [],
   "source": [
    "class Solution(object):\n",
    "    def sumOfLeftLeaves(self, root):\n",
    "        \n",
    "        def dfs(root, left):\n",
    "            if not root: return\n",
    "            if left and not root.left and not root.right: \n",
    "                self.res += root.val\n",
    "            dfs(root.left,  True)\n",
    "            dfs(root.right, False)\n",
    "            \n",
    "        self.res = 0\n",
    "        dfs(root, False)\n",
    "        return self.res"
   ]
  },
  {
   "cell_type": "code",
   "execution_count": null,
   "metadata": {},
   "outputs": [],
   "source": []
  },
  {
   "cell_type": "code",
   "execution_count": null,
   "metadata": {},
   "outputs": [],
   "source": [
    "181. Employees Earning More Than Their Managers\n",
    "#SQL\n",
    "select a.Id from Employee a inner join Employee b on a.ManagerId=b.Id and a.Salary>b.Salary\n",
    "#OR\n",
    "SELECT * FROM Employee AS a, Employee AS b WHERE a.ManagerId = b.Id AND a.Salary > b.Salary\n"
   ]
  },
  {
   "cell_type": "code",
   "execution_count": null,
   "metadata": {},
   "outputs": [],
   "source": []
  },
  {
   "cell_type": "code",
   "execution_count": null,
   "metadata": {},
   "outputs": [],
   "source": [
    "256. Paint House"
   ]
  },
  {
   "cell_type": "code",
   "execution_count": null,
   "metadata": {},
   "outputs": [],
   "source": [
    "class Solution():\n",
    "    def PaintHouse(self,costs):\n",
    "        hcost=[0]*3 #3 - total number of colors\n",
    "        for rowc in costs:\n",
    "            hcost = [min(hcost[:j]+hcost[j+1:])+rowc[j] for j in range(3)] \n",
    "            #j=3 total number of houses\n",
    "        return min(hcost)"
   ]
  },
  {
   "cell_type": "code",
   "execution_count": null,
   "metadata": {},
   "outputs": [],
   "source": []
  },
  {
   "cell_type": "code",
   "execution_count": null,
   "metadata": {},
   "outputs": [],
   "source": [
    "997. Find the Town Judge\n",
    "In a town, there are N people labelled from 1 to N.  There is a rumor that one of these people is secretly the town judge.\n",
    "\n",
    "If the town judge exists, then:\n",
    "\n",
    "The town judge trusts nobody.\n",
    "Everybody (except for the town judge) trusts the town judge.\n",
    "There is exactly one person that satisfies properties 1 and 2.\n",
    "You are given trust, an array of pairs trust[i] = [a, b] representing that the person labelled a trusts the person labelled b.\n",
    "\n",
    "If the town judge exists and can be identified, return the label of the town judge.  Otherwise, return -1.\n",
    "\n",
    " \n",
    "\n",
    "Example 1:\n",
    "\n",
    "Input: N = 2, trust = [[1,2]]\n",
    "Output: 2\n",
    "Example 2:\n",
    "\n",
    "Input: N = 3, trust = [[1,3],[2,3]]\n",
    "Output: 3\n",
    "Example 3:\n",
    "\n",
    "Input: N = 3, trust = [[1,3],[2,3],[3,1]]\n",
    "Output: -1\n",
    "Example 4:\n",
    "\n",
    "Input: N = 3, trust = [[1,2],[2,3]]\n",
    "Output: -1\n",
    "Example 5:\n",
    "\n",
    "Input: N = 4, trust = [[1,3],[1,4],[2,3],[2,4],[4,3]]\n",
    "Output: 3\n",
    " \n",
    "\n",
    "Note:\n",
    "\n",
    "1 <= N <= 1000\n",
    "trust.length <= 10000\n",
    "trust[i] are all different\n",
    "trust[i][0] != trust[i][1]\n",
    "1 <= trust[i][0], trust[i][1] <= N"
   ]
  },
  {
   "cell_type": "code",
   "execution_count": 391,
   "metadata": {},
   "outputs": [
    {
     "name": "stdout",
     "output_type": "stream",
     "text": [
      "[1, 2, 4]\n",
      "[1, 2, 3, 4]\n",
      "True\n",
      "[3]\n"
     ]
    }
   ],
   "source": [
    "nums=[[1,3],[1,4],[2,3],[2,4],[4,3]]\n",
    "b = set()\n",
    "for n in nums:\n",
    "    b.add(n[0])\n",
    "print(list(b))\n",
    "N=4\n",
    "t = list(range(1,N+1))\n",
    "print(t)\n",
    "print(N-len(b)==1)\n",
    "print([i for i in t if i not in b])"
   ]
  },
  {
   "cell_type": "code",
   "execution_count": null,
   "metadata": {},
   "outputs": [],
   "source": [
    "def findJudge(self, N, trust):\n",
    "        count = [0] * (N + 1)\n",
    "        for i, j in trust:\n",
    "            count[i] -= 1\n",
    "            count[j] += 1\n",
    "        for i in range(1, N + 1):\n",
    "            if count[i] == N - 1:\n",
    "                return i\n",
    "        return -1"
   ]
  },
  {
   "cell_type": "code",
   "execution_count": null,
   "metadata": {},
   "outputs": [],
   "source": []
  },
  {
   "cell_type": "code",
   "execution_count": null,
   "metadata": {},
   "outputs": [],
   "source": [
    "717. 1-bit and 2-bit Characters\n",
    "\n",
    "We have two special characters. The first character can be represented by one bit 0. \n",
    "The second character can be represented by two bits (10 or 11).\n",
    "\n",
    "Now given a string represented by several bits. \n",
    "Return whether the last character must be a one-bit character or not.\n",
    "The given string will always end with a zero.\n",
    "\n",
    "Example 1:\n",
    "Input: \n",
    "bits = [1, 0, 0]\n",
    "Output: True\n",
    "Explanation: \n",
    "The only way to decode it is two-bit character and one-bit character. So the last character is one-bit character.\n",
    "Example 2:\n",
    "Input: \n",
    "bits = [1, 1, 1, 0]\n",
    "Output: False\n",
    "Explanation: \n",
    "The only way to decode it is two-bit character and two-bit character. So the last character is NOT one-bit character.\n",
    "Note:\n",
    "\n",
    "1 <= len(bits) <= 1000.\n",
    "bits[i] is always 0 or 1.\n"
   ]
  },
  {
   "cell_type": "code",
   "execution_count": null,
   "metadata": {},
   "outputs": [],
   "source": [
    "return (bits.replace())"
   ]
  },
  {
   "cell_type": "code",
   "execution_count": 398,
   "metadata": {},
   "outputs": [
    {
     "name": "stdout",
     "output_type": "stream",
     "text": [
      "001110\n",
      "True\n"
     ]
    }
   ],
   "source": [
    "bits = [0,0,1,1,1,0]\n",
    "\n",
    "b = ''.join(str(i) for i in bits)\n",
    "print(b)\n",
    "c = b.replace('10','').replace('11','')\n",
    "print(c=='' or c[:-1]=='0')"
   ]
  },
  {
   "cell_type": "code",
   "execution_count": null,
   "metadata": {},
   "outputs": [],
   "source": [
    "#Just go through the bits. For every 1-bit, skip the following bit. Return whether the last seen start bit was zero.\n",
    "def isOneBitCharacter(self, bits):\n",
    "    bits = iter(bits)\n",
    "    for bit in bits:\n",
    "        if bit:\n",
    "            next(bits)\n",
    "    return not bit"
   ]
  },
  {
   "cell_type": "code",
   "execution_count": null,
   "metadata": {},
   "outputs": [],
   "source": [
    "def isOneBitCharacter(self, bits):\n",
    "    for i, bit in enumerate(bits):\n",
    "        if bit:\n",
    "            bits.pop(i + 1)\n",
    "    return not bit"
   ]
  },
  {
   "cell_type": "code",
   "execution_count": null,
   "metadata": {},
   "outputs": [],
   "source": [
    "class Solution(object):\n",
    "    def isOneBitCharacter(self, bits):\n",
    "        pos = 0\n",
    "        while pos < len(bits)-1:\n",
    "            if bits[pos]==1:\n",
    "                pos+=2\n",
    "            else:\n",
    "                pos+=1\n",
    "        return pos==len(bits)-1"
   ]
  },
  {
   "cell_type": "code",
   "execution_count": null,
   "metadata": {},
   "outputs": [],
   "source": []
  },
  {
   "cell_type": "code",
   "execution_count": null,
   "metadata": {},
   "outputs": [],
   "source": [
    "796. Rotate String\n",
    "We are given two strings, A and B.\n",
    "\n",
    "A shift on A consists of taking string A and moving the leftmost character to the rightmost position. \n",
    "For example, if A = 'abcde', then it will be 'bcdea' after one shift on A. \n",
    "Return True if and only if A can become B after some number of shifts on A.\n",
    "\n",
    "Example 1:\n",
    "Input: A = 'abcde', B = 'cdeab'\n",
    "Output: true\n",
    "\n",
    "Example 2:\n",
    "Input: A = 'abcde', B = 'abced'\n",
    "Output: false\n",
    "Note:\n",
    "\n",
    "A and B will have length at most 100."
   ]
  },
  {
   "cell_type": "code",
   "execution_count": null,
   "metadata": {},
   "outputs": [],
   "source": [
    "return len(A) == len(B) and B in A + A"
   ]
  },
  {
   "cell_type": "code",
   "execution_count": 412,
   "metadata": {},
   "outputs": [
    {
     "name": "stdout",
     "output_type": "stream",
     "text": [
      "6\n",
      "False\n"
     ]
    }
   ],
   "source": [
    "A = 'abacdea'\n",
    "B = 'cdeaaba'\n",
    "print(B.rfind(A[0]))\n",
    "print (all(i[0]==i[1] for i in zip(A,B[3:]+B[:3])))"
   ]
  },
  {
   "cell_type": "code",
   "execution_count": null,
   "metadata": {},
   "outputs": [],
   "source": []
  },
  {
   "cell_type": "code",
   "execution_count": null,
   "metadata": {},
   "outputs": [],
   "source": [
    "661. Image Smoother\n",
    "\n",
    "Given a 2D integer matrix M representing the gray scale of an image, \n",
    "you need to design a smoother to make the gray scale of each cell \n",
    "becomes the average gray scale (rounding down) of all the 8 surrounding cells and itself. \n",
    "If a cell has less than 8 surrounding cells, then use as many as you can.\n",
    "\n",
    "Example 1:\n",
    "Input:\n",
    "[[1,1,1],\n",
    " [1,0,1],\n",
    " [1,1,1]]\n",
    "Output:\n",
    "[[0, 0, 0],\n",
    " [0, 0, 0],\n",
    " [0, 0, 0]]\n",
    "Explanation:\n",
    "For the point (0,0), (0,2), (2,0), (2,2): floor(3/4) = floor(0.75) = 0\n",
    "For the point (0,1), (1,0), (1,2), (2,1): floor(5/6) = floor(0.83333333) = 0\n",
    "For the point (1,1): floor(8/9) = floor(0.88888889) = 0\n",
    "Note:\n",
    "The value in the given matrix is in the range of [0, 255].\n",
    "The length and width of the given matrix are in the range of [1, 150].\n"
   ]
  },
  {
   "cell_type": "code",
   "execution_count": null,
   "metadata": {},
   "outputs": [],
   "source": [
    "#REFER to questions 463. 1099. 892. 733. 661. 994."
   ]
  },
  {
   "cell_type": "code",
   "execution_count": null,
   "metadata": {},
   "outputs": [],
   "source": [
    "class Solution:\n",
    "    def imageSmoother(self, M: List[List[int]]) -> List[List[int]]:\n",
    "        m, n = len(M), len(M[0])\n",
    "        grid = [[0] * n for _ in range(m)]\n",
    "        for i in range(m):\n",
    "            for j in range(n):\n",
    "                adj = [M[i+x][j+y] for x,y in ((0,0),(-1,0),(1,0),(0,-1),(0,1),(-1,-1),(-1,1),(1,1),(1,-1)) \\\n",
    "                       if 0<=i+x<m and 0<=j+y<n] \n",
    "                grid[i][j] = sum(adj) // len(adj)\n",
    "        return grid\n",
    "    "
   ]
  },
  {
   "cell_type": "code",
   "execution_count": null,
   "metadata": {},
   "outputs": [],
   "source": []
  },
  {
   "cell_type": "code",
   "execution_count": null,
   "metadata": {},
   "outputs": [],
   "source": [
    "598. Range Addition II\n",
    "\n",
    "Given an m * n matrix M initialized with all 0's and several update operations.\n",
    "\n",
    "Operations are represented by a 2D array, \n",
    "and each operation is represented by an array with two positive integers a and b, \n",
    "which means M[i][j] should be added by one for all 0 <= i < a and 0 <= j < b.\n",
    "\n",
    "You need to count and return the number of maximum integers in the matrix after performing all the operations.\n",
    "\n",
    "Example 1:\n",
    "Input: \n",
    "m = 3, n = 3\n",
    "operations = [[2,2],[3,3]]\n",
    "Output: 4\n",
    "Explanation: \n",
    "Initially, M = \n",
    "[[0, 0, 0],\n",
    " [0, 0, 0],\n",
    " [0, 0, 0]]\n",
    "\n",
    "After performing [2,2], M = \n",
    "[[1, 1, 0],\n",
    " [1, 1, 0],\n",
    " [0, 0, 0]]\n",
    "\n",
    "After performing [3,3], M = \n",
    "[[2, 2, 1],\n",
    " [2, 2, 1],\n",
    " [1, 1, 1]]\n",
    "\n",
    "So the maximum integer in M is 2, and there are four of it in M. So return 4.\n",
    "Note:\n",
    "The range of m and n is [1,40000].\n",
    "The range of a is [1,m], and the range of b is [1,n].\n",
    "The range of operations size won't exceed 10,000."
   ]
  },
  {
   "cell_type": "code",
   "execution_count": null,
   "metadata": {},
   "outputs": [],
   "source": [
    "def maxCount(self, R, C, ops):\n",
    "    if not ops: return R * C\n",
    "    X, Y = zip(*ops)\n",
    "    return min(X) * min(Y)"
   ]
  },
  {
   "cell_type": "code",
   "execution_count": 428,
   "metadata": {},
   "outputs": [
    {
     "name": "stdout",
     "output_type": "stream",
     "text": [
      "(2, 3) (2, 3)\n",
      "2\n"
     ]
    }
   ],
   "source": [
    "ops = [[2,2],[3,3]]\n",
    "X, Y = zip(*ops)\n",
    "print(X,Y)\n",
    "M = [[1, 1, 0],\n",
    " [1, 4, 0],\n",
    " [4, 3, 0]]\n",
    "H =[M[i][j] for i in range(len(M)) for j in range(len(M[0]))]\n",
    "print (collections.Counter(H)[max(H)])"
   ]
  },
  {
   "cell_type": "code",
   "execution_count": null,
   "metadata": {},
   "outputs": [],
   "source": [
    "def maxCount(self, m, n, ops):\n",
    "        return min(op[0] for op in ops) * min(op[1] for op in ops) if ops else m * n"
   ]
  },
  {
   "cell_type": "code",
   "execution_count": null,
   "metadata": {},
   "outputs": [],
   "source": [
    "class Solution:\n",
    "    def maxCount(self,m,n,ops):\n",
    "        grid = [[0] * n for _ in range(m)]\n",
    "        for op in ops:\n",
    "            for i in range(op[0]):\n",
    "                for j in range(op[1]):\n",
    "                    grid[i][j] += 1\n",
    "        h =[grid[i][j] for i in range(m) for j in range(n)]\n",
    "        return collections.Counter(h)[max(h)]"
   ]
  },
  {
   "cell_type": "code",
   "execution_count": null,
   "metadata": {},
   "outputs": [],
   "source": []
  },
  {
   "cell_type": "code",
   "execution_count": null,
   "metadata": {},
   "outputs": [],
   "source": [
    "268. Missing Number\n",
    "Given an array containing n distinct numbers taken from 0, 1, 2, ..., n, \n",
    "find the one that is missing from the array.\n",
    "\n",
    "Example 1:\n",
    "\n",
    "Input: [3,0,1]\n",
    "Output: 2\n",
    "Example 2:\n",
    "\n",
    "Input: [9,6,4,2,3,5,7,0,1]\n",
    "Output: 8\n",
    "Note:\n",
    "Your algorithm should run in linear runtime complexity. Could you implement it using only constant extra space complexity?\n"
   ]
  },
  {
   "cell_type": "code",
   "execution_count": null,
   "metadata": {},
   "outputs": [],
   "source": [
    "class Solution():\n",
    "    def MissingNumber(self,nums):\n",
    "        n = len(nums)\n",
    "        return n*(n+1)/2-sum(nums)\n",
    "    def MissingNumber2(self,nums):\n",
    "        res=0\n",
    "        for i in range(len(nums)+1):\n",
    "            res^=i\n",
    "        for n in nums:\n",
    "            res ^= n\n",
    "        return res"
   ]
  },
  {
   "cell_type": "code",
   "execution_count": 439,
   "metadata": {},
   "outputs": [
    {
     "name": "stdout",
     "output_type": "stream",
     "text": [
      "[8]\n"
     ]
    },
    {
     "data": {
      "text/plain": [
       "{8}"
      ]
     },
     "execution_count": 439,
     "metadata": {},
     "output_type": "execute_result"
    }
   ],
   "source": [
    "nums=[9,6,4,2,3,5,7,0,1]\n",
    "print([x for x in list(range(1, len(nums)+1)) if x not in nums])\n",
    "set(list(range(1,10)))-set(nums)"
   ]
  },
  {
   "cell_type": "code",
   "execution_count": null,
   "metadata": {},
   "outputs": [],
   "source": []
  },
  {
   "cell_type": "code",
   "execution_count": null,
   "metadata": {},
   "outputs": [],
   "source": [
    "492. Construct the Rectangle\n",
    "\n",
    "For a web developer, it is very important to know how to design a web page's size. \n",
    "So, given a specific rectangular web page’s area, your job by now is to design a rectangular web page, \n",
    "whose length L and width W satisfy the following requirements:\n",
    "\n",
    "1. The area of the rectangular web page you designed must equal to the given target area.\n",
    "\n",
    "2. The width W should not be larger than the length L, which means L >= W.\n",
    "\n",
    "3. The difference between length L and width W should be as small as possible.\n",
    "You need to output the length L and the width W of the web page you designed in sequence.\n",
    "Example:\n",
    "Input: 4\n",
    "Output: [2, 2]\n",
    "Explanation: The target area is 4, and all the possible ways to construct it are [1,4], [2,2], [4,1]. \n",
    "But according to requirement 2, [1,4] is illegal; according to requirement 3,  [4,1] is not optimal compared to [2,2]. So the length L is 2, and the width W is 2.\n",
    "Note:\n",
    "The given area won't exceed 10,000,000 and is a positive integer\n",
    "The web page's width and length you designed must be positive integers."
   ]
  },
  {
   "cell_type": "code",
   "execution_count": null,
   "metadata": {},
   "outputs": [],
   "source": [
    "class Solution(object):\n",
    "    def constructRectangle(self, area):\n",
    "        mid = int(math.sqrt(area))\n",
    "        while mid > 0:\n",
    "            if area % mid == 0:\n",
    "                return [int(area / mid), int(mid)]\n",
    "            mid -= 1"
   ]
  },
  {
   "cell_type": "code",
   "execution_count": null,
   "metadata": {},
   "outputs": [],
   "source": [
    "def constructRectangle(self, area):\n",
    "        \"\"\"\n",
    "        :type area: int\n",
    "        :rtype: List[int]\n",
    "        \"\"\"\n",
    "        W = int(math.sqrt(area))\n",
    "        while area % W and W>=1:\n",
    "            W -= 1\n",
    "        return [area // W, W]"
   ]
  },
  {
   "cell_type": "code",
   "execution_count": null,
   "metadata": {},
   "outputs": [],
   "source": []
  },
  {
   "cell_type": "code",
   "execution_count": null,
   "metadata": {},
   "outputs": [],
   "source": [
    "455. Assign Cookies\n",
    "\n",
    "Assume you are an awesome parent and want to give your children some cookies. \n",
    "But, you should give each child at most one cookie. \n",
    "Each child i has a greed factor gi, which is the minimum size of a cookie that the child will be content with; \n",
    "and each cookie j has a size sj. If sj >= gi, we can assign the cookie j to the child i, \n",
    "and the child i will be content. \n",
    "Your goal is to maximize the number of your content children and output the maximum number.\n",
    "\n",
    "Note:\n",
    "You may assume the greed factor is always positive. \n",
    "You cannot assign more than one cookie to one child.\n",
    "\n",
    "Example 1:\n",
    "Input: [1,2,3], [1,1]\n",
    "\n",
    "Output: 1\n",
    "\n",
    "Explanation: You have 3 children and 2 cookies. The greed factors of 3 children are 1, 2, 3. \n",
    "And even though you have 2 cookies, since their size is both 1, \n",
    "you could only make the child whose greed factor is 1 content.\n",
    "You need to output 1.\n",
    "Example 2:\n",
    "Input: [1,2], [1,2,3]\n",
    "\n",
    "Output: 2\n",
    "\n",
    "Explanation: You have 2 children and 3 cookies. The greed factors of 2 children are 1, 2. \n",
    "You have 3 cookies and their sizes are big enough to gratify all of the children, \n",
    "You need to output 2."
   ]
  },
  {
   "cell_type": "code",
   "execution_count": null,
   "metadata": {},
   "outputs": [],
   "source": [
    "class Solution(object):\n",
    "    def findContentChildren(self, g, s):\n",
    "        g.sort()\n",
    "        s.sort()\n",
    "        i, j = 0, 0\n",
    "        while i < len(g) and j < len(s):\n",
    "            if s[j] >= g[i]:\n",
    "                i += 1\n",
    "            j += 1\n",
    "        return i"
   ]
  },
  {
   "cell_type": "code",
   "execution_count": null,
   "metadata": {},
   "outputs": [],
   "source": []
  },
  {
   "cell_type": "code",
   "execution_count": null,
   "metadata": {},
   "outputs": [],
   "source": [
    "506. Relative Ranks\n",
    "\n",
    "Given scores of N athletes, find their relative ranks and the people with the top three highest scores, \n",
    "who will be awarded medals: \"Gold Medal\", \"Silver Medal\" and \"Bronze Medal\".\n",
    "\n",
    "Example 1:\n",
    "Input: [5, 4, 3, 2, 1]\n",
    "Output: [\"Gold Medal\", \"Silver Medal\", \"Bronze Medal\", \"4\", \"5\"]\n",
    "Explanation: The first three athletes got the top three highest scores, so they got \"Gold Medal\", \"Silver Medal\" and \"Bronze Medal\". \n",
    "For the left two athletes, you just need to output their relative ranks according to their scores.\n",
    "Note:\n",
    "N is a positive integer and won't exceed 10,000.\n",
    "All the scores of athletes are guaranteed to be unique.\n"
   ]
  },
  {
   "cell_type": "code",
   "execution_count": 105,
   "metadata": {},
   "outputs": [
    {
     "name": "stdout",
     "output_type": "stream",
     "text": [
      "[0, 2, 1, 3, 4]\n",
      "['Gold Medal', 'Bronze Medal', 'Silver Medal', '4', '5']\n"
     ]
    }
   ],
   "source": [
    "nums=[5, 3, 4, 2, 1]\n",
    "t = sorted(range(len(nums)), key=lambda x: nums[x], reverse=True)\n",
    "print(t)\n",
    "rank = [\"Gold Medal\", \"Silver Medal\", \"Bronze Medal\"] + list(map(str, range(4, len(nums) + 1)))\n",
    "print ([rank[i] for i in t])"
   ]
  },
  {
   "cell_type": "code",
   "execution_count": null,
   "metadata": {},
   "outputs": [],
   "source": [
    "def findRelativeRanks(self, nums):\n",
    "    sort = sorted(nums)[::-1]\n",
    "    rank = [\"Gold Medal\", \"Silver Medal\", \"Bronze Medal\"] + list(map(str, range(4, len(nums) + 1)))\n",
    "    return map(dict(zip(sort, rank)).get, nums)\n",
    "\n",
    "def findRelativeRanks2(self, nums):\n",
    "    nums = sorted(nums,reverse=True)\n",
    "    rank = {n:i>2 and str(i+1) or [\"Gold\",\"Silver\",\"Bronze\"][i]+' Medal' for i,n in enumerate(sorted(nums,reverse=True))}\n",
    "    return [rank[num] for num in nums]\n"
   ]
  },
  {
   "cell_type": "code",
   "execution_count": 106,
   "metadata": {},
   "outputs": [
    {
     "name": "stdout",
     "output_type": "stream",
     "text": [
      "[0, 2, 1, 3, 4]\n",
      "['4', '5']\n",
      "['Gold Medal', 'Silver Medal', 'Bronze Medal', '4', '5']\n"
     ]
    }
   ],
   "source": [
    "nums = [5, 3, 4, 2, 1]\n",
    "numsindx = sorted(range(len(nums)), key = lambda x: nums[x], reverse=True)\n",
    "print(numsindx)\n",
    "rank = [str(i+1) for i in numsindx if i>2]\n",
    "print(rank)\n",
    "print([\"Gold Medal\", \"Silver Medal\", \"Bronze Medal\"] + rank)"
   ]
  },
  {
   "cell_type": "code",
   "execution_count": 107,
   "metadata": {},
   "outputs": [
    {
     "name": "stdout",
     "output_type": "stream",
     "text": [
      "[5, 4, 3, 2, 1]\n",
      "['Gold Medal', 'Silver Medal', 'Bronze Medal', '4', '5']\n",
      "{5: 'Gold Medal', 4: 'Silver Medal', 3: 'Bronze Medal', 2: '4', 1: '5'}\n",
      "['Gold Medal', 'Bronze Medal', 'Silver Medal', '4', '5']\n",
      "{5: 'Gold Medal', 4: 'Silver Medal', 3: 'Bronze Medal', 2: '4', 1: '5'}\n"
     ]
    }
   ],
   "source": [
    "nums=[5, 3, 4, 2, 1]\n",
    "sort = sorted(nums)[::-1]\n",
    "print(sort)\n",
    "rank = [\"Gold Medal\", \"Silver Medal\", \"Bronze Medal\"] + list(map(str, range(4, len(nums) + 1)))\n",
    "print(rank)\n",
    "print(dict(zip(sort,rank)))\n",
    "dic=dict(zip(sort,rank))\n",
    "print ([dic[n] for n in nums])\n",
    "rank1 = {n:i>2 and str(i+1) or [\"Gold\",\"Silver\",\"Bronze\"][i]+' Medal' for i,n in enumerate(sorted(nums,reverse=True))}\n",
    "print (rank1)"
   ]
  },
  {
   "cell_type": "code",
   "execution_count": null,
   "metadata": {},
   "outputs": [],
   "source": []
  },
  {
   "cell_type": "code",
   "execution_count": null,
   "metadata": {},
   "outputs": [],
   "source": [
    "704. Binary Search\n",
    "Given a sorted (in ascending order) integer array nums of n elements and a target value, write a function to search target in nums. If target exists, then return its index, otherwise return -1.\n",
    "\n",
    "\n",
    "Example 1:\n",
    "\n",
    "Input: nums = [-1,0,3,5,9,12], target = 9\n",
    "Output: 4\n",
    "Explanation: 9 exists in nums and its index is 4\n",
    "\n",
    "Example 2:\n",
    "\n",
    "Input: nums = [-1,0,3,5,9,12], target = 2\n",
    "Output: -1\n",
    "Explanation: 2 does not exist in nums so return -1\n",
    " \n",
    "\n",
    "Note:\n",
    "\n",
    "You may assume that all elements in nums are unique.\n",
    "n will be in the range [1, 10000].\n",
    "The value of each element in nums will be in the range [-9999, 9999]."
   ]
  },
  {
   "cell_type": "code",
   "execution_count": null,
   "metadata": {},
   "outputs": [],
   "source": [
    "class solution():\n",
    "    def BinarySearch(self,nums,target):\n",
    "        l,r=0,len(nums)-1\n",
    "        while l<=r:\n",
    "            mid=(l+r)//2\n",
    "            if nums[mid]==target:\n",
    "                return mid\n",
    "            elif nums[mid]<target:\n",
    "                l = mid+1\n",
    "            else:\n",
    "                r = mid-1\n",
    "        return -1"
   ]
  },
  {
   "cell_type": "code",
   "execution_count": null,
   "metadata": {},
   "outputs": [],
   "source": []
  },
  {
   "cell_type": "code",
   "execution_count": null,
   "metadata": {},
   "outputs": [],
   "source": [
    "1042. Flower Planting With No Adjacent\n",
    "You have N gardens, labelled 1 to N.  In each garden, you want to plant one of 4 types of flowers.\n",
    "\n",
    "paths[i] = [x, y] describes the existence of a bidirectional path from garden x to garden y.\n",
    "\n",
    "Also, there is no garden that has more than 3 paths coming into or leaving it.\n",
    "\n",
    "Your task is to choose a flower type for each garden such that, for any two gardens connected by a path, they have different types of flowers.\n",
    "\n",
    "Return any such a choice as an array answer, where answer[i] is the type of flower planted in the (i+1)-th garden.  The flower types are denoted 1, 2, 3, or 4.  It is guaranteed an answer exists.\n",
    "\n",
    " \n",
    "\n",
    "Example 1:\n",
    "\n",
    "Input: N = 3, paths = [[1,2],[2,3],[3,1]]\n",
    "Output: [1,2,3]\n",
    "Example 2:\n",
    "\n",
    "Input: N = 4, paths = [[1,2],[3,4]]\n",
    "Output: [1,2,1,2]\n",
    "Example 3:\n",
    "\n",
    "Input: N = 4, paths = [[1,2],[2,3],[3,4],[4,1],[1,3],[2,4]]\n",
    "Output: [1,2,3,4]\n",
    " \n",
    "\n",
    "Note:\n",
    "\n",
    "1 <= N <= 10000\n",
    "0 <= paths.size <= 20000\n",
    "No garden has 4 or more paths coming into or leaving it.\n",
    "It is guaranteed an answer exists."
   ]
  },
  {
   "cell_type": "code",
   "execution_count": 155,
   "metadata": {},
   "outputs": [
    {
     "name": "stdout",
     "output_type": "stream",
     "text": [
      "[[1, 2], [2, 3], [3, 4], [1, 4], [1, 3], [2, 4]]\n",
      "defaultdict(<class 'list'>, {1: [2, 4, 3], 2: [3, 4], 3: [4]})\n"
     ]
    }
   ],
   "source": [
    "import collections\n",
    "paths = [[1,2],[2,3],[3,4],[4,1],[1,3],[2,4]]\n",
    "psorted = [sorted(p, key=lambda x: x) for p in paths]\n",
    "print(psorted)\n",
    "dic = collections.defaultdict(list)\n",
    "for p in psorted:\n",
    "    dic[p[0]].append(p[1])\n",
    "print(dic)"
   ]
  },
  {
   "cell_type": "code",
   "execution_count": 511,
   "metadata": {},
   "outputs": [
    {
     "name": "stdout",
     "output_type": "stream",
     "text": [
      "{1: 1, 2: 1, 3: 1, 4: 1}\n",
      "[1, 2, 0, 1]\n"
     ]
    }
   ],
   "source": [
    "#paths=[[1,2],[2,3],[3,1]]\n",
    "#paths = [[1,2],[3,4]]\n",
    "#paths = [[1,2],[2,3],[3,4],[4,1],[1,3],[2,4]]\n",
    "dic={}\n",
    "for i in range(1,5):\n",
    "    for p in paths:\n",
    "        if i in p:\n",
    "            if i in dic:\n",
    "                dic[i] += 1\n",
    "            else:\n",
    "                dic[i] = 1\n",
    "#print (max(dic.values())+1) #number of flower types\n",
    "print (dic)\n",
    "#print([[a,b] for a, b in zip(dic.keys(),dic.values())])\n",
    "\n",
    "#fn=list(range(1,max(dic.values())+2))\n",
    "#print(fn)\n",
    "\n",
    "j, res, fn = 1, [], max(dic.values())+1 #fn - total types of flower needed\n",
    "#print(fn)\n",
    "\n",
    "for i in range(1,5):\n",
    "    if i in dic:\n",
    "        if i <= fn:\n",
    "            res.append(i)\n",
    "        else:\n",
    "            res.append(i-fn)\n",
    "    else:\n",
    "        res.append(1)\n",
    "print (res)\n",
    "   "
   ]
  },
  {
   "cell_type": "code",
   "execution_count": null,
   "metadata": {},
   "outputs": [],
   "source": [
    "class Solution:\n",
    "    def gardenNoAdj(self, N: int, paths: List[List[int]]) -> List[int]:\n",
    "        r = [0]*N\n",
    "        dic = {}\n",
    "        for x, y in paths:\n",
    "            if x in dic: dic[x].append(y)\n",
    "            else: dic[x] = [y]\n",
    "            if y in dic: dic[y].append(x)\n",
    "            else: dic[y] = [x]\n",
    "                \n",
    "        for k, v in dic.items():\n",
    "            s = set()\n",
    "            for i in v:\n",
    "                s.add(r[i-1])\n",
    "            r[k-1] = list({1,2,3,4}-s)[0]\n",
    "            s.clear()\n",
    "        \n",
    "        \n",
    "        return [i if i != 0 else 1 for i in r]"
   ]
  },
  {
   "cell_type": "code",
   "execution_count": 161,
   "metadata": {},
   "outputs": [
    {
     "name": "stdout",
     "output_type": "stream",
     "text": [
      "{1: [2, 3], 2: [1, 3], 3: [2, 1]}\n",
      "{0}\n",
      "[1, 0, 0, 0]\n",
      "{0, 1}\n",
      "[1, 2, 0, 0]\n",
      "{1, 2}\n",
      "[1, 2, 3, 0]\n",
      "1\n"
     ]
    }
   ],
   "source": [
    "paths=[[1,2],[2,3],[3,1]]\n",
    "r = [0]*4\n",
    "dic = {}\n",
    "for x, y in paths:\n",
    "    if x in dic: dic[x].append(y)\n",
    "    else: dic[x] = [y]\n",
    "    if y in dic: dic[y].append(x)\n",
    "    else: dic[y] = [x]\n",
    "print(dic)\n",
    "for k, v in dic.items():\n",
    "    s = set()\n",
    "    for i in v:\n",
    "        s.add(r[i-1])\n",
    "    print(s)\n",
    "    r[k-1] = list({1,2,3,4}-s)[0]\n",
    "    print(r)\n",
    "\n",
    "print(list({1,2,3,4}-{2})[0])"
   ]
  },
  {
   "cell_type": "code",
   "execution_count": null,
   "metadata": {},
   "outputs": [],
   "source": [
    "def gardenNoAdj(self, N, paths):\n",
    "        res = [0] * N\n",
    "        G = [[] for i in range(N)]\n",
    "        for x, y in paths:\n",
    "            G[x - 1].append(y - 1)\n",
    "            G[y - 1].append(x - 1)\n",
    "        for i in range(N):\n",
    "            res[i] = ({1, 2, 3, 4} - {res[j] for j in G[i]}).pop()\n",
    "        return res"
   ]
  },
  {
   "cell_type": "code",
   "execution_count": 187,
   "metadata": {},
   "outputs": [
    {
     "name": "stdout",
     "output_type": "stream",
     "text": [
      "[[1, 2], [3, 4]]\n",
      "defaultdict(<class 'list'>, {1: [2], 2: [1], 3: [4], 4: [3]})\n",
      "1 [0, 0, 0, 0, 0] [2]\n",
      "res[ 1 ]= 1\n",
      "2 [0, 1, 0, 0, 0] [1]\n",
      "res[ 2 ]= 2\n",
      "3 [0, 1, 2, 0, 0] [4]\n",
      "res[ 3 ]= 1\n",
      "4 [0, 1, 2, 1, 0] [3]\n",
      "res[ 4 ]= 2\n"
     ]
    },
    {
     "data": {
      "text/plain": [
       "[1, 2, 1, 2]"
      ]
     },
     "execution_count": 187,
     "metadata": {},
     "output_type": "execute_result"
    }
   ],
   "source": [
    "class solution():\n",
    "    def GardenNoAdjacentPlant3(self, N, paths):\n",
    "        dic = collections.defaultdict(list)\n",
    "        res = [0] * (N+1)\n",
    "        psorted = [sorted(p) for p in paths]\n",
    "        print(psorted)\n",
    "        for p in psorted:\n",
    "            dic[p[0]].append(p[1])\n",
    "            dic[p[1]].append(p[0])\n",
    "        print(dic)\n",
    "        for i in range(1,N+1):\n",
    "            print(i, res, dic[i])\n",
    "            res[i] = ({1,2,3,4} - {res[j] for j in dic[i]}).pop()\n",
    "            print(\"res[\", i, \"]=\", res[i])\n",
    "        return res[1:]\n",
    "a = solution()\n",
    "N, paths=4, [[1,2],[3,4]]\n",
    "#N, paths = 4, [[1,2],[2,3],[3,4],[4,1],[1,3],[2,4]]\n",
    "a.GardenNoAdjacentPlant3(N, paths)"
   ]
  },
  {
   "cell_type": "code",
   "execution_count": null,
   "metadata": {},
   "outputs": [],
   "source": [
    "350. Intersection of Two Arrays II\n",
    "\n",
    "Given two arrays, write a function to compute their intersection.\n",
    "\n",
    "Example 1:\n",
    "\n",
    "Input: nums1 = [1,2,2,1], nums2 = [2,2]\n",
    "Output: [2,2]\n",
    "Example 2:\n",
    "\n",
    "Input: nums1 = [4,9,5], nums2 = [9,4,9,8,4]\n",
    "Output: [4,9]\n",
    "Note:\n",
    "\n",
    "Each element in the result should appear as many times as it shows in both arrays.\n",
    "The result can be in any order.\n",
    "Follow up:\n",
    "\n",
    "What if the given array is already sorted? How would you optimize your algorithm?\n",
    "What if nums1's size is small compared to nums2's size? Which algorithm is better?\n",
    "What if elements of nums2 are stored on disk, and the memory is limited such that you cannot load all elements into the memory at once?"
   ]
  },
  {
   "cell_type": "code",
   "execution_count": null,
   "metadata": {},
   "outputs": [],
   "source": [
    "class Solution(object):\n",
    "    def intersect(self, nums1, nums2):\n",
    "        \"\"\"\n",
    "        :type nums1: List[int]\n",
    "        :type nums2: List[int]\n",
    "        :rtype: List[int]\n",
    "        \"\"\"\n",
    "        from collections import Counter\n",
    "        c1 = Counter(nums1)\n",
    "        c2 = Counter(nums2)\n",
    "        return list((c1&c2).elements())"
   ]
  },
  {
   "cell_type": "code",
   "execution_count": 11,
   "metadata": {},
   "outputs": [
    {
     "name": "stdout",
     "output_type": "stream",
     "text": [
      "Counter({4: 1, 9: 1, 5: 1}) Counter({9: 2, 4: 2, 8: 1})\n",
      "Counter({4: 1, 9: 1})\n",
      "[4, 9]\n"
     ]
    }
   ],
   "source": [
    "nums1 = [4,9,5]\n",
    "#nums2 = [9,4,9,8,4]\n",
    "nums2 = [9,9,4,4,8]\n",
    "from collections import Counter\n",
    "c1 = Counter(nums1)\n",
    "c2 = Counter(nums2)\n",
    "print(c1,c2)\n",
    "c =(c1&c2)\n",
    "print(c)\n",
    "c =(c1&c2).elements()\n",
    "print(list(c))"
   ]
  },
  {
   "cell_type": "code",
   "execution_count": null,
   "metadata": {},
   "outputs": [],
   "source": [
    "def intersect(self, nums1, nums2):\n",
    "        n1_dict = dict()\n",
    "        result = []\n",
    "        for n1 in nums1:\n",
    "            n1_dict[n1] = n1_dict.get(n1, 0) + 1\n",
    "        for n2 in nums2:\n",
    "            if n2 in n1_dict and n1_dict.get(n2, 0) > 0:\n",
    "                result.append(n2)\n",
    "                n1_dict[n2] -= 1\n",
    "        return result"
   ]
  },
  {
   "cell_type": "code",
   "execution_count": null,
   "metadata": {},
   "outputs": [],
   "source": [
    "def intersect(self, nums1, nums2):\n",
    "    \"\"\"\n",
    "    :type nums1: List[int]\n",
    "    :type nums2: List[int]\n",
    "    :rtype: List[int]\n",
    "    \"\"\"\n",
    "    dict1 = dict()\n",
    "    for i in nums1:\n",
    "        if i not in dict1:\n",
    "            dict1[i] = 1\n",
    "        else:\n",
    "            dict1[i] += 1\n",
    "    ret = []\n",
    "    for i in nums2:\n",
    "        if i in dict1 and dict1[i]>0:\n",
    "            ret.append(i)\n",
    "            dict1[i] -= 1\n",
    "    return ret"
   ]
  },
  {
   "cell_type": "code",
   "execution_count": null,
   "metadata": {},
   "outputs": [],
   "source": []
  },
  {
   "cell_type": "code",
   "execution_count": null,
   "metadata": {},
   "outputs": [],
   "source": [
    "409. Longest Palindrome\n",
    "\n",
    "Given a string which consists of lowercase or uppercase letters, \n",
    "find the length of the longest palindromes that can be built with those letters.\n",
    "\n",
    "This is case sensitive, for example \"Aa\" is not considered a palindrome here.\n",
    "\n",
    "Note:\n",
    "Assume the length of given string will not exceed 1,010.\n",
    "\n",
    "Example:\n",
    "\n",
    "Input:\n",
    "\"abccccdd\"\n",
    "\n",
    "Output:\n",
    "7\n",
    "\n",
    "Explanation:\n",
    "One longest palindrome that can be built is \"dccaccd\", whose length is 7."
   ]
  },
  {
   "cell_type": "code",
   "execution_count": 526,
   "metadata": {},
   "outputs": [
    {
     "name": "stdout",
     "output_type": "stream",
     "text": [
      "Counter({'c': 4, 'b': 3, 'd': 2, 'a': 1})\n",
      "9\n"
     ]
    }
   ],
   "source": [
    "s=\"abbbccccdd\"\n",
    "s1 = collections.Counter(s)\n",
    "print(s1)\n",
    "\n",
    "s2 = sum(i-(i%2) for i in s1.values())+1*(any(i%2==1 for i in s1.values()))\n",
    "print(s2)"
   ]
  },
  {
   "cell_type": "code",
   "execution_count": null,
   "metadata": {},
   "outputs": [],
   "source": []
  },
  {
   "cell_type": "code",
   "execution_count": null,
   "metadata": {},
   "outputs": [],
   "source": [
    "599. Minimum Index Sum of Two Lists\n",
    "\n",
    "Suppose Andy and Doris want to choose a restaurant for dinner, \n",
    "and they both have a list of favorite restaurants represented by strings.\n",
    "\n",
    "You need to help them find out their common interest with the least list index sum. \n",
    "If there is a choice tie between answers, output all of them with no order requirement. \n",
    "You could assume there always exists an answer.\n",
    "\n",
    "Example 1:\n",
    "Input:\n",
    "[\"Shogun\", \"Tapioca Express\", \"Burger King\", \"KFC\"]\n",
    "[\"Piatti\", \"The Grill at Torrey Pines\", \"Hungry Hunter Steakhouse\", \"Shogun\"]\n",
    "Output: [\"Shogun\"]\n",
    "Explanation: The only restaurant they both like is \"Shogun\".\n",
    "Example 2:\n",
    "Input:\n",
    "[\"Shogun\", \"Tapioca Express\", \"Burger King\", \"KFC\"]\n",
    "[\"KFC\", \"Shogun\", \"Burger King\"]\n",
    "Output: [\"Shogun\"]\n",
    "Explanation: The restaurant they both like and have the least index sum is \"Shogun\" with index sum 1 (0+1).\n",
    "Note:\n",
    "The length of both lists will be in the range of [1, 1000].\n",
    "The length of strings in both lists will be in the range of [1, 30].\n",
    "The index is starting from 0 to the list length minus 1.\n",
    "No duplicates in both lists."
   ]
  },
  {
   "cell_type": "code",
   "execution_count": null,
   "metadata": {},
   "outputs": [],
   "source": [
    "Get common words\n",
    "Calculate index sum using collections.Counter\n",
    "Find the minimum\n",
    "Return result\n",
    "    def findRestaurant(self, l1, l2):\n",
    "        d = set(l1) & set(l2)\n",
    "        c = Counter({v: i + 1 for i, v in enumerate(l1) if v in d}) + \\\n",
    "            Counter({v: i + 1 for i, v in enumerate(l2) if v in d})\n",
    "        res = min(c.values())\n",
    "        return [i for i, v in c.items() if v == res]"
   ]
  },
  {
   "cell_type": "code",
   "execution_count": 147,
   "metadata": {},
   "outputs": [
    {
     "name": "stdout",
     "output_type": "stream",
     "text": [
      "{'KFC', 'Shogun', 'Burger King'}\n",
      "Counter({'Burger King': 4, 'KFC': 3, 'Shogun': 1})\n"
     ]
    }
   ],
   "source": [
    "l1,l2=[\"Shogun\", \"Tapioca Express\", \"Burger King\", \"KFC\"],[\"KFC\", \"Shogun\", \"Burger King\"]\n",
    "d = set(l1) & set(l2)\n",
    "print(d)\n",
    "import collections\n",
    "c = collections.Counter({v: i for i, v in enumerate(l1) if v in d}) + \\\n",
    "    collections.Counter({v: i for i, v in enumerate(l2) if v in d})\n",
    "print(c)"
   ]
  },
  {
   "cell_type": "code",
   "execution_count": null,
   "metadata": {},
   "outputs": [],
   "source": [
    "#use dictionary\n",
    "def findRestaurant(self, A, B):\n",
    "    Aindex = {u: i for i, u in enumerate(A)}\n",
    "    best, ans = 1e9, []\n",
    "\n",
    "    for j, v in enumerate(B):\n",
    "        i = Aindex.get(v, 1e9)\n",
    "        if i + j < best:\n",
    "            best = i + j\n",
    "            ans = [v]\n",
    "        elif i + j == best:\n",
    "            ans.append(v)\n",
    "    return ans"
   ]
  },
  {
   "cell_type": "code",
   "execution_count": 188,
   "metadata": {},
   "outputs": [
    {
     "name": "stdout",
     "output_type": "stream",
     "text": [
      "[0, 0, 0, 0, 0, 0]\n"
     ]
    }
   ],
   "source": [
    "print([0]*6)"
   ]
  },
  {
   "cell_type": "code",
   "execution_count": null,
   "metadata": {},
   "outputs": [],
   "source": []
  },
  {
   "cell_type": "code",
   "execution_count": null,
   "metadata": {},
   "outputs": [],
   "source": [
    "21. Merge Two Sorted Lists\n",
    "\n",
    "Merge two sorted linked lists and return it as a new list. The new list should be made by splicing together the nodes of the first two lists.\n",
    "\n",
    "Example:\n",
    "\n",
    "Input: 1->2->4, 1->3->4\n",
    "Output: 1->1->2->3->4->4"
   ]
  },
  {
   "cell_type": "code",
   "execution_count": null,
   "metadata": {},
   "outputs": [],
   "source": [
    "class Solution():\n",
    "    def MergeTwoSortedLists(self,n1,n2):\n",
    "        dummy = tmp = ListNode(0)\n",
    "        while n1 or n2:\n",
    "            if n1.val < n2.val:\n",
    "                tmp.next = n1\n",
    "                n1 = n1.next\n",
    "            else:\n",
    "                tmp.next = n2\n",
    "                n2 = n2.next\n",
    "            tmp = tmp.next\n",
    "        tmp.next = n1 or n2\n",
    "        return dummy.next\n",
    "    \n",
    "    def MergeTwoSortedLists2(self,n1,n2):\n",
    "        if not n1 or not n2:\n",
    "            return n1 or n2\n",
    "        if n1.val < n2.val:\n",
    "            n1.next = MergeTwoSortedLists2(n1.next,n2)\n",
    "            return n1\n",
    "        if n2.val < n1.val:\n",
    "            n2.next = MergeTwoSortedLists2(n1 n2.next)\n",
    "            return n2"
   ]
  },
  {
   "cell_type": "code",
   "execution_count": null,
   "metadata": {},
   "outputs": [],
   "source": []
  },
  {
   "cell_type": "code",
   "execution_count": null,
   "metadata": {},
   "outputs": [],
   "source": [
    "830. Positions of Large Groups\n",
    "\n",
    "In a string S of lowercase letters, these letters form consecutive groups of the same character.\n",
    "\n",
    "For example, a string like S = \"abbxxxxzyy\" has the groups \"a\", \"bb\", \"xxxx\", \"z\" and \"yy\".\n",
    "\n",
    "Call a group large if it has 3 or more characters.  We would like the starting and ending positions of every large group.\n",
    "\n",
    "The final answer should be in lexicographic order.\n",
    "\n",
    " \n",
    "\n",
    "Example 1:\n",
    "\n",
    "Input: \"abbxxxxzzy\"\n",
    "Output: [[3,6]]\n",
    "Explanation: \"xxxx\" is the single large group with starting  3 and ending positions 6.\n",
    "Example 2:\n",
    "\n",
    "Input: \"abc\"\n",
    "Output: []\n",
    "Explanation: We have \"a\",\"b\" and \"c\" but no large group.\n",
    "Example 3:\n",
    "\n",
    "Input: \"abcdddeeeeaabbbcd\"\n",
    "Output: [[3,5],[6,9],[12,14]]\n",
    " \n",
    "\n",
    "Note:  1 <= S.length <= 1000"
   ]
  },
  {
   "cell_type": "code",
   "execution_count": null,
   "metadata": {},
   "outputs": [],
   "source": [
    "def largeGroupPositions(self, S):\n",
    "        i, j, N = 0, 0, len(S)\n",
    "        res = []\n",
    "        while i < N:\n",
    "            while j < N and S[j] == S[i]: j += 1\n",
    "            if j - i >= 3: res.append((i, j - 1))\n",
    "            i = j\n",
    "        return res"
   ]
  },
  {
   "cell_type": "code",
   "execution_count": null,
   "metadata": {},
   "outputs": [],
   "source": [
    "from itertools import groupby\n",
    "\n",
    "\n",
    "class Solution:\n",
    "    def largeGroupPositions(self, S):\n",
    "        \"\"\"\n",
    "        :type S: str\n",
    "        :rtype: List[List[int]]\n",
    "        \"\"\"\n",
    "        curIndex = 0\n",
    "        res = []\n",
    "        for i in groupby(S):\n",
    "            length = len(list(i[1]))\n",
    "            if length >= 3:\n",
    "                res.append([curIndex, curIndex + length - 1])\n",
    "            curIndex += length\n",
    "\n",
    "        return res\n",
    "\n",
    "\n",
    "print(Solution().largeGroupPositions(\"abbxxxxzzy\"))\n"
   ]
  },
  {
   "cell_type": "code",
   "execution_count": 143,
   "metadata": {},
   "outputs": [
    {
     "name": "stdout",
     "output_type": "stream",
     "text": [
      "[['a'], ['b'], ['x'], ['z'], ['y']]\n",
      "[['a'], ['b', 'b'], ['x', 'x', 'x', 'x'], ['z', 'z'], ['y']]\n",
      "[1, 2, 4, 2, 1]\n",
      "[1, 3, 7, 9, 10]\n"
     ]
    }
   ],
   "source": [
    "from itertools import groupby\n",
    "S=\"abbxxxxzzy\"\n",
    "print([list(i[0]) for i in groupby(S)])\n",
    "print([list(i[1]) for i in groupby(S)])\n",
    "res = [len(list(i[1])) for i in groupby(S)]\n",
    "print(res)\n",
    "from itertools import accumulate\n",
    "r = list(accumulate(res, lambda a, b: a+b))\n",
    "print(r)"
   ]
  },
  {
   "cell_type": "code",
   "execution_count": null,
   "metadata": {},
   "outputs": [],
   "source": []
  },
  {
   "cell_type": "code",
   "execution_count": null,
   "metadata": {},
   "outputs": [],
   "source": [
    "121. Best Time to Buy and Sell Stock\n"
   ]
  },
  {
   "cell_type": "code",
   "execution_count": null,
   "metadata": {},
   "outputs": [],
   "source": [
    "class Solution():\n",
    "    def BestTimeStock(self,nums):\n",
    "        if not nums: return 0\n",
    "        minm,maxm=nums[0],0\n",
    "        for i in range(1,len(nums)):\n",
    "            minm=min(minm,nums[i])\n",
    "            maxm=max(maxm,nums[i]-minm)\n",
    "        return maxm"
   ]
  },
  {
   "cell_type": "code",
   "execution_count": null,
   "metadata": {},
   "outputs": [],
   "source": [
    "122. Best Time to Buy and Sell Stock II\n",
    "class Solution():\n",
    "    def BestTimeStockII(self,nums):\n",
    "        return sum([max(nums[i]-nums[i-1],0) for i in range(1,len(nums))])"
   ]
  },
  {
   "cell_type": "code",
   "execution_count": null,
   "metadata": {},
   "outputs": [],
   "source": []
  },
  {
   "cell_type": "code",
   "execution_count": null,
   "metadata": {},
   "outputs": [],
   "source": [
    "746. Min Cost Climbing Stairs\n",
    "\n",
    "On a staircase, the i-th step has some non-negative cost cost[i] assigned (0 indexed).\n",
    "\n",
    "Once you pay the cost, you can either climb one or two steps. You need to find minimum cost to reach the top of the floor, and you can either start from the step with index 0, or the step with index 1.\n",
    "\n",
    "Example 1:\n",
    "Input: cost = [10, 15, 20]\n",
    "Output: 15\n",
    "Explanation: Cheapest is start on cost[1], pay that cost and go to the top.\n",
    "Example 2:\n",
    "Input: cost = [1, 100, 1, 1, 1, 100, 1, 1, 100, 1]\n",
    "Output: 6\n",
    "Explanation: Cheapest is start on cost[0], and only step on 1s, skipping cost[3].\n",
    "Note:\n",
    "cost will have a length in the range [2, 1000].\n",
    "Every cost[i] will be an integer in the range [0, 999].\n"
   ]
  },
  {
   "cell_type": "code",
   "execution_count": null,
   "metadata": {},
   "outputs": [],
   "source": [
    "def minCostClimbingStairs(self, cost):\n",
    "    s = [0]\n",
    "    for c in cost:\n",
    "        s = c + min(s), s[0]\n",
    "    return min(s)"
   ]
  },
  {
   "cell_type": "code",
   "execution_count": 12,
   "metadata": {},
   "outputs": [
    {
     "name": "stdout",
     "output_type": "stream",
     "text": [
      "(10, 0) 10\n",
      "(15, 10) 15\n",
      "(30, 15) 30\n"
     ]
    }
   ],
   "source": [
    "cost = [10, 15, 20]\n",
    "s = [0]\n",
    "for c in cost:\n",
    "    s = c + min(s), s[0]\n",
    "    print(s,s[0])"
   ]
  },
  {
   "cell_type": "code",
   "execution_count": null,
   "metadata": {},
   "outputs": [],
   "source": [
    "def minCostClimbingStairs(self, cost):\n",
    "        for i in range(2, len(cost)):\n",
    "            cost[i] += min(cost[i - 1], cost[i - 2])\n",
    "        return min(cost[-2:])\n",
    "        #return min(cost[-1], cost[-2])"
   ]
  },
  {
   "cell_type": "code",
   "execution_count": null,
   "metadata": {},
   "outputs": [],
   "source": [
    "/**\n",
    " * @param {number[]} cost\n",
    " * @return {number}\n",
    " */\n",
    "var minCostClimbingStairs = function(cost) {\n",
    "    // null check\n",
    "    if(!cost || cost.length === 0) return 0;\n",
    "    \n",
    "    // we use dp[i] to record the min cost to go up from ith stair\n",
    "    let dp = new Array(cost.length).fill(0);\n",
    "    \n",
    "    // dp[0] and dp[1] are base case for stair 0 and stair 1\n",
    "    dp[0] = cost[0];\n",
    "    dp[1] = cost[1];\n",
    "    \n",
    "    \n",
    "    // starting from 2nd stair we get the minimum from the previous 2 stairs\n",
    "    // and combine with the cost for ith stair itself\n",
    "    for(let i = 2; i < cost.length; i++) {\n",
    "        dp[i]  = Math.min(dp[i-1], dp[i-2]) + cost[i];\n",
    "    }\n",
    "    \n",
    "    // we can either get to the top from ith stair or (i-1)th stair\n",
    "    // take whichever is smaller\n",
    "    return Math.min(dp[cost.length-1], dp[cost.length-2]);\n",
    "    \n",
    "};"
   ]
  },
  {
   "cell_type": "code",
   "execution_count": null,
   "metadata": {},
   "outputs": [],
   "source": [
    "def minCostClimbingStairs(self, cost):\n",
    "        prev, step = cost[:2]     \n",
    "        for c in cost[2:]:\n",
    "            prev, step = step, c + min(prev, step)\n",
    "        return min(prev, step)"
   ]
  },
  {
   "cell_type": "code",
   "execution_count": null,
   "metadata": {},
   "outputs": [],
   "source": [
    "This question is very similar to Climbing Stairs.\n",
    "\n",
    "At each step, we can get the optimal cost by adding the cost of that step with the minimum of the previous two steps. The only caveat here is that we want to know how much it costs to reach the TOP of the stairs, meaning it's beyond the last step. Simply find the minimum cost of the final two steps available.\n",
    "\n",
    "class Solution(object):\n",
    "    def minCostClimbingStairs(self, cost):\n",
    "        prev_2, prev = cost[0], cost[1]\n",
    "        for i in range(2, len(cost)):\n",
    "            prev_2, prev = prev, cost[i] + min(prev_2, prev)\n",
    "        return min(prev_2, prev)"
   ]
  },
  {
   "cell_type": "code",
   "execution_count": null,
   "metadata": {},
   "outputs": [],
   "source": []
  },
  {
   "cell_type": "code",
   "execution_count": null,
   "metadata": {},
   "outputs": [],
   "source": [
    "70. Climbing Stairs"
   ]
  },
  {
   "cell_type": "code",
   "execution_count": null,
   "metadata": {},
   "outputs": [],
   "source": [
    "class Solution():\n",
    "    def ClimbingStairs1(self,n):\n",
    "        a,b=1,1\n",
    "        for i in rnage(n):\n",
    "            a,b=b,a+b\n",
    "        return a\n",
    "    def ClimbingStairs(self,n):\n",
    "        res = [0 for i in range(n)]\n",
    "        res[0],res[1]=1,2\n",
    "        for i in range(2,n):\n",
    "            res[i]=res[i-1]+res[i-2]\n",
    "        return res[-1]"
   ]
  },
  {
   "cell_type": "code",
   "execution_count": null,
   "metadata": {},
   "outputs": [],
   "source": []
  },
  {
   "cell_type": "code",
   "execution_count": null,
   "metadata": {},
   "outputs": [],
   "source": [
    "107. Binary Tree Level Order Traversal II\n",
    "\n",
    "Given a binary tree, return the bottom-up level order traversal of its nodes' values. (ie, from left to right, level by level from leaf to root).\n",
    "\n",
    "For example:\n",
    "Given binary tree [3,9,20,null,null,15,7],\n",
    "    3\n",
    "   / \\\n",
    "  9  20\n",
    "    /  \\\n",
    "   15   7\n",
    "return its bottom-up level order traversal as:\n",
    "[\n",
    "  [15,7],\n",
    "  [9,20],\n",
    "  [3]\n",
    "]\n"
   ]
  },
  {
   "cell_type": "code",
   "execution_count": null,
   "metadata": {},
   "outputs": [],
   "source": [
    "class Solution():\n",
    "    def BinaryTreeLevelOrderBottomUp1(self,root):\n",
    "        res=[]\n",
    "        self.dfs(root,0,res)\n",
    "        return res\n",
    "    def dfs(self,root,level,res):\n",
    "        if root:\n",
    "            if len(res)<level+1:\n",
    "                res.insert(0,[])\n",
    "            res[-(level+1)].append(root.val)\n",
    "            self.dfs(root.left,level+1,res)\n",
    "            self.dfs(root.right,level+1,res)\n",
    "    \n",
    "    def BinaryTreeLevelOrderBottomUp(self,root):\n",
    "        res,stack=[],[(root,0)]\n",
    "        while stack:\n",
    "            node,level=stack.pop()\n",
    "            if node:\n",
    "                if len(res)<level+1:\n",
    "                    res.insert(0,[])\n",
    "                res[-(level+1)].append(node.val)\n",
    "                stack.append((node.right,level+1))\n",
    "                stack.append((node.left,level+1))\n",
    "        return res\n",
    "    "
   ]
  },
  {
   "cell_type": "code",
   "execution_count": null,
   "metadata": {},
   "outputs": [],
   "source": []
  },
  {
   "cell_type": "code",
   "execution_count": null,
   "metadata": {},
   "outputs": [],
   "source": [
    "563. Binary Tree Tilt\n",
    "\n",
    "Given a binary tree, return the tilt of the whole tree.\n",
    "\n",
    "The tilt of a tree node is defined as the absolute difference between the sum of all left subtree node values and the sum of all right subtree node values. Null node has tilt 0.\n",
    "\n",
    "The tilt of the whole tree is defined as the sum of all nodes' tilt.\n",
    "\n",
    "Example:\n",
    "Input: \n",
    "         1\n",
    "       /   \\\n",
    "      2     3\n",
    "Output: 1\n",
    "Explanation: \n",
    "Tilt of node 2 : 0\n",
    "Tilt of node 3 : 0\n",
    "Tilt of node 1 : |2-3| = 1\n",
    "Tilt of binary tree : 0 + 0 + 1 = 1\n",
    "Note:\n",
    "\n",
    "The sum of node values in any subtree won't exceed the range of 32-bit integer.\n",
    "All the tilt values won't exceed the range of 32-bit integer.\n"
   ]
  },
  {
   "cell_type": "code",
   "execution_count": null,
   "metadata": {},
   "outputs": [],
   "source": [
    "#Think about a recursive function. Beside the tilt of subtrees, we also need to get the sum of subtrees.\n",
    "#So I came up with the idea of sub function tilt(root), which returns the tuple (sum, tilt) of tree\n",
    "\n",
    "def findTilt(self, root):\n",
    "        def tilt(root):\n",
    "            # return (sum, tilt) of tree\n",
    "            if not root: return (0, 0)\n",
    "            left = tilt(root.left)\n",
    "            right = tilt(root.right)\n",
    "            return (left[0] + right[0] + root.val, abs(left[0] - right[0]) + left[1] + right[1])\n",
    "        return tilt(root)[1]"
   ]
  },
  {
   "cell_type": "code",
   "execution_count": null,
   "metadata": {},
   "outputs": [],
   "source": [
    "class Solution(object):\n",
    "    def findTilt(self, root):\n",
    "        \n",
    "        def dfs(root):  # get sum of all vals\n",
    "            if not root:\n",
    "                return 0\n",
    "            \n",
    "            left = dfs(root.left)\n",
    "            right= dfs(root.right)\n",
    "            self.tilt += abs(left - right)\n",
    "            \n",
    "            return root.val + left + right\n",
    "        \n",
    "        self.tilt = 0\n",
    "        dfs(root)\n",
    "        return self.tilt"
   ]
  },
  {
   "cell_type": "code",
   "execution_count": null,
   "metadata": {},
   "outputs": [],
   "source": [
    "def findTilt(self, root):\n",
    "    self.ans = 0\n",
    "    def _sum(node):\n",
    "        if not node: return 0\n",
    "        left, right = _sum(node.left), _sum(node.right)\n",
    "        self.ans += abs(left - right)\n",
    "        return node.val + left + right\n",
    "    _sum(root)\n",
    "    return self.ans"
   ]
  },
  {
   "cell_type": "code",
   "execution_count": null,
   "metadata": {},
   "outputs": [],
   "source": []
  },
  {
   "cell_type": "code",
   "execution_count": null,
   "metadata": {},
   "outputs": [],
   "source": [
    "543. Diameter of Binary Tree\n",
    "\n",
    "Given a binary tree, you need to compute the length of the diameter of the tree. The diameter of a binary tree is the length of the longest path between any two nodes in a tree. This path may or may not pass through the root.\n",
    "\n",
    "Example:\n",
    "Given a binary tree \n",
    "          1\n",
    "         / \\\n",
    "        2   3\n",
    "       / \\     \n",
    "      4   5    \n",
    "Return 3, which is the length of the path [4,2,1,3] or [5,2,1,3].\n",
    "\n",
    "Note: The length of path between two nodes is represented by the number of edges between them.\n",
    "\n"
   ]
  },
  {
   "cell_type": "code",
   "execution_count": null,
   "metadata": {},
   "outputs": [],
   "source": [
    "class Solution(object):\n",
    "    def diameterOfBinaryTree(self, root):\n",
    "        \"\"\"\n",
    "        :type root: TreeNode\n",
    "        :rtype: int\n",
    "        \"\"\"\n",
    "        self.ans = 0\n",
    "        \n",
    "        def depth(p):\n",
    "            if not p: return 0\n",
    "            left, right = depth(p.left), depth(p.right)\n",
    "            self.ans = max(self.ans, left+right)\n",
    "            return 1 + max(left, right)\n",
    "            \n",
    "        depth(root)\n",
    "        return self.ans"
   ]
  },
  {
   "cell_type": "code",
   "execution_count": null,
   "metadata": {},
   "outputs": [],
   "source": [
    "#Let's calculate the depth of a node in the usual way: \n",
    "#max(depth of node.left, depth of node.right) + 1. \n",
    "#While we do, a path \"through\" this node uses 1 + (depth of node.left) + (depth of node.right) nodes. \n",
    "#Let's search each node and remember the highest number of nodes used in some path. \n",
    "#The desired length is 1 minus this number.\n",
    "\n",
    "\n",
    "def diameterOfBinaryTree(self, root):\n",
    "    self.best = 1\n",
    "    def depth(root):\n",
    "        if not root: return 0\n",
    "        ansL = depth(root.left)\n",
    "        ansR = depth(root.right)\n",
    "        self.best = max(self.best, ansL + ansR + 1)\n",
    "        return 1 + max(ansL, ansR)\n",
    "        \n",
    "    depth(root)\n",
    "    return self.best - 1"
   ]
  },
  {
   "cell_type": "code",
   "execution_count": null,
   "metadata": {},
   "outputs": [],
   "source": []
  },
  {
   "cell_type": "code",
   "execution_count": null,
   "metadata": {},
   "outputs": [],
   "source": [
    "118. Pascal's Triangle"
   ]
  },
  {
   "cell_type": "code",
   "execution_count": null,
   "metadata": {},
   "outputs": [],
   "source": [
    "class Solution():\n",
    "    def PascalTriangle(self,n):\n",
    "        res = [[1 for _ in range(i+1)] for i in range(n)]\n",
    "        for i in range(2,n):\n",
    "            for j in range(1,i):\n",
    "                res[i][j]=res[i-1][j-1]+res[i-1][j]\n",
    "        return res"
   ]
  },
  {
   "cell_type": "code",
   "execution_count": null,
   "metadata": {},
   "outputs": [],
   "source": []
  },
  {
   "cell_type": "code",
   "execution_count": null,
   "metadata": {},
   "outputs": [],
   "source": [
    "119. Pascal's Triangle II"
   ]
  },
  {
   "cell_type": "code",
   "execution_count": null,
   "metadata": {},
   "outputs": [],
   "source": [
    "class Solution():\n",
    "    def PascalTriangleII(self,n):\n",
    "        res = [[1 for _ in range(i+1)] for i in range(n+1)]\n",
    "        for i in range(2,n+1):\n",
    "            for j in range(1,i):\n",
    "                res[i][j]=res[i-1][j-1]+res[i-1][j]\n",
    "        return res[-1]"
   ]
  },
  {
   "cell_type": "code",
   "execution_count": null,
   "metadata": {},
   "outputs": [],
   "source": []
  },
  {
   "cell_type": "code",
   "execution_count": null,
   "metadata": {},
   "outputs": [],
   "source": [
    "836. Rectangle Overlap\n",
    "\n",
    "A rectangle is represented as a list [x1, y1, x2, y2], where (x1, y1) are the coordinates of its bottom-left corner, and (x2, y2) are the coordinates of its top-right corner.\n",
    "\n",
    "Two rectangles overlap if the area of their intersection is positive.  To be clear, two rectangles that only touch at the corner or edges do not overlap.\n",
    "\n",
    "Given two (axis-aligned) rectangles, return whether they overlap.\n",
    "\n",
    "Example 1:\n",
    "\n",
    "Input: rec1 = [0,0,2,2], rec2 = [1,1,3,3]\n",
    "Output: true\n",
    "Example 2:\n",
    "\n",
    "Input: rec1 = [0,0,1,1], rec2 = [1,0,2,1]\n",
    "Output: false\n",
    "Notes:\n",
    "\n",
    "Both rectangles rec1 and rec2 are lists of 4 integers.\n",
    "All coordinates in rectangles will be between -10^9 and 10^9."
   ]
  },
  {
   "cell_type": "code",
   "execution_count": null,
   "metadata": {},
   "outputs": [],
   "source": [
    "#left1 < right2 && left2 < right1\n",
    "\n",
    "return rec1[0] < rec2[2] and rec2[0] < rec1[2] and rec1[1] < rec2[3] and rec2[1] < rec1[3]"
   ]
  },
  {
   "cell_type": "code",
   "execution_count": null,
   "metadata": {},
   "outputs": [],
   "source": [
    "class Solution(object):\n",
    "    def isRectangleOverlap(self, rec1, rec2):\n",
    "        \"\"\"\n",
    "        :type rec1: List[int]\n",
    "        :type rec2: List[int]\n",
    "        :rtype: bool\n",
    "        \"\"\"\n",
    "        # bottom left\n",
    "        # top right\n",
    "        if rec2[0] >= rec1[2] or rec2[2] <= rec1[0]:\n",
    "            return False\n",
    "        if rec2[1] >= rec1[3] or rec2[3] <= rec1[1]:\n",
    "            return False\n",
    "        return True"
   ]
  },
  {
   "cell_type": "code",
   "execution_count": null,
   "metadata": {},
   "outputs": [],
   "source": []
  },
  {
   "cell_type": "code",
   "execution_count": null,
   "metadata": {},
   "outputs": [],
   "source": [
    "703. Kth Largest Element in a Stream\n",
    "\n",
    "Design a class to find the kth largest element in a stream. Note that it is the kth largest element in the sorted order, not the kth distinct element.\n",
    "\n",
    "Your KthLargest class will have a constructor which accepts an integer k and an integer array nums, which contains initial elements from the stream. For each call to the method KthLargest.add, return the element representing the kth largest element in the stream.\n",
    "\n",
    "Example:\n",
    "\n",
    "int k = 3;\n",
    "int[] arr = [4,5,8,2];\n",
    "KthLargest kthLargest = new KthLargest(3, arr);\n",
    "kthLargest.add(3);   // returns 4\n",
    "kthLargest.add(5);   // returns 5\n",
    "kthLargest.add(10);  // returns 5\n",
    "kthLargest.add(9);   // returns 8\n",
    "kthLargest.add(4);   // returns 8\n",
    "Note: \n",
    "You may assume that nums' length ≥ k-1 and k ≥ 1.\n",
    "\n"
   ]
  },
  {
   "cell_type": "code",
   "execution_count": null,
   "metadata": {},
   "outputs": [],
   "source": [
    "class KthLargest(object):\n",
    "    \n",
    "    def __init__(self, k, nums):\n",
    "        self.pool = nums\n",
    "        self.k = k\n",
    "        heapq.heapify(self.pool)\n",
    "        while len(self.pool) > k:\n",
    "            heapq.heappop(self.pool)\n",
    "\n",
    "            \n",
    "    def add(self, val):\n",
    "        if len(self.pool) < self.k:\n",
    "            heapq.heappush(self.pool, val)\n",
    "        elif val > self.pool[0]:\n",
    "            heapq.heapreplace(self.pool, val)\n",
    "        return self.pool[0]\n",
    "    "
   ]
  },
  {
   "cell_type": "code",
   "execution_count": null,
   "metadata": {},
   "outputs": [],
   "source": [
    "Use Heapq to keep track of the k largest values only.\n",
    "Keeping the kth largest element for efficiency so it can return immediately\n",
    "\n",
    "class KthLargest:\n",
    "\n",
    "    def __init__(self, k: int, nums: List[int]):\n",
    "        self.k = k\n",
    "        self.nums = sorted(nums, reverse= True)\n",
    "        self.nums = self.nums[0:k]\n",
    "        heapq.heapify(self.nums)\n",
    "        if len(self.nums) >= self.k:\n",
    "            self.last = heapq.heappop(self.nums)\n",
    "        else:\n",
    "            self.last = float('-inf')\n",
    "        \n",
    "\n",
    "    def add(self, val: int) -> int:\n",
    "        if val <= self.last:\n",
    "             return self.last\n",
    "        self.last=heapq.heappushpop(self.nums, val)\n",
    "        return self.last"
   ]
  },
  {
   "cell_type": "code",
   "execution_count": null,
   "metadata": {},
   "outputs": [],
   "source": [
    "class KthLargest:\n",
    "\n",
    "    def __init__(self, k: int, nums: List[int]):\n",
    "        self.res = []\n",
    "        self.k = k\n",
    "        for i in nums:\n",
    "            if len(self.res) < k:\n",
    "                heapq.heappush(self.res,i)\n",
    "            else:\n",
    "                heapq.heappushpop(self.res,i)\n",
    "    def add(self, val: int) -> int:\n",
    "        if len(self.res) < self.k:\n",
    "            heapq.heappush(self.res,val)\n",
    "        else:\n",
    "            heapq.heappushpop(self.res,val)\n",
    "        return self.res[0]"
   ]
  },
  {
   "cell_type": "code",
   "execution_count": null,
   "metadata": {},
   "outputs": [],
   "source": [
    "def __init__(self, k, nums):\n",
    "        \"\"\"\n",
    "        :type k: int\n",
    "        :type nums: List[int]\n",
    "        \"\"\"\n",
    "        nums.sort(reverse=True)\n",
    "        self.k = k\n",
    "        self.top_knums = nums[:k]\n",
    "\n",
    "    def add(self, val):\n",
    "        \"\"\"\n",
    "        :type val: int\n",
    "        :rtype: int\n",
    "        \"\"\"\n",
    "        if self.k == len(self.top_knums) and val <= self.top_knums[-1]:\n",
    "            return self.top_knums[-1]\n",
    "        else:\n",
    "            self.top_knums.append(val)\n",
    "            self.top_knums.sort(reverse=True)\n",
    "            self.top_knums = self.top_knums[:self.k]\n",
    "            return self.top_knums[-1]\n"
   ]
  },
  {
   "cell_type": "code",
   "execution_count": null,
   "metadata": {},
   "outputs": [],
   "source": [
    "import bisect\n",
    "class KthLargest:\n",
    "\n",
    "    def __init__(self, k, nums):\n",
    "        \"\"\"\n",
    "        :type k: int\n",
    "        :type nums: List[int]\n",
    "        \"\"\"\n",
    "        self.k = k\n",
    "        self.nums = sorted(nums)\n",
    "\n",
    "    def add(self, val):\n",
    "        \"\"\"\n",
    "        :type val: int\n",
    "        :rtype: int\n",
    "        \"\"\"\n",
    "        bisect.insort_left(self.nums, val)\n",
    "        return self.nums[-self.k]"
   ]
  },
  {
   "cell_type": "code",
   "execution_count": null,
   "metadata": {},
   "outputs": [],
   "source": [
    "class KthLargest(object):\n",
    "\n",
    "    def __init__(self, k, nums):\n",
    "        self.lst = sorted(nums, reverse = True)\n",
    "        self.k = k\n",
    "\n",
    "    def add(self, val):\n",
    "        self.lst.insert(self.BS(val), val)\n",
    "        return self.lst[self.k - 1]\n",
    "    \n",
    "    def BS(self, val):\n",
    "        l, r = 0, len(self.lst)-1\n",
    "        while l <= r:\n",
    "            mid = (l+r) // 2\n",
    "            if self.lst[mid] == val: return mid\n",
    "            if self.lst[mid] > val: l = mid+1\n",
    "            else: r = mid-1\n",
    "        return l"
   ]
  },
  {
   "cell_type": "code",
   "execution_count": null,
   "metadata": {},
   "outputs": [],
   "source": [
    "class KthLargest(object):\n",
    "    def __init__(self, k, nums):\n",
    "        nums.sort(reverse = True)\n",
    "        self.top_k = nums[:k]\n",
    "        self.k = k\n",
    "        \n",
    "    def add(self, val):\n",
    "        if len(self.top_k) == self.k and val <= self.top_k[-1]:   # don't insert val\n",
    "            return self.top_k[-1]\n",
    "        \n",
    "        left, right = 0, len(self.top_k)\n",
    "        while left < right:   # binary search for insertion point\n",
    "            \n",
    "            mid = (left + right) // 2\n",
    "            if val > self.top_k[mid]:\n",
    "                right = mid\n",
    "            else:\n",
    "                left = mid + 1\n",
    "            \n",
    "        self.top_k.insert(left, val)\n",
    "        if len(self.top_k) > self.k:\n",
    "            self.top_k.pop()\n",
    "        return self.top_k[-1]"
   ]
  },
  {
   "cell_type": "code",
   "execution_count": null,
   "metadata": {},
   "outputs": [],
   "source": []
  },
  {
   "cell_type": "code",
   "execution_count": null,
   "metadata": {},
   "outputs": [],
   "source": [
    "1018. Binary Prefix Divisible By 5\n",
    "\n",
    "Given an array A of 0s and 1s, consider N_i: \n",
    "the i-th subarray from A[0] to A[i] interpreted as a binary number \n",
    "(from most-significant-bit to least-significant-bit.)\n",
    "\n",
    "Return a list of booleans answer, where answer[i] is true if and only if N_i is divisible by 5.\n",
    "\n",
    "Example 1:\n",
    "\n",
    "Input: [0,1,1]\n",
    "Output: [true,false,false]\n",
    "Explanation: \n",
    "The input numbers in binary are 0, 01, 011; which are 0, 1, and 3 in base-10.  Only the first number is divisible by 5, so answer[0] is true.\n",
    "Example 2:\n",
    "\n",
    "Input: [1,1,1]\n",
    "Output: [false,false,false]\n",
    "Example 3:\n",
    "\n",
    "Input: [0,1,1,1,1,1]\n",
    "Output: [true,false,false,false,true,false]\n",
    "Example 4:\n",
    "\n",
    "Input: [1,1,1,0,1]\n",
    "Output: [false,false,false,false,false]"
   ]
  },
  {
   "cell_type": "code",
   "execution_count": null,
   "metadata": {},
   "outputs": [],
   "source": [
    "class Solution:\n",
    "    def prefixesDivBy5(self, A: List[int]) -> List[bool]:\n",
    "        num = 0\n",
    "        for i in range(len(A)):\n",
    "            num = (num << 1) + A[i]\n",
    "            A[i] = num % 5 == 0\n",
    "        return A\n"
   ]
  },
  {
   "cell_type": "code",
   "execution_count": null,
   "metadata": {},
   "outputs": [],
   "source": [
    "import copy\n",
    "def prefixesDivBy5(self, A):\n",
    "    B = copy.copy(A)\n",
    "    for i in range(1, len(A)):\n",
    "        B[i] += B[i - 1] * 2 % 5\n",
    "    return [a % 5 == 0 for a in B]"
   ]
  },
  {
   "cell_type": "code",
   "execution_count": null,
   "metadata": {},
   "outputs": [],
   "source": [
    "def prefixesDivBy5(self, a: List[int]) -> List[bool]:\n",
    "        ans = []\n",
    "        for i in range(len(a)):\n",
    "            if i > 0: a[i] += 2 * a[i-1]\n",
    "            ans.append(a[i] % 5 == 0)\n",
    "        return ans"
   ]
  },
  {
   "cell_type": "code",
   "execution_count": null,
   "metadata": {},
   "outputs": [],
   "source": [
    "#Here is the first solution:\n",
    "\n",
    "class Solution:\n",
    "    def prefixesDivBy5(self, A):\n",
    "        result = []\n",
    "        number = 0\n",
    "        for bit in A:\n",
    "            number = 2*number + bit\n",
    "            result.append(number % 5 == 0)\n",
    "        return result\n",
    "#The idea is simple: we accumulate the bits into a binary number as we traverse the list. To append another bit to the number you need only to multiply the number by two (equivalent to shifting all the bits left by one place) and then add the bit. We then determine whether the number is divisible by five with the % operator.\n",
    "\n",
    "#We can make this significantly more efficient by storing only the remainder of the number (modulo five). This works because if image, then image.\n",
    "\n",
    "class Solution:\n",
    "    def prefixesDivBy5(self, A):\n",
    "        result = []\n",
    "        remainder = 0\n",
    "        for bit in A:\n",
    "            remainder = (2*remainder + bit) % 5\n",
    "            result.append(remainder == 0)\n",
    "        return result\n",
    "#In fact, this is essential if you are writing your solution in a language like C, where your integers are at risk of overflowing.\n",
    "\n",
    "#And here is an alternative one-liner(ish) solution in Python, which takes the same approach but in a more functional-programming style:\n",
    "\n",
    "from itertools import accumulate\n",
    "\n",
    "class Solution:\n",
    "    def prefixesDivBy5(self, A):\n",
    "        \n",
    "        def append_bit_take_mod(num, bit):\n",
    "            return (2*num + bit) % 5\n",
    "        \n",
    "        def equals_zero(num):\n",
    "            return num == 0\n",
    "        \n",
    "        return list(map(equals_zero, accumulate(A, append_bit_take_mod)))"
   ]
  },
  {
   "cell_type": "code",
   "execution_count": null,
   "metadata": {},
   "outputs": [],
   "source": []
  },
  {
   "cell_type": "code",
   "execution_count": null,
   "metadata": {},
   "outputs": [],
   "source": [
    "257. Binary Tree Paths\n",
    "\n",
    "Given a binary tree, return all root-to-leaf paths.\n",
    "\n",
    "Note: A leaf is a node with no children.\n",
    "\n",
    "Example:\n",
    "\n",
    "Input:\n",
    "\n",
    "   1\n",
    " /   \\\n",
    "2     3\n",
    " \\\n",
    "  5\n",
    "\n",
    "Output: [\"1->2->5\", \"1->3\"]\n",
    "\n",
    "Explanation: All root-to-leaf paths are: 1->2->5, 1->3"
   ]
  },
  {
   "cell_type": "code",
   "execution_count": null,
   "metadata": {},
   "outputs": [],
   "source": [
    "class Solution():\n",
    "    def BinaryTreePaths(self,root):\n",
    "        if not root: return []\n",
    "        res = []\n",
    "        self.dfs(root,\"\",res)\n",
    "        return res\n",
    "    \n",
    "    def dfs(self,root,path,res):\n",
    "        if not root.left and not root.right:\n",
    "            res.append(path+str(root.val))\n",
    "        if root.left:\n",
    "            self.dfs(root.left,path+str(root.val)+\"->\",res)\n",
    "        if rt.right:\n",
    "            self.dfs(rt.right,path+str(root.val)+\"->\",res)\n"
   ]
  },
  {
   "cell_type": "code",
   "execution_count": null,
   "metadata": {},
   "outputs": [],
   "source": [
    "#iterative\n",
    "#stack：\n",
    "\n",
    "public class Solution {\n",
    "    public List<String> binaryTreePaths(TreeNode root) {\n",
    "\n",
    "        List<String> res = new ArrayList<String>();\n",
    "        Map<TreeNode, String> nodeMap = new HashMap<TreeNode, String>();\n",
    "\n",
    "        if (null == root) return res;\n",
    "\n",
    "        Stack<TreeNode> stack = new Stack<TreeNode>();\n",
    "        stack.push(root);\n",
    "        nodeMap.put(root, String.valueOf(root.val));\n",
    "\n",
    "        while(!stack.isEmpty()) {\n",
    "            TreeNode node = stack.pop();\n",
    "\n",
    "            if ((null == node.left) && (null == node.right)) {\n",
    "                res.add(nodeMap.get(node));\n",
    "            } \n",
    "            if (null != node.left) {\n",
    "                stack.push(node.left);\n",
    "                nodeMap.put(node.left, nodeMap.get(node)+\"->\" + String.valueOf(node.left.val));\n",
    "            }\n",
    "            if (null != node.right) {\n",
    "                stack.push(node.right);\n",
    "                nodeMap.put(node.right, nodeMap.get(node)+\"->\" + String.valueOf(node.right.val));\n",
    "            }\n",
    "            nodeMap.remove(node);\n",
    "\n",
    "        }\n",
    "        return res;\n",
    "    }\n",
    "}\n"
   ]
  },
  {
   "cell_type": "code",
   "execution_count": null,
   "metadata": {},
   "outputs": [],
   "source": [
    "994. Rotting Oranges\n",
    "\n",
    "In a given grid, each cell can have one of three values:\n",
    "\n",
    "the value 0 representing an empty cell;\n",
    "the value 1 representing a fresh orange;\n",
    "the value 2 representing a rotten orange.\n",
    "Every minute, any fresh orange that is adjacent (4-directionally) to a rotten orange becomes rotten.\n",
    "\n",
    "Return the minimum number of minutes that must elapse until no cell has a fresh orange.  If this is impossible, return -1 instead.\n",
    "\n",
    " \n",
    "\n",
    "Example 1:\n",
    "\n",
    "\n",
    "\n",
    "Input: [[2,1,1],[1,1,0],[0,1,1]]\n",
    "Output: 4\n",
    "Example 2:\n",
    "\n",
    "Input: [[2,1,1],[0,1,1],[1,0,1]]\n",
    "Output: -1\n",
    "Explanation:  The orange in the bottom left corner (row 2, column 0) is never rotten, because rotting only happens 4-directionally.\n",
    "Example 3:\n",
    "\n",
    "Input: [[0,2]]\n",
    "Output: 0\n",
    "Explanation:  Since there are already no fresh oranges at minute 0, the answer is just 0.\n",
    " \n",
    "\n",
    "Note:\n",
    "\n",
    "1 <= grid.length <= 10\n",
    "1 <= grid[0].length <= 10\n",
    "grid[i][j] is only 0, 1, or 2."
   ]
  },
  {
   "cell_type": "code",
   "execution_count": null,
   "metadata": {},
   "outputs": [],
   "source": [
    "#REFER questions of 463. 1099. 733. 892. 661. 994."
   ]
  },
  {
   "cell_type": "code",
   "execution_count": null,
   "metadata": {},
   "outputs": [],
   "source": [
    "class Solution:\n",
    "    def orangesRotting(self, grid: List[List[int]]) -> int:\n",
    "        bfs, t, m, n = [(i, j) for i, row in enumerate(grid) for j, val in enumerate(row) if val == 2], 0, len(grid), len(grid[0])\n",
    "        while bfs:\n",
    "            new = []\n",
    "            for i, j in bfs:\n",
    "                for x, y in ((i - 1, j), (i + 1, j), (i, j - 1), (i, j + 1)):\n",
    "                    if 0 <= x < m and 0 <= y < n and grid[x][y] == 1:\n",
    "                        grid[x][y] = 2\n",
    "                        new.append((x, y))\n",
    "            bfs = new\n",
    "            t += bool(bfs)\n",
    "        return t if all(val != 1 for row in grid for val in row) else -1\n",
    "    "
   ]
  },
  {
   "cell_type": "code",
   "execution_count": null,
   "metadata": {},
   "outputs": [],
   "source": [
    "simple bfs solution use all rotten orange as start position\n",
    "\n",
    "moreover, I use cnt to count the number of 1, when one fresh orange become rotten orange, cnt -= 1 ,and once bfs over, the cnt should be 0.\n",
    "\n",
    "class Solution(object):\n",
    "    def orangesRotting(self, grid):\n",
    "        n,m = len(grid), len(grid[0])\n",
    "        Q = collections.deque([])\n",
    "        cnt = 0\n",
    "        for i in range(n):\n",
    "            for j in range(m):\n",
    "                if grid[i][j] == 1: cnt += 1\n",
    "                if grid[i][j] == 2: Q.append((i,j))\n",
    "        res = 0\n",
    "        while Q:\n",
    "            for _ in range(len(Q)):\n",
    "                i,j = Q.popleft()\n",
    "                for x, y in [(i+1,j), (i-1,j), (i,j+1), (i,j-1)]:\n",
    "                    if 0<=x<n and 0<=y<m and grid[x][y] == 1:\n",
    "                        grid[x][y] = 2\n",
    "                        cnt -= 1\n",
    "                        Q.append((x,y))\n",
    "            res += 1\n",
    "        return max(0, res-1) if cnt == 0 else -1\n",
    "    "
   ]
  },
  {
   "cell_type": "code",
   "execution_count": null,
   "metadata": {},
   "outputs": [],
   "source": []
  },
  {
   "cell_type": "code",
   "execution_count": null,
   "metadata": {},
   "outputs": [],
   "source": [
    "844. Backspace String Compare\n",
    "\n",
    "Given two strings S and T, return if they are equal when both are typed into empty text editors. \n",
    "# means a backspace character.\n",
    "\n",
    "Example 1:\n",
    "\n",
    "Input: S = \"ab#c\", T = \"ad#c\"\n",
    "Output: true\n",
    "Explanation: Both S and T become \"ac\".\n",
    "Example 2:\n",
    "\n",
    "Input: S = \"ab##\", T = \"c#d#\"\n",
    "Output: true\n",
    "Explanation: Both S and T become \"\".\n",
    "Example 3:\n",
    "\n",
    "Input: S = \"a##c\", T = \"#a#c\"\n",
    "Output: true\n",
    "Explanation: Both S and T become \"c\".\n",
    "Example 4:\n",
    "\n",
    "Input: S = \"a#c\", T = \"b\"\n",
    "Output: false\n",
    "Explanation: S becomes \"c\" while T becomes \"b\".\n",
    "Note:\n",
    "\n",
    "1 <= S.length <= 200\n",
    "1 <= T.length <= 200\n",
    "S and T only contain lowercase letters and '#' characters.\n",
    "Follow up:\n",
    "\n",
    "Can you solve it in O(N) time and O(1) space?"
   ]
  },
  {
   "cell_type": "code",
   "execution_count": null,
   "metadata": {},
   "outputs": [],
   "source": [
    "def backspaceCompare(self, S, T):\n",
    "        back = lambda res, c: res[:-1] if c == '#' else res + c\n",
    "        return reduce(back, S, \"\") == reduce(back, T, \"\")"
   ]
  },
  {
   "cell_type": "code",
   "execution_count": null,
   "metadata": {},
   "outputs": [],
   "source": [
    "#Use stack to avoid string modification. O(N)\n",
    "\n",
    "    def backspaceCompare(self, S, T):\n",
    "        def back(res, c):\n",
    "            if c != '#': res.append(c)\n",
    "            elif res: res.pop()\n",
    "            return res\n",
    "        return reduce(back, S, []) == reduce(back, T, [])"
   ]
  },
  {
   "cell_type": "code",
   "execution_count": null,
   "metadata": {},
   "outputs": [],
   "source": [
    "O(n) time O(n) space:\n",
    "\n",
    "class Solution(object):\n",
    "    def backspaceCompare(self, S, T):\n",
    "        \"\"\"\n",
    "        :type S: str\n",
    "        :type T: str\n",
    "        :rtype: bool\n",
    "        \"\"\"\n",
    "        s = []\n",
    "        t = []\n",
    "        for char in S:\n",
    "            if char == \"#\":\n",
    "                if len(s) >= 1:\n",
    "                    s.pop()\n",
    "            else:\n",
    "                s.append(char)\n",
    "        for char in T:\n",
    "            if char == \"#\":\n",
    "                if len(t) >= 1:\n",
    "                    t.pop()\n",
    "            else:\n",
    "                t.append(char)\n",
    "        return s == t\n",
    "O(n) time O(1) space:\n",
    "\n",
    "class Solution(object):\n",
    "    def backspaceCompare(self, S, T):\n",
    "        \"\"\"\n",
    "        :type S: str\n",
    "        :type T: str\n",
    "        :rtype: bool\n",
    "        \"\"\"\n",
    "        def F(S):\n",
    "            skip = 0\n",
    "            for char in reversed(S):\n",
    "                if char == \"#\":\n",
    "                    skip += 1\n",
    "                elif skip:\n",
    "                    skip -= 1\n",
    "                else:\n",
    "                    yield char\n",
    "        return all(x == y for x, y in itertools.izip_longest(F(S),F(T)))"
   ]
  },
  {
   "cell_type": "code",
   "execution_count": null,
   "metadata": {},
   "outputs": [],
   "source": [
    "class Solution:\n",
    "    def backspaceCompare(self, S, T):\n",
    "        def construct(s):\n",
    "            new_s = []\n",
    "            for c in s:\n",
    "                if c == \"#\" and len(new_s) > 0:\n",
    "                    new_s.pop()\n",
    "                elif c != \"#\":\n",
    "                    new_s.append(c)\n",
    "            return new_s\n",
    "        s, t = construct(S), construct(T)\n",
    "        return s == t"
   ]
  },
  {
   "cell_type": "code",
   "execution_count": null,
   "metadata": {},
   "outputs": [],
   "source": [
    "def backspaceCompare(self, S, T):\n",
    "        def deleted(s):\n",
    "            while '#' in s:\n",
    "                s = re.sub(r'[^#]#|^#', '', s)\n",
    "            return s\n",
    "        return deleted(S) == deleted(T)"
   ]
  },
  {
   "cell_type": "code",
   "execution_count": null,
   "metadata": {},
   "outputs": [],
   "source": []
  },
  {
   "cell_type": "code",
   "execution_count": null,
   "metadata": {},
   "outputs": [],
   "source": [
    "628. Maximum Product of Three Numbers\n",
    "\n",
    "Given an integer array, find three numbers whose product is maximum and output the maximum product.\n",
    "\n",
    "Example 1:\n",
    "\n",
    "Input: [1,2,3]\n",
    "Output: 6\n",
    " \n",
    "\n",
    "Example 2:\n",
    "\n",
    "Input: [1,2,3,4]\n",
    "Output: 24\n",
    " \n",
    "\n",
    "Note:\n",
    "\n",
    "The length of the given array will be in range [3,104] and all elements are in the range [-1000, 1000].\n",
    "Multiplication of any three numbers in the input won't exceed the range of 32-bit signed integer.\n",
    " "
   ]
  },
  {
   "cell_type": "code",
   "execution_count": null,
   "metadata": {},
   "outputs": [],
   "source": [
    "def maximumProduct(self, nums):\n",
    "    nums.sort()\n",
    "    return nums[-1] * max(nums[0] * nums[1], nums[-2] * nums[-3])"
   ]
  },
  {
   "cell_type": "code",
   "execution_count": null,
   "metadata": {},
   "outputs": [],
   "source": []
  },
  {
   "cell_type": "code",
   "execution_count": null,
   "metadata": {},
   "outputs": [],
   "source": [
    "1015. Smallest Integer Divisible by K\n",
    "\n",
    "Given a positive integer K, you need find the smallest positive integer N such that N is divisible by K, \n",
    "and N only contains the digit 1.\n",
    "\n",
    "Return the length of N.  If there is no such N, return -1.\n",
    "\n",
    " \n",
    "\n",
    "Example 1:\n",
    "\n",
    "Input: 1\n",
    "Output: 1\n",
    "Explanation: The smallest answer is N = 1, which has length 1.\n",
    "Example 2:\n",
    "\n",
    "Input: 2\n",
    "Output: -1\n",
    "Explanation: There is no such positive integer N divisible by 2.\n",
    "Example 3:\n",
    "\n",
    "Input: 3\n",
    "Output: 3\n",
    "Explanation: The smallest answer is N = 111, which has length 3.\n",
    " \n",
    "\n",
    "Note:\n",
    "\n",
    "1 <= K <= 10^5"
   ]
  },
  {
   "cell_type": "code",
   "execution_count": null,
   "metadata": {},
   "outputs": [],
   "source": [
    "class Solution(object):\n",
    "    def smallestRepunitDivByK(self, K):\n",
    "        \"\"\"\n",
    "        :type K: int\n",
    "        :rtype: int\n",
    "        \"\"\"\n",
    "        length, value = 0, 0\n",
    "        for _ in range(100000):\n",
    "            value = (10*value + 1)%K\n",
    "            length += 1\n",
    "            if value == 0:\n",
    "                return length\n",
    "        return -1\n"
   ]
  },
  {
   "cell_type": "code",
   "execution_count": null,
   "metadata": {},
   "outputs": [],
   "source": []
  },
  {
   "cell_type": "code",
   "execution_count": null,
   "metadata": {},
   "outputs": [],
   "source": [
    "183. Customers Who Never Order\n",
    "#SQL\n",
    "select * from Customers where Id not in (select distinct CustomerId from Orders);"
   ]
  },
  {
   "cell_type": "code",
   "execution_count": null,
   "metadata": {},
   "outputs": [],
   "source": []
  },
  {
   "cell_type": "code",
   "execution_count": null,
   "metadata": {},
   "outputs": [],
   "source": [
    "202. Happy Number\n",
    "A happy number is a number defined by the following process: \n",
    "Starting with any positive integer, replace the number by the sum of the squares of its digits, \n",
    "and repeat the process until the number equals 1 (where it will stay), \n",
    "or it loops endlessly in a cycle which does not include 1. \n",
    "Those numbers for which this process ends in 1 are happy numbers.\n",
    "    "
   ]
  },
  {
   "cell_type": "code",
   "execution_count": null,
   "metadata": {},
   "outputs": [],
   "source": [
    "class Solution():\n",
    "    def HappyNumber(self,n):\n",
    "        dic = {}\n",
    "        while n!=1 and n not in dic:\n",
    "            dic[n]=dic.get(n,0)+1\n",
    "            n = sum(int(c)**2 for c in str(n))\n",
    "        return n==1"
   ]
  },
  {
   "cell_type": "code",
   "execution_count": null,
   "metadata": {},
   "outputs": [],
   "source": []
  },
  {
   "cell_type": "code",
   "execution_count": null,
   "metadata": {},
   "outputs": [],
   "source": [
    "1010. Pairs of Songs With Total Durations Divisible by 60\n",
    "\n",
    "In a list of songs, the i-th song has a duration of time[i] seconds. \n",
    "\n",
    "Return the number of pairs of songs for which their total duration in seconds is divisible by 60.  \n",
    "Formally, we want the number of indices i < j with (time[i] + time[j]) % 60 == 0.\n",
    "\n",
    " \n",
    "\n",
    "Example 1:\n",
    "\n",
    "Input: [30,20,150,100,40]\n",
    "Output: 3\n",
    "Explanation: Three pairs have a total duration divisible by 60:\n",
    "(time[0] = 30, time[2] = 150): total duration 180\n",
    "(time[1] = 20, time[3] = 100): total duration 120\n",
    "(time[1] = 20, time[4] = 40): total duration 60\n",
    "Example 2:\n",
    "\n",
    "Input: [60,60,60]\n",
    "Output: 3\n",
    "Explanation: All three pairs have a total duration of 120, which is divisible by 60.\n",
    "\n",
    "Note:\n",
    "\n",
    "1 <= time.length <= 60000\n",
    "1 <= time[i] <= 500"
   ]
  },
  {
   "cell_type": "code",
   "execution_count": null,
   "metadata": {},
   "outputs": [],
   "source": [
    "# O(n) time\n",
    "# O(n) space\n",
    "def numPairsDivisibleBy60(self, time):\n",
    "    time = [t%60 for t in time]\n",
    "    # Now it's just a two sum problem:\n",
    "    num_songs_with_t = defaultdict(int)  # {t : num songs}\n",
    "    count = 0\n",
    "    for t in time:\n",
    "        t_complementary = (60-t)%60\n",
    "        if t_complementary in num_songs_with_t:\n",
    "            count += num_songs_with_t[t_complementary]\n",
    "        num_songs_with_t[t] += 1\n",
    "    return count"
   ]
  },
  {
   "cell_type": "code",
   "execution_count": null,
   "metadata": {},
   "outputs": [],
   "source": [
    "t % 60 gets the remainder 0 ~ 59.\n",
    "We count the occurrence of each remainders in a array/hashmap c.\n",
    "we want to know that, for each t, how many x satisfy (t + x) % 60 = 0.\n",
    "\n",
    "One idea is take x % 60 = 60 - t % 60, which is valid for the most cases.\n",
    "But if t % 60 = 0, x % 60 = 0 instead of 60.\n",
    "60 - t % 60 will get a number in range 1 ~ 60.\n",
    "(60 - t % 60) % 60 can get number in range 0 ~ 59, which is what we want.\n"
   ]
  },
  {
   "cell_type": "code",
   "execution_count": 536,
   "metadata": {},
   "outputs": [
    {
     "name": "stdout",
     "output_type": "stream",
     "text": [
      "Counter({30: 2, 40: 2, 20: 1})\n"
     ]
    },
    {
     "data": {
      "text/plain": [
       "3"
      ]
     },
     "execution_count": 536,
     "metadata": {},
     "output_type": "execute_result"
    }
   ],
   "source": [
    "class solution():\n",
    "    def numPairsDivisibleBy60(self, time):\n",
    "        c = collections.Counter()\n",
    "        res = 0\n",
    "        for t in time:\n",
    "            res += c[-t % 60]\n",
    "            c[t % 60] += 1\n",
    "        print (c)\n",
    "        return res\n",
    "time = [30,20,150,100,40]\n",
    "a=solution()\n",
    "a.numPairsDivisibleBy60(time)"
   ]
  },
  {
   "cell_type": "code",
   "execution_count": null,
   "metadata": {},
   "outputs": [],
   "source": [
    "class Solution:\n",
    "    def numPairsDivisibleBy60(self, time: List[int]) -> int:\n",
    "        cnt, res = collections.Counter(), 0\n",
    "        for t in time:\n",
    "            res += cnt[60 - t % 60] if t % 60 else cnt[0]\n",
    "            cnt[t % 60] += 1\n",
    "        return res"
   ]
  },
  {
   "cell_type": "code",
   "execution_count": null,
   "metadata": {},
   "outputs": [],
   "source": [
    "class Solution:\n",
    "    def numPairsDivisibleBy60(self, time: List[int]) -> int:\n",
    "        mod = [0] * 61\n",
    "        for t in time:\n",
    "            mod[-1] += mod[(60 - t % 60) % 60]\n",
    "            mod[t % 60] += 1\n",
    "        return mod[-1]"
   ]
  },
  {
   "cell_type": "code",
   "execution_count": null,
   "metadata": {},
   "outputs": [],
   "source": []
  },
  {
   "cell_type": "code",
   "execution_count": null,
   "metadata": {},
   "outputs": [],
   "source": [
    "541. Reverse String II\n",
    "\n",
    "Given a string and an integer k, \n",
    "you need to reverse the first k characters for every 2k characters counting from the start of the string. \n",
    "If there are less than k characters left, reverse all of them. If there are less than 2k but greater than or equal to k characters, then reverse the first k characters and left the other as original.\n",
    "Example:\n",
    "Input: s = \"abcdefg\", k = 2\n",
    "Output: \"bacdfeg\"\n",
    "Restrictions:\n",
    "The string consists of lower English letters only.\n",
    "Length of the given string and k will in the range [1, 10000]\n"
   ]
  },
  {
   "cell_type": "code",
   "execution_count": 25,
   "metadata": {},
   "outputs": [
    {
     "data": {
      "text/plain": [
       "'bacdfeg'"
      ]
     },
     "execution_count": 25,
     "metadata": {},
     "output_type": "execute_result"
    }
   ],
   "source": [
    "class solution():\n",
    "    def ReverseStringII(self,s,k):\n",
    "        res = ''\n",
    "        for i in range(0,len(s),2*k):\n",
    "            res += ''.join(s[i:i+k][::-1]+s[i+k:i+2*k])\n",
    "        return res\n",
    "        #return ''.join(s[i:i+k][::-1] + s[i+k:i+2*k] for i in range(0,len(s),2*k))    \n",
    "        \n",
    "s = \"abcdefg\"\n",
    "k = 2\n",
    "a=solution()\n",
    "a.ReverseStringII(s,k)"
   ]
  },
  {
   "cell_type": "code",
   "execution_count": 24,
   "metadata": {},
   "outputs": [
    {
     "name": "stdout",
     "output_type": "stream",
     "text": [
      "bacdfeg\n"
     ]
    }
   ],
   "source": [
    "s = \"abcdefg\"\n",
    "k = 2\n",
    "print( ''.join(s[i:i+k][::-1] + s[i+k:i+2*k] for i in range(0,len(s),2*k)) )"
   ]
  },
  {
   "cell_type": "code",
   "execution_count": null,
   "metadata": {},
   "outputs": [],
   "source": []
  },
  {
   "cell_type": "code",
   "execution_count": null,
   "metadata": {},
   "outputs": [],
   "source": [
    "401. Binary Watch\n",
    "A binary watch has 4 LEDs on the top which represent the hours (0-11), \n",
    "and the 6 LEDs on the bottom represent the minutes (0-59).\n",
    "\n",
    "Each LED represents a zero or one, with the least significant bit on the right.\n",
    "\n",
    "\n",
    "For example, the above binary watch reads \"3:25\".\n",
    "\n",
    "Given a non-negative integer n which represents the number of LEDs that are currently on, \n",
    "return all possible times the watch could represent.\n",
    "\n",
    "Example:\n",
    "\n",
    "Input: n = 1\n",
    "Return: [\"1:00\", \"2:00\", \"4:00\", \"8:00\", \"0:01\", \"0:02\", \"0:04\", \"0:08\", \"0:16\", \"0:32\"]\n",
    "Note:\n",
    "The order of output does not matter.\n",
    "The hour must not contain a leading zero, for example \"01:00\" is not valid, it should be \"1:00\".\n",
    "The minute must be consist of two digits and may contain a leading zero, for example \"10:2\" is not valid, it should be \"10:02\"."
   ]
  },
  {
   "cell_type": "code",
   "execution_count": 537,
   "metadata": {},
   "outputs": [
    {
     "data": {
      "text/plain": [
       "['0:01',\n",
       " '0:02',\n",
       " '0:04',\n",
       " '0:08',\n",
       " '0:16',\n",
       " '0:32',\n",
       " '1:00',\n",
       " '2:00',\n",
       " '4:00',\n",
       " '8:00']"
      ]
     },
     "execution_count": 537,
     "metadata": {},
     "output_type": "execute_result"
    }
   ],
   "source": [
    "class solution():\n",
    "    def BinaryWatch(self,n):\n",
    "        res = []\n",
    "        for h in range(12):\n",
    "            for m in range(60):\n",
    "                if (bin(h)+bin(m)).count('1')==n:\n",
    "                    res.append('%d:%02d' %(h,m))\n",
    "        return res\n",
    "    \n",
    "a=solution()\n",
    "a.BinaryWatch(1)"
   ]
  },
  {
   "cell_type": "code",
   "execution_count": null,
   "metadata": {},
   "outputs": [],
   "source": [
    "class Solution(object):\n",
    "    def readBinaryWatch(self, n):\n",
    "        \n",
    "        def dfs(n, hours, mins, idx):\n",
    "            if hours >= 12 or mins > 59: return\n",
    "            if not n:\n",
    "                res.append(str(hours) + \":\" + \"0\" * (mins < 10) + str(mins))\n",
    "                return\n",
    "            for i in range(idx, 10):\n",
    "                if i < 4: \n",
    "                    dfs(n - 1, hours | (1 << i), mins, i + 1)\n",
    "                else:\n",
    "                    k = i - 4\n",
    "                    dfs(n - 1, hours, mins | (1 << k), i + 1)\n",
    "        \n",
    "        res = []\n",
    "        dfs(n, 0, 0, 0)\n",
    "        return res"
   ]
  },
  {
   "cell_type": "code",
   "execution_count": null,
   "metadata": {},
   "outputs": [],
   "source": [
    "from itertools import combinations\n",
    "class Solution(object):\n",
    "    def dfs(self,num,n_hour,res):\n",
    "        if n_hour>num:\n",
    "            return\n",
    "        for hour_comb in combinations([1,2,4,8],n_hour):\n",
    "            hours = sum(hour_comb)\n",
    "            if hours>=12:\n",
    "                continue\n",
    "            for min_comb in combinations([1,2,4,8,16,32],num-n_hour):\n",
    "                mins = sum(min_comb)\n",
    "                if mins >= 60:\n",
    "                    continue\n",
    "                res.append('{}:{:02d}'.format(hours,mins))\n",
    "\n",
    "        self.dfs(num,n_hour+1,res)\n",
    "\n",
    "    def readBinaryWatch(self, num):\n",
    "        \"\"\"\n",
    "        :type num: int\n",
    "        :rtype: List[str]\n",
    "        \"\"\"\n",
    "        res = []\n",
    "        self.dfs(num,0,res)\n",
    "        return res"
   ]
  },
  {
   "cell_type": "code",
   "execution_count": null,
   "metadata": {},
   "outputs": [],
   "source": []
  },
  {
   "cell_type": "code",
   "execution_count": null,
   "metadata": {},
   "outputs": [],
   "source": [
    "235. Lowest Common Ancestor of a Binary Search Tree\n",
    "\n",
    "Given a binary search tree (BST), find the lowest common ancestor (LCA) of two given nodes in the BST."
   ]
  },
  {
   "cell_type": "code",
   "execution_count": null,
   "metadata": {},
   "outputs": [],
   "source": [
    "class Solution():\n",
    "    def LowestCommonAncestor(self,root,p,q):\n",
    "        while root:\n",
    "            if root.val>p.val and root.val>q.val:\n",
    "                root = root.left\n",
    "            elif root.val<p.val and root.val<q.val:\n",
    "                root = root.right\n",
    "            else:\n",
    "                return root"
   ]
  },
  {
   "cell_type": "code",
   "execution_count": null,
   "metadata": {},
   "outputs": [],
   "source": []
  },
  {
   "cell_type": "code",
   "execution_count": null,
   "metadata": {},
   "outputs": [],
   "source": [
    "551. Student Attendance Record I\n",
    "\n",
    "You are given a string representing an attendance record for a student. \n",
    "The record only contains the following three characters:\n",
    "'A' : Absent.\n",
    "'L' : Late.\n",
    "'P' : Present.\n",
    "A student could be rewarded if his attendance record doesn't contain more than one 'A' (absent) or \n",
    "more than two continuous 'L' (late).\n",
    "\n",
    "You need to return whether the student could be rewarded according to his attendance record.\n",
    "\n",
    "Example 1:\n",
    "Input: \"PPALLP\"\n",
    "Output: True\n",
    "Example 2:\n",
    "Input: \"PPALLL\"\n",
    "Output: False"
   ]
  },
  {
   "cell_type": "code",
   "execution_count": null,
   "metadata": {},
   "outputs": [],
   "source": [
    "class solution():\n",
    "    def StudentAttendanceRecordI(self,s):\n",
    "        return not (s.count('A')>1 or 'LLL' in s)"
   ]
  },
  {
   "cell_type": "code",
   "execution_count": null,
   "metadata": {},
   "outputs": [],
   "source": []
  },
  {
   "cell_type": "code",
   "execution_count": null,
   "metadata": {},
   "outputs": [],
   "source": [
    "720. Longest Word in Dictionary\n",
    "\n",
    "Given a list of strings words representing an English Dictionary, \n",
    "find the longest word in words that can be built one character at a time by other words in words. \n",
    "If there is more than one possible answer, return the longest word with the smallest lexicographical order.\n",
    "\n",
    "If there is no answer, return the empty string.\n",
    "Example 1:\n",
    "Input: \n",
    "words = [\"w\",\"wo\",\"wor\",\"worl\", \"world\"]\n",
    "Output: \"world\"\n",
    "Explanation: \n",
    "The word \"world\" can be built one character at a time by \"w\", \"wo\", \"wor\", and \"worl\".\n",
    "Example 2:\n",
    "Input: \n",
    "words = [\"a\", \"banana\", \"app\", \"appl\", \"ap\", \"apply\", \"apple\"]\n",
    "Output: \"apple\"\n",
    "Explanation: \n",
    "Both \"apply\" and \"apple\" can be built from other words in the dictionary. \n",
    "However, \"apple\" is lexicographically smaller than \"apply\".\n",
    "Note:\n",
    "\n",
    "All the strings in the input will only contain lowercase letters.\n",
    "The length of words will be in the range [1, 1000].\n",
    "The length of words[i] will be in the range [1, 30].\n"
   ]
  },
  {
   "cell_type": "code",
   "execution_count": null,
   "metadata": {},
   "outputs": [],
   "source": [
    "class solution():\n",
    "    def LongestWord(self,words):\n",
    "        res,maxlen,lookup=None,0,set(words)\n",
    "        for word in words:\n",
    "            if len(word) > maxlen or (len(word)==maxlen and word<res):\n",
    "                if all(word[:i] in lookup for i in range(1,len(word))):\n",
    "                    res = word\n",
    "                    maxlen=len(word)\n",
    "        return res"
   ]
  },
  {
   "cell_type": "code",
   "execution_count": null,
   "metadata": {},
   "outputs": [],
   "source": [
    "def longestWord(self, words):\n",
    "    \"\"\"\n",
    "    :type words: List[str]\n",
    "    :rtype: str\n",
    "    \"\"\"\n",
    "    words, seen = sorted(words,key=len), set()\n",
    "    seen.add = ('') #for len(word)==1\n",
    "    longest = ''\n",
    "    for word in words:\n",
    "        if word[:-1] in seen:\n",
    "            seen.add(word)\n",
    "            longest = longest if len(longest) >= len(word) else word\n",
    "    return longest"
   ]
  },
  {
   "cell_type": "code",
   "execution_count": null,
   "metadata": {},
   "outputs": [],
   "source": [
    "#split words in words into a list of different sets called apart by their lengths. \n",
    "#Then every time we wanna do a check, we can save some effort.\n",
    "#keep checking while there still are candidates survive during last check\n",
    "return the most recent survived candidate who has smallest lexicographical order\n",
    "class Solution(object):\n",
    "    def longestWord(self, words):\n",
    "        \"\"\"\n",
    "        :type words: List[str]\n",
    "        :rtype: str\n",
    "        \"\"\"\n",
    "        apart = [set() for _ in range(30)] #max length of the word\n",
    "        for word in words:\n",
    "            apart[len(word)-1].add(word)\n",
    "        res = {\"\"}\n",
    "        n = 0\n",
    "        while res and n < 30:\n",
    "            last = res\n",
    "            res = {word for word in apart[n] if word[:-1] in last}\n",
    "            n += 1\n",
    "        return sorted(list(res or last))[0]"
   ]
  },
  {
   "cell_type": "code",
   "execution_count": null,
   "metadata": {},
   "outputs": [],
   "source": []
  },
  {
   "cell_type": "code",
   "execution_count": null,
   "metadata": {},
   "outputs": [],
   "source": [
    "504. Base 7\n",
    "\n",
    "Given an integer, return its base 7 string representation.\n",
    "\n",
    "Example 1:\n",
    "Input: 100\n",
    "Output: \"202\"\n",
    "Example 2:\n",
    "Input: -7\n",
    "Output: \"-10\"\n",
    "Note: The input will be in range of [-1e7, 1e7]."
   ]
  },
  {
   "cell_type": "code",
   "execution_count": null,
   "metadata": {},
   "outputs": [],
   "source": [
    "class solution():\n",
    "    def Base7(self, num):\n",
    "        n, res = abs(num), ''\n",
    "        if num==0: return '0'\n",
    "        while n:\n",
    "            res = str(n % 7) + res\n",
    "            n //= 7\n",
    "        return '-'+res if nums<0 else res"
   ]
  },
  {
   "cell_type": "code",
   "execution_count": null,
   "metadata": {},
   "outputs": [],
   "source": []
  },
  {
   "cell_type": "code",
   "execution_count": null,
   "metadata": {},
   "outputs": [],
   "source": [
    "27. Remove Element\n",
    "\n",
    "Given an array nums and a value val, remove all instances of that value in-place and return the new length.\n",
    "\n",
    "Do not allocate extra space for another array, you must do this by modifying the input array in-place with O(1) extra memory.\n",
    "\n",
    "The order of elements can be changed. It doesn't matter what you leave beyond the new length.\n",
    "\n",
    "Example 1:\n",
    "\n",
    "Given nums = [3,2,2,3], val = 3,\n",
    "\n",
    "Your function should return length = 2, with the first two elements of nums being 2.\n",
    "\n",
    "It doesn't matter what you leave beyond the returned length.\n",
    "Example 2:\n",
    "\n",
    "Given nums = [0,1,2,2,3,0,4,2], val = 2,\n",
    "\n",
    "Your function should return length = 5, with the first five elements of nums containing 0, 1, 3, 0, and 4.\n",
    "\n",
    "Note that the order of those five elements can be arbitrary.\n",
    "\n",
    "It doesn't matter what values are set beyond the returned length.\n",
    "Clarification:\n",
    "\n",
    "Confused why the returned value is an integer but your answer is an array?\n",
    "\n",
    "Note that the input array is passed in by reference, which means modification to the input array will be known to the caller as well.\n",
    "\n",
    "Internally you can think of this:\n",
    "\n",
    "// nums is passed in by reference. (i.e., without making a copy)\n",
    "int len = removeElement(nums, val);\n",
    "\n",
    "// any modification to nums in your function would be known by the caller.\n",
    "// using the length returned by your function, it prints the first len elements.\n",
    "for (int i = 0; i < len; i++) {\n",
    "    print(nums[i]);\n",
    "}"
   ]
  },
  {
   "cell_type": "code",
   "execution_count": 26,
   "metadata": {},
   "outputs": [
    {
     "data": {
      "text/plain": [
       "[0, 1, 3, 0, 4]"
      ]
     },
     "execution_count": 26,
     "metadata": {},
     "output_type": "execute_result"
    }
   ],
   "source": [
    "class Solution():\n",
    "    def RemoveElement(self,nums,val):\n",
    "        if not nums: \n",
    "            return (\"empty array\")\n",
    "        j=0\n",
    "        for i in range(len(nums)):\n",
    "            if nums[i]!=val:\n",
    "                nums[j]=nums[i]\n",
    "                j += 1\n",
    "        return nums[:j]\n",
    "    \n",
    "nums, val =[0,1,2,2,3,0,4,2], 2\n",
    "a=Solution()\n",
    "a.RemoveElement(nums,val)  "
   ]
  },
  {
   "cell_type": "code",
   "execution_count": null,
   "metadata": {},
   "outputs": [],
   "source": []
  },
  {
   "cell_type": "code",
   "execution_count": null,
   "metadata": {},
   "outputs": [],
   "source": [
    "70. Climbing Stairs\n",
    "\n",
    "Each time you can either climb 1 or 2 steps. In how many distinct ways can you climb to the top?"
   ]
  },
  {
   "cell_type": "code",
   "execution_count": null,
   "metadata": {},
   "outputs": [],
   "source": [
    "class Solution():\n",
    "    def ClimbingStairs1(self,n):\n",
    "        a,b=1,1\n",
    "        for i in range(n):\n",
    "            a,b=b,a+b\n",
    "        return a\n",
    "    def ClimbingStairs(self,n):\n",
    "        res = [0 for i in range(n)]\n",
    "        res[0],res[1]=1,2\n",
    "        for i in range(2,n):\n",
    "            res[i]=res[i-1]+res[i-2]\n",
    "        return res[-1]"
   ]
  },
  {
   "cell_type": "code",
   "execution_count": null,
   "metadata": {},
   "outputs": [],
   "source": []
  },
  {
   "cell_type": "code",
   "execution_count": null,
   "metadata": {},
   "outputs": [],
   "source": [
    "674. Longest Continuous Increasing Subsequence\n",
    "\n",
    "Given an unsorted array of integers, find the length of longest continuous increasing subsequence (subarray).\n",
    "\n",
    "Example 1:\n",
    "Input: [1,3,5,4,7]\n",
    "Output: 3\n",
    "Explanation: The longest continuous increasing subsequence is [1,3,5], its length is 3. \n",
    "Even though [1,3,5,7] is also an increasing subsequence, it's not a continuous one where 5 and 7 are separated by 4. \n",
    "Example 2:\n",
    "Input: [2,2,2,2,2]\n",
    "Output: 1\n",
    "Explanation: The longest continuous increasing subsequence is [2], its length is 1. \n",
    "Note: Length of the array will not exceed 10,000.\n",
    "    "
   ]
  },
  {
   "cell_type": "code",
   "execution_count": 539,
   "metadata": {},
   "outputs": [
    {
     "data": {
      "text/plain": [
       "1"
      ]
     },
     "execution_count": 539,
     "metadata": {},
     "output_type": "execute_result"
    }
   ],
   "source": [
    "class solution():\n",
    "    def LongestContinuousIncreasingSubsequence(self,nums):\n",
    "        if not nums: return 0\n",
    "        maxlen,tmp=1,1\n",
    "        for i in range(1,len(nums)):\n",
    "            if nums[i]>nums[i-1]:\n",
    "                tmp += 1\n",
    "            else:\n",
    "                maxlen =  max(maxlen,tmp)\n",
    "                tmp = 1\n",
    "        return maxlen\n",
    "nums=[1,3,5,4,7]\n",
    "nums=[2,2,2,2,2]\n",
    "a=solution()\n",
    "a.LongestContinuousIncreasingSubsequence(nums)"
   ]
  },
  {
   "cell_type": "code",
   "execution_count": null,
   "metadata": {},
   "outputs": [],
   "source": []
  },
  {
   "cell_type": "code",
   "execution_count": null,
   "metadata": {},
   "outputs": [],
   "source": [
    "925. Long Pressed Name\n",
    "\n",
    "Your friend is typing his name into a keyboard.  \n",
    "Sometimes, when typing a character c, the key might get long pressed, \n",
    "and the character will be typed 1 or more times.\n",
    "\n",
    "You examine the typed characters of the keyboard.  \n",
    "Return True if it is possible that it was your friends name, \n",
    "with some characters (possibly none) being long pressed.\n",
    "\n",
    " \n",
    "\n",
    "Example 1:\n",
    "\n",
    "Input: name = \"alex\", typed = \"aaleex\"\n",
    "Output: true\n",
    "Explanation: 'a' and 'e' in 'alex' were long pressed.\n",
    "Example 2:\n",
    "\n",
    "Input: name = \"saeed\", typed = \"ssaaedd\"\n",
    "Output: false\n",
    "Explanation: 'e' must have been pressed twice, but it wasn't in the typed output.\n",
    "Example 3:\n",
    "\n",
    "Input: name = \"leelee\", typed = \"lleeelee\"\n",
    "Output: true\n",
    "Example 4:\n",
    "\n",
    "Input: name = \"laiden\", typed = \"laiden\"\n",
    "Output: true\n",
    "Explanation: It's not necessary to long press any character.\n",
    "\n",
    "Note:\n",
    "\n",
    "name.length <= 1000\n",
    "typed.length <= 1000\n",
    "The characters of name and typed are lowercase letters."
   ]
  },
  {
   "cell_type": "code",
   "execution_count": null,
   "metadata": {},
   "outputs": [],
   "source": [
    "class Solution:\n",
    "    def isLongPressedName(self, name, typed):\n",
    "        \"\"\"\n",
    "        :type name: str\n",
    "        :type typed: str\n",
    "        :rtype: bool\n",
    "        \"\"\"\n",
    "        tgroup = [[i, len(list(v))] for i, v in itertools.groupby(typed)]\n",
    "        ngroup = [[i, len(list(v))] for i, v in itertools.groupby(name)]\n",
    "        if len(tgroup) != len(ngroup):\n",
    "            return False\n",
    "        for i in range(len(tgroup)):\n",
    "            if tgroup[i][0] != ngroup[i][0] or tgroup[i][1] < ngroup[i][1]:\n",
    "                return False\n",
    "        return True"
   ]
  },
  {
   "cell_type": "code",
   "execution_count": 552,
   "metadata": {},
   "outputs": [
    {
     "name": "stdout",
     "output_type": "stream",
     "text": [
      "[['a', 2], ['l', 1], ['e', 2], ['x', 1]]\n",
      "a\n",
      "e\n",
      "Counter({'a': 2, 'e': 2, 'l': 1, 'x': 1})\n",
      "Counter({'a': 1, 'l': 1, 'e': 1, 'x': 1})\n",
      "[('a', 'a'), ('l', 'l'), ('e', 'e'), ('x', 'x')]\n",
      "[(2, 1), (1, 1), (2, 1), (1, 1)]\n"
     ]
    }
   ],
   "source": [
    "typed=\"aaleex\"\n",
    "tgroup = [[i, len(list(v))] for i, v in itertools.groupby(typed)]\n",
    "print(tgroup)\n",
    "name = \"alex\"\n",
    "ngroup = [[i, len(list(v))] for i, v in itertools.groupby(name)]\n",
    "for x, y in list(zip(tgroup,ngroup)):\n",
    "    if(x[1]>y[1]): print(x[0])\n",
    "\n",
    "t1 = collections.Counter(typed)\n",
    "print(t1)\n",
    "n1 = collections.Counter(name)\n",
    "print(n1)\n",
    "print(list(zip(t1.keys(),n1.keys())))\n",
    "print(list(zip(t1.values(),n1.values())))"
   ]
  },
  {
   "cell_type": "code",
   "execution_count": null,
   "metadata": {},
   "outputs": [],
   "source": [
    "#two pointer\n",
    "class solution():\n",
    "    def isLongPressedName(self, name, typed):\n",
    "        i = 0\n",
    "        for j in range(len(typed)):\n",
    "            if i < len(name) and name[i] == typed[j]:\n",
    "                i += 1\n",
    "            elif j == 0 or typed[j] != typed[j - 1]:\n",
    "                return False\n",
    "        return i == len(name)"
   ]
  },
  {
   "cell_type": "code",
   "execution_count": null,
   "metadata": {},
   "outputs": [],
   "source": [
    "class Solution:\n",
    "    def isLongPressedName(self, name, typed):\n",
    "        pre, i = None, 0\n",
    "        for c in typed:\n",
    "            if i < len(name) and c == name[i]:\n",
    "                pre, i = name[i], i + 1\n",
    "            elif c != pre:\n",
    "                return False\n",
    "        return i == len(name)"
   ]
  },
  {
   "cell_type": "code",
   "execution_count": null,
   "metadata": {},
   "outputs": [],
   "source": []
  },
  {
   "cell_type": "code",
   "execution_count": null,
   "metadata": {},
   "outputs": [],
   "source": [
    "119. Pascal's Triangle II\n"
   ]
  },
  {
   "cell_type": "code",
   "execution_count": 572,
   "metadata": {},
   "outputs": [
    {
     "data": {
      "text/plain": [
       "[1, 3, 3, 1]"
      ]
     },
     "execution_count": 572,
     "metadata": {},
     "output_type": "execute_result"
    }
   ],
   "source": [
    "class solution():\n",
    "    def PascalTriangleII(self,k):\n",
    "        res = [[1]*i for i in range(1,k+2)]\n",
    "        for i in (range(2,k+1)):\n",
    "            for j in (range(1,i)):\n",
    "                res[i][j]=res[i-1][j-1]+res[i-1][j]\n",
    "        return res[-1]\n",
    "k=3\n",
    "a=solution()\n",
    "a.PascalTriangleII(k)"
   ]
  },
  {
   "cell_type": "code",
   "execution_count": 558,
   "metadata": {},
   "outputs": [
    {
     "name": "stdout",
     "output_type": "stream",
     "text": [
      "[[1], [1, 1], [1, 1, 1], [1, 1, 1, 1], [1, 1, 1, 1, 1]]\n",
      "[0, 0, 0, 0]\n",
      "[0, 0, 0, 0]\n",
      "[[1], [1, 1], [1, 1, 1], [1, 1, 1, 1], [1, 1, 1, 1, 1]]\n"
     ]
    }
   ],
   "source": [
    "n=4\n",
    "res = [[1 for _ in range(i+1)] for i in range(n+1)]\n",
    "print(res)\n",
    "res = [0 for i in range(n)]\n",
    "print(res)\n",
    "res = [0]*n\n",
    "print(res)\n",
    "k=4\n",
    "res = [[1]*i for i in range(1,k+2)]\n",
    "print(res)"
   ]
  },
  {
   "cell_type": "code",
   "execution_count": null,
   "metadata": {},
   "outputs": [],
   "source": []
  },
  {
   "cell_type": "code",
   "execution_count": null,
   "metadata": {},
   "outputs": [],
   "source": [
    "1041. Robot Bounded In Circle\n",
    "\n",
    "On an infinite plane, a robot initially stands at (0, 0) and faces north.  The robot can receive one of three instructions:\n",
    "\n",
    "\"G\": go straight 1 unit;\n",
    "\"L\": turn 90 degrees to the left;\n",
    "\"R\": turn 90 degress to the right.\n",
    "The robot performs the instructions given in order, and repeats them forever.\n",
    "\n",
    "Return true if and only if there exists a circle in the plane such that the robot never leaves the circle.\n",
    "\n",
    " \n",
    "\n",
    "Example 1:\n",
    "\n",
    "Input: \"GGLLGG\"\n",
    "Output: true\n",
    "Explanation: \n",
    "The robot moves from (0,0) to (0,2), turns 180 degrees, and then returns to (0,0).\n",
    "When repeating these instructions, the robot remains in the circle of radius 2 centered at the origin.\n",
    "Example 2:\n",
    "\n",
    "Input: \"GG\"\n",
    "Output: false\n",
    "Explanation: \n",
    "The robot moves north indefinitely.\n",
    "Example 3:\n",
    "\n",
    "Input: \"GL\"\n",
    "Output: true\n",
    "Explanation: \n",
    "The robot moves from (0, 0) -> (0, 1) -> (-1, 1) -> (-1, 0) -> (0, 0) -> ...\n"
   ]
  },
  {
   "cell_type": "code",
   "execution_count": null,
   "metadata": {},
   "outputs": [],
   "source": [
    "def isRobotBounded(self, instructions):\n",
    "        x, y, dx, dy = 0, 0, 0, 1\n",
    "        for i in instructions:\n",
    "            if i == 'R': dx, dy = dy, -dx\n",
    "            if i == 'L': dx, dy = -dy, dx\n",
    "            if i == 'G': x, y = x + dx, y + dy\n",
    "        return (x, y) == (0, 0) or (dx, dy) != (0,1)"
   ]
  },
  {
   "cell_type": "code",
   "execution_count": null,
   "metadata": {},
   "outputs": [],
   "source": [
    "class Solution:\n",
    "    def isRobotBounded(self, i):\n",
    "        s, d = 90, [0, 0]\n",
    "        for a in i: \n",
    "            if a == 'L': s = (s + 90) % 360\n",
    "            elif a == 'R': s = (s - 90) % 360\n",
    "            else:\n",
    "                if s == 90: d[1] += 1\n",
    "                elif s == 180: d[0] -= 1\n",
    "                elif s == 270: d[1] -= 1\n",
    "                else: d[0] += 1\n",
    "        return s != 90 or d == [0, 0]"
   ]
  },
  {
   "cell_type": "code",
   "execution_count": null,
   "metadata": {},
   "outputs": [],
   "source": [
    "Consider when you are in a big plane, you have to repeat one instruction and have to go back to the original node.\n",
    "There are totally four cases:\n",
    "\n",
    "After Repeat 1: you face north\n",
    "After Repeat 1: you face west\n",
    "After Repeat 1: you face south\n",
    "After Repeat 1: you face east\n",
    "you can always face north affter 4 repeats\n",
    "\n",
    "Proof:\n",
    "(1,2,3,0) represents (north,west,south,east) respectively\n",
    "\n",
    "1 -> 1 -> 1 -> 1 -> 1 (face north agagin after 4 Repeats)\n",
    "1 -> 2 -> 3 -> 0 -> 1 (face north agagin after 4 Repeats)\n",
    "1 -> 3 -> 1 -> 3 -> 1 (face north agagin after 4 Repeats)\n",
    "1 -> 0 -> 3 -> 2 -> 1 (face north agagin after 4 Repeats)\n",
    "Summary:\n",
    "\n",
    "you can always face north affter 4 repeats\n",
    "if can go back to original node after 4 Repeats, then you can, otherwise, you can't\n",
    "How about do a simulation now?\n",
    "\n",
    "class Solution:\n",
    "    def isRobotBounded(self, instructions: str) -> bool:\n",
    "        instructions = instructions * 4\n",
    "        dire = 1 # (1,2,3,0) represents (north,west,south,east) respectively\n",
    "        x, y = 0, 0\n",
    "        for i in instructions:\n",
    "            if i == 'G':\n",
    "                if dire == 1: # north\n",
    "                    y += 1\n",
    "                elif dire == 2: # west\n",
    "                    x -= 1\n",
    "                elif dire == 3: # south\n",
    "                    y -= 1\n",
    "                elif dire == 0: # east\n",
    "                    x += 1\n",
    "            elif i == 'L':\n",
    "                dire = (dire + 1) % 4 # turn left, which is Counterclockwise\n",
    "            else:\n",
    "                dire = (dire - 1) % 4 # turn right, which is clockwise\n",
    "        return x == 0 and y == 0 # see if you go back to original node"
   ]
  },
  {
   "cell_type": "code",
   "execution_count": null,
   "metadata": {},
   "outputs": [],
   "source": []
  },
  {
   "cell_type": "code",
   "execution_count": null,
   "metadata": {},
   "outputs": [],
   "source": [
    "1. Two Sum"
   ]
  },
  {
   "cell_type": "code",
   "execution_count": 587,
   "metadata": {},
   "outputs": [
    {
     "data": {
      "text/plain": [
       "[[0, 1]]"
      ]
     },
     "execution_count": 587,
     "metadata": {},
     "output_type": "execute_result"
    }
   ],
   "source": [
    "class solution():\n",
    "    def TwoSum(self,nums,target):\n",
    "        dic,res={},[]\n",
    "        for i in range(len(nums)):\n",
    "            if target-nums[i] in dic:\n",
    "                res.append([dic[target-nums[i]],i])\n",
    "            else:\n",
    "                dic[nums[i]]=i\n",
    "        return res\n",
    "\n",
    "nums, target=[2, 7, 11, 15], 9\n",
    "a=solution()\n",
    "a.TwoSum(nums, target)"
   ]
  },
  {
   "cell_type": "code",
   "execution_count": 588,
   "metadata": {},
   "outputs": [
    {
     "data": {
      "text/plain": [
       "[[0, 1]]"
      ]
     },
     "execution_count": 588,
     "metadata": {},
     "output_type": "execute_result"
    }
   ],
   "source": [
    "class solution():\n",
    "    def TwoSum(self,nums,target):\n",
    "        dic,res={},[]\n",
    "        for i in range(len(nums)):\n",
    "            if nums[i] in dic:\n",
    "                res.append([dic[nums[i]],i])\n",
    "            else:\n",
    "                dic[target-nums[i]]=i\n",
    "        return res\n",
    "\n",
    "nums, target=[2, 7, 11, 15], 9\n",
    "a=solution()\n",
    "a.TwoSum(nums, target)"
   ]
  },
  {
   "cell_type": "code",
   "execution_count": 564,
   "metadata": {},
   "outputs": [
    {
     "data": {
      "text/plain": [
       "(1, 7, 0, 2)"
      ]
     },
     "execution_count": 564,
     "metadata": {},
     "output_type": "execute_result"
    }
   ],
   "source": [
    "class solution():\n",
    "    def TwoSum(self, nums,target):\n",
    "        mp={}\n",
    "        for i in range(len(nums)):\n",
    "            n = target - nums[i]\n",
    "            if n in mp:\n",
    "                return (i,nums[i],mp.get(n),n)\n",
    "            else:\n",
    "                mp[nums[i]]=i\n",
    "nums, target=[2, 7, 11, 15], 9\n",
    "a=solution()\n",
    "a.TwoSum(nums, target)"
   ]
  },
  {
   "cell_type": "code",
   "execution_count": null,
   "metadata": {},
   "outputs": [],
   "source": []
  },
  {
   "cell_type": "code",
   "execution_count": null,
   "metadata": {},
   "outputs": [],
   "source": [
    "989. Add to Array-Form of Integer\n",
    "\n",
    "For a non-negative integer X, the array-form of X is an array of its digits in left to right order.  \n",
    "For example, if X = 1231, then the array form is [1,2,3,1].\n",
    "\n",
    "Given the array-form A of a non-negative integer X, return the array-form of the integer X+K.\n",
    "\n",
    " \n",
    "\n",
    "Example 1:\n",
    "\n",
    "Input: A = [1,2,0,0], K = 34\n",
    "Output: [1,2,3,4]\n",
    "Explanation: 1200 + 34 = 1234\n",
    "Example 2:\n",
    "\n",
    "Input: A = [2,7,4], K = 181\n",
    "Output: [4,5,5]\n",
    "Explanation: 274 + 181 = 455\n",
    "Example 3:\n",
    "\n",
    "Input: A = [2,1,5], K = 806\n",
    "Output: [1,0,2,1]\n",
    "Explanation: 215 + 806 = 1021\n",
    "Example 4:\n",
    "\n",
    "Input: A = [9,9,9,9,9,9,9,9,9,9], K = 1\n",
    "Output: [1,0,0,0,0,0,0,0,0,0,0]\n",
    "Explanation: 9999999999 + 1 = 10000000000\n",
    "\n",
    "Note：\n",
    "\n",
    "1 <= A.length <= 10000\n",
    "0 <= A[i] <= 9\n",
    "0 <= K <= 10000\n",
    "If A.length > 1, then A[0] != 0"
   ]
  },
  {
   "cell_type": "code",
   "execution_count": null,
   "metadata": {},
   "outputs": [],
   "source": [
    "class solution:\n",
    "    def AddtoArrayForm(self,a,k):\n",
    "        for i in range(len(a))[::-1]:\n",
    "            #take k as carry, add it to the lowest digit in a\n",
    "            k, a[i] = divmod(a[i]+k, 10)\n",
    "        return [int(i) for i in str(k)] + a if k else a\n",
    "            \n",
    "    def AddtoArrayForm1(self,a,k):\n",
    "        b = str(int(''.join(str(i) for i in a))+k)\n",
    "        return list(b)\n",
    "    \n",
    "    def AddtoArrayForm2(self,a,k):\n",
    "        b = str(int(''.join(list(map(str,a))))+k)\n",
    "        return list(map(int,list(b)))\n",
    "    \n",
    "    \n",
    "    def addToArrayForm(self, A, K):\n",
    "        s = ''\n",
    "        for i in A:\n",
    "            s += str(i)\n",
    "        out = int(s) + K\n",
    "        return list(map(lambda i: int(i), list(str(out))))"
   ]
  },
  {
   "cell_type": "code",
   "execution_count": 29,
   "metadata": {},
   "outputs": [
    {
     "name": "stdout",
     "output_type": "stream",
     "text": [
      "181 [2, 7, 4]\n",
      "18 [2, 7, 5]\n",
      "====\n",
      "[1, 8, 2, 7, 5]\n",
      "18 [2, 7, 5]\n",
      "2 [2, 5, 5]\n",
      "====\n",
      "[2, 2, 5, 5]\n",
      "2 [2, 5, 5]\n",
      "0 [4, 5, 5]\n",
      "====\n",
      "[4, 5, 5]\n"
     ]
    }
   ],
   "source": [
    "a = [2,7,4]\n",
    "k=181\n",
    "for i in range(len(a))[::-1]:\n",
    "    print(k, a)\n",
    "    k, a[i] = divmod(a[i]+k, 10)\n",
    "    print(k,a)\n",
    "    print(\"====\")\n",
    "    print ([int(i) for i in str(k)] + a if k else a)"
   ]
  },
  {
   "cell_type": "code",
   "execution_count": 590,
   "metadata": {},
   "outputs": [
    {
     "name": "stdout",
     "output_type": "stream",
     "text": [
      "9999999999\n"
     ]
    }
   ],
   "source": [
    "A = [1,2,0,0]\n",
    "A = [9,9,9,9,9,9,9,9,9,9]\n",
    "n = 0\n",
    "for i in A:\n",
    "    n = n*10+i\n",
    "print (n)"
   ]
  },
  {
   "cell_type": "code",
   "execution_count": null,
   "metadata": {},
   "outputs": [],
   "source": []
  },
  {
   "cell_type": "code",
   "execution_count": null,
   "metadata": {},
   "outputs": [],
   "source": [
    "744. Find Smallest Letter Greater Than Target\n",
    "\n",
    "Given a list of sorted characters letters containing only lowercase letters, \n",
    "and given a target letter target, find the smallest element in the list that is larger than the given target.\n",
    "\n",
    "Letters also wrap around. For example, \n",
    "if the target is target = 'z' and letters = ['a', 'b'], the answer is 'a'.\n",
    "\n",
    "Examples:\n",
    "Input:\n",
    "letters = [\"c\", \"f\", \"j\"]\n",
    "target = \"a\"\n",
    "Output: \"c\"\n",
    "\n",
    "Input:\n",
    "letters = [\"c\", \"f\", \"j\"]\n",
    "target = \"c\"\n",
    "Output: \"f\"\n",
    "\n",
    "Input:\n",
    "letters = [\"c\", \"f\", \"j\"]\n",
    "target = \"d\"\n",
    "Output: \"f\"\n",
    "\n",
    "Input:\n",
    "letters = [\"c\", \"f\", \"j\"]\n",
    "target = \"g\"\n",
    "Output: \"j\"\n",
    "\n",
    "Input:\n",
    "letters = [\"c\", \"f\", \"j\"]\n",
    "target = \"j\"\n",
    "Output: \"c\"\n",
    "\n",
    "Input:\n",
    "letters = [\"c\", \"f\", \"j\"]\n",
    "target = \"k\"\n",
    "Output: \"c\"\n",
    "Note:\n",
    "letters has a length in range [2, 10000].\n",
    "letters consists of lowercase letters, and contains at least 2 unique letters.\n",
    "target is a lowercase letter."
   ]
  },
  {
   "cell_type": "code",
   "execution_count": 598,
   "metadata": {},
   "outputs": [
    {
     "name": "stdout",
     "output_type": "stream",
     "text": [
      "c\n"
     ]
    }
   ],
   "source": [
    "L = [\"c\", \"f\", \"j\"]\n",
    "t=\"g\"\n",
    "L = [\"c\", \"f\", \"j\"]\n",
    "t=\"a\"\n",
    "print([i for i in L if i>t][0])"
   ]
  },
  {
   "cell_type": "code",
   "execution_count": null,
   "metadata": {},
   "outputs": [],
   "source": [
    "class Solution:\n",
    "    def nextGreatestLetter(self, letters, target):\n",
    "        return letters[bisect.bisect(letters, target) % len(letters)]"
   ]
  },
  {
   "cell_type": "code",
   "execution_count": null,
   "metadata": {},
   "outputs": [],
   "source": [
    "def nextGreatestLetter(self, letters, target):\n",
    "    return next((c for c in letters if c > target), letters[0]) #wrap around\n"
   ]
  },
  {
   "cell_type": "code",
   "execution_count": null,
   "metadata": {},
   "outputs": [],
   "source": []
  },
  {
   "cell_type": "code",
   "execution_count": null,
   "metadata": {},
   "outputs": [],
   "source": [
    "594. Longest Harmonious Subsequence\n",
    "\n",
    "We define a harmounious array as an array where the difference between its maximum value and its minimum value \n",
    "is exactly 1.\n",
    "\n",
    "Now, given an integer array, \n",
    "you need to find the length of its longest harmonious subsequence among all its possible subsequences.\n",
    "\n",
    "Example 1:\n",
    "\n",
    "Input: [1,3,2,2,5,2,3,7]\n",
    "Output: 5\n",
    "Explanation: The longest harmonious subsequence is [3,2,2,2,3].\n",
    " \n",
    "\n",
    "Note: The length of the input array will not exceed 20,000."
   ]
  },
  {
   "cell_type": "code",
   "execution_count": null,
   "metadata": {},
   "outputs": [],
   "source": [
    "Let count[x] be the number of x's in our array.\n",
    "Suppose our longest subsequence B has min(B) = x and max(B) = x+1.\n",
    "Evidently, it should use all occurrences of x and x+1 to maximize it's length, so len(B) = count[x] + count[x+1].\n",
    "Additionally, it must use x and x+1 atleast once, so count[x] and count[x+1] should both be positive.\n",
    "\n",
    "def findLHS(self, A):\n",
    "    count = collections.Counter(A)\n",
    "    ans = 0\n",
    "    for x in count:\n",
    "        if x+1 in count:\n",
    "            ans = max(ans, count[x] + count[x+1])\n",
    "    return ans"
   ]
  },
  {
   "cell_type": "code",
   "execution_count": null,
   "metadata": {},
   "outputs": [],
   "source": [
    "class Solution(object):\n",
    "    def findLHS(self, nums):\n",
    "        \"\"\"\n",
    "        :type nums: List[int]\n",
    "        :rtype: int\n",
    "        \"\"\"\n",
    "        count = collections.Counter(nums)\n",
    "        return max([count[x] + count[x+1] for x in count if count[x+1]] or [0])"
   ]
  },
  {
   "cell_type": "code",
   "execution_count": null,
   "metadata": {},
   "outputs": [],
   "source": []
  },
  {
   "cell_type": "code",
   "execution_count": null,
   "metadata": {},
   "outputs": [],
   "source": [
    "270. Closest Binary Search Tree Value\n",
    "Given a non-empty binary search tree and a target value, find the value in the BST that is closest to the target.\n",
    "\n",
    "Note:\n",
    "Given target value is a floating point.\n",
    "You are guaranteed to have only one unique value in the BST that is closest to the target."
   ]
  },
  {
   "cell_type": "code",
   "execution_count": null,
   "metadata": {},
   "outputs": [],
   "source": [
    "class Solution():\n",
    "    def ClosestBinarySearchTreeValue(self,root,target):\n",
    "        res = root.val\n",
    "        while root:\n",
    "            if abs(root.val-target) < abs(res-target):\n",
    "                res=root.val\n",
    "            root = root.left if target < root.val else root.right\n",
    "        return res\n"
   ]
  },
  {
   "cell_type": "code",
   "execution_count": null,
   "metadata": {},
   "outputs": [],
   "source": []
  },
  {
   "cell_type": "code",
   "execution_count": null,
   "metadata": {},
   "outputs": [],
   "source": [
    "415. Add Strings\n",
    "\n",
    "Given two non-negative integers num1 and num2 represented as string, return the sum of num1 and num2.\n",
    "\n",
    "Note:\n",
    "\n",
    "The length of both num1 and num2 is < 5100.\n",
    "Both num1 and num2 contains only digits 0-9.\n",
    "Both num1 and num2 does not contain any leading zero.\n",
    "You must not use any built-in BigInteger library or convert the inputs to integer directly.\n"
   ]
  },
  {
   "cell_type": "code",
   "execution_count": null,
   "metadata": {},
   "outputs": [],
   "source": [
    "from itertools import izip_longest\n",
    "class Solution(object):\n",
    "    def addStrings(self, num1, num2):\n",
    "        res, c = \"\", 0\n",
    "        for (x, y) in izip_longest(num1[::-1], num2[::-1], fillvalue='0'):\n",
    "            #s = (int(x) + int(y) + c)\n",
    "            #d, c = s % 10, int(s / 10)\n",
    "            c, d = divmod(int(x)+int(y)+c, 10)\n",
    "            res = str(d) + res\n",
    "        \n",
    "        if c > 0: res = str(c) + res\n",
    "\n",
    "        return res"
   ]
  },
  {
   "cell_type": "code",
   "execution_count": null,
   "metadata": {},
   "outputs": [],
   "source": [
    "class Solution(object):\n",
    "    def addStrings(self, num1, num2):\n",
    "        def additionStrings(num1, num2, carry):\n",
    "            if not num1 and not num2: \n",
    "                if carry: res.append(carry)\n",
    "                return\n",
    "            a, b = num1.pop() if num1 else 0, num2.pop() if num2 else 0\n",
    "            carry, digit = divmod(a + b + carry, 10)\n",
    "            res.append(digit)\n",
    "            additionStrings(num1, num2, carry)\n",
    "        \n",
    "        res = []\n",
    "        additionStrings([int(c) for c in num1], \n",
    "                        [int(c) for c in num2],\n",
    "                        0)\n",
    "        \n",
    "        return \"\".join([str(num) for num in res[::-1]])"
   ]
  },
  {
   "cell_type": "code",
   "execution_count": null,
   "metadata": {},
   "outputs": [],
   "source": []
  },
  {
   "cell_type": "code",
   "execution_count": null,
   "metadata": {},
   "outputs": [],
   "source": [
    "9. Palindrome Number"
   ]
  },
  {
   "cell_type": "code",
   "execution_count": null,
   "metadata": {},
   "outputs": [],
   "source": [
    "class Solution():\n",
    "    def PalindromeNumber(self, n):\n",
    "        if(n<0): return False\n",
    "        s = str(n)\n",
    "        mid = int(len(s)/2) if len(s)%2==0 else int(len(s)/2)+1\n",
    "        return (s[0:int(len(s)/2)][::-1]==s[mid:])\n"
   ]
  },
  {
   "cell_type": "code",
   "execution_count": null,
   "metadata": {},
   "outputs": [],
   "source": []
  },
  {
   "cell_type": "code",
   "execution_count": null,
   "metadata": {},
   "outputs": [],
   "source": [
    "232. Implement Queue using Stacks\n",
    "\n",
    "Implement the following operations of a queue using stacks.\n",
    "\n",
    "push(x) -- Push element x to the back of queue.\n",
    "pop() -- Removes the element from in front of queue.\n",
    "peek() -- Get the front element.\n",
    "empty() -- Return whether the queue is empty.\n",
    "Example:\n",
    "\n",
    "MyQueue queue = new MyQueue();\n",
    "\n",
    "queue.push(1);\n",
    "queue.push(2);  \n",
    "queue.peek();  // returns 1\n",
    "queue.pop();   // returns 1\n",
    "queue.empty(); // returns false\n",
    "Notes:\n",
    "\n",
    "You must use only standard operations of a stack -- which means only push to top, peek/pop from top, size, and is empty operations are valid.\n",
    "Depending on your language, stack may not be supported natively. You may simulate a stack by using a list or deque (double-ended queue), as long as you use only standard operations of a stack.\n",
    "You may assume that all operations are valid (for example, no pop or peek operations will be called on an empty queue)."
   ]
  },
  {
   "cell_type": "code",
   "execution_count": null,
   "metadata": {},
   "outputs": [],
   "source": [
    "# initialize your data structure here.\n",
    "def __init__(self):\n",
    "    self.stack1 = []\n",
    "    self.stack2 = []\n",
    "    self.size = 0\n",
    "\n",
    "# @param x, an integer\n",
    "# @return nothing\n",
    "def push(self, x):\n",
    "    self.stack1.append(x)\n",
    "    self.size += 1\n",
    "\n",
    "# @return nothing\n",
    "def pop(self):\n",
    "    if self.stack2:\n",
    "        self.stack2.pop()\n",
    "    else:\n",
    "        for _ in range(self.size-1):\n",
    "            self.stack2.append(self.stack1.pop())\n",
    "        self.stack1.pop()\n",
    "    self.size -= 1\n",
    "    \n",
    "# @return an integer\n",
    "def peek(self):\n",
    "    if self.stack2:\n",
    "        # stack peek operation\n",
    "        return self.stack2[-1]\n",
    "    else:\n",
    "        for _ in xrange(self.size):\n",
    "            self.stack2.append(self.stack1.pop())\n",
    "        # stack peek operation\n",
    "        return self.stack2[-1]\n",
    "\n",
    "# @return an boolean\n",
    "def empty(self):\n",
    "    return self.size == 0"
   ]
  },
  {
   "cell_type": "code",
   "execution_count": null,
   "metadata": {},
   "outputs": [],
   "source": []
  },
  {
   "cell_type": "code",
   "execution_count": null,
   "metadata": {},
   "outputs": [],
   "source": [
    "53. Maximum Subarray\n",
    "Given an integer array nums, find the contiguous subarray (containing at least one number) which has the largest sum and return its sum.\n",
    "\n",
    "Example:\n",
    "\n",
    "Input: [-2,1,-3,4,-1,2,1,-5,4],\n",
    "Output: 6\n",
    "Explanation: [4,-1,2,1] has the largest sum = 6.\n",
    "Follow up:\n",
    "\n",
    "If you have figured out the O(n) solution, try coding another solution using the divide and conquer approach, which is more subtle."
   ]
  },
  {
   "cell_type": "code",
   "execution_count": null,
   "metadata": {},
   "outputs": [],
   "source": [
    "class Solution():\n",
    "    def MaximumSubarray(self,nums):\n",
    "        if not nums: return 0\n",
    "        curS = maxS = nums[0]\n",
    "        for n in nums[1:]:\n",
    "            curS = max(n,curS+n)\n",
    "            maxS = max(maxS,curS)\n",
    "        return maxS\n",
    "nums = [-2,1,-3,4,-1,2,1,-5,4]\n",
    "a=Solution()\n",
    "a.MaximumSubarray(nums)"
   ]
  },
  {
   "cell_type": "code",
   "execution_count": 600,
   "metadata": {},
   "outputs": [
    {
     "data": {
      "text/plain": [
       "(6, 3, 6)"
      ]
     },
     "execution_count": 600,
     "metadata": {},
     "output_type": "execute_result"
    }
   ],
   "source": [
    "class Solution():\n",
    "    def MaximumSubarray(self,nums):\n",
    "        if not nums: return 0\n",
    "        start,end,cstart,cend=0,0,0,0\n",
    "        curS = maxS = nums[0]\n",
    "        for i in range(1, len(nums)):\n",
    "            if nums[i]>curS+nums[i]:\n",
    "                cstart=i\n",
    "            cend=i\n",
    "            curS = max(nums[i],curS+nums[i])\n",
    "            if curS>maxS:\n",
    "                start=cstart\n",
    "                end=cend\n",
    "            maxS = max(maxS,curS)\n",
    "        return maxS,start,end\n",
    "nums = [-2,1,-3,4,-1,2,1,-5,4]\n",
    "a=Solution()\n",
    "a.MaximumSubarray(nums)"
   ]
  },
  {
   "cell_type": "code",
   "execution_count": null,
   "metadata": {},
   "outputs": [],
   "source": []
  },
  {
   "cell_type": "code",
   "execution_count": null,
   "metadata": {},
   "outputs": [],
   "source": [
    "191. Number of 1 Bits\n",
    "Write a function that takes an unsigned integer and return the number of '1' bits it has (also known as the Hamming weight).\n"
   ]
  },
  {
   "cell_type": "code",
   "execution_count": null,
   "metadata": {},
   "outputs": [],
   "source": [
    "class Solution():\n",
    "    def NumberOneBits(self,n):\n",
    "        res=0\n",
    "        for i in range(32):\n",
    "            res += n%2\n",
    "            n //= 2\n",
    "        return res\n",
    "n=11\n",
    "a=Solution()\n",
    "a.NumberOneBits(n)"
   ]
  },
  {
   "cell_type": "code",
   "execution_count": 612,
   "metadata": {},
   "outputs": [
    {
     "name": "stdout",
     "output_type": "stream",
     "text": [
      "100101 0b100101 100101\n",
      "37\n",
      "4294967293\n",
      "4294967295\n",
      "-100000000000000000000000000000000\n"
     ]
    },
    {
     "data": {
      "text/plain": [
       "Counter({'1': 1, '0': 32})"
      ]
     },
     "execution_count": 612,
     "metadata": {},
     "output_type": "execute_result"
    }
   ],
   "source": [
    "t = \"{0:b}\".format(37)\n",
    "t1 = bin(37)\n",
    "t2 = format(37,\"b\")\n",
    "print(t,t1,t2)\n",
    "print(int(t2,2))\n",
    "print(int('11111111111111111111111111111101',2))\n",
    "int('11111111111111111111111111111111',2)\n",
    "print(2**32-1)\n",
    "print(format(-2**32,\"b\"))\n",
    "collections.Counter('100000000000000000000000000000000')"
   ]
  },
  {
   "cell_type": "code",
   "execution_count": null,
   "metadata": {},
   "outputs": [],
   "source": []
  },
  {
   "cell_type": "code",
   "execution_count": null,
   "metadata": {},
   "outputs": [],
   "source": [
    "101. Symmetric Tree"
   ]
  },
  {
   "cell_type": "code",
   "execution_count": null,
   "metadata": {},
   "outputs": [],
   "source": [
    "class Solution():\n",
    "    def SymmetricTree(self,root):\n",
    "        if not root: return True\n",
    "    return self.dfs(root.left,root.right)\n",
    "    def dfs(self,l,r):\n",
    "        if l and r:\n",
    "            return l.val==r.val and self.dfs(l.left,r.right) and self.dfs(l.right, r.left)\n",
    "        return l==r"
   ]
  },
  {
   "cell_type": "code",
   "execution_count": null,
   "metadata": {},
   "outputs": [],
   "source": [
    "def isSymmetric(self, root):\n",
    "        def isSym(L,R):\n",
    "            if L and R and L.val == R.val: \n",
    "                return isSym(L.left, R.right) and isSym(L.right, R.left)\n",
    "            return L == R\n",
    "        return not root or isSym(root.left, root.right)"
   ]
  },
  {
   "cell_type": "code",
   "execution_count": null,
   "metadata": {},
   "outputs": [],
   "source": [
    "#interative\n",
    "def isSymmetric(self, root):\n",
    "    queue = [root]\n",
    "    while queue:\n",
    "        values = [i.val if i else None for i in queue]\n",
    "        if values != values[::-1]: return False\n",
    "        queue = [child for i in queue if i for child in (i.left, i.right)]\n",
    "    return True"
   ]
  },
  {
   "cell_type": "code",
   "execution_count": null,
   "metadata": {},
   "outputs": [],
   "source": []
  },
  {
   "cell_type": "code",
   "execution_count": null,
   "metadata": {},
   "outputs": [],
   "source": [
    "437. Path Sum III\n",
    "\n",
    "You are given a binary tree in which each node contains an integer value.\n",
    "\n",
    "Find the number of paths that sum to a given value.\n",
    "\n",
    "The path does not need to start or end at the root or a leaf, but it must go downwards \n",
    "(traveling only from parent nodes to child nodes).\n",
    "\n",
    "The tree has no more than 1,000 nodes and the values are in the range -1,000,000 to 1,000,000.\n",
    "\n",
    "Example:\n",
    "\n",
    "root = [10,5,-3,3,2,null,11,3,-2,null,1], sum = 8\n",
    "\n",
    "      10\n",
    "     /  \\\n",
    "    5   -3\n",
    "   / \\    \\\n",
    "  3   2   11\n",
    " / \\   \\\n",
    "3  -2   1\n",
    "\n",
    "Return 3. The paths that sum to 8 are:\n",
    "\n",
    "1.  5 -> 3\n",
    "2.  5 -> 2 -> 1\n",
    "3. -3 -> 11"
   ]
  },
  {
   "cell_type": "code",
   "execution_count": null,
   "metadata": {},
   "outputs": [],
   "source": [
    "class Solution(object):\n",
    "    def pathSum(self, root, sum):\n",
    "        \"\"\"\n",
    "        :type root: TreeNode\n",
    "        :type sum: int\n",
    "        :rtype: int\n",
    "        \"\"\"\n",
    "        \n",
    "        def dfs(root, prevSum, sum):\n",
    "            if not root:\n",
    "                return 0\n",
    "            count = 0\n",
    "            currSum = prevSum + root.val\n",
    "            if currSum - sum in rec:\n",
    "                count += rec[currSum - sum]\n",
    "            if currSum in rec:\n",
    "                rec[currSum] += 1\n",
    "            else:\n",
    "                rec[currSum] = 1\n",
    "            count += dfs(root.left, currSum, sum)\n",
    "            count += dfs(root.right, currSum, sum)\n",
    "            rec[currSum] -= 1\n",
    "            return count\n",
    "            \n",
    "        rec = {0:1}\n",
    "        return dfs(root, 0, sum)"
   ]
  },
  {
   "cell_type": "code",
   "execution_count": null,
   "metadata": {},
   "outputs": [],
   "source": [
    "class Solution(object):\n",
    "    def pathSum(self, root, target):\n",
    "        def findSum(root, totSum):\n",
    "            if not root: return\n",
    "            totSum += root.val\n",
    "            res[0] += partSums[totSum - target]\n",
    "            partSums[totSum] += 1\n",
    "            findSum(root.left, totSum)\n",
    "            findSum(root.right, totSum)\n",
    "            partSums[totSum] -= 1\n",
    "        \n",
    "        res = [0]\n",
    "        partSums = collections.Counter([0])\n",
    "        findSum(root, 0)\n",
    "        return res[0]\n",
    "root = [10,5,-3,3,2,None,11,3,-2,None,1]\n",
    "target=8\n",
    "a=Solution()\n",
    "a.pathSum(root,target)"
   ]
  },
  {
   "cell_type": "code",
   "execution_count": null,
   "metadata": {},
   "outputs": [],
   "source": [
    "class SolutionBruteForce(object):\n",
    "    def find_paths(self, root, target):\n",
    "        if root:\n",
    "            return int(root.val == target) + self.find_paths(root.left, target-root.val) + self.find_paths(root.right, target-root.val)\n",
    "        return 0\n",
    "\n",
    "    def pathSum(self, root, sum):\n",
    "        if root:\n",
    "            return self.find_paths(root, sum) + self.pathSum(root.left, sum) + self.pathSum(root.right, sum)\n",
    "        return 0"
   ]
  },
  {
   "cell_type": "code",
   "execution_count": null,
   "metadata": {},
   "outputs": [],
   "source": []
  },
  {
   "cell_type": "code",
   "execution_count": null,
   "metadata": {},
   "outputs": [],
   "source": [
    "671. Second Minimum Node In a Binary Tree\n",
    "Share\n",
    "Given a non-empty special binary tree consisting of nodes with the non-negative value, \n",
    "where each node in this tree has exactly two or zero sub-node. \n",
    "If the node has two sub-nodes, then this node's value is the smaller value among its two sub-nodes. \n",
    "More formally, the property root.val = min(root.left.val, root.right.val) always holds.\n",
    "\n",
    "Given such a binary tree, \n",
    "you need to output the second minimum value in the set made of all the nodes' value in the whole tree.\n",
    "\n",
    "If no such second minimum value exists, output -1 instead.\n",
    "\n",
    "Example 1:\n",
    "\n",
    "Input: \n",
    "    2\n",
    "   / \\\n",
    "  2   5\n",
    "     / \\\n",
    "    5   7\n",
    "\n",
    "Output: 5\n",
    "Explanation: The smallest value is 2, the second smallest value is 5."
   ]
  },
  {
   "cell_type": "code",
   "execution_count": null,
   "metadata": {},
   "outputs": [],
   "source": [
    "#Say the value of the root is min1. If some node's value is larger, it might be the answer, \n",
    "#but every descendant node will be at least as big, so we don't need to check them.\n",
    "def findSecondMinimumValue(self, root):\n",
    "    self.ans = float('inf')\n",
    "    min1 = root.val\n",
    "\n",
    "    def dfs(node):\n",
    "        if node:\n",
    "            if min1 < node.val < self.ans:\n",
    "                self.ans = node.val\n",
    "            elif node.val == min1:\n",
    "                dfs(node.left)\n",
    "                dfs(node.right)\n",
    "\n",
    "    dfs(root)\n",
    "    return self.ans if self.ans < float('inf') else -1"
   ]
  },
  {
   "cell_type": "code",
   "execution_count": null,
   "metadata": {},
   "outputs": [],
   "source": [
    "#interative\n",
    "#only take into account the value node.val !=root.val \n",
    "#( namely it has to be bigger than root.val since the tree value get bigger as you go deeper)\n",
    "class Solution:\n",
    "    def findSecondMinimumValue(self, root: TreeNode) -> int:\n",
    "        mn, bfs = float('inf'), [root]\n",
    "        while bfs:\n",
    "            mn = min([mn] + [node.val for node in bfs if node.val != root.val])\n",
    "            bfs = [child for node in bfs for child in (node.left, node.right) if child]\n",
    "        return mn if mn != float('inf') else -1"
   ]
  },
  {
   "cell_type": "code",
   "execution_count": null,
   "metadata": {},
   "outputs": [],
   "source": []
  },
  {
   "cell_type": "code",
   "execution_count": null,
   "metadata": {},
   "outputs": [],
   "source": [
    "83. Remove Duplicates from Sorted List\n"
   ]
  },
  {
   "cell_type": "code",
   "execution_count": null,
   "metadata": {},
   "outputs": [],
   "source": [
    "class Solution():\n",
    "    def RemoveDuplicatesSortedList(self,head):\n",
    "        node=head\n",
    "        while node and node.next:\n",
    "            if node.val == node.next.val:\n",
    "                node.next = node.next.next\n",
    "            else:\n",
    "                node = node.next\n",
    "        return head\n"
   ]
  },
  {
   "cell_type": "code",
   "execution_count": null,
   "metadata": {},
   "outputs": [],
   "source": []
  },
  {
   "cell_type": "code",
   "execution_count": null,
   "metadata": {},
   "outputs": [],
   "source": [
    "246. Strobogrammatic Number\n",
    "A strobogrammatic number is a number that looks the same when rotated 180 degrees (looked at upside down).\n",
    "Write a function to determine if a number is strobogrammatic. The number is represented as a string.\n",
    "Example 1:\n",
    "Input:  \"69\"\n",
    "Output: true\n",
    "Example 2:\n",
    "Input:  \"88\"\n",
    "Output: true\n",
    "Example 3:\n",
    "Input:  \"962\"\n",
    "Output: false"
   ]
  },
  {
   "cell_type": "code",
   "execution_count": null,
   "metadata": {},
   "outputs": [],
   "source": [
    "class Solution():\n",
    "    def StrobogrammaticNumber(self,num):\n",
    "        dic,l,r={'0':'0','1':'1','6':'9','8':'8','9':'6'},0,len(num)-1\n",
    "        while l<=r:\n",
    "            if num[l] not in dic or dic[num[l]]!=num[r]:\n",
    "                return False\n",
    "            l += 1\n",
    "            r -= 1\n",
    "        return True\n",
    "num='10869801'\n",
    "a=Solution()\n",
    "a.StrobogrammaticNumber(num)"
   ]
  },
  {
   "cell_type": "code",
   "execution_count": null,
   "metadata": {},
   "outputs": [],
   "source": [
    "#REFER to question 700. 1056."
   ]
  },
  {
   "cell_type": "code",
   "execution_count": null,
   "metadata": {},
   "outputs": [],
   "source": []
  },
  {
   "cell_type": "code",
   "execution_count": null,
   "metadata": {},
   "outputs": [],
   "source": [
    "758. Bold Words in String\n",
    "\n",
    "Given a set of keywords words and a string S, make all appearances of all keywords in S bold. \n",
    "Any letters between <b> and </b> tags become bold.\n",
    "\n",
    "The returned string should use the least number of tags possible, \n",
    "and of course the tags should form a valid combination.\n",
    "\n",
    "For example, given that words = [\"ab\", \"bc\"] and S = \"aabcd\", \n",
    "we should return \"a<b>abc</b>d\". Note that returning \"a<b>a<b>b</b>c</b>d\" would use more tags, \n",
    "so it is incorrect.\n",
    "\n",
    "Note:\n",
    "\n",
    "words has length in range [0, 50].\n",
    "words[i] has length in range [1, 10].\n",
    "S has length in range [0, 500].\n",
    "All characters in words[i] and S are lowercase letters."
   ]
  },
  {
   "cell_type": "code",
   "execution_count": null,
   "metadata": {},
   "outputs": [],
   "source": [
    "class solution():\n",
    "    def boldWords(self,words,S):\n",
    "        N=len(S)\n",
    "        bold=[0]*N\n",
    "        for i in range(N):\n",
    "            for w in words:\n",
    "                idx=S[i:].find(w)\n",
    "                if idx != -1:\n",
    "                    for j in range(idx,idx+len(w)):\n",
    "                        bold[j]=1\n",
    "        S = list(S) + ['']\n",
    "        res = []\n",
    "        for x in range(1, N + 1):\n",
    "            if bold[x] == 1 and bold[x - 1] == 0:\n",
    "                res.append('<b>')\n",
    "            res.append(S[x - 1])\n",
    "            if bold[x] == 1 and bold[x + 1] == 0:\n",
    "                res.append('</b>')\n",
    "        return ''.join(res)\n"
   ]
  },
  {
   "cell_type": "code",
   "execution_count": null,
   "metadata": {},
   "outputs": [],
   "source": [
    "res=[]\n",
    "for b,s in itertools.groupby(zip(bold,S), lambda x: x[0]):\n",
    "    if b: res.append('<b>')\n",
    "    res.append(''.join(x[1] for x in s))\n",
    "    if b: res.append('</b>')\n",
    "return ''.join(res)"
   ]
  },
  {
   "cell_type": "code",
   "execution_count": 121,
   "metadata": {},
   "outputs": [
    {
     "name": "stdout",
     "output_type": "stream",
     "text": [
      "[('a', 0), ('a', 1), ('b', 1), ('c', 1), ('d', 0)]\n",
      "0 ['a']\n",
      "1 ['a', 'b', 'c']\n",
      "0 ['d']\n",
      "<b></b>\n"
     ]
    }
   ],
   "source": [
    "import itertools\n",
    "S=\"aabcd\"\n",
    "bold=[0,1,1,1,0]\n",
    "print(list(zip(S,bold)))\n",
    "\n",
    "\n",
    "res=[]\n",
    "for b,s in itertools.groupby(zip(bold,S), lambda x: x[0]):\n",
    "    #print([x[1] for x in s])\n",
    "    print(b,[x[1] for x in s])\n",
    "    if b: res.append('<b>')\n",
    "    res.append(''.join(x[1] for x in s))\n",
    "    #print(res)\n",
    "    if b: res.append('</b>')\n",
    "\n",
    "print(''.join(res))\n",
    "#res=[]\n",
    "#for s,b in intertools.groupby(zip(S,bold))\n",
    "\n"
   ]
  },
  {
   "cell_type": "code",
   "execution_count": null,
   "metadata": {},
   "outputs": [],
   "source": []
  },
  {
   "cell_type": "code",
   "execution_count": null,
   "metadata": {},
   "outputs": [],
   "source": [
    "819. Most Common Word\n",
    "remove all punctuations\n",
    "change to lowercase\n",
    "words count for each word not in banned set\n",
    "return the most common word"
   ]
  },
  {
   "cell_type": "code",
   "execution_count": null,
   "metadata": {},
   "outputs": [],
   "source": [
    "def mostCommonWord(self, p, banned):\n",
    "        ban = set(banned)\n",
    "        words = re.findall(r'\\w+', p.lower())\n",
    "        #words = re.sub(r'[^a-zA-Z]', ' ', p).lower().split()\n",
    "        return collections.Counter(w for w in words if w not in ban).most_common(1)[0][0]"
   ]
  },
  {
   "cell_type": "code",
   "execution_count": null,
   "metadata": {},
   "outputs": [],
   "source": []
  },
  {
   "cell_type": "code",
   "execution_count": null,
   "metadata": {},
   "outputs": [],
   "source": [
    "405. Convert a Number to Hexadecimal\n",
    "\n",
    "Given an integer, write an algorithm to convert it to hexadecimal. For negative integer, two’s complement method is used.\n",
    "\n",
    "Note:\n",
    "\n",
    "All letters in hexadecimal (a-f) must be in lowercase.\n",
    "The hexadecimal string must not contain extra leading 0s. If the number is zero, it is represented by a single zero character '0'; otherwise, the first character in the hexadecimal string will not be the zero character.\n",
    "The given number is guaranteed to fit within the range of a 32-bit signed integer.\n",
    "You must not use any method provided by the library which converts/formats the number to hex directly.\n",
    "Example 1:\n",
    "\n",
    "Input:\n",
    "26\n",
    "\n",
    "Output:\n",
    "\"1a\"\n",
    "Example 2:\n",
    "\n",
    "Input:\n",
    "-1\n",
    "\n",
    "Output:\n",
    "\"ffffffff\""
   ]
  },
  {
   "cell_type": "code",
   "execution_count": null,
   "metadata": {},
   "outputs": [],
   "source": [
    "class Solution:\n",
    "    def toHex(self, num: int) -> str:\n",
    "        if num < 0: return self.toHex(num + 2 ** 32)\n",
    "        if 0 <= num < 10: return str(num)\n",
    "        elif 10 <= num < 16: return chr(num - 10 + ord('a'))\n",
    "        else: return self.toHex(num // 16) + self.toHex(num % 16)"
   ]
  },
  {
   "cell_type": "code",
   "execution_count": null,
   "metadata": {},
   "outputs": [],
   "source": [
    "def toHex(self, num):\n",
    "        if num==0: return '0'\n",
    "        mp = '0123456789abcdef'  # like a map\n",
    "        ans = ''\n",
    "        for i in range(8):\n",
    "            ans = mp[num & 15] + ans # this means num & 1111b, then get the hex char \n",
    "            num = num >> 4\n",
    "            if num == 0:\n",
    "                break\n",
    "        return ans.lstrip('0')  #strip leading zeroes"
   ]
  },
  {
   "cell_type": "code",
   "execution_count": null,
   "metadata": {},
   "outputs": [],
   "source": []
  },
  {
   "cell_type": "code",
   "execution_count": null,
   "metadata": {},
   "outputs": [],
   "source": [
    "231. Power of Two"
   ]
  },
  {
   "cell_type": "code",
   "execution_count": null,
   "metadata": {},
   "outputs": [],
   "source": [
    "class Solution():\n",
    "    def PowerofTwo(self,n):\n",
    "        return n > 0 and not (n & n-1)\n",
    "    \n",
    "    def PowerofTwo2(self,n):\n",
    "        if n<=0: return False\n",
    "        while n%2==0:\n",
    "            n//=2\n",
    "        return n==1\n",
    "    \n",
    "    class Solution:\n",
    "    isPowerOfTwo = {1<<e for e in range(31)}.__contains__\n",
    "    \n",
    "n=218\n",
    "a=Solution()\n",
    "a.PowerofTwo2(n)"
   ]
  },
  {
   "cell_type": "code",
   "execution_count": null,
   "metadata": {},
   "outputs": [],
   "source": []
  },
  {
   "cell_type": "code",
   "execution_count": null,
   "metadata": {},
   "outputs": [],
   "source": [
    "1128. Number of Equivalent Domino Pairs\n",
    "\n",
    "Given a list of dominoes, dominoes[i] = [a, b] is equivalent to dominoes[j] = [c, d] \n",
    "if and only if either (a==c and b==d), or (a==d and b==c) - that is, \n",
    "one domino can be rotated to be equal to another domino.\n",
    "\n",
    "Return the number of pairs (i, j) for which 0 <= i < j < dominoes.length, and dominoes[i] is equivalent to dominoes[j].\n",
    "\n",
    "Example 1:\n",
    "\n",
    "Input: dominoes = [[1,2],[2,1],[3,4],[5,6]]\n",
    "Output: 1\n",
    " \n",
    "\n",
    "Constraints:\n",
    "\n",
    "1 <= dominoes.length <= 40000\n",
    "1 <= dominoes[i][j] <= 9\n"
   ]
  },
  {
   "cell_type": "code",
   "execution_count": null,
   "metadata": {},
   "outputs": [],
   "source": [
    "def numEquivDominoPairs(self, A):\n",
    "        return sum(v * (v - 1) // 2 for v in collections.Counter(tuple(sorted(x)) for x in A).values() if v>1)"
   ]
  },
  {
   "cell_type": "code",
   "execution_count": 35,
   "metadata": {},
   "outputs": [
    {
     "name": "stdout",
     "output_type": "stream",
     "text": [
      "Counter({(1, 2): 2, (3, 4): 1, (5, 6): 1})\n",
      "[2]\n"
     ]
    },
    {
     "data": {
      "text/plain": [
       "1"
      ]
     },
     "execution_count": 35,
     "metadata": {},
     "output_type": "execute_result"
    }
   ],
   "source": [
    "import collections\n",
    "A= [[1,2],[2,1],[3,4],[5,6]]\n",
    "t = collections.Counter(tuple(sorted(x)) for x in A)\n",
    "print(t)\n",
    "print([v for v in collections.Counter(tuple(sorted(x)) for x in A).values() if v>1])\n",
    "sum(v * (v - 1) // 2 for v in collections.Counter(tuple(sorted(x)) for x in A).values() if v>1)"
   ]
  },
  {
   "cell_type": "code",
   "execution_count": null,
   "metadata": {},
   "outputs": [],
   "source": []
  },
  {
   "cell_type": "code",
   "execution_count": null,
   "metadata": {},
   "outputs": [],
   "source": [
    "572. Subtree of Another Tree\n",
    "\n",
    "Given two non-empty binary trees s and t, check whether tree t has exactly the same structure \n",
    "and node values with a subtree of s. \n",
    "A subtree of s is a tree consists of a node in s and all of this node's descendants. \n",
    "The tree s could also be considered as a subtree of itself.\n",
    "\n",
    "Example 1:\n",
    "Given tree s:\n",
    "\n",
    "     3\n",
    "    / \\\n",
    "   4   5\n",
    "  / \\\n",
    " 1   2\n",
    "Given tree t:\n",
    "   4 \n",
    "  / \\\n",
    " 1   2\n",
    "Return true, because t has the same structure and node values with a subtree of s.\n",
    "Example 2:\n",
    "Given tree s:\n",
    "\n",
    "     3\n",
    "    / \\\n",
    "   4   5\n",
    "  / \\\n",
    " 1   2\n",
    "    /\n",
    "   0\n",
    "Given tree t:\n",
    "   4\n",
    "  / \\\n",
    " 1   2\n",
    "Return false."
   ]
  },
  {
   "cell_type": "code",
   "execution_count": null,
   "metadata": {},
   "outputs": [],
   "source": [
    "class Solution(object):\n",
    "    def isSubtree(self, s, t):\n",
    "        \"\"\"\n",
    "        :type s: TreeNode\n",
    "        :type t: TreeNode\n",
    "        :rtype: bool\n",
    "        \"\"\"\n",
    "        def convert(p):\n",
    "            return \"^\" + str(p.val) + \"#\" + convert(p.left) + convert(p.right) if p else \"$\"\n",
    "        \n",
    "        return convert(t) in convert(s)"
   ]
  },
  {
   "cell_type": "code",
   "execution_count": null,
   "metadata": {},
   "outputs": [],
   "source": [
    "#iterative\n",
    "class Solution(object):\n",
    "    def isSubtree(self, s, t):\n",
    "        \"\"\"\n",
    "        :type s: TreeNode\n",
    "        :type t: TreeNode\n",
    "        :rtype: bool\n",
    "        \"\"\"\n",
    "        def dfs(root):\n",
    "            ans = []\n",
    "            stack = [(root, 1)]\n",
    "            while stack:\n",
    "                node, p = stack.pop()\n",
    "                if not node:\n",
    "                    ans.append(\"#\")\n",
    "                    continue\n",
    "                if p == 0:\n",
    "                    ans.append(\"|\" + str(node.val))\n",
    "                else:\n",
    "                    stack.append((node.right, 1))\n",
    "                    stack.append((node.left, 1))\n",
    "                    stack.append((node, 0))\n",
    "            return \",\".join(ans)\n",
    "        return dfs(t) in dfs(s)"
   ]
  },
  {
   "cell_type": "code",
   "execution_count": null,
   "metadata": {},
   "outputs": [],
   "source": [
    "#For each node of s, let's check if it's subtree equals t. \n",
    "#We can do that in a straightforward way by an isMatch function: check if s and t match at the values of their roots, plus their subtrees match. Then, in our main function, we want to check if s and t match, or if t is a subtree of a child of s.\n",
    "\n",
    "def isMatch(self, s, t):\n",
    "    if not(s and t):\n",
    "        return s is t\n",
    "    return (s.val == t.val and \n",
    "            self.isMatch(s.left, t.left) and \n",
    "            self.isMatch(s.right, t.right))\n",
    "\n",
    "def isSubtree(self, s, t):\n",
    "    if self.isMatch(s, t): return True\n",
    "    if not s: return False\n",
    "    return self.isSubtree(s.left, t) or self.isSubtree(s.right, t)"
   ]
  },
  {
   "cell_type": "code",
   "execution_count": null,
   "metadata": {},
   "outputs": [],
   "source": [
    "#Advanced approach, O(|s| + |t|) (Merkle hashing):\n",
    "#For each node in a tree, we can create node.merkle, a hash representing it's subtree.\n",
    "#This hash is formed by hashing the concatenation of the merkle of the left child, the node's value, and the merkle of the right child. Then, two trees are identical if and only if the merkle hash of their roots are equal (except when there is a hash collision.) From there, finding the answer is straightforward: we simply check if any node in s has node.merkle == t.merkle\n",
    "\n",
    "def isSubtree(self, s, t):\n",
    "    from hashlib import sha256\n",
    "    def hash_(x):\n",
    "        S = sha256()\n",
    "        S.update(x)\n",
    "        return S.hexdigest()\n",
    "        \n",
    "    def merkle(node):\n",
    "        if not node:\n",
    "            return '#'\n",
    "        m_left = merkle(node.left)\n",
    "        m_right = merkle(node.right)\n",
    "        node.merkle = hash_(m_left + str(node.val) + m_right)\n",
    "        return node.merkle\n",
    "        \n",
    "    merkle(s)\n",
    "    merkle(t)\n",
    "    def dfs(node):\n",
    "        if not node:\n",
    "            return False\n",
    "        return (node.merkle == t.merkle or \n",
    "                dfs(node.left) or dfs(node.right))\n",
    "                    \n",
    "    return dfs(s)"
   ]
  },
  {
   "cell_type": "code",
   "execution_count": null,
   "metadata": {},
   "outputs": [],
   "source": []
  },
  {
   "cell_type": "code",
   "execution_count": null,
   "metadata": {},
   "outputs": [],
   "source": [
    "345. Reverse Vowels of a String\n",
    "\n",
    "Write a function that takes a string as input and reverse only the vowels of a string.\n",
    "\n",
    "Example 1:\n",
    "\n",
    "Input: \"hello\"\n",
    "Output: \"holle\"\n",
    "Example 2:\n",
    "\n",
    "Input: \"leetcode\"\n",
    "Output: \"leotcede\"\n",
    "Note:\n",
    "The vowels does not include the letter \"y\"."
   ]
  },
  {
   "cell_type": "code",
   "execution_count": null,
   "metadata": {},
   "outputs": [],
   "source": [
    "#doesn't work for consecutive vowels\n",
    "class solution:\n",
    "    def ReversVolwels(self,s):\n",
    "        vol={'a','e','i','o','u'}\n",
    "        vi=[i for i,c in enumerate(s) if c in vol]\n",
    "        res, start, n = '',0, len(vi)-1\n",
    "        for j in vi:\n",
    "            res += s[start:j]+s[vi[n]]\n",
    "            print(res)\n",
    "            start, n = j+1, n-1\n",
    "        return res\n"
   ]
  },
  {
   "cell_type": "code",
   "execution_count": 36,
   "metadata": {},
   "outputs": [
    {
     "name": "stdout",
     "output_type": "stream",
     "text": [
      "[7, 5, 2, 1]\n",
      "le\n",
      "leo\n",
      "leotce\n",
      "leotcede\n",
      "leotcede\n"
     ]
    }
   ],
   "source": [
    "s=\"hello\"\n",
    "s=\"leetcode\"\n",
    "vol={'a','e','i','o','u'}\n",
    "vi=[i for i,c in enumerate(s) if c in vol]\n",
    "print(vi[::-1])\n",
    "res, start, n = '',0, len(vi)-1\n",
    "for j in vi:\n",
    "    res += s[start:j]+s[vi[n]]\n",
    "    print(res)\n",
    "    start, n = j+1, n-1\n",
    "print(res)"
   ]
  },
  {
   "cell_type": "code",
   "execution_count": 660,
   "metadata": {},
   "outputs": [
    {
     "data": {
      "text/plain": [
       "'leotcede'"
      ]
     },
     "execution_count": 660,
     "metadata": {},
     "output_type": "execute_result"
    }
   ],
   "source": [
    "class solution(object):\n",
    "    def reverseVowels(self, s):\n",
    "        vol='aeiouAEIOU'\n",
    "        vi=[i for i,c in enumerate(s) if c in vol]\n",
    "        sl=list(s)\n",
    "        i,j=0,len(vi)-1\n",
    "        while i<j:\n",
    "            sl[vi[i]],sl[vi[j]]=sl[vi[j]],sl[vi[i]]\n",
    "            i+=1\n",
    "            j-=1\n",
    "        return ''.join(sl)\n",
    "s=\"leetcode\"\n",
    "a=solution()\n",
    "a.reverseVowels(s)"
   ]
  },
  {
   "cell_type": "code",
   "execution_count": 138,
   "metadata": {},
   "outputs": [
    {
     "name": "stdout",
     "output_type": "stream",
     "text": [
      "e e\n",
      "o o\n",
      "e e\n",
      "e e\n",
      "leotcede\n"
     ]
    }
   ],
   "source": [
    "def reverseV(s):\n",
    "    vol='aeiouAEIOU'\n",
    "    idx = [i for i, c in enumerate(s) if c in vol]\n",
    "    vx = [c for i, c in enumerate(s) if c in vol]\n",
    "    s = list(s)\n",
    "    for j in idx:\n",
    "        s[j] = vx.pop()\n",
    "    return ''.join(s)\n",
    "\n",
    "s=\"leetcode\"\n",
    "print(reverseV(s))"
   ]
  },
  {
   "cell_type": "code",
   "execution_count": null,
   "metadata": {},
   "outputs": [],
   "source": [
    "def reverseVowels(self, s):\n",
    "        s, vowels = list(s), {'a', 'e', 'i', 'o', 'u', 'A', 'E', 'I', 'O', 'U'}\n",
    "        indices = [i for i, c in enumerate(s) if c in vowels]\n",
    "        for k in range(len(indices)//2):\n",
    "            i, j = indices[k], indices[~k]\n",
    "            s[i], s[j] = s[j], s[i]\n",
    "        return ''.join(s)"
   ]
  },
  {
   "cell_type": "code",
   "execution_count": null,
   "metadata": {},
   "outputs": [],
   "source": [
    "def reverseVowels(self, s):\n",
    "    vowels = re.findall('(?i)[aeiou]', s)\n",
    "    return re.sub('(?i)[aeiou]', lambda m: vowels.pop(), s)\n",
    "\n",
    "class Solution:\n",
    "    def reverseVowels(self, s):\n",
    "        r = [c for c in s if c in \"aeiouAEIOU\"]\n",
    "        return \"\".join(c in \"aeiouAEIOU\" and r.pop() or c for c in s) "
   ]
  },
  {
   "cell_type": "code",
   "execution_count": null,
   "metadata": {},
   "outputs": [],
   "source": []
  },
  {
   "cell_type": "code",
   "execution_count": null,
   "metadata": {},
   "outputs": [],
   "source": [
    "326. Power of Three\n",
    "\n",
    "Given an integer, write a function to determine if it is a power of three.\n",
    "\n",
    "Example 1:\n",
    "\n",
    "Input: 27\n",
    "Output: true\n",
    "Example 2:\n",
    "\n",
    "Input: 0\n",
    "Output: false\n",
    "Example 3:\n",
    "\n",
    "Input: 9\n",
    "Output: true\n",
    "Example 4:\n",
    "\n",
    "Input: 45\n",
    "Output: false\n",
    "Follow up:\n",
    "Could you do it without using any loop / recursion?"
   ]
  },
  {
   "cell_type": "code",
   "execution_count": null,
   "metadata": {},
   "outputs": [],
   "source": [
    "    def PowerofThree2(self,n):\n",
    "        if n<=0: return False\n",
    "        while n%3==0:\n",
    "            n//=3\n",
    "        return n==1"
   ]
  },
  {
   "cell_type": "code",
   "execution_count": null,
   "metadata": {},
   "outputs": [],
   "source": [
    "#add of digits % 9 == 0?"
   ]
  },
  {
   "cell_type": "code",
   "execution_count": null,
   "metadata": {},
   "outputs": [],
   "source": [
    "#The main idea is checking whether log(n, 3) is an integer.\n",
    "\n",
    "class Solution(object):\n",
    "    def isPowerOfThree(self, n):\n",
    "        return n > 0 and abs(math.log(n, 3) - round(math.log(n, 3))) < 1e-10"
   ]
  },
  {
   "cell_type": "code",
   "execution_count": 664,
   "metadata": {},
   "outputs": [
    {
     "name": "stdout",
     "output_type": "stream",
     "text": [
      "[1, 3, 9, 27, 81, 243, 729, 2187, 6561, 19683, 59049, 177147, 531441, 1594323, 4782969, 14348907, 43046721, 129140163, 387420489, 1162261467, 3486784401] 21\n",
      "False\n"
     ]
    }
   ],
   "source": [
    "ref,n=[],0\n",
    "while 3**n<2**32-1:\n",
    "    ref.append(3**n)\n",
    "    n += 1\n",
    "print(ref, n)\n",
    "N=45\n",
    "print(N in ref)"
   ]
  },
  {
   "cell_type": "code",
   "execution_count": null,
   "metadata": {},
   "outputs": [],
   "source": []
  },
  {
   "cell_type": "code",
   "execution_count": null,
   "metadata": {},
   "outputs": [],
   "source": [
    "342. Power of Four"
   ]
  },
  {
   "cell_type": "code",
   "execution_count": null,
   "metadata": {},
   "outputs": [],
   "source": [
    "bool isPowerOfFour(int num) {\n",
    "    double n = num;\n",
    "    return (*(long*)&n & 0x801FFFFFFFFFFFFF) == 0x10000000000000;\n",
    "}"
   ]
  },
  {
   "cell_type": "code",
   "execution_count": null,
   "metadata": {},
   "outputs": [],
   "source": []
  },
  {
   "cell_type": "code",
   "execution_count": null,
   "metadata": {},
   "outputs": [],
   "source": [
    "724. Find Pivot Index\n",
    "\n",
    "Given an array of integers nums, write a method that returns the \"pivot\" index of this array.\n",
    "\n",
    "We define the pivot index as the index where the sum of the numbers to the left of the index is equal \n",
    "to the sum of the numbers to the right of the index.\n",
    "\n",
    "If no such index exists, we should return -1. If there are multiple pivot indexes, you should return the left-most pivot index.\n",
    "\n",
    "Example 1:\n",
    "\n",
    "Input: \n",
    "nums = [1, 7, 3, 6, 5, 6]\n",
    "Output: 3\n",
    "Explanation: \n",
    "The sum of the numbers to the left of index 3 (nums[3] = 6) is equal to the sum of numbers to the right of index 3.\n",
    "Also, 3 is the first index where this occurs.\n",
    " \n",
    "\n",
    "Example 2:\n",
    "\n",
    "Input: \n",
    "nums = [1, 2, 3]\n",
    "Output: -1\n",
    "Explanation: \n",
    "There is no index that satisfies the conditions in the problem statement.\n",
    " \n",
    "\n",
    "Note:\n",
    "\n",
    "The length of nums will be in the range [0, 10000].\n",
    "Each element nums[i] will be an integer in the range [-1000, 1000]."
   ]
  },
  {
   "cell_type": "code",
   "execution_count": null,
   "metadata": {},
   "outputs": [],
   "source": [
    "class Solution(object):\n",
    "    def pivotIndex(self, nums):\n",
    "        # Time: O(n)\n",
    "        # Space: O(1)\n",
    "        left, right = 0, sum(nums)\n",
    "        for index, num in enumerate(nums):\n",
    "            right -= num\n",
    "            if left == right:\n",
    "                return index\n",
    "            left += num\n",
    "        return -1"
   ]
  },
  {
   "cell_type": "code",
   "execution_count": null,
   "metadata": {},
   "outputs": [],
   "source": []
  },
  {
   "cell_type": "code",
   "execution_count": null,
   "metadata": {},
   "outputs": [],
   "source": [
    "66. Plus One\n",
    "Given a non-empty array of digits representing a non-negative integer, plus one to the integer.\n"
   ]
  },
  {
   "cell_type": "code",
   "execution_count": null,
   "metadata": {},
   "outputs": [],
   "source": [
    "class Solution():\n",
    "    def PlusOne(self,nums):\n",
    "        carry=1\n",
    "        for i in range(len(nums)-1,-1,-1):\n",
    "            carry,nums[i]=divmod(nums[i]+carry,10)\n",
    "            if carry==0:\n",
    "                return nums\n",
    "        return [1]+nums"
   ]
  },
  {
   "cell_type": "code",
   "execution_count": null,
   "metadata": {},
   "outputs": [],
   "source": [
    "class Solution:\n",
    "    # @param digits, a list of integer digits\n",
    "    # @return a list of integer digits\n",
    "    def plusOne(self, digits):\n",
    "        num = 0\n",
    "        for d in digits:\n",
    "            num *= 10\n",
    "            num += d\n",
    "        \n",
    "        num += 1\n",
    "        output = []\n",
    "\n",
    "        while num:\n",
    "            temp = num % 10\n",
    "            num //= 10\n",
    "            output.append(temp)\n",
    "        \n",
    "        return output[::-1]"
   ]
  },
  {
   "cell_type": "code",
   "execution_count": 678,
   "metadata": {},
   "outputs": [
    {
     "name": "stdout",
     "output_type": "stream",
     "text": [
      "[4, 3, 2, 2]\n"
     ]
    }
   ],
   "source": [
    "nums=[4,3,2,1]\n",
    "#print([str(i) for i in nums])\n",
    "n=''.join([str(i) for i in nums])\n",
    "res = list(map(int, str(int(n)+1))) \n",
    "print(res)"
   ]
  },
  {
   "cell_type": "code",
   "execution_count": null,
   "metadata": {},
   "outputs": [],
   "source": [
    "def plusOne1(self, digits):\n",
    "    return map(int, list(str(reduce(lambda x, y: 10*x+y, digits)+1)))\n",
    "    \n",
    "def plusOne(self, digits):\n",
    "    carry = 1\n",
    "    for i in range(len(digits)-1, -1, -1):\n",
    "        carry, digits[i] = divmod(digits[i] + carry, 10)\n",
    "    if carry:\n",
    "        digits.insert(0, carry)\n",
    "    return digits"
   ]
  },
  {
   "cell_type": "code",
   "execution_count": null,
   "metadata": {},
   "outputs": [],
   "source": []
  },
  {
   "cell_type": "code",
   "execution_count": null,
   "metadata": {},
   "outputs": [],
   "source": [
    "558. Quad Tree Intersection\n",
    "\n",
    "A quadtree is a tree data in which each internal node has exactly four children: topLeft, topRight, bottomLeft and bottomRight. \n",
    "Quad trees are often used to partition a two-dimensional space by recursively subdividing it into four quadrants or regions.\n",
    "\n",
    "We want to store True/False information in our quad tree. \n",
    "The quad tree is used to represent a N * N boolean grid. \n",
    "For each node, it will be subdivided into four children nodes until the values in the region it represents are all the same. \n",
    "Each node has another two boolean attributes : isLeaf and val. \n",
    "isLeaf is true if and only if the node is a leaf node. \n",
    "The val attribute for a leaf node contains the value of the region it represents.\n",
    "\n",
    "For example, below are two quad trees A and B:\n",
    "\n",
    "A:\n",
    "+-------+-------+   T: true\n",
    "|       |       |   F: false\n",
    "|   T   |   T   |\n",
    "|       |       |\n",
    "+-------+-------+\n",
    "|       |       |\n",
    "|   F   |   F   |\n",
    "|       |       |\n",
    "+-------+-------+\n",
    "topLeft: T\n",
    "topRight: T\n",
    "bottomLeft: F\n",
    "bottomRight: F\n",
    "\n",
    "B:               \n",
    "+-------+---+---+\n",
    "|       | F | F |\n",
    "|   T   +---+---+\n",
    "|       | T | T |\n",
    "+-------+---+---+\n",
    "|       |       |\n",
    "|   T   |   F   |\n",
    "|       |       |\n",
    "+-------+-------+\n",
    "topLeft: T\n",
    "topRight:\n",
    "     topLeft: F\n",
    "     topRight: F\n",
    "     bottomLeft: T\n",
    "     bottomRight: T\n",
    "bottomLeft: T\n",
    "bottomRight: F\n",
    " \n",
    "\n",
    "Your task is to implement a function that will take two quadtrees \n",
    "and return a quadtree that represents the logical OR (or union) of the two trees.\n",
    "\n",
    "A:                 B:                 C (A or B):\n",
    "+-------+-------+  +-------+---+---+  +-------+-------+\n",
    "|       |       |  |       | F | F |  |       |       |\n",
    "|   T   |   T   |  |   T   +---+---+  |   T   |   T   |\n",
    "|       |       |  |       | T | T |  |       |       |\n",
    "+-------+-------+  +-------+---+---+  +-------+-------+\n",
    "|       |       |  |       |       |  |       |       |\n",
    "|   F   |   F   |  |   T   |   F   |  |   T   |   F   |\n",
    "|       |       |  |       |       |  |       |       |\n",
    "+-------+-------+  +-------+-------+  +-------+-------+\n",
    "Note:\n",
    "\n",
    "Both A and B represent grids of size N * N.\n",
    "N is guaranteed to be a power of 2.\n",
    "If you want to know more about the quad tree, you can refer to its wiki.\n",
    "The logic OR operation is defined as this: \"A or B\" is true if A is true, or if B is true, or if both A and B are true.\n"
   ]
  },
  {
   "cell_type": "code",
   "execution_count": null,
   "metadata": {},
   "outputs": [],
   "source": [
    "#Information required but not in problem description: the val attribute for a non-leaf node is False.\n",
    "\n",
    "#Combine two leaves according the logical OR of their values.\n",
    "#If one node is a leaf then return it if it is True, else return the other node.\n",
    "#If neither are leaves, intersect each of the 4 subtree children and return a leaf \n",
    "#if they are all leaves with the same value, or else return a non-leaf with value of False.\n",
    "\n",
    "    def intersect(self, quadTree1, quadTree2):\n",
    "        if quadTree1.isLeaf:\n",
    "            return quadTree1 if quadTree1.val else quadTree2\n",
    "        if quadTree2.isLeaf:\n",
    "            return quadTree2 if quadTree2.val else quadTree1\n",
    "\n",
    "        topLeft = self.intersect(quadTree1.topLeft, quadTree2.topLeft)\n",
    "        topRight = self.intersect(quadTree1.topRight, quadTree2.topRight)\n",
    "        bottomLeft = self.intersect(quadTree1.bottomLeft, quadTree2.bottomLeft)\n",
    "        bottomRight = self.intersect(quadTree1.bottomRight, quadTree2.bottomRight)\n",
    "\n",
    "        children = [topLeft, topRight, bottomLeft, bottomRight]\n",
    "        values = [child.val for child in children]\n",
    "        leaves = [child.isLeaf for child in children]\n",
    "\n",
    "        if all(leaves) and (sum(values) == 0 or sum(values) == 4):\n",
    "            return Node(topLeft.val, True, None, None, None, None)\n",
    "\n",
    "        # non-leaf must have False val\n",
    "        return Node(False, False, topLeft, topRight, bottomLeft, bottomRight)\n",
    "    "
   ]
  },
  {
   "cell_type": "code",
   "execution_count": null,
   "metadata": {},
   "outputs": [],
   "source": []
  },
  {
   "cell_type": "code",
   "execution_count": null,
   "metadata": {},
   "outputs": [],
   "source": [
    "110. Balanced Binary Tree\n",
    "\n",
    "Given a binary tree, determine if it is height-balanced.\n",
    "\n",
    "For this problem, a height-balanced binary tree is defined as:\n",
    "\n",
    "a binary tree in which the depth of the two subtrees of every node never differ by more than 1."
   ]
  },
  {
   "cell_type": "code",
   "execution_count": null,
   "metadata": {},
   "outputs": [],
   "source": [
    "class Solution():\n",
    "    def BalancedBinaryTree(self,root):\n",
    "        if not root: return True\n",
    "        return abs(self.getHeight(root.left)-self.getHeight(root.right))<2 and self.BalancedBinaryTree(root.left) and self.BalancedBinaryTree(root.right)\n",
    "        \n",
    "    def getHeight(self.root):\n",
    "        if not root: return 0\n",
    "        return 1+max(self.getHeight(root.left), self.getHeight(root.right))\n"
   ]
  },
  {
   "cell_type": "code",
   "execution_count": null,
   "metadata": {},
   "outputs": [],
   "source": []
  },
  {
   "cell_type": "code",
   "execution_count": null,
   "metadata": {},
   "outputs": [],
   "source": [
    "26. Remove Duplicates from Sorted Array\n"
   ]
  },
  {
   "cell_type": "code",
   "execution_count": null,
   "metadata": {},
   "outputs": [],
   "source": [
    "class Solution():\n",
    "    def RemoveDuplicatesSortedArray(self, nums):\n",
    "        if not nums:\n",
    "            return (\"empty array\")\n",
    "        j=0\n",
    "        for i in range(1,len(nums)):\n",
    "            if nums[i]!=nums[j]:\n",
    "                j += 1\n",
    "                nums[j]=nums[i]\n",
    "        return nums[:j+1]\n",
    "\n",
    "nums=[0,0,1,1,1,2,2,3,3,4,4,4]\n",
    "a=Solution()\n",
    "a.RemoveDuplicatesSortedArray(nums)      \n",
    "        "
   ]
  },
  {
   "cell_type": "code",
   "execution_count": null,
   "metadata": {},
   "outputs": [],
   "source": [
    "class Solution(object):\n",
    "    def removeDuplicates(self, nums):\n",
    "        if not nums: return 0\n",
    "        j = 0\n",
    "        for i in range(1, len(nums)):\n",
    "            if nums[i] != nums[j]:\n",
    "                j += 1\n",
    "                nums[j] = nums[i]\n",
    "        return nums[:j+1]"
   ]
  },
  {
   "cell_type": "code",
   "execution_count": 11,
   "metadata": {},
   "outputs": [
    {
     "name": "stdout",
     "output_type": "stream",
     "text": [
      "[0, 1, 2, 3, 4]\n"
     ]
    }
   ],
   "source": [
    "def f26(nums):\n",
    "    if not nums: return 0\n",
    "    i, j = 0, 0\n",
    "    while i < len(nums) and j < len(nums):\n",
    "        nums[j] = nums[i]\n",
    "        i += 1\n",
    "        while i < len(nums) and nums[i] == nums[j]:\n",
    "            i += 1\n",
    "        j += 1\n",
    "    return nums[:j]\n",
    "nums=[0,0,1,1,1,2,2,3,3,4,4,4]\n",
    "print(f26(nums))\n",
    "            "
   ]
  },
  {
   "cell_type": "code",
   "execution_count": null,
   "metadata": {},
   "outputs": [],
   "source": []
  },
  {
   "cell_type": "code",
   "execution_count": null,
   "metadata": {},
   "outputs": [],
   "source": [
    "482. License Key Formatting\n",
    "\n",
    "You are given a license key represented as a string S which consists only alphanumeric character and dashes. \n",
    "The string is separated into N+1 groups by N dashes.\n",
    "\n",
    "Given a number K, we would want to reformat the strings such that each group contains exactly K characters, \n",
    "except for the first group which could be shorter than K, but still must contain at least one character. \n",
    "Furthermore, there must be a dash inserted between two groups \n",
    "and all lowercase letters should be converted to uppercase.\n",
    "\n",
    "Given a non-empty string S and a number K, format the string according to the rules described above.\n",
    "\n",
    "Example 1:\n",
    "Input: S = \"5F3Z-2e-9-w\", K = 4\n",
    "\n",
    "Output: \"5F3Z-2E9W\"\n",
    "\n",
    "Explanation: The string S has been split into two parts, each part has 4 characters.\n",
    "Note that the two extra dashes are not needed and can be removed.\n",
    "Example 2:\n",
    "Input: S = \"2-5g-3-J\", K = 2\n",
    "\n",
    "Output: \"2-5G-3J\"\n",
    "\n",
    "Explanation: The string S has been split into three parts, each part has 2 characters except the first part as it could be shorter as mentioned above.\n",
    "Note:\n",
    "The length of string S will not exceed 12,000, and K is a positive integer.\n",
    "String S consists only of alphanumerical characters (a-z and/or A-Z and/or 0-9) and dashes(-).\n",
    "String S is non-empty."
   ]
  },
  {
   "cell_type": "code",
   "execution_count": null,
   "metadata": {},
   "outputs": [],
   "source": [
    "class Solution(object):\n",
    "    def licenseKeyFormatting(self, S, K):\n",
    "        S = S.upper().replace('-','')\n",
    "        size = len(S)\n",
    "        s1 = K if size%K==0 else size%K\n",
    "        res = S[:s1]\n",
    "        while s1<size:\n",
    "            res += '-'+S[s1:s1+K]\n",
    "            s1 += K\n",
    "        return res"
   ]
  },
  {
   "cell_type": "code",
   "execution_count": null,
   "metadata": {},
   "outputs": [],
   "source": [
    "#no change for S\n",
    "class Solution:\n",
    "    def licenseKeyFormatting(self, S, K):\n",
    "        tally, res = 0, ''\n",
    "        for idx, c in enumerate(reversed(S)):\n",
    "            if c != '-':\n",
    "                if tally == K:\n",
    "                    res += '-'\n",
    "                    tally = 0\n",
    "                res += c.upper()\n",
    "                tally += 1\n",
    "        return res[::-1]"
   ]
  },
  {
   "cell_type": "code",
   "execution_count": null,
   "metadata": {},
   "outputs": [],
   "source": []
  },
  {
   "cell_type": "code",
   "execution_count": null,
   "metadata": {},
   "outputs": [],
   "source": [
    "849. Maximize Distance to Closest Person\n",
    "\n",
    "In a row of seats, 1 represents a person sitting in that seat, and 0 represents that the seat is empty. \n",
    "\n",
    "There is at least one empty seat, and at least one person sitting.\n",
    "\n",
    "Alex wants to sit in the seat such that the distance between him and the closest person to him is maximized. \n",
    "\n",
    "Return that maximum distance to closest person.\n",
    "\n",
    "Example 1:\n",
    "\n",
    "Input: [1,0,0,0,1,0,1]\n",
    "Output: 2\n",
    "Explanation: \n",
    "If Alex sits in the second open seat (seats[2]), then the closest person has distance 2.\n",
    "If Alex sits in any other open seat, the closest person has distance 1.\n",
    "Thus, the maximum distance to the closest person is 2.\n",
    "Example 2:\n",
    "\n",
    "Input: [1,0,0,0]\n",
    "Output: 3\n",
    "Explanation: \n",
    "If Alex sits in the last seat, the closest person is 3 seats away.\n",
    "This is the maximum distance possible, so the answer is 3.\n",
    "Note:\n",
    "\n",
    "1 <= seats.length <= 20000\n",
    "seats contains only 0s or 1s, at least one 0, and at least one 1."
   ]
  },
  {
   "cell_type": "code",
   "execution_count": null,
   "metadata": {},
   "outputs": [],
   "source": [
    "def maxDistToClosest(self, seats):\n",
    "        res, last, n = 0, -1, len(seats)\n",
    "        for i in range(n):\n",
    "            if seats[i]:\n",
    "                res = max(res, i if last < 0 else (i - last) / 2)\n",
    "                last = i\n",
    "        return max(res, n - last - 1)"
   ]
  },
  {
   "cell_type": "code",
   "execution_count": null,
   "metadata": {},
   "outputs": [],
   "source": [
    "class Solution(object):\n",
    "    def maxDistToClosest(self, seats):\n",
    "        consequentZero, ans = 0, 0\n",
    "        for s in seats:\n",
    "            if s == 0:\n",
    "                consequentZero += 1\n",
    "                ans = max(ans, consequentZero)\n",
    "            else: \n",
    "                consequentZero = 0\n",
    "        ans = (ans + 1) // 2\n",
    "        return max(ans, seats.index(1), seats[::-1].index(1))"
   ]
  },
  {
   "cell_type": "code",
   "execution_count": 695,
   "metadata": {},
   "outputs": [
    {
     "name": "stdout",
     "output_type": "stream",
     "text": [
      "1000\n",
      "1 000\n",
      "['1', '000']\n",
      "[]\n",
      "[3]\n",
      "3\n"
     ]
    }
   ],
   "source": [
    "s=[1,0,0,0,1,1,0,1,1,0,0]\n",
    "s=[1,0,0,0]\n",
    "s1=''.join(str(i) for i in s)\n",
    "print(s1)\n",
    "s2 = s1.replace('01', '0 1').replace('10','1 0')\n",
    "print(s2)\n",
    "s3 = s2.split()\n",
    "print(s3)\n",
    "s4 = [len(v)//2 for i,v in enumerate(s3) if i>0 and i<len(s3)-1 and int(v)==0]\n",
    "print(s4)\n",
    "s5 = [len(v) for i,v in enumerate(s3) if (i==0 or i==len(s3)-1) and int(v)==0]\n",
    "print(s5)\n",
    "if s5 and s4:\n",
    "    print(max(max(s5), max(s4)))\n",
    "elif s5:\n",
    "    print(max(s5))\n",
    "else:\n",
    "    print(max(s4))"
   ]
  },
  {
   "cell_type": "code",
   "execution_count": null,
   "metadata": {},
   "outputs": [],
   "source": []
  },
  {
   "cell_type": "code",
   "execution_count": null,
   "metadata": {},
   "outputs": [],
   "source": [
    "198. House Robber"
   ]
  },
  {
   "cell_type": "code",
   "execution_count": null,
   "metadata": {},
   "outputs": [],
   "source": [
    "class Solution():\n",
    "    def HourseRobber(self,nums):\n",
    "        last,now=0,0\n",
    "        for i in nums:\n",
    "            last,now=now,max(last+i,now)\n",
    "        return now\n",
    "    \n",
    "nums=[2,7,9,3,1]\n",
    "a=Solution()\n",
    "a.HourseRobber(nums)\n",
    "nums=[1,2,3,1]\n",
    "a.HourseRobber(nums)"
   ]
  },
  {
   "cell_type": "code",
   "execution_count": null,
   "metadata": {},
   "outputs": [],
   "source": []
  },
  {
   "cell_type": "code",
   "execution_count": null,
   "metadata": {},
   "outputs": [],
   "source": [
    "38. Count and Say\n"
   ]
  },
  {
   "cell_type": "code",
   "execution_count": null,
   "metadata": {},
   "outputs": [],
   "source": [
    "class Solution():\n",
    "    def CountandSay(self,n):\n",
    "        res=\"1\"\n",
    "        for i in range(n-1):\n",
    "            ch, tmp, count =  res[0],  '',0\n",
    "            for s in res:\n",
    "                if s == ch:\n",
    "                    count += 1\n",
    "                else:\n",
    "                    tmp += str(count) + ch\n",
    "                    ch = s\n",
    "                    count = 1\n",
    "            res = tmp + str(count) + ch\n",
    "        return res\n",
    "n=5\n",
    "a=Solution()\n",
    "a.CountandSay(n)"
   ]
  },
  {
   "cell_type": "code",
   "execution_count": null,
   "metadata": {},
   "outputs": [],
   "source": []
  },
  {
   "cell_type": "code",
   "execution_count": null,
   "metadata": {},
   "outputs": [],
   "source": [
    "35. Search Insert Position\n",
    "\n",
    "Given a sorted array and a target value, return the index if the target is found. \n",
    "If not, return the index where it would be if it were inserted in order.\n"
   ]
  },
  {
   "cell_type": "code",
   "execution_count": null,
   "metadata": {},
   "outputs": [],
   "source": [
    "class solution():\n",
    "    def SearchInsertPosition2(self,nums,target):\n",
    "        low,high=0,len(nums)-1\n",
    "        while low<=high:\n",
    "            mid=(low+high)//2\n",
    "            if nums[mid]<target:\n",
    "                low=mid+1\n",
    "            else:\n",
    "                high=mid-1\n",
    "        return low\n",
    "nums,target = [1,3,5,7],6\n",
    "a=solution()\n",
    "a.SearchInsertPosition2(nums,target)"
   ]
  },
  {
   "cell_type": "code",
   "execution_count": null,
   "metadata": {},
   "outputs": [],
   "source": []
  },
  {
   "cell_type": "code",
   "execution_count": null,
   "metadata": {},
   "outputs": [],
   "source": [
    "645. Set Mismatch\n",
    "\n",
    "The set S originally contains numbers from 1 to n. But unfortunately, due to the data error, \n",
    "one of the numbers in the set got duplicated to another number in the set, \n",
    "which results in repetition of one number and loss of another number.\n",
    "\n",
    "Given an array nums representing the data status of this set after the error. \n",
    "Your task is to firstly find the number occurs twice and then find the number that is missing. \n",
    "\n",
    "Return them in the form of an array.\n",
    "\n",
    "Example 1:\n",
    "Input: nums = [1,2,2,4]\n",
    "Output: [2,3]\n",
    "Note:\n",
    "The given array size will in the range [2, 10000].\n",
    "The given array's numbers won't have any order."
   ]
  },
  {
   "cell_type": "code",
   "execution_count": 703,
   "metadata": {},
   "outputs": [
    {
     "name": "stdout",
     "output_type": "stream",
     "text": [
      "2 3\n"
     ]
    }
   ],
   "source": [
    "nums=[1,2,2,4]\n",
    "n1 = sum(nums)-sum(set(nums))\n",
    "n=len(nums)\n",
    "n2 = n*(n+1)//2-sum(set(nums))\n",
    "print(n1,n2)"
   ]
  },
  {
   "cell_type": "code",
   "execution_count": null,
   "metadata": {},
   "outputs": [],
   "source": [
    "def findErrorNums(self, A):\n",
    "    N = len(A)\n",
    "    count = [0] * (N+1)\n",
    "    for x in A:\n",
    "        count[x] += 1\n",
    "    for x in range(1, len(A)+1):\n",
    "        if count[x] == 2:\n",
    "            twice = x\n",
    "        if count[x] == 0:\n",
    "            never = x\n",
    "    return twice, never"
   ]
  },
  {
   "cell_type": "code",
   "execution_count": null,
   "metadata": {},
   "outputs": [],
   "source": []
  },
  {
   "cell_type": "code",
   "execution_count": null,
   "metadata": {},
   "outputs": [],
   "source": [
    "734. Sentence Similarity\n",
    "Given two sentences words1, words2 (each represented as an array of strings), \n",
    "and a list of similar word pairs pairs, determine if two sentences are similar.\n",
    "\n",
    "For example, \"great acting skills\" and \"fine drama talent\" are similar, \n",
    "if the similar word pairs are pairs = [[\"great\", \"fine\"], [\"acting\",\"drama\"], [\"skills\",\"talent\"]].\n",
    "\n",
    "Note that the similarity relation is not transitive. For example, if \"great\" and \"fine\" are similar, and \"fine\" and \"good\" are similar, \"great\" and \"good\" are not necessarily similar.\n",
    "\n",
    "However, similarity is symmetric. For example, \"great\" and \"fine\" being similar is the same as \"fine\" and \"great\" being similar.\n",
    "\n",
    "Also, a word is always similar with itself. For example, the sentences words1 = [\"great\"], words2 = [\"great\"], pairs = [] are similar, even though there are no specified similar word pairs.\n",
    "\n",
    "Finally, sentences can only be similar if they have the same number of words. So a sentence like words1 = [\"great\"] can never be similar to words2 = [\"doubleplus\",\"good\"].\n",
    "\n",
    "Note:\n",
    "\n",
    "The length of words1 and words2 will not exceed 1000.\n",
    "The length of pairs will not exceed 2000.\n",
    "The length of each pairs[i] will be 2.\n",
    "The length of each words[i] and pairs[i][j] will be in the range [1, 20]."
   ]
  },
  {
   "cell_type": "code",
   "execution_count": null,
   "metadata": {},
   "outputs": [],
   "source": [
    "class Solution(object):\n",
    "    def areSentencesSimilar(self, words1, words2, pairs):\n",
    "        \"\"\"\n",
    "        :type words1: List[str]\n",
    "        :type words2: List[str]\n",
    "        :type pairs: List[List[str]]\n",
    "        :rtype: bool\n",
    "        \"\"\"\n",
    "        if len(words1) != len(words2): return False\n",
    "        similars = collections.defaultdict(set)\n",
    "        for w1, w2 in pairs:\n",
    "            similars[w1].add(w2)\n",
    "            similars[w2].add(w1)\n",
    "        for w1, w2 in zip(words1, words2):\n",
    "            if w1 != w2 and w2 not in similars[w1]:\n",
    "                return False\n",
    "        return True\n"
   ]
  },
  {
   "cell_type": "code",
   "execution_count": null,
   "metadata": {},
   "outputs": [],
   "source": []
  },
  {
   "cell_type": "code",
   "execution_count": null,
   "metadata": {},
   "outputs": [],
   "source": [
    "747. Largest Number At Least Twice of Others\n",
    "\n",
    "In a given integer array nums, there is always exactly one largest element.\n",
    "\n",
    "Find whether the largest element in the array is at least twice as much as every other number in the array.\n",
    "\n",
    "If it is, return the index of the largest element, otherwise return -1.\n",
    "\n",
    "Example 1:\n",
    "\n",
    "Input: nums = [3, 6, 1, 0]\n",
    "Output: 1\n",
    "Explanation: 6 is the largest integer, and for every other number in the array x,\n",
    "6 is more than twice as big as x.  The index of value 6 is 1, so we return 1.\n",
    " \n",
    "\n",
    "Example 2:\n",
    "\n",
    "Input: nums = [1, 2, 3, 4]\n",
    "Output: -1\n",
    "Explanation: 4 isn't at least as big as twice the value of 3, so we return -1.\n",
    " \n",
    "\n",
    "Note:\n",
    "\n",
    "nums will have a length in the range [1, 50].\n",
    "Every nums[i] will be an integer in the range [0, 99].\n"
   ]
  },
  {
   "cell_type": "code",
   "execution_count": null,
   "metadata": {},
   "outputs": [],
   "source": [
    "class Solution:\n",
    "    def dominantIndex(self, nums: List[int]) -> int:\n",
    "        largest, secondLargest, largestIndex = nums[0], -float('inf'), 0\n",
    "        for i in range(1, len(nums)):\n",
    "            if nums[i] > largest:\n",
    "                largest, secondLargest, largestIndex = nums[i], largest, i\n",
    "            elif nums[i] > secondLargest:\n",
    "                secondLargest = nums[i]\n",
    "        return largestIndex if largest >= 2 * secondLargest else -1"
   ]
  },
  {
   "cell_type": "code",
   "execution_count": 706,
   "metadata": {},
   "outputs": [],
   "source": [
    "class solution():\n",
    "    def ominantIndex(self, nums):\n",
    "        n1 = max(nums)\n",
    "        idx_n1=nums.index(n1)\n",
    "        if idx_n1==len(nums)-1: \n",
    "            n2 = max(nums[:-1])\n",
    "        else:\n",
    "            n2 = max(nums[:idx_n1]+nums[idx_n1+1:])\n",
    "        print(n1,n2)\n",
    "        return (idx_n1 if n1>=2*n2 else -1)\n"
   ]
  },
  {
   "cell_type": "code",
   "execution_count": 708,
   "metadata": {},
   "outputs": [
    {
     "name": "stdout",
     "output_type": "stream",
     "text": [
      "4 3\n"
     ]
    }
   ],
   "source": [
    "nums = [3, 6, 1, 0]\n",
    "nums = [1,2,3,4]\n",
    "n1 = max(nums)\n",
    "idx_n1=nums.index(n1)\n",
    "if idx_n1==len(nums)-1: \n",
    "    n2 = max(nums[:-1])\n",
    "else:\n",
    "    n2 = max(nums[:idx_n1]+nums[idx_n1+1:])\n",
    "print(n1,n2)"
   ]
  },
  {
   "cell_type": "code",
   "execution_count": null,
   "metadata": {},
   "outputs": [],
   "source": []
  },
  {
   "cell_type": "code",
   "execution_count": null,
   "metadata": {},
   "outputs": [],
   "source": [
    "263. Ugly Number\n",
    "\n",
    "Write a program to check whether a given number is an ugly number.\n",
    "\n",
    "Ugly numbers are positive numbers whose prime factors only include 2, 3, 5."
   ]
  },
  {
   "cell_type": "code",
   "execution_count": null,
   "metadata": {},
   "outputs": [],
   "source": [
    "class Solution():\n",
    "    def UglyNumber(self,n):\n",
    "        if n==0: return False\n",
    "        while n%2==0:\n",
    "            n=n//2\n",
    "        while n%3==0:\n",
    "            n=n//3\n",
    "        while n%5==0:\n",
    "            n=n//5\n",
    "        return n==1\n",
    "n=14\n",
    "a=Solution()\n",
    "a.UglyNumber(n)\n",
    "n=75*12\n",
    "a.UglyNumber(n)"
   ]
  },
  {
   "cell_type": "code",
   "execution_count": null,
   "metadata": {},
   "outputs": [],
   "source": []
  },
  {
   "cell_type": "code",
   "execution_count": null,
   "metadata": {},
   "outputs": [],
   "source": [
    "342. Power of Four\n"
   ]
  },
  {
   "cell_type": "code",
   "execution_count": null,
   "metadata": {},
   "outputs": [],
   "source": [
    "def PowerofTwo2(self,n):\n",
    "        if n<=0: return False\n",
    "        while n%4==0:\n",
    "            n//=4\n",
    "        return n==1"
   ]
  },
  {
   "cell_type": "code",
   "execution_count": 711,
   "metadata": {},
   "outputs": [
    {
     "name": "stdout",
     "output_type": "stream",
     "text": [
      "[1, 4, 16, 64, 256, 1024, 4096, 16384, 65536, 262144, 1048576, 4194304, 16777216, 67108864, 268435456, 1073741824]\n"
     ]
    },
    {
     "data": {
      "text/plain": [
       "True"
      ]
     },
     "execution_count": 711,
     "metadata": {},
     "output_type": "execute_result"
    }
   ],
   "source": [
    "class solution():\n",
    "    def powerofFour(self,N):\n",
    "        ref,n=[],0\n",
    "        while 4**n<2**32-1:\n",
    "            ref.append(4**n)\n",
    "            n +=1\n",
    "        #print(ref)\n",
    "        return (N in ref)\n",
    "N=16\n",
    "a=solution()\n",
    "a.powerofFour(N)"
   ]
  },
  {
   "cell_type": "code",
   "execution_count": null,
   "metadata": {},
   "outputs": [],
   "source": [
    "#Algorithm\n",
    "\n",
    "#Must also be a power of 2 and have just one set bit. Use n&(n-1).\n",
    "#Only the even numbered bit should be set like 2^2 or 2^4 or 2^6. Use mask 0x55555555.\n",
    "#Notice 0x55555555 is: 01010101010101010101010101010101. num & mask != 0.\n",
    "class Solution(object):\n",
    "    def isPowerOfFour(self, num):\n",
    "        \"\"\"\n",
    "        :type num: int\n",
    "        :rtype: bool\n",
    "        \"\"\"\n",
    "        if num == 1:\n",
    "            return True\n",
    "        val = 1\n",
    "        mask = 0x55555555\n",
    "        return (num&(num-1) == 0) and ((num & mask) != 0)"
   ]
  },
  {
   "cell_type": "code",
   "execution_count": null,
   "metadata": {},
   "outputs": [],
   "source": []
  },
  {
   "cell_type": "code",
   "execution_count": null,
   "metadata": {},
   "outputs": [],
   "source": [
    "716. Max Stack\n",
    "Design a max stack that supports push, pop, top, peekMax and popMax.\n",
    "\n",
    "push(x) -- Push element x onto stack.\n",
    "pop() -- Remove the element on top of the stack and return it.\n",
    "top() -- Get the element on the top.\n",
    "peekMax() -- Retrieve the maximum element in the stack.\n",
    "popMax() -- Retrieve the maximum element in the stack, and remove it. If you find more than one maximum elements, only remove the top-most one.\n",
    " \n",
    "\n",
    "Example 1:\n",
    "\n",
    "MaxStack stack = new MaxStack();\n",
    "stack.push(5); \n",
    "stack.push(1);\n",
    "stack.push(5);\n",
    "stack.top(); -> 5\n",
    "stack.popMax(); -> 5\n",
    "stack.top(); -> 1\n",
    "stack.peekMax(); -> 5\n",
    "stack.pop(); -> 1\n",
    "stack.top(); -> 5\n",
    " \n",
    "\n",
    "Note:\n",
    "\n",
    "-1e7 <= x <= 1e7\n",
    "Number of operations won't exceed 10000.\n",
    "The last four operations won't be called when stack is empty."
   ]
  },
  {
   "cell_type": "code",
   "execution_count": null,
   "metadata": {},
   "outputs": [],
   "source": [
    "class MaxStack(object):\n",
    "\n",
    "    def __init__(self):\n",
    "        \"\"\"\n",
    "        initialize your data structure here.\n",
    "        \"\"\"\n",
    "        self.data = []\n",
    "        \n",
    "\n",
    "    def push(self, x):\n",
    "        \"\"\"\n",
    "        :type x: int\n",
    "        :rtype: None\n",
    "        \"\"\"\n",
    "        self.data.insert(0, x)\n",
    "\n",
    "    def pop(self):\n",
    "        \"\"\"\n",
    "        :rtype: int\n",
    "        \"\"\"\n",
    "        return self.data.pop(0)\n",
    "\n",
    "    def top(self):\n",
    "        \"\"\"\n",
    "        :rtype: int\n",
    "        \"\"\"\n",
    "        return self.data[0]\n",
    "\n",
    "    def peekMax(self):\n",
    "        \"\"\"\n",
    "        :rtype: int\n",
    "        \"\"\"\n",
    "        return max(self.data)\n",
    "\n",
    "    def popMax(self):\n",
    "        \"\"\"\n",
    "        :rtype: int\n",
    "        \"\"\"\n",
    "        ans = max(self.data)\n",
    "        self.data.remove(ans)\n",
    "        return ans\n",
    "\n",
    "\n",
    "# Your MaxStack object will be instantiated and called as such:\n",
    "# obj = MaxStack()\n",
    "# obj.push(x)\n",
    "# param_2 = obj.pop()\n",
    "# param_3 = obj.top()\n",
    "# param_4 = obj.peekMax()\n",
    "# param_5 = obj.popMax()\n",
    "\n"
   ]
  },
  {
   "cell_type": "code",
   "execution_count": null,
   "metadata": {},
   "outputs": [],
   "source": [
    "#One way is to use two stacks. one stack is responsible for normal stack operations, while the other is used to store the maximum values. In this way, the first four methods are all O(1), but the last operation is O(N). \n",
    "\n",
    "class MaxStack(object):\n",
    "    def __init__(self):  \n",
    "     \"\"\"  \n",
    "     initialize your data structure here.  \n",
    "     \"\"\"\n",
    "        self.l = []\n",
    "        self.maxL = []  \n",
    "    \n",
    "    def push(self, x):  \n",
    "     \"\"\"  \n",
    "     :type x: int  \n",
    "     :rtype: void  \n",
    "     \"\"\"\n",
    "        self.l.append(x)\n",
    "        if not self.maxL:\n",
    "            self.maxL.append(x)\n",
    "        else:\n",
    "            self.maxL.append( max(x, self.maxL[-1]) )\n",
    "        return\n",
    "\n",
    "    def pop(self):  \n",
    "     \"\"\"  \n",
    "     :rtype: int  \n",
    "     \"\"\"\n",
    "        v = self.l.pop()\n",
    "        self.maxL.pop()\n",
    "        return v  \n",
    "    \n",
    "    def top(self):  \n",
    "     \"\"\"  \n",
    "     :rtype: int  \n",
    "     \"\"\"\n",
    "        return self.l[-1]  \n",
    "    \n",
    "    def peekMax(self):  \n",
    "     \"\"\"  \n",
    "     :rtype: int  \n",
    "     \"\"\"\n",
    "        return self.maxL[-1]  \n",
    "    \n",
    "    def popMax(self):  \n",
    "     \"\"\"  \n",
    "     :rtype: int  \n",
    "     \"\"\"\n",
    "        maxValue = self.maxL[-1]\n",
    "        poppedValues = []\n",
    "        \n",
    "        v = self.l.pop()\n",
    "        while v != maxValue:\n",
    "            poppedValues.append(v)\n",
    "            v = self.l.pop()\n",
    "            \n",
    "        for v in poppedValues[::-1]:\n",
    "            self.l.push(v)\n",
    "        return maxValue                                                          \n"
   ]
  },
  {
   "cell_type": "code",
   "execution_count": null,
   "metadata": {},
   "outputs": [],
   "source": []
  },
  {
   "cell_type": "code",
   "execution_count": null,
   "metadata": {},
   "outputs": [],
   "source": [
    "459. Repeated Substring Pattern\n",
    "\n",
    "Given a non-empty string check if it can be constructed by taking a substring of it \n",
    "and appending multiple copies of the substring together. \n",
    "You may assume the given string consists of lowercase English letters only and its length will not exceed 10000.\n",
    "\n",
    "Example 1:\n",
    "\n",
    "Input: \"abab\"\n",
    "Output: True\n",
    "Explanation: It's the substring \"ab\" twice.\n",
    "Example 2:\n",
    "\n",
    "Input: \"aba\"\n",
    "Output: False\n",
    "Example 3:\n",
    "\n",
    "Input: \"abcabcabcabc\"\n",
    "Output: True\n",
    "Explanation: It's the substring \"abc\" four times. (And the substring \"abcabc\" twice.)"
   ]
  },
  {
   "cell_type": "code",
   "execution_count": 719,
   "metadata": {},
   "outputs": [
    {
     "name": "stdout",
     "output_type": "stream",
     "text": [
      "{'a': 0}\n",
      "{'a': 0, 'b': 1}\n",
      "{'a': 0, 'b': 1, 'c': 2}\n",
      "abc\n"
     ]
    },
    {
     "data": {
      "text/plain": [
       "True"
      ]
     },
     "execution_count": 719,
     "metadata": {},
     "output_type": "execute_result"
    }
   ],
   "source": [
    "class solution():\n",
    "    def repeatedSub(self,strs):\n",
    "        dic={}\n",
    "        for i, s in enumerate(strs[:len(strs)//2]):\n",
    "            if s in dic:\n",
    "                w=strs[:i]\n",
    "                print(w)\n",
    "                if w*(len(strs)//i)==strs:\n",
    "                    return True\n",
    "            else:\n",
    "                dic[s]=i\n",
    "                print(dic)\n",
    "        return False\n",
    "strs=\"abab\"\n",
    "strs=\"aba\"\n",
    "strs=\"abcabcabcabc\"\n",
    "a=solution()\n",
    "a.repeatedSub(strs)"
   ]
  },
  {
   "cell_type": "code",
   "execution_count": null,
   "metadata": {},
   "outputs": [],
   "source": [
    "Basic idea:\n",
    "\n",
    "First char of input string is first char of repeated substring\n",
    "Last char of input string is last char of repeated substring\n",
    "Let S1 = S + S (where S in input string)\n",
    "Remove 1 and last char of S1. Let this be S2\n",
    "If S exists in S2 then return true else false\n",
    "Let i be index in S2 where S starts then repeated substring length i + 1 and repeated substring S[0: i+1]\n",
    "def repeatedSubstringPattern(self, str):\n",
    "\n",
    "        \"\"\"\n",
    "        :type str: str\n",
    "        :rtype: bool\n",
    "        \"\"\"\n",
    "        if not str:\n",
    "            return False\n",
    "            \n",
    "        ss = (str + str)[1:-1]\n",
    "        return ss.find(str) != -1"
   ]
  },
  {
   "cell_type": "code",
   "execution_count": 720,
   "metadata": {},
   "outputs": [
    {
     "name": "stdout",
     "output_type": "stream",
     "text": [
      "bababa\n"
     ]
    }
   ],
   "source": [
    "\n",
    "strs=\"abab\"\n",
    "ss = (strs + strs)[1:-1]\n",
    "print(ss)"
   ]
  },
  {
   "cell_type": "code",
   "execution_count": null,
   "metadata": {},
   "outputs": [],
   "source": [
    "n = len(strs)\n",
    "for i in range(1, n//2):\n",
    "    if n%i==0:\n",
    "        if strs[:i]*(n//i)==strs:\n",
    "            return True\n",
    "return False\n",
    "        "
   ]
  },
  {
   "cell_type": "code",
   "execution_count": null,
   "metadata": {},
   "outputs": [],
   "source": []
  },
  {
   "cell_type": "code",
   "execution_count": null,
   "metadata": {},
   "outputs": [],
   "source": [
    "367. Valid Perfect Square\n",
    "\n",
    "Given a positive integer num, write a function which returns True if num is a perfect square else False.\n",
    "\n",
    "Note: Do not use any built-in library function such as sqrt.\n",
    "\n",
    "Example 1:\n",
    "\n",
    "Input: 16\n",
    "Output: true\n",
    "Example 2:\n",
    "\n",
    "Input: 14\n",
    "Output: false"
   ]
  },
  {
   "cell_type": "code",
   "execution_count": null,
   "metadata": {},
   "outputs": [],
   "source": [
    "class Solution(object):\n",
    "    def isPerfectSquare(self, num):\n",
    "        b, e = 1, (num >> 1) + 1\n",
    "        #b = 1 << max(num.bit_length() - 1, 0) / 2\n",
    "        #e = 2 * b\n",
    "        while b <= e:\n",
    "            mid = (b + e) >> 1\n",
    "            sq = mid * mid\n",
    "            if sq == num:\n",
    "                return True\n",
    "            if sq > num:\n",
    "                e = mid - 1\n",
    "            else:\n",
    "                b = mid + 1\n",
    "        return False"
   ]
  },
  {
   "cell_type": "code",
   "execution_count": null,
   "metadata": {},
   "outputs": [],
   "source": [
    "class Solution(object):\n",
    "    def isPerfectSquare(self, num):\n",
    "        \"\"\"\n",
    "        :type num: int\n",
    "        :rtype: bool\n",
    "        \"\"\"\n",
    "        low, high = 1, num\n",
    "        while low <= high:\n",
    "            mid = low + (high-low)//2\n",
    "            sq = mid*mid\n",
    "            if sq == num:\n",
    "                return True\n",
    "            elif sq > num:\n",
    "                high = mid - 1\n",
    "            else:\n",
    "                low = mid + 1\n",
    "        return False"
   ]
  },
  {
   "cell_type": "code",
   "execution_count": null,
   "metadata": {},
   "outputs": [],
   "source": []
  },
  {
   "cell_type": "code",
   "execution_count": null,
   "metadata": {},
   "outputs": [],
   "source": [
    "225. Implement Stack using Queues"
   ]
  },
  {
   "cell_type": "code",
   "execution_count": null,
   "metadata": {},
   "outputs": [],
   "source": [
    "from Queue import Queue\n",
    "class stack():\n",
    "    def __init__(self):\n",
    "        self.q1,self.q2=Queue(),Queue()\n",
    "        return\n",
    "    \n",
    "    def push(self,x):\n",
    "        self.q1.put(x)\n",
    "        return\n",
    "    \n",
    "    def pop(self):\n",
    "        while self.q1.qsize()>1:\n",
    "            self.q2.put(self.q1.get())\n",
    "        if self.q1.qsize==1:\n",
    "            self.q1, self.q2=self.q2, self.q1 #exchange q1 and q2\n",
    "            res = self.q2.get()\n",
    "            with self.q2.mutex:\n",
    "                self.q2.queue.clear()\n",
    "            return res\n",
    "                    \n",
    "    def top(self):\n",
    "        while self.q1.qsize()>1:\n",
    "            self.q2.put(self.q1.get())\n",
    "        if self.q1.qsize==1:\n",
    "            res = self.q1.get()\n",
    "            self.q2.put(res)\n",
    "            self.q1, self.q2=self.q2, self.q1\n",
    "            return res\n",
    "    \n",
    "    def empty(self):\n",
    "        return not len(self.q1.qsize())"
   ]
  },
  {
   "cell_type": "code",
   "execution_count": null,
   "metadata": {},
   "outputs": [],
   "source": []
  },
  {
   "cell_type": "code",
   "execution_count": null,
   "metadata": {},
   "outputs": [],
   "source": [
    "597. Friend Requests I: Overall Acceptance Rate\n",
    "#SQL\n",
    "#Write a query to find the overall acceptance rate of requests rounded to 2 decimals, which is the number of acceptance divide the number of requests.\n",
    "select\n",
    "round(ifnull(select count(*) from (select distinct requester_id, accepter_id from request_accepted)/\n",
    "           select count(*) from (select distinct sender_id, send_to_id from friend_request), 0), 2) as accept_rate;\n",
    "\n"
   ]
  },
  {
   "cell_type": "code",
   "execution_count": null,
   "metadata": {},
   "outputs": [],
   "source": []
  },
  {
   "cell_type": "code",
   "execution_count": null,
   "metadata": {},
   "outputs": [],
   "source": [
    "374. Guess Number Higher or Lower\n",
    "\n",
    "We are playing the Guess Game. The game is as follows:\n",
    "\n",
    "I pick a number from 1 to n. You have to guess which number I picked.\n",
    "\n",
    "Every time you guess wrong, I'll tell you whether the number is higher or lower.\n",
    "\n",
    "You call a pre-defined API guess(int num) which returns 3 possible results (-1, 1, or 0):\n",
    "\n",
    "-1 : My number is lower\n",
    " 1 : My number is higher\n",
    " 0 : Congrats! You got it!\n",
    "Example :\n",
    "\n",
    "Input: n = 10, pick = 6\n",
    "Output: 6"
   ]
  },
  {
   "cell_type": "code",
   "execution_count": null,
   "metadata": {},
   "outputs": [],
   "source": [
    "class Solution(object):\n",
    "    def guessNumber(self, n):\n",
    "        l, r, g = 1, n, 1\n",
    "        while g and l <= r:\n",
    "            m = (l + r) // 2\n",
    "            g = guess(m)\n",
    "            if g == 1:\n",
    "                l = m + 1\n",
    "            else:\n",
    "                r = m\n",
    "        return m"
   ]
  },
  {
   "cell_type": "code",
   "execution_count": null,
   "metadata": {},
   "outputs": [],
   "source": [
    "643. Maximum Average Subarray I\n",
    "\n",
    "Given an array consisting of n integers, \n",
    "find the contiguous subarray of given length k that has the maximum average value. \n",
    "And you need to output the maximum average value.\n",
    "\n",
    "Example 1:\n",
    "\n",
    "Input: [1,12,-5,-6,50,3], k = 4\n",
    "Output: 12.75\n",
    "Explanation: Maximum average is (12-5-6+50)/4 = 51/4 = 12.75\n",
    " \n",
    "\n",
    "Note:\n",
    "\n",
    "1 <= k <= n <= 30,000.\n",
    "Elements of the given array will be in the range [-10,000, 10,000].\n",
    " "
   ]
  },
  {
   "cell_type": "code",
   "execution_count": null,
   "metadata": {},
   "outputs": [],
   "source": [
    "#Using prefix sums (where sums[i] is the sum of the first i numbers) to compute subarray sums.\n",
    "\n",
    "def findMaxAverage(self, nums, k):\n",
    "    sums = [0] + list(itertools.accumulate(nums))\n",
    "    return max(map(operator.sub, sums[k:], sums)) / k\n",
    "#NumPy version (requires import numpy as np):\n",
    "\n",
    "def findMaxAverage(self, nums, k):\n",
    "    sums = np.cumsum([0] + nums)\n",
    "    return int(max(sums[k:] - sums[:-k])) / k"
   ]
  },
  {
   "cell_type": "code",
   "execution_count": null,
   "metadata": {},
   "outputs": [],
   "source": [
    "#sliding window\n",
    "def findMaxAverage(self, A, K):\n",
    "    su = 0\n",
    "    ma = float('-inf')\n",
    "    for i, x in enumerate(A):\n",
    "        su += x\n",
    "        if i >= K:\n",
    "            su -= A[i-K]\n",
    "        if i >= K - 1:\n",
    "            ma = max(ma, su)\n",
    "    return ma / float(K)"
   ]
  },
  {
   "cell_type": "code",
   "execution_count": null,
   "metadata": {},
   "outputs": [],
   "source": [
    "#prefix sums\n",
    "def findMaxAverage(self, A, K):\n",
    "    P = [0]\n",
    "    for x in A:\n",
    "        P.append(P[-1] + x)\n",
    "\n",
    "    ma = max(P[i+K] - P[i] \n",
    "             for i in xrange(len(A) - K + 1))\n",
    "    return ma / float(K)"
   ]
  },
  {
   "cell_type": "code",
   "execution_count": null,
   "metadata": {},
   "outputs": [],
   "source": [
    "class Solution:\n",
    "    def findMaxAverage(self, nums, k):\n",
    "        \"\"\"\n",
    "        :type nums: List[int]\n",
    "        :type k: int\n",
    "        :rtype: float\n",
    "        \"\"\"\n",
    "        if len(nums) < k:\n",
    "            return 0.0\n",
    "        max_so_far = sum_so_far = sum(nums[:k])\n",
    "        for i in range(k, len(nums)):\n",
    "            sum_so_far = sum_so_far + nums[i] - nums[i-k]\n",
    "            max_so_far = max(max_so_far, sum_so_far)\n",
    "        return float(max_so_far)/k"
   ]
  },
  {
   "cell_type": "code",
   "execution_count": null,
   "metadata": {},
   "outputs": [],
   "source": []
  },
  {
   "cell_type": "code",
   "execution_count": null,
   "metadata": {},
   "outputs": [],
   "source": [
    "67. Add Binary\n",
    "Given two binary strings, return their sum (also a binary string)."
   ]
  },
  {
   "cell_type": "code",
   "execution_count": 722,
   "metadata": {},
   "outputs": [
    {
     "name": "stdout",
     "output_type": "stream",
     "text": [
      "10101\n"
     ]
    }
   ],
   "source": [
    "a = \"1010\"\n",
    "b = \"1011\"\n",
    "print(format(int(a,2)+int(b,2),\"b\"))"
   ]
  },
  {
   "cell_type": "code",
   "execution_count": null,
   "metadata": {},
   "outputs": [],
   "source": [
    "class Solution():\n",
    "    def AddBinary(self,a,b):\n",
    "        i, j, carry, res=len(a)-1, len(b)-1, 0, \"\"\n",
    "        while i>=0 or j>=0 or carry:\n",
    "            if i>=0: \n",
    "                carry += int(a[i])\n",
    "                i -= 1\n",
    "            if j>=0:\n",
    "                carry += int(b[j])\n",
    "                j -= 1\n",
    "            carry, d = divmod(carry, 2)\n",
    "            res = str(d) + res\n",
    "        return res\n",
    "\n",
    "b1,b2=\"1010\",\"1011\"\n",
    "a=Solution()\n",
    "a.AddBinary(b1,b2)"
   ]
  },
  {
   "cell_type": "code",
   "execution_count": null,
   "metadata": {},
   "outputs": [],
   "source": []
  },
  {
   "cell_type": "code",
   "execution_count": null,
   "metadata": {},
   "outputs": [],
   "source": [
    "501. Find Mode in Binary Search Tree\n",
    "\n",
    "Given a binary search tree (BST) with duplicates, \n",
    "find all the mode(s) (the most frequently occurred element) in the given BST.\n",
    "\n",
    "Assume a BST is defined as follows:\n",
    "\n",
    "The left subtree of a node contains only nodes with keys less than or equal to the node's key.\n",
    "The right subtree of a node contains only nodes with keys greater than or equal to the node's key.\n",
    "Both the left and right subtrees must also be binary search trees.\n",
    " \n",
    "\n",
    "For example:\n",
    "Given BST [1,null,2,2],\n",
    "\n",
    "   1\n",
    "    \\\n",
    "     2\n",
    "    /\n",
    "   2\n",
    " \n",
    "\n",
    "return [2].\n",
    "\n",
    "Note: If a tree has more than one mode, you can return them in any order.\n",
    "\n",
    "Follow up: Could you do that without using any extra space? (Assume that the implicit stack space incurred due to recursion does not count)."
   ]
  },
  {
   "cell_type": "code",
   "execution_count": null,
   "metadata": {},
   "outputs": [],
   "source": [
    "#Let's first visit every node in the tree and count it's value. We can traverse the tree with a dfs.\n",
    "#After we have every value counted, let's look at values with the highest count and return all of them.\n",
    "\n",
    "class solution():\n",
    "    def FindMode(self,root):\n",
    "        if not root: return []\n",
    "        count = collections.Counter()\n",
    "        def dfs(node):\n",
    "            if node:\n",
    "                count[node.val] += 1\n",
    "                dfs(node.left)\n",
    "                dfs(node.right)\n",
    "\n",
    "        dfs(root)\n",
    "        max_ct = max(count.itervalues())\n",
    "        return [k for k, v in count.iteritems() if v == max_ct]\n",
    "\n",
    "#If we are unfamiliar with collections.Counter, we could have also counted the values with a simple dictionary, changing two lines:\n",
    "count = {}\n",
    "count[node.val] = count.get(node.val, 0) + 1\n"
   ]
  },
  {
   "cell_type": "code",
   "execution_count": null,
   "metadata": {},
   "outputs": [],
   "source": [
    "from collections import defaultdict\n",
    "class Solution(object):\n",
    "    def helper(self, root, cache):\n",
    "        if root == None:\n",
    "            return\n",
    "        cache[root.val] += 1\n",
    "        self.helper(root.left, cache)\n",
    "        self.helper(root.right, cache)\n",
    "        return\n",
    "    \n",
    "    def findMode(self, root):\n",
    "        \"\"\"\n",
    "        :type root: TreeNode\n",
    "        :rtype: List[int]\n",
    "        \"\"\"\n",
    "        if root == None:\n",
    "            return []\n",
    "        cache = defaultdict(int)\n",
    "        self.helper(root, cache)\n",
    "        max_freq = max(cache.values())\n",
    "        result = [k for k,v in cache.items() if v == max_freq]\n",
    "        return result"
   ]
  },
  {
   "cell_type": "code",
   "execution_count": null,
   "metadata": {},
   "outputs": [],
   "source": []
  },
  {
   "cell_type": "code",
   "execution_count": null,
   "metadata": {},
   "outputs": [],
   "source": [
    "970. Powerful Integers\n",
    "\n",
    "Given two positive integers x and y, an integer is powerful \n",
    "if it is equal to x^i + y^j for some integers i >= 0 and j >= 0.\n",
    "\n",
    "Return a list of all powerful integers that have value less than or equal to bound.\n",
    "\n",
    "You may return the answer in any order.  In your answer, each value should occur at most once.\n",
    "\n",
    " \n",
    "\n",
    "Example 1:\n",
    "\n",
    "Input: x = 2, y = 3, bound = 10\n",
    "Output: [2,3,4,5,7,9,10]\n",
    "Explanation: \n",
    "2 = 2^0 + 3^0\n",
    "3 = 2^1 + 3^0\n",
    "4 = 2^0 + 3^1\n",
    "5 = 2^1 + 3^1\n",
    "7 = 2^2 + 3^1\n",
    "9 = 2^3 + 3^0\n",
    "10 = 2^0 + 3^2\n",
    "Example 2:\n",
    "\n",
    "Input: x = 3, y = 5, bound = 15\n",
    "Output: [2,4,6,8,10,14]\n",
    " \n",
    "\n",
    "Note:\n",
    "\n",
    "1 <= x <= 100\n",
    "1 <= y <= 100\n",
    "0 <= bound <= 10^6\n"
   ]
  },
  {
   "cell_type": "code",
   "execution_count": null,
   "metadata": {},
   "outputs": [],
   "source": [
    "def powerfulIntegers(self, x, y, bound):\n",
    "        xs = {x**i for i in range(20) if x**i < bound}\n",
    "        ys = {y**i for i in range(20) if y**i < bound}\n",
    "        return list({i + j for i in xs for j in ys if i + j <= bound})"
   ]
  },
  {
   "cell_type": "code",
   "execution_count": null,
   "metadata": {},
   "outputs": [],
   "source": [
    "class Solution(object):\n",
    "    def powerfulIntegers(self, x, y, bound):\n",
    "        \"\"\"\n",
    "        :type x: int\n",
    "        :type y: int\n",
    "        :type bound: int\n",
    "        :rtype: List[int]\n",
    "        \"\"\"\n",
    "        s = set()\n",
    "        stack = [(0, 0)]\n",
    "        while stack:\n",
    "            i, j = stack.pop()\n",
    "            t = x ** i + y ** j\n",
    "            if t <= bound:\n",
    "                s.add(t)\n",
    "                if x > 1:\n",
    "                    stack.append((i+1, j))\n",
    "                if y > 1:\n",
    "                    stack.append((i, j+1))\n",
    "        \n",
    "        return list(s)"
   ]
  },
  {
   "cell_type": "code",
   "execution_count": null,
   "metadata": {},
   "outputs": [],
   "source": [
    "class Solution(object):\n",
    "    def powerfulIntegers(self, x, y, bound):\n",
    "        res = set()\n",
    "        for i in range(20):\n",
    "            for j in range(20):\n",
    "                val = x**i + y**j\n",
    "                if val > bound: break\n",
    "                res.add(val)\n",
    "        return list(res)"
   ]
  },
  {
   "cell_type": "code",
   "execution_count": null,
   "metadata": {},
   "outputs": [],
   "source": []
  },
  {
   "cell_type": "code",
   "execution_count": null,
   "metadata": {},
   "outputs": [],
   "source": []
  },
  {
   "cell_type": "code",
   "execution_count": null,
   "metadata": {},
   "outputs": [],
   "source": [
    "619. Biggest Single Number\n",
    "#SQL\n",
    "select max(num) from (select num, count(1) as total_numb from number group by num) a where total_numb=1;"
   ]
  },
  {
   "cell_type": "code",
   "execution_count": null,
   "metadata": {},
   "outputs": [],
   "source": []
  },
  {
   "cell_type": "code",
   "execution_count": null,
   "metadata": {},
   "outputs": [],
   "source": [
    "303. Range Sum Query - Immutable\n",
    "\n",
    "Given an integer array nums, find the sum of the elements between indices i and j (i ≤ j), inclusive.\n",
    "\n",
    "Example:\n",
    "Given nums = [-2, 0, 3, -5, 2, -1]\n",
    "\n",
    "sumRange(0, 2) -> 1\n",
    "sumRange(2, 5) -> -1\n",
    "sumRange(0, 5) -> -3\n",
    "Note:\n",
    "You may assume that the array does not change.\n",
    "There are many calls to sumRange function."
   ]
  },
  {
   "cell_type": "code",
   "execution_count": 724,
   "metadata": {},
   "outputs": [
    {
     "name": "stdout",
     "output_type": "stream",
     "text": [
      "[0, -2, -2, 1, -4, -2, -3]\n"
     ]
    }
   ],
   "source": [
    "class NumArray(object):\n",
    "    def __init__(self, nums):\n",
    "        \"\"\"\n",
    "        initialize your data structure here.\n",
    "        :type nums: List[int]\n",
    "        \"\"\"\n",
    "        self.accu = [0]\n",
    "        for num in nums: \n",
    "            self.accu += self.accu[-1] + num\n",
    "\n",
    "    def sumRange(self, i, j):\n",
    "        \"\"\"\n",
    "        sum of elements nums[i..j], inclusive.\n",
    "        :type i: int \n",
    "        :type j: int\n",
    "        :rtype: int \n",
    "        \"\"\"\n",
    "        return self.accu[j + 1] - self.accu[i]\n",
    "\n",
    "\n",
    "# Your NumArray object will be instantiated and called as such:\n",
    "# numArray = NumArray(nums)\n",
    "# numArray.sumRange(0, 1)\n",
    "# numArray.sumRange(1, 2)\n",
    "\n",
    "\n",
    "nums = [-2, 0, 3, -5, 2, -1]\n",
    "accu = [0]\n",
    "for num in nums: \n",
    "    accu += accu[-1] + num,\n",
    "print(accu)"
   ]
  },
  {
   "cell_type": "code",
   "execution_count": null,
   "metadata": {},
   "outputs": [],
   "source": []
  },
  {
   "cell_type": "code",
   "execution_count": null,
   "metadata": {},
   "outputs": [],
   "source": [
    "441. Arranging Coins\n",
    "\n",
    "You have a total of n coins that you want to form in a staircase shape, where every k-th row must have exactly k coins.\n",
    "\n",
    "Given n, find the total number of full staircase rows that can be formed.\n",
    "\n",
    "n is a non-negative integer and fits within the range of a 32-bit signed integer.\n",
    "\n",
    "Example 1:\n",
    "\n",
    "n = 5\n",
    "\n",
    "The coins can form the following rows:\n",
    "¤\n",
    "¤ ¤\n",
    "¤ ¤\n",
    "\n",
    "Because the 3rd row is incomplete, we return 2.\n",
    "Example 2:\n",
    "\n",
    "n = 8\n",
    "\n",
    "The coins can form the following rows:\n",
    "¤\n",
    "¤ ¤\n",
    "¤ ¤ ¤\n",
    "¤ ¤\n",
    "\n",
    "Because the 4th row is incomplete, we return 3."
   ]
  },
  {
   "cell_type": "code",
   "execution_count": null,
   "metadata": {},
   "outputs": [],
   "source": [
    "class Solution(object):\n",
    "    def arrangeCoins(self, n):\n",
    "        \"\"\"\n",
    "        :type n: int\n",
    "        :rtype: int\n",
    "        \"\"\"\n",
    "        low, high, ans = 1, n, 0\n",
    "        while low <= high:\n",
    "            mid = (high+low)//2\n",
    "            if mid*(mid+1) <= 2*n:\n",
    "                ans = mid\n",
    "                low = mid + 1\n",
    "            else:\n",
    "                high = mid - 1\n",
    "        return ans\n",
    "\n",
    "from math import sqrt        \n",
    "class Solution(object):\n",
    "    def arrangeCoins(self, n):\n",
    "        \"\"\"\n",
    "        :type n: int\n",
    "        :rtype: int\n",
    "        \"\"\"\n",
    "        return int((sqrt(8*n+1)-1)/2)\n",
    "    \n",
    "class Solution(object):\n",
    "    def arrangeCoins(self, n):\n",
    "        \"\"\"\n",
    "        :type n: int\n",
    "        :rtype: int\n",
    "        \"\"\"\n",
    "        rows, cnt = 1, 0\n",
    "        while n-rows >= 0:\n",
    "            n, rows, cnt = n - rows, rows + 1, cnt + 1\n",
    "        return cnt"
   ]
  },
  {
   "cell_type": "code",
   "execution_count": null,
   "metadata": {},
   "outputs": [],
   "source": []
  },
  {
   "cell_type": "code",
   "execution_count": null,
   "metadata": {},
   "outputs": [],
   "source": [
    "112. Path Sum\n",
    "\n",
    "Given a binary tree and a sum, \n",
    "determine if the tree has a root-to-leaf path such that \n",
    "adding up all the values along the path equals the given sum.\n"
   ]
  },
  {
   "cell_type": "code",
   "execution_count": null,
   "metadata": {},
   "outputs": [],
   "source": [
    "class Solution():\n",
    "    def PathSum(self,root,target):\n",
    "        if not root: return False\n",
    "        stack=[(root,target)]\n",
    "        while stack:\n",
    "            node,ss=stack.pop()\n",
    "            if not node.left and not node.right and node.val==ss:\n",
    "                return True\n",
    "            if node.left:\n",
    "                stack.append((node.left,ss-node.val))\n",
    "            if node.right:\n",
    "                stack.append((node.right,ss-node.val))\n",
    "\n",
    "        "
   ]
  },
  {
   "cell_type": "code",
   "execution_count": null,
   "metadata": {},
   "outputs": [],
   "source": []
  },
  {
   "cell_type": "code",
   "execution_count": null,
   "metadata": {},
   "outputs": [],
   "source": [
    "443. String Compression\n",
    "\n",
    "Given an array of characters, compress it in-place.\n",
    "\n",
    "The length after compression must always be smaller than or equal to the original array.\n",
    "\n",
    "Every element of the array should be a character (not int) of length 1.\n",
    "\n",
    "After you are done modifying the input array in-place, return the new length of the array.\n",
    "\n",
    " \n",
    "Follow up:\n",
    "Could you solve it using only O(1) extra space?\n",
    "\n",
    " \n",
    "Example 1:\n",
    "\n",
    "Input:\n",
    "[\"a\",\"a\",\"b\",\"b\",\"c\",\"c\",\"c\"]\n",
    "\n",
    "Output:\n",
    "Return 6, and the first 6 characters of the input array should be: [\"a\",\"2\",\"b\",\"2\",\"c\",\"3\"]\n",
    "\n",
    "Explanation:\n",
    "\"aa\" is replaced by \"a2\". \"bb\" is replaced by \"b2\". \"ccc\" is replaced by \"c3\".\n",
    " \n",
    "\n",
    "Example 2:\n",
    "\n",
    "Input:\n",
    "[\"a\"]\n",
    "\n",
    "Output:\n",
    "Return 1, and the first 1 characters of the input array should be: [\"a\"]\n",
    "\n",
    "Explanation:\n",
    "Nothing is replaced.\n",
    " \n",
    "\n",
    "Example 3:\n",
    "\n",
    "Input:\n",
    "[\"a\",\"b\",\"b\",\"b\",\"b\",\"b\",\"b\",\"b\",\"b\",\"b\",\"b\",\"b\",\"b\"]\n",
    "\n",
    "Output:\n",
    "Return 4, and the first 4 characters of the input array should be: [\"a\",\"b\",\"1\",\"2\"].\n",
    "\n",
    "Explanation:\n",
    "Since the character \"a\" does not repeat, it is not compressed. \"bbbbbbbbbbbb\" is replaced by \"b12\".\n",
    "Notice each digit has it's own entry in the array.\n",
    " \n",
    "\n",
    "Note:\n",
    "\n",
    "All characters have an ASCII value in [35, 126].\n",
    "1 <= len(chars) <= 1000.\n"
   ]
  },
  {
   "cell_type": "code",
   "execution_count": 87,
   "metadata": {},
   "outputs": [
    {
     "name": "stdout",
     "output_type": "stream",
     "text": [
      "a\n",
      "ab12\n",
      "4\n"
     ]
    }
   ],
   "source": [
    "def compress(chars):\n",
    "    n, c, i = len(chars), chars[0], 1\n",
    "    cnt, res = 1, \"\"\n",
    "    while i <= n:\n",
    "        res += c\n",
    "        while i < n and chars[i] == c:\n",
    "            cnt += 1\n",
    "            i += 1\n",
    "        if cnt > 1:\n",
    "            res += str(cnt)\n",
    "        if i < n:\n",
    "            c = chars[i]\n",
    "            cnt = 1\n",
    "        i += 1\n",
    "        print(res)\n",
    "    return len(res)\n",
    "chars = [\"a\",\"a\",\"b\",\"b\",\"c\",\"c\",\"c\"]\n",
    "chars = [\"a\"]\n",
    "chars = [\"a\",\"b\",\"b\",\"b\",\"b\",\"b\",\"b\",\"b\",\"b\",\"b\",\"b\",\"b\",\"b\"]\n",
    "print(compress(chars))\n",
    "        \n",
    "        "
   ]
  },
  {
   "cell_type": "code",
   "execution_count": 77,
   "metadata": {},
   "outputs": [],
   "source": [
    "class Solution(object):\n",
    "    def compress(self, chars):\n",
    "        \"\"\"\n",
    "        :type chars: List[str]\n",
    "        :rtype: int\n",
    "        \"\"\"\n",
    "        rptr, wptr = 0, 0\n",
    "        while rptr < len(chars):\n",
    "            ch, f = chars[rptr], 0\n",
    "            while rptr < len(chars) and chars[rptr] == ch:\n",
    "                rptr, f = rptr+1, f+1\n",
    "            chars[wptr], wptr = ch, wptr + 1\n",
    "            if f > 1:\n",
    "                for c in str(f):\n",
    "                    chars[wptr], wptr = c, wptr + 1\n",
    "        return wptr"
   ]
  },
  {
   "cell_type": "code",
   "execution_count": null,
   "metadata": {},
   "outputs": [],
   "source": []
  },
  {
   "cell_type": "code",
   "execution_count": null,
   "metadata": {},
   "outputs": [],
   "source": [
    "155. Min Stack"
   ]
  },
  {
   "cell_type": "code",
   "execution_count": null,
   "metadata": {},
   "outputs": [],
   "source": [
    "#Store the minimum value so far along with the value on a stack.\n",
    "class MinStack:\n",
    "    def __int__(self):\n",
    "        self.stk = []\n",
    "        \n",
    "    def getMin(self):\n",
    "        return self.stk[-1][1]    \n",
    "    def top(self):\n",
    "        return self.stk[-1][0]\n",
    "    \n",
    "    def pop(self):\n",
    "        self.stk.pop()\n",
    "        return\n",
    "        \n",
    "    def push(self,x):\n",
    "        if len(self.stk)==0:\n",
    "            self.stk.append(x,x)\n",
    "        else:\n",
    "            minx = min(x,self.stk[-1][1])\n",
    "            self.stk.append(x,minx)"
   ]
  },
  {
   "cell_type": "code",
   "execution_count": null,
   "metadata": {},
   "outputs": [],
   "source": []
  },
  {
   "cell_type": "code",
   "execution_count": null,
   "metadata": {},
   "outputs": [],
   "source": [
    "205. Isomorphic Strings\n",
    "Two strings are isomorphic if the characters in s can be replaced to get t."
   ]
  },
  {
   "cell_type": "code",
   "execution_count": null,
   "metadata": {},
   "outputs": [],
   "source": [
    "    def IsomorphicStrings2(self,s,t):\n",
    "        return [s.find(i) for i in s] == [t.find(j) for j in t]\n",
    "    \n",
    "    def IsomorphicStrings3(self, s, t):\n",
    "        d1, d2 = {}, {}\n",
    "        for i, val in enumerate(s):\n",
    "            d1[val] = d1.get(val, []) + [i]\n",
    "        for i, val in enumerate(t):\n",
    "            d2[val] = d2.get(val, []) + [i]\n",
    "        return sorted(d1.values()) == sorted(d2.values())"
   ]
  },
  {
   "cell_type": "code",
   "execution_count": null,
   "metadata": {},
   "outputs": [],
   "source": []
  },
  {
   "cell_type": "code",
   "execution_count": null,
   "metadata": {},
   "outputs": [],
   "source": [
    "624. Maximum Distance in Arrays\n",
    "Given m arrays, and each array is sorted in ascending order. \n",
    "Now you can pick up two integers from two different arrays (each array picks one) and calculate the distance. \n",
    "We define the distance between two integers a and b to be their absolute difference |a-b|. \n",
    "Your task is to find the maximum distance.\n",
    "\n",
    "Example 1:\n",
    "\n",
    "Input: \n",
    "[[1,2,3],\n",
    " [4,5],\n",
    " [1,2,3]]\n",
    "\n",
    "Output: 4\n",
    "\n",
    "Explanation: \n",
    "One way to reach the maximum distance 4 is to pick 1 in the first or third array and pick 5 in the second array.\n",
    "\n",
    "Note:\n",
    "\n",
    "Each given array will have at least 1 number. There will be at least two non-empty arrays；\n",
    "The total number of the integers in all the m arrays will be in the range of [2, 10000]；\n",
    "The integers in the m arrays will be in the range of [-10000, 10000]."
   ]
  },
  {
   "cell_type": "code",
   "execution_count": null,
   "metadata": {},
   "outputs": [],
   "source": [
    "class Solution(object):\n",
    "    def maxDistance(self, arrays):\n",
    "        \"\"\"\n",
    "        :type arrays: List[List[int]]\n",
    "        :rtype: int\n",
    "        \"\"\"\n",
    "        len_arrays=len(arrays)\n",
    "        res=0\n",
    "        min_first=arrays[0][0]\n",
    "        max_last=arrays[0][len(arrays[0])-1]\n",
    "        for i in range(1,len_arrays):\n",
    "            array_i=arrays[i]\n",
    "            res=max(abs(array_i[len(array_i)-1]-min_first),abs(array_i[0]-max_last),res)\n",
    "            min_first=min(array_i[0],min_first)\n",
    "            max_last=max(array_i[len(array_i)-1],max_last)\n",
    "\n",
    "        return res\n"
   ]
  },
  {
   "cell_type": "code",
   "execution_count": null,
   "metadata": {},
   "outputs": [],
   "source": []
  },
  {
   "cell_type": "code",
   "execution_count": null,
   "metadata": {},
   "outputs": [],
   "source": [
    "141. Linked List Cycle"
   ]
  },
  {
   "cell_type": "code",
   "execution_count": null,
   "metadata": {},
   "outputs": [],
   "source": [
    "class Solution():\n",
    "    def LinkedListCycle(self,head):\n",
    "        fast=slow=head\n",
    "        while fast and fast.next:\n",
    "            fast = fast.next.next\n",
    "            slow = slow.next\n",
    "            if fast == slow:\n",
    "                return True\n",
    "        return False\n"
   ]
  },
  {
   "cell_type": "code",
   "execution_count": null,
   "metadata": {},
   "outputs": [],
   "source": []
  },
  {
   "cell_type": "code",
   "execution_count": null,
   "metadata": {},
   "outputs": [],
   "source": [
    "1037. Valid Boomerang\n",
    "\n",
    "A boomerang is a set of 3 points that are all distinct and not in a straight line.\n",
    "\n",
    "Given a list of three points in the plane, return whether these points are a boomerang.\n",
    "\n",
    " \n",
    "\n",
    "Example 1:\n",
    "\n",
    "Input: [[1,1],[2,3],[3,2]]\n",
    "Output: true\n",
    "Example 2:\n",
    "\n",
    "Input: [[1,1],[2,2],[3,3]]\n",
    "Output: false\n",
    " \n",
    "\n",
    "Note:\n",
    "\n",
    "points.length == 3\n",
    "points[i].length == 2\n",
    "0 <= points[i][j] <= 100"
   ]
  },
  {
   "cell_type": "code",
   "execution_count": null,
   "metadata": {},
   "outputs": [],
   "source": [
    "Assuming three points are A, B, C.\n",
    "\n",
    "The first idea is that, calculate the area of ABC.\n",
    "We can reuse the conclusion and prove in 812. Largest Triangle Area\n",
    "\n",
    "The other idea is to calculate the slope of AB and AC.\n",
    "K_AB = (p[0][0] - p[1][0]) / (p[0][1] - p[1][1])\n",
    "K_AC = (p[0][0] - p[2][0]) / (p[0][1] - p[2][1])\n",
    "\n",
    "We check if K_AB != K_AC, instead of calculate a fraction."
   ]
  },
  {
   "cell_type": "code",
   "execution_count": null,
   "metadata": {},
   "outputs": [],
   "source": [
    "def isBoomerang(self, p):\n",
    "        return (p[0][0] - p[1][0]) * (p[0][1] - p[2][1]) != (p[0][0] - p[2][0]) * (p[0][1] - p[1][1])\n",
    "    \n",
    "class Solution:\n",
    "    def isBoomerang(self, p: List[List[int]]) -> bool:\n",
    "        return (p[2][1]-p[1][1])*(p[1][0]-p[0][0]) != (p[1][1]-p[0][1])*(p[2][0]-p[1][0])"
   ]
  },
  {
   "cell_type": "code",
   "execution_count": null,
   "metadata": {},
   "outputs": [],
   "source": []
  },
  {
   "cell_type": "code",
   "execution_count": null,
   "metadata": {},
   "outputs": [],
   "source": [
    "812. Largest Triangle Area"
   ]
  },
  {
   "cell_type": "code",
   "execution_count": null,
   "metadata": {},
   "outputs": [],
   "source": [
    "def largestTriangleArea(self, p):\n",
    "        return max(0.5 * abs(xa*yb + xb*yc + xc*ya - xb*ya - xc*yb - xa*yc)\n",
    "                   for (xa, ya), (xb, yb), (xc, yc) in itertools.combinations(p, 3))"
   ]
  },
  {
   "cell_type": "code",
   "execution_count": null,
   "metadata": {},
   "outputs": [],
   "source": []
  },
  {
   "cell_type": "code",
   "execution_count": null,
   "metadata": {},
   "outputs": [],
   "source": [
    "172. Factorial Trailing Zeroes\n",
    "\n",
    "Given an integer n, return the number of trailing zeroes in n!."
   ]
  },
  {
   "cell_type": "code",
   "execution_count": null,
   "metadata": {},
   "outputs": [],
   "source": [
    "class Solution():\n",
    "    def FactorialTrailingZeroes(self,n):\n",
    "        k,count=5,0\n",
    "        while k<=n:\n",
    "            count += n//k\n",
    "            k = k*5\n",
    "        return count\n",
    "n=5\n",
    "a=Solution()\n",
    "a.FactorialTrailingZeroes(n)"
   ]
  },
  {
   "cell_type": "code",
   "execution_count": null,
   "metadata": {},
   "outputs": [],
   "source": []
  },
  {
   "cell_type": "code",
   "execution_count": null,
   "metadata": {},
   "outputs": [],
   "source": [
    "434. Number of Segments in a String\n",
    "\n",
    "Count the number of segments in a string, \n",
    "where a segment is defined to be a contiguous sequence of non-space characters.\n",
    "\n",
    "Please note that the string does not contain any non-printable characters.\n",
    "\n",
    "Example:\n",
    "\n",
    "Input: \"Hello, my name is John\"\n",
    "Output: 5\n"
   ]
  },
  {
   "cell_type": "code",
   "execution_count": null,
   "metadata": {},
   "outputs": [],
   "source": [
    "def countSegments(self, s: str) -> int:\n",
    "    return len(s.split())\n",
    "\n",
    "from re import findall\n",
    "    return len(findall('[^ ]+', s))\n",
    "\n",
    "def countSegments(self, s):\n",
    "        ret = 0\n",
    "        for i in range(len(s)):\n",
    "            if s[i] != ' ' and (not i or s[i-1] == ' '):\n",
    "                ret += 1\n",
    "        return ret"
   ]
  },
  {
   "cell_type": "code",
   "execution_count": null,
   "metadata": {},
   "outputs": [],
   "source": []
  },
  {
   "cell_type": "code",
   "execution_count": null,
   "metadata": {},
   "outputs": [],
   "source": [
    "20. Valid Parentheses\n",
    "\n",
    "Given a string containing just the characters '(', ')', '{', '}', '[' and ']', determine if the input string is valid.\n",
    "\n"
   ]
  },
  {
   "cell_type": "code",
   "execution_count": null,
   "metadata": {},
   "outputs": [],
   "source": [
    "class Solution():\n",
    "    def ValidParentheses(self,s):\n",
    "        mp = {\"(\":\")\",\"[\":\"]\",\"{\":\"}\"}\n",
    "        rp = [\")\",\"]\",\"}\"]\n",
    "        stack=[]\n",
    "        for c in s:\n",
    "            if c in mp:\n",
    "                stack.append(c)\n",
    "            elif c in rp:\n",
    "                if stack:\n",
    "                    if c!=mp[stack.pop()]: return False\n",
    "                else:\n",
    "                    return False\n",
    "            else:\n",
    "                continue\n",
    "        return not stack\n",
    "strs=\"([)]\"\n",
    "a=Solution()\n",
    "a.ValidParentheses(strs)               "
   ]
  },
  {
   "cell_type": "code",
   "execution_count": null,
   "metadata": {},
   "outputs": [],
   "source": []
  },
  {
   "cell_type": "code",
   "execution_count": null,
   "metadata": {},
   "outputs": [],
   "source": [
    "276. Paint Fence\n",
    "There is a fence with n posts, each post can be painted with one of the k colors.\n",
    "\n",
    "You have to paint all the posts such that no more than two adjacent fence posts have the same color.\n",
    "\n",
    "Return the total number of ways you can paint the fence.\n",
    "\n",
    "Note: n and k are non-negative integers.\n",
    "\n",
    "Example:\n",
    "\n",
    "Input: n = 3, k = 2\n",
    "Output: 6\n",
    "Explanation: Take c1 as color 1, c2 as color 2. All possible ways are:\n",
    "\n",
    "            post1  post2  post3      \n",
    " -----      -----  -----  -----       \n",
    "   1         c1     c1     c2\n",
    "   2         c1     c2     c1\n",
    "   3         c1     c2     c2\n",
    "   4         c2     c1     c1  \n",
    "   5         c2     c1     c2\n",
    "   6         c2     c2     c1\n"
   ]
  },
  {
   "cell_type": "code",
   "execution_count": null,
   "metadata": {},
   "outputs": [],
   "source": [
    "class Solution():\n",
    "    def PaintFence(self,n,k):  # n - # of fence k - # of color\n",
    "        if n<=0 or k<=0: return 0\n",
    "        dp = [0]*n\n",
    "        dp[0]=k\n",
    "        if n>1:\n",
    "            dp[1]=k*k\n",
    "        for i in range(2,n):\n",
    "            dp[i]=dp[i-1]*(k-1)+dp[i-2]*(k-1)\n",
    "        return dp[-1]\n",
    "\n",
    "n,k=3,3\n",
    "a=Solution()\n",
    "a.PaintFence(3,3)"
   ]
  },
  {
   "cell_type": "code",
   "execution_count": null,
   "metadata": {},
   "outputs": [],
   "source": []
  },
  {
   "cell_type": "code",
   "execution_count": null,
   "metadata": {},
   "outputs": [],
   "source": [
    "1033. Moving Stones Until Consecutive\n",
    "\n",
    "Three stones are on a number line at positions a, b, and c.\n",
    "\n",
    "Each turn, you pick up a stone at an endpoint (ie., either the lowest or highest position stone), \n",
    "and move it to an unoccupied position between those endpoints.  \n",
    "Formally, let's say the stones are currently at positions x, y, z with x < y < z.  \n",
    "You pick up the stone at either position x or position z, and move that stone to an integer position k, \n",
    "with x < k < z and k != y.\n",
    "\n",
    "The game ends when you cannot make any more moves, ie. the stones are in consecutive positions.\n",
    "\n",
    "When the game ends, what is the minimum and maximum number of moves that you could have made?  \n",
    "Return the answer as an length 2 array: answer = [minimum_moves, maximum_moves]\n",
    "\n",
    "Example 1:\n",
    "\n",
    "Input: a = 1, b = 2, c = 5\n",
    "Output: [1,2]\n",
    "Explanation: Move the stone from 5 to 3, or move the stone from 5 to 4 to 3.\n",
    "Example 2:\n",
    "\n",
    "Input: a = 4, b = 3, c = 2\n",
    "Output: [0,0]\n",
    "Explanation: We cannot make any moves.\n",
    "Example 3:\n",
    "\n",
    "Input: a = 3, b = 5, c = 1\n",
    "Output: [1,2]\n",
    "Explanation: Move the stone from 1 to 4; or move the stone from 1 to 2 to 4."
   ]
  },
  {
   "cell_type": "code",
   "execution_count": null,
   "metadata": {},
   "outputs": [],
   "source": [
    "class Solution:\n",
    "    def numMovesStones(self, a: int, b: int, c: int) -> List[int]:\n",
    "        # find out the smaller, middle and larger one of three elements, namely l, m, r \n",
    "        l, r = min(a, b, c), max(a, b, c)\n",
    "        m = a + b + c - l - r\n",
    "        \n",
    "        # note: to get the maximum moves, we can move l or r 1 position at time \n",
    "        # to shrink the interval between l and r at the minimum rate\n",
    "        # so the maximum move is always equal to r - l + 1 - 3 = r - l - 2\n",
    "        \n",
    "        # in case values are already close to each other \n",
    "        if r - l == 2:\n",
    "            return [0, 0]\n",
    "        # in such cases, minimum move is 1\n",
    "        # case 1: l is next to m, just move r to l - 1 or m + 1\n",
    "        # case 2: l, ?, m, just move r into ? between l and m \n",
    "        # case 3: m, ?, r, just move l into ? between m and r \n",
    "        # case 4: m is next to r, just move l to m - 1 or r + 1\n",
    "        elif m - l <= 2 or r - m <= 2:\n",
    "            return [1, r - l - 2]\n",
    "    \n",
    "        # in other case, the minimum move is at most 2, because no matter\n",
    "        # how far l is from m and r is from m, we can just move l to m - 1\n",
    "        # and move r to m + 1 to make them become consecutive \n",
    "        else:\n",
    "            return [2, r - l - 2]"
   ]
  },
  {
   "cell_type": "code",
   "execution_count": null,
   "metadata": {},
   "outputs": [],
   "source": [
    "class Solution:\n",
    "    def numMovesStones(self, a: int, b: int, c: int) -> List[int]:\n",
    "        (a, b, c) = tuple(sorted([a, b, c]))\n",
    "        if c - a == 2: return (0, 0)\n",
    "        if c - b == 1: return (1, b - a - 1)\n",
    "        if b - a == 1: return (1, c - b - 1)\n",
    "        if b - a == 2: return (1, c - a - 2)\n",
    "        if c - b == 2: return (1, c - a - 2)\n",
    "        return (2, c - a - 2)"
   ]
  },
  {
   "cell_type": "code",
   "execution_count": null,
   "metadata": {},
   "outputs": [],
   "source": [
    "class Solution:\n",
    "    def numMovesStones(self, a: int, b: int, c: int) -> List[int]:\n",
    "        l = sorted((b, c, a))\n",
    "        return [0 if l[1]-l[0]==1==l[2]-l[1] else 1 if l[1]-l[0]<=2 or l[2]-l[1]<=2 else 2, l[2]-l[0]-2]\n"
   ]
  },
  {
   "cell_type": "code",
   "execution_count": null,
   "metadata": {},
   "outputs": [],
   "source": [
    "class solution:\n",
    "    def numMovesStones(self, a: int, b: int, c: int) -> List[int]:\n",
    "        a,b,c=sorted([a,b,c])\n",
    "        if a==b-1 and b==c-1: minv=0\n",
    "        elif b-a<=2 or c-b<=2: minv=1\n",
    "        else: minv=2\n",
    "        maxv = c-b-1+(b-a-1)=c-a-2\n",
    "        return (minv,maxv)"
   ]
  },
  {
   "cell_type": "code",
   "execution_count": null,
   "metadata": {},
   "outputs": [],
   "source": []
  },
  {
   "cell_type": "code",
   "execution_count": null,
   "metadata": {},
   "outputs": [],
   "source": [
    "234. Palindrome Linked List\n"
   ]
  },
  {
   "cell_type": "code",
   "execution_count": null,
   "metadata": {},
   "outputs": [],
   "source": [
    "class Solution():\n",
    "    def PalindromeLinkedList(self,head):\n",
    "        vals=[]\n",
    "        while head:\n",
    "            vals += head.val\n",
    "            head = head.next\n",
    "        return vals == vals[::-1]\n"
   ]
  },
  {
   "cell_type": "code",
   "execution_count": null,
   "metadata": {},
   "outputs": [],
   "source": [
    "def isPalindrome(self, head):\n",
    "    fast = slow = head\n",
    "    # find the mid node\n",
    "    while fast and fast.next:\n",
    "        fast = fast.next.next\n",
    "        slow = slow.next\n",
    "    # reverse the second half\n",
    "    node = None\n",
    "    while slow:\n",
    "        nxt = slow.next\n",
    "        slow.next = node\n",
    "        node = slow\n",
    "        slow = nxt\n",
    "    # compare the first and second half nodes\n",
    "    while node: # while node and head:\n",
    "        if node.val != head.val:\n",
    "            return False\n",
    "        node = node.next\n",
    "        head = head.next\n",
    "    return True"
   ]
  },
  {
   "cell_type": "code",
   "execution_count": null,
   "metadata": {},
   "outputs": [],
   "source": []
  },
  {
   "cell_type": "code",
   "execution_count": null,
   "metadata": {},
   "outputs": [],
   "source": [
    "422. Valid Word Square\n",
    "Given a sequence of words, check whether it forms a valid word square.\n",
    "\n",
    "A sequence of words forms a valid word square if the kth row and column read the exact same string, \n",
    "where 0 ≤k < max(numRows, numColumns).\n",
    "\n",
    "Note:\n",
    "\n",
    "The number of words given is at least 1 and does not exceed 500.\n",
    "Word length will be at least 1 and does not exceed 500.\n",
    "Each word contains only lowercase English alphabet a-z.\n",
    " \n",
    "\n",
    "Example 1:\n",
    "\n",
    "Input:\n",
    "[\n",
    "  \"abcd\",\n",
    "  \"bnrt\",\n",
    "  \"crmy\",\n",
    "  \"dtye\"\n",
    "]\n",
    "\n",
    "Output:\n",
    "true\n",
    "\n",
    "Explanation:\n",
    "The first row and first column both read \"abcd\".\n",
    "The second row and second column both read \"bnrt\".\n",
    "The third row and third column both read \"crmy\".\n",
    "The fourth row and fourth column both read \"dtye\".\n",
    "\n",
    "Therefore, it is a valid word square.\n",
    " \n",
    "\n",
    "Example 2:\n",
    "\n",
    "Input:\n",
    "[\n",
    "  \"abcd\",\n",
    "  \"bnrt\",\n",
    "  \"crm\",\n",
    "  \"dt\"\n",
    "]\n",
    "\n",
    "Output:\n",
    "true\n",
    "\n",
    "Explanation:\n",
    "The first row and first column both read \"abcd\".\n",
    "The second row and second column both read \"bnrt\".\n",
    "The third row and third column both read \"crm\".\n",
    "The fourth row and fourth column both read \"dt\".\n",
    "\n",
    "Therefore, it is a valid word square.\n",
    " \n",
    "\n",
    "Example 3:\n",
    "\n",
    "Input:\n",
    "[\n",
    "  \"ball\",\n",
    "  \"area\",\n",
    "  \"read\",\n",
    "  \"lady\"\n",
    "]\n",
    "\n",
    "Output:\n",
    "false\n",
    "\n",
    "Explanation:\n",
    "The third row reads \"read\" while the third column reads \"lead\".\n",
    "\n",
    "Therefore, it is NOT a valid word square."
   ]
  },
  {
   "cell_type": "code",
   "execution_count": null,
   "metadata": {},
   "outputs": [],
   "source": [
    "for i in range(len(words)):\n",
    "    for j in range(len(words[0])):\n",
    "        if words[i][j] = words[j][i]"
   ]
  },
  {
   "cell_type": "code",
   "execution_count": null,
   "metadata": {},
   "outputs": [],
   "source": [
    "def validWordSquare(self, words):\n",
    "        \"\"\"\n",
    "        :type words: List[str]\n",
    "        :rtype: bool\n",
    "        \"\"\"\n",
    "        m = len(words)\n",
    "        n = len(words[0]) if m else 0\n",
    "        if m != n:\n",
    "            return False\n",
    "        for x in range(m):\n",
    "            n = len(words[x])\n",
    "            c = 0\n",
    "            for y in range(m):\n",
    "                if len(words[y]) < x + 1:\n",
    "                    break\n",
    "                c += 1\n",
    "            if c != n:\n",
    "                return False\n",
    "            for y in range(n):\n",
    "                if words[x][y] != words[y][x]:\n",
    "                    return False\n",
    "        return True\n"
   ]
  },
  {
   "cell_type": "code",
   "execution_count": null,
   "metadata": {},
   "outputs": [],
   "source": [
    "#python2\n",
    "def validWordSquare(self, words):\n",
    "    t = map(None, *words)\n",
    "    return t == map(None, *t)\n"
   ]
  },
  {
   "cell_type": "code",
   "execution_count": 756,
   "metadata": {},
   "outputs": [
    {
     "data": {
      "text/plain": [
       "True"
      ]
     },
     "execution_count": 756,
     "metadata": {},
     "output_type": "execute_result"
    }
   ],
   "source": [
    "#python3\n",
    "import itertools\n",
    "class solution():\n",
    "    def validWordSquare(self, words):\n",
    "        t = itertools.zip_longest(*words)\n",
    "        #t1 = zip(*t)\n",
    "        return list(t) == list(zip(*t))\n",
    "words = [\n",
    "  \"abcd\",\n",
    "  \"bnrt\",\n",
    "  \"crm\",\n",
    "  \"dt\"\n",
    "]\n",
    "a=solution()\n",
    "a.validWordSquare(words)"
   ]
  },
  {
   "cell_type": "code",
   "execution_count": 124,
   "metadata": {},
   "outputs": [
    {
     "name": "stdout",
     "output_type": "stream",
     "text": [
      "[['a', 'b', 'c', 'd'], ['b', 'n', 'r', 'o'], ['c', 'r', 'm'], ['d', 'o']]\n",
      "[('a', 'b', 'c', 'd'), ('b', 'n', 'r', 'o')]\n",
      "[['a', 'b', 'c', 'd'], ['b', 'n', 'r', 'o'], ['c', 'r', 'm'], ['d', 'o']]\n"
     ]
    }
   ],
   "source": [
    "words =[\n",
    "  \"ball\",\n",
    "  \"area\",\n",
    "  \"read\",\n",
    "  \"lady\"\n",
    "]\n",
    "\n",
    "words = [\n",
    "  \"abcd\",\n",
    "  \"bnro\",\n",
    "  \"crm\",\n",
    "  \"do\"\n",
    "]\n",
    "\n",
    "import itertools\n",
    "t = itertools.zip_longest(*words)\n",
    "#print(list(t))\n",
    "#t = map(None, *words)\n",
    "print([list(filter(None, n)) for n in t])\n",
    "t2 = zip(*words)\n",
    "print([n for n in t2])\n",
    "print([list(n) for n in words])"
   ]
  },
  {
   "cell_type": "code",
   "execution_count": null,
   "metadata": {},
   "outputs": [],
   "source": [
    "import itertools\n",
    "class solution():\n",
    "    def validWordSquare(self, words):\n",
    "        t = itertools.zip_longest(*words)\n",
    "        return [list(filter(None, n)) for n in t] == [list(n) for n in words]"
   ]
  },
  {
   "cell_type": "code",
   "execution_count": null,
   "metadata": {},
   "outputs": [],
   "source": [
    "88. Merge Sorted Array"
   ]
  },
  {
   "cell_type": "code",
   "execution_count": null,
   "metadata": {},
   "outputs": [],
   "source": [
    "class Solution():\n",
    "    def MergeSortedArray(self,nums1,m,nums2,n):\n",
    "        i,j,k=m-1,n-1,m+n-1\n",
    "        while i>=0 and j>=0:\n",
    "            if nums1[i]>nums2[j]:\n",
    "                nums1[k]=nums1[i]\n",
    "                i -= 1\n",
    "            else:\n",
    "                nums1[k]=nums2[j]\n",
    "                j -= 1\n",
    "            k -= 1\n",
    "        if j>=0:\n",
    "            nums1[:k+1]=nums2[:j+1]\n",
    "        return nums1\n",
    "    \n",
    "nums1,m,nums2,n=[1,2,3,0,0,0],3,[2,5,6],3\n",
    "a=Solution()\n",
    "a.MergeSortedArray(nums1,m,nums2,n)"
   ]
  },
  {
   "cell_type": "code",
   "execution_count": null,
   "metadata": {},
   "outputs": [],
   "source": []
  },
  {
   "cell_type": "code",
   "execution_count": null,
   "metadata": {},
   "outputs": [],
   "source": [
    "203. Remove Linked List Elements"
   ]
  },
  {
   "cell_type": "code",
   "execution_count": 58,
   "metadata": {},
   "outputs": [],
   "source": [
    "class Solution():\n",
    "    def RemoveLinkedList(self,head,val):\n",
    "        dummy = pre = ListNode(0)\n",
    "        dummy.next = head\n",
    "        while head:\n",
    "            if head.val == val:\n",
    "                pre.next = head.next\n",
    "            else:\n",
    "                pre = pre.next\n",
    "            head = head.next\n",
    "        return dummy.next"
   ]
  },
  {
   "cell_type": "code",
   "execution_count": null,
   "metadata": {},
   "outputs": [],
   "source": [
    "def RemoveLinkedList(head, val):\n",
    "    prev = ListNode(0)\n",
    "    prev.next = cur = head\n",
    "    while cur:\n",
    "        if cur.val == val:\n",
    "            if prev:\n",
    "                prev.next = cur.next\n",
    "            else:\n",
    "                head = cur.next #remove head\n",
    "        pre, cur = cur, cur.next\n",
    "    return head"
   ]
  },
  {
   "cell_type": "code",
   "execution_count": null,
   "metadata": {},
   "outputs": [],
   "source": []
  },
  {
   "cell_type": "code",
   "execution_count": null,
   "metadata": {},
   "outputs": [],
   "source": [
    "596. Classes More Than 5 Students\n",
    "#SQL\n",
    "select class from (select class, count(distinct student) as numb_student from courses group by class) \n",
    "where numb_student>=5;\n"
   ]
  },
  {
   "cell_type": "code",
   "execution_count": null,
   "metadata": {},
   "outputs": [],
   "source": []
  },
  {
   "cell_type": "code",
   "execution_count": null,
   "metadata": {},
   "outputs": [],
   "source": [
    "840. Magic Squares In Grid\n",
    "\n",
    "A 3 x 3 magic square is a 3 x 3 grid filled with distinct numbers from 1 to 9 \n",
    "such that each row, column, and both diagonals all have the same sum.\n",
    "\n",
    "Given an grid of integers, how many 3 x 3 \"magic square\" subgrids are there?  (Each subgrid is contiguous).\n",
    "\n",
    " \n",
    "\n",
    "Example 1:\n",
    "\n",
    "Input: [[4,3,8,4],\n",
    "        [9,5,1,9],\n",
    "        [2,7,6,2]]\n",
    "Output: 1\n",
    "Explanation: \n",
    "The following subgrid is a 3 x 3 magic square:\n",
    "438\n",
    "951\n",
    "276\n",
    "\n",
    "while this one is not:\n",
    "384\n",
    "519\n",
    "762\n",
    "\n",
    "In total, there is only one magic square inside the given grid.\n",
    "Note:\n",
    "\n",
    "1 <= grid.length <= 10\n",
    "1 <= grid[0].length <= 10\n",
    "0 <= grid[i][j] <= 15\n"
   ]
  },
  {
   "cell_type": "code",
   "execution_count": null,
   "metadata": {},
   "outputs": [],
   "source": [
    "class Solution:\n",
    "    def numMagicSquaresInside(self, grid):\n",
    "        res = 0\n",
    "        for i in range(len(grid)-2):\n",
    "            for j in range(len(grid)-2):\n",
    "                if sum(grid[i][j: j + 3]) == sum(grid[i + 1][j : j +3]) == sum(grid[i + 2][j:j + 3]) == \\\n",
    "                sum(grid[k][j] for k in range(i, i + 3)) == sum(grid[k][j + 1] for k in range(i, i + 3)) == sum(grid[k][j + 2] for k in range(i, i + 3)) == \\\n",
    "                (grid[i][j] + grid[i + 1][j + 1] + grid[i + 2][j + 2]) == \\\n",
    "                (grid[i+2][j]+ grid[i + 1][j + 1] + grid[i][j + 2]) \\\n",
    "                and set(grid[i][j: j + 3] + grid[i + 1][j: j +3] + grid[i + 2][j:j + 3]) == set(range*1,10)): \n",
    "                    res += 1\n",
    "        return res        "
   ]
  },
  {
   "cell_type": "code",
   "execution_count": null,
   "metadata": {},
   "outputs": [],
   "source": [
    "class Solution(object):\n",
    "    def numMagicSquaresInside(self, grid):\n",
    "        \"\"\"\n",
    "        :type grid: List[List[int]]\n",
    "        :rtype: int\n",
    "        \"\"\"\n",
    "        def is_magic(sq):\n",
    "            s = sum(sq[0])\n",
    "            return set(x for row in sq for x in row) == set(range(1, 10)) and \\\n",
    "                    all(sum(row) == s for row in sq) and \\\n",
    "                    all(sum(sq[i][j] for i in range(3)) == s for j in range(3)) \\\n",
    "                    and sum(sq[i][i] for i in range(3)) == s \\\n",
    "                    and sum(sq[i][2-i] for i in range(3)) == s        \n",
    "        \n",
    "        count=0\n",
    "        for i in range(len(grid)-2):\n",
    "            for j in range(len(grid[0])-2):                \n",
    "                mgrid = [[grid[k][m] for m in range(j,j+3)] for k in range(i,i+3) ]\n",
    "                if is_magic(mgrid)==True:\n",
    "                    count+=1\n",
    "                               \n",
    "        return count\n",
    "    "
   ]
  },
  {
   "cell_type": "code",
   "execution_count": null,
   "metadata": {},
   "outputs": [],
   "source": []
  },
  {
   "cell_type": "code",
   "execution_count": null,
   "metadata": {},
   "outputs": [],
   "source": [
    "219. Contains Duplicate II\n",
    "\n",
    "Given an array of integers and an integer k, \n",
    "find out whether there are two distinct indices i and j in the array such that nums[i] = nums[j] \n",
    "and the absolute difference between i and j is at most k.\n"
   ]
  },
  {
   "cell_type": "code",
   "execution_count": 57,
   "metadata": {},
   "outputs": [
    {
     "data": {
      "text/plain": [
       "True"
      ]
     },
     "execution_count": 57,
     "metadata": {},
     "output_type": "execute_result"
    }
   ],
   "source": [
    "class Solution():\n",
    "    def ContainsDuplicateII(self,nums,k):\n",
    "        dic={}\n",
    "        for i in range(len(nums)):\n",
    "            if nums[i] in dic:\n",
    "                if i-dic[nums[i]]<=k: \n",
    "                    return True\n",
    "            dic[nums[i]]=i\n",
    "        return False\n",
    "nums, k = [1,2,3,1], 3\n",
    "a=Solution()\n",
    "a.ContainsDuplicateII(nums,k)"
   ]
  },
  {
   "cell_type": "code",
   "execution_count": null,
   "metadata": {},
   "outputs": [],
   "source": []
  },
  {
   "cell_type": "code",
   "execution_count": null,
   "metadata": {},
   "outputs": [],
   "source": [
    "111. Minimum Depth of Binary Tree\n",
    "\n",
    "Given a binary tree, find its minimum depth.\n",
    "\n",
    "The minimum depth is the number of nodes along the shortest path from the root node down to the nearest leaf node.\n",
    "\n",
    "Note: A leaf is a node with no children.\n",
    "\n",
    "Example:\n",
    "\n",
    "Given binary tree [3,9,20,null,null,15,7],\n",
    "\n",
    "    3\n",
    "   / \\\n",
    "  9  20\n",
    "    /  \\\n",
    "   15   7\n",
    "return its minimum depth = 2."
   ]
  },
  {
   "cell_type": "code",
   "execution_count": null,
   "metadata": {},
   "outputs": [],
   "source": [
    "class Solution():\n",
    "    def MinimumDepthBinaryTree(self,root):\n",
    "        if not root: return 0\n",
    "        if None in [root.left,root.right]:\n",
    "            return max(self.MinimumDepthBinaryTree(root.left), self.MinimumDepthBinaryTree(root.right))\n",
    "        else:\n",
    "            return min(self.MinimumDepthBinaryTree(root.left), self.MinimumDepthBinaryTree(root.right))\n",
    "    def MinimumDepthBinaryTree1(self,root):\n",
    "        if not root: return 0\n",
    "        q = collections.deque([root,1])\n",
    "        while q:\n",
    "            node,level = q.popleft()\n",
    "            if node:\n",
    "                if not node.left and not node.right:\n",
    "                    return level\n",
    "                else:\n",
    "                    q.append((node.left,level+1))\n",
    "                    q.append((node.right,level+1)            \n",
    "    "
   ]
  },
  {
   "cell_type": "code",
   "execution_count": null,
   "metadata": {},
   "outputs": [],
   "source": []
  },
  {
   "cell_type": "code",
   "execution_count": null,
   "metadata": {},
   "outputs": [],
   "source": [
    "941. Valid Mountain Array\n",
    "\n",
    "Given an array A of integers, return true if and only if it is a valid mountain array.\n",
    "\n",
    "Recall that A is a mountain array if and only if:\n",
    "\n",
    "A.length >= 3\n",
    "There exists some i with 0 < i < A.length - 1 such that:\n",
    "A[0] < A[1] < ... A[i-1] < A[i]\n",
    "A[i] > A[i+1] > ... > A[A.length - 1]\n",
    " \n",
    "\n",
    "Example 1:\n",
    "\n",
    "Input: [2,1]\n",
    "Output: false\n",
    "Example 2:\n",
    "\n",
    "Input: [3,5,5]\n",
    "Output: false\n",
    "Example 3:\n",
    "\n",
    "Input: [0,3,2,1]\n",
    "Output: true\n",
    " \n",
    "\n",
    "Note:\n",
    "\n",
    "0 <= A.length <= 10000\n",
    "0 <= A[i] <= 10000 \n"
   ]
  },
  {
   "cell_type": "code",
   "execution_count": null,
   "metadata": {},
   "outputs": [],
   "source": [
    "#two pointers\n",
    "def validMountainArray(self, A):\n",
    "        i, j, n = 0, len(A) - 1, len(A)\n",
    "        while i + 1 < n and A[i] < A[i + 1]: i += 1\n",
    "        while j > 0 and A[j - 1] > A[j]: j -= 1\n",
    "        return 0 < i == j < n - 1"
   ]
  },
  {
   "cell_type": "code",
   "execution_count": null,
   "metadata": {},
   "outputs": [],
   "source": []
  },
  {
   "cell_type": "code",
   "execution_count": null,
   "metadata": {},
   "outputs": [],
   "source": [
    "197. Rising Temperature\n",
    "#SQL\n",
    "select distinct a.Id from Weather a inner join Weather b on a.Temperature>b.Temperature \n",
    "and DATEDIFF(a.RecordDate,b.RecordDate)=1;\n",
    "\n"
   ]
  },
  {
   "cell_type": "code",
   "execution_count": null,
   "metadata": {},
   "outputs": [],
   "source": []
  },
  {
   "cell_type": "code",
   "execution_count": null,
   "metadata": {},
   "outputs": [],
   "source": [
    "290. Word Pattern\n",
    "\n",
    "Given a pattern and a string str, find if str follows the same pattern.\n",
    "\n",
    "Here follow means a full match, such that there is a bijection between a letter in pattern and a non-empty word in str.\n",
    "\n",
    "Example 1:\n",
    "\n",
    "Input: pattern = \"abba\", str = \"dog cat cat dog\"\n",
    "Output: true\n",
    "Example 2:\n",
    "\n",
    "Input:pattern = \"abba\", str = \"dog cat cat fish\"\n",
    "Output: false\n",
    "Example 3:\n",
    "\n",
    "Input: pattern = \"aaaa\", str = \"dog cat cat dog\"\n",
    "Output: false\n",
    "Example 4:\n",
    "\n",
    "Input: pattern = \"abba\", str = \"dog dog dog dog\"\n",
    "Output: false\n",
    "Notes:\n",
    "You may assume pattern contains only lowercase letters, and str contains lowercase letters that may be separated by a single space.\n"
   ]
  },
  {
   "cell_type": "code",
   "execution_count": null,
   "metadata": {},
   "outputs": [],
   "source": [
    "def wordPattern(self, pattern, str):\n",
    "    s = pattern\n",
    "    t = str.split()\n",
    "    return len(set(zip(s, t))) == len(set(s)) == len(set(t)) and len(s) == len(t)"
   ]
  },
  {
   "cell_type": "code",
   "execution_count": null,
   "metadata": {},
   "outputs": [],
   "source": [
    "def wordPattern(self, pattern, str):\n",
    "    s = pattern\n",
    "    t = str.split()\n",
    "    return map(s.find, s) == map(t.index, t)\n",
    "\n",
    "#Improved version also from there:\n",
    "\n",
    "def wordPattern(self, pattern, str):\n",
    "    f = lambda s: map({}.setdefault, s, range(len(s)))\n",
    "    return f(pattern) == f(str.split())"
   ]
  },
  {
   "cell_type": "code",
   "execution_count": null,
   "metadata": {},
   "outputs": [],
   "source": [
    "def wordPattern(self, pattern, str):\n",
    "    if len(pattern) != len(str.split()):\n",
    "        return False\n",
    "    d1, d2 = {}, {}\n",
    "    for p, r in zip(pattern, str.split()):\n",
    "        if p in d1:\n",
    "            if d1[p] != r:\n",
    "                return False\n",
    "        d1[p] = r\n",
    "        if r in d2:\n",
    "            if d2[r] != p:\n",
    "                return False\n",
    "        d2[r] = p\n",
    "    return True"
   ]
  },
  {
   "cell_type": "code",
   "execution_count": null,
   "metadata": {},
   "outputs": [],
   "source": []
  },
  {
   "cell_type": "code",
   "execution_count": null,
   "metadata": {},
   "outputs": [],
   "source": [
    "604 - Design Compressed String Iterator\n",
    "\n",
    "Design and implement a data structure for a compressed string iterator. \n",
    "It should support the following operations: next and hasNext.\n",
    "\n",
    "The given compressed string will be in the form of each letter followed by a positive integer representing the number of this letter existing in the original uncompressed string.\n",
    "\n",
    "next() - if the original string still has uncompressed characters, return the next letter; Otherwise return a white space.\n",
    "hasNext() - Judge whether there is any letter needs to be uncompressed.\n",
    "\n",
    "Note:\n",
    "Please remember to RESET your class variables declared in StringIterator, as static/class variables are persisted across multiple test cases. Please see here for more details.\n",
    "\n",
    "Example:\n",
    "\n",
    "StringIterator iterator = new StringIterator(\"L1e2t1C1o1d1e1\");\n",
    "\n",
    "iterator.next(); // return 'L'\n",
    "iterator.next(); // return 'e'\n",
    "iterator.next(); // return 'e'\n",
    "iterator.next(); // return 't'\n",
    "iterator.next(); // return 'C'\n",
    "iterator.next(); // return 'o'\n",
    "iterator.next(); // return 'd'\n",
    "iterator.hasNext(); // return true\n",
    "iterator.next(); // return 'e'\n",
    "iterator.hasNext(); // return false\n",
    "iterator.next(); // return ' '\n"
   ]
  },
  {
   "cell_type": "code",
   "execution_count": null,
   "metadata": {},
   "outputs": [],
   "source": [
    "class StringIterator:\n",
    "\n",
    "    def __init__(self, compressedString):\n",
    "        \"\"\"\n",
    "        :type compressedString: str\n",
    "        \"\"\"\n",
    "        self.string = compressedString\n",
    "        self.index, self.count, self.ch = 0, 0, None\n",
    "        self.length = len(self.string)\n",
    "\n",
    "    def next(self):\n",
    "        \"\"\"\n",
    "        :rtype: str\n",
    "        \"\"\"\n",
    "        if self.hasNext() is False:\n",
    "            return ' '\n",
    "\n",
    "        if self.count != 0:\n",
    "            self.count -= 1\n",
    "        else:\n",
    "            # fetch the next character\n",
    "            self.ch = self.string[self.index]\n",
    "            self.index += 1\n",
    "            # find the count\n",
    "            v = ''\n",
    "            while self.index < self.length:\n",
    "                char = self.string[self.index]\n",
    "                if char.isdigit() is False: break\n",
    "                v = '%s%s' % (v, char)\n",
    "                self.index += 1\n",
    "            self.count = int(v) - 1\n",
    "        return self.ch\n",
    "\n",
    "    def hasNext(self):\n",
    "        \"\"\"\n",
    "        :rtype: bool\n",
    "        \"\"\"\n",
    "        if self.index == self.length and self.count == 0:\n",
    "            return False\n",
    "        else:\n",
    "            return True\n",
    "\n",
    "# Your StringIterator object will be instantiated and called as such:\n",
    "# obj = StringIterator(compressedString)\n",
    "# param_1 = obj.next()\n",
    "# param_2 = obj.hasNext()"
   ]
  },
  {
   "cell_type": "code",
   "execution_count": null,
   "metadata": {},
   "outputs": [],
   "source": [
    "# saperate letters from numbers\n",
    "class StringIterator(object):\n",
    "\n",
    "    def __init__(self, compressedString):\n",
    "        \"\"\"\n",
    "        :type compressedString: str\n",
    "        \"\"\"\n",
    "        self.letters = []\n",
    "        self.nums = []\n",
    "        idx = 0\n",
    "        while idx < len(compressedString):\n",
    "            if compressedString[idx].isalpha():\n",
    "                self.letters.append(compressedString[idx])\n",
    "                idx += 1\n",
    "            else:\n",
    "                tmp = ''\n",
    "                while idx < len(compressedString) and compressedString[idx].isdigit():\n",
    "                    tmp += compressedString[idx]\n",
    "                    idx += 1\n",
    "                self.nums.append(int(tmp))\n",
    "        self.idx = -1\n",
    "        self.count = 0\n",
    "        \n",
    "\n",
    "    def next(self):\n",
    "        \"\"\"\n",
    "        :rtype: str\n",
    "        \"\"\"\n",
    "        if self.count == 0:\n",
    "            self.idx += 1\n",
    "            if self.idx >= len(self.letters):\n",
    "                return ' '\n",
    "            self.count = self.nums[self.idx]\n",
    "        self.count -= 1\n",
    "        return self.letters[self.idx]\n",
    "        \n",
    "\n",
    "    def hasNext(self):\n",
    "        \"\"\"\n",
    "        :rtype: bool\n",
    "        \"\"\"\n",
    "        if self.count == 0:\n",
    "            self.idx += 1\n",
    "            if self.idx >= len(self.letters):\n",
    "                return False\n",
    "            self.count = self.nums[self.idx]\n",
    "        return True\n",
    "        \n",
    "        \n",
    "\n",
    "\n",
    "# Your StringIterator object will be instantiated and called as such:\n",
    "# obj = StringIterator(compressedString)\n",
    "# param_1 = obj.next()\n",
    "# param_2 = obj.hasNext()\n"
   ]
  },
  {
   "cell_type": "code",
   "execution_count": null,
   "metadata": {},
   "outputs": [],
   "source": []
  },
  {
   "cell_type": "code",
   "execution_count": null,
   "metadata": {},
   "outputs": [],
   "source": [
    "160. Intersection of Two Linked Lists"
   ]
  },
  {
   "cell_type": "code",
   "execution_count": null,
   "metadata": {},
   "outputs": [],
   "source": [
    "class Solution():\n",
    "    def IntersectionTwoionLinkedLists(self,h1,h2):\n",
    "        if h1 is None or h2 is None: return None\n",
    "        p1, p2 = h1, h2 \n",
    "        while p1 is not p2:\n",
    "            p1 = h2 if p1 is None else p1.next\n",
    "            p2 = h1 if p2 is None else p2.next\n",
    "        return p1"
   ]
  },
  {
   "cell_type": "code",
   "execution_count": null,
   "metadata": {},
   "outputs": [],
   "source": []
  },
  {
   "cell_type": "code",
   "execution_count": null,
   "metadata": {},
   "outputs": [],
   "source": [
    "507. Perfect Number\n",
    "\n",
    "We define the Perfect Number is a positive integer that is equal to the sum of all its positive divisors except itself.\n",
    "\n",
    "Now, given an integer n, write a function that returns true when it is a perfect number and false when it is not.\n",
    "Example:\n",
    "Input: 28\n",
    "Output: True\n",
    "Explanation: 28 = 1 + 2 + 4 + 7 + 14\n",
    "Note: The input number n will not exceed 100,000,000. (1e8)\n",
    "\n"
   ]
  },
  {
   "cell_type": "code",
   "execution_count": 56,
   "metadata": {},
   "outputs": [
    {
     "name": "stdout",
     "output_type": "stream",
     "text": [
      "56\n"
     ]
    },
    {
     "data": {
      "text/plain": [
       "True"
      ]
     },
     "execution_count": 56,
     "metadata": {},
     "output_type": "execute_result"
    }
   ],
   "source": [
    "class Solution(object):\n",
    "    def checkPerfectNumber(self, num):\n",
    "        \"\"\"\n",
    "        :type num: int\n",
    "        :rtype: bool\n",
    "        \"\"\"\n",
    "        if num <= 0: return False\n",
    "        ans, SQRT = 0, int(num ** 0.5)\n",
    "        #print(SQRT)\n",
    "        ans = sum(i + num//i for i in range(1, SQRT+1) if not num % i)\n",
    "        if num == SQRT ** 2: ans -= SQRT #if the middle number is its divisor, then it was added twice, here just to substract it\n",
    "        print (ans)\n",
    "        return ans - num == num\n",
    "a = Solution()\n",
    "a.checkPerfectNumber(28)"
   ]
  },
  {
   "cell_type": "code",
   "execution_count": null,
   "metadata": {},
   "outputs": [],
   "source": []
  },
  {
   "cell_type": "code",
   "execution_count": null,
   "metadata": {},
   "outputs": [],
   "source": [
    "    def CountPrimes2(self, n):\n",
    "        if n <= 2:\n",
    "            return 0\n",
    "        res = [True] * n\n",
    "        res[0] = res[1] = False\n",
    "        for i in range(2, n):\n",
    "            if res[i] == True:\n",
    "                print(i)\n",
    "                for j in range(2, (n-1)//i+1):\n",
    "                    res[i*j] = False\n",
    "        return sum(res)"
   ]
  },
  {
   "cell_type": "code",
   "execution_count": 777,
   "metadata": {},
   "outputs": [
    {
     "name": "stdout",
     "output_type": "stream",
     "text": [
      "2,3,5,7,11,13,17,19,23,\n"
     ]
    }
   ],
   "source": [
    "n=28\n",
    "res=''\n",
    "for p in range(2, n+1):\n",
    "    for i in range(2, p):\n",
    "        if p % i == 0:\n",
    "            break\n",
    "    else:\n",
    "        res += str(p)+','\n",
    "print (res)"
   ]
  },
  {
   "cell_type": "code",
   "execution_count": 18,
   "metadata": {},
   "outputs": [
    {
     "name": "stdout",
     "output_type": "stream",
     "text": [
      "[2, 3, 5, 7, 11, 13, 17, 19, 23]\n"
     ]
    }
   ],
   "source": [
    "n=28\n",
    "res=[]\n",
    "for p in range(2, n+1):\n",
    "    for i in range(2, int(p**0.5)+1):\n",
    "        if p % i == 0:\n",
    "            break\n",
    "    else:\n",
    "        res.append(p)\n",
    "print (res)"
   ]
  },
  {
   "cell_type": "code",
   "execution_count": null,
   "metadata": {},
   "outputs": [],
   "source": []
  },
  {
   "cell_type": "code",
   "execution_count": null,
   "metadata": {},
   "outputs": [],
   "source": [
    "680. Valid Palindrome II\n",
    "\n",
    "Given a non-empty string s, you may delete at most one character. Judge whether you can make it a palindrome.\n",
    "\n",
    "Example 1:\n",
    "Input: \"aba\"\n",
    "Output: True\n",
    "Example 2:\n",
    "Input: \"abca\"\n",
    "Output: True\n",
    "Explanation: You could delete the character 'c'.\n",
    "Note:\n",
    "The string will only contain lowercase characters a-z. The maximum length of the string is 50000.\n"
   ]
  },
  {
   "cell_type": "code",
   "execution_count": null,
   "metadata": {},
   "outputs": [],
   "source": [
    "    def validPalindrome(self, s):\n",
    "        i = 0\n",
    "        while i < len(s) / 2 and s[i] == s[-(i + 1)]: \n",
    "            i += 1\n",
    "        s = s[i:len(s) - i] #found i as the first non-match's index\n",
    "        return s[1:] == s[1:][::-1] or s[:-1] == s[:-1][::-1]"
   ]
  },
  {
   "cell_type": "code",
   "execution_count": null,
   "metadata": {},
   "outputs": [],
   "source": [
    "#We can use the standard two-pointer approach that starts at the left and right of the string and move inwards. \n",
    "#Whenever there is a mismatch, we can either exclude the character at the left or the right pointer. \n",
    "#We then take the two remaining substrings and compare against its reversed and see if either one is a palindrome.\n"
   ]
  },
  {
   "cell_type": "code",
   "execution_count": null,
   "metadata": {},
   "outputs": [],
   "source": [
    "class Solution(object):\n",
    "    def validPalindrome(self, s):\n",
    "        \"\"\"\n",
    "        :type s: str\n",
    "        :rtype: bool\n",
    "        \"\"\"\n",
    "        # Time: O(n)\n",
    "        # Space: O(n)\n",
    "        left, right = 0, len(s) - 1\n",
    "        while left < right:\n",
    "            if s[left] != s[right]:\n",
    "                one, two = s[left:right], s[left + 1:right + 1]\n",
    "                return one == one[::-1] or two == two[::-1]\n",
    "            left, right = left + 1, right - 1\n",
    "        return True"
   ]
  },
  {
   "cell_type": "code",
   "execution_count": null,
   "metadata": {},
   "outputs": [],
   "source": []
  },
  {
   "cell_type": "code",
   "execution_count": null,
   "metadata": {},
   "outputs": [],
   "source": [
    "949. Largest Time for Given Digits\n",
    "\n",
    "Given an array of 4 digits, return the largest 24 hour time that can be made.\n",
    "\n",
    "The smallest 24 hour time is 00:00, and the largest is 23:59.  Starting from 00:00, a time is larger if more time has elapsed since midnight.\n",
    "\n",
    "Return the answer as a string of length 5.  If no valid time can be made, return an empty string.\n",
    "\n",
    " \n",
    "\n",
    "Example 1:\n",
    "\n",
    "Input: [1,2,3,4]\n",
    "Output: \"23:41\"\n",
    "Example 2:\n",
    "\n",
    "Input: [5,5,5,5]\n",
    "Output: \"\"\n",
    " \n",
    "\n",
    "Note:\n",
    "\n",
    "A.length == 4\n",
    "0 <= A[i] <= 9\n"
   ]
  },
  {
   "cell_type": "code",
   "execution_count": null,
   "metadata": {},
   "outputs": [],
   "source": [
    "class Solution:\n",
    "    def largestTimeFromDigits(self, A):\n",
    "        h = m = -float(\"inf\")\n",
    "        for n1, n2, n3, n4 in itertools.permutations(A):\n",
    "            hh, mm = n1 * 10 + n2, n3 * 10 + n4\n",
    "            if 0 <= hh <= 23 and 0 <= mm <= 59 and (hh > h or hh == h and mm > m):\n",
    "                h, m = hh, mm\n",
    "        sh = str(h) if h > 9 else \"0\" + str(h)\n",
    "        sm = str(m) if m > 9 else \"0\" + str(m)\n",
    "        return 0 <= h <= 23 and 0 <= m <= 59 and sh + \":\" + sm or \"\""
   ]
  },
  {
   "cell_type": "code",
   "execution_count": null,
   "metadata": {},
   "outputs": [],
   "source": [
    "    def largestTimeFromDigits(self, A):\n",
    "        return max([\"%d%d:%d%d\" % t for t in itertools.permutations(A) if t[:2] < (2, 4) and t[2] < 6] or [\"\"])"
   ]
  },
  {
   "cell_type": "code",
   "execution_count": null,
   "metadata": {},
   "outputs": [],
   "source": []
  },
  {
   "cell_type": "code",
   "execution_count": null,
   "metadata": {},
   "outputs": [],
   "source": [
    "543. Diameter of Binary Tree\n",
    "Given a binary tree, you need to compute the length of the diameter of the tree. \n",
    "The diameter of a binary tree is the length of the longest path between any two nodes in a tree. This path may or may not pass through the root.\n",
    "\n",
    "Example:\n",
    "Given a binary tree \n",
    "          1\n",
    "         / \\\n",
    "        2   3\n",
    "       / \\     \n",
    "      4   5    \n",
    "Return 3, which is the length of the path [4,2,1,3] or [5,2,1,3].\n",
    "\n",
    "Note: The length of path between two nodes is represented by the number of edges between them.\n",
    "\n"
   ]
  },
  {
   "cell_type": "code",
   "execution_count": null,
   "metadata": {},
   "outputs": [],
   "source": [
    "class Solution(object):\n",
    "    def diameterOfBinaryTree(self, root):\n",
    "        \"\"\"\n",
    "        :type root: TreeNode\n",
    "        :rtype: int\n",
    "        \"\"\"\n",
    "        self.ans = 0\n",
    "        \n",
    "        def depth(p):\n",
    "            if not p: return 0\n",
    "            left, right = depth(p.left), depth(p.right)\n",
    "            self.ans = max(self.ans, left+right)\n",
    "            return 1 + max(left, right)\n",
    "            \n",
    "        depth(root)\n",
    "        return self.ans"
   ]
  },
  {
   "cell_type": "code",
   "execution_count": null,
   "metadata": {},
   "outputs": [],
   "source": []
  },
  {
   "cell_type": "code",
   "execution_count": null,
   "metadata": {},
   "outputs": [],
   "source": [
    "687. Longest Univalue Path\n",
    "\n",
    "Given a binary tree, find the length of the longest path where each node in the path has the same value. \n",
    "This path may or may not pass through the root.\n",
    "\n",
    "The length of path between two nodes is represented by the number of edges between them.\n",
    "\n",
    " \n",
    "\n",
    "Example 1:\n",
    "\n",
    "Input:\n",
    "\n",
    "              5\n",
    "             / \\\n",
    "            4   5\n",
    "           / \\   \\\n",
    "          1   1   5\n",
    "Output: 2\n",
    "\n",
    " \n",
    "\n",
    "Example 2:\n",
    "\n",
    "Input:\n",
    "\n",
    "              1\n",
    "             / \\\n",
    "            4   5\n",
    "           / \\   \\\n",
    "          4   4   5\n",
    "Output: 2\n",
    "\n",
    " \n",
    "\n",
    "Note: The given binary tree has not more than 10000 nodes. The height of the tree is not more than 1000.\n",
    "    \n",
    "#543"
   ]
  },
  {
   "cell_type": "code",
   "execution_count": null,
   "metadata": {},
   "outputs": [],
   "source": [
    "class Solution(object):\n",
    "    def longestUnivaluePath(self, root):\n",
    "        \"\"\"\n",
    "        :type root: TreeNode\n",
    "        :rtype: int\n",
    "        \"\"\"\n",
    "        # Time: O(n)\n",
    "        # Space: O(n)\n",
    "        longest = [0]\n",
    "        def traverse(node):\n",
    "            if not node:\n",
    "                return 0\n",
    "            left_len, right_len = traverse(node.left), traverse(node.right)\n",
    "            left = (left_len + 1) if node.left and node.left.val == node.val else 0\n",
    "            right = (right_len + 1) if node.right and node.right.val == node.val else 0\n",
    "            longest[0] = max(longest[0], left + right)\n",
    "            return max(left, right)\n",
    "        traverse(root)\n",
    "        return longest[0]"
   ]
  },
  {
   "cell_type": "code",
   "execution_count": null,
   "metadata": {},
   "outputs": [],
   "source": [
    "The approach is similar to the Diameter of Binary Tree question except that we reset the left/right to 0 whenever the current node does not match the children node value.\n",
    "\n",
    "In the Diameter of Binary Tree question, the path can either go through the root or it doesn't.\n",
    "\n"
   ]
  },
  {
   "cell_type": "code",
   "execution_count": null,
   "metadata": {},
   "outputs": [],
   "source": [
    "def longestUnivaluePath(self, root):\n",
    "        \"\"\"\n",
    "        :type root: TreeNode\n",
    "        :rtype: int\n",
    "        \"\"\"\n",
    "        def dfs(root,res):\n",
    "            l,r=0,0\n",
    "            if root.left:\n",
    "                l=dfs(root.left,res)\n",
    "                l=l+1 if root.left.val==root.val else 0\n",
    "            if root.right:\n",
    "                r=dfs(root.right,res)\n",
    "                r=r+1 if root.right.val==root.val else 0\n",
    "            res=max(res,r+l)\n",
    "            return max(l,r)\n",
    "               \n",
    "\n",
    "        if not root:\n",
    "            return 0\n",
    "        res=0\n",
    "        dfs(root,res)\n",
    "        return res"
   ]
  },
  {
   "cell_type": "code",
   "execution_count": null,
   "metadata": {},
   "outputs": [],
   "source": []
  },
  {
   "cell_type": "code",
   "execution_count": null,
   "metadata": {},
   "outputs": [],
   "source": [
    "914. X of a Kind in a Deck of Cards\n",
    "\n",
    "In a deck of cards, each card has an integer written on it.\n",
    "\n",
    "Return true if and only if you can choose X >= 2 such that \n",
    "it is possible to split the entire deck into 1 or more groups of cards, where:\n",
    "\n",
    "Each group has exactly X cards.\n",
    "All the cards in each group have the same integer.\n",
    " \n",
    "\n",
    "Example 1:\n",
    "\n",
    "Input: [1,2,3,4,4,3,2,1]\n",
    "Output: true\n",
    "Explanation: Possible partition [1,1],[2,2],[3,3],[4,4]\n",
    "Example 2:\n",
    "\n",
    "Input: [1,1,1,2,2,2,3,3]\n",
    "Output: false\n",
    "Explanation: No possible partition.\n",
    "Example 3:\n",
    "\n",
    "Input: [1]\n",
    "Output: false\n",
    "Explanation: No possible partition.\n",
    "Example 4:\n",
    "\n",
    "Input: [1,1]\n",
    "Output: true\n",
    "Explanation: Possible partition [1,1]\n",
    "Example 5:\n",
    "\n",
    "Input: [1,1,2,2,2,2]\n",
    "Output: true\n",
    "Explanation: Possible partition [1,1],[2,2],[2,2]\n",
    "\n",
    "Note:\n",
    "\n",
    "1 <= deck.length <= 10000\n",
    "0 <= deck[i] < 10000"
   ]
  },
  {
   "cell_type": "code",
   "execution_count": null,
   "metadata": {},
   "outputs": [],
   "source": [
    "    def hasGroupsSizeX(self, deck):\n",
    "        return reduce(fractions.gcd, collections.Counter(deck).values()) > 1"
   ]
  },
  {
   "cell_type": "code",
   "execution_count": null,
   "metadata": {},
   "outputs": [],
   "source": [
    "def hasGroupsSizeX(self, deck):\n",
    "        def gcd(a, b):\n",
    "            while b: a, b = b, a % b\n",
    "            return a\n",
    "        count = collections.Counter(deck).values()\n",
    "        return reduce(gcd, count) > 1"
   ]
  },
  {
   "cell_type": "code",
   "execution_count": null,
   "metadata": {},
   "outputs": [],
   "source": [
    "class Solution:\n",
    "    def hasGroupsSizeX(self, deck):\n",
    "        \"\"\"\n",
    "        :type deck: List[int]\n",
    "        :rtype: bool\n",
    "        \"\"\"\n",
    "        from fractions import gcd\n",
    "        from functools import reduce\n",
    "        \n",
    "        tmp = collections.Counter(deck).values()\n",
    "        return reduce(gcd, tmp) >= 2"
   ]
  },
  {
   "cell_type": "code",
   "execution_count": null,
   "metadata": {},
   "outputs": [],
   "source": [
    "class Solution(object):\n",
    "    def hasGroupsSizeX(self, deck):\n",
    "        \"\"\"\n",
    "        :type deck: List[int]\n",
    "        :rtype: bool\n",
    "        \"\"\"\n",
    "        if not deck:\n",
    "            return False\n",
    "        dic = collections.Counter(deck)\n",
    "        div = min(dic.values())\n",
    "        if div < 2:\n",
    "            return False\n",
    "        for i in range(2, div+1):\n",
    "            if all(val % i == 0 for val in dic.values()):\n",
    "                return True\n",
    "        return False"
   ]
  },
  {
   "cell_type": "code",
   "execution_count": null,
   "metadata": {},
   "outputs": [],
   "source": []
  },
  {
   "cell_type": "code",
   "execution_count": null,
   "metadata": {},
   "outputs": [],
   "source": [
    "196. Delete Duplicate Emails\n",
    "#SQL\n",
    "select Id, Email from\n",
    "(select *,\n",
    "row_number( ) over (partition by Email order by Id desc) as row_rank\n",
    "from Person) base0\n",
    "where row_rank = 1"
   ]
  },
  {
   "cell_type": "code",
   "execution_count": null,
   "metadata": {},
   "outputs": [],
   "source": []
  },
  {
   "cell_type": "code",
   "execution_count": null,
   "metadata": {},
   "outputs": [],
   "source": [
    "195. Tenth Line\n",
    "Given a text file file.txt, print just the 10th line of the file.\n",
    "\n",
    "#bash script\n",
    "awk 'NR==10' file.txt\n",
    "sed -n '10p'< file.txt\n",
    "tail -n +10 file.txt | head -n 1"
   ]
  },
  {
   "cell_type": "code",
   "execution_count": null,
   "metadata": {},
   "outputs": [],
   "source": []
  },
  {
   "cell_type": "code",
   "execution_count": null,
   "metadata": {},
   "outputs": [],
   "source": [
    "14. Longest Common Prefix"
   ]
  },
  {
   "cell_type": "code",
   "execution_count": 781,
   "metadata": {},
   "outputs": [
    {
     "data": {
      "text/plain": [
       "'fl'"
      ]
     },
     "execution_count": 781,
     "metadata": {},
     "output_type": "execute_result"
    }
   ],
   "source": [
    "class Solution():\n",
    "    def LongestCommonPrefix(self,s):\n",
    "        s = sorted(s,key=len)\n",
    "        res,smin=\"\",s[0]\n",
    "        for i in range(len(smin)):\n",
    "            for j in range(1,len(s)):\n",
    "                if(smin[i]!=s[j][i]):\n",
    "                    i = len(smin)\n",
    "                    break\n",
    "                elif j==(len(s)-1):\n",
    "                    res += smin[i]\n",
    "        return res\n",
    "strs = [\"flower\",\"flow\",\"flight\"]\n",
    "a=Solution()\n",
    "a.LongestCommonPrefix(strs)"
   ]
  },
  {
   "cell_type": "code",
   "execution_count": null,
   "metadata": {},
   "outputs": [],
   "source": [
    "def longestCommonPrefix(self, strs):\n",
    "    if not strs:\n",
    "        return \"\"\n",
    "    return reduce(self.merge, strs)\n",
    "    \n",
    "def merge(self, h1, h2):\n",
    "    i = 0\n",
    "    while i < len(h1) and i < len(h2) and h1[i] == h2[i]:\n",
    "        i += 1\n",
    "    return h1[:i]\n"
   ]
  },
  {
   "cell_type": "code",
   "execution_count": null,
   "metadata": {},
   "outputs": [],
   "source": [
    "def longestCommonPrefix(self, strs):\n",
    "    minL = min(map(len, strs)) if strs else 0\n",
    "    for i in range(minL):\n",
    "        for j in range(1, len(strs)):\n",
    "            if strs[j][i] != strs[0][i]:\n",
    "                return strs[0][:i]\n",
    "    return strs[0][:minL] if minL else \"\""
   ]
  },
  {
   "cell_type": "code",
   "execution_count": null,
   "metadata": {},
   "outputs": [],
   "source": [
    "class Solution:\n",
    "    # @return a string\n",
    "    def longestCommonPrefix(self, strs):\n",
    "        if not strs:\n",
    "            return \"\"\n",
    "            \n",
    "        for i, letter_group in enumerate(zip(*strs)):\n",
    "            if len(set(letter_group)) > 1:\n",
    "                return strs[0][:i]\n",
    "        else:\n",
    "            return min(strs)"
   ]
  },
  {
   "cell_type": "code",
   "execution_count": 783,
   "metadata": {},
   "outputs": [
    {
     "name": "stdout",
     "output_type": "stream",
     "text": [
      "0 ('f', 'f', 'f')\n",
      "1 ('l', 'l', 'l')\n",
      "2 ('o', 'o', 'i')\n",
      "3 ('w', 'w', 'g')\n",
      "['flow', 'flower', 'flight']\n"
     ]
    }
   ],
   "source": [
    "strs=[\"flower\",\"flow\",\"flight\"]\n",
    "for i, letter_group in enumerate(zip(*strs)):\n",
    "    print (i, letter_group)\n",
    "print(sorted(strs,key=len))"
   ]
  },
  {
   "cell_type": "code",
   "execution_count": null,
   "metadata": {},
   "outputs": [],
   "source": [
    "def longestCommonPrefix(self, strs):\n",
    "    return __import__('os').path.commonprefix(strs)"
   ]
  },
  {
   "cell_type": "code",
   "execution_count": null,
   "metadata": {},
   "outputs": [],
   "source": []
  },
  {
   "cell_type": "code",
   "execution_count": null,
   "metadata": {},
   "outputs": [],
   "source": [
    "754. Reach a Number\n",
    "\n",
    "You are standing at position 0 on an infinite number line. There is a goal at position target.\n",
    "\n",
    "On each move, you can either go left or right. During the n-th move (starting from 1), you take n steps.\n",
    "\n",
    "Return the minimum number of steps required to reach the destination.\n",
    "\n",
    "Example 1:\n",
    "Input: target = 3\n",
    "Output: 2\n",
    "Explanation:\n",
    "On the first move we step from 0 to 1.\n",
    "On the second step we step from 1 to 3.\n",
    "Example 2:\n",
    "Input: target = 2\n",
    "Output: 3\n",
    "Explanation:\n",
    "On the first move we step from 0 to 1.\n",
    "On the second move we step  from 1 to -1.\n",
    "On the third move we step from -1 to 2.\n",
    "Note:\n",
    "target will be a non-zero integer in the range [-10^9, 10^9]."
   ]
  },
  {
   "cell_type": "code",
   "execution_count": null,
   "metadata": {},
   "outputs": [],
   "source": [
    "def reachNumber(self, target):\n",
    "    t = abs(target)\n",
    "    n = math.floor(math.sqrt(2*t))\n",
    "    while True:\n",
    "        to_minus = ((n+1)*n)/2 - t \n",
    "        if to_minus >= 0:  \n",
    "            if to_minus%2==0:\n",
    "                return int(n)\n",
    "        n+=1"
   ]
  },
  {
   "cell_type": "code",
   "execution_count": null,
   "metadata": {},
   "outputs": [],
   "source": []
  },
  {
   "cell_type": "code",
   "execution_count": null,
   "metadata": {},
   "outputs": [],
   "source": [
    "633. Sum of Square Numbers\n",
    "\n",
    "Given a non-negative integer c, your task is to decide whether there're two integers a and b such that a2 + b2 = c.\n",
    "\n",
    "Example 1:\n",
    "\n",
    "Input: 5\n",
    "Output: True\n",
    "Explanation: 1 * 1 + 2 * 2 = 5\n",
    " \n",
    "\n",
    "Example 2:\n",
    "\n",
    "Input: 3\n",
    "Output: False"
   ]
  },
  {
   "cell_type": "code",
   "execution_count": null,
   "metadata": {},
   "outputs": [],
   "source": [
    "class Solution:\n",
    "    def judgeSquareSum(self, c: int) -> bool:\n",
    "        return not all(((c - i ** 2) ** 0.5) % 1 for i in range(int(c ** 0.5) + 1))"
   ]
  },
  {
   "cell_type": "code",
   "execution_count": null,
   "metadata": {},
   "outputs": [],
   "source": [
    "Without loss of generality, let's consider only a, b >= 0. This is because if say, a < 0, then we may also find a solution using abs(a).\n",
    "\n",
    "Now, a*a = c - b*b <= c, because b*b >= 0, and 0 <= a <= sqrt(c) is a necessary condition for a solution.\n",
    "\n",
    "Let's try each 0 <= a <= sqrt(c). For each choice of a, we must have b*b = c - a*a. There will be a solution if and only if the right-hand-side is a perfect square."
   ]
  },
  {
   "cell_type": "code",
   "execution_count": null,
   "metadata": {},
   "outputs": [],
   "source": [
    "def judgeSquareSum(self, c):\n",
    "    def is_square(N):\n",
    "        return int(N**.5)**2 == N\n",
    "        \n",
    "    return any(is_square(c - a*a) \n",
    "                for a in range(int(c**.5) + 1))"
   ]
  },
  {
   "cell_type": "code",
   "execution_count": null,
   "metadata": {},
   "outputs": [],
   "source": [
    "class Solution(object):\n",
    "    def judgeSquareSum(self, c):\n",
    "        \"\"\"\n",
    "        :type c: int\n",
    "        :rtype: bool\n",
    "        \"\"\"\n",
    "        return any(c - a*a == int((c - a*a) ** 0.5) ** 2 for a in range(int(c ** 0.5) + 1))"
   ]
  },
  {
   "cell_type": "code",
   "execution_count": null,
   "metadata": {},
   "outputs": [],
   "source": [
    "class Solution(object):\n",
    "    def judgeSquareSum(self, c):\n",
    "        \"\"\"\n",
    "        :type c: int\n",
    "        :rtype: bool\n",
    "        \"\"\"\n",
    "        maxs = 1\n",
    "        while (maxs * maxs) < c :\n",
    "            maxs +=1 \n",
    "        \n",
    "        \n",
    "        lo = 0\n",
    "        hi = int(c**0.5)+1\n",
    "        while lo <= hi:\n",
    "            if ((lo * lo) + (hi * hi)) == c :\n",
    "                return True\n",
    "            if ((lo * lo) + (hi * hi)) < c :\n",
    "                lo += 1\n",
    "            if ((lo * lo) + (hi * hi)) > c :\n",
    "                hi -= 1\n",
    "        \n",
    "        # Bruthe force until maxs O(n^2)\n",
    "        # for i in range(1,maxs):\n",
    "        #    for j in range(1,maxs):\n",
    "        #        if c == (i*i + j*j):\n",
    "        #            return True\n",
    "        \n",
    "        return False"
   ]
  },
  {
   "cell_type": "code",
   "execution_count": null,
   "metadata": {},
   "outputs": [],
   "source": [
    "def judgeSquareSum(self, c):\n",
    "        # we can let 0<=a<=b, then a**2<=c/2,\n",
    "        # so a is between 0 and floor(sqrt(c/2))\n",
    "        for a in range(int(math.sqrt(c / 2)) + 1):\n",
    "            if math.sqrt(c - a ** 2).is_integer():\n",
    "                return True\n",
    "        return False"
   ]
  },
  {
   "cell_type": "code",
   "execution_count": null,
   "metadata": {},
   "outputs": [],
   "source": []
  },
  {
   "cell_type": "code",
   "execution_count": null,
   "metadata": {},
   "outputs": [],
   "source": [
    "874. Walking Robot Simulation\n",
    "\n",
    "A robot on an infinite grid starts at point (0, 0) and faces north.  The robot can receive one of three possible types of commands:\n",
    "\n",
    "-2: turn left 90 degrees\n",
    "-1: turn right 90 degrees\n",
    "1 <= x <= 9: move forward x units\n",
    "Some of the grid squares are obstacles. \n",
    "\n",
    "The i-th obstacle is at grid point (obstacles[i][0], obstacles[i][1])\n",
    "\n",
    "If the robot would try to move onto them, the robot stays on the previous grid square instead (but still continues following the rest of the route.)\n",
    "\n",
    "Return the square of the maximum Euclidean distance that the robot will be from the origin.\n",
    "\n",
    " \n",
    "\n",
    "Example 1:\n",
    "\n",
    "Input: commands = [4,-1,3], obstacles = []\n",
    "Output: 25\n",
    "Explanation: robot will go to (3, 4)\n",
    "Example 2:\n",
    "\n",
    "Input: commands = [4,-1,4,-2,4], obstacles = [[2,4]]\n",
    "Output: 65\n",
    "Explanation: robot will be stuck at (1, 4) before turning left and going to (1, 8)\n",
    " \n",
    "\n",
    "Note:\n",
    "\n",
    "0 <= commands.length <= 10000\n",
    "0 <= obstacles.length <= 10000\n",
    "-30000 <= obstacle[i][0] <= 30000\n",
    "-30000 <= obstacle[i][1] <= 30000\n",
    "The answer is guaranteed to be less than 2 ^ 31."
   ]
  },
  {
   "cell_type": "code",
   "execution_count": null,
   "metadata": {},
   "outputs": [],
   "source": [
    "class Solution:\n",
    "    def robotSim(self, commands, obstacles):\n",
    "        \"\"\"\n",
    "        :type commands: List[int]\n",
    "        :type obstacles: List[List[int]]\n",
    "        :rtype: int\n",
    "        \"\"\"\n",
    "        # directions = ['N', 'E', 'S', 'W']\n",
    "        # 0 - N, 1 - E, 2 - S, 3 - W\n",
    "        position_offset, obstacles = [(0, 1), (1, 0), (0, -1), (-1, 0)], set(map(tuple, obstacles))\n",
    "        x, y, direction, max_distance = 0, 0, 0, 0\n",
    "        for command in commands:\n",
    "            if command == -2: direction = (direction - 1) % 4\n",
    "            elif command == -1: direction = (direction + 1) % 4\n",
    "            else:\n",
    "                x_off, y_off = position_offset[direction][0], position_offset[direction][1]\n",
    "                while command > 0:\n",
    "                    if (x+x_off, y+y_off) not in obstacles:\n",
    "                        x, y = x+x_off, y+y_off\n",
    "                    command -= 1\n",
    "                max_distance = max(max_distance, x**2 + y**2)\n",
    "        return max_distance"
   ]
  },
  {
   "cell_type": "code",
   "execution_count": 784,
   "metadata": {},
   "outputs": [
    {
     "name": "stdout",
     "output_type": "stream",
     "text": [
      "{(2, 4)}\n"
     ]
    }
   ],
   "source": [
    "obstacles = [[2,4]]\n",
    "st = set(map(tuple, obstacles))\n",
    "print(st)"
   ]
  },
  {
   "cell_type": "code",
   "execution_count": null,
   "metadata": {},
   "outputs": [],
   "source": [
    "        dx = 0\n",
    "        dy = 1\n",
    "        for command in commands:\n",
    "            if command == -2:\n",
    "                dx,dy = -dy,dx\n",
    "            elif command == -1:\n",
    "                dx,dy = dy, dx\n",
    "            else:\n",
    "                for i in range(command):\n",
    "                    if (x+dx,y+dy) in obstructionSet:\n",
    "                        break\n",
    "                    else:\n",
    "                        x += dx\n",
    "                        y += dy\n",
    "                best = max(best, x*x+y*y)"
   ]
  },
  {
   "cell_type": "code",
   "execution_count": null,
   "metadata": {},
   "outputs": [],
   "source": []
  },
  {
   "cell_type": "code",
   "execution_count": null,
   "metadata": {},
   "outputs": [],
   "source": [
    "28. Implement strStr()\n",
    "Return the index of the first occurrence of needle in haystack, or -1 if needle is not part of haystack."
   ]
  },
  {
   "cell_type": "code",
   "execution_count": null,
   "metadata": {},
   "outputs": [],
   "source": [
    "class Solution():\n",
    "    def strStr(self,strs,substr):\n",
    "        if len(strs)<len(substr):\n",
    "            return -1\n",
    "        for i in range(len(strs)-len(substr)+1):\n",
    "            if strs[i:i+len(substr)]==substr:\n",
    "                return i\n",
    "        return -1\n",
    "strs,substr=\"hello\",\"ll\"\n",
    "a=Solution()\n",
    "a.strStr(strs,substr)"
   ]
  },
  {
   "cell_type": "code",
   "execution_count": null,
   "metadata": {},
   "outputs": [],
   "source": []
  },
  {
   "cell_type": "code",
   "execution_count": null,
   "metadata": {},
   "outputs": [],
   "source": [
    "58. Length of Last Word\n",
    "Given a string s consists of upper/lower-case alphabets and empty space characters ' ', \n",
    "return the length of last word in the string.\n"
   ]
  },
  {
   "cell_type": "code",
   "execution_count": 785,
   "metadata": {},
   "outputs": [
    {
     "data": {
      "text/plain": [
       "5"
      ]
     },
     "execution_count": 785,
     "metadata": {},
     "output_type": "execute_result"
    }
   ],
   "source": [
    "class Solution():\n",
    "    def LengthLastWord(self,s):\n",
    "        if len(s.split())==0: \n",
    "            return 0\n",
    "        else:\n",
    "            return len(s.split()[-1])\n",
    "s = \"Hello World\"\n",
    "a=Solution()\n",
    "a.LengthLastWord(s)"
   ]
  },
  {
   "cell_type": "code",
   "execution_count": 787,
   "metadata": {},
   "outputs": [
    {
     "data": {
      "text/plain": [
       "5"
      ]
     },
     "execution_count": 787,
     "metadata": {},
     "output_type": "execute_result"
    }
   ],
   "source": [
    "class solution():\n",
    "    def LengthLastWord(self,s):\n",
    "        cnt=0\n",
    "        for i in range(len(s)-1,0,-1):\n",
    "            if s[i].isalpha():\n",
    "                cnt += 1\n",
    "            elif s[i]==' ':\n",
    "                    break\n",
    "        return cnt\n",
    "s = \"Hello World\"\n",
    "a=solution()\n",
    "a.LengthLastWord(s)"
   ]
  },
  {
   "cell_type": "code",
   "execution_count": null,
   "metadata": {},
   "outputs": [],
   "source": []
  },
  {
   "cell_type": "code",
   "execution_count": null,
   "metadata": {},
   "outputs": [],
   "source": [
    "190. Reverse Bits\n",
    "Reverse bits of a given 32 bits unsigned integer.\n",
    "#REFER to question 476"
   ]
  },
  {
   "cell_type": "code",
   "execution_count": 41,
   "metadata": {},
   "outputs": [
    {
     "name": "stdout",
     "output_type": "stream",
     "text": [
      "964176192\n"
     ]
    },
    {
     "data": {
      "text/plain": [
       "3221225471"
      ]
     },
     "execution_count": 41,
     "metadata": {},
     "output_type": "execute_result"
    }
   ],
   "source": [
    "class Solution():\n",
    "    def ReverseBits(self,n):\n",
    "        res=0\n",
    "        for i in range(32):\n",
    "            res = res*2 + n%2\n",
    "            n //= 2\n",
    "        return res\n",
    "n=43261596\n",
    "a=Solution()\n",
    "print(a.ReverseBits(n))\n",
    "n=4294967293\n",
    "a.ReverseBits(n)"
   ]
  },
  {
   "cell_type": "code",
   "execution_count": 39,
   "metadata": {},
   "outputs": [
    {
     "data": {
      "text/plain": [
       "23847267"
      ]
     },
     "execution_count": 39,
     "metadata": {},
     "output_type": "execute_result"
    }
   ],
   "source": [
    "class solution():\n",
    "    def bitwiseComplement(self, N: int) -> int:\n",
    "        mask = 1\n",
    "        while mask < N:\n",
    "            mask = (mask << 1) + 1\n",
    "        return N ^ mask\n",
    "n=43261596\n",
    "a=solution()\n",
    "a.bitwiseComplement(n)"
   ]
  },
  {
   "cell_type": "code",
   "execution_count": null,
   "metadata": {},
   "outputs": [],
   "source": []
  },
  {
   "cell_type": "code",
   "execution_count": null,
   "metadata": {},
   "outputs": [],
   "source": [
    "475. Heaters\n",
    "\n",
    "Winter is coming! Your first job during the contest is to design a standard heater with fixed warm radius to warm all the houses.\n",
    "\n",
    "Now, you are given positions of houses and heaters on a horizontal line, find out minimum radius of heaters so that all houses could be covered by those heaters.\n",
    "\n",
    "So, your input will be the positions of houses and heaters seperately, and your expected output will be the minimum radius standard of heaters.\n",
    "\n",
    "Note:\n",
    "\n",
    "Numbers of houses and heaters you are given are non-negative and will not exceed 25000.\n",
    "Positions of houses and heaters you are given are non-negative and will not exceed 10^9.\n",
    "As long as a house is in the heaters' warm radius range, it can be warmed.\n",
    "All the heaters follow your radius standard and the warm radius will the same.\n",
    " \n",
    "\n",
    "Example 1:\n",
    "\n",
    "Input: [1,2,3],[2]\n",
    "Output: 1\n",
    "Explanation: The only heater was placed in the position 2, and if we use the radius 1 standard, then all the houses can be warmed.\n",
    " \n",
    "\n",
    "Example 2:\n",
    "\n",
    "Input: [1,2,3,4],[1,4]\n",
    "Output: 1\n",
    "Explanation: The two heater was placed in the position 1 and 4. We need to use radius 1 standard, then all the houses can be warmed.\n"
   ]
  },
  {
   "cell_type": "code",
   "execution_count": 805,
   "metadata": {},
   "outputs": [
    {
     "name": "stdout",
     "output_type": "stream",
     "text": [
      "[1, 4]\n",
      "1\n"
     ]
    }
   ],
   "source": [
    "heater, n =[1,4], 4\n",
    "#h, n = [2], 3\n",
    "s=set([1,n]+sorted(heater))\n",
    "s = list(s)\n",
    "print(s)\n",
    "maxd = 0\n",
    "for i in range(1, len(s)):\n",
    "    maxd = max(maxd,s[i]-s[i-1])\n",
    "print (max((maxd-1)//2, 1))"
   ]
  },
  {
   "cell_type": "code",
   "execution_count": null,
   "metadata": {},
   "outputs": [],
   "source": [
    "def findRadius(self, houses, heaters):\n",
    "    heaters.sort()\n",
    "    return max(min(abs(house - heater)\n",
    "                   for i in [bisect.bisect(heaters, house)]\n",
    "                   for heater in heaters[i-(i>0):i+1])\n",
    "               for house in houses)"
   ]
  },
  {
   "cell_type": "code",
   "execution_count": null,
   "metadata": {},
   "outputs": [],
   "source": [
    "#The idea is that for every house, you want to find the closest 2 heaters, and whichever in the 2 that is closer should warm this house. Iterate through the houses, use binary search to find the closest 2 heaters, update answer.\n",
    "\n",
    "class Solution(object):\n",
    "    def findRadius(self, houses, heaters):\n",
    "        \n",
    "        heaters.sort()\n",
    "        \n",
    "        ans = 0\n",
    "        \n",
    "        for h in houses:\n",
    "            hi = bisect.bisect_left(heaters, h)\n",
    "            left = heaters[hi-1] if hi-1 >= 0 else float('-inf')\n",
    "            right = heaters[hi] if hi < len(heaters) else float('inf')\n",
    "            ans = max(ans, min(h-left, right-h))\n",
    "            \n",
    "        return ans\n"
   ]
  },
  {
   "cell_type": "code",
   "execution_count": null,
   "metadata": {},
   "outputs": [],
   "source": [
    "#Go through houses and heaters in ascending order. \n",
    "#My i points to the current closest heater. \n",
    "#Go to the next heater if the current house coordinate is larger than or equal to the middle between the current and the next heater.\n",
    "\n",
    "def findRadius(self, houses, heaters):\n",
    "    heaters = sorted(heaters) + [float('inf')]\n",
    "    i = r = 0\n",
    "    for x in sorted(houses):\n",
    "        while x >= sum(heaters[i:i+2]) / 2.:\n",
    "            i += 1\n",
    "        r = max(r, abs(heaters[i] - x))\n",
    "    return r"
   ]
  },
  {
   "cell_type": "code",
   "execution_count": null,
   "metadata": {},
   "outputs": [],
   "source": []
  },
  {
   "cell_type": "code",
   "execution_count": null,
   "metadata": {},
   "outputs": [],
   "source": [
    "69. Sqrt(x)"
   ]
  },
  {
   "cell_type": "code",
   "execution_count": null,
   "metadata": {},
   "outputs": [],
   "source": [
    "class Solution():\n",
    "    def sqrt(self, x):\n",
    "        l,r=0,x\n",
    "        while l<=r:\n",
    "            mid = (l+r)//2\n",
    "            if mid*mid<=x<(mid+1)*(mid+1):\n",
    "                return mid\n",
    "            elif mid*mid < x:\n",
    "                l=mid+1\n",
    "            else:\n",
    "                r=mid\n",
    "x=8\n",
    "a=Solution()\n",
    "a.sqrt(x)"
   ]
  },
  {
   "cell_type": "code",
   "execution_count": null,
   "metadata": {},
   "outputs": [],
   "source": []
  },
  {
   "cell_type": "code",
   "execution_count": null,
   "metadata": {},
   "outputs": [],
   "source": [
    "125. Valid Palindrome"
   ]
  },
  {
   "cell_type": "code",
   "execution_count": null,
   "metadata": {},
   "outputs": [],
   "source": [
    "import re\n",
    "class Solution():\n",
    "    def ValidPalindrome(self,s):\n",
    "        ss = \"\".join(re.findall(\"[a-zA-Z0-9]*\",s)).lower()\n",
    "        return ss==ss[::-1]\n",
    "\n",
    "strs=\"A man, a plan, a canal: Panama\"\n",
    "a = Solution()\n",
    "a.ValidPalindrome(strs)"
   ]
  },
  {
   "cell_type": "code",
   "execution_count": null,
   "metadata": {},
   "outputs": [],
   "source": []
  },
  {
   "cell_type": "code",
   "execution_count": null,
   "metadata": {},
   "outputs": [],
   "source": [
    "686. Repeated String Match\n",
    "\n",
    "Given two strings A and B, find the minimum number of times A has to be repeated such that B is a substring of it. If no such solution, return -1.\n",
    "\n",
    "For example, with A = \"abcd\" and B = \"cdabcdab\".\n",
    "\n",
    "Return 3, because by repeating A three times (“abcdabcdabcd”), B is a substring of it; and B is not a substring of A repeated two times (\"abcdabcd\").\n",
    "\n",
    "Note:\n",
    "The length of A and B will be between 1 and 10000.\n",
    "\n"
   ]
  },
  {
   "cell_type": "code",
   "execution_count": null,
   "metadata": {},
   "outputs": [],
   "source": [
    "class Solution(object):\n",
    "    def repeatedStringMatch(self, A, B):\n",
    "        times = -(-len(B) // len(A)) # Equal to ceil(len(b) / len(a))\n",
    "        #times = int(math.ceil(float(len(B)) / len(A)))\n",
    "        for i in range(2):\n",
    "            if B in (A * (times + i)):\n",
    "                return times + i\n",
    "        return -1"
   ]
  },
  {
   "cell_type": "code",
   "execution_count": null,
   "metadata": {},
   "outputs": [],
   "source": []
  },
  {
   "cell_type": "code",
   "execution_count": null,
   "metadata": {},
   "outputs": [],
   "source": [
    "605. Can Place Flowers\n",
    "\n",
    "Suppose you have a long flowerbed in which some of the plots are planted and some are not. \n",
    "However, flowers cannot be planted in adjacent plots - they would compete for water and both would die.\n",
    "\n",
    "Given a flowerbed (represented as an array containing 0 and 1, where 0 means empty and 1 means not empty), \n",
    "and a number n, return if n new flowers can be planted in it without violating the no-adjacent-flowers rule.\n",
    "\n",
    "Example 1:\n",
    "Input: flowerbed = [1,0,0,0,1], n = 1\n",
    "Output: True\n",
    "Example 2:\n",
    "Input: flowerbed = [1,0,0,0,1], n = 2\n",
    "Output: False\n",
    "Note:\n",
    "The input array won't violate no-adjacent-flowers rule.\n",
    "The input array size is in the range of [1, 20000].\n",
    "n is a non-negative integer which won't exceed the input array size.\n"
   ]
  },
  {
   "cell_type": "code",
   "execution_count": 820,
   "metadata": {},
   "outputs": [
    {
     "name": "stdout",
     "output_type": "stream",
     "text": [
      "10001000000100\n",
      "0100010000001000\n",
      "['0', '000', '000000', '000']\n",
      "[0, 1, 2, 1]\n",
      "4\n"
     ]
    }
   ],
   "source": [
    "f=[1,0,0,0,1,0,0,0,0,0,0,1,0,0]\n",
    "#wrong - doesn't consider the starting and ending points\n",
    "s=''.join(str(i) for i in f)\n",
    "print(s)\n",
    "#correction - add boundary condition\n",
    "s='0'+s+'0'\n",
    "print(s)\n",
    "s1=s.split('1')\n",
    "print(s1)\n",
    "d = [max((len(j)-1)//2,0) for j in s1]\n",
    "print(d)\n",
    "print(sum(d))\n"
   ]
  },
  {
   "cell_type": "code",
   "execution_count": null,
   "metadata": {},
   "outputs": [],
   "source": [
    "#We can plant a flower if the left neighbor is 0 (or we are on the left edge), AND the right neighbor is 0 (or we are on the right edge).\n",
    "\n",
    "def canPlaceFlowers(self, A, N):\n",
    "    for i, x in enumerate(A):\n",
    "        if (not x and (i == 0 or A[i-1] == 0) \n",
    "                and (i == len(A)-1 or A[i+1] == 0)):\n",
    "            N -= 1\n",
    "            A[i] = 1\n",
    "    return N <= 0\n"
   ]
  },
  {
   "cell_type": "code",
   "execution_count": null,
   "metadata": {},
   "outputs": [],
   "source": [
    "class Solution(object):\n",
    "    def canPlaceFlowers(self, flowerbed, n):\n",
    "        \"\"\"\n",
    "        :type flowerbed: List[int]\n",
    "        :type n: int\n",
    "        :rtype: bool\n",
    "        \"\"\"\n",
    "        count = 0\n",
    "        flowerbed = [0] + flowerbed + [0]\n",
    "        for i in range(1, len(flowerbed)-1):\n",
    "            if flowerbed[i-1] == flowerbed[i] == flowerbed[i+1] == 0:\n",
    "                flowerbed[i] = 1\n",
    "                count += 1\n",
    "        return count >= n"
   ]
  },
  {
   "cell_type": "code",
   "execution_count": null,
   "metadata": {},
   "outputs": [],
   "source": []
  },
  {
   "cell_type": "code",
   "execution_count": null,
   "metadata": {},
   "outputs": [],
   "source": [
    "170. Two Sum III - Data structure design"
   ]
  },
  {
   "cell_type": "code",
   "execution_count": null,
   "metadata": {},
   "outputs": [],
   "source": [
    "class TwoSumIII():\n",
    "    def __init__(self):\n",
    "        self.dic={}\n",
    "    \n",
    "    def add(self,n):\n",
    "        self.dic[n]=self.dic.get(n,0)+1\n",
    "    \n",
    "    def find(self,target):\n",
    "        for m in dic:\n",
    "            if target-m in dic and (target-m != m or dic[m]>1):\n",
    "                return True\n",
    "        return False"
   ]
  },
  {
   "cell_type": "code",
   "execution_count": null,
   "metadata": {},
   "outputs": [],
   "source": []
  },
  {
   "cell_type": "code",
   "execution_count": null,
   "metadata": {},
   "outputs": [],
   "source": [
    "189. Rotate Array\n",
    "#right rotate k steps"
   ]
  },
  {
   "cell_type": "code",
   "execution_count": 830,
   "metadata": {},
   "outputs": [
    {
     "data": {
      "text/plain": [
       "[4, 5, 6, 7, 1, 2, 3]"
      ]
     },
     "execution_count": 830,
     "metadata": {},
     "output_type": "execute_result"
    }
   ],
   "source": [
    "class Solution():\n",
    "    def RotateArray(self,nums,k):\n",
    "        if not nums or not k: return None\n",
    "        k %= len(nums)\n",
    "        if k:\n",
    "            #nums[:k],nums[k:]=nums[-k:],nums[:-k]  #right rotate\n",
    "            nums[:-k],nums[-k:]=nums[k:],nums[:k] #left rotate\n",
    "        return nums\n",
    "nums,k=[1,2,3,4,5,6,7],3\n",
    "a=Solution()\n",
    "a.RotateArray(nums,k)"
   ]
  },
  {
   "cell_type": "code",
   "execution_count": 829,
   "metadata": {},
   "outputs": [
    {
     "name": "stdout",
     "output_type": "stream",
     "text": [
      "[5, 6, 7]\n",
      "[1, 2, 3, 4]\n",
      "[1, 2, 3]\n",
      "[4, 5, 6, 7]\n"
     ]
    }
   ],
   "source": [
    "nums,k=[1,2,3,4,5,6,7],3\n",
    "print(nums[-k:])\n",
    "print(nums[:-k])\n",
    "#left rotate k steps\n",
    "nums,k=[1,2,3,4,5,6,7],3\n",
    "print(nums[:k])\n",
    "print(nums[k:])"
   ]
  },
  {
   "cell_type": "code",
   "execution_count": null,
   "metadata": {},
   "outputs": [],
   "source": []
  },
  {
   "cell_type": "code",
   "execution_count": null,
   "metadata": {},
   "outputs": [],
   "source": [
    "278. First Bad Version\n",
    "Easy\n",
    "\n",
    "You are a product manager and currently leading a team to develop a new product. Unfortunately, the latest version of your product fails the quality check. Since each version is developed based on the previous version, all the versions after a bad version are also bad.\n",
    "\n",
    "Suppose you have n versions [1, 2, ..., n] and you want to find out the first bad one, which causes all the following ones to be bad.\n",
    "\n",
    "You are given an API bool isBadVersion(version) which will return whether version is bad. Implement a function to find the first bad version. You should minimize the number of calls to the API.\n",
    "\n",
    "Example:\n",
    "\n",
    "Given n = 5, and version = 4 is the first bad version.\n",
    "\n",
    "call isBadVersion(3) -> false\n",
    "call isBadVersion(5) -> true\n",
    "call isBadVersion(4) -> true\n",
    "\n",
    "Then 4 is the first bad version. \n",
    "\n"
   ]
  },
  {
   "cell_type": "code",
   "execution_count": null,
   "metadata": {},
   "outputs": [],
   "source": [
    "# The isBadVersion API is already defined for you.\n",
    "# @param version, an integer\n",
    "# @return a bool\n",
    "# def isBadVersion(version):\n",
    "\n",
    "class Solution(object):\n",
    "    def firstBadVersion(self, n):\n",
    "        \"\"\"\n",
    "        :type n: int\n",
    "        :rtype: int\n",
    "        \"\"\"\n",
    "        start, end= 1, n+1\n",
    "        while start < end:\n",
    "            mid = (start + end) //2\n",
    "            if isBadVersion(mid):\n",
    "                end = mid\n",
    "            else:\n",
    "                start = mid+1\n",
    "        return start"
   ]
  },
  {
   "cell_type": "code",
   "execution_count": null,
   "metadata": {},
   "outputs": [],
   "source": [
    "class Solution():\n",
    "    def FirstBadVersion(self,n):\n",
    "        low, high = 1, n\n",
    "        version = -1\n",
    "        while low <= high:\n",
    "            mid = (low + high) // 2\n",
    "            if isBadVersion(mid):\n",
    "                version = mid\n",
    "                high = mid - 1\n",
    "            else:\n",
    "                low = mid + 1\n",
    "        return version"
   ]
  },
  {
   "cell_type": "code",
   "execution_count": null,
   "metadata": {},
   "outputs": [],
   "source": []
  },
  {
   "cell_type": "code",
   "execution_count": null,
   "metadata": {},
   "outputs": [],
   "source": [
    "400. Nth Digit\n",
    "\n",
    "Find the nth digit of the infinite integer sequence 1, 2, 3, 4, 5, 6, 7, 8, 9, 10, 11, ...\n",
    "\n",
    "Note:\n",
    "n is positive and will fit within the range of a 32-bit signed integer (n < 231).\n",
    "\n",
    "Example 1:\n",
    "\n",
    "Input:\n",
    "3\n",
    "\n",
    "Output:\n",
    "3\n",
    "Example 2:\n",
    "\n",
    "Input:\n",
    "11\n",
    "\n",
    "Output:\n",
    "0\n",
    "\n",
    "Explanation:\n",
    "The 11th digit of the sequence 1, 2, 3, 4, 5, 6, 7, 8, 9, 10, 11, ... is a 0, which is part of the number 10."
   ]
  },
  {
   "cell_type": "code",
   "execution_count": null,
   "metadata": {},
   "outputs": [],
   "source": []
  },
  {
   "cell_type": "code",
   "execution_count": null,
   "metadata": {},
   "outputs": [],
   "source": [
    "class Solution(object):\n",
    "    def findNthDigit(self, n):\n",
    "        start, size = 1, 1\n",
    "        while n > size:\n",
    "            n, start = n - size, start + 1\n",
    "            size = len(str(start))\n",
    "        return int(str(start)[n-1])"
   ]
  },
  {
   "cell_type": "code",
   "execution_count": null,
   "metadata": {},
   "outputs": [],
   "source": [
    "1 * 9 (size 1, 1... 9)\n",
    "2 * 90 (size 2, 10... 99)\n",
    "3 * 900 (size 3, 100... 999)\n",
    "\n",
    "So we can \"fast-skip\" those numbers until we find the size of the number that will hold our digit.\n",
    "At the end of the loop, we will have:\n",
    "\n",
    "start: first number of size size (will be power of 10)\n",
    "n: will be the number of digits that we need to count after start\n",
    "How do we get the number that will hold the digit? \n",
    "It will be start + (n - 1) // size \n",
    "(we use n - 1 because we need zero-based index). \n",
    "Once we have that number, we can get the n - 1 % size-th digit of that number, and that will be our result.\n",
    "\n",
    "class Solution(object):\n",
    "    def findNthDigit(self, n):\n",
    "        start, size, step = 1, 1, 9\n",
    "        while n > size * step:\n",
    "            n, size, step, start = n - (size * step), size + 1, step * 10, start * 10\n",
    "        return int(str(start + (n - 1) // size)[(n - 1) % size])\n",
    "#What is the complexity of this code?\n",
    "\n",
    "#The while loop takes O(log(n)) time because a number n will have at most O(log(n)) digits. Then the return statement takes O(log(n)) time to convert the number to string. So total time complexity is O(log(n)), with O(log(n)) extra space for the string.\n"
   ]
  },
  {
   "cell_type": "code",
   "execution_count": null,
   "metadata": {},
   "outputs": [],
   "source": [
    "581. Shortest Unsorted Continuous Subarray\n",
    "\n",
    "Given an integer array, you need to find one continuous subarray that \n",
    "if you only sort this subarray in ascending order, then the whole array will be sorted in ascending order, too.\n",
    "\n",
    "You need to find the shortest such subarray and output its length.\n",
    "\n",
    "Example 1:\n",
    "Input: [2, 6, 4, 8, 10, 9, 15]\n",
    "Output: 5\n",
    "Explanation: You need to sort [6, 4, 8, 10, 9] in ascending order to make the whole array sorted in ascending order.\n",
    "Note:\n",
    "Then length of the input array is in range [1, 10,000].\n",
    "The input array may contain duplicates, so ascending order here means <=.\n"
   ]
  },
  {
   "cell_type": "code",
   "execution_count": null,
   "metadata": {},
   "outputs": [],
   "source": [
    "def findUnsortedSubarray(self, nums):\n",
    "        is_same = [a == b for a, b in zip(nums, sorted(nums))]\n",
    "        return 0 if all(is_same) else len(nums) - is_same.index(False) - is_same[::-1].index(False)\n",
    "    "
   ]
  },
  {
   "cell_type": "code",
   "execution_count": null,
   "metadata": {},
   "outputs": [],
   "source": [
    "res = [i for (i,(a,b)) in enumerate(zip(nums,sorted(nums))) if a!=b]\n",
    "return 0 if not res else res[-1]-res[0]+1"
   ]
  },
  {
   "cell_type": "code",
   "execution_count": null,
   "metadata": {},
   "outputs": [],
   "source": [
    "class Solution(object):\n",
    "    def findUnsortedSubarray(self, nums):\n",
    "        \"\"\"\n",
    "        :type nums: List[int]\n",
    "        :rtype: int\n",
    "        \"\"\"\n",
    "        numsort = sorted(nums)\n",
    "        left, right = 0, len(nums)-1\n",
    "        \n",
    "        while left < right and numsort[left] == nums[left]:\n",
    "            left += 1\n",
    "        \n",
    "        while right > left and numsort[right] == nums[right]:\n",
    "            right -= 1\n",
    "        \n",
    "        return right-left+1 if left != right else 0"
   ]
  },
  {
   "cell_type": "code",
   "execution_count": null,
   "metadata": {},
   "outputs": [],
   "source": []
  },
  {
   "cell_type": "code",
   "execution_count": null,
   "metadata": {},
   "outputs": [],
   "source": [
    "532. K-diff Pairs in an Array\n",
    "\n",
    "Given an array of integers and an integer k, you need to find the number of unique k-diff pairs in the array. \n",
    "Here a k-diff pair is defined as an integer pair (i, j), where i and j are both numbers in the array and their absolute difference is k.\n",
    "\n",
    "Example 1:\n",
    "Input: [3, 1, 4, 1, 5], k = 2\n",
    "Output: 2\n",
    "Explanation: There are two 2-diff pairs in the array, (1, 3) and (3, 5).\n",
    "Although we have two 1s in the input, we should only return the number of unique pairs.\n",
    "Example 2:\n",
    "Input:[1, 2, 3, 4, 5], k = 1\n",
    "Output: 4\n",
    "Explanation: There are four 1-diff pairs in the array, (1, 2), (2, 3), (3, 4) and (4, 5).\n",
    "Example 3:\n",
    "Input: [1, 3, 1, 5, 4], k = 0\n",
    "Output: 1\n",
    "Explanation: There is one 0-diff pair in the array, (1, 1).\n",
    "Note:\n",
    "The pairs (i, j) and (j, i) count as the same pair.\n",
    "The length of the array won't exceed 10,000.\n",
    "All the integers in the given input belong to the range: [-1e7, 1e7]."
   ]
  },
  {
   "cell_type": "code",
   "execution_count": null,
   "metadata": {},
   "outputs": [],
   "source": [
    "def findPairs(self, nums, k):\n",
    "        res = 0\n",
    "        c = collections.Counter(nums)\n",
    "        for i in c:\n",
    "            if k > 0 and i + k in c or k == 0 and c[i] > 1:\n",
    "                res += 1\n",
    "        return res"
   ]
  },
  {
   "cell_type": "code",
   "execution_count": 43,
   "metadata": {},
   "outputs": [
    {
     "name": "stdout",
     "output_type": "stream",
     "text": [
      "Counter({1: 2, 3: 1, 4: 1, 5: 1})\n",
      "3\n",
      "1\n",
      "4\n",
      "5\n"
     ]
    }
   ],
   "source": [
    "nums=[3, 1, 4, 1, 5]\n",
    "import collections\n",
    "c = collections.Counter(nums)\n",
    "print(c)\n",
    "for i in c:\n",
    "    print(i)"
   ]
  },
  {
   "cell_type": "code",
   "execution_count": null,
   "metadata": {},
   "outputs": [],
   "source": [
    "def findPairs(self, nums, k):\n",
    "        if k>0:\n",
    "            return len(set(nums)&set(n+k for n in nums))\n",
    "        elif k==0:\n",
    "            sum(v>1 for v in collections.Counter(nums).values())\n",
    "        else:\n",
    "            return 0"
   ]
  },
  {
   "cell_type": "code",
   "execution_count": null,
   "metadata": {},
   "outputs": [],
   "source": []
  },
  {
   "cell_type": "code",
   "execution_count": null,
   "metadata": {},
   "outputs": [],
   "source": [
    "157. Read N Characters Given Read4\n",
    "The API: int read4(char *buf) reads 4 characters at a time from a file.\n",
    "\n",
    "The return value is the actual number of characters read. For example, it returns 3 if there is only 3 characters left in the file.\n",
    "\n",
    "By using the read4 API, implement the function int read(char *buf, int n) that reads n characters from the file.\n",
    "\n",
    "Note: The read function will only be called once for each test case."
   ]
  },
  {
   "cell_type": "code",
   "execution_count": null,
   "metadata": {},
   "outputs": [],
   "source": [
    "class Solution():\n",
    "    def read(self, buf, n):\n",
    "        size, buf4 = 0, ['']*4\n",
    "        while size <  n:\n",
    "            size4 = read4(buf4)\n",
    "            if not size4: \n",
    "                break\n",
    "            size4 = min(size4, n - size)\n",
    "            buf[size:] = buf4[:size4]\n",
    "            size += size4\n",
    "        return size\n",
    "            \n",
    "buf, n = \"abcde\", 5\n",
    "a=Solution()\n",
    "a.read(buf,n)"
   ]
  },
  {
   "cell_type": "code",
   "execution_count": null,
   "metadata": {},
   "outputs": [],
   "source": [
    "def read(buf, n):\n",
    "    index = 0\n",
    "    while index < n:\n",
    "        buf4 = [\"\"] * 4\n",
    "        count = read4(buf4)\n",
    "        if count == 0:\n",
    "            break\n",
    "\n",
    "        count = min(count, n - index)\n",
    "        buf[index:] = buf4[:count]\n",
    "        index += count\n",
    "    return index"
   ]
  },
  {
   "cell_type": "code",
   "execution_count": null,
   "metadata": {},
   "outputs": [],
   "source": [
    "158. Read N Characters Given Read4 II - Call multiple times    \n",
    "Given a file and assume that you can only read the file using a given method read4, implement a method read to read n characters. Your method read may be called multiple times.\n",
    "\n",
    " \n",
    "\n",
    "Method read4:\n",
    "\n",
    "The API read4 reads 4 consecutive characters from the file, then writes those characters into the buffer array buf.\n",
    "\n",
    "The return value is the number of actual characters read.\n",
    "\n",
    "Note that read4() has its own file pointer, much like FILE *fp in C.\n",
    "\n",
    "Definition of read4:\n",
    "\n",
    "    Parameter:  char[] buf\n",
    "    Returns:    int\n",
    "\n",
    "Note: buf[] is destination not source, the results from read4 will be copied to buf[]\n",
    "\n",
    "Below is a high level example of how read4 works:\n",
    "\n",
    "File file(\"abcdefghijk\"); // File is \"abcdefghijk\", initially file pointer (fp) points to 'a'\n",
    "char[] buf = new char[4]; // Create buffer with enough space to store characters\n",
    "read4(buf); // read4 returns 4. Now buf = \"abcd\", fp points to 'e'\n",
    "read4(buf); // read4 returns 4. Now buf = \"efgh\", fp points to 'i'\n",
    "read4(buf); // read4 returns 3. Now buf = \"ijk\", fp points to end of file\n",
    "\n",
    " \n",
    "\n",
    "Method read:\n",
    "\n",
    "By using the read4 method, implement the method read that reads n characters from the file and store it in the buffer array buf. Consider that you cannot manipulate the file directly.\n",
    "\n",
    "The return value is the number of actual characters read.\n",
    "\n",
    "Definition of read:\n",
    "\n",
    "    Parameters:\tchar[] buf, int n\n",
    "    Returns:\tint\n",
    "\n",
    "Note: buf[] is destination not source, you will need to write the results to buf[]\n",
    "\n",
    " \n",
    "\n",
    "Example 1:\n",
    "\n",
    "File file(\"abc\");\n",
    "Solution sol;\n",
    "// Assume buf is allocated and guaranteed to have enough space for storing all characters from the file.\n",
    "sol.read(buf, 1); // After calling your read method, buf should contain \"a\". We read a total of 1 character from the file, so return 1.\n",
    "sol.read(buf, 2); // Now buf should contain \"bc\". We read a total of 2 characters from the file, so return 2.\n",
    "sol.read(buf, 1); // We have reached the end of file, no more characters can be read. So return 0.\n",
    "\n",
    "Example 2:\n",
    "\n",
    "File file(\"abc\");\n",
    "Solution sol;\n",
    "sol.read(buf, 4); // After calling your read method, buf should contain \"abc\". We read a total of 3 characters from the file, so return 3.\n",
    "sol.read(buf, 1); // We have reached the end of file, no more characters can be read. So return 0.\n",
    "\n",
    " \n",
    "\n",
    "Note:\n",
    "\n",
    "    Consider that you cannot manipulate the file directly, the file is only accesible for read4 but not for read.\n",
    "    The read function may be called multiple times.\n",
    "    Please remember to RESET your class variables declared in Solution, as static/class variables are persisted across multiple test cases. Please see here for more details.\n",
    "    You may assume the destination buffer array, buf, is guaranteed to have enough space for storing n characters.\n",
    "    It is guaranteed that in a given test case the same buffer buf is called by read.\n"
   ]
  },
  {
   "cell_type": "code",
   "execution_count": null,
   "metadata": {},
   "outputs": [],
   "source": [
    "class Solution(object):\n",
    "    def __init__(self):\n",
    "        self.buff4Ptr = 0\n",
    "        self.buff4Cnt = 0\n",
    "        self.buff4 = [\" \"] * 4\n",
    "\n",
    "    \"\"\"\n",
    "    @param {str[]} buf: Destination buffer\n",
    "    @param {int} n: Maximum number of characters to read\n",
    "    @return {str} The number of characters read\n",
    "    \"\"\"\n",
    "    def read(self, buf, n):\n",
    "        ptr = 0\n",
    "        while ptr < n:\n",
    "            if self.buff4Ptr == 0:\n",
    "                self.buff4Cnt = read4(self.buff4)\n",
    "            if self.buff4Cnt == 0:\n",
    "                break\n",
    "            while ptr < n and self.buff4Ptr < self.buff4Cnt:\n",
    "                buf[ptr] = self.buff4[self.buff4Ptr]\n",
    "                ptr += 1\n",
    "                self.buff4Ptr += 1\n",
    "\n",
    "            if self.buff4Ptr >= self.buff4Cnt:\n",
    "                self.buff4Ptr = 0\n",
    "\n",
    "        return ptr"
   ]
  },
  {
   "cell_type": "code",
   "execution_count": null,
   "metadata": {},
   "outputs": [],
   "source": [
    "Tips:\n",
    "\n",
    "上一题的followup，可以多次调用read\n",
    "\n",
    "所以上次调用可能有读多了的，要先存下来。\n",
    "\n",
    "复杂度O(n)\n",
    "\n",
    "Code:\n",
    "\n",
    "/ The read4 API is defined in the parent class Reader4. int read4(char[] buf); /\n",
    "\n",
    "public class Solution extends Reader4 {\n",
    "    /**\n",
    "     * @param buf Destination buffer\n",
    "     * @param n   Maximum number of characters to read\n",
    "     * @return    The number of characters read\n",
    "     */\n",
    "    Queue<Character> remain = new LinkedList<Character>();\n",
    "    public int read(char[] buf, int n) {\n",
    "        int i = 0;\n",
    "        // 队列不为空时，先读取队列中的暂存字符\n",
    "        while(i < n && !remain.isEmpty()){\n",
    "            buf[i] = remain.poll();\n",
    "            i++;\n",
    "        }\n",
    "        for(; i < n; i += 4){\n",
    "            char[] tmp = new char[4];\n",
    "            int len = read4(tmp);\n",
    "            // 如果读到字符多于我们需要的字符，需要暂存这些多余字符\n",
    "            if(len > n - i){\n",
    "                System.arraycopy(tmp, 0, buf, i, n - i);\n",
    "                // 把多余的字符存入队列中\n",
    "                for(int j = n - i; j < len; j++){\n",
    "                    remain.offer(tmp[j]);\n",
    "                }\n",
    "            // 如果读到的字符少于我们需要的字符，直接拷贝\n",
    "            } else {\n",
    "                System.arraycopy(tmp, 0, buf, i, len);\n",
    "            }\n",
    "            // 同样的，如果读不满4个，说明数据已经读完，返回总所需长度和目前已经读到的长度的较小的\n",
    "            if(len < 4) return Math.min(i + len, n);\n",
    "        }\n",
    "        // 如果到这里，说明都是完美读取，直接返回n\n",
    "        return n;\n",
    "    }\n",
    "}\n"
   ]
  },
  {
   "cell_type": "code",
   "execution_count": null,
   "metadata": {},
   "outputs": [],
   "source": []
  },
  {
   "cell_type": "code",
   "execution_count": null,
   "metadata": {},
   "outputs": [],
   "source": [
    "408 - Valid Word Abbreviation\n",
    "Given a non-empty string s and an abbreviation abbr, return whether the string matches with the given abbreviation.\n",
    "A string such as \"word\" contains only the following valid abbreviations:\n",
    "[\"word\", \"1ord\", \"w1rd\", \"wo1d\", \"wor1\", \"2rd\", \"w2d\", \"wo2\", \"1o1d\", \"1or1\", \"w1r1\", \"1o2\", \"2r1\", \"3d\", \"w3\", \"4\"]\n",
    "Notice that only the above abbreviations are valid abbreviations of the string \"word\". Any other string is not a valid abbreviation of \"word\".\n",
    "Note:\n",
    "Assume s contains only lowercase letters and abbr contains only lowercase letters and digits.\n",
    "Example 1:\n",
    "Given s = \"internationalization\", abbr = \"i12iz4n\":\n",
    "\n",
    "Return true.\n",
    "Example 2:\n",
    "Given s = \"apple\", abbr = \"a2e\":\n",
    "\n",
    "Return false."
   ]
  },
  {
   "cell_type": "code",
   "execution_count": null,
   "metadata": {},
   "outputs": [],
   "source": [
    "def validWordAbbreviation(self, word, abbr):\n",
    "        \"\"\"\n",
    "        :type word: str\n",
    "        :type abbr: str\n",
    "        :rtype: bool\n",
    "        \"\"\"\n",
    "        size = len(word)\n",
    "        cnt = loc = 0\n",
    "        for w in abbr:\n",
    "            if w.isdigit():\n",
    "                if w == '0' and cnt == 0:\n",
    "                    return False\n",
    "                cnt = cnt * 10 + int(w)\n",
    "            else:\n",
    "                loc += cnt\n",
    "                cnt = 0\n",
    "                if loc >= size or word[loc] != w:\n",
    "                    return False\n",
    "                loc += 1\n",
    "        return loc + cnt == size"
   ]
  },
  {
   "cell_type": "code",
   "execution_count": null,
   "metadata": {},
   "outputs": [],
   "source": []
  },
  {
   "cell_type": "code",
   "execution_count": null,
   "metadata": {},
   "outputs": [],
   "source": [
    "204. Count Primes\n",
    "\n",
    "Count the number of prime numbers less than a non-negative number, n.\n",
    "\n",
    "Example:\n",
    "\n",
    "Input: 10\n",
    "Output: 4\n",
    "Explanation: There are 4 prime numbers less than 10, they are 2, 3, 5, 7."
   ]
  },
  {
   "cell_type": "code",
   "execution_count": null,
   "metadata": {},
   "outputs": [],
   "source": [
    "class Solution():\n",
    "    def CountPrimes(self,n):\n",
    "        if n<=2: return 0\n",
    "        res = [1]*n\n",
    "        res[0]=res[1]=0\n",
    "        for i in range(2,int(n**1/2)+1):\n",
    "            if res[i]:\n",
    "                res[i*i:n:i]=[0]*len(res[i*i:n:i])\n",
    "        #print ([i for i in range(n) if res[i]])\n",
    "        return sum(res)"
   ]
  },
  {
   "cell_type": "code",
   "execution_count": null,
   "metadata": {},
   "outputs": [],
   "source": [
    "def is_prime(n):\n",
    "    return all(n%j for j in range(2, int(n**0.5)+1)) and n>1"
   ]
  },
  {
   "cell_type": "code",
   "execution_count": 833,
   "metadata": {},
   "outputs": [
    {
     "name": "stdout",
     "output_type": "stream",
     "text": [
      "[2, 3, 5, 7, 11, 13, 17, 19, 23]\n"
     ]
    }
   ],
   "source": [
    "n=28\n",
    "res=[]\n",
    "for p in range(2, n+1):\n",
    "    for i in range(2, int(p**0.5)+1):\n",
    "        if p % i == 0:\n",
    "            break\n",
    "    else:\n",
    "        res.append(p)\n",
    "print (res)"
   ]
  },
  {
   "cell_type": "code",
   "execution_count": 835,
   "metadata": {},
   "outputs": [
    {
     "name": "stdout",
     "output_type": "stream",
     "text": [
      "[2, 3, 5, 7, 11, 13, 17, 19, 23]\n"
     ]
    }
   ],
   "source": [
    "#optimial\n",
    "n=28\n",
    "res=[2]\n",
    "import math\n",
    "for num in range(3,n,2):\n",
    "    if all(num%i!=0 for i in range(3,int(math.sqrt(num))+1, 2)):\n",
    "        res.append(num)\n",
    "print(res)"
   ]
  },
  {
   "cell_type": "code",
   "execution_count": null,
   "metadata": {},
   "outputs": [],
   "source": []
  },
  {
   "cell_type": "code",
   "execution_count": null,
   "metadata": {},
   "outputs": [],
   "source": [
    "414. Third Maximum Number\n",
    "\n",
    "Given a non-empty array of integers, return the third maximum number in this array. \n",
    "If it does not exist, return the maximum number. The time complexity must be in O(n).\n",
    "\n",
    "Example 1:\n",
    "Input: [3, 2, 1]\n",
    "\n",
    "Output: 1\n",
    "\n",
    "Explanation: The third maximum is 1.\n",
    "Example 2:\n",
    "Input: [1, 2]\n",
    "\n",
    "Output: 2\n",
    "\n",
    "Explanation: The third maximum does not exist, so the maximum (2) is returned instead.\n",
    "Example 3:\n",
    "Input: [2, 2, 3, 1]\n",
    "\n",
    "Output: 1\n",
    "\n",
    "Explanation: Note that the third maximum here means the third maximum distinct number.\n",
    "Both numbers with value 2 are both considered as second maximum."
   ]
  },
  {
   "cell_type": "code",
   "execution_count": null,
   "metadata": {},
   "outputs": [],
   "source": [
    "class Solution(object):\n",
    "    def thirdMax(self, nums):\n",
    "        v = [float('-inf'), float('-inf'), float('-inf')]\n",
    "        for num in nums:\n",
    "            if num not in v:\n",
    "                if num > v[0]:   v = [num, v[0], v[1]]\n",
    "                elif num > v[1]: v = [v[0], num, v[1]]\n",
    "                elif num > v[2]: v = [v[0], v[1], num]\n",
    "        return max(nums) if float('-inf') in v else v[2]"
   ]
  },
  {
   "cell_type": "code",
   "execution_count": null,
   "metadata": {},
   "outputs": [],
   "source": [
    "class Solution(object):\n",
    "    def thirdMax(self, nums):\n",
    "        \"\"\"\n",
    "        :type nums: List[int]\n",
    "        :rtype: int\n",
    "        \"\"\"\n",
    "        m1=m2=m3=-float('inf')\n",
    "        for num in nums:\n",
    "            if num == m1 or num == m2 or num == m3:continue\n",
    "            if num > m1:\n",
    "                m1,m2,m3 = num,m1,m2\n",
    "            elif num > m2:\n",
    "                m2,m3 = num,m2\n",
    "            elif num > m3:\n",
    "                m3 = num\n",
    "        if m3 == -float('inf'):return m1\n",
    "        return m3"
   ]
  },
  {
   "cell_type": "code",
   "execution_count": null,
   "metadata": {},
   "outputs": [],
   "source": []
  },
  {
   "cell_type": "code",
   "execution_count": null,
   "metadata": {},
   "outputs": [],
   "source": [
    "168. Excel Sheet Column Title "
   ]
  },
  {
   "cell_type": "code",
   "execution_count": null,
   "metadata": {},
   "outputs": [],
   "source": [
    "class Solution():\n",
    "    def ExcelColumnTitle(self,n):\n",
    "        dic = [chr(x) for x in range(ord('A'),ord('Z')+1)]\n",
    "        res=''\n",
    "        while n>0:\n",
    "            n,rem=divmod(n-1,26)\n",
    "            res = dic[rem]+res\n",
    "        return res\n",
    "n=701\n",
    "a=Solution()\n",
    "a.ExcelColumnTitle(n)"
   ]
  },
  {
   "cell_type": "code",
   "execution_count": 14,
   "metadata": {},
   "outputs": [
    {
     "name": "stdout",
     "output_type": "stream",
     "text": [
      "['A', 'B', 'C', 'D', 'E', 'F', 'G', 'H', 'I', 'J', 'K', 'L', 'M', 'N', 'O', 'P', 'Q', 'R', 'S', 'T', 'U', 'V', 'W', 'X', 'Y', 'Z']\n"
     ]
    }
   ],
   "source": [
    "print([chr(x) for x in range(ord('A'),ord('Z')+1)])"
   ]
  },
  {
   "cell_type": "code",
   "execution_count": null,
   "metadata": {},
   "outputs": [],
   "source": []
  },
  {
   "cell_type": "code",
   "execution_count": null,
   "metadata": {},
   "outputs": [],
   "source": [
    "171. Excel Sheet Column Number\n",
    "\n",
    "Given a column title as appear in an Excel sheet, return its corresponding column number.\n"
   ]
  },
  {
   "cell_type": "code",
   "execution_count": null,
   "metadata": {},
   "outputs": [],
   "source": [
    "class Solution():\n",
    "    def ExcelColumnNumber(self,s):\n",
    "        res = 0\n",
    "        for c in s:\n",
    "            res = res*26 + ord(c)-ord('A')+1\n",
    "        return res\n",
    "\n",
    "strs='ZY'\n",
    "a=Solution()\n",
    "a.ExcelColumnNumber(strs)"
   ]
  },
  {
   "cell_type": "code",
   "execution_count": null,
   "metadata": {},
   "outputs": [],
   "source": []
  },
  {
   "cell_type": "code",
   "execution_count": null,
   "metadata": {},
   "outputs": [],
   "source": [
    "176. Second Highest Salary   \n",
    "#SQL\n",
    "select max(a.Salary) as second_max from Employee a,\n",
    "(select max(Salary) as first_max from Employee)\n",
    "where a.Salary<first_max\n"
   ]
  },
  {
   "cell_type": "code",
   "execution_count": null,
   "metadata": {},
   "outputs": [],
   "source": [
    "select Id, max(Salary) as Salary from Employee where Salary<(select max(Salary) from Employee);\n"
   ]
  },
  {
   "cell_type": "code",
   "execution_count": null,
   "metadata": {},
   "outputs": [],
   "source": [
    "#Nth salary\n",
    "Select salary from employee A where n-1 = \n",
    "(Select count(1) from employee B where B.salary>A.salary)\n",
    "#OR\n",
    "select salary from employee order by salary desc limit n-1,1;\n",
    "#OR\n",
    "select salary from\n",
    "(\n",
    "SELECT *\n",
    "   DENSE_RANK() OVER (ORDER BY Salary Desc) AS Rnk\n",
    "FROM Employees\n",
    ")\n",
    "where Rnk=n;"
   ]
  },
  {
   "cell_type": "code",
   "execution_count": null,
   "metadata": {},
   "outputs": [],
   "source": []
  },
  {
   "cell_type": "code",
   "execution_count": null,
   "metadata": {},
   "outputs": [],
   "source": [
    "859. Buddy Strings\n",
    "\n",
    "Given two strings A and B of lowercase letters, return true if and only if we can swap two letters in A \n",
    "so that the result equals B.\n",
    "\n",
    "Example 1:\n",
    "\n",
    "Input: A = \"ab\", B = \"ba\"\n",
    "Output: true\n",
    "Example 2:\n",
    "\n",
    "Input: A = \"ab\", B = \"ab\"\n",
    "Output: false\n",
    "Example 3:\n",
    "\n",
    "Input: A = \"aa\", B = \"aa\"\n",
    "Output: true\n",
    "Example 4:\n",
    "\n",
    "Input: A = \"aaaaaaabc\", B = \"aaaaaaacb\"\n",
    "Output: true\n",
    "Example 5:\n",
    "\n",
    "Input: A = \"\", B = \"aa\"\n",
    "Output: false\n",
    " \n",
    "\n",
    "Note:\n",
    "\n",
    "0 <= A.length <= 20000\n",
    "0 <= B.length <= 20000\n",
    "A and B consist only of lowercase letters."
   ]
  },
  {
   "cell_type": "code",
   "execution_count": null,
   "metadata": {},
   "outputs": [],
   "source": [
    "class Solution:\n",
    "    def buddyStrings(self, A, B):\n",
    "        if len(A) != len(B) or set(A) != set(B): return False       \n",
    "        if A == B:\n",
    "            return len(A) - len(set(A)) >= 1\n",
    "        else:     \n",
    "            indices = []\n",
    "            counter = 0\n",
    "            for i in range(len(A)):\n",
    "                if A[i] != B[i]:\n",
    "                    counter += 1\n",
    "                    indices.append(i)       \n",
    "                if counter > 2:\n",
    "                    return False       \n",
    "            return A[indices[0]] == B[indices[1]] and A[indices[1]] == B[indices[0]]"
   ]
  },
  {
   "cell_type": "code",
   "execution_count": 846,
   "metadata": {},
   "outputs": [
    {
     "name": "stdout",
     "output_type": "stream",
     "text": [
      "[0, 0, 0, 0, 0, 0, 0, 7, 8]\n",
      "[0, 0, 0, 0, 0, 0, 0, 8, 7]\n",
      "[(0, 0), (0, 0), (0, 0), (0, 0), (0, 0), (0, 0), (0, 0), (7, 8), (8, 7)]\n",
      "2 True\n"
     ]
    }
   ],
   "source": [
    "A, B = \"aaaaaaabc\",\"aaaaaaacb\"\n",
    "print([A.find(a) for a in A])\n",
    "print([A.find(b) for b in B])\n",
    "T = list(zip([A.find(a) for a in A],[A.find(b) for b in B]))\n",
    "print(T)\n",
    "c = [i for i in T if i[0]!=i[1]]\n",
    "print(len(c), set(c[0])==set(c[1]))"
   ]
  },
  {
   "cell_type": "code",
   "execution_count": null,
   "metadata": {},
   "outputs": [],
   "source": [
    "class Solution:\n",
    "    def buddyStrings(self, A, B):\n",
    "        if len(A) != len(B): return False\n",
    "        dif, dup = [[s1, B[i]] for i, s1 in enumerate(A) if s1 != B[i]], len(A) != len(set(A))\n",
    "        return len(dif) == 2 and dif[0] == dif[1][::-1] or (not dif and dup)\n",
    "    "
   ]
  },
  {
   "cell_type": "code",
   "execution_count": null,
   "metadata": {},
   "outputs": [],
   "source": []
  },
  {
   "cell_type": "code",
   "execution_count": null,
   "metadata": {},
   "outputs": [],
   "source": [
    "7. Reverse Integer"
   ]
  },
  {
   "cell_type": "code",
   "execution_count": null,
   "metadata": {},
   "outputs": [],
   "source": [
    "class Solution():\n",
    "    def ReverseInteger(self, n):\n",
    "        a,res=abs(n),0\n",
    "        while a>0:\n",
    "            a, b = divmod(a, 10)\n",
    "            res = res*10 + b\n",
    "            if res>2**31-1 or res<-2**31:\n",
    "                return (\"overflow\")\n",
    "        return (res*(-1 if n<0 else 1))\n",
    "n=-123450\n",
    "a=Solution()\n",
    "a.ReverseInteger(n)"
   ]
  },
  {
   "cell_type": "code",
   "execution_count": null,
   "metadata": {},
   "outputs": [],
   "source": []
  },
  {
   "cell_type": "code",
   "execution_count": null,
   "metadata": {},
   "outputs": [],
   "source": [
    "193. Valid Phone Numbers  "
   ]
  },
  {
   "cell_type": "code",
   "execution_count": null,
   "metadata": {},
   "outputs": [],
   "source": [
    "egrep -o \"^( ([0-9]{3}\\-) | (\\([0-9]{3}\\)) ){1} [0-9]{3}\\-[0-9]{4}$\" file.txt"
   ]
  },
  {
   "cell_type": "code",
   "execution_count": null,
   "metadata": {},
   "outputs": [],
   "source": []
  },
  {
   "cell_type": "code",
   "execution_count": null,
   "metadata": {},
   "outputs": [],
   "source": [
    "707. Design Linked List\n",
    "\n",
    "Design your implementation of the linked list. You can choose to use the singly linked list or the doubly linked list. A node in a singly linked list should have two attributes: val and next. val is the value of the current node, and next is a pointer/reference to the next node. If you want to use the doubly linked list, you will need one more attribute prev to indicate the previous node in the linked list. Assume all nodes in the linked list are 0-indexed.\n",
    "\n",
    "Implement these functions in your linked list class:\n",
    "\n",
    "get(index) : Get the value of the index-th node in the linked list. If the index is invalid, return -1.\n",
    "addAtHead(val) : Add a node of value val before the first element of the linked list. After the insertion, the new node will be the first node of the linked list.\n",
    "addAtTail(val) : Append a node of value val to the last element of the linked list.\n",
    "addAtIndex(index, val) : Add a node of value val before the index-th node in the linked list. If index equals to the length of linked list, the node will be appended to the end of linked list. If index is greater than the length, the node will not be inserted. If index is negative, the node will be inserted at the head of the list.\n",
    "deleteAtIndex(index) : Delete the index-th node in the linked list, if the index is valid.\n",
    "Example:\n",
    "\n",
    "MyLinkedList linkedList = new MyLinkedList();\n",
    "linkedList.addAtHead(1);\n",
    "linkedList.addAtTail(3);\n",
    "linkedList.addAtIndex(1, 2);  // linked list becomes 1->2->3\n",
    "linkedList.get(1);            // returns 2\n",
    "linkedList.deleteAtIndex(1);  // now the linked list is 1->3\n",
    "linkedList.get(1);            // returns 3\n",
    "Note:\n",
    "\n",
    "All values will be in the range of [1, 1000].\n",
    "The number of operations will be in the range of [1, 1000].\n",
    "Please do not use the built-in LinkedList library."
   ]
  },
  {
   "cell_type": "code",
   "execution_count": null,
   "metadata": {},
   "outputs": [],
   "source": [
    "#double linked list\n",
    "class Node:\n",
    "    def __init__(self, value):\n",
    "        self.val = value\n",
    "        self.next = self.pre = None\n",
    "class MyLinkedList:\n",
    "\n",
    "    def __init__(self):\n",
    "        self.head = self.tail = Node(-1)\n",
    "        self.head.next = self.tail\n",
    "        self.tail.pre = self.head\n",
    "        self.size = 0\n",
    "        \n",
    "    def add(self, preNode, val):\n",
    "        node = Node(val)\n",
    "        node.pre = preNode\n",
    "        node.next = preNode.next\n",
    "        node.pre.next = node.next.pre = node\n",
    "        self.size += 1\n",
    "        \n",
    "    def remove(self, node):\n",
    "        node.pre.next = node.next\n",
    "        node.next.pre = node.pre\n",
    "        self.size -= 1\n",
    "        \n",
    "    def forward(self, start, end, cur):\n",
    "        while start != end:\n",
    "            start += 1\n",
    "            cur = cur.next\n",
    "        return cur\n",
    "    \n",
    "    def backward(self, start, end, cur):\n",
    "        while start != end:\n",
    "            start -= 1\n",
    "            cur = cur.pre\n",
    "        return cur\n",
    "    \n",
    "    def get(self, index):\n",
    "        if 0 <= index <= self.size // 2:\n",
    "            return self.forward(0, index, self.head.next).val\n",
    "        elif self.size // 2 < index < self.size:\n",
    "            return self.backward(self.size - 1, index, self.tail.pre).val\n",
    "        return -1\n",
    "\n",
    "    def addAtHead(self, val):\n",
    "        self.add(self.head, val)\n",
    "\n",
    "    def addAtTail(self, val):\n",
    "        self.add(self.tail.pre, val)\n",
    "\n",
    "    def addAtIndex(self, index, val):\n",
    "        if 0 <= index <= self.size // 2:\n",
    "            self.add(self.forward(0, index, self.head.next).pre, val)\n",
    "        elif self.size // 2 < index <= self.size:\n",
    "            self.add(self.backward(self.size, index, self.tail).pre, val)\n",
    "\n",
    "    def deleteAtIndex(self, index):\n",
    "        if 0 <= index <= self.size // 2:\n",
    "            self.remove(self.forward(0, index, self.head.next))\n",
    "        elif self.size // 2 < index < self.size:\n",
    "            self.remove(self.backward(self.size - 1, index, self.tail.pre))"
   ]
  },
  {
   "cell_type": "code",
   "execution_count": null,
   "metadata": {},
   "outputs": [],
   "source": [
    "class ListNode:\n",
    "    \n",
    "    def __init__(self, val):\n",
    "        self.val = val\n",
    "        self.next = None\n",
    "    \n",
    "class MyLinkedList:\n",
    "\n",
    "    def __init__(self):\n",
    "        self.head = None\n",
    "        self.size = 0\n",
    "\n",
    "    def get(self, index: 'int') -> 'int':\n",
    "        if index < 0 or index >= self.size or \\\n",
    "            self.head is None:\n",
    "            return -1\n",
    "        return self.findIndex(index).val\n",
    "        \n",
    "    def addAtHead(self, val: 'int') -> 'None':\n",
    "        self.addAtIndex(0, val)\n",
    "        \n",
    "    def addAtTail(self, val: 'int') -> 'None':\n",
    "        self.addAtIndex(self.size, val)\n",
    "        \n",
    "    def addAtIndex(self, index: 'int', val: 'int') -> 'None':\n",
    "        if index > self.size:\n",
    "            return -1\n",
    "        elif index == 0:\n",
    "            head = ListNode(val)\n",
    "            head.next, self.head = self.head, head\n",
    "        else:\n",
    "            pre = self.findIndex(index-1)\n",
    "            cur = ListNode(val)\n",
    "            cur.next, pre.next = pre.next, cur\n",
    "        self.size += 1\n",
    "        \n",
    "    def deleteAtIndex(self, index: 'int') -> 'None':\n",
    "        if index < 0 or index >= self.size:\n",
    "            return -1\n",
    "        cur = self.findIndex(index-1)\n",
    "        cur.next = cur.next.next\n",
    "        self.size -= 1\n",
    "        \n",
    "    def findIndex(self, index: 'int') -> 'None':\n",
    "        cur = self.head\n",
    "        for _ in range(index):\n",
    "            cur = cur.next\n",
    "        return cur"
   ]
  },
  {
   "cell_type": "code",
   "execution_count": null,
   "metadata": {},
   "outputs": [],
   "source": []
  },
  {
   "cell_type": "code",
   "execution_count": null,
   "metadata": {},
   "outputs": [],
   "source": [
    "665. Non-decreasing Array\n",
    "\n",
    "Given an array with n integers, your task is to check if it could become non-decreasing by modifying \n",
    "at most 1 element.\n",
    "\n",
    "We define an array is non-decreasing if array[i] <= array[i + 1] holds for every i (1 <= i < n).\n",
    "\n",
    "Example 1:\n",
    "Input: [4,2,3]\n",
    "Output: True\n",
    "Explanation: You could modify the first 4 to 1 to get a non-decreasing array.\n",
    "Example 2:\n",
    "Input: [4,2,1]\n",
    "Output: False\n",
    "Explanation: You can't get a non-decreasing array by modify at most one element.\n",
    "Note: The n belongs to [1, 10,000]."
   ]
  },
  {
   "cell_type": "code",
   "execution_count": 847,
   "metadata": {},
   "outputs": [
    {
     "data": {
      "text/plain": [
       "True"
      ]
     },
     "execution_count": 847,
     "metadata": {},
     "output_type": "execute_result"
    }
   ],
   "source": [
    "class solution():\n",
    "    def checkPossibility(self, nums):\n",
    "        count_dec = 0\n",
    "        for i in range(len(nums) - 1):\n",
    "            if nums[i] > nums[i + 1]:\n",
    "                count_dec += 1\n",
    "                if i == 0:\n",
    "                    nums[i] = nums[i + 1]\n",
    "                elif nums[i - 1] <= nums[i + 1]:\n",
    "                    nums[i] = nums[i - 1]\n",
    "                else:\n",
    "                    nums[i + 1] = nums[i]\n",
    "            if count_dec > 1:\n",
    "                return False\n",
    "        return True\n",
    "nums=[20,30,10]\n",
    "a=solution()\n",
    "a.checkPossibility(nums)"
   ]
  },
  {
   "cell_type": "code",
   "execution_count": null,
   "metadata": {},
   "outputs": [],
   "source": [
    "use count to remember how many descending pairs in the array, \n",
    "if count>=2, obviously we cannot modify a single element to obtain a non-descreaing array, so we return False. \n",
    "When count equals one, we check if we can modify nums[i] \n",
    "(the first one in the descending pair, by decreasing it) or \n",
    "nums[i+1] (the second one in the descending pair, by increasing it), \n",
    "if in both situations, we cannot, then we will also return False. \n",
    "In this way, the situation that return False is complete, the others will return True. \n",
    "And also in this way, we can return much earlier\n"
   ]
  },
  {
   "cell_type": "code",
   "execution_count": null,
   "metadata": {},
   "outputs": [],
   "source": [
    "class Solution(object):\n",
    "    def checkPossibility(self, nums):\n",
    "        \"\"\"\n",
    "        :type nums: List[int]\n",
    "        :rtype: bool\n",
    "        \"\"\"\n",
    "        count=0\n",
    "        for i in range(len(nums)-1):\n",
    "            if nums[i]>nums[i+1]:\n",
    "                count+=1\n",
    "                if count>1 or ((i-1>=0 and nums[i-1]>nums[i+1]) and (i+2<len(nums) and nums[i+2]<nums[i])):\n",
    "                    return False\n",
    "        return True"
   ]
  },
  {
   "cell_type": "code",
   "execution_count": null,
   "metadata": {},
   "outputs": [],
   "source": []
  },
  {
   "cell_type": "code",
   "execution_count": null,
   "metadata": {},
   "outputs": [],
   "source": []
  },
  {
   "cell_type": "code",
   "execution_count": null,
   "metadata": {},
   "outputs": [],
   "source": []
  },
  {
   "cell_type": "code",
   "execution_count": null,
   "metadata": {},
   "outputs": [],
   "source": []
  },
  {
   "cell_type": "code",
   "execution_count": null,
   "metadata": {},
   "outputs": [],
   "source": []
  },
  {
   "cell_type": "code",
   "execution_count": null,
   "metadata": {},
   "outputs": [],
   "source": []
  },
  {
   "cell_type": "code",
   "execution_count": null,
   "metadata": {},
   "outputs": [],
   "source": []
  }
 ],
 "metadata": {
  "kernelspec": {
   "display_name": "Python 3",
   "language": "python",
   "name": "python3"
  },
  "language_info": {
   "codemirror_mode": {
    "name": "ipython",
    "version": 3
   },
   "file_extension": ".py",
   "mimetype": "text/x-python",
   "name": "python",
   "nbconvert_exporter": "python",
   "pygments_lexer": "ipython3",
   "version": "3.7.6"
  }
 },
 "nbformat": 4,
 "nbformat_minor": 2
}
