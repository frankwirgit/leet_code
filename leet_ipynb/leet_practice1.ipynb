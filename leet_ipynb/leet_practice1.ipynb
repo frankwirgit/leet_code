{
 "cells": [
  {
   "cell_type": "code",
   "execution_count": null,
   "metadata": {},
   "outputs": [],
   "source": [
    "#string"
   ]
  },
  {
   "cell_type": "code",
   "execution_count": null,
   "metadata": {},
   "outputs": [],
   "source": [
    "#string 07/03/2020"
   ]
  },
  {
   "cell_type": "code",
   "execution_count": 1,
   "metadata": {},
   "outputs": [
    {
     "name": "stdout",
     "output_type": "stream",
     "text": [
      "Hy lk wrds\n"
     ]
    }
   ],
   "source": [
    "#1119.\n",
    "strs = \"Hey look words\"\n",
    "vows = ['a','e','i','o','u']\n",
    "print (''.join(s for s in strs if s.lower() not in vows))"
   ]
  },
  {
   "cell_type": "code",
   "execution_count": null,
   "metadata": {},
   "outputs": [],
   "source": [
    "#1108.\n",
    "print(s.replace('.','[.]'))"
   ]
  },
  {
   "cell_type": "code",
   "execution_count": 2,
   "metadata": {},
   "outputs": [
    {
     "name": "stdout",
     "output_type": "stream",
     "text": [
      "['girl', 'student']\n"
     ]
    }
   ],
   "source": [
    "#1078.\n",
    "text = \"alice is a good girl she is a good student\"\n",
    "first = \"a\"\n",
    "second = \"good\"\n",
    "strlist = text.split()\n",
    "print([c for a, b, c in zip(strlist, strlist[1:], strlist[2:]) if a == first and b == second])\n",
    "\n",
    "      "
   ]
  },
  {
   "cell_type": "code",
   "execution_count": 3,
   "metadata": {},
   "outputs": [
    {
     "name": "stdout",
     "output_type": "stream",
     "text": [
      "AB\n"
     ]
    }
   ],
   "source": [
    "#1071.\n",
    "def f1071(str1,str2):\n",
    "    l1, l2 = len(str1), len(str2)\n",
    "    str = str1 if l1 < l2 else str2\n",
    "    for i in range(len(str), 0, -1):\n",
    "        if l1%i == 0 and l2%i == 0:\n",
    "            if str[:i]*(l1//i) == str1 and str[:i]*(l2//i) == str2:\n",
    "                return str[:i]\n",
    "    return \"\"\n",
    "str1 = \"ABABAB\"\n",
    "str2 = \"ABAB\"\n",
    "print(f1071(str1, str2))"
   ]
  },
  {
   "cell_type": "code",
   "execution_count": 10,
   "metadata": {},
   "outputs": [
    {
     "name": "stdout",
     "output_type": "stream",
     "text": [
      "[[0, 2]] aba\n",
      "[[0, 2], [2, 4]] aba\n",
      "[[0, 2], [2, 4], [0, 1]] ab\n",
      "[[0, 2], [2, 4], [0, 1], [2, 3]] ab\n"
     ]
    },
    {
     "data": {
      "text/plain": [
       "[[0, 2], [2, 4], [0, 1], [2, 3]]"
      ]
     },
     "execution_count": 10,
     "metadata": {},
     "output_type": "execute_result"
    }
   ],
   "source": [
    "#1065.\n",
    "def f1065(text, words):\n",
    "    res = []\n",
    "    for w in words:\n",
    "        for i in range(len(text)-len(w)+1):\n",
    "            if text[i:i+len(w)]==w:\n",
    "                res.append([i, i+len(w)-1])\n",
    "                #print(res, w)\n",
    "    return res\n",
    "text = \"ababa\"\n",
    "words = [\"aba\",\"ab\"]\n",
    "f1065(text, words)\n",
    "            "
   ]
  },
  {
   "cell_type": "code",
   "execution_count": 12,
   "metadata": {},
   "outputs": [
    {
     "name": "stdout",
     "output_type": "stream",
     "text": [
      "ca\n",
      "ca\n"
     ]
    }
   ],
   "source": [
    "#1047.\n",
    "#use extra space\n",
    "s = \"abbaca\"\n",
    "res=[]\n",
    "for c in s:\n",
    "    if res and res[-1] == c: \n",
    "        res.pop() \n",
    "    else: \n",
    "        res.append(c)\n",
    "print(''.join(res))\n",
    "\n",
    "def f1047(s):\n",
    "    i = 0\n",
    "    while i < len(s)-1:\n",
    "        if s[i] == s[i+1]:\n",
    "            s = s[:i] + s[i+2:]\n",
    "            i = i - 2 if i > 0 else i - 1\n",
    "        i += 1\n",
    "    return s\n",
    "print(f1047(s))\n"
   ]
  },
  {
   "cell_type": "code",
   "execution_count": 8,
   "metadata": {},
   "outputs": [
    {
     "name": "stdout",
     "output_type": "stream",
     "text": [
      "['a', 'b', 'b', 'a', 'c', 'c', 'a']\n",
      "['a', 'b', 'a', 'c', 'a']\n"
     ]
    }
   ],
   "source": [
    "strs = \"abbacca\" #=> s=\"abaca\"\n",
    "s = list(strs)\n",
    "print(s)\n",
    "i, j, t = 1, 1, s[0]\n",
    "while i < len(s):\n",
    "    if s[i] != t:\n",
    "        s[j] = s[i]\n",
    "        t  = s[i]\n",
    "        j += 1\n",
    "    i += 1\n",
    "print(s[:j])"
   ]
  },
  {
   "cell_type": "code",
   "execution_count": 17,
   "metadata": {},
   "outputs": [
    {
     "name": "stdout",
     "output_type": "stream",
     "text": [
      "1\n",
      "2\n",
      "3\n",
      "2\n",
      "1\n",
      "0\n",
      "(())\n"
     ]
    }
   ],
   "source": [
    "#1021.\n",
    "def f1021(s):\n",
    "    res, open = [], 0\n",
    "    for c in s:\n",
    "        if c =='(' and open > 0: res.append(c)\n",
    "        if c == ')' and open > 1: res.append(c)\n",
    "        open += 1 if c == '(' else -1\n",
    "        print(open)\n",
    "    return ''.join(res)\n",
    "s = \"((()))\"\n",
    "#s = \"(())\"\n",
    "print(f1021(s))"
   ]
  },
  {
   "cell_type": "code",
   "execution_count": 31,
   "metadata": {},
   "outputs": [
    {
     "name": "stdout",
     "output_type": "stream",
     "text": [
      "[0, 2, 1, 0]\n",
      "bella\n",
      "['l', 'l', 'e']\n"
     ]
    }
   ],
   "source": [
    "#1002.\n",
    "strs = [\"bella\",\"label\",\"roller\"]\n",
    "#strs = sorted(strs, key=lambda s: len(s))\n",
    "strs = sorted(strs,key=len)\n",
    "b = [ min(s.count(c) for s in strs[1:]) for c in set(strs[0])]\n",
    "print(b)\n",
    "print(strs[0])\n",
    "print( list (''.join(c*n for c, n in zip(set(strs[0]),b))) )"
   ]
  },
  {
   "cell_type": "code",
   "execution_count": null,
   "metadata": {},
   "outputs": [],
   "source": [
    "#953.\n",
    "print(sorted(words, key=lambda k: map(order.index, k)) == words )"
   ]
  },
  {
   "cell_type": "code",
   "execution_count": null,
   "metadata": {},
   "outputs": [],
   "source": [
    "#929.\n",
    "def f929(emails):\n",
    "    res = []\n",
    "    for e in emails:\n",
    "        name, domain = e.split('@')\n",
    "        name = name.split('+')[0].replace(\".\",\"\")\n",
    "        res.append(name+\"@\"+domain)\n",
    "    return len(set(res))        "
   ]
  },
  {
   "cell_type": "code",
   "execution_count": null,
   "metadata": {},
   "outputs": [],
   "source": [
    "#917. \n",
    "def f917(strs):\n",
    "    s, i, j = list(strs), 0, len(strs)-1\n",
    "    while i<j:\n",
    "        if not s[i].isalpha():\n",
    "            i += 1\n",
    "        elif not s[i].isalpha():\n",
    "            j -= 1\n",
    "        else:\n",
    "            s[i], s[j] = s[j], s[i]\n",
    "            i, j = i+1, j-1\n",
    "    return \"\".join(s)\n",
    "\n",
    "s = list(strs)\n",
    "#ic = [i for i, c in enumerate(s) if c.isalpha()]\n",
    "kc = [c for i, c in enumerate(s) if c.isalpha()]\n",
    "print (\"\".join(kc.pop() if c.isalpha() else c for c in s))"
   ]
  },
  {
   "cell_type": "code",
   "execution_count": null,
   "metadata": {},
   "outputs": [],
   "source": [
    "07/04/2020"
   ]
  },
  {
   "cell_type": "code",
   "execution_count": null,
   "metadata": {},
   "outputs": [],
   "source": [
    "#893. ?\n",
    "print (set(\"\".join(sorted(s[0::2])) + \"\".join(sorted(s[1::2])) for s in A))\n"
   ]
  },
  {
   "cell_type": "code",
   "execution_count": null,
   "metadata": {},
   "outputs": [],
   "source": [
    "#884.\n",
    "c = collections.Counter( (A+\" \"+B).split())\n",
    "print ([w for w in c if c[w]==1])"
   ]
  },
  {
   "cell_type": "code",
   "execution_count": null,
   "metadata": {},
   "outputs": [],
   "source": [
    "#859.\n",
    "#pay attention to the duplicate case\n",
    "\n",
    "d = [[a,b] for a, b in zip(list(A), list(B)) if a != b]\n",
    "print(len(d)==2 and d[0][1]=d[1][0] and d[0][0]=d[1][1])\n",
    "\n",
    "def f859(A, B):\n",
    "    if len(A) != len(B):\n",
    "        return False\n",
    "    d, dup = [[a, B[i]] for i, a in enumerate(A) if a!=B[i]], len(A) != len(set(A))\n",
    "    return len(d)==2 and d[0] == d[1][::-1] or (not d and dup)\n",
    "    "
   ]
  },
  {
   "cell_type": "code",
   "execution_count": null,
   "metadata": {},
   "outputs": [],
   "source": [
    "#830.\n",
    "def f830(s):\n",
    "    i, j, n, res = 0, 0, len(s), []\n",
    "    while i < n:\n",
    "        while j < n and s[j] == s[i]:\n",
    "            j += 1\n",
    "        if j - i >= 3\n",
    "            res.append((i, j-1))\n",
    "        i = j\n",
    "    return res\n",
    "\n",
    "#use itertools.groupby(s)"
   ]
  },
  {
   "cell_type": "code",
   "execution_count": null,
   "metadata": {},
   "outputs": [],
   "source": [
    "#824.\n",
    "def f824(s):\n",
    "    dic = set('aeiou')\n",
    "    for i, w in enumerate(s.split()):\n",
    "        if w[0].lower() not in dic:\n",
    "            w = w[1:] + w[0]\n",
    "        res.append(w + 'ma' + 'a'*(i+1))\n",
    "    return ' '.join(res)"
   ]
  },
  {
   "cell_type": "code",
   "execution_count": null,
   "metadata": {},
   "outputs": [],
   "source": [
    "#811.\n",
    "def f811(mydomains):\n",
    "    c = collections.Counter()\n",
    "    for m in mydomains:\n",
    "        n, *d = m.replace(\" \", \".\").split(\".\") #*d => become a list\n",
    "        for i in range(len(d)):\n",
    "            c[\".\".join(d[i:])] += int(n)\n",
    "    return [\"%d %s\" % (c[k], k) for k in c]"
   ]
  },
  {
   "cell_type": "code",
   "execution_count": null,
   "metadata": {},
   "outputs": [],
   "source": [
    "#806.\n",
    "def 806(widths, s):\n",
    "    lines, cur = 1, 0\n",
    "    for i in s:\n",
    "        width = widths[ord(i)-ord('a')]\n",
    "        lines += 1 if cur+width > 100 else 0\n",
    "        cur = width if cur+width > 100 else cur + width\n",
    "    return [lines, cur]\n"
   ]
  },
  {
   "cell_type": "code",
   "execution_count": null,
   "metadata": {},
   "outputs": [],
   "source": [
    "#804.\n",
    "def f804(words):\n",
    "    Morse = [\".-\", \"-...\", \"-.-.\", \"-..\", \".\", \"..-.\", \"--.\", \"....\", \"..\", \".---\", \"-.-\", \".-..\", \"--\",\n",
    "             \"-.\", \"---\", \".--.\", \"--.-\", \".-.\", \"...\", \"-\", \"..-\", \"...-\", \".--\", \"-..-\", \"-.--\", \"--..\"]\n",
    "    return len({\"\".join(Morse[ord(i)-ord('a')] for i in w) for w in words})\n",
    "    #use set to dedup\n"
   ]
  },
  {
   "cell_type": "code",
   "execution_count": null,
   "metadata": {},
   "outputs": [],
   "source": [
    "#796.\n",
    "print(len(A)=len(B) and B in (A+A))"
   ]
  },
  {
   "cell_type": "code",
   "execution_count": null,
   "metadata": {},
   "outputs": [],
   "source": [
    "#784.\n",
    "res = {\"\"}\n",
    "print( list( { r+t for r in res for t in (c.lower(), c.upper()) for c in s}))\n",
    "\n",
    "import itertools\n",
    "def f784(s):\n",
    "    d = [ [c.lower(), c.upper()] if c.isalpha() else c for c in S]\n",
    "    return [''.join(i) for i in itertools.product(*d)]"
   ]
  },
  {
   "cell_type": "code",
   "execution_count": null,
   "metadata": {},
   "outputs": [],
   "source": [
    "#748.\n",
    "def f748(lp, words):\n",
    "    cnt = collections.Counter(\"\".join(c for c in lp.lower() if c.isalpha()))\n",
    "    return min([w for w in words if not cnt-collections.Counter(w)], key=len)"
   ]
  },
  {
   "cell_type": "code",
   "execution_count": null,
   "metadata": {},
   "outputs": [],
   "source": [
    "#717.\n",
    "#Just go through the bits. For every 1-bit, skip the following bit. Return whether the last seen start bit was zero.\n",
    "def f717(bits):\n",
    "    for i, bit in enumerate(bits):\n",
    "        if bit:\n",
    "            bits.pop(i+1)\n",
    "    return not bit\n",
    "\n",
    "bit = ''.join(str(b) for b in bits)\n",
    "bit = bit.replace('10','').replace('11','')\n",
    "print(bit=='' or bit[:-1]=='0')"
   ]
  },
  {
   "cell_type": "code",
   "execution_count": null,
   "metadata": {},
   "outputs": [],
   "source": [
    "#string 07/05/2020"
   ]
  },
  {
   "cell_type": "code",
   "execution_count": null,
   "metadata": {},
   "outputs": [],
   "source": [
    "#709.\n",
    "print(s.lower())\n",
    "print(''.join(chr(ord(c)+32) if \"A\" <= c <= \"Z\" else c for c in s))"
   ]
  },
  {
   "cell_type": "code",
   "execution_count": null,
   "metadata": {},
   "outputs": [],
   "source": [
    "#682.\n",
    "def f682(ops):\n",
    "    res = []\n",
    "    for p in ops:\n",
    "        if p == 'C' and len(res)>=0: res.pop()\n",
    "        elif p == 'D': res.append(res[-1]**2)\n",
    "        elif p == '+': res.append(sum(res[-2:]))\n",
    "        else: res.append(int(p))\n",
    "    return sum(res)"
   ]
  },
  {
   "cell_type": "code",
   "execution_count": null,
   "metadata": {},
   "outputs": [],
   "source": [
    "#557.\n",
    "print(\" \".join(w[::-1] for w in s.split()))\n",
    "\n",
    "#OR\n",
    "print(\" \".join(s.split()[::-1])[::-1])\n"
   ]
  },
  {
   "cell_type": "code",
   "execution_count": null,
   "metadata": {},
   "outputs": [],
   "source": [
    "#520.\n",
    "print(w.isupper() or w.islower() or w.istitl())\n",
    "\n",
    "#OR\n",
    "import re\n",
    "pw = re.compile(r\"^[A-Z]*$|^[a-z]*$|^[A-Z][a-z]*$\")\n",
    "print(w.match(pw))\n"
   ]
  },
  {
   "cell_type": "code",
   "execution_count": null,
   "metadata": {},
   "outputs": [],
   "source": [
    "#500.\n",
    "rows = ['qwertyuiopQWERTYUIOP', 'asdfghjklASDFGHJKL', 'zxcvbnmZXCVBNM']\n",
    "print( [w for w in words if any( [all([c in row for c in w]) for row in rows)] )] )"
   ]
  },
  {
   "cell_type": "code",
   "execution_count": null,
   "metadata": {},
   "outputs": [],
   "source": [
    "#409.\n",
    "s = collections.Counter(strs)\n",
    "print (sum(i - i%2 for i in s.values()) + 1*(any(i%2 == 1 for i in s.values())))\n"
   ]
  },
  {
   "cell_type": "code",
   "execution_count": null,
   "metadata": {},
   "outputs": [],
   "source": [
    "#408.\n",
    "def f408(word, abbr):\n",
    "    numb, current = 0, 0\n",
    "    for w in abbr:\n",
    "        if w.isdigit():\n",
    "            if w == '0' and numb == 0:\n",
    "                return False\n",
    "            numb = numb * 10 + int(w)\n",
    "        else:\n",
    "            current += numb\n",
    "            numb = 0\n",
    "            if numb > len(word) or word[current] != w:\n",
    "                return False\n",
    "            current += 1\n",
    "    return current + numb == len(word)"
   ]
  },
  {
   "cell_type": "code",
   "execution_count": 105,
   "metadata": {},
   "outputs": [
    {
     "name": "stdout",
     "output_type": "stream",
     "text": [
      "e\n",
      "[97, 98, 99, 100, 97, 98, 99, 100, 101]\n",
      "e\n"
     ]
    }
   ],
   "source": [
    "#389. \n",
    "from functools import reduce\n",
    "s = \"abcd\"\n",
    "t = \"abcde\"\n",
    "print( list(set(list(t)) - set(list(s)))[0] )\n",
    "#OR\n",
    "\n",
    "br = [ord(x) for x in (s+t)]\n",
    "print(br)\n",
    "r = reduce(lambda x, y: x^y, map(ord, s+t))\n",
    "print(chr(r))"
   ]
  },
  {
   "cell_type": "code",
   "execution_count": null,
   "metadata": {},
   "outputs": [],
   "source": [
    "#387.\n",
    "print (min(s.find(c) for c, v in collections.Counter(s).items() if v==1) or -1)\n",
    "\n",
    "def f387(s):\n",
    "    dt, res = dict(), -1\n",
    "    for i, c in enumerate(s[::-1]):\n",
    "        if c not in dt:\n",
    "            res = len(s)-1 - i\n",
    "        dt[c] = i\n",
    "    return res"
   ]
  },
  {
   "cell_type": "code",
   "execution_count": null,
   "metadata": {},
   "outputs": [],
   "source": [
    "#383.\n",
    "print( not collection.Counter(ransomNote) - collections.Counter(magazine))\n",
    "\n",
    "#OR\n",
    "r = set(list(ransomNote))\n",
    "m = set(list(magazine))\n",
    "print (r.issuperset(m) and m.issuperset(r))"
   ]
  },
  {
   "cell_type": "code",
   "execution_count": null,
   "metadata": {},
   "outputs": [],
   "source": [
    "#344.\n",
    "print(s[::-1])\n",
    "#OR\n",
    "print(\"\".join(reversed(list(s))))\n",
    "\n",
    "def f344(s):\n",
    "    n, s = len(s), list(s)\n",
    "    for i in range(n//2):\n",
    "        s[i], s[~i] = s[~i], s[i]\n",
    "    return \"\".join(s)"
   ]
  },
  {
   "cell_type": "code",
   "execution_count": 106,
   "metadata": {},
   "outputs": [
    {
     "data": {
      "text/plain": [
       "True"
      ]
     },
     "execution_count": 106,
     "metadata": {},
     "output_type": "execute_result"
    }
   ],
   "source": [
    "#290.\n",
    "def f290(words, pat):\n",
    "    w = words.split()\n",
    "    return list(map(pat.find, pat)) == list(map(w.index, w))\n",
    "pat, words = \"abba\", \"dog cat cat dog\"\n",
    "f290(words, pat)"
   ]
  },
  {
   "cell_type": "code",
   "execution_count": null,
   "metadata": {},
   "outputs": [],
   "source": [
    "#266.\n",
    "def f266(s):\n",
    "    left = set()\n",
    "    for c in s:\n",
    "        if c in left:\n",
    "            left.remove(c)\n",
    "        else:\n",
    "            left.add(c)\n",
    "    return len(left) < 2\n",
    "\n",
    "#OR\n",
    "ls = [ k for k, v in collections.Counter(s).items() if v%2]\n",
    "print (len(ls)<2) "
   ]
  },
  {
   "cell_type": "code",
   "execution_count": null,
   "metadata": {},
   "outputs": [],
   "source": [
    "#string 07/06/2020"
   ]
  },
  {
   "cell_type": "code",
   "execution_count": null,
   "metadata": {},
   "outputs": [],
   "source": [
    "#243.\n",
    "def f243(words w1, w2):\n",
    "    dx1, dx2, minD = -1, -1, sys.maxsize\n",
    "    for i in range(len(words)):\n",
    "        if words[i] == w1: dx1 = i\n",
    "        elif words[i] == w2: dx2 = i\n",
    "        if dx1 >= 0 and dx2 >=0:\n",
    "            minD = min(minD, abs(dx1 - dx2))\n",
    "    return minD if minD != sys.maxsize else None"
   ]
  },
  {
   "cell_type": "code",
   "execution_count": null,
   "metadata": {},
   "outputs": [],
   "source": [
    "#242.\n",
    "print (sorted(s) == sorted(t))\n",
    "\n",
    "#OR\n",
    "print(collections.Counter(s) == collections.Counter(t))"
   ]
  },
  {
   "cell_type": "code",
   "execution_count": null,
   "metadata": {},
   "outputs": [],
   "source": [
    "#205.\n",
    "print (map(s.find, s) == map(t.find, t))\n",
    "\n",
    "#OR\n",
    "print([s.find(i) for i in S] == [t.find(j) for j in t])\n"
   ]
  },
  {
   "cell_type": "code",
   "execution_count": null,
   "metadata": {},
   "outputs": [],
   "source": [
    "#125.\n",
    "ss = \"\".join(re.findall(\"[a-zA-Z0-9]*\", s)).lower()\n",
    "print (ss == ss[::-1])\n"
   ]
  },
  {
   "cell_type": "code",
   "execution_count": null,
   "metadata": {},
   "outputs": [],
   "source": [
    "#59.\n",
    "print (len(s.split()[-1]) if len(s.split())>0) else 0)"
   ]
  },
  {
   "cell_type": "code",
   "execution_count": null,
   "metadata": {},
   "outputs": [],
   "source": [
    "#30.\n",
    "def f30(s, words):\n",
    "    if not words:\n",
    "        return []\n",
    "    k, res = len(words[0]), []\n",
    "    for left in range(k):\n",
    "        d = collections.Counter(words)\n",
    "        for right in range(left+k, len(s)+1, k):\n",
    "            word = s[right -k: right]\n",
    "            d[word] -= 1\n",
    "            while d[word] < 0:\n",
    "                d[s[left:left+k]] += 1\n",
    "                left += k\n",
    "            if left + k*len(words) == right\n",
    "                res.append(left)\n",
    "        return res\n",
    "\n",
    "def f30_2(s, words):\n",
    "    aw = list(itertools.permutations(words))\n",
    "    res = []\n",
    "    for w in aw:\n",
    "        fdx = s.find(''.join(w))\n",
    "        if fdx != -1:\n",
    "            res.append(fdx)\n",
    "    return res"
   ]
  },
  {
   "cell_type": "code",
   "execution_count": 7,
   "metadata": {},
   "outputs": [
    {
     "name": "stdout",
     "output_type": "stream",
     "text": [
      "[('foo', 'bar'), ('bar', 'foo')]\n"
     ]
    }
   ],
   "source": [
    "import itertools\n",
    "words = [\"foo\",\"bar\"]\n",
    "print(list(itertools.permutations(words)))"
   ]
  },
  {
   "cell_type": "code",
   "execution_count": null,
   "metadata": {},
   "outputs": [],
   "source": [
    "#28.\n",
    "def f28(haystack, needle):\n",
    "    l1, l2 = len(haystack), len(needle)\n",
    "    if l < l2:\n",
    "        return -1\n",
    "    for i in range(l1 - l2 + 1):\n",
    "        if needle == haystack[i:i+l2]:\n",
    "            return i\n",
    "    return -1"
   ]
  },
  {
   "cell_type": "code",
   "execution_count": 14,
   "metadata": {},
   "outputs": [
    {
     "name": "stdout",
     "output_type": "stream",
     "text": [
      "['((()))', '(()())', '(())()', '()(())', '()()()']\n"
     ]
    }
   ],
   "source": [
    "#22.\n",
    "def f22(n):\n",
    "    def helper(p, l, r, res=[]):\n",
    "        if l:\n",
    "            helper(p + \"(\", l-1, r)\n",
    "        if l < r:\n",
    "            helper(p + \")\", l, r-1)\n",
    "        if not r:\n",
    "            res += p,\n",
    "        return res\n",
    "    return helper(\"\", n, n)\n",
    "n=3\n",
    "print(f22(n))"
   ]
  },
  {
   "cell_type": "code",
   "execution_count": null,
   "metadata": {},
   "outputs": [],
   "source": [
    "#20.\n",
    "def f20(s):\n",
    "    res = [] #stack\n",
    "    mp = {\"(\":\")\",\"[\":\"]\",\"{\":\"}\"}\n",
    "    ls = [\")\",\"]\",\"}\"]\n",
    "    for c in s:\n",
    "        if c in mp:\n",
    "            res.append(c)\n",
    "        elif c in ls:\n",
    "            if res:\n",
    "                if c != mp[res.pop()]:\n",
    "                    return False\n",
    "            else:\n",
    "                return False\n",
    "        else:\n",
    "            continue\n",
    "    return not res\n",
    "            "
   ]
  },
  {
   "cell_type": "code",
   "execution_count": null,
   "metadata": {},
   "outputs": [],
   "source": [
    "#14.\n",
    "def f14(s):\n",
    "    s = sorted(s, key=len)\n",
    "    smin, pref = s[0], 0\n",
    "    for i in range(len(smin)):\n",
    "        for j in range(1, len(s)):\n",
    "            if smin[i] != s[j][i]:\n",
    "                i = len(smin) #break\n",
    "                break\n",
    "            elif j == len(s)-1:\n",
    "                pref += smin[i]\n",
    "    return pref\n",
    "    "
   ]
  },
  {
   "cell_type": "code",
   "execution_count": null,
   "metadata": {},
   "outputs": [],
   "source": [
    "#10. ?\n",
    "def f10(s, p):\n",
    "    if not p:\n",
    "        return (not s)\n",
    "    firstm = bool(s) and p[0] in {s[0], \".\"}\n",
    "    if len(p)> 2 and p[1] in {\"*\"}:\n",
    "        return firstm or f10(s[1:], p) or f10(s, p[2:])\n",
    "    else:\n",
    "        return firstm or f10(s[1:], p[1:])\n",
    "    \n",
    "    #f10(s, p[2:]) - zero char occurs before \"*\"\n",
    "    #f10(s[1:], p) - any char in s matches \"*\""
   ]
  },
  {
   "cell_type": "code",
   "execution_count": 19,
   "metadata": {},
   "outputs": [
    {
     "name": "stdout",
     "output_type": "stream",
     "text": [
      "PAHN APLSIIG YIR\n"
     ]
    }
   ],
   "source": [
    "#6.\n",
    "def f6(s, nrow):\n",
    "    if(nrow <= 1):\n",
    "        return None\n",
    "    direct, dt, row = 1, [\"\"]*nrow, 0\n",
    "    for c in s:\n",
    "        dt[row] = dt[row] + c\n",
    "        if row == 0:\n",
    "            direct = 1\n",
    "        elif row == nrow - 1:\n",
    "            direct = -1\n",
    "        row = row + direct\n",
    "    return (\" \".join(dt))\n",
    "strs=\"PAYPALISHIRING\"\n",
    "print(f6(strs,3))"
   ]
  },
  {
   "cell_type": "code",
   "execution_count": null,
   "metadata": {},
   "outputs": [],
   "source": [
    "#string 07/07/2020"
   ]
  },
  {
   "cell_type": "code",
   "execution_count": null,
   "metadata": {},
   "outputs": [],
   "source": [
    "#5. \n",
    "def f5(s):\n",
    "    def helper(s, l, r):\n",
    "        while l>=0 and r < len(s) and s[l]=s[r]:\n",
    "            l -= 1\n",
    "            r += 1\n",
    "        return s[l+1:r]\n",
    "    res = ''\n",
    "    for i in range(len(s)):\n",
    "        tmp = helper(s, i, i)\n",
    "        if len(tmp) > len(res):\n",
    "            res = tmp\n",
    "        tmp = helper(s, i, i+1)\n",
    "        if len(tmp) > len(res):\n",
    "            res = tmp\n",
    "    return res"
   ]
  },
  {
   "cell_type": "code",
   "execution_count": null,
   "metadata": {},
   "outputs": [],
   "source": [
    "#3.\n",
    "def f3(s):\n",
    "    dic, res, start = dict(), 0, 0\n",
    "    for i, c in enumerate(s):\n",
    "        if c in dic:\n",
    "            res = max(res, i-start)\n",
    "            start = max(start, dic[c]+1)\n",
    "        dic[c] = i\n",
    "    return max(res, len(s)-start)"
   ]
  },
  {
   "cell_type": "code",
   "execution_count": null,
   "metadata": {},
   "outputs": [],
   "source": []
  },
  {
   "cell_type": "code",
   "execution_count": null,
   "metadata": {},
   "outputs": [],
   "source": []
  },
  {
   "cell_type": "code",
   "execution_count": null,
   "metadata": {},
   "outputs": [],
   "source": []
  },
  {
   "cell_type": "code",
   "execution_count": null,
   "metadata": {},
   "outputs": [],
   "source": []
  },
  {
   "cell_type": "code",
   "execution_count": null,
   "metadata": {},
   "outputs": [],
   "source": []
  },
  {
   "cell_type": "code",
   "execution_count": null,
   "metadata": {},
   "outputs": [],
   "source": []
  },
  {
   "cell_type": "code",
   "execution_count": null,
   "metadata": {},
   "outputs": [],
   "source": []
  },
  {
   "cell_type": "code",
   "execution_count": null,
   "metadata": {},
   "outputs": [],
   "source": [
    "#tree"
   ]
  },
  {
   "cell_type": "code",
   "execution_count": null,
   "metadata": {},
   "outputs": [],
   "source": [
    "#tree 07/03/2020"
   ]
  },
  {
   "cell_type": "code",
   "execution_count": null,
   "metadata": {},
   "outputs": [],
   "source": [
    "#1022.\n",
    "def f1022(root,val=0):\n",
    "    if not root:\n",
    "        return 0\n",
    "    val = val * 2 + root.val\n",
    "    if root.left == root.right:\n",
    "        return val\n",
    "    return f1022(root.left, val) + f1022(root.right, val)"
   ]
  },
  {
   "cell_type": "code",
   "execution_count": null,
   "metadata": {},
   "outputs": [],
   "source": [
    "#993.\n",
    "def f993(root, n1, n2): #cousin?\n",
    "    def dfs(root, par, depth, val):\n",
    "        if root:\n",
    "            if root.val == val\n",
    "                return depth, par\n",
    "            return dfs(root.left, root, depth+1, val) or dfs(root.right, root, depth+1, val)\n",
    "    dx, px, dy, py = dfs(root, None, 0, n1) + dfs(root, None, 0, n2)\n",
    "    return dx == dy and px != py\n",
    "import collections\n",
    "def f993_2(root, n1, n2):\n",
    "    res = collections.defaultdict(list)\n",
    "    q = [(root, 0, 0)]\n",
    "    while q:\n",
    "        nd, depth, par = q.pop()\n",
    "        res[nd.val] = [depth, par]\n",
    "        if nd.left:\n",
    "            q.append((nd.left,depth+1,nd.val))\n",
    "        if nd.right:\n",
    "            q.append((nd.right,depth+1,nd.val))\n",
    "        \n",
    "    return res[n1][0] == res[n2][0] and res[n1][1] != res[n2][1]\n",
    "            "
   ]
  },
  {
   "cell_type": "code",
   "execution_count": null,
   "metadata": {},
   "outputs": [],
   "source": [
    "#965.\n",
    "def f965(root):\n",
    "    def dfs(nd):\n",
    "        return not nd or nd.val == root.val and dfs(nd.left) and dfs(nd.right)\n",
    "    return dfs(root)\n",
    "\n",
    "def f965_2(root):\n",
    "    q = [root]\n",
    "    while q:\n",
    "        nd = q.pop()\n",
    "        if nd.val != root.val:\n",
    "            return False\n",
    "        else:\n",
    "            if nd.left:\n",
    "                q.append(nd.left)\n",
    "            if nd.right:\n",
    "                q.append(nd.right)\n",
    "    return True\n"
   ]
  },
  {
   "cell_type": "code",
   "execution_count": null,
   "metadata": {},
   "outputs": [],
   "source": [
    "#938.\n",
    "def f938(root, L, R):\n",
    "    if not root:\n",
    "        return 0\n",
    "    if not root.val < L:\n",
    "        l = f938(root.left, L, R)\n",
    "    if not root.val > R:\n",
    "        r = f938(root.right, L, R)\n",
    "    return l + r + (L <= root.val <= R)*root.val\n",
    "\n",
    "def f938_2(root, L, R):\n",
    "    q, res = [root], 0\n",
    "    while q:\n",
    "        nd = q.pop()\n",
    "        if L <= nd.val <= R:\n",
    "            res += nd.val\n",
    "        if nd.left and nd.val >= L:\n",
    "            q.append(nd.left)\n",
    "        if nd.right and nd.val <= R:\n",
    "            q.append(nd.right)\n",
    "    return res\n",
    "\n",
    "    "
   ]
  },
  {
   "cell_type": "code",
   "execution_count": null,
   "metadata": {},
   "outputs": [],
   "source": [
    "#897.\n",
    "def f897(root, tail=None):\n",
    "    if not root:\n",
    "        return tail\n",
    "    res = f897(root.left, root)\n",
    "    root.left = None\n",
    "    root.right = f897(root.right, tail)\n",
    "    return res"
   ]
  },
  {
   "cell_type": "code",
   "execution_count": null,
   "metadata": {},
   "outputs": [],
   "source": [
    "#872.\n",
    "def f872(self, root1, root2):\n",
    "    def dfs(leave, root):\n",
    "        if root:\n",
    "            if not root.left and not root.right:\n",
    "                leave.append(root.val)\n",
    "            dfs(leave, root.left)\n",
    "            dfs(leave, root.right)\n",
    "    le1, le2 = [], []\n",
    "    dfs(le1, root)\n",
    "    dfs(le2, root)\n",
    "    return le1 == le2\n"
   ]
  },
  {
   "cell_type": "code",
   "execution_count": null,
   "metadata": {},
   "outputs": [],
   "source": [
    "#783. \n",
    "def f783(root):\n",
    "    res, preval = float('inf'), 0\n",
    "    if not root:\n",
    "        return None\n",
    "    if root.left:\n",
    "        f783(root.left)\n",
    "    res = min(res, abs(root.val - preval))\n",
    "    preval = root.val\n",
    "    if root.right:\n",
    "        f783(root.right)\n",
    "    return res"
   ]
  },
  {
   "cell_type": "code",
   "execution_count": null,
   "metadata": {},
   "outputs": [],
   "source": [
    "#700.\n",
    "def f700(root, val):\n",
    "    if not root:\n",
    "        return []\n",
    "    if root.val < val:\n",
    "        return f700(root.right, val)\n",
    "    elif root.val > val:\n",
    "        return f700(root.left, val)\n",
    "    return root\n",
    "\n",
    "def f700_2(root, val):\n",
    "    if not root:\n",
    "        return []\n",
    "    q = [root]\n",
    "    while q:\n",
    "        nd = q.pop()\n",
    "        if nd.val == val:\n",
    "            return nd\n",
    "        elif nd.val < val:\n",
    "            q.append(nd.right)\n",
    "        else:\n",
    "            q.append(nd.left)\n"
   ]
  },
  {
   "cell_type": "code",
   "execution_count": null,
   "metadata": {},
   "outputs": [],
   "source": [
    "#669.\n",
    "def f669(root, L, R):\n",
    "    def dfs(node):\n",
    "        if node:\n",
    "            if node.val > R:\n",
    "                return dfs(node.left)\n",
    "            elif node.val < L:\n",
    "                return dfs(node.right)\n",
    "            else:\n",
    "                node.left = dfs(node.left)\n",
    "                node.right = dfs(node.right)\n",
    "                return node\n",
    "    return dfs(root)\n",
    "\n",
    "def f669_2(root, L, R):\n",
    "    if not root:\n",
    "        return None\n",
    "    q = [root]\n",
    "    while q:\n",
    "        node = q.pop()\n",
    "        if node.val > R:\n",
    "            if node.left:\n",
    "                node = node.left \n",
    "                q.append(node) #trim the right tree\n",
    "        elif node.val < L:\n",
    "            if node.right:\n",
    "                node = node.right\n",
    "                q.append(node) #trim the left tree\n",
    "        else:\n",
    "            q.append(node.left)\n",
    "            q.append(node.right)\n",
    "    return root\n",
    "        "
   ]
  },
  {
   "cell_type": "code",
   "execution_count": null,
   "metadata": {},
   "outputs": [],
   "source": [
    "#653.\n",
    "def f653(root, target):\n",
    "    dfs(root):\n",
    "        if not root:\n",
    "            return []\n",
    "        if not root.left and not root.right:\n",
    "            return [root.val]\n",
    "        else:\n",
    "            return dfs(root.left) + [root.val] + dfs(root.right)\n",
    "    res = dfs(root)\n",
    "    l, r = 0, len(res)-1\n",
    "    while l < r:\n",
    "        if res[l] + res[r] == target:\n",
    "            return True\n",
    "        elif res[l] + res[r] < target:\n",
    "            l += 1\n",
    "        else:\n",
    "            r -= 1\n",
    "    return False\n",
    "\n",
    "def f653_2(root, target):\n",
    "    if not root:\n",
    "        return False\n",
    "    q, res = [root], []\n",
    "    while q:\n",
    "        node = q.pop()\n",
    "        if target - node.val in res:\n",
    "            return True\n",
    "        res.append(node.val)\n",
    "        if node.left:\n",
    "            q.append(node.left)\n",
    "        if node.right:\n",
    "            q.append(node.right)\n",
    "        return False"
   ]
  },
  {
   "cell_type": "code",
   "execution_count": null,
   "metadata": {},
   "outputs": [],
   "source": [
    "#tree 07/04/2020"
   ]
  },
  {
   "cell_type": "code",
   "execution_count": null,
   "metadata": {},
   "outputs": [],
   "source": [
    "#637.\n",
    "def f637(root):\n",
    "    res = []\n",
    "    def dfs(node,depth):\n",
    "        if node:\n",
    "            if len(res) <= depth:\n",
    "                res.append([0,0]) #append another level\n",
    "            res[depth][0] += node.val\n",
    "            res[depth][1] += 1\n",
    "            dfs(node.left, depth+1)\n",
    "            dfs(node.right, depth+1)\n",
    "        dfs(root,0)\n",
    "        return [v*1./dth for v, dth in res]\n",
    "def f637_2(root):\n",
    "    if not root:\n",
    "        return []\n",
    "    q, res = [(root,1)], []\n",
    "    while q:\n",
    "        node, depth = q.pop()\n",
    "        if len(res) <= depth:\n",
    "            res.append([0,0]) #append another level\n",
    "        res[depth][0] += node.val\n",
    "        res[depth][1] += 1\n",
    "        if node.left:\n",
    "            q.append((node.left, depth+1))\n",
    "        if node.right:\n",
    "            q.append((node.right, depth+1))\n",
    "    return [v*1./dth for v, dth in res]"
   ]
  },
  {
   "cell_type": "code",
   "execution_count": null,
   "metadata": {},
   "outputs": [],
   "source": [
    "#617.\n",
    "def f617(r1, r2):\n",
    "    if not r1 and not r2:\n",
    "        return None\n",
    "    nd = TreeNode((r1.val if r1 else 0) + (r2.val if r2 else 0))\n",
    "    nd.left = f617(r1 and r1.left, r2 and r2.left)\n",
    "    nd.right = f617(r1 and r1.right, r2 and r2.right)\n",
    "    return nd\n",
    "\n",
    "def nf617_2(r1, r2):\n",
    "    if not r1 and not r2:\n",
    "        return None\n",
    "    q, nd = [(r1, r2)], r1\n",
    "    while q:\n",
    "        r1, r2 = q.pop()\n",
    "        r1.val += r2.val\n",
    "        if not r1.left or (not r2.left):\n",
    "            r1.left = r1.left or r2.left\n",
    "        else:\n",
    "            q.append((r1.left, r2.left))\n",
    "        if not r1.right or (not r2.right):\n",
    "            r1.right = r1.right or r2.right\n",
    "        else:\n",
    "            q.append((r1.right, r2.right))\n",
    "    return nd\n"
   ]
  },
  {
   "cell_type": "code",
   "execution_count": null,
   "metadata": {},
   "outputs": [],
   "source": [
    "#606.\n",
    "def f606(root):\n",
    "    if not root:\n",
    "        return \"\"\n",
    "    res = str(root.val)\n",
    "    if root.left:\n",
    "        res += \"(\" + f606(root.left) + \")\"\n",
    "        if root.right:\n",
    "            res += \"(\" + f606(root.right) + \")\"\n",
    "    elif root.right:\n",
    "        res += \"()\" + \"(\" + f606(root.right) + \")\"\n",
    "    return res"
   ]
  },
  {
   "cell_type": "code",
   "execution_count": null,
   "metadata": {},
   "outputs": [],
   "source": [
    "#590.\n",
    "#postorder\n",
    "def f590(root):\n",
    "    res = []\n",
    "    def dfs(node):\n",
    "        if not node:\n",
    "            return []\n",
    "        for c in node.children:\n",
    "            dfs(c)\n",
    "        res.append(node.val)\n",
    "    dfs(root)\n",
    "    return res\n",
    "\n",
    "def f590_2(root):\n",
    "    if not root:\n",
    "        return []\n",
    "    res, q = [], [root]\n",
    "    while q:\n",
    "        node = q.pop()\n",
    "        res.append(node.val)\n",
    "        q += [c for c in node.children if c]\n",
    "    return res[::-1] #reverse the order"
   ]
  },
  {
   "cell_type": "code",
   "execution_count": null,
   "metadata": {},
   "outputs": [],
   "source": [
    "#589.\n",
    "#preorder\n",
    "def f589(root):\n",
    "    if not root:\n",
    "        return []\n",
    "    res = [root.val]\n",
    "    for c in root.children:\n",
    "        res += f589(s)\n",
    "    return res\n",
    "def f589_2(root):\n",
    "    if not root:\n",
    "        return []\n",
    "    res, q = [], [root]\n",
    "    while q:\n",
    "        nd = q.pop()\n",
    "        res.append(nd.val)\n",
    "        if nd.children:\n",
    "            for c in nd.children[::-1] #right -> left\n",
    "                q.append(c)\n",
    "    return res"
   ]
  },
  {
   "cell_type": "code",
   "execution_count": null,
   "metadata": {},
   "outputs": [],
   "source": [
    "#563.\n",
    "#tilt of tree abs(sum(left)-sum(right))\n",
    "def f563(root):\n",
    "    def dfs(node):\n",
    "        if not node:\n",
    "            return (0,0) #(sum, tilt)\n",
    "        left, right = tilt(node.left), tilt(node.right)\n",
    "        return (left[0]+right[0]+root.val, abs(left[0]-right[0])+left[1]+right[1])\n",
    "    return dfs(root)[1]"
   ]
  },
  {
   "cell_type": "code",
   "execution_count": null,
   "metadata": {},
   "outputs": [],
   "source": [
    "#559.\n",
    "def f559(root):\n",
    "    def dfs(node):\n",
    "        if not node:\n",
    "            return 0\n",
    "        res = 0\n",
    "        for c in node.children:\n",
    "            res = max(dfs(c), res)\n",
    "        return res + 1\n",
    "    return dfs(root)\n",
    "\n",
    "def f559_2(root):\n",
    "    if not root:\n",
    "        return 0\n",
    "    q, res = [root], 0\n",
    "    while q:\n",
    "        res += 1\n",
    "        q = [c for c in qn.children for qn in q if c]\n",
    "    return res"
   ]
  },
  {
   "cell_type": "code",
   "execution_count": null,
   "metadata": {},
   "outputs": [],
   "source": [
    "#543.\n",
    "#diameter - the longest path between two nodes\n",
    "def f543(root):\n",
    "    res = 0\n",
    "    def dfs(node):\n",
    "        if not node:\n",
    "            return 0\n",
    "        left, right = dfs(node.left), dfs(node.right)\n",
    "        res = max(res, left + right)\n",
    "        return 1 + max(left, right)\n",
    "    dfs(root)\n",
    "    return res"
   ]
  },
  {
   "cell_type": "code",
   "execution_count": null,
   "metadata": {},
   "outputs": [],
   "source": [
    "#538.\n",
    "def f538(root):\n",
    "    def dfs(node, res):\n",
    "        if not node:\n",
    "            return None\n",
    "        dfs(node.right, res)\n",
    "        node.val += res\n",
    "        dfs(node.left, node.val)\n",
    "        return node\n",
    "    return dfs(root, 0)\n",
    "\n",
    "def f538_2(root):\n",
    "    if not root:\n",
    "        return None\n",
    "    prevsum, q = 0, [(False, root)] #(visited, root)\n",
    "    while q:\n",
    "        visited, node = q.pop()\n",
    "        if visited:\n",
    "            node.val += prevsum\n",
    "            prevsum = node.val\n",
    "        else:\n",
    "            if node.left:\n",
    "                q.append((False, node.left))\n",
    "            q.append((True, node))\n",
    "            if node.right:\n",
    "                q.append((False, node.right))\n",
    "    return root"
   ]
  },
  {
   "cell_type": "code",
   "execution_count": null,
   "metadata": {},
   "outputs": [],
   "source": [
    "#530.\n",
    "#inorder traversal\n",
    "def f530(root):\n",
    "    res = []\n",
    "    def dfs(node):\n",
    "        if not node:\n",
    "            return 0\n",
    "        if node.left:\n",
    "            dfs(node.left)\n",
    "        res.append(node.val)\n",
    "        if node.right:\n",
    "            dfs(node.right)\n",
    "    dfs(root)\n",
    "    return min(abs(a-b) for a, b in zip(res, res[1:]))"
   ]
  },
  {
   "cell_type": "code",
   "execution_count": null,
   "metadata": {},
   "outputs": [],
   "source": [
    "#tree 07/05/2020"
   ]
  },
  {
   "cell_type": "code",
   "execution_count": null,
   "metadata": {},
   "outputs": [],
   "source": [
    "#429.\n",
    "def f429(root):\n",
    "    if not root:\n",
    "        return []\n",
    "    q, res = [root], []\n",
    "    while q:\n",
    "        res.append([node.val for node in q])\n",
    "        q = [c for c in node.children for node in q if c]\n",
    "    return res"
   ]
  },
  {
   "cell_type": "code",
   "execution_count": null,
   "metadata": {},
   "outputs": [],
   "source": [
    "#404.\n",
    "def f404(root):\n",
    "    res = 0\n",
    "    def dfs(nd, left):\n",
    "        if not nd:\n",
    "            return \n",
    "        if left and not nd.left and not nd.right:\n",
    "            res += nd.val\n",
    "        dfs(nd.left, True)\n",
    "        dfs(nd.right, False)\n",
    "    dfs(root, False)\n",
    "    return res"
   ]
  },
  {
   "cell_type": "code",
   "execution_count": null,
   "metadata": {},
   "outputs": [],
   "source": [
    "#270.\n",
    "def f270(root, target):\n",
    "    res = root.val\n",
    "    while root:\n",
    "        if abs(root.val - target) < abs(res - target):\n",
    "            res = root.val\n",
    "        root = root.left if target < root.val else root.right\n",
    "    return res\n"
   ]
  },
  {
   "cell_type": "code",
   "execution_count": null,
   "metadata": {},
   "outputs": [],
   "source": [
    "#257.\n",
    "def f257(root):\n",
    "    res = []\n",
    "    def dfs(node, path, res):\n",
    "        if not node:\n",
    "            return []\n",
    "        if not node.left and not root.right:\n",
    "            res.append(path + str(root.val))\n",
    "        if root.left:\n",
    "            dfs(root.left, path + str(root.val) + \"->\", res)\n",
    "        if root.right:\n",
    "            dfs(root.right, path + str(root.val) + \"->\", res)\n",
    "    dfs(root, \"\", res)\n",
    "    return res"
   ]
  },
  {
   "cell_type": "code",
   "execution_count": null,
   "metadata": {},
   "outputs": [],
   "source": [
    "#235.\n",
    "def f235(root, p, q):\n",
    "    if not root:\n",
    "        return None\n",
    "    while root:\n",
    "        if root.val > p.val and root.val > q.val:\n",
    "            root = root.left\n",
    "        elif root.val < p.val and root.val < q.val:\n",
    "            root = root.right\n",
    "        else:\n",
    "            return root"
   ]
  },
  {
   "cell_type": "code",
   "execution_count": null,
   "metadata": {},
   "outputs": [],
   "source": [
    "#226.\n",
    "def f226(root):\n",
    "    if not root:\n",
    "        return None\n",
    "    root.left, root.right = f226(root.right), f226(root.left)"
   ]
  },
  {
   "cell_type": "code",
   "execution_count": null,
   "metadata": {},
   "outputs": [],
   "source": [
    "#112.\n",
    "def f112(root, target):\n",
    "    res = target\n",
    "    def dfs(nd, res):\n",
    "        if not nd:\n",
    "            return False\n",
    "        if not nd.left and not nd.right and nd.val == res:\n",
    "            return True\n",
    "        if nd.left:\n",
    "            dfs(nd.left, res-nd.val)\n",
    "        if nd.right:\n",
    "            dfs(nd.right, res-nd.val)\n",
    "    return dfs(root, res)\n",
    "\n",
    "def f112_2(root, target):\n",
    "    if not root:\n",
    "        return False\n",
    "    q = [(root, target)]\n",
    "    while q:\n",
    "        nd, cursum = q.pop()\n",
    "        if not nd.left and not nd.right and nd.val == cursum:\n",
    "            return True\n",
    "        if node.left:\n",
    "            q.append((nd.left, cursum - nd.val))\n",
    "        if nd.right:\n",
    "            q.append((nd.right, cursum - nd.val))\n",
    "            \n"
   ]
  },
  {
   "cell_type": "code",
   "execution_count": null,
   "metadata": {},
   "outputs": [],
   "source": [
    "#111. \n",
    "def f111(root):\n",
    "    if not root:\n",
    "        return 0\n",
    "    if not root.left or not root.right:\n",
    "        return max(f111(root.left), f111(root.right))+1\n",
    "    else:\n",
    "        return min(f111(root.left), f111(root.right))+1\n",
    "    \n",
    "def f111_2(root):\n",
    "    if not root:\n",
    "        return 0\n",
    "    q = collections.deque[(root, 1)]\n",
    "    while q:\n",
    "        nd, depth = q.popleft()\n",
    "        if nd:\n",
    "            if not nd.left and not nd.right:\n",
    "                return depth\n",
    "            else:\n",
    "                q.append((nd.left, depth+1))\n",
    "                q.append((nd.right, depth+1))"
   ]
  },
  {
   "cell_type": "code",
   "execution_count": null,
   "metadata": {},
   "outputs": [],
   "source": [
    "#110\n",
    "def f110(root):\n",
    "    if not root:\n",
    "        return True\n",
    "    return abs(f110(root.left)-f110(root.right)) < 2 and f110(root.left) and f110(root.right)\n",
    "\n",
    "def f110_2(root):\n",
    "    if not root:\n",
    "        return 0\n",
    "    return 1 + max(f110_2(root.left), f110_2(root.right))"
   ]
  },
  {
   "cell_type": "code",
   "execution_count": null,
   "metadata": {},
   "outputs": [],
   "source": [
    "#108.\n",
    "def f108(A):\n",
    "    l, r = 0, len(A)-1\n",
    "    if l <= r:\n",
    "        mid = (l + r)//2\n",
    "        root = TreeNode(A[mid])\n",
    "        root.left = f108(A[:mid])\n",
    "        root.right = f108(A[mid+1:])\n",
    "        return root"
   ]
  },
  {
   "cell_type": "code",
   "execution_count": null,
   "metadata": {},
   "outputs": [],
   "source": [
    "#tree 07/06/2020"
   ]
  },
  {
   "cell_type": "code",
   "execution_count": null,
   "metadata": {},
   "outputs": [],
   "source": [
    "#107. \n",
    "def f107(root):\n",
    "    def dfs(node, level, res=[]):\n",
    "        if node:\n",
    "            if len(res)<level+1:\n",
    "                res.insert(0,[])\n",
    "            res[-(level+1)].append(node.val)\n",
    "            dfs(node.left, level+1)\n",
    "            dfs(node.right, level+1)\n",
    "            return res\n",
    "    return dfs(root, 0)\n",
    "\n",
    "def f107_2(root):\n",
    "    res, q = [], [(root, 0)]\n",
    "    while q:\n",
    "        node, level = q.pop()\n",
    "        if node:\n",
    "            if len(res) < level + 1:\n",
    "                res.insert(0,[])\n",
    "            res[-(level+1)].append(node.val)\n",
    "            q.append((node.right, level+1))\n",
    "            q.append((node.left, level+1))\n",
    "    return res"
   ]
  },
  {
   "cell_type": "code",
   "execution_count": 20,
   "metadata": {},
   "outputs": [],
   "source": [
    "#104.\n",
    "def f104(root):\n",
    "    if not root:\n",
    "        return 0\n",
    "    else:\n",
    "        return 1 + max(f104(root.left), f104(root.right))\n",
    "    \n",
    "def f104_2(root):\n",
    "    q, depth = collections.deque(), 0\n",
    "    q = [root]\n",
    "    while q:\n",
    "        depth += 1\n",
    "        for _ in range(len(q)):\n",
    "            node = q.popleft()\n",
    "            if node.left:\n",
    "                q.append(node.left)\n",
    "            if node.right:\n",
    "                q.append(node.right)\n",
    "    return depth\n",
    "\n",
    "def f104_21(root):\n",
    "    if not root:\n",
    "        return 0\n",
    "    q =[(root, 0)]\n",
    "    while q:\n",
    "        node, depth = q.pop()\n",
    "        if node.left:\n",
    "            q.append((node.left, depth+1))\n",
    "        if node.right:\n",
    "            q.append((node.right, depth+1))\n",
    "    return depth"
   ]
  },
  {
   "cell_type": "code",
   "execution_count": null,
   "metadata": {},
   "outputs": [],
   "source": [
    "#101.\n",
    "def f101(root):\n",
    "    if not root:\n",
    "        return True\n",
    "    def dfs(L, R):\n",
    "        if L and R:\n",
    "            return L.val == R.val and dfs(L.left, R.right) and dfs(L.right, R.left)\n",
    "        return L == R #(False or True when not L and not R)\n",
    "    return dfs(root.left, root.right)"
   ]
  },
  {
   "cell_type": "code",
   "execution_count": null,
   "metadata": {},
   "outputs": [],
   "source": [
    "#100.\n",
    "def f100(r1, r2):\n",
    "    if r1 and r2:\n",
    "        return r1.val == r2.val and f100(r1.left, r2.left) and f100(r.right, r2.right)\n",
    "\n",
    "def f100_2(r1, r2):\n",
    "    q = collections.deque([r1, r2])\n",
    "    while q:\n",
    "        nd1, nd2 = q.popleft()\n",
    "        if (not nd1 and nd2) or (nd1 and not nd2):\n",
    "            return False\n",
    "        elif nd1 and nd2:\n",
    "            if nd1.val != nd2.val:\n",
    "                return False\n",
    "            else:\n",
    "                q.append(nd1.left)\n",
    "                q.append(nd2.left)\n",
    "                q.append(nd1.right)\n",
    "                q.append(nd2.right)\n",
    "    return True"
   ]
  },
  {
   "cell_type": "code",
   "execution_count": null,
   "metadata": {},
   "outputs": [],
   "source": [
    "#tree 07/07/2020"
   ]
  },
  {
   "cell_type": "code",
   "execution_count": null,
   "metadata": {},
   "outputs": [],
   "source": []
  },
  {
   "cell_type": "code",
   "execution_count": null,
   "metadata": {},
   "outputs": [],
   "source": []
  },
  {
   "cell_type": "code",
   "execution_count": null,
   "metadata": {},
   "outputs": [],
   "source": []
  },
  {
   "cell_type": "code",
   "execution_count": null,
   "metadata": {},
   "outputs": [],
   "source": []
  },
  {
   "cell_type": "code",
   "execution_count": null,
   "metadata": {},
   "outputs": [],
   "source": []
  },
  {
   "cell_type": "code",
   "execution_count": null,
   "metadata": {},
   "outputs": [],
   "source": []
  },
  {
   "cell_type": "code",
   "execution_count": null,
   "metadata": {},
   "outputs": [],
   "source": []
  },
  {
   "cell_type": "code",
   "execution_count": null,
   "metadata": {},
   "outputs": [],
   "source": []
  },
  {
   "cell_type": "code",
   "execution_count": null,
   "metadata": {},
   "outputs": [],
   "source": []
  },
  {
   "cell_type": "code",
   "execution_count": null,
   "metadata": {},
   "outputs": [],
   "source": []
  },
  {
   "cell_type": "code",
   "execution_count": null,
   "metadata": {},
   "outputs": [],
   "source": []
  },
  {
   "cell_type": "code",
   "execution_count": null,
   "metadata": {},
   "outputs": [],
   "source": []
  },
  {
   "cell_type": "code",
   "execution_count": null,
   "metadata": {},
   "outputs": [],
   "source": [
    "#integer"
   ]
  },
  {
   "cell_type": "code",
   "execution_count": null,
   "metadata": {},
   "outputs": [],
   "source": [
    "#integer 07/03/2020"
   ]
  },
  {
   "cell_type": "code",
   "execution_count": null,
   "metadata": {},
   "outputs": [],
   "source": [
    "#1137.\n",
    "a, b, c = 1, 1, 0\n",
    "for _ in range(N):\n",
    "    a, b, c = b, c, a+b+c"
   ]
  },
  {
   "cell_type": "code",
   "execution_count": null,
   "metadata": {},
   "outputs": [],
   "source": [
    "#1134.\n",
    "def f1134(N):\n",
    "    res, k = 0, len(str(N))\n",
    "    while N:\n",
    "        N, carry = divmod(N,10)\n",
    "        res += carry ** n\n",
    "    return res == N\n"
   ]
  },
  {
   "cell_type": "code",
   "execution_count": 36,
   "metadata": {},
   "outputs": [
    {
     "name": "stdout",
     "output_type": "stream",
     "text": [
      "-1\n"
     ]
    }
   ],
   "source": [
    "#1133.\n",
    "import collections\n",
    "nums =[5,7,3,9,4,9,8,3,1,8,7,5,4,1]\n",
    "d = [k for k, v in collections.Counter(nums).items() if v==1]\n",
    "print(max(d) if len(d)>0 else -1)\n"
   ]
  },
  {
   "cell_type": "code",
   "execution_count": null,
   "metadata": {},
   "outputs": [],
   "source": [
    "#1118.\n",
    "def f1118(Y,M):\n",
    "    if M==2:\n",
    "        return 29 if Y%4==0 else 28\n",
    "    elif (M<8 and M%2) or (M>=8 and not M%2):\n",
    "        return 31\n",
    "    else:\n",
    "        return 30"
   ]
  },
  {
   "cell_type": "code",
   "execution_count": null,
   "metadata": {},
   "outputs": [],
   "source": [
    "#1099.\n",
    "def f1099(A,K):\n",
    "    A=sorted(A)\n",
    "    l, r, res = 0, len(A)-1, 0\n",
    "    while l<r:\n",
    "        if A[l]+A[r]<K:\n",
    "            res = max(res,A[l]+A[r])\n",
    "            l ++ 1\n",
    "        else:\n",
    "            r -= 1\n",
    "    return res if res > 0 else -1"
   ]
  },
  {
   "cell_type": "code",
   "execution_count": null,
   "metadata": {},
   "outputs": [],
   "source": [
    "#1085.\n",
    "def f1085(A):\n",
    "    res, N = 0, min(A)\n",
    "    while N:\n",
    "        N, carry = divmod(N,10)\n",
    "        res += carry\n",
    "    return 0 if res%2 else 1"
   ]
  },
  {
   "cell_type": "code",
   "execution_count": null,
   "metadata": {},
   "outputs": [],
   "source": [
    "#1056.\n",
    "dic = {'0':'0','1':'1','6':'9','8':'8','9':'6'}\n",
    "t = ''.join(dic[k] for k in str(N) if k in dic)\n",
    "print(str(N)!=t[::-1])"
   ]
  },
  {
   "cell_type": "code",
   "execution_count": null,
   "metadata": {},
   "outputs": [],
   "source": [
    "#1009.\n",
    "def f1009(N):\n",
    "    x = 1\n",
    "    while N > x:\n",
    "        x = x*2+1\n",
    "    return x ^ N  #OR x - N"
   ]
  },
  {
   "cell_type": "code",
   "execution_count": null,
   "metadata": {},
   "outputs": [],
   "source": [
    "#985.\n",
    "def 985(A, Q):\n",
    "    res = []\n",
    "    for q in Q:\n",
    "        A[q[1]] += q[0]\n",
    "        res.append(sum(x for x in A if not x%2))\n",
    "    return res"
   ]
  },
  {
   "cell_type": "code",
   "execution_count": 55,
   "metadata": {},
   "outputs": [
    {
     "name": "stdout",
     "output_type": "stream",
     "text": [
      "['', '0', '']\n",
      "2\n",
      "0b10110\n",
      "[2, 4, 5]\n",
      "2\n"
     ]
    }
   ],
   "source": [
    "#868\n",
    "N=22\n",
    "#N=8\n",
    "print(str(bin(N)[2:].split('1')[:-1]))\n",
    "print( max([len(s)+1 for s in str(bin(N)[2:].split('1')[:-1])]))\n",
    "ind = [i for i, v in enumerate(bin(N)) if v=='1']\n",
    "print(bin(N))\n",
    "print(ind)\n",
    "print (max([ b-a for a, b in zip(ind, ind[1:])]) or [0])"
   ]
  },
  {
   "cell_type": "code",
   "execution_count": null,
   "metadata": {},
   "outputs": [],
   "source": [
    "#860.\n",
    "def f860(bills):\n",
    "    five, ten = 0, 0\n",
    "    for i in bills:\n",
    "        if i == 5:\n",
    "            five += 1\n",
    "        elif i == 10 and five:\n",
    "            five, ten = give - 1, ten + 1\n",
    "        elif i == 20 and five and ten:\n",
    "            five, ten = five - 1, ten - 1\n",
    "        elif i == 20 and five >= 3:\n",
    "            give -= 3\n",
    "        else:\n",
    "            return False\n",
    "    return True\n"
   ]
  },
  {
   "cell_type": "code",
   "execution_count": null,
   "metadata": {},
   "outputs": [],
   "source": [
    "#integer 07/04/2020"
   ]
  },
  {
   "cell_type": "code",
   "execution_count": null,
   "metadata": {},
   "outputs": [],
   "source": [
    "#800.?\n",
    "def f800(color):\n",
    "    res=\"#\"\n",
    "    for i in range(1,len(color),2):\n",
    "        q, r = divmod(int(color[i:i+2], 16), 17)\n",
    "        if r > 8:\n",
    "            q += 1\n",
    "        res += \"{:02x}\".format(17*q)\n",
    "    return res"
   ]
  },
  {
   "cell_type": "code",
   "execution_count": null,
   "metadata": {},
   "outputs": [],
   "source": [
    "#788.\n",
    "print( len([n for n in range(1,N+1) if not set(str(n)) & {\"3\",\"4\",\"7\"} and set(str(n)) & {\"2\",\"5\",\"6\",\"9\"}]))    "
   ]
  },
  {
   "cell_type": "code",
   "execution_count": null,
   "metadata": {},
   "outputs": [],
   "source": [
    "#762.\n",
    "print( sum(bin(i).count('1') in (2,3,5,7,11,13,17,19,23,29,31) for i in range(L,R+1) ))\n",
    "\n",
    "def f762(L, R):\n",
    "    def is_prime(n):\n",
    "        if n == 2: return True\n",
    "        return all(n%i for i in range(3,int(n**0.5)+1)) and n > 2\n",
    "    m =map(is_prime, [bin(i).count('1') for i in range(L, R+1)])\n",
    "    return sum(m)"
   ]
  },
  {
   "cell_type": "code",
   "execution_count": 67,
   "metadata": {},
   "outputs": [
    {
     "name": "stdout",
     "output_type": "stream",
     "text": [
      "4278190087\n",
      "9 32 ['255.0.0.7/32']\n",
      "1 29 ['255.0.0.7/32', '255.0.0.8/29']\n",
      "0 32 ['255.0.0.7/32', '255.0.0.8/29', '255.0.0.16/32']\n",
      "['255.0.0.7/32', '255.0.0.8/29', '255.0.0.16/32']\n"
     ]
    }
   ],
   "source": [
    "#751.?\n",
    "def IptoInt(ip):\n",
    "    res = 0\n",
    "    for x in ip.split(\".\"):\n",
    "        res = 256 * res + int(x)\n",
    "    return res\n",
    "def IntToIp(x):\n",
    "    return \".\".join(str((x>>i)%256) for i in (24,16,8,0))\n",
    "\n",
    "def f751(ip, n):\n",
    "    start = IptoInt(ip)\n",
    "    print(start)\n",
    "    res = []\n",
    "    while n:\n",
    "        mask = max(33-(start & -start).bit_length(), 33-n.bit_length())\n",
    "        res.append(IntToIp(start) + \"/\" + str(mask))\n",
    "        start += 1 << (32-mask)\n",
    "        n -= 1 << (32-mask)\n",
    "        print(n, mask, res)\n",
    "    return res\n",
    "        \n",
    "ip=\"255.0.0.7\"\n",
    "n=10\n",
    "print(f751(ip,n))"
   ]
  },
  {
   "cell_type": "code",
   "execution_count": null,
   "metadata": {},
   "outputs": [],
   "source": [
    "#728.\n",
    "dd = lambda n: '0' not in str(n) and all(n%int(d)==0 for d in str(n))\n",
    "print(filter(dd, range(L, R+1)))\n",
    "\n",
    "def f728(L, R):\n",
    "    def helper(N):\n",
    "        n = N\n",
    "        while n:\n",
    "            n, i = divmod(n, 10)\n",
    "            if i == 0 or N % i !=0:\n",
    "                return False\n",
    "        return True\n",
    "    return filter(helper, range(L, R+1))\n"
   ]
  },
  {
   "cell_type": "code",
   "execution_count": null,
   "metadata": {},
   "outputs": [],
   "source": [
    "#696.\n",
    "def f696(s):\n",
    "    s = map(len, s.replace('01','0 1').replace('10','1 0').split())\n",
    "    s = list(s)\n",
    "    return sum(min(a,b) for a, b in zip(s, s[1:]))\n",
    "\n",
    "def f696_2(s):\n",
    "    pre, cur, res = 0, 1, 0\n",
    "    for i in rnage(1, len(s)):\n",
    "        if s[i] == s[i-1]:\n",
    "            cur += 1\n",
    "        else:\n",
    "            res += min(pre, cur)\n",
    "            cur, pre = 1, cur\n",
    "    return res + min(pre,cur)\n"
   ]
  },
  {
   "cell_type": "code",
   "execution_count": null,
   "metadata": {},
   "outputs": [],
   "source": [
    "#693.\n",
    "print( all(d not in bin(n) for d in (\"11\", \"00\")))\n",
    "\n",
    "print ( not any(a==b for a, b in zip(bin(n)[2:], bin(n)[3:])))\n",
    "\n"
   ]
  },
  {
   "cell_type": "code",
   "execution_count": null,
   "metadata": {},
   "outputs": [],
   "source": [
    "#509. \n",
    "def f509(n):\n",
    "    a, b = 0, 1\n",
    "    for _ in range(n):\n",
    "        a, b = b, a+b\n",
    "    return a\n",
    "\n",
    "def f509(n):\n",
    "    return f509(n-1) + f509(n-2) if n > 1 else n"
   ]
  },
  {
   "cell_type": "code",
   "execution_count": null,
   "metadata": {},
   "outputs": [],
   "source": [
    "#496.\n",
    "def f496(N1, N2):\n",
    "    def helper(n1):\n",
    "        for n2 in N2[N2.index(n1):]:\n",
    "            if n2 > n1:\n",
    "                return n2\n",
    "        return -1\n",
    "    return map(helper, N1)"
   ]
  },
  {
   "cell_type": "code",
   "execution_count": null,
   "metadata": {},
   "outputs": [],
   "source": [
    "#492.\n",
    "def f492(area):\n",
    "    mid = int(math.sqrt(area))\n",
    "    while mid:\n",
    "        if area % mid == 0:\n",
    "            return [int(area/mid), mid] #[area//mid, mid]\n",
    "        mid -= 1"
   ]
  },
  {
   "cell_type": "code",
   "execution_count": null,
   "metadata": {},
   "outputs": [],
   "source": [
    "#476.\n",
    "def f476(N):\n",
    "    x = 1\n",
    "    while x < N:\n",
    "        x = (x << 1) + 1\n",
    "    return x ^ N"
   ]
  },
  {
   "cell_type": "code",
   "execution_count": null,
   "metadata": {},
   "outputs": [],
   "source": [
    "#integer 07/06/2020"
   ]
  },
  {
   "cell_type": "code",
   "execution_count": null,
   "metadata": {},
   "outputs": [],
   "source": [
    "#461.\n",
    "print(bin(x^y).count('1'))\n",
    "\n",
    "def f461(x, y):\n",
    "    x = x^y\n",
    "    y = 0\n",
    "    while x:\n",
    "        y += 1\n",
    "        x = x & (x-1) #mask the non-zero bit\n",
    "    return y"
   ]
  },
  {
   "cell_type": "code",
   "execution_count": null,
   "metadata": {},
   "outputs": [],
   "source": [
    "#414. \n",
    "def f414(nums):\n",
    "    m1 = m2 = m3 = -float('inf')\n",
    "    for n in nums:\n",
    "        if n == m1 or n == m2 or n == m3:\n",
    "            continue\n",
    "        if n > m1: m1, m2, m3 = n, m1, m2\n",
    "        elif n > m2: m2, m3 = n, m2\n",
    "        elif n > m3: m3 = n\n",
    "    if m2 == -float('inf')\n",
    "        return m1\n",
    "    return m3"
   ]
  },
  {
   "cell_type": "code",
   "execution_count": null,
   "metadata": {},
   "outputs": [],
   "source": [
    "#412.\n",
    "print(['Fizz'*(not i%3) + 'Buzz'*(not i%5) or str(i) for i in range(1, n+1)])"
   ]
  },
  {
   "cell_type": "code",
   "execution_count": null,
   "metadata": {},
   "outputs": [],
   "source": [
    "#371. \n",
    "def f371(x, y):\n",
    "    while y:\n",
    "        carry = x & y\n",
    "        x = x ^ y\n",
    "        y = carry << 1\n",
    "    return x"
   ]
  },
  {
   "cell_type": "code",
   "execution_count": null,
   "metadata": {},
   "outputs": [],
   "source": [
    "#339.\n",
    "def f339(nestedlist):\n",
    "    depth, res = 1, 0\n",
    "    while nestedlist:\n",
    "        res += depth*sum([i.getInteger() for i in nestedlist if i.isInteger()])\n",
    "        newlist = []\n",
    "        for i in nestedlist:\n",
    "            if not i.isInteger():\n",
    "                newlist += i.getList()\n",
    "        nestedlist = newlist\n",
    "        depth += 1\n",
    "    return res\n",
    "\n",
    "def f339_2(nestedlist):\n",
    "    depth, res, nl = 1, 0, []\n",
    "    while nestedlist:\n",
    "        for i in nestedlist:\n",
    "            if i.isInteger():\n",
    "                res += i*depth\n",
    "            else:\n",
    "                nl += i.getList()\n",
    "        nestedlist = nl\n",
    "        depth += 1\n",
    "    return res\n",
    "                "
   ]
  },
  {
   "cell_type": "code",
   "execution_count": null,
   "metadata": {},
   "outputs": [],
   "source": [
    "#268.\n",
    "print( len(N)*(len(N)+1)/2 - sum(N))\n",
    "\n",
    "#OR\n",
    "print([n for n in range(1,len(N)+1) if n not in N])\n",
    "\n",
    "#OR\n",
    "print( set(list(range(1, len(N)+1))) - set(N))\n",
    "\n",
    "#OR\n",
    "print( reduce(lambda x, y: x^y, N + list(range(1, len(N)+1))) )\n"
   ]
  },
  {
   "cell_type": "code",
   "execution_count": null,
   "metadata": {},
   "outputs": [],
   "source": [
    "#263.\n",
    "def f263(n):\n",
    "    if n == 0: return False\n",
    "    while not n%2:\n",
    "        n = n//2\n",
    "    while not n%3:\n",
    "        n = n//3\n",
    "    while not n%5:\n",
    "        n = n//5\n",
    "    return n == 1"
   ]
  },
  {
   "cell_type": "code",
   "execution_count": null,
   "metadata": {},
   "outputs": [],
   "source": [
    "#258.\n",
    "def f258(n):\n",
    "    if 0<=n<=9:\n",
    "        return n\n",
    "    tmp = 0\n",
    "    while n:\n",
    "        n, tmp = divmod(n, 10)\n",
    "    return f258(tmp)\n",
    "\n",
    "def f258_2(n):\n",
    "    if 0<=n<=9:\n",
    "        return n\n",
    "    res = n%9\n",
    "    return res if res!=0 else 9"
   ]
  },
  {
   "cell_type": "code",
   "execution_count": null,
   "metadata": {},
   "outputs": [],
   "source": [
    "#246.\n",
    "def f246(n):\n",
    "    ns = str(n)\n",
    "    dic, l, r = {'0':'0','1':'1','6':'9','8':'8','9':'6'}, 0, len(ns)-1\n",
    "    while l <= r:\n",
    "        if ns[l] not in dic or dic[ns[l]] != ns[r]:\n",
    "            return False\n",
    "        l += 1\n",
    "        r -= 1\n",
    "    return True"
   ]
  },
  {
   "cell_type": "code",
   "execution_count": null,
   "metadata": {},
   "outputs": [],
   "source": [
    "#231.\n",
    "print( n > 0 and not (n & n-1))\n",
    "\n",
    "def f231(n):\n",
    "    if n <=0: return False\n",
    "    while not n%2:\n",
    "        n = n//2\n",
    "    return n == 1"
   ]
  },
  {
   "cell_type": "code",
   "execution_count": null,
   "metadata": {},
   "outputs": [],
   "source": [
    "#204.\n",
    "def f204(N):\n",
    "    if N <=2: return 0\n",
    "    res = [2]\n",
    "    for n in range(3, N+1):\n",
    "        if all(n%i for i in range(2,int(n**0.5)+1)):\n",
    "            res.append(n)\n",
    "    return len(res)"
   ]
  },
  {
   "cell_type": "code",
   "execution_count": null,
   "metadata": {},
   "outputs": [],
   "source": [
    "#202.\n",
    "def f202(n):\n",
    "    dic = dict()\n",
    "    while n!=1 and n not in dic:\n",
    "        dic[n] = dic.get(n, 0) + 1\n",
    "        n = sum(int(c)**2 for c in str(n))\n",
    "    return n == 1"
   ]
  },
  {
   "cell_type": "code",
   "execution_count": null,
   "metadata": {},
   "outputs": [],
   "source": [
    "#191.\n",
    "def f191(n):\n",
    "    res = 0\n",
    "    for _ in range(32):\n",
    "        res += n%2\n",
    "        n = n//2\n",
    "    return res\n",
    "        "
   ]
  },
  {
   "cell_type": "code",
   "execution_count": null,
   "metadata": {},
   "outputs": [],
   "source": [
    "#190.\n",
    "def f190(n):\n",
    "    res = 0\n",
    "    for _ in range(32):\n",
    "        res = res*2 + n%2  # res = (res << 1) + (n & 1)\n",
    "        n = n//2  # n >>= 1\n",
    "    return res"
   ]
  },
  {
   "cell_type": "code",
   "execution_count": null,
   "metadata": {},
   "outputs": [],
   "source": [
    "#172. ?\n",
    "#trailing zeros in n! (n*(n-1)*...1)\n",
    "def f172(n):\n",
    "    k, res = 5, 0\n",
    "    while k <= n:\n",
    "        res += n//k\n",
    "        k = k*5\n",
    "    return res"
   ]
  },
  {
   "cell_type": "code",
   "execution_count": null,
   "metadata": {},
   "outputs": [],
   "source": [
    "#171.\n",
    "def f171(s):\n",
    "    res = 0\n",
    "    for c in s:\n",
    "        res = res*26 + ord(c) - ord('A') + 1\n",
    "    return res"
   ]
  },
  {
   "cell_type": "code",
   "execution_count": null,
   "metadata": {},
   "outputs": [],
   "source": [
    "#169.\n",
    "print( sorted(N)[len(N)/2] )\n",
    "\n",
    "#OR\n",
    "print( collections.Counter(N).most_common(1)[0][0])\n",
    "\n",
    "def f169(N):\n",
    "    count = 0\n",
    "    for n in N:\n",
    "        if count == 0:\n",
    "            candidate = n\n",
    "        count += 1 if n == candiate else -1\n",
    "    return candidate"
   ]
  },
  {
   "cell_type": "code",
   "execution_count": null,
   "metadata": {},
   "outputs": [],
   "source": [
    "#168.\n",
    "def f168(n):\n",
    "    dic = [chr(x) for x in range(ord('A'), ord('Z')+1)]\n",
    "    res = \"\"\n",
    "    while n:\n",
    "        n, carry = divmod(n-1, 26)\n",
    "        res = dic[carry] + res\n",
    "    return res"
   ]
  },
  {
   "cell_type": "code",
   "execution_count": null,
   "metadata": {},
   "outputs": [],
   "source": [
    "#136.\n",
    "print ( 2* sum(set(N)) - sum(N))\n",
    "\n",
    "def f136(N):\n",
    "    res = 0\n",
    "    for n in N:\n",
    "        res ^= n\n",
    "    return res\n",
    "\n",
    "#print(reduce(lambida x, y: x^y, N))\n"
   ]
  },
  {
   "cell_type": "code",
   "execution_count": null,
   "metadata": {},
   "outputs": [],
   "source": [
    "#119.\n",
    "def f119(k):\n",
    "    res = [[1 for _ in range(i+1)] for i in range(k+1)]\n",
    "    for i in range(2, k+1):\n",
    "        for j in range(1, i):\n",
    "            res[i][j] = res[i-1][j-1] + res[i-1][j]\n",
    "    return res[-1]"
   ]
  },
  {
   "cell_type": "code",
   "execution_count": null,
   "metadata": {},
   "outputs": [],
   "source": [
    "#118.\n",
    "def f118(n):\n",
    "    res = [[1 for _ in range(i+1)] for i in range(n)]\n",
    "    for i in range(2, n):\n",
    "        for j in range(1, i):\n",
    "            res[i][j] = res[i-1][j-1] + res[i-1][j]\n",
    "    return res"
   ]
  },
  {
   "cell_type": "code",
   "execution_count": null,
   "metadata": {},
   "outputs": [],
   "source": [
    "#integer 07/07/2020"
   ]
  },
  {
   "cell_type": "code",
   "execution_count": null,
   "metadata": {},
   "outputs": [],
   "source": [
    "#69.\n",
    "def f69(x):\n",
    "    l, r = 0, x\n",
    "    while l <= r:\n",
    "        mid = (l+r)//2\n",
    "        if mid * mid <= x <= (mid+1) * (mid+1):\n",
    "            return mid\n",
    "        elif mid * mid < x:\n",
    "            l = mid + 1\n",
    "        else:\n",
    "            r = mid"
   ]
  },
  {
   "cell_type": "code",
   "execution_count": null,
   "metadata": {},
   "outputs": [],
   "source": [
    "#67.\n",
    "def f67(a, b):\n",
    "    i, j, total, res = len(a)-1, len(b)-1, 0, \"\"\n",
    "    while i>=0 or j>=0 or total:\n",
    "        if i>=0:\n",
    "            total += int(a[i])\n",
    "            i -= 1\n",
    "        if j>=0:\n",
    "            total += int(b[i])\n",
    "            j -= 1\n",
    "        total, d = divmod(total, 2)\n",
    "        res = str(d) + res\n"
   ]
  },
  {
   "cell_type": "code",
   "execution_count": null,
   "metadata": {},
   "outputs": [],
   "source": [
    "#66.\n",
    "def f66(N):\n",
    "    carry = 1\n",
    "    for i in range(len(N)-1, -1, -1):\n",
    "        carry, N[i] = divmod(N[i]+carry, 10)\n",
    "        if carry == 0:\n",
    "            return N\n",
    "    return [1] + N"
   ]
  },
  {
   "cell_type": "code",
   "execution_count": 29,
   "metadata": {},
   "outputs": [
    {
     "name": "stdout",
     "output_type": "stream",
     "text": [
      "111221\n"
     ]
    }
   ],
   "source": [
    "#35\n",
    "def f35(N):\n",
    "    res = \"1\"\n",
    "    for _ in range(N-1):\n",
    "        c, tmp, count = res[0], '', 0\n",
    "        for s in res:\n",
    "            if s == c:\n",
    "                count += 1\n",
    "            else:\n",
    "                tmp += str(count) + c\n",
    "                c = s\n",
    "                count = 1\n",
    "        res = tmp + str(count) + c\n",
    "    return res\n",
    "N=5\n",
    "print(f35(N))"
   ]
  },
  {
   "cell_type": "code",
   "execution_count": null,
   "metadata": {},
   "outputs": [],
   "source": [
    "#29.\n",
    "def f29(a, b):\n",
    "    maxd, mind = sys.maxsize, 0-sys.maxsize-1\n",
    "    if(a>maxd or a<mind or b>maxd or b<mind or b==0):\n",
    "        return None\n",
    "    cnt, a1, b1 = 0, abs(a), abs(b)\n",
    "    while a1 > b1:\n",
    "        x, i = b1, 1\n",
    "        while a1 > x + x:\n",
    "            x += x\n",
    "            i += i\n",
    "        a1 = a1 - x\n",
    "        cnt += i\n",
    "        \n",
    "    if (a<0 and b>0) or (a>0 and b<0):\n",
    "        cnt = 0 - cnt\n",
    "    return cnt"
   ]
  },
  {
   "cell_type": "code",
   "execution_count": 33,
   "metadata": {},
   "outputs": [
    {
     "name": "stdout",
     "output_type": "stream",
     "text": [
      "9223372036854775807 2147483647\n"
     ]
    }
   ],
   "source": [
    "import sys\n",
    "print(sys.maxsize, 2**31-1)"
   ]
  },
  {
   "cell_type": "code",
   "execution_count": null,
   "metadata": {},
   "outputs": [],
   "source": [
    "#18.\n",
    "def f18(n, target):\n",
    "    twosum = collections.defaultdict(list)\n",
    "    res = set()\n",
    "    for (i1, v1), (i2, v2) in intertools.combinations(enumerate(n), 2):\n",
    "        twosume[v1+v2].append({i1, i2})\n",
    "    for t in list(twosum.keys()):\n",
    "        if not twosume[target - t]:\n",
    "            continue\n",
    "        for p1 in twosum[t]:\n",
    "            for p2 in twosum[target - t]:\n",
    "                if p1.isdisjoint(p2):\n",
    "                    res.add(tuple(sorted(n[i] for i in p2 | p2)))\n",
    "        del twosum[t]\n",
    "    return [list(r) for r in res]"
   ]
  },
  {
   "cell_type": "code",
   "execution_count": 1,
   "metadata": {},
   "outputs": [
    {
     "name": "stdout",
     "output_type": "stream",
     "text": [
      "23\n",
      "['ad', 'bd', 'cd', 'ae', 'be', 'ce', 'af', 'bf', 'cf']\n"
     ]
    }
   ],
   "source": [
    "#17.\n",
    "def f17(strs):\n",
    "    phone = {\"1\":\"\", \"2\":\"abc\", \"3\":\"def\", \"4\":\"ghi\", \"5\":\"jkl\", \"6\":\"mno\", \"7\":\"pqrs\",\"8\":\"tuv\",\"9\":\"wxyz\",\"0\":\"\"}\n",
    "    if strs:\n",
    "        strs = strs.replace(\"1\",\"\").replace(\"0\",\"\")\n",
    "    print(strs)\n",
    "    res = [\"\"]\n",
    "    for s in strs:\n",
    "        res2, clist = [], phone[s]\n",
    "        for c in clist:\n",
    "            for r in res:\n",
    "                res2.append(r+c)\n",
    "        res = res2\n",
    "    return res\n",
    "strs = \"0213\"\n",
    "print(f17(strs))"
   ]
  },
  {
   "cell_type": "code",
   "execution_count": null,
   "metadata": {},
   "outputs": [],
   "source": [
    "#16.\n",
    "def f16(n, target):\n",
    "    n.sort()\n",
    "    res = sum(n[:3])\n",
    "    for i in range(len(n)):\n",
    "        l, r = i+1, len(n)-1\n",
    "        while l < r:\n",
    "            s = sum(n[i], n[l], n[r])\n",
    "            if abs(s-target) < abs(res-target):\n",
    "                res = s\n",
    "            if s < target:\n",
    "                l += 1\n",
    "            elif s > target:\n",
    "                r -= 1\n",
    "            else:\n",
    "                return res\n",
    "    return res"
   ]
  },
  {
   "cell_type": "code",
   "execution_count": null,
   "metadata": {},
   "outputs": [],
   "source": [
    "#15. \n",
    "def f15(n):\n",
    "    res = []\n",
    "    if len(n) < 3: return res #[]\n",
    "    if n == [0]*len(n):\n",
    "        return [(0,0,0)]\n",
    "    n.sort()\n",
    "    if n[-1] <= 0:\n",
    "        return res #[]\n",
    "    while n[0] <= 0:\n",
    "        twosum = TwoSum(n[1:], -n[0])\n",
    "        for t in twosum:\n",
    "            t.append(n[0])\n",
    "            res.append(t)\n",
    "        n = n[1:]\n",
    "    return list(set([tuple(i) for i in res]))\n"
   ]
  },
  {
   "cell_type": "code",
   "execution_count": null,
   "metadata": {},
   "outputs": [],
   "source": [
    "#1.\n",
    "def f1(n, target):    #def TwoSum(n, target)\n",
    "    dic, res = dict(), []\n",
    "    for i in range(len(n)):\n",
    "        m = target - n[i]\n",
    "        if m in dic:\n",
    "            res.append(dic[m]) #append the index of the (target - n)\n",
    "        else:\n",
    "            dic[n[i]] = i\n",
    "    return res\n"
   ]
  },
  {
   "cell_type": "code",
   "execution_count": null,
   "metadata": {},
   "outputs": [],
   "source": []
  },
  {
   "cell_type": "code",
   "execution_count": null,
   "metadata": {},
   "outputs": [],
   "source": []
  },
  {
   "cell_type": "code",
   "execution_count": null,
   "metadata": {},
   "outputs": [],
   "source": []
  },
  {
   "cell_type": "code",
   "execution_count": null,
   "metadata": {},
   "outputs": [],
   "source": [
    "#array"
   ]
  },
  {
   "cell_type": "code",
   "execution_count": null,
   "metadata": {},
   "outputs": [],
   "source": [
    "#array 07/03/2020"
   ]
  },
  {
   "cell_type": "code",
   "execution_count": null,
   "metadata": {},
   "outputs": [],
   "source": [
    "#1164.\n",
    "def f1164(A):\n",
    "    l, r = 0, len(A)-1\n",
    "    while l < r:\n",
    "        mid = (l + r) // 2\n",
    "        if A[mid] >= mid:\n",
    "            r = mid\n",
    "        else:\n",
    "            l = mid + 1\n",
    "    if A[l] == l:\n",
    "        return l\n",
    "    return -1"
   ]
  },
  {
   "cell_type": "code",
   "execution_count": null,
   "metadata": {},
   "outputs": [],
   "source": [
    "#1122.\n",
    "print (sorted(A1, key=lambda x: A2.index(x) if x in A2 else len(A2) + x))\n"
   ]
  },
  {
   "cell_type": "code",
   "execution_count": null,
   "metadata": {},
   "outputs": [],
   "source": [
    "#1103.\n",
    "def f1103(candies, n):\n",
    "    res, i = [0]*n, 0\n",
    "    while candies > 0:\n",
    "        res[i%n] += min(candies, i+1)\n",
    "        candies -= i+1\n",
    "        i += 1\n",
    "    return res\n",
    "    "
   ]
  },
  {
   "cell_type": "code",
   "execution_count": null,
   "metadata": {},
   "outputs": [],
   "source": [
    "#1109.\n",
    "def f1109(nums):\n",
    "    i = 0\n",
    "    while i < len(nums):\n",
    "        if nums[i] == 0:\n",
    "            nums.insert(i, 0)\n",
    "            nums.pop()\n",
    "            i += 1\n",
    "        i += 1\n",
    "    return nums"
   ]
  },
  {
   "cell_type": "code",
   "execution_count": null,
   "metadata": {},
   "outputs": [],
   "source": [
    "#1086.\n",
    "def f1086(nums):\n",
    "    sid = list(set([x[0] for x in nums]))\n",
    "    sval = [[x[1] for x in nums if x[0]==s] for s in sid]\n",
    "    sval2 = [sorted(v, reverse=True)[:5] for v in sval]\n",
    "    sval3 = [ int(sum(v)/len(v) for v in savl2)]\n",
    "    return [[sid[i], sval3[i]] for i in range(len(sid))]\n",
    "    #return list(zip(sid, sval3))"
   ]
  },
  {
   "cell_type": "code",
   "execution_count": null,
   "metadata": {},
   "outputs": [],
   "source": [
    "#1051.\n",
    "print( sum(h1 != h2 for h1, h2 in zip(heights, sorted(heights))))\n"
   ]
  },
  {
   "cell_type": "code",
   "execution_count": null,
   "metadata": {},
   "outputs": [],
   "source": [
    "#1046.\n",
    "def f1046(stones):\n",
    "    stones = sorted(stones)\n",
    "    for _ in range(len(stones)-1):\n",
    "        x, y = stones.pop(), stones.pop()\n",
    "        if abs(x-y):\n",
    "            bisect.insort(stones, abs(x-y))\n",
    "    return stones.pop()"
   ]
  },
  {
   "cell_type": "code",
   "execution_count": null,
   "metadata": {},
   "outputs": [],
   "source": [
    "#1042.\n",
    "import collections\n",
    "def f1042(N, paths):\n",
    "    dic = colletions.defaultdict(list)\n",
    "    res = [0]*(N+1)\n",
    "    paths1 = [sorted(p) for p in paths]\n",
    "    for p in path1:\n",
    "        dic[p[0]].append(p[1])\n",
    "        dic[p[1]].append(p[0])\n",
    "    for i in range(1, N+1):\n",
    "        res[i] = ({1,2,3,4} - {res[j] for j in dic[i]}).pop()\n",
    "    return res[1:]"
   ]
  },
  {
   "cell_type": "code",
   "execution_count": 58,
   "metadata": {},
   "outputs": [
    {
     "name": "stdout",
     "output_type": "stream",
     "text": [
      "{1, 2, 3, 4}\n"
     ]
    }
   ],
   "source": [
    "print(set(range(1,4+1)))"
   ]
  },
  {
   "cell_type": "code",
   "execution_count": null,
   "metadata": {},
   "outputs": [],
   "source": [
    "#1030.\n",
    "print( sorted([(i,j) for i in range(R) for j in range(C)], \n",
    "              key = lambda x: abs(x[0]-r0)+abs(x[1]-c0)) )"
   ]
  },
  {
   "cell_type": "code",
   "execution_count": null,
   "metadata": {},
   "outputs": [],
   "source": [
    "#1029.\n",
    "def f1029(costs):\n",
    "    costs = sorted(costs, key = lambda x: x[0]-x[1])\n",
    "    n = len(costs) // 2\n",
    "    return sum(i[0] for i in cost[:n]) + sum(j[1] for j in cost[n:])\n"
   ]
  },
  {
   "cell_type": "code",
   "execution_count": null,
   "metadata": {},
   "outputs": [],
   "source": [
    "07/05/2020"
   ]
  },
  {
   "cell_type": "code",
   "execution_count": null,
   "metadata": {},
   "outputs": [],
   "source": [
    "#1025.\n",
    "#if N is even, can win, if N is odd then lose.\n",
    "def f1025(N):\n",
    "    dp = [False]*(N+1)\n",
    "    for i in range(2, N+1):\n",
    "        dp[i] = not all(dp[i-j] for j in range(1, int(i**0.5)+1) if not i%j)\n",
    "    return dp[N]"
   ]
  },
  {
   "cell_type": "code",
   "execution_count": null,
   "metadata": {},
   "outputs": [],
   "source": [
    "#1013.\n",
    "def f1013(A):\n",
    "    if not sum(A)%3:\n",
    "        return False\n",
    "    total, count = 0, 0\n",
    "    while A:\n",
    "        res = []\n",
    "        for a in A:\n",
    "            total += a\n",
    "            if total == sum(A)//3:\n",
    "                total, count = 0, count + 1\n",
    "            elif total > sum(A)//3:\n",
    "                res.append(a)\n",
    "                total -= a\n",
    "            else:\n",
    "                continue\n",
    "        A = res\n",
    "    return count == 3"
   ]
  },
  {
   "cell_type": "code",
   "execution_count": null,
   "metadata": {},
   "outputs": [],
   "source": [
    "#1005.\n",
    "def f1005(A, K):\n",
    "    A = sorted(A)\n",
    "    i = 0\n",
    "    #flip negative elements first\n",
    "    while i < len(A) and i < K and A[i] < 0:\n",
    "        A[i] = -A[i]\n",
    "        i += 1\n",
    "    #if K is still more than i, switch the min(A) back and force until let i == K\n",
    "    return sum(A) - (K-i)%2*min(A)*2  #if min(A)<0, then sum(A)-2*min(A)"
   ]
  },
  {
   "cell_type": "code",
   "execution_count": null,
   "metadata": {},
   "outputs": [],
   "source": [
    "#999.\n",
    "def f999(board):\n",
    "    for i in range(8):\n",
    "        for j in range(8):\n",
    "            if board[i][j] == 'R':\n",
    "                x0, y0 = i, j\n",
    "                i, j = 8, 8 #break the loop\n",
    "    res = 0\n",
    "    for i, j in [[1,0],[0,1],[-1,0],[0,-1]]\n",
    "        x, y = x0 + i, y0 + j\n",
    "        while 0 <= x < 8 and 0 <= y < 8:\n",
    "            if board[x][y] == 'p': res += 1\n",
    "            if board[x][y] != '.': break\n",
    "            x, y = x + i, y + j\n",
    "    return res"
   ]
  },
  {
   "cell_type": "code",
   "execution_count": null,
   "metadata": {},
   "outputs": [],
   "source": [
    "#997.\n",
    "def f997(N, trust):\n",
    "    dic, map = collections.defaultdict(list), set()\n",
    "    for i, j in trust:\n",
    "        if not dic[i]:\n",
    "            dic[i].append(j)\n",
    "            map.add(j)\n",
    "    retrun map - dic.keys() + 1"
   ]
  },
  {
   "cell_type": "code",
   "execution_count": null,
   "metadata": {},
   "outputs": [],
   "source": [
    "#977.\n",
    "print([n*n for n in sorted(nums, key=lambda x: abs(x))])"
   ]
  },
  {
   "cell_type": "code",
   "execution_count": null,
   "metadata": {},
   "outputs": [],
   "source": [
    "#976.\n",
    "def f976(A):\n",
    "    A = sorted(A)[::-1]\n",
    "    for i in range(len(A)-2):\n",
    "        if A[i] < A[i+1] + A[i+2]:\n",
    "            return sum(A[i:i+3])\n",
    "    return 0"
   ]
  },
  {
   "cell_type": "code",
   "execution_count": null,
   "metadata": {},
   "outputs": [],
   "source": [
    "#961.\n",
    "print( int( sum(nums) - sum(set(nums)) ) // (len(nums)//2 -1))"
   ]
  },
  {
   "cell_type": "code",
   "execution_count": null,
   "metadata": {},
   "outputs": [],
   "source": [
    "#944.\n",
    "print ( sum( any(a>b for a, b in zip(col, col[1:]) for col in zip(*A))))\n",
    "\n",
    "#OR\n",
    "print (sum( list(col) != sorted(col) for col in zip(*A)))"
   ]
  },
  {
   "cell_type": "code",
   "execution_count": null,
   "metadata": {},
   "outputs": [],
   "source": [
    "#942.\n",
    "def f942(s):\n",
    "    res, inc, dec = [], 0, len(s)\n",
    "    for c in s:\n",
    "        if c == 'I':\n",
    "            res += inc\n",
    "            inc += 1\n",
    "        else:\n",
    "            res += dec\n",
    "            dec -= 1\n",
    "    res += inc\n",
    "    return res\n",
    "\n",
    "res = [0]*len(s)\n",
    "i_indx = [i for i, v in enumerate(list(s)) if v == 'I']\n",
    "d_indx = [i for i, v in enumerate(list(s)) if v == 'D']\n",
    "x = 0\n",
    "for i in i_indx: res[i]= x + 1\n",
    "x = len(d_indx)\n",
    "for i in d_indx: res[i] = x - 1\n",
    "print(res)"
   ]
  },
  {
   "cell_type": "code",
   "execution_count": null,
   "metadata": {},
   "outputs": [],
   "source": [
    "#937.\n",
    "def f937(logs):\n",
    "    L_logs, D_logs = [], []\n",
    "    for log in logs:\n",
    "        if log.split()[1].isdigit():\n",
    "            D_logs.append(log)\n",
    "        else:\n",
    "            L_logs.append(log)\n",
    "    L_logs.sort(key=lambda x: x.split()[0]) #when tie, sort by identify\n",
    "    L_logs.sort(key=lambda x: x.split()[1:]) #sort by suffix\n",
    "    return L_logs + D_logs"
   ]
  },
  {
   "cell_type": "code",
   "execution_count": null,
   "metadata": {},
   "outputs": [],
   "source": [
    "#922.\n",
    "def f922(A):\n",
    "    even, odd = [a for a in A if not a%2], [a for a in A if a%2]\n",
    "    return [even.pop() if not i%2 else odd.pop() for i in range(len(A))]\n",
    "#in place\n",
    "def f922_2(A):\n",
    "    j = 1\n",
    "    for i in range(0, len(A), 2):\n",
    "        if not A[i]%2:\n",
    "            continue\n",
    "        while n[j]%2 == 1: #found the next odd position with even number\n",
    "            j += 2\n",
    "        A[i], A[j] = A[j], A[i] #to exchange\n",
    "    return A"
   ]
  },
  {
   "cell_type": "code",
   "execution_count": null,
   "metadata": {},
   "outputs": [],
   "source": [
    "#908.\n",
    "print(max(max(A)-min(A)-2*k, 0))\n",
    "\n",
    "def f908(A, K):\n",
    "    l, r = min(A)+K, max(A)-K\n",
    "    return 0 if l>=r else r-l"
   ]
  },
  {
   "cell_type": "code",
   "execution_count": null,
   "metadata": {},
   "outputs": [],
   "source": [
    "#896.\n",
    "print( all(a^b)>=0 for a, b in zip(A, A[1:]) )"
   ]
  },
  {
   "cell_type": "code",
   "execution_count": null,
   "metadata": {},
   "outputs": [],
   "source": [
    "#905.\n",
    "print ([n for n in A if not n%2] + [n for n in A if n%2])\n",
    "\n",
    "#OR\n",
    "print (sorted(A, key=lambda x: x%2))\n",
    "\n",
    "#in place\n",
    "def f905(A):\n",
    "    j = len(A)\n",
    "    for i in range(len(A)):\n",
    "        if not A[i]%2:\n",
    "            continue\n",
    "        while A[j]%2:\n",
    "            j -= 1\n",
    "        A[j], A[i] = A[i], A[j]\n",
    "    return A\n",
    "\n"
   ]
  },
  {
   "cell_type": "code",
   "execution_count": null,
   "metadata": {},
   "outputs": [],
   "source": [
    "#892.?\n",
    "def f892(grid):\n",
    "    n, res = len(grid), 0\n",
    "    for i in range(n):\n",
    "        for j in rnage(n):\n",
    "            if grid[i][j]:\n",
    "                res += 2 #top and bottom\n",
    "                for x, y in [[i-1,j],[i+1,j],[i,j-1],[i,j+1]]:\n",
    "                    if 0<=x<n and 0<=y<n:\n",
    "                        tmp = grid[x][y]\n",
    "                    else:\n",
    "                        tmp =0\n",
    "                    res += max(grid[x][y]-tmp, 0)  #?\n",
    "    return res"
   ]
  },
  {
   "cell_type": "code",
   "execution_count": null,
   "metadata": {},
   "outputs": [],
   "source": [
    "#888.\n",
    "#exchange candy\n",
    "def f888(A, B):\n",
    "    diff = (sum(A)-sum(B))//2\n",
    "    A = set(A)\n",
    "    for b in set(B):\n",
    "        if diff + b in A:\n",
    "            return [diff+b, b]"
   ]
  },
  {
   "cell_type": "code",
   "execution_count": null,
   "metadata": {},
   "outputs": [],
   "source": [
    "#867.\n",
    "print (list(zip(*A)))\n",
    "#OR\n",
    "print([[A[i][j] for i in range(len(A))] for j in range(len(A[0]))])\n"
   ]
  },
  {
   "cell_type": "code",
   "execution_count": null,
   "metadata": {},
   "outputs": [],
   "source": [
    "#852.\n",
    "def f852(A):\n",
    "    l, r = 0, len(A)-1\n",
    "    while l < r:\n",
    "        m = (l+r)//2\n",
    "        if A[m] < A[m+1]:\n",
    "            l = m + 1\n",
    "        else:\n",
    "            r = m\n",
    "    return l"
   ]
  },
  {
   "cell_type": "code",
   "execution_count": null,
   "metadata": {},
   "outputs": [],
   "source": [
    "#833.\n",
    "#projection of 3D\n",
    "def f833(grid):\n",
    "    hor = sum(map(max, grid))  #front = sum(max(row) for row in grid)\n",
    "    ver = sum(map(max, zip(*grid)))  #side = sum(max(row[col] for row in grid) for col in range(len(A[0])))\n",
    "    top = sum(v>0 for row in grid for v in row)\n",
    "    return hor + ver + top\n"
   ]
  },
  {
   "cell_type": "code",
   "execution_count": null,
   "metadata": {},
   "outputs": [],
   "source": [
    "#832.\n",
    "print([1^i for i in a[::-1] for a in A])"
   ]
  },
  {
   "cell_type": "code",
   "execution_count": null,
   "metadata": {},
   "outputs": [],
   "source": [
    "#821.\n",
    "ind = [ i for i, v in enumerate(s) if v == c]\n",
    "print([min(abs(y-x) for x in ind) for y in range(len(s))])\n",
    "\n",
    "def f821(s, c):\n",
    "    n = len(s)\n",
    "    res, pos = [n]*n, -n\n",
    "    for i in range(n)+range(n)[::-1]: #check both sides\n",
    "        if s[i] == c: \n",
    "            pos = i\n",
    "        res[i] = min(res[i], abs(i-pos))\n",
    "    return res"
   ]
  },
  {
   "cell_type": "code",
   "execution_count": null,
   "metadata": {},
   "outputs": [],
   "source": [
    "#array 07/06/2020"
   ]
  },
  {
   "cell_type": "code",
   "execution_count": null,
   "metadata": {},
   "outputs": [],
   "source": [
    "#812.\n",
    "print(max(0.5*abs(xa*yb+xb*yc+xc*ya-xb*ya-xc*yb-xa*yc)\n",
    "         for (xa, ya), (xb, yb), (xc, yc) in intertools.combination(points,3)))\n",
    "\n",
    "#OR\n",
    "\n",
    "print(max(0.5 * abs(i[0]*j[1] + j[0]*k[1] + k[0]*i[1] - j[0]*i[1] - k[0]*j[1] - i[0]*k[1]) \\\n",
    "            for i, j, k in itertools.combinations(p, 3)))"
   ]
  },
  {
   "cell_type": "code",
   "execution_count": null,
   "metadata": {},
   "outputs": [],
   "source": [
    "#771.\n",
    "print( sum (s in J for s in S))\n",
    "\n",
    "#OR\n",
    "print (sum (map(S.count, J)))\n",
    "\n",
    "#OR\n",
    "print (sum(map(J.count, S)))\n",
    "\n",
    "def f771(J,S):\n",
    "    ct = collections.Counter(S)\n",
    "    cnt = 0\n",
    "    for j in J:\n",
    "        cnt += ct[j]\n",
    "    return cnt"
   ]
  },
  {
   "cell_type": "code",
   "execution_count": null,
   "metadata": {},
   "outputs": [],
   "source": [
    "#766.\n",
    "def f766(m):\n",
    "    for i in range(len(m)-1):\n",
    "        for j in range(len(m[0]-1)):\n",
    "            if m[i][j] != m[i+1][j+1]:\n",
    "                return False\n",
    "    return True\n",
    "\n",
    "print( all(m[i][j]==m[i-1][j-1] for in in range(1,len(m)) for j in range(1, len(m[0]))))\n",
    "\n",
    "#OR\n",
    "\n",
    "print( all(r1[:-1] == r2[1:] for r1, r2 in zip(m[:-1], m[1:])))"
   ]
  },
  {
   "cell_type": "code",
   "execution_count": 5,
   "metadata": {},
   "outputs": [
    {
     "name": "stdout",
     "output_type": "stream",
     "text": [
      "[[1, 2, 3, 4], [5, 1, 2, 3]]\n",
      "[[5, 1, 2, 3], [9, 5, 1, 2]]\n",
      "[([1, 2, 3, 4], [5, 1, 2, 3]), ([5, 1, 2, 3], [9, 5, 1, 2])]\n"
     ]
    }
   ],
   "source": [
    "m = [\n",
    "[1,2,3,4],\n",
    "[5,1,2,3],\n",
    "[9,5,1,2]\n",
    "]\n",
    "print(m[:-1])\n",
    "print(m[1:])\n",
    "print( list(zip(m[:-1], m[1:])))"
   ]
  },
  {
   "cell_type": "code",
   "execution_count": null,
   "metadata": {},
   "outputs": [],
   "source": [
    "#760.\n",
    "print([B.index(a) for a in A])\n",
    "\n",
    "#OR\n",
    "dic = {b:i for i, b in enumerate(B)}\n",
    "print([dic(a) for a in A])\n",
    "\n",
    "#OR\n",
    "def f760(A, B):\n",
    "    res = []\n",
    "    for i in range(len(A)):\n",
    "        res.append(b.index(A[i]))\n",
    "    return res"
   ]
  },
  {
   "cell_type": "code",
   "execution_count": null,
   "metadata": {},
   "outputs": [],
   "source": [
    "#746.\n",
    "def f746(cost):\n",
    "    prev2, pre = cost[0], cost[1]\n",
    "    for i in range(2, len(cost)):\n",
    "        prev2, prev = prev, cost[i] + min(prev2, pre)\n",
    "    return min(prev2, prev)\n",
    "        \n",
    "def f746_2(cost):\n",
    "    for i in range(2, len(cost)):\n",
    "        cost[i] += min(cost[i-1], cost[i-2])\n",
    "    return min(cost[-2:])"
   ]
  },
  {
   "cell_type": "code",
   "execution_count": null,
   "metadata": {},
   "outputs": [],
   "source": [
    "#733. \n",
    "def f733(img, sr, sc, colorNew):\n",
    "    def dfs(i, j):\n",
    "        img[i][j] = colorNew\n",
    "        for x, y in [(i-1, j), (i+1, j), (i, j-1), (i, j+1)]:\n",
    "            if 0<=x<m and 0<=y<n and img[x][y] == colorOld:\n",
    "                dfs(x, y)\n",
    "    colorOld, m, n = img[sr][rc], len(img), len(img[0])\n",
    "    if colorOld != colorNew:\n",
    "        dfs(sr, sc)\n",
    "    return img"
   ]
  },
  {
   "cell_type": "code",
   "execution_count": null,
   "metadata": {},
   "outputs": [],
   "source": [
    "#704. \n",
    "def f704(nums, target):\n",
    "    l, r = 0, len(nums)-1\n",
    "    while l < r:\n",
    "        mid = (l+r)//2\n",
    "        if nums[mid] == target:\n",
    "            return mid\n",
    "        elif nums[mid] < target:\n",
    "            l = mid + 1\n",
    "        else:\n",
    "            r = mid - 1\n",
    "    return -1"
   ]
  },
  {
   "cell_type": "code",
   "execution_count": null,
   "metadata": {},
   "outputs": [],
   "source": [
    "#697.\n",
    "def f697(nums):\n",
    "    cnt, res = collections.Counter(nums), collections.defaultdict(list)\n",
    "    degree = max(cnt.values())\n",
    "    for i, n in enumerate(nums):\n",
    "        res[n].append(i)\n",
    "    return min(res[n][-1] - res[n][0] +1 for n in cnt if cnt[n] == degree)\n",
    "\n",
    "#OR - use a single path only\n",
    "def f697_2(nums):\n",
    "    first, counter, res, degree = {}, {}, 0, 0\n",
    "    for i, n in enumerate(nums):\n",
    "        first.setdefault(n, i)\n",
    "        counter[n] = counter.get(n, 0) + 1\n",
    "        if counter[n] > degree:\n",
    "            degree = counter[n]\n",
    "            res = i - first[n] + 1\n",
    "        elif counter[n] == degree:\n",
    "            res = min(res, i - first[v] + 1)\n",
    "    return res"
   ]
  },
  {
   "cell_type": "code",
   "execution_count": null,
   "metadata": {},
   "outputs": [],
   "source": [
    "#690. \n",
    "def f690(employees, id):\n",
    "    dic = {e[0]: e for e in employees}\n",
    "    def val(e):\n",
    "        return e[1] + sum(val(dic[sub]) for sub in e[2])\n",
    "    return val(dic[id])\n",
    "\n",
    "def f690_2(employees, id):\n",
    "    em = [e for e in employees if e[0] == id][0]\n",
    "    res, sub = em[1], em[2]\n",
    "    if sub:\n",
    "        return res + sum(e[1] for e in employees for s in sub if s == e[0])"
   ]
  },
  {
   "cell_type": "code",
   "execution_count": null,
   "metadata": {},
   "outputs": [],
   "source": [
    "#665.\n",
    "def f665(N):\n",
    "    cnt = 0\n",
    "    for i in range(len(N)-1):\n",
    "        if N[i] > N[i+1]:\n",
    "            cnt += 1\n",
    "            if i == 0:\n",
    "                N[i] = N[i+1]\n",
    "            elif N[i-1] <= N[i+1]:\n",
    "                N[i] = N[i-1]\n",
    "            else:\n",
    "                N[i+1] = N[i]\n",
    "        if cnt > 1\n",
    "            return False\n",
    "    return True\n",
    "            \n",
    "            \n",
    "def f665_2(N):\n",
    "    cnt = 0\n",
    "    for i in range(len(N)-1):\n",
    "        if N[i] > N[i+1]:\n",
    "            cnt += 1\n",
    "            if cnt > 1 for ((i-1>0 and N[i-1]>N[i+1]) and (i+2 < len(N) and N[i+2] < N[i])):\n",
    "                return False\n",
    "    return True"
   ]
  },
  {
   "cell_type": "code",
   "execution_count": null,
   "metadata": {},
   "outputs": [],
   "source": [
    "#array 07/07/2020"
   ]
  },
  {
   "cell_type": "code",
   "execution_count": null,
   "metadata": {},
   "outputs": [],
   "source": [
    "#661.\n",
    "def f661(M):\n",
    "    m, n = len(M), len(M[0])\n",
    "    grid = [[0]*n for _ in range(m)]\n",
    "    for i in range(m):\n",
    "        for j in range(n):\n",
    "            sumM, cnt = 0, 0\n",
    "            for x, y in [(0,0),(-1,0),(1,0),(0,-1),(0,1),(-1,-1),(-1,1),(1,1),(1,-1)]:\n",
    "                if 0<=i+x<m and 0<=j+y<n:\n",
    "                    sumM += M[i+x][j+y]\n",
    "                    cnt += 1\n",
    "            grid[i][j] = sumM // cnt\n",
    "    return grid"
   ]
  },
  {
   "cell_type": "code",
   "execution_count": null,
   "metadata": {},
   "outputs": [],
   "source": [
    "#657.\n",
    "print (not sum[1j ** 'RUL'.find(m) for m in moves])\n",
    "\n",
    "#'RUL'.find(m) R -> 0, U -> 1, L -> 2, D -> -1\n",
    "# 1j ** 'RUL'.find(m) R -> 1, 'U' -> 1j, L -> -1, 'D' -> -1j\n",
    "# sum() (R, L) and (U, D) will cancel each other\n",
    "\n",
    "#OR\n",
    "print ( moves.count('L')==moves.count('R') and moves.count('U')==moves.count('D'))\n",
    "\n",
    "def f657(moves):\n",
    "    pos = [0,0]\n",
    "    for m in moves:\n",
    "        if m == 'U': pos[0] +=1\n",
    "        elif m == 'D': pos[0] -= 1\n",
    "        elif m == 'L': pos[1] -= 1\n",
    "        elif m == 'R\": pos[1] += 1\n",
    "    return pos = [0, 0]\n",
    "\n"
   ]
  },
  {
   "cell_type": "code",
   "execution_count": null,
   "metadata": {},
   "outputs": [],
   "source": [
    "#599.\n",
    "def f599(A, B):\n",
    "    dic = {a: i for i, a in enumerate(A)}\n",
    "    minD, res = sys.maxsize, []\n",
    "    for j, b in enumerate(B):\n",
    "        i = dic.get(b, minD)\n",
    "        if i + j < minD:\n",
    "            minD, res = i + j, [b]\n",
    "        elif i + j == minD:\n",
    "            res.append(b)\n",
    "    return res"
   ]
  },
  {
   "cell_type": "code",
   "execution_count": null,
   "metadata": {},
   "outputs": [],
   "source": [
    "#598.\n",
    "def f598(R, C, ops):\n",
    "    if not ops:\n",
    "        return R*C\n",
    "    x, y = zip(*ops)\n",
    "    return min(x)*min(y) #get the overlapped area == the # of integers with maximum value\n",
    "#OR\n",
    "print( min(op[0] for op in ops)*min(op[1] for op in ops) if ops else R*C)\n",
    "\n",
    "def f598_2(R, C, ops):\n",
    "    grid = [[0]*C for _ in range(R)]\n",
    "    for op in ops:\n",
    "        for i in range(op[0]):\n",
    "            for j in range(op[1]):\n",
    "                grid[i][j] += 1\n",
    "    h = [ grid[i][j] for i in range(R) for j in range(C)]\n",
    "    return collections.Counter(h)[max(h)]"
   ]
  },
  {
   "cell_type": "code",
   "execution_count": null,
   "metadata": {},
   "outputs": [],
   "source": [
    "#575.\n",
    "return min(len(candies)/2, len(set(candies)))\n"
   ]
  },
  {
   "cell_type": "code",
   "execution_count": null,
   "metadata": {},
   "outputs": [],
   "source": [
    "#566.\n",
    "def 566(A, R, C):\n",
    "    if len(A)*len(A[0]) != R*C:\n",
    "        return A\n",
    "    val = [a for row in A for a in row]\n",
    "    return [[val.next() for c in range(C)] for r in range(R)]\n",
    "\n",
    "import numpy\n",
    "def 566_2(A, R, C):\n",
    "    try:\n",
    "        return numpy.reshape(A, (R, C)).tolist()\n",
    "    except:\n",
    "        return A\n",
    "    \n"
   ]
  },
  {
   "cell_type": "code",
   "execution_count": null,
   "metadata": {},
   "outputs": [],
   "source": [
    "#561.\n",
    "def f561(N):\n",
    "    N.sort()\n",
    "    return sum(N[i*2] for i in range(len(N)//2))\n",
    "\n",
    "#Or\n",
    "print( sum(sorted(N)[::2]))\n"
   ]
  },
  {
   "cell_type": "code",
   "execution_count": null,
   "metadata": {},
   "outputs": [],
   "source": [
    "#521.\n",
    "print( -1 if a==b else max(len(a), len(b)))"
   ]
  },
  {
   "cell_type": "code",
   "execution_count": null,
   "metadata": {},
   "outputs": [],
   "source": [
    "#506.\n",
    "def f506(N):\n",
    "    s = sored(range(len(N)), key=lambda x: N[x], reverse=True)\n",
    "    return [\"Gold Medal\", \"Silver Medal\", \"Bronze Medal\"] + [str(i+1) for i in s if i>2]"
   ]
  },
  {
   "cell_type": "code",
   "execution_count": null,
   "metadata": {},
   "outputs": [],
   "source": [
    "#485.\n",
    "def f485(N):\n",
    "    cnt, res = 0, 0\n",
    "    for n in N:\n",
    "        if n == 1:\n",
    "            cnt += 1\n",
    "            res = max(res, cnt)\n",
    "        else:\n",
    "            cnt = 0\n",
    "    return res\n",
    "\n",
    "#OR\n",
    "print(max([len(one) for one in (''.join(str(n) for n in N)).split('0')]))\n",
    "\n",
    "#OR\n",
    "print(max([len(grp) for key, grp in itertools.groupby(N) if key == 1]))"
   ]
  },
  {
   "cell_type": "code",
   "execution_count": null,
   "metadata": {},
   "outputs": [],
   "source": [
    "#463.\n",
    "def f463(grid):\n",
    "    m, n, perimeter = len(grid), len(grid[0]), 0\n",
    "    for i in range(m):\n",
    "        for j in range(j):\n",
    "            if grid[i][j] == 1:\n",
    "                for x, y in [(i+1, j), (i-1, j), (i, j+1), (i, j-1)]:\n",
    "                    if 0<=x<m and 0<=y<N:\n",
    "                        perimeter += int(grid[x][y]==0)\n",
    "                    else:\n",
    "                        perimeter += 1 #add borders\n",
    "    return perimeter"
   ]
  },
  {
   "cell_type": "code",
   "execution_count": null,
   "metadata": {},
   "outputs": [],
   "source": [
    "#455.?\n",
    "def f455(greed, cookies):\n",
    "    greed.sort()\n",
    "    cookies.sort()\n",
    "    i, j = 0, 0\n",
    "    while i < len(greed) and j < len(cookies):\n",
    "        if cookies[j] >= greed[i]:\n",
    "            i += 1\n",
    "        j += 1\n",
    "    return i"
   ]
  },
  {
   "cell_type": "code",
   "execution_count": null,
   "metadata": {},
   "outputs": [],
   "source": [
    "#453.\n",
    "\n",
    "print( sum(A) - min(A)*len(A))\n",
    "\n",
    "def 453_2(A):\n",
    "    A.sort\n",
    "    res = 0\n",
    "    for i in range(len(A)-1, -1, -1):\n",
    "        if A[i] == A[0]:\n",
    "            break\n",
    "        res += A[i] -A[0]\n",
    "    return res\n",
    "\n",
    "def 453_3(A):\n",
    "    n, total, res = len(A), sum(A), 0\n",
    "    while total % n != 0:\n",
    "        res += 1\n",
    "        total += res * (n-1)\n",
    "    return res"
   ]
  },
  {
   "cell_type": "code",
   "execution_count": null,
   "metadata": {},
   "outputs": [],
   "source": [
    "#448.\n",
    "t = set(range(1,N+1))\n",
    "print (list(t - set(N) & t))\n",
    "\n",
    "#OR\n",
    "print([n for n in range(1, len(N)+1) if n not in set(N)])\n",
    "\n",
    "def f448(N):\n",
    "    for i in range(len(N)):\n",
    "        N[N[i]-1] = -1 * N[N[i]-1]\n",
    "    return [i+1 for i in range(len(N)) if N[i] > 0]\n",
    "\n",
    "def f448_2(N):\n",
    "    for i in range(len(N)):\n",
    "        N[N[i]%len(N)-1] += N\n",
    "    return [i+1 for i in range(len(N)) if N[i] <= N]\n",
    "\n",
    "        "
   ]
  },
  {
   "cell_type": "code",
   "execution_count": null,
   "metadata": {},
   "outputs": [],
   "source": [
    "#447.\n",
    "def f447(points):\n",
    "    def helper(a, b):\n",
    "        return (a[0]-b[0])**2 + (a[1]-b[1])**2\n",
    "    \n",
    "    dt = collections.Counter()\n",
    "    res = 0\n",
    "    for i in range(len(points)):\n",
    "        dt.clear()\n",
    "        for j in range(len(points)):\n",
    "            if i == j:\n",
    "                continue\n",
    "            dist = helper(points[i], points[j])\n",
    "            dt[dist] += 1\n",
    "        for val in dt.values():\n",
    "            res += val * (val - 1)\n",
    "    return res"
   ]
  },
  {
   "cell_type": "code",
   "execution_count": null,
   "metadata": {},
   "outputs": [],
   "source": [
    "#350.\n",
    "def f350(N1, N2):\n",
    "    c1, c2 = collections.Counter(N1), collections.Counter(N2)\n",
    "    return list((c1 & c2).elements())\n"
   ]
  },
  {
   "cell_type": "code",
   "execution_count": null,
   "metadata": {},
   "outputs": [],
   "source": [
    "#349.\n",
    "print(list(set(N1) & set(N2)))\n",
    "\n",
    "#OR\n",
    "if len(N1) > len(N2):\n",
    "    N1, N2 = N2, N1\n",
    "print([k for k, v in collections.Counter(N1).items() if k in N2])\n",
    "\n",
    "#if sorted\n",
    "def f349(N1, N2):\n",
    "    res, i, j = [], 0, 0\n",
    "    N1.sort()\n",
    "    M2.sort()\n",
    "    while i < len(N1) and j < len(N2):\n",
    "        if N1[i] > N2[j]:\n",
    "            j += 1\n",
    "        elif N1[i] < N2[j]:\n",
    "            i += 1\n",
    "        else:\n",
    "            if N1[i] not in res:\n",
    "                res.append(N1[i])\n",
    "            i += 1\n",
    "            j += 1\n",
    "    return res"
   ]
  },
  {
   "cell_type": "code",
   "execution_count": null,
   "metadata": {},
   "outputs": [],
   "source": [
    "#293. \n",
    "def f293(s):\n",
    "    i, res = 0, []\n",
    "    while i < len(s) -1 :\n",
    "        if s[i] == s[i+1] == '+':\n",
    "            res.append(s[:i] +\"--\" +s[i+2:])\n",
    "        i += 1\n",
    "    return"
   ]
  },
  {
   "cell_type": "code",
   "execution_count": null,
   "metadata": {},
   "outputs": [],
   "source": [
    "#292.\n",
    "print (n%4!=0)\n",
    "\n",
    "#OR\n",
    "\n",
    "def f292(n):\n",
    "    if n <=3: return True\n",
    "    res = [False]*n\n",
    "    res[0:2], i = [True]*3, 3\n",
    "    while i < n:\n",
    "        if res[i-3] and res[i-2] and res[i-1]:\n",
    "            res[i] = False\n",
    "        else:\n",
    "            res[i] = True\n",
    "        i += 1\n",
    "    return res[-1]\n"
   ]
  },
  {
   "cell_type": "code",
   "execution_count": null,
   "metadata": {},
   "outputs": [],
   "source": [
    "#283.\n",
    "def f283(N):\n",
    "    j = 0\n",
    "    for i in range(len(N)):\n",
    "        if N[i] != 0:\n",
    "            N[i], N[j] = N[j], N[i]\n",
    "            j += 1\n",
    "    return N\n",
    "\n",
    "def f283_2(N):\n",
    "    for j in range(len(N)):\n",
    "        i = j\n",
    "        if N[j] == 0:\n",
    "            while i < len(N)-1 and N[i] == 0:\n",
    "                i += 1\n",
    "            if i > j:\n",
    "                N[i], N[j] = N[j], N[i]\n",
    "    return N"
   ]
  },
  {
   "cell_type": "code",
   "execution_count": null,
   "metadata": {},
   "outputs": [],
   "source": [
    "#278.?\n",
    "def f278(N):\n",
    "    l, r = 1, N\n",
    "    version = -1\n",
    "    while l <= h:\n",
    "        mid = (low+high)//2\n",
    "        if bool(random.getrandbits(1)): //call random bits for each mid\n",
    "            version = mid\n",
    "            r = mid - 1\n",
    "        else:\n",
    "            l = mid + 1\n",
    "    return version"
   ]
  },
  {
   "cell_type": "code",
   "execution_count": null,
   "metadata": {},
   "outputs": [],
   "source": [
    "#276.\n",
    "def f276(n, k):\n",
    "    if n <= 0 or k<= 0:\n",
    "        return 0\n",
    "    dp = [0]*n\n",
    "    dp[0] = k\n",
    "    if n > 1:\n",
    "        dp[1] = k*k\n",
    "    for i in range(2, n):\n",
    "        dp[i] = dp[i-1]*(k-1) + dp[i-2]*(k-1)\n",
    "    return dp[-1]"
   ]
  },
  {
   "cell_type": "code",
   "execution_count": null,
   "metadata": {},
   "outputs": [],
   "source": []
  },
  {
   "cell_type": "code",
   "execution_count": null,
   "metadata": {},
   "outputs": [],
   "source": []
  },
  {
   "cell_type": "code",
   "execution_count": null,
   "metadata": {},
   "outputs": [],
   "source": []
  },
  {
   "cell_type": "code",
   "execution_count": null,
   "metadata": {},
   "outputs": [],
   "source": []
  },
  {
   "cell_type": "code",
   "execution_count": null,
   "metadata": {},
   "outputs": [],
   "source": []
  },
  {
   "cell_type": "code",
   "execution_count": null,
   "metadata": {},
   "outputs": [],
   "source": [
    "#linked-list"
   ]
  },
  {
   "cell_type": "code",
   "execution_count": null,
   "metadata": {},
   "outputs": [],
   "source": [
    "#linked-list 07/06/2020"
   ]
  },
  {
   "cell_type": "code",
   "execution_count": null,
   "metadata": {},
   "outputs": [],
   "source": [
    "#876.\n",
    "def f876(head):\n",
    "    slow = fast = head\n",
    "    while fast and fast.next:\n",
    "        slow = slow.next\n",
    "        fast = fast.next.next\n",
    "    return slow"
   ]
  },
  {
   "cell_type": "code",
   "execution_count": null,
   "metadata": {},
   "outputs": [],
   "source": [
    "#237.\n",
    "def f237(node):\n",
    "    if not node:\n",
    "        return None\n",
    "    if node.next:\n",
    "        node.val = node.next.val\n",
    "        node.next = node.next.next"
   ]
  },
  {
   "cell_type": "code",
   "execution_count": null,
   "metadata": {},
   "outputs": [],
   "source": [
    "#234.\n",
    "def f234(head):\n",
    "    res = []\n",
    "    while head:\n",
    "        res += head.val\n",
    "        head = head.next\n",
    "    return res == res[::-1]\n"
   ]
  },
  {
   "cell_type": "code",
   "execution_count": null,
   "metadata": {},
   "outputs": [],
   "source": [
    "#206.\n",
    "def f206(head, prev=None):\n",
    "    if not head:\n",
    "        return prev\n",
    "    head.next, nextnode = prev, head.next\n",
    "    return f206(nextnode, head)\n",
    "\n",
    "def f206_2(head):\n",
    "    tail = None\n",
    "    while head:\n",
    "        nextnode = head.next\n",
    "        head.next = tail\n",
    "        tail = head\n",
    "        head = nextnode\n",
    "    return tail"
   ]
  },
  {
   "cell_type": "code",
   "execution_count": null,
   "metadata": {},
   "outputs": [],
   "source": [
    "#203.\n",
    "def f203(head, val):\n",
    "    pre = ListNode(0)\n",
    "    pre.next = current = head\n",
    "    while current:\n",
    "        if current.val == val:\n",
    "            if pre:\n",
    "                pre.next = current.next\n",
    "            else:\n",
    "                head = current.next\n",
    "        pre = current\n",
    "        current = current.next\n",
    "    return head\n",
    "    "
   ]
  },
  {
   "cell_type": "code",
   "execution_count": null,
   "metadata": {},
   "outputs": [],
   "source": [
    "#160.\n",
    "def f160(h1, h2):\n",
    "    if not h1 and not h2:\n",
    "        return None\n",
    "    p1, p2 = h1, h2\n",
    "    while p1 != p2:\n",
    "        p1 = h2 if p1 is None else p1.next\n",
    "        p2 = h1 if p2 is None else p2.next\n",
    "    return p1"
   ]
  },
  {
   "cell_type": "code",
   "execution_count": null,
   "metadata": {},
   "outputs": [],
   "source": [
    "#linked-list 07/08/2020"
   ]
  },
  {
   "cell_type": "code",
   "execution_count": null,
   "metadata": {},
   "outputs": [],
   "source": [
    "#141.\n",
    "def f141(head):\n",
    "    fast = slow = head\n",
    "    while fast and fast.next:\n",
    "        fast = fast.next.next\n",
    "        slow = slow.next\n",
    "        if fast = slow.next:\n",
    "            return True\n",
    "    return False"
   ]
  },
  {
   "cell_type": "code",
   "execution_count": null,
   "metadata": {},
   "outputs": [],
   "source": [
    "#83.\n",
    "def f83(head):\n",
    "    node = head\n",
    "    while node and node.next:\n",
    "        if node.val == node.next.val:\n",
    "            node.next = node.next.next\n",
    "        else:\n",
    "            node = node.next\n",
    "    return head"
   ]
  },
  {
   "cell_type": "code",
   "execution_count": null,
   "metadata": {},
   "outputs": [],
   "source": [
    "#25.\n",
    "def f25(head, k):\n",
    "    if head:\n",
    "        node = head\n",
    "        for _ in range(k-1):\n",
    "            node = node.next\n",
    "            if not node:\n",
    "                return head\n",
    "        prev = f25(node.next, k) #recurse the next swap\n",
    "        while prev is not node:\n",
    "            prev, head.next, head = head, prev, head.next\n",
    "        return prev"
   ]
  },
  {
   "cell_type": "code",
   "execution_count": null,
   "metadata": {},
   "outputs": [],
   "source": [
    "#24.\n",
    "def f24(head):\n",
    "    pre = ListNode(0)\n",
    "    pre.next = current = head\n",
    "    while current and current.next:\n",
    "        a = current\n",
    "        b = a.next\n",
    "        \n",
    "        a.next = b.next\n",
    "        b.next = a\n",
    "        current = b\n",
    "        #pre = a\n",
    "    return head"
   ]
  },
  {
   "cell_type": "code",
   "execution_count": null,
   "metadata": {},
   "outputs": [],
   "source": [
    "#22.\n",
    "def f22(sortedlist):\n",
    "    nodes = []\n",
    "    for k in sortedlist:\n",
    "        while k:\n",
    "            nodes.append(k.val)\n",
    "            k = k.next\n",
    "    head = tmp = ListNode(0)\n",
    "    for t in sorted(nodes):\n",
    "        tmp.next = ListNode(t)\n",
    "        tmp = tmp.next\n",
    "    return head.next\n",
    "\n",
    "#?\n",
    "def f22_2(sortedlist):\n",
    "    q = queue.PriorityQueue()\n",
    "    for k in sortedlist:\n",
    "        if k\n",
    "            q.put((k.val, k))\n",
    "    head = tmp = ListNode(0)\n",
    "    while q:\n",
    "        val, node = q.get()\n",
    "        tmp.next = ListNode(val)\n",
    "        tmp = tmp.next\n",
    "        nd = nd.next\n",
    "        if nd:\n",
    "            q.put(nd.val, nd)\n",
    "    return head.next"
   ]
  },
  {
   "cell_type": "code",
   "execution_count": null,
   "metadata": {},
   "outputs": [],
   "source": [
    "#21.\n",
    "def f21(SL1, SL2):\n",
    "    if not SL1 or not SL2:\n",
    "        return SL1 or SL2\n",
    "    if SL1.val < SL2.val:\n",
    "        SL1.next = f21(SL1.next, SL2)\n",
    "        return SL1\n",
    "    else:\n",
    "        SL2.next = f21(SL1, SL2.next)\n",
    "        return SL2\n",
    "\n",
    "def f21_2(SL1, SL2):\n",
    "    head = tmp = ListNode(0)\n",
    "    while SL1 and SL2:\n",
    "        if SL1.val < SL2.val:\n",
    "            tmp.next = SL1\n",
    "            SL1 = SL1.next\n",
    "        else:\n",
    "            tmp.next = sL2\n",
    "            SL2 = sL2.next\n",
    "        tmp = tmp.next\n",
    "    tmp.next = SL1 or SL2\n",
    "    return head.next"
   ]
  },
  {
   "cell_type": "code",
   "execution_count": null,
   "metadata": {},
   "outputs": [],
   "source": [
    "#10.\n",
    "def f10(n, SL):\n",
    "    slow = fast = head = SL\n",
    "    while fast.next:\n",
    "        if n:\n",
    "            n -= 1\n",
    "        else:\n",
    "            slow = slow.next\n",
    "        fast = fast.next\n",
    "    slow.next = slow.next.next\n",
    "    return head"
   ]
  },
  {
   "cell_type": "code",
   "execution_count": null,
   "metadata": {},
   "outputs": [],
   "source": [
    "#2. \n",
    "def f2(n1, n2):\n",
    "    head = tmp = ListNode(0)\n",
    "    carry = 0\n",
    "    while n1 or n2 or carry:\n",
    "        tmp1 = n1.val if n1 else 0\n",
    "        tmp2 = n2.val if n2 else 0\n",
    "        carry, rem = divmod((tmp1+tmp2+carry), 10)\n",
    "        tmp.next = ListNode(rem)\n",
    "        tmp = tmp.next\n",
    "        if n1:\n",
    "            n1 = n1.next\n",
    "        if n2:\n",
    "            n2 = n2.next\n",
    "    return head.next"
   ]
  },
  {
   "cell_type": "code",
   "execution_count": null,
   "metadata": {},
   "outputs": [],
   "source": [
    "#single linked-list helper\n",
    "class ListNode:\n",
    "    def __init__(self, x):\n",
    "        self.val = x\n",
    "        self.next = None\n",
    "    def has_value(self, value):\n",
    "        if self.val == value:\n",
    "            return True\n",
    "        else:\n",
    "            return False\n",
    "        \n",
    "class SingleLinkedList:\n",
    "    def __init__(self):\n",
    "        self.head = None\n",
    "        self.tail = None\n",
    "        return\n",
    "    \n",
    "    def append_list_item(self, item):\n",
    "        if not isinstance(item, ListNode):\n",
    "            item = ListNode(item)\n",
    "        if self.head is None:\n",
    "            self.head = item\n",
    "        else:\n",
    "            self.tail.next = item\n",
    "        self.tail = item\n",
    "        return\n",
    "    \n",
    "    def list_lenth(self):\n",
    "        cnt, tmp = 0, self.head\n",
    "        while tmp:\n",
    "            cnt += 1\n",
    "            tmp = tmp.next\n",
    "        return cnt\n",
    "    \n",
    "    def output_list(self):\n",
    "        tmp = self.head\n",
    "        while tmp:\n",
    "            print(tmp.val)\n",
    "            tmp = tmp.next\n",
    "        return\n",
    "    \n",
    "    def unordered_search(self, value):\n",
    "        tmp = self.head\n",
    "        cnt, res = 0, []\n",
    "        while tmp:\n",
    "            cnt += 1\n",
    "            if tmp.val == value:\n",
    "                res.append(cnt)\n",
    "            tmp = tmp.next\n",
    "        return res\n",
    "    \n",
    "    def remove_list_item_nid(self, nid):\n",
    "        tmp, prev, cnt = self.head, None, 0\n",
    "        while tmp:\n",
    "            cnt += 1\n",
    "            if count == nid:\n",
    "                if prev:\n",
    "                    prev.next = tmp.next\n",
    "                else:\n",
    "                    self.head = tmp.next #remove head\n",
    "                return\n",
    "            prev = tmp\n",
    "            tmp = tmp.next\n",
    "        return\n",
    "    \n",
    "    def remove_list_item_val(self, value):\n",
    "        tmp, prev = self.head, None\n",
    "        while tmp:\n",
    "            if tmp.val == value:\n",
    "                if prev:\n",
    "                    prev.next = tmp.next\n",
    "                else:\n",
    "                    self.head = tmp.next #remove head\n",
    "                return\n",
    "            prev = tmp\n",
    "            tmp = tmp.next\n",
    "        return\n",
    "    \n",
    "    \n",
    "    def insert_list_item(self, nid):\n",
    "        if not isinstance(item, ListNode):\n",
    "            item = ListNode(item)\n",
    "        tmp = self.head\n",
    "        if tmp is None:\n",
    "            self.head = item\n",
    "            self.tail = item\n",
    "            return\n",
    "        cnt = 0\n",
    "        while tmp:\n",
    "            if cnt == nid - 1:\n",
    "                save_next = tmp.next\n",
    "                tmp.next = item\n",
    "                item.next = save_next\n",
    "                return\n",
    "            tmp = tmp.next\n",
    "            cnt += 1\n",
    "            \n",
    "    def swap_pair(self):\n",
    "        tmp = self.head\n",
    "        if tmp is None:\n",
    "            return\n",
    "        while tmp and tmp.next:\n",
    "            tmp, tmp.next = tmp.next, tmp\n",
    "            tmp = tmp.next.next"
   ]
  },
  {
   "cell_type": "code",
   "execution_count": null,
   "metadata": {},
   "outputs": [],
   "source": []
  },
  {
   "cell_type": "code",
   "execution_count": null,
   "metadata": {},
   "outputs": [],
   "source": []
  },
  {
   "cell_type": "code",
   "execution_count": null,
   "metadata": {},
   "outputs": [],
   "source": []
  },
  {
   "cell_type": "code",
   "execution_count": null,
   "metadata": {},
   "outputs": [],
   "source": []
  },
  {
   "cell_type": "code",
   "execution_count": null,
   "metadata": {},
   "outputs": [],
   "source": []
  },
  {
   "cell_type": "code",
   "execution_count": null,
   "metadata": {},
   "outputs": [],
   "source": []
  },
  {
   "cell_type": "code",
   "execution_count": null,
   "metadata": {},
   "outputs": [],
   "source": []
  },
  {
   "cell_type": "code",
   "execution_count": null,
   "metadata": {},
   "outputs": [],
   "source": []
  },
  {
   "cell_type": "code",
   "execution_count": null,
   "metadata": {},
   "outputs": [],
   "source": []
  },
  {
   "cell_type": "code",
   "execution_count": null,
   "metadata": {},
   "outputs": [],
   "source": []
  },
  {
   "cell_type": "code",
   "execution_count": null,
   "metadata": {},
   "outputs": [],
   "source": []
  },
  {
   "cell_type": "code",
   "execution_count": null,
   "metadata": {},
   "outputs": [],
   "source": []
  },
  {
   "cell_type": "code",
   "execution_count": null,
   "metadata": {},
   "outputs": [],
   "source": []
  },
  {
   "cell_type": "code",
   "execution_count": null,
   "metadata": {},
   "outputs": [],
   "source": []
  },
  {
   "cell_type": "code",
   "execution_count": null,
   "metadata": {},
   "outputs": [],
   "source": []
  },
  {
   "cell_type": "code",
   "execution_count": null,
   "metadata": {},
   "outputs": [],
   "source": []
  },
  {
   "cell_type": "code",
   "execution_count": null,
   "metadata": {},
   "outputs": [],
   "source": []
  },
  {
   "cell_type": "code",
   "execution_count": null,
   "metadata": {},
   "outputs": [],
   "source": []
  }
 ],
 "metadata": {
  "kernelspec": {
   "display_name": "Python 3",
   "language": "python",
   "name": "python3"
  },
  "language_info": {
   "codemirror_mode": {
    "name": "ipython",
    "version": 3
   },
   "file_extension": ".py",
   "mimetype": "text/x-python",
   "name": "python",
   "nbconvert_exporter": "python",
   "pygments_lexer": "ipython3",
   "version": "3.7.6"
  }
 },
 "nbformat": 4,
 "nbformat_minor": 4
}
